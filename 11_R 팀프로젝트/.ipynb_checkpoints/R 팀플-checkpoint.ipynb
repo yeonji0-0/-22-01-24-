{
 "cells": [
  {
   "cell_type": "markdown",
   "id": "5959dab2",
   "metadata": {},
   "source": [
    "# 퇴근시간 버스 승차 인원 예측"
   ]
  },
  {
   "cell_type": "code",
   "execution_count": 1,
   "id": "8741ca69",
   "metadata": {
    "ExecuteTime": {
     "end_time": "2022-04-20T03:00:24.158644Z",
     "start_time": "2022-04-20T02:59:34.023Z"
    }
   },
   "outputs": [],
   "source": [
    "train = read.csv(\"C:/Users/MEDICI/Downloads/bus_data/train.csv\",fileEncoding='utf-8')\n",
    "test = read.csv(\"C:/Users/MEDICI/Downloads/bus_data/test.csv\",fileEncoding='utf-8')\n",
    "bts = read.csv(\"C:/Users/MEDICI/Downloads/bus_data/bus_bts.csv\",fileEncoding='utf-8')"
   ]
  },
  {
   "cell_type": "code",
   "execution_count": 2,
   "id": "f537d914",
   "metadata": {
    "ExecuteTime": {
     "end_time": "2022-04-20T03:29:08.752908Z",
     "start_time": "2022-04-20T03:00:32.008Z"
    }
   },
   "outputs": [
    {
     "data": {
      "text/html": [
       "<table>\n",
       "<thead><tr><th scope=col>id</th><th scope=col>date</th><th scope=col>bus_route_id</th><th scope=col>in_out</th><th scope=col>station_code</th><th scope=col>station_name</th><th scope=col>latitude</th><th scope=col>longitude</th><th scope=col>X6.7_ride</th><th scope=col>X7.8_ride</th><th scope=col>...</th><th scope=col>X9.10_ride</th><th scope=col>X10.11_ride</th><th scope=col>X11.12_ride</th><th scope=col>X6.7_takeoff</th><th scope=col>X7.8_takeoff</th><th scope=col>X8.9_takeoff</th><th scope=col>X9.10_takeoff</th><th scope=col>X10.11_takeoff</th><th scope=col>X11.12_takeoff</th><th scope=col>X18.20_ride</th></tr></thead>\n",
       "<tbody>\n",
       "\t<tr><td>0                  </td><td>2019-09-01         </td><td>4270000            </td><td>시외               </td><td> 344               </td><td>제주썬호텔         </td><td>33.48990           </td><td>126.4937           </td><td>0                  </td><td> 1                 </td><td>...                </td><td> 5                 </td><td> 2                 </td><td> 6                 </td><td>0                  </td><td>0                  </td><td>0                  </td><td>0                  </td><td>0                  </td><td>0                  </td><td> 0                 </td></tr>\n",
       "\t<tr><td>1                  </td><td>2019-09-01         </td><td>4270000            </td><td>시외               </td><td> 357               </td><td>한라병원           </td><td>33.48944           </td><td>126.4851           </td><td>1                  </td><td> 4                 </td><td>...                </td><td> 2                 </td><td> 5                 </td><td> 6                 </td><td>0                  </td><td>0                  </td><td>0                  </td><td>0                  </td><td>0                  </td><td>0                  </td><td> 5                 </td></tr>\n",
       "\t<tr><td>2                  </td><td>2019-09-01         </td><td>4270000            </td><td>시외               </td><td> 432               </td><td>정존마을           </td><td>33.48181           </td><td>126.4735           </td><td>1                  </td><td> 1                 </td><td>...                </td><td> 2                 </td><td> 0                 </td><td> 0                 </td><td>0                  </td><td>0                  </td><td>0                  </td><td>0                  </td><td>0                  </td><td>0                  </td><td> 2                 </td></tr>\n",
       "\t<tr><td>3                  </td><td>2019-09-01         </td><td>4270000            </td><td>시내               </td><td>1579               </td><td>제주국제공항(600번)</td><td>33.50577           </td><td>126.4925           </td><td>0                  </td><td>17                 </td><td>...                </td><td>26                 </td><td>14                 </td><td>16                 </td><td>0                  </td><td>0                  </td><td>0                  </td><td>0                  </td><td>0                  </td><td>0                  </td><td>53                 </td></tr>\n",
       "\t<tr><td>4                  </td><td>2019-09-01         </td><td>4270000            </td><td>시내               </td><td>1646               </td><td>중문관광단지입구   </td><td>33.25579           </td><td>126.4126           </td><td>0                  </td><td> 0                 </td><td>...                </td><td> 0                 </td><td> 0                 </td><td> 0                 </td><td>0                  </td><td>0                  </td><td>0                  </td><td>1                  </td><td>0                  </td><td>0                  </td><td> 0                 </td></tr>\n",
       "\t<tr><td>5                  </td><td>2019-09-01         </td><td>4270000            </td><td>시내               </td><td>1648               </td><td>예래입구           </td><td>33.25862           </td><td>126.4044           </td><td>0                  </td><td> 0                 </td><td>...                </td><td> 0                 </td><td> 1                 </td><td> 0                 </td><td>0                  </td><td>0                  </td><td>1                  </td><td>0                  </td><td>1                  </td><td>0                  </td><td> 0                 </td></tr>\n",
       "</tbody>\n",
       "</table>\n"
      ],
      "text/latex": [
       "\\begin{tabular}{r|lllllllllllllllllllll}\n",
       " id & date & bus\\_route\\_id & in\\_out & station\\_code & station\\_name & latitude & longitude & X6.7\\_ride & X7.8\\_ride & ... & X9.10\\_ride & X10.11\\_ride & X11.12\\_ride & X6.7\\_takeoff & X7.8\\_takeoff & X8.9\\_takeoff & X9.10\\_takeoff & X10.11\\_takeoff & X11.12\\_takeoff & X18.20\\_ride\\\\\n",
       "\\hline\n",
       "\t 0                   & 2019-09-01          & 4270000             & 시외                &  344                & 제주썬호텔          & 33.48990            & 126.4937            & 0                   &  1                  & ...                 &  5                  &  2                  &  6                  & 0                   & 0                   & 0                   & 0                   & 0                   & 0                   &  0                 \\\\\n",
       "\t 1                   & 2019-09-01          & 4270000             & 시외                &  357                & 한라병원            & 33.48944            & 126.4851            & 1                   &  4                  & ...                 &  2                  &  5                  &  6                  & 0                   & 0                   & 0                   & 0                   & 0                   & 0                   &  5                 \\\\\n",
       "\t 2                   & 2019-09-01          & 4270000             & 시외                &  432                & 정존마을            & 33.48181            & 126.4735            & 1                   &  1                  & ...                 &  2                  &  0                  &  0                  & 0                   & 0                   & 0                   & 0                   & 0                   & 0                   &  2                 \\\\\n",
       "\t 3                   & 2019-09-01          & 4270000             & 시내                & 1579                & 제주국제공항(600번) & 33.50577            & 126.4925            & 0                   & 17                  & ...                 & 26                  & 14                  & 16                  & 0                   & 0                   & 0                   & 0                   & 0                   & 0                   & 53                 \\\\\n",
       "\t 4                   & 2019-09-01          & 4270000             & 시내                & 1646                & 중문관광단지입구    & 33.25579            & 126.4126            & 0                   &  0                  & ...                 &  0                  &  0                  &  0                  & 0                   & 0                   & 0                   & 1                   & 0                   & 0                   &  0                 \\\\\n",
       "\t 5                   & 2019-09-01          & 4270000             & 시내                & 1648                & 예래입구            & 33.25862            & 126.4044            & 0                   &  0                  & ...                 &  0                  &  1                  &  0                  & 0                   & 0                   & 1                   & 0                   & 1                   & 0                   &  0                 \\\\\n",
       "\\end{tabular}\n"
      ],
      "text/markdown": [
       "\n",
       "| id | date | bus_route_id | in_out | station_code | station_name | latitude | longitude | X6.7_ride | X7.8_ride | ... | X9.10_ride | X10.11_ride | X11.12_ride | X6.7_takeoff | X7.8_takeoff | X8.9_takeoff | X9.10_takeoff | X10.11_takeoff | X11.12_takeoff | X18.20_ride |\n",
       "|---|---|---|---|---|---|---|---|---|---|---|---|---|---|---|---|---|---|---|---|---|\n",
       "| 0                   | 2019-09-01          | 4270000             | 시외                |  344                | 제주썬호텔          | 33.48990            | 126.4937            | 0                   |  1                  | ...                 |  5                  |  2                  |  6                  | 0                   | 0                   | 0                   | 0                   | 0                   | 0                   |  0                  |\n",
       "| 1                   | 2019-09-01          | 4270000             | 시외                |  357                | 한라병원            | 33.48944            | 126.4851            | 1                   |  4                  | ...                 |  2                  |  5                  |  6                  | 0                   | 0                   | 0                   | 0                   | 0                   | 0                   |  5                  |\n",
       "| 2                   | 2019-09-01          | 4270000             | 시외                |  432                | 정존마을            | 33.48181            | 126.4735            | 1                   |  1                  | ...                 |  2                  |  0                  |  0                  | 0                   | 0                   | 0                   | 0                   | 0                   | 0                   |  2                  |\n",
       "| 3                   | 2019-09-01          | 4270000             | 시내                | 1579                | 제주국제공항(600번) | 33.50577            | 126.4925            | 0                   | 17                  | ...                 | 26                  | 14                  | 16                  | 0                   | 0                   | 0                   | 0                   | 0                   | 0                   | 53                  |\n",
       "| 4                   | 2019-09-01          | 4270000             | 시내                | 1646                | 중문관광단지입구    | 33.25579            | 126.4126            | 0                   |  0                  | ...                 |  0                  |  0                  |  0                  | 0                   | 0                   | 0                   | 1                   | 0                   | 0                   |  0                  |\n",
       "| 5                   | 2019-09-01          | 4270000             | 시내                | 1648                | 예래입구            | 33.25862            | 126.4044            | 0                   |  0                  | ...                 |  0                  |  1                  |  0                  | 0                   | 0                   | 1                   | 0                   | 1                   | 0                   |  0                  |\n",
       "\n"
      ],
      "text/plain": [
       "  id date       bus_route_id in_out station_code station_name        latitude\n",
       "1 0  2019-09-01 4270000      시외    344         제주썬호텔          33.48990\n",
       "2 1  2019-09-01 4270000      시외    357         한라병원            33.48944\n",
       "3 2  2019-09-01 4270000      시외    432         정존마을            33.48181\n",
       "4 3  2019-09-01 4270000      시내   1579         제주국제공항(600번) 33.50577\n",
       "5 4  2019-09-01 4270000      시내   1646         중문관광단지입구    33.25579\n",
       "6 5  2019-09-01 4270000      시내   1648         예래입구            33.25862\n",
       "  longitude X6.7_ride X7.8_ride ... X9.10_ride X10.11_ride X11.12_ride\n",
       "1 126.4937  0          1        ...  5          2           6         \n",
       "2 126.4851  1          4        ...  2          5           6         \n",
       "3 126.4735  1          1        ...  2          0           0         \n",
       "4 126.4925  0         17        ... 26         14          16         \n",
       "5 126.4126  0          0        ...  0          0           0         \n",
       "6 126.4044  0          0        ...  0          1           0         \n",
       "  X6.7_takeoff X7.8_takeoff X8.9_takeoff X9.10_takeoff X10.11_takeoff\n",
       "1 0            0            0            0             0             \n",
       "2 0            0            0            0             0             \n",
       "3 0            0            0            0             0             \n",
       "4 0            0            0            0             0             \n",
       "5 0            0            0            1             0             \n",
       "6 0            0            1            0             1             \n",
       "  X11.12_takeoff X18.20_ride\n",
       "1 0               0         \n",
       "2 0               5         \n",
       "3 0               2         \n",
       "4 0              53         \n",
       "5 0               0         \n",
       "6 0               0         "
      ]
     },
     "metadata": {},
     "output_type": "display_data"
    }
   ],
   "source": [
    "head(train)"
   ]
  },
  {
   "cell_type": "code",
   "execution_count": null,
   "id": "39202565",
   "metadata": {},
   "outputs": [],
   "source": [
    "head(test)"
   ]
  },
  {
   "cell_type": "code",
   "execution_count": 3,
   "id": "08bb976f",
   "metadata": {
    "ExecuteTime": {
     "end_time": "2022-04-20T04:07:28.153993Z",
     "start_time": "2022-04-20T03:30:57.286Z"
    }
   },
   "outputs": [
    {
     "data": {
      "text/html": [
       "<table>\n",
       "<thead><tr><th scope=col>user_card_id</th><th scope=col>bus_route_id</th><th scope=col>vhc_id</th><th scope=col>geton_date</th><th scope=col>geton_time</th><th scope=col>geton_station_code</th><th scope=col>geton_station_name</th><th scope=col>getoff_date</th><th scope=col>getoff_time</th><th scope=col>getoff_station_code</th><th scope=col>getoff_station_name</th><th scope=col>user_category</th><th scope=col>user_count</th></tr></thead>\n",
       "<tbody>\n",
       "\t<tr><td>1.01001e+15                 </td><td>23000000                    </td><td>149793674                   </td><td>2019-09-10                  </td><td>06:34:45                    </td><td> 360                        </td><td>노형오거리                  </td><td>2019-09-10                  </td><td>07:10:31                    </td><td> 592                        </td><td>화북초등학교                </td><td>1                           </td><td>1                           </td></tr>\n",
       "\t<tr><td>1.01001e+15                 </td><td>23000000                    </td><td>149793674                   </td><td>2019-09-10                  </td><td>06:34:58                    </td><td> 360                        </td><td>노형오거리                  </td><td>2019-09-10                  </td><td>06:56:27                    </td><td>3273                        </td><td>고산동산(광양방면)          </td><td>1                           </td><td>1                           </td></tr>\n",
       "\t<tr><td>1.01916e+15                 </td><td>21420000                    </td><td>149793535                   </td><td>2019-09-10                  </td><td>07:19:07                    </td><td>2495                        </td><td>동광환승정류장4(제주방면)   </td><td>2019-09-10                  </td><td>07:40:29                    </td><td> 431                        </td><td>정존마을                    </td><td>4                           </td><td>1                           </td></tr>\n",
       "\t<tr><td>1.01915e+15                 </td><td>21420000                    </td><td>149793512                   </td><td>2019-09-09                  </td><td>09:14:47                    </td><td>3282                        </td><td>대정환승정류장(대정읍사무소)</td><td>2019-09-09                  </td><td>10:02:46                    </td><td> 431                        </td><td>정존마을                    </td><td>1                           </td><td>1                           </td></tr>\n",
       "\t<tr><td>1.01001e+15                 </td><td>21420000                    </td><td>149793512                   </td><td>2019-09-09                  </td><td>09:28:53                    </td><td>2820                        </td><td>삼정지에듀                  </td><td>2019-09-09                  </td><td>10:21:37                    </td><td>2972                        </td><td>제주국제공항(종점)          </td><td>4                           </td><td>1                           </td></tr>\n",
       "\t<tr><td>1.01915e+15                 </td><td>31520000                    </td><td>149793453                   </td><td>2019-09-10                  </td><td>07:54:08                    </td><td> 189                        </td><td>도호동                      </td><td>2019-09-10                  </td><td>08:07:09                    </td><td>3539                        </td><td>탐라도서관                  </td><td>4                           </td><td>1                           </td></tr>\n",
       "</tbody>\n",
       "</table>\n"
      ],
      "text/latex": [
       "\\begin{tabular}{r|lllllllllllll}\n",
       " user\\_card\\_id & bus\\_route\\_id & vhc\\_id & geton\\_date & geton\\_time & geton\\_station\\_code & geton\\_station\\_name & getoff\\_date & getoff\\_time & getoff\\_station\\_code & getoff\\_station\\_name & user\\_category & user\\_count\\\\\n",
       "\\hline\n",
       "\t 1.01001e+15                  & 23000000                     & 149793674                    & 2019-09-10                   & 06:34:45                     &  360                         & 노형오거리                   & 2019-09-10                   & 07:10:31                     &  592                         & 화북초등학교                 & 1                            & 1                           \\\\\n",
       "\t 1.01001e+15                  & 23000000                     & 149793674                    & 2019-09-10                   & 06:34:58                     &  360                         & 노형오거리                   & 2019-09-10                   & 06:56:27                     & 3273                         & 고산동산(광양방면)           & 1                            & 1                           \\\\\n",
       "\t 1.01916e+15                  & 21420000                     & 149793535                    & 2019-09-10                   & 07:19:07                     & 2495                         & 동광환승정류장4(제주방면)    & 2019-09-10                   & 07:40:29                     &  431                         & 정존마을                     & 4                            & 1                           \\\\\n",
       "\t 1.01915e+15                  & 21420000                     & 149793512                    & 2019-09-09                   & 09:14:47                     & 3282                         & 대정환승정류장(대정읍사무소) & 2019-09-09                   & 10:02:46                     &  431                         & 정존마을                     & 1                            & 1                           \\\\\n",
       "\t 1.01001e+15                  & 21420000                     & 149793512                    & 2019-09-09                   & 09:28:53                     & 2820                         & 삼정지에듀                   & 2019-09-09                   & 10:21:37                     & 2972                         & 제주국제공항(종점)           & 4                            & 1                           \\\\\n",
       "\t 1.01915e+15                  & 31520000                     & 149793453                    & 2019-09-10                   & 07:54:08                     &  189                         & 도호동                       & 2019-09-10                   & 08:07:09                     & 3539                         & 탐라도서관                   & 4                            & 1                           \\\\\n",
       "\\end{tabular}\n"
      ],
      "text/markdown": [
       "\n",
       "| user_card_id | bus_route_id | vhc_id | geton_date | geton_time | geton_station_code | geton_station_name | getoff_date | getoff_time | getoff_station_code | getoff_station_name | user_category | user_count |\n",
       "|---|---|---|---|---|---|---|---|---|---|---|---|---|\n",
       "| 1.01001e+15                  | 23000000                     | 149793674                    | 2019-09-10                   | 06:34:45                     |  360                         | 노형오거리                   | 2019-09-10                   | 07:10:31                     |  592                         | 화북초등학교                 | 1                            | 1                            |\n",
       "| 1.01001e+15                  | 23000000                     | 149793674                    | 2019-09-10                   | 06:34:58                     |  360                         | 노형오거리                   | 2019-09-10                   | 06:56:27                     | 3273                         | 고산동산(광양방면)           | 1                            | 1                            |\n",
       "| 1.01916e+15                  | 21420000                     | 149793535                    | 2019-09-10                   | 07:19:07                     | 2495                         | 동광환승정류장4(제주방면)    | 2019-09-10                   | 07:40:29                     |  431                         | 정존마을                     | 4                            | 1                            |\n",
       "| 1.01915e+15                  | 21420000                     | 149793512                    | 2019-09-09                   | 09:14:47                     | 3282                         | 대정환승정류장(대정읍사무소) | 2019-09-09                   | 10:02:46                     |  431                         | 정존마을                     | 1                            | 1                            |\n",
       "| 1.01001e+15                  | 21420000                     | 149793512                    | 2019-09-09                   | 09:28:53                     | 2820                         | 삼정지에듀                   | 2019-09-09                   | 10:21:37                     | 2972                         | 제주국제공항(종점)           | 4                            | 1                            |\n",
       "| 1.01915e+15                  | 31520000                     | 149793453                    | 2019-09-10                   | 07:54:08                     |  189                         | 도호동                       | 2019-09-10                   | 08:07:09                     | 3539                         | 탐라도서관                   | 4                            | 1                            |\n",
       "\n"
      ],
      "text/plain": [
       "  user_card_id bus_route_id vhc_id    geton_date geton_time geton_station_code\n",
       "1 1.01001e+15  23000000     149793674 2019-09-10 06:34:45    360              \n",
       "2 1.01001e+15  23000000     149793674 2019-09-10 06:34:58    360              \n",
       "3 1.01916e+15  21420000     149793535 2019-09-10 07:19:07   2495              \n",
       "4 1.01915e+15  21420000     149793512 2019-09-09 09:14:47   3282              \n",
       "5 1.01001e+15  21420000     149793512 2019-09-09 09:28:53   2820              \n",
       "6 1.01915e+15  31520000     149793453 2019-09-10 07:54:08    189              \n",
       "  geton_station_name           getoff_date getoff_time getoff_station_code\n",
       "1 노형오거리                   2019-09-10  07:10:31     592               \n",
       "2 노형오거리                   2019-09-10  06:56:27    3273               \n",
       "3 동광환승정류장4(제주방면)    2019-09-10  07:40:29     431               \n",
       "4 대정환승정류장(대정읍사무소) 2019-09-09  10:02:46     431               \n",
       "5 삼정지에듀                   2019-09-09  10:21:37    2972               \n",
       "6 도호동                       2019-09-10  08:07:09    3539               \n",
       "  getoff_station_name user_category user_count\n",
       "1 화북초등학교        1             1         \n",
       "2 고산동산(광양방면)  1             1         \n",
       "3 정존마을            4             1         \n",
       "4 정존마을            1             1         \n",
       "5 제주국제공항(종점)  4             1         \n",
       "6 탐라도서관          4             1         "
      ]
     },
     "metadata": {},
     "output_type": "display_data"
    }
   ],
   "source": [
    "head(bts)"
   ]
  },
  {
   "cell_type": "code",
   "execution_count": 4,
   "id": "8b81b0c2",
   "metadata": {
    "ExecuteTime": {
     "end_time": "2022-04-20T04:40:04.220905Z",
     "start_time": "2022-04-20T04:28:43.186Z"
    }
   },
   "outputs": [
    {
     "name": "stderr",
     "output_type": "stream",
     "text": [
      "Warning message:\n",
      "\"package 'lubridate' was built under R version 3.6.3\"\n",
      "Attaching package: 'lubridate'\n",
      "\n",
      "The following objects are masked from 'package:base':\n",
      "\n",
      "    date, intersect, setdiff, union\n",
      "\n"
     ]
    }
   ],
   "source": [
    "library('lubridate')"
   ]
  },
  {
   "cell_type": "code",
   "execution_count": 5,
   "id": "9884b9cb",
   "metadata": {
    "ExecuteTime": {
     "end_time": "2022-04-20T05:12:46.909250Z",
     "start_time": "2022-04-20T04:43:01.791Z"
    }
   },
   "outputs": [
    {
     "data": {
      "text/html": [
       "<ol class=list-inline>\n",
       "\t<li>415423</li>\n",
       "\t<li>22</li>\n",
       "</ol>\n"
      ],
      "text/latex": [
       "\\begin{enumerate*}\n",
       "\\item 415423\n",
       "\\item 22\n",
       "\\end{enumerate*}\n"
      ],
      "text/markdown": [
       "1. 415423\n",
       "2. 22\n",
       "\n",
       "\n"
      ],
      "text/plain": [
       "[1] 415423     22"
      ]
     },
     "metadata": {},
     "output_type": "display_data"
    },
    {
     "data": {
      "text/html": [
       "<ol class=list-inline>\n",
       "\t<li>228170</li>\n",
       "\t<li>21</li>\n",
       "</ol>\n"
      ],
      "text/latex": [
       "\\begin{enumerate*}\n",
       "\\item 228170\n",
       "\\item 21\n",
       "\\end{enumerate*}\n"
      ],
      "text/markdown": [
       "1. 228170\n",
       "2. 21\n",
       "\n",
       "\n"
      ],
      "text/plain": [
       "[1] 228170     21"
      ]
     },
     "metadata": {},
     "output_type": "display_data"
    }
   ],
   "source": [
    "train$date = as.Date(train$date)\n",
    "train['weekday'] = wday(train$date)\n",
    "\n",
    "test$date = as.Date(test$date)\n",
    "test['weekday'] = wday(test$date)\n",
    "\n",
    "dim(train)\n",
    "dim(test)"
   ]
  },
  {
   "cell_type": "code",
   "execution_count": null,
   "id": "05ed8091",
   "metadata": {},
   "outputs": [],
   "source": [
    "train[train$in_out == \"시외\",'in_out'] = 1\n",
    "train[train$in_out == \"시내\",'in_out'] = 0"
   ]
  },
  {
   "cell_type": "code",
   "execution_count": 7,
   "id": "ef356b29",
   "metadata": {
    "ExecuteTime": {
     "end_time": "2022-04-20T05:52:52.403521Z",
     "start_time": "2022-04-20T05:52:52.352Z"
    }
   },
   "outputs": [
    {
     "name": "stderr",
     "output_type": "stream",
     "text": [
      "Warning message in `[<-.factor`(`*tmp*`, iseq, value = c(1, 1, 1, 1, 1, 1, 1, 1, :\n",
      "\"invalid factor level, NA generated\""
     ]
    },
    {
     "ename": "ERROR",
     "evalue": "Error in `[<-.data.frame`(`*tmp*`, test$in_out == \"시내\", \"in_out\", value = 0): missing values are not allowed in subscripted assignments of data frames\n",
     "output_type": "error",
     "traceback": [
      "Error in `[<-.data.frame`(`*tmp*`, test$in_out == \"시내\", \"in_out\", value = 0): missing values are not allowed in subscripted assignments of data frames\nTraceback:\n",
      "1. `[<-`(`*tmp*`, test$in_out == \"시내\", \"in_out\", value = 0)",
      "2. `[<-.data.frame`(`*tmp*`, test$in_out == \"시내\", \"in_out\", value = 0)",
      "3. stop(\"missing values are not allowed in subscripted assignments of data frames\")"
     ]
    }
   ],
   "source": [
    "test[test$in_out == \"시외\",'in_out'] = 1\n",
    "test[test$in_out == \"시내\",'in_out'] = 0"
   ]
  },
  {
   "cell_type": "code",
   "execution_count": null,
   "id": "e0eedce2",
   "metadata": {},
   "outputs": [],
   "source": [
    "train['68r']=train['X6.7_ride']+train['X7.8_ride'] # 6 ~ 8시 승차인원\n",
    "train['810r']=train['X8.9_ride']+train['X9.10_ride']\n",
    "train['1012r']=train['X10.11_ride']+train['X11.12_ride']\n",
    "\n",
    "train['68t']=train['X6.7_takeoff']+train['X7.8_takeoff'] # 6 ~ 8시 하차인원\n",
    "train['810t']=train['X8.9_takeoff']+train['X9.10_takeoff']\n",
    "train['1012t']=train['X10.11_takeoff']+train['X11.12_takeoff']"
   ]
  },
  {
   "cell_type": "code",
   "execution_count": null,
   "id": "ba27270e",
   "metadata": {},
   "outputs": [],
   "source": [
    "test['68r']=test['X6.7_ride']+test['X7.8_ride'] # 6 ~ 8시 승차인원\n",
    "test['810r']=test['X8.9_ride']+test['X9.10_ride']\n",
    "test['1012r']=test['X10.11_ride']+test['X11.12_ride']\n",
    "\n",
    "test['68t']=test['X6.7_takeoff']+test['X7.8_takeoff'] # 6 ~ 8시 하차인원\n",
    "test['810t']=test['X8.9_takeoff']+test['X9.10_takeoff']\n",
    "test['1012t']=test['X10.11_takeoff']+test['X11.12_takeoff']"
   ]
  },
  {
   "cell_type": "code",
   "execution_count": null,
   "id": "3abcd1fa",
   "metadata": {},
   "outputs": [],
   "source": [
    "library('caret')\n",
    "dmy <- dummyVars(~., data = train)\n",
    "n_train <- data.frame(predict(dmy, newdata = train))\n",
    "\n",
    "dmy <- dummyVars(~., data = test)\n",
    "n_test <- data.frame(predict(dmy, newdata = test))"
   ]
  },
  {
   "cell_type": "code",
   "execution_count": null,
   "id": "5407b299",
   "metadata": {},
   "outputs": [],
   "source": [
    "library(\"geosphere\")\n",
    "jeju=c( 126.52969,33.51411) # 제주 측정소 근처\n",
    "gosan=c(126.16283 ,33.29382 ) #고산 측정소 근처\n",
    "seongsan=c(126.8802,33.38677 ) #성산 측정소 근처\n",
    "po=c(126.5653,33.24616 ) #서귀포 측정소 근처"
   ]
  },
  {
   "cell_type": "code",
   "execution_count": null,
   "id": "851ca04e",
   "metadata": {},
   "outputs": [],
   "source": [
    "train['dis_jeju']=0\n",
    "train['dis_gosan']=0\n",
    "train['dis_seongsan']=0\n",
    "train['dis_po']=0\n",
    "for(i in 1:nrow(train)){\n",
    "  train$dis_jeju[i]= distGeo(jeju, c(train$longitude[i], train$latitude[i]))\n",
    "  train$dis_gosan[i]= distGeo(gosan, c(train$longitude[i], train$latitude[i]))\n",
    "  train$dis_seongsan[i]= distGeo(seongsan, c(train$longitude[i], train$latitude[i]))\n",
    "  train$dis_po[i]= distGeo(po, c(train$longitude[i], train$latitude[i]))\n",
    "\n",
    "}"
   ]
  },
  {
   "cell_type": "code",
   "execution_count": null,
   "id": "3f7c23cf",
   "metadata": {},
   "outputs": [],
   "source": [
    "a = cbind(train['dis_jeju'] ,train['dis_gosan'],train['dis_seongsan'] ,train['dis_po'])\n",
    "train['dist_min'] = apply(a,1, min)\n",
    "train['dis_name']=0"
   ]
  },
  {
   "cell_type": "code",
   "execution_count": null,
   "id": "2757994f",
   "metadata": {},
   "outputs": [],
   "source": [
    "for(i in 1:nrow(train)){\n",
    "  if(train$dis_jeju[i] == train$dist_min[i]){\n",
    "    train$dis_name[i] = 1\n",
    "  }else if(train$dis_gosan[i] == train$dist_min[i]){\n",
    "    train$dis_name[i] = 2\n",
    "  }else if(train$dis_po[i] == train$dist_min[i]){\n",
    "    train$dis_name[i] = 3\n",
    "  }else if(train$dis_seongsan[i] == train$dist_min[i]){\n",
    "    train$dis_name[i] = 4\n",
    "  }\n",
    "}"
   ]
  },
  {
   "cell_type": "code",
   "execution_count": null,
   "id": "c90cf778",
   "metadata": {},
   "outputs": [],
   "source": [
    "test['dis_jeju']=0\n",
    "test['dis_gosan']=0\n",
    "test['dis_seongsan']=0\n",
    "test['dis_po']=0\n",
    "for(i in 1:nrow(test)){\n",
    "  test$dis_jeju[i]= distGeo(jeju, c(test$longitude[i], test$latitude[i]))\n",
    "  test$dis_gosan[i]= distGeo(gosan, c(test$longitude[i], test$latitude[i]))\n",
    "  test$dis_seongsan[i]= distGeo(seongsan, c(test$longitude[i], test$latitude[i]))\n",
    "  test$dis_po[i]= distGeo(po, c(test$longitude[i], test$latitude[i]))\n",
    "  \n",
    "}"
   ]
  },
  {
   "cell_type": "code",
   "execution_count": null,
   "id": "bb56aa8d",
   "metadata": {},
   "outputs": [],
   "source": [
    "b = cbind(test['dis_jeju'] ,test['dis_gosan'],test['dis_seongsan'] ,test['dis_po'])\n",
    "test['dist_min'] = apply(b,1, min)\n",
    "test['dis_name']=0"
   ]
  },
  {
   "cell_type": "code",
   "execution_count": null,
   "id": "cd0e675e",
   "metadata": {},
   "outputs": [],
   "source": [
    "for(i in 1:nrow(test)){\n",
    "  if(test$dis_jeju[i] == test$dist_min[i]){\n",
    "    test$dis_name[i] = 1\n",
    "  }else if(test$dis_gosan[i] == test$dist_min[i]){\n",
    "    test$dis_name[i] = 2\n",
    "  }else if(test$dis_po[i] == test$dist_min[i]){\n",
    "    test$dis_name[i] = 3\n",
    "  }else if(test$dis_seongsan[i] == test$dist_min[i]){\n",
    "    test$dis_name[i] = 4\n",
    "  }\n",
    "}"
   ]
  },
  {
   "cell_type": "code",
   "execution_count": null,
   "id": "01786a3e",
   "metadata": {},
   "outputs": [],
   "source": [
    "\n",
    "tr <- train[c('X18.20_ride','in_out' ,'station_code','latitude','longitude','weekday','810r', '1012r', '68r', '68t', '810t','1012t','dis_name')]\n",
    "model_lm <- lm(X18.20_ride ~  ., data = tr)"
   ]
  },
  {
   "cell_type": "code",
   "execution_count": null,
   "id": "6b3c3b55",
   "metadata": {},
   "outputs": [],
   "source": [
    "install.packages('forecast')\n",
    "library(forecast)\n",
    "accuracy(model_lm)"
   ]
  },
  {
   "cell_type": "code",
   "execution_count": null,
   "id": "36148e11",
   "metadata": {},
   "outputs": [],
   "source": []
  },
  {
   "cell_type": "code",
   "execution_count": null,
   "id": "c9e19cc7",
   "metadata": {},
   "outputs": [],
   "source": []
  },
  {
   "cell_type": "code",
   "execution_count": null,
   "id": "89dcc886",
   "metadata": {},
   "outputs": [],
   "source": []
  },
  {
   "cell_type": "code",
   "execution_count": null,
   "id": "845063d9",
   "metadata": {},
   "outputs": [],
   "source": [
    "model_lm <- lm(X18.20_ride ~ ., data = train)\n",
    "y_pred_train_lm <- predict(model_lm, newdata = train)\n",
    "rsq_train_lm <- rsquare(y_pred_train_lm, train$X18.20_ride)\n",
    "rsq_adj_train_lm <- rsquare_adj(y_pred_train_lm, train$X18.20_ride, length(model_lm$coefficients) - 1)\n",
    "\n",
    "y_pred_test_lm <- predict(model_lm, newdata = test)\n",
    "rmse_test_lm <- rmse(y_pred_test_lm, train$X18.20_ride)\n",
    "mae_test_lm <- mae(y_pred_test_lm, train$X18.20_ride)"
   ]
  },
  {
   "cell_type": "code",
   "execution_count": null,
   "id": "a9c945ad",
   "metadata": {},
   "outputs": [],
   "source": [
    "library(MASS)\n",
    "model_lm2 <- lm(medv ~ .^2, data = df_train)\n",
    "model_lm2_step <- MASS::stepAIC(model_lm2, scope = list(upper = ~ .^2, lower = ~-1))\n",
    "y_pred_train_lm2 <- predict(model_lm2_step, newdata = df_train)\n",
    "rsq_train_lm2 <- rsquare(y_pred_train_lm2, df_train$medv)\n",
    "rsq_adj_train_lm2 <- rsquare_adj(y_pred_train_lm2, df_train$medv, length(model_lm2_step$coefficients) - 1)\n",
    "\n",
    "y_pred_test_lm2 <- predict(model_lm2_step, newdata = df_test)\n",
    "rmse_test_lm2 <- rmse(y_pred_test_lm2, df_test$medv)\n",
    "mae_test_lm2 <- mae(y_pred_test_lm2, df_test$medv)"
   ]
  },
  {
   "cell_type": "code",
   "execution_count": null,
   "id": "22051bd1",
   "metadata": {},
   "outputs": [],
   "source": [
    "library(randomForest)\n",
    "model_rf <- randomForest(medv ~ ., data = df_train)\n",
    "y_pred_train_rf <- predict(model_rf, newdata = df_train)\n",
    "rsq_train_rf <- rsqare(y_pred_train_rf, df_train$medv)\n",
    "rsq_adj_train_rf <- rsqare_adj(y_pred_train_rf, df_train$medv, 13)\n",
    "\n",
    "y_pred_test_rf <- predict(model_rf, newdata = df_test)\n",
    "rmse_test_rf <- rmse(y_pred_test_rf, df_test$medv)\n",
    "mae_test_rf <- mae(y_pred_test_rf, df_test$medv)"
   ]
  }
 ],
 "metadata": {
  "kernelspec": {
   "display_name": "R",
   "language": "R",
   "name": "ir"
  },
  "language_info": {
   "codemirror_mode": "r",
   "file_extension": ".r",
   "mimetype": "text/x-r-source",
   "name": "R",
   "pygments_lexer": "r",
   "version": "3.6.1"
  },
  "toc": {
   "base_numbering": 1,
   "nav_menu": {},
   "number_sections": true,
   "sideBar": true,
   "skip_h1_title": false,
   "title_cell": "Table of Contents",
   "title_sidebar": "Contents",
   "toc_cell": false,
   "toc_position": {},
   "toc_section_display": true,
   "toc_window_display": false
  },
  "varInspector": {
   "cols": {
    "lenName": 16,
    "lenType": 16,
    "lenVar": 40
   },
   "kernels_config": {
    "python": {
     "delete_cmd_postfix": "",
     "delete_cmd_prefix": "del ",
     "library": "var_list.py",
     "varRefreshCmd": "print(var_dic_list())"
    },
    "r": {
     "delete_cmd_postfix": ") ",
     "delete_cmd_prefix": "rm(",
     "library": "var_list.r",
     "varRefreshCmd": "cat(var_dic_list()) "
    }
   },
   "types_to_exclude": [
    "module",
    "function",
    "builtin_function_or_method",
    "instance",
    "_Feature"
   ],
   "window_display": false
  }
 },
 "nbformat": 4,
 "nbformat_minor": 5
}
