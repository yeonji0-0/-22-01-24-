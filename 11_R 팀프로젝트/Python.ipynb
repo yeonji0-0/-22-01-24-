{
 "cells": [
  {
   "cell_type": "code",
   "execution_count": 9,
   "id": "625cc0aa",
   "metadata": {
    "ExecuteTime": {
     "end_time": "2022-04-19T02:26:55.713135Z",
     "start_time": "2022-04-19T02:26:50.802324Z"
    }
   },
   "outputs": [],
   "source": [
    "# base\n",
    "import os\n",
    "import shutil\n",
    "import random\n",
    "import numpy as np\n",
    "import time\n",
    "from collections import Counter\n",
    "from sklearn.metrics import mean_squared_error\n",
    "\n",
    "# data preprocessing\n",
    "import pandas as pd\n",
    "pd.set_option('max_columns', 130, 'max_rows', 30)\n",
    "\n",
    "# visualization\n",
    "import seaborn as sns\n",
    "import matplotlib.pyplot as plt\n",
    "%matplotlib inline\n",
    "plt.rc('font', family='Malgun Gothic')\n",
    "plt.rc('axes', unicode_minus=False)\n",
    "\n",
    "# ignore warining\n",
    "import warnings\n",
    "warnings.filterwarnings('ignore')\n",
    "\n",
    "\n",
    "#import folium # 지도 관련 시각화\n",
    "#from folium.plugins import MarkerCluster #지도 관련 시각화\n",
    "#import geopy.distance #거리 계산해주는 패키지 사용\n",
    "\n",
    "\n",
    "# save\n",
    "#from sklearn.externals import joblib \n",
    "#import pickle\n",
    "\n",
    "# selenium\n",
    "from selenium.webdriver import Chrome\n",
    "\n",
    "#import geopy.distance\n",
    "\n",
    "from sklearn.preprocessing import LabelEncoder\n",
    "from sklearn.preprocessing import StandardScaler\n",
    "from sklearn.model_selection import GridSearchCV\n",
    "from sklearn.ensemble import RandomForestRegressor\n",
    "\n",
    "import seaborn as sns\n",
    "import matplotlib.pyplot as plt\n",
    "%matplotlib inline\n",
    "#from sklearn.externals import joblib \n",
    "import pickle\n",
    "\n",
    "import random\n",
    "random.seed(42)\n",
    "\n",
    "import lightgbm as lgb\n",
    "from keras import metrics\n",
    "from sklearn.metrics import r2_score"
   ]
  },
  {
   "cell_type": "code",
   "execution_count": 19,
   "id": "060ee2b2",
   "metadata": {
    "ExecuteTime": {
     "end_time": "2022-04-19T02:29:55.044733Z",
     "start_time": "2022-04-19T02:29:52.211755Z"
    }
   },
   "outputs": [],
   "source": [
    "train = pd.read_csv(\"C:/Users/MEDICI/Downloads/bus_data/train.csv\")\n",
    "test = pd.read_csv(\"C:/Users/MEDICI/Downloads/bus_data/test.csv\")\n",
    "bts =  pd.read_csv(\"C:/Users/MEDICI/Downloads/bus_data/bus_bts.csv\")"
   ]
  },
  {
   "cell_type": "code",
   "execution_count": 16,
   "id": "a6225b31",
   "metadata": {
    "ExecuteTime": {
     "end_time": "2022-04-19T02:29:13.461507Z",
     "start_time": "2022-04-19T02:29:13.440259Z"
    }
   },
   "outputs": [
    {
     "data": {
      "text/html": [
       "<div>\n",
       "<style scoped>\n",
       "    .dataframe tbody tr th:only-of-type {\n",
       "        vertical-align: middle;\n",
       "    }\n",
       "\n",
       "    .dataframe tbody tr th {\n",
       "        vertical-align: top;\n",
       "    }\n",
       "\n",
       "    .dataframe thead th {\n",
       "        text-align: right;\n",
       "    }\n",
       "</style>\n",
       "<table border=\"1\" class=\"dataframe\">\n",
       "  <thead>\n",
       "    <tr style=\"text-align: right;\">\n",
       "      <th></th>\n",
       "      <th>user_card_id</th>\n",
       "      <th>bus_route_id</th>\n",
       "      <th>vhc_id</th>\n",
       "      <th>geton_date</th>\n",
       "      <th>geton_time</th>\n",
       "      <th>geton_station_code</th>\n",
       "      <th>geton_station_name</th>\n",
       "      <th>getoff_date</th>\n",
       "      <th>getoff_time</th>\n",
       "      <th>getoff_station_code</th>\n",
       "      <th>getoff_station_name</th>\n",
       "      <th>user_category</th>\n",
       "      <th>user_count</th>\n",
       "    </tr>\n",
       "  </thead>\n",
       "  <tbody>\n",
       "    <tr>\n",
       "      <th>0</th>\n",
       "      <td>1010000000000000.0</td>\n",
       "      <td>23000000</td>\n",
       "      <td>149793674</td>\n",
       "      <td>2019-09-10</td>\n",
       "      <td>6:34:45</td>\n",
       "      <td>360</td>\n",
       "      <td>?명삎?ㅺ굅由?2019-09-10</td>\n",
       "      <td>7:10:31</td>\n",
       "      <td>592</td>\n",
       "      <td>?붾턿珥덈벑?숆탳</td>\n",
       "      <td>1</td>\n",
       "      <td>1.0</td>\n",
       "      <td>NaN</td>\n",
       "    </tr>\n",
       "    <tr>\n",
       "      <th>1</th>\n",
       "      <td>1010000000000000.0</td>\n",
       "      <td>23000000</td>\n",
       "      <td>149793674</td>\n",
       "      <td>2019-09-10</td>\n",
       "      <td>6:34:58</td>\n",
       "      <td>360</td>\n",
       "      <td>?명삎?ㅺ굅由?2019-09-10</td>\n",
       "      <td>6:56:27</td>\n",
       "      <td>3273</td>\n",
       "      <td>怨좎궛?숈궛(愿묒뼇諛⑸㈃)</td>\n",
       "      <td>1</td>\n",
       "      <td>1.0</td>\n",
       "      <td>NaN</td>\n",
       "    </tr>\n",
       "    <tr>\n",
       "      <th>2</th>\n",
       "      <td>1020000000000000.0</td>\n",
       "      <td>21420000</td>\n",
       "      <td>149793535</td>\n",
       "      <td>2019-09-10</td>\n",
       "      <td>7:19:07</td>\n",
       "      <td>2495</td>\n",
       "      <td>?숆킅?섏듅?뺣쪟??(?쒖＜諛⑸㈃)</td>\n",
       "      <td>2019-09-10</td>\n",
       "      <td>7:40:29</td>\n",
       "      <td>431</td>\n",
       "      <td>?뺤〈留덉쓣</td>\n",
       "      <td>4.0</td>\n",
       "      <td>1.0</td>\n",
       "    </tr>\n",
       "    <tr>\n",
       "      <th>3</th>\n",
       "      <td>1020000000000000.0</td>\n",
       "      <td>21420000</td>\n",
       "      <td>149793512</td>\n",
       "      <td>2019-09-09</td>\n",
       "      <td>9:14:47</td>\n",
       "      <td>3282</td>\n",
       "      <td>??뺥솚?뱀젙瑜섏옣(??뺤쓭?щТ??</td>\n",
       "      <td>2019-09-09</td>\n",
       "      <td>10:02:46</td>\n",
       "      <td>431</td>\n",
       "      <td>?뺤〈留덉쓣</td>\n",
       "      <td>1.0</td>\n",
       "      <td>1.0</td>\n",
       "    </tr>\n",
       "    <tr>\n",
       "      <th>4</th>\n",
       "      <td>1010000000000000.0</td>\n",
       "      <td>21420000</td>\n",
       "      <td>149793512</td>\n",
       "      <td>2019-09-09</td>\n",
       "      <td>9:28:53</td>\n",
       "      <td>2820</td>\n",
       "      <td>?쇱젙吏?먮?</td>\n",
       "      <td>2019-09-09</td>\n",
       "      <td>10:21:37</td>\n",
       "      <td>2972</td>\n",
       "      <td>?쒖＜援?젣怨듯빆(醫낆젏)</td>\n",
       "      <td>4.0</td>\n",
       "      <td>1.0</td>\n",
       "    </tr>\n",
       "    <tr>\n",
       "      <th>...</th>\n",
       "      <td>...</td>\n",
       "      <td>...</td>\n",
       "      <td>...</td>\n",
       "      <td>...</td>\n",
       "      <td>...</td>\n",
       "      <td>...</td>\n",
       "      <td>...</td>\n",
       "      <td>...</td>\n",
       "      <td>...</td>\n",
       "      <td>...</td>\n",
       "      <td>...</td>\n",
       "      <td>...</td>\n",
       "      <td>...</td>\n",
       "    </tr>\n",
       "    <tr>\n",
       "      <th>1048570</th>\n",
       "      <td>1010000000000000.0</td>\n",
       "      <td>25000000.0</td>\n",
       "      <td>149797507.0</td>\n",
       "      <td>2019-09-09</td>\n",
       "      <td>9:41:09</td>\n",
       "      <td>1812.0</td>\n",
       "      <td>?쇱꽦?ъ옄怨좊벑?숆탳</td>\n",
       "      <td>2019-09-09</td>\n",
       "      <td>9:57:54</td>\n",
       "      <td>1832</td>\n",
       "      <td>?ㅽ넻紐⑤（</td>\n",
       "      <td>6.0</td>\n",
       "      <td>1.0</td>\n",
       "    </tr>\n",
       "    <tr>\n",
       "      <th>1048571</th>\n",
       "      <td>1010000000000000.0</td>\n",
       "      <td>25000000.0</td>\n",
       "      <td>149797507.0</td>\n",
       "      <td>2019-09-09</td>\n",
       "      <td>9:50:28</td>\n",
       "      <td>1846.0</td>\n",
       "      <td>怨듭쿇??2019-09-09</td>\n",
       "      <td>9:53:40</td>\n",
       "      <td>1839</td>\n",
       "      <td>??붾룞</td>\n",
       "      <td>1</td>\n",
       "      <td>1.0</td>\n",
       "      <td>NaN</td>\n",
       "    </tr>\n",
       "    <tr>\n",
       "      <th>1048572</th>\n",
       "      <td>1010000000000000.0</td>\n",
       "      <td>25000000.0</td>\n",
       "      <td>149797507.0</td>\n",
       "      <td>2019-09-09</td>\n",
       "      <td>9:54:07</td>\n",
       "      <td>1839.0</td>\n",
       "      <td>??붾룞</td>\n",
       "      <td>2019-09-09</td>\n",
       "      <td>9:57:01</td>\n",
       "      <td>1834</td>\n",
       "      <td>?곸썝??6</td>\n",
       "      <td>1.0</td>\n",
       "      <td>NaN</td>\n",
       "    </tr>\n",
       "    <tr>\n",
       "      <th>1048573</th>\n",
       "      <td>1010000000000000.0</td>\n",
       "      <td>25000000.0</td>\n",
       "      <td>149797507.0</td>\n",
       "      <td>2019-09-09</td>\n",
       "      <td>9:55:13</td>\n",
       "      <td>1837.0</td>\n",
       "      <td>?꾨?1由ъ궗臾댁냼</td>\n",
       "      <td>2019-09-09</td>\n",
       "      <td>9:57:03</td>\n",
       "      <td>1834</td>\n",
       "      <td>?곸썝??6</td>\n",
       "      <td>1.0</td>\n",
       "      <td>NaN</td>\n",
       "    </tr>\n",
       "    <tr>\n",
       "      <th>1048574</th>\n",
       "      <td>NaN</td>\n",
       "      <td>NaN</td>\n",
       "      <td>NaN</td>\n",
       "      <td>NaN</td>\n",
       "      <td>NaN</td>\n",
       "      <td>NaN</td>\n",
       "      <td>NaN</td>\n",
       "      <td>NaN</td>\n",
       "      <td>NaN</td>\n",
       "      <td>NaN</td>\n",
       "      <td>NaN</td>\n",
       "      <td>NaN</td>\n",
       "      <td>NaN</td>\n",
       "    </tr>\n",
       "  </tbody>\n",
       "</table>\n",
       "<p>1048575 rows × 13 columns</p>\n",
       "</div>"
      ],
      "text/plain": [
       "               user_card_id bus_route_id       vhc_id  geton_date geton_time  \\\n",
       "0        1010000000000000.0     23000000    149793674  2019-09-10    6:34:45   \n",
       "1        1010000000000000.0     23000000    149793674  2019-09-10    6:34:58   \n",
       "2        1020000000000000.0     21420000    149793535  2019-09-10    7:19:07   \n",
       "3        1020000000000000.0     21420000    149793512  2019-09-09    9:14:47   \n",
       "4        1010000000000000.0     21420000    149793512  2019-09-09    9:28:53   \n",
       "...                     ...          ...          ...         ...        ...   \n",
       "1048570  1010000000000000.0   25000000.0  149797507.0  2019-09-09    9:41:09   \n",
       "1048571  1010000000000000.0   25000000.0  149797507.0  2019-09-09    9:50:28   \n",
       "1048572  1010000000000000.0   25000000.0  149797507.0  2019-09-09    9:54:07   \n",
       "1048573  1010000000000000.0   25000000.0  149797507.0  2019-09-09    9:55:13   \n",
       "1048574                 NaN          NaN          NaN         NaN        NaN   \n",
       "\n",
       "        geton_station_code      geton_station_name getoff_date getoff_time  \\\n",
       "0                      360      ?명삎?ㅺ굅由?2019-09-10     7:10:31         592   \n",
       "1                      360      ?명삎?ㅺ굅由?2019-09-10     6:56:27        3273   \n",
       "2                     2495     ?숆킅?섏듅?뺣쪟??(?쒖＜諛⑸㈃)  2019-09-10     7:40:29   \n",
       "3                     3282  ??뺥솚?뱀젙瑜섏옣(??뺤쓭?щТ??  2019-09-09    10:02:46   \n",
       "4                     2820                ?쇱젙吏?먮?  2019-09-09    10:21:37   \n",
       "...                    ...                     ...         ...         ...   \n",
       "1048570             1812.0            ?쇱꽦?ъ옄怨좊벑?숆탳  2019-09-09     9:57:54   \n",
       "1048571             1846.0         怨듭쿇??2019-09-09     9:53:40        1839   \n",
       "1048572             1839.0                   ??붾룞  2019-09-09     9:57:01   \n",
       "1048573             1837.0              ?꾨?1由ъ궗臾댁냼  2019-09-09     9:57:03   \n",
       "1048574                NaN                     NaN         NaN         NaN   \n",
       "\n",
       "        getoff_station_code getoff_station_name  user_category  user_count  \n",
       "0                 ?붾턿珥덈벑?숆탳                   1            1.0         NaN  \n",
       "1            怨좎궛?숈궛(愿묒뼇諛⑸㈃)                   1            1.0         NaN  \n",
       "2                       431              ?뺤〈留덉쓣            4.0         1.0  \n",
       "3                       431              ?뺤〈留덉쓣            1.0         1.0  \n",
       "4                      2972      ?쒖＜援?젣怨듯빆(醫낆젏)            4.0         1.0  \n",
       "...                     ...                 ...            ...         ...  \n",
       "1048570                1832              ?ㅽ넻紐⑤（            6.0         1.0  \n",
       "1048571               ??붾룞                   1            1.0         NaN  \n",
       "1048572                1834              ?곸썝??6            1.0         NaN  \n",
       "1048573                1834              ?곸썝??6            1.0         NaN  \n",
       "1048574                 NaN                 NaN            NaN         NaN  \n",
       "\n",
       "[1048575 rows x 13 columns]"
      ]
     },
     "execution_count": 16,
     "metadata": {},
     "output_type": "execute_result"
    }
   ],
   "source": [
    "bts =  pd.read_csv(\"C:/Users/MEDICI/Downloads/bus_data/bus_bts.csv\")"
   ]
  },
  {
   "cell_type": "code",
   "execution_count": 45,
   "id": "a47380ec",
   "metadata": {
    "ExecuteTime": {
     "end_time": "2022-04-19T03:02:07.057463Z",
     "start_time": "2022-04-19T03:02:06.926192Z"
    }
   },
   "outputs": [
    {
     "name": "stdout",
     "output_type": "stream",
     "text": [
      "id: 0\n",
      "date: 0\n",
      "bus_route_id: 0\n",
      "in_out: 0\n",
      "station_code: 0\n",
      "station_name: 0\n",
      "latitude: 0\n",
      "longitude: 0\n",
      "6~7_ride: 0\n",
      "7~8_ride: 0\n",
      "8~9_ride: 0\n",
      "9~10_ride: 0\n",
      "10~11_ride: 0\n",
      "11~12_ride: 0\n",
      "6~7_takeoff: 0\n",
      "7~8_takeoff: 0\n",
      "8~9_takeoff: 0\n",
      "9~10_takeoff: 0\n",
      "10~11_takeoff: 0\n",
      "11~12_takeoff: 0\n",
      "18~20_ride: 0\n",
      "weekday: 0\n",
      "route_station: 0\n",
      "bus_route_id_weekday: 0\n",
      "station_code_weekday: 0\n",
      "route_station_weekday: 0\n"
     ]
    }
   ],
   "source": [
    "for col in train.columns:\n",
    "    print(str(col) + \":\", train[col].isnull().sum() )"
   ]
  },
  {
   "cell_type": "code",
   "execution_count": 46,
   "id": "2c5d37ff",
   "metadata": {
    "ExecuteTime": {
     "end_time": "2022-04-19T03:02:21.348493Z",
     "start_time": "2022-04-19T03:02:21.277068Z"
    }
   },
   "outputs": [
    {
     "name": "stdout",
     "output_type": "stream",
     "text": [
      "id: 0\n",
      "date: 0\n",
      "bus_route_id: 0\n",
      "in_out: 0\n",
      "station_code: 0\n",
      "station_name: 0\n",
      "latitude: 0\n",
      "longitude: 0\n",
      "6~7_ride: 0\n",
      "7~8_ride: 0\n",
      "8~9_ride: 0\n",
      "9~10_ride: 0\n",
      "10~11_ride: 0\n",
      "11~12_ride: 0\n",
      "6~7_takeoff: 0\n",
      "7~8_takeoff: 0\n",
      "8~9_takeoff: 0\n",
      "9~10_takeoff: 0\n",
      "10~11_takeoff: 0\n",
      "11~12_takeoff: 0\n",
      "weekday: 0\n",
      "route_station: 0\n",
      "bus_route_id_weekday: 0\n",
      "station_code_weekday: 0\n",
      "route_station_weekday: 0\n"
     ]
    }
   ],
   "source": [
    "for col in test.columns:\n",
    "    print(str(col) + \":\", test[col].isnull().sum() )"
   ]
  },
  {
   "cell_type": "code",
   "execution_count": 24,
   "id": "3065d1fb",
   "metadata": {
    "ExecuteTime": {
     "end_time": "2022-04-19T02:37:26.119058Z",
     "start_time": "2022-04-19T02:37:26.013687Z"
    }
   },
   "outputs": [
    {
     "data": {
      "text/plain": [
       "((415423, 22), (228170, 21))"
      ]
     },
     "execution_count": 24,
     "metadata": {},
     "output_type": "execute_result"
    }
   ],
   "source": [
    "train['date'] = pd.to_datetime(train['date'])\n",
    "train['weekday'] = train['date'].dt.weekday\n",
    "\n",
    "test['date'] = pd.to_datetime(test['date'])\n",
    "test['weekday'] = test['date'].dt.weekday\n",
    "\n",
    "train.shape, test.shape"
   ]
  },
  {
   "cell_type": "code",
   "execution_count": 63,
   "id": "8bec00a6",
   "metadata": {
    "ExecuteTime": {
     "end_time": "2022-04-19T05:07:54.768912Z",
     "start_time": "2022-04-19T05:07:53.857607Z"
    }
   },
   "outputs": [],
   "source": [
    "train = pd.get_dummies(train,columns=['weekday'])\n",
    "test = pd.get_dummies(test,columns=['weekday'])"
   ]
  },
  {
   "cell_type": "code",
   "execution_count": 64,
   "id": "16466fd2",
   "metadata": {
    "ExecuteTime": {
     "end_time": "2022-04-19T05:08:22.900647Z",
     "start_time": "2022-04-19T05:08:22.838174Z"
    }
   },
   "outputs": [],
   "source": [
    "train['in_out'] = train['in_out'].map({'시내':0,'시외':1})\n",
    "test['in_out'] = test['in_out'].map({'시내':0,'시외':1})"
   ]
  },
  {
   "cell_type": "code",
   "execution_count": 65,
   "id": "437e6ed7",
   "metadata": {
    "ExecuteTime": {
     "end_time": "2022-04-19T05:09:17.765033Z",
     "start_time": "2022-04-19T05:09:17.731226Z"
    }
   },
   "outputs": [],
   "source": [
    "train['68r']=train['6~7_ride']+train['7~8_ride'] # 6 ~ 8시 승차인원\n",
    "train['810r']=train['8~9_ride']+train['9~10_ride']\n",
    "train['1012r']=train['10~11_ride']+train['11~12_ride']\n",
    "\n",
    "train['68t']=train['6~7_takeoff']+train['7~8_takeoff'] # 6 ~ 8시 하차인원\n",
    "train['810t']=train['8~9_takeoff']+train['9~10_takeoff']\n",
    "train['1012t']=train['10~11_takeoff']+train['11~12_takeoff']"
   ]
  },
  {
   "cell_type": "code",
   "execution_count": 67,
   "id": "58b86d01",
   "metadata": {
    "ExecuteTime": {
     "end_time": "2022-04-19T05:09:59.460406Z",
     "start_time": "2022-04-19T05:09:58.852926Z"
    }
   },
   "outputs": [
    {
     "data": {
      "text/plain": [
       "Text(0.5, 1.0, 'arrive and leave correlation graph')"
      ]
     },
     "execution_count": 67,
     "metadata": {},
     "output_type": "execute_result"
    },
    {
     "data": {
      "image/png": "[encoded data removed]",
      "text/plain": [
       "<Figure size 1440x1080 with 2 Axes>"
      ]
     },
     "metadata": {},
     "output_type": "display_data"
    }
   ],
   "source": [
    "train22 = train[['68r', '810r', '1012r', '68t', '810t', '1012t', '18~20_ride']]\n",
    "\n",
    "cor = train22.corr()\n",
    "\n",
    "sns.set(style=\"white\")\n",
    "mask = np.zeros_like(cor, dtype=np.bool)\n",
    "mask[np.triu_indices_from(mask)] = True\n",
    "\n",
    "f, ax = plt.subplots(figsize=(20, 15))\n",
    "cmap = sns.diverging_palette(200, 10, as_cmap=True)\n",
    "sns.heatmap(cor,\n",
    "            mask=mask,\n",
    "            cmap=cmap,\n",
    "            center=0,\n",
    "            square=True,\n",
    "            linewidths=0.5,\n",
    "            cbar_kws={\"shrink\": 1},\n",
    "            annot=True)\n",
    "#히트맵 생성\n",
    "plt.xticks(size=20)\n",
    "plt.yticks(size=20, rotation=0)\n",
    "plt.title(\"arrive and leave correlation graph\", size=30)"
   ]
  },
  {
   "cell_type": "code",
   "execution_count": 68,
   "id": "ae176fe6",
   "metadata": {
    "ExecuteTime": {
     "end_time": "2022-04-19T05:10:24.429127Z",
     "start_time": "2022-04-19T05:10:24.407059Z"
    }
   },
   "outputs": [],
   "source": [
    "test['68r']=test['6~7_ride']+test['7~8_ride']\n",
    "test['810r']=test['8~9_ride']+test['9~10_ride']\n",
    "test['1012r']=test['10~11_ride']+test['11~12_ride']\n",
    "\n",
    "test['68t']=test['6~7_takeoff']+test['7~8_takeoff']\n",
    "test['810t']=test['8~9_takeoff']+test['9~10_takeoff']\n",
    "test['1012t']=test['10~11_takeoff']+test['11~12_takeoff']"
   ]
  },
  {
   "cell_type": "code",
   "execution_count": 80,
   "id": "c72d4cfa",
   "metadata": {
    "ExecuteTime": {
     "end_time": "2022-04-19T05:21:17.296224Z",
     "start_time": "2022-04-19T05:21:14.734181Z"
    }
   },
   "outputs": [
    {
     "name": "stdout",
     "output_type": "stream",
     "text": [
      "Requirement already satisfied: folium in c:\\users\\medici\\anaconda3\\lib\\site-packages (0.12.1.post1)\n",
      "Requirement already satisfied: requests in c:\\users\\medici\\anaconda3\\lib\\site-packages (from folium) (2.26.0)\n",
      "Requirement already satisfied: numpy in c:\\users\\medici\\anaconda3\\lib\\site-packages (from folium) (1.20.3)\n",
      "Requirement already satisfied: jinja2>=2.9 in c:\\users\\medici\\anaconda3\\lib\\site-packages (from folium) (2.11.3)\n",
      "Requirement already satisfied: branca>=0.3.0 in c:\\users\\medici\\anaconda3\\lib\\site-packages (from folium) (0.5.0)\n",
      "Requirement already satisfied: MarkupSafe>=0.23 in c:\\users\\medici\\anaconda3\\lib\\site-packages (from jinja2>=2.9->folium) (1.1.1)\n",
      "Requirement already satisfied: certifi>=2017.4.17 in c:\\users\\medici\\anaconda3\\lib\\site-packages (from requests->folium) (2021.10.8)\n",
      "Requirement already satisfied: charset-normalizer~=2.0.0 in c:\\users\\medici\\anaconda3\\lib\\site-packages (from requests->folium) (2.0.4)\n",
      "Requirement already satisfied: urllib3<1.27,>=1.21.1 in c:\\users\\medici\\anaconda3\\lib\\site-packages (from requests->folium) (1.26.7)\n",
      "Requirement already satisfied: idna<4,>=2.5 in c:\\users\\medici\\anaconda3\\lib\\site-packages (from requests->folium) (3.2)\n"
     ]
    }
   ],
   "source": [
    "# 해당 주요 장소의 임의 지역 위도, 경도\n",
    "\n",
    "!pip install folium\n",
    "import folium\n",
    "\n",
    "jeju=(33.51411, 126.52969) # 제주 측정소 근처\n",
    "gosan=(33.29382, 126.16283) #고산 측정소 근처\n",
    "seongsan=(33.38677, 126.8802) #성산 측정소 근처\n",
    "po=(33.24616, 126.5653) #서귀포 측정소 근처\n"
   ]
  },
  {
   "cell_type": "code",
   "execution_count": 94,
   "id": "6b822360",
   "metadata": {
    "ExecuteTime": {
     "end_time": "2022-04-19T05:43:43.046920Z",
     "start_time": "2022-04-19T05:43:42.940640Z"
    }
   },
   "outputs": [
    {
     "ename": "AttributeError",
     "evalue": "module 'geopy.distance' has no attribute 'vincenty'",
     "output_type": "error",
     "traceback": [
      "\u001b[1;31m---------------------------------------------------------------------------\u001b[0m",
      "\u001b[1;31mAttributeError\u001b[0m                            Traceback (most recent call last)",
      "\u001b[1;32m~\\AppData\\Local\\Temp/ipykernel_9000/2185813377.py\u001b[0m in \u001b[0;36m<module>\u001b[1;34m\u001b[0m\n\u001b[0;32m      2\u001b[0m \u001b[1;33m\u001b[0m\u001b[0m\n\u001b[0;32m      3\u001b[0m \u001b[1;33m\u001b[0m\u001b[0m\n\u001b[1;32m----> 4\u001b[1;33m \u001b[0mt1\u001b[0m \u001b[1;33m=\u001b[0m \u001b[1;33m[\u001b[0m\u001b[0mgeopy\u001b[0m\u001b[1;33m.\u001b[0m\u001b[0mdistance\u001b[0m\u001b[1;33m.\u001b[0m\u001b[0mvincenty\u001b[0m\u001b[1;33m(\u001b[0m \u001b[1;33m(\u001b[0m\u001b[0mi\u001b[0m\u001b[1;33m,\u001b[0m\u001b[0mj\u001b[0m\u001b[1;33m)\u001b[0m\u001b[1;33m,\u001b[0m \u001b[0mjeju\u001b[0m\u001b[1;33m)\u001b[0m\u001b[1;33m.\u001b[0m\u001b[0mkm\u001b[0m \u001b[1;32mfor\u001b[0m \u001b[0mi\u001b[0m\u001b[1;33m,\u001b[0m\u001b[0mj\u001b[0m \u001b[1;32min\u001b[0m \u001b[0mlist\u001b[0m\u001b[1;33m(\u001b[0m \u001b[0mzip\u001b[0m\u001b[1;33m(\u001b[0m \u001b[0mtrain\u001b[0m\u001b[1;33m[\u001b[0m\u001b[1;34m'latitude'\u001b[0m\u001b[1;33m]\u001b[0m\u001b[1;33m,\u001b[0m\u001b[0mtrain\u001b[0m\u001b[1;33m[\u001b[0m\u001b[1;34m'longitude'\u001b[0m\u001b[1;33m]\u001b[0m \u001b[1;33m)\u001b[0m\u001b[1;33m)\u001b[0m \u001b[1;33m]\u001b[0m\u001b[1;33m\u001b[0m\u001b[1;33m\u001b[0m\u001b[0m\n\u001b[0m\u001b[0;32m      5\u001b[0m \u001b[0mt2\u001b[0m \u001b[1;33m=\u001b[0m \u001b[1;33m[\u001b[0m\u001b[0mgeopy\u001b[0m\u001b[1;33m.\u001b[0m\u001b[0mdistance\u001b[0m\u001b[1;33m.\u001b[0m\u001b[0mvincenty\u001b[0m\u001b[1;33m(\u001b[0m \u001b[1;33m(\u001b[0m\u001b[0mi\u001b[0m\u001b[1;33m,\u001b[0m\u001b[0mj\u001b[0m\u001b[1;33m)\u001b[0m\u001b[1;33m,\u001b[0m \u001b[0mgosan\u001b[0m\u001b[1;33m)\u001b[0m\u001b[1;33m.\u001b[0m\u001b[0mkm\u001b[0m \u001b[1;32mfor\u001b[0m \u001b[0mi\u001b[0m\u001b[1;33m,\u001b[0m\u001b[0mj\u001b[0m \u001b[1;32min\u001b[0m \u001b[0mlist\u001b[0m\u001b[1;33m(\u001b[0m \u001b[0mzip\u001b[0m\u001b[1;33m(\u001b[0m \u001b[0mtrain\u001b[0m\u001b[1;33m[\u001b[0m\u001b[1;34m'latitude'\u001b[0m\u001b[1;33m]\u001b[0m\u001b[1;33m,\u001b[0m\u001b[0mtrain\u001b[0m\u001b[1;33m[\u001b[0m\u001b[1;34m'longitude'\u001b[0m\u001b[1;33m]\u001b[0m \u001b[1;33m)\u001b[0m\u001b[1;33m)\u001b[0m \u001b[1;33m]\u001b[0m\u001b[1;33m\u001b[0m\u001b[1;33m\u001b[0m\u001b[0m\n\u001b[0;32m      6\u001b[0m \u001b[0mt3\u001b[0m \u001b[1;33m=\u001b[0m \u001b[1;33m[\u001b[0m\u001b[0mgeopy\u001b[0m\u001b[1;33m.\u001b[0m\u001b[0mdistance\u001b[0m\u001b[1;33m.\u001b[0m\u001b[0mvincenty\u001b[0m\u001b[1;33m(\u001b[0m \u001b[1;33m(\u001b[0m\u001b[0mi\u001b[0m\u001b[1;33m,\u001b[0m\u001b[0mj\u001b[0m\u001b[1;33m)\u001b[0m\u001b[1;33m,\u001b[0m \u001b[0mseongsan\u001b[0m\u001b[1;33m)\u001b[0m\u001b[1;33m.\u001b[0m\u001b[0mkm\u001b[0m \u001b[1;32mfor\u001b[0m \u001b[0mi\u001b[0m\u001b[1;33m,\u001b[0m\u001b[0mj\u001b[0m \u001b[1;32min\u001b[0m \u001b[0mlist\u001b[0m\u001b[1;33m(\u001b[0m \u001b[0mzip\u001b[0m\u001b[1;33m(\u001b[0m \u001b[0mtrain\u001b[0m\u001b[1;33m[\u001b[0m\u001b[1;34m'latitude'\u001b[0m\u001b[1;33m]\u001b[0m\u001b[1;33m,\u001b[0m\u001b[0mtrain\u001b[0m\u001b[1;33m[\u001b[0m\u001b[1;34m'longitude'\u001b[0m\u001b[1;33m]\u001b[0m \u001b[1;33m)\u001b[0m\u001b[1;33m)\u001b[0m \u001b[1;33m]\u001b[0m\u001b[1;33m\u001b[0m\u001b[1;33m\u001b[0m\u001b[0m\n",
      "\u001b[1;32m~\\AppData\\Local\\Temp/ipykernel_9000/2185813377.py\u001b[0m in \u001b[0;36m<listcomp>\u001b[1;34m(.0)\u001b[0m\n\u001b[0;32m      2\u001b[0m \u001b[1;33m\u001b[0m\u001b[0m\n\u001b[0;32m      3\u001b[0m \u001b[1;33m\u001b[0m\u001b[0m\n\u001b[1;32m----> 4\u001b[1;33m \u001b[0mt1\u001b[0m \u001b[1;33m=\u001b[0m \u001b[1;33m[\u001b[0m\u001b[0mgeopy\u001b[0m\u001b[1;33m.\u001b[0m\u001b[0mdistance\u001b[0m\u001b[1;33m.\u001b[0m\u001b[0mvincenty\u001b[0m\u001b[1;33m(\u001b[0m \u001b[1;33m(\u001b[0m\u001b[0mi\u001b[0m\u001b[1;33m,\u001b[0m\u001b[0mj\u001b[0m\u001b[1;33m)\u001b[0m\u001b[1;33m,\u001b[0m \u001b[0mjeju\u001b[0m\u001b[1;33m)\u001b[0m\u001b[1;33m.\u001b[0m\u001b[0mkm\u001b[0m \u001b[1;32mfor\u001b[0m \u001b[0mi\u001b[0m\u001b[1;33m,\u001b[0m\u001b[0mj\u001b[0m \u001b[1;32min\u001b[0m \u001b[0mlist\u001b[0m\u001b[1;33m(\u001b[0m \u001b[0mzip\u001b[0m\u001b[1;33m(\u001b[0m \u001b[0mtrain\u001b[0m\u001b[1;33m[\u001b[0m\u001b[1;34m'latitude'\u001b[0m\u001b[1;33m]\u001b[0m\u001b[1;33m,\u001b[0m\u001b[0mtrain\u001b[0m\u001b[1;33m[\u001b[0m\u001b[1;34m'longitude'\u001b[0m\u001b[1;33m]\u001b[0m \u001b[1;33m)\u001b[0m\u001b[1;33m)\u001b[0m \u001b[1;33m]\u001b[0m\u001b[1;33m\u001b[0m\u001b[1;33m\u001b[0m\u001b[0m\n\u001b[0m\u001b[0;32m      5\u001b[0m \u001b[0mt2\u001b[0m \u001b[1;33m=\u001b[0m \u001b[1;33m[\u001b[0m\u001b[0mgeopy\u001b[0m\u001b[1;33m.\u001b[0m\u001b[0mdistance\u001b[0m\u001b[1;33m.\u001b[0m\u001b[0mvincenty\u001b[0m\u001b[1;33m(\u001b[0m \u001b[1;33m(\u001b[0m\u001b[0mi\u001b[0m\u001b[1;33m,\u001b[0m\u001b[0mj\u001b[0m\u001b[1;33m)\u001b[0m\u001b[1;33m,\u001b[0m \u001b[0mgosan\u001b[0m\u001b[1;33m)\u001b[0m\u001b[1;33m.\u001b[0m\u001b[0mkm\u001b[0m \u001b[1;32mfor\u001b[0m \u001b[0mi\u001b[0m\u001b[1;33m,\u001b[0m\u001b[0mj\u001b[0m \u001b[1;32min\u001b[0m \u001b[0mlist\u001b[0m\u001b[1;33m(\u001b[0m \u001b[0mzip\u001b[0m\u001b[1;33m(\u001b[0m \u001b[0mtrain\u001b[0m\u001b[1;33m[\u001b[0m\u001b[1;34m'latitude'\u001b[0m\u001b[1;33m]\u001b[0m\u001b[1;33m,\u001b[0m\u001b[0mtrain\u001b[0m\u001b[1;33m[\u001b[0m\u001b[1;34m'longitude'\u001b[0m\u001b[1;33m]\u001b[0m \u001b[1;33m)\u001b[0m\u001b[1;33m)\u001b[0m \u001b[1;33m]\u001b[0m\u001b[1;33m\u001b[0m\u001b[1;33m\u001b[0m\u001b[0m\n\u001b[0;32m      6\u001b[0m \u001b[0mt3\u001b[0m \u001b[1;33m=\u001b[0m \u001b[1;33m[\u001b[0m\u001b[0mgeopy\u001b[0m\u001b[1;33m.\u001b[0m\u001b[0mdistance\u001b[0m\u001b[1;33m.\u001b[0m\u001b[0mvincenty\u001b[0m\u001b[1;33m(\u001b[0m \u001b[1;33m(\u001b[0m\u001b[0mi\u001b[0m\u001b[1;33m,\u001b[0m\u001b[0mj\u001b[0m\u001b[1;33m)\u001b[0m\u001b[1;33m,\u001b[0m \u001b[0mseongsan\u001b[0m\u001b[1;33m)\u001b[0m\u001b[1;33m.\u001b[0m\u001b[0mkm\u001b[0m \u001b[1;32mfor\u001b[0m \u001b[0mi\u001b[0m\u001b[1;33m,\u001b[0m\u001b[0mj\u001b[0m \u001b[1;32min\u001b[0m \u001b[0mlist\u001b[0m\u001b[1;33m(\u001b[0m \u001b[0mzip\u001b[0m\u001b[1;33m(\u001b[0m \u001b[0mtrain\u001b[0m\u001b[1;33m[\u001b[0m\u001b[1;34m'latitude'\u001b[0m\u001b[1;33m]\u001b[0m\u001b[1;33m,\u001b[0m\u001b[0mtrain\u001b[0m\u001b[1;33m[\u001b[0m\u001b[1;34m'longitude'\u001b[0m\u001b[1;33m]\u001b[0m \u001b[1;33m)\u001b[0m\u001b[1;33m)\u001b[0m \u001b[1;33m]\u001b[0m\u001b[1;33m\u001b[0m\u001b[1;33m\u001b[0m\u001b[0m\n",
      "\u001b[1;31mAttributeError\u001b[0m: module 'geopy.distance' has no attribute 'vincenty'"
     ]
    }
   ],
   "source": [
    "import geopy.distance\n",
    "\n",
    "\n",
    "t1 = [geopy.distance.vincenty( (i,j), jeju).km for i,j in list( zip( train['latitude'],train['longitude'] )) ]\n",
    "t2 = [geopy.distance.vincenty( (i,j), gosan).km for i,j in list( zip( train['latitude'],train['longitude'] )) ]\n",
    "t3 = [geopy.distance.vincenty( (i,j), seongsan).km for i,j in list( zip( train['latitude'],train['longitude'] )) ]\n",
    "t4 = [geopy.distance.vincenty( (i,j), po).km for i,j in list( zip( train['latitude'],train['longitude'] )) ]\n",
    "\n",
    "train['dis_jeju']=t1\n",
    "train['dis_gosan']=t2\n",
    "train['dis_seongsan']=t3\n",
    "train['dis_po']=t4"
   ]
  },
  {
   "cell_type": "code",
   "execution_count": null,
   "id": "2e6214d6",
   "metadata": {},
   "outputs": [],
   "source": []
  },
  {
   "cell_type": "code",
   "execution_count": null,
   "id": "0799d2e8",
   "metadata": {},
   "outputs": [],
   "source": []
  },
  {
   "cell_type": "code",
   "execution_count": null,
   "id": "706d5046",
   "metadata": {},
   "outputs": [],
   "source": []
  },
  {
   "cell_type": "code",
   "execution_count": null,
   "id": "6d4fb538",
   "metadata": {},
   "outputs": [],
   "source": []
  },
  {
   "cell_type": "code",
   "execution_count": null,
   "id": "d510cf5d",
   "metadata": {},
   "outputs": [],
   "source": []
  },
  {
   "cell_type": "code",
   "execution_count": null,
   "id": "12efd8d4",
   "metadata": {},
   "outputs": [],
   "source": []
  },
  {
   "cell_type": "code",
   "execution_count": 33,
   "id": "e7aefc60",
   "metadata": {
    "ExecuteTime": {
     "end_time": "2022-04-19T02:45:59.911336Z",
     "start_time": "2022-04-19T02:45:59.752042Z"
    }
   },
   "outputs": [
    {
     "data": {
      "text/plain": [
       "((415423, 26), (228170, 25))"
      ]
     },
     "execution_count": 33,
     "metadata": {},
     "output_type": "execute_result"
    }
   ],
   "source": [
    "train['bus_route_id'] = train['bus_route_id'].astype(str)\n",
    "train['station_code'] = train['station_code'].astype(str)\n",
    "train['route_station'] = train['bus_route_id'] + ',' + train['station_code']\n",
    "\n",
    "test['bus_route_id'] = test['bus_route_id'].astype(str)\n",
    "test['station_code'] = test['station_code'].astype(str)\n",
    "test['route_station'] = test['bus_route_id'] + ',' + test['station_code']\n",
    "\n",
    "train.shape, test.shape"
   ]
  },
  {
   "cell_type": "code",
   "execution_count": 26,
   "id": "fe322d20",
   "metadata": {
    "ExecuteTime": {
     "end_time": "2022-04-19T02:37:50.037809Z",
     "start_time": "2022-04-19T02:37:49.632463Z"
    }
   },
   "outputs": [
    {
     "data": {
      "text/plain": [
       "((415423, 24), (228170, 23))"
      ]
     },
     "execution_count": 26,
     "metadata": {},
     "output_type": "execute_result"
    }
   ],
   "source": [
    "train['bus_route_id_weekday'] = train['bus_route_id'].astype(str) + ',' + train['weekday'].astype(str) \n",
    "test['bus_route_id_weekday'] = test['bus_route_id'].astype(str) + ',' + test['weekday'].astype(str) \n",
    "\n",
    "train.shape, test.shape"
   ]
  },
  {
   "cell_type": "code",
   "execution_count": 27,
   "id": "8d847ee9",
   "metadata": {
    "ExecuteTime": {
     "end_time": "2022-04-19T02:38:34.306966Z",
     "start_time": "2022-04-19T02:38:33.886627Z"
    }
   },
   "outputs": [
    {
     "data": {
      "text/plain": [
       "((415423, 25), (228170, 24))"
      ]
     },
     "execution_count": 27,
     "metadata": {},
     "output_type": "execute_result"
    }
   ],
   "source": [
    "train['station_code_weekday'] = train['station_code'].astype(str) + ',' + train['weekday'].astype(str)\n",
    "test['station_code_weekday'] = test['station_code'].astype(str) + ',' + test['weekday'].astype(str)\n",
    "\n",
    "train.shape, test.shape"
   ]
  },
  {
   "cell_type": "code",
   "execution_count": 28,
   "id": "a04501b2",
   "metadata": {
    "ExecuteTime": {
     "end_time": "2022-04-19T02:38:39.565407Z",
     "start_time": "2022-04-19T02:38:39.164716Z"
    }
   },
   "outputs": [
    {
     "data": {
      "text/plain": [
       "((415423, 26), (228170, 25))"
      ]
     },
     "execution_count": 28,
     "metadata": {},
     "output_type": "execute_result"
    }
   ],
   "source": [
    "train['route_station_weekday'] = train['route_station'].astype(str) + ',' + train['weekday'].astype(str) \n",
    "test['route_station_weekday'] = test['route_station'].astype(str) + ',' + test['weekday'].astype(str)\n",
    "\n",
    "train.shape, test.shape"
   ]
  },
  {
   "cell_type": "code",
   "execution_count": null,
   "id": "e9950422",
   "metadata": {},
   "outputs": [],
   "source": []
  },
  {
   "cell_type": "code",
   "execution_count": null,
   "id": "927542d7",
   "metadata": {},
   "outputs": [],
   "source": []
  },
  {
   "cell_type": "code",
   "execution_count": null,
   "id": "4a1d2416",
   "metadata": {},
   "outputs": [],
   "source": []
  }
 ],
 "metadata": {
  "kernelspec": {
   "display_name": "Python 3 (ipykernel)",
   "language": "python",
   "name": "python3"
  },
  "language_info": {
   "codemirror_mode": {
    "name": "ipython",
    "version": 3
   },
   "file_extension": ".py",
   "mimetype": "text/x-python",
   "name": "python",
   "nbconvert_exporter": "python",
   "pygments_lexer": "ipython3",
   "version": "3.9.7"
  },
  "toc": {
   "base_numbering": 1,
   "nav_menu": {},
   "number_sections": true,
   "sideBar": true,
   "skip_h1_title": false,
   "title_cell": "Table of Contents",
   "title_sidebar": "Contents",
   "toc_cell": false,
   "toc_position": {},
   "toc_section_display": true,
   "toc_window_display": false
  },
  "varInspector": {
   "cols": {
    "lenName": 16,
    "lenType": 16,
    "lenVar": 40
   },
   "kernels_config": {
    "python": {
     "delete_cmd_postfix": "",
     "delete_cmd_prefix": "del ",
     "library": "var_list.py",
     "varRefreshCmd": "print(var_dic_list())"
    },
    "r": {
     "delete_cmd_postfix": ") ",
     "delete_cmd_prefix": "rm(",
     "library": "var_list.r",
     "varRefreshCmd": "cat(var_dic_list()) "
    }
   },
   "types_to_exclude": [
    "module",
    "function",
    "builtin_function_or_method",
    "instance",
    "_Feature"
   ],
   "window_display": false
  }
 },
 "nbformat": 4,
 "nbformat_minor": 5
}
