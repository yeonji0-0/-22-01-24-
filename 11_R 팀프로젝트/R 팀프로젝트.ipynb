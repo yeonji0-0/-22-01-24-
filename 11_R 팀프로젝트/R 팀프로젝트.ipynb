{
 "cells": [
  {
   "cell_type": "markdown",
   "id": "5959dab2",
   "metadata": {},
   "source": [
    "# 퇴근시간 버스 승차 인원 예측"
   ]
  },
  {
   "cell_type": "code",
   "execution_count": 21,
   "id": "8741ca69",
   "metadata": {
    "ExecuteTime": {
     "end_time": "2022-04-21T00:40:38.951707Z",
     "start_time": "2022-04-21T00:40:27.095Z"
    }
   },
   "outputs": [],
   "source": [
    "train = read.csv(\"C:/Users/MEDICI/Downloads/bus_data/train.csv\",fileEncoding='utf-8',stringsAsFactors = F)\n",
    "test = read.csv(\"C:/Users/MEDICI/Downloads/bus_data/test.csv\",fileEncoding='utf-8',stringsAsFactors = F)\n",
    "bts = read.csv(\"C:/Users/MEDICI/Downloads/bus_data/bus_bts.csv\",fileEncoding='utf-8')"
   ]
  },
  {
   "cell_type": "code",
   "execution_count": 22,
   "id": "f537d914",
   "metadata": {
    "ExecuteTime": {
     "end_time": "2022-04-21T00:43:14.733012Z",
     "start_time": "2022-04-21T00:42:53.834Z"
    }
   },
   "outputs": [
    {
     "data": {
      "text/html": [
       "<table>\n",
       "<thead><tr><th scope=col>id</th><th scope=col>date</th><th scope=col>bus_route_id</th><th scope=col>in_out</th><th scope=col>station_code</th><th scope=col>station_name</th><th scope=col>latitude</th><th scope=col>longitude</th><th scope=col>X6.7_ride</th><th scope=col>X7.8_ride</th><th scope=col>...</th><th scope=col>X9.10_ride</th><th scope=col>X10.11_ride</th><th scope=col>X11.12_ride</th><th scope=col>X6.7_takeoff</th><th scope=col>X7.8_takeoff</th><th scope=col>X8.9_takeoff</th><th scope=col>X9.10_takeoff</th><th scope=col>X10.11_takeoff</th><th scope=col>X11.12_takeoff</th><th scope=col>X18.20_ride</th></tr></thead>\n",
       "<tbody>\n",
       "\t<tr><td>0                  </td><td>2019-09-01         </td><td>4270000            </td><td>시외               </td><td> 344               </td><td>제주썬호텔         </td><td>33.48990           </td><td>126.4937           </td><td>0                  </td><td> 1                 </td><td>...                </td><td> 5                 </td><td> 2                 </td><td> 6                 </td><td>0                  </td><td>0                  </td><td>0                  </td><td>0                  </td><td>0                  </td><td>0                  </td><td> 0                 </td></tr>\n",
       "\t<tr><td>1                  </td><td>2019-09-01         </td><td>4270000            </td><td>시외               </td><td> 357               </td><td>한라병원           </td><td>33.48944           </td><td>126.4851           </td><td>1                  </td><td> 4                 </td><td>...                </td><td> 2                 </td><td> 5                 </td><td> 6                 </td><td>0                  </td><td>0                  </td><td>0                  </td><td>0                  </td><td>0                  </td><td>0                  </td><td> 5                 </td></tr>\n",
       "\t<tr><td>2                  </td><td>2019-09-01         </td><td>4270000            </td><td>시외               </td><td> 432               </td><td>정존마을           </td><td>33.48181           </td><td>126.4735           </td><td>1                  </td><td> 1                 </td><td>...                </td><td> 2                 </td><td> 0                 </td><td> 0                 </td><td>0                  </td><td>0                  </td><td>0                  </td><td>0                  </td><td>0                  </td><td>0                  </td><td> 2                 </td></tr>\n",
       "\t<tr><td>3                  </td><td>2019-09-01         </td><td>4270000            </td><td>시내               </td><td>1579               </td><td>제주국제공항(600번)</td><td>33.50577           </td><td>126.4925           </td><td>0                  </td><td>17                 </td><td>...                </td><td>26                 </td><td>14                 </td><td>16                 </td><td>0                  </td><td>0                  </td><td>0                  </td><td>0                  </td><td>0                  </td><td>0                  </td><td>53                 </td></tr>\n",
       "\t<tr><td>4                  </td><td>2019-09-01         </td><td>4270000            </td><td>시내               </td><td>1646               </td><td>중문관광단지입구   </td><td>33.25579           </td><td>126.4126           </td><td>0                  </td><td> 0                 </td><td>...                </td><td> 0                 </td><td> 0                 </td><td> 0                 </td><td>0                  </td><td>0                  </td><td>0                  </td><td>1                  </td><td>0                  </td><td>0                  </td><td> 0                 </td></tr>\n",
       "\t<tr><td>5                  </td><td>2019-09-01         </td><td>4270000            </td><td>시내               </td><td>1648               </td><td>예래입구           </td><td>33.25862           </td><td>126.4044           </td><td>0                  </td><td> 0                 </td><td>...                </td><td> 0                 </td><td> 1                 </td><td> 0                 </td><td>0                  </td><td>0                  </td><td>1                  </td><td>0                  </td><td>1                  </td><td>0                  </td><td> 0                 </td></tr>\n",
       "</tbody>\n",
       "</table>\n"
      ],
      "text/latex": [
       "\\begin{tabular}{r|lllllllllllllllllllll}\n",
       " id & date & bus\\_route\\_id & in\\_out & station\\_code & station\\_name & latitude & longitude & X6.7\\_ride & X7.8\\_ride & ... & X9.10\\_ride & X10.11\\_ride & X11.12\\_ride & X6.7\\_takeoff & X7.8\\_takeoff & X8.9\\_takeoff & X9.10\\_takeoff & X10.11\\_takeoff & X11.12\\_takeoff & X18.20\\_ride\\\\\n",
       "\\hline\n",
       "\t 0                   & 2019-09-01          & 4270000             & 시외                &  344                & 제주썬호텔          & 33.48990            & 126.4937            & 0                   &  1                  & ...                 &  5                  &  2                  &  6                  & 0                   & 0                   & 0                   & 0                   & 0                   & 0                   &  0                 \\\\\n",
       "\t 1                   & 2019-09-01          & 4270000             & 시외                &  357                & 한라병원            & 33.48944            & 126.4851            & 1                   &  4                  & ...                 &  2                  &  5                  &  6                  & 0                   & 0                   & 0                   & 0                   & 0                   & 0                   &  5                 \\\\\n",
       "\t 2                   & 2019-09-01          & 4270000             & 시외                &  432                & 정존마을            & 33.48181            & 126.4735            & 1                   &  1                  & ...                 &  2                  &  0                  &  0                  & 0                   & 0                   & 0                   & 0                   & 0                   & 0                   &  2                 \\\\\n",
       "\t 3                   & 2019-09-01          & 4270000             & 시내                & 1579                & 제주국제공항(600번) & 33.50577            & 126.4925            & 0                   & 17                  & ...                 & 26                  & 14                  & 16                  & 0                   & 0                   & 0                   & 0                   & 0                   & 0                   & 53                 \\\\\n",
       "\t 4                   & 2019-09-01          & 4270000             & 시내                & 1646                & 중문관광단지입구    & 33.25579            & 126.4126            & 0                   &  0                  & ...                 &  0                  &  0                  &  0                  & 0                   & 0                   & 0                   & 1                   & 0                   & 0                   &  0                 \\\\\n",
       "\t 5                   & 2019-09-01          & 4270000             & 시내                & 1648                & 예래입구            & 33.25862            & 126.4044            & 0                   &  0                  & ...                 &  0                  &  1                  &  0                  & 0                   & 0                   & 1                   & 0                   & 1                   & 0                   &  0                 \\\\\n",
       "\\end{tabular}\n"
      ],
      "text/markdown": [
       "\n",
       "| id | date | bus_route_id | in_out | station_code | station_name | latitude | longitude | X6.7_ride | X7.8_ride | ... | X9.10_ride | X10.11_ride | X11.12_ride | X6.7_takeoff | X7.8_takeoff | X8.9_takeoff | X9.10_takeoff | X10.11_takeoff | X11.12_takeoff | X18.20_ride |\n",
       "|---|---|---|---|---|---|---|---|---|---|---|---|---|---|---|---|---|---|---|---|---|\n",
       "| 0                   | 2019-09-01          | 4270000             | 시외                |  344                | 제주썬호텔          | 33.48990            | 126.4937            | 0                   |  1                  | ...                 |  5                  |  2                  |  6                  | 0                   | 0                   | 0                   | 0                   | 0                   | 0                   |  0                  |\n",
       "| 1                   | 2019-09-01          | 4270000             | 시외                |  357                | 한라병원            | 33.48944            | 126.4851            | 1                   |  4                  | ...                 |  2                  |  5                  |  6                  | 0                   | 0                   | 0                   | 0                   | 0                   | 0                   |  5                  |\n",
       "| 2                   | 2019-09-01          | 4270000             | 시외                |  432                | 정존마을            | 33.48181            | 126.4735            | 1                   |  1                  | ...                 |  2                  |  0                  |  0                  | 0                   | 0                   | 0                   | 0                   | 0                   | 0                   |  2                  |\n",
       "| 3                   | 2019-09-01          | 4270000             | 시내                | 1579                | 제주국제공항(600번) | 33.50577            | 126.4925            | 0                   | 17                  | ...                 | 26                  | 14                  | 16                  | 0                   | 0                   | 0                   | 0                   | 0                   | 0                   | 53                  |\n",
       "| 4                   | 2019-09-01          | 4270000             | 시내                | 1646                | 중문관광단지입구    | 33.25579            | 126.4126            | 0                   |  0                  | ...                 |  0                  |  0                  |  0                  | 0                   | 0                   | 0                   | 1                   | 0                   | 0                   |  0                  |\n",
       "| 5                   | 2019-09-01          | 4270000             | 시내                | 1648                | 예래입구            | 33.25862            | 126.4044            | 0                   |  0                  | ...                 |  0                  |  1                  |  0                  | 0                   | 0                   | 1                   | 0                   | 1                   | 0                   |  0                  |\n",
       "\n"
      ],
      "text/plain": [
       "  id date       bus_route_id in_out station_code station_name        latitude\n",
       "1 0  2019-09-01 4270000      시외    344         제주썬호텔          33.48990\n",
       "2 1  2019-09-01 4270000      시외    357         한라병원            33.48944\n",
       "3 2  2019-09-01 4270000      시외    432         정존마을            33.48181\n",
       "4 3  2019-09-01 4270000      시내   1579         제주국제공항(600번) 33.50577\n",
       "5 4  2019-09-01 4270000      시내   1646         중문관광단지입구    33.25579\n",
       "6 5  2019-09-01 4270000      시내   1648         예래입구            33.25862\n",
       "  longitude X6.7_ride X7.8_ride ... X9.10_ride X10.11_ride X11.12_ride\n",
       "1 126.4937  0          1        ...  5          2           6         \n",
       "2 126.4851  1          4        ...  2          5           6         \n",
       "3 126.4735  1          1        ...  2          0           0         \n",
       "4 126.4925  0         17        ... 26         14          16         \n",
       "5 126.4126  0          0        ...  0          0           0         \n",
       "6 126.4044  0          0        ...  0          1           0         \n",
       "  X6.7_takeoff X7.8_takeoff X8.9_takeoff X9.10_takeoff X10.11_takeoff\n",
       "1 0            0            0            0             0             \n",
       "2 0            0            0            0             0             \n",
       "3 0            0            0            0             0             \n",
       "4 0            0            0            0             0             \n",
       "5 0            0            0            1             0             \n",
       "6 0            0            1            0             1             \n",
       "  X11.12_takeoff X18.20_ride\n",
       "1 0               0         \n",
       "2 0               5         \n",
       "3 0               2         \n",
       "4 0              53         \n",
       "5 0               0         \n",
       "6 0               0         "
      ]
     },
     "metadata": {},
     "output_type": "display_data"
    }
   ],
   "source": [
    "head(train)"
   ]
  },
  {
   "cell_type": "code",
   "execution_count": 41,
   "id": "39202565",
   "metadata": {
    "ExecuteTime": {
     "end_time": "2022-04-21T09:54:02.996892Z",
     "start_time": "2022-04-21T09:54:02.815Z"
    }
   },
   "outputs": [
    {
     "data": {
      "text/html": [
       "<table>\n",
       "<thead><tr><th scope=col>id</th><th scope=col>date</th><th scope=col>bus_route_id</th><th scope=col>in_out</th><th scope=col>station_code</th><th scope=col>station_name</th><th scope=col>latitude</th><th scope=col>longitude</th><th scope=col>X6.7_ride</th><th scope=col>X7.8_ride</th><th scope=col>...</th><th scope=col>r1012</th><th scope=col>t68</th><th scope=col>t810</th><th scope=col>t1012</th><th scope=col>dis_jeju</th><th scope=col>dis_gosan</th><th scope=col>dis_seongsan</th><th scope=col>dis_po</th><th scope=col>dist_min</th><th scope=col>dis_name</th></tr></thead>\n",
       "<tbody>\n",
       "\t<tr><td>415423             </td><td>2019-10-01         </td><td>4270000            </td><td>1                  </td><td> 344               </td><td>제주썬호텔         </td><td>33.48990           </td><td>126.4937           </td><td>4                  </td><td> 4                 </td><td>...                </td><td>10                 </td><td>0                  </td><td>0                  </td><td>1                  </td><td> 4286.659          </td><td>37692.77           </td><td>37713.63           </td><td>27841.88           </td><td> 4286.659          </td><td>0                  </td></tr>\n",
       "\t<tr><td>415424             </td><td>2019-10-01         </td><td>4270000            </td><td>1                  </td><td> 357               </td><td>한라병원           </td><td>33.48944           </td><td>126.4851           </td><td>1                  </td><td> 6                 </td><td>...                </td><td>19                 </td><td>0                  </td><td>0                  </td><td>0                  </td><td> 4966.848          </td><td>37008.49           </td><td>38465.82           </td><td>27996.18           </td><td> 4966.848          </td><td>0                  </td></tr>\n",
       "\t<tr><td>415425             </td><td>2019-10-01         </td><td>4270000            </td><td>1                  </td><td> 432               </td><td>정존마을           </td><td>33.48181           </td><td>126.4735           </td><td>2                  </td><td> 4                 </td><td>...                </td><td> 3                 </td><td>0                  </td><td>0                  </td><td>0                  </td><td> 6330.746          </td><td>35642.13           </td><td>39259.82           </td><td>27496.55           </td><td> 6330.746          </td><td>0                  </td></tr>\n",
       "\t<tr><td>415426             </td><td>2019-10-01         </td><td>4270000            </td><td>0                  </td><td>1579               </td><td>제주국제공항(600번)</td><td>33.50577           </td><td>126.4925           </td><td>1                  </td><td>11                 </td><td>...                </td><td>46                 </td><td>0                  </td><td>0                  </td><td>0                  </td><td> 3575.272          </td><td>38643.40           </td><td>38386.80           </td><td>29579.40           </td><td> 3575.272          </td><td>0                  </td></tr>\n",
       "\t<tr><td>415427             </td><td>2019-10-01         </td><td>4270000            </td><td>0                  </td><td>1636               </td><td>롯데호텔           </td><td>33.24872           </td><td>126.4103           </td><td>0                  </td><td> 0                 </td><td>...                </td><td> 0                 </td><td>0                  </td><td>1                  </td><td>0                  </td><td>31460.686          </td><td>23594.01           </td><td>46355.30           </td><td>14445.61           </td><td>14445.605          </td><td>0                  </td></tr>\n",
       "\t<tr><td>415428             </td><td>2019-10-01         </td><td>4270000            </td><td>0                  </td><td>1646               </td><td>중문관광단지입구   </td><td>33.25579           </td><td>126.4126           </td><td>0                  </td><td> 0                 </td><td>...                </td><td> 0                 </td><td>0                  </td><td>2                  </td><td>0                  </td><td>30652.098          </td><td>23648.36           </td><td>45899.14           </td><td>14269.79           </td><td>14269.792          </td><td>0                  </td></tr>\n",
       "</tbody>\n",
       "</table>\n"
      ],
      "text/latex": [
       "\\begin{tabular}{r|llllllllllllllllllllllllllllllll}\n",
       " id & date & bus\\_route\\_id & in\\_out & station\\_code & station\\_name & latitude & longitude & X6.7\\_ride & X7.8\\_ride & ... & r1012 & t68 & t810 & t1012 & dis\\_jeju & dis\\_gosan & dis\\_seongsan & dis\\_po & dist\\_min & dis\\_name\\\\\n",
       "\\hline\n",
       "\t 415423              & 2019-10-01          & 4270000             & 1                   &  344                & 제주썬호텔          & 33.48990            & 126.4937            & 4                   &  4                  & ...                 & 10                  & 0                   & 0                   & 1                   &  4286.659           & 37692.77            & 37713.63            & 27841.88            &  4286.659           & 0                  \\\\\n",
       "\t 415424              & 2019-10-01          & 4270000             & 1                   &  357                & 한라병원            & 33.48944            & 126.4851            & 1                   &  6                  & ...                 & 19                  & 0                   & 0                   & 0                   &  4966.848           & 37008.49            & 38465.82            & 27996.18            &  4966.848           & 0                  \\\\\n",
       "\t 415425              & 2019-10-01          & 4270000             & 1                   &  432                & 정존마을            & 33.48181            & 126.4735            & 2                   &  4                  & ...                 &  3                  & 0                   & 0                   & 0                   &  6330.746           & 35642.13            & 39259.82            & 27496.55            &  6330.746           & 0                  \\\\\n",
       "\t 415426              & 2019-10-01          & 4270000             & 0                   & 1579                & 제주국제공항(600번) & 33.50577            & 126.4925            & 1                   & 11                  & ...                 & 46                  & 0                   & 0                   & 0                   &  3575.272           & 38643.40            & 38386.80            & 29579.40            &  3575.272           & 0                  \\\\\n",
       "\t 415427              & 2019-10-01          & 4270000             & 0                   & 1636                & 롯데호텔            & 33.24872            & 126.4103            & 0                   &  0                  & ...                 &  0                  & 0                   & 1                   & 0                   & 31460.686           & 23594.01            & 46355.30            & 14445.61            & 14445.605           & 0                  \\\\\n",
       "\t 415428              & 2019-10-01          & 4270000             & 0                   & 1646                & 중문관광단지입구    & 33.25579            & 126.4126            & 0                   &  0                  & ...                 &  0                  & 0                   & 2                   & 0                   & 30652.098           & 23648.36            & 45899.14            & 14269.79            & 14269.792           & 0                  \\\\\n",
       "\\end{tabular}\n"
      ],
      "text/markdown": [
       "\n",
       "| id | date | bus_route_id | in_out | station_code | station_name | latitude | longitude | X6.7_ride | X7.8_ride | ... | r1012 | t68 | t810 | t1012 | dis_jeju | dis_gosan | dis_seongsan | dis_po | dist_min | dis_name |\n",
       "|---|---|---|---|---|---|---|---|---|---|---|---|---|---|---|---|---|---|---|---|---|\n",
       "| 415423              | 2019-10-01          | 4270000             | 1                   |  344                | 제주썬호텔          | 33.48990            | 126.4937            | 4                   |  4                  | ...                 | 10                  | 0                   | 0                   | 1                   |  4286.659           | 37692.77            | 37713.63            | 27841.88            |  4286.659           | 0                   |\n",
       "| 415424              | 2019-10-01          | 4270000             | 1                   |  357                | 한라병원            | 33.48944            | 126.4851            | 1                   |  6                  | ...                 | 19                  | 0                   | 0                   | 0                   |  4966.848           | 37008.49            | 38465.82            | 27996.18            |  4966.848           | 0                   |\n",
       "| 415425              | 2019-10-01          | 4270000             | 1                   |  432                | 정존마을            | 33.48181            | 126.4735            | 2                   |  4                  | ...                 |  3                  | 0                   | 0                   | 0                   |  6330.746           | 35642.13            | 39259.82            | 27496.55            |  6330.746           | 0                   |\n",
       "| 415426              | 2019-10-01          | 4270000             | 0                   | 1579                | 제주국제공항(600번) | 33.50577            | 126.4925            | 1                   | 11                  | ...                 | 46                  | 0                   | 0                   | 0                   |  3575.272           | 38643.40            | 38386.80            | 29579.40            |  3575.272           | 0                   |\n",
       "| 415427              | 2019-10-01          | 4270000             | 0                   | 1636                | 롯데호텔            | 33.24872            | 126.4103            | 0                   |  0                  | ...                 |  0                  | 0                   | 1                   | 0                   | 31460.686           | 23594.01            | 46355.30            | 14445.61            | 14445.605           | 0                   |\n",
       "| 415428              | 2019-10-01          | 4270000             | 0                   | 1646                | 중문관광단지입구    | 33.25579            | 126.4126            | 0                   |  0                  | ...                 |  0                  | 0                   | 2                   | 0                   | 30652.098           | 23648.36            | 45899.14            | 14269.79            | 14269.792           | 0                   |\n",
       "\n"
      ],
      "text/plain": [
       "  id     date       bus_route_id in_out station_code station_name       \n",
       "1 415423 2019-10-01 4270000      1       344         제주썬호텔         \n",
       "2 415424 2019-10-01 4270000      1       357         한라병원           \n",
       "3 415425 2019-10-01 4270000      1       432         정존마을           \n",
       "4 415426 2019-10-01 4270000      0      1579         제주국제공항(600번)\n",
       "5 415427 2019-10-01 4270000      0      1636         롯데호텔           \n",
       "6 415428 2019-10-01 4270000      0      1646         중문관광단지입구   \n",
       "  latitude longitude X6.7_ride X7.8_ride ... r1012 t68 t810 t1012 dis_jeju \n",
       "1 33.48990 126.4937  4          4        ... 10    0   0    1      4286.659\n",
       "2 33.48944 126.4851  1          6        ... 19    0   0    0      4966.848\n",
       "3 33.48181 126.4735  2          4        ...  3    0   0    0      6330.746\n",
       "4 33.50577 126.4925  1         11        ... 46    0   0    0      3575.272\n",
       "5 33.24872 126.4103  0          0        ...  0    0   1    0     31460.686\n",
       "6 33.25579 126.4126  0          0        ...  0    0   2    0     30652.098\n",
       "  dis_gosan dis_seongsan dis_po   dist_min  dis_name\n",
       "1 37692.77  37713.63     27841.88  4286.659 0       \n",
       "2 37008.49  38465.82     27996.18  4966.848 0       \n",
       "3 35642.13  39259.82     27496.55  6330.746 0       \n",
       "4 38643.40  38386.80     29579.40  3575.272 0       \n",
       "5 23594.01  46355.30     14445.61 14445.605 0       \n",
       "6 23648.36  45899.14     14269.79 14269.792 0       "
      ]
     },
     "metadata": {},
     "output_type": "display_data"
    }
   ],
   "source": [
    "head(test)"
   ]
  },
  {
   "cell_type": "code",
   "execution_count": 3,
   "id": "08bb976f",
   "metadata": {
    "ExecuteTime": {
     "end_time": "2022-04-20T04:07:28.153993Z",
     "start_time": "2022-04-20T03:30:57.286Z"
    }
   },
   "outputs": [
    {
     "data": {
      "text/html": [
       "<table>\n",
       "<thead><tr><th scope=col>user_card_id</th><th scope=col>bus_route_id</th><th scope=col>vhc_id</th><th scope=col>geton_date</th><th scope=col>geton_time</th><th scope=col>geton_station_code</th><th scope=col>geton_station_name</th><th scope=col>getoff_date</th><th scope=col>getoff_time</th><th scope=col>getoff_station_code</th><th scope=col>getoff_station_name</th><th scope=col>user_category</th><th scope=col>user_count</th></tr></thead>\n",
       "<tbody>\n",
       "\t<tr><td>1.01001e+15                 </td><td>23000000                    </td><td>149793674                   </td><td>2019-09-10                  </td><td>06:34:45                    </td><td> 360                        </td><td>노형오거리                  </td><td>2019-09-10                  </td><td>07:10:31                    </td><td> 592                        </td><td>화북초등학교                </td><td>1                           </td><td>1                           </td></tr>\n",
       "\t<tr><td>1.01001e+15                 </td><td>23000000                    </td><td>149793674                   </td><td>2019-09-10                  </td><td>06:34:58                    </td><td> 360                        </td><td>노형오거리                  </td><td>2019-09-10                  </td><td>06:56:27                    </td><td>3273                        </td><td>고산동산(광양방면)          </td><td>1                           </td><td>1                           </td></tr>\n",
       "\t<tr><td>1.01916e+15                 </td><td>21420000                    </td><td>149793535                   </td><td>2019-09-10                  </td><td>07:19:07                    </td><td>2495                        </td><td>동광환승정류장4(제주방면)   </td><td>2019-09-10                  </td><td>07:40:29                    </td><td> 431                        </td><td>정존마을                    </td><td>4                           </td><td>1                           </td></tr>\n",
       "\t<tr><td>1.01915e+15                 </td><td>21420000                    </td><td>149793512                   </td><td>2019-09-09                  </td><td>09:14:47                    </td><td>3282                        </td><td>대정환승정류장(대정읍사무소)</td><td>2019-09-09                  </td><td>10:02:46                    </td><td> 431                        </td><td>정존마을                    </td><td>1                           </td><td>1                           </td></tr>\n",
       "\t<tr><td>1.01001e+15                 </td><td>21420000                    </td><td>149793512                   </td><td>2019-09-09                  </td><td>09:28:53                    </td><td>2820                        </td><td>삼정지에듀                  </td><td>2019-09-09                  </td><td>10:21:37                    </td><td>2972                        </td><td>제주국제공항(종점)          </td><td>4                           </td><td>1                           </td></tr>\n",
       "\t<tr><td>1.01915e+15                 </td><td>31520000                    </td><td>149793453                   </td><td>2019-09-10                  </td><td>07:54:08                    </td><td> 189                        </td><td>도호동                      </td><td>2019-09-10                  </td><td>08:07:09                    </td><td>3539                        </td><td>탐라도서관                  </td><td>4                           </td><td>1                           </td></tr>\n",
       "</tbody>\n",
       "</table>\n"
      ],
      "text/latex": [
       "\\begin{tabular}{r|lllllllllllll}\n",
       " user\\_card\\_id & bus\\_route\\_id & vhc\\_id & geton\\_date & geton\\_time & geton\\_station\\_code & geton\\_station\\_name & getoff\\_date & getoff\\_time & getoff\\_station\\_code & getoff\\_station\\_name & user\\_category & user\\_count\\\\\n",
       "\\hline\n",
       "\t 1.01001e+15                  & 23000000                     & 149793674                    & 2019-09-10                   & 06:34:45                     &  360                         & 노형오거리                   & 2019-09-10                   & 07:10:31                     &  592                         & 화북초등학교                 & 1                            & 1                           \\\\\n",
       "\t 1.01001e+15                  & 23000000                     & 149793674                    & 2019-09-10                   & 06:34:58                     &  360                         & 노형오거리                   & 2019-09-10                   & 06:56:27                     & 3273                         & 고산동산(광양방면)           & 1                            & 1                           \\\\\n",
       "\t 1.01916e+15                  & 21420000                     & 149793535                    & 2019-09-10                   & 07:19:07                     & 2495                         & 동광환승정류장4(제주방면)    & 2019-09-10                   & 07:40:29                     &  431                         & 정존마을                     & 4                            & 1                           \\\\\n",
       "\t 1.01915e+15                  & 21420000                     & 149793512                    & 2019-09-09                   & 09:14:47                     & 3282                         & 대정환승정류장(대정읍사무소) & 2019-09-09                   & 10:02:46                     &  431                         & 정존마을                     & 1                            & 1                           \\\\\n",
       "\t 1.01001e+15                  & 21420000                     & 149793512                    & 2019-09-09                   & 09:28:53                     & 2820                         & 삼정지에듀                   & 2019-09-09                   & 10:21:37                     & 2972                         & 제주국제공항(종점)           & 4                            & 1                           \\\\\n",
       "\t 1.01915e+15                  & 31520000                     & 149793453                    & 2019-09-10                   & 07:54:08                     &  189                         & 도호동                       & 2019-09-10                   & 08:07:09                     & 3539                         & 탐라도서관                   & 4                            & 1                           \\\\\n",
       "\\end{tabular}\n"
      ],
      "text/markdown": [
       "\n",
       "| user_card_id | bus_route_id | vhc_id | geton_date | geton_time | geton_station_code | geton_station_name | getoff_date | getoff_time | getoff_station_code | getoff_station_name | user_category | user_count |\n",
       "|---|---|---|---|---|---|---|---|---|---|---|---|---|\n",
       "| 1.01001e+15                  | 23000000                     | 149793674                    | 2019-09-10                   | 06:34:45                     |  360                         | 노형오거리                   | 2019-09-10                   | 07:10:31                     |  592                         | 화북초등학교                 | 1                            | 1                            |\n",
       "| 1.01001e+15                  | 23000000                     | 149793674                    | 2019-09-10                   | 06:34:58                     |  360                         | 노형오거리                   | 2019-09-10                   | 06:56:27                     | 3273                         | 고산동산(광양방면)           | 1                            | 1                            |\n",
       "| 1.01916e+15                  | 21420000                     | 149793535                    | 2019-09-10                   | 07:19:07                     | 2495                         | 동광환승정류장4(제주방면)    | 2019-09-10                   | 07:40:29                     |  431                         | 정존마을                     | 4                            | 1                            |\n",
       "| 1.01915e+15                  | 21420000                     | 149793512                    | 2019-09-09                   | 09:14:47                     | 3282                         | 대정환승정류장(대정읍사무소) | 2019-09-09                   | 10:02:46                     |  431                         | 정존마을                     | 1                            | 1                            |\n",
       "| 1.01001e+15                  | 21420000                     | 149793512                    | 2019-09-09                   | 09:28:53                     | 2820                         | 삼정지에듀                   | 2019-09-09                   | 10:21:37                     | 2972                         | 제주국제공항(종점)           | 4                            | 1                            |\n",
       "| 1.01915e+15                  | 31520000                     | 149793453                    | 2019-09-10                   | 07:54:08                     |  189                         | 도호동                       | 2019-09-10                   | 08:07:09                     | 3539                         | 탐라도서관                   | 4                            | 1                            |\n",
       "\n"
      ],
      "text/plain": [
       "  user_card_id bus_route_id vhc_id    geton_date geton_time geton_station_code\n",
       "1 1.01001e+15  23000000     149793674 2019-09-10 06:34:45    360              \n",
       "2 1.01001e+15  23000000     149793674 2019-09-10 06:34:58    360              \n",
       "3 1.01916e+15  21420000     149793535 2019-09-10 07:19:07   2495              \n",
       "4 1.01915e+15  21420000     149793512 2019-09-09 09:14:47   3282              \n",
       "5 1.01001e+15  21420000     149793512 2019-09-09 09:28:53   2820              \n",
       "6 1.01915e+15  31520000     149793453 2019-09-10 07:54:08    189              \n",
       "  geton_station_name           getoff_date getoff_time getoff_station_code\n",
       "1 노형오거리                   2019-09-10  07:10:31     592               \n",
       "2 노형오거리                   2019-09-10  06:56:27    3273               \n",
       "3 동광환승정류장4(제주방면)    2019-09-10  07:40:29     431               \n",
       "4 대정환승정류장(대정읍사무소) 2019-09-09  10:02:46     431               \n",
       "5 삼정지에듀                   2019-09-09  10:21:37    2972               \n",
       "6 도호동                       2019-09-10  08:07:09    3539               \n",
       "  getoff_station_name user_category user_count\n",
       "1 화북초등학교        1             1         \n",
       "2 고산동산(광양방면)  1             1         \n",
       "3 정존마을            4             1         \n",
       "4 정존마을            1             1         \n",
       "5 제주국제공항(종점)  4             1         \n",
       "6 탐라도서관          4             1         "
      ]
     },
     "metadata": {},
     "output_type": "display_data"
    }
   ],
   "source": [
    "head(bts)"
   ]
  },
  {
   "cell_type": "markdown",
   "id": "5606af91",
   "metadata": {},
   "source": [
    "## 데이터 전처리"
   ]
  },
  {
   "cell_type": "code",
   "execution_count": 2,
   "id": "8b81b0c2",
   "metadata": {
    "ExecuteTime": {
     "end_time": "2022-04-21T00:17:17.658122Z",
     "start_time": "2022-04-21T00:16:14.730Z"
    }
   },
   "outputs": [
    {
     "name": "stderr",
     "output_type": "stream",
     "text": [
      "Warning message:\n",
      "\"package 'lubridate' was built under R version 3.6.3\"\n",
      "Attaching package: 'lubridate'\n",
      "\n",
      "The following objects are masked from 'package:base':\n",
      "\n",
      "    date, intersect, setdiff, union\n",
      "\n"
     ]
    }
   ],
   "source": [
    "library('lubridate')"
   ]
  },
  {
   "cell_type": "code",
   "execution_count": 3,
   "id": "9884b9cb",
   "metadata": {
    "ExecuteTime": {
     "end_time": "2022-04-21T00:18:28.983543Z",
     "start_time": "2022-04-21T00:17:19.704Z"
    }
   },
   "outputs": [
    {
     "data": {
      "text/html": [
       "<ol class=list-inline>\n",
       "\t<li>415423</li>\n",
       "\t<li>22</li>\n",
       "</ol>\n"
      ],
      "text/latex": [
       "\\begin{enumerate*}\n",
       "\\item 415423\n",
       "\\item 22\n",
       "\\end{enumerate*}\n"
      ],
      "text/markdown": [
       "1. 415423\n",
       "2. 22\n",
       "\n",
       "\n"
      ],
      "text/plain": [
       "[1] 415423     22"
      ]
     },
     "metadata": {},
     "output_type": "display_data"
    },
    {
     "data": {
      "text/html": [
       "<ol class=list-inline>\n",
       "\t<li>228170</li>\n",
       "\t<li>21</li>\n",
       "</ol>\n"
      ],
      "text/latex": [
       "\\begin{enumerate*}\n",
       "\\item 228170\n",
       "\\item 21\n",
       "\\end{enumerate*}\n"
      ],
      "text/markdown": [
       "1. 228170\n",
       "2. 21\n",
       "\n",
       "\n"
      ],
      "text/plain": [
       "[1] 228170     21"
      ]
     },
     "metadata": {},
     "output_type": "display_data"
    }
   ],
   "source": [
    "train$date = as.Date(train$date)\n",
    "train['weekday'] = wday(train$date)\n",
    "\n",
    "test$date = as.Date(test$date)\n",
    "test['weekday'] = wday(test$date)\n",
    "\n",
    "dim(train)\n",
    "dim(test)"
   ]
  },
  {
   "cell_type": "code",
   "execution_count": 27,
   "id": "8b63e1df",
   "metadata": {
    "ExecuteTime": {
     "end_time": "2022-04-21T00:55:32.224277Z",
     "start_time": "2022-04-21T00:55:25.850Z"
    }
   },
   "outputs": [],
   "source": [
    "train[train$in_out == \"시외\",'in_out'] <- 1\n",
    "train[train$in_out == \"시내\",'in_out'] <- 0"
   ]
  },
  {
   "cell_type": "code",
   "execution_count": 25,
   "id": "a529617d",
   "metadata": {
    "ExecuteTime": {
     "end_time": "2022-04-21T00:50:44.200857Z",
     "start_time": "2022-04-21T00:50:38.587Z"
    }
   },
   "outputs": [],
   "source": [
    "test[test$in_out == \"시외\",'in_out'] <- 1\n",
    "test[test$in_out == \"시내\",'in_out'] <-  0"
   ]
  },
  {
   "cell_type": "code",
   "execution_count": 29,
   "id": "e0eedce2",
   "metadata": {
    "ExecuteTime": {
     "end_time": "2022-04-21T01:00:34.738931Z",
     "start_time": "2022-04-21T01:00:34.696Z"
    }
   },
   "outputs": [],
   "source": [
    "train['r68']=train['X6.7_ride']+train['X7.8_ride'] # 6 ~ 8시 승차인원\n",
    "train['r810']=train['X8.9_ride']+train['X9.10_ride']\n",
    "train['r1012']=train['X10.11_ride']+train['X11.12_ride']\n",
    "\n",
    "train['t68']=train['X6.7_takeoff']+train['X7.8_takeoff'] # 6 ~ 8시 하차인원\n",
    "train['t810']=train['X8.9_takeoff']+train['X9.10_takeoff']\n",
    "train['t1012']=train['X10.11_takeoff']+train['X11.12_takeoff']"
   ]
  },
  {
   "cell_type": "code",
   "execution_count": 30,
   "id": "ba27270e",
   "metadata": {
    "ExecuteTime": {
     "end_time": "2022-04-21T01:03:06.445554Z",
     "start_time": "2022-04-21T01:00:41.281Z"
    }
   },
   "outputs": [],
   "source": [
    "test['r68']=test['X6.7_ride']+test['X7.8_ride'] # 6 ~ 8시 승차인원\n",
    "test['r810']=test['X8.9_ride']+test['X9.10_ride']\n",
    "test['r1012']=test['X10.11_ride']+test['X11.12_ride']\n",
    "\n",
    "test['t68']=test['X6.7_takeoff']+test['X7.8_takeoff'] # 6 ~ 8시 하차인원\n",
    "test['t810']=test['X8.9_takeoff']+test['X9.10_takeoff']\n",
    "test['t1012']=test['X10.11_takeoff']+test['X11.12_takeoff']"
   ]
  },
  {
   "cell_type": "markdown",
   "id": "4375ba53",
   "metadata": {},
   "source": [
    "### 원핫인코딩"
   ]
  },
  {
   "cell_type": "code",
   "execution_count": null,
   "id": "3abcd1fa",
   "metadata": {},
   "outputs": [],
   "source": [
    "library('caret')\n",
    "dmy <- dummyVars(~., data = train)\n",
    "n_train <- data.frame(predict(dmy, newdata = train))\n",
    "\n",
    "dmy <- dummyVars(~., data = test)\n",
    "n_test <- data.frame(predict(dmy, newdata = test))"
   ]
  },
  {
   "cell_type": "markdown",
   "id": "f10c8967",
   "metadata": {},
   "source": [
    "### 지역별 거리"
   ]
  },
  {
   "cell_type": "code",
   "execution_count": 33,
   "id": "08a808fe",
   "metadata": {
    "ExecuteTime": {
     "end_time": "2022-04-21T01:06:34.280982Z",
     "start_time": "2022-04-21T01:06:26.589Z"
    }
   },
   "outputs": [
    {
     "name": "stdout",
     "output_type": "stream",
     "text": [
      "\n",
      "  There is a binary version available but the source version is later:\n",
      "          binary source needs_compilation\n",
      "geosphere 1.5-10 1.5-14              TRUE\n",
      "\n",
      "  Binaries will be installed\n",
      "package 'geosphere' successfully unpacked and MD5 sums checked\n",
      "\n",
      "The downloaded binary packages are in\n",
      "\tC:\\Users\\MEDICI\\AppData\\Local\\Temp\\RtmpsFGeV2\\downloaded_packages\n"
     ]
    }
   ],
   "source": [
    "install.packages(\"geosphere\")"
   ]
  },
  {
   "cell_type": "code",
   "execution_count": 34,
   "id": "5407b299",
   "metadata": {
    "ExecuteTime": {
     "end_time": "2022-04-21T01:09:11.959394Z",
     "start_time": "2022-04-21T01:07:34.149Z"
    }
   },
   "outputs": [
    {
     "name": "stderr",
     "output_type": "stream",
     "text": [
      "Warning message:\n",
      "\"package 'geosphere' was built under R version 3.6.3\""
     ]
    }
   ],
   "source": [
    "library(\"geosphere\")\n",
    "jeju=c( 126.52969,33.51411) # 제주 측정소 근처\n",
    "gosan=c(126.16283 ,33.29382 ) #고산 측정소 근처\n",
    "seongsan=c(126.8802,33.38677 ) #성산 측정소 근처\n",
    "po=c(126.5653,33.24616 ) #서귀포 측정소 근처"
   ]
  },
  {
   "cell_type": "code",
   "execution_count": 35,
   "id": "851ca04e",
   "metadata": {
    "ExecuteTime": {
     "end_time": "2022-04-21T01:32:42.869875Z",
     "start_time": "2022-04-21T01:09:51.022Z"
    }
   },
   "outputs": [],
   "source": [
    "train['dis_jeju']=0\n",
    "train['dis_gosan']=0\n",
    "train['dis_seongsan']=0\n",
    "train['dis_po']=0\n",
    "for(i in 1:nrow(train)){\n",
    "  train$dis_jeju[i]= distGeo(jeju, c(train$longitude[i], train$latitude[i]))\n",
    "  train$dis_gosan[i]= distGeo(gosan, c(train$longitude[i], train$latitude[i]))\n",
    "  train$dis_seongsan[i]= distGeo(seongsan, c(train$longitude[i], train$latitude[i]))\n",
    "  train$dis_po[i]= distGeo(po, c(train$longitude[i], train$latitude[i]))\n",
    "\n",
    "}"
   ]
  },
  {
   "cell_type": "code",
   "execution_count": 36,
   "id": "3f7c23cf",
   "metadata": {
    "ExecuteTime": {
     "end_time": "2022-04-21T01:36:37.680739Z",
     "start_time": "2022-04-21T01:34:50.385Z"
    }
   },
   "outputs": [],
   "source": [
    "a = cbind(train['dis_jeju'] ,train['dis_gosan'],train['dis_seongsan'] ,train['dis_po'])\n",
    "train['dist_min'] = apply(a,1, min)\n",
    "train['dis_name']=0"
   ]
  },
  {
   "cell_type": "code",
   "execution_count": 37,
   "id": "cdde9dda",
   "metadata": {
    "ExecuteTime": {
     "end_time": "2022-04-21T01:42:03.505296Z",
     "start_time": "2022-04-21T01:36:39.219Z"
    }
   },
   "outputs": [],
   "source": [
    "train['dis_jeju'] = 0\n",
    "train['dis_jeju'] = 0\n",
    "train['dis_jeju'] = 0\n",
    "train['dis_jeju'] = 0"
   ]
  },
  {
   "cell_type": "code",
   "execution_count": 42,
   "id": "2757994f",
   "metadata": {
    "ExecuteTime": {
     "end_time": "2022-04-21T10:02:27.050880Z",
     "start_time": "2022-04-21T09:55:10.447Z"
    }
   },
   "outputs": [],
   "source": [
    "for(i in 1:nrow(train)){\n",
    "  if(train$dis_jeju[i] == train$dist_min[i]){\n",
    "    train$dis_name[i] = 1\n",
    "  }else if(train$dis_gosan[i] == train$dist_min[i]){\n",
    "    train$dis_name[i] = 2\n",
    "  }else if(train$dis_po[i] == train$dist_min[i]){\n",
    "    train$dis_name[i] = 3\n",
    "  }else if(train$dis_seongsan[i] == train$dist_min[i]){\n",
    "    train$dis_name[i] = 4\n",
    "  }\n",
    "}"
   ]
  },
  {
   "cell_type": "code",
   "execution_count": 43,
   "id": "2d1f0d55",
   "metadata": {
    "ExecuteTime": {
     "end_time": "2022-04-21T10:10:49.204491Z",
     "start_time": "2022-04-21T10:06:56.343Z"
    }
   },
   "outputs": [],
   "source": [
    "for(i in 1:nrow(train)){\n",
    "  if(train$dis_name [i] == '1'){\n",
    "    train$dis_jeju[i] <- 1\n",
    "  }else if(train$dis_name [i] == '2'){\n",
    "    train$dis_gosan[i] <- 1\n",
    "  }else if(train$dis_name [i] == '3'){\n",
    "    train$dis_po[i] <- 1\n",
    "  }else if(train$dis_name [i] == '4'){\n",
    "    train$dis_seongsan[i] <- 1\n",
    "  }\n",
    "}"
   ]
  },
  {
   "cell_type": "code",
   "execution_count": null,
   "id": "5f7dffed",
   "metadata": {},
   "outputs": [],
   "source": []
  },
  {
   "cell_type": "code",
   "execution_count": 39,
   "id": "c90cf778",
   "metadata": {
    "ExecuteTime": {
     "end_time": "2022-04-21T04:38:10.718003Z",
     "start_time": "2022-04-21T04:31:36.611Z"
    }
   },
   "outputs": [],
   "source": [
    "test['dis_jeju']=0\n",
    "test['dis_gosan']=0\n",
    "test['dis_seongsan']=0\n",
    "test['dis_po']=0\n",
    "for(i in 1:nrow(test)){\n",
    "  test$dis_jeju[i]= distGeo(jeju, c(test$longitude[i], test$latitude[i]))\n",
    "  test$dis_gosan[i]= distGeo(gosan, c(test$longitude[i], test$latitude[i]))\n",
    "  test$dis_seongsan[i]= distGeo(seongsan, c(test$longitude[i], test$latitude[i]))\n",
    "  test$dis_po[i]= distGeo(po, c(test$longitude[i], test$latitude[i]))\n",
    "  \n",
    "}"
   ]
  },
  {
   "cell_type": "code",
   "execution_count": 40,
   "id": "bb56aa8d",
   "metadata": {
    "ExecuteTime": {
     "end_time": "2022-04-21T04:43:43.438276Z",
     "start_time": "2022-04-21T04:41:18.505Z"
    }
   },
   "outputs": [],
   "source": [
    "b = cbind(test['dis_jeju'] ,test['dis_gosan'],test['dis_seongsan'] ,test['dis_po'])\n",
    "test['dist_min'] = apply(b,1, min)\n",
    "test['dis_name']=0"
   ]
  },
  {
   "cell_type": "code",
   "execution_count": null,
   "id": "cd0e675e",
   "metadata": {
    "ExecuteTime": {
     "start_time": "2022-04-21T10:13:42.310Z"
    }
   },
   "outputs": [],
   "source": [
    "for(i in 1:nrow(test)){\n",
    "  if(test$dis_jeju[i] == test$dist_min[i]){\n",
    "    test$dis_name[i] = 1\n",
    "  }else if(test$dis_gosan[i] == test$dist_min[i]){\n",
    "    test$dis_name[i] = 2\n",
    "  }else if(test$dis_po[i] == test$dist_min[i]){\n",
    "    test$dis_name[i] = 3\n",
    "  }else if(test$dis_seongsan[i] == test$dist_min[i]){\n",
    "    test$dis_name[i] = 4\n",
    "  }\n",
    "}"
   ]
  },
  {
   "cell_type": "code",
   "execution_count": null,
   "id": "d2d955da",
   "metadata": {},
   "outputs": [],
   "source": [
    "test['dis_jeju']=0\n",
    "test['dis_gosan']=0\n",
    "test['dis_seongsan']=0\n",
    "test['dis_po']=0\n",
    "for(i in 1:nrow(test)){\n",
    "  if(test$dis_name [i] == '1'){\n",
    "    test$dis_jeju[i] <- 1\n",
    "  }else if(test$dis_name [i] == '2'){\n",
    "    test$dis_gosan[i] <- 1\n",
    "  }else if(test$dis_name [i] == '3'){\n",
    "    test$dis_po[i] <- 1\n",
    "  }else if(test$dis_name [i] == '4'){\n",
    "    test$dis_seongsan[i] <- 1\n",
    "  }\n",
    "}"
   ]
  },
  {
   "cell_type": "code",
   "execution_count": null,
   "id": "811b77c9",
   "metadata": {},
   "outputs": [],
   "source": []
  },
  {
   "cell_type": "markdown",
   "id": "7dc55d9b",
   "metadata": {},
   "source": [
    "## 변수 관계 확인"
   ]
  },
  {
   "cell_type": "code",
   "execution_count": null,
   "id": "69c3ec74",
   "metadata": {},
   "outputs": [],
   "source": [
    "except <- c(nearZeroVar(train))\n",
    "tre <- train[-c(except,1)]\n",
    "tre <- tre[,-c(1,4)]\n",
    "correlations <- cor(tre)\n",
    "# 상관관계가 높은 것은 데이터를 걸러낸다. \n",
    "highCorr <- findCorrelation(correlations, cutoff = .75) \n",
    "tre <- tre[, -highCorr]    \n",
    "\n",
    "# 아래에 상관계수가 높은 데이터 셋을 걸러내어 데이터가 나왔다.  \n",
    "glimpse(tre)\n",
    "\n",
    "fitControl <- trainControl(method = \"repeatedcv\", number = 10, repeats = 5)\n",
    "rf_fit <- train(X18.20_ride ~ ., data = tre, method = \"rf\", trControl = fitControl, verbose = F)\n",
    "rf_fit"
   ]
  },
  {
   "cell_type": "markdown",
   "id": "62b6c787",
   "metadata": {},
   "source": [
    "## 머신러닝"
   ]
  },
  {
   "cell_type": "markdown",
   "id": "6bb50ee7",
   "metadata": {},
   "source": [
    "### lm"
   ]
  },
  {
   "cell_type": "code",
   "execution_count": null,
   "id": "71ed5f9f",
   "metadata": {},
   "outputs": [],
   "source": [
    "input_var = c('in_out' ,'station_code','latitude','longitude','weekday','r810', 'r1012', 'r68', 't68', 't810','t1012','dis_name')\n",
    "target = c('X18.20_ride')"
   ]
  },
  {
   "cell_type": "code",
   "execution_count": null,
   "id": "0c0e2765",
   "metadata": {},
   "outputs": [],
   "source": [
    "X_train <- train[input_var]\n",
    "y_train <- train[target]\n",
    "X_test <- test[input_var]"
   ]
  },
  {
   "cell_type": "code",
   "execution_count": null,
   "id": "01786a3e",
   "metadata": {},
   "outputs": [],
   "source": [
    "tr <- train[c('X18.20_ride','in_out' ,'station_code','r810', 'r1012', 'r68', 't68', 't810','t1012','Mon','Tue', 'Wed', 'Thu', 'Fri', 'Sat', 'Sun', 'dis_jeju', 'dis_gosan', 'dis_seongsan', 'dis_po')]\n",
    "test <- test[c('X18.20_ride','in_out' ,'station_code','r810', 'r1012', 'r68', 't68', 't810','t1012','Mon','Tue', 'Wed', 'Thu', 'Fri', 'Sat', 'Sun', 'dis_jeju', 'dis_gosan', 'dis_seongsan', 'dis_po')]\n",
    "\n",
    "model_lm <- lm(X18.20_ride ~  ., data = tr)\n",
    "summary(model_lm)"
   ]
  },
  {
   "cell_type": "code",
   "execution_count": null,
   "id": "6b3c3b55",
   "metadata": {},
   "outputs": [],
   "source": [
    "install.packages('forecast')\n",
    "library(forecast)\n",
    "accuracy(model_lm)"
   ]
  },
  {
   "cell_type": "markdown",
   "id": "e2bbd9d0",
   "metadata": {},
   "source": [
    "### 다중공선성 확인"
   ]
  },
  {
   "cell_type": "code",
   "execution_count": null,
   "id": "c9e19cc7",
   "metadata": {},
   "outputs": [],
   "source": [
    "install.packages(\"car\")\n",
    "library(car)\n",
    "vif(model_lm)"
   ]
  },
  {
   "cell_type": "markdown",
   "id": "a039b586",
   "metadata": {},
   "source": [
    "### RandomForest"
   ]
  },
  {
   "cell_type": "code",
   "execution_count": null,
   "id": "d6e7cc0e",
   "metadata": {},
   "outputs": [],
   "source": [
    "#install.packages('randomForest')\n",
    "library(randomForest)\n",
    "forest_m <- randomForest(X18.20_ride ~ ., data=tr)\n",
    "forest_m$predicted \n",
    "forest_m$importance\n",
    "y_pred = predict(forest_m, te)"
   ]
  },
  {
   "cell_type": "code",
   "execution_count": null,
   "id": "2ca1b989",
   "metadata": {},
   "outputs": [],
   "source": [
    "memory.size(max = TRUE)    # OS에서 얻은 최대 메모리 크기 = OS로부터 R이 사용 가능한 메모리\n",
    "memory.size(max = FALSE)   # 현재 사용중인 메모리 크기\n",
    "memory.limit(size = NA)    # 컴퓨터의 최대 메모리 한계치 \n",
    "\n",
    "# 컴퓨터의 최대 메모리 한계치 약 49GB로 높이기\n",
    "memory.limit(size = 50000)   "
   ]
  },
  {
   "cell_type": "markdown",
   "id": "7c745435",
   "metadata": {},
   "source": [
    "### SKlearn.linearRegression"
   ]
  },
  {
   "cell_type": "code",
   "execution_count": null,
   "id": "0f98ff09",
   "metadata": {},
   "outputs": [],
   "source": [
    "#install.packages('reticulate')\n",
    "library(reticulate)\n",
    "py_config()\n",
    "use_python('C:/Users/MEDICI/Anaconda3/envs/r-reticulate/python.exe')\n",
    "sk <- import('sklearn.linear_model')\n",
    "sk.met = import('sklearn.metrics')"
   ]
  },
  {
   "cell_type": "code",
   "execution_count": null,
   "id": "7578bf71",
   "metadata": {},
   "outputs": [],
   "source": [
    "# 모델 형성\n",
    "myModel = sk.met$LinearRegression()\n",
    "# 모델 학습\n",
    "myModel$fit(X_train, y_train)\n",
    "# 모델 예측\n",
    "y_pred = myModel$predict(X_train)\n",
    "sk.met$r2_score( tr$X18.20_ride , y_pred)"
   ]
  },
  {
   "cell_type": "code",
   "execution_count": null,
   "id": "fe4c2e40",
   "metadata": {},
   "outputs": [],
   "source": [
    "#모델평가\n",
    "lr_r = sk.met$r2_score(y_train, lr_pred)\n",
    "lr_r\n",
    "\n",
    "lr_rmse = sk.met$mean_squared_error(y,lr_pred)^0.5\n",
    "lr_rmse"
   ]
  },
  {
   "cell_type": "code",
   "execution_count": null,
   "id": "0cc22328",
   "metadata": {},
   "outputs": [],
   "source": [
    "lr_model$summary"
   ]
  },
  {
   "cell_type": "markdown",
   "id": "b0b91b7a",
   "metadata": {},
   "source": [
    "### sklearn.logisitRegression"
   ]
  },
  {
   "cell_type": "code",
   "execution_count": null,
   "id": "c51fd4bd",
   "metadata": {},
   "outputs": [],
   "source": [
    "# 모델형성\n",
    "logistic_model = sk$LogisticRegression()\n",
    "# 모델학습\n",
    "logistic_model$fit(X_train,y_train)"
   ]
  },
  {
   "cell_type": "code",
   "execution_count": null,
   "id": "9ef7953e",
   "metadata": {},
   "outputs": [],
   "source": [
    "#모델예측\n",
    "logistic_pred=logistic_model$predict(X_train) # 모의고사"
   ]
  },
  {
   "cell_type": "code",
   "execution_count": null,
   "id": "938dc120",
   "metadata": {},
   "outputs": [],
   "source": [
    "#모델평가\n",
    "logistic_r = sk.met$r2_score(y_train, logistic_pred)\n",
    "logistic_r\n",
    "\n",
    "logistic_rmse = sk.met$mean_squared_error(y_train,logistic_pred)^0.5\n",
    "logistic_rmse"
   ]
  },
  {
   "cell_type": "code",
   "execution_count": null,
   "id": "33945c9d",
   "metadata": {},
   "outputs": [],
   "source": [
    "stat = import('statsmodels')"
   ]
  },
  {
   "cell_type": "markdown",
   "id": "7a478011",
   "metadata": {},
   "source": [
    "### sklearn.lightgbm"
   ]
  },
  {
   "cell_type": "code",
   "execution_count": null,
   "id": "e34b574f",
   "metadata": {},
   "outputs": [],
   "source": [
    "# lightgbm\n",
    "sk1=import('lightgbm')"
   ]
  },
  {
   "cell_type": "code",
   "execution_count": null,
   "id": "cf6f90c3",
   "metadata": {},
   "outputs": [],
   "source": [
    "# 모델형성\n",
    "lgbm_model = sk1$LGBMRegressor()\n",
    "#모델학습\n",
    "lgbm_model$fit(X_train,y_train)"
   ]
  },
  {
   "cell_type": "code",
   "execution_count": null,
   "id": "fa822e34",
   "metadata": {},
   "outputs": [],
   "source": [
    "#모델예측\n",
    "lgbm_pred=lgbm_model$predict(X_train)"
   ]
  },
  {
   "cell_type": "code",
   "execution_count": null,
   "id": "2e7798ff",
   "metadata": {},
   "outputs": [],
   "source": [
    "#모델평가\n",
    "r = sk.met$r2_score(y_train, lgbm_pred)\n",
    "r\n",
    "rmse = sk.met$mean_squared_error(y_train,lgbm_pred)^0.5\n",
    "rmse"
   ]
  },
  {
   "cell_type": "markdown",
   "id": "a58822cd",
   "metadata": {},
   "source": [
    "## 제출"
   ]
  },
  {
   "cell_type": "code",
   "execution_count": null,
   "id": "f8830a04",
   "metadata": {},
   "outputs": [],
   "source": [
    "submission1 = lgbm_model$predict(test)\n",
    "head(submission1)"
   ]
  },
  {
   "cell_type": "code",
   "execution_count": null,
   "id": "7f9a6f89",
   "metadata": {},
   "outputs": [],
   "source": [
    "length(rownames(as.data.frame(submission1)))"
   ]
  },
  {
   "cell_type": "code",
   "execution_count": null,
   "id": "8ca95ac4",
   "metadata": {},
   "outputs": [],
   "source": [
    "length(rownames(origin['id']))"
   ]
  },
  {
   "cell_type": "code",
   "execution_count": null,
   "id": "119baaa6",
   "metadata": {},
   "outputs": [],
   "source": [
    "final = cbind(origin['id'], as.data.frame(submission1) )\n",
    "length(rownames(final))\n",
    "typeof(final)"
   ]
  },
  {
   "cell_type": "code",
   "execution_count": null,
   "id": "08e22ac8",
   "metadata": {},
   "outputs": [],
   "source": [
    "final = rename(final, '18~20_ride'='submission1')\n",
    "head(final)"
   ]
  },
  {
   "cell_type": "code",
   "execution_count": null,
   "id": "e37ac133",
   "metadata": {},
   "outputs": [],
   "source": [
    "write.csv(final,'submission_2조.csv',row.names=FALSE)"
   ]
  },
  {
   "cell_type": "code",
   "execution_count": null,
   "id": "4f8ed3f4",
   "metadata": {},
   "outputs": [],
   "source": []
  },
  {
   "cell_type": "code",
   "execution_count": null,
   "id": "df9de405",
   "metadata": {},
   "outputs": [],
   "source": []
  },
  {
   "cell_type": "code",
   "execution_count": null,
   "id": "09e9bd9e",
   "metadata": {},
   "outputs": [],
   "source": []
  },
  {
   "cell_type": "code",
   "execution_count": null,
   "id": "37f9ef3c",
   "metadata": {},
   "outputs": [],
   "source": []
  },
  {
   "cell_type": "code",
   "execution_count": null,
   "id": "845063d9",
   "metadata": {},
   "outputs": [],
   "source": [
    "model_lm <- lm(X18.20_ride ~ ., data = train)\n",
    "y_pred_train_lm <- predict(model_lm, newdata = train)\n",
    "rsq_train_lm <- rsquare(y_pred_train_lm, train$X18.20_ride)\n",
    "rsq_adj_train_lm <- rsquare_adj(y_pred_train_lm, train$X18.20_ride, length(model_lm$coefficients) - 1)\n",
    "\n",
    "y_pred_test_lm <- predict(model_lm, newdata = test)\n",
    "rmse_test_lm <- rmse(y_pred_test_lm, train$X18.20_ride)\n",
    "mae_test_lm <- mae(y_pred_test_lm, train$X18.20_ride)"
   ]
  },
  {
   "cell_type": "code",
   "execution_count": null,
   "id": "a9c945ad",
   "metadata": {},
   "outputs": [],
   "source": [
    "library(MASS)\n",
    "model_lm2 <- lm(medv ~ .^2, data = df_train)\n",
    "model_lm2_step <- MASS::stepAIC(model_lm2, scope = list(upper = ~ .^2, lower = ~-1))\n",
    "y_pred_train_lm2 <- predict(model_lm2_step, newdata = df_train)\n",
    "rsq_train_lm2 <- rsquare(y_pred_train_lm2, df_train$medv)\n",
    "rsq_adj_train_lm2 <- rsquare_adj(y_pred_train_lm2, df_train$medv, length(model_lm2_step$coefficients) - 1)\n",
    "\n",
    "y_pred_test_lm2 <- predict(model_lm2_step, newdata = df_test)\n",
    "rmse_test_lm2 <- rmse(y_pred_test_lm2, df_test$medv)\n",
    "mae_test_lm2 <- mae(y_pred_test_lm2, df_test$medv)"
   ]
  },
  {
   "cell_type": "code",
   "execution_count": null,
   "id": "22051bd1",
   "metadata": {},
   "outputs": [],
   "source": [
    "library(randomForest)\n",
    "model_rf <- randomForest(medv ~ ., data = df_train)\n",
    "y_pred_train_rf <- predict(model_rf, newdata = df_train)\n",
    "rsq_train_rf <- rsqare(y_pred_train_rf, df_train$medv)\n",
    "rsq_adj_train_rf <- rsqare_adj(y_pred_train_rf, df_train$medv, 13)\n",
    "\n",
    "y_pred_test_rf <- predict(model_rf, newdata = df_test)\n",
    "rmse_test_rf <- rmse(y_pred_test_rf, df_test$medv)\n",
    "mae_test_rf <- mae(y_pred_test_rf, df_test$medv)"
   ]
  }
 ],
 "metadata": {
  "kernelspec": {
   "display_name": "R",
   "language": "R",
   "name": "ir"
  },
  "language_info": {
   "codemirror_mode": "r",
   "file_extension": ".r",
   "mimetype": "text/x-r-source",
   "name": "R",
   "pygments_lexer": "r",
   "version": "3.6.1"
  },
  "toc": {
   "base_numbering": 1,
   "nav_menu": {},
   "number_sections": true,
   "sideBar": true,
   "skip_h1_title": false,
   "title_cell": "Table of Contents",
   "title_sidebar": "Contents",
   "toc_cell": false,
   "toc_position": {},
   "toc_section_display": true,
   "toc_window_display": false
  },
  "varInspector": {
   "cols": {
    "lenName": 16,
    "lenType": 16,
    "lenVar": 40
   },
   "kernels_config": {
    "python": {
     "delete_cmd_postfix": "",
     "delete_cmd_prefix": "del ",
     "library": "var_list.py",
     "varRefreshCmd": "print(var_dic_list())"
    },
    "r": {
     "delete_cmd_postfix": ") ",
     "delete_cmd_prefix": "rm(",
     "library": "var_list.r",
     "varRefreshCmd": "cat(var_dic_list()) "
    }
   },
   "types_to_exclude": [
    "module",
    "function",
    "builtin_function_or_method",
    "instance",
    "_Feature"
   ],
   "window_display": false
  }
 },
 "nbformat": 4,
 "nbformat_minor": 5
}
