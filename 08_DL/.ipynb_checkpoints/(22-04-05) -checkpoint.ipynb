{
 "cells": [
  {
   "cell_type": "markdown",
   "metadata": {
    "id": "uhcsaDFfh0fp"
   },
   "source": [
    "# Classification"
   ]
  },
  {
   "cell_type": "markdown",
   "metadata": {
    "id": "KlDF_-XoXfZq"
   },
   "source": [
    "* 참고)))이미지에 대한 분류는 뒤의 CNN에서 다루기로 하고 Pass --> 일반 데이터를 가지고 수행!!"
   ]
  },
  {
   "cell_type": "markdown",
   "metadata": {
    "id": "0m39S7uRXfZr"
   },
   "source": [
    "# 5.1 이항 분류"
   ]
  },
  {
   "cell_type": "code",
   "execution_count": null,
   "metadata": {
    "id": "p6PRuUGky7Gi"
   },
   "outputs": [],
   "source": [
    "import tensorflow as tf"
   ]
  },
  {
   "cell_type": "markdown",
   "metadata": {
    "id": "5EbgkJtYXfZs"
   },
   "source": [
    "* 데이터 컬럼 설명    \n",
    "<img src=\"https://drive.google.com/uc?id=1nPHdFRjtJOg7iBBPaSXYujiP7C5YzIeq\">"
   ]
  },
  {
   "cell_type": "code",
   "execution_count": null,
   "metadata": {
    "colab": {
     "base_uri": "https://localhost:8080/"
    },
    "executionInfo": {
     "elapsed": 1005,
     "status": "ok",
     "timestamp": 1649005286248,
     "user": {
      "displayName": "Minkyu Kwon",
      "userId": "08202342554901369599"
     },
     "user_tz": -540
    },
    "id": "dG7D-IRGhtp_",
    "outputId": "289f9b09-1a45-4f19-b1c4-64ff8d27d390"
   },
   "outputs": [
    {
     "name": "stdout",
     "output_type": "stream",
     "text": [
      "   fixed acidity  volatile acidity  citric acid  residual sugar  chlorides  \\\n",
      "0            7.4              0.70         0.00             1.9      0.076   \n",
      "1            7.8              0.88         0.00             2.6      0.098   \n",
      "2            7.8              0.76         0.04             2.3      0.092   \n",
      "3           11.2              0.28         0.56             1.9      0.075   \n",
      "4            7.4              0.70         0.00             1.9      0.076   \n",
      "\n",
      "   free sulfur dioxide  total sulfur dioxide  density    pH  sulphates  \\\n",
      "0                 11.0                  34.0   0.9978  3.51       0.56   \n",
      "1                 25.0                  67.0   0.9968  3.20       0.68   \n",
      "2                 15.0                  54.0   0.9970  3.26       0.65   \n",
      "3                 17.0                  60.0   0.9980  3.16       0.58   \n",
      "4                 11.0                  34.0   0.9978  3.51       0.56   \n",
      "\n",
      "   alcohol  quality  \n",
      "0      9.4        5  \n",
      "1      9.8        5  \n",
      "2      9.8        5  \n",
      "3      9.8        6  \n",
      "4      9.4        5  \n",
      "   fixed acidity  volatile acidity  citric acid  residual sugar  chlorides  \\\n",
      "0            7.0              0.27         0.36            20.7      0.045   \n",
      "1            6.3              0.30         0.34             1.6      0.049   \n",
      "2            8.1              0.28         0.40             6.9      0.050   \n",
      "3            7.2              0.23         0.32             8.5      0.058   \n",
      "4            7.2              0.23         0.32             8.5      0.058   \n",
      "\n",
      "   free sulfur dioxide  total sulfur dioxide  density    pH  sulphates  \\\n",
      "0                 45.0                 170.0   1.0010  3.00       0.45   \n",
      "1                 14.0                 132.0   0.9940  3.30       0.49   \n",
      "2                 30.0                  97.0   0.9951  3.26       0.44   \n",
      "3                 47.0                 186.0   0.9956  3.19       0.40   \n",
      "4                 47.0                 186.0   0.9956  3.19       0.40   \n",
      "\n",
      "   alcohol  quality  \n",
      "0      8.8        6  \n",
      "1      9.5        6  \n",
      "2     10.1        6  \n",
      "3      9.9        6  \n",
      "4      9.9        6  \n"
     ]
    }
   ],
   "source": [
    "# 5.1 와인 데이터셋 불러오기\n",
    "# 데이터가 red, white 각기 존재함!!!\n",
    "import pandas as pd\n",
    "red = pd.read_csv('http://archive.ics.uci.edu/ml/machine-learning-databases/wine-quality/winequality-red.csv', sep=';')\n",
    "white = pd.read_csv('http://archive.ics.uci.edu/ml/machine-learning-databases/wine-quality/winequality-white.csv', sep=';')\n",
    "print(red.head())\n",
    "print(white.head())"
   ]
  },
  {
   "cell_type": "code",
   "execution_count": null,
   "metadata": {
    "colab": {
     "base_uri": "https://localhost:8080/"
    },
    "executionInfo": {
     "elapsed": 303,
     "status": "ok",
     "timestamp": 1649005322056,
     "user": {
      "displayName": "Minkyu Kwon",
      "userId": "08202342554901369599"
     },
     "user_tz": -540
    },
    "id": "q1ddlvU_fcK0",
    "outputId": "52cab45e-fb0b-4d65-f9dd-2697647e3494"
   },
   "outputs": [
    {
     "name": "stdout",
     "output_type": "stream",
     "text": [
      "   fixed acidity  volatile acidity  citric acid  residual sugar  chlorides  \\\n",
      "0            7.4              0.70          0.0             1.9      0.076   \n",
      "1            7.8              0.88          0.0             2.6      0.098   \n",
      "\n",
      "   free sulfur dioxide  total sulfur dioxide  density    pH  sulphates  \\\n",
      "0                 11.0                  34.0   0.9978  3.51       0.56   \n",
      "1                 25.0                  67.0   0.9968  3.20       0.68   \n",
      "\n",
      "   alcohol  quality  type  \n",
      "0      9.4        5     0  \n",
      "1      9.8        5     0  \n",
      "   fixed acidity  volatile acidity  citric acid  residual sugar  chlorides  \\\n",
      "0            7.0              0.27         0.36            20.7      0.045   \n",
      "1            6.3              0.30         0.34             1.6      0.049   \n",
      "\n",
      "   free sulfur dioxide  total sulfur dioxide  density   pH  sulphates  \\\n",
      "0                 45.0                 170.0    1.001  3.0       0.45   \n",
      "1                 14.0                 132.0    0.994  3.3       0.49   \n",
      "\n",
      "   alcohol  quality  type  \n",
      "0      8.8        6     1  \n",
      "1      9.5        6     1  \n",
      "       fixed acidity  volatile acidity  citric acid  residual sugar  \\\n",
      "count    6497.000000       6497.000000  6497.000000     6497.000000   \n",
      "mean        7.215307          0.339666     0.318633        5.443235   \n",
      "std         1.296434          0.164636     0.145318        4.757804   \n",
      "min         3.800000          0.080000     0.000000        0.600000   \n",
      "25%         6.400000          0.230000     0.250000        1.800000   \n",
      "50%         7.000000          0.290000     0.310000        3.000000   \n",
      "75%         7.700000          0.400000     0.390000        8.100000   \n",
      "max        15.900000          1.580000     1.660000       65.800000   \n",
      "\n",
      "         chlorides  free sulfur dioxide  total sulfur dioxide      density  \\\n",
      "count  6497.000000          6497.000000           6497.000000  6497.000000   \n",
      "mean      0.056034            30.525319            115.744574     0.994697   \n",
      "std       0.035034            17.749400             56.521855     0.002999   \n",
      "min       0.009000             1.000000              6.000000     0.987110   \n",
      "25%       0.038000            17.000000             77.000000     0.992340   \n",
      "50%       0.047000            29.000000            118.000000     0.994890   \n",
      "75%       0.065000            41.000000            156.000000     0.996990   \n",
      "max       0.611000           289.000000            440.000000     1.038980   \n",
      "\n",
      "                pH    sulphates      alcohol      quality         type  \n",
      "count  6497.000000  6497.000000  6497.000000  6497.000000  6497.000000  \n",
      "mean      3.218501     0.531268    10.491801     5.818378     0.753886  \n",
      "std       0.160787     0.148806     1.192712     0.873255     0.430779  \n",
      "min       2.720000     0.220000     8.000000     3.000000     0.000000  \n",
      "25%       3.110000     0.430000     9.500000     5.000000     1.000000  \n",
      "50%       3.210000     0.510000    10.300000     6.000000     1.000000  \n",
      "75%       3.320000     0.600000    11.300000     6.000000     1.000000  \n",
      "max       4.010000     2.000000    14.900000     9.000000     1.000000  \n"
     ]
    }
   ],
   "source": [
    "# 5.2 와인 데이터셋 합치기\n",
    "# 정답지 : red = 0, white = 1\n",
    "~\n",
    "~\n",
    "print(red.head(2))\n",
    "print(white.head(2))\n",
    "\n",
    "wine = pd.concat([red, white])\n",
    "print(wine.describe())"
   ]
  },
  {
   "cell_type": "code",
   "execution_count": null,
   "metadata": {
    "colab": {
     "base_uri": "https://localhost:8080/",
     "height": 321
    },
    "executionInfo": {
     "elapsed": 754,
     "status": "ok",
     "timestamp": 1649005346604,
     "user": {
      "displayName": "Minkyu Kwon",
      "userId": "08202342554901369599"
     },
     "user_tz": -540
    },
    "id": "bCt4AfOCfcIA",
    "outputId": "72e991b0-8a7d-41b2-e9ea-59b855caa772"
   },
   "outputs": [
    {
     "data": {
      "image/png": "[encoded data removed]",
      "text/plain": [
       "<Figure size 432x288 with 1 Axes>"
      ]
     },
     "metadata": {
      "needs_background": "light"
     },
     "output_type": "display_data"
    },
    {
     "name": "stdout",
     "output_type": "stream",
     "text": [
      "1    0.753886\n",
      "0    0.246114\n",
      "Name: type, dtype: float64\n"
     ]
    }
   ],
   "source": [
    "from locale import normalize\n",
    "# 5.3 레드 와인과 화이트 와인 type 히스토그램\n",
    "import matplotlib.pyplot as plt\n",
    "# --> 대략 분포가 red:white = 1:3 정도의 비율임!!!\n",
    "plt.hist(wine['type'])\n",
    "plt.xticks([0, 1])\n",
    "plt.show()\n",
    "\n",
    "print(wine['type'].value_counts(normalize=True))"
   ]
  },
  {
   "cell_type": "code",
   "execution_count": null,
   "metadata": {
    "colab": {
     "base_uri": "https://localhost:8080/",
     "height": 372
    },
    "executionInfo": {
     "elapsed": 1841,
     "status": "ok",
     "timestamp": 1649005400417,
     "user": {
      "displayName": "Minkyu Kwon",
      "userId": "08202342554901369599"
     },
     "user_tz": -540
    },
    "id": "LYuIma8xXfZu",
    "outputId": "c222dd0c-22f8-4cfc-ec6b-7c54852c128a"
   },
   "outputs": [
    {
     "data": {
      "text/plain": [
       "<matplotlib.axes._subplots.AxesSubplot at 0x7f2bc36eac90>"
      ]
     },
     "execution_count": 5,
     "metadata": {},
     "output_type": "execute_result"
    },
    {
     "data": {
      "image/png": "[encoded data removed]",
      "text/plain": [
       "<Figure size 432x288 with 2 Axes>"
      ]
     },
     "metadata": {
      "needs_background": "light"
     },
     "output_type": "display_data"
    }
   ],
   "source": [
    "import seaborn as sns\n",
    "correlations = wine[wine.columns].corr(method='pearson')\n",
    "sns.heatmap(correlations, cmap=\"YlGnBu\", annot = True)"
   ]
  },
  {
   "cell_type": "code",
   "execution_count": null,
   "metadata": {
    "colab": {
     "base_uri": "https://localhost:8080/"
    },
    "executionInfo": {
     "elapsed": 269,
     "status": "ok",
     "timestamp": 1649005410409,
     "user": {
      "displayName": "Minkyu Kwon",
      "userId": "08202342554901369599"
     },
     "user_tz": -540
    },
    "id": "L3G-uSOQhvxf",
    "outputId": "dd5b820f-2fe3-4fea-a4f9-dc927d7b45f2"
   },
   "outputs": [
    {
     "name": "stdout",
     "output_type": "stream",
     "text": [
      "<class 'pandas.core.frame.DataFrame'>\n",
      "Int64Index: 6497 entries, 0 to 4897\n",
      "Data columns (total 13 columns):\n",
      " #   Column                Non-Null Count  Dtype  \n",
      "---  ------                --------------  -----  \n",
      " 0   fixed acidity         6497 non-null   float64\n",
      " 1   volatile acidity      6497 non-null   float64\n",
      " 2   citric acid           6497 non-null   float64\n",
      " 3   residual sugar        6497 non-null   float64\n",
      " 4   chlorides             6497 non-null   float64\n",
      " 5   free sulfur dioxide   6497 non-null   float64\n",
      " 6   total sulfur dioxide  6497 non-null   float64\n",
      " 7   density               6497 non-null   float64\n",
      " 8   pH                    6497 non-null   float64\n",
      " 9   sulphates             6497 non-null   float64\n",
      " 10  alcohol               6497 non-null   float64\n",
      " 11  quality               6497 non-null   int64  \n",
      " 12  type                  6497 non-null   int64  \n",
      "dtypes: float64(11), int64(2)\n",
      "memory usage: 710.6 KB\n",
      "None\n"
     ]
    }
   ],
   "source": [
    "# 5.4 데이터 요약 정보 확인\n",
    "# --> 운이 좋게도 빵구난 데이터가 없음!!!!\n",
    "print(wine.info())"
   ]
  },
  {
   "cell_type": "code",
   "execution_count": null,
   "metadata": {
    "colab": {
     "base_uri": "https://localhost:8080/"
    },
    "executionInfo": {
     "elapsed": 250,
     "status": "ok",
     "timestamp": 1649005447658,
     "user": {
      "displayName": "Minkyu Kwon",
      "userId": "08202342554901369599"
     },
     "user_tz": -540
    },
    "id": "c96JRczWhvpD",
    "outputId": "b0e2be1c-bf7d-4d1b-a66d-ce3989a24ebb"
   },
   "outputs": [
    {
     "name": "stdout",
     "output_type": "stream",
     "text": [
      "   fixed acidity  volatile acidity  citric acid  residual sugar  chlorides  \\\n",
      "0       0.297521          0.413333     0.000000        0.019939   0.111296   \n",
      "1       0.330579          0.533333     0.000000        0.030675   0.147841   \n",
      "2       0.330579          0.453333     0.024096        0.026074   0.137874   \n",
      "3       0.611570          0.133333     0.337349        0.019939   0.109635   \n",
      "4       0.297521          0.413333     0.000000        0.019939   0.111296   \n",
      "\n",
      "   free sulfur dioxide  total sulfur dioxide   density        pH  sulphates  \\\n",
      "0             0.034722              0.064516  0.206092  0.612403   0.191011   \n",
      "1             0.083333              0.140553  0.186813  0.372093   0.258427   \n",
      "2             0.048611              0.110599  0.190669  0.418605   0.241573   \n",
      "3             0.055556              0.124424  0.209948  0.341085   0.202247   \n",
      "4             0.034722              0.064516  0.206092  0.612403   0.191011   \n",
      "\n",
      "    alcohol   quality  type  \n",
      "0  0.202899  0.333333   0.0  \n",
      "1  0.260870  0.333333   0.0  \n",
      "2  0.260870  0.333333   0.0  \n",
      "3  0.260870  0.500000   0.0  \n",
      "4  0.202899  0.333333   0.0  \n",
      "       fixed acidity  volatile acidity  citric acid  residual sugar  \\\n",
      "count    6497.000000       6497.000000  6497.000000     6497.000000   \n",
      "mean        0.282257          0.173111     0.191948        0.074283   \n",
      "std         0.107143          0.109758     0.087541        0.072972   \n",
      "min         0.000000          0.000000     0.000000        0.000000   \n",
      "25%         0.214876          0.100000     0.150602        0.018405   \n",
      "50%         0.264463          0.140000     0.186747        0.036810   \n",
      "75%         0.322314          0.213333     0.234940        0.115031   \n",
      "max         1.000000          1.000000     1.000000        1.000000   \n",
      "\n",
      "         chlorides  free sulfur dioxide  total sulfur dioxide      density  \\\n",
      "count  6497.000000          6497.000000           6497.000000  6497.000000   \n",
      "mean      0.078129             0.102518              0.252868     0.146262   \n",
      "std       0.058195             0.061630              0.130235     0.057811   \n",
      "min       0.000000             0.000000              0.000000     0.000000   \n",
      "25%       0.048173             0.055556              0.163594     0.100829   \n",
      "50%       0.063123             0.097222              0.258065     0.149990   \n",
      "75%       0.093023             0.138889              0.345622     0.190476   \n",
      "max       1.000000             1.000000              1.000000     1.000000   \n",
      "\n",
      "                pH    sulphates      alcohol      quality         type  \n",
      "count  6497.000000  6497.000000  6497.000000  6497.000000  6497.000000  \n",
      "mean      0.386435     0.174870     0.361131     0.469730     0.753886  \n",
      "std       0.124641     0.083599     0.172857     0.145543     0.430779  \n",
      "min       0.000000     0.000000     0.000000     0.000000     0.000000  \n",
      "25%       0.302326     0.117978     0.217391     0.333333     1.000000  \n",
      "50%       0.379845     0.162921     0.333333     0.500000     1.000000  \n",
      "75%       0.465116     0.213483     0.478261     0.500000     1.000000  \n",
      "max       1.000000     1.000000     1.000000     1.000000     1.000000  \n"
     ]
    }
   ],
   "source": [
    "# 5.5 데이터 정규화\n",
    "# -> 학습의 안정성을 위해서 정규화 수행~\n",
    "wine_norm = (wine - wine.min()) / (wine.max() - wine.min())\n",
    "print(wine_norm.head())\n",
    "print(wine_norm.describe())"
   ]
  },
  {
   "cell_type": "code",
   "execution_count": null,
   "metadata": {
    "colab": {
     "base_uri": "https://localhost:8080/"
    },
    "executionInfo": {
     "elapsed": 239,
     "status": "ok",
     "timestamp": 1649005470910,
     "user": {
      "displayName": "Minkyu Kwon",
      "userId": "08202342554901369599"
     },
     "user_tz": -540
    },
    "id": "2p1n7sQ-fb5M",
    "outputId": "fdebd14b-7287-49af-be4c-2fd7c9cf45ae"
   },
   "outputs": [
    {
     "name": "stdout",
     "output_type": "stream",
     "text": [
      "      fixed acidity  volatile acidity  citric acid  residual sugar  chlorides  \\\n",
      "42         0.305785          0.273333     0.120482        0.030675   0.536545   \n",
      "937        0.677686          0.366667     0.301205        0.012270   0.102990   \n",
      "1484       0.305785          0.160000     0.144578        0.061350   0.073090   \n",
      "989        0.487603          0.143333     0.240964        0.013804   0.106312   \n",
      "2889       0.380165          0.186667     0.216867        0.161043   0.038206   \n",
      "\n",
      "      free sulfur dioxide  total sulfur dioxide   density        pH  \\\n",
      "42               0.024306              0.018433  0.186813  0.379845   \n",
      "937              0.017361              0.046083  0.208213  0.271318   \n",
      "1484             0.024306              0.294931  0.167534  0.325581   \n",
      "989              0.045139              0.034562  0.162907  0.325581   \n",
      "2889             0.069444              0.290323  0.116059  0.178295   \n",
      "\n",
      "      sulphates   alcohol   quality  type  \n",
      "42     0.382022  0.362319  0.500000   0.0  \n",
      "937    0.213483  0.347826  0.166667   0.0  \n",
      "1484   0.157303  0.159420  0.000000   1.0  \n",
      "989    0.162921  0.420290  0.500000   0.0  \n",
      "2889   0.095506  0.724638  0.500000   1.0  \n",
      "[[0.30578512 0.27333333 0.12048193 0.03067485 0.53654485 0.02430556\n",
      "  0.01843318 0.18681319 0.37984496 0.38202247 0.36231884 0.5\n",
      "  0.        ]\n",
      " [0.67768595 0.36666667 0.30120482 0.01226994 0.10299003 0.01736111\n",
      "  0.04608295 0.20821284 0.27131783 0.21348315 0.34782609 0.16666667\n",
      "  0.        ]\n",
      " [0.30578512 0.16       0.14457831 0.06134969 0.0730897  0.02430556\n",
      "  0.29493088 0.16753422 0.3255814  0.15730337 0.15942029 0.\n",
      "  1.        ]\n",
      " [0.48760331 0.14333333 0.24096386 0.01380368 0.10631229 0.04513889\n",
      "  0.03456221 0.16290727 0.3255814  0.16292135 0.42028986 0.5\n",
      "  0.        ]\n",
      " [0.38016529 0.18666667 0.21686747 0.16104294 0.03820598 0.06944444\n",
      "  0.29032258 0.11605938 0.17829457 0.09550562 0.72463768 0.5\n",
      "  1.        ]]\n"
     ]
    }
   ],
   "source": [
    "# 5.6 데이터 섞은 후 numpy array로 변환\n",
    "import numpy as np\n",
    "wine_shuffle = wine_norm.sample(frac=1)\n",
    "print(wine_shuffle.head())\n",
    "wine_np = wine_shuffle.to_numpy()\n",
    "print(wine_np[:5])"
   ]
  },
  {
   "cell_type": "markdown",
   "metadata": {
    "id": "MMD4hf0iXfZv"
   },
   "source": [
    "* 참고) tf.keras.utils.to_categorical --> one hot encoding으로 변경을 해준다!!!!!     \n",
    "아니면 아래와 같이 만들 수 있고, 아니면 scikit learn의 onehotencoding을 사용할 수 있음!!!!     "
   ]
  },
  {
   "cell_type": "code",
   "execution_count": null,
   "metadata": {
    "id": "PQXWywLuY3uN"
   },
   "outputs": [],
   "source": [
    "# 직접 one_hot 구현 예시..\n",
    "def labelMaker(val):     \n",
    "    if val == 1:     \n",
    "        return [1, 0, 0]     \n",
    "    elif val == 2:     \n",
    "        return [0, 1, 0]     \n",
    "    else:      \n",
    "        return [0, 0, 1]"
   ]
  },
  {
   "cell_type": "markdown",
   "metadata": {
    "id": "MtW-jMdNXfZw"
   },
   "source": [
    "아래 그림을 보면\n",
    "   - 최종 출력단에 있어서 해당하는 카테고리에 대한 것을 표현을 해주기 위해서는 각기 종류별로 값을 나타내야 하고, 이에 대한 효율적인 표현이 바로 one-hot-encoding이기 때문에 이렇게 활용을 하여서 변형을 하는 것임!!!!!   \n",
    "   - 그리고 \"분류\"의 문제이기 때문에 이에 대해서 최종 단에 있어서는  softmax를 활용해야 함!!!!!\n",
    "   - 분류에 대한 기준이기 때문에 기준을 categorical_crossentropy로 설정을 함.\n",
    "\n",
    "<img src=\"https://drive.google.com/uc?id=1smD9jnrEKhaACxvhuQmUgPNq3WHhT_wX\">"
   ]
  },
  {
   "cell_type": "code",
   "execution_count": null,
   "metadata": {
    "colab": {
     "base_uri": "https://localhost:8080/"
    },
    "executionInfo": {
     "elapsed": 250,
     "status": "ok",
     "timestamp": 1649005598471,
     "user": {
      "displayName": "Minkyu Kwon",
      "userId": "08202342554901369599"
     },
     "user_tz": -540
    },
    "id": "nVyMBeF9rhAb",
    "outputId": "35f15b22-9460-4890-c862-a4567c521397"
   },
   "outputs": [
    {
     "name": "stdout",
     "output_type": "stream",
     "text": [
      "[0.30578512 0.27333333 0.12048193 0.03067485 0.53654485 0.02430556\n",
      " 0.01843318 0.18681319 0.37984496 0.38202247 0.36231884 0.5       ]\n",
      "0.0\n",
      "[0.41322314 0.40333333 0.15662651 0.01533742 0.13122924 0.05208333\n",
      " 0.03917051 0.18951224 0.46511628 0.14044944 0.20289855 0.33333333]\n",
      "0.0\n",
      "[1. 0.]\n",
      "[1. 0.]\n"
     ]
    }
   ],
   "source": [
    "# 5.7 train 데이터와 test 데이터로 분리\n",
    "import tensorflow as tf\n",
    "train_idx = int(len(wine_np) * 0.8)\n",
    "train_X, train_Y = wine_np[:train_idx, :-1], wine_np[:train_idx, -1]\n",
    "test_X, test_Y = wine_np[train_idx:, :-1], wine_np[train_idx:, -1]\n",
    "\n",
    "\n",
    "print(train_X[0])\n",
    "print(train_Y[0])\n",
    "print(test_X[0])\n",
    "print(test_Y[0])\n",
    "\n",
    "# one - hot - encoding으로 쉽게 변경 처리를 하자!!!!!!!\n",
    "# --> 원하는 종류에 대해서 지정을 해야함!!!!\n",
    "train_Y = ~\n",
    "test_Y = ~\n",
    "print(train_Y[0])\n",
    "print(test_Y[0])"
   ]
  },
  {
   "cell_type": "code",
   "execution_count": null,
   "metadata": {
    "colab": {
     "base_uri": "https://localhost:8080/"
    },
    "executionInfo": {
     "elapsed": 3479,
     "status": "ok",
     "timestamp": 1649005691917,
     "user": {
      "displayName": "Minkyu Kwon",
      "userId": "08202342554901369599"
     },
     "user_tz": -540
    },
    "id": "U-X6IrxDxXzd",
    "outputId": "a4ab2b03-3b60-47f0-f71f-d699464b56f1"
   },
   "outputs": [
    {
     "name": "stdout",
     "output_type": "stream",
     "text": [
      "Model: \"sequential\"\n",
      "_________________________________________________________________\n",
      " Layer (type)                Output Shape              Param #   \n",
      "=================================================================\n",
      " dense (Dense)               (None, 48)                624       \n",
      "                                                                 \n",
      " dense_1 (Dense)             (None, 24)                1176      \n",
      "                                                                 \n",
      " dense_2 (Dense)             (None, 12)                300       \n",
      "                                                                 \n",
      " dense_3 (Dense)             (None, 2)                 26        \n",
      "                                                                 \n",
      "=================================================================\n",
      "Total params: 2,126\n",
      "Trainable params: 2,126\n",
      "Non-trainable params: 0\n",
      "_________________________________________________________________\n"
     ]
    }
   ],
   "source": [
    "# 5.8 와인 데이터셋 분류 모델 생성\n",
    "import tensorflow as tf\n",
    "model = ~\n",
    "\n",
    "~\n",
    "\n",
    "model.summary()"
   ]
  },
  {
   "cell_type": "code",
   "execution_count": null,
   "metadata": {
    "colab": {
     "base_uri": "https://localhost:8080/",
     "height": 279
    },
    "executionInfo": {
     "elapsed": 534,
     "status": "ok",
     "timestamp": 1649005785752,
     "user": {
      "displayName": "Minkyu Kwon",
      "userId": "08202342554901369599"
     },
     "user_tz": -540
    },
    "id": "lMqy51ry5htm",
    "outputId": "b42579f5-ad71-4fcc-b178-2e7a8bbfdef6"
   },
   "outputs": [
    {
     "data": {
      "image/png": "[encoded data removed]",
      "text/plain": [
       "<Figure size 432x288 with 1 Axes>"
      ]
     },
     "metadata": {
      "needs_background": "light"
     },
     "output_type": "display_data"
    }
   ],
   "source": [
    "# 그림 5.5 출력 코드\n",
    "# --> 아래 그림을 통해서 softmax 함수에서 분모에 exp를 사용하는 이유\n",
    "# --> exp는 큰 값에 더 강조를 하게 되고, 작은 값은 더 약화시킴!!\n",
    "# --> 이러한 부분을 바탕으로 확실하게 갈라주기 위해서 사용!!!\n",
    "import matplotlib.pyplot as plt\n",
    "import math\n",
    "import numpy as np\n",
    "x = np.arange(-2, 2, 0.01)\n",
    "e_x = math.e ** x\n",
    "\n",
    "plt.axhline(0, color='gray')\n",
    "plt.axvline(0, color='gray')\n",
    "plt.plot(x, x, 'b-', label='y=x')\n",
    "plt.plot(x, e_x, 'g.', label='y=e^x')\n",
    "plt.xlabel('X')\n",
    "plt.ylabel('Y')\n",
    "plt.legend()\n",
    "plt.show()"
   ]
  },
  {
   "cell_type": "code",
   "execution_count": null,
   "metadata": {
    "colab": {
     "base_uri": "https://localhost:8080/"
    },
    "executionInfo": {
     "elapsed": 19643,
     "status": "ok",
     "timestamp": 1649005813754,
     "user": {
      "displayName": "Minkyu Kwon",
      "userId": "08202342554901369599"
     },
     "user_tz": -540
    },
    "id": "hNXtNSwUxXr4",
    "outputId": "69f40fb2-c6a1-437e-9f3d-78cdff087ff1"
   },
   "outputs": [
    {
     "name": "stdout",
     "output_type": "stream",
     "text": [
      "Epoch 1/25\n",
      "122/122 [==============================] - 4s 7ms/step - loss: 0.1383 - accuracy: 0.9459 - val_loss: 0.0696 - val_accuracy: 0.9700\n",
      "Epoch 2/25\n",
      "122/122 [==============================] - 1s 5ms/step - loss: 0.0594 - accuracy: 0.9843 - val_loss: 0.0377 - val_accuracy: 0.9908\n",
      "Epoch 3/25\n",
      "122/122 [==============================] - 1s 5ms/step - loss: 0.0474 - accuracy: 0.9869 - val_loss: 0.0879 - val_accuracy: 0.9662\n",
      "Epoch 4/25\n",
      "122/122 [==============================] - 1s 5ms/step - loss: 0.0460 - accuracy: 0.9885 - val_loss: 0.0388 - val_accuracy: 0.9908\n",
      "Epoch 5/25\n",
      "122/122 [==============================] - 1s 5ms/step - loss: 0.0430 - accuracy: 0.9882 - val_loss: 0.0500 - val_accuracy: 0.9862\n",
      "Epoch 6/25\n",
      "122/122 [==============================] - 1s 5ms/step - loss: 0.0456 - accuracy: 0.9859 - val_loss: 0.0505 - val_accuracy: 0.9831\n",
      "Epoch 7/25\n",
      "122/122 [==============================] - 1s 5ms/step - loss: 0.0452 - accuracy: 0.9872 - val_loss: 0.0728 - val_accuracy: 0.9708\n",
      "Epoch 8/25\n",
      "122/122 [==============================] - 1s 5ms/step - loss: 0.0538 - accuracy: 0.9843 - val_loss: 0.0974 - val_accuracy: 0.9654\n",
      "Epoch 9/25\n",
      "122/122 [==============================] - 1s 5ms/step - loss: 0.0452 - accuracy: 0.9869 - val_loss: 0.0391 - val_accuracy: 0.9915\n",
      "Epoch 10/25\n",
      "122/122 [==============================] - 1s 5ms/step - loss: 0.0318 - accuracy: 0.9918 - val_loss: 0.0454 - val_accuracy: 0.9923\n",
      "Epoch 11/25\n",
      "122/122 [==============================] - 1s 5ms/step - loss: 0.0542 - accuracy: 0.9849 - val_loss: 0.0481 - val_accuracy: 0.9908\n",
      "Epoch 12/25\n",
      "122/122 [==============================] - 1s 5ms/step - loss: 0.0390 - accuracy: 0.9900 - val_loss: 0.0404 - val_accuracy: 0.9931\n",
      "Epoch 13/25\n",
      "122/122 [==============================] - 1s 5ms/step - loss: 0.0338 - accuracy: 0.9908 - val_loss: 0.0640 - val_accuracy: 0.9846\n",
      "Epoch 14/25\n",
      "122/122 [==============================] - 1s 5ms/step - loss: 0.0373 - accuracy: 0.9902 - val_loss: 0.0373 - val_accuracy: 0.9938\n",
      "Epoch 15/25\n",
      "122/122 [==============================] - 1s 5ms/step - loss: 0.0284 - accuracy: 0.9933 - val_loss: 0.0458 - val_accuracy: 0.9908\n",
      "Epoch 16/25\n",
      "122/122 [==============================] - 1s 5ms/step - loss: 0.0281 - accuracy: 0.9923 - val_loss: 0.0519 - val_accuracy: 0.9938\n",
      "Epoch 17/25\n",
      "122/122 [==============================] - 1s 5ms/step - loss: 0.0327 - accuracy: 0.9913 - val_loss: 0.0512 - val_accuracy: 0.9938\n",
      "Epoch 18/25\n",
      "122/122 [==============================] - 1s 6ms/step - loss: 0.0333 - accuracy: 0.9920 - val_loss: 0.0421 - val_accuracy: 0.9900\n",
      "Epoch 19/25\n",
      "122/122 [==============================] - 1s 5ms/step - loss: 0.0302 - accuracy: 0.9918 - val_loss: 0.0399 - val_accuracy: 0.9931\n",
      "Epoch 20/25\n",
      "122/122 [==============================] - 1s 5ms/step - loss: 0.0324 - accuracy: 0.9926 - val_loss: 0.0433 - val_accuracy: 0.9923\n",
      "Epoch 21/25\n",
      "122/122 [==============================] - 1s 5ms/step - loss: 0.0279 - accuracy: 0.9928 - val_loss: 0.0428 - val_accuracy: 0.9931\n",
      "Epoch 22/25\n",
      "122/122 [==============================] - 1s 5ms/step - loss: 0.0402 - accuracy: 0.9887 - val_loss: 0.0697 - val_accuracy: 0.9862\n",
      "Epoch 23/25\n",
      "122/122 [==============================] - 1s 5ms/step - loss: 0.0328 - accuracy: 0.9918 - val_loss: 0.0453 - val_accuracy: 0.9938\n",
      "Epoch 24/25\n",
      "122/122 [==============================] - 1s 5ms/step - loss: 0.0383 - accuracy: 0.9895 - val_loss: 0.0399 - val_accuracy: 0.9938\n",
      "Epoch 25/25\n",
      "122/122 [==============================] - 1s 5ms/step - loss: 0.0331 - accuracy: 0.9913 - val_loss: 0.0549 - val_accuracy: 0.9931\n"
     ]
    }
   ],
   "source": [
    "# 5.9 와인 데이터셋 분류 모델 학습\n",
    "history = model.fit(train_X, train_Y, epochs=25, batch_size=32, validation_split=0.25)"
   ]
  },
  {
   "cell_type": "code",
   "execution_count": null,
   "metadata": {
    "colab": {
     "base_uri": "https://localhost:8080/",
     "height": 283
    },
    "executionInfo": {
     "elapsed": 815,
     "status": "ok",
     "timestamp": 1649005820159,
     "user": {
      "displayName": "Minkyu Kwon",
      "userId": "08202342554901369599"
     },
     "user_tz": -540
    },
    "id": "hsI7XviYXZ39",
    "outputId": "293df39a-f521-4a1d-b227-7f60769e91de"
   },
   "outputs": [
    {
     "data": {
      "image/png": "[encoded data removed]",
      "text/plain": [
       "<Figure size 864x288 with 2 Axes>"
      ]
     },
     "metadata": {
      "needs_background": "light"
     },
     "output_type": "display_data"
    }
   ],
   "source": [
    "# 5.10 분류 모델 학습 결과 시각화\n",
    "import matplotlib.pyplot as plt\n",
    "plt.figure(figsize=(12, 4))\n",
    "\n",
    "plt.subplot(1, 2, 1)\n",
    "plt.plot(history.history['loss'], 'b-', label='loss')\n",
    "plt.plot(history.history['val_loss'], 'r--', label='val_loss')\n",
    "plt.xlabel('Epoch')\n",
    "plt.legend()\n",
    "\n",
    "plt.subplot(1, 2, 2)\n",
    "plt.plot(history.history['accuracy'], 'g-', label='accuracy')\n",
    "plt.plot(history.history['val_accuracy'], 'k--', label='val_accuracy')\n",
    "plt.xlabel('Epoch')\n",
    "plt.ylim(0.7, 1)\n",
    "plt.legend()\n",
    "\n",
    "plt.show()"
   ]
  },
  {
   "cell_type": "code",
   "execution_count": null,
   "metadata": {
    "colab": {
     "base_uri": "https://localhost:8080/"
    },
    "executionInfo": {
     "elapsed": 608,
     "status": "ok",
     "timestamp": 1649005827327,
     "user": {
      "displayName": "Minkyu Kwon",
      "userId": "08202342554901369599"
     },
     "user_tz": -540
    },
    "id": "MyFEtZSw19Ol",
    "outputId": "04c5ccaa-8ae9-41ce-9d23-74d6bcd93f5d"
   },
   "outputs": [
    {
     "name": "stdout",
     "output_type": "stream",
     "text": [
      "41/41 [==============================] - 0s 3ms/step - loss: 0.0287 - accuracy: 0.9954\n"
     ]
    },
    {
     "data": {
      "text/plain": [
       "[0.028691275045275688, 0.9953846335411072]"
      ]
     },
     "execution_count": 14,
     "metadata": {},
     "output_type": "execute_result"
    }
   ],
   "source": [
    "# 5.11 분류 모델 평가\n",
    "model.evaluate(test_X, test_Y)"
   ]
  },
  {
   "cell_type": "code",
   "execution_count": null,
   "metadata": {
    "id": "NjtI5-loXfZx"
   },
   "outputs": [],
   "source": []
  },
  {
   "cell_type": "markdown",
   "metadata": {
    "id": "UgwdVhcFIB97"
   },
   "source": [
    "# 5.2 다항 분류 : category의 종류가 3개 이상인 경우.."
   ]
  },
  {
   "cell_type": "code",
   "execution_count": null,
   "metadata": {
    "colab": {
     "base_uri": "https://localhost:8080/"
    },
    "executionInfo": {
     "elapsed": 236,
     "status": "ok",
     "timestamp": 1649005842720,
     "user": {
      "displayName": "Minkyu Kwon",
      "userId": "08202342554901369599"
     },
     "user_tz": -540
    },
    "id": "ML2KLPtsu480",
    "outputId": "401cde9a-934f-47b5-90eb-9fc55b0bc160"
   },
   "outputs": [
    {
     "name": "stdout",
     "output_type": "stream",
     "text": [
      "count    6497.000000\n",
      "mean        5.818378\n",
      "std         0.873255\n",
      "min         3.000000\n",
      "25%         5.000000\n",
      "50%         6.000000\n",
      "75%         6.000000\n",
      "max         9.000000\n",
      "Name: quality, dtype: float64\n",
      "6    2836\n",
      "5    2138\n",
      "7    1079\n",
      "4     216\n",
      "8     193\n",
      "3      30\n",
      "9       5\n",
      "Name: quality, dtype: int64\n"
     ]
    }
   ],
   "source": [
    "# 5.12 품질 데이터 확인\n",
    "print(wine['quality'].describe())\n",
    "print(wine['quality'].value_counts())"
   ]
  },
  {
   "cell_type": "code",
   "execution_count": null,
   "metadata": {
    "colab": {
     "base_uri": "https://localhost:8080/",
     "height": 265
    },
    "executionInfo": {
     "elapsed": 385,
     "status": "ok",
     "timestamp": 1649005845626,
     "user": {
      "displayName": "Minkyu Kwon",
      "userId": "08202342554901369599"
     },
     "user_tz": -540
    },
    "id": "388geJrTID5v",
    "outputId": "e257f3e5-1593-4d1f-9169-56262281c491"
   },
   "outputs": [
    {
     "data": {
      "image/png": "[encoded data removed]",
      "text/plain": [
       "<Figure size 432x288 with 1 Axes>"
      ]
     },
     "metadata": {
      "needs_background": "light"
     },
     "output_type": "display_data"
    }
   ],
   "source": [
    "# 5.13 품질 히스토그램 시각화\n",
    "import matplotlib.pyplot as plt\n",
    "plt.hist(wine['quality'], bins=7, rwidth=0.8)\n",
    "plt.show()"
   ]
  },
  {
   "cell_type": "code",
   "execution_count": null,
   "metadata": {
    "colab": {
     "base_uri": "https://localhost:8080/"
    },
    "executionInfo": {
     "elapsed": 251,
     "status": "ok",
     "timestamp": 1649005855755,
     "user": {
      "displayName": "Minkyu Kwon",
      "userId": "08202342554901369599"
     },
     "user_tz": -540
    },
    "id": "X3M81v8wtcvQ",
    "outputId": "7e2297ee-ed9a-4190-caa2-8bf6a4f600d2"
   },
   "outputs": [
    {
     "name": "stdout",
     "output_type": "stream",
     "text": [
      "count    6497.000000\n",
      "mean        0.829614\n",
      "std         0.731124\n",
      "min         0.000000\n",
      "25%         0.000000\n",
      "50%         1.000000\n",
      "75%         1.000000\n",
      "max         2.000000\n",
      "Name: new_quality, dtype: float64\n",
      "1.0    2836\n",
      "0.0    2384\n",
      "2.0    1277\n",
      "Name: new_quality, dtype: int64\n"
     ]
    }
   ],
   "source": [
    "# 5.14 품질을 3개의 범주(좋음, 보통, 나쁨)로 재분류\n",
    "# wine[\"new_quality\"] =0 \n",
    "wine.loc[wine['quality'] <= 5, 'new_quality'] = 0\n",
    "wine.loc[wine['quality'] == 6, 'new_quality'] = 1\n",
    "wine.loc[wine['quality'] >= 7, 'new_quality'] = 2\n",
    "\n",
    "print(wine['new_quality'].describe())\n",
    "print(wine['new_quality'].value_counts())"
   ]
  },
  {
   "cell_type": "code",
   "execution_count": null,
   "metadata": {
    "id": "luLAFx2rv2Sc"
   },
   "outputs": [],
   "source": [
    "# 5.15 데이터 정규화 및 train, test 데이터 분리\n",
    "del wine['quality']\n",
    "wine_norm = (wine - wine.min()) / (wine.max() - wine.min())\n",
    "wine_shuffle = wine_norm.sample(frac=1)\n",
    "wine_np = wine_shuffle.to_numpy()\n",
    "\n",
    "train_idx = int(len(wine_np) * 0.8)\n",
    "train_X, train_Y = wine_np[:train_idx, :-1], wine_np[:train_idx, -1]\n",
    "test_X, test_Y = wine_np[train_idx:, :-1], wine_np[train_idx:, -1]\n",
    "\n",
    "\n",
    "train_Y = tf.keras.utils.to_categorical(train_Y, num_classes=3)\n",
    "test_Y = tf.keras.utils.to_categorical(test_Y, num_classes=3)"
   ]
  },
  {
   "cell_type": "code",
   "execution_count": null,
   "metadata": {
    "colab": {
     "base_uri": "https://localhost:8080/"
    },
    "executionInfo": {
     "elapsed": 71627,
     "status": "ok",
     "timestamp": 1649006160829,
     "user": {
      "displayName": "Minkyu Kwon",
      "userId": "08202342554901369599"
     },
     "user_tz": -540
    },
    "id": "IwbAl3-oyZag",
    "outputId": "3bf85aba-3aaa-4a72-e2cc-1d986b2b7d92"
   },
   "outputs": [
    {
     "name": "stdout",
     "output_type": "stream",
     "text": [
      "Epoch 1/100\n",
      "122/122 [==============================] - 3s 12ms/step - loss: 0.4868 - accuracy: 0.7911 - val_loss: 0.3955 - val_accuracy: 0.8146\n",
      "Epoch 2/100\n",
      "122/122 [==============================] - 1s 10ms/step - loss: 0.4398 - accuracy: 0.7916 - val_loss: 0.4090 - val_accuracy: 0.8146\n",
      "Epoch 3/100\n",
      "122/122 [==============================] - 1s 9ms/step - loss: 0.4293 - accuracy: 0.8009 - val_loss: 0.3771 - val_accuracy: 0.8269\n",
      "Epoch 4/100\n",
      "122/122 [==============================] - 1s 10ms/step - loss: 0.4355 - accuracy: 0.7921 - val_loss: 0.3951 - val_accuracy: 0.8277\n",
      "Epoch 5/100\n",
      "122/122 [==============================] - 1s 5ms/step - loss: 0.4363 - accuracy: 0.7970 - val_loss: 0.4174 - val_accuracy: 0.8146\n",
      "Epoch 6/100\n",
      "122/122 [==============================] - 1s 5ms/step - loss: 0.4223 - accuracy: 0.7983 - val_loss: 0.4471 - val_accuracy: 0.8185\n",
      "Epoch 7/100\n",
      "122/122 [==============================] - 1s 5ms/step - loss: 0.4201 - accuracy: 0.8027 - val_loss: 0.3762 - val_accuracy: 0.8146\n",
      "Epoch 8/100\n",
      "122/122 [==============================] - 1s 5ms/step - loss: 0.4230 - accuracy: 0.8019 - val_loss: 0.4289 - val_accuracy: 0.8146\n",
      "Epoch 9/100\n",
      "122/122 [==============================] - 1s 5ms/step - loss: 0.4494 - accuracy: 0.7965 - val_loss: 0.4421 - val_accuracy: 0.8146\n",
      "Epoch 10/100\n",
      "122/122 [==============================] - 1s 10ms/step - loss: 0.4204 - accuracy: 0.7963 - val_loss: 0.3836 - val_accuracy: 0.8146\n",
      "Epoch 11/100\n",
      "122/122 [==============================] - 1s 10ms/step - loss: 0.4147 - accuracy: 0.8016 - val_loss: 0.4084 - val_accuracy: 0.7769\n",
      "Epoch 12/100\n",
      "122/122 [==============================] - 1s 11ms/step - loss: 0.4181 - accuracy: 0.7993 - val_loss: 0.4091 - val_accuracy: 0.8146\n",
      "Epoch 13/100\n",
      "122/122 [==============================] - 1s 9ms/step - loss: 0.4297 - accuracy: 0.7980 - val_loss: 0.3746 - val_accuracy: 0.8146\n",
      "Epoch 14/100\n",
      "122/122 [==============================] - 1s 9ms/step - loss: 0.4182 - accuracy: 0.8040 - val_loss: 0.3985 - val_accuracy: 0.8277\n",
      "Epoch 15/100\n",
      "122/122 [==============================] - 1s 10ms/step - loss: 0.4184 - accuracy: 0.7973 - val_loss: 0.3779 - val_accuracy: 0.8292\n",
      "Epoch 16/100\n",
      "122/122 [==============================] - 1s 5ms/step - loss: 0.4134 - accuracy: 0.8063 - val_loss: 0.3990 - val_accuracy: 0.8169\n",
      "Epoch 17/100\n",
      "122/122 [==============================] - 1s 5ms/step - loss: 0.4217 - accuracy: 0.8078 - val_loss: 0.3863 - val_accuracy: 0.8146\n",
      "Epoch 18/100\n",
      "122/122 [==============================] - 1s 5ms/step - loss: 0.4240 - accuracy: 0.7945 - val_loss: 0.3834 - val_accuracy: 0.8146\n",
      "Epoch 19/100\n",
      "122/122 [==============================] - 1s 5ms/step - loss: 0.4086 - accuracy: 0.8027 - val_loss: 0.3735 - val_accuracy: 0.8323\n",
      "Epoch 20/100\n",
      "122/122 [==============================] - 1s 5ms/step - loss: 0.4116 - accuracy: 0.8019 - val_loss: 0.3793 - val_accuracy: 0.8346\n",
      "Epoch 21/100\n",
      "122/122 [==============================] - 1s 5ms/step - loss: 0.4109 - accuracy: 0.8111 - val_loss: 0.3771 - val_accuracy: 0.8369\n",
      "Epoch 22/100\n",
      "122/122 [==============================] - 1s 5ms/step - loss: 0.4136 - accuracy: 0.8075 - val_loss: 0.3914 - val_accuracy: 0.8292\n",
      "Epoch 23/100\n",
      "122/122 [==============================] - 1s 5ms/step - loss: 0.4146 - accuracy: 0.8024 - val_loss: 0.3781 - val_accuracy: 0.8146\n",
      "Epoch 24/100\n",
      "122/122 [==============================] - 1s 5ms/step - loss: 0.4151 - accuracy: 0.7965 - val_loss: 0.3776 - val_accuracy: 0.8192\n",
      "Epoch 25/100\n",
      "122/122 [==============================] - 1s 5ms/step - loss: 0.4179 - accuracy: 0.8052 - val_loss: 0.3820 - val_accuracy: 0.8146\n",
      "Epoch 26/100\n",
      "122/122 [==============================] - 1s 5ms/step - loss: 0.4140 - accuracy: 0.8014 - val_loss: 0.3670 - val_accuracy: 0.8338\n",
      "Epoch 27/100\n",
      "122/122 [==============================] - 1s 5ms/step - loss: 0.4102 - accuracy: 0.7988 - val_loss: 0.3797 - val_accuracy: 0.8315\n",
      "Epoch 28/100\n",
      "122/122 [==============================] - 1s 5ms/step - loss: 0.4064 - accuracy: 0.8088 - val_loss: 0.4090 - val_accuracy: 0.8192\n",
      "Epoch 29/100\n",
      "122/122 [==============================] - 1s 5ms/step - loss: 0.4141 - accuracy: 0.8016 - val_loss: 0.4448 - val_accuracy: 0.7962\n",
      "Epoch 30/100\n",
      "122/122 [==============================] - 1s 5ms/step - loss: 0.4219 - accuracy: 0.8083 - val_loss: 0.3741 - val_accuracy: 0.8146\n",
      "Epoch 31/100\n",
      "122/122 [==============================] - 1s 5ms/step - loss: 0.4105 - accuracy: 0.7996 - val_loss: 0.3864 - val_accuracy: 0.8246\n",
      "Epoch 32/100\n",
      "122/122 [==============================] - 1s 5ms/step - loss: 0.4054 - accuracy: 0.8075 - val_loss: 0.4079 - val_accuracy: 0.8354\n",
      "Epoch 33/100\n",
      "122/122 [==============================] - 1s 5ms/step - loss: 0.4061 - accuracy: 0.8065 - val_loss: 0.3721 - val_accuracy: 0.8223\n",
      "Epoch 34/100\n",
      "122/122 [==============================] - 1s 5ms/step - loss: 0.4164 - accuracy: 0.8068 - val_loss: 0.3699 - val_accuracy: 0.8146\n",
      "Epoch 35/100\n",
      "122/122 [==============================] - 1s 5ms/step - loss: 0.4031 - accuracy: 0.8070 - val_loss: 0.3701 - val_accuracy: 0.8223\n",
      "Epoch 36/100\n",
      "122/122 [==============================] - 1s 5ms/step - loss: 0.4069 - accuracy: 0.8073 - val_loss: 0.3880 - val_accuracy: 0.8138\n",
      "Epoch 37/100\n",
      "122/122 [==============================] - 1s 5ms/step - loss: 0.4057 - accuracy: 0.8116 - val_loss: 0.3745 - val_accuracy: 0.8192\n",
      "Epoch 38/100\n",
      "122/122 [==============================] - 1s 5ms/step - loss: 0.4049 - accuracy: 0.8129 - val_loss: 0.3720 - val_accuracy: 0.8392\n",
      "Epoch 39/100\n",
      "122/122 [==============================] - 1s 5ms/step - loss: 0.4152 - accuracy: 0.8027 - val_loss: 0.3706 - val_accuracy: 0.8377\n",
      "Epoch 40/100\n",
      "122/122 [==============================] - 1s 5ms/step - loss: 0.4078 - accuracy: 0.8040 - val_loss: 0.3683 - val_accuracy: 0.8377\n",
      "Epoch 41/100\n",
      "122/122 [==============================] - 1s 5ms/step - loss: 0.4050 - accuracy: 0.8075 - val_loss: 0.3657 - val_accuracy: 0.8238\n",
      "Epoch 42/100\n",
      "122/122 [==============================] - 1s 5ms/step - loss: 0.4177 - accuracy: 0.8024 - val_loss: 0.3686 - val_accuracy: 0.8146\n",
      "Epoch 43/100\n",
      "122/122 [==============================] - 1s 5ms/step - loss: 0.4037 - accuracy: 0.8060 - val_loss: 0.3663 - val_accuracy: 0.8223\n",
      "Epoch 44/100\n",
      "122/122 [==============================] - 1s 5ms/step - loss: 0.4022 - accuracy: 0.8137 - val_loss: 0.3902 - val_accuracy: 0.8146\n",
      "Epoch 45/100\n",
      "122/122 [==============================] - 1s 5ms/step - loss: 0.4031 - accuracy: 0.8142 - val_loss: 0.3734 - val_accuracy: 0.8392\n",
      "Epoch 46/100\n",
      "122/122 [==============================] - 1s 5ms/step - loss: 0.4060 - accuracy: 0.8109 - val_loss: 0.3692 - val_accuracy: 0.8385\n",
      "Epoch 47/100\n",
      "122/122 [==============================] - 1s 5ms/step - loss: 0.4039 - accuracy: 0.8119 - val_loss: 0.3992 - val_accuracy: 0.8046\n",
      "Epoch 48/100\n",
      "122/122 [==============================] - 1s 5ms/step - loss: 0.4146 - accuracy: 0.8014 - val_loss: 0.3760 - val_accuracy: 0.8146\n",
      "Epoch 49/100\n",
      "122/122 [==============================] - 1s 5ms/step - loss: 0.4075 - accuracy: 0.7991 - val_loss: 0.3689 - val_accuracy: 0.8146\n",
      "Epoch 50/100\n",
      "122/122 [==============================] - 1s 5ms/step - loss: 0.4022 - accuracy: 0.8122 - val_loss: 0.3689 - val_accuracy: 0.8208\n",
      "Epoch 51/100\n",
      "122/122 [==============================] - 1s 5ms/step - loss: 0.4065 - accuracy: 0.8063 - val_loss: 0.3655 - val_accuracy: 0.8408\n",
      "Epoch 52/100\n",
      "122/122 [==============================] - 1s 6ms/step - loss: 0.4012 - accuracy: 0.8116 - val_loss: 0.3765 - val_accuracy: 0.8146\n",
      "Epoch 53/100\n",
      "122/122 [==============================] - 1s 5ms/step - loss: 0.4109 - accuracy: 0.8065 - val_loss: 0.3836 - val_accuracy: 0.8385\n",
      "Epoch 54/100\n",
      "122/122 [==============================] - 1s 5ms/step - loss: 0.4089 - accuracy: 0.8057 - val_loss: 0.3829 - val_accuracy: 0.8146\n",
      "Epoch 55/100\n",
      "122/122 [==============================] - 1s 5ms/step - loss: 0.4150 - accuracy: 0.8001 - val_loss: 0.4577 - val_accuracy: 0.8146\n",
      "Epoch 56/100\n",
      "122/122 [==============================] - 1s 5ms/step - loss: 0.4113 - accuracy: 0.8057 - val_loss: 0.3688 - val_accuracy: 0.8408\n",
      "Epoch 57/100\n",
      "122/122 [==============================] - 1s 5ms/step - loss: 0.4082 - accuracy: 0.8104 - val_loss: 0.3690 - val_accuracy: 0.8146\n",
      "Epoch 58/100\n",
      "122/122 [==============================] - 1s 5ms/step - loss: 0.4062 - accuracy: 0.8124 - val_loss: 0.3719 - val_accuracy: 0.8323\n",
      "Epoch 59/100\n",
      "122/122 [==============================] - 1s 5ms/step - loss: 0.3991 - accuracy: 0.8132 - val_loss: 0.3643 - val_accuracy: 0.8431\n",
      "Epoch 60/100\n",
      "122/122 [==============================] - 1s 5ms/step - loss: 0.4092 - accuracy: 0.8129 - val_loss: 0.3774 - val_accuracy: 0.8146\n",
      "Epoch 61/100\n",
      "122/122 [==============================] - 1s 5ms/step - loss: 0.4085 - accuracy: 0.8001 - val_loss: 0.3616 - val_accuracy: 0.8392\n",
      "Epoch 62/100\n",
      "122/122 [==============================] - 1s 5ms/step - loss: 0.4004 - accuracy: 0.8119 - val_loss: 0.3705 - val_accuracy: 0.8354\n",
      "Epoch 63/100\n",
      "122/122 [==============================] - 1s 5ms/step - loss: 0.4036 - accuracy: 0.8119 - val_loss: 0.3692 - val_accuracy: 0.8377\n",
      "Epoch 64/100\n",
      "122/122 [==============================] - 1s 5ms/step - loss: 0.4101 - accuracy: 0.8137 - val_loss: 0.3709 - val_accuracy: 0.8146\n",
      "Epoch 65/100\n",
      "122/122 [==============================] - 1s 5ms/step - loss: 0.4102 - accuracy: 0.7983 - val_loss: 0.3721 - val_accuracy: 0.8408\n",
      "Epoch 66/100\n",
      "122/122 [==============================] - 1s 5ms/step - loss: 0.4061 - accuracy: 0.7983 - val_loss: 0.3710 - val_accuracy: 0.8292\n",
      "Epoch 67/100\n",
      "122/122 [==============================] - 1s 5ms/step - loss: 0.4005 - accuracy: 0.8134 - val_loss: 0.3651 - val_accuracy: 0.8415\n",
      "Epoch 68/100\n",
      "122/122 [==============================] - 1s 5ms/step - loss: 0.4066 - accuracy: 0.8086 - val_loss: 0.3917 - val_accuracy: 0.8092\n",
      "Epoch 69/100\n",
      "122/122 [==============================] - 1s 5ms/step - loss: 0.4143 - accuracy: 0.8014 - val_loss: 0.3883 - val_accuracy: 0.8146\n",
      "Epoch 70/100\n",
      "122/122 [==============================] - 1s 5ms/step - loss: 0.4084 - accuracy: 0.7980 - val_loss: 0.3883 - val_accuracy: 0.8154\n",
      "Epoch 71/100\n",
      "122/122 [==============================] - 1s 6ms/step - loss: 0.4047 - accuracy: 0.8099 - val_loss: 0.3740 - val_accuracy: 0.8308\n",
      "Epoch 72/100\n",
      "122/122 [==============================] - 1s 5ms/step - loss: 0.4027 - accuracy: 0.8119 - val_loss: 0.3661 - val_accuracy: 0.8392\n",
      "Epoch 73/100\n",
      "122/122 [==============================] - 1s 5ms/step - loss: 0.4080 - accuracy: 0.8083 - val_loss: 0.3753 - val_accuracy: 0.8315\n",
      "Epoch 74/100\n",
      "122/122 [==============================] - 1s 5ms/step - loss: 0.4091 - accuracy: 0.8055 - val_loss: 0.3804 - val_accuracy: 0.8169\n",
      "Epoch 75/100\n",
      "122/122 [==============================] - 1s 5ms/step - loss: 0.4015 - accuracy: 0.8181 - val_loss: 0.3764 - val_accuracy: 0.8177\n",
      "Epoch 76/100\n",
      "122/122 [==============================] - 1s 5ms/step - loss: 0.4066 - accuracy: 0.8119 - val_loss: 0.4248 - val_accuracy: 0.7962\n",
      "Epoch 77/100\n",
      "122/122 [==============================] - 1s 5ms/step - loss: 0.4092 - accuracy: 0.8073 - val_loss: 0.3692 - val_accuracy: 0.8323\n",
      "Epoch 78/100\n",
      "122/122 [==============================] - 1s 5ms/step - loss: 0.4175 - accuracy: 0.8083 - val_loss: 0.3748 - val_accuracy: 0.8146\n",
      "Epoch 79/100\n",
      "122/122 [==============================] - 1s 5ms/step - loss: 0.3997 - accuracy: 0.8124 - val_loss: 0.3840 - val_accuracy: 0.8146\n",
      "Epoch 80/100\n",
      "122/122 [==============================] - 1s 5ms/step - loss: 0.4023 - accuracy: 0.8070 - val_loss: 0.4088 - val_accuracy: 0.8062\n",
      "Epoch 81/100\n",
      "122/122 [==============================] - 1s 6ms/step - loss: 0.4013 - accuracy: 0.8147 - val_loss: 0.4705 - val_accuracy: 0.8069\n",
      "Epoch 82/100\n",
      "122/122 [==============================] - 1s 5ms/step - loss: 0.4097 - accuracy: 0.8132 - val_loss: 0.3733 - val_accuracy: 0.8315\n",
      "Epoch 83/100\n",
      "122/122 [==============================] - 1s 5ms/step - loss: 0.3996 - accuracy: 0.8111 - val_loss: 0.3735 - val_accuracy: 0.8146\n",
      "Epoch 84/100\n",
      "122/122 [==============================] - 1s 5ms/step - loss: 0.4005 - accuracy: 0.8188 - val_loss: 0.3958 - val_accuracy: 0.8215\n",
      "Epoch 85/100\n",
      "122/122 [==============================] - 1s 5ms/step - loss: 0.4011 - accuracy: 0.8134 - val_loss: 0.3799 - val_accuracy: 0.8200\n",
      "Epoch 86/100\n",
      "122/122 [==============================] - 1s 6ms/step - loss: 0.4099 - accuracy: 0.8068 - val_loss: 0.3686 - val_accuracy: 0.8138\n",
      "Epoch 87/100\n",
      "122/122 [==============================] - 1s 5ms/step - loss: 0.4027 - accuracy: 0.8096 - val_loss: 0.3886 - val_accuracy: 0.8215\n",
      "Epoch 88/100\n",
      "122/122 [==============================] - 1s 5ms/step - loss: 0.4028 - accuracy: 0.8124 - val_loss: 0.3763 - val_accuracy: 0.8254\n",
      "Epoch 89/100\n",
      "122/122 [==============================] - 1s 5ms/step - loss: 0.4025 - accuracy: 0.8132 - val_loss: 0.3860 - val_accuracy: 0.8431\n",
      "Epoch 90/100\n",
      "122/122 [==============================] - 1s 5ms/step - loss: 0.3986 - accuracy: 0.8160 - val_loss: 0.3740 - val_accuracy: 0.8392\n",
      "Epoch 91/100\n",
      "122/122 [==============================] - 1s 5ms/step - loss: 0.3989 - accuracy: 0.8127 - val_loss: 0.3688 - val_accuracy: 0.8385\n",
      "Epoch 92/100\n",
      "122/122 [==============================] - 1s 5ms/step - loss: 0.4039 - accuracy: 0.8083 - val_loss: 0.3827 - val_accuracy: 0.8146\n",
      "Epoch 93/100\n",
      "122/122 [==============================] - 1s 5ms/step - loss: 0.4032 - accuracy: 0.8163 - val_loss: 0.3741 - val_accuracy: 0.8362\n",
      "Epoch 94/100\n",
      "122/122 [==============================] - 1s 5ms/step - loss: 0.3978 - accuracy: 0.8193 - val_loss: 0.3882 - val_accuracy: 0.8354\n",
      "Epoch 95/100\n",
      "122/122 [==============================] - 1s 5ms/step - loss: 0.4085 - accuracy: 0.8119 - val_loss: 0.3680 - val_accuracy: 0.8438\n",
      "Epoch 96/100\n",
      "122/122 [==============================] - 1s 5ms/step - loss: 0.4026 - accuracy: 0.8140 - val_loss: 0.4022 - val_accuracy: 0.8215\n",
      "Epoch 97/100\n",
      "122/122 [==============================] - 1s 5ms/step - loss: 0.4076 - accuracy: 0.8034 - val_loss: 0.3710 - val_accuracy: 0.8146\n",
      "Epoch 98/100\n",
      "122/122 [==============================] - 1s 6ms/step - loss: 0.4052 - accuracy: 0.8042 - val_loss: 0.3731 - val_accuracy: 0.8408\n",
      "Epoch 99/100\n",
      "122/122 [==============================] - 1s 5ms/step - loss: 0.4076 - accuracy: 0.7991 - val_loss: 0.3730 - val_accuracy: 0.8146\n",
      "Epoch 100/100\n",
      "122/122 [==============================] - 1s 5ms/step - loss: 0.4058 - accuracy: 0.8099 - val_loss: 0.3668 - val_accuracy: 0.8262\n"
     ]
    }
   ],
   "source": [
    "# 5.16 와인 데이터셋 다항 분류 모델 생성 및 학습\n",
    "model = ~\n",
    "\n",
    "~\n",
    "\n",
    "history = model.fit(train_X, train_Y, epochs=100, batch_size=32, validation_split=0.25)"
   ]
  },
  {
   "cell_type": "code",
   "execution_count": null,
   "metadata": {
    "colab": {
     "base_uri": "https://localhost:8080/",
     "height": 283
    },
    "executionInfo": {
     "elapsed": 818,
     "status": "ok",
     "timestamp": 1649006186569,
     "user": {
      "displayName": "Minkyu Kwon",
      "userId": "08202342554901369599"
     },
     "user_tz": -540
    },
    "id": "KxKz62bRymuu",
    "outputId": "17a3a60b-e656-4c84-d230-05323884e5dd"
   },
   "outputs": [
    {
     "data": {
      "image/png": "[encoded data removed]",
      "text/plain": [
       "<Figure size 864x288 with 2 Axes>"
      ]
     },
     "metadata": {
      "needs_background": "light"
     },
     "output_type": "display_data"
    }
   ],
   "source": [
    "# 5.17 다항 분류 모델 학습 결과 시각화\n",
    "import matplotlib.pyplot as plt\n",
    "plt.figure(figsize=(12, 4))\n",
    "\n",
    "plt.subplot(1, 2, 1)\n",
    "plt.plot(history.history['loss'], 'b-', label='loss')\n",
    "plt.plot(history.history['val_loss'], 'r--', label='val_loss')\n",
    "plt.xlabel('Epoch')\n",
    "plt.legend()\n",
    "\n",
    "plt.subplot(1, 2, 2)\n",
    "plt.plot(history.history['accuracy'], 'g-', label='accuracy')\n",
    "plt.plot(history.history['val_accuracy'], 'k--', label='val_accuracy')\n",
    "plt.xlabel('Epoch')\n",
    "plt.ylim(0.7, 1)\n",
    "plt.legend()\n",
    "\n",
    "plt.show()"
   ]
  },
  {
   "cell_type": "code",
   "execution_count": null,
   "metadata": {
    "colab": {
     "base_uri": "https://localhost:8080/"
    },
    "executionInfo": {
     "elapsed": 248,
     "status": "ok",
     "timestamp": 1649006197371,
     "user": {
      "displayName": "Minkyu Kwon",
      "userId": "08202342554901369599"
     },
     "user_tz": -540
    },
    "id": "Z9HwDTedynEK",
    "outputId": "474ea26e-0b3a-4cbe-d10f-1904e3074a6e"
   },
   "outputs": [
    {
     "name": "stdout",
     "output_type": "stream",
     "text": [
      "41/41 [==============================] - 0s 3ms/step - loss: 0.3636 - accuracy: 0.8331\n"
     ]
    },
    {
     "data": {
      "text/plain": [
       "[0.3636229336261749, 0.8330768942832947]"
      ]
     },
     "execution_count": 23,
     "metadata": {},
     "output_type": "execute_result"
    }
   ],
   "source": [
    "# 5.18 다항 분류 모델 평가\n",
    "model.evaluate(test_X, test_Y)"
   ]
  },
  {
   "cell_type": "markdown",
   "metadata": {
    "id": "ga380nVnXfZz"
   },
   "source": [
    "---> 이러한 경우에는 좀 더 향상을 할 수 있는 방법을 고민을 해야한다. 네트워크 구조 변경, 학습률 변경 등..."
   ]
  },
  {
   "cell_type": "code",
   "execution_count": null,
   "metadata": {
    "id": "iBPE2b1kXfZz"
   },
   "outputs": [],
   "source": []
  },
  {
   "cell_type": "code",
   "execution_count": null,
   "metadata": {
    "id": "WocuhXn3XfZz"
   },
   "outputs": [],
   "source": []
  },
  {
   "cell_type": "markdown",
   "metadata": {
    "id": "Lv58_w5cIEJC"
   },
   "source": [
    "# 5.3 Fashion MNIST"
   ]
  },
  {
   "cell_type": "markdown",
   "metadata": {
    "id": "sQwG3pAOXfZz"
   },
   "source": [
    "<img src=\"https://drive.google.com/uc?id=1_axH4QGvO9sH34AzX1TTvhi15k-e8eUJ\">"
   ]
  },
  {
   "cell_type": "markdown",
   "metadata": {
    "id": "VjsRq0orXfZz"
   },
   "source": [
    "<img src=\"https://drive.google.com/uc?id=16aESc_8JOYsgCLSrWy2A8XuTAExteYQ3\">"
   ]
  },
  {
   "cell_type": "code",
   "execution_count": null,
   "metadata": {
    "colab": {
     "base_uri": "https://localhost:8080/"
    },
    "executionInfo": {
     "elapsed": 1851,
     "status": "ok",
     "timestamp": 1649006847159,
     "user": {
      "displayName": "Minkyu Kwon",
      "userId": "08202342554901369599"
     },
     "user_tz": -540
    },
    "id": "CRAtra4MIHy8",
    "outputId": "1fc609eb-ba89-4882-93a2-228d024e9b73"
   },
   "outputs": [
    {
     "name": "stdout",
     "output_type": "stream",
     "text": [
      "60000 10000\n"
     ]
    }
   ],
   "source": [
    "# 5.19 Fashion MNIST 데이터셋 불러오기\n",
    "fashion_mnist = tf.keras.datasets.fashion_mnist\n",
    "(train_X, train_Y), (test_X, test_Y) = fashion_mnist.load_data()\n",
    "\n",
    "print(len(train_X), len(test_X))"
   ]
  },
  {
   "cell_type": "code",
   "execution_count": null,
   "metadata": {
    "colab": {
     "base_uri": "https://localhost:8080/",
     "height": 284
    },
    "executionInfo": {
     "elapsed": 1142,
     "status": "ok",
     "timestamp": 1649006856593,
     "user": {
      "displayName": "Minkyu Kwon",
      "userId": "08202342554901369599"
     },
     "user_tz": -540
    },
    "id": "otHQI8i39n1w",
    "outputId": "3150bd63-186f-4646-e302-4d57bdf87220"
   },
   "outputs": [
    {
     "data": {
      "image/png": "[encoded data removed]",
      "text/plain": [
       "<Figure size 432x288 with 2 Axes>"
      ]
     },
     "metadata": {
      "needs_background": "light"
     },
     "output_type": "display_data"
    },
    {
     "name": "stdout",
     "output_type": "stream",
     "text": [
      "9\n"
     ]
    }
   ],
   "source": [
    "# 5.20 데이터 확인\n",
    "import matplotlib.pyplot as plt\n",
    "plt.imshow(train_X[0], cmap='gray')\n",
    "plt.colorbar()\n",
    "plt.show()\n",
    "\n",
    "print(train_Y[0])"
   ]
  },
  {
   "cell_type": "code",
   "execution_count": null,
   "metadata": {
    "colab": {
     "base_uri": "https://localhost:8080/"
    },
    "executionInfo": {
     "elapsed": 631,
     "status": "ok",
     "timestamp": 1649006858281,
     "user": {
      "displayName": "Minkyu Kwon",
      "userId": "08202342554901369599"
     },
     "user_tz": -540
    },
    "id": "x_77OWMp9oLx",
    "outputId": "d1818f8f-ba53-4345-b2e5-6d35c533f657"
   },
   "outputs": [
    {
     "name": "stdout",
     "output_type": "stream",
     "text": [
      "[[0.         0.         0.         0.         0.         0.\n",
      "  0.         0.         0.         0.         0.         0.\n",
      "  0.         0.         0.         0.         0.         0.\n",
      "  0.         0.         0.         0.         0.         0.\n",
      "  0.         0.         0.         0.        ]\n",
      " [0.         0.         0.         0.         0.         0.\n",
      "  0.         0.         0.         0.         0.         0.\n",
      "  0.         0.         0.         0.         0.         0.\n",
      "  0.         0.         0.         0.         0.         0.\n",
      "  0.         0.         0.         0.        ]\n",
      " [0.         0.         0.         0.         0.         0.\n",
      "  0.         0.         0.         0.         0.         0.\n",
      "  0.         0.         0.         0.         0.         0.\n",
      "  0.         0.         0.         0.         0.         0.\n",
      "  0.         0.         0.         0.        ]\n",
      " [0.         0.         0.         0.         0.         0.\n",
      "  0.         0.         0.         0.         0.         0.\n",
      "  0.00392157 0.         0.         0.05098039 0.28627451 0.\n",
      "  0.         0.00392157 0.01568627 0.         0.         0.\n",
      "  0.         0.00392157 0.00392157 0.        ]\n",
      " [0.         0.         0.         0.         0.         0.\n",
      "  0.         0.         0.         0.         0.         0.\n",
      "  0.01176471 0.         0.14117647 0.53333333 0.49803922 0.24313725\n",
      "  0.21176471 0.         0.         0.         0.00392157 0.01176471\n",
      "  0.01568627 0.         0.         0.01176471]\n",
      " [0.         0.         0.         0.         0.         0.\n",
      "  0.         0.         0.         0.         0.         0.\n",
      "  0.02352941 0.         0.4        0.8        0.69019608 0.5254902\n",
      "  0.56470588 0.48235294 0.09019608 0.         0.         0.\n",
      "  0.         0.04705882 0.03921569 0.        ]\n",
      " [0.         0.         0.         0.         0.         0.\n",
      "  0.         0.         0.         0.         0.         0.\n",
      "  0.         0.         0.60784314 0.9254902  0.81176471 0.69803922\n",
      "  0.41960784 0.61176471 0.63137255 0.42745098 0.25098039 0.09019608\n",
      "  0.30196078 0.50980392 0.28235294 0.05882353]\n",
      " [0.         0.         0.         0.         0.         0.\n",
      "  0.         0.         0.         0.         0.         0.00392157\n",
      "  0.         0.27058824 0.81176471 0.8745098  0.85490196 0.84705882\n",
      "  0.84705882 0.63921569 0.49803922 0.4745098  0.47843137 0.57254902\n",
      "  0.55294118 0.34509804 0.6745098  0.25882353]\n",
      " [0.         0.         0.         0.         0.         0.\n",
      "  0.         0.         0.         0.00392157 0.00392157 0.00392157\n",
      "  0.         0.78431373 0.90980392 0.90980392 0.91372549 0.89803922\n",
      "  0.8745098  0.8745098  0.84313725 0.83529412 0.64313725 0.49803922\n",
      "  0.48235294 0.76862745 0.89803922 0.        ]\n",
      " [0.         0.         0.         0.         0.         0.\n",
      "  0.         0.         0.         0.         0.         0.\n",
      "  0.         0.71764706 0.88235294 0.84705882 0.8745098  0.89411765\n",
      "  0.92156863 0.89019608 0.87843137 0.87058824 0.87843137 0.86666667\n",
      "  0.8745098  0.96078431 0.67843137 0.        ]\n",
      " [0.         0.         0.         0.         0.         0.\n",
      "  0.         0.         0.         0.         0.         0.\n",
      "  0.         0.75686275 0.89411765 0.85490196 0.83529412 0.77647059\n",
      "  0.70588235 0.83137255 0.82352941 0.82745098 0.83529412 0.8745098\n",
      "  0.8627451  0.95294118 0.79215686 0.        ]\n",
      " [0.         0.         0.         0.         0.         0.\n",
      "  0.         0.         0.         0.00392157 0.01176471 0.\n",
      "  0.04705882 0.85882353 0.8627451  0.83137255 0.85490196 0.75294118\n",
      "  0.6627451  0.89019608 0.81568627 0.85490196 0.87843137 0.83137255\n",
      "  0.88627451 0.77254902 0.81960784 0.20392157]\n",
      " [0.         0.         0.         0.         0.         0.\n",
      "  0.         0.         0.         0.         0.02352941 0.\n",
      "  0.38823529 0.95686275 0.87058824 0.8627451  0.85490196 0.79607843\n",
      "  0.77647059 0.86666667 0.84313725 0.83529412 0.87058824 0.8627451\n",
      "  0.96078431 0.46666667 0.65490196 0.21960784]\n",
      " [0.         0.         0.         0.         0.         0.\n",
      "  0.         0.         0.         0.01568627 0.         0.\n",
      "  0.21568627 0.9254902  0.89411765 0.90196078 0.89411765 0.94117647\n",
      "  0.90980392 0.83529412 0.85490196 0.8745098  0.91764706 0.85098039\n",
      "  0.85098039 0.81960784 0.36078431 0.        ]\n",
      " [0.         0.         0.00392157 0.01568627 0.02352941 0.02745098\n",
      "  0.00784314 0.         0.         0.         0.         0.\n",
      "  0.92941176 0.88627451 0.85098039 0.8745098  0.87058824 0.85882353\n",
      "  0.87058824 0.86666667 0.84705882 0.8745098  0.89803922 0.84313725\n",
      "  0.85490196 1.         0.30196078 0.        ]\n",
      " [0.         0.01176471 0.         0.         0.         0.\n",
      "  0.         0.         0.         0.24313725 0.56862745 0.8\n",
      "  0.89411765 0.81176471 0.83529412 0.86666667 0.85490196 0.81568627\n",
      "  0.82745098 0.85490196 0.87843137 0.8745098  0.85882353 0.84313725\n",
      "  0.87843137 0.95686275 0.62352941 0.        ]\n",
      " [0.         0.         0.         0.         0.07058824 0.17254902\n",
      "  0.32156863 0.41960784 0.74117647 0.89411765 0.8627451  0.87058824\n",
      "  0.85098039 0.88627451 0.78431373 0.80392157 0.82745098 0.90196078\n",
      "  0.87843137 0.91764706 0.69019608 0.7372549  0.98039216 0.97254902\n",
      "  0.91372549 0.93333333 0.84313725 0.        ]\n",
      " [0.         0.22352941 0.73333333 0.81568627 0.87843137 0.86666667\n",
      "  0.87843137 0.81568627 0.8        0.83921569 0.81568627 0.81960784\n",
      "  0.78431373 0.62352941 0.96078431 0.75686275 0.80784314 0.8745098\n",
      "  1.         1.         0.86666667 0.91764706 0.86666667 0.82745098\n",
      "  0.8627451  0.90980392 0.96470588 0.        ]\n",
      " [0.01176471 0.79215686 0.89411765 0.87843137 0.86666667 0.82745098\n",
      "  0.82745098 0.83921569 0.80392157 0.80392157 0.80392157 0.8627451\n",
      "  0.94117647 0.31372549 0.58823529 1.         0.89803922 0.86666667\n",
      "  0.7372549  0.60392157 0.74901961 0.82352941 0.8        0.81960784\n",
      "  0.87058824 0.89411765 0.88235294 0.        ]\n",
      " [0.38431373 0.91372549 0.77647059 0.82352941 0.87058824 0.89803922\n",
      "  0.89803922 0.91764706 0.97647059 0.8627451  0.76078431 0.84313725\n",
      "  0.85098039 0.94509804 0.25490196 0.28627451 0.41568627 0.45882353\n",
      "  0.65882353 0.85882353 0.86666667 0.84313725 0.85098039 0.8745098\n",
      "  0.8745098  0.87843137 0.89803922 0.11372549]\n",
      " [0.29411765 0.8        0.83137255 0.8        0.75686275 0.80392157\n",
      "  0.82745098 0.88235294 0.84705882 0.7254902  0.77254902 0.80784314\n",
      "  0.77647059 0.83529412 0.94117647 0.76470588 0.89019608 0.96078431\n",
      "  0.9372549  0.8745098  0.85490196 0.83137255 0.81960784 0.87058824\n",
      "  0.8627451  0.86666667 0.90196078 0.2627451 ]\n",
      " [0.18823529 0.79607843 0.71764706 0.76078431 0.83529412 0.77254902\n",
      "  0.7254902  0.74509804 0.76078431 0.75294118 0.79215686 0.83921569\n",
      "  0.85882353 0.86666667 0.8627451  0.9254902  0.88235294 0.84705882\n",
      "  0.78039216 0.80784314 0.72941176 0.70980392 0.69411765 0.6745098\n",
      "  0.70980392 0.80392157 0.80784314 0.45098039]\n",
      " [0.         0.47843137 0.85882353 0.75686275 0.70196078 0.67058824\n",
      "  0.71764706 0.76862745 0.8        0.82352941 0.83529412 0.81176471\n",
      "  0.82745098 0.82352941 0.78431373 0.76862745 0.76078431 0.74901961\n",
      "  0.76470588 0.74901961 0.77647059 0.75294118 0.69019608 0.61176471\n",
      "  0.65490196 0.69411765 0.82352941 0.36078431]\n",
      " [0.         0.         0.29019608 0.74117647 0.83137255 0.74901961\n",
      "  0.68627451 0.6745098  0.68627451 0.70980392 0.7254902  0.7372549\n",
      "  0.74117647 0.7372549  0.75686275 0.77647059 0.8        0.81960784\n",
      "  0.82352941 0.82352941 0.82745098 0.7372549  0.7372549  0.76078431\n",
      "  0.75294118 0.84705882 0.66666667 0.        ]\n",
      " [0.00784314 0.         0.         0.         0.25882353 0.78431373\n",
      "  0.87058824 0.92941176 0.9372549  0.94901961 0.96470588 0.95294118\n",
      "  0.95686275 0.86666667 0.8627451  0.75686275 0.74901961 0.70196078\n",
      "  0.71372549 0.71372549 0.70980392 0.69019608 0.65098039 0.65882353\n",
      "  0.38823529 0.22745098 0.         0.        ]\n",
      " [0.         0.         0.         0.         0.         0.\n",
      "  0.         0.15686275 0.23921569 0.17254902 0.28235294 0.16078431\n",
      "  0.1372549  0.         0.         0.         0.         0.\n",
      "  0.         0.         0.         0.         0.         0.\n",
      "  0.         0.         0.         0.        ]\n",
      " [0.         0.         0.         0.         0.         0.\n",
      "  0.         0.         0.         0.         0.         0.\n",
      "  0.         0.         0.         0.         0.         0.\n",
      "  0.         0.         0.         0.         0.         0.\n",
      "  0.         0.         0.         0.        ]\n",
      " [0.         0.         0.         0.         0.         0.\n",
      "  0.         0.         0.         0.         0.         0.\n",
      "  0.         0.         0.         0.         0.         0.\n",
      "  0.         0.         0.         0.         0.         0.\n",
      "  0.         0.         0.         0.        ]]\n"
     ]
    }
   ],
   "source": [
    "# 5.21 데이터 정규화\n",
    "train_X = train_X / 255.0\n",
    "test_X = test_X / 255.0\n",
    "\n",
    "print(train_X[0])"
   ]
  },
  {
   "cell_type": "code",
   "execution_count": null,
   "metadata": {
    "colab": {
     "base_uri": "https://localhost:8080/"
    },
    "executionInfo": {
     "elapsed": 490,
     "status": "ok",
     "timestamp": 1649006861738,
     "user": {
      "displayName": "Minkyu Kwon",
      "userId": "08202342554901369599"
     },
     "user_tz": -540
    },
    "id": "0dwbsb8aD1Jx",
    "outputId": "7b2d744a-b94f-454b-fbd6-09dfe4f77b25"
   },
   "outputs": [
    {
     "name": "stdout",
     "output_type": "stream",
     "text": [
      "Model: \"sequential_4\"\n",
      "_________________________________________________________________\n",
      " Layer (type)                Output Shape              Param #   \n",
      "=================================================================\n",
      " flatten_1 (Flatten)         (None, 784)               0         \n",
      "                                                                 \n",
      " dense_14 (Dense)            (None, 128)               100480    \n",
      "                                                                 \n",
      " dense_15 (Dense)            (None, 10)                1290      \n",
      "                                                                 \n",
      "=================================================================\n",
      "Total params: 101,770\n",
      "Trainable params: 101,770\n",
      "Non-trainable params: 0\n",
      "_________________________________________________________________\n"
     ]
    }
   ],
   "source": [
    "# 5.22 Fashion MNIST 분류 모델\n",
    "model = tf.keras.Sequential([\n",
    "    tf.keras.layers.Flatten(input_shape=(28,28)),\n",
    "    tf.keras.layers.Dense(units=128, activation='relu'),\n",
    "    tf.keras.layers.Dense(units=10, activation='softmax')\n",
    "])\n",
    "\n",
    "model.compile(optimizer=tf.keras.optimizers.Adam(), \n",
    "              loss='sparse_categorical_crossentropy', \n",
    "              metrics=['accuracy'])\n",
    "\n",
    "model.summary()"
   ]
  },
  {
   "cell_type": "code",
   "execution_count": null,
   "metadata": {
    "colab": {
     "base_uri": "https://localhost:8080/"
    },
    "executionInfo": {
     "elapsed": 322802,
     "status": "ok",
     "timestamp": 1649007200364,
     "user": {
      "displayName": "Minkyu Kwon",
      "userId": "08202342554901369599"
     },
     "user_tz": -540
    },
    "id": "X6FCAvgtHJPz",
    "outputId": "3a6c7760-5670-4173-ed19-3877cd993931"
   },
   "outputs": [
    {
     "name": "stdout",
     "output_type": "stream",
     "text": [
      "Epoch 1/50\n",
      "1407/1407 [==============================] - 7s 4ms/step - loss: 0.5142 - accuracy: 0.8203 - val_loss: 0.4245 - val_accuracy: 0.8478\n",
      "Epoch 2/50\n",
      "1407/1407 [==============================] - 6s 4ms/step - loss: 0.3908 - accuracy: 0.8605 - val_loss: 0.3872 - val_accuracy: 0.8585\n",
      "Epoch 3/50\n",
      "1407/1407 [==============================] - 6s 4ms/step - loss: 0.3503 - accuracy: 0.8722 - val_loss: 0.3664 - val_accuracy: 0.8675\n",
      "Epoch 4/50\n",
      "1407/1407 [==============================] - 6s 4ms/step - loss: 0.3232 - accuracy: 0.8824 - val_loss: 0.3631 - val_accuracy: 0.8683\n",
      "Epoch 5/50\n",
      "1407/1407 [==============================] - 6s 4ms/step - loss: 0.3070 - accuracy: 0.8872 - val_loss: 0.3281 - val_accuracy: 0.8821\n",
      "Epoch 6/50\n",
      "1407/1407 [==============================] - 6s 4ms/step - loss: 0.2914 - accuracy: 0.8929 - val_loss: 0.3571 - val_accuracy: 0.8678\n",
      "Epoch 7/50\n",
      "1407/1407 [==============================] - 6s 4ms/step - loss: 0.2736 - accuracy: 0.8980 - val_loss: 0.3214 - val_accuracy: 0.8842\n",
      "Epoch 8/50\n",
      "1407/1407 [==============================] - 6s 4ms/step - loss: 0.2649 - accuracy: 0.9022 - val_loss: 0.3207 - val_accuracy: 0.8847\n",
      "Epoch 9/50\n",
      "1407/1407 [==============================] - 6s 4ms/step - loss: 0.2538 - accuracy: 0.9044 - val_loss: 0.3215 - val_accuracy: 0.8871\n",
      "Epoch 10/50\n",
      "1407/1407 [==============================] - 7s 5ms/step - loss: 0.2456 - accuracy: 0.9097 - val_loss: 0.3403 - val_accuracy: 0.8777\n",
      "Epoch 11/50\n",
      "1407/1407 [==============================] - 6s 5ms/step - loss: 0.2375 - accuracy: 0.9115 - val_loss: 0.3176 - val_accuracy: 0.8895\n",
      "Epoch 12/50\n",
      "1407/1407 [==============================] - 6s 4ms/step - loss: 0.2284 - accuracy: 0.9148 - val_loss: 0.3261 - val_accuracy: 0.8853\n",
      "Epoch 13/50\n",
      "1407/1407 [==============================] - 8s 6ms/step - loss: 0.2184 - accuracy: 0.9200 - val_loss: 0.3111 - val_accuracy: 0.8916\n",
      "Epoch 14/50\n",
      "1407/1407 [==============================] - 6s 4ms/step - loss: 0.2120 - accuracy: 0.9212 - val_loss: 0.3386 - val_accuracy: 0.8840\n",
      "Epoch 15/50\n",
      "1407/1407 [==============================] - 6s 4ms/step - loss: 0.2042 - accuracy: 0.9234 - val_loss: 0.3109 - val_accuracy: 0.8949\n",
      "Epoch 16/50\n",
      "1407/1407 [==============================] - 6s 4ms/step - loss: 0.1994 - accuracy: 0.9266 - val_loss: 0.3572 - val_accuracy: 0.8785\n",
      "Epoch 17/50\n",
      "1407/1407 [==============================] - 6s 4ms/step - loss: 0.1943 - accuracy: 0.9266 - val_loss: 0.3371 - val_accuracy: 0.8905\n",
      "Epoch 18/50\n",
      "1407/1407 [==============================] - 6s 4ms/step - loss: 0.1882 - accuracy: 0.9307 - val_loss: 0.3485 - val_accuracy: 0.8819\n",
      "Epoch 19/50\n",
      "1407/1407 [==============================] - 6s 4ms/step - loss: 0.1847 - accuracy: 0.9315 - val_loss: 0.3504 - val_accuracy: 0.8885\n",
      "Epoch 20/50\n",
      "1407/1407 [==============================] - 6s 4ms/step - loss: 0.1755 - accuracy: 0.9344 - val_loss: 0.3372 - val_accuracy: 0.8923\n",
      "Epoch 21/50\n",
      "1407/1407 [==============================] - 6s 4ms/step - loss: 0.1723 - accuracy: 0.9348 - val_loss: 0.3474 - val_accuracy: 0.8917\n",
      "Epoch 22/50\n",
      "1407/1407 [==============================] - 6s 4ms/step - loss: 0.1670 - accuracy: 0.9375 - val_loss: 0.3553 - val_accuracy: 0.8887\n",
      "Epoch 23/50\n",
      "1407/1407 [==============================] - 6s 4ms/step - loss: 0.1650 - accuracy: 0.9383 - val_loss: 0.3503 - val_accuracy: 0.8898\n",
      "Epoch 24/50\n",
      "1407/1407 [==============================] - 6s 4ms/step - loss: 0.1572 - accuracy: 0.9410 - val_loss: 0.3504 - val_accuracy: 0.8912\n",
      "Epoch 25/50\n",
      "1407/1407 [==============================] - 6s 4ms/step - loss: 0.1551 - accuracy: 0.9424 - val_loss: 0.3698 - val_accuracy: 0.8850\n",
      "Epoch 26/50\n",
      "1407/1407 [==============================] - 6s 4ms/step - loss: 0.1490 - accuracy: 0.9451 - val_loss: 0.3750 - val_accuracy: 0.8905\n",
      "Epoch 27/50\n",
      "1407/1407 [==============================] - 6s 4ms/step - loss: 0.1482 - accuracy: 0.9440 - val_loss: 0.3760 - val_accuracy: 0.8873\n",
      "Epoch 28/50\n",
      "1407/1407 [==============================] - 6s 4ms/step - loss: 0.1427 - accuracy: 0.9479 - val_loss: 0.3754 - val_accuracy: 0.8917\n",
      "Epoch 29/50\n",
      "1407/1407 [==============================] - 6s 4ms/step - loss: 0.1405 - accuracy: 0.9487 - val_loss: 0.3853 - val_accuracy: 0.8871\n",
      "Epoch 30/50\n",
      "1407/1407 [==============================] - 6s 4ms/step - loss: 0.1364 - accuracy: 0.9497 - val_loss: 0.4503 - val_accuracy: 0.8801\n",
      "Epoch 31/50\n",
      "1407/1407 [==============================] - 6s 4ms/step - loss: 0.1336 - accuracy: 0.9496 - val_loss: 0.3925 - val_accuracy: 0.8900\n",
      "Epoch 32/50\n",
      "1407/1407 [==============================] - 6s 4ms/step - loss: 0.1302 - accuracy: 0.9504 - val_loss: 0.3880 - val_accuracy: 0.8939\n",
      "Epoch 33/50\n",
      "1407/1407 [==============================] - 6s 4ms/step - loss: 0.1285 - accuracy: 0.9512 - val_loss: 0.3901 - val_accuracy: 0.8907\n",
      "Epoch 34/50\n",
      "1407/1407 [==============================] - 6s 4ms/step - loss: 0.1263 - accuracy: 0.9537 - val_loss: 0.4350 - val_accuracy: 0.8821\n",
      "Epoch 35/50\n",
      "1407/1407 [==============================] - 6s 4ms/step - loss: 0.1230 - accuracy: 0.9542 - val_loss: 0.4143 - val_accuracy: 0.8895\n",
      "Epoch 36/50\n",
      "1407/1407 [==============================] - 6s 4ms/step - loss: 0.1171 - accuracy: 0.9571 - val_loss: 0.4154 - val_accuracy: 0.8935\n",
      "Epoch 37/50\n",
      "1407/1407 [==============================] - 6s 4ms/step - loss: 0.1149 - accuracy: 0.9574 - val_loss: 0.4202 - val_accuracy: 0.8884\n",
      "Epoch 38/50\n",
      "1407/1407 [==============================] - 6s 4ms/step - loss: 0.1156 - accuracy: 0.9566 - val_loss: 0.4475 - val_accuracy: 0.8817\n",
      "Epoch 39/50\n",
      "1407/1407 [==============================] - 6s 4ms/step - loss: 0.1109 - accuracy: 0.9590 - val_loss: 0.4356 - val_accuracy: 0.8893\n",
      "Epoch 40/50\n",
      "1407/1407 [==============================] - 6s 4ms/step - loss: 0.1067 - accuracy: 0.9599 - val_loss: 0.4421 - val_accuracy: 0.8871\n",
      "Epoch 41/50\n",
      "1407/1407 [==============================] - 6s 4ms/step - loss: 0.1094 - accuracy: 0.9593 - val_loss: 0.4453 - val_accuracy: 0.8893\n",
      "Epoch 42/50\n",
      "1407/1407 [==============================] - 6s 4ms/step - loss: 0.1052 - accuracy: 0.9605 - val_loss: 0.4598 - val_accuracy: 0.8891\n",
      "Epoch 43/50\n",
      "1407/1407 [==============================] - 6s 4ms/step - loss: 0.1042 - accuracy: 0.9609 - val_loss: 0.4726 - val_accuracy: 0.8880\n",
      "Epoch 44/50\n",
      "1407/1407 [==============================] - 6s 4ms/step - loss: 0.1014 - accuracy: 0.9623 - val_loss: 0.4640 - val_accuracy: 0.8849\n",
      "Epoch 45/50\n",
      "1407/1407 [==============================] - 6s 4ms/step - loss: 0.0998 - accuracy: 0.9626 - val_loss: 0.4753 - val_accuracy: 0.8921\n",
      "Epoch 46/50\n",
      "1407/1407 [==============================] - 6s 4ms/step - loss: 0.0970 - accuracy: 0.9645 - val_loss: 0.4772 - val_accuracy: 0.8849\n",
      "Epoch 47/50\n",
      "1407/1407 [==============================] - 6s 4ms/step - loss: 0.0976 - accuracy: 0.9636 - val_loss: 0.4898 - val_accuracy: 0.8859\n",
      "Epoch 48/50\n",
      "1407/1407 [==============================] - 6s 4ms/step - loss: 0.0923 - accuracy: 0.9654 - val_loss: 0.4929 - val_accuracy: 0.8835\n",
      "Epoch 49/50\n",
      "1407/1407 [==============================] - 6s 4ms/step - loss: 0.0914 - accuracy: 0.9656 - val_loss: 0.4882 - val_accuracy: 0.8896\n",
      "Epoch 50/50\n",
      "1407/1407 [==============================] - 6s 4ms/step - loss: 0.0902 - accuracy: 0.9660 - val_loss: 0.5025 - val_accuracy: 0.8883\n"
     ]
    }
   ],
   "source": [
    "# 5.23 Fashion MNIST 분류 모델 학습\n",
    "# 앞의 일반적인 데이터보다 특징의 수가 늘어나게 되어서 오래걸림.\n",
    "history = model.fit(train_X, train_Y, epochs=50, validation_split=0.25)"
   ]
  },
  {
   "cell_type": "code",
   "execution_count": null,
   "metadata": {
    "colab": {
     "base_uri": "https://localhost:8080/",
     "height": 283
    },
    "executionInfo": {
     "elapsed": 580,
     "status": "ok",
     "timestamp": 1649006628655,
     "user": {
      "displayName": "Minkyu Kwon",
      "userId": "08202342554901369599"
     },
     "user_tz": -540
    },
    "id": "2uKxk7XSIQdq",
    "outputId": "347f5b08-fc4b-4ae8-dd17-2716f8ce3cb7"
   },
   "outputs": [
    {
     "data": {
      "image/png": "[encoded data removed]",
      "text/plain": [
       "<Figure size 864x288 with 2 Axes>"
      ]
     },
     "metadata": {
      "needs_background": "light"
     },
     "output_type": "display_data"
    }
   ],
   "source": [
    "# 5.24 Fashion MNIST 분류 모델 학습 결과 시각화\n",
    "import matplotlib.pyplot as plt\n",
    "plt.figure(figsize=(12, 4))\n",
    "\n",
    "plt.subplot(1, 2, 1)\n",
    "plt.plot(history.history['loss'], 'b-', label='loss')\n",
    "plt.plot(history.history['val_loss'], 'r--', label='val_loss')\n",
    "plt.xlabel('Epoch')\n",
    "plt.legend()\n",
    "\n",
    "plt.subplot(1, 2, 2)\n",
    "plt.plot(history.history['accuracy'], 'g-', label='accuracy')\n",
    "plt.plot(history.history['val_accuracy'], 'k--', label='val_accuracy')\n",
    "plt.xlabel('Epoch')\n",
    "plt.ylim(0.7, 1)\n",
    "plt.legend()\n",
    "\n",
    "plt.show()"
   ]
  },
  {
   "cell_type": "code",
   "execution_count": null,
   "metadata": {
    "colab": {
     "base_uri": "https://localhost:8080/"
    },
    "executionInfo": {
     "elapsed": 644,
     "status": "ok",
     "timestamp": 1649006629295,
     "user": {
      "displayName": "Minkyu Kwon",
      "userId": "08202342554901369599"
     },
     "user_tz": -540
    },
    "id": "BdfhmqdlIQz0",
    "outputId": "8a81bbfa-c5ce-4639-ceec-4e7d5ffd8a45"
   },
   "outputs": [
    {
     "name": "stdout",
     "output_type": "stream",
     "text": [
      "313/313 [==============================] - 1s 3ms/step - loss: 0.5893 - accuracy: 0.8770\n"
     ]
    },
    {
     "data": {
      "text/plain": [
       "[0.5893109440803528, 0.8769999742507935]"
      ]
     },
     "execution_count": 30,
     "metadata": {},
     "output_type": "execute_result"
    }
   ],
   "source": [
    "# 5.25 Fashion MNIST 분류 모델 평가\n",
    "# ---> 뒤의 여러가지 방법들을 사용하면 더 높일 수 있음!!!\n",
    "model.evaluate(test_X, test_Y)"
   ]
  },
  {
   "cell_type": "code",
   "execution_count": null,
   "metadata": {
    "id": "B3RgNfr9XfZ0"
   },
   "outputs": [],
   "source": []
  },
  {
   "cell_type": "code",
   "execution_count": null,
   "metadata": {
    "id": "2_Sb24jIXfZ0"
   },
   "outputs": [],
   "source": []
  },
  {
   "cell_type": "code",
   "execution_count": null,
   "metadata": {
    "id": "xGwMTBMMXfZ0"
   },
   "outputs": [],
   "source": []
  }
 ],
 "metadata": {
  "accelerator": "GPU",
  "colab": {
   "collapsed_sections": [],
   "name": "05_TF2_2022_04_ex.ipynb",
   "provenance": []
  },
  "kernelspec": {
   "display_name": "Python 3 (ipykernel)",
   "language": "python",
   "name": "python3"
  },
  "language_info": {
   "codemirror_mode": {
    "name": "ipython",
    "version": 3
   },
   "file_extension": ".py",
   "mimetype": "text/x-python",
   "name": "python",
   "nbconvert_exporter": "python",
   "pygments_lexer": "ipython3",
   "version": "3.9.7"
  },
  "toc": {
   "base_numbering": 1,
   "nav_menu": {},
   "number_sections": true,
   "sideBar": true,
   "skip_h1_title": false,
   "title_cell": "Table of Contents",
   "title_sidebar": "Contents",
   "toc_cell": false,
   "toc_position": {},
   "toc_section_display": true,
   "toc_window_display": false
  },
  "varInspector": {
   "cols": {
    "lenName": 16,
    "lenType": 16,
    "lenVar": 40
   },
   "kernels_config": {
    "python": {
     "delete_cmd_postfix": "",
     "delete_cmd_prefix": "del ",
     "library": "var_list.py",
     "varRefreshCmd": "print(var_dic_list())"
    },
    "r": {
     "delete_cmd_postfix": ") ",
     "delete_cmd_prefix": "rm(",
     "library": "var_list.r",
     "varRefreshCmd": "cat(var_dic_list()) "
    }
   },
   "types_to_exclude": [
    "module",
    "function",
    "builtin_function_or_method",
    "instance",
    "_Feature"
   ],
   "window_display": false
  }
 },
 "nbformat": 4,
 "nbformat_minor": 1
}
