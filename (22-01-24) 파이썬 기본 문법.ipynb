{
 "cells": [
  {
   "cell_type": "markdown",
   "id": "afae4b6f",
   "metadata": {},
   "source": [
    "### 변수"
   ]
  },
  {
   "cell_type": "code",
   "execution_count": 1,
   "id": "37e9c8e7",
   "metadata": {},
   "outputs": [
    {
     "name": "stdout",
     "output_type": "stream",
     "text": [
      "a\n"
     ]
    }
   ],
   "source": [
    "A = \"a\"\n",
    "print(A)"
   ]
  },
  {
   "cell_type": "code",
   "execution_count": 2,
   "id": "09d26f8f",
   "metadata": {},
   "outputs": [
    {
     "name": "stdout",
     "output_type": "stream",
     "text": [
      "123\n"
     ]
    }
   ],
   "source": [
    "a = 123    #대소문자 구별함\n",
    "print(a)"
   ]
  },
  {
   "cell_type": "code",
   "execution_count": 3,
   "id": "05cfe231",
   "metadata": {},
   "outputs": [
    {
     "data": {
      "text/plain": [
       "int"
      ]
     },
     "execution_count": 3,
     "metadata": {},
     "output_type": "execute_result"
    }
   ],
   "source": [
    "type(a)"
   ]
  },
  {
   "cell_type": "code",
   "execution_count": 4,
   "id": "3127d3ea",
   "metadata": {},
   "outputs": [
    {
     "name": "stdout",
     "output_type": "stream",
     "text": [
      "<class 'int'>\n"
     ]
    }
   ],
   "source": [
    "print(type(a))"
   ]
  },
  {
   "cell_type": "code",
   "execution_count": 5,
   "id": "1fae163e",
   "metadata": {},
   "outputs": [
    {
     "data": {
      "text/plain": [
       "'a'"
      ]
     },
     "execution_count": 5,
     "metadata": {},
     "output_type": "execute_result"
    }
   ],
   "source": [
    "A    #좀 더 오리지널 모습을 보여줌"
   ]
  },
  {
   "cell_type": "code",
   "execution_count": 6,
   "id": "71024ca2",
   "metadata": {},
   "outputs": [
    {
     "name": "stdout",
     "output_type": "stream",
     "text": [
      "a\n"
     ]
    }
   ],
   "source": [
    "print(A)   #정리된 모습을 보여줌"
   ]
  },
  {
   "cell_type": "code",
   "execution_count": 7,
   "id": "f73e5198",
   "metadata": {},
   "outputs": [
    {
     "ename": "SyntaxError",
     "evalue": "cannot assign to literal (Temp/ipykernel_15012/2997838780.py, line 1)",
     "output_type": "error",
     "traceback": [
      "\u001b[1;36m  File \u001b[1;32m\"C:\\Users\\MEDICI\\AppData\\Local\\Temp/ipykernel_15012/2997838780.py\"\u001b[1;36m, line \u001b[1;32m1\u001b[0m\n\u001b[1;33m    12 = a\u001b[0m\n\u001b[1;37m    ^\u001b[0m\n\u001b[1;31mSyntaxError\u001b[0m\u001b[1;31m:\u001b[0m cannot assign to literal\n"
     ]
    }
   ],
   "source": [
    "12 = a  #변수명 = 값 순서로 해야함"
   ]
  },
  {
   "cell_type": "markdown",
   "id": "11e5c3c1",
   "metadata": {},
   "source": [
    "### 연산자"
   ]
  },
  {
   "cell_type": "markdown",
   "id": "2abdd336",
   "metadata": {},
   "source": [
    "#### 산술 연산자"
   ]
  },
  {
   "cell_type": "code",
   "execution_count": 1,
   "id": "59a9e57a",
   "metadata": {},
   "outputs": [
    {
     "data": {
      "text/plain": [
       "1.6666666666666667"
      ]
     },
     "execution_count": 1,
     "metadata": {},
     "output_type": "execute_result"
    }
   ],
   "source": [
    "#나눗셈 : 단순 나눈 결과에 대한 소수 표현\n",
    "5 / 3"
   ]
  },
  {
   "cell_type": "code",
   "execution_count": 2,
   "id": "5a767090",
   "metadata": {},
   "outputs": [
    {
     "data": {
      "text/plain": [
       "1"
      ]
     },
     "execution_count": 2,
     "metadata": {},
     "output_type": "execute_result"
    }
   ],
   "source": [
    "#나눗셈 : 오로지 몫만 관심\n",
    "5 // 3"
   ]
  },
  {
   "cell_type": "code",
   "execution_count": 3,
   "id": "6bcfbfe5",
   "metadata": {
    "scrolled": true
   },
   "outputs": [
    {
     "data": {
      "text/plain": [
       "2"
      ]
     },
     "execution_count": 3,
     "metadata": {},
     "output_type": "execute_result"
    }
   ],
   "source": [
    "#나눗셈 : 오로지 나머지에만 관심\n",
    "5 % 3"
   ]
  },
  {
   "cell_type": "code",
   "execution_count": 1,
   "id": "0fb1b6a7",
   "metadata": {},
   "outputs": [
    {
     "data": {
      "text/plain": [
       "8"
      ]
     },
     "execution_count": 1,
     "metadata": {},
     "output_type": "execute_result"
    }
   ],
   "source": [
    "#제곱 연산자\n",
    "2 ** 3"
   ]
  },
  {
   "cell_type": "code",
   "execution_count": 3,
   "id": "c9b00c16",
   "metadata": {},
   "outputs": [
    {
     "data": {
      "text/plain": [
       "'aaa'"
      ]
     },
     "execution_count": 3,
     "metadata": {},
     "output_type": "execute_result"
    }
   ],
   "source": [
    "\"a\" + \"a\" + \"a\""
   ]
  },
  {
   "cell_type": "code",
   "execution_count": 5,
   "id": "fef30de5",
   "metadata": {},
   "outputs": [
    {
     "data": {
      "text/plain": [
       "'aaa'"
      ]
     },
     "execution_count": 5,
     "metadata": {},
     "output_type": "execute_result"
    }
   ],
   "source": [
    "\"a\" *3  #위에랑 같음"
   ]
  },
  {
   "cell_type": "code",
   "execution_count": 6,
   "id": "7175de17",
   "metadata": {},
   "outputs": [
    {
     "ename": "TypeError",
     "evalue": "can't multiply sequence by non-int of type 'str'",
     "output_type": "error",
     "traceback": [
      "\u001b[1;31m---------------------------------------------------------------------------\u001b[0m",
      "\u001b[1;31mTypeError\u001b[0m                                 Traceback (most recent call last)",
      "\u001b[1;32m~\\AppData\\Local\\Temp/ipykernel_45000/2754125063.py\u001b[0m in \u001b[0;36m<module>\u001b[1;34m\u001b[0m\n\u001b[1;32m----> 1\u001b[1;33m \u001b[1;34m\"a\"\u001b[0m \u001b[1;33m*\u001b[0m \u001b[1;34m\"b\"\u001b[0m\u001b[1;33m\u001b[0m\u001b[1;33m\u001b[0m\u001b[0m\n\u001b[0m",
      "\u001b[1;31mTypeError\u001b[0m: can't multiply sequence by non-int of type 'str'"
     ]
    }
   ],
   "source": [
    "\"a\" * \"b\" #문자끼리 곱은 성립안됨"
   ]
  },
  {
   "cell_type": "markdown",
   "id": "133b230d",
   "metadata": {},
   "source": [
    "#### 논리 연산자"
   ]
  },
  {
   "cell_type": "code",
   "execution_count": null,
   "id": "881457c5",
   "metadata": {},
   "outputs": [],
   "source": [
    "a & b  #and"
   ]
  },
  {
   "cell_type": "code",
   "execution_count": null,
   "id": "25c14c99",
   "metadata": {},
   "outputs": [],
   "source": [
    "a | b  #or"
   ]
  },
  {
   "cell_type": "markdown",
   "id": "608d7cf3",
   "metadata": {},
   "source": [
    "#### 비교 연산자"
   ]
  },
  {
   "cell_type": "code",
   "execution_count": null,
   "id": "edb8e4f8",
   "metadata": {},
   "outputs": [],
   "source": [
    "a == b  #같다"
   ]
  },
  {
   "cell_type": "code",
   "execution_count": null,
   "id": "c8e847e3",
   "metadata": {},
   "outputs": [],
   "source": [
    "a != b  #다르다"
   ]
  },
  {
   "cell_type": "code",
   "execution_count": 7,
   "id": "ffc7b862",
   "metadata": {},
   "outputs": [
    {
     "data": {
      "text/plain": [
       "'Hello'"
      ]
     },
     "execution_count": 7,
     "metadata": {},
     "output_type": "execute_result"
    }
   ],
   "source": [
    "\"Hello\"    #파이썬 문자열인지 인용문인지 겹치는 경우 문제 발생 할 수 있음"
   ]
  },
  {
   "cell_type": "code",
   "execution_count": 8,
   "id": "a6a7db33",
   "metadata": {},
   "outputs": [
    {
     "data": {
      "text/plain": [
       "'Hello'"
      ]
     },
     "execution_count": 8,
     "metadata": {},
     "output_type": "execute_result"
    }
   ],
   "source": [
    "'Hello'"
   ]
  },
  {
   "cell_type": "code",
   "execution_count": 12,
   "id": "523267c6",
   "metadata": {},
   "outputs": [
    {
     "data": {
      "text/plain": [
       "'K said \"hello\"'"
      ]
     },
     "execution_count": 12,
     "metadata": {},
     "output_type": "execute_result"
    }
   ],
   "source": [
    "a = \"\"\"K said \"hello\\\"\"\"\"  # \\(역슬레시)로 \"을 문자로 인식하게 함\n",
    "a"
   ]
  },
  {
   "cell_type": "code",
   "execution_count": 13,
   "id": "db563d69",
   "metadata": {},
   "outputs": [
    {
     "data": {
      "text/plain": [
       "'Hello'"
      ]
     },
     "execution_count": 13,
     "metadata": {},
     "output_type": "execute_result"
    }
   ],
   "source": [
    "'''Hello'''"
   ]
  },
  {
   "cell_type": "code",
   "execution_count": 14,
   "id": "9e0aed09",
   "metadata": {},
   "outputs": [
    {
     "data": {
      "text/plain": [
       "'helloworld'"
      ]
     },
     "execution_count": 14,
     "metadata": {},
     "output_type": "execute_result"
    }
   ],
   "source": [
    "\"hello\" + \"world\""
   ]
  },
  {
   "cell_type": "code",
   "execution_count": 16,
   "id": "bfc1fa25",
   "metadata": {},
   "outputs": [
    {
     "ename": "TypeError",
     "evalue": "can only concatenate str (not \"int\") to str",
     "output_type": "error",
     "traceback": [
      "\u001b[1;31m---------------------------------------------------------------------------\u001b[0m",
      "\u001b[1;31mTypeError\u001b[0m                                 Traceback (most recent call last)",
      "\u001b[1;32m~\\AppData\\Local\\Temp/ipykernel_11416/2903065647.py\u001b[0m in \u001b[0;36m<module>\u001b[1;34m\u001b[0m\n\u001b[1;32m----> 1\u001b[1;33m \u001b[0mstr\u001b[0m\u001b[1;33m(\u001b[0m\u001b[1;36m12\u001b[0m\u001b[1;33m)\u001b[0m \u001b[1;33m+\u001b[0m \u001b[1;36m3\u001b[0m  \u001b[1;31m#앞에는 문자고 뒤에는 숫자라서 오류가 남\u001b[0m\u001b[1;33m\u001b[0m\u001b[1;33m\u001b[0m\u001b[0m\n\u001b[0m",
      "\u001b[1;31mTypeError\u001b[0m: can only concatenate str (not \"int\") to str"
     ]
    }
   ],
   "source": [
    "str(12) + 3  #앞에는 문자고 뒤에는 숫자라서 오류가 남"
   ]
  },
  {
   "cell_type": "markdown",
   "id": "3e2f2e0e",
   "metadata": {},
   "source": [
    "### 리스트"
   ]
  },
  {
   "cell_type": "code",
   "execution_count": 32,
   "id": "a541e7fa",
   "metadata": {},
   "outputs": [
    {
     "data": {
      "text/plain": [
       "[1, 2, 3, 4, 'hello']"
      ]
     },
     "execution_count": 32,
     "metadata": {},
     "output_type": "execute_result"
    }
   ],
   "source": [
    "a_list =  [1,2,3,4,\"hello\"]\n",
    "a_list"
   ]
  },
  {
   "cell_type": "code",
   "execution_count": 33,
   "id": "b2c0ab48",
   "metadata": {},
   "outputs": [
    {
     "data": {
      "text/plain": [
       "[1, 2, 3, 4, 'hello', 'abc']"
      ]
     },
     "execution_count": 33,
     "metadata": {},
     "output_type": "execute_result"
    }
   ],
   "source": [
    "a_list.append(\"abc\")\n",
    "a_list"
   ]
  },
  {
   "cell_type": "code",
   "execution_count": 34,
   "id": "42ccf61f",
   "metadata": {},
   "outputs": [],
   "source": [
    "a_list.insert(4,5)  #(어디에, 무엇을)"
   ]
  },
  {
   "cell_type": "code",
   "execution_count": 35,
   "id": "0481824f",
   "metadata": {},
   "outputs": [
    {
     "data": {
      "text/plain": [
       "[1, 2, 3, 4, 5, 'hello']"
      ]
     },
     "execution_count": 35,
     "metadata": {},
     "output_type": "execute_result"
    }
   ],
   "source": [
    "a_list.pop() #뽑은 값\n",
    "a_list"
   ]
  },
  {
   "cell_type": "code",
   "execution_count": 39,
   "id": "b8ed8741",
   "metadata": {},
   "outputs": [
    {
     "data": {
      "text/plain": [
       "[1, 2, 4, 5, 'hello']"
      ]
     },
     "execution_count": 39,
     "metadata": {},
     "output_type": "execute_result"
    }
   ],
   "source": [
    "a_list.remove(3)\n",
    "a_list"
   ]
  },
  {
   "cell_type": "code",
   "execution_count": 36,
   "id": "93bc74d7",
   "metadata": {},
   "outputs": [
    {
     "data": {
      "text/plain": [
       "2"
      ]
     },
     "execution_count": 36,
     "metadata": {},
     "output_type": "execute_result"
    }
   ],
   "source": [
    "a_list[1]"
   ]
  },
  {
   "cell_type": "code",
   "execution_count": 37,
   "id": "3e4ea82b",
   "metadata": {},
   "outputs": [
    {
     "data": {
      "text/plain": [
       "'hello'"
      ]
     },
     "execution_count": 37,
     "metadata": {},
     "output_type": "execute_result"
    }
   ],
   "source": [
    "a_list[-1]"
   ]
  },
  {
   "cell_type": "code",
   "execution_count": 38,
   "id": "2d085aa7",
   "metadata": {},
   "outputs": [
    {
     "data": {
      "text/plain": [
       "[2, 3]"
      ]
     },
     "execution_count": 38,
     "metadata": {},
     "output_type": "execute_result"
    }
   ],
   "source": [
    "a_list[1:3]  #[시작점:끝점:간격] , [ : ]쓰면 처음부터 끝까지를 의미 "
   ]
  },
  {
   "cell_type": "markdown",
   "id": "0d27735a",
   "metadata": {},
   "source": [
    "### Dictionary"
   ]
  },
  {
   "cell_type": "code",
   "execution_count": 43,
   "id": "c010735a",
   "metadata": {},
   "outputs": [
    {
     "data": {
      "text/plain": [
       "{'a': 1234, 'b': 5678}"
      ]
     },
     "execution_count": 43,
     "metadata": {},
     "output_type": "execute_result"
    }
   ],
   "source": [
    "d1 = {\"a\":1234, \"b\":5678} #{원소1(K1:V1), 원소2,(K2:V2) 원소3(K3:V3), ... }\n",
    "d1"
   ]
  },
  {
   "cell_type": "code",
   "execution_count": 44,
   "id": "a244e01e",
   "metadata": {},
   "outputs": [
    {
     "data": {
      "text/plain": [
       "dict_keys(['a', 'b'])"
      ]
     },
     "execution_count": 44,
     "metadata": {},
     "output_type": "execute_result"
    }
   ],
   "source": [
    "d1.keys()"
   ]
  },
  {
   "cell_type": "code",
   "execution_count": 45,
   "id": "6833de7f",
   "metadata": {},
   "outputs": [
    {
     "data": {
      "text/plain": [
       "dict_values([1234, 5678])"
      ]
     },
     "execution_count": 45,
     "metadata": {},
     "output_type": "execute_result"
    }
   ],
   "source": [
    "d1.values()"
   ]
  },
  {
   "cell_type": "code",
   "execution_count": 47,
   "id": "72beffc3",
   "metadata": {},
   "outputs": [
    {
     "data": {
      "text/plain": [
       "1234"
      ]
     },
     "execution_count": 47,
     "metadata": {},
     "output_type": "execute_result"
    }
   ],
   "source": [
    "d1[\"a\"]  #key값을 가지고 인덱스 접근"
   ]
  },
  {
   "cell_type": "markdown",
   "id": "59bd1fe5",
   "metadata": {},
   "source": [
    "### if문 \n",
    "#### 이럴 때 이렇게 해주세요~ 저럴때 저렇게 해주세요~ "
   ]
  },
  {
   "cell_type": "code",
   "execution_count": 49,
   "id": "5cb68ab0",
   "metadata": {},
   "outputs": [
    {
     "name": "stdout",
     "output_type": "stream",
     "text": [
      "양수입니다.\n"
     ]
    }
   ],
   "source": [
    "#숫자를 하나 주고, 이 숫자가 양수인지, 음수인지,0인지 판별해주려고 함\n",
    "a = 10\n",
    "\n",
    "if a > 0 :\n",
    "    print(\"양수입니다.\")\n",
    "elif a < 0 :\n",
    "    print(\"음수입니다.\")\n",
    "elif a == 0 :\n",
    "    print(\"0 입니다\")\n",
    "else:\n",
    "    print(\"입력이 이상힙니다.\")   #아닌 경우 그냥 넘어가려면 pass쓰면 됌"
   ]
  },
  {
   "cell_type": "markdown",
   "id": "454178e8",
   "metadata": {},
   "source": [
    "### for문"
   ]
  },
  {
   "cell_type": "markdown",
   "id": "d332f62d",
   "metadata": {},
   "source": [
    "#### for 대표문자 in 여러개의 값을 객체:"
   ]
  },
  {
   "cell_type": "code",
   "execution_count": null,
   "id": "5bf77ff9",
   "metadata": {},
   "outputs": [],
   "source": [
    "print(0)\n",
    "print(1)\n",
    "print(2)\n",
    "...\n",
    "print(9)\n",
    "\n",
    "---> \n",
    "반복되는 것 : print(숫자)"
   ]
  },
  {
   "cell_type": "code",
   "execution_count": 3,
   "id": "ebbf9fa0",
   "metadata": {},
   "outputs": [
    {
     "name": "stdout",
     "output_type": "stream",
     "text": [
      "0\n"
     ]
    }
   ],
   "source": [
    "i = 0 \n",
    "print(i)"
   ]
  },
  {
   "cell_type": "code",
   "execution_count": 98,
   "id": "6ee4a862",
   "metadata": {},
   "outputs": [
    {
     "name": "stdout",
     "output_type": "stream",
     "text": [
      "0\n",
      "1\n",
      "2\n",
      "3\n",
      "4\n",
      "5\n",
      "6\n",
      "7\n",
      "8\n",
      "9\n"
     ]
    }
   ],
   "source": [
    "for number in range(0,10,1):\n",
    "    print(number)"
   ]
  },
  {
   "cell_type": "code",
   "execution_count": 6,
   "id": "e6c5a315",
   "metadata": {},
   "outputs": [
    {
     "name": "stdout",
     "output_type": "stream",
     "text": [
      "a\n",
      "c\n",
      "b\n",
      "d\n"
     ]
    }
   ],
   "source": [
    "for i in {\"a\", \"b\", \"c\", \"d\"}:\n",
    "    print(i)"
   ]
  },
  {
   "cell_type": "code",
   "execution_count": 7,
   "id": "7451355a",
   "metadata": {},
   "outputs": [],
   "source": [
    "#파이썬의 for를 사용할 때 선택의 기준은\n",
    "#1) 숫자를 돌릴 것이냐? -> 필요한 숫자 편히 만들려고 range(시작점, 끝, 간격)\n",
    "#2)값 그자체를 돌릴 것인가?"
   ]
  },
  {
   "cell_type": "code",
   "execution_count": null,
   "id": "75e5d7be",
   "metadata": {},
   "outputs": [],
   "source": [
    "# 실습"
   ]
  },
  {
   "cell_type": "code",
   "execution_count": 16,
   "id": "26074dd8",
   "metadata": {},
   "outputs": [
    {
     "data": {
      "text/plain": [
       "['a', 'b', 'c', 'd', 'f', 'g', 'c', 'i']"
      ]
     },
     "execution_count": 16,
     "metadata": {},
     "output_type": "execute_result"
    }
   ],
   "source": [
    "a = [\"a\",\"b\",\"c\",\"d\",\"f\",\"g\",\"c\",\"i\"]\n",
    "a"
   ]
  },
  {
   "cell_type": "code",
   "execution_count": 17,
   "id": "2a7d6fc5",
   "metadata": {},
   "outputs": [],
   "source": [
    "#1번 원소를 보고 c인지 아닌지 판단  ---> for문 생각!!\n",
    "#c가 아니면 b에 추가, c이면 다음으로 넘어감\n",
    "...\n",
    "#끝까지 반복함 ----> a의 원소를 돌려야 하니 for가 생각!!\n",
    "#원본 a는 건들지 말고 다른걸 추가해서 핸들링 하기 -> a값을 제거 하는 방식 ㄴㄴ"
   ]
  },
  {
   "cell_type": "code",
   "execution_count": 21,
   "id": "09c21a9c",
   "metadata": {},
   "outputs": [
    {
     "data": {
      "text/plain": [
       "'i'"
      ]
     },
     "execution_count": 21,
     "metadata": {},
     "output_type": "execute_result"
    }
   ],
   "source": [
    "#방법1) 인덱스\n",
    "len(a)\n",
    "a[len(a)-1]"
   ]
  },
  {
   "cell_type": "code",
   "execution_count": 22,
   "id": "caaca6c6",
   "metadata": {},
   "outputs": [
    {
     "data": {
      "text/plain": [
       "['a', 'b', 'c', 'd', 'f', 'g', 'c', 'i']"
      ]
     },
     "execution_count": 22,
     "metadata": {},
     "output_type": "execute_result"
    }
   ],
   "source": [
    "a[ :len(a)]"
   ]
  },
  {
   "cell_type": "code",
   "execution_count": 73,
   "id": "e05273a7",
   "metadata": {},
   "outputs": [
    {
     "name": "stdout",
     "output_type": "stream",
     "text": [
      "[['a', 'b', 'c', 'd'], 'f', 'g', ['c', 'i']]\n"
     ]
    }
   ],
   "source": [
    "#a의 모든 원소에 접근하기 위해서는 필요한 것이 숫자: 그리고 0~7까지\n",
    "b = []\n",
    "for i in range(0, len(a)):\n",
    "    #print(a[i])\n",
    "    #a[i]가 c냐 아니냐 체크  -> 비교 연산자(==, !=)\n",
    "    if a[i] != \"c\": #이 아래에서는 c가 아닐 떼 무엇을 할지 정하면 됨.\n",
    "        b.append(a[i])\n",
    "    else:\n",
    "        pass\n",
    "print(b)"
   ]
  },
  {
   "cell_type": "code",
   "execution_count": 28,
   "id": "8d5cc13c",
   "metadata": {},
   "outputs": [],
   "source": [
    "#방법2) 값 자체"
   ]
  },
  {
   "cell_type": "code",
   "execution_count": 30,
   "id": "668289bd",
   "metadata": {},
   "outputs": [
    {
     "name": "stdout",
     "output_type": "stream",
     "text": [
      "['a', 'b', 'd', 'f', 'g', 'i']\n"
     ]
    }
   ],
   "source": [
    "b = []\n",
    "for i in a:\n",
    "    if i != \"c\":\n",
    "        b.append(i)\n",
    "print(b)"
   ]
  },
  {
   "cell_type": "code",
   "execution_count": 31,
   "id": "d7d9caa8",
   "metadata": {},
   "outputs": [],
   "source": [
    "#실습2"
   ]
  },
  {
   "cell_type": "code",
   "execution_count": 52,
   "id": "dee4d365",
   "metadata": {},
   "outputs": [
    {
     "data": {
      "text/plain": [
       "[['a', 'b', 'c', 'd'], 'f', 'g', ['c', 'i']]"
      ]
     },
     "execution_count": 52,
     "metadata": {},
     "output_type": "execute_result"
    }
   ],
   "source": [
    "a = [[\"a\",\"b\",\"c\",\"d\"],\"f\",\"g\",[\"c\",\"i\"]]\n",
    "a"
   ]
  },
  {
   "cell_type": "code",
   "execution_count": 54,
   "id": "fc6c9bb9",
   "metadata": {},
   "outputs": [
    {
     "data": {
      "text/plain": [
       "['a', 'b', 'c', 'd']"
      ]
     },
     "execution_count": 54,
     "metadata": {},
     "output_type": "execute_result"
    }
   ],
   "source": [
    "a[0]"
   ]
  },
  {
   "cell_type": "code",
   "execution_count": 55,
   "id": "44dace01",
   "metadata": {},
   "outputs": [
    {
     "data": {
      "text/plain": [
       "4"
      ]
     },
     "execution_count": 55,
     "metadata": {},
     "output_type": "execute_result"
    }
   ],
   "source": [
    "len(a)"
   ]
  },
  {
   "cell_type": "code",
   "execution_count": 56,
   "id": "aaad9977",
   "metadata": {},
   "outputs": [
    {
     "data": {
      "text/plain": [
       "'a'"
      ]
     },
     "execution_count": 56,
     "metadata": {},
     "output_type": "execute_result"
    }
   ],
   "source": [
    "a[0][0]  #3은 어떻게 나오는 값인가? lne(a[0])"
   ]
  },
  {
   "cell_type": "code",
   "execution_count": 37,
   "id": "a86cd647",
   "metadata": {},
   "outputs": [
    {
     "data": {
      "text/plain": [
       "'c'"
      ]
     },
     "execution_count": 37,
     "metadata": {},
     "output_type": "execute_result"
    }
   ],
   "source": [
    "a[0][len(a)-1]"
   ]
  },
  {
   "cell_type": "code",
   "execution_count": 38,
   "id": "bdacebe5",
   "metadata": {},
   "outputs": [
    {
     "data": {
      "text/plain": [
       "'hellp'"
      ]
     },
     "execution_count": 38,
     "metadata": {},
     "output_type": "execute_result"
    }
   ],
   "source": [
    "#a[a의 큰 틀에서 몇 번째 원소인지...][다시 거기서 몇 번재인지..]"
   ]
  },
  {
   "cell_type": "code",
   "execution_count": 57,
   "id": "e83f10fa",
   "metadata": {},
   "outputs": [
    {
     "name": "stdout",
     "output_type": "stream",
     "text": [
      "a\n",
      "b\n",
      "c\n",
      "d\n",
      "f\n",
      "g\n",
      "c\n",
      "i\n"
     ]
    }
   ],
   "source": [
    "#그러면 제일 안 쪽의 원소값을 중심으로 a의 모든 값을 출력하세요\n",
    "for i in range(0,len(a)):\n",
    "    for j in range(0,len(a[i])):\n",
    "        print(a[i][j])"
   ]
  },
  {
   "cell_type": "code",
   "execution_count": 97,
   "id": "eebe73ca",
   "metadata": {},
   "outputs": [
    {
     "name": "stdout",
     "output_type": "stream",
     "text": [
      "['a', 'b', 'd', 'f', 'g', 'i']\n"
     ]
    }
   ],
   "source": [
    "b = []\n",
    "for i in range(0,len(a)):\n",
    "    for j in range(0,len(a[i])):\n",
    "       #print(a[i][j])\n",
    "        if a[i][j] != \"c\":\n",
    "            b.append(a[i][j])\n",
    "        else:\n",
    "            pass\n",
    "print(b)"
   ]
  },
  {
   "cell_type": "code",
   "execution_count": 101,
   "id": "0ea6d156",
   "metadata": {},
   "outputs": [
    {
     "name": "stdout",
     "output_type": "stream",
     "text": [
      "['a', 'b', 'd', 'f', 'g', 'i']\n"
     ]
    }
   ],
   "source": [
    "#이것을 정수 인덱스로 하였으면 값자체로 돌려서 동일한 결과 만들어보기\n",
    "b = []\n",
    "for i in a:\n",
    "    for j in i:\n",
    "        #print(j)\n",
    "        if j != \"c\":\n",
    "            b.append(j)\n",
    "        else:\n",
    "            pass\n",
    "print(b)  "
   ]
  },
  {
   "cell_type": "markdown",
   "id": "3b3e4ff9",
   "metadata": {},
   "source": [
    "### 함수"
   ]
  },
  {
   "cell_type": "code",
   "execution_count": null,
   "id": "1a742204",
   "metadata": {},
   "outputs": [],
   "source": [
    "def 내가 만든 함수명(입력1, 입력2, 입력3, ...):\n",
    "    입력과 출력의 관계!\n",
    "    return 출력들"
   ]
  },
  {
   "cell_type": "code",
   "execution_count": 103,
   "id": "a2da1827",
   "metadata": {},
   "outputs": [],
   "source": [
    "#더하기 새로운 함수 만들기..\n",
    "def sum2(a,b):\n",
    "    result = a + b\n",
    "    return result"
   ]
  },
  {
   "cell_type": "code",
   "execution_count": 105,
   "id": "cdf835ed",
   "metadata": {},
   "outputs": [
    {
     "data": {
      "text/plain": [
       "60"
      ]
     },
     "execution_count": 105,
     "metadata": {},
     "output_type": "execute_result"
    }
   ],
   "source": [
    "sum2(10,50)"
   ]
  },
  {
   "cell_type": "code",
   "execution_count": 107,
   "id": "40ecc5be",
   "metadata": {},
   "outputs": [
    {
     "data": {
      "text/plain": [
       "179"
      ]
     },
     "execution_count": 107,
     "metadata": {},
     "output_type": "execute_result"
    }
   ],
   "source": [
    "sum2(80,99)"
   ]
  },
  {
   "cell_type": "code",
   "execution_count": 108,
   "id": "d58a31f4",
   "metadata": {},
   "outputs": [],
   "source": [
    "#입력이 없는 함수\n",
    "def noinput():\n",
    "    result = \"hello python\"\n",
    "    return result"
   ]
  },
  {
   "cell_type": "code",
   "execution_count": 109,
   "id": "37903c47",
   "metadata": {},
   "outputs": [
    {
     "data": {
      "text/plain": [
       "'hello python'"
      ]
     },
     "execution_count": 109,
     "metadata": {},
     "output_type": "execute_result"
    }
   ],
   "source": [
    "a = noinput()\n",
    "a"
   ]
  },
  {
   "cell_type": "code",
   "execution_count": 116,
   "id": "f05a517b",
   "metadata": {},
   "outputs": [],
   "source": [
    "#출력이 없는 함수\n",
    "def noreturn(a,b):\n",
    "    result = a + b\n",
    "    print(\"hello\" + str(result))"
   ]
  },
  {
   "cell_type": "code",
   "execution_count": 117,
   "id": "8ee139a7",
   "metadata": {},
   "outputs": [
    {
     "name": "stdout",
     "output_type": "stream",
     "text": [
      "hello5\n"
     ]
    }
   ],
   "source": [
    "a = noreturn(2,3)\n",
    "a"
   ]
  },
  {
   "cell_type": "code",
   "execution_count": 118,
   "id": "35b4d7cb",
   "metadata": {},
   "outputs": [],
   "source": [
    "#입출력 다 없는 경우\n",
    "def noinreturn():\n",
    "    print(\"oh my god!\")"
   ]
  },
  {
   "cell_type": "code",
   "execution_count": 119,
   "id": "f73354b1",
   "metadata": {},
   "outputs": [
    {
     "name": "stdout",
     "output_type": "stream",
     "text": [
      "oh my god!\n"
     ]
    }
   ],
   "source": [
    "noinreturn()"
   ]
  },
  {
   "cell_type": "code",
   "execution_count": 120,
   "id": "1349605c",
   "metadata": {},
   "outputs": [
    {
     "data": {
      "text/plain": [
       "25"
      ]
     },
     "execution_count": 120,
     "metadata": {},
     "output_type": "execute_result"
    }
   ],
   "source": [
    "sum([1,3,5,7,9])"
   ]
  },
  {
   "cell_type": "code",
   "execution_count": 121,
   "id": "81ffc722",
   "metadata": {},
   "outputs": [
    {
     "ename": "TypeError",
     "evalue": "sum() takes at most 2 arguments (5 given)",
     "output_type": "error",
     "traceback": [
      "\u001b[1;31m---------------------------------------------------------------------------\u001b[0m",
      "\u001b[1;31mTypeError\u001b[0m                                 Traceback (most recent call last)",
      "\u001b[1;32m~\\AppData\\Local\\Temp/ipykernel_6684/1041999931.py\u001b[0m in \u001b[0;36m<module>\u001b[1;34m\u001b[0m\n\u001b[1;32m----> 1\u001b[1;33m \u001b[0msum\u001b[0m\u001b[1;33m(\u001b[0m\u001b[1;36m1\u001b[0m\u001b[1;33m,\u001b[0m\u001b[1;36m3\u001b[0m\u001b[1;33m,\u001b[0m\u001b[1;36m5\u001b[0m\u001b[1;33m,\u001b[0m\u001b[1;36m7\u001b[0m\u001b[1;33m,\u001b[0m\u001b[1;36m9\u001b[0m\u001b[1;33m)\u001b[0m\u001b[1;33m\u001b[0m\u001b[1;33m\u001b[0m\u001b[0m\n\u001b[0m",
      "\u001b[1;31mTypeError\u001b[0m: sum() takes at most 2 arguments (5 given)"
     ]
    }
   ],
   "source": [
    "sum(1,3,5,7,9) #리스트로 받지 않으면 계산 안됨"
   ]
  },
  {
   "cell_type": "code",
   "execution_count": 122,
   "id": "bd600c0c",
   "metadata": {},
   "outputs": [],
   "source": [
    "#가변적인 입력에 대한 처리 \n",
    "#숫자가 5개를 주던가 100개를 주던가 주든대로 그 수를 다 더해주는 함수를 만들고 싶은데 리스트안 하고 그냥 값만 던져주면 처리하는..\n",
    "#입력 : 숫자들 -> 몇 개들인지는 안 정해짐\n",
    "#출력 : 숫자\n",
    "#관계 : 입력으로 들어온 수를 다 더한 결과를 출력으로\n",
    "def sumrandom(*args):   # *args :필요한 수대로 들어감 \n",
    "    result = 0\n",
    "    for i in args:\n",
    "        result =+  i    #result =  result + i\n",
    "    return result "
   ]
  },
  {
   "cell_type": "code",
   "execution_count": 126,
   "id": "1c0c0be4",
   "metadata": {},
   "outputs": [
    {
     "data": {
      "text/plain": [
       "65"
      ]
     },
     "execution_count": 126,
     "metadata": {},
     "output_type": "execute_result"
    }
   ],
   "source": [
    "sumrandom(16,448,54,65)"
   ]
  },
  {
   "cell_type": "code",
   "execution_count": null,
   "id": "d89411bc",
   "metadata": {},
   "outputs": [],
   "source": [
    "#여기서 살짝 변형\n",
    "#내가 입력한 수들에 대한 총합을 궁금할 때도 있고, 수가 몇 개인지 궁금할 때도 있다\n",
    "#입력에 : sum -> 입력한 수들 더한 결과 알려주고\n",
    "#입력에 : count -> 입력한 수들의 개수를 알려주기\n",
    "myfunction(\"sum\", 1,3,5,7)\n",
    " # -> 16\n",
    "myfunction(\"count\", 1,3,5,7)\n",
    " # -> 4"
   ]
  },
  {
   "cell_type": "code",
   "execution_count": 127,
   "id": "ed143afa",
   "metadata": {},
   "outputs": [],
   "source": [
    "def myfun(f_name, *args):\n",
    "    if f_name == \"sum\":\n",
    "        result = 0\n",
    "        for i in args:\n",
    "            result += i\n",
    "        return result\n",
    "    elif f_name == \"count\":\n",
    "        return len(args)\n",
    "    else:\n",
    "        print(\"입력을 다시 확인해주세요.\")"
   ]
  },
  {
   "cell_type": "code",
   "execution_count": 132,
   "id": "a3b567f5",
   "metadata": {},
   "outputs": [
    {
     "name": "stdout",
     "output_type": "stream",
     "text": [
      "입력을 다시 확인해주세요.\n"
     ]
    }
   ],
   "source": [
    "a = myfun(\"sum\", 1,3,5,7,9)\n",
    "b = myfun(\"count\", 1,3,5,7,9)\n",
    "c = myfun(\"sums\", 1,3,5,7,9)\n",
    "d = myfun(\"count\", 1,3,5,7,9,11,13,15)"
   ]
  },
  {
   "cell_type": "code",
   "execution_count": 1,
   "id": "c44b186a",
   "metadata": {},
   "outputs": [],
   "source": [
    "#출력이 여러개인 함수\n",
    "def multireturn(a,b):\n",
    "    return a + b, a * b, a - b, a / b"
   ]
  },
  {
   "cell_type": "code",
   "execution_count": 2,
   "id": "21a19645",
   "metadata": {},
   "outputs": [
    {
     "data": {
      "text/plain": [
       "(30, 200, -10, 0.5)"
      ]
     },
     "execution_count": 2,
     "metadata": {},
     "output_type": "execute_result"
    }
   ],
   "source": [
    "multireturn(10,20)"
   ]
  },
  {
   "cell_type": "code",
   "execution_count": 8,
   "id": "eed1f035",
   "metadata": {},
   "outputs": [
    {
     "name": "stdout",
     "output_type": "stream",
     "text": [
      "110\n",
      "--------------------------------------------------\n",
      "100\n"
     ]
    }
   ],
   "source": [
    "# 이 함수는 입력을 받은 수에 10을 더해서 내보내는 출력\n",
    "def test_funct(a):\n",
    "    a = a + 10\n",
    "    return a\n",
    "a = 100\n",
    "print(test_funct(a))\n",
    "print(\"-\"*50)\n",
    "print(a)"
   ]
  },
  {
   "cell_type": "markdown",
   "id": "2e45d2bc",
   "metadata": {},
   "source": [
    "### lambda function\n",
    "#### lambda 입력1, 입력2... : 무엇을 할지 입력으로 표현"
   ]
  },
  {
   "cell_type": "code",
   "execution_count": 2,
   "id": "80675be9",
   "metadata": {},
   "outputs": [
    {
     "data": {
      "text/plain": [
       "40"
      ]
     },
     "execution_count": 2,
     "metadata": {},
     "output_type": "execute_result"
    }
   ],
   "source": [
    "#두 수를 더하는 것을 하려고 하는데\n",
    "#FM 방법: 함수 만들기\n",
    "def sum2(a,b):\n",
    "    return a + b\n",
    "sum2(10,30)"
   ]
  },
  {
   "cell_type": "code",
   "execution_count": 3,
   "id": "306ab4ae",
   "metadata": {},
   "outputs": [
    {
     "data": {
      "text/plain": [
       "500"
      ]
     },
     "execution_count": 3,
     "metadata": {},
     "output_type": "execute_result"
    }
   ],
   "source": [
    "sum2(100,400)"
   ]
  },
  {
   "cell_type": "code",
   "execution_count": 4,
   "id": "a8ea17f9",
   "metadata": {},
   "outputs": [
    {
     "data": {
      "text/plain": [
       "80"
      ]
     },
     "execution_count": 4,
     "metadata": {},
     "output_type": "execute_result"
    }
   ],
   "source": [
    "#한 번만 쓰고 땡 하려고 lambda함수로 만들 때  \n",
    "(lambda x,y: x+y)(30,50)  #함수는 부를 수 있지만 lambda는 부를 수 없음 (주로 데이터 전처리할 때 사용)"
   ]
  },
  {
   "cell_type": "code",
   "execution_count": null,
   "id": "a7e00653",
   "metadata": {},
   "outputs": [],
   "source": [
    "# 예제문제\n",
    "myfunc(\"sel1\", 1,2,3,4,5)\n",
    " # -> sel1은 뒤의 수들에 대한 +값과 *값을 리턴\n",
    "    # -> 1+2+3+4+5 = 15 , 1*2*3*4*5 = 120\n",
    "#15, 120\n",
    "\n",
    "myfunc(\"sel2\", 1,2,3,4,5)\n",
    "# -> sel2은 입력한 수들 중에서 제일 처음 수과 제일 마지막 수를 리턴\n",
    "#1 , 5\n",
    "\n",
    "myfunc(\"sel\", 1,2,3,4,5)\n",
    "# -> sel1,sel2가 아닌 입력인 경우에는 ' Check sel parameter!!' 경고 문구 출력"
   ]
  },
  {
   "cell_type": "code",
   "execution_count": null,
   "id": "a8cade06",
   "metadata": {},
   "outputs": [],
   "source": [
    "def myfunc(\"f_name\", *args)\n",
    "   if f_name = \"sel1\":\n",
    "     result = 0\n",
    "     result1 = 1\n",
    "     for i in args\n",
    "       result += i \n",
    "       reuslt1 *= i\n",
    "     return (result, result1)\n",
    "    elif f_name = \"sel2\":\n",
    "      return (arg[0],arg[len(arg)-1])\n",
    "    else:\n",
    "        print(\"Check sel Parameter\")"
   ]
  },
  {
   "cell_type": "code",
   "execution_count": null,
   "id": "15394cee",
   "metadata": {},
   "outputs": [],
   "source": [
    "#정답\n",
    "def myfunc(choice, *args):\n",
    "    if choice == \"sel1\":\n",
    "        temp1 = 0 # +용 초기화\n",
    "        temp2 = 1 # *용 초기화\n",
    "        for i in args:\n",
    "            temp1 += i  #temp1 = temp1 + i\n",
    "            temp2 *= i  #temp2 = temp2 * i\n",
    "        return temp1, temp2\n",
    "    elif choice == \"sel2\":\n",
    "        first_num = args[0] \n",
    "        last_num = args[len(args)-1]\n",
    "        return first_num, last_num\n",
    "    else:\n",
    "        print(\"Check sel Parameter\")"
   ]
  },
  {
   "cell_type": "code",
   "execution_count": null,
   "id": "53d9beee",
   "metadata": {},
   "outputs": [],
   "source": [
    "myfunc(\"sel1\", 1,2,3,4,5)"
   ]
  },
  {
   "cell_type": "code",
   "execution_count": null,
   "id": "abea46f5",
   "metadata": {},
   "outputs": [],
   "source": [
    "myfunc(\"sel2\", 1,2,3,4,5)"
   ]
  },
  {
   "cell_type": "code",
   "execution_count": null,
   "id": "6203dcb3",
   "metadata": {},
   "outputs": [],
   "source": [
    "my func(\"sel\", 1,2,3,4,5)"
   ]
  }
 ],
 "metadata": {
  "kernelspec": {
   "display_name": "Python 3 (ipykernel)",
   "language": "python",
   "name": "python3"
  },
  "language_info": {
   "codemirror_mode": {
    "name": "ipython",
    "version": 3
   },
   "file_extension": ".py",
   "mimetype": "text/x-python",
   "name": "python",
   "nbconvert_exporter": "python",
   "pygments_lexer": "ipython3",
   "version": "3.9.7"
  }
 },
 "nbformat": 4,
 "nbformat_minor": 5
}
