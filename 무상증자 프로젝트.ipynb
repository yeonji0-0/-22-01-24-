{
 "cells": [
  {
   "cell_type": "code",
   "execution_count": 6,
   "id": "bd02e117",
   "metadata": {},
   "outputs": [],
   "source": [
    "import numpy as np\n",
    "import pandas as pd\n",
    "\n",
    "import matplotlib.pyplot as plt\n",
    "import seaborn as sns\n",
    "\n",
    "from sklearn import tree\n",
    "from sklearn import metrics  \n",
    "\n",
    "%matplotlib inline"
   ]
  },
  {
   "cell_type": "code",
   "execution_count": 313,
   "id": "67c51e1c",
   "metadata": {},
   "outputs": [
    {
     "data": {
      "text/html": [
       "<div>\n",
       "<style scoped>\n",
       "    .dataframe tbody tr th:only-of-type {\n",
       "        vertical-align: middle;\n",
       "    }\n",
       "\n",
       "    .dataframe tbody tr th {\n",
       "        vertical-align: top;\n",
       "    }\n",
       "\n",
       "    .dataframe thead th {\n",
       "        text-align: right;\n",
       "    }\n",
       "</style>\n",
       "<table border=\"1\" class=\"dataframe\">\n",
       "  <thead>\n",
       "    <tr style=\"text-align: right;\">\n",
       "      <th></th>\n",
       "      <th>Unnamed: 0</th>\n",
       "      <th>회사명</th>\n",
       "      <th>code</th>\n",
       "      <th>Date</th>\n",
       "      <th>High</th>\n",
       "      <th>Low</th>\n",
       "      <th>Close</th>\n",
       "      <th>Volume</th>\n",
       "      <th>기관합계</th>\n",
       "      <th>개인</th>\n",
       "      <th>...</th>\n",
       "      <th>자기주식비율</th>\n",
       "      <th>베타</th>\n",
       "      <th>거래회전율</th>\n",
       "      <th>기업규모(log)</th>\n",
       "      <th>증자비율</th>\n",
       "      <th>무상증자여부</th>\n",
       "      <th>Name</th>\n",
       "      <th>Market</th>\n",
       "      <th>Sector</th>\n",
       "      <th>Industry</th>\n",
       "    </tr>\n",
       "  </thead>\n",
       "  <tbody>\n",
       "    <tr>\n",
       "      <th>0</th>\n",
       "      <td>0</td>\n",
       "      <td>코오롱티슈진</td>\n",
       "      <td>950160</td>\n",
       "      <td>2018-06-30</td>\n",
       "      <td>38407.500000</td>\n",
       "      <td>36175.000000</td>\n",
       "      <td>36943.750000</td>\n",
       "      <td>4.129458e+05</td>\n",
       "      <td>-3.955232e+08</td>\n",
       "      <td>5.744925e+08</td>\n",
       "      <td>...</td>\n",
       "      <td>0.0</td>\n",
       "      <td>1.415067</td>\n",
       "      <td>0.033580</td>\n",
       "      <td>26.842061</td>\n",
       "      <td>0.0</td>\n",
       "      <td>0</td>\n",
       "      <td>코오롱티슈진</td>\n",
       "      <td>KOSDAQ</td>\n",
       "      <td>기초 의약물질 및 생물학적 제제 제조업</td>\n",
       "      <td>골관절염 치료제</td>\n",
       "    </tr>\n",
       "    <tr>\n",
       "      <th>1</th>\n",
       "      <td>1</td>\n",
       "      <td>코오롱티슈진</td>\n",
       "      <td>950160</td>\n",
       "      <td>2018-09-30</td>\n",
       "      <td>41709.836066</td>\n",
       "      <td>39832.786885</td>\n",
       "      <td>40669.672131</td>\n",
       "      <td>4.188858e+05</td>\n",
       "      <td>2.655090e+08</td>\n",
       "      <td>-5.346277e+08</td>\n",
       "      <td>...</td>\n",
       "      <td>0.0</td>\n",
       "      <td>1.360180</td>\n",
       "      <td>0.034036</td>\n",
       "      <td>26.938929</td>\n",
       "      <td>0.0</td>\n",
       "      <td>0</td>\n",
       "      <td>코오롱티슈진</td>\n",
       "      <td>KOSDAQ</td>\n",
       "      <td>기초 의약물질 및 생물학적 제제 제조업</td>\n",
       "      <td>골관절염 치료제</td>\n",
       "    </tr>\n",
       "    <tr>\n",
       "      <th>2</th>\n",
       "      <td>2</td>\n",
       "      <td>코오롱티슈진</td>\n",
       "      <td>950160</td>\n",
       "      <td>2018-12-31</td>\n",
       "      <td>42162.903226</td>\n",
       "      <td>39842.741935</td>\n",
       "      <td>40910.483871</td>\n",
       "      <td>4.661873e+05</td>\n",
       "      <td>6.644533e+07</td>\n",
       "      <td>-4.936410e+07</td>\n",
       "      <td>...</td>\n",
       "      <td>0.0</td>\n",
       "      <td>1.799912</td>\n",
       "      <td>0.037865</td>\n",
       "      <td>26.945217</td>\n",
       "      <td>0.0</td>\n",
       "      <td>0</td>\n",
       "      <td>코오롱티슈진</td>\n",
       "      <td>KOSDAQ</td>\n",
       "      <td>기초 의약물질 및 생물학적 제제 제조업</td>\n",
       "      <td>골관절염 치료제</td>\n",
       "    </tr>\n",
       "    <tr>\n",
       "      <th>3</th>\n",
       "      <td>3</td>\n",
       "      <td>코오롱티슈진</td>\n",
       "      <td>950160</td>\n",
       "      <td>2019-03-31</td>\n",
       "      <td>39905.084746</td>\n",
       "      <td>38791.525424</td>\n",
       "      <td>39194.067797</td>\n",
       "      <td>2.228908e+05</td>\n",
       "      <td>-2.689390e+08</td>\n",
       "      <td>6.050796e+08</td>\n",
       "      <td>...</td>\n",
       "      <td>0.0</td>\n",
       "      <td>0.868300</td>\n",
       "      <td>0.018090</td>\n",
       "      <td>26.903124</td>\n",
       "      <td>0.0</td>\n",
       "      <td>0</td>\n",
       "      <td>코오롱티슈진</td>\n",
       "      <td>KOSDAQ</td>\n",
       "      <td>기초 의약물질 및 생물학적 제제 제조업</td>\n",
       "      <td>골관절염 치료제</td>\n",
       "    </tr>\n",
       "    <tr>\n",
       "      <th>4</th>\n",
       "      <td>4</td>\n",
       "      <td>코오롱티슈진</td>\n",
       "      <td>950160</td>\n",
       "      <td>2019-06-30</td>\n",
       "      <td>15837.500000</td>\n",
       "      <td>14503.750000</td>\n",
       "      <td>14966.750000</td>\n",
       "      <td>2.609823e+06</td>\n",
       "      <td>-4.608690e+08</td>\n",
       "      <td>3.310673e+08</td>\n",
       "      <td>...</td>\n",
       "      <td>0.0</td>\n",
       "      <td>-0.538061</td>\n",
       "      <td>0.211816</td>\n",
       "      <td>25.940435</td>\n",
       "      <td>0.0</td>\n",
       "      <td>0</td>\n",
       "      <td>코오롱티슈진</td>\n",
       "      <td>KOSDAQ</td>\n",
       "      <td>기초 의약물질 및 생물학적 제제 제조업</td>\n",
       "      <td>골관절염 치료제</td>\n",
       "    </tr>\n",
       "    <tr>\n",
       "      <th>...</th>\n",
       "      <td>...</td>\n",
       "      <td>...</td>\n",
       "      <td>...</td>\n",
       "      <td>...</td>\n",
       "      <td>...</td>\n",
       "      <td>...</td>\n",
       "      <td>...</td>\n",
       "      <td>...</td>\n",
       "      <td>...</td>\n",
       "      <td>...</td>\n",
       "      <td>...</td>\n",
       "      <td>...</td>\n",
       "      <td>...</td>\n",
       "      <td>...</td>\n",
       "      <td>...</td>\n",
       "      <td>...</td>\n",
       "      <td>...</td>\n",
       "      <td>...</td>\n",
       "      <td>...</td>\n",
       "      <td>...</td>\n",
       "      <td>...</td>\n",
       "    </tr>\n",
       "    <tr>\n",
       "      <th>13569</th>\n",
       "      <td>13569</td>\n",
       "      <td>와이팜</td>\n",
       "      <td>332570</td>\n",
       "      <td>2021-03-31</td>\n",
       "      <td>11871.590909</td>\n",
       "      <td>11378.409091</td>\n",
       "      <td>11584.090909</td>\n",
       "      <td>2.294209e+05</td>\n",
       "      <td>-2.993423e+08</td>\n",
       "      <td>4.013595e+08</td>\n",
       "      <td>...</td>\n",
       "      <td>0.0</td>\n",
       "      <td>1.040569</td>\n",
       "      <td>0.006177</td>\n",
       "      <td>26.842586</td>\n",
       "      <td>0.0</td>\n",
       "      <td>0</td>\n",
       "      <td>와이팜</td>\n",
       "      <td>KOSDAQ</td>\n",
       "      <td>전자부품 제조업</td>\n",
       "      <td>전력증폭기 모듈(PAM)</td>\n",
       "    </tr>\n",
       "    <tr>\n",
       "      <th>13570</th>\n",
       "      <td>13570</td>\n",
       "      <td>와이팜</td>\n",
       "      <td>332570</td>\n",
       "      <td>2021-06-30</td>\n",
       "      <td>10216.190476</td>\n",
       "      <td>9943.492063</td>\n",
       "      <td>10059.841270</td>\n",
       "      <td>1.440611e+05</td>\n",
       "      <td>-1.379636e+08</td>\n",
       "      <td>1.753216e+08</td>\n",
       "      <td>...</td>\n",
       "      <td>0.0</td>\n",
       "      <td>1.133480</td>\n",
       "      <td>0.003879</td>\n",
       "      <td>26.736989</td>\n",
       "      <td>0.0</td>\n",
       "      <td>0</td>\n",
       "      <td>와이팜</td>\n",
       "      <td>KOSDAQ</td>\n",
       "      <td>전자부품 제조업</td>\n",
       "      <td>전력증폭기 모듈(PAM)</td>\n",
       "    </tr>\n",
       "    <tr>\n",
       "      <th>13571</th>\n",
       "      <td>13571</td>\n",
       "      <td>와이팜</td>\n",
       "      <td>332570</td>\n",
       "      <td>2021-09-30</td>\n",
       "      <td>9213.225806</td>\n",
       "      <td>8937.741935</td>\n",
       "      <td>9059.032258</td>\n",
       "      <td>2.590385e+05</td>\n",
       "      <td>-1.768310e+08</td>\n",
       "      <td>3.520642e+08</td>\n",
       "      <td>...</td>\n",
       "      <td>0.0</td>\n",
       "      <td>1.096917</td>\n",
       "      <td>0.006974</td>\n",
       "      <td>26.641895</td>\n",
       "      <td>0.0</td>\n",
       "      <td>0</td>\n",
       "      <td>와이팜</td>\n",
       "      <td>KOSDAQ</td>\n",
       "      <td>전자부품 제조업</td>\n",
       "      <td>전력증폭기 모듈(PAM)</td>\n",
       "    </tr>\n",
       "    <tr>\n",
       "      <th>13572</th>\n",
       "      <td>13572</td>\n",
       "      <td>와이팜</td>\n",
       "      <td>332570</td>\n",
       "      <td>2021-12-31</td>\n",
       "      <td>8517.460317</td>\n",
       "      <td>8265.079365</td>\n",
       "      <td>8373.015873</td>\n",
       "      <td>1.266159e+05</td>\n",
       "      <td>-1.541793e+07</td>\n",
       "      <td>4.249733e+07</td>\n",
       "      <td>...</td>\n",
       "      <td>0.0</td>\n",
       "      <td>0.852575</td>\n",
       "      <td>0.003409</td>\n",
       "      <td>26.617834</td>\n",
       "      <td>0.0</td>\n",
       "      <td>0</td>\n",
       "      <td>와이팜</td>\n",
       "      <td>KOSDAQ</td>\n",
       "      <td>전자부품 제조업</td>\n",
       "      <td>전력증폭기 모듈(PAM)</td>\n",
       "    </tr>\n",
       "    <tr>\n",
       "      <th>13573</th>\n",
       "      <td>13573</td>\n",
       "      <td>덱스터</td>\n",
       "      <td>206560</td>\n",
       "      <td>2016-06-30</td>\n",
       "      <td>10615.625000</td>\n",
       "      <td>10019.875000</td>\n",
       "      <td>10255.625000</td>\n",
       "      <td>1.474630e+05</td>\n",
       "      <td>-3.145508e+07</td>\n",
       "      <td>-1.005283e+08</td>\n",
       "      <td>...</td>\n",
       "      <td>0.0</td>\n",
       "      <td>1.172555</td>\n",
       "      <td>0.013772</td>\n",
       "      <td>25.512641</td>\n",
       "      <td>0.0</td>\n",
       "      <td>0</td>\n",
       "      <td>덱스터</td>\n",
       "      <td>KOSDAQ</td>\n",
       "      <td>영화, 비디오물, 방송프로그램 제작 및 배급업</td>\n",
       "      <td>시각효과(Visual Effect, VFX)</td>\n",
       "    </tr>\n",
       "  </tbody>\n",
       "</table>\n",
       "<p>13574 rows × 56 columns</p>\n",
       "</div>"
      ],
      "text/plain": [
       "       Unnamed: 0     회사명    code        Date          High           Low  \\\n",
       "0               0  코오롱티슈진  950160  2018-06-30  38407.500000  36175.000000   \n",
       "1               1  코오롱티슈진  950160  2018-09-30  41709.836066  39832.786885   \n",
       "2               2  코오롱티슈진  950160  2018-12-31  42162.903226  39842.741935   \n",
       "3               3  코오롱티슈진  950160  2019-03-31  39905.084746  38791.525424   \n",
       "4               4  코오롱티슈진  950160  2019-06-30  15837.500000  14503.750000   \n",
       "...           ...     ...     ...         ...           ...           ...   \n",
       "13569       13569     와이팜  332570  2021-03-31  11871.590909  11378.409091   \n",
       "13570       13570     와이팜  332570  2021-06-30  10216.190476   9943.492063   \n",
       "13571       13571     와이팜  332570  2021-09-30   9213.225806   8937.741935   \n",
       "13572       13572     와이팜  332570  2021-12-31   8517.460317   8265.079365   \n",
       "13573       13573     덱스터  206560  2016-06-30  10615.625000  10019.875000   \n",
       "\n",
       "              Close        Volume          기관합계            개인  ...  자기주식비율  \\\n",
       "0      36943.750000  4.129458e+05 -3.955232e+08  5.744925e+08  ...     0.0   \n",
       "1      40669.672131  4.188858e+05  2.655090e+08 -5.346277e+08  ...     0.0   \n",
       "2      40910.483871  4.661873e+05  6.644533e+07 -4.936410e+07  ...     0.0   \n",
       "3      39194.067797  2.228908e+05 -2.689390e+08  6.050796e+08  ...     0.0   \n",
       "4      14966.750000  2.609823e+06 -4.608690e+08  3.310673e+08  ...     0.0   \n",
       "...             ...           ...           ...           ...  ...     ...   \n",
       "13569  11584.090909  2.294209e+05 -2.993423e+08  4.013595e+08  ...     0.0   \n",
       "13570  10059.841270  1.440611e+05 -1.379636e+08  1.753216e+08  ...     0.0   \n",
       "13571   9059.032258  2.590385e+05 -1.768310e+08  3.520642e+08  ...     0.0   \n",
       "13572   8373.015873  1.266159e+05 -1.541793e+07  4.249733e+07  ...     0.0   \n",
       "13573  10255.625000  1.474630e+05 -3.145508e+07 -1.005283e+08  ...     0.0   \n",
       "\n",
       "             베타     거래회전율  기업규모(log)  증자비율  무상증자여부    Name  Market  \\\n",
       "0      1.415067  0.033580  26.842061   0.0       0  코오롱티슈진  KOSDAQ   \n",
       "1      1.360180  0.034036  26.938929   0.0       0  코오롱티슈진  KOSDAQ   \n",
       "2      1.799912  0.037865  26.945217   0.0       0  코오롱티슈진  KOSDAQ   \n",
       "3      0.868300  0.018090  26.903124   0.0       0  코오롱티슈진  KOSDAQ   \n",
       "4     -0.538061  0.211816  25.940435   0.0       0  코오롱티슈진  KOSDAQ   \n",
       "...         ...       ...        ...   ...     ...     ...     ...   \n",
       "13569  1.040569  0.006177  26.842586   0.0       0     와이팜  KOSDAQ   \n",
       "13570  1.133480  0.003879  26.736989   0.0       0     와이팜  KOSDAQ   \n",
       "13571  1.096917  0.006974  26.641895   0.0       0     와이팜  KOSDAQ   \n",
       "13572  0.852575  0.003409  26.617834   0.0       0     와이팜  KOSDAQ   \n",
       "13573  1.172555  0.013772  25.512641   0.0       0     덱스터  KOSDAQ   \n",
       "\n",
       "                          Sector                  Industry  \n",
       "0          기초 의약물질 및 생물학적 제제 제조업                  골관절염 치료제  \n",
       "1          기초 의약물질 및 생물학적 제제 제조업                  골관절염 치료제  \n",
       "2          기초 의약물질 및 생물학적 제제 제조업                  골관절염 치료제  \n",
       "3          기초 의약물질 및 생물학적 제제 제조업                  골관절염 치료제  \n",
       "4          기초 의약물질 및 생물학적 제제 제조업                  골관절염 치료제  \n",
       "...                          ...                       ...  \n",
       "13569                   전자부품 제조업             전력증폭기 모듈(PAM)  \n",
       "13570                   전자부품 제조업             전력증폭기 모듈(PAM)  \n",
       "13571                   전자부품 제조업             전력증폭기 모듈(PAM)  \n",
       "13572                   전자부품 제조업             전력증폭기 모듈(PAM)  \n",
       "13573  영화, 비디오물, 방송프로그램 제작 및 배급업  시각효과(Visual Effect, VFX)  \n",
       "\n",
       "[13574 rows x 56 columns]"
      ]
     },
     "execution_count": 313,
     "metadata": {},
     "output_type": "execute_result"
    }
   ],
   "source": [
    "data = pd.read_csv(\"C:/Users/MEDICI/Documents/무상증자data2.csv\")\n",
    "data"
   ]
  },
  {
   "cell_type": "code",
   "execution_count": 356,
   "id": "42cd8b97",
   "metadata": {},
   "outputs": [
    {
     "name": "stdout",
     "output_type": "stream",
     "text": [
      "Unnamed: 0: 0.0\n",
      "회사명: 0.0\n",
      "code: 0.0\n",
      "Date: 0.0\n",
      "High: 0.0\n",
      "Low: 0.0\n",
      "Close: 0.0\n",
      "Volume: 0.0\n",
      "기관합계: 0.0\n",
      "개인: 0.0\n",
      "MFI: 0.0\n",
      "윌리엄R%: 0.0\n",
      "RSI: 0.0\n",
      "CCI: 0.0\n",
      "정배열: 0.0\n",
      "역배열: 0.0\n",
      "OBV: 0.0\n",
      "볼린저밴드위치: 0.0\n",
      "소액주주보유주식비율: 0.0\n",
      "최대주주_특수관계인지분율: 0.0\n",
      "유동비율: 0.0\n",
      "부채비율: 0.0\n",
      "자기자본비율: 0.0\n",
      "매출액증가율: 0.0\n",
      "영업이익증가율: 0.0\n",
      "EBITDA증가율: 0.0\n",
      "EPS증가율: 0.0\n",
      "당기순이익증가율: 0.0\n",
      "흑자전환: 0.0\n",
      "자산성장율: 0.0\n",
      "자본성장율: 0.0\n",
      "부채비율성장율: 0.0\n",
      "유동비율성장율: 0.0\n",
      "자산회전율: 0.0\n",
      "자산회전율성장율: 0.0\n",
      "부채회전율: 0.0\n",
      "자본회전율: 0.0\n",
      "영업이익율: 0.0\n",
      "EBITDA마진율: 0.0\n",
      "ROA: 0.0\n",
      "ROE: 0.0\n",
      "OP/A: 0.0\n",
      "PER: 0.0\n",
      "PSR: 0.0\n",
      "PBR: 0.0\n",
      "EV/EBITDA: 0.0\n",
      "자기주식비율: 0.0\n",
      "베타: 0.0\n",
      "거래회전율: 0.0\n",
      "기업규모(log): 0.0\n",
      "증자비율: 0.0\n",
      "무상증자여부: 0.0\n",
      "Name: 0.02453219390010314\n",
      "Market: 0.0\n",
      "Sector: 0.0\n",
      "Industry: 0.0\n"
     ]
    }
   ],
   "source": [
    "for col in data.columns:\n",
    "    print(str(col) + \":\", data[col].isnull().sum()/len(data) )"
   ]
  },
  {
   "cell_type": "code",
   "execution_count": 357,
   "id": "32f8368c",
   "metadata": {},
   "outputs": [
    {
     "name": "stdout",
     "output_type": "stream",
     "text": [
      "<class 'pandas.core.frame.DataFrame'>\n",
      "RangeIndex: 13574 entries, 0 to 13573\n",
      "Data columns (total 56 columns):\n",
      " #   Column         Non-Null Count  Dtype  \n",
      "---  ------         --------------  -----  \n",
      " 0   Unnamed: 0     13574 non-null  int64  \n",
      " 1   회사명            13574 non-null  object \n",
      " 2   code           13574 non-null  int64  \n",
      " 3   Date           13574 non-null  object \n",
      " 4   High           13574 non-null  float64\n",
      " 5   Low            13574 non-null  float64\n",
      " 6   Close          13574 non-null  float64\n",
      " 7   Volume         13574 non-null  float64\n",
      " 8   기관합계           13574 non-null  float64\n",
      " 9   개인             13574 non-null  float64\n",
      " 10  MFI            13574 non-null  float64\n",
      " 11  윌리엄R%          13574 non-null  float64\n",
      " 12  RSI            13574 non-null  float64\n",
      " 13  CCI            13574 non-null  float64\n",
      " 14  정배열            13574 non-null  float64\n",
      " 15  역배열            13574 non-null  float64\n",
      " 16  OBV            13574 non-null  float64\n",
      " 17  볼린저밴드위치        13574 non-null  float64\n",
      " 18  소액주주보유주식비율     13574 non-null  float64\n",
      " 19  최대주주_특수관계인지분율  13574 non-null  float64\n",
      " 20  유동비율           13574 non-null  float64\n",
      " 21  부채비율           13574 non-null  float64\n",
      " 22  자기자본비율         13574 non-null  float64\n",
      " 23  매출액증가율         13574 non-null  float64\n",
      " 24  영업이익증가율        13574 non-null  float64\n",
      " 25  EBITDA증가율      13574 non-null  float64\n",
      " 26  EPS증가율         13574 non-null  float64\n",
      " 27  당기순이익증가율       13574 non-null  float64\n",
      " 28  흑자전환           13574 non-null  float64\n",
      " 29  자산성장율          13574 non-null  float64\n",
      " 30  자본성장율          13574 non-null  float64\n",
      " 31  부채비율성장율        13574 non-null  float64\n",
      " 32  유동비율성장율        13574 non-null  float64\n",
      " 33  자산회전율          13574 non-null  float64\n",
      " 34  자산회전율성장율       13574 non-null  float64\n",
      " 35  부채회전율          13574 non-null  float64\n",
      " 36  자본회전율          13574 non-null  float64\n",
      " 37  영업이익율          13574 non-null  float64\n",
      " 38  EBITDA마진율      13574 non-null  float64\n",
      " 39  ROA            13574 non-null  float64\n",
      " 40  ROE            13574 non-null  float64\n",
      " 41  OP/A           13574 non-null  float64\n",
      " 42  PER            13574 non-null  float64\n",
      " 43  PSR            13574 non-null  float64\n",
      " 44  PBR            13574 non-null  float64\n",
      " 45  EV/EBITDA      13574 non-null  float64\n",
      " 46  자기주식비율         13574 non-null  float64\n",
      " 47  베타             13574 non-null  float64\n",
      " 48  거래회전율          13574 non-null  float64\n",
      " 49  기업규모(log)      13574 non-null  float64\n",
      " 50  증자비율           13574 non-null  float64\n",
      " 51  무상증자여부         13574 non-null  float64\n",
      " 52  Name           13241 non-null  object \n",
      " 53  Market         13574 non-null  object \n",
      " 54  Sector         13574 non-null  object \n",
      " 55  Industry       13574 non-null  object \n",
      "dtypes: float64(48), int64(2), object(6)\n",
      "memory usage: 5.8+ MB\n"
     ]
    }
   ],
   "source": [
    "data.info()"
   ]
  },
  {
   "cell_type": "code",
   "execution_count": 355,
   "id": "d6026174",
   "metadata": {},
   "outputs": [],
   "source": [
    "data.replace(np.inf, np.nan, inplace = True)"
   ]
  },
  {
   "cell_type": "code",
   "execution_count": 315,
   "id": "f9717faa",
   "metadata": {},
   "outputs": [],
   "source": [
    "data[\"매출액증가율\"].fillna(0, inplace=True)\n",
    "data[\"유동비율성장율\"].fillna(0, inplace=True)\n",
    "data[\"자산회전율성장율\"].fillna(0, inplace=True)"
   ]
  },
  {
   "cell_type": "code",
   "execution_count": 318,
   "id": "16926967",
   "metadata": {},
   "outputs": [],
   "source": [
    "data[\"Market\"].fillna(\"None\", inplace=True)\n",
    "data[\"Sector\"].fillna(\"None\", inplace=True)\n",
    "data[\"Industry\"].fillna(\"None\", inplace=True)"
   ]
  },
  {
   "cell_type": "code",
   "execution_count": 319,
   "id": "548b5bfd",
   "metadata": {},
   "outputs": [],
   "source": [
    "data[\"영업이익율\"].replace('#NAME?', 0, inplace = True)\n",
    "data[\"EBITDA마진율\"].replace('#NAME?', 0, inplace = True)"
   ]
  },
  {
   "cell_type": "code",
   "execution_count": 326,
   "id": "c2f58498",
   "metadata": {},
   "outputs": [],
   "source": [
    "data[\"EBITDA마진율\"].fillna(0, inplace=True)\n",
    "data[\"유동비율\"].fillna(0, inplace=True)\n",
    "data[\"매출액증가율\"].fillna(0, inplace=True)\n",
    "data[\"유동비율성장율\"].fillna(0, inplace=True)\n",
    "data[\"자산회전율성장율\"].fillna(0, inplace=True)\n",
    "data[\"PSR\"].fillna(0, inplace=True)"
   ]
  },
  {
   "cell_type": "code",
   "execution_count": 342,
   "id": "8b391b42",
   "metadata": {},
   "outputs": [],
   "source": [
    "data[\"영업이익율\"] = data[\"영업이익율\"].astype('float')\n",
    "data[\"EBITDA마진율\"] = data[\"EBITDA마진율\"].astype('float')\n",
    "data[\"무상증자여부\"] = data[\"무상증자여부\"].astype('float')"
   ]
  },
  {
   "cell_type": "markdown",
   "id": "f00ecdd3",
   "metadata": {},
   "source": [
    "### 인코딩"
   ]
  },
  {
   "cell_type": "code",
   "execution_count": 306,
   "id": "bb9cc4f7",
   "metadata": {},
   "outputs": [],
   "source": [
    "from sklearn.preprocessing import LabelEncoder"
   ]
  },
  {
   "cell_type": "code",
   "execution_count": 307,
   "id": "b9524169",
   "metadata": {},
   "outputs": [],
   "source": [
    "def encode_feature(df):\n",
    "    features = [\"Date\",\"Market\",\"Sector\",\"Industry\"]\n",
    "\n",
    "\n",
    "    for f in features:\n",
    "        le = LabelEncoder()\n",
    "        le.fit(df.loc[:,f]) \n",
    "        df.loc[:,f] = le.transform(df.loc[:,f])\n",
    "\n",
    "    return df"
   ]
  },
  {
   "cell_type": "code",
   "execution_count": 308,
   "id": "0cd84f82",
   "metadata": {},
   "outputs": [
    {
     "data": {
      "text/html": [
       "<div>\n",
       "<style scoped>\n",
       "    .dataframe tbody tr th:only-of-type {\n",
       "        vertical-align: middle;\n",
       "    }\n",
       "\n",
       "    .dataframe tbody tr th {\n",
       "        vertical-align: top;\n",
       "    }\n",
       "\n",
       "    .dataframe thead th {\n",
       "        text-align: right;\n",
       "    }\n",
       "</style>\n",
       "<table border=\"1\" class=\"dataframe\">\n",
       "  <thead>\n",
       "    <tr style=\"text-align: right;\">\n",
       "      <th></th>\n",
       "      <th>Unnamed: 0</th>\n",
       "      <th>회사명</th>\n",
       "      <th>code</th>\n",
       "      <th>Date</th>\n",
       "      <th>High</th>\n",
       "      <th>Low</th>\n",
       "      <th>Close</th>\n",
       "      <th>Volume</th>\n",
       "      <th>기관합계</th>\n",
       "      <th>개인</th>\n",
       "      <th>...</th>\n",
       "      <th>자기주식비율</th>\n",
       "      <th>베타</th>\n",
       "      <th>거래회전율</th>\n",
       "      <th>기업규모(log)</th>\n",
       "      <th>증자비율</th>\n",
       "      <th>무상증자여부</th>\n",
       "      <th>Name</th>\n",
       "      <th>Market</th>\n",
       "      <th>Sector</th>\n",
       "      <th>Industry</th>\n",
       "    </tr>\n",
       "  </thead>\n",
       "  <tbody>\n",
       "    <tr>\n",
       "      <th>0</th>\n",
       "      <td>0</td>\n",
       "      <td>코오롱티슈진</td>\n",
       "      <td>950160</td>\n",
       "      <td>8</td>\n",
       "      <td>38407.500000</td>\n",
       "      <td>36175.000000</td>\n",
       "      <td>36943.750000</td>\n",
       "      <td>4.129458e+05</td>\n",
       "      <td>-3.955232e+08</td>\n",
       "      <td>5.744925e+08</td>\n",
       "      <td>...</td>\n",
       "      <td>0.0</td>\n",
       "      <td>1.415067</td>\n",
       "      <td>0.033580</td>\n",
       "      <td>26.842061</td>\n",
       "      <td>0.0</td>\n",
       "      <td>0</td>\n",
       "      <td>코오롱티슈진</td>\n",
       "      <td>0</td>\n",
       "      <td>20</td>\n",
       "      <td>113</td>\n",
       "    </tr>\n",
       "    <tr>\n",
       "      <th>1</th>\n",
       "      <td>1</td>\n",
       "      <td>코오롱티슈진</td>\n",
       "      <td>950160</td>\n",
       "      <td>9</td>\n",
       "      <td>41709.836066</td>\n",
       "      <td>39832.786885</td>\n",
       "      <td>40669.672131</td>\n",
       "      <td>4.188858e+05</td>\n",
       "      <td>2.655090e+08</td>\n",
       "      <td>-5.346277e+08</td>\n",
       "      <td>...</td>\n",
       "      <td>0.0</td>\n",
       "      <td>1.360180</td>\n",
       "      <td>0.034036</td>\n",
       "      <td>26.938929</td>\n",
       "      <td>0.0</td>\n",
       "      <td>0</td>\n",
       "      <td>코오롱티슈진</td>\n",
       "      <td>0</td>\n",
       "      <td>20</td>\n",
       "      <td>113</td>\n",
       "    </tr>\n",
       "    <tr>\n",
       "      <th>2</th>\n",
       "      <td>2</td>\n",
       "      <td>코오롱티슈진</td>\n",
       "      <td>950160</td>\n",
       "      <td>10</td>\n",
       "      <td>42162.903226</td>\n",
       "      <td>39842.741935</td>\n",
       "      <td>40910.483871</td>\n",
       "      <td>4.661873e+05</td>\n",
       "      <td>6.644533e+07</td>\n",
       "      <td>-4.936410e+07</td>\n",
       "      <td>...</td>\n",
       "      <td>0.0</td>\n",
       "      <td>1.799912</td>\n",
       "      <td>0.037865</td>\n",
       "      <td>26.945217</td>\n",
       "      <td>0.0</td>\n",
       "      <td>0</td>\n",
       "      <td>코오롱티슈진</td>\n",
       "      <td>0</td>\n",
       "      <td>20</td>\n",
       "      <td>113</td>\n",
       "    </tr>\n",
       "    <tr>\n",
       "      <th>3</th>\n",
       "      <td>3</td>\n",
       "      <td>코오롱티슈진</td>\n",
       "      <td>950160</td>\n",
       "      <td>11</td>\n",
       "      <td>39905.084746</td>\n",
       "      <td>38791.525424</td>\n",
       "      <td>39194.067797</td>\n",
       "      <td>2.228908e+05</td>\n",
       "      <td>-2.689390e+08</td>\n",
       "      <td>6.050796e+08</td>\n",
       "      <td>...</td>\n",
       "      <td>0.0</td>\n",
       "      <td>0.868300</td>\n",
       "      <td>0.018090</td>\n",
       "      <td>26.903124</td>\n",
       "      <td>0.0</td>\n",
       "      <td>0</td>\n",
       "      <td>코오롱티슈진</td>\n",
       "      <td>0</td>\n",
       "      <td>20</td>\n",
       "      <td>113</td>\n",
       "    </tr>\n",
       "    <tr>\n",
       "      <th>4</th>\n",
       "      <td>4</td>\n",
       "      <td>코오롱티슈진</td>\n",
       "      <td>950160</td>\n",
       "      <td>12</td>\n",
       "      <td>15837.500000</td>\n",
       "      <td>14503.750000</td>\n",
       "      <td>14966.750000</td>\n",
       "      <td>2.609823e+06</td>\n",
       "      <td>-4.608690e+08</td>\n",
       "      <td>3.310673e+08</td>\n",
       "      <td>...</td>\n",
       "      <td>0.0</td>\n",
       "      <td>-0.538061</td>\n",
       "      <td>0.211816</td>\n",
       "      <td>25.940435</td>\n",
       "      <td>0.0</td>\n",
       "      <td>0</td>\n",
       "      <td>코오롱티슈진</td>\n",
       "      <td>0</td>\n",
       "      <td>20</td>\n",
       "      <td>113</td>\n",
       "    </tr>\n",
       "    <tr>\n",
       "      <th>...</th>\n",
       "      <td>...</td>\n",
       "      <td>...</td>\n",
       "      <td>...</td>\n",
       "      <td>...</td>\n",
       "      <td>...</td>\n",
       "      <td>...</td>\n",
       "      <td>...</td>\n",
       "      <td>...</td>\n",
       "      <td>...</td>\n",
       "      <td>...</td>\n",
       "      <td>...</td>\n",
       "      <td>...</td>\n",
       "      <td>...</td>\n",
       "      <td>...</td>\n",
       "      <td>...</td>\n",
       "      <td>...</td>\n",
       "      <td>...</td>\n",
       "      <td>...</td>\n",
       "      <td>...</td>\n",
       "      <td>...</td>\n",
       "      <td>...</td>\n",
       "    </tr>\n",
       "    <tr>\n",
       "      <th>13569</th>\n",
       "      <td>13569</td>\n",
       "      <td>와이팜</td>\n",
       "      <td>332570</td>\n",
       "      <td>19</td>\n",
       "      <td>11871.590909</td>\n",
       "      <td>11378.409091</td>\n",
       "      <td>11584.090909</td>\n",
       "      <td>2.294209e+05</td>\n",
       "      <td>-2.993423e+08</td>\n",
       "      <td>4.013595e+08</td>\n",
       "      <td>...</td>\n",
       "      <td>0.0</td>\n",
       "      <td>1.040569</td>\n",
       "      <td>0.006177</td>\n",
       "      <td>26.842586</td>\n",
       "      <td>0.0</td>\n",
       "      <td>0</td>\n",
       "      <td>와이팜</td>\n",
       "      <td>0</td>\n",
       "      <td>93</td>\n",
       "      <td>524</td>\n",
       "    </tr>\n",
       "    <tr>\n",
       "      <th>13570</th>\n",
       "      <td>13570</td>\n",
       "      <td>와이팜</td>\n",
       "      <td>332570</td>\n",
       "      <td>20</td>\n",
       "      <td>10216.190476</td>\n",
       "      <td>9943.492063</td>\n",
       "      <td>10059.841270</td>\n",
       "      <td>1.440611e+05</td>\n",
       "      <td>-1.379636e+08</td>\n",
       "      <td>1.753216e+08</td>\n",
       "      <td>...</td>\n",
       "      <td>0.0</td>\n",
       "      <td>1.133480</td>\n",
       "      <td>0.003879</td>\n",
       "      <td>26.736989</td>\n",
       "      <td>0.0</td>\n",
       "      <td>0</td>\n",
       "      <td>와이팜</td>\n",
       "      <td>0</td>\n",
       "      <td>93</td>\n",
       "      <td>524</td>\n",
       "    </tr>\n",
       "    <tr>\n",
       "      <th>13571</th>\n",
       "      <td>13571</td>\n",
       "      <td>와이팜</td>\n",
       "      <td>332570</td>\n",
       "      <td>21</td>\n",
       "      <td>9213.225806</td>\n",
       "      <td>8937.741935</td>\n",
       "      <td>9059.032258</td>\n",
       "      <td>2.590385e+05</td>\n",
       "      <td>-1.768310e+08</td>\n",
       "      <td>3.520642e+08</td>\n",
       "      <td>...</td>\n",
       "      <td>0.0</td>\n",
       "      <td>1.096917</td>\n",
       "      <td>0.006974</td>\n",
       "      <td>26.641895</td>\n",
       "      <td>0.0</td>\n",
       "      <td>0</td>\n",
       "      <td>와이팜</td>\n",
       "      <td>0</td>\n",
       "      <td>93</td>\n",
       "      <td>524</td>\n",
       "    </tr>\n",
       "    <tr>\n",
       "      <th>13572</th>\n",
       "      <td>13572</td>\n",
       "      <td>와이팜</td>\n",
       "      <td>332570</td>\n",
       "      <td>22</td>\n",
       "      <td>8517.460317</td>\n",
       "      <td>8265.079365</td>\n",
       "      <td>8373.015873</td>\n",
       "      <td>1.266159e+05</td>\n",
       "      <td>-1.541793e+07</td>\n",
       "      <td>4.249733e+07</td>\n",
       "      <td>...</td>\n",
       "      <td>0.0</td>\n",
       "      <td>0.852575</td>\n",
       "      <td>0.003409</td>\n",
       "      <td>26.617834</td>\n",
       "      <td>0.0</td>\n",
       "      <td>0</td>\n",
       "      <td>와이팜</td>\n",
       "      <td>0</td>\n",
       "      <td>93</td>\n",
       "      <td>524</td>\n",
       "    </tr>\n",
       "    <tr>\n",
       "      <th>13573</th>\n",
       "      <td>13573</td>\n",
       "      <td>덱스터</td>\n",
       "      <td>206560</td>\n",
       "      <td>0</td>\n",
       "      <td>10615.625000</td>\n",
       "      <td>10019.875000</td>\n",
       "      <td>10255.625000</td>\n",
       "      <td>1.474630e+05</td>\n",
       "      <td>-3.145508e+07</td>\n",
       "      <td>-1.005283e+08</td>\n",
       "      <td>...</td>\n",
       "      <td>0.0</td>\n",
       "      <td>1.172555</td>\n",
       "      <td>0.013772</td>\n",
       "      <td>25.512641</td>\n",
       "      <td>0.0</td>\n",
       "      <td>0</td>\n",
       "      <td>덱스터</td>\n",
       "      <td>0</td>\n",
       "      <td>68</td>\n",
       "      <td>355</td>\n",
       "    </tr>\n",
       "  </tbody>\n",
       "</table>\n",
       "<p>13574 rows × 56 columns</p>\n",
       "</div>"
      ],
      "text/plain": [
       "       Unnamed: 0     회사명    code  Date          High           Low  \\\n",
       "0               0  코오롱티슈진  950160     8  38407.500000  36175.000000   \n",
       "1               1  코오롱티슈진  950160     9  41709.836066  39832.786885   \n",
       "2               2  코오롱티슈진  950160    10  42162.903226  39842.741935   \n",
       "3               3  코오롱티슈진  950160    11  39905.084746  38791.525424   \n",
       "4               4  코오롱티슈진  950160    12  15837.500000  14503.750000   \n",
       "...           ...     ...     ...   ...           ...           ...   \n",
       "13569       13569     와이팜  332570    19  11871.590909  11378.409091   \n",
       "13570       13570     와이팜  332570    20  10216.190476   9943.492063   \n",
       "13571       13571     와이팜  332570    21   9213.225806   8937.741935   \n",
       "13572       13572     와이팜  332570    22   8517.460317   8265.079365   \n",
       "13573       13573     덱스터  206560     0  10615.625000  10019.875000   \n",
       "\n",
       "              Close        Volume          기관합계            개인  ...  자기주식비율  \\\n",
       "0      36943.750000  4.129458e+05 -3.955232e+08  5.744925e+08  ...     0.0   \n",
       "1      40669.672131  4.188858e+05  2.655090e+08 -5.346277e+08  ...     0.0   \n",
       "2      40910.483871  4.661873e+05  6.644533e+07 -4.936410e+07  ...     0.0   \n",
       "3      39194.067797  2.228908e+05 -2.689390e+08  6.050796e+08  ...     0.0   \n",
       "4      14966.750000  2.609823e+06 -4.608690e+08  3.310673e+08  ...     0.0   \n",
       "...             ...           ...           ...           ...  ...     ...   \n",
       "13569  11584.090909  2.294209e+05 -2.993423e+08  4.013595e+08  ...     0.0   \n",
       "13570  10059.841270  1.440611e+05 -1.379636e+08  1.753216e+08  ...     0.0   \n",
       "13571   9059.032258  2.590385e+05 -1.768310e+08  3.520642e+08  ...     0.0   \n",
       "13572   8373.015873  1.266159e+05 -1.541793e+07  4.249733e+07  ...     0.0   \n",
       "13573  10255.625000  1.474630e+05 -3.145508e+07 -1.005283e+08  ...     0.0   \n",
       "\n",
       "             베타     거래회전율  기업규모(log)  증자비율  무상증자여부    Name  Market  Sector  \\\n",
       "0      1.415067  0.033580  26.842061   0.0       0  코오롱티슈진       0      20   \n",
       "1      1.360180  0.034036  26.938929   0.0       0  코오롱티슈진       0      20   \n",
       "2      1.799912  0.037865  26.945217   0.0       0  코오롱티슈진       0      20   \n",
       "3      0.868300  0.018090  26.903124   0.0       0  코오롱티슈진       0      20   \n",
       "4     -0.538061  0.211816  25.940435   0.0       0  코오롱티슈진       0      20   \n",
       "...         ...       ...        ...   ...     ...     ...     ...     ...   \n",
       "13569  1.040569  0.006177  26.842586   0.0       0     와이팜       0      93   \n",
       "13570  1.133480  0.003879  26.736989   0.0       0     와이팜       0      93   \n",
       "13571  1.096917  0.006974  26.641895   0.0       0     와이팜       0      93   \n",
       "13572  0.852575  0.003409  26.617834   0.0       0     와이팜       0      93   \n",
       "13573  1.172555  0.013772  25.512641   0.0       0     덱스터       0      68   \n",
       "\n",
       "       Industry  \n",
       "0           113  \n",
       "1           113  \n",
       "2           113  \n",
       "3           113  \n",
       "4           113  \n",
       "...         ...  \n",
       "13569       524  \n",
       "13570       524  \n",
       "13571       524  \n",
       "13572       524  \n",
       "13573       355  \n",
       "\n",
       "[13574 rows x 56 columns]"
      ]
     },
     "execution_count": 308,
     "metadata": {},
     "output_type": "execute_result"
    }
   ],
   "source": [
    "encode_feature(data)"
   ]
  },
  {
   "cell_type": "markdown",
   "id": "43496100",
   "metadata": {},
   "source": [
    "#### train, test분리"
   ]
  },
  {
   "cell_type": "code",
   "execution_count": 19,
   "id": "8984195c",
   "metadata": {},
   "outputs": [],
   "source": [
    "from sklearn.model_selection import train_test_split"
   ]
  },
  {
   "cell_type": "code",
   "execution_count": 343,
   "id": "a61a721e",
   "metadata": {},
   "outputs": [],
   "source": [
    "x =  data.drop([\"회사명\", \"Name\",\"무상증자여부\",\"Unnamed: 0\",\"code\",\"Market\",\"Sector\",\"Industry\",\"Date\",\"증자비율\"], axis =1)\n",
    "y = data.loc[:,\"무상증자여부\"]"
   ]
  },
  {
   "cell_type": "code",
   "execution_count": 344,
   "id": "a1a1dd4c",
   "metadata": {},
   "outputs": [],
   "source": [
    "x_train, x_test, y_train, y_test = train_test_split(x, y, test_size = 0.2, random_state = 1234)"
   ]
  },
  {
   "cell_type": "code",
   "execution_count": 339,
   "id": "e44eda66",
   "metadata": {},
   "outputs": [
    {
     "name": "stdout",
     "output_type": "stream",
     "text": [
      "High: 0.0\n",
      "Low: 0.0\n",
      "Close: 0.0\n",
      "Volume: 0.0\n",
      "기관합계: 0.0\n",
      "개인: 0.0\n",
      "MFI: 0.0\n",
      "윌리엄R%: 0.0\n",
      "RSI: 0.0\n",
      "CCI: 0.0\n",
      "정배열: 0.0\n",
      "역배열: 0.0\n",
      "OBV: 0.0\n",
      "볼린저밴드위치: 0.0\n",
      "소액주주보유주식비율: 0.0\n",
      "최대주주_특수관계인지분율: 0.0\n",
      "유동비율: 0.0\n",
      "부채비율: 0.0\n",
      "자기자본비율: 0.0\n",
      "매출액증가율: 0.0\n",
      "영업이익증가율: 0.0\n",
      "EBITDA증가율: 0.0\n",
      "EPS증가율: 0.0\n",
      "당기순이익증가율: 0.0\n",
      "흑자전환: 0.0\n",
      "자산성장율: 0.0\n",
      "자본성장율: 0.0\n",
      "부채비율성장율: 0.0\n",
      "유동비율성장율: 0.0\n",
      "자산회전율: 0.0\n",
      "자산회전율성장율: 0.0\n",
      "부채회전율: 0.0\n",
      "자본회전율: 0.0\n",
      "영업이익율: 0.0\n",
      "EBITDA마진율: 0.0\n",
      "ROA: 0.0\n",
      "ROE: 0.0\n",
      "OP/A: 0.0\n",
      "PER: 0.0\n",
      "PSR: 0.0\n",
      "PBR: 0.0\n",
      "EV/EBITDA: 0.0\n",
      "자기주식비율: 0.0\n",
      "베타: 0.0\n",
      "거래회전율: 0.0\n",
      "기업규모(log): 0.0\n"
     ]
    }
   ],
   "source": [
    "for col in x_test.columns:\n",
    "    print(str(col) + \":\", x_test[col].isnull().sum()/len(x_test) )"
   ]
  },
  {
   "cell_type": "markdown",
   "id": "cdc05162",
   "metadata": {},
   "source": [
    "##### 변수 선택"
   ]
  },
  {
   "cell_type": "code",
   "execution_count": 24,
   "id": "3d6e3097",
   "metadata": {},
   "outputs": [],
   "source": [
    "from sklearn.feature_selection import f_regression, SelectKBest"
   ]
  },
  {
   "cell_type": "code",
   "execution_count": 354,
   "id": "d6dfb28a",
   "metadata": {},
   "outputs": [
    {
     "ename": "ValueError",
     "evalue": "Input contains NaN, infinity or a value too large for dtype('float64').",
     "output_type": "error",
     "traceback": [
      "\u001b[1;31m---------------------------------------------------------------------------\u001b[0m",
      "\u001b[1;31mValueError\u001b[0m                                Traceback (most recent call last)",
      "\u001b[1;32m~\\AppData\\Local\\Temp/ipykernel_5608/241381473.py\u001b[0m in \u001b[0;36m<module>\u001b[1;34m\u001b[0m\n\u001b[0;32m      2\u001b[0m \u001b[0mselector\u001b[0m \u001b[1;33m=\u001b[0m \u001b[0mSelectKBest\u001b[0m\u001b[1;33m(\u001b[0m\u001b[0mscore_func\u001b[0m\u001b[1;33m=\u001b[0m\u001b[0mf_regression\u001b[0m\u001b[1;33m,\u001b[0m \u001b[0mk\u001b[0m\u001b[1;33m=\u001b[0m\u001b[1;36m9\u001b[0m\u001b[1;33m)\u001b[0m\u001b[1;33m\u001b[0m\u001b[1;33m\u001b[0m\u001b[0m\n\u001b[0;32m      3\u001b[0m \u001b[1;31m## 학습데이터에 fit_transform\u001b[0m\u001b[1;33m\u001b[0m\u001b[1;33m\u001b[0m\u001b[0m\n\u001b[1;32m----> 4\u001b[1;33m \u001b[0mx_train_selected\u001b[0m \u001b[1;33m=\u001b[0m \u001b[0mselector\u001b[0m\u001b[1;33m.\u001b[0m\u001b[0mfit_transform\u001b[0m\u001b[1;33m(\u001b[0m\u001b[0mx_train\u001b[0m\u001b[1;33m,\u001b[0m \u001b[0my_train\u001b[0m\u001b[1;33m)\u001b[0m\u001b[1;33m\u001b[0m\u001b[1;33m\u001b[0m\u001b[0m\n\u001b[0m\u001b[0;32m      5\u001b[0m \u001b[1;31m## 테스트 데이터는 transform\u001b[0m\u001b[1;33m\u001b[0m\u001b[1;33m\u001b[0m\u001b[0m\n\u001b[0;32m      6\u001b[0m \u001b[0mx_test_selected\u001b[0m \u001b[1;33m=\u001b[0m \u001b[0mselector\u001b[0m\u001b[1;33m.\u001b[0m\u001b[0mtransform\u001b[0m\u001b[1;33m(\u001b[0m\u001b[0mx_test\u001b[0m\u001b[1;33m)\u001b[0m\u001b[1;33m\u001b[0m\u001b[1;33m\u001b[0m\u001b[0m\n",
      "\u001b[1;32m~\\Anaconda3\\lib\\site-packages\\sklearn\\base.py\u001b[0m in \u001b[0;36mfit_transform\u001b[1;34m(self, X, y, **fit_params)\u001b[0m\n\u001b[0;32m    700\u001b[0m         \u001b[1;32melse\u001b[0m\u001b[1;33m:\u001b[0m\u001b[1;33m\u001b[0m\u001b[1;33m\u001b[0m\u001b[0m\n\u001b[0;32m    701\u001b[0m             \u001b[1;31m# fit method of arity 2 (supervised transformation)\u001b[0m\u001b[1;33m\u001b[0m\u001b[1;33m\u001b[0m\u001b[0m\n\u001b[1;32m--> 702\u001b[1;33m             \u001b[1;32mreturn\u001b[0m \u001b[0mself\u001b[0m\u001b[1;33m.\u001b[0m\u001b[0mfit\u001b[0m\u001b[1;33m(\u001b[0m\u001b[0mX\u001b[0m\u001b[1;33m,\u001b[0m \u001b[0my\u001b[0m\u001b[1;33m,\u001b[0m \u001b[1;33m**\u001b[0m\u001b[0mfit_params\u001b[0m\u001b[1;33m)\u001b[0m\u001b[1;33m.\u001b[0m\u001b[0mtransform\u001b[0m\u001b[1;33m(\u001b[0m\u001b[0mX\u001b[0m\u001b[1;33m)\u001b[0m\u001b[1;33m\u001b[0m\u001b[1;33m\u001b[0m\u001b[0m\n\u001b[0m\u001b[0;32m    703\u001b[0m \u001b[1;33m\u001b[0m\u001b[0m\n\u001b[0;32m    704\u001b[0m \u001b[1;33m\u001b[0m\u001b[0m\n",
      "\u001b[1;32m~\\Anaconda3\\lib\\site-packages\\sklearn\\feature_selection\\_univariate_selection.py\u001b[0m in \u001b[0;36mfit\u001b[1;34m(self, X, y)\u001b[0m\n\u001b[0;32m    342\u001b[0m         \u001b[0mself\u001b[0m \u001b[1;33m:\u001b[0m \u001b[0mobject\u001b[0m\u001b[1;33m\u001b[0m\u001b[1;33m\u001b[0m\u001b[0m\n\u001b[0;32m    343\u001b[0m         \"\"\"\n\u001b[1;32m--> 344\u001b[1;33m         X, y = self._validate_data(X, y, accept_sparse=['csr', 'csc'],\n\u001b[0m\u001b[0;32m    345\u001b[0m                                    multi_output=True)\n\u001b[0;32m    346\u001b[0m \u001b[1;33m\u001b[0m\u001b[0m\n",
      "\u001b[1;32m~\\Anaconda3\\lib\\site-packages\\sklearn\\base.py\u001b[0m in \u001b[0;36m_validate_data\u001b[1;34m(self, X, y, reset, validate_separately, **check_params)\u001b[0m\n\u001b[0;32m    431\u001b[0m                 \u001b[0my\u001b[0m \u001b[1;33m=\u001b[0m \u001b[0mcheck_array\u001b[0m\u001b[1;33m(\u001b[0m\u001b[0my\u001b[0m\u001b[1;33m,\u001b[0m \u001b[1;33m**\u001b[0m\u001b[0mcheck_y_params\u001b[0m\u001b[1;33m)\u001b[0m\u001b[1;33m\u001b[0m\u001b[1;33m\u001b[0m\u001b[0m\n\u001b[0;32m    432\u001b[0m             \u001b[1;32melse\u001b[0m\u001b[1;33m:\u001b[0m\u001b[1;33m\u001b[0m\u001b[1;33m\u001b[0m\u001b[0m\n\u001b[1;32m--> 433\u001b[1;33m                 \u001b[0mX\u001b[0m\u001b[1;33m,\u001b[0m \u001b[0my\u001b[0m \u001b[1;33m=\u001b[0m \u001b[0mcheck_X_y\u001b[0m\u001b[1;33m(\u001b[0m\u001b[0mX\u001b[0m\u001b[1;33m,\u001b[0m \u001b[0my\u001b[0m\u001b[1;33m,\u001b[0m \u001b[1;33m**\u001b[0m\u001b[0mcheck_params\u001b[0m\u001b[1;33m)\u001b[0m\u001b[1;33m\u001b[0m\u001b[1;33m\u001b[0m\u001b[0m\n\u001b[0m\u001b[0;32m    434\u001b[0m             \u001b[0mout\u001b[0m \u001b[1;33m=\u001b[0m \u001b[0mX\u001b[0m\u001b[1;33m,\u001b[0m \u001b[0my\u001b[0m\u001b[1;33m\u001b[0m\u001b[1;33m\u001b[0m\u001b[0m\n\u001b[0;32m    435\u001b[0m \u001b[1;33m\u001b[0m\u001b[0m\n",
      "\u001b[1;32m~\\Anaconda3\\lib\\site-packages\\sklearn\\utils\\validation.py\u001b[0m in \u001b[0;36minner_f\u001b[1;34m(*args, **kwargs)\u001b[0m\n\u001b[0;32m     61\u001b[0m             \u001b[0mextra_args\u001b[0m \u001b[1;33m=\u001b[0m \u001b[0mlen\u001b[0m\u001b[1;33m(\u001b[0m\u001b[0margs\u001b[0m\u001b[1;33m)\u001b[0m \u001b[1;33m-\u001b[0m \u001b[0mlen\u001b[0m\u001b[1;33m(\u001b[0m\u001b[0mall_args\u001b[0m\u001b[1;33m)\u001b[0m\u001b[1;33m\u001b[0m\u001b[1;33m\u001b[0m\u001b[0m\n\u001b[0;32m     62\u001b[0m             \u001b[1;32mif\u001b[0m \u001b[0mextra_args\u001b[0m \u001b[1;33m<=\u001b[0m \u001b[1;36m0\u001b[0m\u001b[1;33m:\u001b[0m\u001b[1;33m\u001b[0m\u001b[1;33m\u001b[0m\u001b[0m\n\u001b[1;32m---> 63\u001b[1;33m                 \u001b[1;32mreturn\u001b[0m \u001b[0mf\u001b[0m\u001b[1;33m(\u001b[0m\u001b[1;33m*\u001b[0m\u001b[0margs\u001b[0m\u001b[1;33m,\u001b[0m \u001b[1;33m**\u001b[0m\u001b[0mkwargs\u001b[0m\u001b[1;33m)\u001b[0m\u001b[1;33m\u001b[0m\u001b[1;33m\u001b[0m\u001b[0m\n\u001b[0m\u001b[0;32m     64\u001b[0m \u001b[1;33m\u001b[0m\u001b[0m\n\u001b[0;32m     65\u001b[0m             \u001b[1;31m# extra_args > 0\u001b[0m\u001b[1;33m\u001b[0m\u001b[1;33m\u001b[0m\u001b[0m\n",
      "\u001b[1;32m~\\Anaconda3\\lib\\site-packages\\sklearn\\utils\\validation.py\u001b[0m in \u001b[0;36mcheck_X_y\u001b[1;34m(X, y, accept_sparse, accept_large_sparse, dtype, order, copy, force_all_finite, ensure_2d, allow_nd, multi_output, ensure_min_samples, ensure_min_features, y_numeric, estimator)\u001b[0m\n\u001b[0;32m    869\u001b[0m         \u001b[1;32mraise\u001b[0m \u001b[0mValueError\u001b[0m\u001b[1;33m(\u001b[0m\u001b[1;34m\"y cannot be None\"\u001b[0m\u001b[1;33m)\u001b[0m\u001b[1;33m\u001b[0m\u001b[1;33m\u001b[0m\u001b[0m\n\u001b[0;32m    870\u001b[0m \u001b[1;33m\u001b[0m\u001b[0m\n\u001b[1;32m--> 871\u001b[1;33m     X = check_array(X, accept_sparse=accept_sparse,\n\u001b[0m\u001b[0;32m    872\u001b[0m                     \u001b[0maccept_large_sparse\u001b[0m\u001b[1;33m=\u001b[0m\u001b[0maccept_large_sparse\u001b[0m\u001b[1;33m,\u001b[0m\u001b[1;33m\u001b[0m\u001b[1;33m\u001b[0m\u001b[0m\n\u001b[0;32m    873\u001b[0m                     \u001b[0mdtype\u001b[0m\u001b[1;33m=\u001b[0m\u001b[0mdtype\u001b[0m\u001b[1;33m,\u001b[0m \u001b[0morder\u001b[0m\u001b[1;33m=\u001b[0m\u001b[0morder\u001b[0m\u001b[1;33m,\u001b[0m \u001b[0mcopy\u001b[0m\u001b[1;33m=\u001b[0m\u001b[0mcopy\u001b[0m\u001b[1;33m,\u001b[0m\u001b[1;33m\u001b[0m\u001b[1;33m\u001b[0m\u001b[0m\n",
      "\u001b[1;32m~\\Anaconda3\\lib\\site-packages\\sklearn\\utils\\validation.py\u001b[0m in \u001b[0;36minner_f\u001b[1;34m(*args, **kwargs)\u001b[0m\n\u001b[0;32m     61\u001b[0m             \u001b[0mextra_args\u001b[0m \u001b[1;33m=\u001b[0m \u001b[0mlen\u001b[0m\u001b[1;33m(\u001b[0m\u001b[0margs\u001b[0m\u001b[1;33m)\u001b[0m \u001b[1;33m-\u001b[0m \u001b[0mlen\u001b[0m\u001b[1;33m(\u001b[0m\u001b[0mall_args\u001b[0m\u001b[1;33m)\u001b[0m\u001b[1;33m\u001b[0m\u001b[1;33m\u001b[0m\u001b[0m\n\u001b[0;32m     62\u001b[0m             \u001b[1;32mif\u001b[0m \u001b[0mextra_args\u001b[0m \u001b[1;33m<=\u001b[0m \u001b[1;36m0\u001b[0m\u001b[1;33m:\u001b[0m\u001b[1;33m\u001b[0m\u001b[1;33m\u001b[0m\u001b[0m\n\u001b[1;32m---> 63\u001b[1;33m                 \u001b[1;32mreturn\u001b[0m \u001b[0mf\u001b[0m\u001b[1;33m(\u001b[0m\u001b[1;33m*\u001b[0m\u001b[0margs\u001b[0m\u001b[1;33m,\u001b[0m \u001b[1;33m**\u001b[0m\u001b[0mkwargs\u001b[0m\u001b[1;33m)\u001b[0m\u001b[1;33m\u001b[0m\u001b[1;33m\u001b[0m\u001b[0m\n\u001b[0m\u001b[0;32m     64\u001b[0m \u001b[1;33m\u001b[0m\u001b[0m\n\u001b[0;32m     65\u001b[0m             \u001b[1;31m# extra_args > 0\u001b[0m\u001b[1;33m\u001b[0m\u001b[1;33m\u001b[0m\u001b[0m\n",
      "\u001b[1;32m~\\Anaconda3\\lib\\site-packages\\sklearn\\utils\\validation.py\u001b[0m in \u001b[0;36mcheck_array\u001b[1;34m(array, accept_sparse, accept_large_sparse, dtype, order, copy, force_all_finite, ensure_2d, allow_nd, ensure_min_samples, ensure_min_features, estimator)\u001b[0m\n\u001b[0;32m    718\u001b[0m \u001b[1;33m\u001b[0m\u001b[0m\n\u001b[0;32m    719\u001b[0m         \u001b[1;32mif\u001b[0m \u001b[0mforce_all_finite\u001b[0m\u001b[1;33m:\u001b[0m\u001b[1;33m\u001b[0m\u001b[1;33m\u001b[0m\u001b[0m\n\u001b[1;32m--> 720\u001b[1;33m             _assert_all_finite(array,\n\u001b[0m\u001b[0;32m    721\u001b[0m                                allow_nan=force_all_finite == 'allow-nan')\n\u001b[0;32m    722\u001b[0m \u001b[1;33m\u001b[0m\u001b[0m\n",
      "\u001b[1;32m~\\Anaconda3\\lib\\site-packages\\sklearn\\utils\\validation.py\u001b[0m in \u001b[0;36m_assert_all_finite\u001b[1;34m(X, allow_nan, msg_dtype)\u001b[0m\n\u001b[0;32m    101\u001b[0m                 not allow_nan and not np.isfinite(X).all()):\n\u001b[0;32m    102\u001b[0m             \u001b[0mtype_err\u001b[0m \u001b[1;33m=\u001b[0m \u001b[1;34m'infinity'\u001b[0m \u001b[1;32mif\u001b[0m \u001b[0mallow_nan\u001b[0m \u001b[1;32melse\u001b[0m \u001b[1;34m'NaN, infinity'\u001b[0m\u001b[1;33m\u001b[0m\u001b[1;33m\u001b[0m\u001b[0m\n\u001b[1;32m--> 103\u001b[1;33m             raise ValueError(\n\u001b[0m\u001b[0;32m    104\u001b[0m                     \u001b[0mmsg_err\u001b[0m\u001b[1;33m.\u001b[0m\u001b[0mformat\u001b[0m\u001b[1;33m\u001b[0m\u001b[1;33m\u001b[0m\u001b[0m\n\u001b[0;32m    105\u001b[0m                     (type_err,\n",
      "\u001b[1;31mValueError\u001b[0m: Input contains NaN, infinity or a value too large for dtype('float64')."
     ]
    }
   ],
   "source": [
    "## selctor 정의하기.\n",
    "selector = SelectKBest(score_func=f_regression, k=9)\n",
    "## 학습데이터에 fit_transform \n",
    "x_train_selected = selector.fit_transform(x_train, y_train)\n",
    "## 테스트 데이터는 transform\n",
    "x_test_selected = selector.transform(x_test)\n",
    "x_train_selected.shape, x_test_selected.shape"
   ]
  },
  {
   "cell_type": "code",
   "execution_count": 250,
   "id": "6bdefcad",
   "metadata": {},
   "outputs": [
    {
     "name": "stdout",
     "output_type": "stream",
     "text": [
      "Selected names:  Index(['개인', '윌리엄R%', 'RSI', 'CCI', '정배열', '역배열', '볼린저밴드위치', '영업이익증가율',\n",
      "       '기업규모(log)'],\n",
      "      dtype='object')\n",
      "Unselected names:  Index(['High', 'Low', 'Close', 'Volume', '기관합계', 'MFI', 'OBV', '소액주주보유주식비율',\n",
      "       '최대주주_특수관계인지분율', '유동비율', '부채비율', '자기자본비율', '매출액증가율', 'EBITDA증가율',\n",
      "       'EPS증가율', '당기순이익증가율', '흑자전환', '자산성장율', '자본성장율', '부채비율성장율', '유동비율성장율',\n",
      "       '자산회전율', '자산회전율성장율', '부채회전율', '자본회전율', '영업이익율', 'EBITDA마진율', 'ROA',\n",
      "       'ROE', 'OP/A', 'PER', 'PSR', 'PBR', 'EV/EBITDA', '자기주식비율', '베타',\n",
      "       '거래회전율'],\n",
      "      dtype='object')\n"
     ]
    }
   ],
   "source": [
    "all_names = x_train.columns\n",
    "## selector.get_support()\n",
    "selected_mask = selector.get_support()\n",
    "## 선택된 특성(변수)들\n",
    "selected_names = all_names[selected_mask]\n",
    "## 선택되지 않은 특성(변수)들\n",
    "unselected_names = all_names[~selected_mask]\n",
    "print('Selected names: ', selected_names)\n",
    "print('Unselected names: ', unselected_names)"
   ]
  },
  {
   "cell_type": "code",
   "execution_count": 251,
   "id": "43cb15b8",
   "metadata": {},
   "outputs": [],
   "source": [
    "x =  data.loc[:,selected_names]\n",
    "y = data.loc[:,\"무상증자여부\"]"
   ]
  },
  {
   "cell_type": "code",
   "execution_count": 252,
   "id": "38d2b874",
   "metadata": {},
   "outputs": [],
   "source": [
    "x_train, x_test, y_train, y_test = train_test_split(x, y, test_size = 0.2, random_state = 1234)"
   ]
  },
  {
   "cell_type": "markdown",
   "id": "333caf0c",
   "metadata": {},
   "source": [
    "##### scaling"
   ]
  },
  {
   "cell_type": "code",
   "execution_count": 83,
   "id": "9e163447",
   "metadata": {},
   "outputs": [],
   "source": [
    "from sklearn.preprocessing import StandardScaler"
   ]
  },
  {
   "cell_type": "code",
   "execution_count": 312,
   "id": "7cc8f410",
   "metadata": {},
   "outputs": [
    {
     "ename": "ValueError",
     "evalue": "Input contains infinity or a value too large for dtype('float64').",
     "output_type": "error",
     "traceback": [
      "\u001b[1;31m---------------------------------------------------------------------------\u001b[0m",
      "\u001b[1;31mValueError\u001b[0m                                Traceback (most recent call last)",
      "\u001b[1;32m~\\AppData\\Local\\Temp/ipykernel_5608/23221830.py\u001b[0m in \u001b[0;36m<module>\u001b[1;34m\u001b[0m\n\u001b[0;32m      2\u001b[0m \u001b[0mscaler\u001b[0m \u001b[1;33m=\u001b[0m \u001b[0mStandardScaler\u001b[0m\u001b[1;33m(\u001b[0m\u001b[1;33m)\u001b[0m\u001b[1;33m\u001b[0m\u001b[1;33m\u001b[0m\u001b[0m\n\u001b[0;32m      3\u001b[0m \u001b[1;31m# 규칙의 기준은 train 데이터\u001b[0m\u001b[1;33m\u001b[0m\u001b[1;33m\u001b[0m\u001b[0m\n\u001b[1;32m----> 4\u001b[1;33m \u001b[0mscaler\u001b[0m\u001b[1;33m.\u001b[0m\u001b[0mfit\u001b[0m\u001b[1;33m(\u001b[0m\u001b[0mx_train\u001b[0m\u001b[1;33m)\u001b[0m\u001b[1;33m\u001b[0m\u001b[1;33m\u001b[0m\u001b[0m\n\u001b[0m\u001b[0;32m      5\u001b[0m \u001b[1;31m# 이 기준에 대해서 train, test 모두 적용\u001b[0m\u001b[1;33m\u001b[0m\u001b[1;33m\u001b[0m\u001b[0m\n\u001b[0;32m      6\u001b[0m \u001b[0mx_train\u001b[0m \u001b[1;33m=\u001b[0m \u001b[0mscaler\u001b[0m\u001b[1;33m.\u001b[0m\u001b[0mtransform\u001b[0m\u001b[1;33m(\u001b[0m\u001b[0mx_train\u001b[0m\u001b[1;33m)\u001b[0m\u001b[1;33m\u001b[0m\u001b[1;33m\u001b[0m\u001b[0m\n",
      "\u001b[1;32m~\\Anaconda3\\lib\\site-packages\\sklearn\\preprocessing\\_data.py\u001b[0m in \u001b[0;36mfit\u001b[1;34m(self, X, y, sample_weight)\u001b[0m\n\u001b[0;32m    728\u001b[0m         \u001b[1;31m# Reset internal state before fitting\u001b[0m\u001b[1;33m\u001b[0m\u001b[1;33m\u001b[0m\u001b[0m\n\u001b[0;32m    729\u001b[0m         \u001b[0mself\u001b[0m\u001b[1;33m.\u001b[0m\u001b[0m_reset\u001b[0m\u001b[1;33m(\u001b[0m\u001b[1;33m)\u001b[0m\u001b[1;33m\u001b[0m\u001b[1;33m\u001b[0m\u001b[0m\n\u001b[1;32m--> 730\u001b[1;33m         \u001b[1;32mreturn\u001b[0m \u001b[0mself\u001b[0m\u001b[1;33m.\u001b[0m\u001b[0mpartial_fit\u001b[0m\u001b[1;33m(\u001b[0m\u001b[0mX\u001b[0m\u001b[1;33m,\u001b[0m \u001b[0my\u001b[0m\u001b[1;33m,\u001b[0m \u001b[0msample_weight\u001b[0m\u001b[1;33m)\u001b[0m\u001b[1;33m\u001b[0m\u001b[1;33m\u001b[0m\u001b[0m\n\u001b[0m\u001b[0;32m    731\u001b[0m \u001b[1;33m\u001b[0m\u001b[0m\n\u001b[0;32m    732\u001b[0m     \u001b[1;32mdef\u001b[0m \u001b[0mpartial_fit\u001b[0m\u001b[1;33m(\u001b[0m\u001b[0mself\u001b[0m\u001b[1;33m,\u001b[0m \u001b[0mX\u001b[0m\u001b[1;33m,\u001b[0m \u001b[0my\u001b[0m\u001b[1;33m=\u001b[0m\u001b[1;32mNone\u001b[0m\u001b[1;33m,\u001b[0m \u001b[0msample_weight\u001b[0m\u001b[1;33m=\u001b[0m\u001b[1;32mNone\u001b[0m\u001b[1;33m)\u001b[0m\u001b[1;33m:\u001b[0m\u001b[1;33m\u001b[0m\u001b[1;33m\u001b[0m\u001b[0m\n",
      "\u001b[1;32m~\\Anaconda3\\lib\\site-packages\\sklearn\\preprocessing\\_data.py\u001b[0m in \u001b[0;36mpartial_fit\u001b[1;34m(self, X, y, sample_weight)\u001b[0m\n\u001b[0;32m    764\u001b[0m         \"\"\"\n\u001b[0;32m    765\u001b[0m         \u001b[0mfirst_call\u001b[0m \u001b[1;33m=\u001b[0m \u001b[1;32mnot\u001b[0m \u001b[0mhasattr\u001b[0m\u001b[1;33m(\u001b[0m\u001b[0mself\u001b[0m\u001b[1;33m,\u001b[0m \u001b[1;34m\"n_samples_seen_\"\u001b[0m\u001b[1;33m)\u001b[0m\u001b[1;33m\u001b[0m\u001b[1;33m\u001b[0m\u001b[0m\n\u001b[1;32m--> 766\u001b[1;33m         X = self._validate_data(X, accept_sparse=('csr', 'csc'),\n\u001b[0m\u001b[0;32m    767\u001b[0m                                 \u001b[0mestimator\u001b[0m\u001b[1;33m=\u001b[0m\u001b[0mself\u001b[0m\u001b[1;33m,\u001b[0m \u001b[0mdtype\u001b[0m\u001b[1;33m=\u001b[0m\u001b[0mFLOAT_DTYPES\u001b[0m\u001b[1;33m,\u001b[0m\u001b[1;33m\u001b[0m\u001b[1;33m\u001b[0m\u001b[0m\n\u001b[0;32m    768\u001b[0m                                 force_all_finite='allow-nan', reset=first_call)\n",
      "\u001b[1;32m~\\Anaconda3\\lib\\site-packages\\sklearn\\base.py\u001b[0m in \u001b[0;36m_validate_data\u001b[1;34m(self, X, y, reset, validate_separately, **check_params)\u001b[0m\n\u001b[0;32m    419\u001b[0m             \u001b[0mout\u001b[0m \u001b[1;33m=\u001b[0m \u001b[0mX\u001b[0m\u001b[1;33m\u001b[0m\u001b[1;33m\u001b[0m\u001b[0m\n\u001b[0;32m    420\u001b[0m         \u001b[1;32melif\u001b[0m \u001b[0misinstance\u001b[0m\u001b[1;33m(\u001b[0m\u001b[0my\u001b[0m\u001b[1;33m,\u001b[0m \u001b[0mstr\u001b[0m\u001b[1;33m)\u001b[0m \u001b[1;32mand\u001b[0m \u001b[0my\u001b[0m \u001b[1;33m==\u001b[0m \u001b[1;34m'no_validation'\u001b[0m\u001b[1;33m:\u001b[0m\u001b[1;33m\u001b[0m\u001b[1;33m\u001b[0m\u001b[0m\n\u001b[1;32m--> 421\u001b[1;33m             \u001b[0mX\u001b[0m \u001b[1;33m=\u001b[0m \u001b[0mcheck_array\u001b[0m\u001b[1;33m(\u001b[0m\u001b[0mX\u001b[0m\u001b[1;33m,\u001b[0m \u001b[1;33m**\u001b[0m\u001b[0mcheck_params\u001b[0m\u001b[1;33m)\u001b[0m\u001b[1;33m\u001b[0m\u001b[1;33m\u001b[0m\u001b[0m\n\u001b[0m\u001b[0;32m    422\u001b[0m             \u001b[0mout\u001b[0m \u001b[1;33m=\u001b[0m \u001b[0mX\u001b[0m\u001b[1;33m\u001b[0m\u001b[1;33m\u001b[0m\u001b[0m\n\u001b[0;32m    423\u001b[0m         \u001b[1;32melse\u001b[0m\u001b[1;33m:\u001b[0m\u001b[1;33m\u001b[0m\u001b[1;33m\u001b[0m\u001b[0m\n",
      "\u001b[1;32m~\\Anaconda3\\lib\\site-packages\\sklearn\\utils\\validation.py\u001b[0m in \u001b[0;36minner_f\u001b[1;34m(*args, **kwargs)\u001b[0m\n\u001b[0;32m     61\u001b[0m             \u001b[0mextra_args\u001b[0m \u001b[1;33m=\u001b[0m \u001b[0mlen\u001b[0m\u001b[1;33m(\u001b[0m\u001b[0margs\u001b[0m\u001b[1;33m)\u001b[0m \u001b[1;33m-\u001b[0m \u001b[0mlen\u001b[0m\u001b[1;33m(\u001b[0m\u001b[0mall_args\u001b[0m\u001b[1;33m)\u001b[0m\u001b[1;33m\u001b[0m\u001b[1;33m\u001b[0m\u001b[0m\n\u001b[0;32m     62\u001b[0m             \u001b[1;32mif\u001b[0m \u001b[0mextra_args\u001b[0m \u001b[1;33m<=\u001b[0m \u001b[1;36m0\u001b[0m\u001b[1;33m:\u001b[0m\u001b[1;33m\u001b[0m\u001b[1;33m\u001b[0m\u001b[0m\n\u001b[1;32m---> 63\u001b[1;33m                 \u001b[1;32mreturn\u001b[0m \u001b[0mf\u001b[0m\u001b[1;33m(\u001b[0m\u001b[1;33m*\u001b[0m\u001b[0margs\u001b[0m\u001b[1;33m,\u001b[0m \u001b[1;33m**\u001b[0m\u001b[0mkwargs\u001b[0m\u001b[1;33m)\u001b[0m\u001b[1;33m\u001b[0m\u001b[1;33m\u001b[0m\u001b[0m\n\u001b[0m\u001b[0;32m     64\u001b[0m \u001b[1;33m\u001b[0m\u001b[0m\n\u001b[0;32m     65\u001b[0m             \u001b[1;31m# extra_args > 0\u001b[0m\u001b[1;33m\u001b[0m\u001b[1;33m\u001b[0m\u001b[0m\n",
      "\u001b[1;32m~\\Anaconda3\\lib\\site-packages\\sklearn\\utils\\validation.py\u001b[0m in \u001b[0;36mcheck_array\u001b[1;34m(array, accept_sparse, accept_large_sparse, dtype, order, copy, force_all_finite, ensure_2d, allow_nd, ensure_min_samples, ensure_min_features, estimator)\u001b[0m\n\u001b[0;32m    718\u001b[0m \u001b[1;33m\u001b[0m\u001b[0m\n\u001b[0;32m    719\u001b[0m         \u001b[1;32mif\u001b[0m \u001b[0mforce_all_finite\u001b[0m\u001b[1;33m:\u001b[0m\u001b[1;33m\u001b[0m\u001b[1;33m\u001b[0m\u001b[0m\n\u001b[1;32m--> 720\u001b[1;33m             _assert_all_finite(array,\n\u001b[0m\u001b[0;32m    721\u001b[0m                                allow_nan=force_all_finite == 'allow-nan')\n\u001b[0;32m    722\u001b[0m \u001b[1;33m\u001b[0m\u001b[0m\n",
      "\u001b[1;32m~\\Anaconda3\\lib\\site-packages\\sklearn\\utils\\validation.py\u001b[0m in \u001b[0;36m_assert_all_finite\u001b[1;34m(X, allow_nan, msg_dtype)\u001b[0m\n\u001b[0;32m    101\u001b[0m                 not allow_nan and not np.isfinite(X).all()):\n\u001b[0;32m    102\u001b[0m             \u001b[0mtype_err\u001b[0m \u001b[1;33m=\u001b[0m \u001b[1;34m'infinity'\u001b[0m \u001b[1;32mif\u001b[0m \u001b[0mallow_nan\u001b[0m \u001b[1;32melse\u001b[0m \u001b[1;34m'NaN, infinity'\u001b[0m\u001b[1;33m\u001b[0m\u001b[1;33m\u001b[0m\u001b[0m\n\u001b[1;32m--> 103\u001b[1;33m             raise ValueError(\n\u001b[0m\u001b[0;32m    104\u001b[0m                     \u001b[0mmsg_err\u001b[0m\u001b[1;33m.\u001b[0m\u001b[0mformat\u001b[0m\u001b[1;33m\u001b[0m\u001b[1;33m\u001b[0m\u001b[0m\n\u001b[0;32m    105\u001b[0m                     (type_err,\n",
      "\u001b[1;31mValueError\u001b[0m: Input contains infinity or a value too large for dtype('float64')."
     ]
    }
   ],
   "source": [
    "# 정규화 작업 준비\n",
    "scaler = StandardScaler()\n",
    "# 규칙의 기준은 train 데이터\n",
    "scaler.fit(x_train)\n",
    "# 이 기준에 대해서 train, test 모두 적용\n",
    "x_train = scaler.transform(x_train)\n",
    "x_train = pd.DataFrame(x_train, columns = x.columns)\n",
    "\n",
    "x_test = scaler.transform(x_test)\n",
    "# -> 참고) X_test도 X_train과 같은 컬럼 순으로 정렬\n",
    "x_test = pd.DataFrame(x_test, columns = x.columns)"
   ]
  },
  {
   "cell_type": "code",
   "execution_count": null,
   "id": "152a3940",
   "metadata": {},
   "outputs": [],
   "source": []
  },
  {
   "cell_type": "code",
   "execution_count": 126,
   "id": "0e5a716c",
   "metadata": {},
   "outputs": [],
   "source": [
    "# 1) k-fold\n",
    "from sklearn.model_selection import KFold\n",
    "kfold = KFold(n_splits = 5, random_state=1234, shuffle = True)"
   ]
  },
  {
   "cell_type": "code",
   "execution_count": 30,
   "id": "82f7e4f8",
   "metadata": {},
   "outputs": [],
   "source": [
    "# 2) stratified k-fold\n",
    "from sklearn.model_selection import StratifiedKFold\n",
    "strkfold = StratifiedKFold(n_splits=10, random_state=1234, shuffle=True)"
   ]
  },
  {
   "cell_type": "code",
   "execution_count": 31,
   "id": "1ed977cd",
   "metadata": {},
   "outputs": [],
   "source": [
    "# 3) Repeated k-fold \n",
    "from sklearn.model_selection import RepeatedKFold\n",
    "rkfold = RepeatedKFold(n_splits = 5, random_state=1234, n_repeats=10)"
   ]
  },
  {
   "cell_type": "code",
   "execution_count": 32,
   "id": "0a7836fe",
   "metadata": {},
   "outputs": [],
   "source": [
    "# 4) Repeated Stratified k-fold\n",
    "from sklearn.model_selection import RepeatedStratifiedKFold\n",
    "rskfold = RepeatedStratifiedKFold(n_splits = 5, random_state=1234, n_repeats=10)"
   ]
  },
  {
   "cell_type": "code",
   "execution_count": 33,
   "id": "375f98db",
   "metadata": {},
   "outputs": [],
   "source": [
    "#파라미터 튜닝\n",
    "from sklearn.model_selection import RandomizedSearchCV\n",
    "from sklearn.model_selection import GridSearchCV\n",
    "\n",
    "#대충 돌릴 때 체크 : cross_val\n",
    "from sklearn.model_selection import cross_val_score\n",
    "\n",
    "#평가\n",
    "from sklearn.metrics import precision_score"
   ]
  },
  {
   "cell_type": "markdown",
   "id": "9f977865",
   "metadata": {},
   "source": [
    "#### KNN"
   ]
  },
  {
   "cell_type": "code",
   "execution_count": 34,
   "id": "4cc87597",
   "metadata": {},
   "outputs": [],
   "source": [
    "from sklearn.neighbors import KNeighborsClassifier"
   ]
  },
  {
   "cell_type": "code",
   "execution_count": 35,
   "id": "454a9813",
   "metadata": {},
   "outputs": [],
   "source": [
    "knn = KNeighborsClassifier(n_jobs = -1)"
   ]
  },
  {
   "cell_type": "markdown",
   "id": "ecfe3f2e",
   "metadata": {},
   "source": [
    "##### k_fold"
   ]
  },
  {
   "cell_type": "code",
   "execution_count": 86,
   "id": "096c2f0c",
   "metadata": {},
   "outputs": [
    {
     "name": "stdout",
     "output_type": "stream",
     "text": [
      "knn 0번째 검증 정확도 : 0.9892\n",
      "knn 1번째 검증 정확도 : 0.9892\n",
      "knn 2번째 검증 정확도 : 0.9931\n",
      "knn 3번째 검증 정확도 : 0.9862\n",
      "knn 4번째 검증 정확도 : 0.9912\n",
      "knn 5번째 검증 정확도 : 0.9941\n",
      "knn 6번째 검증 정확도 : 0.9892\n",
      "knn 7번째 검증 정확도 : 0.9843\n",
      "knn 8번째 검증 정확도 : 0.9882\n",
      "knn 9번째 검증 정확도 : 0.9902\n",
      "KNN 평균 정확도 : 0.9894891944990176\n"
     ]
    }
   ],
   "source": [
    "scores = cross_val_score(knn, x_train, y_train, cv = kfold, scoring = \"accuracy\")\n",
    "for iter_count, acc in enumerate(scores):\n",
    "    print(\"knn {0}번째 검증 정확도 : {1:.4f}\".format(iter_count, acc))\n",
    "print(\"KNN 평균 정확도 :\", scores.mean())"
   ]
  },
  {
   "cell_type": "code",
   "execution_count": 52,
   "id": "9b79d339",
   "metadata": {},
   "outputs": [],
   "source": [
    "parameters = {\n",
    "    \"n_neighbors\" : [ 1,3, 4, 7]\n",
    "}"
   ]
  },
  {
   "cell_type": "code",
   "execution_count": 53,
   "id": "35a27dff",
   "metadata": {},
   "outputs": [
    {
     "name": "stderr",
     "output_type": "stream",
     "text": [
      "C:\\Users\\MEDICI\\Anaconda3\\lib\\site-packages\\sklearn\\model_selection\\_search.py:285: UserWarning: The total space of parameters 4 is smaller than n_iter=10. Running 4 iterations. For exhaustive searches, use GridSearchCV.\n",
      "  warnings.warn(\n"
     ]
    },
    {
     "name": "stdout",
     "output_type": "stream",
     "text": [
      "Fitting 10 folds for each of 4 candidates, totalling 40 fits\n"
     ]
    },
    {
     "data": {
      "text/plain": [
       "RandomizedSearchCV(cv=KFold(n_splits=10, random_state=1234, shuffle=True),\n",
       "                   estimator=KNeighborsClassifier(n_jobs=-1), n_jobs=-1,\n",
       "                   param_distributions={'n_neighbors': [1, 3, 4, 7]},\n",
       "                   random_state=1234, scoring='precision', verbose=2)"
      ]
     },
     "execution_count": 53,
     "metadata": {},
     "output_type": "execute_result"
    }
   ],
   "source": [
    "### RandomGridSearchCV\n",
    "n_iter_search = 10\n",
    "\n",
    "# RGSCV 세팅!!!!\n",
    "knn_kf_rgs = RandomizedSearchCV(\n",
    "    knn, param_distributions = parameters,\n",
    "    cv = kfold, scoring = \"precision\",\n",
    "    n_jobs = -1,\n",
    "    random_state=1234,\n",
    "    n_iter= n_iter_search,\n",
    "    verbose= 2\n",
    ")\n",
    "\n",
    "# 실제 데이터를 밀어서 수행\n",
    "# ---> 실질적인 수행은 이 부분이기 때문에 시간이 여기서 오래 걸림\n",
    "knn_kf_rgs.fit(x_train, y_train)"
   ]
  },
  {
   "cell_type": "code",
   "execution_count": 54,
   "id": "2a67b3b2",
   "metadata": {},
   "outputs": [
    {
     "data": {
      "text/plain": [
       "0.3843627206127206"
      ]
     },
     "execution_count": 54,
     "metadata": {},
     "output_type": "execute_result"
    }
   ],
   "source": [
    "knn_kf_rgs.best_score_"
   ]
  },
  {
   "cell_type": "code",
   "execution_count": 55,
   "id": "b1f8bdf0",
   "metadata": {},
   "outputs": [
    {
     "data": {
      "text/plain": [
       "{'n_neighbors': 1}"
      ]
     },
     "execution_count": 55,
     "metadata": {},
     "output_type": "execute_result"
    }
   ],
   "source": [
    "knn_kf_rgs.best_params_"
   ]
  },
  {
   "cell_type": "code",
   "execution_count": 252,
   "id": "45921948",
   "metadata": {},
   "outputs": [
    {
     "name": "stdout",
     "output_type": "stream",
     "text": [
      "Fitting 10 folds for each of 4 candidates, totalling 40 fits\n"
     ]
    },
    {
     "name": "stderr",
     "output_type": "stream",
     "text": [
      "C:\\Users\\MEDICI\\Anaconda3\\lib\\site-packages\\sklearn\\model_selection\\_search.py:922: UserWarning: One or more of the test scores are non-finite: [       nan 0.38996337 0.315      0.17301587]\n",
      "  warnings.warn(\n"
     ]
    },
    {
     "data": {
      "text/plain": [
       "GridSearchCV(cv=KFold(n_splits=10, random_state=1234, shuffle=True),\n",
       "             estimator=KNeighborsClassifier(n_jobs=-1), n_jobs=-1,\n",
       "             param_grid={'n_neighbors': [0, 1, 2, 3]}, scoring='precision',\n",
       "             verbose=2)"
      ]
     },
     "execution_count": 252,
     "metadata": {},
     "output_type": "execute_result"
    }
   ],
   "source": [
    "### GridSearchCV\n",
    "\n",
    "parameters = {\n",
    "    \"n_neighbors\" : [0,1,2,3]\n",
    "}\n",
    "\n",
    "# 2) 사용할 모델\n",
    "knn = KNeighborsClassifier(n_jobs=-1)\n",
    "\n",
    "# 3) GridSearchCV\n",
    "knn_kf_gs = GridSearchCV(\n",
    "    knn, param_grid=parameters, \n",
    "    cv= kfold, scoring=\"precision\",\n",
    "    n_jobs=-1, verbose=2\n",
    ")\n",
    "\n",
    "# 4) 실제 데이터 넣어서 수행~\n",
    "knn_kf_gs.fit(x_train, y_train)"
   ]
  },
  {
   "cell_type": "code",
   "execution_count": 111,
   "id": "27dc4305",
   "metadata": {},
   "outputs": [
    {
     "data": {
      "text/plain": [
       "0.3808994708994709"
      ]
     },
     "execution_count": 111,
     "metadata": {},
     "output_type": "execute_result"
    }
   ],
   "source": [
    "knn_kf_gs.best_score_"
   ]
  },
  {
   "cell_type": "code",
   "execution_count": 112,
   "id": "bec72129",
   "metadata": {},
   "outputs": [
    {
     "data": {
      "text/plain": [
       "{'n_neighbors': 1}"
      ]
     },
     "execution_count": 112,
     "metadata": {},
     "output_type": "execute_result"
    }
   ],
   "source": [
    "knn_kf_gs.best_params_"
   ]
  },
  {
   "cell_type": "markdown",
   "id": "39b2e78a",
   "metadata": {},
   "source": [
    "##### str_kfold"
   ]
  },
  {
   "cell_type": "code",
   "execution_count": 116,
   "id": "fb406a14",
   "metadata": {},
   "outputs": [
    {
     "name": "stderr",
     "output_type": "stream",
     "text": [
      "C:\\Users\\MEDICI\\Anaconda3\\lib\\site-packages\\sklearn\\model_selection\\_search.py:285: UserWarning: The total space of parameters 4 is smaller than n_iter=10. Running 4 iterations. For exhaustive searches, use GridSearchCV.\n",
      "  warnings.warn(\n"
     ]
    },
    {
     "name": "stdout",
     "output_type": "stream",
     "text": [
      "Fitting 15 folds for each of 4 candidates, totalling 60 fits\n"
     ]
    },
    {
     "name": "stderr",
     "output_type": "stream",
     "text": [
      "C:\\Users\\MEDICI\\Anaconda3\\lib\\site-packages\\sklearn\\model_selection\\_search.py:922: UserWarning: One or more of the test scores are non-finite: [       nan 0.40522607 0.32222222 0.25      ]\n",
      "  warnings.warn(\n"
     ]
    },
    {
     "data": {
      "text/plain": [
       "RandomizedSearchCV(cv=StratifiedKFold(n_splits=15, random_state=1234, shuffle=True),\n",
       "                   estimator=KNeighborsClassifier(n_jobs=-1), n_jobs=-1,\n",
       "                   param_distributions={'n_neighbors': [0, 1, 2, 3]},\n",
       "                   random_state=1234, scoring='precision', verbose=2)"
      ]
     },
     "execution_count": 116,
     "metadata": {},
     "output_type": "execute_result"
    }
   ],
   "source": [
    "# RandomGridSearchCV\n",
    "\n",
    "# 1) 사용할 모델\n",
    "knn = KNeighborsClassifier(n_jobs=-1)\n",
    "\n",
    "# 몇 번 반복하면서 할 것인지 : RandomGridSearchCV\n",
    "n_iter_search = 10\n",
    "\n",
    "# RGSCV 세팅!!!!\n",
    "knn_strkf_rgs = RandomizedSearchCV(\n",
    "    knn, param_distributions = parameters,\n",
    "    cv = strkfold, scoring = \"precision\",\n",
    "    n_jobs = -1,\n",
    "    random_state=1234,\n",
    "    n_iter= n_iter_search,\n",
    "    verbose= 2\n",
    ")\n",
    "\n",
    "# 실제 데이터를 밀어서 수행...\n",
    "# ---> 실질적인 수행은 이 부분이기 때문에 시간이 여기서 오래 걸립니다...\n",
    "knn_strkf_rgs.fit(x_train, y_train)"
   ]
  },
  {
   "cell_type": "code",
   "execution_count": 117,
   "id": "377e1daf",
   "metadata": {},
   "outputs": [
    {
     "data": {
      "text/plain": [
       "0.40522607022607016"
      ]
     },
     "execution_count": 117,
     "metadata": {},
     "output_type": "execute_result"
    }
   ],
   "source": [
    "knn_strkf_rgs.best_score_"
   ]
  },
  {
   "cell_type": "code",
   "execution_count": 118,
   "id": "b458d239",
   "metadata": {},
   "outputs": [
    {
     "data": {
      "text/plain": [
       "{'n_neighbors': 1}"
      ]
     },
     "execution_count": 118,
     "metadata": {},
     "output_type": "execute_result"
    }
   ],
   "source": [
    "knn_strkf_rgs.best_params_"
   ]
  },
  {
   "cell_type": "code",
   "execution_count": 124,
   "id": "f21763ad",
   "metadata": {},
   "outputs": [
    {
     "name": "stdout",
     "output_type": "stream",
     "text": [
      "Fitting 15 folds for each of 5 candidates, totalling 75 fits\n"
     ]
    },
    {
     "name": "stderr",
     "output_type": "stream",
     "text": [
      "C:\\Users\\MEDICI\\Anaconda3\\lib\\site-packages\\sklearn\\model_selection\\_search.py:922: UserWarning: One or more of the test scores are non-finite: [       nan        nan 0.40522607 0.32222222 0.        ]\n",
      "  warnings.warn(\n"
     ]
    },
    {
     "data": {
      "text/plain": [
       "GridSearchCV(cv=StratifiedKFold(n_splits=15, random_state=1234, shuffle=True),\n",
       "             estimator=KNeighborsClassifier(n_jobs=-1), n_jobs=-1,\n",
       "             param_grid={'n_neighbors': [0, 0.5, 1, 2, 4]}, scoring='precision',\n",
       "             verbose=2)"
      ]
     },
     "execution_count": 124,
     "metadata": {},
     "output_type": "execute_result"
    }
   ],
   "source": [
    "### GridSearchCV\n",
    "\n",
    "parameters = {\n",
    "    \"n_neighbors\" : [0,0.5,1,2,4]\n",
    "}\n",
    "\n",
    "# 2) 사용할 모델\n",
    "knn = KNeighborsClassifier(n_jobs=-1)\n",
    "\n",
    "# 3) GridSearchCV\n",
    "knn_strkf_gs = GridSearchCV(\n",
    "    knn, param_grid=parameters, \n",
    "    cv= strkfold, scoring=\"precision\",\n",
    "    n_jobs=-1, verbose=2\n",
    ")\n",
    "\n",
    "# 4) 실제 데이터 넣어서 수행~\n",
    "knn_strkf_gs.fit(x_train, y_train)"
   ]
  },
  {
   "cell_type": "code",
   "execution_count": 125,
   "id": "8103c2e6",
   "metadata": {},
   "outputs": [
    {
     "data": {
      "text/plain": [
       "0.40522607022607016"
      ]
     },
     "execution_count": 125,
     "metadata": {},
     "output_type": "execute_result"
    }
   ],
   "source": [
    "knn_strkf_gs.best_score_"
   ]
  },
  {
   "cell_type": "code",
   "execution_count": 126,
   "id": "c74b90ca",
   "metadata": {},
   "outputs": [
    {
     "data": {
      "text/plain": [
       "{'n_neighbors': 1}"
      ]
     },
     "execution_count": 126,
     "metadata": {},
     "output_type": "execute_result"
    }
   ],
   "source": [
    "knn_strkf_gs.best_params_"
   ]
  },
  {
   "cell_type": "markdown",
   "id": "6bc0127c",
   "metadata": {},
   "source": [
    "#### repeated kfold"
   ]
  },
  {
   "cell_type": "code",
   "execution_count": 127,
   "id": "a032f964",
   "metadata": {},
   "outputs": [
    {
     "name": "stderr",
     "output_type": "stream",
     "text": [
      "C:\\Users\\MEDICI\\Anaconda3\\lib\\site-packages\\sklearn\\model_selection\\_search.py:285: UserWarning: The total space of parameters 5 is smaller than n_iter=10. Running 5 iterations. For exhaustive searches, use GridSearchCV.\n",
      "  warnings.warn(\n"
     ]
    },
    {
     "name": "stdout",
     "output_type": "stream",
     "text": [
      "Fitting 50 folds for each of 5 candidates, totalling 250 fits\n"
     ]
    },
    {
     "name": "stderr",
     "output_type": "stream",
     "text": [
      "C:\\Users\\MEDICI\\Anaconda3\\lib\\site-packages\\sklearn\\model_selection\\_search.py:922: UserWarning: One or more of the test scores are non-finite: [       nan        nan 0.32441977 0.2768254  0.        ]\n",
      "  warnings.warn(\n"
     ]
    },
    {
     "data": {
      "text/plain": [
       "RandomizedSearchCV(cv=RepeatedKFold(n_repeats=10, n_splits=5, random_state=1234),\n",
       "                   estimator=KNeighborsClassifier(n_jobs=-1), n_jobs=-1,\n",
       "                   param_distributions={'n_neighbors': [0, 0.5, 1, 2, 4]},\n",
       "                   random_state=1234, scoring='precision', verbose=2)"
      ]
     },
     "execution_count": 127,
     "metadata": {},
     "output_type": "execute_result"
    }
   ],
   "source": [
    "# RandomGridSearchCV\n",
    "\n",
    "# 1) 사용할 모델\n",
    "knn = KNeighborsClassifier(n_jobs=-1)\n",
    "\n",
    "# 몇 번 반복하면서 할 것인지 : RandomGridSearchCV\n",
    "n_iter_search = 10\n",
    "\n",
    "# RGSCV 세팅!!!!\n",
    "knn_rkf_rgs = RandomizedSearchCV(\n",
    "    knn, param_distributions = parameters,\n",
    "    cv = rkfold, scoring = \"precision\",\n",
    "    n_jobs = -1,\n",
    "    random_state=1234,\n",
    "    n_iter= n_iter_search,\n",
    "    verbose= 2\n",
    ")\n",
    "\n",
    "# 실제 데이터를 밀어서 수행...\n",
    "# ---> 실질적인 수행은 이 부분이기 때문에 시간이 여기서 오래 걸립니다...\n",
    "knn_rkf_rgs.fit(x_train, y_train)"
   ]
  },
  {
   "cell_type": "code",
   "execution_count": 129,
   "id": "9abb8355",
   "metadata": {},
   "outputs": [
    {
     "data": {
      "text/plain": [
       "0.32441977185579957"
      ]
     },
     "execution_count": 129,
     "metadata": {},
     "output_type": "execute_result"
    }
   ],
   "source": [
    "knn_rkf_rgs.best_score_"
   ]
  },
  {
   "cell_type": "code",
   "execution_count": 130,
   "id": "ea9b17b3",
   "metadata": {},
   "outputs": [
    {
     "data": {
      "text/plain": [
       "{'n_neighbors': 1}"
      ]
     },
     "execution_count": 130,
     "metadata": {},
     "output_type": "execute_result"
    }
   ],
   "source": [
    "knn_rkf_rgs.best_params_"
   ]
  },
  {
   "cell_type": "markdown",
   "id": "fc62c091",
   "metadata": {},
   "source": [
    "### RandomForest"
   ]
  },
  {
   "cell_type": "code",
   "execution_count": 43,
   "id": "a313e3aa",
   "metadata": {},
   "outputs": [],
   "source": [
    "from sklearn.ensemble import RandomForestClassifier"
   ]
  },
  {
   "cell_type": "code",
   "execution_count": 132,
   "id": "89a1c8a7",
   "metadata": {},
   "outputs": [
    {
     "name": "stdout",
     "output_type": "stream",
     "text": [
      "RF K-Fold 0번째 검증 정밀도 : 1.0000\n",
      "RF K-Fold 1번째 검증 정밀도 : 1.0000\n",
      "RF K-Fold 2번째 검증 정밀도 : 1.0000\n",
      "RF K-Fold 3번째 검증 정밀도 : 1.0000\n",
      "RF K-Fold 4번째 검증 정밀도 : 1.0000\n",
      "RF K-Fold 5번째 검증 정밀도 : 1.0000\n",
      "RF K-Fold 6번째 검증 정밀도 : 1.0000\n",
      "RF K-Fold 7번째 검증 정밀도 : 1.0000\n",
      "RF K-Fold 8번째 검증 정밀도 : 1.0000\n",
      "RF K-Fold 9번째 검증 정밀도 : 1.0000\n",
      "RF K-Fold 10번째 검증 정밀도 : 1.0000\n",
      "RF K-Fold 11번째 검증 정밀도 : 1.0000\n",
      "RF K-Fold 12번째 검증 정밀도 : 1.0000\n",
      "RF K-Fold 13번째 검증 정밀도 : 1.0000\n",
      "RF K-Fold 14번째 검증 정밀도 : 1.0000\n",
      "KNN kfold 평균 정밀도 : 1.0\n"
     ]
    }
   ],
   "source": [
    "rf = RandomForestClassifier(n_jobs=-1, random_state=1234)\n",
    "scores = cross_val_score(rf, x_train, y_train ,\n",
    "                         cv=kfold, scoring=\"precision\")\n",
    "for iter_count, acc in enumerate(scores):\n",
    "    print(\"RF K-Fold {0}번째 검증 정밀도 : {1:.4f}\".format(iter_count,acc ))\n",
    "print(\"KNN kfold 평균 정밀도 :\", scores.mean())"
   ]
  },
  {
   "cell_type": "code",
   "execution_count": 193,
   "id": "da6ab4a0",
   "metadata": {},
   "outputs": [
    {
     "name": "stdout",
     "output_type": "stream",
     "text": [
      "Fitting 5 folds for each of 10 candidates, totalling 50 fits\n"
     ]
    },
    {
     "name": "stderr",
     "output_type": "stream",
     "text": [
      "C:\\Users\\MEDICI\\Anaconda3\\lib\\site-packages\\sklearn\\model_selection\\_search.py:922: UserWarning: One or more of the test scores are non-finite: [0.         0.5        0.         0.5               nan 0.5\n",
      " 0.72111111 0.5        0.         0.        ]\n",
      "  warnings.warn(\n"
     ]
    },
    {
     "data": {
      "text/plain": [
       "RandomizedSearchCV(cv=KFold(n_splits=5, random_state=1234, shuffle=True),\n",
       "                   estimator=RandomForestClassifier(n_jobs=-1,\n",
       "                                                    random_state=1234),\n",
       "                   n_jobs=-1,\n",
       "                   param_distributions={'max_depth': [50, 100, 300],\n",
       "                                        'max_features': ['auto', 'log2'],\n",
       "                                        'min_samples_leaf': [1, 2, 3, 5],\n",
       "                                        'min_samples_split': [1, 2, 4, 6],\n",
       "                                        'n_estimators': [100, 500, 1000]},\n",
       "                   random_state=1234, scoring='precision', verbose=2)"
      ]
     },
     "execution_count": 193,
     "metadata": {},
     "output_type": "execute_result"
    }
   ],
   "source": [
    "rf = RandomForestClassifier(n_jobs=-1, random_state=1234)\n",
    "\n",
    "parameters ={\n",
    "    \"n_estimators\" : [100, 500, 1000],  \n",
    "    \"max_features\" :[\"auto\",\"log2\"],\n",
    "    \"max_depth\" : [ 50,100,300],\n",
    "    \"min_samples_split\" : [1, 2, 4, 6],\n",
    "    \"min_samples_leaf\" : [1,2,3,5]\n",
    "}\n",
    "\n",
    "n_iter_search = 10\n",
    "\n",
    "rf_kf_rgs = RandomizedSearchCV(\n",
    "    rf, param_distributions = parameters,\n",
    "    cv = kfold, scoring=\"precision\",\n",
    "    n_jobs = -1, random_state=1234,\n",
    "    n_iter= n_iter_search, verbose=2\n",
    ")\n",
    "\n",
    "rf_kf_rgs.fit(x_train, y_train)"
   ]
  },
  {
   "cell_type": "code",
   "execution_count": 194,
   "id": "4e0897c8",
   "metadata": {},
   "outputs": [
    {
     "data": {
      "text/plain": [
       "0.7211111111111111"
      ]
     },
     "execution_count": 194,
     "metadata": {},
     "output_type": "execute_result"
    }
   ],
   "source": [
    "rf_kf_rgs.best_score_"
   ]
  },
  {
   "cell_type": "code",
   "execution_count": 195,
   "id": "afad4a98",
   "metadata": {},
   "outputs": [
    {
     "data": {
      "text/plain": [
       "{'n_estimators': 500,\n",
       " 'min_samples_split': 2,\n",
       " 'min_samples_leaf': 1,\n",
       " 'max_features': 'log2',\n",
       " 'max_depth': 50}"
      ]
     },
     "execution_count": 195,
     "metadata": {},
     "output_type": "execute_result"
    }
   ],
   "source": [
    "rf_kf_rgs.best_params_"
   ]
  },
  {
   "cell_type": "code",
   "execution_count": 196,
   "id": "f96134bc",
   "metadata": {},
   "outputs": [
    {
     "name": "stdout",
     "output_type": "stream",
     "text": [
      "RF-KF-RGS Acc: 0.7857142857142857\n"
     ]
    }
   ],
   "source": [
    "rf_kf_rgs_best = rf_kf_rgs.best_estimator_\n",
    "rf_kf_rgs_best_ypred = rf_kf_rgs_best.predict(x_test)\n",
    "rf_kf_rgs_best_acc = precision_score(y_test,rf_kf_rgs_best_ypred )\n",
    "print(\"RF-KF-RGS Acc:\",rf_kf_rgs_best_acc)"
   ]
  },
  {
   "cell_type": "code",
   "execution_count": 197,
   "id": "7925561c",
   "metadata": {},
   "outputs": [
    {
     "name": "stdout",
     "output_type": "stream",
     "text": [
      "Fitting 5 folds for each of 216 candidates, totalling 1080 fits\n"
     ]
    },
    {
     "data": {
      "text/plain": [
       "GridSearchCV(cv=KFold(n_splits=5, random_state=1234, shuffle=True),\n",
       "             estimator=RandomForestClassifier(n_jobs=-1, random_state=1234),\n",
       "             n_jobs=-1,\n",
       "             param_grid={'max_depth': [1, 3, 5],\n",
       "                         'max_features': ['auto', 'log2'],\n",
       "                         'min_samples_leaf': [1, 2, 3, 5],\n",
       "                         'min_samples_split': [2, 4, 6],\n",
       "                         'n_estimators': [1, 5, 10]},\n",
       "             scoring='precision', verbose=2)"
      ]
     },
     "execution_count": 197,
     "metadata": {},
     "output_type": "execute_result"
    }
   ],
   "source": [
    "rf = RandomForestClassifier(n_jobs=-1, random_state=1234)\n",
    "\n",
    "\n",
    "parameters ={\n",
    "    \"n_estimators\" : [1,5,10],  \n",
    "    \"max_features\" :[\"auto\",\"log2\"],\n",
    "    \"max_depth\" : [1,3, 5 ],\n",
    "    \"min_samples_split\" : [ 2, 4, 6],\n",
    "    \"min_samples_leaf\" : [1,2,3,5]\n",
    "}\n",
    "\n",
    "\n",
    "\n",
    "rf_kf_gs = GridSearchCV(\n",
    "    rf, param_grid = parameters,\n",
    "    cv = kfold, scoring=\"precision\",\n",
    "    n_jobs = -1,\n",
    "    verbose=2\n",
    ")\n",
    "\n",
    "rf_kf_gs.fit(x_train, y_train)"
   ]
  },
  {
   "cell_type": "code",
   "execution_count": 198,
   "id": "25abd396",
   "metadata": {},
   "outputs": [
    {
     "data": {
      "text/plain": [
       "0.2"
      ]
     },
     "execution_count": 198,
     "metadata": {},
     "output_type": "execute_result"
    }
   ],
   "source": [
    "rf_kf_gs.best_score_"
   ]
  },
  {
   "cell_type": "code",
   "execution_count": 199,
   "id": "5abbc889",
   "metadata": {},
   "outputs": [
    {
     "data": {
      "text/plain": [
       "{'max_depth': 3,\n",
       " 'max_features': 'auto',\n",
       " 'min_samples_leaf': 1,\n",
       " 'min_samples_split': 2,\n",
       " 'n_estimators': 5}"
      ]
     },
     "execution_count": 199,
     "metadata": {},
     "output_type": "execute_result"
    }
   ],
   "source": [
    "rf_kf_gs.best_params_"
   ]
  },
  {
   "cell_type": "code",
   "execution_count": 200,
   "id": "f68f4bd8",
   "metadata": {},
   "outputs": [
    {
     "name": "stdout",
     "output_type": "stream",
     "text": [
      "RF-KF-GS Acc: 0.0\n"
     ]
    },
    {
     "name": "stderr",
     "output_type": "stream",
     "text": [
      "C:\\Users\\MEDICI\\Anaconda3\\lib\\site-packages\\sklearn\\metrics\\_classification.py:1248: UndefinedMetricWarning: Precision is ill-defined and being set to 0.0 due to no predicted samples. Use `zero_division` parameter to control this behavior.\n",
      "  _warn_prf(average, modifier, msg_start, len(result))\n"
     ]
    }
   ],
   "source": [
    "rf_kf_gs_best = rf_kf_gs.best_estimator_\n",
    "rf_kf_gs_best_ypred = rf_kf_gs_best.predict(x_test)\n",
    "rf_kf_gs_best_acc = precision_score(y_test,rf_kf_gs_best_ypred )\n",
    "print(\"RF-KF-GS Acc:\",rf_kf_gs_best_acc)"
   ]
  },
  {
   "cell_type": "markdown",
   "id": "f231253d",
   "metadata": {},
   "source": [
    "#### Xgboost"
   ]
  },
  {
   "cell_type": "code",
   "execution_count": 117,
   "id": "a45844b5",
   "metadata": {},
   "outputs": [],
   "source": [
    "from xgboost import XGBClassifier"
   ]
  },
  {
   "cell_type": "code",
   "execution_count": 118,
   "id": "1c0eea74",
   "metadata": {},
   "outputs": [],
   "source": [
    "xgbc = XGBClassifier(n_jobs= -1,random_state=1234, use_label_encoder=False,)"
   ]
  },
  {
   "cell_type": "code",
   "execution_count": 201,
   "id": "807d1d82",
   "metadata": {},
   "outputs": [
    {
     "name": "stdout",
     "output_type": "stream",
     "text": [
      "Fitting 5 folds for each of 10 candidates, totalling 50 fits\n",
      "[17:16:23] WARNING: D:\\bld\\xgboost-split_1645118015404\\work\\src\\learner.cc:1115: Starting in XGBoost 1.3.0, the default evaluation metric used with the objective 'binary:logistic' was changed from 'error' to 'logloss'. Explicitly set eval_metric if you'd like to restore the old behavior.\n"
     ]
    },
    {
     "data": {
      "text/plain": [
       "RandomizedSearchCV(cv=KFold(n_splits=5, random_state=1234, shuffle=True),\n",
       "                   estimator=XGBClassifier(base_score=None, booster=None,\n",
       "                                           colsample_bylevel=None,\n",
       "                                           colsample_bynode=None,\n",
       "                                           colsample_bytree=None,\n",
       "                                           enable_categorical=False, gamma=None,\n",
       "                                           gpu_id=None, importance_type=None,\n",
       "                                           interaction_constraints=None,\n",
       "                                           learning_rate=None,\n",
       "                                           max_delta_step=None, max_depth=None,\n",
       "                                           min_chi...\n",
       "                   param_distributions={'booster': ['gbtree', 'gblinear',\n",
       "                                                    'dart'],\n",
       "                                        'colsample_bytree': [0.3, 0.5, 0.7,\n",
       "                                                             0.9],\n",
       "                                        'gamma': [0, 0.1, 0.5],\n",
       "                                        'learning_rate': [0.01, 0.1, 0.3, 0.8],\n",
       "                                        'max_depth': [2, 4, 6, 8, 10, 20],\n",
       "                                        'min_child_weight': [0.5, 1, 5],\n",
       "                                        'n_estimators': [10, 50, 100, 300, 500],\n",
       "                                        'reg_alpha': [0, 0.01, 0.1, 0.5, 1, 10],\n",
       "                                        'reg_lambda': [0, 0.01, 0.1, 0.5, 1,\n",
       "                                                       10],\n",
       "                                        'subsample': [0.3, 0.5, 0.7, 0.9]},\n",
       "                   random_state=1234, scoring='precision', verbose=2)"
      ]
     },
     "execution_count": 201,
     "metadata": {},
     "output_type": "execute_result"
    }
   ],
   "source": [
    "# random grid search용 테스트할 파라미터들\n",
    "parameters = {\n",
    " \n",
    "    \"booster\" : [\"gbtree\", \"gblinear\", \"dart\"],\n",
    "   \n",
    "    \"n_estimators\" : [10,50,100,300,500],\n",
    "    \"learning_rate\" : [0.01, 0.1, 0.3, 0.8],\n",
    "    \n",
    "\n",
    "    \"max_depth\" : [2, 4, 6, 8, 10, 20],\n",
    "    \"min_child_weight\" : [0.5, 1, 5],\n",
    "    \"gamma\" : [ 0, 0.1, 0.5],  \n",
    "    \n",
    "\n",
    "    \"subsample\" : [0.3, 0.5, 0.7, 0.9],\n",
    "    \"colsample_bytree\" : [0.3, 0.5, 0.7, 0.9],\n",
    "    \n",
    "\n",
    "    \"reg_alpha\" : [0, 0.01, 0.1, 0.5, 1, 10],  # 규약을 안 쓰는 경우 0\n",
    "    \"reg_lambda\" : [0, 0.01, 0.1, 0.5, 1, 10]\n",
    "    \n",
    "}\n",
    "\n",
    "n_iter_search = 10\n",
    "\n",
    "xgbc_kf_rgs = RandomizedSearchCV(\n",
    "    xgbc, param_distributions = parameters,\n",
    "    cv = kfold, scoring=\"precision\",\n",
    "    n_jobs = -1, random_state=1234,\n",
    "    n_iter= n_iter_search, verbose=2\n",
    ")\n",
    "\n",
    "\n",
    "xgbc_kf_rgs.fit(x_train, y_train)"
   ]
  },
  {
   "cell_type": "code",
   "execution_count": 202,
   "id": "61b5ce18",
   "metadata": {},
   "outputs": [
    {
     "data": {
      "text/plain": [
       "0.7366666666666666"
      ]
     },
     "execution_count": 202,
     "metadata": {},
     "output_type": "execute_result"
    }
   ],
   "source": [
    "xgbc_kf_rgs.best_score_"
   ]
  },
  {
   "cell_type": "code",
   "execution_count": 204,
   "id": "68cc700b",
   "metadata": {},
   "outputs": [
    {
     "data": {
      "text/plain": [
       "{'subsample': 0.3,\n",
       " 'reg_lambda': 0.5,\n",
       " 'reg_alpha': 0.01,\n",
       " 'n_estimators': 300,\n",
       " 'min_child_weight': 1,\n",
       " 'max_depth': 20,\n",
       " 'learning_rate': 0.1,\n",
       " 'gamma': 0,\n",
       " 'colsample_bytree': 0.3,\n",
       " 'booster': 'dart'}"
      ]
     },
     "execution_count": 204,
     "metadata": {},
     "output_type": "execute_result"
    }
   ],
   "source": [
    "xgbc_kf_rgs.best_params_"
   ]
  },
  {
   "cell_type": "code",
   "execution_count": 205,
   "id": "10cbfea6",
   "metadata": {},
   "outputs": [
    {
     "name": "stdout",
     "output_type": "stream",
     "text": [
      "0.7692307692307693\n"
     ]
    }
   ],
   "source": [
    "xgbc_kf_rgs_best = xgbc_kf_rgs.best_estimator_\n",
    "xgbc_kf_rgs_pred = xgbc_kf_rgs_best.predict(x_test)\n",
    "print(precision_score(y_test, xgbc_kf_rgs_pred))"
   ]
  },
  {
   "cell_type": "markdown",
   "id": "eca5e558",
   "metadata": {},
   "source": [
    "#### LightGBM"
   ]
  },
  {
   "cell_type": "code",
   "execution_count": 127,
   "id": "d5d87483",
   "metadata": {},
   "outputs": [],
   "source": [
    "from lightgbm import LGBMClassifier"
   ]
  },
  {
   "cell_type": "code",
   "execution_count": 270,
   "id": "6791c1fa",
   "metadata": {},
   "outputs": [
    {
     "name": "stdout",
     "output_type": "stream",
     "text": [
      "Fitting 5 folds for each of 100 candidates, totalling 500 fits\n"
     ]
    },
    {
     "data": {
      "text/plain": [
       "RandomizedSearchCV(cv=KFold(n_splits=5, random_state=1234, shuffle=True),\n",
       "                   estimator=LGBMClassifier(random_state=1234), n_iter=100,\n",
       "                   n_jobs=-1,\n",
       "                   param_distributions={'learning_rate': [0.1, 0.3, 0.4, 0.5],\n",
       "                                        'max_depth': [10, 13, 15],\n",
       "                                        'min_child_weight': [1, 0.9, 1.2, 2],\n",
       "                                        'n_estimators': [90, 100, 120],\n",
       "                                        'reg_alpha': [0, 0.01, 0.05],\n",
       "                                        'reg_lambda': [13, 15, 20]},\n",
       "                   random_state=1234, scoring='precision', verbose=2)"
      ]
     },
     "execution_count": 270,
     "metadata": {},
     "output_type": "execute_result"
    }
   ],
   "source": [
    "lgbm = LGBMClassifier(\n",
    "    random_state=1234,\n",
    "    n_jobs = -1\n",
    ")\n",
    "\n",
    "parameters ={\n",
    "    # 부스팅 : 이어달리기를 할 것입니다~어떤 스타일의 선수~~\n",
    "    #\"boosting_type\" : [\"gbdt\",\"goss\",\"dart\",\"rf\"],\n",
    "\n",
    "    # 그러면 몇 명의 선수를 선발해서 경기를 진행을 할지!!!\n",
    "    # + 얼머나 디테일하게 할지 \n",
    "    \"n_estimators\" : [90,100,120],\n",
    "    \"learning_rate\" : [0.1,0.3, 0.4, 0.5], #overfit\n",
    "\n",
    "    # tree 모형에 대한 조절 : overfit\n",
    "    \"max_depth\" :[10,13,15],\n",
    "    \"min_child_weight\": [1,0.9,1.2,2],\n",
    "\n",
    "    # 규약!!!\n",
    "    \"reg_alpha\":[0, 0.01,0.05] , # 규약을 안 쓰는 경우 0, \n",
    "    \"reg_lambda\":[13,15,20]\n",
    "}\n",
    "\n",
    "n_iter_search = 100\n",
    "\n",
    "lgbm_kf_rgs = RandomizedSearchCV(\n",
    "    lgbm, param_distributions = parameters,\n",
    "    cv = kfold, scoring=\"precision\",\n",
    "    n_jobs = -1, random_state=1234,\n",
    "    n_iter= n_iter_search, verbose=2\n",
    ")\n",
    "\n",
    "lgbm_kf_rgs.fit(x_train, y_train)\n"
   ]
  },
  {
   "cell_type": "code",
   "execution_count": 271,
   "id": "4c2a3215",
   "metadata": {},
   "outputs": [
    {
     "data": {
      "text/plain": [
       "0.9099999999999999"
      ]
     },
     "execution_count": 271,
     "metadata": {},
     "output_type": "execute_result"
    }
   ],
   "source": [
    "lgbm_kf_rgs.best_score_"
   ]
  },
  {
   "cell_type": "code",
   "execution_count": 272,
   "id": "ed2aaea9",
   "metadata": {},
   "outputs": [
    {
     "data": {
      "text/plain": [
       "{'reg_lambda': 20,\n",
       " 'reg_alpha': 0,\n",
       " 'n_estimators': 120,\n",
       " 'min_child_weight': 2,\n",
       " 'max_depth': 15,\n",
       " 'learning_rate': 0.4}"
      ]
     },
     "execution_count": 272,
     "metadata": {},
     "output_type": "execute_result"
    }
   ],
   "source": [
    "lgbm_kf_rgs.best_params_"
   ]
  },
  {
   "cell_type": "code",
   "execution_count": 273,
   "id": "9b3d06b2",
   "metadata": {},
   "outputs": [
    {
     "name": "stdout",
     "output_type": "stream",
     "text": [
      "0.8\n"
     ]
    }
   ],
   "source": [
    "lgbm_kf_rgs_best = lgbm_kf_rgs.best_estimator_\n",
    "lgbm_kf_rgs_pred = lgbm_kf_rgs_best.predict(x_test)\n",
    "print(precision_score(y_test,lgbm_kf_rgs_pred))"
   ]
  },
  {
   "cell_type": "code",
   "execution_count": null,
   "id": "11983b62",
   "metadata": {},
   "outputs": [],
   "source": []
  },
  {
   "cell_type": "code",
   "execution_count": null,
   "id": "fc28ccfd",
   "metadata": {},
   "outputs": [],
   "source": []
  },
  {
   "cell_type": "code",
   "execution_count": null,
   "id": "a6de5eaa",
   "metadata": {},
   "outputs": [],
   "source": []
  },
  {
   "cell_type": "code",
   "execution_count": null,
   "id": "db03a5b5",
   "metadata": {},
   "outputs": [],
   "source": []
  },
  {
   "cell_type": "code",
   "execution_count": null,
   "id": "0cdf8ac0",
   "metadata": {},
   "outputs": [],
   "source": []
  },
  {
   "cell_type": "code",
   "execution_count": null,
   "id": "4b502038",
   "metadata": {},
   "outputs": [],
   "source": []
  },
  {
   "cell_type": "code",
   "execution_count": null,
   "id": "d2dba74c",
   "metadata": {},
   "outputs": [],
   "source": []
  },
  {
   "cell_type": "code",
   "execution_count": null,
   "id": "cee95434",
   "metadata": {},
   "outputs": [],
   "source": []
  },
  {
   "cell_type": "code",
   "execution_count": null,
   "id": "7034ef1e",
   "metadata": {},
   "outputs": [],
   "source": []
  },
  {
   "cell_type": "code",
   "execution_count": null,
   "id": "919d05b0",
   "metadata": {},
   "outputs": [],
   "source": []
  },
  {
   "cell_type": "code",
   "execution_count": null,
   "id": "142500b6",
   "metadata": {},
   "outputs": [],
   "source": []
  },
  {
   "cell_type": "code",
   "execution_count": null,
   "id": "a7de8392",
   "metadata": {},
   "outputs": [],
   "source": []
  },
  {
   "cell_type": "code",
   "execution_count": null,
   "id": "3f940ee5",
   "metadata": {},
   "outputs": [],
   "source": []
  },
  {
   "cell_type": "markdown",
   "id": "4f644832",
   "metadata": {},
   "source": [
    "### kernel Ridge Model"
   ]
  },
  {
   "cell_type": "code",
   "execution_count": 133,
   "id": "92925213",
   "metadata": {},
   "outputs": [],
   "source": [
    "from sklearn.kernel_ridge import KernelRidge"
   ]
  },
  {
   "cell_type": "code",
   "execution_count": 148,
   "id": "30c3c82f",
   "metadata": {},
   "outputs": [],
   "source": [
    "from numpy.core.numeric import cross\n",
    "# RMSE : 딱 정해진 것이 없으니 만들자\n",
    "def rmse_cv(model):\n",
    "    rmse = np.sqrt(-cross_val_score(model, x_train, y_train, cv = kfold, scoring = \"neg_root_mean_squared_error\"))\n",
    "    return rmse"
   ]
  },
  {
   "cell_type": "code",
   "execution_count": 149,
   "id": "864638ab",
   "metadata": {},
   "outputs": [
    {
     "name": "stdout",
     "output_type": "stream",
     "text": [
      "Kernel Ridge BaseLine Mean: 0.31387838512160926\n",
      "Kernel Ridge BaseLine std: 0.014423553949687445\n"
     ]
    }
   ],
   "source": [
    "# base line check\n",
    "kr_model = KernelRidge()\n",
    "scores = rmse_cv(kr_model)\n",
    "print(\"Kernel Ridge BaseLine Mean:\", scores.mean())\n",
    "print(\"Kernel Ridge BaseLine std:\", scores.std())"
   ]
  },
  {
   "cell_type": "code",
   "execution_count": 153,
   "id": "b746158d",
   "metadata": {},
   "outputs": [
    {
     "data": {
      "text/plain": [
       "RandomizedSearchCV(cv=KFold(n_splits=5, random_state=1234, shuffle=True),\n",
       "                   estimator=KernelRidge(), n_iter=20, n_jobs=-1,\n",
       "                   param_distributions={'alpha': [1e-06, 0.001, 1, 5, 10],\n",
       "                                        'degree': [2, 3],\n",
       "                                        'gamma': array([3.05175781e-05, 2.46078330e-03, 1.98425131e-01, 1.60000000e+01]),\n",
       "                                        'kernel': ['linear', 'rbf',\n",
       "                                                   'polynomial']},\n",
       "                   random_state=1234, scoring='neg_root_mean_squared_error')"
      ]
     },
     "execution_count": 153,
     "metadata": {},
     "output_type": "execute_result"
    }
   ],
   "source": [
    "# Kernel Ridge Random Search CV\n",
    "kr_model = KernelRidge()\n",
    "kr_parameters={\n",
    "    \"alpha\" : [0.000001, 0.001, 1, 5, 10],\n",
    "\n",
    "    #### kernel : svm에서 한 대로 차원 변환을 통해서\n",
    "    \"kernel\":[\"linear\", \"rbf\", \"polynomial\"],\n",
    "    \"gamma\" : np.logspace(-15, 4, num=4, base=2),\n",
    "    \"degree\" : [2,3],\n",
    "}\n",
    "# RS_iter\n",
    "n_iter_search =20\n",
    "\n",
    "# RandomSearchCV\n",
    "kr_rgs_model = RandomizedSearchCV(\n",
    "    kr_model, \n",
    "    param_distributions=kr_parameters,\n",
    "    n_iter = n_iter_search,\n",
    "    cv=kfold,\n",
    "    random_state=1234,\n",
    "    n_jobs=-1,\n",
    "    scoring=\"neg_root_mean_squared_error\"\n",
    ")\n",
    "kr_rgs_model.fit(x_train, y_train)"
   ]
  },
  {
   "cell_type": "code",
   "execution_count": 154,
   "id": "b2c85ee2",
   "metadata": {},
   "outputs": [
    {
     "data": {
      "text/plain": [
       "-0.08195352709870496"
      ]
     },
     "execution_count": 154,
     "metadata": {},
     "output_type": "execute_result"
    }
   ],
   "source": [
    "kr_rgs_model.best_score_"
   ]
  },
  {
   "cell_type": "code",
   "execution_count": 155,
   "id": "e03e1eea",
   "metadata": {},
   "outputs": [
    {
     "data": {
      "text/plain": [
       "{'kernel': 'rbf', 'gamma': 16.0, 'degree': 3, 'alpha': 1e-06}"
      ]
     },
     "execution_count": 155,
     "metadata": {},
     "output_type": "execute_result"
    }
   ],
   "source": [
    "kr_rgs_model.best_params_"
   ]
  },
  {
   "cell_type": "code",
   "execution_count": null,
   "id": "25e7659c",
   "metadata": {},
   "outputs": [],
   "source": [
    "f = kr_rgs_model.best_params_ # 제일 좋았던 파라미터이 조합을 받고\n",
    "best_model_pos = kr_rgs_model.cv_results_[\"params\"].index(f)\n",
    "\n",
    "best_score_list = []\n",
    "for i in range(k_fold_num):\n",
    "    k = \"split\" + str(i) + \"_test_score\"\n",
    "    best_score_list.append(kr_rgs_model.cv_results_[k][best_model_pos])\n",
    "    \n",
    "# 리스트보다 array로 처리하려고\n",
    "best_score_list = np.array(best_score_list)\n",
    "print(best_score_list)\n",
    "print(\"Best Model CV nRMSE Mean\" , best_score_list.mean())\n",
    "print(\"Best_Model CV nRMSE std\", best_score_list.std())"
   ]
  },
  {
   "cell_type": "markdown",
   "id": "5e36faf7",
   "metadata": {},
   "source": [
    "### LASSO"
   ]
  },
  {
   "cell_type": "code",
   "execution_count": 156,
   "id": "db4585f9",
   "metadata": {},
   "outputs": [],
   "source": [
    "from sklearn.linear_model import Lasso"
   ]
  },
  {
   "cell_type": "code",
   "execution_count": 157,
   "id": "9dab0e5c",
   "metadata": {},
   "outputs": [
    {
     "name": "stdout",
     "output_type": "stream",
     "text": [
      "Lasso BaseLine Mean : 0.31326678329328167\n",
      "Lasso BaseLing Std : 0.014719287344691714\n"
     ]
    }
   ],
   "source": [
    "lasso_model = Lasso(random_state=1234)\n",
    "lasso_scores = rmse_cv(lasso_model) \n",
    "print(\"Lasso BaseLine Mean :\", lasso_scores.mean())\n",
    "print(\"Lasso BaseLing Std :\",lasso_scores.std())"
   ]
  },
  {
   "cell_type": "code",
   "execution_count": 160,
   "id": "d5f4824a",
   "metadata": {},
   "outputs": [
    {
     "data": {
      "text/plain": [
       "RandomizedSearchCV(cv=KFold(n_splits=5, random_state=1234, shuffle=True),\n",
       "                   estimator=Lasso(random_state=1234), n_iter=20, n_jobs=-1,\n",
       "                   param_distributions={'alpha': [1e-06, 0.0001, 0.001, 0.01,\n",
       "                                                  0.1, 1, 5, 10],\n",
       "                                        'max_iter': [1000, 3000],\n",
       "                                        'tol': [1e-07, 1e-05, 0.001]},\n",
       "                   random_state=1234, scoring='neg_root_mean_squared_error')"
      ]
     },
     "execution_count": 160,
     "metadata": {},
     "output_type": "execute_result"
    }
   ],
   "source": [
    "# RandomGridSearchCV\n",
    "lasso_model = Lasso(random_state = 1234)\n",
    "lasso_parameters = {\n",
    "    # 모델 자체에서 중요한 파라미터 규약 강도\n",
    "    \"alpha\" : [0.000001, 0.0001, 0.001, 0.01, 0.1, 1, 5, 10],\n",
    "    \n",
    "    # 실제 수치연산적인 부분에서 체크\n",
    "    \"tol\" : [0.0000001, 0.00001, 0.001],\n",
    "    \"max_iter\" : [1000, 3000]\n",
    "}\n",
    "n_iter = 20\n",
    "lasso_rgs_model = RandomizedSearchCV(\n",
    "    lasso_model,\n",
    "    param_distributions = lasso_parameters,\n",
    "    n_iter = n_iter,\n",
    "    cv = kfold,\n",
    "    scoring = \"neg_root_mean_squared_error\",\n",
    "    random_state = 1234,\n",
    "    n_jobs = -1\n",
    ")\n",
    "lasso_rgs_model.fit(x_train,y_train)"
   ]
  },
  {
   "cell_type": "code",
   "execution_count": 161,
   "id": "6e14751d",
   "metadata": {},
   "outputs": [
    {
     "data": {
      "text/plain": [
       "-0.09812415134721715"
      ]
     },
     "execution_count": 161,
     "metadata": {},
     "output_type": "execute_result"
    }
   ],
   "source": [
    "lasso_rgs_model.best_score_"
   ]
  },
  {
   "cell_type": "code",
   "execution_count": 162,
   "id": "3ffad28a",
   "metadata": {},
   "outputs": [
    {
     "data": {
      "text/plain": [
       "{'tol': 1e-05, 'max_iter': 1000, 'alpha': 0.001}"
      ]
     },
     "execution_count": 162,
     "metadata": {},
     "output_type": "execute_result"
    }
   ],
   "source": [
    "lasso_rgs_model.best_params_"
   ]
  },
  {
   "cell_type": "code",
   "execution_count": 163,
   "id": "f1374d46",
   "metadata": {},
   "outputs": [
    {
     "data": {
      "text/plain": [
       "GridSearchCV(cv=KFold(n_splits=5, random_state=1234, shuffle=True),\n",
       "             estimator=Lasso(random_state=1234), n_jobs=-1,\n",
       "             param_grid={'alpha': [0.001, 0.0005, 0.0015], 'max_iter': [1000],\n",
       "                         'tol': [1e-07, 1e-05, 0.001]},\n",
       "             scoring='neg_root_mean_squared_error')"
      ]
     },
     "execution_count": 163,
     "metadata": {},
     "output_type": "execute_result"
    }
   ],
   "source": [
    "# 주변에 좀 더 디테일하게 해보자 : gridSearch\n",
    "lasso_model = Lasso(random_state = 1234)\n",
    "lasso_parameters = {\n",
    "    # 모델 자체에서 중요한 파라미터 규약 강도\n",
    "    \"alpha\" : [0.001, 0.0005, 0.0015],\n",
    "    \n",
    "    # 실제 수치연산적인 부분에서 체크\n",
    "    \"tol\" : [0.0000001, 0.00001, 0.001],\n",
    "    \"max_iter\" : [1000]\n",
    "}\n",
    "lasso_gs_model = GridSearchCV(\n",
    "    lasso_model,\n",
    "    param_grid = lasso_parameters,\n",
    "    cv = kfold,\n",
    "    scoring = \"neg_root_mean_squared_error\",\n",
    "    n_jobs = -1\n",
    ")\n",
    "lasso_gs_model.fit(x_train,y_train)\n"
   ]
  },
  {
   "cell_type": "code",
   "execution_count": 164,
   "id": "87a3fa3d",
   "metadata": {},
   "outputs": [
    {
     "data": {
      "text/plain": [
       "-0.09809545540568318"
      ]
     },
     "execution_count": 164,
     "metadata": {},
     "output_type": "execute_result"
    }
   ],
   "source": [
    "lasso_gs_model.best_score_"
   ]
  },
  {
   "cell_type": "code",
   "execution_count": 165,
   "id": "e8c9a04c",
   "metadata": {},
   "outputs": [
    {
     "data": {
      "text/plain": [
       "{'alpha': 0.0015, 'max_iter': 1000, 'tol': 1e-07}"
      ]
     },
     "execution_count": 165,
     "metadata": {},
     "output_type": "execute_result"
    }
   ],
   "source": [
    "lasso_gs_model.best_params_"
   ]
  },
  {
   "cell_type": "markdown",
   "id": "95a1e47a",
   "metadata": {},
   "source": [
    "### ElasticNet Regression"
   ]
  },
  {
   "cell_type": "code",
   "execution_count": 166,
   "id": "d1547165",
   "metadata": {},
   "outputs": [],
   "source": [
    "from sklearn.linear_model import ElasticNet"
   ]
  },
  {
   "cell_type": "code",
   "execution_count": 167,
   "id": "12357587",
   "metadata": {},
   "outputs": [
    {
     "name": "stdout",
     "output_type": "stream",
     "text": [
      "ElasticNet BaseLine Mean :  0.31326678329328167\n",
      "ElasticNet BaseLine std :  0.014719287344691714\n"
     ]
    }
   ],
   "source": [
    "elnet_model = ElasticNet(random_state = 1234)\n",
    "elnet_scores = rmse_cv(elnet_model)\n",
    "print(\"ElasticNet BaseLine Mean : \", elnet_scores.mean())\n",
    "print(\"ElasticNet BaseLine std : \", elnet_scores.std())"
   ]
  },
  {
   "cell_type": "code",
   "execution_count": 168,
   "id": "36d7be08",
   "metadata": {},
   "outputs": [
    {
     "data": {
      "text/plain": [
       "RandomizedSearchCV(cv=KFold(n_splits=5, random_state=1234, shuffle=True),\n",
       "                   estimator=ElasticNet(random_state=1234), n_iter=20,\n",
       "                   n_jobs=-1,\n",
       "                   param_distributions={'alpha': [1e-06, 0.0001, 0.001, 0.01,\n",
       "                                                  0.1, 1, 5, 10],\n",
       "                                        'l1_ratio': [1e-06, 0.0001, 0.001, 0.01,\n",
       "                                                     0.1, 0.4, 0.6, 0.8],\n",
       "                                        'max_iter': [1000, 2000],\n",
       "                                        'tol': [1e-05, 1e-05, 0.001]},\n",
       "                   random_state=1234, scoring='neg_root_mean_squared_error')"
      ]
     },
     "execution_count": 168,
     "metadata": {},
     "output_type": "execute_result"
    }
   ],
   "source": [
    "# ElasticNet -> RandomGridSearch\n",
    "elnet_model = ElasticNet(random_state = 1234)\n",
    "elnet_parameters = {\n",
    "    # L1과 L2에 대한 규약에 대한 비율\n",
    "    \"alpha\" : [0.000001, 0.0001, 0.001, 0.01, 0.1, 1, 5, 10],\n",
    "    \"l1_ratio\" : [0.000001, 0.0001,0.001,0.01, 0.1,  0.4,0.6, 0.8],\n",
    "\n",
    "    # 구현적으로 연산적인 기능에 대한 파라미터\n",
    "    \"tol\" :[0.00001, 0.00001, 0.001],\n",
    "    \"max_iter\" : [1000,2000]\n",
    "}\n",
    "n_iter_elnet = 20\n",
    "elnet_rgs_model = RandomizedSearchCV(\n",
    "    elnet_model, \n",
    "    param_distributions = elnet_parameters,\n",
    "    cv=kfold,\n",
    "    n_iter = n_iter_elnet,\n",
    "    scoring=\"neg_root_mean_squared_error\",\n",
    "    random_state=1234,\n",
    "    n_jobs=-1\n",
    ")\n",
    "elnet_rgs_model.fit(x_train,y_train)"
   ]
  },
  {
   "cell_type": "code",
   "execution_count": 169,
   "id": "9df0a51f",
   "metadata": {},
   "outputs": [
    {
     "data": {
      "text/plain": [
       "-0.0981727992061455"
      ]
     },
     "execution_count": 169,
     "metadata": {},
     "output_type": "execute_result"
    }
   ],
   "source": [
    "elnet_rgs_model.best_score_"
   ]
  },
  {
   "cell_type": "code",
   "execution_count": 170,
   "id": "7cd7a7b5",
   "metadata": {},
   "outputs": [
    {
     "ename": "NameError",
     "evalue": "name 'cvmodel_results' is not defined",
     "output_type": "error",
     "traceback": [
      "\u001b[1;31m---------------------------------------------------------------------------\u001b[0m",
      "\u001b[1;31mNameError\u001b[0m                                 Traceback (most recent call last)",
      "\u001b[1;32m~\\AppData\\Local\\Temp/ipykernel_5608/3275620240.py\u001b[0m in \u001b[0;36m<module>\u001b[1;34m\u001b[0m\n\u001b[1;32m----> 1\u001b[1;33m \u001b[0mcvmodel_results\u001b[0m\u001b[1;33m(\u001b[0m\u001b[0melnet_rgs_model\u001b[0m\u001b[1;33m)\u001b[0m\u001b[1;33m\u001b[0m\u001b[1;33m\u001b[0m\u001b[0m\n\u001b[0m",
      "\u001b[1;31mNameError\u001b[0m: name 'cvmodel_results' is not defined"
     ]
    }
   ],
   "source": [
    "cvmodel_results(elnet_rgs_model)"
   ]
  },
  {
   "cell_type": "code",
   "execution_count": null,
   "id": "a79a3c36",
   "metadata": {},
   "outputs": [],
   "source": [
    "# ElasticNet -> GridSearch\n",
    "elnet_model = ElasticNet(random_state = 1234)\n",
    "elnet_parameters = {\n",
    "    # L1과 L2에 대한 규약에 대한 비율\n",
    "    \"alpha\" : [0.01, 0.005, 0.015],\n",
    "    \"l1_ratio\" : [0.3,0.35, 0.4,0.45],\n",
    "\n",
    "    # 구현적으로 연산적인 기능에 대한 파라미터\n",
    "    \"tol\" :[0.00001, 0.00001, 0.001],\n",
    "    \"max_iter\" : [2000]\n",
    "}\n",
    "\n",
    "elnet_gs_model = GridSearchCV(\n",
    "    elnet_model, \n",
    "    param_grid = elnet_parameters,\n",
    "    cv=kfold,\n",
    "    scoring=\"neg_root_mean_squared_error\",\n",
    "    n_jobs=-1\n",
    ")\n",
    "elnet_gs_model.fit(X_train,y_df)\n",
    "t2 = time.time()\n",
    "print(\"Processed Time :\" , str(t2-t1))"
   ]
  },
  {
   "cell_type": "code",
   "execution_count": null,
   "id": "ca9ae541",
   "metadata": {},
   "outputs": [],
   "source": [
    "elnet_gs_model.best_score_"
   ]
  },
  {
   "cell_type": "code",
   "execution_count": null,
   "id": "263130c8",
   "metadata": {},
   "outputs": [],
   "source": [
    "cvmodel_results(elnet_gs_model)"
   ]
  },
  {
   "cell_type": "code",
   "execution_count": null,
   "id": "a75025d5",
   "metadata": {},
   "outputs": [],
   "source": [
    "# SVR , 앙상블, 스켈링, optuna 확인하기"
   ]
  },
  {
   "cell_type": "code",
   "execution_count": null,
   "id": "b31c5ac8",
   "metadata": {},
   "outputs": [],
   "source": []
  },
  {
   "cell_type": "code",
   "execution_count": null,
   "id": "f061f4c6",
   "metadata": {},
   "outputs": [],
   "source": [
    "from sklearn.feature_selection import f_regression, SelectKBest"
   ]
  },
  {
   "cell_type": "code",
   "execution_count": null,
   "id": "5f734bb8",
   "metadata": {},
   "outputs": [],
   "source": [
    "## selctor 정의하기.\n",
    "selector = SelectKBest(score_func=f_regression, k=20)\n",
    "## 학습데이터에 fit_transform \n",
    "X_train_selected = selector.fit_transform(X_train, y_train)\n",
    "## 테스트 데이터는 transform\n",
    "X_test_selected = selector.transform(X_test)\n",
    "X_train_selected.shape, X_test_selected.shape"
   ]
  },
  {
   "cell_type": "code",
   "execution_count": null,
   "id": "b6a33e0c",
   "metadata": {},
   "outputs": [],
   "source": [
    "all_names = X_train.columns\n",
    "## selector.get_support()\n",
    "selected_mask = selector.get_support()\n",
    "## 선택된 특성(변수)들\n",
    "selected_names = all_names[selected_mask]\n",
    "## 선택되지 않은 특성(변수)들\n",
    "unselected_names = all_names[~selected_mask]\n",
    "print('Selected names: ', selected_names)\n",
    "print('Unselected names: ', unselected_names)"
   ]
  }
 ],
 "metadata": {
  "kernelspec": {
   "display_name": "Python 3 (ipykernel)",
   "language": "python",
   "name": "python3"
  },
  "language_info": {
   "codemirror_mode": {
    "name": "ipython",
    "version": 3
   },
   "file_extension": ".py",
   "mimetype": "text/x-python",
   "name": "python",
   "nbconvert_exporter": "python",
   "pygments_lexer": "ipython3",
   "version": "3.9.7"
  }
 },
 "nbformat": 4,
 "nbformat_minor": 5
}
