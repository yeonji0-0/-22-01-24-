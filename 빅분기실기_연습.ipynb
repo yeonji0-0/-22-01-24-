{
  "nbformat": 4,
  "nbformat_minor": 0,
  "metadata": {
    "colab": {
      "provenance": [],
      "authorship_tag": "ABX9TyOsuD554WgY9BTQEolYdpTA",
      "include_colab_link": true
    },
    "kernelspec": {
      "name": "python3",
      "display_name": "Python 3"
    },
    "language_info": {
      "name": "python"
    }
  },
  "cells": [
    {
      "cell_type": "markdown",
      "metadata": {
        "id": "view-in-github",
        "colab_type": "text"
      },
      "source": [
        "<a href=\"https://colab.research.google.com/github/yeonji0-0/Python-codes/blob/main/%EB%B9%85%EB%B6%84%EA%B8%B0%EC%8B%A4%EA%B8%B0_%EC%97%B0%EC%8A%B5.ipynb\" target=\"_parent\"><img src=\"https://colab.research.google.com/assets/colab-badge.svg\" alt=\"Open In Colab\"/></a>"
      ]
    },
    {
      "cell_type": "code",
      "execution_count": null,
      "metadata": {
        "colab": {
          "base_uri": "https://localhost:8080/",
          "height": 146
        },
        "id": "jTs2zvcOTvUn",
        "outputId": "1d6695d9-2895-4e98-8539-16aa3ae27e5b"
      },
      "outputs": [
        {
          "output_type": "error",
          "ename": "SyntaxError",
          "evalue": "ignored",
          "traceback": [
            "\u001b[0;36m  File \u001b[0;32m\"<ipython-input-3-2dd0035e40c2>\"\u001b[0;36m, line \u001b[0;32m7\u001b[0m\n\u001b[0;31m    -- 테스트 분리,검증 / 매개변수 튜닝\u001b[0m\n\u001b[0m           ^\u001b[0m\n\u001b[0;31mSyntaxError\u001b[0m\u001b[0;31m:\u001b[0m invalid syntax\n"
          ]
        }
      ],
      "source": [
        "# 라이브러리\n",
        "import pandas as pd\n",
        "import numpy as np\n",
        "\n",
        "## 인코딩,정규화,스케일링\n",
        "from sklearn.prepocessing import LabelEncoder,OneHotEncoder,StandardScaler,MinMaxScaler\n",
        "## 테스트 분리,검증 / 매개변수 튜닝\n",
        "from sklearn.model_selection import train_test_split, GridSeacherCV\n",
        "## 통계 평가\n",
        "from sklearn.metrics import mean_absolute_Error, mean_Squared_error, mean_absolute_percentage_error,roc_auc_score\n",
        "                           ,accuracy,precision,recall\n",
        "## 머신러닝 알고리즘\n",
        "from sklearn.linear_model import LinearRegression, Ridge, Lasso\n",
        "fromsklearn.svm import SVR\n",
        "fromsklearn.ensemble import RandomForestRegressor, RandomForestClassifier\n",
        "fromsklearn.tree import decisiontree\n",
        "from xgboost import XGBClassifier, XGBRegressor\n",
        "\n",
        "\n",
        "# 데이터 불러오기\n",
        " pd.read_csv('')\n",
        "\n",
        "#전처리\n",
        "## 빈칸 채우기\n",
        "df[\"Age\"].fillna(df[\"Age\"].mean(), inplace=True)\n",
        "df[\"Cabin\"].fillna(\"N\", inplace=True)\n",
        "df[\"Fare\"].fillna(0, inplace=True)\n",
        "print(train.isnull().sum())\n",
        "print(test.isnull().sum())\n",
        "\n",
        "##혹은 결측치 제거\n",
        "df[\"Age\"].dropna()\n",
        "\n",
        "##이상치 확인\n",
        "\n",
        "##인코딩하기\n",
        "le = LabelEncoder()\n",
        "le.fit(train['주구매상품'])\n",
        "label_encoded = le.transform(train['주구매상품'])\n",
        "train['주구매상품'] = label_encoded\n",
        "\n",
        "#머신러닝\n",
        "##x,y구별해주기\n",
        "x_train = train.drop('성별',axis=1)\n",
        "y_train = train['성별']\n",
        "\n",
        "#스케일링 하기\n",
        "scaler = MinMaxScaler()\n",
        "scaler.fit(x_train) ## fit은 test에 사용하지 말 것!\n",
        "x_train = scaler.transform(x_train)\n",
        "x_test = scaler.transform(x_test)\n",
        "\n",
        "#하이퍼파라미터 최적화\n",
        "grid_params = {\n",
        "\t'n_estimators' : [10,50,100],\n",
        "\t'max_depth' : [4,5,6]\n",
        "}\n",
        "rf_cv = GridSearchCV(cv =5, estimator=model_rf,param_grid = grid_params, scoring =\"roc_auc\" )\n",
        "rf_cv.fit(x_train,y_train)\n",
        "\n",
        "print(rf_cv.best_params_)\n",
        "print(rf_cv.best_score_)\n",
        "\n",
        "#예측하기\n",
        "sex_pred = rf_cv.predict(test)\n",
        "print(sex_pred)\n",
        "\n",
        "#저장하기\n",
        "df = pd.DataFrame(sex_pred, columns = ['pred'])\n",
        "df.to_csv(\"result.csv\", index = False)"
      ]
    },
    {
      "cell_type": "code",
      "source": [],
      "metadata": {
        "id": "2-84e7v8RXZD"
      },
      "execution_count": null,
      "outputs": []
    },
    {
      "cell_type": "markdown",
      "source": [
        "# T1-1 이상치 찾기(IQR사용)\n",
        "데이터에서 IQR을 활용해 Fare컬럼의 이상치를 찾고, 이상치 데이터의 여성 수를 구하시오"
      ],
      "metadata": {
        "id": "VExfzdX2OanA"
      }
    },
    {
      "cell_type": "code",
      "source": [
        "import pandas as pd\n",
        "import numpy as np\n",
        "df = pd.read_csv('../input/titanic/train.csv')\n",
        "\n",
        "df['Fare'].describe()\n",
        "df['Fare'].isnull().sum()\n",
        "# IQR 구하기\n",
        "Q1 = df['Fare'].quantile(.25)\n",
        "Q3 = df['Fare'].quantile(.75)\n",
        "IQR = Q3 - Q1\n",
        "R1 = Q1 - 1.5*IQR\n",
        "R3 = Q3 + 1.5*IQR\n",
        "print(df[df['Fare']<R1]['Fare'].count())\n",
        "print(df[df['Fare']>R3]['Fare'].count())\n",
        "print(len(df[(df['Fare']>R3)&(df['Sex'] == 'female')]))"
      ],
      "metadata": {
        "id": "G2fgAYz-ZXv_"
      },
      "execution_count": null,
      "outputs": []
    },
    {
      "cell_type": "markdown",
      "source": [
        "# T1-2\n",
        "- 데이터셋(basic1.csv)의 'f5' 컬럼을 기준으로 상위 10개의 데이터를 구하고,\n",
        "- 'f5'컬럼 10개 중 최소값으로 데이터를 대체한 후,\n",
        "- 'age'컬럼에서 80 이상인 데이터의'f5 컬럼 평균값 구하기"
      ],
      "metadata": {
        "id": "eTsRBo8sRZaD"
      }
    },
    {
      "cell_type": "code",
      "source": [
        "import pandas as pd\n",
        "import numpy as np\n",
        "\n",
        "df = pd.read_csv('../input/bigdatacertificationkr/basic1.csv')\n",
        "df.head()\n",
        "df['f5'].nlargest(10)\n",
        "'''\n",
        "# 다른방식) f5컬럼을 기준으로 내림차순 정렬\n",
        "df = df.sort_values('f5', ascending=False)\n",
        "df.head(10)\n",
        "'''\n",
        "a = df['f5'].nlargest(10).index\n",
        "for i in a:\n",
        "    df['f5'][i] =  df['f5'].nlargest(10).min()\n",
        "\n",
        "df[df['age']>=80]['f5'].mean()"
      ],
      "metadata": {
        "id": "42knHq8aZX9Z"
      },
      "execution_count": null,
      "outputs": []
    },
    {
      "cell_type": "markdown",
      "source": [
        "# T1-3\n",
        "- 데이터셋(basic1.csv)의 앞에서 순서대로 70% 데이터만 활용해서,\n",
        "- 'f1'컬럼 결측치를 중앙값으로 채우기 전후의 표준편차를 구하고\n",
        "- 두 표준편차 차이 계산하기"
      ],
      "metadata": {
        "id": "vTyQl2ZtaHp5"
      }
    },
    {
      "cell_type": "code",
      "source": [
        "import pandas as pd\n",
        "import numpy as np\n",
        "\n",
        "df = pd.read_csv('../input/bigdatacertificationkr/basic1.csv')\n",
        "len(df)*0.7\n",
        "df = df.head(70)\n",
        "'''\n",
        "# 데이터 나누기 방법1\n",
        "data70 = df.iloc[:70]\n",
        "data30 = df.iloc[70:]\n",
        "\n",
        "# [심화학습] 데이터 나누기 방법2\n",
        "# data70, data30 = np.split(df, [int(.7*len(df))])\n",
        "\n",
        "# [심화학습] 데이터 나누기 방법3 (랜덤으로 샘플링하라고 했을 때!!)\n",
        "# data70 = df.sample(frac = 0.7)\n",
        "# data70 = df.drop(data70.index)\n",
        "\n",
        "data70.tail()\n",
        "'''\n",
        "df['f1'].isnull().sum()\n",
        "before = df['f1'].std()\n",
        "after = df['f1'].fillna(df['f1'].median()).std()\n",
        "print(before)\n",
        "print(after)\n",
        "print(before - after)"
      ],
      "metadata": {
        "id": "JPdDvLmfaKhM"
      },
      "execution_count": null,
      "outputs": []
    },
    {
      "cell_type": "markdown",
      "source": [
        "#T1-4\n",
        "- 데이터셋(basic1.csv)의 'age'컬럼의 이상치를 더하시오!\n",
        "- 단, 평균으로부터 '표준편차*1.5'를 벗어나는 영역을 이상치라고 판단함"
      ],
      "metadata": {
        "id": "hpw2_5jleqzd"
      }
    },
    {
      "cell_type": "code",
      "source": [
        "import pandas as pd\n",
        "import numpy as np\n",
        "\n",
        "df = pd.read_csv('../input/bigdatacertificationkr/basic1.csv')\n",
        "m = df['age'].mean()\n",
        "s = df['age'].std()\n",
        "outfit_1 = m + 1.5*s\n",
        "outfit_2 = m - 1.5*s\n",
        "df[(df['age']> outfit_1 ) | (df['age']< outfit_2)]['age'].sum()"
      ],
      "metadata": {
        "id": "hz07si2fetSI"
      },
      "execution_count": null,
      "outputs": []
    },
    {
      "cell_type": "markdown",
      "source": [],
      "metadata": {
        "id": "HJOHJpBMe17x"
      }
    },
    {
      "cell_type": "markdown",
      "source": [
        "#T1-5 이상치를 찾아라(소수점 나이)\n",
        "주어진 데이터에서 이상치(소수점 나이)를 찾고 올림, 내림, 버림(절사)했을때 3가지 이상치를 포함한\n",
        "'age' 평균을 모두 구한 다음 모두 더하여 출력하시오"
      ],
      "metadata": {
        "id": "URVlzfuxrtVo"
      }
    },
    {
      "cell_type": "code",
      "source": [
        "import pandas as pd\n",
        "import numpy as np\n",
        "\n",
        "df = pd.read_csv('../input/bigdatacertificationkr/basic1.csv')\n",
        "df.head()\n",
        "# 소수점 데이터 찾기\n",
        "df = df[(df['age']-np.floor(df['age']))!= 0]\n",
        "df\n",
        "# 이상치를 포함한 데이터 올림, 내림, 버림의 평균값\n",
        "\n",
        "# 올림\n",
        "m_ceil = np.ceil(df['age']).mean()\n",
        "\n",
        "# 내림\n",
        "m_floor = np.floor(df['age']).mean()\n",
        "\n",
        "# 버림\n",
        "m_trunc = np.trunc(df['age']).mean()\n",
        "\n",
        "m_ceil, m_floor, m_trunc\n",
        "\n",
        "# 평균값 더한 다음 출력\n",
        "\n",
        "print(m_ceil + m_floor + m_trunc)"
      ],
      "metadata": {
        "id": "Kd-iPCUwsj7t"
      },
      "execution_count": null,
      "outputs": []
    },
    {
      "cell_type": "markdown",
      "source": [
        "#T1-6 결측치 처리(map활용)\n",
        "-  주어진 데이터에서 결측치가 80%이상 되는 컬럼은(변수는) 삭제하고, 80% 미만인 결측치가 있는 컬럼은 'city'별 중앙값으로 값을 대체하고 'f1'컬럼의 평균값을 출력하세요!"
      ],
      "metadata": {
        "id": "wd9Ndg__2YKV"
      }
    },
    {
      "cell_type": "code",
      "source": [
        "import pandas as pd\n",
        "import numpy as np\n",
        "\n",
        "df = pd.read_csv('../input/bigdatacertificationkr/basic1.csv')\n",
        "df.head()\n",
        "df.isnull().sum()\n",
        "for i in df.columns:\n",
        "    if df[i].isnull().sum() >= len(df)*0.8:\n",
        "        df.drop(i,axis=1, inplace=True)\n",
        "df\n",
        "'''\n",
        "# EDA - 결측비율 확인\n",
        "df.isnull().sum()/df.shape[0]\n",
        "'''\n",
        "df.groupby('city')['f1'].median()\n",
        "k = df.groupby('city')['f1'].median()[0]\n",
        "d = df.groupby('city')['f1'].median()[0]\n",
        "b = df.groupby('city')['f1'].median()[0]\n",
        "s = df.groupby('city')['f1'].median()[0]\n",
        "'''\n",
        "# 도시별 중앙값 계산\n",
        "s=df[df['city']=='서울']['f1'].median()\n",
        "k=df[df['city']=='경기']['f1'].median()\n",
        "b=df[df['city']=='부산']['f1'].median()\n",
        "d=df[df['city']=='대구']['f1'].median()\n",
        "'''\n",
        "# f1결측치 city별 중앙값으로 대체\n",
        "df['f1'] = df['f1'].fillna(df['city'].map({'서울':s,'경기':k,'부산':b,'대구':d}))"
      ],
      "metadata": {
        "id": "eEYJg_ey2caH"
      },
      "execution_count": null,
      "outputs": []
    },
    {
      "cell_type": "markdown",
      "source": [
        "#T1-7 왜도와 첨도 구하기\n",
        "-  주어진 데이터 중 train.csv에서 'SalePrice'컬럼의 왜도와 첨도를 구한 값과, 'SalePrice'컬럼을 스케일링(log1p)로 변환한 이후 왜도와 첨도를 구해 모두 더한 다음 소수점 2째자리까지 출력하시오"
      ],
      "metadata": {
        "id": "2V_O6QO19HQZ"
      }
    },
    {
      "cell_type": "code",
      "source": [
        "import pandas as pd\n",
        "import numpy as np\n",
        "\n",
        "df = pd.read_csv(\"../input/house-prices-advanced-regression-techniques/train.csv\")\n",
        "df['SalePrice'].head()\n",
        "\n",
        "df['SalePrice'].hist()\n",
        "\n",
        "# 'SalePrice'컬럼 왜도와 첨도계산\n",
        "s1 = df['SalePrice'].skew()\n",
        "k1 = df['SalePrice'].kurt()\n",
        "print(\"왜도:\" ,s1)\n",
        "print(\"첨도:\", k1)\n",
        "# log1p 변환\n",
        "df['SalePrice'] = np.log1p(df['SalePrice'])\n",
        "s2 = df['SalePrice'].skew()\n",
        "k2 = df['SalePrice'].kurt()\n",
        "\n",
        "round(s1+k1+s2+k2,2)"
      ],
      "metadata": {
        "id": "bKqXxvvM9QB8"
      },
      "execution_count": null,
      "outputs": []
    },
    {
      "cell_type": "markdown",
      "source": [
        "#T1-8 조건에 맞는 데이터 표준편차 구하기\n",
        "- 주어진 데이터 중 basic1.csv에서 'f4'컬럼 값이 'ENFJ'와 'INFP'인 'f1'의 표준편차 차이를 절대값으로 구하시오"
      ],
      "metadata": {
        "id": "WLDA0bny9w_p"
      }
    },
    {
      "cell_type": "code",
      "source": [
        "import pandas as pd\n",
        "import numpy as np\n",
        "\n",
        "df = pd.read_csv('../input/bigdatacertificationkr/basic1.csv')\n",
        "df.head()\n",
        "\n",
        "a = df[df['f4'] == 'ENFJ']['f1'].std()\n",
        "b = df[df['f4'] == 'INFP']['f1'].std()\n",
        "abs(a-b)"
      ],
      "metadata": {
        "id": "jFz38r4f9t-Z"
      },
      "execution_count": null,
      "outputs": []
    },
    {
      "cell_type": "markdown",
      "source": [
        "#T1-9 **결측치** 제거 및 그룹 합계에서 조건에 맞는 값 찾아 출력\n",
        "- 주어진 데이터 중 basic1.csv에서 'f1'컬럼 결측 데이터를 제거하고, 'city'와 'f2'을 기준으로 묶어 합계를 구하고, 'city가 경기이면서 f2가 0'인 조건에 만족하는 f1 값을 구하시오"
      ],
      "metadata": {
        "id": "-nim7SZTPZMP"
      }
    },
    {
      "cell_type": "code",
      "source": [
        "import pandas as pd\n",
        "import numpy as np\n",
        "\n",
        "df = pd.read_csv('../input/bigdatacertificationkr/basic1.csv')\n",
        "df.head()\n",
        "\n",
        "# f1컬럼 결측치 제거\n",
        "df = df[~df['f1'].isnull()]\n",
        "\n",
        "#합계\n",
        "df.groupby(['city','f2']).sum()\n",
        "#'city가 경기이면서 f2가 0'인 조건에 만족하는 f1\n",
        "df.groupby(['city','f2']).sum().iloc[0,2]\n",
        "#혹은\n",
        "df.groupby(['city','f2']).sum().iloc[0]['f1']"
      ],
      "metadata": {
        "id": "exDCllUSVhho"
      },
      "execution_count": null,
      "outputs": []
    },
    {
      "cell_type": "markdown",
      "source": [
        "#T1-10 값 변경 및 2개 이상의 조건\n",
        "'f4'컬럼의 값이 'ESFJ'인 데이터를 'ISFJ'로 대체하고, 'city'가 '경기'이면서 'f4'가 'ISFJ'인 데이터 중 'age'컬럼의 최대값을 출력하시오!"
      ],
      "metadata": {
        "id": "MrMEcrybbKnc"
      }
    },
    {
      "cell_type": "code",
      "source": [
        "import pandas as pd\n",
        "import numpy as np\n",
        "\n",
        "df = pd.read_csv('../input/bigdatacertificationkr/basic1.csv')\n",
        "df.head(2)\n",
        "\n",
        "df['f4'].replace('ESFJ','ISFJ', inplace=True)\n",
        "df[(df['city']=='경기') & (df['f4'] =='ISFJ')]['age'].max()"
      ],
      "metadata": {
        "id": "jPqTMuWfbPdd"
      },
      "execution_count": null,
      "outputs": []
    },
    {
      "cell_type": "markdown",
      "source": [
        "#T-11 누적합 그리고 보간(결측치 처리)\n",
        "주어진 데이터 셋에서 'f2' 컬럼이 1인 조건에 해당하는 데이터의 'f1'컬럼 누적합을 계산한다. 이때 발생하는 누적합 결측치는 바로 뒤의 값을 채우고, 누적합의 평균값을 출력한다. (단, 결측치 바로 뒤의 값이 없으면 다음에 나오는 값을 채워넣는다)"
      ],
      "metadata": {
        "id": "2Exfv20RbekE"
      }
    },
    {
      "cell_type": "code",
      "source": [
        "import pandas as pd\n",
        "import numpy as np\n",
        "\n",
        "df = pd.read_csv('../input/bigdatacertificationkr/basic1.csv')\n",
        "df.head(2)\n",
        "\n",
        "# 조건에 따른 누적합\n",
        "df2 = df[df['f2']==1]['f1'].cumsum()\n",
        "df2\n",
        "\n",
        "# 결측치 처리 (뒤에 나오는 값으로 채움)\n",
        "df2 = df2.fillna(method = 'bfill')\n",
        "df2\n",
        "\n",
        "# 평균 출력\n",
        "print(df2.mean())"
      ],
      "metadata": {
        "id": "6QMWPlXIiLEk"
      },
      "execution_count": null,
      "outputs": []
    },
    {
      "cell_type": "markdown",
      "source": [
        "#T1-11 수치형 변수 변환하기\n",
        "주어진 데이터에서 'f5'컬럼을 표준화(Standardization (Z-score Normalization))하고 그 중앙값을 구하시오"
      ],
      "metadata": {
        "id": "15Yh_pNAncNa"
      }
    },
    {
      "cell_type": "code",
      "source": [
        "import pandas as pd\n",
        "import numpy as np\n",
        "\n",
        "df = pd.read_csv('../input/bigdatacertificationkr/basic1.csv')\n",
        "df.head(2)\n",
        "\n",
        "from sklearn.preprocessing import StandardScaler\n",
        "scaler = StandardScaler()\n",
        "df['f5'] = scaler.fit_transform(df[['f5']])\n",
        "df['f5'].median()"
      ],
      "metadata": {
        "id": "MF-ZPE_Mnia9"
      },
      "execution_count": null,
      "outputs": []
    },
    {
      "cell_type": "markdown",
      "source": [
        "#T1-12 여-존슨과 박스-칵스 변환\n",
        "주어진 데이터에서 20세 이상인 데이터를 추출하고 'f1'컬럼을 결측치를 최빈값으로 채운 후, f1 컬럼의 여-존슨과 박스콕스 변환 값을 구하고, 두 값의 차이를 절대값으로 구한다음 모두 더해 소수점 둘째 자리까지 출력(반올림)하시오"
      ],
      "metadata": {
        "id": "ekZN-X2-v0_e"
      }
    },
    {
      "cell_type": "code",
      "source": [
        "import pandas as pd\n",
        "import numpy as np\n",
        "from sklearn.preprocessing import power_transform\n",
        "\n",
        "df = pd.read_csv('../input/bigdatacertificationkr/basic1.csv')\n",
        "df.head(5)\n",
        "\n",
        "#최빈값 대체하기\n",
        "import statistics\n",
        "\n",
        "a20 = df[df['age'] >= 20]\n",
        "a20['f1'].fillna(statistics.mode(a20['f1']),inplace=True)\n",
        "\n",
        "# 다른방법) 최빈값으로 'f1' 컬럼 결측치 대체\n",
        "print(\"결측치 처리 전: \\n\", df.isnull().sum())\n",
        "print(\"최빈값: \",df['f1'].mode()[0])\n",
        "df['f1'] = df['f1'].fillna(df['f1'].mode()[0])\n",
        "print(\"결측치 처리 후: \\n\", df.isnull().sum())\n",
        "\n",
        "# 'f1'데이터 여-존슨 yeo-johnson 값 구하기\n",
        "a20['y'] = power_transform(a20[['f1']],standardize=False) # method 디폴트 값은 여-존슨’yeo-johnson’\n",
        "print(a20['y'].head())\n",
        "\n",
        "# 'f1'데이터 박스-콕스 box-cox 값 구하기\n",
        "a20['b'] = power_transform(a20[['f1']], method='box-cox', standardize=False)\n",
        "print(a20['b'].head())\n",
        "'''\n",
        "## 박스콕스 방법2\n",
        "from scipy import stats\n",
        "x = stats.boxcox(df['f1'])\n",
        "'''\n",
        "\n",
        "#계산하기\n",
        "print(round(abs(a20['y'] - a20['b']).sum(),2))"
      ],
      "metadata": {
        "id": "IwdW6TFav6sC"
      },
      "execution_count": null,
      "outputs": []
    },
    {
      "cell_type": "markdown",
      "source": [
        "#T1-13 상위 10개, 하위 10개 차이\n",
        " 주어진 데이터에서 상위 10개 국가의 접종률 평균과 하위 10개 국가의 접종률 평균을 구하고, 그 차이를 구해보세요\n",
        " (단, 100%가 넘는 접종률 제거, 소수 첫째자리까지 출력)\n"
      ],
      "metadata": {
        "id": "nG1417Ij9R1M"
      }
    },
    {
      "cell_type": "code",
      "source": [
        "import pandas as pd\n",
        "\n",
        "df = pd.read_csv(\"../input/covid-vaccination-vs-death/covid-vaccination-vs-death_ratio.csv\")\n",
        "print(df.head())\n",
        "\n",
        "t = df.groupby('country')['ratio'].max().sort_values(ascending=False).iloc[3:13].mean()\n",
        "d = df.groupby('country')['ratio'].min().sort_values().head(10).mean()\n",
        "print(round(t-d),1)"
      ],
      "metadata": {
        "id": "dAuEk8vQ9Xjv"
      },
      "execution_count": null,
      "outputs": []
    },
    {
      "cell_type": "markdown",
      "source": [
        "#T1-14 상관관계 구하기\n",
        "주어진 데이터에서 상관관계를 구하고, quality와의 상관관계가 가장 큰 값과, 가장 작은 값을 구한 다음 더하시오!\n",
        " 단, quality와 quality 상관관계 제외, 소수점 둘째 자리까지 출력"
      ],
      "metadata": {
        "id": "1PqDvYu8EYrq"
      }
    },
    {
      "cell_type": "code",
      "source": [
        "import pandas as pd\n",
        "import numpy as np\n",
        "\n",
        "# 데이터 불러오기\n",
        "df = pd.read_csv(\"../input/red-wine-quality-cortez-et-al-2009/winequality-red.csv\")\n",
        "print(df.head())\n",
        "\n",
        "abs(df.corr(method = 'pearson')['quality']).sort_values()\n",
        "d = df.corr(method = 'pearson')['quality'].loc['residual sugar']\n",
        "t = df.corr(method = 'pearson')['quality'].sort_values()[-2]\n",
        "round((t+d),2)\n",
        "\n",
        "#다른방법)\n",
        "# 상관관계 구하기\n",
        "df_corr = df.corr()\n",
        "df_corr = df_corr[:-1] # quailiy-quailiy 상관관계 제거\n",
        "print(df_corr['quality'])\n",
        "\n",
        "# 상관관계가 가장 큰 값과 가장 작은 값 (절대값으로 확인)\n",
        "max_corr=abs(df.corr()['quality'][:-1]).max()  #0.47\n",
        "min_corr=abs(df.corr()['quality'][:-1]).min()   #0.013\n",
        "\n",
        "if max_corr not in df.corr()[['quality']][:-1].values:\n",
        "    max_corr=-max_corr\n",
        "if min_corr not in df.corr()[['quality']][:-1].values:\n",
        "    min_corr=-min_corr\n",
        "\n",
        "# 결과 출력\n",
        "ans=round(max_corr+min_corr,2)\n",
        "print(ans) # 0.49"
      ],
      "metadata": {
        "id": "SGwvA8qfEmnt"
      },
      "execution_count": null,
      "outputs": []
    },
    {
      "cell_type": "markdown",
      "source": [
        "#T-15 2개 조건에 따른 상위값\n",
        "city와 f4를 기준으로 f5의 평균값을 구한 다음, f5를 기준으로 상위 7개 값을 모두 더해 출력하시오 (소수점 둘째자리까지 출력)"
      ],
      "metadata": {
        "id": "L4qp9e-aCb4p"
      }
    },
    {
      "cell_type": "code",
      "source": [
        "import pandas as pd\n",
        "\n",
        "df = pd.read_csv(\"../input/bigdatacertificationkr/basic1.csv\")\n",
        "df.head()\n",
        "\n",
        "round(df.groupby(['city','f4'])['f5'].mean().sort_values(ascending=False).head(7).sum(),2)\n",
        "\n",
        "# 다른 방식) dataframe 전환 후 상위 7개 출력\n",
        "df = df.reset_index().sort_values('f5', ascending=False).head(7)\n",
        "print(df)"
      ],
      "metadata": {
        "id": "NYwJPGJLCsa3"
      },
      "execution_count": null,
      "outputs": []
    },
    {
      "cell_type": "markdown",
      "source": [
        "#T-16 슬라이싱 & 조건\n",
        "주어진 데이터 셋에서 age컬럼 상위 20개의 데이터를 구한 다음\n",
        "f1의 결측치를 중앙값으로 채운다.\n",
        "그리고 f4가 ISFJ와 f5가 20 이상인\n",
        "f1의 평균값을 출력하시오!"
      ],
      "metadata": {
        "id": "R2Dizcc6C2V0"
      }
    },
    {
      "cell_type": "code",
      "source": [
        "import pandas as pd\n",
        "\n",
        "# 데이터 불러오기\n",
        "df = pd.read_csv(\"../input/bigdatacertificationkr/basic1.csv\")\n",
        "\n",
        "df1 = df.sort_values(by = 'age',ascending = False).head(20)\n",
        "print(df1)\n",
        "# 나이 순(내림차순)으로 정렬하고 reset_index로 재정렬!\n",
        "df = df.sort_values('age', ascending=False).reset_index(drop=True)\n",
        "print(df)\n",
        "\n",
        "df1['f1'].fillna(df1['f1'].median(), inplace=True)\n",
        "print(df1)\n",
        "print(df1[(df1['f4']=='ISFJ') & (df['f5'] >= 20)]['f1'].mean())"
      ],
      "metadata": {
        "id": "Ca3TNIf1FU0Q"
      },
      "execution_count": null,
      "outputs": []
    },
    {
      "cell_type": "markdown",
      "source": [
        "#T-17 분산\n",
        "주어진 데이터 셋에서 f2가 0값인 데이터를 age를 기준으로 오름차순 정렬하고\n",
        "앞에서 부터 20개의 데이터를 추출한 후\n",
        "f1 결측치(최소값)를 채우기 전과 후의 분산 차이를 계산하시오 (소수점 둘째 자리까지)"
      ],
      "metadata": {
        "id": "eEFPQu5-F4M_"
      }
    },
    {
      "cell_type": "code",
      "source": [
        "import pandas as pd\n",
        "\n",
        "# 데이터 불러오기\n",
        "df = pd.read_csv(\"../input/bigdatacertificationkr/basic1.csv\")\n",
        "df\n",
        "\n",
        "df1 = df[df['f2'] == 0].sort_values(by ='age').head(20)\n",
        "a = df1['f1'].var()\n",
        "b = df1['f1'].fillna(df['f1'].min()).var()\n",
        "print(a,b)\n",
        "print(round(b-a,2))"
      ],
      "metadata": {
        "id": "Y0--j2qLW-sJ"
      },
      "execution_count": null,
      "outputs": []
    },
    {
      "cell_type": "markdown",
      "source": [
        "#T-18 시계열 데이터\n",
        "2022년 5월 sales의 중앙값을 구하시오"
      ],
      "metadata": {
        "id": "_QoPS3YmXGsA"
      }
    },
    {
      "cell_type": "code",
      "source": [
        "# 라이브러리 불러오기\n",
        "import pandas as pd\n",
        "# 데이터 불러오기\n",
        "df = pd.read_csv(\"../input/bigdatacertificationkr/basic2.csv\")\n",
        "\n",
        "# datetime으로 type변경\n",
        "df['Date'] = pd.to_datetime(df['Date'])\n",
        "df.info()\n",
        "\n",
        "# 새로운 컬럼 추가 (년, 월, 일)\n",
        "df['year'] = df['Date'].dt.year\n",
        "df['month'] = df['Date'].dt.month\n",
        "df['day'] = df['Date'].dt.day\n",
        "df[(df['year'] == 2022)&(df['day'] == 5) ]['Sales'].median()"
      ],
      "metadata": {
        "id": "JDpZowlMZBGo"
      },
      "execution_count": null,
      "outputs": []
    },
    {
      "cell_type": "markdown",
      "source": [
        "#T-19 시계열 데이터\n",
        "주어진 데이터에서 2022년 5월 주말과 평일의 sales컬럼 평균값 차이를 구하시오 (소수점 둘째자리까지 출력, 반올림)"
      ],
      "metadata": {
        "id": "7IGy6vxxZJao"
      }
    },
    {
      "cell_type": "code",
      "source": [
        "# 라이브러리 불러오기\n",
        "import pandas as pd\n",
        "# 데이터 불러오기 (datatime컬럼 지정)\n",
        "df = pd.read_csv(\"../input/bigdatacertificationkr/basic2.csv\", parse_dates=['Date'])\n",
        "\n",
        "df['Date'] = pd.to_datetime(df['Date'])\n",
        "df['year'] = df['Date'].dt.year\n",
        "df['month'] = df['Date'].dt.month\n",
        "df['day'] = df['Date'].dt.day\n",
        "df['week'] = df['Date'].dt.dayofweek\n",
        "# 주말인지 아닌지 확인하는 추가적인 방법\n",
        "df['weekend'] = df['dayofweek'].apply(lambda x: x>=5)\n",
        "\n",
        "\n",
        "a = df[(df['year'] == 2022) & (df['month'] == 5) & (df['week'] < 5)]['Sales'].mean()\n",
        "b = df[(df['year'] == 2022) & (df['month'] == 5) & (df['week'] >= 5)]['Sales'].mean()\n",
        "# 다른 방법\n",
        "weekday_cond = (df['year']==2022) & (df['month']==5) & (~df['weekend'])\n",
        "\n",
        "\n",
        "print(round(b-a),2)\n",
        "\n"
      ],
      "metadata": {
        "id": "LFuPBr_Oc0MS"
      },
      "execution_count": null,
      "outputs": []
    },
    {
      "cell_type": "markdown",
      "source": [
        "#T-20 시계열 데이터3\n",
        "주어진 데이터에서 2022년 월별 Sales 합계 중 가장 큰 금액과\n",
        "2023년 월별 Sales 합계 중 가장 큰 금액의 차이를 절대값으로 구하시오.\n",
        "단 Events컬럼이 '1'인경우 80%의 Salse값만 반영함\n",
        "(최종값은 소수점 반올림 후 정수 출력)"
      ],
      "metadata": {
        "id": "-KWH_3OzdSVF"
      }
    },
    {
      "cell_type": "code",
      "source": [
        "# 라이브러리 불러오기\n",
        "import pandas as pd\n",
        "# 데이터 불러오기 (datatime컬럼 지정)\n",
        "df = pd.read_csv(\"../input/bigdatacertificationkr/basic2.csv\",\n",
        "                 parse_dates=['Date'])\n",
        "\n",
        "df['Date'] = pd.to_datetime(df['Date'])\n",
        "df['year'] = df['Date'].dt.year\n",
        "df['month'] = df['Date'].dt.month\n",
        "df['day'] = df['Date'].dt.day\n",
        "\n",
        "for i in range(len(df)):\n",
        "    if df['Events'][i]== 1:\n",
        "        df['Events'][i] = df['Sales'][i]*0.8\n",
        "\n",
        "# 다른방식) 이벤트가 1인 sales값은 80%만 반영\n",
        "def event_sales(x):\n",
        "    if x['Events'] == 1:\n",
        "        x['Sales2'] = x['Sales']*0.8\n",
        "    else:\n",
        "        x['Sales2'] = x['Sales']\n",
        "    return x\n",
        "df = df.apply(lambda x: event_sales(x), axis=1) #1일 경우 row, 0일 경우 컬럼\n",
        "df.head()\n",
        "\n",
        "m_2022 = df[df['year'] == 2022].groupby(by = 'month').sum()['Sales'].max()\n",
        "m_2023 = df[df['year'] == 2023].groupby(by = 'month').sum()['Sales'].max()\n",
        "# 결과값 반올림 후 정수 출력\n",
        "int(round(abs(m_2022 - m_2023),0))\n",
        "\n"
      ],
      "metadata": {
        "id": "7ppgBNRtg--X"
      },
      "execution_count": null,
      "outputs": []
    },
    {
      "cell_type": "markdown",
      "source": [
        "#T-21 데이터 병합\n",
        "basic1 데이터와 basic3 데이터를 'f4'값을 기준으로 병합하고,\n",
        "병합한 데이터에서 r2결측치를 제거한다음, 앞에서 부터 20개 데이터를 선택하고 'f2'컬럼 합을 구하시오"
      ],
      "metadata": {
        "id": "a0Gr6MrA0sNG"
      }
    },
    {
      "cell_type": "code",
      "source": [
        "# 라이브러리 및 데이터 로드\n",
        "import pandas as pd\n",
        "b1 = pd.read_csv(\"../input/bigdatacertificationkr/basic1.csv\")\n",
        "b3 = pd.read_csv(\"../input/bigdatacertificationkr/basic3.csv\")\n",
        "\n",
        "df= pd.merge(b1,b3, on ='f4' )\n",
        "# 다른방법) 데이터 결합(b1을 기준으로 결합)\n",
        "df = pd.merge(left = b1 , right = b3, how = \"left\", on = \"f4\")\n",
        "\n",
        "\n",
        "df['r2'].dropna()\n",
        "#다른 방법) r2컬럼 결측치 제거\n",
        "print(df.shape)\n",
        "df = df.dropna(subset=['r2'])\n",
        "# 인덱스 리셋\n",
        "df = df.reset_index()\n",
        "\n",
        "\n",
        "df.iloc[:20,4].sum()\n",
        "\n"
      ],
      "metadata": {
        "id": "dpYhzT0M2COq"
      },
      "execution_count": null,
      "outputs": []
    },
    {
      "cell_type": "markdown",
      "source": [
        "#T-22 구간 분할\n",
        "나이 구간 나누기\n",
        "basic1 데이터 중 'age'컬럼 이상치를 제거하고, 동일한 개수로 나이 순으로 3그룹으로 나눈 뒤 각 그룹의 중앙값을 더하시오\n",
        "(이상치는 음수(0포함), 소수점 값)"
      ],
      "metadata": {
        "id": "qPwo4y-F93At"
      }
    },
    {
      "cell_type": "code",
      "source": [
        "import pandas as pd\n",
        "df = pd.read_csv('../input/bigdatacertificationkr/basic1.csv')\n",
        "\n",
        "df['age'].describe()\n",
        "df = df[df['age'] > 0 ]\n",
        "import numpy as np\n",
        "df = df[(np.ceil(df['age']) - df['age']) == 0]\n",
        "# df = df[df['age'] == round(df['age'],0)]\n",
        "\n",
        "# 구간 분할\n",
        "df['range'] = pd.qcut(df['age'], q = 3, labels=['group1','group2','group3'])\n",
        "# 수량 비교\n",
        "df['range'].value_counts()\n",
        "a = df[df['range'] == 'group1']['age'].median()\n",
        "b = df[df['range'] == 'group2']['age'].median()\n",
        "c = df[df['range'] == 'group3']['age'].median()\n",
        "print(a+b+c)"
      ],
      "metadata": {
        "id": "jAQJs1rw98Kg"
      },
      "execution_count": null,
      "outputs": []
    },
    {
      "cell_type": "markdown",
      "source": [
        "#T-23 time series\n",
        "주어진 데이터(basic2.csv)에서 주 단위 Sales의 합계를 구하고, 가장 큰 값을 가진 주와 작은 값을 가진 주의 차이를 구하시오(절대값)"
      ],
      "metadata": {
        "id": "H-B-tY3J-Im9"
      }
    },
    {
      "cell_type": "code",
      "source": [
        "import pandas as pd\n",
        "df = pd.read_csv(\"../input/bigdatacertificationkr/basic2.csv\", parse_dates=['Date'], index_col=0)\n",
        "\n",
        "# 아래 코드를 한줄로 표현함\n",
        "# df = pd.read_csv(\"../input/bigdatacertificationkr/basic2.csv\")\n",
        "# df['Date'] = pd.to_datetime(df['Date'])\n",
        "# df = df.set_index('Date')\n",
        "\n",
        "df_w = df.resample('W').sum() # .first() .last() 첫번째행이나 마지막행 가져오기\n",
        "abs(df_w['Sales'].max() - df_w['Sales'].min())\n",
        "\n",
        "##단위\n",
        "*분 단위 : T\n",
        "*시간 단위 : H\n",
        "*주 단위 : W\n",
        "*월 단위 : M\n",
        "*년 단위 : Y\n",
        "*10년 단위 : 10Y"
      ],
      "metadata": {
        "id": "4-8WjA7JA2uW"
      },
      "execution_count": null,
      "outputs": []
    },
    {
      "cell_type": "markdown",
      "source": [
        "#T-24 중복 데이터 제거\n",
        "f1의 결측치를 채운 후 age 컬럼의 중복 제거 전과 후의 'f1' 중앙값 차이를 구하시오\n",
        "- 결측치는 f1의 데이터 중 내림차순 정렬 후 10번째 값으로 채움\n",
        "- 중복 데이터 발생시 뒤에 나오는 데이터를 삭제함\n",
        "- 최종 결과값은 절대값으로 출력"
      ],
      "metadata": {
        "id": "8hYxceV8BYwe"
      }
    },
    {
      "cell_type": "code",
      "source": [
        "import pandas as pd\n",
        "df = pd.read_csv('../input/bigdatacertificationkr/basic1.csv')\n",
        "df.tail()\n",
        "\n",
        "df = df.sort_values(by='f1',ascending=False)\n",
        "f1_10 = df.iloc[9,3]\n",
        "df['f1'].fillna(f1_10, inplace=True)\n",
        "\n",
        "# f1데이터에서 10번째 큰 값으로 결측치를 채움\n",
        "top10 = df['f1'].sort_values(ascending=False).iloc[9]\n",
        "print(top10)\n",
        "df['f1'] = df['f1'].fillna(top10)\n",
        "\n",
        "b = df['f1'].median()\n",
        "df = df.drop_duplicates(subset=['age'])\n",
        "a = df['f1'].median()\n",
        "abs(b-a)"
      ],
      "metadata": {
        "id": "MakUNwiafjxb"
      },
      "execution_count": null,
      "outputs": []
    },
    {
      "cell_type": "markdown",
      "source": [
        "#T-25 시차 데이터 생성\n",
        "주어진 데이터(basic2.csv)에서 \"pv\"컬럼으로 1일 시차(lag)가 있는 새로운 컬럼을 만들고(예: 1월 2일에는 1월 1일 pv데이터를 넣고, 1월 3일에는 1월 2일 pv데이터를 넣음),새로운 컬럼의 1월 1일은 다음날(1월 2일)데이터로 결측치를 채운 다음, Events가 1이면서 Sales가 1000000이하인 조건에 맞는 새로운 컬럼 합을 구하시오"
      ],
      "metadata": {
        "id": "oebDzbLff0QE"
      }
    },
    {
      "cell_type": "code",
      "source": [
        "import pandas as pd\n",
        "df = pd.read_csv(\"../input/bigdatacertificationkr/basic2.csv\")\n",
        "df\n",
        "\n",
        "df['lag'] = 0\n",
        "\n",
        "for i in range(1,len(df)):\n",
        "    df['lag'][i] = df['PV'][i-1]\n",
        "    df['lag'][0] = df['lag'][1]\n",
        "df\n",
        "print(df[(df['Events'] ==1) & (df['Sales'] <= 1000000)]['lag'].sum())\n",
        "\n",
        "#다른 방식)\n",
        "#1일 차이가 나는 시차 특성 만들기\n",
        "df['previous_PV'] = df['PV'].shift(1)\n",
        "df.head()\n",
        "# 1일 씩 미뤘음으로 가장 앞이 결측값이 됨 (바로 뒤의 값으로 채움)\n",
        "df['previous_PV'] = df['previous_PV'].fillna(method = 'bfill')\n",
        "df.head()"
      ],
      "metadata": {
        "id": "gjZa6o9xiTAP"
      },
      "execution_count": null,
      "outputs": []
    },
    {
      "cell_type": "markdown",
      "source": [
        "#T-26 str_slicing\n",
        "basic1 데이터에서 f4가 E로 시작하면서 부산에 살고 20대인 사람은 몇 명?"
      ],
      "metadata": {
        "id": "GtEpBlFnirvM"
      }
    },
    {
      "cell_type": "code",
      "source": [
        "import pandas as pd\n",
        "df = pd.read_csv(\"../input/bigdatacertificationkr/basic1.csv\")\n",
        "df\n",
        "\n",
        "a = []\n",
        "for i in range(len(df)):\n",
        "    if df['f4'][i].count('E') >= 1:\n",
        "        a.append(i)\n",
        "df_e = df.loc[a,:]\n",
        "len(df_e[(df_e['city'] == '부산') & (df_e['age'] >= 20 )& (df_e['age'] < 30)])\n",
        "\n",
        "#다른방식\n",
        "df['EI'] = df['f4'].str[:1]\n",
        "cond1 = df['EI'] == \"E\"\n",
        "cond2 = df['city'] == \"부산\"\n",
        "cond3 = (df['age'] >= 20) & (df['age'] < 30)\n",
        "print(len(df[cond1 & cond2 & cond3]))\n"
      ],
      "metadata": {
        "id": "1lTHkPognNpH"
      },
      "execution_count": null,
      "outputs": []
    }
  ]
}