{
  "nbformat": 4,
  "nbformat_minor": 0,
  "metadata": {
    "colab": {
      "provenance": [],
      "authorship_tag": "ABX9TyPki3ATi/selya1EZl/i5n3",
      "include_colab_link": true
    },
    "kernelspec": {
      "name": "python3",
      "display_name": "Python 3"
    },
    "language_info": {
      "name": "python"
    }
  },
  "cells": [
    {
      "cell_type": "markdown",
      "metadata": {
        "id": "view-in-github",
        "colab_type": "text"
      },
      "source": [
        "<a href=\"https://colab.research.google.com/github/yeonji0-0/Python-codes/blob/main/%EB%B9%85%EB%B6%84%EA%B8%B0%EC%8B%A4%EA%B8%B0_%EC%97%B0%EC%8A%B5.ipynb\" target=\"_parent\"><img src=\"https://colab.research.google.com/assets/colab-badge.svg\" alt=\"Open In Colab\"/></a>"
      ]
    },
    {
      "cell_type": "code",
      "execution_count": null,
      "metadata": {
        "colab": {
          "base_uri": "https://localhost:8080/",
          "height": 146
        },
        "id": "jTs2zvcOTvUn",
        "outputId": "1d6695d9-2895-4e98-8539-16aa3ae27e5b"
      },
      "outputs": [
        {
          "output_type": "error",
          "ename": "SyntaxError",
          "evalue": "ignored",
          "traceback": [
            "\u001b[0;36m  File \u001b[0;32m\"<ipython-input-3-2dd0035e40c2>\"\u001b[0;36m, line \u001b[0;32m7\u001b[0m\n\u001b[0;31m    -- 테스트 분리,검증 / 매개변수 튜닝\u001b[0m\n\u001b[0m           ^\u001b[0m\n\u001b[0;31mSyntaxError\u001b[0m\u001b[0;31m:\u001b[0m invalid syntax\n"
          ]
        }
      ],
      "source": [
        "# 라이브러리\n",
        "import pandas as pd\n",
        "import numpy as np\n",
        "\n",
        "## 인코딩,정규화,스케일링\n",
        "from sklearn.prepocessing import LabelEncoder,OneHotEncoder,StandardScaler,MinMaxScaler\n",
        "## 테스트 분리,검증 / 매개변수 튜닝\n",
        "from sklearn.model_selection import train_test_split, GridSeacherCV\n",
        "## 통계 평가\n",
        "from sklearn.metrics import mean_absolute_Error, mean_Squared_error, mean_absolute_percentage_error,roc_auc_score\n",
        "                           ,accuracy,precision,recall\n",
        "## 머신러닝 알고리즘\n",
        "from sklearn.linear_model import LinearRegression, Ridge, Lasso\n",
        "fromsklearn.svm import SVR\n",
        "fromsklearn.ensemble import RandomForestRegressor, RandomForestClassifier\n",
        "fromsklearn.tree import decisiontree\n",
        "from xgboost import XGBClassifier, XGBRegressor\n",
        "\n",
        "\n",
        "# 데이터 불러오기\n",
        " pd.read_csv('')\n",
        "\n",
        "#전처리\n",
        "## 빈칸 채우기\n",
        "df[\"Age\"].fillna(df[\"Age\"].mean(), inplace=True)\n",
        "df[\"Cabin\"].fillna(\"N\", inplace=True)\n",
        "df[\"Fare\"].fillna(0, inplace=True)\n",
        "print(train.isnull().sum())\n",
        "print(test.isnull().sum())\n",
        "\n",
        "##혹은 결측치 제거\n",
        "df[\"Age\"].dropna()\n",
        "\n",
        "##이상치 확인\n",
        "\n",
        "##인코딩하기\n",
        "le = LabelEncoder()\n",
        "le.fit(train['주구매상품'])\n",
        "label_encoded = le.transform(train['주구매상품'])\n",
        "train['주구매상품'] = label_encoded\n",
        "\n",
        "#머신러닝\n",
        "##x,y구별해주기\n",
        "x_train = train.drop('성별',axis=1)\n",
        "y_train = train['성별']\n",
        "\n",
        "#스케일링 하기\n",
        "scaler = MinMaxScaler()\n",
        "scaler.fit(x_train) ## fit은 test에 사용하지 말 것!\n",
        "x_train = scaler.transform(x_train)\n",
        "x_test = scaler.transform(x_test)\n",
        "\n",
        "#하이퍼파라미터 최적화\n",
        "grid_params = {\n",
        "\t'n_estimators' : [10,50,100],\n",
        "\t'max_depth' : [4,5,6]\n",
        "}\n",
        "rf_cv = GridSearchCV(cv =5, estimator=model_rf,param_grid = grid_params, scoring =\"roc_auc\" )\n",
        "rf_cv.fit(x_train,y_train)\n",
        "\n",
        "print(rf_cv.best_params_)\n",
        "print(rf_cv.best_score_)\n",
        "\n",
        "#예측하기\n",
        "sex_pred = rf_cv.predict(test)\n",
        "print(sex_pred)\n",
        "\n",
        "#저장하기\n",
        "df = pd.DataFrame(sex_pred, columns = ['pred'])\n",
        "df.to_csv(\"result.csv\", index = False)"
      ]
    },
    {
      "cell_type": "code",
      "source": [],
      "metadata": {
        "id": "2-84e7v8RXZD"
      },
      "execution_count": null,
      "outputs": []
    },
    {
      "cell_type": "markdown",
      "source": [
        "# T1-1 이상치 찾기(IQR사용)\n",
        "데이터에서 IQR을 활용해 Fare컬럼의 이상치를 찾고, 이상치 데이터의 여성 수를 구하시오"
      ],
      "metadata": {
        "id": "VExfzdX2OanA"
      }
    },
    {
      "cell_type": "code",
      "source": [
        "import pandas as pd\n",
        "import numpy as np\n",
        "df = pd.read_csv('../input/titanic/train.csv')\n",
        "\n",
        "df['Fare'].describe()\n",
        "df['Fare'].isnull().sum()\n",
        "# IQR 구하기\n",
        "Q1 = df['Fare'].quantile(.25)\n",
        "Q3 = df['Fare'].quantile(.75)\n",
        "IQR = Q3 - Q1\n",
        "R1 = Q1 - 1.5*IQR\n",
        "R3 = Q3 + 1.5*IQR\n",
        "print(df[df['Fare']<R1]['Fare'].count())\n",
        "print(df[df['Fare']>R3]['Fare'].count())\n",
        "print(len(df[(df['Fare']>R3)&(df['Sex'] == 'female')]))"
      ],
      "metadata": {
        "id": "G2fgAYz-ZXv_"
      },
      "execution_count": null,
      "outputs": []
    },
    {
      "cell_type": "markdown",
      "source": [
        "# T1-2\n",
        "- 데이터셋(basic1.csv)의 'f5' 컬럼을 기준으로 상위 10개의 데이터를 구하고,\n",
        "- 'f5'컬럼 10개 중 최소값으로 데이터를 대체한 후,\n",
        "- 'age'컬럼에서 80 이상인 데이터의'f5 컬럼 평균값 구하기"
      ],
      "metadata": {
        "id": "eTsRBo8sRZaD"
      }
    },
    {
      "cell_type": "code",
      "source": [
        "import pandas as pd\n",
        "import numpy as np\n",
        "\n",
        "df = pd.read_csv('../input/bigdatacertificationkr/basic1.csv')\n",
        "df.head()\n",
        "df['f5'].nlargest(10)\n",
        "'''\n",
        "# 다른방식) f5컬럼을 기준으로 내림차순 정렬\n",
        "df = df.sort_values('f5', ascending=False)\n",
        "df.head(10)\n",
        "'''\n",
        "a = df['f5'].nlargest(10).index\n",
        "for i in a:\n",
        "    df['f5'][i] =  df['f5'].nlargest(10).min()\n",
        "\n",
        "df[df['age']>=80]['f5'].mean()"
      ],
      "metadata": {
        "id": "42knHq8aZX9Z"
      },
      "execution_count": null,
      "outputs": []
    },
    {
      "cell_type": "markdown",
      "source": [
        "# T1-3\n",
        "- 데이터셋(basic1.csv)의 앞에서 순서대로 70% 데이터만 활용해서,\n",
        "- 'f1'컬럼 결측치를 중앙값으로 채우기 전후의 표준편차를 구하고\n",
        "- 두 표준편차 차이 계산하기"
      ],
      "metadata": {
        "id": "vTyQl2ZtaHp5"
      }
    },
    {
      "cell_type": "code",
      "source": [
        "import pandas as pd\n",
        "import numpy as np\n",
        "\n",
        "df = pd.read_csv('../input/bigdatacertificationkr/basic1.csv')\n",
        "len(df)*0.7\n",
        "df = df.head(70)\n",
        "'''\n",
        "# 데이터 나누기 방법1\n",
        "data70 = df.iloc[:70]\n",
        "data30 = df.iloc[70:]\n",
        "\n",
        "# [심화학습] 데이터 나누기 방법2\n",
        "# data70, data30 = np.split(df, [int(.7*len(df))])\n",
        "\n",
        "# [심화학습] 데이터 나누기 방법3 (랜덤으로 샘플링하라고 했을 때!!)\n",
        "# data70 = df.sample(frac = 0.7)\n",
        "# data70 = df.drop(data70.index)\n",
        "\n",
        "data70.tail()\n",
        "'''\n",
        "df['f1'].isnull().sum()\n",
        "before = df['f1'].std()\n",
        "after = df['f1'].fillna(df['f1'].median()).std()\n",
        "print(before)\n",
        "print(after)\n",
        "print(before - after)"
      ],
      "metadata": {
        "id": "JPdDvLmfaKhM"
      },
      "execution_count": null,
      "outputs": []
    },
    {
      "cell_type": "markdown",
      "source": [
        "#T1-4\n",
        "- 데이터셋(basic1.csv)의 'age'컬럼의 이상치를 더하시오!\n",
        "- 단, 평균으로부터 '표준편차*1.5'를 벗어나는 영역을 이상치라고 판단함"
      ],
      "metadata": {
        "id": "hpw2_5jleqzd"
      }
    },
    {
      "cell_type": "code",
      "source": [
        "import pandas as pd\n",
        "import numpy as np\n",
        "\n",
        "df = pd.read_csv('../input/bigdatacertificationkr/basic1.csv')\n",
        "m = df['age'].mean()\n",
        "s = df['age'].std()\n",
        "outfit_1 = m + 1.5*s\n",
        "outfit_2 = m - 1.5*s\n",
        "df[(df['age']> outfit_1 ) | (df['age']< outfit_2)]['age'].sum()"
      ],
      "metadata": {
        "id": "hz07si2fetSI"
      },
      "execution_count": null,
      "outputs": []
    },
    {
      "cell_type": "markdown",
      "source": [],
      "metadata": {
        "id": "HJOHJpBMe17x"
      }
    },
    {
      "cell_type": "markdown",
      "source": [
        "#T1-5 이상치를 찾아라(소수점 나이)\n",
        "주어진 데이터에서 이상치(소수점 나이)를 찾고 올림, 내림, 버림(절사)했을때 3가지 이상치를 포함한\n",
        "'age' 평균을 모두 구한 다음 모두 더하여 출력하시오"
      ],
      "metadata": {
        "id": "URVlzfuxrtVo"
      }
    },
    {
      "cell_type": "code",
      "source": [
        "import pandas as pd\n",
        "import numpy as np\n",
        "\n",
        "df = pd.read_csv('../input/bigdatacertificationkr/basic1.csv')\n",
        "df.head()\n",
        "# 소수점 데이터 찾기\n",
        "df = df[(df['age']-np.floor(df['age']))!= 0]\n",
        "df\n",
        "# 이상치를 포함한 데이터 올림, 내림, 버림의 평균값\n",
        "\n",
        "# 올림\n",
        "m_ceil = np.ceil(df['age']).mean()\n",
        "\n",
        "# 내림\n",
        "m_floor = np.floor(df['age']).mean()\n",
        "\n",
        "# 버림\n",
        "m_trunc = np.trunc(df['age']).mean()\n",
        "\n",
        "m_ceil, m_floor, m_trunc\n",
        "\n",
        "# 평균값 더한 다음 출력\n",
        "\n",
        "print(m_ceil + m_floor + m_trunc)"
      ],
      "metadata": {
        "id": "Kd-iPCUwsj7t"
      },
      "execution_count": null,
      "outputs": []
    },
    {
      "cell_type": "markdown",
      "source": [
        "#T1-6 결측치 처리(map활용)\n",
        "-  주어진 데이터에서 결측치가 80%이상 되는 컬럼은(변수는) 삭제하고, 80% 미만인 결측치가 있는 컬럼은 'city'별 중앙값으로 값을 대체하고 'f1'컬럼의 평균값을 출력하세요!"
      ],
      "metadata": {
        "id": "wd9Ndg__2YKV"
      }
    },
    {
      "cell_type": "code",
      "source": [
        "import pandas as pd\n",
        "import numpy as np\n",
        "\n",
        "df = pd.read_csv('../input/bigdatacertificationkr/basic1.csv')\n",
        "df.head()\n",
        "df.isnull().sum()\n",
        "for i in df.columns:\n",
        "    if df[i].isnull().sum() >= len(df)*0.8:\n",
        "        df.drop(i,axis=1, inplace=True)\n",
        "df\n",
        "'''\n",
        "# EDA - 결측비율 확인\n",
        "df.isnull().sum()/df.shape[0]\n",
        "'''\n",
        "df.groupby('city')['f1'].median()\n",
        "k = df.groupby('city')['f1'].median()[0]\n",
        "d = df.groupby('city')['f1'].median()[0]\n",
        "b = df.groupby('city')['f1'].median()[0]\n",
        "s = df.groupby('city')['f1'].median()[0]\n",
        "'''\n",
        "# 도시별 중앙값 계산\n",
        "s=df[df['city']=='서울']['f1'].median()\n",
        "k=df[df['city']=='경기']['f1'].median()\n",
        "b=df[df['city']=='부산']['f1'].median()\n",
        "d=df[df['city']=='대구']['f1'].median()\n",
        "'''\n",
        "# f1결측치 city별 중앙값으로 대체\n",
        "df['f1'] = df['f1'].fillna(df['city'].map({'서울':s,'경기':k,'부산':b,'대구':d}))"
      ],
      "metadata": {
        "id": "eEYJg_ey2caH"
      },
      "execution_count": null,
      "outputs": []
    },
    {
      "cell_type": "markdown",
      "source": [
        "#T1-7 왜도와 첨도 구하기\n",
        "-  주어진 데이터 중 train.csv에서 'SalePrice'컬럼의 왜도와 첨도를 구한 값과, 'SalePrice'컬럼을 스케일링(log1p)로 변환한 이후 왜도와 첨도를 구해 모두 더한 다음 소수점 2째자리까지 출력하시오"
      ],
      "metadata": {
        "id": "2V_O6QO19HQZ"
      }
    },
    {
      "cell_type": "code",
      "source": [
        "import pandas as pd\n",
        "import numpy as np\n",
        "\n",
        "df = pd.read_csv(\"../input/house-prices-advanced-regression-techniques/train.csv\")\n",
        "df['SalePrice'].head()\n",
        "\n",
        "df['SalePrice'].hist()\n",
        "\n",
        "# 'SalePrice'컬럼 왜도와 첨도계산\n",
        "s1 = df['SalePrice'].skew()\n",
        "k1 = df['SalePrice'].kurt()\n",
        "print(\"왜도:\" ,s1)\n",
        "print(\"첨도:\", k1)\n",
        "# log1p 변환\n",
        "df['SalePrice'] = np.log1p(df['SalePrice'])\n",
        "s2 = df['SalePrice'].skew()\n",
        "k2 = df['SalePrice'].kurt()\n",
        "\n",
        "round(s1+k1+s2+k2,2)"
      ],
      "metadata": {
        "id": "bKqXxvvM9QB8"
      },
      "execution_count": null,
      "outputs": []
    },
    {
      "cell_type": "markdown",
      "source": [
        "#T1-8 조건에 맞는 데이터 표준편차 구하기\n",
        "- 주어진 데이터 중 basic1.csv에서 'f4'컬럼 값이 'ENFJ'와 'INFP'인 'f1'의 표준편차 차이를 절대값으로 구하시오"
      ],
      "metadata": {
        "id": "WLDA0bny9w_p"
      }
    },
    {
      "cell_type": "code",
      "source": [
        "import pandas as pd\n",
        "import numpy as np\n",
        "\n",
        "df = pd.read_csv('../input/bigdatacertificationkr/basic1.csv')\n",
        "df.head()\n",
        "\n",
        "a = df[df['f4'] == 'ENFJ']['f1'].std()\n",
        "b = df[df['f4'] == 'INFP']['f1'].std()\n",
        "abs(a-b)"
      ],
      "metadata": {
        "id": "jFz38r4f9t-Z"
      },
      "execution_count": null,
      "outputs": []
    },
    {
      "cell_type": "markdown",
      "source": [
        "#T1-9 **결측치** 제거 및 그룹 합계에서 조건에 맞는 값 찾아 출력\n",
        "- 주어진 데이터 중 basic1.csv에서 'f1'컬럼 결측 데이터를 제거하고, 'city'와 'f2'을 기준으로 묶어 합계를 구하고, 'city가 경기이면서 f2가 0'인 조건에 만족하는 f1 값을 구하시오"
      ],
      "metadata": {
        "id": "-nim7SZTPZMP"
      }
    },
    {
      "cell_type": "code",
      "source": [
        "import pandas as pd\n",
        "import numpy as np\n",
        "\n",
        "df = pd.read_csv('../input/bigdatacertificationkr/basic1.csv')\n",
        "df.head()\n",
        "\n",
        "# f1컬럼 결측치 제거\n",
        "df = df[~df['f1'].isnull()]\n",
        "\n",
        "#합계\n",
        "df.groupby(['city','f2']).sum()\n",
        "#'city가 경기이면서 f2가 0'인 조건에 만족하는 f1\n",
        "df.groupby(['city','f2']).sum().iloc[0,2]\n",
        "#혹은\n",
        "df.groupby(['city','f2']).sum().iloc[0]['f1']"
      ],
      "metadata": {
        "id": "exDCllUSVhho"
      },
      "execution_count": null,
      "outputs": []
    },
    {
      "cell_type": "markdown",
      "source": [
        "#T1-10 값 변경 및 2개 이상의 조건\n",
        "'f4'컬럼의 값이 'ESFJ'인 데이터를 'ISFJ'로 대체하고, 'city'가 '경기'이면서 'f4'가 'ISFJ'인 데이터 중 'age'컬럼의 최대값을 출력하시오!"
      ],
      "metadata": {
        "id": "MrMEcrybbKnc"
      }
    },
    {
      "cell_type": "code",
      "source": [
        "import pandas as pd\n",
        "import numpy as np\n",
        "\n",
        "df = pd.read_csv('../input/bigdatacertificationkr/basic1.csv')\n",
        "df.head(2)\n",
        "\n",
        "df['f4'].replace('ESFJ','ISFJ', inplace=True)\n",
        "df[(df['city']=='경기') & (df['f4'] =='ISFJ')]['age'].max()"
      ],
      "metadata": {
        "id": "jPqTMuWfbPdd"
      },
      "execution_count": null,
      "outputs": []
    },
    {
      "cell_type": "markdown",
      "source": [
        "#T-11 누적합 그리고 보간(결측치 처리)\n",
        "주어진 데이터 셋에서 'f2' 컬럼이 1인 조건에 해당하는 데이터의 'f1'컬럼 누적합을 계산한다. 이때 발생하는 누적합 결측치는 바로 뒤의 값을 채우고, 누적합의 평균값을 출력한다. (단, 결측치 바로 뒤의 값이 없으면 다음에 나오는 값을 채워넣는다)"
      ],
      "metadata": {
        "id": "2Exfv20RbekE"
      }
    },
    {
      "cell_type": "code",
      "source": [
        "import pandas as pd\n",
        "import numpy as np\n",
        "\n",
        "df = pd.read_csv('../input/bigdatacertificationkr/basic1.csv')\n",
        "df.head(2)\n",
        "\n",
        "# 조건에 따른 누적합\n",
        "df2 = df[df['f2']==1]['f1'].cumsum()\n",
        "df2\n",
        "\n",
        "# 결측치 처리 (뒤에 나오는 값으로 채움)\n",
        "df2 = df2.fillna(method = 'bfill')\n",
        "df2\n",
        "\n",
        "# 평균 출력\n",
        "print(df2.mean())"
      ],
      "metadata": {
        "id": "6QMWPlXIiLEk"
      },
      "execution_count": null,
      "outputs": []
    },
    {
      "cell_type": "markdown",
      "source": [
        "#T1-11 수치형 변수 변환하기\n",
        "주어진 데이터에서 'f5'컬럼을 표준화(Standardization (Z-score Normalization))하고 그 중앙값을 구하시오"
      ],
      "metadata": {
        "id": "15Yh_pNAncNa"
      }
    },
    {
      "cell_type": "code",
      "source": [
        "import pandas as pd\n",
        "import numpy as np\n",
        "\n",
        "df = pd.read_csv('../input/bigdatacertificationkr/basic1.csv')\n",
        "df.head(2)\n",
        "\n",
        "from sklearn.preprocessing import StandardScaler\n",
        "scaler = StandardScaler()\n",
        "df['f5'] = scaler.fit_transform(df[['f5']])\n",
        "df['f5'].median()"
      ],
      "metadata": {
        "id": "MF-ZPE_Mnia9"
      },
      "execution_count": null,
      "outputs": []
    },
    {
      "cell_type": "markdown",
      "source": [
        "#T1-12 여-존슨과 박스-칵스 변환\n",
        "주어진 데이터에서 20세 이상인 데이터를 추출하고 'f1'컬럼을 결측치를 최빈값으로 채운 후, f1 컬럼의 여-존슨과 박스콕스 변환 값을 구하고, 두 값의 차이를 절대값으로 구한다음 모두 더해 소수점 둘째 자리까지 출력(반올림)하시오"
      ],
      "metadata": {
        "id": "ekZN-X2-v0_e"
      }
    },
    {
      "cell_type": "code",
      "source": [
        "import pandas as pd\n",
        "import numpy as np\n",
        "from sklearn.preprocessing import power_transform\n",
        "\n",
        "df = pd.read_csv('../input/bigdatacertificationkr/basic1.csv')\n",
        "df.head(5)\n",
        "\n",
        "#최빈값 대체하기\n",
        "import statistics\n",
        "\n",
        "a20 = df[df['age'] >= 20]\n",
        "a20['f1'].fillna(statistics.mode(a20['f1']),inplace=True)\n",
        "\n",
        "# 다른방법) 최빈값으로 'f1' 컬럼 결측치 대체\n",
        "print(\"결측치 처리 전: \\n\", df.isnull().sum())\n",
        "print(\"최빈값: \",df['f1'].mode()[0])\n",
        "df['f1'] = df['f1'].fillna(df['f1'].mode()[0])\n",
        "print(\"결측치 처리 후: \\n\", df.isnull().sum())\n",
        "\n",
        "# 'f1'데이터 여-존슨 yeo-johnson 값 구하기\n",
        "a20['y'] = power_transform(a20[['f1']],standardize=False) # method 디폴트 값은 여-존슨’yeo-johnson’\n",
        "print(a20['y'].head())\n",
        "\n",
        "# 'f1'데이터 박스-콕스 box-cox 값 구하기\n",
        "a20['b'] = power_transform(a20[['f1']], method='box-cox', standardize=False)\n",
        "print(a20['b'].head())\n",
        "'''\n",
        "## 박스콕스 방법2\n",
        "from scipy import stats\n",
        "x = stats.boxcox(df['f1'])\n",
        "'''\n",
        "\n",
        "#계산하기\n",
        "print(round(abs(a20['y'] - a20['b']).sum(),2))"
      ],
      "metadata": {
        "id": "IwdW6TFav6sC"
      },
      "execution_count": null,
      "outputs": []
    },
    {
      "cell_type": "markdown",
      "source": [
        "#T1-13 상위 10개, 하위 10개 차이\n",
        " 주어진 데이터에서 상위 10개 국가의 접종률 평균과 하위 10개 국가의 접종률 평균을 구하고, 그 차이를 구해보세요\n",
        " (단, 100%가 넘는 접종률 제거, 소수 첫째자리까지 출력)\n"
      ],
      "metadata": {
        "id": "nG1417Ij9R1M"
      }
    },
    {
      "cell_type": "code",
      "source": [
        "import pandas as pd\n",
        "\n",
        "df = pd.read_csv(\"../input/covid-vaccination-vs-death/covid-vaccination-vs-death_ratio.csv\")\n",
        "print(df.head())\n",
        "\n",
        "t = df.groupby('country')['ratio'].max().sort_values(ascending=False).iloc[3:13].mean()\n",
        "d = df.groupby('country')['ratio'].min().sort_values().head(10).mean()\n",
        "print(round(t-d),1)"
      ],
      "metadata": {
        "id": "dAuEk8vQ9Xjv"
      },
      "execution_count": null,
      "outputs": []
    },
    {
      "cell_type": "markdown",
      "source": [
        "#T1-14 상관관계 구하기\n",
        "주어진 데이터에서 상관관계를 구하고, quality와의 상관관계가 가장 큰 값과, 가장 작은 값을 구한 다음 더하시오!\n",
        " 단, quality와 quality 상관관계 제외, 소수점 둘째 자리까지 출력"
      ],
      "metadata": {
        "id": "1PqDvYu8EYrq"
      }
    },
    {
      "cell_type": "code",
      "source": [
        "import pandas as pd\n",
        "import numpy as np\n",
        "\n",
        "# 데이터 불러오기\n",
        "df = pd.read_csv(\"../input/red-wine-quality-cortez-et-al-2009/winequality-red.csv\")\n",
        "print(df.head())\n",
        "\n",
        "abs(df.corr(method = 'pearson')['quality']).sort_values()\n",
        "d = df.corr(method = 'pearson')['quality'].loc['residual sugar']\n",
        "t = df.corr(method = 'pearson')['quality'].sort_values()[-2]\n",
        "round((t+d),2)\n",
        "\n",
        "#다른방법)\n",
        "# 상관관계 구하기\n",
        "df_corr = df.corr()\n",
        "df_corr = df_corr[:-1] # quailiy-quailiy 상관관계 제거\n",
        "print(df_corr['quality'])\n",
        "\n",
        "# 상관관계가 가장 큰 값과 가장 작은 값 (절대값으로 확인)\n",
        "max_corr=abs(df.corr()['quality'][:-1]).max()  #0.47\n",
        "min_corr=abs(df.corr()['quality'][:-1]).min()   #0.013\n",
        "\n",
        "if max_corr not in df.corr()[['quality']][:-1].values:\n",
        "    max_corr=-max_corr\n",
        "if min_corr not in df.corr()[['quality']][:-1].values:\n",
        "    min_corr=-min_corr\n",
        "\n",
        "# 결과 출력\n",
        "ans=round(max_corr+min_corr,2)\n",
        "print(ans) # 0.49"
      ],
      "metadata": {
        "id": "SGwvA8qfEmnt"
      },
      "execution_count": null,
      "outputs": []
    }
  ]
}