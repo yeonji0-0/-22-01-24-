{
  "nbformat": 4,
  "nbformat_minor": 0,
  "metadata": {
    "colab": {
      "name": "선형대수 예제.ipynb",
      "provenance": [],
      "authorship_tag": "ABX9TyPfWQfhIqRbSwcFINZRnIZH",
      "include_colab_link": true
    },
    "kernelspec": {
      "name": "python3",
      "display_name": "Python 3"
    },
    "language_info": {
      "name": "python"
    }
  },
  "cells": [
    {
      "cell_type": "markdown",
      "metadata": {
        "id": "view-in-github",
        "colab_type": "text"
      },
      "source": [
        "<a href=\"https://colab.research.google.com/github/yeonji0-0/Python-codes/blob/main/%EC%84%A0%ED%98%95%EB%8C%80%EC%88%98_%EC%98%88%EC%A0%9C.ipynb\" target=\"_parent\"><img src=\"https://colab.research.google.com/assets/colab-badge.svg\" alt=\"Open In Colab\"/></a>"
      ]
    },
    {
      "cell_type": "code",
      "execution_count": null,
      "metadata": {
        "id": "yixWXQqvESkA"
      },
      "outputs": [],
      "source": [
        "import tensorflow as tf\n",
        "import numpy as np"
      ]
    },
    {
      "cell_type": "code",
      "source": [
        "tf.__version__"
      ],
      "metadata": {
        "colab": {
          "base_uri": "https://localhost:8080/",
          "height": 35
        },
        "id": "epbHRlcVEZoG",
        "outputId": "665f9527-900b-4c91-b775-5b4a4892d08d"
      },
      "execution_count": null,
      "outputs": [
        {
          "output_type": "execute_result",
          "data": {
            "application/vnd.google.colaboratory.intrinsic+json": {
              "type": "string"
            },
            "text/plain": [
              "'2.7.0'"
            ]
          },
          "metadata": {},
          "execution_count": 2
        }
      ]
    },
    {
      "cell_type": "code",
      "source": [
        "# 1 by 1  (1차원 벡터)"
      ],
      "metadata": {
        "id": "QLozrPBRJNbj"
      },
      "execution_count": null,
      "outputs": []
    },
    {
      "cell_type": "code",
      "source": [
        "x = tf.Variable(np.array([ [1] ]), dtype = tf.float32)\n",
        "x"
      ],
      "metadata": {
        "colab": {
          "base_uri": "https://localhost:8080/"
        },
        "id": "632AiOcEIQLJ",
        "outputId": "3af3c69b-3836-4d33-c171-0b68e3f7b3c6"
      },
      "execution_count": null,
      "outputs": [
        {
          "output_type": "execute_result",
          "data": {
            "text/plain": [
              "<tf.Variable 'Variable:0' shape=(1, 1) dtype=float32, numpy=array([[1.]], dtype=float32)>"
            ]
          },
          "metadata": {},
          "execution_count": 8
        }
      ]
    },
    {
      "cell_type": "code",
      "source": [
        "b = tf.matmul(A,x)\n",
        "b"
      ],
      "metadata": {
        "colab": {
          "base_uri": "https://localhost:8080/"
        },
        "id": "tIWCg6ZQIXnY",
        "outputId": "4d4c355c-f0c7-4164-f7fa-32e8a8e6c56c"
      },
      "execution_count": null,
      "outputs": [
        {
          "output_type": "execute_result",
          "data": {
            "text/plain": [
              "<tf.Tensor: shape=(1, 1), dtype=float32, numpy=array([[1.]], dtype=float32)>"
            ]
          },
          "metadata": {},
          "execution_count": 9
        }
      ]
    },
    {
      "cell_type": "code",
      "source": [
        "print(A.shape)\n",
        "print(x.shape)\n",
        "print(b.shape)"
      ],
      "metadata": {
        "colab": {
          "base_uri": "https://localhost:8080/"
        },
        "id": "_G1LETvLIrLq",
        "outputId": "3232284c-2c7d-48bb-d0c4-492dd038bc2d"
      },
      "execution_count": null,
      "outputs": [
        {
          "output_type": "stream",
          "name": "stdout",
          "text": [
            "(1, 1)\n",
            "(1, 1)\n",
            "(1, 1)\n"
          ]
        }
      ]
    },
    {
      "cell_type": "code",
      "source": [
        "tf.print(b)"
      ],
      "metadata": {
        "colab": {
          "base_uri": "https://localhost:8080/"
        },
        "id": "DRhMbOTiJBWy",
        "outputId": "0630ad2d-0375-43d1-ddc8-89e391d3fdfb"
      },
      "execution_count": null,
      "outputs": [
        {
          "output_type": "stream",
          "name": "stdout",
          "text": [
            "[[1]]\n"
          ]
        }
      ]
    },
    {
      "cell_type": "code",
      "source": [
        "# 1 by 2 (2차원 벡터)"
      ],
      "metadata": {
        "id": "BfQXkXpvJEZb"
      },
      "execution_count": null,
      "outputs": []
    },
    {
      "cell_type": "code",
      "source": [
        "A = tf.Variable(np.array([ [1,4] ]),dtype= tf.float32 )\n",
        "A"
      ],
      "metadata": {
        "colab": {
          "base_uri": "https://localhost:8080/"
        },
        "id": "Gd9powuNJLgh",
        "outputId": "05b6322e-3fd0-473a-bfa0-de38809eb24e"
      },
      "execution_count": null,
      "outputs": [
        {
          "output_type": "execute_result",
          "data": {
            "text/plain": [
              "<tf.Variable 'Variable:0' shape=(1, 2) dtype=float32, numpy=array([[1., 4.]], dtype=float32)>"
            ]
          },
          "metadata": {},
          "execution_count": 17
        }
      ]
    },
    {
      "cell_type": "code",
      "source": [
        "x = tf.Variable(np.array([ [1],\n",
        "                          [4 ]]), dtype= tf.float32)\n",
        "x"
      ],
      "metadata": {
        "colab": {
          "base_uri": "https://localhost:8080/"
        },
        "id": "XOhSQnAOJ0Hu",
        "outputId": "5a98b82c-078e-4119-d25f-f5809949f16c"
      },
      "execution_count": null,
      "outputs": [
        {
          "output_type": "execute_result",
          "data": {
            "text/plain": [
              "<tf.Variable 'Variable:0' shape=(2, 1) dtype=float32, numpy=\n",
              "array([[1.],\n",
              "       [4.]], dtype=float32)>"
            ]
          },
          "metadata": {},
          "execution_count": 19
        }
      ]
    },
    {
      "cell_type": "code",
      "source": [
        "b = tf.matmul(A,x)\n",
        "tf.print(b)"
      ],
      "metadata": {
        "colab": {
          "base_uri": "https://localhost:8080/"
        },
        "id": "XkTrrVrhKECC",
        "outputId": "96d27601-45bd-414f-9977-6b1336ad8f4c"
      },
      "execution_count": null,
      "outputs": [
        {
          "output_type": "stream",
          "name": "stdout",
          "text": [
            "[[17]]\n"
          ]
        }
      ]
    },
    {
      "cell_type": "code",
      "source": [
        "print(A.shape)\n",
        "print(x.shape)\n",
        "print(b.shape)"
      ],
      "metadata": {
        "colab": {
          "base_uri": "https://localhost:8080/"
        },
        "id": "y5P4D5gNKPbN",
        "outputId": "4b568abf-b1bc-469e-f96a-2cf9c17b38f3"
      },
      "execution_count": null,
      "outputs": [
        {
          "output_type": "stream",
          "name": "stdout",
          "text": [
            "(1, 2)\n",
            "(2, 1)\n",
            "(1, 1)\n"
          ]
        }
      ]
    },
    {
      "cell_type": "code",
      "source": [
        "# 2 by 2 (2차원 벡터)"
      ],
      "metadata": {
        "id": "wnmB8ugvKUeZ"
      },
      "execution_count": null,
      "outputs": []
    },
    {
      "cell_type": "code",
      "source": [
        "A = tf.Variable(np.array([ [1,4],\n",
        "                           [9,5] ]), dtype = tf.float32)    #행열 맞추지 않으면 에러남(나중에 뭐가 잘 못 된것인지 찾기 힘들 수 있음)\n",
        "A"
      ],
      "metadata": {
        "colab": {
          "base_uri": "https://localhost:8080/"
        },
        "id": "fvQyoZspKW_c",
        "outputId": "1d9ba3f8-21bf-4b57-ffed-7ae907b0ae36"
      },
      "execution_count": null,
      "outputs": [
        {
          "output_type": "execute_result",
          "data": {
            "text/plain": [
              "<tf.Variable 'Variable:0' shape=(2, 2) dtype=float32, numpy=\n",
              "array([[1., 4.],\n",
              "       [9., 5.]], dtype=float32)>"
            ]
          },
          "metadata": {},
          "execution_count": 26
        }
      ]
    },
    {
      "cell_type": "code",
      "source": [
        "x = tf.Variable(np.array([ [1],\n",
        "                          [2] ]), dtype = tf.float32)\n",
        "x"
      ],
      "metadata": {
        "colab": {
          "base_uri": "https://localhost:8080/"
        },
        "id": "UZ2nKgfeKptM",
        "outputId": "c117363f-74e0-442a-b0bb-8d6944a1cf4d"
      },
      "execution_count": null,
      "outputs": [
        {
          "output_type": "execute_result",
          "data": {
            "text/plain": [
              "<tf.Variable 'Variable:0' shape=(2, 1) dtype=float32, numpy=\n",
              "array([[1.],\n",
              "       [2.]], dtype=float32)>"
            ]
          },
          "metadata": {},
          "execution_count": 27
        }
      ]
    },
    {
      "cell_type": "code",
      "source": [
        "b = tf.matmul(A,x)\n",
        "tf.print(b)"
      ],
      "metadata": {
        "colab": {
          "base_uri": "https://localhost:8080/"
        },
        "id": "TPap4iElK3XI",
        "outputId": "ca361525-3421-42c4-dead-04660c823f97"
      },
      "execution_count": null,
      "outputs": [
        {
          "output_type": "stream",
          "name": "stdout",
          "text": [
            "[[9]\n",
            " [19]]\n"
          ]
        }
      ]
    },
    {
      "cell_type": "code",
      "source": [
        "print(A.shape)\n",
        "print(x.shape)\n",
        "print(b.shape)"
      ],
      "metadata": {
        "colab": {
          "base_uri": "https://localhost:8080/"
        },
        "id": "AOR0uWGKK9wV",
        "outputId": "fe69910b-d329-4207-f59b-7cc565bb5056"
      },
      "execution_count": null,
      "outputs": [
        {
          "output_type": "stream",
          "name": "stdout",
          "text": [
            "(2, 2)\n",
            "(2, 1)\n",
            "(2, 1)\n"
          ]
        }
      ]
    },
    {
      "cell_type": "code",
      "source": [
        "A = tf.Variable(np.array([ [1,4],\n",
        "                          [9,5],\n",
        "                          [4,0] ]),dtype = tf.float32 )\n",
        "A"
      ],
      "metadata": {
        "colab": {
          "base_uri": "https://localhost:8080/"
        },
        "id": "1gSf_tcJL_q-",
        "outputId": "fdb7f3e3-a39d-4f99-dfb6-aadc3ae67803"
      },
      "execution_count": null,
      "outputs": [
        {
          "output_type": "execute_result",
          "data": {
            "text/plain": [
              "<tf.Variable 'Variable:0' shape=(3, 2) dtype=float32, numpy=\n",
              "array([[1., 4.],\n",
              "       [9., 5.],\n",
              "       [4., 0.]], dtype=float32)>"
            ]
          },
          "metadata": {},
          "execution_count": 31
        }
      ]
    },
    {
      "cell_type": "code",
      "source": [
        "x = tf.Variable(np.array([ [1],\n",
        "                          [2] ]), dtype = tf.float32)\n",
        "x"
      ],
      "metadata": {
        "colab": {
          "base_uri": "https://localhost:8080/"
        },
        "id": "ZOAL1_XlMRVO",
        "outputId": "4c100287-ff37-41b9-bfe6-01a21134282a"
      },
      "execution_count": null,
      "outputs": [
        {
          "output_type": "execute_result",
          "data": {
            "text/plain": [
              "<tf.Variable 'Variable:0' shape=(2, 1) dtype=float32, numpy=\n",
              "array([[1.],\n",
              "       [2.]], dtype=float32)>"
            ]
          },
          "metadata": {},
          "execution_count": 32
        }
      ]
    },
    {
      "cell_type": "code",
      "source": [
        "b = tf.matmul(A,x)\n",
        "tf.print(b)"
      ],
      "metadata": {
        "colab": {
          "base_uri": "https://localhost:8080/"
        },
        "id": "1EqnBi1wMedl",
        "outputId": "142ca3d9-f68b-4163-8e88-2f425590a117"
      },
      "execution_count": null,
      "outputs": [
        {
          "output_type": "stream",
          "name": "stdout",
          "text": [
            "[[9]\n",
            " [19]\n",
            " [4]]\n"
          ]
        }
      ]
    },
    {
      "cell_type": "code",
      "source": [
        "print(A.shape)\n",
        "print(x.shape)\n",
        "print(b.shape)"
      ],
      "metadata": {
        "colab": {
          "base_uri": "https://localhost:8080/"
        },
        "id": "_7u0C8zgMi-g",
        "outputId": "49c1fc37-4f74-4de5-ed46-3faad839a7f8"
      },
      "execution_count": null,
      "outputs": [
        {
          "output_type": "stream",
          "name": "stdout",
          "text": [
            "(3, 2)\n",
            "(2, 1)\n",
            "(3, 1)\n"
          ]
        }
      ]
    },
    {
      "cell_type": "code",
      "source": [
        "# 4 by 2 (2차원 벡터)"
      ],
      "metadata": {
        "id": "2bWQEQE7OIee"
      },
      "execution_count": null,
      "outputs": []
    },
    {
      "cell_type": "code",
      "source": [
        "A = tf.Variable(np.array([ [1,4],\n",
        "                           [9,5],\n",
        "                          [4,0],\n",
        "                          [6,1] ]), dtype = tf.float32)\n",
        "A"
      ],
      "metadata": {
        "colab": {
          "base_uri": "https://localhost:8080/"
        },
        "id": "gjx2XBdlORLf",
        "outputId": "3fff246e-f8f5-4d24-d4ce-f7d81f30e36d"
      },
      "execution_count": null,
      "outputs": [
        {
          "output_type": "execute_result",
          "data": {
            "text/plain": [
              "<tf.Variable 'Variable:0' shape=(4, 2) dtype=float32, numpy=\n",
              "array([[1., 4.],\n",
              "       [9., 5.],\n",
              "       [4., 0.],\n",
              "       [6., 1.]], dtype=float32)>"
            ]
          },
          "metadata": {},
          "execution_count": 35
        }
      ]
    },
    {
      "cell_type": "code",
      "source": [
        "x = tf.Variable(np.array([ [1],\n",
        "                            [2] ]), dtype = tf.float32)\n",
        "x"
      ],
      "metadata": {
        "colab": {
          "base_uri": "https://localhost:8080/"
        },
        "id": "2ZWYZQ88OqVN",
        "outputId": "f2ce1a44-f206-4e8a-bb6a-ca66401b8de5"
      },
      "execution_count": null,
      "outputs": [
        {
          "output_type": "execute_result",
          "data": {
            "text/plain": [
              "<tf.Variable 'Variable:0' shape=(2, 1) dtype=float32, numpy=\n",
              "array([[1.],\n",
              "       [2.]], dtype=float32)>"
            ]
          },
          "metadata": {},
          "execution_count": 36
        }
      ]
    },
    {
      "cell_type": "code",
      "source": [
        "b = tf.matmul(A,x)\n",
        "b"
      ],
      "metadata": {
        "colab": {
          "base_uri": "https://localhost:8080/"
        },
        "id": "FqA7lmhYO28f",
        "outputId": "1070045c-bbaf-4b25-e119-f82020ccfd31"
      },
      "execution_count": null,
      "outputs": [
        {
          "output_type": "execute_result",
          "data": {
            "text/plain": [
              "<tf.Tensor: shape=(4, 1), dtype=float32, numpy=\n",
              "array([[ 9.],\n",
              "       [19.],\n",
              "       [ 4.],\n",
              "       [ 8.]], dtype=float32)>"
            ]
          },
          "metadata": {},
          "execution_count": 37
        }
      ]
    },
    {
      "cell_type": "code",
      "source": [
        "print(A.shape)\n",
        "print(x.shape)\n",
        "print(b.shape)"
      ],
      "metadata": {
        "colab": {
          "base_uri": "https://localhost:8080/"
        },
        "id": "2IXYD9H7O62y",
        "outputId": "f5298b01-4468-45b4-9a33-19991472fa7a"
      },
      "execution_count": null,
      "outputs": [
        {
          "output_type": "stream",
          "name": "stdout",
          "text": [
            "(4, 2)\n",
            "(2, 1)\n",
            "(4, 1)\n"
          ]
        }
      ]
    },
    {
      "cell_type": "code",
      "source": [
        "# 4 by 3 (3차원 벡터)"
      ],
      "metadata": {
        "id": "ZgCuXGm2PB5W"
      },
      "execution_count": null,
      "outputs": []
    },
    {
      "cell_type": "code",
      "source": [
        "A = tf.Variable( np.array([ [1,4,2],\n",
        "                            [9,5,0],\n",
        "                            [4,0,2],\n",
        "                            [6,1,8] ]), dtype = tf.float32)\n",
        "A"
      ],
      "metadata": {
        "colab": {
          "base_uri": "https://localhost:8080/"
        },
        "id": "rPfXHih_PEc2",
        "outputId": "07c02506-113d-43c6-abc6-ddd533d2e892"
      },
      "execution_count": null,
      "outputs": [
        {
          "output_type": "execute_result",
          "data": {
            "text/plain": [
              "<tf.Variable 'Variable:0' shape=(4, 3) dtype=float32, numpy=\n",
              "array([[1., 4., 2.],\n",
              "       [9., 5., 0.],\n",
              "       [4., 0., 2.],\n",
              "       [6., 1., 8.]], dtype=float32)>"
            ]
          },
          "metadata": {},
          "execution_count": 39
        }
      ]
    },
    {
      "cell_type": "code",
      "source": [
        "x = tf.Variable(np.array([ [1], \n",
        "                           [2],\n",
        "                           [3] ]), dtype = tf.float32)\n",
        "x"
      ],
      "metadata": {
        "colab": {
          "base_uri": "https://localhost:8080/"
        },
        "id": "zDk_3i0TPT6h",
        "outputId": "8bb700a8-1b58-45e2-e523-6a22324c2fc9"
      },
      "execution_count": null,
      "outputs": [
        {
          "output_type": "execute_result",
          "data": {
            "text/plain": [
              "<tf.Variable 'Variable:0' shape=(3, 1) dtype=float32, numpy=\n",
              "array([[1.],\n",
              "       [2.],\n",
              "       [3.]], dtype=float32)>"
            ]
          },
          "metadata": {},
          "execution_count": 40
        }
      ]
    },
    {
      "cell_type": "code",
      "source": [
        "b = tf.matmul(A,x)\n",
        "b"
      ],
      "metadata": {
        "colab": {
          "base_uri": "https://localhost:8080/"
        },
        "id": "3lLzopKWPgdT",
        "outputId": "d891aa06-2de0-4a34-d11a-f31ddcf72f69"
      },
      "execution_count": null,
      "outputs": [
        {
          "output_type": "execute_result",
          "data": {
            "text/plain": [
              "<tf.Tensor: shape=(4, 1), dtype=float32, numpy=\n",
              "array([[15.],\n",
              "       [19.],\n",
              "       [10.],\n",
              "       [32.]], dtype=float32)>"
            ]
          },
          "metadata": {},
          "execution_count": 41
        }
      ]
    },
    {
      "cell_type": "code",
      "source": [
        "# 4 by 4 (4차원 벡터)"
      ],
      "metadata": {
        "id": "H4QyYjWePmVn"
      },
      "execution_count": null,
      "outputs": []
    },
    {
      "cell_type": "code",
      "source": [
        "A = tf.Variable(np.array ([ [1,4,2,0],\n",
        "                            [9,5,0,0],\n",
        "                            [4,0,2,4],\n",
        "                            [6,1,8,3] ]), dtype = tf.float32)\n",
        "A"
      ],
      "metadata": {
        "colab": {
          "base_uri": "https://localhost:8080/"
        },
        "id": "Gy3Os_tCPr9f",
        "outputId": "0629e51d-1e22-4da1-fc9e-864daedc004b"
      },
      "execution_count": null,
      "outputs": [
        {
          "output_type": "execute_result",
          "data": {
            "text/plain": [
              "<tf.Variable 'Variable:0' shape=(4, 4) dtype=float32, numpy=\n",
              "array([[1., 4., 2., 0.],\n",
              "       [9., 5., 0., 0.],\n",
              "       [4., 0., 2., 4.],\n",
              "       [6., 1., 8., 3.]], dtype=float32)>"
            ]
          },
          "metadata": {},
          "execution_count": 43
        }
      ]
    },
    {
      "cell_type": "code",
      "source": [
        "x = tf.Variable(np.array([ [1], \n",
        "                           [2],\n",
        "                           [3],\n",
        "                           [4] ]), dtype = tf.float32)\n",
        "x"
      ],
      "metadata": {
        "colab": {
          "base_uri": "https://localhost:8080/"
        },
        "id": "5JiOOZr1QLFb",
        "outputId": "92dc382a-0149-47ec-eba4-a7ef38b242e2"
      },
      "execution_count": null,
      "outputs": [
        {
          "output_type": "execute_result",
          "data": {
            "text/plain": [
              "<tf.Variable 'Variable:0' shape=(4, 1) dtype=float32, numpy=\n",
              "array([[1.],\n",
              "       [2.],\n",
              "       [3.],\n",
              "       [4.]], dtype=float32)>"
            ]
          },
          "metadata": {},
          "execution_count": 44
        }
      ]
    },
    {
      "cell_type": "code",
      "source": [
        "b = tf.matmul(A,x)\n",
        "tf.print(b)"
      ],
      "metadata": {
        "colab": {
          "base_uri": "https://localhost:8080/"
        },
        "id": "QDrCJxDbQPYJ",
        "outputId": "61153897-1d51-472d-80c3-e31dff4a0a72"
      },
      "execution_count": null,
      "outputs": [
        {
          "output_type": "stream",
          "name": "stdout",
          "text": [
            "[[15]\n",
            " [19]\n",
            " [26]\n",
            " [44]]\n"
          ]
        }
      ]
    },
    {
      "cell_type": "code",
      "source": [
        "# 4 by 5 (5차원 벡터)"
      ],
      "metadata": {
        "id": "cCxW_mtBQZsP"
      },
      "execution_count": null,
      "outputs": []
    },
    {
      "cell_type": "code",
      "source": [
        "A = tf.Variable(np.array ([ [1,4,2,0,2],\n",
        "                            [9,5,0,0,5],\n",
        "                            [4,0,2,4,6],\n",
        "                            [6,1,8,3,1] ]), dtype = tf.float32)\n",
        "A"
      ],
      "metadata": {
        "colab": {
          "base_uri": "https://localhost:8080/"
        },
        "outputId": "fe539c02-e131-445a-f2b4-ebc339f105f0",
        "id": "dl7JOJrQQZsP"
      },
      "execution_count": null,
      "outputs": [
        {
          "output_type": "execute_result",
          "data": {
            "text/plain": [
              "<tf.Variable 'Variable:0' shape=(4, 5) dtype=float32, numpy=\n",
              "array([[1., 4., 2., 0., 2.],\n",
              "       [9., 5., 0., 0., 5.],\n",
              "       [4., 0., 2., 4., 6.],\n",
              "       [6., 1., 8., 3., 1.]], dtype=float32)>"
            ]
          },
          "metadata": {},
          "execution_count": 47
        }
      ]
    },
    {
      "cell_type": "code",
      "source": [
        "x = tf.Variable(np.array([ [1], \n",
        "                           [2],\n",
        "                           [3],\n",
        "                           [4],\n",
        "                           [5] ]), dtype = tf.float32)\n",
        "x"
      ],
      "metadata": {
        "colab": {
          "base_uri": "https://localhost:8080/"
        },
        "outputId": "7b993e16-6289-4281-84b6-ec4a5fee6cd2",
        "id": "gxTa6upeQZsQ"
      },
      "execution_count": null,
      "outputs": [
        {
          "output_type": "execute_result",
          "data": {
            "text/plain": [
              "<tf.Variable 'Variable:0' shape=(5, 1) dtype=float32, numpy=\n",
              "array([[1.],\n",
              "       [2.],\n",
              "       [3.],\n",
              "       [4.],\n",
              "       [5.]], dtype=float32)>"
            ]
          },
          "metadata": {},
          "execution_count": 46
        }
      ]
    },
    {
      "cell_type": "code",
      "source": [
        "b = tf.matmul(A,x)\n",
        "tf.print(b)"
      ],
      "metadata": {
        "colab": {
          "base_uri": "https://localhost:8080/"
        },
        "outputId": "c6473f56-988d-4679-8e7f-69c41b68f809",
        "id": "tGAphhwgQZsQ"
      },
      "execution_count": null,
      "outputs": [
        {
          "output_type": "stream",
          "name": "stdout",
          "text": [
            "[[25]\n",
            " [44]\n",
            " [56]\n",
            " [49]]\n"
          ]
        }
      ]
    },
    {
      "cell_type": "code",
      "source": [
        "# mat by mat"
      ],
      "metadata": {
        "id": "HPOODM1JSncK"
      },
      "execution_count": null,
      "outputs": []
    },
    {
      "cell_type": "code",
      "source": [
        "A = tf.Variable (np.array([ [1,4,2,0],\n",
        "                            [9,5,0,0],\n",
        "                            [4,0,2,4],\n",
        "                            [6,1,8,3] ]),dtype = tf.float32)\n",
        "A"
      ],
      "metadata": {
        "colab": {
          "base_uri": "https://localhost:8080/"
        },
        "id": "lHH5TRJBQxZV",
        "outputId": "49ec1ceb-86c3-4c08-97b3-0265fd590ee1"
      },
      "execution_count": null,
      "outputs": [
        {
          "output_type": "execute_result",
          "data": {
            "text/plain": [
              "<tf.Variable 'Variable:0' shape=(4, 4) dtype=float32, numpy=\n",
              "array([[1., 4., 2., 0.],\n",
              "       [9., 5., 0., 0.],\n",
              "       [4., 0., 2., 4.],\n",
              "       [6., 1., 8., 3.]], dtype=float32)>"
            ]
          },
          "metadata": {},
          "execution_count": 49
        }
      ]
    },
    {
      "cell_type": "code",
      "source": [
        "B = tf.Variable(np.array ([ [1,5,9],\n",
        "                            [2,6,10],\n",
        "                            [3,7,11],\n",
        "                            [4,8,12] ]), dtype = tf.float32)\n",
        "B"
      ],
      "metadata": {
        "colab": {
          "base_uri": "https://localhost:8080/"
        },
        "id": "Dbo-HkizS3wB",
        "outputId": "e235e4c8-5f89-4146-c4cc-f4f974a115ed"
      },
      "execution_count": null,
      "outputs": [
        {
          "output_type": "execute_result",
          "data": {
            "text/plain": [
              "<tf.Variable 'Variable:0' shape=(4, 3) dtype=float32, numpy=\n",
              "array([[ 1.,  5.,  9.],\n",
              "       [ 2.,  6., 10.],\n",
              "       [ 3.,  7., 11.],\n",
              "       [ 4.,  8., 12.]], dtype=float32)>"
            ]
          },
          "metadata": {},
          "execution_count": 50
        }
      ]
    },
    {
      "cell_type": "code",
      "source": [
        "tf.matmul(A,B)"
      ],
      "metadata": {
        "colab": {
          "base_uri": "https://localhost:8080/"
        },
        "id": "OevVB0jmTHFF",
        "outputId": "3ae2cd55-627c-4688-8236-0a4cd8b843d4"
      },
      "execution_count": null,
      "outputs": [
        {
          "output_type": "execute_result",
          "data": {
            "text/plain": [
              "<tf.Tensor: shape=(4, 3), dtype=float32, numpy=\n",
              "array([[ 15.,  43.,  71.],\n",
              "       [ 19.,  75., 131.],\n",
              "       [ 26.,  66., 106.],\n",
              "       [ 44., 116., 188.]], dtype=float32)>"
            ]
          },
          "metadata": {},
          "execution_count": 51
        }
      ]
    },
    {
      "cell_type": "code",
      "source": [
        "#Linear Equ"
      ],
      "metadata": {
        "id": "QzUXKmcoTTa7"
      },
      "execution_count": null,
      "outputs": []
    },
    {
      "cell_type": "code",
      "source": [
        "A = tf.Variable(np.array([ [1,4,2,0],\n",
        "                           [9,5,0,0],\n",
        "                           [4,0,2,4],\n",
        "                           [6,1,8,3] ]),dtype = tf.float32)\n",
        "A"
      ],
      "metadata": {
        "colab": {
          "base_uri": "https://localhost:8080/"
        },
        "id": "YxXaHlAYT2UB",
        "outputId": "76345fb7-3525-41e9-abf4-ec10dab5caf4"
      },
      "execution_count": null,
      "outputs": [
        {
          "output_type": "execute_result",
          "data": {
            "text/plain": [
              "<tf.Variable 'Variable:0' shape=(4, 4) dtype=float32, numpy=\n",
              "array([[1., 4., 2., 0.],\n",
              "       [9., 5., 0., 0.],\n",
              "       [4., 0., 2., 4.],\n",
              "       [6., 1., 8., 3.]], dtype=float32)>"
            ]
          },
          "metadata": {},
          "execution_count": 52
        }
      ]
    },
    {
      "cell_type": "code",
      "source": [
        "B = tf.Variable(np.array([ [15],\n",
        "                           [19],\n",
        "                           [26],\n",
        "                           [44] ]), dtype = tf.float32)\n",
        "B"
      ],
      "metadata": {
        "colab": {
          "base_uri": "https://localhost:8080/"
        },
        "id": "Ir5IDTC6US2G",
        "outputId": "11a28460-d5d3-42e1-ff08-11bfb3c2f715"
      },
      "execution_count": null,
      "outputs": [
        {
          "output_type": "execute_result",
          "data": {
            "text/plain": [
              "<tf.Variable 'Variable:0' shape=(4, 1) dtype=float32, numpy=\n",
              "array([[15.],\n",
              "       [19.],\n",
              "       [26.],\n",
              "       [44.]], dtype=float32)>"
            ]
          },
          "metadata": {},
          "execution_count": 53
        }
      ]
    },
    {
      "cell_type": "code",
      "source": [
        "x = tf.linalg.solve(A,B)\n",
        "x"
      ],
      "metadata": {
        "colab": {
          "base_uri": "https://localhost:8080/"
        },
        "id": "i6_wGNaOUfMP",
        "outputId": "52a812f3-0e99-47f7-9e42-e238b5a653bf"
      },
      "execution_count": null,
      "outputs": [
        {
          "output_type": "execute_result",
          "data": {
            "text/plain": [
              "<tf.Tensor: shape=(4, 1), dtype=float32, numpy=\n",
              "array([[0.9999999],\n",
              "       [2.0000002],\n",
              "       [2.9999995],\n",
              "       [4.       ]], dtype=float32)>"
            ]
          },
          "metadata": {},
          "execution_count": 54
        }
      ]
    },
    {
      "cell_type": "code",
      "source": [
        "#위의 결과 맞는지 검산 : Ax를 계산!"
      ],
      "metadata": {
        "id": "4t99Xb70WDlD"
      },
      "execution_count": null,
      "outputs": []
    },
    {
      "cell_type": "code",
      "source": [
        "tf.matmul(A,x)"
      ],
      "metadata": {
        "colab": {
          "base_uri": "https://localhost:8080/"
        },
        "id": "RVTl23b6Vypy",
        "outputId": "2a0051ed-1b76-497e-e393-156e198d4a02"
      },
      "execution_count": null,
      "outputs": [
        {
          "output_type": "execute_result",
          "data": {
            "text/plain": [
              "<tf.Tensor: shape=(4, 1), dtype=float32, numpy=\n",
              "array([[15.      ],\n",
              "       [19.      ],\n",
              "       [25.999998],\n",
              "       [43.999996]], dtype=float32)>"
            ]
          },
          "metadata": {},
          "execution_count": 55
        }
      ]
    },
    {
      "cell_type": "code",
      "source": [
        "#좀 더 자세하게 계산하면 안될까?\n",
        "# tf.float32 -> tf.float64"
      ],
      "metadata": {
        "id": "K6HVuWYKWJJQ"
      },
      "execution_count": null,
      "outputs": []
    },
    {
      "cell_type": "code",
      "source": [
        "A_long = tf.Variable(np.array([ [1,4,2,0], [9,5,0,0], [4,0,2,4] , [6,1,8,3] ]),\n",
        "                dtype = tf.float64)\n",
        "A_long\n",
        "B_long = tf.Variable(np.array([ [15],  [19],  [26],  [44] ]), dtype = tf.float64)\n",
        "B_long\n",
        "x_long = tf.linalg.solve(A_long,B_long)\n",
        "x_long"
      ],
      "metadata": {
        "colab": {
          "base_uri": "https://localhost:8080/"
        },
        "id": "joLe0Vj_WqBU",
        "outputId": "12f820f6-452e-4664-9cc8-e0b7d0f3567e"
      },
      "execution_count": null,
      "outputs": [
        {
          "output_type": "execute_result",
          "data": {
            "text/plain": [
              "<tf.Tensor: shape=(4, 1), dtype=float64, numpy=\n",
              "array([[1.],\n",
              "       [2.],\n",
              "       [3.],\n",
              "       [4.]])>"
            ]
          },
          "metadata": {},
          "execution_count": 59
        }
      ]
    },
    {
      "cell_type": "code",
      "source": [
        "#검산\n",
        "tf.matmul(A_long, x_long)"
      ],
      "metadata": {
        "colab": {
          "base_uri": "https://localhost:8080/"
        },
        "id": "vpU9g2CUXiUC",
        "outputId": "fa0166b4-05c7-4aa0-bee5-26f7cb1ddfbf"
      },
      "execution_count": null,
      "outputs": [
        {
          "output_type": "execute_result",
          "data": {
            "text/plain": [
              "<tf.Tensor: shape=(4, 1), dtype=float64, numpy=\n",
              "array([[15.],\n",
              "       [19.],\n",
              "       [26.],\n",
              "       [44.]])>"
            ]
          },
          "metadata": {},
          "execution_count": 58
        }
      ]
    }
  ]
}