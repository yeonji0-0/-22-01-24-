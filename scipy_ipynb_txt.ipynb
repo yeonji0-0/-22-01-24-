{
  "cells": [
    {
      "cell_type": "markdown",
      "metadata": {
        "id": "view-in-github",
        "colab_type": "text"
      },
      "source": [
        "<a href=\"https://colab.research.google.com/github/yeonji0-0/Python-codes/blob/main/scipy_ipynb_txt.ipynb\" target=\"_parent\"><img src=\"https://colab.research.google.com/assets/colab-badge.svg\" alt=\"Open In Colab\"/></a>"
      ]
    },
    {
      "cell_type": "markdown",
      "metadata": {
        "ExecuteTime": {
          "end_time": "2022-02-24T16:29:49.217384Z",
          "start_time": "2022-02-24T16:29:49.214822Z"
        },
        "id": "MRj5vqB85HuH"
      },
      "source": [
        "# 사이파이 튜토리얼"
      ]
    },
    {
      "cell_type": "markdown",
      "metadata": {
        "id": "EcTTnrMP5HuI"
      },
      "source": [
        "[![Hits](https://hits.seeyoufarm.com/api/count/incr/badge.svg?url=https%3A%2F%2Fwww.datamanim.com%2Fdataset%2F97_scipy%2Fscipy.html&count_bg=%238534B0&title_bg=%23555555&icon=&icon_color=%23E7E7E7&title=hits&edge_flat=false)](https://hits.seeyoufarm.com)"
      ]
    },
    {
      "cell_type": "markdown",
      "metadata": {
        "id": "lPfR8VAK5HuJ"
      },
      "source": [
        "```\n",
        "웹 광고 한번 눌러주세요!!!\n",
        "```"
      ]
    },
    {
      "cell_type": "markdown",
      "metadata": {
        "id": "hT3-Lyme5HuJ"
      },
      "source": [
        "```{admonition} 주요 모듈\n",
        "**6가지 대표 하위 메소드중 통계분석을 위한 stats를 위주로 학습**        \n",
        "```"
      ]
    },
    {
      "cell_type": "code",
      "execution_count": null,
      "metadata": {
        "tags": [
          "remove-input"
        ],
        "id": "ujxFwzRj5HuJ",
        "outputId": "74929e8c-e9cb-4594-b130-1e46411c6db2"
      },
      "outputs": [
        {
          "name": "stdout",
          "output_type": "stream",
          "text": [
            "scipy\n",
            "│\n",
            "├── 01 integrate 수치적분, 미분방정식\n",
            "│  \n",
            "├── 02 linalg (선형대수, 매트릭스 분해)\n",
            "│ \n",
            "├── 03 optimize (방정식 해 구하는 알고리즘, 함수 최적화)\n",
            "│ \n",
            "├── 04 signal (신호 관련)\n",
            "│\n",
            "├── 05 sparse (희소 행렬, 희소 선형 시스템)\n",
            "│\n",
            "└── 06 stats (통계 분석) \n",
            "\n"
          ]
        }
      ],
      "source": [
        "scipy='''scipy\n",
        "│\n",
        "├── 01 integrate 수치적분, 미분방정식\n",
        "│\n",
        "├── 02 linalg (선형대수, 매트릭스 분해)\n",
        "│\n",
        "├── 03 optimize (방정식 해 구하는 알고리즘, 함수 최적화)\n",
        "│\n",
        "├── 04 signal (신호 관련)\n",
        "│\n",
        "├── 05 sparse (희소 행렬, 희소 선형 시스템)\n",
        "│\n",
        "└── 06 stats (통계 분석)\n",
        "'''\n",
        "print(scipy)"
      ]
    },
    {
      "cell_type": "markdown",
      "metadata": {
        "ExecuteTime": {
          "end_time": "2022-02-24T16:31:54.507712Z",
          "start_time": "2022-02-24T16:31:54.504344Z"
        },
        "id": "-QBr1cpB5HuL"
      },
      "source": [
        "```{admonition} stats 하위 모듈\n",
        "**252개**      \n",
        "```"
      ]
    },
    {
      "cell_type": "code",
      "execution_count": null,
      "metadata": {
        "ExecuteTime": {
          "end_time": "2022-02-24T16:32:08.007248Z",
          "start_time": "2022-02-24T16:32:07.719994Z"
        },
        "id": "fFUzvIzQ5HuL",
        "outputId": "4a986a2a-ae1e-461d-85df-5179bf80f2fa"
      },
      "outputs": [
        {
          "name": "stdout",
          "output_type": "stream",
          "text": [
            "252\n"
          ]
        }
      ],
      "source": [
        "from scipy import stats\n",
        "print(len([x for x in dir(stats) if x[0] !='_'  ]))"
      ]
    },
    {
      "cell_type": "markdown",
      "metadata": {
        "id": "I_gfKPz25HuL"
      },
      "source": [
        "## stats 주요 모듈"
      ]
    },
    {
      "cell_type": "code",
      "execution_count": null,
      "metadata": {
        "ExecuteTime": {
          "end_time": "2022-02-28T11:15:59.374453Z",
          "start_time": "2022-02-28T11:15:59.370851Z"
        },
        "tags": [
          "remove-input"
        ],
        "id": "kbMMvOs55HuL",
        "outputId": "d3ed58de-8f26-4dc4-c446-6e664d284c99"
      },
      "outputs": [
        {
          "name": "stdout",
          "output_type": "stream",
          "text": [
            "scipy.stats\n",
            "│\n",
            "├── 01 T-test\n",
            "│   │\n",
            "│   ├── ttest_1samp         (단일표본 t검정)\n",
            "│   ├── ttest_ind           (독립표본 t검정)\n",
            "│   └── ttest_rel           (대응표본 t검정) \n",
            "│ \n",
            "├── 02 비모수 검정\n",
            "│   │\n",
            "│   ├── mannwhitneyu        (맨-휘트니 U 검정 - 중위수 , 윌콕슨 순위합 검정과 동일하다 볼 수 있음)\n",
            "│   ├── ranksums            (윌콕슨 순위합 검정 - 중위수)\n",
            "│   └── wilcoxon            (윌콕슨 부호 순위합 검정)\n",
            "│ \n",
            "├── 03 정규정 검정\n",
            "│   │\n",
            "│   ├── anderson            (Anderson-Darling , 데이터수가 상대적으로 많을 때)\n",
            "│   ├── kstest              (Kolmogorov-Smirnov , 데이터수가 상대적으로 많을 때)\n",
            "│   ├── mstats.normaltest\n",
            "│   └── shapiro             (shapiro, 노말분포 가장 엄격하게 검정, 데이터수가 상대적으로 적을때)\n",
            "│   \n",
            "├── 04 등분산 검정\n",
            "│   │\n",
            "│   ├── bartlett\n",
            "│   ├── fligner\n",
            "│   └── levene\n",
            "│\n",
            "├── 05 카이제곱검정\n",
            "│   │\n",
            "│   ├── chi2_contingency     (카이제곱독립검정, 독립성 검정)\n",
            "│   ├── chisquare            (카이제곱검정 , 적합도 검정)\n",
            "│   └── fisher_exact         (피셔 정확 검정 - 빈도수가 5개 이하 셀의 수가 전체 셀의 20%이상일 경우 사용 )\n",
            "│\n",
            "└── 06 ANOVA (일원분산분석)\n",
            "    │\n",
            "    └── f_oneway (분산 분석은  statmodels 모듈이 더 좋음! )\n",
            "\n"
          ]
        }
      ],
      "source": [
        "stats='''scipy.stats\n",
        "│\n",
        "├── 01 T-test\n",
        "│   │\n",
        "│   ├── ttest_1samp         (단일표본 t검정)\n",
        "│   ├── ttest_ind           (독립표본 t검정)\n",
        "│   └── ttest_rel           (대응표본 t검정)\n",
        "│\n",
        "├── 02 비모수 검정\n",
        "│   │\n",
        "│   ├── mannwhitneyu        (맨-휘트니 U 검정 - 중위수 , 윌콕슨 순위합 검정과 동일하다 볼 수 있음)\n",
        "│   ├── ranksums            (윌콕슨 순위합 검정 - 중위수)\n",
        "│   └── wilcoxon            (윌콕슨 부호 순위합 검정)\n",
        "│\n",
        "├── 03 정규정 검정\n",
        "│   │\n",
        "│   ├── anderson            (Anderson-Darling , 데이터수가 상대적으로 많을 때)\n",
        "│   ├── kstest              (Kolmogorov-Smirnov , 데이터수가 상대적으로 많을 때)\n",
        "│   ├── mstats.normaltest\n",
        "│   └── shapiro             (shapiro, 노말분포 가장 엄격하게 검정, 데이터수가 상대적으로 적을때)\n",
        "│\n",
        "├── 04 등분산 검정\n",
        "│   │\n",
        "│   ├── bartlett\n",
        "│   ├── fligner\n",
        "│   └── levene\n",
        "│\n",
        "├── 05 카이제곱검정\n",
        "│   │\n",
        "│   ├── chi2_contingency     (카이제곱독립검정, 독립성 검정)\n",
        "│   ├── chisquare            (카이제곱검정 , 적합도 검정)\n",
        "│   └── fisher_exact         (피셔 정확 검정 - 빈도수가 5개 이하 셀의 수가 전체 셀의 20%이상일 경우 사용 )\n",
        "│\n",
        "└── 06 ANOVA (일원분산분석)\n",
        "    │\n",
        "    └── f_oneway (분산 분석은  statmodels 모듈이 더 좋음! )\n",
        "'''\n",
        "print(stats)"
      ]
    },
    {
      "cell_type": "code",
      "execution_count": null,
      "metadata": {
        "tags": [
          "remove-input"
        ],
        "id": "HLZkQwL_5HuM",
        "outputId": "c4ffd567-554c-491b-812b-0985d3667db3"
      },
      "outputs": [
        {
          "name": "stdout",
          "output_type": "stream",
          "text": [
            "dir , help를 이용해서 파라미터들 찾아가며 사용하기\n"
          ]
        }
      ],
      "source": [
        "print(\"dir , help를 이용해서 파라미터들 찾아가며 사용하기\")"
      ]
    },
    {
      "cell_type": "markdown",
      "metadata": {
        "ExecuteTime": {
          "end_time": "2022-02-24T16:32:25.330668Z",
          "start_time": "2022-02-24T16:32:25.326843Z"
        },
        "id": "WYsliV7T5HuM"
      },
      "source": [
        "**예제 데이터는 랜덤 생성하였습니다**"
      ]
    },
    {
      "cell_type": "markdown",
      "metadata": {
        "id": "oPkuje3w5HuM"
      },
      "source": [
        "## 정규성 검정"
      ]
    },
    {
      "cell_type": "markdown",
      "metadata": {
        "id": "bzJS9A4I5HuM"
      },
      "source": [
        "```{admonition} Question\n",
        "**다음 데이터의 정규성을 검증하라**\n",
        "```"
      ]
    },
    {
      "cell_type": "code",
      "execution_count": null,
      "metadata": {
        "ExecuteTime": {
          "end_time": "2022-02-24T16:32:38.445229Z",
          "start_time": "2022-02-24T16:32:37.596564Z"
        },
        "id": "8BvqWcrn5HuM",
        "outputId": "718cee40-a52e-4ec6-9eb4-ab0e6331b80b"
      },
      "outputs": [
        {
          "data": {
            "image/png": "[encoded data removed]",
            "text/plain": [
              "<Figure size 432x288 with 1 Axes>"
            ]
          },
          "metadata": {
            "needs_background": "light"
          },
          "output_type": "display_data"
        }
      ],
      "source": [
        "import pandas as pd\n",
        "import matplotlib.pyplot as plt\n",
        "df = pd.read_csv('https://raw.githubusercontent.com/Datamanim/datarepo/main/scipy/normal1.csv')\n",
        "plt.hist(df)\n",
        "plt.show()"
      ]
    },
    {
      "cell_type": "code",
      "execution_count": null,
      "metadata": {
        "tags": [
          "hide-cell"
        ],
        "id": "Rz0t9Qfo5HuN",
        "outputId": "7d164710-a756-4bbd-fab4-3084c8599074"
      },
      "outputs": [
        {
          "name": "stdout",
          "output_type": "stream",
          "text": [
            "ShapiroResult(statistic=0.9981446862220764, pvalue=0.3485966622829437)\n"
          ]
        }
      ],
      "source": [
        "from scipy.stats import shapiro\n",
        "print(shapiro(df))\n",
        "\n",
        "# 샤피로 검정시 p-value가 0.34이므로 유의수준 5%에서 귀무가설(\"데이터는 정규성을 가진다\")을 기각할 수 없다"
      ]
    },
    {
      "cell_type": "markdown",
      "metadata": {
        "id": "jdbVW_k75HuN"
      },
      "source": [
        "```{admonition} Question\n",
        "**다음 데이터의 정규성을 검증하라**\n",
        "```"
      ]
    },
    {
      "cell_type": "code",
      "execution_count": null,
      "metadata": {
        "ExecuteTime": {
          "end_time": "2022-02-24T16:33:00.366126Z",
          "start_time": "2022-02-24T16:32:59.985304Z"
        },
        "id": "Y4NdSqKs5HuN",
        "outputId": "5cff8f31-0d94-49f6-cbc0-b0ba96bc8018"
      },
      "outputs": [
        {
          "data": {
            "image/png": "[encoded data removed]",
            "text/plain": [
              "<Figure size 432x288 with 1 Axes>"
            ]
          },
          "metadata": {
            "needs_background": "light"
          },
          "output_type": "display_data"
        }
      ],
      "source": [
        "import pandas as pd\n",
        "import matplotlib.pyplot as plt\n",
        "df = pd.read_csv('https://raw.githubusercontent.com/Datamanim/datarepo/main/scipy/normal3.csv')\n",
        "plt.hist(df)\n",
        "plt.show()"
      ]
    },
    {
      "cell_type": "code",
      "execution_count": null,
      "metadata": {
        "tags": [
          "hide-cell"
        ],
        "id": "GXuyyDT15HuN",
        "outputId": "ba452dae-1d0a-42c5-e52a-c5d74a05e59c"
      },
      "outputs": [
        {
          "name": "stdout",
          "output_type": "stream",
          "text": [
            "ShapiroResult(statistic=0.9578887224197388, pvalue=2.309859641255865e-16)\n"
          ]
        }
      ],
      "source": [
        "from scipy.stats import shapiro\n",
        "print(shapiro(df))\n",
        "\n",
        "# 샤피로 검정시 p-value가 2.3e-16 이므로 유의수준 5%에서 귀무가설인 \"데이터는 정규성을 가진다\"를 기각하고 대립가설을 채택한다\n",
        "# 데이터는 정규성을 가지지 않는다"
      ]
    },
    {
      "cell_type": "markdown",
      "metadata": {
        "id": "vF_j_ma45HuO"
      },
      "source": [
        "```{admonition} Question\n",
        "**위의 데이터를 log변환 한 후에 정규성을 가지는지 확인하라**\n",
        "```"
      ]
    },
    {
      "cell_type": "code",
      "execution_count": null,
      "metadata": {
        "ExecuteTime": {
          "end_time": "2022-02-24T18:09:19.690987Z",
          "start_time": "2022-02-24T18:09:19.541837Z"
        },
        "id": "-7pXdsS_5HuO",
        "outputId": "3b11c353-64bd-4f4e-b46e-c86fd71d18f4"
      },
      "outputs": [
        {
          "data": {
            "image/png": "[encoded data removed]",
            "text/plain": [
              "<Figure size 432x288 with 1 Axes>"
            ]
          },
          "metadata": {
            "needs_background": "light"
          },
          "output_type": "display_data"
        }
      ],
      "source": [
        "import numpy as np\n",
        "import matplotlib.pyplot as plt\n",
        "import pandas as pd\n",
        "df = pd.read_csv('https://raw.githubusercontent.com/Datamanim/datarepo/main/scipy/normal3.csv')\n",
        "log_y_data = np.log1p(df)\n",
        "\n",
        "plt.hist(log_y_data)\n",
        "plt.show()\n"
      ]
    },
    {
      "cell_type": "code",
      "execution_count": null,
      "metadata": {
        "tags": [
          "hide-cell"
        ],
        "id": "HfTGpHzo5HuO",
        "outputId": "40bf7a19-1773-4346-db29-0248a765d105"
      },
      "outputs": [
        {
          "name": "stdout",
          "output_type": "stream",
          "text": [
            "ShapiroResult(statistic=0.9976893067359924, pvalue=0.17551212012767792)\n"
          ]
        }
      ],
      "source": [
        "from scipy.stats import shapiro\n",
        "print(shapiro(log_y_data))\n",
        "\n",
        "# 샤피로 검정시 p-value가 0.17이므로 유의수준 5%에서 귀무가설(\"데이터는 정규성을 가진다\")을 기각할 수 없다"
      ]
    },
    {
      "cell_type": "markdown",
      "metadata": {
        "id": "QJ1OncQc5HuO"
      },
      "source": [
        "```{admonition} Question\n",
        "**다음 데이터의 정규성을 검증하라**\n",
        "```"
      ]
    },
    {
      "cell_type": "code",
      "execution_count": null,
      "metadata": {
        "ExecuteTime": {
          "end_time": "2022-02-24T17:08:50.520703Z",
          "start_time": "2022-02-24T17:08:49.660722Z"
        },
        "id": "VJLaZ5_u5HuO",
        "outputId": "eba73421-a15e-4086-f7d1-3e41cea137fa"
      },
      "outputs": [
        {
          "data": {
            "image/png": "[encoded data removed]",
            "text/plain": [
              "<Figure size 432x288 with 1 Axes>"
            ]
          },
          "metadata": {
            "needs_background": "light"
          },
          "output_type": "display_data"
        }
      ],
      "source": [
        "import pandas as pd\n",
        "import matplotlib.pyplot as plt\n",
        "df = pd.read_csv('https://raw.githubusercontent.com/Datamanim/datarepo/main/scipy/normal6.csv')\n",
        "plt.hist(df)\n",
        "plt.show()"
      ]
    },
    {
      "cell_type": "code",
      "execution_count": null,
      "metadata": {
        "tags": [
          "hide-cell"
        ],
        "id": "LPkYqdcS5HuO",
        "outputId": "26ee915d-96ae-4200-ad0c-bb84dfe0c09c"
      },
      "outputs": [
        {
          "name": "stdout",
          "output_type": "stream",
          "text": [
            "ShapiroResult(statistic=0.9995355606079102, pvalue=0.15070641040802002)\n",
            "AndersonResult(statistic=0.8266993530414766, critical_values=array([0.576, 0.656, 0.786, 0.917, 1.091]), significance_level=array([15. , 10. ,  5. ,  2.5,  1. ]))\n"
          ]
        },
        {
          "name": "stderr",
          "output_type": "stream",
          "text": [
            "/Library/Frameworks/Python.framework/Versions/3.8/lib/python3.8/site-packages/scipy/stats/morestats.py:1681: UserWarning: p-value may not be accurate for N > 5000.\n",
            "  warnings.warn(\"p-value may not be accurate for N > 5000.\")\n"
          ]
        }
      ],
      "source": [
        "from scipy.stats import shapiro\n",
        "print(shapiro(df))\n",
        "# 샤피로 검정시 p-value가 0.15 이므로 유의수준 5%에서 귀무가설(\"데이터는 정규성을 가진다\")을 기각할 수 없다.\n",
        "# 하지만 경고 메세지에서도 보이듯이 5000개 초과의 샘플에 대해서는 샤피로 검정은 정확하지 않을 수 있다.\n",
        "\n",
        "\n",
        "from scipy.stats import anderson\n",
        "# anderson 검정을 실시한다\n",
        "print(anderson(df['data'].values))\n",
        "\n",
        "\n",
        "# anderson 검정 결과의 의미는 아래 링크에서 확인 가능\n",
        "# https://docs.scipy.org/doc/scipy/reference/generated/scipy.stats.anderson.html\n",
        "# significance_level는 유의 확률값을 나타내며 critical_values는 각 유의 확률값의 기준점이 된다.\n",
        "# 5%유의 수준에서 검정을 진행하려면 statistic값인 0.82이 significance_level 이 5.에 위치한 인덱스를\n",
        "# critical_values값에서 비교하면 된다. 그 값은 0.786이므로 이보다 큰 0.82을 가지므로\n",
        "# 귀무가설을 기각하고 대립가설을 채택한다 -> 데이터는 정규성을 가지지 않는다고 판단한다. (p-value와 기각기준 부등호 개념이 반대)"
      ]
    },
    {
      "cell_type": "markdown",
      "metadata": {
        "id": "5u-5JsCD5HuP"
      },
      "source": [
        "## 단일 표본 t검정 (one-sample)"
      ]
    },
    {
      "cell_type": "markdown",
      "metadata": {
        "ExecuteTime": {
          "end_time": "2022-02-24T16:33:39.234836Z",
          "start_time": "2022-02-24T16:33:39.231184Z"
        },
        "id": "4spTrrfM5HuP"
      },
      "source": [
        "```{admonition} Question\n",
        "**100명의 키 정보가 들어 있는 데이터가 있다.데이터가 정규성을 만족하는지 확인하라.        \n",
        "그리고 평균키는 165라 판단할수 있는지 귀무가설과 대립가설을 설정한 후 유의수준 5%로 검정하라.**\n",
        "```"
      ]
    },
    {
      "cell_type": "code",
      "execution_count": null,
      "metadata": {
        "ExecuteTime": {
          "end_time": "2022-02-24T16:33:45.581210Z",
          "start_time": "2022-02-24T16:33:45.200603Z"
        },
        "id": "s5CFAVXC5HuP"
      },
      "outputs": [],
      "source": [
        "import pandas as pd\n",
        "df = pd.read_csv('https://raw.githubusercontent.com/Datamanim/datarepo/main/scipy/height1.csv')"
      ]
    },
    {
      "cell_type": "markdown",
      "metadata": {
        "id": "AC2I0uQI5HuP"
      },
      "source": [
        "![img](https://github.com/Datamanim/datarepo/blob/main/scipy/s1.png?raw=true)"
      ]
    },
    {
      "cell_type": "code",
      "execution_count": null,
      "metadata": {
        "scrolled": true,
        "tags": [
          "hide-cell"
        ],
        "id": "l1FHe88L5HuP",
        "outputId": "5051e0d7-8ddf-479b-a152-5420bee726a9"
      },
      "outputs": [
        {
          "name": "stdout",
          "output_type": "stream",
          "text": [
            "샤피로 정규성 검정 p-value :  0.455832302570343 이므로\n",
            "귀무가설을 기각하지 않는다. 정규성을 만족하므로 단일표본 검정으로 확인한다.\n",
            "\n",
            "단일표본 t-test의 귀무가설은 \"100명 키의 평균은 165이다.\" 이며 대립가설은 \"100명 키의 평균은 165가 아니다.\" 이다\n",
            "검정 결과 pvalue는 0.0018367171548080209로 결과는 귀무가설을 기각하고 대립가설을 채택한다.\n"
          ]
        }
      ],
      "source": [
        "from scipy.stats import ttest_1samp\n",
        "from scipy.stats import shapiro\n",
        "from scipy.stats import wilcoxon\n",
        "\n",
        "# 정규성 검정 샤피로\n",
        "static, pvalue = shapiro(df)\n",
        "print('샤피로 정규성 검정 p-value : ',pvalue,'이므로')\n",
        "\n",
        "if pvalue < 0.05:\n",
        "    print('귀무가설을 기각한다. 정규성을 만족하지 않으므로 비모수 검정을 진행한다. 윌콕슨 순위 부호 검정을 진행한다.\\n')\n",
        "    print('윌콕슨 순위 부호 검정의 귀무가설은 \"100명 키의 평균은 165이다.\" 이며 대립가설은 \"100명 키의 평균은 165가 아니다.\" 이다')\n",
        "\n",
        "    #윌콕슨 부호순위 검정\n",
        "    static, pvalue = wilcoxon(df['height']-165) # or static, pvalue = wilcoxon(df['height'], np.ones(len(df)) *165)\n",
        "\n",
        "\n",
        "\n",
        "    if pvalue < 0.05:\n",
        "        print(f'검정 결과 pvalue는 {pvalue}로 결과는 귀무가설을 기각하고 대립가설을 채택한다.')\n",
        "    else:\n",
        "        print(f'검정 결과 pvalue는 {pvalue}로 결과는 귀무가설을 기각하지 않는다.')\n",
        "\n",
        "\n",
        "else:\n",
        "    print('귀무가설을 기각하지 않는다. 정규성을 만족하므로 단일표본 검정으로 확인한다.\\n')\n",
        "    print('단일표본 t-test의 귀무가설은 \"100명 키의 평균은 165이다.\" 이며 대립가설은 \"100명 키의 평균은 165가 아니다.\" 이다')\n",
        "\n",
        "    #단일 표본 t 검정\n",
        "    static, pvalue = ttest_1samp(df['height'],165)\n",
        "    if pvalue < 0.05:\n",
        "        print(f'검정 결과 pvalue는 {pvalue}로 결과는 귀무가설을 기각하고 대립가설을 채택한다.')\n",
        "    else:\n",
        "        print(f'검정 결과 pvalue는 {pvalue}로 결과는 귀무가설을 기각하지 않는다.')"
      ]
    },
    {
      "cell_type": "markdown",
      "metadata": {
        "ExecuteTime": {
          "end_time": "2022-02-24T16:33:58.492036Z",
          "start_time": "2022-02-24T16:33:58.488608Z"
        },
        "id": "fZhQMtP65HuP"
      },
      "source": [
        "```{admonition} Question\n",
        "**100명의 키 정보가 들어 있는 데이터가 있다.데이터가 정규성을 만족하는지 확인하라.        \n",
        "그리고 평균키는 165라 판단할수 있는지 귀무가설과 대립가설을 설정한 후 유의수준 5%로 검정하라.**\n",
        "```"
      ]
    },
    {
      "cell_type": "code",
      "execution_count": null,
      "metadata": {
        "ExecuteTime": {
          "end_time": "2022-02-24T16:34:03.499780Z",
          "start_time": "2022-02-24T16:34:03.163144Z"
        },
        "id": "MVt008fT5HuP"
      },
      "outputs": [],
      "source": [
        "import pandas as pd\n",
        "df = pd.read_csv('https://raw.githubusercontent.com/Datamanim/datarepo/main/scipy/height2.csv')"
      ]
    },
    {
      "cell_type": "markdown",
      "metadata": {
        "id": "U4NcUWdw5HuQ"
      },
      "source": [
        "![img](https://github.com/Datamanim/datarepo/blob/main/scipy/s2.png?raw=true)"
      ]
    },
    {
      "cell_type": "code",
      "execution_count": null,
      "metadata": {
        "tags": [
          "hide-cell"
        ],
        "id": "yywFSvF85HuQ",
        "outputId": "19acae28-12ca-46e9-b851-9751e76f56d3"
      },
      "outputs": [
        {
          "name": "stdout",
          "output_type": "stream",
          "text": [
            "샤피로 정규성 검정 p-value :  0.013552471995353699 이므로\n",
            "귀무가설을 기각한다. 정규성을 만족하지 않으므로 비모수 검정을 진행한다. 윌콕슨 순위 부호 검정을 진행한다.\n",
            "\n",
            "윌콕슨 순위 부호 검정의 귀무가설은 \"100명 키의 평균은 165이다.\" 이며 대립가설은 \"100명 키의 평균은 165가 아니다.\" 이다\n",
            "검정 결과 pvalue는 0.04880534424649582로 결과는 귀무가설을 기각하고 대립가설을 채택한다.\n"
          ]
        }
      ],
      "source": [
        "from scipy.stats import ttest_1samp\n",
        "from scipy.stats import shapiro\n",
        "from scipy.stats import wilcoxon\n",
        "\n",
        "# 정규성 검정 샤피로\n",
        "static, pvalue = shapiro(df)\n",
        "print('샤피로 정규성 검정 p-value : ',pvalue,'이므로')\n",
        "\n",
        "if pvalue < 0.05:\n",
        "    print('귀무가설을 기각한다. 정규성을 만족하지 않으므로 비모수 검정을 진행한다. 윌콕슨 순위 부호 검정을 진행한다.\\n')\n",
        "    print('윌콕슨 순위 부호 검정의 귀무가설은 \"100명 키의 평균은 165이다.\" 이며 대립가설은 \"100명 키의 평균은 165가 아니다.\" 이다')\n",
        "\n",
        "    #윌콕슨 부호순위 검정\n",
        "    static, pvalue = wilcoxon(df['height']-165) # or static, pvalue = wilcoxon(df['height'], np.ones(len(df)) *165)\n",
        "\n",
        "\n",
        "\n",
        "    if pvalue < 0.05:\n",
        "        print(f'검정 결과 pvalue는 {pvalue}로 결과는 귀무가설을 기각하고 대립가설을 채택한다.')\n",
        "    else:\n",
        "        print(f'검정 결과 pvalue는 {pvalue}로 결과는 귀무가설을 기각하지 않는다.')\n",
        "\n",
        "\n",
        "else:\n",
        "    print('귀무가설을 기각하지 않는다. 정규성을 만족하므로 단일표본 검정으로 확인한다.\\n')\n",
        "    print('단일표본 t-test의 귀무가설은 \"100명 키의 평균은 165이다.\" 이며 대립가설은 \"100명 키의 평균은 165가 아니다.\" 이다')\n",
        "\n",
        "    #단일 표본 t 검정\n",
        "    static, pvalue = ttest_1samp(df['height'],165)\n",
        "    if pvalue < 0.05:\n",
        "        print(f'검정 결과 pvalue는 {pvalue}로 결과는 귀무가설을 기각하고 대립가설을 채택한다.')\n",
        "    else:\n",
        "        print(f'검정 결과 pvalue는 {pvalue}로 결과는 귀무가설을 기각하지 않는다.')"
      ]
    },
    {
      "cell_type": "markdown",
      "metadata": {
        "id": "RjAlWqNc5HuQ"
      },
      "source": [
        "## 등분산 검정"
      ]
    },
    {
      "cell_type": "markdown",
      "metadata": {
        "ExecuteTime": {
          "end_time": "2022-02-24T16:33:58.492036Z",
          "start_time": "2022-02-24T16:33:58.488608Z"
        },
        "id": "Pc7_XQM15HuQ"
      },
      "source": [
        "```{admonition} Question\n",
        "**두개 학급의 시험성적에 대한 데이터이다 그룹간 등분산 검정을 시행하라**\n",
        "```"
      ]
    },
    {
      "cell_type": "code",
      "execution_count": null,
      "metadata": {
        "ExecuteTime": {
          "end_time": "2022-02-25T18:13:22.885977Z",
          "start_time": "2022-02-25T18:13:17.455804Z"
        },
        "id": "B4PEKklo5HuQ",
        "outputId": "37247416-c43d-4301-9ce7-422f6eef995c"
      },
      "outputs": [
        {
          "data": {
            "text/html": [
              "<div>\n",
              "<style scoped>\n",
              "    .dataframe tbody tr th:only-of-type {\n",
              "        vertical-align: middle;\n",
              "    }\n",
              "\n",
              "    .dataframe tbody tr th {\n",
              "        vertical-align: top;\n",
              "    }\n",
              "\n",
              "    .dataframe thead th {\n",
              "        text-align: right;\n",
              "    }\n",
              "</style>\n",
              "<table border=\"1\" class=\"dataframe\">\n",
              "  <thead>\n",
              "    <tr style=\"text-align: right;\">\n",
              "      <th></th>\n",
              "      <th>class</th>\n",
              "      <th>score</th>\n",
              "    </tr>\n",
              "  </thead>\n",
              "  <tbody>\n",
              "    <tr>\n",
              "      <th>0</th>\n",
              "      <td>A</td>\n",
              "      <td>84</td>\n",
              "    </tr>\n",
              "    <tr>\n",
              "      <th>1</th>\n",
              "      <td>A</td>\n",
              "      <td>59</td>\n",
              "    </tr>\n",
              "    <tr>\n",
              "      <th>2</th>\n",
              "      <td>A</td>\n",
              "      <td>49</td>\n",
              "    </tr>\n",
              "    <tr>\n",
              "      <th>3</th>\n",
              "      <td>A</td>\n",
              "      <td>57</td>\n",
              "    </tr>\n",
              "    <tr>\n",
              "      <th>4</th>\n",
              "      <td>A</td>\n",
              "      <td>82</td>\n",
              "    </tr>\n",
              "  </tbody>\n",
              "</table>\n",
              "</div>"
            ],
            "text/plain": [
              "  class  score\n",
              "0     A     84\n",
              "1     A     59\n",
              "2     A     49\n",
              "3     A     57\n",
              "4     A     82"
            ]
          },
          "execution_count": 1,
          "metadata": {},
          "output_type": "execute_result"
        }
      ],
      "source": [
        "import pandas as pd\n",
        "df = pd.read_csv('https://raw.githubusercontent.com/Datamanim/datarepo/main/scipy/scipy2.csv')\n",
        "df.head()"
      ]
    },
    {
      "cell_type": "code",
      "execution_count": null,
      "metadata": {
        "ExecuteTime": {
          "end_time": "2022-02-25T18:13:23.246115Z",
          "start_time": "2022-02-25T18:13:22.888149Z"
        },
        "tags": [
          "hide-cell"
        ],
        "id": "1OdvCD025HuQ",
        "outputId": "ec26b615-9e03-4ea5-e772-ada2c11481df"
      },
      "outputs": [
        {
          "name": "stdout",
          "output_type": "stream",
          "text": [
            "BartlettResult(statistic=0.26035880448930865, pvalue=0.609873758447687)\n",
            "FlignerResult(statistic=0.7281251154135562, pvalue=0.39349158741002765)\n",
            "FlignerResult(statistic=0.8272211734319945, pvalue=0.36307728836821906)\n",
            "LeveneResult(statistic=0.3145466542912649, pvalue=0.5751662820554713)\n",
            "LeveneResult(statistic=0.5086970687685527, pvalue=0.4760514837800255)\n"
          ]
        }
      ],
      "source": [
        "from scipy.stats import bartlett\n",
        "from scipy.stats import fligner\n",
        "from scipy.stats import levene\n",
        "\n",
        "a = df[df['class'] =='A'].score\n",
        "b = df[df['class'] =='B'].score\n",
        "\n",
        "print(bartlett(a,b))\n",
        "\n",
        "print(fligner(a,b,center='median')) #default\n",
        "print(fligner(a,b,center='mean'))\n",
        "\n",
        "print(levene(a,b, center='median')) #default\n",
        "print(levene(a,b,center='mean'))\n",
        "\n",
        "\n",
        "# 등분산검정의 방법은 3가지가 있다. pvalue값은 5% 유의수준이라면 0.05보다 작은 경우 \"각 그룹은 등분산이다\"라는 귀무가설을 기각한다\n",
        "\n",
        "# 아래의 결과를 보면 모두 0.05보다 크므로 귀무가설을 기각할수 없음을 알 수 있다."
      ]
    },
    {
      "cell_type": "markdown",
      "metadata": {
        "ExecuteTime": {
          "end_time": "2022-02-24T16:33:58.492036Z",
          "start_time": "2022-02-24T16:33:58.488608Z"
        },
        "id": "JJDiRUYS5HuR"
      },
      "source": [
        "```{admonition} Question\n",
        "**두개 학급의 시험성적에 대한 데이터이다 그룹간 등분산 검정을 시행하라**\n",
        "```"
      ]
    },
    {
      "cell_type": "code",
      "execution_count": null,
      "metadata": {
        "ExecuteTime": {
          "end_time": "2022-02-25T18:13:23.551811Z",
          "start_time": "2022-02-25T18:13:23.248163Z"
        },
        "id": "tl1N9lhi5HuR",
        "outputId": "e58e84f8-9061-4123-b1d7-31fd56543f4d"
      },
      "outputs": [
        {
          "data": {
            "text/html": [
              "<div>\n",
              "<style scoped>\n",
              "    .dataframe tbody tr th:only-of-type {\n",
              "        vertical-align: middle;\n",
              "    }\n",
              "\n",
              "    .dataframe tbody tr th {\n",
              "        vertical-align: top;\n",
              "    }\n",
              "\n",
              "    .dataframe thead th {\n",
              "        text-align: right;\n",
              "    }\n",
              "</style>\n",
              "<table border=\"1\" class=\"dataframe\">\n",
              "  <thead>\n",
              "    <tr style=\"text-align: right;\">\n",
              "      <th></th>\n",
              "      <th>class</th>\n",
              "      <th>score</th>\n",
              "    </tr>\n",
              "  </thead>\n",
              "  <tbody>\n",
              "    <tr>\n",
              "      <th>0</th>\n",
              "      <td>A</td>\n",
              "      <td>32</td>\n",
              "    </tr>\n",
              "    <tr>\n",
              "      <th>1</th>\n",
              "      <td>A</td>\n",
              "      <td>69</td>\n",
              "    </tr>\n",
              "    <tr>\n",
              "      <th>2</th>\n",
              "      <td>A</td>\n",
              "      <td>68</td>\n",
              "    </tr>\n",
              "    <tr>\n",
              "      <th>3</th>\n",
              "      <td>A</td>\n",
              "      <td>60</td>\n",
              "    </tr>\n",
              "    <tr>\n",
              "      <th>4</th>\n",
              "      <td>A</td>\n",
              "      <td>78</td>\n",
              "    </tr>\n",
              "  </tbody>\n",
              "</table>\n",
              "</div>"
            ],
            "text/plain": [
              "  class  score\n",
              "0     A     32\n",
              "1     A     69\n",
              "2     A     68\n",
              "3     A     60\n",
              "4     A     78"
            ]
          },
          "execution_count": 3,
          "metadata": {},
          "output_type": "execute_result"
        }
      ],
      "source": [
        "import pandas as pd\n",
        "df = pd.read_csv('https://raw.githubusercontent.com/Datamanim/datarepo/main/scipy/scipy3.csv')\n",
        "df.head()"
      ]
    },
    {
      "cell_type": "code",
      "execution_count": null,
      "metadata": {
        "ExecuteTime": {
          "end_time": "2022-02-25T18:13:23.566376Z",
          "start_time": "2022-02-25T18:13:23.553934Z"
        },
        "tags": [
          "hide-cell"
        ],
        "id": "RAIiQa_M5HuR",
        "outputId": "e9aafb09-f135-4145-98d6-56dcd87efe8f"
      },
      "outputs": [
        {
          "name": "stdout",
          "output_type": "stream",
          "text": [
            "BartlettResult(statistic=1.5116783794562305, pvalue=0.2188831590902503)\n",
            "\n",
            "FlignerResult(statistic=4.960366756026232, pvalue=0.025934706256615564)\n",
            "FlignerResult(statistic=4.94724457924667, pvalue=0.026132286002684912)\n",
            "LeveneResult(statistic=4.307122424591436, pvalue=0.03848734007752694)\n",
            "LeveneResult(statistic=4.342327020297874, pvalue=0.0377066528874248)\n"
          ]
        }
      ],
      "source": [
        "from scipy.stats import bartlett\n",
        "from scipy.stats import fligner\n",
        "from scipy.stats import levene\n",
        "\n",
        "a = df[df['class'] =='A'].score\n",
        "b = df[df['class'] =='B'].score\n",
        "\n",
        "print(bartlett(a,b))\n",
        "print()\n",
        "print(fligner(a,b,center='median')) #default\n",
        "print(fligner(a,b,center='mean'))\n",
        "\n",
        "print(levene(a,b, center='median')) #default\n",
        "print(levene(a,b,center='mean'))\n",
        "\n",
        "\n",
        "# bartlett 검정 결과 pvalue는 0.05보다 크고\n",
        "# fligner, levene 검정 결과 pvalue는 0.05보다 작다.\n",
        "# fligner, levene는 bartlett보다 좀더 robust하다는 특징이 있다.\n",
        "# 어떤 검정의 결과를 사용해야하는지는 정해지지 않았지만 상황에 따라 특징들을 서술할 수 있다면 문제 없지 않을까..."
      ]
    },
    {
      "cell_type": "markdown",
      "metadata": {
        "ExecuteTime": {
          "end_time": "2022-02-24T16:33:58.492036Z",
          "start_time": "2022-02-24T16:33:58.488608Z"
        },
        "id": "PzbIr9vn5HuR"
      },
      "source": [
        "```{admonition} Question\n",
        "**두개 학급의 시험성적에 대한 데이터이다 그룹간 등분산 검정을 시행하라**\n",
        "```"
      ]
    },
    {
      "cell_type": "code",
      "execution_count": null,
      "metadata": {
        "ExecuteTime": {
          "end_time": "2022-02-25T18:13:24.000615Z",
          "start_time": "2022-02-25T18:13:23.635322Z"
        },
        "id": "1o3D1emi5HuS",
        "outputId": "15b6353b-9d28-4497-ae0a-822dd9de1f7c"
      },
      "outputs": [
        {
          "data": {
            "text/html": [
              "<div>\n",
              "<style scoped>\n",
              "    .dataframe tbody tr th:only-of-type {\n",
              "        vertical-align: middle;\n",
              "    }\n",
              "\n",
              "    .dataframe tbody tr th {\n",
              "        vertical-align: top;\n",
              "    }\n",
              "\n",
              "    .dataframe thead th {\n",
              "        text-align: right;\n",
              "    }\n",
              "</style>\n",
              "<table border=\"1\" class=\"dataframe\">\n",
              "  <thead>\n",
              "    <tr style=\"text-align: right;\">\n",
              "      <th></th>\n",
              "      <th>A</th>\n",
              "      <th>B</th>\n",
              "    </tr>\n",
              "  </thead>\n",
              "  <tbody>\n",
              "    <tr>\n",
              "      <th>0</th>\n",
              "      <td>44</td>\n",
              "      <td>36</td>\n",
              "    </tr>\n",
              "    <tr>\n",
              "      <th>1</th>\n",
              "      <td>61</td>\n",
              "      <td>92</td>\n",
              "    </tr>\n",
              "    <tr>\n",
              "      <th>2</th>\n",
              "      <td>76</td>\n",
              "      <td>41</td>\n",
              "    </tr>\n",
              "    <tr>\n",
              "      <th>3</th>\n",
              "      <td>64</td>\n",
              "      <td>45</td>\n",
              "    </tr>\n",
              "    <tr>\n",
              "      <th>4</th>\n",
              "      <td>65</td>\n",
              "      <td>35</td>\n",
              "    </tr>\n",
              "  </tbody>\n",
              "</table>\n",
              "</div>"
            ],
            "text/plain": [
              "    A   B\n",
              "0  44  36\n",
              "1  61  92\n",
              "2  76  41\n",
              "3  64  45\n",
              "4  65  35"
            ]
          },
          "execution_count": 5,
          "metadata": {},
          "output_type": "execute_result"
        }
      ],
      "source": [
        "import pandas as pd\n",
        "df = pd.read_csv('https://raw.githubusercontent.com/Datamanim/datarepo/main/scipy/scipy6.csv')\n",
        "df.head()"
      ]
    },
    {
      "cell_type": "code",
      "execution_count": null,
      "metadata": {
        "ExecuteTime": {
          "end_time": "2022-02-25T18:13:24.241122Z",
          "start_time": "2022-02-25T18:13:24.234101Z"
        },
        "tags": [
          "hide-cell"
        ],
        "id": "zGPN0HMk5HuS",
        "outputId": "b62b048f-a918-4596-f341-d84c24f39efd"
      },
      "outputs": [
        {
          "name": "stdout",
          "output_type": "stream",
          "text": [
            "BartlettResult(statistic=2.3832178811043527, pvalue=0.12264468401745829)\n",
            "FlignerResult(statistic=5.124831619122788, pvalue=0.023585858890699054)\n",
            "LeveneResult(statistic=5.147914610463281, pvalue=0.023868975493455683)\n"
          ]
        }
      ],
      "source": [
        "from scipy.stats import bartlett\n",
        "from scipy.stats import fligner\n",
        "from scipy.stats import levene\n",
        "\n",
        "\n",
        "print(bartlett(df.A,df.B))\n",
        "print(fligner(df.A,df.B))\n",
        "print(levene(df.A,df.B))\n",
        "\n",
        "# BartlettResult -> 등분산이다  // FlignerResult , LeveneResult -> 등분산이 아니다"
      ]
    },
    {
      "cell_type": "markdown",
      "metadata": {
        "ExecuteTime": {
          "end_time": "2022-02-24T16:33:58.492036Z",
          "start_time": "2022-02-24T16:33:58.488608Z"
        },
        "id": "QnJrdarP5HuS"
      },
      "source": [
        "```{admonition} Question\n",
        "**두개 학급의 시험성적에 대한 데이터이다 그룹간 등분산 검정을 시행하라**\n",
        "```"
      ]
    },
    {
      "cell_type": "code",
      "execution_count": null,
      "metadata": {
        "ExecuteTime": {
          "end_time": "2022-02-25T18:40:13.076265Z",
          "start_time": "2022-02-25T18:40:13.040407Z"
        },
        "id": "MOxvgamO5HuS",
        "outputId": "42b88bc8-7bc1-43d2-d378-a7cafe28b939"
      },
      "outputs": [
        {
          "data": {
            "text/html": [
              "<div>\n",
              "<style scoped>\n",
              "    .dataframe tbody tr th:only-of-type {\n",
              "        vertical-align: middle;\n",
              "    }\n",
              "\n",
              "    .dataframe tbody tr th {\n",
              "        vertical-align: top;\n",
              "    }\n",
              "\n",
              "    .dataframe thead th {\n",
              "        text-align: right;\n",
              "    }\n",
              "</style>\n",
              "<table border=\"1\" class=\"dataframe\">\n",
              "  <thead>\n",
              "    <tr style=\"text-align: right;\">\n",
              "      <th></th>\n",
              "      <th>A</th>\n",
              "      <th>B</th>\n",
              "    </tr>\n",
              "  </thead>\n",
              "  <tbody>\n",
              "    <tr>\n",
              "      <th>0</th>\n",
              "      <td>74</td>\n",
              "      <td>30.0</td>\n",
              "    </tr>\n",
              "    <tr>\n",
              "      <th>1</th>\n",
              "      <td>30</td>\n",
              "      <td>59.0</td>\n",
              "    </tr>\n",
              "    <tr>\n",
              "      <th>2</th>\n",
              "      <td>35</td>\n",
              "      <td>69.0</td>\n",
              "    </tr>\n",
              "    <tr>\n",
              "      <th>3</th>\n",
              "      <td>45</td>\n",
              "      <td>88.0</td>\n",
              "    </tr>\n",
              "    <tr>\n",
              "      <th>4</th>\n",
              "      <td>74</td>\n",
              "      <td>68.0</td>\n",
              "    </tr>\n",
              "  </tbody>\n",
              "</table>\n",
              "</div>"
            ],
            "text/plain": [
              "    A     B\n",
              "0  74  30.0\n",
              "1  30  59.0\n",
              "2  35  69.0\n",
              "3  45  88.0\n",
              "4  74  68.0"
            ]
          },
          "execution_count": 54,
          "metadata": {},
          "output_type": "execute_result"
        }
      ],
      "source": [
        "import pandas as pd\n",
        "df = pd.read_csv('https://raw.githubusercontent.com/Datamanim/datarepo/main/scipy/scipy5.csv')\n",
        "df.head()"
      ]
    },
    {
      "cell_type": "code",
      "execution_count": null,
      "metadata": {
        "ExecuteTime": {
          "end_time": "2022-02-25T18:40:13.298980Z",
          "start_time": "2022-02-25T18:40:13.285791Z"
        },
        "tags": [
          "hide-cell"
        ],
        "id": "2TLb8bUh5HuS",
        "outputId": "4622b4b7-32f1-4a4b-a200-6ac8d744a072"
      },
      "outputs": [
        {
          "name": "stdout",
          "output_type": "stream",
          "text": [
            "BartlettResult(statistic=4.119254834772108, pvalue=0.04239774936707851)\n",
            "BartlettResult(statistic=3.024072692680794, pvalue=0.08203720607748438)\n",
            "\n",
            "FlignerResult(statistic=372.546422798273, pvalue=5.22112391778621e-83)\n",
            "FlignerResult(statistic=7.710320541528441, pvalue=0.005490600130793619)\n",
            "\n",
            "LeveneResult(statistic=nan, pvalue=nan)\n",
            "LeveneResult(statistic=8.008595918808284, pvalue=0.004851565077063284)\n"
          ]
        }
      ],
      "source": [
        "from scipy.stats import bartlett\n",
        "from scipy.stats import fligner\n",
        "from scipy.stats import levene\n",
        "\n",
        "\n",
        "print(bartlett(df.A,df.B))\n",
        "print(bartlett(df.A,df.B.dropna()))\n",
        "print()\n",
        "\n",
        "print(fligner(df.A,df.B))\n",
        "print(fligner(df.A,df.B.dropna()))\n",
        "print()\n",
        "\n",
        "print(levene(df.A,df.B))\n",
        "print(levene(df.A,df.B.dropna()))\n",
        "\n",
        "# bartlett ,fligner 두 검정은 nan값을 지우고 사용해야한다. LeveneResult의 경우 nan값이 포함된다면 연산이 제대로 안된다"
      ]
    },
    {
      "cell_type": "markdown",
      "metadata": {
        "id": "T7HpxKuA5HuT"
      },
      "source": [
        "## 독립표본 검정 (Independent)\n",
        "\n",
        "독립 표본 t검정의 경우 집단의 정규성에 따라 접근방식이 다르다    \n",
        "정규성 검정은 shapiro , anderson(샘플 5000개 이상) 을 통해 확인\n",
        "\n",
        "**데이터가 정규성을 가지는 경우(모수적 검정)**    \n",
        "두 집단의 등분산 검정을 한 후      \n",
        "from scipy.stats import ttest_ind     \n",
        "`등분산일 경우 `     \n",
        "$\n",
        "\\begin{align}\n",
        "t = \\dfrac{\\bar{x}_1 - \\bar{x}_2}{s \\cdot \\sqrt{\\dfrac{1}{N_1}+\\dfrac{1}{N_2}}}\n",
        "\\tag{equal_var=True}\n",
        "\\end{align}\n",
        "$\n",
        "             \n",
        "   \n",
        "`등분산이 아닐 경우`    \n",
        "$\n",
        "\\begin{align}\n",
        "t = \\dfrac{\\bar{x}_1 - \\bar{x}_2}{\\sqrt{\\dfrac{s_1^2}{N_1} + \\dfrac{s_2^2}{N_2}}}\n",
        "\\tag{equal_var=False , welch t-test}\n",
        "\\end{align}\n",
        "$\n",
        "\n",
        "\n",
        "**데이터가 정규성을 가지지 않는 경우(비모수적 검정)**\n"
      ]
    },
    {
      "cell_type": "markdown",
      "metadata": {
        "ExecuteTime": {
          "end_time": "2022-02-24T16:33:58.492036Z",
          "start_time": "2022-02-24T16:33:58.488608Z"
        },
        "id": "DaV6cfu65HuT"
      },
      "source": [
        "```{admonition} Question\n",
        "**두개 학급의 시험성적에 대한 데이터이다. 두 학습의 시험 평균(비모수검정의 경우 중위값)은 동일하다 말할 수 있는지 확인 하라**\n",
        "```"
      ]
    },
    {
      "cell_type": "code",
      "execution_count": null,
      "metadata": {
        "ExecuteTime": {
          "end_time": "2022-02-25T18:42:35.450890Z",
          "start_time": "2022-02-25T18:42:35.037237Z"
        },
        "id": "GsEtMKNE5HuT",
        "outputId": "06aca9e4-75b5-40cc-f8f8-e2d911da68b5"
      },
      "outputs": [
        {
          "data": {
            "image/png": "[encoded data removed]",
            "text/plain": [
              "<Figure size 432x288 with 1 Axes>"
            ]
          },
          "metadata": {
            "needs_background": "light"
          },
          "output_type": "display_data"
        }
      ],
      "source": [
        "import pandas as pd\n",
        "import matplotlib.pyplot as plt\n",
        "df1 = pd.read_csv('https://raw.githubusercontent.com/Datamanim/datarepo/main/scipy/ind1.csv')\n",
        "df2 = pd.read_csv('https://raw.githubusercontent.com/Datamanim/datarepo/main/scipy/ind2.csv')\n",
        "\n",
        "\n",
        "plt.hist(df1,label='df1',alpha=0.4)\n",
        "plt.hist(df2,label=\"df2\",alpha=0.4)\n",
        "plt.xlabel('Score bins')\n",
        "plt.ylabel('Counts')\n",
        "plt.legend()\n",
        "plt.show()"
      ]
    },
    {
      "cell_type": "code",
      "execution_count": null,
      "metadata": {
        "ExecuteTime": {
          "end_time": "2022-02-25T18:13:26.363350Z",
          "start_time": "2022-02-25T18:13:26.350467Z"
        },
        "tags": [
          "hide-cell"
        ],
        "id": "MLveZsVj5HuT"
      },
      "outputs": [],
      "source": [
        "from scipy.stats import shapiro\n",
        "print(shapiro(df1))\n",
        "print(shapiro(df2))\n",
        "\n",
        "# 두 그룹 모두 Shapiro검정 결과 귀무가설(정규성을 가진다)을 기각 하지 못한다. 두 그룹은 정규성을 가진다.\n",
        "\n",
        "from scipy.stats import levene\n",
        "print()\n",
        "print(levene(df1['data'],df2['data']))\n",
        "# 두그룹은 levene 검정을 확인해 본결과 pvalue 는 0.11로 귀무가실을 기각히지 못한다. 그러므로 등분산은 가진다\n",
        "\n",
        "from scipy.stats import ttest_ind\n",
        "print()\n",
        "print(ttest_ind(df1,df2,equal_var=True))\n",
        "\n",
        "# 등분산이기 때문에 equal_var=True 파라미터를 주고 ttest_ind 모듈을 이용하여 t test를 진행한다\n",
        "# pvalue는 0.006이므로 귀무가설(각 그룹의 평균값은 동일하다)를 기각하고 대립가설을 채택한다"
      ]
    },
    {
      "cell_type": "markdown",
      "metadata": {
        "ExecuteTime": {
          "end_time": "2022-02-24T16:33:58.492036Z",
          "start_time": "2022-02-24T16:33:58.488608Z"
        },
        "id": "zmzRs9xr5HuT"
      },
      "source": [
        "```{admonition} Question\n",
        "**두개 학급의 시험성적에 대한 데이터이다. 두 학습의 시험 평균(비모수검정의 경우 중위값)은 동일하다 말할 수 있는지 확인 하라**\n",
        "```"
      ]
    },
    {
      "cell_type": "code",
      "execution_count": null,
      "metadata": {
        "ExecuteTime": {
          "end_time": "2022-02-25T18:43:12.430875Z",
          "start_time": "2022-02-25T18:43:12.008833Z"
        },
        "id": "4BiJhGhI5HuT",
        "outputId": "30ce0b0c-fc77-4e87-97e5-dff75af0b9c3"
      },
      "outputs": [
        {
          "data": {
            "image/png": "[encoded data removed]",
            "text/plain": [
              "<Figure size 432x288 with 1 Axes>"
            ]
          },
          "metadata": {
            "needs_background": "light"
          },
          "output_type": "display_data"
        }
      ],
      "source": [
        "import pandas as pd\n",
        "import matplotlib.pyplot as plt\n",
        "df = pd.read_csv('https://raw.githubusercontent.com/Datamanim/datarepo/main/scipy/scipy5.csv')\n",
        "\n",
        "plt.hist(df['A'],alpha=0.5,label='A')\n",
        "plt.hist(df['B'].dropna(),alpha=0.5,label=\"B\")\n",
        "plt.xlabel('Score bins')\n",
        "plt.ylabel('Counts')\n",
        "plt.legend()\n",
        "plt.show()"
      ]
    },
    {
      "cell_type": "code",
      "execution_count": null,
      "metadata": {
        "ExecuteTime": {
          "end_time": "2022-02-25T18:13:26.363350Z",
          "start_time": "2022-02-25T18:13:26.350467Z"
        },
        "tags": [
          "hide-cell"
        ],
        "id": "SzgCXLXv5HuT",
        "outputId": "f558ff6e-dd3a-486a-feb9-0da5d65bde31"
      },
      "outputs": [
        {
          "name": "stdout",
          "output_type": "stream",
          "text": [
            "ShapiroResult(statistic=0.9639444351196289, pvalue=0.00013572089665103704)\n",
            "ShapiroResult(statistic=0.93753981590271, pvalue=6.175894240456614e-10)\n",
            "\n",
            "MannwhitneyuResult(statistic=26964.0, pvalue=0.4903729188075009)\n",
            "RanksumsResult(statistic=0.02446942170858557, pvalue=0.9804781743503561)\n"
          ]
        }
      ],
      "source": [
        "# 데이터 분포를 확인해보니 정규성을 위해하는 것 처럼 보인다.\n",
        "# 두그룹중 한 그룹만 정규성을 위배해도 독립표본 t-검정을 할 수 없다\n",
        "\n",
        "print(shapiro(df['B'].dropna()))\n",
        "print(shapiro(df['A']))\n",
        "\n",
        "# 두 그룹 모두 Shapiro검정 결과 귀무가설(정규성을 가진다)을 기각한다. 정규성을 위배한다. 그러므로 비모수 검정을 실시해야한다.\n",
        "\n",
        "from scipy.stats import mannwhitneyu , ranksums\n",
        "print()\n",
        "print(mannwhitneyu(df['A'],df['B'].dropna()))\n",
        "print(ranksums(df['A'],df['B'].dropna()))\n",
        "\n",
        "# Mann-Whitney U Test 검정 결과 pvalue는 0.49값으로 귀무가설(평균은같다)를 기각 할 수 없다. 두그룹의 평균은 동일하다 말할 수 있다.\n",
        "# 윌콕슨 순위합 검정(ranksums)으로 확인 해봐도 같은 결과가 나온다."
      ]
    },
    {
      "cell_type": "markdown",
      "metadata": {
        "ExecuteTime": {
          "end_time": "2022-02-24T16:33:58.492036Z",
          "start_time": "2022-02-24T16:33:58.488608Z"
        },
        "id": "dfWL8UKv5HuU"
      },
      "source": [
        "```{admonition} Question\n",
        "**두개 그룹에 대한 수치형 데이터이다. 두 그룹의 평균은 동일하다 말할 수 있는지 검정하라**\n",
        "```"
      ]
    },
    {
      "cell_type": "code",
      "execution_count": null,
      "metadata": {
        "ExecuteTime": {
          "end_time": "2022-02-25T18:43:46.033264Z",
          "start_time": "2022-02-25T18:43:45.600768Z"
        },
        "scrolled": false,
        "id": "fk2tKEo95HuU",
        "outputId": "24603729-aece-4ae2-dafb-c507d4956dbc"
      },
      "outputs": [
        {
          "data": {
            "image/png": "[encoded data removed]",
            "text/plain": [
              "<Figure size 432x288 with 1 Axes>"
            ]
          },
          "metadata": {
            "needs_background": "light"
          },
          "output_type": "display_data"
        }
      ],
      "source": [
        "import pandas as pd\n",
        "import matplotlib.pyplot as plt\n",
        "df = pd.read_csv('https://raw.githubusercontent.com/Datamanim/datarepo/main/scipy/ind3.csv')\n",
        "\n",
        "plt.hist(df[df['group'] =='a'].data,label='A',alpha=0.5)\n",
        "plt.hist(df[df['group'] =='b'].data,label=\"B\",alpha=0.5)\n",
        "plt.xlabel('Score bins')\n",
        "plt.ylabel('Counts')\n",
        "plt.legend()\n",
        "plt.show()"
      ]
    },
    {
      "cell_type": "code",
      "execution_count": null,
      "metadata": {
        "ExecuteTime": {
          "end_time": "2022-02-25T18:43:48.962500Z",
          "start_time": "2022-02-25T18:43:48.954334Z"
        },
        "tags": [
          "hide-cell"
        ],
        "id": "lXuWoyCf5HuU",
        "outputId": "cd99e831-5cc8-47c8-ba87-1b3290d16071"
      },
      "outputs": [
        {
          "name": "stdout",
          "output_type": "stream",
          "text": [
            "ShapiroResult(statistic=0.9834123253822327, pvalue=0.1473984718322754)\n",
            "ShapiroResult(statistic=0.9831849336624146, pvalue=0.47018250823020935)\n",
            "두 그룹 모두 Shapiro검정 결과 귀무가설(정규성을 가진다)을 기각 하지 못한다. 두 그룹은 정규성을 가진다.\n",
            "\n",
            "LeveneResult(statistic=6.185601018015722, pvalue=0.013750484571911342)\n",
            "두그룹은 levene 검정을 확인해 본결과 pvalue 는 0.013로 귀무가실을 기각하고 대립가설을 채택한다. 두 그룹은 등분산이 아니다\n",
            "\n",
            "Ttest_indResult(statistic=-2.1949470315829265, pvalue=0.029512802991767915)\n",
            "등분산이 아니기 때문에 equal_var=False 파라미터를 주고 ttest_ind 모듈을 이용하여 t test를 진행한다\n",
            "pvalue는 0.02이므로 귀무가설(각 그룹의 평균값은 동일하다)를 기각하고 대립가설을 채택한다\n",
            "결론적으로 두 그룹은 모두 정규성을 가지지만 등분산은 아니며 평균은 동일하다고 보기 어렵다\n",
            "\n"
          ]
        }
      ],
      "source": [
        "a = df[df['group'] =='a'].data\n",
        "b = df[df['group'] =='b'].data\n",
        "\n",
        "\n",
        "from scipy.stats import shapiro\n",
        "print(shapiro(a))\n",
        "print(shapiro(b))\n",
        "\n",
        "print(\"두 그룹 모두 Shapiro검정 결과 귀무가설(정규성을 가진다)을 기각 하지 못한다. 두 그룹은 정규성을 가진다.\")\n",
        "\n",
        "from scipy.stats import levene\n",
        "print()\n",
        "print(levene(a,b))\n",
        "print(\"두그룹은 levene 검정을 확인해 본결과 pvalue 는 0.013로 귀무가실을 기각하고 대립가설을 채택한다. 두 그룹은 등분산이 아니다\")\n",
        "\n",
        "from scipy.stats import ttest_ind\n",
        "print()\n",
        "print(ttest_ind(a,b,equal_var=False))\n",
        "\n",
        "print('''등분산이 아니기 때문에 equal_var=False 파라미터를 주고 ttest_ind 모듈을 이용하여 t test를 진행한다\n",
        "pvalue는 0.02이므로 귀무가설(각 그룹의 평균값은 동일하다)를 기각하고 대립가설을 채택한다\n",
        "결론적으로 두 그룹은 모두 정규성을 가지지만 등분산은 아니며 평균은 동일하다고 보기 어렵다\n",
        "''')"
      ]
    },
    {
      "cell_type": "markdown",
      "metadata": {
        "ExecuteTime": {
          "end_time": "2022-02-24T16:33:58.492036Z",
          "start_time": "2022-02-24T16:33:58.488608Z"
        },
        "id": "GVf2-JD55HuU"
      },
      "source": [
        "```{admonition} Question\n",
        "**두개 그룹에 대한 수치형 데이터이다. 두 그룹의 평균은 동일하다 말할 수 있는지 검정하라**\n",
        "```"
      ]
    },
    {
      "cell_type": "code",
      "execution_count": null,
      "metadata": {
        "ExecuteTime": {
          "end_time": "2022-02-25T18:44:12.313404Z",
          "start_time": "2022-02-25T18:44:11.872182Z"
        },
        "id": "wu87ZAjX5HuU",
        "outputId": "fece9150-53a4-4e7c-ef4b-22c13d1d4bbf"
      },
      "outputs": [
        {
          "data": {
            "image/png": "[encoded data removed]",
            "text/plain": [
              "<Figure size 432x288 with 1 Axes>"
            ]
          },
          "metadata": {
            "needs_background": "light"
          },
          "output_type": "display_data"
        }
      ],
      "source": [
        "import pandas as pd\n",
        "import matplotlib.pyplot as plt\n",
        "df = pd.read_csv('https://raw.githubusercontent.com/Datamanim/datarepo/main/scipy/ind6.csv')\n",
        "\n",
        "plt.hist(df['a'],alpha=0.5,label='A')\n",
        "plt.hist(df['b'],alpha=0.5,label=\"B\")\n",
        "plt.xlabel('Score bins')\n",
        "plt.ylabel('Counts')\n",
        "plt.legend()\n",
        "plt.show()"
      ]
    },
    {
      "cell_type": "code",
      "execution_count": null,
      "metadata": {
        "ExecuteTime": {
          "end_time": "2022-02-25T18:44:12.818488Z",
          "start_time": "2022-02-25T18:44:12.811432Z"
        },
        "tags": [
          "hide-cell"
        ],
        "id": "B0splKJI5HuV",
        "outputId": "f673b2d4-6a64-48fa-cba4-28d7f4b29c8f"
      },
      "outputs": [
        {
          "name": "stdout",
          "output_type": "stream",
          "text": [
            "ShapiroResult(statistic=0.9865895509719849, pvalue=0.28390026092529297)\n",
            "ShapiroResult(statistic=0.9854329228401184, pvalue=0.5937777757644653)\n",
            "두 그룹 모두 Shapiro검정 결과 귀무가설(정규성을 가진다)을 기각 하지 못한다. 두 그룹은 정규성을 가진다.\n",
            "\n",
            "LeveneResult(statistic=3.9862856894158347, pvalue=0.04731495612868527)\n",
            "두그룹은 levene 검정을 확인해 본결과 pvalue 는 0.047로 귀무가실을 기각하고 대립가설을 채택한다. 두 그룹은 등분산이 아니다\n",
            "\n",
            "Ttest_indResult(statistic=0.0015963310698567188, pvalue=0.9987289046092704)\n",
            "등분산이 아니기 때문에 equal_var=False 파라미터를 주고 ttest_ind 모듈을 이용하여 t test를 진행한다\n",
            "pvalue는 0.99이므로 귀무가설(각 그룹의 평균값은 동일하다)를 기각하기 어렵다\n",
            "결론적으로 두 그룹은 모두 정규성을 가지지만 등분산은 아니며 평균은 동일하다고 볼 수 있다\n",
            "\n"
          ]
        }
      ],
      "source": [
        "a = df['a'].dropna()\n",
        "b = df['b'].dropna()\n",
        "\n",
        "\n",
        "from scipy.stats import shapiro\n",
        "print(shapiro(a))\n",
        "print(shapiro(b))\n",
        "\n",
        "print(\"두 그룹 모두 Shapiro검정 결과 귀무가설(정규성을 가진다)을 기각 하지 못한다. 두 그룹은 정규성을 가진다.\")\n",
        "\n",
        "from scipy.stats import levene\n",
        "print()\n",
        "print(levene(a,b))\n",
        "print(\"두그룹은 levene 검정을 확인해 본결과 pvalue 는 0.047로 귀무가실을 기각하고 대립가설을 채택한다. 두 그룹은 등분산이 아니다\")\n",
        "\n",
        "from scipy.stats import ttest_ind\n",
        "print()\n",
        "print(ttest_ind(a,b,equal_var=False))\n",
        "\n",
        "print('''등분산이 아니기 때문에 equal_var=False 파라미터를 주고 ttest_ind 모듈을 이용하여 t test를 진행한다\n",
        "pvalue는 0.99이므로 귀무가설(각 그룹의 평균값은 동일하다)를 기각하기 어렵다\n",
        "결론적으로 두 그룹은 모두 정규성을 가지지만 등분산은 아니며 평균은 동일하다고 볼 수 있다\n",
        "''')"
      ]
    },
    {
      "cell_type": "markdown",
      "metadata": {
        "id": "n6472s2Q5HuV"
      },
      "source": [
        "## 대응표본 t 검정 (paired)"
      ]
    },
    {
      "cell_type": "markdown",
      "metadata": {
        "ExecuteTime": {
          "end_time": "2022-02-24T16:33:58.492036Z",
          "start_time": "2022-02-24T16:33:58.488608Z"
        },
        "id": "Apesgyll5HuV"
      },
      "source": [
        "```{admonition} Question\n",
        "**특정 질병 집단의 투약 전후의 혈류량 변화를 나타낸 데이터이다. 투약 전후의 변화가 있는지 검정하라**\n",
        "```"
      ]
    },
    {
      "cell_type": "code",
      "execution_count": null,
      "metadata": {
        "ExecuteTime": {
          "end_time": "2022-02-25T19:17:25.268791Z",
          "start_time": "2022-02-25T19:17:25.120400Z"
        },
        "scrolled": true,
        "id": "RE_T1ZlR5HuV",
        "outputId": "7879c834-5bd0-496a-d343-014698521cd5"
      },
      "outputs": [
        {
          "data": {
            "image/png": "[encoded data removed]",
            "text/plain": [
              "<Figure size 432x288 with 2 Axes>"
            ]
          },
          "metadata": {
            "needs_background": "light"
          },
          "output_type": "display_data"
        }
      ],
      "source": [
        "import pandas as pd\n",
        "import matplotlib.pyplot as plt\n",
        "df = pd.read_csv('https://raw.githubusercontent.com/Datamanim/datarepo/main/scipy/rel2.csv')\n",
        "\n",
        "fig ,ax = plt.subplots(1,2)\n",
        "ax[0].boxplot(df['before'])\n",
        "ax[1].boxplot(df['after'])\n",
        "ax[0].set_xticklabels(['before'])\n",
        "ax[1].set_xticklabels(['after'])\n",
        "ax[0].set_ylim(100,350)\n",
        "ax[1].set_ylim(100,350)\n",
        "ax[1].get_yaxis().set_visible(False)\n",
        "ax[0].set_ylabel('value')\n",
        "plt.show()"
      ]
    },
    {
      "cell_type": "code",
      "execution_count": null,
      "metadata": {
        "ExecuteTime": {
          "end_time": "2022-02-25T18:44:12.818488Z",
          "start_time": "2022-02-25T18:44:12.811432Z"
        },
        "scrolled": true,
        "tags": [
          "hide-cell"
        ],
        "id": "bg_2bOXT5HuV",
        "outputId": "476df00a-4dd2-484b-eb8b-45a7285ab8fe"
      },
      "outputs": [
        {
          "name": "stdout",
          "output_type": "stream",
          "text": [
            "ShapiroResult(statistic=0.9907894134521484, pvalue=0.6065712571144104)\n",
            "ShapiroResult(statistic=0.9916958808898926, pvalue=0.6923439502716064)\n",
            "\n",
            "LeveneResult(statistic=0.06427968690211128, pvalue=0.8000741651677987)\n",
            "Ttest_relResult(statistic=-2.5535473487670677, pvalue=0.011926744724546513)\n"
          ]
        }
      ],
      "source": [
        "from scipy.stats import shapiro\n",
        "\n",
        "before = df['before']\n",
        "after = df['after']\n",
        "print(shapiro(before))\n",
        "print(shapiro(after))\n",
        "\n",
        "from scipy.stats import levene\n",
        "print()\n",
        "print(levene(before,after))\n",
        "\n",
        "\n",
        "from scipy.stats import ttest_rel\n",
        "print(ttest_rel(before,after))\n",
        "\n",
        "\n",
        "# 정규성 가짐 , 등분산성 가짐 -> 대응표본의 경우 등분산성이 파라미터에 영향을 주지않음,\n",
        "# 대응표본 t 검정 결과 pvalue는 0.01로 유의수준 5%내에서 귀무가설을 기각한다 (전 후 평균은 같지 않다)"
      ]
    },
    {
      "cell_type": "markdown",
      "metadata": {
        "ExecuteTime": {
          "end_time": "2022-02-24T16:33:58.492036Z",
          "start_time": "2022-02-24T16:33:58.488608Z"
        },
        "id": "2nIDK4qO5HuW"
      },
      "source": [
        "```{admonition} Question\n",
        "**특정 질병 집단의 투약 전후의 혈류량 변화를 나타낸 데이터이다. 투약 전후의 변화가 있는지 검정하라**\n",
        "```"
      ]
    },
    {
      "cell_type": "code",
      "execution_count": null,
      "metadata": {
        "ExecuteTime": {
          "end_time": "2022-02-25T19:33:41.172568Z",
          "start_time": "2022-02-25T19:33:41.008614Z"
        },
        "id": "SxnOcn_j5HuW",
        "outputId": "9f320d66-53ba-4a89-f9d9-1ace756bc55e"
      },
      "outputs": [
        {
          "data": {
            "image/png": "[encoded data removed]",
            "text/plain": [
              "<Figure size 432x288 with 2 Axes>"
            ]
          },
          "metadata": {
            "needs_background": "light"
          },
          "output_type": "display_data"
        }
      ],
      "source": [
        "import pandas as pd\n",
        "import matplotlib.pyplot as plt\n",
        "df = pd.read_csv('https://raw.githubusercontent.com/Datamanim/datarepo/main/scipy/rel3.csv')\n",
        "\n",
        "fig ,ax = plt.subplots(1,2)\n",
        "ax[0].boxplot(df['before'])\n",
        "ax[1].boxplot(df['after'])\n",
        "ax[0].set_xticklabels(['before'])\n",
        "ax[1].set_xticklabels(['after'])\n",
        "ax[0].set_ylim(130,300)\n",
        "ax[1].set_ylim(130,300)\n",
        "ax[1].get_yaxis().set_visible(False)\n",
        "ax[0].set_ylabel('value')\n",
        "plt.show()"
      ]
    },
    {
      "cell_type": "code",
      "execution_count": null,
      "metadata": {
        "ExecuteTime": {
          "end_time": "2022-02-25T18:44:12.818488Z",
          "start_time": "2022-02-25T18:44:12.811432Z"
        },
        "tags": [
          "hide-cell"
        ],
        "id": "vbknb6QA5HuW",
        "outputId": "091eb2db-8d1b-4273-f278-cd692d741a59"
      },
      "outputs": [
        {
          "name": "stdout",
          "output_type": "stream",
          "text": [
            "ShapiroResult(statistic=0.9920635223388672, pvalue=0.7270597219467163)\n",
            "ShapiroResult(statistic=0.992019534111023, pvalue=0.7229286432266235)\n",
            "\n",
            "LeveneResult(statistic=1.3463330638203617, pvalue=0.24708279045237214)\n",
            "Ttest_relResult(statistic=0.188900575991026, pvalue=0.8504925317234707)\n",
            "\n"
          ]
        }
      ],
      "source": [
        "from scipy.stats import shapiro\n",
        "\n",
        "before = df['before']\n",
        "after = df['after']\n",
        "print(shapiro(before))\n",
        "print(shapiro(after))\n",
        "\n",
        "from scipy.stats import levene\n",
        "print()\n",
        "print(levene(before,after))\n",
        "\n",
        "\n",
        "from scipy.stats import ttest_rel\n",
        "print(ttest_rel(before,after))\n",
        "print()\n",
        "\n",
        "\n",
        "\n",
        "# 정규성 가짐 , 등분산성 가짐 -> 대응표본의 경우 등분산성이 파라미터에 영향을 주지않음,\n",
        "# 대응표본 t 검정 결과 pvalue는 0.85로 유의수준 5%내에서 귀무가설을 기각할 수 없다 (전 후 평균은 같다)"
      ]
    },
    {
      "cell_type": "markdown",
      "metadata": {
        "ExecuteTime": {
          "end_time": "2022-02-24T16:33:58.492036Z",
          "start_time": "2022-02-24T16:33:58.488608Z"
        },
        "id": "xEK62GFI5HuW"
      },
      "source": [
        "```{admonition} Question\n",
        "**특정 집단의 학습 전후 시험 성적 변화를 나타낸 데이터이다. 시험 전과 후에 차이가 있는지 검정하라**\n",
        "```"
      ]
    },
    {
      "cell_type": "code",
      "execution_count": null,
      "metadata": {
        "ExecuteTime": {
          "end_time": "2022-02-25T19:33:43.171445Z",
          "start_time": "2022-02-25T19:33:43.027865Z"
        },
        "id": "0D7M2M-j5HuW",
        "outputId": "e46ae2fe-dc00-4756-8d01-78f3caa4cec9"
      },
      "outputs": [
        {
          "data": {
            "image/png": "[encoded data removed]",
            "text/plain": [
              "<Figure size 432x288 with 2 Axes>"
            ]
          },
          "metadata": {
            "needs_background": "light"
          },
          "output_type": "display_data"
        }
      ],
      "source": [
        "import pandas as pd\n",
        "import matplotlib.pyplot as plt\n",
        "df = pd.read_csv('https://raw.githubusercontent.com/Datamanim/datarepo/main/scipy/rel1.csv')\n",
        "\n",
        "fig ,ax = plt.subplots(1,2)\n",
        "ax[0].boxplot(df['before'])\n",
        "ax[1].boxplot(df['after'])\n",
        "ax[0].set_xticklabels(['before'])\n",
        "ax[1].set_xticklabels(['after'])\n",
        "ax[0].set_ylim(145,170)\n",
        "ax[1].set_ylim(145,170)\n",
        "ax[1].get_yaxis().set_visible(False)\n",
        "ax[0].set_ylabel('value')\n",
        "plt.show()"
      ]
    },
    {
      "cell_type": "code",
      "execution_count": null,
      "metadata": {
        "ExecuteTime": {
          "end_time": "2022-02-25T18:44:12.818488Z",
          "start_time": "2022-02-25T18:44:12.811432Z"
        },
        "tags": [
          "hide-cell"
        ],
        "id": "TaPu4pTa5HuW",
        "outputId": "eec075ec-6635-4e8a-c4f7-63a2a572ac7d"
      },
      "outputs": [
        {
          "name": "stdout",
          "output_type": "stream",
          "text": [
            "ShapiroResult(statistic=0.9173726439476013, pvalue=0.001897332607768476)\n",
            "ShapiroResult(statistic=0.9448971152305603, pvalue=0.021141061559319496)\n",
            "\n",
            "LeveneResult(statistic=0.14329522146179022, pvalue=0.7058456563194881)\n",
            "Ttest_relResult(statistic=-2.187138399865287, pvalue=0.03353471744538162)\n",
            "\n",
            "WilcoxonResult(statistic=437.0, pvalue=0.12098409484052809)\n"
          ]
        }
      ],
      "source": [
        "from scipy.stats import shapiro\n",
        "\n",
        "before = df['before']\n",
        "after = df['after']\n",
        "print(shapiro(before))\n",
        "print(shapiro(after))\n",
        "\n",
        "from scipy.stats import levene\n",
        "print()\n",
        "print(levene(before,after))\n",
        "\n",
        "\n",
        "from scipy.stats import ttest_rel\n",
        "print(ttest_rel(before,after))\n",
        "print()\n",
        "\n",
        "\n",
        "from scipy.stats import wilcoxon\n",
        "print(wilcoxon(before,after))\n",
        "# 정규성을 가지지 않음 , 등분산성 가짐 -> 대응표본의 경우 등분산성이 파라미터에 영향을 주지않음,\n",
        "# 정규성을 가지지 않으므로 대응 표본 검정중 비모수 검정인 윌콕슨 부호순위 검정을 진행해야한다 (scipy.stats.wilcoxon)\n",
        "\n",
        "# t-test의 경우 전후 변화에 대한 귀무가설을 기각되지만 윌콕슨 부호순위 검정을 통해서 확인해봤을때 귀무가설을 기각할 수 없다"
      ]
    },
    {
      "cell_type": "markdown",
      "metadata": {
        "ExecuteTime": {
          "end_time": "2022-02-24T16:33:58.492036Z",
          "start_time": "2022-02-24T16:33:58.488608Z"
        },
        "id": "BW-4b_Yz5HuX"
      },
      "source": [
        "```{admonition} Question\n",
        "**한 기계 부품의 rpm 수치를 두가지 다른 상황에서 측정했다.(총 70세트) b 상황이 a 상황보다 rpm값이 높다고 말할 수 있는지 검정하라**\n",
        "```"
      ]
    },
    {
      "cell_type": "code",
      "execution_count": null,
      "metadata": {
        "ExecuteTime": {
          "end_time": "2022-02-25T20:02:41.615581Z",
          "start_time": "2022-02-25T20:02:41.456753Z"
        },
        "id": "uMrm3gRp5HuX",
        "outputId": "4deda480-8275-4392-f9f6-2b8ed507e05d"
      },
      "outputs": [
        {
          "data": {
            "image/png": "[encoded data removed]",
            "text/plain": [
              "<Figure size 432x288 with 2 Axes>"
            ]
          },
          "metadata": {
            "needs_background": "light"
          },
          "output_type": "display_data"
        }
      ],
      "source": [
        "import pandas as pd\n",
        "import matplotlib.pyplot as plt\n",
        "df = pd.read_csv('https://raw.githubusercontent.com/Datamanim/datarepo/main/scipy/rel4.csv')\n",
        "\n",
        "fig ,ax = plt.subplots(1,2)\n",
        "ax[0].boxplot(df[df['group']=='a'].rpm)\n",
        "ax[1].boxplot(df[df['group']=='b'].rpm)\n",
        "ax[0].set_xticklabels(['a'])\n",
        "ax[1].set_xticklabels(['b'])\n",
        "ax[0].set_ylim(430,600)\n",
        "ax[1].set_ylim(430,600)\n",
        "ax[1].get_yaxis().set_visible(False)\n",
        "ax[0].set_ylabel('rpm')\n",
        "plt.show()"
      ]
    },
    {
      "cell_type": "code",
      "execution_count": null,
      "metadata": {
        "ExecuteTime": {
          "end_time": "2022-02-25T18:44:12.818488Z",
          "start_time": "2022-02-25T18:44:12.811432Z"
        },
        "tags": [
          "hide-cell"
        ],
        "id": "cle5E2dS5HuX",
        "outputId": "1acf3d93-e632-4524-82c8-2d4205a12f4e"
      },
      "outputs": [
        {
          "name": "stdout",
          "output_type": "stream",
          "text": [
            "ShapiroResult(statistic=0.9907213449478149, pvalue=0.8884111046791077)\n",
            "ShapiroResult(statistic=0.984674870967865, pvalue=0.5505106449127197)\n",
            "\n",
            "LeveneResult(statistic=0.06716114122680159, pvalue=0.7959020864923277)\n",
            "Ttest_relResult(statistic=-1.9018108294460812, pvalue=0.9693143365355352)\n",
            "\n"
          ]
        }
      ],
      "source": [
        "from scipy.stats import shapiro\n",
        "\n",
        "a = df[df['group']=='a'].rpm\n",
        "b =  df[df['group']=='b'].rpm\n",
        "print(shapiro(a))\n",
        "print(shapiro(b))\n",
        "\n",
        "from scipy.stats import levene\n",
        "print()\n",
        "print(levene(a,b))\n",
        "\n",
        "\n",
        "from scipy.stats import ttest_rel\n",
        "print(ttest_rel(a,b,alternative='greater'))\n",
        "print()\n",
        "\n",
        "\n",
        "# 정규성을 가짐 , 등분산성 가짐 -> 대응표본의 경우 등분산성이 파라미터에 영향을 주지않음,\n",
        "# a,b,alternative='greater' 의 의미는 a >b가 대립가설이 된다는 것이다. p-value는 0.96으로\n",
        "# 귀무가설인 a<=b를 기각하지 못한다. 그러므로 b상황이 a 상황보다 rpm 값이 크다고 이야기 할수 있다."
      ]
    },
    {
      "cell_type": "markdown",
      "metadata": {
        "id": "nr5HhJI55HuX"
      },
      "source": [
        "## 카이제곱 검정 (교차분석)\n",
        "`일원 카이제곱검정 (chisquare , 카이제곱 적합도 검정)`       \n",
        "한 개의 요인에 의해 k개의 범주를 가질때 이론적 분포를 따르는지 검정    \n",
        "`이원 카이제곱검정 (chi2_contingency ,fisher_exact(빈도수 5개 이하 셀이 20% 이상일때) , 카이제곱독립검정)`     \n",
        "모집단이 두개의 변수에 의해 범주화 되었을 때, 두 변수들 사이의 관계가 독립인지 아닌지 검정"
      ]
    },
    {
      "cell_type": "markdown",
      "metadata": {
        "ExecuteTime": {
          "end_time": "2022-02-24T16:33:58.492036Z",
          "start_time": "2022-02-24T16:33:58.488608Z"
        },
        "id": "PXeTc5Si5HuX"
      },
      "source": [
        "```{admonition} Question\n",
        "**144회 주사위를 던졌을때, 각 눈금별로 나온 횟수를 나타낸다. 이 데이터는 주사위의 분포에서 나올 가능성이 있는지 검정하라**\n",
        "```"
      ]
    },
    {
      "cell_type": "code",
      "execution_count": null,
      "metadata": {
        "ExecuteTime": {
          "end_time": "2022-02-28T11:57:17.606120Z",
          "start_time": "2022-02-28T11:57:17.166963Z"
        },
        "id": "KIJW7Ikf5HuX",
        "outputId": "c109c043-bbb2-4ad0-a052-a8f1a8f1696b"
      },
      "outputs": [
        {
          "data": {
            "image/png": "[encoded data removed]",
            "text/plain": [
              "<Figure size 432x288 with 1 Axes>"
            ]
          },
          "metadata": {
            "needs_background": "light"
          },
          "output_type": "display_data"
        }
      ],
      "source": [
        "import pandas as pd\n",
        "import matplotlib.pyplot as plt\n",
        "df = pd.read_csv('https://raw.githubusercontent.com/Datamanim/datarepo/main/scipy/dice.csv')\n",
        "\n",
        "plt.bar(df.dice_number,df.counts)\n",
        "plt.xlabel('dice value')\n",
        "plt.ylabel('counts')\n",
        "plt.show()"
      ]
    },
    {
      "cell_type": "code",
      "execution_count": null,
      "metadata": {
        "ExecuteTime": {
          "end_time": "2022-02-28T11:57:17.611990Z",
          "start_time": "2022-02-28T11:57:17.607957Z"
        },
        "tags": [
          "hide-cell"
        ],
        "id": "_IBJv0la5HuY",
        "outputId": "980bd82d-836c-493c-f3a4-b5e9faa0c2e8"
      },
      "outputs": [
        {
          "name": "stdout",
          "output_type": "stream",
          "text": [
            "Power_divergenceResult(statistic=2.333333333333333, pvalue=0.8013589222076911)\n"
          ]
        }
      ],
      "source": [
        "# 주사위 눈금의 발생확률은 1/6으로 모두 동일하다. 그러므로 각 눈금의 기댓값은 실제 발생한 모든값을 6으로 나눈 값이다.\n",
        "\n",
        "from scipy.stats import chisquare\n",
        "df['expected'] = (df['counts'].sum()/6).astype('int')\n",
        "print(chisquare(df.counts,df.expected))\n",
        "\n",
        "# p-value는 0.8로 귀무가설인 \"각 주사위 눈금 발생비율은 동일함\"을 기각 할 수 없다"
      ]
    },
    {
      "cell_type": "markdown",
      "metadata": {
        "ExecuteTime": {
          "end_time": "2022-02-24T16:33:58.492036Z",
          "start_time": "2022-02-24T16:33:58.488608Z"
        },
        "id": "L896hs_k5HuY"
      },
      "source": [
        "```{admonition} Question\n",
        "**다음 데이터는 어떤 집단의 왼손잡이, 오른손 잡이의 숫자를 나타낸다. 인간의 왼손잡이와 오른손잡이의 비율을 0.2:0.8로 알려져있다.     \n",
        "이 집단에서 왼손과 오른손 잡이의 비율이 적합한지 검정하라**\n",
        "```"
      ]
    },
    {
      "cell_type": "code",
      "execution_count": null,
      "metadata": {
        "ExecuteTime": {
          "end_time": "2022-02-28T11:59:52.395754Z",
          "start_time": "2022-02-28T11:59:51.907352Z"
        },
        "id": "8_54WA2f5HuY",
        "outputId": "122b7505-5fa9-4fdc-f899-5176fe1392d2"
      },
      "outputs": [
        {
          "data": {
            "text/html": [
              "<div>\n",
              "<style scoped>\n",
              "    .dataframe tbody tr th:only-of-type {\n",
              "        vertical-align: middle;\n",
              "    }\n",
              "\n",
              "    .dataframe tbody tr th {\n",
              "        vertical-align: top;\n",
              "    }\n",
              "\n",
              "    .dataframe thead th {\n",
              "        text-align: right;\n",
              "    }\n",
              "</style>\n",
              "<table border=\"1\" class=\"dataframe\">\n",
              "  <thead>\n",
              "    <tr style=\"text-align: right;\">\n",
              "      <th></th>\n",
              "      <th>hands</th>\n",
              "    </tr>\n",
              "  </thead>\n",
              "  <tbody>\n",
              "    <tr>\n",
              "      <th>0</th>\n",
              "      <td>right</td>\n",
              "    </tr>\n",
              "    <tr>\n",
              "      <th>1</th>\n",
              "      <td>right</td>\n",
              "    </tr>\n",
              "    <tr>\n",
              "      <th>2</th>\n",
              "      <td>left</td>\n",
              "    </tr>\n",
              "    <tr>\n",
              "      <th>3</th>\n",
              "      <td>right</td>\n",
              "    </tr>\n",
              "    <tr>\n",
              "      <th>4</th>\n",
              "      <td>right</td>\n",
              "    </tr>\n",
              "  </tbody>\n",
              "</table>\n",
              "</div>"
            ],
            "text/plain": [
              "   hands\n",
              "0  right\n",
              "1  right\n",
              "2   left\n",
              "3  right\n",
              "4  right"
            ]
          },
          "execution_count": 18,
          "metadata": {},
          "output_type": "execute_result"
        }
      ],
      "source": [
        "import pandas as pd\n",
        "import matplotlib.pyplot as plt\n",
        "df = pd.read_csv('https://raw.githubusercontent.com/Datamanim/datarepo/main/scipy/hands2.csv')\n",
        "df.head()"
      ]
    },
    {
      "cell_type": "code",
      "execution_count": null,
      "metadata": {
        "ExecuteTime": {
          "end_time": "2022-02-28T11:57:17.611990Z",
          "start_time": "2022-02-28T11:57:17.607957Z"
        },
        "tags": [
          "hide-cell"
        ],
        "id": "DPQ-wyH45HuY",
        "outputId": "732e61ba-e3ab-4cf4-aa0a-6023b48e1e95"
      },
      "outputs": [
        {
          "data": {
            "text/html": [
              "<div>\n",
              "<style scoped>\n",
              "    .dataframe tbody tr th:only-of-type {\n",
              "        vertical-align: middle;\n",
              "    }\n",
              "\n",
              "    .dataframe tbody tr th {\n",
              "        vertical-align: top;\n",
              "    }\n",
              "\n",
              "    .dataframe thead th {\n",
              "        text-align: right;\n",
              "    }\n",
              "</style>\n",
              "<table border=\"1\" class=\"dataframe\">\n",
              "  <thead>\n",
              "    <tr style=\"text-align: right;\">\n",
              "      <th></th>\n",
              "      <th>hands</th>\n",
              "      <th>expected</th>\n",
              "    </tr>\n",
              "  </thead>\n",
              "  <tbody>\n",
              "    <tr>\n",
              "      <th>right</th>\n",
              "      <td>420</td>\n",
              "      <td>400</td>\n",
              "    </tr>\n",
              "    <tr>\n",
              "      <th>left</th>\n",
              "      <td>80</td>\n",
              "      <td>100</td>\n",
              "    </tr>\n",
              "  </tbody>\n",
              "</table>\n",
              "</div>"
            ],
            "text/plain": [
              "       hands  expected\n",
              "right    420       400\n",
              "left      80       100"
            ]
          },
          "metadata": {},
          "output_type": "display_data"
        },
        {
          "name": "stdout",
          "output_type": "stream",
          "text": [
            "Power_divergenceResult(statistic=5.0, pvalue=0.025347318677468325)\n"
          ]
        }
      ],
      "source": [
        "# 데이터에서\n",
        "\n",
        "target = df.hands.value_counts().to_frame()\n",
        "target['expected'] = [int(target.hands.sum()*0.8),int(target.hands.sum()*0.2)]\n",
        "display(target)\n",
        "\n",
        "from scipy.stats import chisquare\n",
        "print(chisquare(target.hands,target.expected))\n",
        "\n",
        "# 알려진 비율로 계산된 기댓값을 구하여 카이제곱검정을 시행한다.\n",
        "# p-value는 0.02로 유의수준 5%이내에서 귀무가설을 기각하고 대립가설을 채택한다\n",
        "# 즉 주어진 집단의 왼손, 오른손 비율은 0.2, 0.8으로 볼 수 없다"
      ]
    },
    {
      "cell_type": "markdown",
      "metadata": {
        "ExecuteTime": {
          "end_time": "2022-02-24T16:33:58.492036Z",
          "start_time": "2022-02-24T16:33:58.488608Z"
        },
        "id": "307aXhcA5HuY"
      },
      "source": [
        "```{admonition} Question\n",
        "**다음 데이터는 국민 기초체력을 조사한 데이터이다. 성별과 등급이 독립적인지 검정하라**\n",
        "```"
      ]
    },
    {
      "cell_type": "code",
      "execution_count": null,
      "metadata": {
        "ExecuteTime": {
          "end_time": "2022-02-28T12:21:15.589004Z",
          "start_time": "2022-02-28T12:21:15.123799Z"
        },
        "id": "BXmhS6a15HuY",
        "outputId": "ce0ae720-ee65-42d7-a842-fca7adc6d441"
      },
      "outputs": [
        {
          "data": {
            "text/html": [
              "<div>\n",
              "<style scoped>\n",
              "    .dataframe tbody tr th:only-of-type {\n",
              "        vertical-align: middle;\n",
              "    }\n",
              "\n",
              "    .dataframe tbody tr th {\n",
              "        vertical-align: top;\n",
              "    }\n",
              "\n",
              "    .dataframe thead th {\n",
              "        text-align: right;\n",
              "    }\n",
              "</style>\n",
              "<table border=\"1\" class=\"dataframe\">\n",
              "  <thead>\n",
              "    <tr style=\"text-align: right;\">\n",
              "      <th></th>\n",
              "      <th>측정나이</th>\n",
              "      <th>측정회원성별</th>\n",
              "      <th>신장 : cm</th>\n",
              "      <th>체중 : kg</th>\n",
              "      <th>체지방율 : %</th>\n",
              "      <th>이완기혈압(최저) : mmHg</th>\n",
              "      <th>수축기혈압(최고) : mmHg</th>\n",
              "      <th>악력D : kg</th>\n",
              "      <th>앉아윗몸앞으로굽히기 : cm</th>\n",
              "      <th>교차윗몸일으키기 : 회</th>\n",
              "      <th>제자리 멀리뛰기 : cm</th>\n",
              "      <th>등급</th>\n",
              "    </tr>\n",
              "  </thead>\n",
              "  <tbody>\n",
              "    <tr>\n",
              "      <th>0</th>\n",
              "      <td>59.0</td>\n",
              "      <td>M</td>\n",
              "      <td>175.0</td>\n",
              "      <td>70.6</td>\n",
              "      <td>19.2</td>\n",
              "      <td>91.0</td>\n",
              "      <td>150.0</td>\n",
              "      <td>40.6</td>\n",
              "      <td>12.2</td>\n",
              "      <td>30.0</td>\n",
              "      <td>179.0</td>\n",
              "      <td>C</td>\n",
              "    </tr>\n",
              "    <tr>\n",
              "      <th>1</th>\n",
              "      <td>40.0</td>\n",
              "      <td>F</td>\n",
              "      <td>161.4</td>\n",
              "      <td>45.8</td>\n",
              "      <td>21.7</td>\n",
              "      <td>62.0</td>\n",
              "      <td>119.0</td>\n",
              "      <td>22.1</td>\n",
              "      <td>16.0</td>\n",
              "      <td>32.0</td>\n",
              "      <td>165.0</td>\n",
              "      <td>B</td>\n",
              "    </tr>\n",
              "    <tr>\n",
              "      <th>2</th>\n",
              "      <td>27.0</td>\n",
              "      <td>M</td>\n",
              "      <td>176.6</td>\n",
              "      <td>84.8</td>\n",
              "      <td>19.2</td>\n",
              "      <td>87.0</td>\n",
              "      <td>153.0</td>\n",
              "      <td>45.9</td>\n",
              "      <td>13.2</td>\n",
              "      <td>61.0</td>\n",
              "      <td>216.0</td>\n",
              "      <td>B</td>\n",
              "    </tr>\n",
              "    <tr>\n",
              "      <th>3</th>\n",
              "      <td>38.0</td>\n",
              "      <td>M</td>\n",
              "      <td>167.6</td>\n",
              "      <td>76.7</td>\n",
              "      <td>24.7</td>\n",
              "      <td>63.0</td>\n",
              "      <td>132.0</td>\n",
              "      <td>43.6</td>\n",
              "      <td>16.0</td>\n",
              "      <td>45.0</td>\n",
              "      <td>231.0</td>\n",
              "      <td>A</td>\n",
              "    </tr>\n",
              "    <tr>\n",
              "      <th>4</th>\n",
              "      <td>21.0</td>\n",
              "      <td>M</td>\n",
              "      <td>165.2</td>\n",
              "      <td>66.2</td>\n",
              "      <td>21.5</td>\n",
              "      <td>83.0</td>\n",
              "      <td>106.0</td>\n",
              "      <td>33.5</td>\n",
              "      <td>10.6</td>\n",
              "      <td>46.0</td>\n",
              "      <td>198.0</td>\n",
              "      <td>C</td>\n",
              "    </tr>\n",
              "  </tbody>\n",
              "</table>\n",
              "</div>"
            ],
            "text/plain": [
              "   측정나이 측정회원성별  신장 : cm  체중 : kg  체지방율 : %  이완기혈압(최저) : mmHg  \\\n",
              "0  59.0      M    175.0     70.6      19.2              91.0   \n",
              "1  40.0      F    161.4     45.8      21.7              62.0   \n",
              "2  27.0      M    176.6     84.8      19.2              87.0   \n",
              "3  38.0      M    167.6     76.7      24.7              63.0   \n",
              "4  21.0      M    165.2     66.2      21.5              83.0   \n",
              "\n",
              "   수축기혈압(최고) : mmHg  악력D : kg  앉아윗몸앞으로굽히기 : cm  교차윗몸일으키기 : 회  제자리 멀리뛰기 : cm 등급  \n",
              "0             150.0      40.6             12.2          30.0          179.0  C  \n",
              "1             119.0      22.1             16.0          32.0          165.0  B  \n",
              "2             153.0      45.9             13.2          61.0          216.0  B  \n",
              "3             132.0      43.6             16.0          45.0          231.0  A  \n",
              "4             106.0      33.5             10.6          46.0          198.0  C  "
            ]
          },
          "execution_count": 21,
          "metadata": {},
          "output_type": "execute_result"
        }
      ],
      "source": [
        "import pandas as pd\n",
        "import matplotlib.pyplot as plt\n",
        "df = pd.read_csv('https://raw.githubusercontent.com/Datamanim/datarepo/main/body/body.csv')\n",
        "df.head()"
      ]
    },
    {
      "cell_type": "code",
      "execution_count": null,
      "metadata": {
        "ExecuteTime": {
          "end_time": "2022-02-28T11:57:17.611990Z",
          "start_time": "2022-02-28T11:57:17.607957Z"
        },
        "tags": [
          "hide-cell"
        ],
        "id": "190BkLAO5HuY",
        "outputId": "abf9ff04-586c-460a-bcdf-867cdb65d830"
      },
      "outputs": [
        {
          "data": {
            "text/html": [
              "<div>\n",
              "<style scoped>\n",
              "    .dataframe tbody tr th:only-of-type {\n",
              "        vertical-align: middle;\n",
              "    }\n",
              "\n",
              "    .dataframe tbody tr th {\n",
              "        vertical-align: top;\n",
              "    }\n",
              "\n",
              "    .dataframe thead th {\n",
              "        text-align: right;\n",
              "    }\n",
              "</style>\n",
              "<table border=\"1\" class=\"dataframe\">\n",
              "  <thead>\n",
              "    <tr style=\"text-align: right;\">\n",
              "      <th>등급</th>\n",
              "      <th>A</th>\n",
              "      <th>B</th>\n",
              "      <th>C</th>\n",
              "      <th>D</th>\n",
              "    </tr>\n",
              "    <tr>\n",
              "      <th>측정회원성별</th>\n",
              "      <th></th>\n",
              "      <th></th>\n",
              "      <th></th>\n",
              "      <th></th>\n",
              "    </tr>\n",
              "  </thead>\n",
              "  <tbody>\n",
              "    <tr>\n",
              "      <th>F</th>\n",
              "      <td>1484</td>\n",
              "      <td>1130</td>\n",
              "      <td>1147</td>\n",
              "      <td>1120</td>\n",
              "    </tr>\n",
              "    <tr>\n",
              "      <th>M</th>\n",
              "      <td>1865</td>\n",
              "      <td>2219</td>\n",
              "      <td>2202</td>\n",
              "      <td>2229</td>\n",
              "    </tr>\n",
              "  </tbody>\n",
              "</table>\n",
              "</div>"
            ],
            "text/plain": [
              "등급         A     B     C     D\n",
              "측정회원성별                        \n",
              "F       1484  1130  1147  1120\n",
              "M       1865  2219  2202  2229"
            ]
          },
          "metadata": {},
          "output_type": "display_data"
        },
        {
          "name": "stdout",
          "output_type": "stream",
          "text": [
            "(120.06233631119409, 7.481892813401677e-26, 3, array([[1220.25, 1220.25, 1220.25, 1220.25],\n",
            "       [2128.75, 2128.75, 2128.75, 2128.75]]))\n",
            "7.481892813401677e-26\n"
          ]
        }
      ],
      "source": [
        "cdf = pd.crosstab(df['측정회원성별'],df['등급'])\n",
        "display(cdf)\n",
        "\n",
        "from scipy.stats import chi2_contingency\n",
        "print(chi2_contingency(cdf))\n",
        "chi2 , p ,dof, expected = chi2_contingency(cdf)\n",
        "print(p)\n",
        "\n",
        "# p-value는 0에 근접하므로 측정회원성별 - 등급은 연관이 없다는 귀무가설을 기각하고, 성별관 체력 등급간에는 관련이 있다고 볼 수 있다."
      ]
    },
    {
      "cell_type": "markdown",
      "metadata": {
        "ExecuteTime": {
          "end_time": "2022-02-24T16:33:58.492036Z",
          "start_time": "2022-02-24T16:33:58.488608Z"
        },
        "id": "UzgOyM295HuY"
      },
      "source": [
        "```{admonition} Question\n",
        "**성별에 따른 동아리 활동 참석 비율을 나타낸 데이터이다. 성별과 참석간에 관련이 있는지 검정하라**\n",
        "```"
      ]
    },
    {
      "cell_type": "code",
      "execution_count": null,
      "metadata": {
        "ExecuteTime": {
          "end_time": "2022-02-28T12:35:57.099045Z",
          "start_time": "2022-02-28T12:35:57.063404Z"
        },
        "id": "EdQQQ-jJ5HuZ",
        "outputId": "e2e610d4-5f32-4a42-c4b4-151ef7273a2e"
      },
      "outputs": [
        {
          "data": {
            "text/html": [
              "<div>\n",
              "<style scoped>\n",
              "    .dataframe tbody tr th:only-of-type {\n",
              "        vertical-align: middle;\n",
              "    }\n",
              "\n",
              "    .dataframe tbody tr th {\n",
              "        vertical-align: top;\n",
              "    }\n",
              "\n",
              "    .dataframe thead th {\n",
              "        text-align: right;\n",
              "    }\n",
              "</style>\n",
              "<table border=\"1\" class=\"dataframe\">\n",
              "  <thead>\n",
              "    <tr style=\"text-align: right;\">\n",
              "      <th></th>\n",
              "      <th>불참</th>\n",
              "      <th>참석</th>\n",
              "      <th>총합</th>\n",
              "    </tr>\n",
              "  </thead>\n",
              "  <tbody>\n",
              "    <tr>\n",
              "      <th>남성</th>\n",
              "      <td>4</td>\n",
              "      <td>2</td>\n",
              "      <td>6</td>\n",
              "    </tr>\n",
              "    <tr>\n",
              "      <th>여성</th>\n",
              "      <td>1</td>\n",
              "      <td>9</td>\n",
              "      <td>10</td>\n",
              "    </tr>\n",
              "    <tr>\n",
              "      <th>총합</th>\n",
              "      <td>5</td>\n",
              "      <td>11</td>\n",
              "      <td>16</td>\n",
              "    </tr>\n",
              "  </tbody>\n",
              "</table>\n",
              "</div>"
            ],
            "text/plain": [
              "    불참  참석  총합\n",
              "남성   4   2   6\n",
              "여성   1   9  10\n",
              "총합   5  11  16"
            ]
          },
          "execution_count": 3,
          "metadata": {},
          "output_type": "execute_result"
        }
      ],
      "source": [
        "import pandas as pd\n",
        "import matplotlib.pyplot as plt\n",
        "df = pd.read_csv('https://raw.githubusercontent.com/Datamanim/datarepo/main/scipy/fe2.csv',index_col=0)\n",
        "df"
      ]
    },
    {
      "cell_type": "code",
      "execution_count": null,
      "metadata": {
        "ExecuteTime": {
          "end_time": "2022-02-28T12:39:29.509049Z",
          "start_time": "2022-02-28T12:39:29.498500Z"
        },
        "tags": [
          "hide-cell"
        ],
        "id": "Wm_56Ndb5HuZ",
        "outputId": "b555a6d5-10a9-481f-b7b5-523abbf01b7d"
      },
      "outputs": [
        {
          "data": {
            "text/html": [
              "<div>\n",
              "<style scoped>\n",
              "    .dataframe tbody tr th:only-of-type {\n",
              "        vertical-align: middle;\n",
              "    }\n",
              "\n",
              "    .dataframe tbody tr th {\n",
              "        vertical-align: top;\n",
              "    }\n",
              "\n",
              "    .dataframe thead th {\n",
              "        text-align: right;\n",
              "    }\n",
              "</style>\n",
              "<table border=\"1\" class=\"dataframe\">\n",
              "  <thead>\n",
              "    <tr style=\"text-align: right;\">\n",
              "      <th></th>\n",
              "      <th>불참</th>\n",
              "      <th>참석</th>\n",
              "    </tr>\n",
              "  </thead>\n",
              "  <tbody>\n",
              "    <tr>\n",
              "      <th>남성</th>\n",
              "      <td>4</td>\n",
              "      <td>2</td>\n",
              "    </tr>\n",
              "    <tr>\n",
              "      <th>여성</th>\n",
              "      <td>1</td>\n",
              "      <td>9</td>\n",
              "    </tr>\n",
              "  </tbody>\n",
              "</table>\n",
              "</div>"
            ],
            "text/plain": [
              "    불참  참석\n",
              "남성   4   2\n",
              "여성   1   9"
            ]
          },
          "metadata": {},
          "output_type": "display_data"
        },
        {
          "name": "stdout",
          "output_type": "stream",
          "text": [
            "(3.277575757575758, 0.07023259819117404, 1, array([[1.875, 4.125],\n",
            "       [3.125, 6.875]]))\n",
            "0.07023259819117404\n",
            "(18.0, 0.035714285714285726)\n"
          ]
        }
      ],
      "source": [
        "cdf = df.iloc[:-1,:-1]\n",
        "display(cdf)\n",
        "\n",
        "from scipy.stats import chi2_contingency,fisher_exact\n",
        "print(chi2_contingency(cdf))\n",
        "chi2 , p ,dof, expected = chi2_contingency(cdf)\n",
        "print(p)\n",
        "\n",
        "# 카이 제곱 검정시 p-value는 0.07로 귀무가설을 기각하지 못한다. 성별과 참석여부는 관련이 없다(독립이다).\n",
        "\n",
        "# 하지만 5보다 작은 셀이 20%가 넘어가므로(75%) 피셔의 정확검정을 사용 해야한다.\n",
        "# 피셔의 정확검정시 0.03의 값을 가지므로 귀무가설을 기각한다. 성별과 참석여부는 관련이 있다. (독립이 아니다))\n",
        "print(fisher_exact(cdf))"
      ]
    }
  ],
  "metadata": {
    "celltoolbar": "Edit Metadata",
    "kernelspec": {
      "display_name": "Python 3 (ipykernel)",
      "language": "python",
      "name": "python3"
    },
    "language_info": {
      "codemirror_mode": {
        "name": "ipython",
        "version": 3
      },
      "file_extension": ".py",
      "mimetype": "text/x-python",
      "name": "python",
      "nbconvert_exporter": "python",
      "pygments_lexer": "ipython3",
      "version": "3.8.17"
    },
    "colab": {
      "provenance": [],
      "include_colab_link": true
    }
  },
  "nbformat": 4,
  "nbformat_minor": 0
}