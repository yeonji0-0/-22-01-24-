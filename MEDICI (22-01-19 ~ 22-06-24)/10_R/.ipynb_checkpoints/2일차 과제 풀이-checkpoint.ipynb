{
 "cells": [
  {
   "cell_type": "markdown",
   "id": "c6a96cef",
   "metadata": {},
   "source": [
    " 1.  사용자로부터 입력 받은 시간이 정각인지 판별하라\n",
    " 예) 시간 입력: 13:00   정각입니다."
   ]
  },
  {
   "cell_type": "code",
   "execution_count": 1,
   "id": "2599accf",
   "metadata": {},
   "outputs": [
    {
     "name": "stdout",
     "output_type": "stream",
     "text": [
      "시간 입력:13:00\n"
     ]
    },
    {
     "data": {
      "text/html": [
       "'정각입니다.'"
      ],
      "text/latex": [
       "'정각입니다.'"
      ],
      "text/markdown": [
       "'정각입니다.'"
      ],
      "text/plain": [
       "[1] \"정각입니다.\""
      ]
     },
     "metadata": {},
     "output_type": "display_data"
    }
   ],
   "source": [
    "a = readline(\"시간 입력:\")\n",
    "result = strsplit(a, split=':')[[1]][2]\n",
    "ifelse( result=='00', '정각입니다.', '정각아님')"
   ]
  },
  {
   "cell_type": "markdown",
   "id": "2ceaf1c2",
   "metadata": {},
   "source": [
    "2. 정수를 인자로 받아 해당정수의 약수를 반환하는 함수를 만드시요.\n",
    " 예) 10 이면 1,2,5,10 약수를 반환"
   ]
  },
  {
   "cell_type": "code",
   "execution_count": 2,
   "id": "011342bf",
   "metadata": {},
   "outputs": [
    {
     "data": {
      "text/html": [
       "<ol class=list-inline>\n",
       "\t<li>1</li>\n",
       "\t<li>2</li>\n",
       "\t<li>5</li>\n",
       "\t<li>10</li>\n",
       "</ol>\n"
      ],
      "text/latex": [
       "\\begin{enumerate*}\n",
       "\\item 1\n",
       "\\item 2\n",
       "\\item 5\n",
       "\\item 10\n",
       "\\end{enumerate*}\n"
      ],
      "text/markdown": [
       "1. 1\n",
       "2. 2\n",
       "3. 5\n",
       "4. 10\n",
       "\n",
       "\n"
      ],
      "text/plain": [
       "[1]  1  2  5 10"
      ]
     },
     "metadata": {},
     "output_type": "display_data"
    }
   ],
   "source": [
    "yaksu <- function(num) \n",
    "{\n",
    "    v = c()\n",
    "    for(i in 1:num){\n",
    "        if (num %% i == 0){\n",
    "#             cat(i, \" \")\n",
    "            v = append( v , i)\n",
    "        }\n",
    "    }\n",
    "    return(v)\n",
    "}\n",
    "result = yaksu(10)\n",
    "result"
   ]
  },
  {
   "cell_type": "markdown",
   "id": "7342f182",
   "metadata": {},
   "source": [
    " 3.  1~10 까지의 벡터에서 마지막 데이터를 제외한 벡터를 구하시요.\n"
   ]
  },
  {
   "cell_type": "code",
   "execution_count": 3,
   "id": "05b237dd",
   "metadata": {},
   "outputs": [
    {
     "data": {
      "text/html": [
       "<ol class=list-inline>\n",
       "\t<li>1</li>\n",
       "\t<li>2</li>\n",
       "\t<li>3</li>\n",
       "\t<li>4</li>\n",
       "\t<li>5</li>\n",
       "\t<li>6</li>\n",
       "\t<li>7</li>\n",
       "\t<li>8</li>\n",
       "\t<li>9</li>\n",
       "</ol>\n"
      ],
      "text/latex": [
       "\\begin{enumerate*}\n",
       "\\item 1\n",
       "\\item 2\n",
       "\\item 3\n",
       "\\item 4\n",
       "\\item 5\n",
       "\\item 6\n",
       "\\item 7\n",
       "\\item 8\n",
       "\\item 9\n",
       "\\end{enumerate*}\n"
      ],
      "text/markdown": [
       "1. 1\n",
       "2. 2\n",
       "3. 3\n",
       "4. 4\n",
       "5. 5\n",
       "6. 6\n",
       "7. 7\n",
       "8. 8\n",
       "9. 9\n",
       "\n",
       "\n"
      ],
      "text/plain": [
       "[1] 1 2 3 4 5 6 7 8 9"
      ]
     },
     "metadata": {},
     "output_type": "display_data"
    }
   ],
   "source": [
    "t = 1:10 # 자체가 벡터라 괄호 필요 없음\n",
    "t[seq(1,length(t)-1)]"
   ]
  },
  {
   "cell_type": "markdown",
   "id": "3ce90d5d",
   "metadata": {},
   "source": [
    "4. n 개의 정수를 키보드로 입력받아(예 입력:2 10 5 20) 해당 숫자의 가장 큰값을 구하시요. \n"
   ]
  },
  {
   "cell_type": "code",
   "execution_count": 4,
   "id": "b739d78b",
   "metadata": {},
   "outputs": [
    {
     "name": "stdout",
     "output_type": "stream",
     "text": [
      "일단 입력:11 45 85 6\n",
      "[1] 85\n"
     ]
    }
   ],
   "source": [
    "t  = readline(\"일단 입력:\")\n",
    "sResult = strsplit(t, split=' ')[[1]]\n",
    "sResult = as.integer( sResult )\n",
    "# print( sResult)\n",
    "mx = sResult[1]\n",
    "for(i in sResult[2:length(sResult)])\n",
    "{\n",
    "    if( mx<i)\n",
    "        mx = i\n",
    "}\n",
    "print( mx )"
   ]
  },
  {
   "cell_type": "markdown",
   "id": "43bac96e",
   "metadata": {},
   "source": [
    "5. 정수를 키보드로 입력받아 아래 와 같이 별을 출력하시요 ( 예 3입력 )\n",
    "#     *\n",
    "#    * *\n",
    "#   * * *"
   ]
  },
  {
   "cell_type": "code",
   "execution_count": null,
   "id": "19b57aa6",
   "metadata": {},
   "outputs": [],
   "source": []
  },
  {
   "cell_type": "markdown",
   "id": "5a758695",
   "metadata": {},
   "source": [
    "   6. stock= c(\"SK하이닉스\", \"삼성전자\", \"LG전자\")\n",
    " 각 문자열의 길이를 아래처럼 출력하시요\n",
    " 6\n",
    " 4\n",
    " 4"
   ]
  },
  {
   "cell_type": "code",
   "execution_count": 7,
   "id": "5a1b242a",
   "metadata": {},
   "outputs": [
    {
     "name": "stdout",
     "output_type": "stream",
     "text": [
      "[1] 6 4 4\n",
      "6\n",
      "4\n",
      "4\n"
     ]
    }
   ],
   "source": [
    "stock = c(\"SK하이닉스\", \"삼성전자\", \"LG전자\")\n",
    "cc = nchar(stock)\n",
    "print(cc)\n",
    "for( n in nchar(stock)){\n",
    "    cat(n, fill = T)\n",
    "}"
   ]
  },
  {
   "cell_type": "markdown",
   "id": "94a3b1d5",
   "metadata": {},
   "source": [
    " 7. 사용자로부터 달러, 엔, 유로, 또는 위안 금액을 입력받은 후 이를 원으로 변환하는 프로그램을 작성하라. \n",
    " 각 통화별 환율은 다음과 같다. 사용자는 100 달러, 1000 엔, 13 유로, 100 위안과 같이 금액과 통화명 사이에 \n",
    " 공백을 넣어 입력한다고 가정한다. (함수를 만드시요)\n"
   ]
  },
  {
   "cell_type": "code",
   "execution_count": 9,
   "id": "b96c813e",
   "metadata": {},
   "outputs": [
    {
     "name": "stdout",
     "output_type": "stream",
     "text": [
      "입력: 20 달러\n"
     ]
    },
    {
     "data": {
      "text/html": [
       "23340"
      ],
      "text/latex": [
       "23340"
      ],
      "text/markdown": [
       "23340"
      ],
      "text/plain": [
       "[1] 23340"
      ]
     },
     "metadata": {},
     "output_type": "display_data"
    }
   ],
   "source": [
    "money_conv <- function(won) {\n",
    "  s = strsplit(won, split=' ')[[1]]\n",
    "  money = as.integer(s[1])\n",
    "  unit = s[2]\n",
    "  if(unit == \"달러\"){\n",
    "    return(money*1167)\n",
    "  }else if(unit == \"엔\"){\n",
    "    return(money*1.096)\n",
    "  }else if(unit == \"유로\"){\n",
    "    return(money*1268)\n",
    "  }else if(unit == \"위안\"){\n",
    "    return(money*171)\n",
    "  }\n",
    "}\n",
    "won = readline(\"입력: \")\n",
    "money_conv(won)"
   ]
  },
  {
   "cell_type": "code",
   "execution_count": 10,
   "id": "1adc986a",
   "metadata": {},
   "outputs": [
    {
     "name": "stdout",
     "output_type": "stream",
     "text": [
      "aa bb cc \n",
      "10 20 30 \n",
      "[1] \"====\"\n",
      "10"
     ]
    }
   ],
   "source": [
    "v = c(aa=10,bb=20,cc=30)\n",
    "print( v )\n",
    "print('====')\n",
    "cat( v['aa'])"
   ]
  },
  {
   "cell_type": "code",
   "execution_count": 11,
   "id": "bea50ddc",
   "metadata": {},
   "outputs": [
    {
     "name": "stdout",
     "output_type": "stream",
     "text": [
      "입력: 20 달러\n"
     ]
    },
    {
     "data": {
      "text/html": [
       "<strong>달러:</strong> 23340"
      ],
      "text/latex": [
       "\\textbf{달러:} 23340"
      ],
      "text/markdown": [
       "**달러:** 23340"
      ],
      "text/plain": [
       " 달러 \n",
       "23340 "
      ]
     },
     "metadata": {},
     "output_type": "display_data"
    }
   ],
   "source": [
    "v = c(달러=1167,엔=1.096,유로= 1268, 위안=171)\n",
    "\n",
    "money_conv <- function(won) \n",
    "{\n",
    "  s = strsplit(won, split=' ')[[1]]\n",
    "  money = as.integer(s[1])\n",
    "  unit = s[2]\n",
    "  return( money*v[unit] )\n",
    "}\n",
    "won = readline(\"입력: \")\n",
    "money_conv(won)"
   ]
  },
  {
   "cell_type": "markdown",
   "id": "84363e1e",
   "metadata": {},
   "source": [
    "8. 휴대폰 번호 앞자리에 따라 통신사는 아래와 같이 구분된다. 사용자로부터 휴대전화 번호를 입력 받고, 통신사를 출력하는 프로그램을 작성하라.\n",
    " (함수를 만드시요)\n",
    " \n",
    "번호\t통신사\n",
    " 011\tSKT\n",
    " 016\tKT\n",
    " 019\tLGU\n",
    " 010\t알수없음\n",
    " >> 휴대전화 번호 입력: 011-345-1922\n",
    " 당신은 SKT 사용자입니다."
   ]
  },
  {
   "cell_type": "code",
   "execution_count": null,
   "id": "38c6ee04",
   "metadata": {},
   "outputs": [],
   "source": [
    "phone <- function(number) \n",
    "{\n",
    "    s = strsplit(number, split='-')[[1]]\n",
    "    front = s[1]\n",
    "    if(front == \"011\"){\n",
    "        return(\"당신은 SKT 사용자입니다.\")\n",
    "    }else if(front == \"016\"){\n",
    "        return(\"당신은 KT 사용자입니다.\")\n",
    "    }else if(front == \"019\"){\n",
    "         return(\"당신은 LGU사용자입니다\")\n",
    "    }else if(front == '010'){\n",
    "         return(\"알수없음\")\n",
    "    }\n",
    "}\n",
    "number = readline(\"입력: \")\n",
    "phone(number)"
   ]
  },
  {
   "cell_type": "code",
   "execution_count": null,
   "id": "911a99e4",
   "metadata": {},
   "outputs": [],
   "source": [
    "phone <- function(number) \n",
    "{\n",
    "    v = c( '011'='SKT', '016'='KT', '019'='LGU','010'='알수없음')\n",
    "    s = strsplit(number, split='-')[[1]]\n",
    "    front = s[1]\n",
    "    return( paste(\"당신은 \",v[front],'사용자입니다', sep=' ') )\n",
    "}\n",
    "number = readline(\"입력: \")\n",
    "phone(number)"
   ]
  },
  {
   "cell_type": "markdown",
   "id": "2c2abb39",
   "metadata": {},
   "source": [
    " 9. 우편번호는 5자리로 구성되는데, 앞의 세자리는 구를 나타낸다. 예를들어, 강북구의 경우 010, 011, 012 세 자리로 시작한다.\n",
    " -\t0\t1\t2\t3\t4\t5\t6\t7\t8\t9\n",
    " 01\t강북구\t강북구\t강북구\t도봉구\t도봉구\t도봉구\t노원구\t노원구\t노원구\t노원구\n",
    " 사용자로 부터 5자리 우편번호를 입력받고 구를 판별하라\n",
    " >> 우편번호: 01400\n",
    " 도봉구"
   ]
  },
  {
   "cell_type": "code",
   "execution_count": 12,
   "id": "00ea56b6",
   "metadata": {},
   "outputs": [
    {
     "name": "stdout",
     "output_type": "stream",
     "text": [
      "우편번호 입력:01400\n",
      "[1] \"도봉구\"\n"
     ]
    }
   ],
   "source": [
    "mail = readline(\"우편번호 입력:\")\n",
    "mail = substr(mail,3,3)\n",
    "if(mail >= 0 & mail<=2 ){\n",
    "  print(\"강북구\")\n",
    "}else if(mail >= 3 & mail<=5 ){\n",
    "  print(\"도봉구\")\n",
    "}else{\n",
    "  print(\"노원구\")\n",
    "}"
   ]
  },
  {
   "cell_type": "markdown",
   "id": "053ff788",
   "metadata": {},
   "source": [
    " 10. 문자열 하나를 입력받아 인터넷 주소를 반환하는 make_url 함수를 정의하라.\n",
    " \n",
    " make_url(\"naver\")\n",
    " www.naver.com"
   ]
  },
  {
   "cell_type": "code",
   "execution_count": 13,
   "id": "a16a19ac",
   "metadata": {},
   "outputs": [
    {
     "data": {
      "text/html": [
       "'www.naver.com'"
      ],
      "text/latex": [
       "'www.naver.com'"
      ],
      "text/markdown": [
       "'www.naver.com'"
      ],
      "text/plain": [
       "[1] \"www.naver.com\""
      ]
     },
     "metadata": {},
     "output_type": "display_data"
    }
   ],
   "source": [
    "make_url <- function(a) \n",
    "{\n",
    "  a = as.character(a)\n",
    "  return( paste(\"www.\",a,\".com\", sep='') )\n",
    "}\n",
    "make_url(\"naver\")"
   ]
  },
  {
   "cell_type": "code",
   "execution_count": null,
   "id": "64733195",
   "metadata": {},
   "outputs": [],
   "source": []
  },
  {
   "cell_type": "code",
   "execution_count": null,
   "id": "9115004e",
   "metadata": {},
   "outputs": [],
   "source": []
  },
  {
   "cell_type": "code",
   "execution_count": null,
   "id": "b8a67672",
   "metadata": {},
   "outputs": [],
   "source": []
  }
 ],
 "metadata": {
  "kernelspec": {
   "display_name": "R",
   "language": "R",
   "name": "ir"
  },
  "language_info": {
   "codemirror_mode": "r",
   "file_extension": ".r",
   "mimetype": "text/x-r-source",
   "name": "R",
   "pygments_lexer": "r",
   "version": "3.6.1"
  }
 },
 "nbformat": 4,
 "nbformat_minor": 5
}
