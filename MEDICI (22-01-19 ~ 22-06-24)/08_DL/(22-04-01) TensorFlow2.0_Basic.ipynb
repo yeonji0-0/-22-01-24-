{
 "cells": [
  {
   "cell_type": "markdown",
   "metadata": {
    "id": "BMa2KzS3t-yS"
   },
   "source": [
    "# 학습 목표"
   ]
  },
  {
   "cell_type": "markdown",
   "metadata": {
    "id": "upZ_WePxt-yV"
   },
   "source": [
    "- TensorFlow 2.0 간단 사용법"
   ]
  },
  {
   "cell_type": "markdown",
   "metadata": {
    "id": "TsmOop6wt-yW"
   },
   "source": [
    "# NumPy Review"
   ]
  },
  {
   "cell_type": "markdown",
   "metadata": {
    "id": "K5hFwesIt-yW"
   },
   "source": [
    "### 01) 0차원"
   ]
  },
  {
   "cell_type": "code",
   "execution_count": 1,
   "metadata": {
    "executionInfo": {
     "elapsed": 6,
     "status": "ok",
     "timestamp": 1648527878531,
     "user": {
      "displayName": "Minkyu Kwon",
      "userId": "08202342554901369599"
     },
     "user_tz": -540
    },
    "id": "_z2L__MLt-yX"
   },
   "outputs": [],
   "source": [
    "import numpy as np"
   ]
  },
  {
   "cell_type": "code",
   "execution_count": 2,
   "metadata": {
    "colab": {
     "base_uri": "https://localhost:8080/"
    },
    "executionInfo": {
     "elapsed": 5,
     "status": "ok",
     "timestamp": 1648527878532,
     "user": {
      "displayName": "Minkyu Kwon",
      "userId": "08202342554901369599"
     },
     "user_tz": -540
    },
    "id": "hsNMgRd0t-yY",
    "outputId": "90a45ab5-de82-4093-a8c4-caab5e42d129"
   },
   "outputs": [
    {
     "data": {
      "text/plain": [
       "array(10)"
      ]
     },
     "execution_count": 2,
     "metadata": {},
     "output_type": "execute_result"
    }
   ],
   "source": [
    "arr = np.array(10)\n",
    "arr"
   ]
  },
  {
   "cell_type": "code",
   "execution_count": 3,
   "metadata": {
    "colab": {
     "base_uri": "https://localhost:8080/"
    },
    "executionInfo": {
     "elapsed": 279,
     "status": "ok",
     "timestamp": 1648527878808,
     "user": {
      "displayName": "Minkyu Kwon",
      "userId": "08202342554901369599"
     },
     "user_tz": -540
    },
    "id": "A-ghdxjtt-yZ",
    "outputId": "da343e1a-5ed7-4392-8067-e80727c02b2f"
   },
   "outputs": [
    {
     "data": {
      "text/plain": [
       "()"
      ]
     },
     "execution_count": 3,
     "metadata": {},
     "output_type": "execute_result"
    }
   ],
   "source": [
    "arr.shape"
   ]
  },
  {
   "cell_type": "markdown",
   "metadata": {
    "id": "TykIrw_-t-yZ"
   },
   "source": [
    "### 02) 1차원"
   ]
  },
  {
   "cell_type": "code",
   "execution_count": 4,
   "metadata": {
    "colab": {
     "base_uri": "https://localhost:8080/"
    },
    "executionInfo": {
     "elapsed": 258,
     "status": "ok",
     "timestamp": 1648527882384,
     "user": {
      "displayName": "Minkyu Kwon",
      "userId": "08202342554901369599"
     },
     "user_tz": -540
    },
    "id": "S-qMdYDqt-ya",
    "outputId": "837cde04-e7da-4d26-df16-3b86709bd147"
   },
   "outputs": [
    {
     "data": {
      "text/plain": [
       "(1,)"
      ]
     },
     "execution_count": 4,
     "metadata": {},
     "output_type": "execute_result"
    }
   ],
   "source": [
    "arr = np.array([10])\n",
    "arr.shape"
   ]
  },
  {
   "cell_type": "markdown",
   "metadata": {
    "id": "yThBx3bRt-ya"
   },
   "source": [
    "- 주의해야 할 것이 있는데 위의 (3, )에서 3은 3이라는 값이 들어간 것이 아닌 shape라는 것을 주의   \n",
    "- 1차원에 3개의 값이 들어갔다는 것\n",
    "- 즉, 1차원에 3개의 값(value)가 들어감"
   ]
  },
  {
   "cell_type": "code",
   "execution_count": 5,
   "metadata": {
    "colab": {
     "base_uri": "https://localhost:8080/"
    },
    "executionInfo": {
     "elapsed": 10,
     "status": "ok",
     "timestamp": 1648527883414,
     "user": {
      "displayName": "Minkyu Kwon",
      "userId": "08202342554901369599"
     },
     "user_tz": -540
    },
    "id": "3LgGqYPGt-yb",
    "outputId": "5cca2aca-a2d8-449a-ad69-c67c6de4d172"
   },
   "outputs": [
    {
     "data": {
      "text/plain": [
       "(3,)"
      ]
     },
     "execution_count": 5,
     "metadata": {},
     "output_type": "execute_result"
    }
   ],
   "source": [
    "arr = np.array([1,2,3])\n",
    "arr.shape"
   ]
  },
  {
   "cell_type": "markdown",
   "metadata": {
    "id": "6Cq7OVEEt-yb"
   },
   "source": [
    "### 03) 2차원"
   ]
  },
  {
   "cell_type": "code",
   "execution_count": 6,
   "metadata": {
    "colab": {
     "base_uri": "https://localhost:8080/"
    },
    "executionInfo": {
     "elapsed": 4,
     "status": "ok",
     "timestamp": 1648527884071,
     "user": {
      "displayName": "Minkyu Kwon",
      "userId": "08202342554901369599"
     },
     "user_tz": -540
    },
    "id": "4LB7-q8it-yb",
    "outputId": "e7117ede-c336-4ede-fe28-9a4806fe136b"
   },
   "outputs": [
    {
     "data": {
      "text/plain": [
       "(3, 3)"
      ]
     },
     "execution_count": 6,
     "metadata": {},
     "output_type": "execute_result"
    }
   ],
   "source": [
    "arr = np.array([\n",
    "                [1,2,3],\n",
    "                [4,5,6],\n",
    "                [7,8,9]\n",
    "])\n",
    "arr.shape"
   ]
  },
  {
   "cell_type": "code",
   "execution_count": 7,
   "metadata": {
    "colab": {
     "base_uri": "https://localhost:8080/"
    },
    "executionInfo": {
     "elapsed": 359,
     "status": "ok",
     "timestamp": 1648527885380,
     "user": {
      "displayName": "Minkyu Kwon",
      "userId": "08202342554901369599"
     },
     "user_tz": -540
    },
    "id": "L1YGew-Ot-yc",
    "outputId": "af7579fc-2e2b-4eb8-da37-30e09ccd11a2"
   },
   "outputs": [
    {
     "data": {
      "text/plain": [
       "array([[1, 2, 3],\n",
       "       [4, 5, 6],\n",
       "       [7, 8, 9]])"
      ]
     },
     "execution_count": 7,
     "metadata": {},
     "output_type": "execute_result"
    }
   ],
   "source": [
    "arr"
   ]
  },
  {
   "cell_type": "code",
   "execution_count": 8,
   "metadata": {
    "colab": {
     "base_uri": "https://localhost:8080/"
    },
    "executionInfo": {
     "elapsed": 4,
     "status": "ok",
     "timestamp": 1648527886177,
     "user": {
      "displayName": "Minkyu Kwon",
      "userId": "08202342554901369599"
     },
     "user_tz": -540
    },
    "id": "M0JFE1Gqt-yc",
    "outputId": "d469b302-1f8a-4619-d97d-4fec84ba7a5d"
   },
   "outputs": [
    {
     "data": {
      "text/plain": [
       "(1, 1)"
      ]
     },
     "execution_count": 8,
     "metadata": {},
     "output_type": "execute_result"
    }
   ],
   "source": [
    "arr = np.array([[10]])\n",
    "arr.shape"
   ]
  },
  {
   "cell_type": "markdown",
   "metadata": {
    "id": "YuzdmBpxt-yc"
   },
   "source": [
    "### 04) 다차원"
   ]
  },
  {
   "cell_type": "code",
   "execution_count": 11,
   "metadata": {
    "colab": {
     "base_uri": "https://localhost:8080/"
    },
    "executionInfo": {
     "elapsed": 253,
     "status": "ok",
     "timestamp": 1648527888738,
     "user": {
      "displayName": "Minkyu Kwon",
      "userId": "08202342554901369599"
     },
     "user_tz": -540
    },
    "id": "4WjIjScAt-yc",
    "outputId": "b445073d-dd20-4d80-dbb4-553703e99db5"
   },
   "outputs": [
    {
     "data": {
      "text/plain": [
       "(2, 3, 4)"
      ]
     },
     "execution_count": 11,
     "metadata": {},
     "output_type": "execute_result"
    }
   ],
   "source": [
    "arr = np.array([\n",
    "  [          [1,2,3,4],\n",
    "            [4,5,6,7],\n",
    "            [8,9,10,11]\n",
    "  ],\n",
    "  [\n",
    "            [11,10,9,8],\n",
    "            [7,6,5,4],\n",
    "            [4,3,2,1]\n",
    "  ]\n",
    "])\n",
    "arr.shape"
   ]
  },
  {
   "cell_type": "code",
   "execution_count": 12,
   "metadata": {
    "colab": {
     "base_uri": "https://localhost:8080/"
    },
    "executionInfo": {
     "elapsed": 247,
     "status": "ok",
     "timestamp": 1648527889268,
     "user": {
      "displayName": "Minkyu Kwon",
      "userId": "08202342554901369599"
     },
     "user_tz": -540
    },
    "id": "0HspbYhOt-yd",
    "outputId": "28efa659-d7e0-46ca-95d0-6ef0e148fa2c"
   },
   "outputs": [
    {
     "data": {
      "text/plain": [
       "array([[[ 1,  2,  3,  4],\n",
       "        [ 4,  5,  6,  7],\n",
       "        [ 8,  9, 10, 11]],\n",
       "\n",
       "       [[11, 10,  9,  8],\n",
       "        [ 7,  6,  5,  4],\n",
       "        [ 4,  3,  2,  1]]])"
      ]
     },
     "execution_count": 12,
     "metadata": {},
     "output_type": "execute_result"
    }
   ],
   "source": [
    "arr"
   ]
  },
  {
   "cell_type": "code",
   "execution_count": 11,
   "metadata": {
    "colab": {
     "base_uri": "https://localhost:8080/"
    },
    "executionInfo": {
     "elapsed": 325,
     "status": "ok",
     "timestamp": 1648527890593,
     "user": {
      "displayName": "Minkyu Kwon",
      "userId": "08202342554901369599"
     },
     "user_tz": -540
    },
    "id": "W-RI6DIxt-yd",
    "outputId": "41107e5b-bd99-46b5-add6-8fd9b82d0f7e"
   },
   "outputs": [
    {
     "data": {
      "text/plain": [
       "(2, 2, 3, 3)"
      ]
     },
     "execution_count": 11,
     "metadata": {},
     "output_type": "execute_result"
    }
   ],
   "source": [
    "arr = np.array(~~)\n",
    "arr.shape"
   ]
  },
  {
   "cell_type": "code",
   "execution_count": 12,
   "metadata": {
    "colab": {
     "base_uri": "https://localhost:8080/"
    },
    "executionInfo": {
     "elapsed": 327,
     "status": "ok",
     "timestamp": 1648527891285,
     "user": {
      "displayName": "Minkyu Kwon",
      "userId": "08202342554901369599"
     },
     "user_tz": -540
    },
    "id": "jD1NWeRgt-yd",
    "outputId": "d11504c7-0fad-481f-befe-27928273cbc0"
   },
   "outputs": [
    {
     "data": {
      "text/plain": [
       "array([[[[1, 2, 3],\n",
       "         [4, 5, 6],\n",
       "         [7, 8, 9]],\n",
       "\n",
       "        [[1, 2, 3],\n",
       "         [4, 5, 6],\n",
       "         [7, 8, 9]]],\n",
       "\n",
       "\n",
       "       [[[1, 2, 3],\n",
       "         [4, 5, 6],\n",
       "         [7, 8, 9]],\n",
       "\n",
       "        [[1, 2, 3],\n",
       "         [4, 5, 6],\n",
       "         [7, 8, 9]]]])"
      ]
     },
     "execution_count": 12,
     "metadata": {},
     "output_type": "execute_result"
    }
   ],
   "source": [
    "arr"
   ]
  },
  {
   "cell_type": "code",
   "execution_count": 13,
   "metadata": {
    "colab": {
     "base_uri": "https://localhost:8080/"
    },
    "executionInfo": {
     "elapsed": 3,
     "status": "ok",
     "timestamp": 1648527893708,
     "user": {
      "displayName": "Minkyu Kwon",
      "userId": "08202342554901369599"
     },
     "user_tz": -540
    },
    "id": "6TqIBJyvt-ye",
    "outputId": "8e9f1583-b3df-4857-8f55-bc495abf9ccb"
   },
   "outputs": [
    {
     "data": {
      "text/plain": [
       "(2, 2, 3, 3)"
      ]
     },
     "execution_count": 13,
     "metadata": {},
     "output_type": "execute_result"
    }
   ],
   "source": [
    "arr.shape"
   ]
  },
  {
   "cell_type": "markdown",
   "metadata": {
    "id": "ALEuWSHFt-ye"
   },
   "source": [
    "# Tensor에 대해서 알아보자!!"
   ]
  },
  {
   "cell_type": "code",
   "execution_count": 13,
   "metadata": {
    "executionInfo": {
     "elapsed": 3756,
     "status": "ok",
     "timestamp": 1648527900132,
     "user": {
      "displayName": "Minkyu Kwon",
      "userId": "08202342554901369599"
     },
     "user_tz": -540
    },
    "id": "cKuwfYspt-ye"
   },
   "outputs": [],
   "source": [
    "import numpy as np\n",
    "import pandas as pd\n",
    "import tensorflow as tf"
   ]
  },
  {
   "cell_type": "code",
   "execution_count": 14,
   "metadata": {
    "colab": {
     "base_uri": "https://localhost:8080/",
     "height": 35
    },
    "executionInfo": {
     "elapsed": 12,
     "status": "ok",
     "timestamp": 1648527900134,
     "user": {
      "displayName": "Minkyu Kwon",
      "userId": "08202342554901369599"
     },
     "user_tz": -540
    },
    "id": "OCcU98-kt-ye",
    "outputId": "903a55fc-d725-4103-c18f-f0079b1affec"
   },
   "outputs": [
    {
     "data": {
      "text/plain": [
       "'2.8.0'"
      ]
     },
     "execution_count": 14,
     "metadata": {},
     "output_type": "execute_result"
    }
   ],
   "source": [
    "tf.__version__"
   ]
  },
  {
   "cell_type": "markdown",
   "metadata": {
    "id": "Goijxb9ht-ye"
   },
   "source": [
    "# Tensor 생성"
   ]
  },
  {
   "cell_type": "markdown",
   "metadata": {
    "id": "Gk9sRbYIt-ye"
   },
   "source": [
    "<img src=\"img01/img_05.png\">"
   ]
  },
  {
   "cell_type": "markdown",
   "metadata": {
    "id": "7daF8Ofdt-ye"
   },
   "source": [
    "<img src=\"img/img_06.png\">"
   ]
  },
  {
   "cell_type": "markdown",
   "metadata": {
    "id": "ejzqJ4cMt-yf"
   },
   "source": [
    "<img src=\"img01/img_07.png\">"
   ]
  },
  {
   "cell_type": "markdown",
   "metadata": {
    "id": "y-YFgNhEt-yf"
   },
   "source": [
    "- []\n",
    "    - List 생성"
   ]
  },
  {
   "cell_type": "code",
   "execution_count": 15,
   "metadata": {
    "colab": {
     "base_uri": "https://localhost:8080/"
    },
    "executionInfo": {
     "elapsed": 10,
     "status": "ok",
     "timestamp": 1648527900135,
     "user": {
      "displayName": "Minkyu Kwon",
      "userId": "08202342554901369599"
     },
     "user_tz": -540
    },
    "id": "sdTmVHy5t-yf",
    "outputId": "b6ddc005-f16a-49f6-f9bc-3a977dafd4dd"
   },
   "outputs": [
    {
     "data": {
      "text/plain": [
       "[1, 3, 5]"
      ]
     },
     "execution_count": 15,
     "metadata": {},
     "output_type": "execute_result"
    }
   ],
   "source": [
    "[1,3,5]"
   ]
  },
  {
   "cell_type": "code",
   "execution_count": 16,
   "metadata": {
    "colab": {
     "base_uri": "https://localhost:8080/"
    },
    "executionInfo": {
     "elapsed": 8,
     "status": "ok",
     "timestamp": 1648527900136,
     "user": {
      "displayName": "Minkyu Kwon",
      "userId": "08202342554901369599"
     },
     "user_tz": -540
    },
    "id": "I_Zp5WX8t-yf",
    "outputId": "cd54c83c-d70e-4ee4-8cb6-570f4e81a529"
   },
   "outputs": [
    {
     "data": {
      "text/plain": [
       "[[1, 3, 5], [2, 4, 6]]"
      ]
     },
     "execution_count": 16,
     "metadata": {},
     "output_type": "execute_result"
    }
   ],
   "source": [
    "[\n",
    "    [1, 3, 5],\n",
    "    [2, 4, 6]\n",
    "]"
   ]
  },
  {
   "cell_type": "code",
   "execution_count": 17,
   "metadata": {
    "colab": {
     "base_uri": "https://localhost:8080/"
    },
    "executionInfo": {
     "elapsed": 5,
     "status": "ok",
     "timestamp": 1648527900488,
     "user": {
      "displayName": "Minkyu Kwon",
      "userId": "08202342554901369599"
     },
     "user_tz": -540
    },
    "id": "36KAoAdpt-yf",
    "outputId": "a1f8532c-9073-45b9-be7b-cc8f054a2509"
   },
   "outputs": [
    {
     "data": {
      "text/plain": [
       "[[[1, 2], [3, 4]], [[5, 6], [7, 8]]]"
      ]
     },
     "execution_count": 17,
     "metadata": {},
     "output_type": "execute_result"
    }
   ],
   "source": [
    "[\n",
    "    [\n",
    "        [1, 2], \n",
    "        [3, 4]],\n",
    "    [\n",
    "        [5, 6], \n",
    "        [7, 8]\n",
    "    ]\n",
    "]"
   ]
  },
  {
   "cell_type": "markdown",
   "metadata": {
    "id": "3WgL6OuLt-yf"
   },
   "source": [
    "### Array 생성"
   ]
  },
  {
   "cell_type": "markdown",
   "metadata": {
    "id": "f1l2_Gr2t-yf"
   },
   "source": [
    "- tuple이나 list 둘 다 np.array()로 씌어서 array를 만들 수 있음"
   ]
  },
  {
   "cell_type": "code",
   "execution_count": 18,
   "metadata": {
    "executionInfo": {
     "elapsed": 4,
     "status": "ok",
     "timestamp": 1648527903357,
     "user": {
      "displayName": "Minkyu Kwon",
      "userId": "08202342554901369599"
     },
     "user_tz": -540
    },
    "id": "dC_w3Otjt-yf"
   },
   "outputs": [],
   "source": [
    "arr = np.array([1,3,5])"
   ]
  },
  {
   "cell_type": "code",
   "execution_count": 19,
   "metadata": {
    "colab": {
     "base_uri": "https://localhost:8080/"
    },
    "executionInfo": {
     "elapsed": 2,
     "status": "ok",
     "timestamp": 1648527904239,
     "user": {
      "displayName": "Minkyu Kwon",
      "userId": "08202342554901369599"
     },
     "user_tz": -540
    },
    "id": "7HppIGv2t-yg",
    "outputId": "a028ab68-4a3c-46cd-f9c4-a5e814ffaced"
   },
   "outputs": [
    {
     "data": {
      "text/plain": [
       "(3,)"
      ]
     },
     "execution_count": 19,
     "metadata": {},
     "output_type": "execute_result"
    }
   ],
   "source": [
    "arr.shape"
   ]
  },
  {
   "cell_type": "code",
   "execution_count": 20,
   "metadata": {
    "executionInfo": {
     "elapsed": 238,
     "status": "ok",
     "timestamp": 1648527904789,
     "user": {
      "displayName": "Minkyu Kwon",
      "userId": "08202342554901369599"
     },
     "user_tz": -540
    },
    "id": "UIpsSosot-yg"
   },
   "outputs": [],
   "source": [
    "arr = np.array([\n",
    "    [1, 3, 5],\n",
    "    [2, 4, 6]\n",
    "])"
   ]
  },
  {
   "cell_type": "code",
   "execution_count": 21,
   "metadata": {
    "colab": {
     "base_uri": "https://localhost:8080/"
    },
    "executionInfo": {
     "elapsed": 3,
     "status": "ok",
     "timestamp": 1648527905314,
     "user": {
      "displayName": "Minkyu Kwon",
      "userId": "08202342554901369599"
     },
     "user_tz": -540
    },
    "id": "GWKLOXzmt-yg",
    "outputId": "765bc694-9f31-44f2-9aea-28cde2c241c0"
   },
   "outputs": [
    {
     "data": {
      "text/plain": [
       "(2, 3)"
      ]
     },
     "execution_count": 21,
     "metadata": {},
     "output_type": "execute_result"
    }
   ],
   "source": [
    "arr.shape"
   ]
  },
  {
   "cell_type": "markdown",
   "metadata": {
    "id": "izy85P21t-yg"
   },
   "source": [
    "### Tensor 생성 : tf2에서는 쉽게 어레이처럼 왔다 갔다 하기 편해졌음"
   ]
  },
  {
   "cell_type": "markdown",
   "metadata": {
    "id": "jzt37R5Lt-yg"
   },
   "source": [
    "- tf.constant()\n",
    "    - list -> Tensor"
   ]
  },
  {
   "cell_type": "code",
   "execution_count": 22,
   "metadata": {
    "id": "FfkLq4zqt-yg"
   },
   "outputs": [
    {
     "data": {
      "text/plain": [
       "<tf.Tensor: shape=(3,), dtype=int32, numpy=array([1, 2, 3])>"
      ]
     },
     "execution_count": 22,
     "metadata": {},
     "output_type": "execute_result"
    }
   ],
   "source": [
    "tf.constant([1,2,3])"
   ]
  },
  {
   "cell_type": "markdown",
   "metadata": {
    "id": "95ocHONdt-yg"
   },
   "source": [
    "- tf.constant()\n",
    "    - tuple -> Tensor"
   ]
  },
  {
   "cell_type": "code",
   "execution_count": 23,
   "metadata": {
    "id": "O3cF0S1at-yg",
    "outputId": "031ca46f-f5e5-4ac2-e47e-c4f53f28894b"
   },
   "outputs": [
    {
     "data": {
      "text/plain": [
       "<tf.Tensor: shape=(2, 3), dtype=int32, numpy=\n",
       "array([[1, 2, 3],\n",
       "       [4, 5, 6]])>"
      ]
     },
     "execution_count": 23,
     "metadata": {},
     "output_type": "execute_result"
    }
   ],
   "source": [
    "tf.constant(\n",
    "    (\n",
    "            (1,2,3),\n",
    "            (4,5,6)\n",
    "    )\n",
    ")"
   ]
  },
  {
   "cell_type": "markdown",
   "metadata": {
    "id": "jnzYOan-t-yg"
   },
   "source": [
    "- tf.constant()\n",
    "    - Array -> Tensor"
   ]
  },
  {
   "cell_type": "code",
   "execution_count": 25,
   "metadata": {
    "id": "Ux1z9M6Dt-yg",
    "outputId": "4f77c9cc-7d08-4449-f31c-8a2aa5f13787"
   },
   "outputs": [
    {
     "data": {
      "text/plain": [
       "array([1, 2, 3])"
      ]
     },
     "execution_count": 25,
     "metadata": {},
     "output_type": "execute_result"
    }
   ],
   "source": [
    "arr = np.array([1, 2, 3])\n",
    "arr"
   ]
  },
  {
   "cell_type": "code",
   "execution_count": 24,
   "metadata": {
    "id": "Hd-ESv78t-yh",
    "outputId": "75e26b39-3bdf-48dd-86a8-087f994c55fc"
   },
   "outputs": [
    {
     "data": {
      "text/plain": [
       "<tf.Tensor: shape=(3,), dtype=int32, numpy=array([1, 2, 3])>"
      ]
     },
     "execution_count": 24,
     "metadata": {},
     "output_type": "execute_result"
    }
   ],
   "source": [
    "# 이런 스타일로 코드들이 종종 작성 된다\n",
    "tensor = tf.constant(np.array([1,2,3]))\n",
    "tensor"
   ]
  },
  {
   "cell_type": "markdown",
   "metadata": {
    "id": "H-G6uXLut-yh"
   },
   "source": [
    "### Tensor에 담긴 정보 확인"
   ]
  },
  {
   "cell_type": "markdown",
   "metadata": {
    "id": "bB27ULSAt-yh"
   },
   "source": [
    "<img src=\"img01/img_09.png\">"
   ]
  },
  {
   "cell_type": "markdown",
   "metadata": {
    "id": "u-fu03_Ht-yh"
   },
   "source": [
    "- shape 확인"
   ]
  },
  {
   "cell_type": "code",
   "execution_count": 26,
   "metadata": {},
   "outputs": [
    {
     "data": {
      "text/plain": [
       "<tf.Tensor: shape=(3,), dtype=int32, numpy=array([1, 2, 3])>"
      ]
     },
     "execution_count": 26,
     "metadata": {},
     "output_type": "execute_result"
    }
   ],
   "source": [
    "tensor"
   ]
  },
  {
   "cell_type": "code",
   "execution_count": 27,
   "metadata": {
    "id": "sOvRRTNSt-yh",
    "outputId": "67b5f9c0-28dc-4101-9e0f-783bf3be2303"
   },
   "outputs": [
    {
     "data": {
      "text/plain": [
       "TensorShape([3])"
      ]
     },
     "execution_count": 27,
     "metadata": {},
     "output_type": "execute_result"
    }
   ],
   "source": [
    "tensor.shape"
   ]
  },
  {
   "cell_type": "markdown",
   "metadata": {
    "id": "1wFo53dCt-yh"
   },
   "source": [
    "- data type 확인\n",
    "* 주의: Tensor 생성 할 때도 data type을 정해주지 않기 때문에 원하지 않는 타입으로 지정될 수 있음!!!\n",
    "* Data Type에 따라 모델의 무게나 성능 차이에도 영향을 줄 수 있으므로, 정확하게 확인이 필요함!!!!"
   ]
  },
  {
   "cell_type": "code",
   "execution_count": 29,
   "metadata": {
    "id": "FxoV7cFht-yi",
    "outputId": "e42019f5-22e5-4f84-9d8a-6210682b9e0f"
   },
   "outputs": [
    {
     "data": {
      "text/plain": [
       "tf.int32"
      ]
     },
     "execution_count": 29,
     "metadata": {},
     "output_type": "execute_result"
    }
   ],
   "source": [
    "tensor.dtype"
   ]
  },
  {
   "cell_type": "markdown",
   "metadata": {
    "id": "SrcYi12-t-yi"
   },
   "source": [
    "- data type 정의"
   ]
  },
  {
   "cell_type": "code",
   "execution_count": 30,
   "metadata": {
    "id": "m2myKX9ft-yi",
    "outputId": "69a033ca-528d-45f5-b21e-8dcc54ca0e93"
   },
   "outputs": [
    {
     "data": {
      "text/plain": [
       "<tf.Tensor: shape=(3,), dtype=float32, numpy=array([1., 2., 3.], dtype=float32)>"
      ]
     },
     "execution_count": 30,
     "metadata": {},
     "output_type": "execute_result"
    }
   ],
   "source": [
    "tensor = tf.constant([1,2,3], dtype = tf.float32)\n",
    "tensor"
   ]
  },
  {
   "cell_type": "markdown",
   "metadata": {
    "id": "xIGc96PGt-yi"
   },
   "source": [
    "- data type 변환\n",
    "    - Numpy에서 astype()을 주었듯이, TensorFlow에서는 tf.cast를 사용"
   ]
  },
  {
   "cell_type": "markdown",
   "metadata": {
    "id": "d4WY3yySt-yi"
   },
   "source": [
    " TF2에서 사용되는 dtype종류들 : QUANTIZED_DTYPES\n",
    "bfloat16\n",
    "bool\n",
    "complex128\n",
    "complex64\n",
    "double\n",
    "float16\n",
    "float32\n",
    "float64\n",
    "half\n",
    "int16\n",
    "int32\n",
    "int64\n",
    "int8\n",
    "qint16\n",
    "qint32\n",
    "qint8\n",
    "quint16\n",
    "quint8\n",
    "resource\n",
    "string\n",
    "uint16\n",
    "uint32\n",
    "uint64\n",
    "uint8\n",
    "variant"
   ]
  },
  {
   "cell_type": "code",
   "execution_count": 31,
   "metadata": {
    "id": "wmgSx-QBt-yi"
   },
   "outputs": [],
   "source": [
    "arr = np.array([1, 2, 3], dtype=np.float32)"
   ]
  },
  {
   "cell_type": "code",
   "execution_count": 32,
   "metadata": {
    "id": "nrHhdZD3t-yi",
    "outputId": "c4b5ee52-e6c5-45e6-92ff-021cfafb93c2"
   },
   "outputs": [
    {
     "data": {
      "text/plain": [
       "array([1, 2, 3], dtype=uint8)"
      ]
     },
     "execution_count": 32,
     "metadata": {},
     "output_type": "execute_result"
    }
   ],
   "source": [
    "arr.astype(np.uint8)"
   ]
  },
  {
   "cell_type": "code",
   "execution_count": 33,
   "metadata": {
    "id": "za5ak2FCt-yi",
    "outputId": "fd980284-b6ce-4812-c6a5-c59c70f4f61a"
   },
   "outputs": [
    {
     "data": {
      "text/plain": [
       "<tf.Tensor: shape=(3,), dtype=float32, numpy=array([1., 2., 3.], dtype=float32)>"
      ]
     },
     "execution_count": 33,
     "metadata": {},
     "output_type": "execute_result"
    }
   ],
   "source": [
    "tensor"
   ]
  },
  {
   "cell_type": "code",
   "execution_count": 35,
   "metadata": {
    "id": "YTolGe2Dt-yi",
    "outputId": "f69c1f0e-8e9e-4890-a731-25122bbbf451"
   },
   "outputs": [
    {
     "data": {
      "text/plain": [
       "<tf.Tensor: shape=(3,), dtype=uint8, numpy=array([1, 2, 3], dtype=uint8)>"
      ]
     },
     "execution_count": 35,
     "metadata": {},
     "output_type": "execute_result"
    }
   ],
   "source": [
    "tf.cast(tensor, dtype = tf.uint8)"
   ]
  },
  {
   "cell_type": "markdown",
   "metadata": {
    "id": "79wRkGVst-yi"
   },
   "source": [
    "- Tensor에서 Numpy 불러오기\n",
    "    - .numpy()"
   ]
  },
  {
   "cell_type": "code",
   "execution_count": 38,
   "metadata": {
    "id": "Trtgl__kt-yj",
    "outputId": "d132e43e-9faf-47f1-d966-9d869fac7330"
   },
   "outputs": [
    {
     "data": {
      "text/plain": [
       "array([1., 2., 3.], dtype=float32)"
      ]
     },
     "execution_count": 38,
     "metadata": {},
     "output_type": "execute_result"
    }
   ],
   "source": [
    "tensor.numpy()"
   ]
  },
  {
   "cell_type": "markdown",
   "metadata": {
    "id": "wcCEy_tCt-yj"
   },
   "source": [
    "- Tensor에서 Numpy 불러오기\n",
    "    - np.array()"
   ]
  },
  {
   "cell_type": "code",
   "execution_count": 39,
   "metadata": {
    "id": "_hpK57eot-yj",
    "outputId": "d7314a70-9b99-466d-cfdc-e858ad849014"
   },
   "outputs": [
    {
     "data": {
      "text/plain": [
       "array([1., 2., 3.], dtype=float32)"
      ]
     },
     "execution_count": 39,
     "metadata": {},
     "output_type": "execute_result"
    }
   ],
   "source": [
    "np.array(tensor)"
   ]
  },
  {
   "cell_type": "markdown",
   "metadata": {
    "id": "LzpsCJKet-yj"
   },
   "source": [
    "type()를 사용하여 numpy array로 변환된 것 확인"
   ]
  },
  {
   "cell_type": "code",
   "execution_count": null,
   "metadata": {
    "id": "CvBXCGtMt-yj",
    "outputId": "5137ac2b-c02b-4e74-d45f-af4208d8753d"
   },
   "outputs": [
    {
     "data": {
      "text/plain": [
       "tensorflow.python.framework.ops.EagerTensor"
      ]
     },
     "execution_count": 24,
     "metadata": {},
     "output_type": "execute_result"
    }
   ],
   "source": [
    "type(tensor)"
   ]
  },
  {
   "cell_type": "code",
   "execution_count": null,
   "metadata": {
    "id": "z3kmCsOHt-yj",
    "outputId": "84d628d2-2335-48eb-f9aa-52a1f971a655"
   },
   "outputs": [
    {
     "data": {
      "text/plain": [
       "numpy.ndarray"
      ]
     },
     "execution_count": 25,
     "metadata": {},
     "output_type": "execute_result"
    }
   ],
   "source": [
    "type(tensor.numpy())"
   ]
  },
  {
   "cell_type": "markdown",
   "metadata": {
    "id": "CbpNp0Mpt-yj"
   },
   "source": [
    "## 난수 생성"
   ]
  },
  {
   "cell_type": "markdown",
   "metadata": {
    "id": "avPh7Kvbt-yj"
   },
   "source": [
    "- Normal Distribution은 중심극한 이론에 의한 연속적인 모양   \n",
    "- Uniform Distribution은 중심 극한 이론과는 무관하며 불연속적이며 일정한 분포"
   ]
  },
  {
   "cell_type": "markdown",
   "metadata": {
    "id": "28KG2zz9t-yj"
   },
   "source": [
    "- numpy에서는 normal distribution을 기본적으로 생성\n",
    "    - np.random.randn()"
   ]
  },
  {
   "cell_type": "code",
   "execution_count": 40,
   "metadata": {
    "id": "DW5_ic_7t-yj",
    "outputId": "19f51651-1ccb-4a6a-bb24-392513ea2362"
   },
   "outputs": [
    {
     "data": {
      "text/plain": [
       "array([-1.05823346,  0.82925469, -0.25520664, -0.13019224,  0.70127437,\n",
       "        0.65982777,  0.16325312, -3.06532646,  0.60673901,  0.66235253])"
      ]
     },
     "execution_count": 40,
     "metadata": {},
     "output_type": "execute_result"
    }
   ],
   "source": [
    "np.random.randn(10)"
   ]
  },
  {
   "cell_type": "markdown",
   "metadata": {
    "id": "k2PLs8ogt-yk"
   },
   "source": [
    "- tf.random.normal\n",
    "    - TensorFlow에서 Normal Distribution"
   ]
  },
  {
   "cell_type": "code",
   "execution_count": 41,
   "metadata": {
    "id": "V3RiNZvqt-yk",
    "outputId": "1ea05979-0c7f-45b7-a454-44bfa51b4de0"
   },
   "outputs": [
    {
     "data": {
      "text/plain": [
       "<tf.Tensor: shape=(4, 4), dtype=float32, numpy=\n",
       "array([[ 1.9221812 , -2.174183  ,  0.6943365 ,  0.8945974 ],\n",
       "       [-0.5508161 ,  0.2787266 ,  0.6877298 , -0.13016503],\n",
       "       [ 1.166269  , -1.8765106 ,  1.6119057 , -0.13747   ],\n",
       "       [-0.28013834,  1.0234097 , -0.5166437 , -1.1994958 ]],\n",
       "      dtype=float32)>"
      ]
     },
     "execution_count": 41,
     "metadata": {},
     "output_type": "execute_result"
    }
   ],
   "source": [
    "tf.random.normal([4,4])"
   ]
  },
  {
   "cell_type": "markdown",
   "metadata": {
    "id": "SMWX7uT3t-yk"
   },
   "source": [
    "- tf.random.uniform\n",
    "    - TensorFlow에서 Uniform Distribution"
   ]
  },
  {
   "cell_type": "code",
   "execution_count": 42,
   "metadata": {
    "id": "ciG55LGwt-yk",
    "outputId": "5c6b7554-3c5b-401e-dcf6-81e02a8478f4"
   },
   "outputs": [
    {
     "data": {
      "text/plain": [
       "<tf.Tensor: shape=(4, 4), dtype=float32, numpy=\n",
       "array([[0.5653033 , 0.23362756, 0.704062  , 0.04526985],\n",
       "       [0.4911933 , 0.10220945, 0.58405364, 0.56941223],\n",
       "       [0.8213786 , 0.622658  , 0.9874226 , 0.17992985],\n",
       "       [0.40256107, 0.67304635, 0.15451527, 0.87724864]], dtype=float32)>"
      ]
     },
     "execution_count": 42,
     "metadata": {},
     "output_type": "execute_result"
    }
   ],
   "source": [
    "tf.random.uniform([4, 4])"
   ]
  },
  {
   "cell_type": "markdown",
   "metadata": {
    "id": "IMKzlDiSt-yk"
   },
   "source": [
    "## Tensorflow 2.0의 이해"
   ]
  },
  {
   "cell_type": "markdown",
   "metadata": {},
   "source": [
    "## Import modules"
   ]
  },
  {
   "cell_type": "code",
   "execution_count": 43,
   "metadata": {},
   "outputs": [],
   "source": [
    "import tensorflow as tf"
   ]
  },
  {
   "cell_type": "markdown",
   "metadata": {},
   "source": [
    "### 데이터 불러오기"
   ]
  },
  {
   "cell_type": "code",
   "execution_count": 44,
   "metadata": {},
   "outputs": [
    {
     "name": "stdout",
     "output_type": "stream",
     "text": [
      "Downloading data from https://storage.googleapis.com/tensorflow/tf-keras-datasets/mnist.npz\n",
      "11493376/11490434 [==============================] - 1s 0us/step\n",
      "11501568/11490434 [==============================] - 1s 0us/step\n"
     ]
    }
   ],
   "source": [
    "mnist = tf.keras.datasets.mnist\n",
    "\n",
    "(x_train, y_train), (x_test, y_test) = mnist.load_data()\n",
    "x_train, x_test = x_train / 255.0, x_test / 255.0"
   ]
  },
  {
   "cell_type": "markdown",
   "metadata": {},
   "source": [
    "### 네트워크 구조 정의"
   ]
  },
  {
   "cell_type": "code",
   "execution_count": 46,
   "metadata": {},
   "outputs": [],
   "source": [
    "# 주의사항) 본인 데이터와 본인 최종 결과에 대해서 설계를 직접 해야함\n",
    "model = tf.keras.models.Sequential(\n",
    "[\n",
    "    tf.keras.layers.Flatten(input_shape = (28,28)),\n",
    "    tf.keras.layers.Dense(128, activation = \"relu\"),\n",
    "    tf.keras.layers.Dropout(0.2),\n",
    "    tf.keras.layers.Dense(10, activation = \"softmax\") # 데이터에 맞게 바뀌어야함\n",
    "])"
   ]
  },
  {
   "cell_type": "markdown",
   "metadata": {},
   "source": [
    "### Keras 모델 Compile"
   ]
  },
  {
   "cell_type": "code",
   "execution_count": null,
   "metadata": {},
   "outputs": [],
   "source": [
    "Loss\n",
    "<img src=\"img/img_01.png\">"
   ]
  },
  {
   "cell_type": "code",
   "execution_count": null,
   "metadata": {},
   "outputs": [],
   "source": [
    "Optimizer\n",
    "<img src=\"img/img_02.png\">"
   ]
  },
  {
   "cell_type": "code",
   "execution_count": null,
   "metadata": {},
   "outputs": [],
   "source": [
    "metrics : 훈련을 모니터링을 하기 위한 지표\n",
    "<img src=\"img/img_03.png\">\n",
    "<img src=\"img/img_04.png\">"
   ]
  },
  {
   "cell_type": "code",
   "execution_count": 47,
   "metadata": {},
   "outputs": [],
   "source": [
    "# 모델을 어떻게 돌릴지 세팅\n",
    "model.compile( optimizer = \"Adamax\",\n",
    "             loss = \"sparse_categorical_crossentropy\",\n",
    "             metrics = [\"accuracy\"])"
   ]
  },
  {
   "cell_type": "markdown",
   "metadata": {},
   "source": [
    "### 학습 수행"
   ]
  },
  {
   "cell_type": "code",
   "execution_count": 50,
   "metadata": {},
   "outputs": [
    {
     "name": "stdout",
     "output_type": "stream",
     "text": [
      "Epoch 1/3\n",
      "1875/1875 [==============================] - 4s 2ms/step - loss: 0.4278 - accuracy: 0.8818\n",
      "Epoch 2/3\n",
      "1875/1875 [==============================] - 3s 2ms/step - loss: 0.2423 - accuracy: 0.9306\n",
      "Epoch 3/3\n",
      "1875/1875 [==============================] - 3s 2ms/step - loss: 0.1917 - accuracy: 0.9454\n"
     ]
    },
    {
     "data": {
      "text/plain": [
       "<keras.callbacks.History at 0x24a90d25340>"
      ]
     },
     "execution_count": 50,
     "metadata": {},
     "output_type": "execute_result"
    }
   ],
   "source": [
    "model.fit(x_train, y_train, epochs=3)"
   ]
  },
  {
   "cell_type": "markdown",
   "metadata": {},
   "source": [
    "### 학습 결과 테스트"
   ]
  },
  {
   "cell_type": "code",
   "execution_count": 51,
   "metadata": {},
   "outputs": [
    {
     "name": "stdout",
     "output_type": "stream",
     "text": [
      "313/313 [==============================] - 1s 1ms/step - loss: 0.1505 - accuracy: 0.9551\n"
     ]
    },
    {
     "data": {
      "text/plain": [
       "[0.15050680935382843, 0.9550999999046326]"
      ]
     },
     "execution_count": 51,
     "metadata": {},
     "output_type": "execute_result"
    }
   ],
   "source": [
    "model.evaluate(x_test, y_test)"
   ]
  },
  {
   "cell_type": "code",
   "execution_count": null,
   "metadata": {},
   "outputs": [],
   "source": []
  }
 ],
 "metadata": {
  "accelerator": "GPU",
  "colab": {
   "name": "01_TensorFlow2.0_Basic.ipynb",
   "provenance": []
  },
  "kernelspec": {
   "display_name": "Python 3 (ipykernel)",
   "language": "python",
   "name": "python3"
  },
  "language_info": {
   "codemirror_mode": {
    "name": "ipython",
    "version": 3
   },
   "file_extension": ".py",
   "mimetype": "text/x-python",
   "name": "python",
   "nbconvert_exporter": "python",
   "pygments_lexer": "ipython3",
   "version": "3.9.7"
  },
  "toc": {
   "base_numbering": 1,
   "nav_menu": {},
   "number_sections": true,
   "sideBar": true,
   "skip_h1_title": false,
   "title_cell": "Table of Contents",
   "title_sidebar": "Contents",
   "toc_cell": false,
   "toc_position": {},
   "toc_section_display": true,
   "toc_window_display": false
  },
  "varInspector": {
   "cols": {
    "lenName": 16,
    "lenType": 16,
    "lenVar": 40
   },
   "kernels_config": {
    "python": {
     "delete_cmd_postfix": "",
     "delete_cmd_prefix": "del ",
     "library": "var_list.py",
     "varRefreshCmd": "print(var_dic_list())"
    },
    "r": {
     "delete_cmd_postfix": ") ",
     "delete_cmd_prefix": "rm(",
     "library": "var_list.r",
     "varRefreshCmd": "cat(var_dic_list()) "
    }
   },
   "types_to_exclude": [
    "module",
    "function",
    "builtin_function_or_method",
    "instance",
    "_Feature"
   ],
   "window_display": false
  }
 },
 "nbformat": 4,
 "nbformat_minor": 1
}
