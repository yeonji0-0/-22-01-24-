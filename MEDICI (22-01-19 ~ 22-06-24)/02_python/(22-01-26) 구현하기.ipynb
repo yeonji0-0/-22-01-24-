{
 "cells": [
  {
   "cell_type": "markdown",
   "id": "a452ed3f",
   "metadata": {},
   "source": [
    "### 지도 문제"
   ]
  },
  {
   "cell_type": "code",
   "execution_count": 6,
   "id": "bc37fbda",
   "metadata": {},
   "outputs": [
    {
     "name": "stdout",
     "output_type": "stream",
     "text": [
      "체크 전 값들 3\n",
      "체크 전 값들 4\n",
      "체크 전 값들 5\n",
      "5\n"
     ]
    }
   ],
   "source": [
    "#잠시) break, pass, continue\n",
    "#break\n",
    "a = [3,4,5,6,7,8,9]\n",
    "for i in a:\n",
    "    print(\"체크 전 값들\",i)\n",
    "    if i == 5:\n",
    "        print(i)\n",
    "        break"
   ]
  },
  {
   "cell_type": "code",
   "execution_count": 8,
   "id": "4075256a",
   "metadata": {},
   "outputs": [
    {
     "name": "stdout",
     "output_type": "stream",
     "text": [
      "체크 전 값들 3\n",
      "PASSPASSPASSPASS\n",
      "체크 전 값들 4\n",
      "PASSPASSPASSPASS\n",
      "체크 전 값들 5\n",
      "5\n",
      "PASSPASSPASSPASS\n",
      "체크 전 값들 6\n",
      "PASSPASSPASSPASS\n",
      "체크 전 값들 7\n",
      "PASSPASSPASSPASS\n",
      "체크 전 값들 8\n",
      "PASSPASSPASSPASS\n",
      "체크 전 값들 9\n",
      "PASSPASSPASSPASS\n"
     ]
    }
   ],
   "source": [
    "#pass  --> 아무 영향 미치지 않아서 형태 맞출 때 쓰임\n",
    "a = [3,4,5,6,7,8,9]\n",
    "for i in a:\n",
    "    print(\"체크 전 값들\",i)\n",
    "    if i == 5:\n",
    "        print(i)\n",
    "        pass\n",
    "    print(\"PASSPASSPASSPASS\")"
   ]
  },
  {
   "cell_type": "code",
   "execution_count": 9,
   "id": "6f71b57f",
   "metadata": {},
   "outputs": [
    {
     "name": "stdout",
     "output_type": "stream",
     "text": [
      "체크 전 값들 3\n",
      "PASSPASSPASSPASS\n",
      "체크 전 값들 4\n",
      "PASSPASSPASSPASS\n",
      "체크 전 값들 5\n",
      "5\n",
      "체크 전 값들 6\n",
      "PASSPASSPASSPASS\n",
      "체크 전 값들 7\n",
      "PASSPASSPASSPASS\n",
      "체크 전 값들 8\n",
      "PASSPASSPASSPASS\n",
      "체크 전 값들 9\n",
      "PASSPASSPASSPASS\n"
     ]
    }
   ],
   "source": [
    "#continue  ->다음 지시사항으로 넘김\n",
    "a = [3,4,5,6,7,8,9]\n",
    "for i in a:\n",
    "    print(\"체크 전 값들\",i)\n",
    "    if i == 5:\n",
    "        print(i)\n",
    "        continue\n",
    "    print(\"PASSPASSPASSPASS\")\n",
    "    "
   ]
  },
  {
   "cell_type": "code",
   "execution_count": 1,
   "id": "3fe79d2a",
   "metadata": {},
   "outputs": [],
   "source": [
    "#입력 부분 고정 \n",
    "n= 5\n",
    "plans = [\"R\",\"R\",\"R\",\"U\",\"D\",\"D\"]\n",
    "\n",
    "#위치 정보에 대한 변수\n",
    "x,y, = 1,1\n",
    "\n",
    "#이동에 대한 부분을 정의!\n",
    "move_types = [\"L\",\"R\",\"U\",\"D\"]\n",
    "dx         = [0, 0, -1, 1]  #문제에서 주어진 x,y좌표 기준으로 해야함\n",
    "dy         = [-1, 1, 0, 0]"
   ]
  },
  {
   "cell_type": "code",
   "execution_count": 11,
   "id": "9e5b2cde",
   "metadata": {},
   "outputs": [
    {
     "name": "stdout",
     "output_type": "stream",
     "text": [
      "4 5\n"
     ]
    }
   ],
   "source": [
    "#지시사항을 다 하나씩 해봐야 함\n",
    "for plan in plans:\n",
    "    ###지시사항 1개에서 \n",
    "    #   1) 무슨 지시사항인지 체크\n",
    "    #   2) 그 지시사항에 맞게 움직여보기\n",
    "    ###\n",
    "    for i in range(len(move_types)):\n",
    "        if plan == move_types[i]:\n",
    "            n_x = x + dx[i]\n",
    "            n_y = y + dy[i]\n",
    "        else:\n",
    "            pass\n",
    "    \n",
    "    #일단 지시사항에 대해서 움직이고 나서 그 움직임이 인사이드인지 아웃사이드인지 체크\n",
    "    #  --> 인사이드이면 진짜 움직이고 \n",
    "    #  -->아웃사이드면 그냥 기존 자리\n",
    "    \n",
    "    #밖인 경우 : 다음 지시사항으로 넘김\n",
    "    #밖이 아닌 경우 == 안쪽 : 포지션 업데이트\n",
    "    if n_x < 1 or n_y < 1 or n_x > n or n_y > n:\n",
    "        continue\n",
    "    else:\n",
    "        x,y = n_x, n_y  #같음 x = n_x   y = n_y\n",
    "print(x,y)\n",
    "        "
   ]
  },
  {
   "cell_type": "code",
   "execution_count": 12,
   "id": "45ddb920",
   "metadata": {},
   "outputs": [],
   "source": [
    "#입력부분 처리를 위해서 체크"
   ]
  },
  {
   "cell_type": "code",
   "execution_count": 14,
   "id": "39e15ba2",
   "metadata": {},
   "outputs": [
    {
     "data": {
      "text/plain": [
       "['a', 'b', 'c', 'd']"
      ]
     },
     "execution_count": 14,
     "metadata": {},
     "output_type": "execute_result"
    }
   ],
   "source": [
    "#문자열 -> 리스트로 형변환하면 문자들을 리스트의 원소로 변환을 함\n",
    "list(\"abcd\")"
   ]
  },
  {
   "cell_type": "code",
   "execution_count": 15,
   "id": "29ca73ee",
   "metadata": {},
   "outputs": [
    {
     "data": {
      "text/plain": [
       "['R', 'R', 'R', 'U', 'D', 'D']"
      ]
     },
     "execution_count": 15,
     "metadata": {},
     "output_type": "execute_result"
    }
   ],
   "source": [
    "list(\"RRRUDD\")"
   ]
  },
  {
   "cell_type": "code",
   "execution_count": 16,
   "id": "59e31758",
   "metadata": {},
   "outputs": [
    {
     "name": "stdout",
     "output_type": "stream",
     "text": [
      "지도 크기 입력하세요 max 100100\n",
      "지시사항 입력, 예) RRRUDDRRUDD\n",
      "3 3\n"
     ]
    }
   ],
   "source": [
    "#입력을 input로 수정\n",
    "n= int(input(\"지도 크기 입력하세요 max 100\"))\n",
    "plans = list(input(\"지시사항 입력, 예) RRRUDD\"))\n",
    "\n",
    "#위치 정보에 대한 변수\n",
    "x,y, = 1,1\n",
    "\n",
    "#이동에 대한 부분을 정의!\n",
    "move_types = [\"L\",\"R\",\"U\",\"D\"]\n",
    "dx         = [0, 0, -1, 1]  #문제에서 주어진 x,y좌표 기준으로 해야함\n",
    "dy         = [-1, 1, 0, 0]\n",
    "\n",
    "#지시사항을 다 하나씩 해봐야 함\n",
    "for plan in plans:\n",
    "    ###지시사항 1개에서 \n",
    "    #   1) 무슨 지시사항인지 체크\n",
    "    #   2) 그 지시사항에 맞게 움직여보기\n",
    "    ###\n",
    "    for i in range(len(move_types)):\n",
    "        if plan == move_types[i]:\n",
    "            n_x = x + dx[i]\n",
    "            n_y = y + dy[i]\n",
    "        else:\n",
    "            pass\n",
    "    \n",
    "    #일단 지시사항에 대해서 움직이고 나서 그 움직임이 인사이드인지 아웃사이드인지 체크\n",
    "    #  --> 인사이드이면 진짜 움직이고 \n",
    "    #  -->아웃사이드면 그냥 기존 자리\n",
    "    \n",
    "    #밖인 경우 : 다음 지시사항으로 넘김\n",
    "    #밖이 아닌 경우 == 안쪽 : 포지션 업데이트\n",
    "    if n_x < 1 or n_y < 1 or n_x > n or n_y > n:\n",
    "        continue\n",
    "    else:\n",
    "        x,y = n_x, n_y  #같음 x = n_x   y = n_y\n",
    "print(x,y)\n",
    "        "
   ]
  },
  {
   "cell_type": "code",
   "execution_count": null,
   "id": "444d1c7c",
   "metadata": {},
   "outputs": [],
   "source": [
    "#지도문제 python dictionary로 이동 부분 변경"
   ]
  },
  {
   "cell_type": "code",
   "execution_count": 5,
   "id": "4033fd85",
   "metadata": {},
   "outputs": [
    {
     "name": "stdout",
     "output_type": "stream",
     "text": [
      "지도 크기 입력하세요 max 100 5\n",
      "지시사항 입력.예)RRRUDD RRRUDD\n",
      "3 4\n"
     ]
    }
   ],
   "source": [
    "# 입력 부분 고정\n",
    "n = int(input(\"지도 크기 입력하세요 max 100 \"))\n",
    "plans = list(input(\"지시사항 입력.예)RRRUDD \"))\n",
    "\n",
    "# 위치 정보에 대한 변수\n",
    "x,y, = 1,1\n",
    "\n",
    "# 지시사항에 대한 종류와 이동에 대한 정보 dict로\n",
    "move = { \"L\":[0, -1],\"R\":[0, 1],\"U\":[-1, 0],\"D\":[1, 0]}\n",
    "\n",
    "# 큰 틀에서 지시사항대로 하나씩 움직여 보자~~~\n",
    "for plan in plans:\n",
    "    n_x = x + move[plan][0]\n",
    "    n_y = y + move[plan][1]\n",
    "    # n_x, n_y = move[plan]\n",
    "    if n_x <1 or n_y <1 or n_x >n or n_y >n:\n",
    "        continue\n",
    "    else:\n",
    "        x, y = n_x, n_y\n",
    "print(x,y)"
   ]
  },
  {
   "cell_type": "markdown",
   "id": "08f11716",
   "metadata": {},
   "source": [
    "### 나이트 움직이는 문제"
   ]
  },
  {
   "cell_type": "code",
   "execution_count": 21,
   "id": "5ebdb1e3",
   "metadata": {},
   "outputs": [
    {
     "data": {
      "text/plain": [
       "'a'"
      ]
     },
     "execution_count": 21,
     "metadata": {},
     "output_type": "execute_result"
    }
   ],
   "source": [
    "#알파벳을 숫자로 변경하는 부분\n",
    "ord(\"a\")  #아스키코드 문자 --> 숫자\n",
    "chr(97)   # 숫자 --> 문자"
   ]
  },
  {
   "cell_type": "code",
   "execution_count": 24,
   "id": "d37426a2",
   "metadata": {},
   "outputs": [
    {
     "name": "stdout",
     "output_type": "stream",
     "text": [
      "1 1\n"
     ]
    }
   ],
   "source": [
    "input_data = \"a1\"\n",
    "\n",
    "row = int(input_data[1])\n",
    "column = int(ord(input_data[0])) - ord(\"a\") + 1\n",
    "print(row, column)"
   ]
  },
  {
   "cell_type": "code",
   "execution_count": 28,
   "id": "14e62bf3",
   "metadata": {},
   "outputs": [
    {
     "ename": "KeyError",
     "evalue": "1",
     "output_type": "error",
     "traceback": [
      "\u001b[1;31m---------------------------------------------------------------------------\u001b[0m",
      "\u001b[1;31mKeyError\u001b[0m                                  Traceback (most recent call last)",
      "\u001b[1;32m~\\AppData\\Local\\Temp/ipykernel_112088/2334383226.py\u001b[0m in \u001b[0;36m<module>\u001b[1;34m\u001b[0m\n\u001b[0;32m      3\u001b[0m \u001b[0mmoves\u001b[0m \u001b[1;33m=\u001b[0m \u001b[1;33m{\u001b[0m\u001b[1;34m\"L1\"\u001b[0m\u001b[1;33m:\u001b[0m\u001b[1;33m[\u001b[0m\u001b[1;33m-\u001b[0m\u001b[1;36m2\u001b[0m\u001b[1;33m,\u001b[0m \u001b[1;33m-\u001b[0m\u001b[1;36m1\u001b[0m\u001b[1;33m]\u001b[0m\u001b[1;33m,\u001b[0m\u001b[1;34m\"R1\"\u001b[0m\u001b[1;33m:\u001b[0m\u001b[1;33m[\u001b[0m\u001b[1;36m2\u001b[0m\u001b[1;33m,\u001b[0m \u001b[1;33m-\u001b[0m\u001b[1;36m1\u001b[0m\u001b[1;33m]\u001b[0m\u001b[1;33m,\u001b[0m\u001b[1;34m\"U1\"\u001b[0m\u001b[1;33m:\u001b[0m\u001b[1;33m[\u001b[0m\u001b[1;33m-\u001b[0m\u001b[1;36m1\u001b[0m\u001b[1;33m,\u001b[0m\u001b[1;36m2\u001b[0m\u001b[1;33m]\u001b[0m \u001b[1;33m,\u001b[0m\u001b[1;34m\"D1\"\u001b[0m\u001b[1;33m:\u001b[0m\u001b[1;33m[\u001b[0m\u001b[1;33m-\u001b[0m\u001b[1;36m1\u001b[0m\u001b[1;33m,\u001b[0m\u001b[1;33m-\u001b[0m\u001b[1;36m2\u001b[0m\u001b[1;33m]\u001b[0m\u001b[1;33m,\u001b[0m \u001b[1;34m\"L2\"\u001b[0m\u001b[1;33m:\u001b[0m\u001b[1;33m[\u001b[0m\u001b[1;33m-\u001b[0m\u001b[1;36m2\u001b[0m\u001b[1;33m,\u001b[0m \u001b[1;36m1\u001b[0m\u001b[1;33m]\u001b[0m\u001b[1;33m,\u001b[0m\u001b[1;34m\"R2\"\u001b[0m\u001b[1;33m:\u001b[0m\u001b[1;33m[\u001b[0m\u001b[1;36m2\u001b[0m\u001b[1;33m,\u001b[0m \u001b[1;36m1\u001b[0m\u001b[1;33m]\u001b[0m\u001b[1;33m,\u001b[0m\u001b[1;34m\"U2\"\u001b[0m\u001b[1;33m:\u001b[0m\u001b[1;33m[\u001b[0m\u001b[1;36m1\u001b[0m\u001b[1;33m,\u001b[0m\u001b[1;36m2\u001b[0m\u001b[1;33m]\u001b[0m \u001b[1;33m,\u001b[0m\u001b[1;34m\"D2\"\u001b[0m\u001b[1;33m:\u001b[0m\u001b[1;33m[\u001b[0m\u001b[1;36m1\u001b[0m\u001b[1;33m,\u001b[0m\u001b[1;33m-\u001b[0m\u001b[1;36m2\u001b[0m\u001b[1;33m]\u001b[0m\u001b[1;33m}\u001b[0m\u001b[1;33m\u001b[0m\u001b[1;33m\u001b[0m\u001b[0m\n\u001b[0;32m      4\u001b[0m \u001b[1;32mfor\u001b[0m \u001b[0mi\u001b[0m \u001b[1;32min\u001b[0m \u001b[0mrange\u001b[0m\u001b[1;33m(\u001b[0m\u001b[1;36m1\u001b[0m\u001b[1;33m,\u001b[0m\u001b[1;36m9\u001b[0m\u001b[1;33m)\u001b[0m\u001b[1;33m:\u001b[0m\u001b[1;33m\u001b[0m\u001b[1;33m\u001b[0m\u001b[0m\n\u001b[1;32m----> 5\u001b[1;33m     \u001b[0md_x\u001b[0m \u001b[1;33m=\u001b[0m  \u001b[0mmoves\u001b[0m\u001b[1;33m[\u001b[0m\u001b[0mi\u001b[0m\u001b[1;33m]\u001b[0m\u001b[1;33m[\u001b[0m\u001b[1;36m0\u001b[0m\u001b[1;33m]\u001b[0m\u001b[1;33m\u001b[0m\u001b[1;33m\u001b[0m\u001b[0m\n\u001b[0m\u001b[0;32m      6\u001b[0m     \u001b[0md_y\u001b[0m \u001b[1;33m=\u001b[0m  \u001b[0mmoves\u001b[0m\u001b[1;33m[\u001b[0m\u001b[0mi\u001b[0m\u001b[1;33m]\u001b[0m\u001b[1;33m[\u001b[0m\u001b[1;36m1\u001b[0m\u001b[1;33m]\u001b[0m\u001b[1;33m\u001b[0m\u001b[1;33m\u001b[0m\u001b[0m\n\u001b[0;32m      7\u001b[0m     \u001b[1;32mif\u001b[0m  \u001b[1;33m(\u001b[0m\u001b[0mx\u001b[0m \u001b[1;33m+\u001b[0m \u001b[0md_x\u001b[0m \u001b[1;33m<\u001b[0m \u001b[1;36m1\u001b[0m\u001b[1;33m)\u001b[0m \u001b[1;32mor\u001b[0m \u001b[1;33m(\u001b[0m\u001b[0my\u001b[0m \u001b[1;33m+\u001b[0m \u001b[0mn_y\u001b[0m \u001b[1;33m<\u001b[0m \u001b[1;36m1\u001b[0m\u001b[1;33m)\u001b[0m \u001b[1;32mor\u001b[0m \u001b[1;33m(\u001b[0m\u001b[0mx\u001b[0m \u001b[1;33m+\u001b[0m \u001b[0mn_x\u001b[0m \u001b[1;33m>\u001b[0m \u001b[1;36m8\u001b[0m\u001b[1;33m)\u001b[0m \u001b[1;32mor\u001b[0m \u001b[1;33m(\u001b[0m\u001b[0my\u001b[0m \u001b[1;33m+\u001b[0m \u001b[0mn_y\u001b[0m \u001b[1;33m>\u001b[0m \u001b[1;36m8\u001b[0m\u001b[1;33m)\u001b[0m\u001b[1;33m:\u001b[0m\u001b[1;33m\u001b[0m\u001b[1;33m\u001b[0m\u001b[0m\n",
      "\u001b[1;31mKeyError\u001b[0m: 1"
     ]
    }
   ],
   "source": [
    "#ME\n",
    "x,y = row, column\n",
    "\n",
    "moves = {\"L1\":[-2, -1],\"R1\":[2, -1],\"U1\":[-1,2] ,\"D1\":[-1,-2], \"L2\":[-2, 1],\"R2\":[2, 1],\"U2\":[1,2] ,\"D2\":[1,-2]}\n",
    "for i in range(1,9):\n",
    "    d_x =  moves[i][0]\n",
    "    d_y =  moves[i][1]   \n",
    "    if  (x + d_x < 1) or (y + n_y < 1) or (x + n_x > 8) or (y + n_y > 8):\n",
    "        continue\n",
    "    else:\n",
    "        print(len(d_x), len(d_y))"
   ]
  },
  {
   "cell_type": "code",
   "execution_count": 31,
   "id": "c9b1eb9f",
   "metadata": {},
   "outputs": [
    {
     "name": "stdout",
     "output_type": "stream",
     "text": [
      "2\n"
     ]
    }
   ],
   "source": [
    "#8가지 이동에 대한 것 \n",
    "steps = [(-2,-1),(-2,1),(2,-1),(2,1),(1,2),(1,-2),(-1,2),(-1,-2)]\n",
    "\n",
    "#카운팅 : count = 0하고, 조건 만족할 때마다 +1\n",
    "# --> 카운팅용 변수 필요\n",
    "\n",
    "#지금 이동이 가능한 경우의 수들을 다 돌라가면서 : for\n",
    "#---> 그 이동을 하면... 위치가 안쪽/바깥쪽이야 : if\n",
    "#-----> 안 : 이동이 가능 -> 카운팅\n",
    "#-----> 밖 : 다음 이동으로 넘기자\n",
    "\n",
    "count = 0 #카운팅용 변수 & 초기화 0\n",
    "for step in steps:                  #for r,c in steps:  -> 한 번에 바로 돌리기\n",
    "    #현재 위치에서 이동시켜보자     \n",
    "    next_row = row + step[0]        #next_row = row + r\n",
    "    next_col = column + step[1]        #next_col - col + c\n",
    "    #어떻게 이동하면 이동이 가능하냐? -> 안쪽으로 포커스\n",
    "    if next_row >= 1 and next_row <= 8 and next_col >= 1 and next_col <= 8:\n",
    "        count += 1\n",
    "    else:\n",
    "        pass\n",
    "print(count)\n",
    "    "
   ]
  },
  {
   "cell_type": "code",
   "execution_count": 32,
   "id": "2dd7f9d6",
   "metadata": {},
   "outputs": [],
   "source": [
    "#위의 나이트 문제 입력부분 다르게 처리 --> 리스트 활용"
   ]
  },
  {
   "cell_type": "code",
   "execution_count": 8,
   "id": "8add47dc",
   "metadata": {},
   "outputs": [
    {
     "data": {
      "text/plain": [
       "['a', '1']"
      ]
     },
     "execution_count": 8,
     "metadata": {},
     "output_type": "execute_result"
    }
   ],
   "source": [
    "input_data = list(\"a1\")\n",
    "input_data"
   ]
  },
  {
   "cell_type": "code",
   "execution_count": 9,
   "id": "23137d37",
   "metadata": {},
   "outputs": [
    {
     "name": "stdout",
     "output_type": "stream",
     "text": [
      "2\n"
     ]
    }
   ],
   "source": [
    "row = [\"1\",\"2\",\"3\",\"4\",\"5\",\"6\",\"7\",\"8\"]\n",
    "column = [\"a\",\"b\",\"c\",\"d\",\"e\",\"f\",\"g\",\"h\"]\n",
    "\n",
    "# 위치에 대한 것을 처리\n",
    "location_mat = [1,1]\n",
    "location_mat[0] += row.index(input_data[1])\n",
    "location_mat[1] += column.index(input_data[0])\n",
    "\n",
    "# 8가지 이동에 대한 처리!!!\n",
    "dx = [-2,-2, 2, 2,  1, 1, -1, -1]\n",
    "dy = [-1, 1,-1, 1, -2, 2, -2, 2 ]\n",
    "\n",
    "# 이제 위의 8가지 케이스들을 다 돌리면서 테스트하자\n",
    "count = 0\n",
    "for i in range(len(dx)):\n",
    "    if (location_mat[0] + dx[i] >=1) and (location_mat[0] + dx[i] <=8) \\\n",
    "        and (location_mat[1] + dy[i] >=1) and (location_mat[1] + dy[i] <=8):\n",
    "        count += 1\n",
    "    else:\n",
    "        pass\n",
    "print(count)"
   ]
  },
  {
   "cell_type": "code",
   "execution_count": 12,
   "id": "86a6a43c",
   "metadata": {},
   "outputs": [
    {
     "data": {
      "text/plain": [
       "[1, 1]"
      ]
     },
     "execution_count": 12,
     "metadata": {},
     "output_type": "execute_result"
    }
   ],
   "source": [
    "location_mat"
   ]
  },
  {
   "cell_type": "code",
   "execution_count": 13,
   "id": "3a886823",
   "metadata": {},
   "outputs": [
    {
     "data": {
      "text/plain": [
       "2"
      ]
     },
     "execution_count": 13,
     "metadata": {},
     "output_type": "execute_result"
    }
   ],
   "source": [
    "row.index(\"3\")"
   ]
  },
  {
   "cell_type": "code",
   "execution_count": 14,
   "id": "a6609ec4",
   "metadata": {},
   "outputs": [
    {
     "data": {
      "text/plain": [
       "3"
      ]
     },
     "execution_count": 14,
     "metadata": {},
     "output_type": "execute_result"
    }
   ],
   "source": [
    "column.index(\"d\")"
   ]
  },
  {
   "cell_type": "markdown",
   "id": "d4c7e643",
   "metadata": {},
   "source": [
    "### 카카오 인턴 : 키패드 문제"
   ]
  },
  {
   "cell_type": "code",
   "execution_count": null,
   "id": "e5803731",
   "metadata": {},
   "outputs": [],
   "source": [
    "#거리에 대한 함수\n",
    "# --> 입력 : 지금 위치와 눌러야 할 버튼 (입력 2개)\n",
    "# --> 출력 : 둘 사이의 거리 (L1 : 절대치에 대한 합 거리)\n",
    "\n",
    "----------------\n",
    "#입력으로 주어진 수들을 돌려가면서 :for\n",
    "#    case1) 1, 4, 7 : 무조건 왼손\n",
    "#    case2) 3, 6, 9 : 무조건 오른손\n",
    "#    case3) 2, 5, 8, 0 : 왼손과 버튼 사이 거리(D_L), 오른손과 버튼 사이 거리(R_L)\n",
    "#        -> case3-1) D_L != R_L  가까운 손 사용\n",
    "#        -> case3-2) D_L == R_L  hand의 정보로 처리"
   ]
  },
  {
   "cell_type": "code",
   "execution_count": 16,
   "id": "92a5f035",
   "metadata": {},
   "outputs": [],
   "source": [
    "#거리 구하는 함수 만들기 : 2, 5, 8, 0을 누르라고 할 때\n",
    "#입력 : 내가 눌러야 할 숫자, 지금 손의 위치 -> 입력 2개\n",
    "#출력 : 절대값 거리 계산할 결과 출력으로\n",
    "\n",
    "def get_distance(number, pos):\n",
    "    # 거리 계산을 위한 버튼의 좌표화 정보 : dict\n",
    "    key_pos = {\"1\":(0,0), \"2\":(0,1), \"3\":(0,2),\n",
    "               \"4\":(1,0), \"5\":(1,1), \"6\":(1,2),\n",
    "               \"7\":(2,0), \"8\":(2,1), \"9\":(2,2),\n",
    "               \"*\":(3,0), \"0\":(3,1), \"#\":(3,2)}\n",
    "    #명시적으로 입력에 대해서 문자로 일관형 변환\n",
    "    number = str(number)\n",
    "    pos = str(pos)\n",
    "    #눌러야 할 버튼의 위치 정보 : number 변수 값의 위치화\n",
    "    x_number, y_number = key_pos[number]  #같음 x_number = key_pos[number][0]\n",
    "                                               #y_number = key_pos[number][1]\n",
    "    \n",
    "    #지금 손 위치 버튼의 위치 정보 : pos 변수 값의 위치화\n",
    "    x_pos, y_pos = key_pos[pos]\n",
    "    \n",
    "    #number와 pos 사이의 절대값 거리 계산 : abs()\n",
    "    return abs(x_number - x_pos) + abs(y_number - y_pos)"
   ]
  },
  {
   "cell_type": "code",
   "execution_count": 17,
   "id": "cb6e02cc",
   "metadata": {},
   "outputs": [],
   "source": [
    "def solution(numbers, hand):\n",
    "    answer = ''\n",
    "    ########################\n",
    "    # 1-1) 왼손, 오른손 엄지 위치에 대한 변수생성 & 초기화\n",
    "    left_pos = \"*\"\n",
    "    right_pos = \"#\"\n",
    "    # 1-2) 사전작업 추가 : 오른손잡이 right -> R, 왼손잡이 left -> L\n",
    "    if hand == \"right\":\n",
    "        hand = \"R\"\n",
    "    elif hand == \"left\":\n",
    "        hand = \"L\"\n",
    "    #2) 입력 numbers 에 대해서 하나씩 돌려\n",
    "    for num in numbers:\n",
    "        # 2-1) 항상 왼손만 쓰는 경우 : 1,4,7\n",
    "        if num in [1,4,7]:\n",
    "            answer += \"L\"\n",
    "            left_pos = str(num)\n",
    "            continue\n",
    "        # 2-2) 항상 오른손만 쓰는 경우 : 3,6,9\n",
    "        elif num in [3,6,9]:\n",
    "            answer += \"R\"\n",
    "            right_pos = str(num)\n",
    "            continue\n",
    "        # 2-3) 거리 계산 고민 : 2, 5, 8, 0\n",
    "        elif num in [2,5,8,0]:\n",
    "            dis_left = get_distance(num, left_pos)\n",
    "            dis_right = get_distance(num,right_pos)\n",
    "            if dis_left < dis_right: #왼손 가까움 -> L\n",
    "                answer += \"L\"\n",
    "                left_pos = str(num)\n",
    "            elif dis_left > dis_right : #오른손 가까움 -> R\n",
    "                answer += \"R\"\n",
    "                right_pos = str(num)\n",
    "            elif dis_left == dis_right: # 왼손, 오른손 동일\n",
    "                answer += hand\n",
    "                if hand ==\"R\":\n",
    "                    right_pos = str(num)\n",
    "                elif hand ==\"L\":\n",
    "                    left_pos = str(num)\n",
    "                else:\n",
    "                    pass\n",
    "\n",
    "    ########################\n",
    "    return answer"
   ]
  },
  {
   "cell_type": "code",
   "execution_count": 61,
   "id": "595b372c",
   "metadata": {},
   "outputs": [
    {
     "data": {
      "text/plain": [
       "'LRLLRRLLLRR'"
      ]
     },
     "execution_count": 61,
     "metadata": {},
     "output_type": "execute_result"
    }
   ],
   "source": [
    "a = [7, 0, 8, 2, 8, 3, 1, 5, 7, 6, 2]\n",
    "b = \"left\"\n",
    "solution(a, b)"
   ]
  },
  {
   "cell_type": "code",
   "execution_count": 19,
   "id": "64eb9605",
   "metadata": {},
   "outputs": [
    {
     "data": {
      "text/plain": [
       "'LRLLLRLLRRL'"
      ]
     },
     "execution_count": 19,
     "metadata": {},
     "output_type": "execute_result"
    }
   ],
   "source": [
    "a = [1, 3, 4, 5, 8, 2, 1, 4, 5, 9, 5]\n",
    "b = \"right\"\n",
    "solution(a, b)"
   ]
  },
  {
   "cell_type": "code",
   "execution_count": 23,
   "id": "68e04b1e",
   "metadata": {},
   "outputs": [],
   "source": [
    "def get_distance(number, pos):\n",
    "    key_pos = { \n",
    "        \"1\" : (0,0), \"2\":(0,1), \"3\" : (0,2),\n",
    "        \"4\" : (1,0), \"5\":(1,1), \"6\" : (1,2),\n",
    "        \"7\" : (2,0), \"8\":(2,1), \"9\" : (2,2),\n",
    "        \"*\" : (3,0), \"0\":(3,1), \"#\" : (3,2)\n",
    "    }\n",
    "    number = str(number)\n",
    "    pos = str(pos)\n",
    "    x_number, y_number = key_pos[number]\n",
    "    x_pos, y_pos = key_pos[pos]\n",
    "    \n",
    "    return abs(x_number - x_pos) + abs(y_number - y_pos)"
   ]
  },
  {
   "cell_type": "code",
   "execution_count": 24,
   "id": "3b061559",
   "metadata": {},
   "outputs": [],
   "source": [
    "def solution(numbers, hand):\n",
    "    answer = ''\n",
    "    left_pos = \"*\"\n",
    "    right_pos = \"#\"\n",
    "\n",
    "    if hand == \"right\":\n",
    "        hand = \"R\"\n",
    "    elif hand == \"left\":\n",
    "        hand = \"L\"\n",
    "\n",
    "    for num in numbers:\n",
    "        if num in [1,4,7]:\n",
    "            answer += \"L\"\n",
    "            left_pos = str(num)\n",
    "            continue\n",
    "        elif num in [3,6,9]:\n",
    "            answer += \"R\"\n",
    "            right_pos = str(num)\n",
    "            continue\n",
    "        elif num in [2,5,8,0]:\n",
    "            dis_left = get_distance(num, left_pos)\n",
    "            dis_right = get_distance(num,right_pos)\n",
    "            if dis_left < dis_right: #왼손짧 -> L\n",
    "                answer += \"L\"\n",
    "                left_pos = str(num)\n",
    "            elif dis_left > dis_right : # 오른짧 -> R\n",
    "                answer += \"R\"\n",
    "                right_pos = str(num)\n",
    "            elif dis_left == dis_right: # 왼손, 오른손 동일!!!\n",
    "                answer += hand\n",
    "                if hand ==\"R\":\n",
    "                    right_pos = str(num)\n",
    "                elif hand ==\"L\":\n",
    "                    left_pos = str(num)\n",
    "                else:\n",
    "                    pass\n",
    "    ########################\n",
    "    return answer"
   ]
  },
  {
   "cell_type": "code",
   "execution_count": null,
   "id": "39cf952c",
   "metadata": {},
   "outputs": [],
   "source": []
  }
 ],
 "metadata": {
  "kernelspec": {
   "display_name": "Python 3 (ipykernel)",
   "language": "python",
   "name": "python3"
  },
  "language_info": {
   "codemirror_mode": {
    "name": "ipython",
    "version": 3
   },
   "file_extension": ".py",
   "mimetype": "text/x-python",
   "name": "python",
   "nbconvert_exporter": "python",
   "pygments_lexer": "ipython3",
   "version": "3.9.7"
  }
 },
 "nbformat": 4,
 "nbformat_minor": 5
}
