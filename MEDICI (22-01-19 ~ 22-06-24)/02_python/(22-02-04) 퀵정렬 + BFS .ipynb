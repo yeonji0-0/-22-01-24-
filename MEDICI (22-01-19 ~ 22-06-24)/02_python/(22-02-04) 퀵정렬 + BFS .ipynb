{
 "cells": [
  {
   "cell_type": "markdown",
   "id": "8a3c30dd",
   "metadata": {},
   "source": [
    "## 퀵 정렬"
   ]
  },
  {
   "cell_type": "code",
   "execution_count": 4,
   "id": "c9d1d89d",
   "metadata": {},
   "outputs": [
    {
     "data": {
      "text/plain": [
       "[5, 7, 9, 0, 3, 1, 6, 2, 4, 8]"
      ]
     },
     "execution_count": 4,
     "metadata": {},
     "output_type": "execute_result"
    }
   ],
   "source": [
    "arr = [5, 7, 9, 0, 3, 1, 6, 2, 4, 8]\n",
    "arr"
   ]
  },
  {
   "cell_type": "code",
   "execution_count": 7,
   "id": "feb49082",
   "metadata": {},
   "outputs": [],
   "source": [
    "# 기능적으로 필요한 것 :  pivot, DOwn, Up 나누는 기능 -> 반복\n",
    "# 이러한 기능적인 반복에서 위치 지정을 통해서 처리 -> start, end 인덱스 \n",
    "def quick_sort(data, start, end):\n",
    "    #Stop : 원소의 개수가 1개 \n",
    "    if start >=  end:\n",
    "        return\n",
    "    #Go : 원소 개수가 2개 이상\n",
    "    else:\n",
    "        #시작을 위한 세팅 pivot, left, right\n",
    "        pivot = start\n",
    "        left = start + 1 \n",
    "        right = end      \n",
    "        #세팅하고 언제까지 할 것인가 \n",
    "        while(left <= right):\n",
    "            #left 달릴 조건 -> pivot 작을 때\n",
    "            while(left <= end and data[left] <= data[pivot]):\n",
    "                left += 1 # ->으로 이동 : +1\n",
    "            #right 달릴 조건 -> pivot 클 때\n",
    "            while(right > start and data[right] >= data[pivot]):\n",
    "                right -= 1 # <-으로 이동 : -1\n",
    "            #일단 lift, right 멈추고 나서 \n",
    "            #swap : 2가지 (right < left) : pivot <-> right\n",
    "            #              선수선발 다 안 끝날때 : left value <-> right value\n",
    "            if left > right : #양팀 주장이 서로 경계를 넘어감\n",
    "                data[pivot], data[right] = data[right], data[pivot]\n",
    "            else: #아직 선수선발 완료 전\n",
    "                data[left], data[right] = data[right], data[left]\n",
    "                \n",
    "        #### downs pivot(1) ups ####\n",
    "        ## downs에 이 일을 적용\n",
    "        quick_sort(data, start, right-1)\n",
    "        ## ups에 이 일을 적용\n",
    "        quick_sort(data, right+1, end)"
   ]
  },
  {
   "cell_type": "code",
   "execution_count": 8,
   "id": "405c4789",
   "metadata": {},
   "outputs": [],
   "source": [
    "quick_sort(arr, 0, len(arr)-1)"
   ]
  },
  {
   "cell_type": "code",
   "execution_count": 9,
   "id": "861dd75d",
   "metadata": {},
   "outputs": [
    {
     "data": {
      "text/plain": [
       "[0, 1, 2, 3, 4, 5, 6, 7, 8, 9]"
      ]
     },
     "execution_count": 9,
     "metadata": {},
     "output_type": "execute_result"
    }
   ],
   "source": [
    "arr"
   ]
  },
  {
   "cell_type": "code",
   "execution_count": 10,
   "id": "b9d79a12",
   "metadata": {},
   "outputs": [
    {
     "data": {
      "text/plain": [
       "[5, 0, 3, 1, 2, 4]"
      ]
     },
     "execution_count": 10,
     "metadata": {},
     "output_type": "execute_result"
    }
   ],
   "source": [
    "arr = [5, 7, 9, 0, 3, 1, 6, 2, 4, 8]\n",
    "pivot = arr[0]\n",
    "left = [i for i in arr if i <= arr[0]]\n",
    "left"
   ]
  },
  {
   "cell_type": "code",
   "execution_count": 11,
   "id": "dda0b5d8",
   "metadata": {},
   "outputs": [],
   "source": [
    "### 일반적인 퀵 정렬의 아이디어를 파이썬 특징을 활용해서 \n",
    "def quick_sort_py(data):\n",
    "    #stop : 원소가 1개 \n",
    "    if len(data) <= 1:\n",
    "        return data\n",
    "    #go : 원소가 1개 이상일 때\n",
    "    else:\n",
    "        #시작 세팅 : 기준과 그 외\n",
    "        pivot = data[0]\n",
    "        tail = data [1:] #pivot을 제외한 값들 \n",
    "        #left_part, right_part로 나누자 : 리스트 컴프리핸션\n",
    "        #단, 주의할 점은 poivot 같은 값을 left, right 한쪽에만 몰아야 전체 모양이 그대로 유지된다!\n",
    "        left_side = [x for x in tail if x <= pivot]\n",
    "        right_side = [x for x in tail if x > pivot]\n",
    "        #출력\n",
    "        return quick_sort_py(left_side) + [pivot] + quick_sort_py(right_side)"
   ]
  },
  {
   "cell_type": "code",
   "execution_count": 12,
   "id": "00d5dd5f",
   "metadata": {},
   "outputs": [
    {
     "data": {
      "text/plain": [
       "[0, 1, 2, 3, 4, 5, 6, 7, 8, 9]"
      ]
     },
     "execution_count": 12,
     "metadata": {},
     "output_type": "execute_result"
    }
   ],
   "source": [
    "quick_sort_py(arr)"
   ]
  },
  {
   "cell_type": "markdown",
   "id": "49a24c29",
   "metadata": {},
   "source": [
    "## BFS "
   ]
  },
  {
   "cell_type": "markdown",
   "id": "a917b42c",
   "metadata": {},
   "source": [
    "####  최소 경로"
   ]
  },
  {
   "cell_type": "code",
   "execution_count": 17,
   "id": "3e7e91cb",
   "metadata": {},
   "outputs": [
    {
     "data": {
      "text/plain": [
       "{'1': ['2', '3', '8'],\n",
       " '2': ['1', '7'],\n",
       " '3': ['1', '4', '5'],\n",
       " '4': ['3', '5'],\n",
       " '5': ['3', '4'],\n",
       " '6': ['7'],\n",
       " '7': ['2', '6', '8'],\n",
       " '8': ['1', '7']}"
      ]
     },
     "execution_count": 17,
     "metadata": {},
     "output_type": "execute_result"
    }
   ],
   "source": [
    "graph = {\n",
    "    \"1\" : [\"2\",\"3\",\"8\"],\n",
    "    \"2\" : [\"1\",\"7\"],\n",
    "    \"3\" : [\"1\",\"4\",\"5\"],\n",
    "    \"4\" : [\"3\",\"5\"],\n",
    "    \"5\" : [\"3\",\"4\"],\n",
    "    \"6\" : [\"7\"],\n",
    "    \"7\" : [\"2\",\"6\",\"8\"],\n",
    "    \"8\" : [\"1\",\"7\"]\n",
    "}\n",
    "graph"
   ]
  },
  {
   "cell_type": "code",
   "execution_count": 18,
   "id": "56b00ab5",
   "metadata": {},
   "outputs": [],
   "source": [
    "def bfs_list(graph, start): #입력 : 지도 - 인접 리스트 방식\n",
    "    need_visit = list()\n",
    "    visited = list()\n",
    "    need_visit.append(start)\n",
    "    while need_visit: \n",
    "        ##### 방문할 리스트 중에서 맨 앞의 값을 뽑아서 처리  -> DFS랑 요기만 달라짐\n",
    "        node = need_visit.pop(0) # 방문리스트 중 맨 뒤 선택\n",
    "        #############################################\n",
    "        if node not in visited:  #방문 목록에 없으면\n",
    "            visited.append(node)\n",
    "            need_visit.extend(graph[node])\n",
    "    return visited\n",
    "            "
   ]
  },
  {
   "cell_type": "code",
   "execution_count": 20,
   "id": "5e42037a",
   "metadata": {},
   "outputs": [
    {
     "data": {
      "text/plain": [
       "['1', '2', '3', '8', '7', '4', '5', '6']"
      ]
     },
     "execution_count": 20,
     "metadata": {},
     "output_type": "execute_result"
    }
   ],
   "source": [
    "bfs_list(graph, \"1\")"
   ]
  },
  {
   "cell_type": "code",
   "execution_count": 21,
   "id": "ba469824",
   "metadata": {},
   "outputs": [],
   "source": [
    "#bfs with Deque\n",
    "######################################\n",
    "from collections import deque\n",
    "def bfs_deque(graph, start): #입력 : 지도 - 인접 리스트 방식\n",
    "    need_visit = deque()\n",
    "######################################\n",
    "    visited = list()\n",
    "    need_visit.append(start)\n",
    "    while need_visit: \n",
    "        ##### 방문할 리스트 중에서 맨 앞의 값을 뽑아서 처리  -> DFS랑 요기만 달라짐\n",
    "        node = need_visit.popleft() # 방문리스트 중 맨 뒤 선택\n",
    "        #############################################\n",
    "        if node not in visited:  #방문 목록에 없으면\n",
    "            visited.append(node)\n",
    "            need_visit.extend(graph[node])\n",
    "    return visited"
   ]
  },
  {
   "cell_type": "code",
   "execution_count": 22,
   "id": "3f4ee72c",
   "metadata": {},
   "outputs": [
    {
     "data": {
      "text/plain": [
       "['1', '2', '3', '8', '7', '4', '5', '6']"
      ]
     },
     "execution_count": 22,
     "metadata": {},
     "output_type": "execute_result"
    }
   ],
   "source": [
    "bfs_deque(graph, \"1\")"
   ]
  },
  {
   "cell_type": "code",
   "execution_count": 23,
   "id": "93814928",
   "metadata": {},
   "outputs": [],
   "source": [
    "### DFS로 구현을 한 얼음문제를 BFS로 해보자"
   ]
  },
  {
   "cell_type": "code",
   "execution_count": 24,
   "id": "984b6f2c",
   "metadata": {},
   "outputs": [
    {
     "name": "stdout",
     "output_type": "stream",
     "text": [
      "가로, 세로를 공란으로 입력하세요 4 5\n",
      "정보 입력하세요0 0 1 1 0\n",
      "정보 입력하세요0 0 1 1 0\n",
      "정보 입력하세요1 1 1 1 1\n",
      "정보 입력하세요0 0 0 0 0\n"
     ]
    },
    {
     "data": {
      "text/plain": [
       "[[0, 0, 1, 1, 0], [0, 0, 1, 1, 0], [1, 1, 1, 1, 1], [0, 0, 0, 0, 0]]"
      ]
     },
     "execution_count": 24,
     "metadata": {},
     "output_type": "execute_result"
    }
   ],
   "source": [
    "##입력 1번째 줄 처리\n",
    "n,m = map(int,input(\"가로, 세로를 공란으로 입력하세요 \").split())\n",
    "##입력 2번째 줄부터 마지막줄까지 얼음틀 정보 입력\n",
    "graph = []\n",
    "for _ in range(n): # n개의 가로줄 입력 받기 위해서... 반복\n",
    "    graph.append(list(map(int,input(\"정보 입력하세요\").split())))\n",
    "graph"
   ]
  },
  {
   "cell_type": "code",
   "execution_count": 30,
   "id": "1797df72",
   "metadata": {},
   "outputs": [],
   "source": [
    "from collections import deque\n",
    "\n",
    "def bfs_ice_deque(row, col):\n",
    "    #지금 위치가 탐색을 시작해야할지, 안해야할지 판단\n",
    "    if graph[row][col] == 0: #[row, col] 이건 numpy import 해야 가능\n",
    "        # 0이면 얼음 얼릴 수 있으니 시작\n",
    "        #내가 지금 위치에서 이동할 곳들을 담을 리스트 : to visit list\n",
    "        need_visit = deque([ [row, col] ])\n",
    "        # 나 여기 왔으니 이제 더 못 온다 도장 찍음\n",
    "        graph[row][col] = 1\n",
    "        while True:\n",
    "            if not need_visit: #더이상 방문할 곳이 없을 때\n",
    "                return 1\n",
    "            else: #더 움직일 수 있다면\n",
    "                row, col = need_visit.popleft() #node = need_visit.pop()\n",
    "                #여기서 R:[0,1], L:[0, -1], D:[1,0], U:[-1,0]에 대한 이동을 체크\n",
    "                for dx, dy in [ [0,1],[0, -1],[1,0],[-1,0]]:\n",
    "                    #위의 4가지 방향에 대해서 이동이 가능한지 찾아보기\n",
    "                    #단, 주어진 범위 내에서만 해야하니\n",
    "                    if 0 <= row + dy <= n-1 and 0 <= col + dx <= m-1: #인바운드\n",
    "                        if graph[row+dy][col+dx] == 0:\n",
    "                            need_visit.append([ row+dy, col+dx ])\n",
    "                            graph[row+dy][col+dx] = 1\n",
    "    else:\n",
    "        return 0\n",
    "    \n",
    "#앞에서 dfs로 한 것과 동일한 가장 큰 틀\n",
    "#  -> 전체 돌아가면서 탐색을 시작할 수 있으면 탐색을 다 하고 마무리가 되면 카툰팅 1 올리자\n",
    "result = 0 \n",
    "for row in range(n):\n",
    "    for col in range(m):\n",
    "        result += bfs_ice_deque(row,col) # 함수는 0,1로 return\n",
    "        #if bfs_ice_deque(i,j) == True: #더 이상 움직이지 못 하면\n",
    "        #   result += 1"
   ]
  },
  {
   "cell_type": "code",
   "execution_count": 31,
   "id": "6c58b969",
   "metadata": {},
   "outputs": [
    {
     "data": {
      "text/plain": [
       "3"
      ]
     },
     "execution_count": 31,
     "metadata": {},
     "output_type": "execute_result"
    }
   ],
   "source": [
    "result"
   ]
  },
  {
   "cell_type": "code",
   "execution_count": 26,
   "id": "da4e81f4",
   "metadata": {
    "scrolled": true
   },
   "outputs": [
    {
     "name": "stdout",
     "output_type": "stream",
     "text": [
      "a\n",
      "b\n",
      "c\n",
      "d\n"
     ]
    }
   ],
   "source": [
    "a = a = [\"a\",\"b\",\"c\",\"d\"]\n",
    "for i in a:\n",
    "    print(i)"
   ]
  },
  {
   "cell_type": "code",
   "execution_count": 27,
   "id": "f361e1b3",
   "metadata": {},
   "outputs": [
    {
     "name": "stdout",
     "output_type": "stream",
     "text": [
      "(0, 'a')\n",
      "(1, 'b')\n",
      "(2, 'c')\n",
      "(3, 'd')\n"
     ]
    }
   ],
   "source": [
    "for i in enumerate(a): #위치랑 값 같이 찍기\n",
    "    print(i)"
   ]
  },
  {
   "cell_type": "code",
   "execution_count": 28,
   "id": "dda60133",
   "metadata": {},
   "outputs": [
    {
     "name": "stdout",
     "output_type": "stream",
     "text": [
      "0\n",
      "a\n",
      "1\n",
      "b\n",
      "2\n",
      "c\n",
      "3\n",
      "d\n"
     ]
    }
   ],
   "source": [
    "for idx, v in enumerate(a):\n",
    "    print(idx)\n",
    "    print(v)"
   ]
  },
  {
   "cell_type": "markdown",
   "id": "6023bace",
   "metadata": {},
   "source": [
    "#### 미로 탐색"
   ]
  },
  {
   "cell_type": "code",
   "execution_count": 2,
   "id": "123d618d",
   "metadata": {},
   "outputs": [
    {
     "name": "stdout",
     "output_type": "stream",
     "text": [
      "가로, 세로 크기 입력4 6\n",
      "~~1 1 0 1 1 0\n",
      "~~1 1 0 1 1 0\n",
      "~~1 1 1 1 1 1\n",
      "~~1 1 1 1 0 1\n"
     ]
    },
    {
     "data": {
      "text/plain": [
       "[[1, 1, 0, 1, 1, 0],\n",
       " [1, 1, 0, 1, 1, 0],\n",
       " [1, 1, 1, 1, 1, 1],\n",
       " [1, 1, 1, 1, 0, 1]]"
      ]
     },
     "execution_count": 2,
     "metadata": {},
     "output_type": "execute_result"
    }
   ],
   "source": [
    "#입력단\n",
    "n,m = map(int, input(\"가로, 세로 크기 입력\").split())\n",
    "#미로에 대한 지도 받기\n",
    "graph = []\n",
    "#가로줄 수만큼 돌리면서 입력 받으면 되니\n",
    "for _ in range(n):\n",
    "    graph.append( list(map(int, input(\"~~\").split())))\n",
    "graph"
   ]
  },
  {
   "cell_type": "code",
   "execution_count": 6,
   "id": "eb5c99a7",
   "metadata": {},
   "outputs": [
    {
     "name": "stdout",
     "output_type": "stream",
     "text": [
      "9\n"
     ]
    }
   ],
   "source": [
    "#4가지 방향에 대한 이동\n",
    "dx = [-1, 1, 0, 0]\n",
    "dy = [0, 0, -1, 1]\n",
    "\n",
    "# bfs -> 큐를 사용할 것인데,,속도때문에..deque\n",
    "from collections import deque\n",
    "\n",
    "# 처리하는 함수 : bfs_miro 함수이름\n",
    "#               : 입력 : 시작점 위치 정보-> 스탭가면서 +1 지도 갱신\n",
    "#               : 출력은 없음!!! \n",
    "#               : 하지만, 진행하면서 Visited하면 graph에 값을 갱신하면서 진행~\n",
    "def bfs_miro(start_pos): # -> 입력은 시작점에 대한 위치 정보  (0,0)\n",
    "     # 일단 지금 위치에 대해서 check -> x_pos, y_pos\n",
    "    x_pos = start_pos[0]\n",
    "    y_pos = start_pos[1]\n",
    "    # to visit list : deque로 초기화\n",
    "    need_visit = deque() #방문할 목록 큐\n",
    "    # 일단 지금 위치에 대한 것을 to visit list에 추가\n",
    "    need_visit.append((x_pos,y_pos))\n",
    "    \n",
    "    #visit list(큐)가 빌 때까지 : while\n",
    "    while need_visit:\n",
    "        #일단 어디 방문해야 할지 정보 추출 : popleft()\n",
    "        x, y = need_visit.popleft()   #node -> x, y\n",
    "        #여기서 상/하/좌/우에 대해서 check\n",
    "        for i in range(len(dx)):\n",
    "            nx = x + dx[i]\n",
    "            ny = y + dy[i]\n",
    "            #일단 이동해보고, 그게 지도 안쪽..\n",
    "            if (0 <= nx < n) and (0 <= ny < m):\n",
    "                #지도 안에여도 이동이 가능해야 하는 1인 길인지\n",
    "                if graph[nx][ny] ==1:\n",
    "                    graph[nx][ny] = graph[x][y] + 1\n",
    "                    need_visit.append((nx,ny ))\n",
    "                #그러면 나 여기 왔다~ 도장 \n",
    "                \n",
    "\n",
    "# 구체적인 함수 실행 : 시작점에 대한 위치 정보 -> (0,0) :파이썬 기준\n",
    "bfs_miro( (0,0) ) #-> 시작점 정보 (x,y) : 1개로 묶여서\n",
    "print(graph[n-1][m-1])"
   ]
  },
  {
   "cell_type": "markdown",
   "id": "46b0bb3a",
   "metadata": {},
   "source": [
    "#### 특정 거리 도시 찾기 문제 -Deque"
   ]
  },
  {
   "cell_type": "code",
   "execution_count": 13,
   "id": "80c40d96",
   "metadata": {},
   "outputs": [],
   "source": [
    "from collections import deque"
   ]
  },
  {
   "cell_type": "code",
   "execution_count": 16,
   "id": "1be8cd0f",
   "metadata": {},
   "outputs": [
    {
     "name": "stdout",
     "output_type": "stream",
     "text": [
      "도시수, 도로수, 거리, 시작도시4 4 2 1\n",
      "연결 s e1 2\n",
      "연결 s e1 3\n",
      "연결 s e2 3\n",
      "연결 s e2 4\n"
     ]
    },
    {
     "data": {
      "text/plain": [
       "[[], [2, 3], [3, 4], [], []]"
      ]
     },
     "execution_count": 16,
     "metadata": {},
     "output_type": "execute_result"
    }
   ],
   "source": [
    "#입력단 \n",
    "n,m,k,x = list(map(int,input(\"도시수, 도로수, 거리, 시작도시\").split()))\n",
    "#문제에서 1번 도시부터 N번 도시까지이니 graph 지도에서 1번 인덱스 ~ N번 인덱스에 각 도시를 의미\n",
    "#일단 0번 도시 ~ N번 도시까지 있다.. 빈 그래프\n",
    "graph = [[] for _ in range(n+1)]\n",
    "# 도로의 개수에 대해서 돌아가면서 graph에 추가\n",
    "for _ in range(m):\n",
    "    s, e = map(int, input(\"연결 s e\").split())\n",
    "    graph[s].append(e)\n",
    "graph    "
   ]
  },
  {
   "cell_type": "code",
   "execution_count": 17,
   "id": "e53f92db",
   "metadata": {},
   "outputs": [],
   "source": [
    "#함수 : 입력 출발 도시 -> 주어진 graph에 따라서\n",
    "#    각 도시별 거리에 대한 정보를 출력\n",
    "#    입력 : 출발도시, 출력 : 각 도시별 거리\n",
    "INF = float(\"inf\")\n",
    "def bfs_city(start):\n",
    "    #####필요한 정보들 세팅 : To Vist, Visited\n",
    "    #visisted list : 각 도시별 거리에 대한 정보 -> 초기 inf\n",
    "    distance = [INF] * (n+1) # [iNF] + [iNF] + [iNF] + ...\n",
    "    # 방문목록 : to visit list\n",
    "    q = deque()\n",
    "    \n",
    "    #####초기값에 대해서 설정\n",
    "    q.append(start)\n",
    "    distance[start] = 0\n",
    "\n",
    "    #####to visit list 빌 때까지\n",
    "    while q:\n",
    "        #일단 1개 도시에서 -> 뽑아 popleft\n",
    "        now = q.popleft()\n",
    "        for next_node in graph[now]:\n",
    "            if distance[next_node] == INF:\n",
    "                #거리갱신\n",
    "                distance[next_node] = distance[now] + 1\n",
    "                q.append(next_node)\n",
    "    return distance"
   ]
  },
  {
   "cell_type": "code",
   "execution_count": 21,
   "id": "d3925941",
   "metadata": {},
   "outputs": [
    {
     "data": {
      "text/plain": [
       "[inf, 0, 1, 1, 2]"
      ]
     },
     "execution_count": 21,
     "metadata": {},
     "output_type": "execute_result"
    }
   ],
   "source": [
    "dis_result = bfs_city(x)\n",
    "dis_result"
   ]
  },
  {
   "cell_type": "code",
   "execution_count": null,
   "id": "24ab343a",
   "metadata": {},
   "outputs": [],
   "source": [
    "#-> 앞에서부터 세팅을 거리, 지도의 정수 인덱스 == 도시 번호와 동일하게 세팅\n",
    "#-> 어느 도시가 = 어느 인덱스의 값이 찾고자 하는 거리 k와 같은지\n",
    "#   몇번째 인덱스의 값이 k와 같은지 알아야 하니\n",
    "#   몇번째 인덱스, 값 : 리스트에서 인덱스, 값을 모두 처리 : enumerate"
   ]
  },
  {
   "cell_type": "code",
   "execution_count": null,
   "id": "27b8dad5",
   "metadata": {},
   "outputs": [],
   "source": [
    "for i, v enumeerate(dis_result):\n",
    "    print(i)\n",
    "    print(v)"
   ]
  },
  {
   "cell_type": "code",
   "execution_count": 22,
   "id": "258ccd05",
   "metadata": {},
   "outputs": [
    {
     "name": "stdout",
     "output_type": "stream",
     "text": [
      "4\n"
     ]
    }
   ],
   "source": [
    "dis_k = [i for i , v in enumerate(dis_result) if v == k ]\n",
    "###출력 양식\n",
    "if dis_k == []:\n",
    "    print(-1)\n",
    "else:\n",
    "    while dis_k:\n",
    "        print(dis_k.pop(0))"
   ]
  },
  {
   "cell_type": "markdown",
   "id": "aabcc2bb",
   "metadata": {},
   "source": [
    "#### 육지를 찾아라 문제 "
   ]
  },
  {
   "cell_type": "code",
   "execution_count": 3,
   "id": "81f6f24f",
   "metadata": {},
   "outputs": [],
   "source": [
    "grid = [\n",
    "  [\"1\",\"1\",\"1\",\"1\",\"0\"],\n",
    "  [\"1\",\"1\",\"0\",\"1\",\"0\"],\n",
    "  [\"1\",\"1\",\"0\",\"0\",\"0\"],\n",
    "  [\"0\",\"0\",\"0\",\"0\",\"0\"]\n",
    "]"
   ]
  },
  {
   "cell_type": "code",
   "execution_count": 8,
   "id": "084b9b02",
   "metadata": {},
   "outputs": [],
   "source": [
    "#입력 : 지도, 출발점의 가로, 세로의 위치\n",
    "#기능 : 지도 안쪽이면서 1로 육지인 경우에는 시작을 해서 L,R,U,D까지 다 해서 더이상 갈 곳이 없다면\n",
    "#출력 : True (그 점이 시작할 수 있다면) / False (그 외에 지도 밖이나, 지금 위치가 0으로 바다면) \n",
    "def island_dfs(grid, i, j):\n",
    "    #지도 외부가 되니 False\n",
    "    if i <0 or i >= len(grid) or j <0 or j >=len(grid[0]):\n",
    "        return False\n",
    "    else: #일단 위치가 지도 안쪽 -> 바다인지 땅인지 체크\n",
    "        if grid[i][j] == \"1\": #내가 출발 할 수 있는 곳인지 육지\n",
    "            #1) 나 여기 왔다 도장\n",
    "            grid[i][j] = \"0\"\n",
    "            #2) 이 동일한 작업을 L,R,U,D\n",
    "            island_dfs(grid, i-1, j)\n",
    "            island_dfs(grid, i+1, j)\n",
    "            island_dfs(grid, i, j-1)\n",
    "            island_dfs(grid, i, j+1)\n",
    "            return True\n",
    "        else:\n",
    "            return False\n",
    "        "
   ]
  },
  {
   "cell_type": "code",
   "execution_count": 9,
   "id": "13471b42",
   "metadata": {},
   "outputs": [
    {
     "name": "stdout",
     "output_type": "stream",
     "text": [
      "1\n"
     ]
    }
   ],
   "source": [
    "#이 문제의 큰 틀은 : n by m 전체 모든 점들을 돌아가면서 그 점에서 시작할 수 있는지 없는지 체크\n",
    "# 그 점에서 일단 시작을 하고 (모든 점에서 출발은 함) 진행이 가능한지는 위에 만들 dfs에서 처리\n",
    "cnt = 0 #기본적인 카운팅 문제\n",
    "for i in range(len(grid)): #가로줄의 수\n",
    "    for j in range(len(grid[0])): #세로줄의 수 : 1번 가로줄의 원소의 수 = 세로\n",
    "        if island_dfs(grid, i, j) == True:\n",
    "            cnt += 1\n",
    "print(cnt)"
   ]
  },
  {
   "cell_type": "markdown",
   "id": "0e7b7029",
   "metadata": {},
   "source": [
    "- 거리계산, 최단거리 등에서는 Bfs기반으로 생각을 먼저\n",
    "- 방문 목록, 방문한 곳을 문제에 맞게 어떻게 변형할거냐\n",
    "  - -> 예) 얼음,미로: 방문한 곳 - 지도 /  도시 : 방문한곳 - 거리\n",
    "- 주어진 문제 상황을 어떻게 표현할지\n",
    "  - -> 예) 얼음, 미로 : 가로,세로 딱 맞춰서 ..2D  / 도시 : 도시 숫자하고 지도의 순서를 보통 맞춰서\n"
   ]
  },
  {
   "cell_type": "markdown",
   "id": "6f0dcb0c",
   "metadata": {},
   "source": [
    "##  속도 부분 비교 "
   ]
  },
  {
   "cell_type": "markdown",
   "id": "2dbee709",
   "metadata": {},
   "source": [
    ">파이썬은 코드 작성 방법이 너무 많은데 그 중에서 그럼 큰 틀은 어떻게 할지에 대해서"
   ]
  },
  {
   "cell_type": "code",
   "execution_count": 39,
   "id": "51d9c3f0",
   "metadata": {},
   "outputs": [],
   "source": [
    "import time\n",
    "import numpy as np"
   ]
  },
  {
   "cell_type": "markdown",
   "id": "273d5a90",
   "metadata": {},
   "source": [
    "#### 쌩 파이썬의 리스트 vs Numpy Array의 속도 비교"
   ]
  },
  {
   "cell_type": "code",
   "execution_count": 40,
   "id": "27780fb9",
   "metadata": {},
   "outputs": [],
   "source": [
    "def pythonlist(size_vector):\n",
    "    t1 = time.time()\n",
    "    x = range(size_vector)\n",
    "    y = range(size_vector)\n",
    "    z = []\n",
    "    for i in range(size_vector):\n",
    "        z.append(x[i] + y[i])\n",
    "    t2 = time.time()\n",
    "    print(\"pythonlist :\" + str(t2 - t1))\n",
    "        \n",
    "def numpyarray1(size_vector):\n",
    "    t1 = time.time()\n",
    "    x = np.arange(size_vector)\n",
    "    y = np.arange(size_vector)\n",
    "    z = x + y\n",
    "    t2 = time.time()\n",
    "    print(\"numpyarray1 :\" + str(t2 - t1))\n",
    "    \n",
    "def numpyarray2(size_vector):\n",
    "    t1 = time.time()\n",
    "    x = np.arange(size_vector)\n",
    "    y = np.arange(size_vector)\n",
    "    z = np.arange(size_vector)\n",
    "    for i in range(size_vector):\n",
    "        z[i] = x[i] + y[i]\n",
    "    t2 = time.time()\n",
    "    print(\"numpyarray2 :\" + str(t2 - t1))"
   ]
  },
  {
   "cell_type": "code",
   "execution_count": 42,
   "id": "b9ed3651",
   "metadata": {},
   "outputs": [
    {
     "name": "stdout",
     "output_type": "stream",
     "text": [
      "pythonlist :0.02001023292541504\n",
      "numpyarray1 :0.001781463623046875\n",
      "numpyarray2 :0.02205038070678711\n"
     ]
    }
   ],
   "source": [
    "size_vector = 100000\n",
    "pythonlist(size_vector)\n",
    "numpyarray1(size_vector)\n",
    "numpyarray2(size_vector)"
   ]
  },
  {
   "cell_type": "markdown",
   "id": "506d7805",
   "metadata": {},
   "source": [
    "* 1. 데이터의 수가 작을 때는 별 차이들이 없음\n",
    "* 2. 데이터의 수가 많으면,,,, 리스트 vs numpy array 답게 쓰면 \n",
    "                            -> 상당히 많이 차이가 발생을 함.\n",
    "* 3. 문제는 그럼 numpy array로만 하면 되나?                                                                                           \n",
    "     ---> 그냥 단순히 변수의 타입을 array로만 해서가 아니라!                                                                                                              \n",
    "     ------> 내가 해야할 일에 대해서 할 때 array 답게 할 때 속도가 어느 정도 보장                                                                                           \n",
    "     ------> 그 패키지 답게? 그게 뭔데?\n",
    "              내가 하고자 기능이 그 패키지에 함수, 메서드, 조작....그것을 사용하는게 속도가 보장이 "
   ]
  },
  {
   "cell_type": "code",
   "execution_count": 2,
   "id": "5aa42834",
   "metadata": {},
   "outputs": [],
   "source": [
    "from collections import deque\n",
    "import time"
   ]
  },
  {
   "cell_type": "markdown",
   "id": "7cda4a9d",
   "metadata": {},
   "source": [
    "#### list와 deque stack방식 속도 비교"
   ]
  },
  {
   "cell_type": "code",
   "execution_count": 9,
   "id": "5346cacb",
   "metadata": {},
   "outputs": [
    {
     "name": "stdout",
     "output_type": "stream",
     "text": [
      "List_Stack Run Time : 0.1668260097503662\n",
      "Deque_Stack Run Time : 0.12500762939453125\n"
     ]
    }
   ],
   "source": [
    "N = 1000 #초기에 값을 넣어두려는 원소의 수\n",
    "TIMES = 1000 # 실험 횟수\n",
    "M = 1000 #M번에 대해서 pop, append\n",
    "#Test에 사용할 List, Deque\n",
    "list_stack = list([i for i in range(0,N)])\n",
    "deque_stack  = deque([i for i in range(0,N)])\n",
    "\n",
    "#List를 가지고 Stack으로 할 때\n",
    "start_time = time.time()\n",
    "for _ in range(0,TIMES):\n",
    "    #M번에 대해서 원소를 추가도 하고 빼기도.. : Stack\n",
    "    for i in range(0, M):\n",
    "        list_stack.append(i)\n",
    "        list_stack.pop()\n",
    "print(\"List_Stack Run Time :\", time.time() - start_time)\n",
    "\n",
    "#Deque \n",
    "start_time = time.time()\n",
    "for _ in range(0,TIMES):\n",
    "    #M번에 대해서 원소를 추가도 하고 빼기도.. : Stack\n",
    "    for i in range(0, M):\n",
    "        deque_stack.append(i)\n",
    "        deque_stack.pop()\n",
    "print(\"Deque_Stack Run Time :\", time.time() - start_time)"
   ]
  },
  {
   "cell_type": "markdown",
   "id": "ac417aab",
   "metadata": {},
   "source": [
    "#### list와 deque queque방식 속도 비교"
   ]
  },
  {
   "cell_type": "code",
   "execution_count": 12,
   "id": "3d303c20",
   "metadata": {},
   "outputs": [
    {
     "name": "stdout",
     "output_type": "stream",
     "text": [
      "List_Stack Run Time : 0.25520801544189453\n",
      "Deque_Stack Run Time : 0.13933277130126953\n"
     ]
    }
   ],
   "source": [
    "N = 1000 #초기에 값을 넣어두려는 원소의 수\n",
    "TIMES = 1000 # 실험 횟수\n",
    "M = 1000 #M번에 대해서 pop, append\n",
    "#Test에 사용할 List, Deque\n",
    "list_queue = list([i for i in range(0,N)])\n",
    "deque_queue  = deque([i for i in range(0,N)])\n",
    "\n",
    "#List를 가지고 Stack으로 할 때\n",
    "start_time = time.time()\n",
    "for _ in range(0,TIMES):\n",
    "    #M번에 대해서 원소를 추가도 하고 빼기도.. : Stack\n",
    "    for i in range(0, M):\n",
    "        list_queue.append(i)\n",
    "        list_queue.pop(0)\n",
    "print(\"List_Stack Run Time :\", time.time() - start_time)\n",
    "\n",
    "#Deque \n",
    "start_time = time.time()\n",
    "for _ in range(0,TIMES):\n",
    "    #M번에 대해서 원소를 추가도 하고 빼기도.. : Stack\n",
    "    for i in range(0, M):\n",
    "        deque_queue.append(i)\n",
    "        deque_queue.popleft()\n",
    "print(\"Deque_Stack Run Time :\", time.time() - start_time)"
   ]
  }
 ],
 "metadata": {
  "kernelspec": {
   "display_name": "Python 3 (ipykernel)",
   "language": "python",
   "name": "python3"
  },
  "language_info": {
   "codemirror_mode": {
    "name": "ipython",
    "version": 3
   },
   "file_extension": ".py",
   "mimetype": "text/x-python",
   "name": "python",
   "nbconvert_exporter": "python",
   "pygments_lexer": "ipython3",
   "version": "3.9.7"
  }
 },
 "nbformat": 4,
 "nbformat_minor": 5
}
