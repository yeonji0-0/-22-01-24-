{
 "cells": [
  {
   "cell_type": "markdown",
   "metadata": {
    "colab_type": "text",
    "id": "view-in-github"
   },
   "source": [
    "<a href=\"https://colab.research.google.com/github/yeonji0-0/Python-codes/blob/main/%EB%A8%B8%EC%8B%A0%EB%9F%AC%EB%8B%9D_(optuna)_.ipynb\" target=\"_parent\"><img src=\"https://colab.research.google.com/assets/colab-badge.svg\" alt=\"Open In Colab\"/></a>"
   ]
  },
  {
   "cell_type": "code",
   "execution_count": null,
   "metadata": {},
   "outputs": [],
   "source": [
    "# colab으로 실행시키기"
   ]
  },
  {
   "cell_type": "code",
   "execution_count": null,
   "metadata": {
    "colab": {
     "base_uri": "https://localhost:8080/"
    },
    "id": "TkivxLRKP4ho",
    "outputId": "d9ec5094-121d-46b6-ffb2-1f93e7fcda6a"
   },
   "outputs": [
    {
     "name": "stdout",
     "output_type": "stream",
     "text": [
      "Collecting optuna\n",
      "  Downloading optuna-2.10.0-py3-none-any.whl (308 kB)\n",
      "\u001b[K     |████████████████████████████████| 308 kB 5.1 MB/s \n",
      "\u001b[?25hCollecting alembic\n",
      "  Downloading alembic-1.7.7-py3-none-any.whl (210 kB)\n",
      "\u001b[K     |████████████████████████████████| 210 kB 47.6 MB/s \n",
      "\u001b[?25hCollecting cmaes>=0.8.2\n",
      "  Downloading cmaes-0.8.2-py3-none-any.whl (15 kB)\n",
      "Requirement already satisfied: scipy!=1.4.0 in /usr/local/lib/python3.7/dist-packages (from optuna) (1.4.1)\n",
      "Requirement already satisfied: packaging>=20.0 in /usr/local/lib/python3.7/dist-packages (from optuna) (21.3)\n",
      "Collecting cliff\n",
      "  Downloading cliff-3.10.1-py3-none-any.whl (81 kB)\n",
      "\u001b[K     |████████████████████████████████| 81 kB 6.5 MB/s \n",
      "\u001b[?25hRequirement already satisfied: tqdm in /usr/local/lib/python3.7/dist-packages (from optuna) (4.63.0)\n",
      "Collecting colorlog\n",
      "  Downloading colorlog-6.6.0-py2.py3-none-any.whl (11 kB)\n",
      "Requirement already satisfied: PyYAML in /usr/local/lib/python3.7/dist-packages (from optuna) (3.13)\n",
      "Requirement already satisfied: sqlalchemy>=1.1.0 in /usr/local/lib/python3.7/dist-packages (from optuna) (1.4.32)\n",
      "Requirement already satisfied: numpy in /usr/local/lib/python3.7/dist-packages (from optuna) (1.21.5)\n",
      "Requirement already satisfied: pyparsing!=3.0.5,>=2.0.2 in /usr/local/lib/python3.7/dist-packages (from packaging>=20.0->optuna) (3.0.7)\n",
      "Requirement already satisfied: importlib-metadata in /usr/local/lib/python3.7/dist-packages (from sqlalchemy>=1.1.0->optuna) (4.11.3)\n",
      "Requirement already satisfied: greenlet!=0.4.17 in /usr/local/lib/python3.7/dist-packages (from sqlalchemy>=1.1.0->optuna) (1.1.2)\n",
      "Requirement already satisfied: importlib-resources in /usr/local/lib/python3.7/dist-packages (from alembic->optuna) (5.4.0)\n",
      "Collecting Mako\n",
      "  Downloading Mako-1.2.0-py3-none-any.whl (78 kB)\n",
      "\u001b[K     |████████████████████████████████| 78 kB 4.6 MB/s \n",
      "\u001b[?25hCollecting autopage>=0.4.0\n",
      "  Downloading autopage-0.5.0-py3-none-any.whl (29 kB)\n",
      "Collecting pbr!=2.1.0,>=2.0.0\n",
      "  Downloading pbr-5.8.1-py2.py3-none-any.whl (113 kB)\n",
      "\u001b[K     |████████████████████████████████| 113 kB 48.9 MB/s \n",
      "\u001b[?25hRequirement already satisfied: PrettyTable>=0.7.2 in /usr/local/lib/python3.7/dist-packages (from cliff->optuna) (3.2.0)\n",
      "Collecting cmd2>=1.0.0\n",
      "  Downloading cmd2-2.4.0-py3-none-any.whl (150 kB)\n",
      "\u001b[K     |████████████████████████████████| 150 kB 54.6 MB/s \n",
      "\u001b[?25hCollecting stevedore>=2.0.1\n",
      "  Downloading stevedore-3.5.0-py3-none-any.whl (49 kB)\n",
      "\u001b[K     |████████████████████████████████| 49 kB 3.4 MB/s \n",
      "\u001b[?25hRequirement already satisfied: wcwidth>=0.1.7 in /usr/local/lib/python3.7/dist-packages (from cmd2>=1.0.0->cliff->optuna) (0.2.5)\n",
      "Requirement already satisfied: typing-extensions in /usr/local/lib/python3.7/dist-packages (from cmd2>=1.0.0->cliff->optuna) (3.10.0.2)\n",
      "Collecting pyperclip>=1.6\n",
      "  Downloading pyperclip-1.8.2.tar.gz (20 kB)\n",
      "Requirement already satisfied: attrs>=16.3.0 in /usr/local/lib/python3.7/dist-packages (from cmd2>=1.0.0->cliff->optuna) (21.4.0)\n",
      "Requirement already satisfied: zipp>=0.5 in /usr/local/lib/python3.7/dist-packages (from importlib-metadata->sqlalchemy>=1.1.0->optuna) (3.7.0)\n",
      "Requirement already satisfied: MarkupSafe>=0.9.2 in /usr/local/lib/python3.7/dist-packages (from Mako->alembic->optuna) (2.0.1)\n",
      "Building wheels for collected packages: pyperclip\n",
      "  Building wheel for pyperclip (setup.py) ... \u001b[?25l\u001b[?25hdone\n",
      "  Created wheel for pyperclip: filename=pyperclip-1.8.2-py3-none-any.whl size=11137 sha256=caa5346937aff500f7d0eb71cb40c516ab029ce73fb0b77d8e8b98d4d3304199\n",
      "  Stored in directory: /root/.cache/pip/wheels/9f/18/84/8f69f8b08169c7bae2dde6bd7daf0c19fca8c8e500ee620a28\n",
      "Successfully built pyperclip\n",
      "Installing collected packages: pyperclip, pbr, stevedore, Mako, cmd2, autopage, colorlog, cmaes, cliff, alembic, optuna\n",
      "Successfully installed Mako-1.2.0 alembic-1.7.7 autopage-0.5.0 cliff-3.10.1 cmaes-0.8.2 cmd2-2.4.0 colorlog-6.6.0 optuna-2.10.0 pbr-5.8.1 pyperclip-1.8.2 stevedore-3.5.0\n"
     ]
    }
   ],
   "source": [
    "!pip install optuna"
   ]
  },
  {
   "cell_type": "code",
   "execution_count": null,
   "metadata": {
    "id": "HK0ufSzVQByT"
   },
   "outputs": [],
   "source": [
    "import optuna"
   ]
  },
  {
   "cell_type": "code",
   "execution_count": null,
   "metadata": {
    "colab": {
     "base_uri": "https://localhost:8080/"
    },
    "id": "Z3myzbXDQE-T",
    "outputId": "c30c6be4-e362-48c6-83e7-d5cb918fd548"
   },
   "outputs": [
    {
     "name": "stderr",
     "output_type": "stream",
     "text": [
      "\u001b[32m[I 2022-03-23 00:49:59,120]\u001b[0m A new study created in memory with name: no-name-ab5cf598-afde-4cc1-8be9-ac4ad3ab83ac\u001b[0m\n",
      "\u001b[32m[I 2022-03-23 00:49:59,126]\u001b[0m Trial 0 finished with value: 2.185102179322993 and parameters: {'x': 3.478209112176959}. Best is trial 0 with value: 2.185102179322993.\u001b[0m\n",
      "\u001b[32m[I 2022-03-23 00:49:59,129]\u001b[0m Trial 1 finished with value: 0.992398023287642 and parameters: {'x': 1.003808239700989}. Best is trial 1 with value: 0.992398023287642.\u001b[0m\n",
      "\u001b[32m[I 2022-03-23 00:49:59,132]\u001b[0m Trial 2 finished with value: 109.5956844038839 and parameters: {'x': -8.46879574754823}. Best is trial 1 with value: 0.992398023287642.\u001b[0m\n",
      "\u001b[32m[I 2022-03-23 00:49:59,134]\u001b[0m Trial 3 finished with value: 24.701270718665253 and parameters: {'x': 6.970037295500433}. Best is trial 1 with value: 0.992398023287642.\u001b[0m\n",
      "\u001b[32m[I 2022-03-23 00:49:59,137]\u001b[0m Trial 4 finished with value: 5.112123833716555 and parameters: {'x': 4.261000626651075}. Best is trial 1 with value: 0.992398023287642.\u001b[0m\n",
      "\u001b[32m[I 2022-03-23 00:49:59,139]\u001b[0m Trial 5 finished with value: 36.20439438485235 and parameters: {'x': -4.017008757252423}. Best is trial 1 with value: 0.992398023287642.\u001b[0m\n",
      "\u001b[32m[I 2022-03-23 00:49:59,141]\u001b[0m Trial 6 finished with value: 33.06572522403415 and parameters: {'x': -3.750280447424643}. Best is trial 1 with value: 0.992398023287642.\u001b[0m\n",
      "\u001b[32m[I 2022-03-23 00:49:59,144]\u001b[0m Trial 7 finished with value: 70.63850407086676 and parameters: {'x': -6.404671562343573}. Best is trial 1 with value: 0.992398023287642.\u001b[0m\n",
      "\u001b[32m[I 2022-03-23 00:49:59,147]\u001b[0m Trial 8 finished with value: 9.222506281247345 and parameters: {'x': -1.0368579619809921}. Best is trial 1 with value: 0.992398023287642.\u001b[0m\n",
      "\u001b[32m[I 2022-03-23 00:49:59,152]\u001b[0m Trial 9 finished with value: 75.96028938055407 and parameters: {'x': -6.71552002926699}. Best is trial 1 with value: 0.992398023287642.\u001b[0m\n",
      "\u001b[32m[I 2022-03-23 00:49:59,165]\u001b[0m Trial 10 finished with value: 54.255290858185425 and parameters: {'x': 9.365819089428237}. Best is trial 1 with value: 0.992398023287642.\u001b[0m\n",
      "\u001b[32m[I 2022-03-23 00:49:59,178]\u001b[0m Trial 11 finished with value: 0.13856873814305484 and parameters: {'x': 1.6277517788584412}. Best is trial 11 with value: 0.13856873814305484.\u001b[0m\n",
      "\u001b[32m[I 2022-03-23 00:49:59,184]\u001b[0m Trial 12 finished with value: 0.010335033982396298 and parameters: {'x': 2.1016613691743147}. Best is trial 12 with value: 0.010335033982396298.\u001b[0m\n",
      "\u001b[32m[I 2022-03-23 00:49:59,190]\u001b[0m Trial 13 finished with value: 0.8532816912934218 and parameters: {'x': 1.0762675217935542}. Best is trial 12 with value: 0.010335033982396298.\u001b[0m\n",
      "\u001b[32m[I 2022-03-23 00:49:59,199]\u001b[0m Trial 14 finished with value: 5.576082242639296 and parameters: {'x': 4.3613729571245825}. Best is trial 12 with value: 0.010335033982396298.\u001b[0m\n",
      "\u001b[32m[I 2022-03-23 00:49:59,205]\u001b[0m Trial 15 finished with value: 1.5993648204181945 and parameters: {'x': 0.7353400376313819}. Best is trial 12 with value: 0.010335033982396298.\u001b[0m\n",
      "\u001b[32m[I 2022-03-23 00:49:59,211]\u001b[0m Trial 16 finished with value: 18.180665092270868 and parameters: {'x': -2.2638791132337315}. Best is trial 12 with value: 0.010335033982396298.\u001b[0m\n",
      "\u001b[32m[I 2022-03-23 00:49:59,216]\u001b[0m Trial 17 finished with value: 25.245070705093173 and parameters: {'x': 7.024447303444745}. Best is trial 12 with value: 0.010335033982396298.\u001b[0m\n",
      "\u001b[32m[I 2022-03-23 00:49:59,221]\u001b[0m Trial 18 finished with value: 0.1898162039605808 and parameters: {'x': 2.435679014826949}. Best is trial 12 with value: 0.010335033982396298.\u001b[0m\n",
      "\u001b[32m[I 2022-03-23 00:49:59,227]\u001b[0m Trial 19 finished with value: 19.52822273037871 and parameters: {'x': 6.4190748726830495}. Best is trial 12 with value: 0.010335033982396298.\u001b[0m\n",
      "\u001b[32m[I 2022-03-23 00:49:59,232]\u001b[0m Trial 20 finished with value: 8.309645794595587 and parameters: {'x': -0.8826456241785232}. Best is trial 12 with value: 0.010335033982396298.\u001b[0m\n",
      "\u001b[32m[I 2022-03-23 00:49:59,237]\u001b[0m Trial 21 finished with value: 0.5561093578122616 and parameters: {'x': 2.74572740181132}. Best is trial 12 with value: 0.010335033982396298.\u001b[0m\n",
      "\u001b[32m[I 2022-03-23 00:49:59,243]\u001b[0m Trial 22 finished with value: 0.20924958174212804 and parameters: {'x': 2.4574380632852146}. Best is trial 12 with value: 0.010335033982396298.\u001b[0m\n",
      "\u001b[32m[I 2022-03-23 00:49:59,248]\u001b[0m Trial 23 finished with value: 13.164356824265939 and parameters: {'x': 5.628271878493388}. Best is trial 12 with value: 0.010335033982396298.\u001b[0m\n",
      "\u001b[32m[I 2022-03-23 00:49:59,253]\u001b[0m Trial 24 finished with value: 0.13611972796360622 and parameters: {'x': 2.3689440715929804}. Best is trial 12 with value: 0.010335033982396298.\u001b[0m\n",
      "\u001b[32m[I 2022-03-23 00:49:59,257]\u001b[0m Trial 25 finished with value: 18.799934859507015 and parameters: {'x': -2.335889165962042}. Best is trial 12 with value: 0.010335033982396298.\u001b[0m\n",
      "\u001b[32m[I 2022-03-23 00:49:59,264]\u001b[0m Trial 26 finished with value: 54.19781763958331 and parameters: {'x': 9.361916709633661}. Best is trial 12 with value: 0.010335033982396298.\u001b[0m\n",
      "\u001b[32m[I 2022-03-23 00:49:59,275]\u001b[0m Trial 27 finished with value: 5.854354108706018 and parameters: {'x': -0.4195772582635211}. Best is trial 12 with value: 0.010335033982396298.\u001b[0m\n",
      "\u001b[32m[I 2022-03-23 00:49:59,282]\u001b[0m Trial 28 finished with value: 6.97205714781883 and parameters: {'x': 4.640465327895602}. Best is trial 12 with value: 0.010335033982396298.\u001b[0m\n",
      "\u001b[32m[I 2022-03-23 00:49:59,290]\u001b[0m Trial 29 finished with value: 0.15814934220783075 and parameters: {'x': 1.602320050533308}. Best is trial 12 with value: 0.010335033982396298.\u001b[0m\n",
      "\u001b[32m[I 2022-03-23 00:49:59,297]\u001b[0m Trial 30 finished with value: 2.9201752945823602 and parameters: {'x': 3.7088520399912803}. Best is trial 12 with value: 0.010335033982396298.\u001b[0m\n",
      "\u001b[32m[I 2022-03-23 00:49:59,304]\u001b[0m Trial 31 finished with value: 0.1268858120579653 and parameters: {'x': 1.6437896519499113}. Best is trial 12 with value: 0.010335033982396298.\u001b[0m\n",
      "\u001b[32m[I 2022-03-23 00:49:59,310]\u001b[0m Trial 32 finished with value: 1.8851848706745924 and parameters: {'x': 0.6269796539473305}. Best is trial 12 with value: 0.010335033982396298.\u001b[0m\n",
      "\u001b[32m[I 2022-03-23 00:49:59,315]\u001b[0m Trial 33 finished with value: 0.017045709600660035 and parameters: {'x': 2.1305592187501903}. Best is trial 12 with value: 0.010335033982396298.\u001b[0m\n",
      "\u001b[32m[I 2022-03-23 00:49:59,322]\u001b[0m Trial 34 finished with value: 1.2957453294133845 and parameters: {'x': 3.1383080995114567}. Best is trial 12 with value: 0.010335033982396298.\u001b[0m\n",
      "\u001b[32m[I 2022-03-23 00:49:59,331]\u001b[0m Trial 35 finished with value: 13.689469061839942 and parameters: {'x': 5.699928250904326}. Best is trial 12 with value: 0.010335033982396298.\u001b[0m\n",
      "\u001b[32m[I 2022-03-23 00:49:59,336]\u001b[0m Trial 36 finished with value: 15.28266958212455 and parameters: {'x': -1.9093055114846869}. Best is trial 12 with value: 0.010335033982396298.\u001b[0m\n",
      "\u001b[32m[I 2022-03-23 00:49:59,344]\u001b[0m Trial 37 finished with value: 142.77466535484524 and parameters: {'x': -9.948835313738542}. Best is trial 12 with value: 0.010335033982396298.\u001b[0m\n",
      "\u001b[32m[I 2022-03-23 00:49:59,351]\u001b[0m Trial 38 finished with value: 4.737269454064695 and parameters: {'x': -0.17652692472771747}. Best is trial 12 with value: 0.010335033982396298.\u001b[0m\n",
      "\u001b[32m[I 2022-03-23 00:49:59,358]\u001b[0m Trial 39 finished with value: 0.011319225172943849 and parameters: {'x': 2.106391847304875}. Best is trial 12 with value: 0.010335033982396298.\u001b[0m\n",
      "\u001b[32m[I 2022-03-23 00:49:59,362]\u001b[0m Trial 40 finished with value: 38.123847209723195 and parameters: {'x': 8.174451166680582}. Best is trial 12 with value: 0.010335033982396298.\u001b[0m\n",
      "\u001b[32m[I 2022-03-23 00:49:59,376]\u001b[0m Trial 41 finished with value: 0.006380628526104061 and parameters: {'x': 2.079878836534492}. Best is trial 41 with value: 0.006380628526104061.\u001b[0m\n",
      "\u001b[32m[I 2022-03-23 00:49:59,392]\u001b[0m Trial 42 finished with value: 2.73368094327084 and parameters: {'x': 3.653384693067781}. Best is trial 41 with value: 0.006380628526104061.\u001b[0m\n",
      "\u001b[32m[I 2022-03-23 00:49:59,404]\u001b[0m Trial 43 finished with value: 0.07569091509512145 and parameters: {'x': 1.7248801804756309}. Best is trial 41 with value: 0.006380628526104061.\u001b[0m\n",
      "\u001b[32m[I 2022-03-23 00:49:59,414]\u001b[0m Trial 44 finished with value: 8.42491756552135 and parameters: {'x': 4.902570854522134}. Best is trial 41 with value: 0.006380628526104061.\u001b[0m\n",
      "\u001b[32m[I 2022-03-23 00:49:59,434]\u001b[0m Trial 45 finished with value: 30.58794999685766 and parameters: {'x': -3.5306373951704386}. Best is trial 41 with value: 0.006380628526104061.\u001b[0m\n",
      "\u001b[32m[I 2022-03-23 00:49:59,441]\u001b[0m Trial 46 finished with value: 11.157810126642016 and parameters: {'x': -1.3403308408961552}. Best is trial 41 with value: 0.006380628526104061.\u001b[0m\n",
      "\u001b[32m[I 2022-03-23 00:49:59,446]\u001b[0m Trial 47 finished with value: 3.062208742474648 and parameters: {'x': 0.25008321841447323}. Best is trial 41 with value: 0.006380628526104061.\u001b[0m\n",
      "\u001b[32m[I 2022-03-23 00:49:59,452]\u001b[0m Trial 48 finished with value: 0.2387295114123197 and parameters: {'x': 1.5114004590543297}. Best is trial 41 with value: 0.006380628526104061.\u001b[0m\n",
      "\u001b[32m[I 2022-03-23 00:49:59,459]\u001b[0m Trial 49 finished with value: 2.5888759331317828 and parameters: {'x': 3.6089984254596965}. Best is trial 41 with value: 0.006380628526104061.\u001b[0m\n",
      "\u001b[32m[I 2022-03-23 00:49:59,468]\u001b[0m Trial 50 finished with value: 2.2160471131352315 and parameters: {'x': 0.5113606504142008}. Best is trial 41 with value: 0.006380628526104061.\u001b[0m\n",
      "\u001b[32m[I 2022-03-23 00:49:59,474]\u001b[0m Trial 51 finished with value: 0.007377495978236541 and parameters: {'x': 1.914107648895629}. Best is trial 41 with value: 0.006380628526104061.\u001b[0m\n",
      "\u001b[32m[I 2022-03-23 00:49:59,482]\u001b[0m Trial 52 finished with value: 0.008988709411600692 and parameters: {'x': 2.0948088045046487}. Best is trial 41 with value: 0.006380628526104061.\u001b[0m\n",
      "\u001b[32m[I 2022-03-23 00:49:59,487]\u001b[0m Trial 53 finished with value: 0.15921399026140923 and parameters: {'x': 2.3990162781910147}. Best is trial 41 with value: 0.006380628526104061.\u001b[0m\n",
      "\u001b[32m[I 2022-03-23 00:49:59,496]\u001b[0m Trial 54 finished with value: 4.155313391089329 and parameters: {'x': 4.038458582137329}. Best is trial 41 with value: 0.006380628526104061.\u001b[0m\n",
      "\u001b[32m[I 2022-03-23 00:49:59,502]\u001b[0m Trial 55 finished with value: 10.193966269627932 and parameters: {'x': 5.192799127666495}. Best is trial 41 with value: 0.006380628526104061.\u001b[0m\n",
      "\u001b[32m[I 2022-03-23 00:49:59,509]\u001b[0m Trial 56 finished with value: 1.2605218646322978 and parameters: {'x': 3.122729648950404}. Best is trial 41 with value: 0.006380628526104061.\u001b[0m\n",
      "\u001b[32m[I 2022-03-23 00:49:59,514]\u001b[0m Trial 57 finished with value: 0.9259269606454272 and parameters: {'x': 1.0377490136947496}. Best is trial 41 with value: 0.006380628526104061.\u001b[0m\n",
      "\u001b[32m[I 2022-03-23 00:49:59,519]\u001b[0m Trial 58 finished with value: 5.6156697042278925 and parameters: {'x': -0.3697404297154345}. Best is trial 41 with value: 0.006380628526104061.\u001b[0m\n",
      "\u001b[32m[I 2022-03-23 00:49:59,524]\u001b[0m Trial 59 finished with value: 2.7809581080500497e-05 and parameters: {'x': 1.9947265209699383}. Best is trial 59 with value: 2.7809581080500497e-05.\u001b[0m\n",
      "\u001b[32m[I 2022-03-23 00:49:59,533]\u001b[0m Trial 60 finished with value: 0.7869021647304693 and parameters: {'x': 1.1129249385026827}. Best is trial 59 with value: 2.7809581080500497e-05.\u001b[0m\n",
      "\u001b[32m[I 2022-03-23 00:49:59,539]\u001b[0m Trial 61 finished with value: 0.03688240997427933 and parameters: {'x': 2.1920479366571777}. Best is trial 59 with value: 2.7809581080500497e-05.\u001b[0m\n",
      "\u001b[32m[I 2022-03-23 00:49:59,545]\u001b[0m Trial 62 finished with value: 0.63306589604267 and parameters: {'x': 2.795654382280818}. Best is trial 59 with value: 2.7809581080500497e-05.\u001b[0m\n",
      "\u001b[32m[I 2022-03-23 00:49:59,552]\u001b[0m Trial 63 finished with value: 0.0005733948645933844 and parameters: {'x': 1.9760543351607565}. Best is trial 59 with value: 2.7809581080500497e-05.\u001b[0m\n",
      "\u001b[32m[I 2022-03-23 00:49:59,560]\u001b[0m Trial 64 finished with value: 6.033874773636003 and parameters: {'x': 4.456394669762171}. Best is trial 59 with value: 2.7809581080500497e-05.\u001b[0m\n",
      "\u001b[32m[I 2022-03-23 00:49:59,566]\u001b[0m Trial 65 finished with value: 1.5079013766485947 and parameters: {'x': 3.2279663581094535}. Best is trial 59 with value: 2.7809581080500497e-05.\u001b[0m\n",
      "\u001b[32m[I 2022-03-23 00:49:59,573]\u001b[0m Trial 66 finished with value: 2.6261117326179475 and parameters: {'x': 0.37947177358185225}. Best is trial 59 with value: 2.7809581080500497e-05.\u001b[0m\n",
      "\u001b[32m[I 2022-03-23 00:49:59,579]\u001b[0m Trial 67 finished with value: 0.6781150322009721 and parameters: {'x': 1.1765225976379363}. Best is trial 59 with value: 2.7809581080500497e-05.\u001b[0m\n",
      "\u001b[32m[I 2022-03-23 00:49:59,586]\u001b[0m Trial 68 finished with value: 0.00017434464525305362 and parameters: {'x': 2.0132039632403704}. Best is trial 59 with value: 2.7809581080500497e-05.\u001b[0m\n",
      "\u001b[32m[I 2022-03-23 00:49:59,593]\u001b[0m Trial 69 finished with value: 0.91990417413521 and parameters: {'x': 2.959116350676606}. Best is trial 59 with value: 2.7809581080500497e-05.\u001b[0m\n",
      "\u001b[32m[I 2022-03-23 00:49:59,599]\u001b[0m Trial 70 finished with value: 10.182918483666018 and parameters: {'x': -1.191068548882336}. Best is trial 59 with value: 2.7809581080500497e-05.\u001b[0m\n",
      "\u001b[32m[I 2022-03-23 00:49:59,606]\u001b[0m Trial 71 finished with value: 0.0025954819506365536 and parameters: {'x': 1.9490541272462965}. Best is trial 59 with value: 2.7809581080500497e-05.\u001b[0m\n",
      "\u001b[32m[I 2022-03-23 00:49:59,615]\u001b[0m Trial 72 finished with value: 0.04278910015335424 and parameters: {'x': 1.7931447362203363}. Best is trial 59 with value: 2.7809581080500497e-05.\u001b[0m\n",
      "\u001b[32m[I 2022-03-23 00:49:59,620]\u001b[0m Trial 73 finished with value: 3.423195583941353 and parameters: {'x': 0.1498120138911958}. Best is trial 59 with value: 2.7809581080500497e-05.\u001b[0m\n",
      "\u001b[32m[I 2022-03-23 00:49:59,629]\u001b[0m Trial 74 finished with value: 3.6752708482000194 and parameters: {'x': 3.9170995926659677}. Best is trial 59 with value: 2.7809581080500497e-05.\u001b[0m\n",
      "\u001b[32m[I 2022-03-23 00:49:59,636]\u001b[0m Trial 75 finished with value: 1.1615482558351424 and parameters: {'x': 0.9222485185186975}. Best is trial 59 with value: 2.7809581080500497e-05.\u001b[0m\n",
      "\u001b[32m[I 2022-03-23 00:49:59,644]\u001b[0m Trial 76 finished with value: 6.904212213041511 and parameters: {'x': -0.6275867660348555}. Best is trial 59 with value: 2.7809581080500497e-05.\u001b[0m\n",
      "\u001b[32m[I 2022-03-23 00:49:59,651]\u001b[0m Trial 77 finished with value: 0.5163046210518385 and parameters: {'x': 2.718543402343824}. Best is trial 59 with value: 2.7809581080500497e-05.\u001b[0m\n",
      "\u001b[32m[I 2022-03-23 00:49:59,658]\u001b[0m Trial 78 finished with value: 59.27484020286951 and parameters: {'x': -5.699015534655682}. Best is trial 59 with value: 2.7809581080500497e-05.\u001b[0m\n",
      "\u001b[32m[I 2022-03-23 00:49:59,668]\u001b[0m Trial 79 finished with value: 0.3467202856203388 and parameters: {'x': 1.411170410372968}. Best is trial 59 with value: 2.7809581080500497e-05.\u001b[0m\n",
      "\u001b[32m[I 2022-03-23 00:49:59,675]\u001b[0m Trial 80 finished with value: 0.025304570849573216 and parameters: {'x': 1.8409258951005123}. Best is trial 59 with value: 2.7809581080500497e-05.\u001b[0m\n",
      "\u001b[32m[I 2022-03-23 00:49:59,682]\u001b[0m Trial 81 finished with value: 0.06433644909054043 and parameters: {'x': 2.253646307070575}. Best is trial 59 with value: 2.7809581080500497e-05.\u001b[0m\n",
      "\u001b[32m[I 2022-03-23 00:49:59,689]\u001b[0m Trial 82 finished with value: 2.2479783351066738 and parameters: {'x': 3.499325960259034}. Best is trial 59 with value: 2.7809581080500497e-05.\u001b[0m\n",
      "\u001b[32m[I 2022-03-23 00:49:59,695]\u001b[0m Trial 83 finished with value: 0.0037430471550849013 and parameters: {'x': 1.9388195525099325}. Best is trial 59 with value: 2.7809581080500497e-05.\u001b[0m\n",
      "\u001b[32m[I 2022-03-23 00:49:59,704]\u001b[0m Trial 84 finished with value: 1.8432193239583212 and parameters: {'x': 0.6423478634207063}. Best is trial 59 with value: 2.7809581080500497e-05.\u001b[0m\n",
      "\u001b[32m[I 2022-03-23 00:49:59,711]\u001b[0m Trial 85 finished with value: 0.4595090510003087 and parameters: {'x': 2.677870969285681}. Best is trial 59 with value: 2.7809581080500497e-05.\u001b[0m\n",
      "\u001b[32m[I 2022-03-23 00:49:59,717]\u001b[0m Trial 86 finished with value: 4.30060742155953 and parameters: {'x': -0.07379059250434672}. Best is trial 59 with value: 2.7809581080500497e-05.\u001b[0m\n",
      "\u001b[32m[I 2022-03-23 00:49:59,725]\u001b[0m Trial 87 finished with value: 0.005220013560483396 and parameters: {'x': 1.9277503386825696}. Best is trial 59 with value: 2.7809581080500497e-05.\u001b[0m\n",
      "\u001b[32m[I 2022-03-23 00:49:59,731]\u001b[0m Trial 88 finished with value: 5.348931476259661 and parameters: {'x': 4.31277570816101}. Best is trial 59 with value: 2.7809581080500497e-05.\u001b[0m\n",
      "\u001b[32m[I 2022-03-23 00:49:59,738]\u001b[0m Trial 89 finished with value: 0.218916165688586 and parameters: {'x': 1.5321152217814882}. Best is trial 59 with value: 2.7809581080500497e-05.\u001b[0m\n",
      "\u001b[32m[I 2022-03-23 00:49:59,744]\u001b[0m Trial 90 finished with value: 1.8590183928311845 and parameters: {'x': 3.3634582475569923}. Best is trial 59 with value: 2.7809581080500497e-05.\u001b[0m\n",
      "\u001b[32m[I 2022-03-23 00:49:59,751]\u001b[0m Trial 91 finished with value: 0.012078150659588588 and parameters: {'x': 2.10990063994167}. Best is trial 59 with value: 2.7809581080500497e-05.\u001b[0m\n",
      "\u001b[32m[I 2022-03-23 00:49:59,758]\u001b[0m Trial 92 finished with value: 1.0117225185778593 and parameters: {'x': 0.9941558179430279}. Best is trial 59 with value: 2.7809581080500497e-05.\u001b[0m\n",
      "\u001b[32m[I 2022-03-23 00:49:59,765]\u001b[0m Trial 93 finished with value: 0.23698254109206437 and parameters: {'x': 2.486808526108638}. Best is trial 59 with value: 2.7809581080500497e-05.\u001b[0m\n",
      "\u001b[32m[I 2022-03-23 00:49:59,772]\u001b[0m Trial 94 finished with value: 0.05070067248601706 and parameters: {'x': 1.774831901713371}. Best is trial 59 with value: 2.7809581080500497e-05.\u001b[0m\n",
      "\u001b[32m[I 2022-03-23 00:49:59,779]\u001b[0m Trial 95 finished with value: 1.3641995222625796 and parameters: {'x': 3.167989521469512}. Best is trial 59 with value: 2.7809581080500497e-05.\u001b[0m\n",
      "\u001b[32m[I 2022-03-23 00:49:59,785]\u001b[0m Trial 96 finished with value: 2.152021485849944 and parameters: {'x': 0.5330230111382306}. Best is trial 59 with value: 2.7809581080500497e-05.\u001b[0m\n",
      "\u001b[32m[I 2022-03-23 00:49:59,793]\u001b[0m Trial 97 finished with value: 3.6286169445560534 and parameters: {'x': 3.9048928958227687}. Best is trial 59 with value: 2.7809581080500497e-05.\u001b[0m\n",
      "\u001b[32m[I 2022-03-23 00:49:59,801]\u001b[0m Trial 98 finished with value: 0.48392922626659335 and parameters: {'x': 1.304349781667113}. Best is trial 59 with value: 2.7809581080500497e-05.\u001b[0m\n",
      "\u001b[32m[I 2022-03-23 00:49:59,808]\u001b[0m Trial 99 finished with value: 0.003658588465701126 and parameters: {'x': 1.9395137332471153}. Best is trial 59 with value: 2.7809581080500497e-05.\u001b[0m\n"
     ]
    },
    {
     "data": {
      "text/plain": [
       "{'x': 1.9947265209699383}"
      ]
     },
     "execution_count": 3,
     "metadata": {},
     "output_type": "execute_result"
    }
   ],
   "source": [
    "def objective(trial):\n",
    "    x = trial.suggest_float('x', -10, 10)\n",
    "    return (x - 2) ** 2\n",
    "\n",
    "study = optuna.create_study()\n",
    "study.optimize(objective, n_trials=100)\n",
    "\n",
    "study.best_params  # E.g. {'x': 2.002108042}"
   ]
  },
  {
   "cell_type": "code",
   "execution_count": null,
   "metadata": {
    "id": "wFjZjBE5QHuH"
   },
   "outputs": [],
   "source": [
    "### 테스트할 파라미터 세팅 예제\n",
    "# 1) 정수 범위 : suggest_int(시작, 끝)\n",
    "#\"n_estimators\" : suggest_int(\"n_estimators\", 100, 3000)\n",
    "# 2) 카테고리 범위 : sugget_categorical\n",
    "#\"criterion\" : suggest_categorical(\"criterion\", [\"gini\",\"entropy\"])\n",
    "# 3) 수치인데, 범위내에서 균일하게 분포를 한다 (연속형)\n",
    "#             suggest_suggest_uniform\n",
    "#\"min_samples_leaf\" : suggest_uniform(\"min_samples_leaf\", 0.2, 0.8)\n",
    "# 4) 수치인데, 범위 내에서 균등인데(불연속형:정수 등, 연속형 실수가 아닌 경우)"
   ]
  },
  {
   "cell_type": "code",
   "execution_count": null,
   "metadata": {
    "id": "SaRzIANMYU0p"
   },
   "outputs": [],
   "source": []
  },
  {
   "cell_type": "code",
   "execution_count": null,
   "metadata": {
    "id": "YkKvyhBcYU3i"
   },
   "outputs": [],
   "source": [
    "### 데이터 준비"
   ]
  },
  {
   "cell_type": "code",
   "execution_count": null,
   "metadata": {
    "id": "N6aDVe4cYXDk"
   },
   "outputs": [],
   "source": [
    "import numpy as np\n",
    "import pandas as pd\n",
    "import matplotlib.pyplot as plt"
   ]
  },
  {
   "cell_type": "code",
   "execution_count": null,
   "metadata": {
    "id": "lEhXTMAJYezS"
   },
   "outputs": [],
   "source": [
    "# 주의!!) scikit learn으로 one hot encoding을 할 때\n",
    "# 라벨인코더와 원핫인코더 2개가 필요!!!! -> 2단계\n",
    "from sklearn.preprocessing import LabelEncoder\n",
    "from sklearn.preprocessing import OneHotEncoder"
   ]
  },
  {
   "cell_type": "code",
   "execution_count": null,
   "metadata": {
    "id": "NHQt3qpHY27l"
   },
   "outputs": [],
   "source": [
    "def encode_feature(df):\n",
    "    # Cabin은 너무나 종류가 많아서, 앞자리 1개 구역으로 설정\n",
    "    # 인코딩 하기 전에 전처리~~~\n",
    "    df.loc[:,\"Cabin\"] = df.loc[:,\"Cabin\"].apply(lambda x : str(x)[:1])\n",
    "\n",
    "    # 인코딩을 하려는 컬럼 리슽\n",
    "    features = [\"Cabin\",\"Sex\",\"Embarked\"]\n",
    "\n",
    "    # 모두다 다 라벨인코딩\n",
    "    for f in features:\n",
    "        le = LabelEncoder()\n",
    "        le.fit(df.loc[:,f]) # f컬럼에 대한 규칙\n",
    "        df.loc[:,f] = le.transform(df.loc[:,f])\n",
    "    ### 지정한 컬럼들에 대해서 다 수행\n",
    "    return df"
   ]
  },
  {
   "cell_type": "code",
   "execution_count": null,
   "metadata": {
    "id": "5bnCMusQY5xk"
   },
   "outputs": [],
   "source": [
    "# 빵구난 데이터들에 대한 체크 : fillna -> 함수화\n",
    "# 처리 : Age, Cabin, Embarked, Fare\n",
    "# 입력 : DF -> 누락된 값 채우기 -> DF\n",
    "def check_fillna(df):\n",
    "    df[\"Age\"].fillna(df[\"Age\"].mean(), inplace=True)\n",
    "    df[\"Cabin\"].fillna(\"N\", inplace=True)\n",
    "    df[\"Embarked\"].fillna(\"N\", inplace=True)\n",
    "    df[\"Fare\"].fillna(0, inplace=True)\n",
    "    return df"
   ]
  },
  {
   "cell_type": "code",
   "execution_count": null,
   "metadata": {
    "id": "poRyq4qwY7jz"
   },
   "outputs": [],
   "source": [
    "## 일반적인 데이터를 수집하다 보니...불필요한 컬럼!!!\n",
    "# 입력 : DF -> 특정 컬럼 제거 -> DF\n",
    "def drop_features(df):\n",
    "    df.drop([\"PassengerId\", \"Name\",\"Ticket\"], axis =1, inplace=True )\n",
    "    return df"
   ]
  },
  {
   "cell_type": "code",
   "execution_count": null,
   "metadata": {
    "id": "WwKL3QteY9tl"
   },
   "outputs": [],
   "source": [
    "#### 전처리 함수화~~\n",
    "def titanic_preprocess(df):\n",
    "    df = check_fillna(df)\n",
    "    df = drop_features(df)\n",
    "    df = encode_feature(df)\n",
    "    return df"
   ]
  },
  {
   "cell_type": "code",
   "execution_count": null,
   "metadata": {
    "colab": {
     "base_uri": "https://localhost:8080/",
     "height": 206
    },
    "id": "mD-PJS7JY_bu",
    "outputId": "c1f0b02e-fe41-40d7-8122-07d701486a1d"
   },
   "outputs": [
    {
     "data": {
      "text/html": [
       "\n",
       "  <div id=\"df-9eb78707-fc10-494f-8412-717899540602\">\n",
       "    <div class=\"colab-df-container\">\n",
       "      <div>\n",
       "<style scoped>\n",
       "    .dataframe tbody tr th:only-of-type {\n",
       "        vertical-align: middle;\n",
       "    }\n",
       "\n",
       "    .dataframe tbody tr th {\n",
       "        vertical-align: top;\n",
       "    }\n",
       "\n",
       "    .dataframe thead th {\n",
       "        text-align: right;\n",
       "    }\n",
       "</style>\n",
       "<table border=\"1\" class=\"dataframe\">\n",
       "  <thead>\n",
       "    <tr style=\"text-align: right;\">\n",
       "      <th></th>\n",
       "      <th>PassengerId</th>\n",
       "      <th>Survived</th>\n",
       "      <th>Pclass</th>\n",
       "      <th>Name</th>\n",
       "      <th>Sex</th>\n",
       "      <th>Age</th>\n",
       "      <th>SibSp</th>\n",
       "      <th>Parch</th>\n",
       "      <th>Ticket</th>\n",
       "      <th>Fare</th>\n",
       "      <th>Cabin</th>\n",
       "      <th>Embarked</th>\n",
       "    </tr>\n",
       "  </thead>\n",
       "  <tbody>\n",
       "    <tr>\n",
       "      <th>0</th>\n",
       "      <td>1</td>\n",
       "      <td>0</td>\n",
       "      <td>3</td>\n",
       "      <td>Braund, Mr. Owen Harris</td>\n",
       "      <td>male</td>\n",
       "      <td>22.0</td>\n",
       "      <td>1</td>\n",
       "      <td>0</td>\n",
       "      <td>A/5 21171</td>\n",
       "      <td>7.2500</td>\n",
       "      <td>NaN</td>\n",
       "      <td>S</td>\n",
       "    </tr>\n",
       "    <tr>\n",
       "      <th>1</th>\n",
       "      <td>2</td>\n",
       "      <td>1</td>\n",
       "      <td>1</td>\n",
       "      <td>Cumings, Mrs. John Bradley (Florence Briggs Th...</td>\n",
       "      <td>female</td>\n",
       "      <td>38.0</td>\n",
       "      <td>1</td>\n",
       "      <td>0</td>\n",
       "      <td>PC 17599</td>\n",
       "      <td>71.2833</td>\n",
       "      <td>C85</td>\n",
       "      <td>C</td>\n",
       "    </tr>\n",
       "    <tr>\n",
       "      <th>2</th>\n",
       "      <td>3</td>\n",
       "      <td>1</td>\n",
       "      <td>3</td>\n",
       "      <td>Heikkinen, Miss. Laina</td>\n",
       "      <td>female</td>\n",
       "      <td>26.0</td>\n",
       "      <td>0</td>\n",
       "      <td>0</td>\n",
       "      <td>STON/O2. 3101282</td>\n",
       "      <td>7.9250</td>\n",
       "      <td>NaN</td>\n",
       "      <td>S</td>\n",
       "    </tr>\n",
       "    <tr>\n",
       "      <th>3</th>\n",
       "      <td>4</td>\n",
       "      <td>1</td>\n",
       "      <td>1</td>\n",
       "      <td>Futrelle, Mrs. Jacques Heath (Lily May Peel)</td>\n",
       "      <td>female</td>\n",
       "      <td>35.0</td>\n",
       "      <td>1</td>\n",
       "      <td>0</td>\n",
       "      <td>113803</td>\n",
       "      <td>53.1000</td>\n",
       "      <td>C123</td>\n",
       "      <td>S</td>\n",
       "    </tr>\n",
       "    <tr>\n",
       "      <th>4</th>\n",
       "      <td>5</td>\n",
       "      <td>0</td>\n",
       "      <td>3</td>\n",
       "      <td>Allen, Mr. William Henry</td>\n",
       "      <td>male</td>\n",
       "      <td>35.0</td>\n",
       "      <td>0</td>\n",
       "      <td>0</td>\n",
       "      <td>373450</td>\n",
       "      <td>8.0500</td>\n",
       "      <td>NaN</td>\n",
       "      <td>S</td>\n",
       "    </tr>\n",
       "  </tbody>\n",
       "</table>\n",
       "</div>\n",
       "      <button class=\"colab-df-convert\" onclick=\"convertToInteractive('df-9eb78707-fc10-494f-8412-717899540602')\"\n",
       "              title=\"Convert this dataframe to an interactive table.\"\n",
       "              style=\"display:none;\">\n",
       "        \n",
       "  <svg xmlns=\"http://www.w3.org/2000/svg\" height=\"24px\"viewBox=\"0 0 24 24\"\n",
       "       width=\"24px\">\n",
       "    <path d=\"M0 0h24v24H0V0z\" fill=\"none\"/>\n",
       "    <path d=\"M18.56 5.44l.94 2.06.94-2.06 2.06-.94-2.06-.94-.94-2.06-.94 2.06-2.06.94zm-11 1L8.5 8.5l.94-2.06 2.06-.94-2.06-.94L8.5 2.5l-.94 2.06-2.06.94zm10 10l.94 2.06.94-2.06 2.06-.94-2.06-.94-.94-2.06-.94 2.06-2.06.94z\"/><path d=\"M17.41 7.96l-1.37-1.37c-.4-.4-.92-.59-1.43-.59-.52 0-1.04.2-1.43.59L10.3 9.45l-7.72 7.72c-.78.78-.78 2.05 0 2.83L4 21.41c.39.39.9.59 1.41.59.51 0 1.02-.2 1.41-.59l7.78-7.78 2.81-2.81c.8-.78.8-2.07 0-2.86zM5.41 20L4 18.59l7.72-7.72 1.47 1.35L5.41 20z\"/>\n",
       "  </svg>\n",
       "      </button>\n",
       "      \n",
       "  <style>\n",
       "    .colab-df-container {\n",
       "      display:flex;\n",
       "      flex-wrap:wrap;\n",
       "      gap: 12px;\n",
       "    }\n",
       "\n",
       "    .colab-df-convert {\n",
       "      background-color: #E8F0FE;\n",
       "      border: none;\n",
       "      border-radius: 50%;\n",
       "      cursor: pointer;\n",
       "      display: none;\n",
       "      fill: #1967D2;\n",
       "      height: 32px;\n",
       "      padding: 0 0 0 0;\n",
       "      width: 32px;\n",
       "    }\n",
       "\n",
       "    .colab-df-convert:hover {\n",
       "      background-color: #E2EBFA;\n",
       "      box-shadow: 0px 1px 2px rgba(60, 64, 67, 0.3), 0px 1px 3px 1px rgba(60, 64, 67, 0.15);\n",
       "      fill: #174EA6;\n",
       "    }\n",
       "\n",
       "    [theme=dark] .colab-df-convert {\n",
       "      background-color: #3B4455;\n",
       "      fill: #D2E3FC;\n",
       "    }\n",
       "\n",
       "    [theme=dark] .colab-df-convert:hover {\n",
       "      background-color: #434B5C;\n",
       "      box-shadow: 0px 1px 3px 1px rgba(0, 0, 0, 0.15);\n",
       "      filter: drop-shadow(0px 1px 2px rgba(0, 0, 0, 0.3));\n",
       "      fill: #FFFFFF;\n",
       "    }\n",
       "  </style>\n",
       "\n",
       "      <script>\n",
       "        const buttonEl =\n",
       "          document.querySelector('#df-9eb78707-fc10-494f-8412-717899540602 button.colab-df-convert');\n",
       "        buttonEl.style.display =\n",
       "          google.colab.kernel.accessAllowed ? 'block' : 'none';\n",
       "\n",
       "        async function convertToInteractive(key) {\n",
       "          const element = document.querySelector('#df-9eb78707-fc10-494f-8412-717899540602');\n",
       "          const dataTable =\n",
       "            await google.colab.kernel.invokeFunction('convertToInteractive',\n",
       "                                                     [key], {});\n",
       "          if (!dataTable) return;\n",
       "\n",
       "          const docLinkHtml = 'Like what you see? Visit the ' +\n",
       "            '<a target=\"_blank\" href=https://colab.research.google.com/notebooks/data_table.ipynb>data table notebook</a>'\n",
       "            + ' to learn more about interactive tables.';\n",
       "          element.innerHTML = '';\n",
       "          dataTable['output_type'] = 'display_data';\n",
       "          await google.colab.output.renderOutput(dataTable, element);\n",
       "          const docLink = document.createElement('div');\n",
       "          docLink.innerHTML = docLinkHtml;\n",
       "          element.appendChild(docLink);\n",
       "        }\n",
       "      </script>\n",
       "    </div>\n",
       "  </div>\n",
       "  "
      ],
      "text/plain": [
       "   PassengerId  Survived  Pclass  \\\n",
       "0            1         0       3   \n",
       "1            2         1       1   \n",
       "2            3         1       3   \n",
       "3            4         1       1   \n",
       "4            5         0       3   \n",
       "\n",
       "                                                Name     Sex   Age  SibSp  \\\n",
       "0                            Braund, Mr. Owen Harris    male  22.0      1   \n",
       "1  Cumings, Mrs. John Bradley (Florence Briggs Th...  female  38.0      1   \n",
       "2                             Heikkinen, Miss. Laina  female  26.0      0   \n",
       "3       Futrelle, Mrs. Jacques Heath (Lily May Peel)  female  35.0      1   \n",
       "4                           Allen, Mr. William Henry    male  35.0      0   \n",
       "\n",
       "   Parch            Ticket     Fare Cabin Embarked  \n",
       "0      0         A/5 21171   7.2500   NaN        S  \n",
       "1      0          PC 17599  71.2833   C85        C  \n",
       "2      0  STON/O2. 3101282   7.9250   NaN        S  \n",
       "3      0            113803  53.1000  C123        S  \n",
       "4      0            373450   8.0500   NaN        S  "
      ]
     },
     "execution_count": 10,
     "metadata": {},
     "output_type": "execute_result"
    }
   ],
   "source": [
    "path = \"/content/sample_data/train.csv\"\n",
    "data = pd.read_csv(path)\n",
    "data.head()"
   ]
  },
  {
   "cell_type": "code",
   "execution_count": null,
   "metadata": {
    "colab": {
     "base_uri": "https://localhost:8080/"
    },
    "id": "erwOOTCWZnfg",
    "outputId": "7785e0ee-444e-4747-8254-b58cdfc84a6d"
   },
   "outputs": [
    {
     "name": "stdout",
     "output_type": "stream",
     "text": [
      "<class 'pandas.core.frame.DataFrame'>\n",
      "RangeIndex: 891 entries, 0 to 890\n",
      "Data columns (total 11 columns):\n",
      " #   Column       Non-Null Count  Dtype  \n",
      "---  ------       --------------  -----  \n",
      " 0   PassengerId  891 non-null    int64  \n",
      " 1   Pclass       891 non-null    int64  \n",
      " 2   Name         891 non-null    object \n",
      " 3   Sex          891 non-null    object \n",
      " 4   Age          714 non-null    float64\n",
      " 5   SibSp        891 non-null    int64  \n",
      " 6   Parch        891 non-null    int64  \n",
      " 7   Ticket       891 non-null    object \n",
      " 8   Fare         891 non-null    float64\n",
      " 9   Cabin        204 non-null    object \n",
      " 10  Embarked     889 non-null    object \n",
      "dtypes: float64(2), int64(4), object(5)\n",
      "memory usage: 76.7+ KB\n"
     ]
    }
   ],
   "source": [
    "y_titanic = data.loc[:,\"Survived\"]\n",
    "X_titanic = data.drop(\"Survived\", axis = 1)\n",
    "X_titanic.info()"
   ]
  },
  {
   "cell_type": "code",
   "execution_count": null,
   "metadata": {
    "colab": {
     "base_uri": "https://localhost:8080/"
    },
    "id": "-fBmaEYUZsZp",
    "outputId": "cc277d85-78ab-4851-e82b-a6d17ea00e27"
   },
   "outputs": [
    {
     "name": "stdout",
     "output_type": "stream",
     "text": [
      "<class 'pandas.core.frame.DataFrame'>\n",
      "RangeIndex: 891 entries, 0 to 890\n",
      "Data columns (total 8 columns):\n",
      " #   Column    Non-Null Count  Dtype  \n",
      "---  ------    --------------  -----  \n",
      " 0   Pclass    891 non-null    int64  \n",
      " 1   Sex       891 non-null    int64  \n",
      " 2   Age       891 non-null    float64\n",
      " 3   SibSp     891 non-null    int64  \n",
      " 4   Parch     891 non-null    int64  \n",
      " 5   Fare      891 non-null    float64\n",
      " 6   Cabin     891 non-null    int64  \n",
      " 7   Embarked  891 non-null    int64  \n",
      "dtypes: float64(2), int64(6)\n",
      "memory usage: 55.8 KB\n"
     ]
    }
   ],
   "source": [
    "X_titanic = titanic_preprocess(X_titanic)\n",
    "X_titanic.info()"
   ]
  },
  {
   "cell_type": "code",
   "execution_count": null,
   "metadata": {
    "id": "8nqXsajxZuUg"
   },
   "outputs": [],
   "source": [
    "from sklearn.model_selection import train_test_split"
   ]
  },
  {
   "cell_type": "code",
   "execution_count": null,
   "metadata": {
    "id": "Ud9KFvOVZwjF"
   },
   "outputs": [],
   "source": [
    "X_train, X_test, y_train, y_test = train_test_split(X_titanic,  y_titanic, test_size= 0.2,    random_state=1234,   stratify=y_titanic)"
   ]
  },
  {
   "cell_type": "code",
   "execution_count": null,
   "metadata": {
    "id": "d7ILAQV1Z1kH"
   },
   "outputs": [],
   "source": [
    "from sklearn.model_selection import KFold"
   ]
  },
  {
   "cell_type": "code",
   "execution_count": null,
   "metadata": {
    "id": "iQcSQfgQZ3M1"
   },
   "outputs": [],
   "source": [
    "# K-fold를 나누는 과정..\n",
    "kfold = KFold(n_splits = 5, random_state=1234,shuffle=True )"
   ]
  },
  {
   "cell_type": "code",
   "execution_count": null,
   "metadata": {
    "id": "QT9Y6VTQZ48G"
   },
   "outputs": [],
   "source": [
    "from sklearn.model_selection import StratifiedKFold"
   ]
  },
  {
   "cell_type": "code",
   "execution_count": null,
   "metadata": {
    "id": "jAHBxmNHZ95g"
   },
   "outputs": [],
   "source": [
    "str_kfold = StratifiedKFold(n_splits=5, random_state=1234, shuffle=True)"
   ]
  },
  {
   "cell_type": "code",
   "execution_count": null,
   "metadata": {
    "id": "uuU161BHZ_by"
   },
   "outputs": [],
   "source": [
    "from sklearn.model_selection import RepeatedKFold"
   ]
  },
  {
   "cell_type": "code",
   "execution_count": null,
   "metadata": {
    "id": "wh3_aGZPaG_X"
   },
   "outputs": [],
   "source": [
    "rkfold = RepeatedKFold(n_splits = 5, random_state=1234, n_repeats=10)"
   ]
  },
  {
   "cell_type": "code",
   "execution_count": null,
   "metadata": {
    "id": "Skiqmt-SaIGY"
   },
   "outputs": [],
   "source": [
    "from sklearn.model_selection import RepeatedStratifiedKFold"
   ]
  },
  {
   "cell_type": "code",
   "execution_count": null,
   "metadata": {
    "id": "KbW4olmUaJMw"
   },
   "outputs": [],
   "source": [
    "rskfold = RepeatedStratifiedKFold(n_splits = 5, random_state=1234, n_repeats=10)"
   ]
  },
  {
   "cell_type": "code",
   "execution_count": null,
   "metadata": {
    "id": "RfB6s4sbaKSc"
   },
   "outputs": [],
   "source": []
  },
  {
   "cell_type": "code",
   "execution_count": null,
   "metadata": {
    "id": "gSS8MBlGaKYj"
   },
   "outputs": [],
   "source": [
    "# 대충 돌릴때 체크 : cross-val\n",
    "from sklearn.model_selection import cross_val_score\n",
    "\n",
    "# 평가\n",
    "from sklearn.metrics import accuracy_score"
   ]
  },
  {
   "cell_type": "code",
   "execution_count": null,
   "metadata": {
    "id": "4D4tx0e9aLmh"
   },
   "outputs": [],
   "source": [
    "#### Radnom Forest P.T ####"
   ]
  },
  {
   "cell_type": "code",
   "execution_count": null,
   "metadata": {
    "id": "U7wi7T9faM8d"
   },
   "outputs": [],
   "source": [
    "from sklearn.ensemble import RandomForestClassifier"
   ]
  },
  {
   "cell_type": "code",
   "execution_count": null,
   "metadata": {
    "colab": {
     "base_uri": "https://localhost:8080/"
    },
    "id": "S9dY5_-EaOCq",
    "outputId": "c583235b-05d7-417c-b276-2cfb9d2d0901"
   },
   "outputs": [
    {
     "name": "stdout",
     "output_type": "stream",
     "text": [
      "RF K-Fold 0번째 검증 정확도 : 0.8112\n",
      "RF K-Fold 1번째 검증 정확도 : 0.8462\n",
      "RF K-Fold 2번째 검증 정확도 : 0.7887\n",
      "RF K-Fold 3번째 검증 정확도 : 0.7606\n",
      "RF K-Fold 4번째 검증 정확도 : 0.8310\n",
      "RF K-Fold 평균 정확도 : 0.8075248694967005\n"
     ]
    }
   ],
   "source": [
    "rf = RandomForestClassifier(n_jobs=-1, random_state=1234)\n",
    "scores = cross_val_score(rf, X_train, y_train ,\n",
    "                         cv=kfold, scoring=\"accuracy\")\n",
    "for iter_count, acc in enumerate(scores):\n",
    "    print(\"RF K-Fold {0}번째 검증 정확도 : {1:.4f}\".format(iter_count,acc ))\n",
    "print(\"RF K-Fold 평균 정확도 :\", scores.mean())"
   ]
  },
  {
   "cell_type": "code",
   "execution_count": null,
   "metadata": {
    "id": "oOH4eoMtaPLU"
   },
   "outputs": [],
   "source": [
    "def rf_objective(trial):\n",
    "  # 1) Test Parameters : 가변적인 Test할 것들만\n",
    "  params = {\n",
    "      \"criterion\" : trial.suggest_categorical(\"criterion\", [\"gini\",\"entropy\"]),\n",
    "      \"n_estimators\" : trial.suggest_int(\"n_estimators\", 100, 3000),\n",
    "      \"max_depth\" : trial.suggest_int(\"max_depth\", 1, 100),\n",
    "      \"max_leaf_nodes\" : trial.suggest_int(\"max_leaf_nodes\", 2, 1000),\n",
    "      \"max_features\" : trial.suggest_int(\"max_features\", 1, X_train.shape[1]),\n",
    "      \"min_samples_leaf\" : trial.suggest_int(\"min_samples_leaf\", 1, 20)\n",
    "  }\n",
    "\n",
    "  # 2) 1번에서 지정한 파라미터를 받아줄 함수 불러오기\n",
    "  rf = RandomForestClassifier(**params, n_jobs =-1, random_state = 1234)\n",
    "  # skip\n",
    "  rf.fit(X_train, y_train)\n",
    "  \n",
    "  # 3) Cross -Val\n",
    "  scores = cross_val_score(rf, X_train, y_train, cv = kfold, scoring = \"accuracy\")\n",
    "  acc_mean = scores.mean()\n",
    "\n",
    "  # 4) Target -> return\n",
    "  return acc_mean"
   ]
  },
  {
   "cell_type": "code",
   "execution_count": null,
   "metadata": {
    "colab": {
     "background_save": true,
     "base_uri": "https://localhost:8080/"
    },
    "id": "qKUBeOTRfSnU",
    "outputId": "bb4be32b-7f6b-448c-e28c-f9a4251c9af3"
   },
   "outputs": [
    {
     "name": "stderr",
     "output_type": "stream",
     "text": [
      "\u001b[32m[I 2022-03-23 01:59:04,547]\u001b[0m A new study created in memory with name: no-name-4649534b-a487-43b7-9863-6c304d52efcd\u001b[0m\n",
      "\u001b[32m[I 2022-03-23 01:59:35,101]\u001b[0m Trial 0 finished with value: 0.8033093666896484 and parameters: {'criterion': 'gini', 'n_estimators': 1973, 'max_depth': 65, 'max_leaf_nodes': 790, 'max_features': 8, 'min_samples_leaf': 17}. Best is trial 0 with value: 0.8033093666896484.\u001b[0m\n",
      "\u001b[32m[I 2022-03-23 01:59:43,101]\u001b[0m Trial 1 finished with value: 0.801900915985423 and parameters: {'criterion': 'gini', 'n_estimators': 529, 'max_depth': 62, 'max_leaf_nodes': 838, 'max_features': 7, 'min_samples_leaf': 19}. Best is trial 0 with value: 0.8033093666896484.\u001b[0m\n",
      "\u001b[32m[I 2022-03-23 02:00:11,877]\u001b[0m Trial 2 finished with value: 0.824347483502413 and parameters: {'criterion': 'gini', 'n_estimators': 1999, 'max_depth': 59, 'max_leaf_nodes': 334, 'max_features': 6, 'min_samples_leaf': 3}. Best is trial 2 with value: 0.824347483502413.\u001b[0m\n",
      "\u001b[32m[I 2022-03-23 02:00:32,918]\u001b[0m Trial 3 finished with value: 0.8117403723037526 and parameters: {'criterion': 'entropy', 'n_estimators': 1522, 'max_depth': 52, 'max_leaf_nodes': 660, 'max_features': 1, 'min_samples_leaf': 3}. Best is trial 2 with value: 0.824347483502413.\u001b[0m\n",
      "\u001b[32m[I 2022-03-23 02:01:07,207]\u001b[0m Trial 4 finished with value: 0.7934994582881908 and parameters: {'criterion': 'gini', 'n_estimators': 2714, 'max_depth': 73, 'max_leaf_nodes': 400, 'max_features': 1, 'min_samples_leaf': 15}. Best is trial 2 with value: 0.824347483502413.\u001b[0m\n",
      "\u001b[32m[I 2022-03-23 02:01:21,088]\u001b[0m Trial 5 finished with value: 0.8272234807446075 and parameters: {'criterion': 'entropy', 'n_estimators': 946, 'max_depth': 51, 'max_leaf_nodes': 347, 'max_features': 3, 'min_samples_leaf': 7}. Best is trial 5 with value: 0.8272234807446075.\u001b[0m\n",
      "\u001b[32m[I 2022-03-23 02:01:27,138]\u001b[0m Trial 6 finished with value: 0.8033093666896484 and parameters: {'criterion': 'gini', 'n_estimators': 376, 'max_depth': 44, 'max_leaf_nodes': 57, 'max_features': 6, 'min_samples_leaf': 17}. Best is trial 5 with value: 0.8272234807446075.\u001b[0m\n",
      "\u001b[32m[I 2022-03-23 02:02:02,323]\u001b[0m Trial 7 finished with value: 0.8047276666994977 and parameters: {'criterion': 'gini', 'n_estimators': 2535, 'max_depth': 35, 'max_leaf_nodes': 117, 'max_features': 7, 'min_samples_leaf': 11}. Best is trial 5 with value: 0.8272234807446075.\u001b[0m\n",
      "\u001b[32m[I 2022-03-23 02:02:35,812]\u001b[0m Trial 8 finished with value: 0.8145572737122032 and parameters: {'criterion': 'gini', 'n_estimators': 2368, 'max_depth': 32, 'max_leaf_nodes': 958, 'max_features': 6, 'min_samples_leaf': 12}. Best is trial 5 with value: 0.8272234807446075.\u001b[0m\n",
      "\u001b[32m[I 2022-03-23 02:02:58,802]\u001b[0m Trial 9 finished with value: 0.8257362355953906 and parameters: {'criterion': 'entropy', 'n_estimators': 1481, 'max_depth': 10, 'max_leaf_nodes': 267, 'max_features': 7, 'min_samples_leaf': 5}. Best is trial 5 with value: 0.8272234807446075.\u001b[0m\n",
      "\u001b[32m[I 2022-03-23 02:03:11,266]\u001b[0m Trial 10 finished with value: 0.8258051807347581 and parameters: {'criterion': 'entropy', 'n_estimators': 889, 'max_depth': 97, 'max_leaf_nodes': 589, 'max_features': 3, 'min_samples_leaf': 8}. Best is trial 5 with value: 0.8272234807446075.\u001b[0m\n",
      "\u001b[32m[I 2022-03-23 02:03:26,415]\u001b[0m Trial 11 finished with value: 0.828612232837585 and parameters: {'criterion': 'entropy', 'n_estimators': 1054, 'max_depth': 98, 'max_leaf_nodes': 570, 'max_features': 3, 'min_samples_leaf': 7}. Best is trial 11 with value: 0.828612232837585.\u001b[0m\n",
      "\u001b[32m[I 2022-03-23 02:03:40,635]\u001b[0m Trial 12 finished with value: 0.8272136314389835 and parameters: {'criterion': 'entropy', 'n_estimators': 1005, 'max_depth': 86, 'max_leaf_nodes': 506, 'max_features': 3, 'min_samples_leaf': 7}. Best is trial 11 with value: 0.828612232837585.\u001b[0m\n",
      "\u001b[32m[I 2022-03-23 02:03:53,256]\u001b[0m Trial 13 finished with value: 0.7850684526740864 and parameters: {'criterion': 'entropy', 'n_estimators': 979, 'max_depth': 1, 'max_leaf_nodes': 230, 'max_features': 3, 'min_samples_leaf': 1}. Best is trial 11 with value: 0.828612232837585.\u001b[0m\n",
      "\u001b[32m[I 2022-03-23 02:03:56,529]\u001b[0m Trial 14 finished with value: 0.8187826258248794 and parameters: {'criterion': 'entropy', 'n_estimators': 173, 'max_depth': 97, 'max_leaf_nodes': 471, 'max_features': 4, 'min_samples_leaf': 8}. Best is trial 11 with value: 0.828612232837585.\u001b[0m\n",
      "\u001b[32m[I 2022-03-23 02:04:12,482]\u001b[0m Trial 15 finished with value: 0.8201516793066089 and parameters: {'criterion': 'entropy', 'n_estimators': 1197, 'max_depth': 78, 'max_leaf_nodes': 674, 'max_features': 2, 'min_samples_leaf': 13}. Best is trial 11 with value: 0.828612232837585.\u001b[0m\n",
      "\u001b[32m[I 2022-03-23 02:04:21,839]\u001b[0m Trial 16 finished with value: 0.813138973702354 and parameters: {'criterion': 'entropy', 'n_estimators': 648, 'max_depth': 18, 'max_leaf_nodes': 537, 'max_features': 4, 'min_samples_leaf': 9}. Best is trial 11 with value: 0.828612232837585.\u001b[0m\n",
      "\u001b[32m[I 2022-03-23 02:04:39,268]\u001b[0m Trial 17 finished with value: 0.832817886339013 and parameters: {'criterion': 'entropy', 'n_estimators': 1289, 'max_depth': 26, 'max_leaf_nodes': 184, 'max_features': 2, 'min_samples_leaf': 5}. Best is trial 17 with value: 0.832817886339013.\u001b[0m\n",
      "\u001b[32m[I 2022-03-23 02:05:04,135]\u001b[0m Trial 18 finished with value: 0.8356347877474637 and parameters: {'criterion': 'entropy', 'n_estimators': 1837, 'max_depth': 33, 'max_leaf_nodes': 161, 'max_features': 2, 'min_samples_leaf': 5}. Best is trial 18 with value: 0.8356347877474637.\u001b[0m\n",
      "\u001b[32m[I 2022-03-23 02:05:29,324]\u001b[0m Trial 19 finished with value: 0.8215601300108343 and parameters: {'criterion': 'entropy', 'n_estimators': 1845, 'max_depth': 26, 'max_leaf_nodes': 156, 'max_features': 2, 'min_samples_leaf': 4}. Best is trial 18 with value: 0.8356347877474637.\u001b[0m\n",
      "\u001b[32m[I 2022-03-23 02:05:50,862]\u001b[0m Trial 20 finished with value: 0.7415542204274599 and parameters: {'criterion': 'entropy', 'n_estimators': 1725, 'max_depth': 21, 'max_leaf_nodes': 2, 'max_features': 2, 'min_samples_leaf': 5}. Best is trial 18 with value: 0.8356347877474637.\u001b[0m\n",
      "\u001b[32m[I 2022-03-23 02:06:09,950]\u001b[0m Trial 21 finished with value: 0.8032896680784004 and parameters: {'criterion': 'entropy', 'n_estimators': 1300, 'max_depth': 41, 'max_leaf_nodes': 206, 'max_features': 1, 'min_samples_leaf': 1}. Best is trial 18 with value: 0.8356347877474637.\u001b[0m\n",
      "\u001b[32m[I 2022-03-23 02:06:40,420]\u001b[0m Trial 22 finished with value: 0.8300108342361863 and parameters: {'criterion': 'entropy', 'n_estimators': 2270, 'max_depth': 31, 'max_leaf_nodes': 388, 'max_features': 2, 'min_samples_leaf': 6}. Best is trial 18 with value: 0.8356347877474637.\u001b[0m\n",
      "\u001b[32m[I 2022-03-23 02:07:09,753]\u001b[0m Trial 23 finished with value: 0.828592534226337 and parameters: {'criterion': 'entropy', 'n_estimators': 2197, 'max_depth': 15, 'max_leaf_nodes': 277, 'max_features': 2, 'min_samples_leaf': 5}. Best is trial 18 with value: 0.8356347877474637.\u001b[0m\n",
      "\u001b[32m[I 2022-03-23 02:07:40,906]\u001b[0m Trial 24 finished with value: 0.8061262680980992 and parameters: {'criterion': 'entropy', 'n_estimators': 2212, 'max_depth': 29, 'max_leaf_nodes': 135, 'max_features': 5, 'min_samples_leaf': 10}. Best is trial 18 with value: 0.8356347877474637.\u001b[0m\n",
      "\u001b[32m[I 2022-03-23 02:08:19,394]\u001b[0m Trial 25 finished with value: 0.8103319215995273 and parameters: {'criterion': 'entropy', 'n_estimators': 2904, 'max_depth': 40, 'max_leaf_nodes': 72, 'max_features': 1, 'min_samples_leaf': 3}. Best is trial 18 with value: 0.8356347877474637.\u001b[0m\n",
      "\u001b[32m[I 2022-03-23 02:08:41,997]\u001b[0m Trial 26 finished with value: 0.8215995272333301 and parameters: {'criterion': 'entropy', 'n_estimators': 1618, 'max_depth': 7, 'max_leaf_nodes': 337, 'max_features': 4, 'min_samples_leaf': 6}. Best is trial 18 with value: 0.8356347877474637.\u001b[0m\n",
      "\u001b[32m[I 2022-03-23 02:08:59,818]\u001b[0m Trial 27 finished with value: 0.8215798286220821 and parameters: {'criterion': 'entropy', 'n_estimators': 1351, 'max_depth': 22, 'max_leaf_nodes': 422, 'max_features': 2, 'min_samples_leaf': 9}. Best is trial 18 with value: 0.8356347877474637.\u001b[0m\n",
      "\u001b[32m[I 2022-03-23 02:09:32,054]\u001b[0m Trial 28 finished with value: 0.8229784300206836 and parameters: {'criterion': 'entropy', 'n_estimators': 2122, 'max_depth': 46, 'max_leaf_nodes': 191, 'max_features': 5, 'min_samples_leaf': 2}. Best is trial 18 with value: 0.8356347877474637.\u001b[0m\n",
      "\u001b[32m[I 2022-03-23 02:09:56,947]\u001b[0m Trial 29 finished with value: 0.8300108342361863 and parameters: {'criterion': 'entropy', 'n_estimators': 1852, 'max_depth': 35, 'max_leaf_nodes': 277, 'max_features': 2, 'min_samples_leaf': 6}. Best is trial 18 with value: 0.8356347877474637.\u001b[0m\n",
      "\u001b[32m[I 2022-03-23 02:10:21,407]\u001b[0m Trial 30 finished with value: 0.8173446272037822 and parameters: {'criterion': 'entropy', 'n_estimators': 1824, 'max_depth': 38, 'max_leaf_nodes': 265, 'max_features': 1, 'min_samples_leaf': 4}. Best is trial 18 with value: 0.8356347877474637.\u001b[0m\n",
      "\u001b[32m[I 2022-03-23 02:10:53,407]\u001b[0m Trial 31 finished with value: 0.8314094356347876 and parameters: {'criterion': 'entropy', 'n_estimators': 2432, 'max_depth': 28, 'max_leaf_nodes': 417, 'max_features': 2, 'min_samples_leaf': 6}. Best is trial 18 with value: 0.8356347877474637.\u001b[0m\n",
      "\u001b[32m[I 2022-03-23 02:11:25,486]\u001b[0m Trial 32 finished with value: 0.8314094356347876 and parameters: {'criterion': 'entropy', 'n_estimators': 2438, 'max_depth': 24, 'max_leaf_nodes': 284, 'max_features': 2, 'min_samples_leaf': 6}. Best is trial 18 with value: 0.8356347877474637.\u001b[0m\n",
      "\u001b[32m[I 2022-03-23 02:11:57,002]\u001b[0m Trial 33 finished with value: 0.8117502216093765 and parameters: {'criterion': 'entropy', 'n_estimators': 2479, 'max_depth': 13, 'max_leaf_nodes': 435, 'max_features': 3, 'min_samples_leaf': 20}. Best is trial 18 with value: 0.8356347877474637.\u001b[0m\n",
      "\u001b[32m[I 2022-03-23 02:12:32,388]\u001b[0m Trial 34 finished with value: 0.813138973702354 and parameters: {'criterion': 'gini', 'n_estimators': 2818, 'max_depth': 24, 'max_leaf_nodes': 318, 'max_features': 1, 'min_samples_leaf': 3}. Best is trial 18 with value: 0.8356347877474637.\u001b[0m\n",
      "\u001b[32m[I 2022-03-23 02:13:13,177]\u001b[0m Trial 35 finished with value: 0.824347483502413 and parameters: {'criterion': 'entropy', 'n_estimators': 2630, 'max_depth': 57, 'max_leaf_nodes': 87, 'max_features': 8, 'min_samples_leaf': 4}. Best is trial 18 with value: 0.8356347877474637.\u001b[0m\n",
      "\u001b[32m[I 2022-03-23 02:13:39,539]\u001b[0m Trial 36 finished with value: 0.8229685807150597 and parameters: {'criterion': 'gini', 'n_estimators': 2078, 'max_depth': 28, 'max_leaf_nodes': 178, 'max_features': 2, 'min_samples_leaf': 8}. Best is trial 18 with value: 0.8356347877474637.\u001b[0m\n",
      "\u001b[32m[I 2022-03-23 02:14:15,000]\u001b[0m Trial 37 finished with value: 0.6952033881611346 and parameters: {'criterion': 'entropy', 'n_estimators': 2988, 'max_depth': 48, 'max_leaf_nodes': 2, 'max_features': 1, 'min_samples_leaf': 2}. Best is trial 18 with value: 0.8356347877474637.\u001b[0m\n",
      "\u001b[32m[I 2022-03-23 02:14:40,648]\u001b[0m Trial 38 finished with value: 0.8187826258248794 and parameters: {'criterion': 'entropy', 'n_estimators': 1976, 'max_depth': 66, 'max_leaf_nodes': 365, 'max_features': 3, 'min_samples_leaf': 10}. Best is trial 18 with value: 0.8356347877474637.\u001b[0m\n",
      "\u001b[32m[I 2022-03-23 02:15:10,833]\u001b[0m Trial 39 finished with value: 0.8103516202107752 and parameters: {'criterion': 'gini', 'n_estimators': 2374, 'max_depth': 19, 'max_leaf_nodes': 767, 'max_features': 4, 'min_samples_leaf': 13}. Best is trial 18 with value: 0.8356347877474637.\u001b[0m\n",
      "\u001b[32m[I 2022-03-23 02:15:43,773]\u001b[0m Trial 40 finished with value: 0.7948882103811681 and parameters: {'criterion': 'entropy', 'n_estimators': 2711, 'max_depth': 53, 'max_leaf_nodes': 303, 'max_features': 1, 'min_samples_leaf': 16}. Best is trial 18 with value: 0.8356347877474637.\u001b[0m\n",
      "\u001b[32m[I 2022-03-23 02:16:04,349]\u001b[0m Trial 41 finished with value: 0.8328178863390132 and parameters: {'criterion': 'entropy', 'n_estimators': 1593, 'max_depth': 34, 'max_leaf_nodes': 238, 'max_features': 2, 'min_samples_leaf': 6}. Best is trial 18 with value: 0.8356347877474637.\u001b[0m\n",
      "\u001b[32m[I 2022-03-23 02:16:23,564]\u001b[0m Trial 42 finished with value: 0.8328178863390132 and parameters: {'criterion': 'entropy', 'n_estimators': 1461, 'max_depth': 33, 'max_leaf_nodes': 217, 'max_features': 2, 'min_samples_leaf': 6}. Best is trial 18 with value: 0.8356347877474637.\u001b[0m\n",
      "\u001b[32m[I 2022-03-23 02:16:43,595]\u001b[0m Trial 43 finished with value: 0.8271939328277356 and parameters: {'criterion': 'entropy', 'n_estimators': 1490, 'max_depth': 36, 'max_leaf_nodes': 116, 'max_features': 3, 'min_samples_leaf': 5}. Best is trial 18 with value: 0.8356347877474637.\u001b[0m\n",
      "\u001b[32m[I 2022-03-23 02:17:04,573]\u001b[0m Trial 44 finished with value: 0.8300108342361863 and parameters: {'criterion': 'entropy', 'n_estimators': 1663, 'max_depth': 43, 'max_leaf_nodes': 233, 'max_features': 2, 'min_samples_leaf': 7}. Best is trial 18 with value: 0.8356347877474637.\u001b[0m\n",
      "\u001b[32m[I 2022-03-23 02:17:20,106]\u001b[0m Trial 45 finished with value: 0.8145474244065793 and parameters: {'criterion': 'gini', 'n_estimators': 1162, 'max_depth': 33, 'max_leaf_nodes': 51, 'max_features': 3, 'min_samples_leaf': 3}. Best is trial 18 with value: 0.8356347877474637.\u001b[0m\n",
      "\u001b[32m[I 2022-03-23 02:17:30,229]\u001b[0m Trial 46 finished with value: 0.8229587314094357 and parameters: {'criterion': 'entropy', 'n_estimators': 753, 'max_depth': 30, 'max_leaf_nodes': 218, 'max_features': 1, 'min_samples_leaf': 7}. Best is trial 18 with value: 0.8356347877474637.\u001b[0m\n",
      "\u001b[32m[I 2022-03-23 02:17:48,107]\u001b[0m Trial 47 finished with value: 0.8215995272333302 and parameters: {'criterion': 'entropy', 'n_estimators': 1353, 'max_depth': 14, 'max_leaf_nodes': 133, 'max_features': 3, 'min_samples_leaf': 9}. Best is trial 18 with value: 0.8356347877474637.\u001b[0m\n",
      "\u001b[32m[I 2022-03-23 02:18:08,010]\u001b[0m Trial 48 finished with value: 0.8229685807150595 and parameters: {'criterion': 'entropy', 'n_estimators': 1510, 'max_depth': 38, 'max_leaf_nodes': 172, 'max_features': 2, 'min_samples_leaf': 4}. Best is trial 18 with value: 0.8356347877474637.\u001b[0m\n",
      "\u001b[32m[I 2022-03-23 02:18:22,474]\u001b[0m Trial 49 finished with value: 0.8117305229981288 and parameters: {'criterion': 'gini', 'n_estimators': 1156, 'max_depth': 6, 'max_leaf_nodes': 969, 'max_features': 1, 'min_samples_leaf': 8}. Best is trial 18 with value: 0.8356347877474637.\u001b[0m\n"
     ]
    }
   ],
   "source": [
    "## 위에서 설정한 목적함수 rf_objective -> 어떻세 학습할지!!!(\n",
    "## 예) 목적함수가 에러 -> min , 목적함수가 정확 -> max\n",
    "## + 방식에 튜닝\n",
    "#from optuna.samplers import TPESampler\n",
    "#rf_study = optuna.create_study(direction= \"maximize\", sample = TPESampler())\n",
    "\n",
    "# 아직 시행은 아니고 계획만\n",
    "rf_study = optuna.create_study(direction= \"maximize\")\n",
    "# 실제 학습 수행은 \n",
    "rf_study.optimize(rf_objective, n_trials = 50)"
   ]
  },
  {
   "cell_type": "code",
   "execution_count": 29,
   "metadata": {
    "colab": {
     "base_uri": "https://localhost:8080/"
    },
    "id": "cwrSdG2Kf74Z",
    "outputId": "95aff1ac-11d1-40d8-ab15-7a738952870d"
   },
   "outputs": [
    {
     "name": "stdout",
     "output_type": "stream",
     "text": [
      "{'criterion': 'entropy', 'n_estimators': 1837, 'max_depth': 33, 'max_leaf_nodes': 161, 'max_features': 2, 'min_samples_leaf': 5}\n",
      "--------\n",
      "[0.8356347877474637]\n"
     ]
    }
   ],
   "source": [
    "## 학습한 결과에 대해서 제일 좋았던 결과와 파라미터\n",
    "print(rf_study.best_trial.params)\n",
    "print(\"-\" * 8)\n",
    "print(rf_study.best_trial.values)"
   ]
  },
  {
   "cell_type": "code",
   "execution_count": 33,
   "metadata": {
    "colab": {
     "base_uri": "https://localhost:8080/",
     "height": 542
    },
    "id": "QRXzNC1Qlqx5",
    "outputId": "48c27683-56ab-4f07-df28-cf0644c353ba"
   },
   "outputs": [
    {
     "data": {
      "text/html": [
       "<html>\n",
       "<head><meta charset=\"utf-8\" /></head>\n",
       "<body>\n",
       "    <div>            <script src=\"https://cdnjs.cloudflare.com/ajax/libs/mathjax/2.7.5/MathJax.js?config=TeX-AMS-MML_SVG\"></script><script type=\"text/javascript\">if (window.MathJax) {MathJax.Hub.Config({SVG: {font: \"STIX-Web\"}});}</script>                <script type=\"text/javascript\">window.PlotlyConfig = {MathJaxConfig: 'local'};</script>\n",
       "        <script src=\"https://cdn.plot.ly/plotly-2.8.3.min.js\"></script>                <div id=\"8d3cb710-ef6b-41af-9fd3-21a0f80a2afd\" class=\"plotly-graph-div\" style=\"height:525px; width:100%;\"></div>            <script type=\"text/javascript\">                                    window.PLOTLYENV=window.PLOTLYENV || {};                                    if (document.getElementById(\"8d3cb710-ef6b-41af-9fd3-21a0f80a2afd\")) {                    Plotly.newPlot(                        \"8d3cb710-ef6b-41af-9fd3-21a0f80a2afd\",                        [{\"mode\":\"markers\",\"name\":\"Objective Value\",\"x\":[0,1,2,3,4,5,6,7,8,9,10,11,12,13,14,15,16,17,18,19,20,21,22,23,24,25,26,27,28,29,30,31,32,33,34,35,36,37,38,39,40,41,42,43,44,45,46,47,48,49],\"y\":[0.8033093666896484,0.801900915985423,0.824347483502413,0.8117403723037526,0.7934994582881908,0.8272234807446075,0.8033093666896484,0.8047276666994977,0.8145572737122032,0.8257362355953906,0.8258051807347581,0.828612232837585,0.8272136314389835,0.7850684526740864,0.8187826258248794,0.8201516793066089,0.813138973702354,0.832817886339013,0.8356347877474637,0.8215601300108343,0.7415542204274599,0.8032896680784004,0.8300108342361863,0.828592534226337,0.8061262680980992,0.8103319215995273,0.8215995272333301,0.8215798286220821,0.8229784300206836,0.8300108342361863,0.8173446272037822,0.8314094356347876,0.8314094356347876,0.8117502216093765,0.813138973702354,0.824347483502413,0.8229685807150597,0.6952033881611346,0.8187826258248794,0.8103516202107752,0.7948882103811681,0.8328178863390132,0.8328178863390132,0.8271939328277356,0.8300108342361863,0.8145474244065793,0.8229587314094357,0.8215995272333302,0.8229685807150595,0.8117305229981288],\"type\":\"scatter\"},{\"name\":\"Best Value\",\"x\":[0,1,2,3,4,5,6,7,8,9,10,11,12,13,14,15,16,17,18,19,20,21,22,23,24,25,26,27,28,29,30,31,32,33,34,35,36,37,38,39,40,41,42,43,44,45,46,47,48,49],\"y\":[0.8033093666896484,0.8033093666896484,0.824347483502413,0.824347483502413,0.824347483502413,0.8272234807446075,0.8272234807446075,0.8272234807446075,0.8272234807446075,0.8272234807446075,0.8272234807446075,0.828612232837585,0.828612232837585,0.828612232837585,0.828612232837585,0.828612232837585,0.828612232837585,0.832817886339013,0.8356347877474637,0.8356347877474637,0.8356347877474637,0.8356347877474637,0.8356347877474637,0.8356347877474637,0.8356347877474637,0.8356347877474637,0.8356347877474637,0.8356347877474637,0.8356347877474637,0.8356347877474637,0.8356347877474637,0.8356347877474637,0.8356347877474637,0.8356347877474637,0.8356347877474637,0.8356347877474637,0.8356347877474637,0.8356347877474637,0.8356347877474637,0.8356347877474637,0.8356347877474637,0.8356347877474637,0.8356347877474637,0.8356347877474637,0.8356347877474637,0.8356347877474637,0.8356347877474637,0.8356347877474637,0.8356347877474637,0.8356347877474637],\"type\":\"scatter\"}],                        {\"title\":{\"text\":\"Optimization History Plot\"},\"xaxis\":{\"title\":{\"text\":\"#Trials\"}},\"yaxis\":{\"title\":{\"text\":\"Objective Value\"}},\"template\":{\"data\":{\"bar\":[{\"error_x\":{\"color\":\"#2a3f5f\"},\"error_y\":{\"color\":\"#2a3f5f\"},\"marker\":{\"line\":{\"color\":\"#E5ECF6\",\"width\":0.5},\"pattern\":{\"fillmode\":\"overlay\",\"size\":10,\"solidity\":0.2}},\"type\":\"bar\"}],\"barpolar\":[{\"marker\":{\"line\":{\"color\":\"#E5ECF6\",\"width\":0.5},\"pattern\":{\"fillmode\":\"overlay\",\"size\":10,\"solidity\":0.2}},\"type\":\"barpolar\"}],\"carpet\":[{\"aaxis\":{\"endlinecolor\":\"#2a3f5f\",\"gridcolor\":\"white\",\"linecolor\":\"white\",\"minorgridcolor\":\"white\",\"startlinecolor\":\"#2a3f5f\"},\"baxis\":{\"endlinecolor\":\"#2a3f5f\",\"gridcolor\":\"white\",\"linecolor\":\"white\",\"minorgridcolor\":\"white\",\"startlinecolor\":\"#2a3f5f\"},\"type\":\"carpet\"}],\"choropleth\":[{\"colorbar\":{\"outlinewidth\":0,\"ticks\":\"\"},\"type\":\"choropleth\"}],\"contour\":[{\"colorbar\":{\"outlinewidth\":0,\"ticks\":\"\"},\"colorscale\":[[0.0,\"#0d0887\"],[0.1111111111111111,\"#46039f\"],[0.2222222222222222,\"#7201a8\"],[0.3333333333333333,\"#9c179e\"],[0.4444444444444444,\"#bd3786\"],[0.5555555555555556,\"#d8576b\"],[0.6666666666666666,\"#ed7953\"],[0.7777777777777778,\"#fb9f3a\"],[0.8888888888888888,\"#fdca26\"],[1.0,\"#f0f921\"]],\"type\":\"contour\"}],\"contourcarpet\":[{\"colorbar\":{\"outlinewidth\":0,\"ticks\":\"\"},\"type\":\"contourcarpet\"}],\"heatmap\":[{\"colorbar\":{\"outlinewidth\":0,\"ticks\":\"\"},\"colorscale\":[[0.0,\"#0d0887\"],[0.1111111111111111,\"#46039f\"],[0.2222222222222222,\"#7201a8\"],[0.3333333333333333,\"#9c179e\"],[0.4444444444444444,\"#bd3786\"],[0.5555555555555556,\"#d8576b\"],[0.6666666666666666,\"#ed7953\"],[0.7777777777777778,\"#fb9f3a\"],[0.8888888888888888,\"#fdca26\"],[1.0,\"#f0f921\"]],\"type\":\"heatmap\"}],\"heatmapgl\":[{\"colorbar\":{\"outlinewidth\":0,\"ticks\":\"\"},\"colorscale\":[[0.0,\"#0d0887\"],[0.1111111111111111,\"#46039f\"],[0.2222222222222222,\"#7201a8\"],[0.3333333333333333,\"#9c179e\"],[0.4444444444444444,\"#bd3786\"],[0.5555555555555556,\"#d8576b\"],[0.6666666666666666,\"#ed7953\"],[0.7777777777777778,\"#fb9f3a\"],[0.8888888888888888,\"#fdca26\"],[1.0,\"#f0f921\"]],\"type\":\"heatmapgl\"}],\"histogram\":[{\"marker\":{\"pattern\":{\"fillmode\":\"overlay\",\"size\":10,\"solidity\":0.2}},\"type\":\"histogram\"}],\"histogram2d\":[{\"colorbar\":{\"outlinewidth\":0,\"ticks\":\"\"},\"colorscale\":[[0.0,\"#0d0887\"],[0.1111111111111111,\"#46039f\"],[0.2222222222222222,\"#7201a8\"],[0.3333333333333333,\"#9c179e\"],[0.4444444444444444,\"#bd3786\"],[0.5555555555555556,\"#d8576b\"],[0.6666666666666666,\"#ed7953\"],[0.7777777777777778,\"#fb9f3a\"],[0.8888888888888888,\"#fdca26\"],[1.0,\"#f0f921\"]],\"type\":\"histogram2d\"}],\"histogram2dcontour\":[{\"colorbar\":{\"outlinewidth\":0,\"ticks\":\"\"},\"colorscale\":[[0.0,\"#0d0887\"],[0.1111111111111111,\"#46039f\"],[0.2222222222222222,\"#7201a8\"],[0.3333333333333333,\"#9c179e\"],[0.4444444444444444,\"#bd3786\"],[0.5555555555555556,\"#d8576b\"],[0.6666666666666666,\"#ed7953\"],[0.7777777777777778,\"#fb9f3a\"],[0.8888888888888888,\"#fdca26\"],[1.0,\"#f0f921\"]],\"type\":\"histogram2dcontour\"}],\"mesh3d\":[{\"colorbar\":{\"outlinewidth\":0,\"ticks\":\"\"},\"type\":\"mesh3d\"}],\"parcoords\":[{\"line\":{\"colorbar\":{\"outlinewidth\":0,\"ticks\":\"\"}},\"type\":\"parcoords\"}],\"pie\":[{\"automargin\":true,\"type\":\"pie\"}],\"scatter\":[{\"marker\":{\"colorbar\":{\"outlinewidth\":0,\"ticks\":\"\"}},\"type\":\"scatter\"}],\"scatter3d\":[{\"line\":{\"colorbar\":{\"outlinewidth\":0,\"ticks\":\"\"}},\"marker\":{\"colorbar\":{\"outlinewidth\":0,\"ticks\":\"\"}},\"type\":\"scatter3d\"}],\"scattercarpet\":[{\"marker\":{\"colorbar\":{\"outlinewidth\":0,\"ticks\":\"\"}},\"type\":\"scattercarpet\"}],\"scattergeo\":[{\"marker\":{\"colorbar\":{\"outlinewidth\":0,\"ticks\":\"\"}},\"type\":\"scattergeo\"}],\"scattergl\":[{\"marker\":{\"colorbar\":{\"outlinewidth\":0,\"ticks\":\"\"}},\"type\":\"scattergl\"}],\"scattermapbox\":[{\"marker\":{\"colorbar\":{\"outlinewidth\":0,\"ticks\":\"\"}},\"type\":\"scattermapbox\"}],\"scatterpolar\":[{\"marker\":{\"colorbar\":{\"outlinewidth\":0,\"ticks\":\"\"}},\"type\":\"scatterpolar\"}],\"scatterpolargl\":[{\"marker\":{\"colorbar\":{\"outlinewidth\":0,\"ticks\":\"\"}},\"type\":\"scatterpolargl\"}],\"scatterternary\":[{\"marker\":{\"colorbar\":{\"outlinewidth\":0,\"ticks\":\"\"}},\"type\":\"scatterternary\"}],\"surface\":[{\"colorbar\":{\"outlinewidth\":0,\"ticks\":\"\"},\"colorscale\":[[0.0,\"#0d0887\"],[0.1111111111111111,\"#46039f\"],[0.2222222222222222,\"#7201a8\"],[0.3333333333333333,\"#9c179e\"],[0.4444444444444444,\"#bd3786\"],[0.5555555555555556,\"#d8576b\"],[0.6666666666666666,\"#ed7953\"],[0.7777777777777778,\"#fb9f3a\"],[0.8888888888888888,\"#fdca26\"],[1.0,\"#f0f921\"]],\"type\":\"surface\"}],\"table\":[{\"cells\":{\"fill\":{\"color\":\"#EBF0F8\"},\"line\":{\"color\":\"white\"}},\"header\":{\"fill\":{\"color\":\"#C8D4E3\"},\"line\":{\"color\":\"white\"}},\"type\":\"table\"}]},\"layout\":{\"annotationdefaults\":{\"arrowcolor\":\"#2a3f5f\",\"arrowhead\":0,\"arrowwidth\":1},\"autotypenumbers\":\"strict\",\"coloraxis\":{\"colorbar\":{\"outlinewidth\":0,\"ticks\":\"\"}},\"colorscale\":{\"diverging\":[[0,\"#8e0152\"],[0.1,\"#c51b7d\"],[0.2,\"#de77ae\"],[0.3,\"#f1b6da\"],[0.4,\"#fde0ef\"],[0.5,\"#f7f7f7\"],[0.6,\"#e6f5d0\"],[0.7,\"#b8e186\"],[0.8,\"#7fbc41\"],[0.9,\"#4d9221\"],[1,\"#276419\"]],\"sequential\":[[0.0,\"#0d0887\"],[0.1111111111111111,\"#46039f\"],[0.2222222222222222,\"#7201a8\"],[0.3333333333333333,\"#9c179e\"],[0.4444444444444444,\"#bd3786\"],[0.5555555555555556,\"#d8576b\"],[0.6666666666666666,\"#ed7953\"],[0.7777777777777778,\"#fb9f3a\"],[0.8888888888888888,\"#fdca26\"],[1.0,\"#f0f921\"]],\"sequentialminus\":[[0.0,\"#0d0887\"],[0.1111111111111111,\"#46039f\"],[0.2222222222222222,\"#7201a8\"],[0.3333333333333333,\"#9c179e\"],[0.4444444444444444,\"#bd3786\"],[0.5555555555555556,\"#d8576b\"],[0.6666666666666666,\"#ed7953\"],[0.7777777777777778,\"#fb9f3a\"],[0.8888888888888888,\"#fdca26\"],[1.0,\"#f0f921\"]]},\"colorway\":[\"#636efa\",\"#EF553B\",\"#00cc96\",\"#ab63fa\",\"#FFA15A\",\"#19d3f3\",\"#FF6692\",\"#B6E880\",\"#FF97FF\",\"#FECB52\"],\"font\":{\"color\":\"#2a3f5f\"},\"geo\":{\"bgcolor\":\"white\",\"lakecolor\":\"white\",\"landcolor\":\"#E5ECF6\",\"showlakes\":true,\"showland\":true,\"subunitcolor\":\"white\"},\"hoverlabel\":{\"align\":\"left\"},\"hovermode\":\"closest\",\"mapbox\":{\"style\":\"light\"},\"paper_bgcolor\":\"white\",\"plot_bgcolor\":\"#E5ECF6\",\"polar\":{\"angularaxis\":{\"gridcolor\":\"white\",\"linecolor\":\"white\",\"ticks\":\"\"},\"bgcolor\":\"#E5ECF6\",\"radialaxis\":{\"gridcolor\":\"white\",\"linecolor\":\"white\",\"ticks\":\"\"}},\"scene\":{\"xaxis\":{\"backgroundcolor\":\"#E5ECF6\",\"gridcolor\":\"white\",\"gridwidth\":2,\"linecolor\":\"white\",\"showbackground\":true,\"ticks\":\"\",\"zerolinecolor\":\"white\"},\"yaxis\":{\"backgroundcolor\":\"#E5ECF6\",\"gridcolor\":\"white\",\"gridwidth\":2,\"linecolor\":\"white\",\"showbackground\":true,\"ticks\":\"\",\"zerolinecolor\":\"white\"},\"zaxis\":{\"backgroundcolor\":\"#E5ECF6\",\"gridcolor\":\"white\",\"gridwidth\":2,\"linecolor\":\"white\",\"showbackground\":true,\"ticks\":\"\",\"zerolinecolor\":\"white\"}},\"shapedefaults\":{\"line\":{\"color\":\"#2a3f5f\"}},\"ternary\":{\"aaxis\":{\"gridcolor\":\"white\",\"linecolor\":\"white\",\"ticks\":\"\"},\"baxis\":{\"gridcolor\":\"white\",\"linecolor\":\"white\",\"ticks\":\"\"},\"bgcolor\":\"#E5ECF6\",\"caxis\":{\"gridcolor\":\"white\",\"linecolor\":\"white\",\"ticks\":\"\"}},\"title\":{\"x\":0.05},\"xaxis\":{\"automargin\":true,\"gridcolor\":\"white\",\"linecolor\":\"white\",\"ticks\":\"\",\"title\":{\"standoff\":15},\"zerolinecolor\":\"white\",\"zerolinewidth\":2},\"yaxis\":{\"automargin\":true,\"gridcolor\":\"white\",\"linecolor\":\"white\",\"ticks\":\"\",\"title\":{\"standoff\":15},\"zerolinecolor\":\"white\",\"zerolinewidth\":2}}}},                        {\"responsive\": true}                    ).then(function(){\n",
       "                            \n",
       "var gd = document.getElementById('8d3cb710-ef6b-41af-9fd3-21a0f80a2afd');\n",
       "var x = new MutationObserver(function (mutations, observer) {{\n",
       "        var display = window.getComputedStyle(gd).display;\n",
       "        if (!display || display === 'none') {{\n",
       "            console.log([gd, 'removed!']);\n",
       "            Plotly.purge(gd);\n",
       "            observer.disconnect();\n",
       "        }}\n",
       "}});\n",
       "\n",
       "// Listen for the removal of the full notebook cells\n",
       "var notebookContainer = gd.closest('#notebook-container');\n",
       "if (notebookContainer) {{\n",
       "    x.observe(notebookContainer, {childList: true});\n",
       "}}\n",
       "\n",
       "// Listen for the clearing of the current output cell\n",
       "var outputEl = gd.closest('.output');\n",
       "if (outputEl) {{\n",
       "    x.observe(outputEl, {childList: true});\n",
       "}}\n",
       "\n",
       "                        })                };                            </script>        </div>\n",
       "</body>\n",
       "</html>"
      ]
     },
     "metadata": {},
     "output_type": "display_data"
    }
   ],
   "source": [
    "#테스트한 값들에 대해서 시각화 관련 부분\n",
    "optuna.visualization.plot_optimization_history(rf_study)"
   ]
  },
  {
   "cell_type": "code",
   "execution_count": 31,
   "metadata": {
    "colab": {
     "base_uri": "https://localhost:8080/",
     "height": 542
    },
    "id": "GXsJJkPal0Kn",
    "outputId": "c3f800e6-8b17-4355-b2dd-2fcbd6e0d733"
   },
   "outputs": [
    {
     "data": {
      "text/html": [
       "<html>\n",
       "<head><meta charset=\"utf-8\" /></head>\n",
       "<body>\n",
       "    <div>            <script src=\"https://cdnjs.cloudflare.com/ajax/libs/mathjax/2.7.5/MathJax.js?config=TeX-AMS-MML_SVG\"></script><script type=\"text/javascript\">if (window.MathJax) {MathJax.Hub.Config({SVG: {font: \"STIX-Web\"}});}</script>                <script type=\"text/javascript\">window.PlotlyConfig = {MathJaxConfig: 'local'};</script>\n",
       "        <script src=\"https://cdn.plot.ly/plotly-2.8.3.min.js\"></script>                <div id=\"47365895-65a5-47ae-b9ed-5d31ac522305\" class=\"plotly-graph-div\" style=\"height:525px; width:100%;\"></div>            <script type=\"text/javascript\">                                    window.PLOTLYENV=window.PLOTLYENV || {};                                    if (document.getElementById(\"47365895-65a5-47ae-b9ed-5d31ac522305\")) {                    Plotly.newPlot(                        \"47365895-65a5-47ae-b9ed-5d31ac522305\",                        [{\"dimensions\":[{\"label\":\"Objective Value\",\"range\":[0.6952033881611346,0.8356347877474637],\"values\":[0.8033093666896484,0.801900915985423,0.824347483502413,0.8117403723037526,0.7934994582881908,0.8272234807446075,0.8033093666896484,0.8047276666994977,0.8145572737122032,0.8257362355953906,0.8258051807347581,0.828612232837585,0.8272136314389835,0.7850684526740864,0.8187826258248794,0.8201516793066089,0.813138973702354,0.832817886339013,0.8356347877474637,0.8215601300108343,0.7415542204274599,0.8032896680784004,0.8300108342361863,0.828592534226337,0.8061262680980992,0.8103319215995273,0.8215995272333301,0.8215798286220821,0.8229784300206836,0.8300108342361863,0.8173446272037822,0.8314094356347876,0.8314094356347876,0.8117502216093765,0.813138973702354,0.824347483502413,0.8229685807150597,0.6952033881611346,0.8187826258248794,0.8103516202107752,0.7948882103811681,0.8328178863390132,0.8328178863390132,0.8271939328277356,0.8300108342361863,0.8145474244065793,0.8229587314094357,0.8215995272333302,0.8229685807150595,0.8117305229981288]},{\"label\":\"criterion\",\"range\":[0,1],\"ticktext\":[\"gini\",\"entropy\"],\"tickvals\":[0,1],\"values\":[0,0,0,1,0,1,0,0,0,1,1,1,1,1,1,1,1,1,1,1,1,1,1,1,1,1,1,1,1,1,1,1,1,1,0,1,0,1,1,0,1,1,1,1,1,0,1,1,1,0]},{\"label\":\"max_depth\",\"range\":[1,98],\"values\":[65,62,59,52,73,51,44,35,32,10,97,98,86,1,97,78,18,26,33,26,21,41,31,15,29,40,7,22,46,35,38,28,24,13,24,57,28,48,66,19,53,34,33,36,43,33,30,14,38,6]},{\"label\":\"max_features\",\"range\":[1,8],\"values\":[8,7,6,1,1,3,6,7,6,7,3,3,3,3,4,2,4,2,2,2,2,1,2,2,5,1,4,2,5,2,1,2,2,3,1,8,2,1,3,4,1,2,2,3,2,3,1,3,2,1]},{\"label\":\"max_leaf_nodes\",\"range\":[2,969],\"values\":[790,838,334,660,400,347,57,117,958,267,589,570,506,230,471,674,537,184,161,156,2,206,388,277,135,72,337,422,191,277,265,417,284,435,318,87,178,2,365,767,303,238,217,116,233,51,218,133,172,969]},{\"label\":\"min_samples_leaf\",\"range\":[1,20],\"values\":[17,19,3,3,15,7,17,11,12,5,8,7,7,1,8,13,9,5,5,4,5,1,6,5,10,3,6,9,2,6,4,6,6,20,3,4,8,2,10,13,16,6,6,5,7,3,7,9,4,8]},{\"label\":\"n_estimators\",\"range\":[173,2988],\"values\":[1973,529,1999,1522,2714,946,376,2535,2368,1481,889,1054,1005,979,173,1197,648,1289,1837,1845,1725,1300,2270,2197,2212,2904,1618,1351,2122,1852,1824,2432,2438,2479,2818,2630,2078,2988,1976,2374,2711,1593,1461,1490,1663,1162,753,1353,1510,1156]}],\"labelangle\":30,\"labelside\":\"bottom\",\"line\":{\"color\":[0.8033093666896484,0.801900915985423,0.824347483502413,0.8117403723037526,0.7934994582881908,0.8272234807446075,0.8033093666896484,0.8047276666994977,0.8145572737122032,0.8257362355953906,0.8258051807347581,0.828612232837585,0.8272136314389835,0.7850684526740864,0.8187826258248794,0.8201516793066089,0.813138973702354,0.832817886339013,0.8356347877474637,0.8215601300108343,0.7415542204274599,0.8032896680784004,0.8300108342361863,0.828592534226337,0.8061262680980992,0.8103319215995273,0.8215995272333301,0.8215798286220821,0.8229784300206836,0.8300108342361863,0.8173446272037822,0.8314094356347876,0.8314094356347876,0.8117502216093765,0.813138973702354,0.824347483502413,0.8229685807150597,0.6952033881611346,0.8187826258248794,0.8103516202107752,0.7948882103811681,0.8328178863390132,0.8328178863390132,0.8271939328277356,0.8300108342361863,0.8145474244065793,0.8229587314094357,0.8215995272333302,0.8229685807150595,0.8117305229981288],\"colorbar\":{\"title\":{\"text\":\"Objective Value\"}},\"colorscale\":[[0.0,\"rgb(247,251,255)\"],[0.125,\"rgb(222,235,247)\"],[0.25,\"rgb(198,219,239)\"],[0.375,\"rgb(158,202,225)\"],[0.5,\"rgb(107,174,214)\"],[0.625,\"rgb(66,146,198)\"],[0.75,\"rgb(33,113,181)\"],[0.875,\"rgb(8,81,156)\"],[1.0,\"rgb(8,48,107)\"]],\"reversescale\":false,\"showscale\":true},\"type\":\"parcoords\"}],                        {\"title\":{\"text\":\"Parallel Coordinate Plot\"},\"template\":{\"data\":{\"bar\":[{\"error_x\":{\"color\":\"#2a3f5f\"},\"error_y\":{\"color\":\"#2a3f5f\"},\"marker\":{\"line\":{\"color\":\"#E5ECF6\",\"width\":0.5},\"pattern\":{\"fillmode\":\"overlay\",\"size\":10,\"solidity\":0.2}},\"type\":\"bar\"}],\"barpolar\":[{\"marker\":{\"line\":{\"color\":\"#E5ECF6\",\"width\":0.5},\"pattern\":{\"fillmode\":\"overlay\",\"size\":10,\"solidity\":0.2}},\"type\":\"barpolar\"}],\"carpet\":[{\"aaxis\":{\"endlinecolor\":\"#2a3f5f\",\"gridcolor\":\"white\",\"linecolor\":\"white\",\"minorgridcolor\":\"white\",\"startlinecolor\":\"#2a3f5f\"},\"baxis\":{\"endlinecolor\":\"#2a3f5f\",\"gridcolor\":\"white\",\"linecolor\":\"white\",\"minorgridcolor\":\"white\",\"startlinecolor\":\"#2a3f5f\"},\"type\":\"carpet\"}],\"choropleth\":[{\"colorbar\":{\"outlinewidth\":0,\"ticks\":\"\"},\"type\":\"choropleth\"}],\"contour\":[{\"colorbar\":{\"outlinewidth\":0,\"ticks\":\"\"},\"colorscale\":[[0.0,\"#0d0887\"],[0.1111111111111111,\"#46039f\"],[0.2222222222222222,\"#7201a8\"],[0.3333333333333333,\"#9c179e\"],[0.4444444444444444,\"#bd3786\"],[0.5555555555555556,\"#d8576b\"],[0.6666666666666666,\"#ed7953\"],[0.7777777777777778,\"#fb9f3a\"],[0.8888888888888888,\"#fdca26\"],[1.0,\"#f0f921\"]],\"type\":\"contour\"}],\"contourcarpet\":[{\"colorbar\":{\"outlinewidth\":0,\"ticks\":\"\"},\"type\":\"contourcarpet\"}],\"heatmap\":[{\"colorbar\":{\"outlinewidth\":0,\"ticks\":\"\"},\"colorscale\":[[0.0,\"#0d0887\"],[0.1111111111111111,\"#46039f\"],[0.2222222222222222,\"#7201a8\"],[0.3333333333333333,\"#9c179e\"],[0.4444444444444444,\"#bd3786\"],[0.5555555555555556,\"#d8576b\"],[0.6666666666666666,\"#ed7953\"],[0.7777777777777778,\"#fb9f3a\"],[0.8888888888888888,\"#fdca26\"],[1.0,\"#f0f921\"]],\"type\":\"heatmap\"}],\"heatmapgl\":[{\"colorbar\":{\"outlinewidth\":0,\"ticks\":\"\"},\"colorscale\":[[0.0,\"#0d0887\"],[0.1111111111111111,\"#46039f\"],[0.2222222222222222,\"#7201a8\"],[0.3333333333333333,\"#9c179e\"],[0.4444444444444444,\"#bd3786\"],[0.5555555555555556,\"#d8576b\"],[0.6666666666666666,\"#ed7953\"],[0.7777777777777778,\"#fb9f3a\"],[0.8888888888888888,\"#fdca26\"],[1.0,\"#f0f921\"]],\"type\":\"heatmapgl\"}],\"histogram\":[{\"marker\":{\"pattern\":{\"fillmode\":\"overlay\",\"size\":10,\"solidity\":0.2}},\"type\":\"histogram\"}],\"histogram2d\":[{\"colorbar\":{\"outlinewidth\":0,\"ticks\":\"\"},\"colorscale\":[[0.0,\"#0d0887\"],[0.1111111111111111,\"#46039f\"],[0.2222222222222222,\"#7201a8\"],[0.3333333333333333,\"#9c179e\"],[0.4444444444444444,\"#bd3786\"],[0.5555555555555556,\"#d8576b\"],[0.6666666666666666,\"#ed7953\"],[0.7777777777777778,\"#fb9f3a\"],[0.8888888888888888,\"#fdca26\"],[1.0,\"#f0f921\"]],\"type\":\"histogram2d\"}],\"histogram2dcontour\":[{\"colorbar\":{\"outlinewidth\":0,\"ticks\":\"\"},\"colorscale\":[[0.0,\"#0d0887\"],[0.1111111111111111,\"#46039f\"],[0.2222222222222222,\"#7201a8\"],[0.3333333333333333,\"#9c179e\"],[0.4444444444444444,\"#bd3786\"],[0.5555555555555556,\"#d8576b\"],[0.6666666666666666,\"#ed7953\"],[0.7777777777777778,\"#fb9f3a\"],[0.8888888888888888,\"#fdca26\"],[1.0,\"#f0f921\"]],\"type\":\"histogram2dcontour\"}],\"mesh3d\":[{\"colorbar\":{\"outlinewidth\":0,\"ticks\":\"\"},\"type\":\"mesh3d\"}],\"parcoords\":[{\"line\":{\"colorbar\":{\"outlinewidth\":0,\"ticks\":\"\"}},\"type\":\"parcoords\"}],\"pie\":[{\"automargin\":true,\"type\":\"pie\"}],\"scatter\":[{\"marker\":{\"colorbar\":{\"outlinewidth\":0,\"ticks\":\"\"}},\"type\":\"scatter\"}],\"scatter3d\":[{\"line\":{\"colorbar\":{\"outlinewidth\":0,\"ticks\":\"\"}},\"marker\":{\"colorbar\":{\"outlinewidth\":0,\"ticks\":\"\"}},\"type\":\"scatter3d\"}],\"scattercarpet\":[{\"marker\":{\"colorbar\":{\"outlinewidth\":0,\"ticks\":\"\"}},\"type\":\"scattercarpet\"}],\"scattergeo\":[{\"marker\":{\"colorbar\":{\"outlinewidth\":0,\"ticks\":\"\"}},\"type\":\"scattergeo\"}],\"scattergl\":[{\"marker\":{\"colorbar\":{\"outlinewidth\":0,\"ticks\":\"\"}},\"type\":\"scattergl\"}],\"scattermapbox\":[{\"marker\":{\"colorbar\":{\"outlinewidth\":0,\"ticks\":\"\"}},\"type\":\"scattermapbox\"}],\"scatterpolar\":[{\"marker\":{\"colorbar\":{\"outlinewidth\":0,\"ticks\":\"\"}},\"type\":\"scatterpolar\"}],\"scatterpolargl\":[{\"marker\":{\"colorbar\":{\"outlinewidth\":0,\"ticks\":\"\"}},\"type\":\"scatterpolargl\"}],\"scatterternary\":[{\"marker\":{\"colorbar\":{\"outlinewidth\":0,\"ticks\":\"\"}},\"type\":\"scatterternary\"}],\"surface\":[{\"colorbar\":{\"outlinewidth\":0,\"ticks\":\"\"},\"colorscale\":[[0.0,\"#0d0887\"],[0.1111111111111111,\"#46039f\"],[0.2222222222222222,\"#7201a8\"],[0.3333333333333333,\"#9c179e\"],[0.4444444444444444,\"#bd3786\"],[0.5555555555555556,\"#d8576b\"],[0.6666666666666666,\"#ed7953\"],[0.7777777777777778,\"#fb9f3a\"],[0.8888888888888888,\"#fdca26\"],[1.0,\"#f0f921\"]],\"type\":\"surface\"}],\"table\":[{\"cells\":{\"fill\":{\"color\":\"#EBF0F8\"},\"line\":{\"color\":\"white\"}},\"header\":{\"fill\":{\"color\":\"#C8D4E3\"},\"line\":{\"color\":\"white\"}},\"type\":\"table\"}]},\"layout\":{\"annotationdefaults\":{\"arrowcolor\":\"#2a3f5f\",\"arrowhead\":0,\"arrowwidth\":1},\"autotypenumbers\":\"strict\",\"coloraxis\":{\"colorbar\":{\"outlinewidth\":0,\"ticks\":\"\"}},\"colorscale\":{\"diverging\":[[0,\"#8e0152\"],[0.1,\"#c51b7d\"],[0.2,\"#de77ae\"],[0.3,\"#f1b6da\"],[0.4,\"#fde0ef\"],[0.5,\"#f7f7f7\"],[0.6,\"#e6f5d0\"],[0.7,\"#b8e186\"],[0.8,\"#7fbc41\"],[0.9,\"#4d9221\"],[1,\"#276419\"]],\"sequential\":[[0.0,\"#0d0887\"],[0.1111111111111111,\"#46039f\"],[0.2222222222222222,\"#7201a8\"],[0.3333333333333333,\"#9c179e\"],[0.4444444444444444,\"#bd3786\"],[0.5555555555555556,\"#d8576b\"],[0.6666666666666666,\"#ed7953\"],[0.7777777777777778,\"#fb9f3a\"],[0.8888888888888888,\"#fdca26\"],[1.0,\"#f0f921\"]],\"sequentialminus\":[[0.0,\"#0d0887\"],[0.1111111111111111,\"#46039f\"],[0.2222222222222222,\"#7201a8\"],[0.3333333333333333,\"#9c179e\"],[0.4444444444444444,\"#bd3786\"],[0.5555555555555556,\"#d8576b\"],[0.6666666666666666,\"#ed7953\"],[0.7777777777777778,\"#fb9f3a\"],[0.8888888888888888,\"#fdca26\"],[1.0,\"#f0f921\"]]},\"colorway\":[\"#636efa\",\"#EF553B\",\"#00cc96\",\"#ab63fa\",\"#FFA15A\",\"#19d3f3\",\"#FF6692\",\"#B6E880\",\"#FF97FF\",\"#FECB52\"],\"font\":{\"color\":\"#2a3f5f\"},\"geo\":{\"bgcolor\":\"white\",\"lakecolor\":\"white\",\"landcolor\":\"#E5ECF6\",\"showlakes\":true,\"showland\":true,\"subunitcolor\":\"white\"},\"hoverlabel\":{\"align\":\"left\"},\"hovermode\":\"closest\",\"mapbox\":{\"style\":\"light\"},\"paper_bgcolor\":\"white\",\"plot_bgcolor\":\"#E5ECF6\",\"polar\":{\"angularaxis\":{\"gridcolor\":\"white\",\"linecolor\":\"white\",\"ticks\":\"\"},\"bgcolor\":\"#E5ECF6\",\"radialaxis\":{\"gridcolor\":\"white\",\"linecolor\":\"white\",\"ticks\":\"\"}},\"scene\":{\"xaxis\":{\"backgroundcolor\":\"#E5ECF6\",\"gridcolor\":\"white\",\"gridwidth\":2,\"linecolor\":\"white\",\"showbackground\":true,\"ticks\":\"\",\"zerolinecolor\":\"white\"},\"yaxis\":{\"backgroundcolor\":\"#E5ECF6\",\"gridcolor\":\"white\",\"gridwidth\":2,\"linecolor\":\"white\",\"showbackground\":true,\"ticks\":\"\",\"zerolinecolor\":\"white\"},\"zaxis\":{\"backgroundcolor\":\"#E5ECF6\",\"gridcolor\":\"white\",\"gridwidth\":2,\"linecolor\":\"white\",\"showbackground\":true,\"ticks\":\"\",\"zerolinecolor\":\"white\"}},\"shapedefaults\":{\"line\":{\"color\":\"#2a3f5f\"}},\"ternary\":{\"aaxis\":{\"gridcolor\":\"white\",\"linecolor\":\"white\",\"ticks\":\"\"},\"baxis\":{\"gridcolor\":\"white\",\"linecolor\":\"white\",\"ticks\":\"\"},\"bgcolor\":\"#E5ECF6\",\"caxis\":{\"gridcolor\":\"white\",\"linecolor\":\"white\",\"ticks\":\"\"}},\"title\":{\"x\":0.05},\"xaxis\":{\"automargin\":true,\"gridcolor\":\"white\",\"linecolor\":\"white\",\"ticks\":\"\",\"title\":{\"standoff\":15},\"zerolinecolor\":\"white\",\"zerolinewidth\":2},\"yaxis\":{\"automargin\":true,\"gridcolor\":\"white\",\"linecolor\":\"white\",\"ticks\":\"\",\"title\":{\"standoff\":15},\"zerolinecolor\":\"white\",\"zerolinewidth\":2}}}},                        {\"responsive\": true}                    ).then(function(){\n",
       "                            \n",
       "var gd = document.getElementById('47365895-65a5-47ae-b9ed-5d31ac522305');\n",
       "var x = new MutationObserver(function (mutations, observer) {{\n",
       "        var display = window.getComputedStyle(gd).display;\n",
       "        if (!display || display === 'none') {{\n",
       "            console.log([gd, 'removed!']);\n",
       "            Plotly.purge(gd);\n",
       "            observer.disconnect();\n",
       "        }}\n",
       "}});\n",
       "\n",
       "// Listen for the removal of the full notebook cells\n",
       "var notebookContainer = gd.closest('#notebook-container');\n",
       "if (notebookContainer) {{\n",
       "    x.observe(notebookContainer, {childList: true});\n",
       "}}\n",
       "\n",
       "// Listen for the clearing of the current output cell\n",
       "var outputEl = gd.closest('.output');\n",
       "if (outputEl) {{\n",
       "    x.observe(outputEl, {childList: true});\n",
       "}}\n",
       "\n",
       "                        })                };                            </script>        </div>\n",
       "</body>\n",
       "</html>"
      ]
     },
     "metadata": {},
     "output_type": "display_data"
    }
   ],
   "source": [
    "optuna.visualization.plot_parallel_coordinate(rf_study)"
   ]
  },
  {
   "cell_type": "code",
   "execution_count": 32,
   "metadata": {
    "colab": {
     "base_uri": "https://localhost:8080/",
     "height": 542
    },
    "id": "uNDUqX7Fl536",
    "outputId": "e9ff41d5-3b38-4be3-e037-17ef8d06b704"
   },
   "outputs": [
    {
     "data": {
      "text/html": [
       "<html>\n",
       "<head><meta charset=\"utf-8\" /></head>\n",
       "<body>\n",
       "    <div>            <script src=\"https://cdnjs.cloudflare.com/ajax/libs/mathjax/2.7.5/MathJax.js?config=TeX-AMS-MML_SVG\"></script><script type=\"text/javascript\">if (window.MathJax) {MathJax.Hub.Config({SVG: {font: \"STIX-Web\"}});}</script>                <script type=\"text/javascript\">window.PlotlyConfig = {MathJaxConfig: 'local'};</script>\n",
       "        <script src=\"https://cdn.plot.ly/plotly-2.8.3.min.js\"></script>                <div id=\"0d9deb12-0c07-4011-9169-59ed55499c2d\" class=\"plotly-graph-div\" style=\"height:525px; width:100%;\"></div>            <script type=\"text/javascript\">                                    window.PLOTLYENV=window.PLOTLYENV || {};                                    if (document.getElementById(\"0d9deb12-0c07-4011-9169-59ed55499c2d\")) {                    Plotly.newPlot(                        \"0d9deb12-0c07-4011-9169-59ed55499c2d\",                        [{\"cliponaxis\":false,\"hovertemplate\":[\"criterion (CategoricalDistribution): 0.015822930136498128<extra></extra>\",\"max_features (IntUniformDistribution): 0.017607492756341193<extra></extra>\",\"max_depth (IntUniformDistribution): 0.01892866844303144<extra></extra>\",\"n_estimators (IntUniformDistribution): 0.09359130498366347<extra></extra>\",\"min_samples_leaf (IntUniformDistribution): 0.3038012717622818<extra></extra>\",\"max_leaf_nodes (IntUniformDistribution): 0.5502483319181841<extra></extra>\"],\"marker\":{\"color\":\"rgb(66,146,198)\"},\"orientation\":\"h\",\"text\":[\"0.015822930136498128\",\"0.017607492756341193\",\"0.01892866844303144\",\"0.09359130498366347\",\"0.3038012717622818\",\"0.5502483319181841\"],\"textposition\":\"outside\",\"texttemplate\":\"%{text:.2f}\",\"x\":[0.015822930136498128,0.017607492756341193,0.01892866844303144,0.09359130498366347,0.3038012717622818,0.5502483319181841],\"y\":[\"criterion\",\"max_features\",\"max_depth\",\"n_estimators\",\"min_samples_leaf\",\"max_leaf_nodes\"],\"type\":\"bar\"}],                        {\"showlegend\":false,\"title\":{\"text\":\"Hyperparameter Importances\"},\"xaxis\":{\"title\":{\"text\":\"Importance for Objective Value\"}},\"yaxis\":{\"title\":{\"text\":\"Hyperparameter\"}},\"template\":{\"data\":{\"bar\":[{\"error_x\":{\"color\":\"#2a3f5f\"},\"error_y\":{\"color\":\"#2a3f5f\"},\"marker\":{\"line\":{\"color\":\"#E5ECF6\",\"width\":0.5},\"pattern\":{\"fillmode\":\"overlay\",\"size\":10,\"solidity\":0.2}},\"type\":\"bar\"}],\"barpolar\":[{\"marker\":{\"line\":{\"color\":\"#E5ECF6\",\"width\":0.5},\"pattern\":{\"fillmode\":\"overlay\",\"size\":10,\"solidity\":0.2}},\"type\":\"barpolar\"}],\"carpet\":[{\"aaxis\":{\"endlinecolor\":\"#2a3f5f\",\"gridcolor\":\"white\",\"linecolor\":\"white\",\"minorgridcolor\":\"white\",\"startlinecolor\":\"#2a3f5f\"},\"baxis\":{\"endlinecolor\":\"#2a3f5f\",\"gridcolor\":\"white\",\"linecolor\":\"white\",\"minorgridcolor\":\"white\",\"startlinecolor\":\"#2a3f5f\"},\"type\":\"carpet\"}],\"choropleth\":[{\"colorbar\":{\"outlinewidth\":0,\"ticks\":\"\"},\"type\":\"choropleth\"}],\"contour\":[{\"colorbar\":{\"outlinewidth\":0,\"ticks\":\"\"},\"colorscale\":[[0.0,\"#0d0887\"],[0.1111111111111111,\"#46039f\"],[0.2222222222222222,\"#7201a8\"],[0.3333333333333333,\"#9c179e\"],[0.4444444444444444,\"#bd3786\"],[0.5555555555555556,\"#d8576b\"],[0.6666666666666666,\"#ed7953\"],[0.7777777777777778,\"#fb9f3a\"],[0.8888888888888888,\"#fdca26\"],[1.0,\"#f0f921\"]],\"type\":\"contour\"}],\"contourcarpet\":[{\"colorbar\":{\"outlinewidth\":0,\"ticks\":\"\"},\"type\":\"contourcarpet\"}],\"heatmap\":[{\"colorbar\":{\"outlinewidth\":0,\"ticks\":\"\"},\"colorscale\":[[0.0,\"#0d0887\"],[0.1111111111111111,\"#46039f\"],[0.2222222222222222,\"#7201a8\"],[0.3333333333333333,\"#9c179e\"],[0.4444444444444444,\"#bd3786\"],[0.5555555555555556,\"#d8576b\"],[0.6666666666666666,\"#ed7953\"],[0.7777777777777778,\"#fb9f3a\"],[0.8888888888888888,\"#fdca26\"],[1.0,\"#f0f921\"]],\"type\":\"heatmap\"}],\"heatmapgl\":[{\"colorbar\":{\"outlinewidth\":0,\"ticks\":\"\"},\"colorscale\":[[0.0,\"#0d0887\"],[0.1111111111111111,\"#46039f\"],[0.2222222222222222,\"#7201a8\"],[0.3333333333333333,\"#9c179e\"],[0.4444444444444444,\"#bd3786\"],[0.5555555555555556,\"#d8576b\"],[0.6666666666666666,\"#ed7953\"],[0.7777777777777778,\"#fb9f3a\"],[0.8888888888888888,\"#fdca26\"],[1.0,\"#f0f921\"]],\"type\":\"heatmapgl\"}],\"histogram\":[{\"marker\":{\"pattern\":{\"fillmode\":\"overlay\",\"size\":10,\"solidity\":0.2}},\"type\":\"histogram\"}],\"histogram2d\":[{\"colorbar\":{\"outlinewidth\":0,\"ticks\":\"\"},\"colorscale\":[[0.0,\"#0d0887\"],[0.1111111111111111,\"#46039f\"],[0.2222222222222222,\"#7201a8\"],[0.3333333333333333,\"#9c179e\"],[0.4444444444444444,\"#bd3786\"],[0.5555555555555556,\"#d8576b\"],[0.6666666666666666,\"#ed7953\"],[0.7777777777777778,\"#fb9f3a\"],[0.8888888888888888,\"#fdca26\"],[1.0,\"#f0f921\"]],\"type\":\"histogram2d\"}],\"histogram2dcontour\":[{\"colorbar\":{\"outlinewidth\":0,\"ticks\":\"\"},\"colorscale\":[[0.0,\"#0d0887\"],[0.1111111111111111,\"#46039f\"],[0.2222222222222222,\"#7201a8\"],[0.3333333333333333,\"#9c179e\"],[0.4444444444444444,\"#bd3786\"],[0.5555555555555556,\"#d8576b\"],[0.6666666666666666,\"#ed7953\"],[0.7777777777777778,\"#fb9f3a\"],[0.8888888888888888,\"#fdca26\"],[1.0,\"#f0f921\"]],\"type\":\"histogram2dcontour\"}],\"mesh3d\":[{\"colorbar\":{\"outlinewidth\":0,\"ticks\":\"\"},\"type\":\"mesh3d\"}],\"parcoords\":[{\"line\":{\"colorbar\":{\"outlinewidth\":0,\"ticks\":\"\"}},\"type\":\"parcoords\"}],\"pie\":[{\"automargin\":true,\"type\":\"pie\"}],\"scatter\":[{\"marker\":{\"colorbar\":{\"outlinewidth\":0,\"ticks\":\"\"}},\"type\":\"scatter\"}],\"scatter3d\":[{\"line\":{\"colorbar\":{\"outlinewidth\":0,\"ticks\":\"\"}},\"marker\":{\"colorbar\":{\"outlinewidth\":0,\"ticks\":\"\"}},\"type\":\"scatter3d\"}],\"scattercarpet\":[{\"marker\":{\"colorbar\":{\"outlinewidth\":0,\"ticks\":\"\"}},\"type\":\"scattercarpet\"}],\"scattergeo\":[{\"marker\":{\"colorbar\":{\"outlinewidth\":0,\"ticks\":\"\"}},\"type\":\"scattergeo\"}],\"scattergl\":[{\"marker\":{\"colorbar\":{\"outlinewidth\":0,\"ticks\":\"\"}},\"type\":\"scattergl\"}],\"scattermapbox\":[{\"marker\":{\"colorbar\":{\"outlinewidth\":0,\"ticks\":\"\"}},\"type\":\"scattermapbox\"}],\"scatterpolar\":[{\"marker\":{\"colorbar\":{\"outlinewidth\":0,\"ticks\":\"\"}},\"type\":\"scatterpolar\"}],\"scatterpolargl\":[{\"marker\":{\"colorbar\":{\"outlinewidth\":0,\"ticks\":\"\"}},\"type\":\"scatterpolargl\"}],\"scatterternary\":[{\"marker\":{\"colorbar\":{\"outlinewidth\":0,\"ticks\":\"\"}},\"type\":\"scatterternary\"}],\"surface\":[{\"colorbar\":{\"outlinewidth\":0,\"ticks\":\"\"},\"colorscale\":[[0.0,\"#0d0887\"],[0.1111111111111111,\"#46039f\"],[0.2222222222222222,\"#7201a8\"],[0.3333333333333333,\"#9c179e\"],[0.4444444444444444,\"#bd3786\"],[0.5555555555555556,\"#d8576b\"],[0.6666666666666666,\"#ed7953\"],[0.7777777777777778,\"#fb9f3a\"],[0.8888888888888888,\"#fdca26\"],[1.0,\"#f0f921\"]],\"type\":\"surface\"}],\"table\":[{\"cells\":{\"fill\":{\"color\":\"#EBF0F8\"},\"line\":{\"color\":\"white\"}},\"header\":{\"fill\":{\"color\":\"#C8D4E3\"},\"line\":{\"color\":\"white\"}},\"type\":\"table\"}]},\"layout\":{\"annotationdefaults\":{\"arrowcolor\":\"#2a3f5f\",\"arrowhead\":0,\"arrowwidth\":1},\"autotypenumbers\":\"strict\",\"coloraxis\":{\"colorbar\":{\"outlinewidth\":0,\"ticks\":\"\"}},\"colorscale\":{\"diverging\":[[0,\"#8e0152\"],[0.1,\"#c51b7d\"],[0.2,\"#de77ae\"],[0.3,\"#f1b6da\"],[0.4,\"#fde0ef\"],[0.5,\"#f7f7f7\"],[0.6,\"#e6f5d0\"],[0.7,\"#b8e186\"],[0.8,\"#7fbc41\"],[0.9,\"#4d9221\"],[1,\"#276419\"]],\"sequential\":[[0.0,\"#0d0887\"],[0.1111111111111111,\"#46039f\"],[0.2222222222222222,\"#7201a8\"],[0.3333333333333333,\"#9c179e\"],[0.4444444444444444,\"#bd3786\"],[0.5555555555555556,\"#d8576b\"],[0.6666666666666666,\"#ed7953\"],[0.7777777777777778,\"#fb9f3a\"],[0.8888888888888888,\"#fdca26\"],[1.0,\"#f0f921\"]],\"sequentialminus\":[[0.0,\"#0d0887\"],[0.1111111111111111,\"#46039f\"],[0.2222222222222222,\"#7201a8\"],[0.3333333333333333,\"#9c179e\"],[0.4444444444444444,\"#bd3786\"],[0.5555555555555556,\"#d8576b\"],[0.6666666666666666,\"#ed7953\"],[0.7777777777777778,\"#fb9f3a\"],[0.8888888888888888,\"#fdca26\"],[1.0,\"#f0f921\"]]},\"colorway\":[\"#636efa\",\"#EF553B\",\"#00cc96\",\"#ab63fa\",\"#FFA15A\",\"#19d3f3\",\"#FF6692\",\"#B6E880\",\"#FF97FF\",\"#FECB52\"],\"font\":{\"color\":\"#2a3f5f\"},\"geo\":{\"bgcolor\":\"white\",\"lakecolor\":\"white\",\"landcolor\":\"#E5ECF6\",\"showlakes\":true,\"showland\":true,\"subunitcolor\":\"white\"},\"hoverlabel\":{\"align\":\"left\"},\"hovermode\":\"closest\",\"mapbox\":{\"style\":\"light\"},\"paper_bgcolor\":\"white\",\"plot_bgcolor\":\"#E5ECF6\",\"polar\":{\"angularaxis\":{\"gridcolor\":\"white\",\"linecolor\":\"white\",\"ticks\":\"\"},\"bgcolor\":\"#E5ECF6\",\"radialaxis\":{\"gridcolor\":\"white\",\"linecolor\":\"white\",\"ticks\":\"\"}},\"scene\":{\"xaxis\":{\"backgroundcolor\":\"#E5ECF6\",\"gridcolor\":\"white\",\"gridwidth\":2,\"linecolor\":\"white\",\"showbackground\":true,\"ticks\":\"\",\"zerolinecolor\":\"white\"},\"yaxis\":{\"backgroundcolor\":\"#E5ECF6\",\"gridcolor\":\"white\",\"gridwidth\":2,\"linecolor\":\"white\",\"showbackground\":true,\"ticks\":\"\",\"zerolinecolor\":\"white\"},\"zaxis\":{\"backgroundcolor\":\"#E5ECF6\",\"gridcolor\":\"white\",\"gridwidth\":2,\"linecolor\":\"white\",\"showbackground\":true,\"ticks\":\"\",\"zerolinecolor\":\"white\"}},\"shapedefaults\":{\"line\":{\"color\":\"#2a3f5f\"}},\"ternary\":{\"aaxis\":{\"gridcolor\":\"white\",\"linecolor\":\"white\",\"ticks\":\"\"},\"baxis\":{\"gridcolor\":\"white\",\"linecolor\":\"white\",\"ticks\":\"\"},\"bgcolor\":\"#E5ECF6\",\"caxis\":{\"gridcolor\":\"white\",\"linecolor\":\"white\",\"ticks\":\"\"}},\"title\":{\"x\":0.05},\"xaxis\":{\"automargin\":true,\"gridcolor\":\"white\",\"linecolor\":\"white\",\"ticks\":\"\",\"title\":{\"standoff\":15},\"zerolinecolor\":\"white\",\"zerolinewidth\":2},\"yaxis\":{\"automargin\":true,\"gridcolor\":\"white\",\"linecolor\":\"white\",\"ticks\":\"\",\"title\":{\"standoff\":15},\"zerolinecolor\":\"white\",\"zerolinewidth\":2}}}},                        {\"responsive\": true}                    ).then(function(){\n",
       "                            \n",
       "var gd = document.getElementById('0d9deb12-0c07-4011-9169-59ed55499c2d');\n",
       "var x = new MutationObserver(function (mutations, observer) {{\n",
       "        var display = window.getComputedStyle(gd).display;\n",
       "        if (!display || display === 'none') {{\n",
       "            console.log([gd, 'removed!']);\n",
       "            Plotly.purge(gd);\n",
       "            observer.disconnect();\n",
       "        }}\n",
       "}});\n",
       "\n",
       "// Listen for the removal of the full notebook cells\n",
       "var notebookContainer = gd.closest('#notebook-container');\n",
       "if (notebookContainer) {{\n",
       "    x.observe(notebookContainer, {childList: true});\n",
       "}}\n",
       "\n",
       "// Listen for the clearing of the current output cell\n",
       "var outputEl = gd.closest('.output');\n",
       "if (outputEl) {{\n",
       "    x.observe(outputEl, {childList: true});\n",
       "}}\n",
       "\n",
       "                        })                };                            </script>        </div>\n",
       "</body>\n",
       "</html>"
      ]
     },
     "metadata": {},
     "output_type": "display_data"
    }
   ],
   "source": [
    "optuna.visualization.plot_param_importances(rf_study)"
   ]
  },
  {
   "cell_type": "code",
   "execution_count": 36,
   "metadata": {
    "colab": {
     "base_uri": "https://localhost:8080/"
    },
    "id": "BfZ6kddemfB5",
    "outputId": "55ac0791-4261-471d-9976-ef8e097f4f78"
   },
   "outputs": [
    {
     "data": {
      "text/plain": [
       "0.8324022346368715"
      ]
     },
     "execution_count": 36,
     "metadata": {},
     "output_type": "execute_result"
    }
   ],
   "source": [
    "# 찾은 최적의 값으로 모델을 세팅\n",
    "optimized_rf = RandomForestClassifier(n_jobs = -1, \n",
    "                                      random_state=1234,\n",
    "                                      criterion = rf_study.best_params[\"criterion\"],\n",
    "                                      max_depth = rf_study.best_params[\"max_depth\"],\n",
    "                                      max_features = rf_study.best_params[\"max_features\"],\n",
    "                                      max_leaf_nodes = rf_study.best_params[\"max_leaf_nodes\"],\n",
    "                                      min_samples_leaf = rf_study.best_params[\"min_samples_leaf\"],\n",
    "                                      n_estimators = rf_study.best_params[\"n_estimators\"]\n",
    "                                      )\n",
    "# 그대로\n",
    "optimized_rf.fit(X_train, y_train)\n",
    "# Check \n",
    "accuracy_score(y_test, optimized_rf.predict(X_test))\n"
   ]
  },
  {
   "cell_type": "code",
   "execution_count": 34,
   "metadata": {
    "colab": {
     "base_uri": "https://localhost:8080/"
    },
    "id": "YxHHw3atnjk5",
    "outputId": "98c4eb35-66e2-4fd0-9340-d0e1365911a3"
   },
   "outputs": [
    {
     "data": {
      "text/plain": [
       "{'criterion': 'entropy',\n",
       " 'max_depth': 33,\n",
       " 'max_features': 2,\n",
       " 'max_leaf_nodes': 161,\n",
       " 'min_samples_leaf': 5,\n",
       " 'n_estimators': 1837}"
      ]
     },
     "execution_count": 34,
     "metadata": {},
     "output_type": "execute_result"
    }
   ],
   "source": [
    "rf_study.best_params"
   ]
  },
  {
   "cell_type": "code",
   "execution_count": 37,
   "metadata": {
    "id": "EJflaEyXnkI7"
   },
   "outputs": [],
   "source": [
    "### xgboost"
   ]
  },
  {
   "cell_type": "code",
   "execution_count": 38,
   "metadata": {
    "id": "9rRoTrBaqEfs"
   },
   "outputs": [],
   "source": [
    "from xgboost import XGBClassifier"
   ]
  },
  {
   "cell_type": "code",
   "execution_count": 40,
   "metadata": {
    "id": "fYFmO9snqFJq"
   },
   "outputs": [],
   "source": [
    "xgbc = XGBClassifier(n_jobs= -1, random_state=1234,  use_label_encoder=False,\n",
    "                     # 학습 관련된 부분 상세 설정~(0,1 2진분류)\n",
    "                     objective = \"binary:logistic\",\n",
    "                     eval_metric = \"error\")"
   ]
  },
  {
   "cell_type": "code",
   "execution_count": 41,
   "metadata": {
    "colab": {
     "base_uri": "https://localhost:8080/"
    },
    "id": "BKV5vD-HqK6g",
    "outputId": "0a054c2c-362e-4468-ca26-77b871a9bc48"
   },
   "outputs": [
    {
     "name": "stdout",
     "output_type": "stream",
     "text": [
      "sgb K-Fold 0번째 검증 정확도 : 0.8322\n",
      "sgb K-Fold 1번째 검증 정확도 : 0.8462\n",
      "sgb K-Fold 2번째 검증 정확도 : 0.8099\n",
      "sgb K-Fold 3번째 검증 정확도 : 0.8028\n",
      "sgb K-Fold 4번째 검증 정확도 : 0.8028\n",
      "xgb K-Fold 평균 정확도 : 0.8187629272136314\n"
     ]
    }
   ],
   "source": [
    "scores = cross_val_score(\n",
    "    xgbc,\n",
    "    X_train, y_train,\n",
    "    cv=kfold,\n",
    "    scoring=\"accuracy\"\n",
    ")\n",
    "for iter_count, acc in enumerate(scores):\n",
    "    print(\"xgb K-Fold {0}번째 검증 정확도 : {1:.4f}\".format(iter_count,acc ))\n",
    "print(\"xgb K-Fold 평균 정확도 :\", scores.mean())"
   ]
  },
  {
   "cell_type": "code",
   "execution_count": 44,
   "metadata": {
    "id": "FxW2PUQXsmAe"
   },
   "outputs": [],
   "source": [
    "def xgb_objective(trial):\n",
    "    # 1) Test할 파라미터들 세팅 : dict\n",
    "    params ={\n",
    "        \"booster\" : trial.suggest_categorical(\"booster\", [ \"gbtree\", \"gblinear\", \"dart\"]),\n",
    "        \"n_estimators\" : trial.suggest_int(\"n_estimators\", 100,1000),\n",
    "        \"learning_rate\" : trial.suggest_loguniform(\"learning_rate\", 1e-3, 8e-1),\n",
    "\n",
    "        \"max_depth\" : trial.suggest_int(\"max_depth\", 1, 100),\n",
    "        \"subsample\" : trial.suggest_discrete_uniform(\"subsample\", 0.1 ,1 , 0.05),\n",
    "        \"colsample_bytree\" : trial.suggest_discrete_uniform(\"colsample_bytree\", 0.1 ,1 , 0.05),\n",
    "\n",
    "        # 규약 -> 주의 e 숫자로 활용할 때 앞에 1 다른 숫자 필요\n",
    "        \"reg_alpha\" :trial.suggest_loguniform(\"reg_alpha\",1e-6, 1e3),\n",
    "        \"reg_lambda\" : trial.suggest_loguniform(\"reg_lambda\",1e-6, 1e3)\n",
    "\n",
    "    }\n",
    "    # 2) 1번 세팅을 적용할 모델\n",
    "    xgbc = XGBClassifier( **params ,\n",
    "                         n_jobs= -1,\n",
    "                     random_state=1234,\n",
    "                     use_label_encoder=False,\n",
    "                     # 학습 관련된 부분 상세 설정~(0,1 2진분류)\n",
    "                     objective = \"binary:logistic\",\n",
    "                     eval_metric = \"error\")\n",
    "    # 3) Cross-Val\n",
    "    scores = cross_val_score(xgbc, X_train, y_train,\n",
    "                             cv = kfold, scoring=\"accuracy\")\n",
    "    acc_mean = scores.mean()\n",
    "\n",
    "    return acc_mean"
   ]
  },
  {
   "cell_type": "code",
   "execution_count": 46,
   "metadata": {
    "colab": {
     "base_uri": "https://localhost:8080/"
    },
    "id": "zP1jU20evUEE",
    "outputId": "291a5f3f-7e22-4d03-9293-b7dead0d00e3"
   },
   "outputs": [
    {
     "name": "stderr",
     "output_type": "stream",
     "text": [
      "\u001b[32m[I 2022-03-23 03:19:29,614]\u001b[0m A new study created in memory with name: no-name-ffb8ba59-eb92-417a-9b04-b9aed2cb3340\u001b[0m\n",
      "\u001b[32m[I 2022-03-23 03:19:43,005]\u001b[0m Trial 0 finished with value: 0.810400866738895 and parameters: {'booster': 'dart', 'n_estimators': 449, 'learning_rate': 0.14107830701963883, 'max_depth': 92, 'subsample': 0.2, 'colsample_bytree': 0.7000000000000001, 'reg_alpha': 1.7553670224562106e-06, 'reg_lambda': 0.1421665521882906}. Best is trial 0 with value: 0.810400866738895.\u001b[0m\n",
      "\u001b[32m[I 2022-03-23 03:19:43,161]\u001b[0m Trial 1 finished with value: 0.6502807052102828 and parameters: {'booster': 'gblinear', 'n_estimators': 163, 'learning_rate': 0.08602758076836349, 'max_depth': 24, 'subsample': 0.8, 'colsample_bytree': 0.30000000000000004, 'reg_alpha': 2.7774024157768205, 'reg_lambda': 8.33187848981787}. Best is trial 0 with value: 0.810400866738895.\u001b[0m\n",
      "\u001b[32m[I 2022-03-23 03:20:30,982]\u001b[0m Trial 2 finished with value: 0.7794149512459372 and parameters: {'booster': 'dart', 'n_estimators': 997, 'learning_rate': 0.5241973297127069, 'max_depth': 55, 'subsample': 0.9500000000000001, 'colsample_bytree': 0.35, 'reg_alpha': 0.09201542008135088, 'reg_lambda': 0.00021094043739742805}. Best is trial 0 with value: 0.810400866738895.\u001b[0m\n",
      "\u001b[32m[I 2022-03-23 03:20:31,327]\u001b[0m Trial 3 finished with value: 0.647444105190584 and parameters: {'booster': 'gblinear', 'n_estimators': 428, 'learning_rate': 0.0016403809950296547, 'max_depth': 61, 'subsample': 0.15000000000000002, 'colsample_bytree': 0.9, 'reg_alpha': 0.00021394869235177554, 'reg_lambda': 1.2269898164674293}. Best is trial 0 with value: 0.810400866738895.\u001b[0m\n",
      "\u001b[32m[I 2022-03-23 03:20:36,866]\u001b[0m Trial 4 finished with value: 0.7190781049935979 and parameters: {'booster': 'dart', 'n_estimators': 586, 'learning_rate': 0.009288138935297209, 'max_depth': 83, 'subsample': 0.55, 'colsample_bytree': 0.15000000000000002, 'reg_alpha': 23.04075931478042, 'reg_lambda': 0.0004153705520794941}. Best is trial 0 with value: 0.810400866738895.\u001b[0m\n",
      "\u001b[32m[I 2022-03-23 03:20:37,540]\u001b[0m Trial 5 finished with value: 0.6165862306707377 and parameters: {'booster': 'gbtree', 'n_estimators': 868, 'learning_rate': 0.21028220658761743, 'max_depth': 11, 'subsample': 0.7000000000000001, 'colsample_bytree': 0.2, 'reg_alpha': 268.54120483246993, 'reg_lambda': 8.760511668094872e-05}. Best is trial 0 with value: 0.810400866738895.\u001b[0m\n",
      "\u001b[32m[I 2022-03-23 03:20:37,748]\u001b[0m Trial 6 finished with value: 0.8103614695163991 and parameters: {'booster': 'gbtree', 'n_estimators': 111, 'learning_rate': 0.20573279917596116, 'max_depth': 79, 'subsample': 0.75, 'colsample_bytree': 0.65, 'reg_alpha': 7.178718246470147, 'reg_lambda': 1.4754471524788276e-05}. Best is trial 0 with value: 0.810400866738895.\u001b[0m\n",
      "\u001b[32m[I 2022-03-23 03:20:38,329]\u001b[0m Trial 7 finished with value: 0.7977346597064907 and parameters: {'booster': 'gbtree', 'n_estimators': 491, 'learning_rate': 0.17216595553482059, 'max_depth': 3, 'subsample': 0.8, 'colsample_bytree': 0.2, 'reg_alpha': 3.7693885462909375e-05, 'reg_lambda': 1.323336329985106e-05}. Best is trial 0 with value: 0.810400866738895.\u001b[0m\n",
      "\u001b[32m[I 2022-03-23 03:20:38,899]\u001b[0m Trial 8 finished with value: 0.7765980498374864 and parameters: {'booster': 'gblinear', 'n_estimators': 756, 'learning_rate': 0.38130716507759405, 'max_depth': 71, 'subsample': 0.9500000000000001, 'colsample_bytree': 0.55, 'reg_alpha': 0.00468740347045877, 'reg_lambda': 0.04320850834413026}. Best is trial 0 with value: 0.810400866738895.\u001b[0m\n",
      "\u001b[32m[I 2022-03-23 03:20:40,121]\u001b[0m Trial 9 finished with value: 0.8075248694967005 and parameters: {'booster': 'gbtree', 'n_estimators': 481, 'learning_rate': 0.058297576165747794, 'max_depth': 49, 'subsample': 0.9, 'colsample_bytree': 0.45000000000000007, 'reg_alpha': 9.797111424001217e-06, 'reg_lambda': 1.1213649969065705e-06}. Best is trial 0 with value: 0.810400866738895.\u001b[0m\n",
      "\u001b[32m[I 2022-03-23 03:20:43,274]\u001b[0m Trial 10 finished with value: 0.7962868117797695 and parameters: {'booster': 'dart', 'n_estimators': 294, 'learning_rate': 0.01231302369235298, 'max_depth': 98, 'subsample': 0.15000000000000002, 'colsample_bytree': 0.8, 'reg_alpha': 1.8978649975077258e-06, 'reg_lambda': 194.7744331837822}. Best is trial 0 with value: 0.810400866738895.\u001b[0m\n",
      "\u001b[32m[I 2022-03-23 03:20:43,912]\u001b[0m Trial 11 finished with value: 0.8187924751305033 and parameters: {'booster': 'gbtree', 'n_estimators': 202, 'learning_rate': 0.0339199021441981, 'max_depth': 95, 'subsample': 0.35, 'colsample_bytree': 0.65, 'reg_alpha': 0.21850867065513666, 'reg_lambda': 0.0056108600853679875}. Best is trial 11 with value: 0.8187924751305033.\u001b[0m\n",
      "\u001b[32m[I 2022-03-23 03:20:51,454]\u001b[0m Trial 12 finished with value: 0.8243770314192851 and parameters: {'booster': 'dart', 'n_estimators': 300, 'learning_rate': 0.02599696363877894, 'max_depth': 98, 'subsample': 0.35, 'colsample_bytree': 0.7000000000000001, 'reg_alpha': 0.038125427029560836, 'reg_lambda': 0.02326700678299196}. Best is trial 12 with value: 0.8243770314192851.\u001b[0m\n",
      "\u001b[32m[I 2022-03-23 03:20:56,894]\u001b[0m Trial 13 finished with value: 0.8342361863488623 and parameters: {'booster': 'dart', 'n_estimators': 254, 'learning_rate': 0.021553764464216325, 'max_depth': 100, 'subsample': 0.35, 'colsample_bytree': 1.0, 'reg_alpha': 0.08616040119325577, 'reg_lambda': 0.005810913911460469}. Best is trial 13 with value: 0.8342361863488623.\u001b[0m\n",
      "\u001b[32m[I 2022-03-23 03:21:05,549]\u001b[0m Trial 14 finished with value: 0.8285728356150892 and parameters: {'booster': 'dart', 'n_estimators': 316, 'learning_rate': 0.010226926473519159, 'max_depth': 35, 'subsample': 0.4, 'colsample_bytree': 1.0, 'reg_alpha': 0.0023675916252797425, 'reg_lambda': 0.0052949408711198435}. Best is trial 13 with value: 0.8342361863488623.\u001b[0m\n",
      "\u001b[32m[I 2022-03-23 03:21:14,378]\u001b[0m Trial 15 finished with value: 0.8187432286023835 and parameters: {'booster': 'dart', 'n_estimators': 319, 'learning_rate': 0.004013458742411375, 'max_depth': 36, 'subsample': 0.45000000000000007, 'colsample_bytree': 1.0, 'reg_alpha': 0.0012800827818566125, 'reg_lambda': 0.0012872391078387405}. Best is trial 13 with value: 0.8342361863488623.\u001b[0m\n",
      "\u001b[32m[I 2022-03-23 03:21:47,079]\u001b[0m Trial 16 finished with value: 0.8299812863193144 and parameters: {'booster': 'dart', 'n_estimators': 651, 'learning_rate': 0.0059760312914908156, 'max_depth': 37, 'subsample': 0.55, 'colsample_bytree': 1.0, 'reg_alpha': 0.002751874374900959, 'reg_lambda': 0.6831335265387407}. Best is trial 13 with value: 0.8342361863488623.\u001b[0m\n",
      "\u001b[32m[I 2022-03-23 03:22:09,003]\u001b[0m Trial 17 finished with value: 0.8257953314291342 and parameters: {'booster': 'dart', 'n_estimators': 655, 'learning_rate': 0.001001094107229542, 'max_depth': 39, 'subsample': 0.6, 'colsample_bytree': 0.85, 'reg_alpha': 1.272826368356927, 'reg_lambda': 1.210883967056235}. Best is trial 13 with value: 0.8342361863488623.\u001b[0m\n",
      "\u001b[32m[I 2022-03-23 03:22:22,306]\u001b[0m Trial 18 finished with value: 0.7976854131783709 and parameters: {'booster': 'dart', 'n_estimators': 669, 'learning_rate': 0.0033565949051293175, 'max_depth': 22, 'subsample': 0.5, 'colsample_bytree': 0.9, 'reg_alpha': 0.006219842406295035, 'reg_lambda': 399.53145895306767}. Best is trial 13 with value: 0.8342361863488623.\u001b[0m\n",
      "\u001b[32m[I 2022-03-23 03:22:47,075]\u001b[0m Trial 19 finished with value: 0.8103319215995273 and parameters: {'booster': 'dart', 'n_estimators': 807, 'learning_rate': 0.005148107888177447, 'max_depth': 69, 'subsample': 0.25, 'colsample_bytree': 1.0, 'reg_alpha': 0.00017734845750268875, 'reg_lambda': 20.189883944295655}. Best is trial 13 with value: 0.8342361863488623.\u001b[0m\n",
      "\u001b[32m[I 2022-03-23 03:22:47,470]\u001b[0m Trial 20 finished with value: 0.6671427164384911 and parameters: {'booster': 'gblinear', 'n_estimators': 552, 'learning_rate': 0.01865587530864788, 'max_depth': 47, 'subsample': 0.30000000000000004, 'colsample_bytree': 0.8, 'reg_alpha': 0.513777634694877, 'reg_lambda': 0.17402417674867776}. Best is trial 13 with value: 0.8342361863488623.\u001b[0m\n",
      "\u001b[32m[I 2022-03-23 03:22:59,350]\u001b[0m Trial 21 finished with value: 0.8257756328178865 and parameters: {'booster': 'dart', 'n_estimators': 381, 'learning_rate': 0.0068728365072995325, 'max_depth': 28, 'subsample': 0.4, 'colsample_bytree': 1.0, 'reg_alpha': 0.008236666657018759, 'reg_lambda': 0.003284487997426118}. Best is trial 13 with value: 0.8342361863488623.\u001b[0m\n",
      "\u001b[32m[I 2022-03-23 03:23:06,886]\u001b[0m Trial 22 finished with value: 0.8271840835221116 and parameters: {'booster': 'dart', 'n_estimators': 277, 'learning_rate': 0.014576299426089664, 'max_depth': 36, 'subsample': 0.6, 'colsample_bytree': 0.9, 'reg_alpha': 0.0007872222474304753, 'reg_lambda': 0.019693424765867766}. Best is trial 13 with value: 0.8342361863488623.\u001b[0m\n",
      "\u001b[32m[I 2022-03-23 03:23:10,142]\u001b[0m Trial 23 finished with value: 0.8047276666994977 and parameters: {'booster': 'dart', 'n_estimators': 232, 'learning_rate': 0.0025225191897955473, 'max_depth': 15, 'subsample': 0.45000000000000007, 'colsample_bytree': 1.0, 'reg_alpha': 0.029049731723526855, 'reg_lambda': 0.7724040901791105}. Best is trial 13 with value: 0.8342361863488623.\u001b[0m\n",
      "\u001b[32m[I 2022-03-23 03:23:17,444]\u001b[0m Trial 24 finished with value: 0.8159854230276766 and parameters: {'booster': 'dart', 'n_estimators': 356, 'learning_rate': 0.035215830462501874, 'max_depth': 43, 'subsample': 0.55, 'colsample_bytree': 0.8, 'reg_alpha': 0.0013761489769865472, 'reg_lambda': 16.695510840952615}. Best is trial 13 with value: 0.8342361863488623.\u001b[0m\n",
      "\u001b[32m[I 2022-03-23 03:23:52,140]\u001b[0m Trial 25 finished with value: 0.8201615286122328 and parameters: {'booster': 'dart', 'n_estimators': 601, 'learning_rate': 0.009310527146183712, 'max_depth': 58, 'subsample': 0.65, 'colsample_bytree': 0.9, 'reg_alpha': 0.00010039192418174259, 'reg_lambda': 0.00556820570190824}. Best is trial 13 with value: 0.8342361863488623.\u001b[0m\n",
      "\u001b[32m[I 2022-03-23 03:24:23,619]\u001b[0m Trial 26 finished with value: 0.8160051216389246 and parameters: {'booster': 'dart', 'n_estimators': 726, 'learning_rate': 0.05630552985157325, 'max_depth': 32, 'subsample': 0.25, 'colsample_bytree': 0.9500000000000001, 'reg_alpha': 0.020964745214710614, 'reg_lambda': 0.1517669148658008}. Best is trial 13 with value: 0.8342361863488623.\u001b[0m\n",
      "\u001b[32m[I 2022-03-23 03:24:37,511]\u001b[0m Trial 27 finished with value: 0.8257756328178865 and parameters: {'booster': 'dart', 'n_estimators': 412, 'learning_rate': 0.021272969766604366, 'max_depth': 66, 'subsample': 0.4, 'colsample_bytree': 0.75, 'reg_alpha': 0.08124164156490009, 'reg_lambda': 0.0013145022845962335}. Best is trial 13 with value: 0.8342361863488623.\u001b[0m\n",
      "\u001b[32m[I 2022-03-23 03:24:37,650]\u001b[0m Trial 28 finished with value: 0.6390327981877277 and parameters: {'booster': 'gblinear', 'n_estimators': 104, 'learning_rate': 0.006932773477590007, 'max_depth': 85, 'subsample': 0.1, 'colsample_bytree': 0.9500000000000001, 'reg_alpha': 0.0008997952052764171, 'reg_lambda': 5.621875258298257}. Best is trial 13 with value: 0.8342361863488623.\u001b[0m\n",
      "\u001b[32m[I 2022-03-23 03:24:55,370]\u001b[0m Trial 29 finished with value: 0.8229587314094357 and parameters: {'booster': 'dart', 'n_estimators': 498, 'learning_rate': 0.0024577049191079384, 'max_depth': 17, 'subsample': 0.5, 'colsample_bytree': 0.5, 'reg_alpha': 0.3533124889723824, 'reg_lambda': 0.05264680763266019}. Best is trial 13 with value: 0.8342361863488623.\u001b[0m\n"
     ]
    }
   ],
   "source": [
    "xgbc_study = optuna.create_study(direction=\"maximize\")\n",
    "xgbc_study.optimize(xgb_objective,n_trials= 30 )"
   ]
  },
  {
   "cell_type": "code",
   "execution_count": 47,
   "metadata": {
    "colab": {
     "base_uri": "https://localhost:8080/"
    },
    "id": "_rUAkBtfyPUo",
    "outputId": "808d5153-5eca-4fc9-ac01-e68ed29d1331"
   },
   "outputs": [
    {
     "name": "stdout",
     "output_type": "stream",
     "text": [
      "{'booster': 'dart', 'n_estimators': 254, 'learning_rate': 0.021553764464216325, 'max_depth': 100, 'subsample': 0.35, 'colsample_bytree': 1.0, 'reg_alpha': 0.08616040119325577, 'reg_lambda': 0.005810913911460469}\n",
      "------------\n",
      "0.8342361863488623\n"
     ]
    }
   ],
   "source": [
    "## trial 시도한 것들에 대해서 가장 좋았던 파라미터, 성능\n",
    "print(xgbc_study.best_params) # xgbc_study_trail.params\n",
    "print(\"------------\")\n",
    "print(xgbc_study.best_value)"
   ]
  },
  {
   "cell_type": "code",
   "execution_count": 48,
   "metadata": {
    "colab": {
     "base_uri": "https://localhost:8080/",
     "height": 542
    },
    "id": "2cPjhNzvFMit",
    "outputId": "7655e852-dc9a-495a-be04-2476017aa9e9"
   },
   "outputs": [
    {
     "data": {
      "text/html": [
       "<html>\n",
       "<head><meta charset=\"utf-8\" /></head>\n",
       "<body>\n",
       "    <div>            <script src=\"https://cdnjs.cloudflare.com/ajax/libs/mathjax/2.7.5/MathJax.js?config=TeX-AMS-MML_SVG\"></script><script type=\"text/javascript\">if (window.MathJax) {MathJax.Hub.Config({SVG: {font: \"STIX-Web\"}});}</script>                <script type=\"text/javascript\">window.PlotlyConfig = {MathJaxConfig: 'local'};</script>\n",
       "        <script src=\"https://cdn.plot.ly/plotly-2.8.3.min.js\"></script>                <div id=\"b1f0ac4c-ed37-4b70-aa8b-7d159c764ba2\" class=\"plotly-graph-div\" style=\"height:525px; width:100%;\"></div>            <script type=\"text/javascript\">                                    window.PLOTLYENV=window.PLOTLYENV || {};                                    if (document.getElementById(\"b1f0ac4c-ed37-4b70-aa8b-7d159c764ba2\")) {                    Plotly.newPlot(                        \"b1f0ac4c-ed37-4b70-aa8b-7d159c764ba2\",                        [{\"mode\":\"markers\",\"name\":\"Objective Value\",\"x\":[0,1,2,3,4,5,6,7,8,9,10,11,12,13,14,15,16,17,18,19,20,21,22,23,24,25,26,27,28,29],\"y\":[0.810400866738895,0.6502807052102828,0.7794149512459372,0.647444105190584,0.7190781049935979,0.6165862306707377,0.8103614695163991,0.7977346597064907,0.7765980498374864,0.8075248694967005,0.7962868117797695,0.8187924751305033,0.8243770314192851,0.8342361863488623,0.8285728356150892,0.8187432286023835,0.8299812863193144,0.8257953314291342,0.7976854131783709,0.8103319215995273,0.6671427164384911,0.8257756328178865,0.8271840835221116,0.8047276666994977,0.8159854230276766,0.8201615286122328,0.8160051216389246,0.8257756328178865,0.6390327981877277,0.8229587314094357],\"type\":\"scatter\"},{\"name\":\"Best Value\",\"x\":[0,1,2,3,4,5,6,7,8,9,10,11,12,13,14,15,16,17,18,19,20,21,22,23,24,25,26,27,28,29],\"y\":[0.810400866738895,0.810400866738895,0.810400866738895,0.810400866738895,0.810400866738895,0.810400866738895,0.810400866738895,0.810400866738895,0.810400866738895,0.810400866738895,0.810400866738895,0.8187924751305033,0.8243770314192851,0.8342361863488623,0.8342361863488623,0.8342361863488623,0.8342361863488623,0.8342361863488623,0.8342361863488623,0.8342361863488623,0.8342361863488623,0.8342361863488623,0.8342361863488623,0.8342361863488623,0.8342361863488623,0.8342361863488623,0.8342361863488623,0.8342361863488623,0.8342361863488623,0.8342361863488623],\"type\":\"scatter\"}],                        {\"title\":{\"text\":\"Optimization History Plot\"},\"xaxis\":{\"title\":{\"text\":\"#Trials\"}},\"yaxis\":{\"title\":{\"text\":\"Objective Value\"}},\"template\":{\"data\":{\"bar\":[{\"error_x\":{\"color\":\"#2a3f5f\"},\"error_y\":{\"color\":\"#2a3f5f\"},\"marker\":{\"line\":{\"color\":\"#E5ECF6\",\"width\":0.5},\"pattern\":{\"fillmode\":\"overlay\",\"size\":10,\"solidity\":0.2}},\"type\":\"bar\"}],\"barpolar\":[{\"marker\":{\"line\":{\"color\":\"#E5ECF6\",\"width\":0.5},\"pattern\":{\"fillmode\":\"overlay\",\"size\":10,\"solidity\":0.2}},\"type\":\"barpolar\"}],\"carpet\":[{\"aaxis\":{\"endlinecolor\":\"#2a3f5f\",\"gridcolor\":\"white\",\"linecolor\":\"white\",\"minorgridcolor\":\"white\",\"startlinecolor\":\"#2a3f5f\"},\"baxis\":{\"endlinecolor\":\"#2a3f5f\",\"gridcolor\":\"white\",\"linecolor\":\"white\",\"minorgridcolor\":\"white\",\"startlinecolor\":\"#2a3f5f\"},\"type\":\"carpet\"}],\"choropleth\":[{\"colorbar\":{\"outlinewidth\":0,\"ticks\":\"\"},\"type\":\"choropleth\"}],\"contour\":[{\"colorbar\":{\"outlinewidth\":0,\"ticks\":\"\"},\"colorscale\":[[0.0,\"#0d0887\"],[0.1111111111111111,\"#46039f\"],[0.2222222222222222,\"#7201a8\"],[0.3333333333333333,\"#9c179e\"],[0.4444444444444444,\"#bd3786\"],[0.5555555555555556,\"#d8576b\"],[0.6666666666666666,\"#ed7953\"],[0.7777777777777778,\"#fb9f3a\"],[0.8888888888888888,\"#fdca26\"],[1.0,\"#f0f921\"]],\"type\":\"contour\"}],\"contourcarpet\":[{\"colorbar\":{\"outlinewidth\":0,\"ticks\":\"\"},\"type\":\"contourcarpet\"}],\"heatmap\":[{\"colorbar\":{\"outlinewidth\":0,\"ticks\":\"\"},\"colorscale\":[[0.0,\"#0d0887\"],[0.1111111111111111,\"#46039f\"],[0.2222222222222222,\"#7201a8\"],[0.3333333333333333,\"#9c179e\"],[0.4444444444444444,\"#bd3786\"],[0.5555555555555556,\"#d8576b\"],[0.6666666666666666,\"#ed7953\"],[0.7777777777777778,\"#fb9f3a\"],[0.8888888888888888,\"#fdca26\"],[1.0,\"#f0f921\"]],\"type\":\"heatmap\"}],\"heatmapgl\":[{\"colorbar\":{\"outlinewidth\":0,\"ticks\":\"\"},\"colorscale\":[[0.0,\"#0d0887\"],[0.1111111111111111,\"#46039f\"],[0.2222222222222222,\"#7201a8\"],[0.3333333333333333,\"#9c179e\"],[0.4444444444444444,\"#bd3786\"],[0.5555555555555556,\"#d8576b\"],[0.6666666666666666,\"#ed7953\"],[0.7777777777777778,\"#fb9f3a\"],[0.8888888888888888,\"#fdca26\"],[1.0,\"#f0f921\"]],\"type\":\"heatmapgl\"}],\"histogram\":[{\"marker\":{\"pattern\":{\"fillmode\":\"overlay\",\"size\":10,\"solidity\":0.2}},\"type\":\"histogram\"}],\"histogram2d\":[{\"colorbar\":{\"outlinewidth\":0,\"ticks\":\"\"},\"colorscale\":[[0.0,\"#0d0887\"],[0.1111111111111111,\"#46039f\"],[0.2222222222222222,\"#7201a8\"],[0.3333333333333333,\"#9c179e\"],[0.4444444444444444,\"#bd3786\"],[0.5555555555555556,\"#d8576b\"],[0.6666666666666666,\"#ed7953\"],[0.7777777777777778,\"#fb9f3a\"],[0.8888888888888888,\"#fdca26\"],[1.0,\"#f0f921\"]],\"type\":\"histogram2d\"}],\"histogram2dcontour\":[{\"colorbar\":{\"outlinewidth\":0,\"ticks\":\"\"},\"colorscale\":[[0.0,\"#0d0887\"],[0.1111111111111111,\"#46039f\"],[0.2222222222222222,\"#7201a8\"],[0.3333333333333333,\"#9c179e\"],[0.4444444444444444,\"#bd3786\"],[0.5555555555555556,\"#d8576b\"],[0.6666666666666666,\"#ed7953\"],[0.7777777777777778,\"#fb9f3a\"],[0.8888888888888888,\"#fdca26\"],[1.0,\"#f0f921\"]],\"type\":\"histogram2dcontour\"}],\"mesh3d\":[{\"colorbar\":{\"outlinewidth\":0,\"ticks\":\"\"},\"type\":\"mesh3d\"}],\"parcoords\":[{\"line\":{\"colorbar\":{\"outlinewidth\":0,\"ticks\":\"\"}},\"type\":\"parcoords\"}],\"pie\":[{\"automargin\":true,\"type\":\"pie\"}],\"scatter\":[{\"marker\":{\"colorbar\":{\"outlinewidth\":0,\"ticks\":\"\"}},\"type\":\"scatter\"}],\"scatter3d\":[{\"line\":{\"colorbar\":{\"outlinewidth\":0,\"ticks\":\"\"}},\"marker\":{\"colorbar\":{\"outlinewidth\":0,\"ticks\":\"\"}},\"type\":\"scatter3d\"}],\"scattercarpet\":[{\"marker\":{\"colorbar\":{\"outlinewidth\":0,\"ticks\":\"\"}},\"type\":\"scattercarpet\"}],\"scattergeo\":[{\"marker\":{\"colorbar\":{\"outlinewidth\":0,\"ticks\":\"\"}},\"type\":\"scattergeo\"}],\"scattergl\":[{\"marker\":{\"colorbar\":{\"outlinewidth\":0,\"ticks\":\"\"}},\"type\":\"scattergl\"}],\"scattermapbox\":[{\"marker\":{\"colorbar\":{\"outlinewidth\":0,\"ticks\":\"\"}},\"type\":\"scattermapbox\"}],\"scatterpolar\":[{\"marker\":{\"colorbar\":{\"outlinewidth\":0,\"ticks\":\"\"}},\"type\":\"scatterpolar\"}],\"scatterpolargl\":[{\"marker\":{\"colorbar\":{\"outlinewidth\":0,\"ticks\":\"\"}},\"type\":\"scatterpolargl\"}],\"scatterternary\":[{\"marker\":{\"colorbar\":{\"outlinewidth\":0,\"ticks\":\"\"}},\"type\":\"scatterternary\"}],\"surface\":[{\"colorbar\":{\"outlinewidth\":0,\"ticks\":\"\"},\"colorscale\":[[0.0,\"#0d0887\"],[0.1111111111111111,\"#46039f\"],[0.2222222222222222,\"#7201a8\"],[0.3333333333333333,\"#9c179e\"],[0.4444444444444444,\"#bd3786\"],[0.5555555555555556,\"#d8576b\"],[0.6666666666666666,\"#ed7953\"],[0.7777777777777778,\"#fb9f3a\"],[0.8888888888888888,\"#fdca26\"],[1.0,\"#f0f921\"]],\"type\":\"surface\"}],\"table\":[{\"cells\":{\"fill\":{\"color\":\"#EBF0F8\"},\"line\":{\"color\":\"white\"}},\"header\":{\"fill\":{\"color\":\"#C8D4E3\"},\"line\":{\"color\":\"white\"}},\"type\":\"table\"}]},\"layout\":{\"annotationdefaults\":{\"arrowcolor\":\"#2a3f5f\",\"arrowhead\":0,\"arrowwidth\":1},\"autotypenumbers\":\"strict\",\"coloraxis\":{\"colorbar\":{\"outlinewidth\":0,\"ticks\":\"\"}},\"colorscale\":{\"diverging\":[[0,\"#8e0152\"],[0.1,\"#c51b7d\"],[0.2,\"#de77ae\"],[0.3,\"#f1b6da\"],[0.4,\"#fde0ef\"],[0.5,\"#f7f7f7\"],[0.6,\"#e6f5d0\"],[0.7,\"#b8e186\"],[0.8,\"#7fbc41\"],[0.9,\"#4d9221\"],[1,\"#276419\"]],\"sequential\":[[0.0,\"#0d0887\"],[0.1111111111111111,\"#46039f\"],[0.2222222222222222,\"#7201a8\"],[0.3333333333333333,\"#9c179e\"],[0.4444444444444444,\"#bd3786\"],[0.5555555555555556,\"#d8576b\"],[0.6666666666666666,\"#ed7953\"],[0.7777777777777778,\"#fb9f3a\"],[0.8888888888888888,\"#fdca26\"],[1.0,\"#f0f921\"]],\"sequentialminus\":[[0.0,\"#0d0887\"],[0.1111111111111111,\"#46039f\"],[0.2222222222222222,\"#7201a8\"],[0.3333333333333333,\"#9c179e\"],[0.4444444444444444,\"#bd3786\"],[0.5555555555555556,\"#d8576b\"],[0.6666666666666666,\"#ed7953\"],[0.7777777777777778,\"#fb9f3a\"],[0.8888888888888888,\"#fdca26\"],[1.0,\"#f0f921\"]]},\"colorway\":[\"#636efa\",\"#EF553B\",\"#00cc96\",\"#ab63fa\",\"#FFA15A\",\"#19d3f3\",\"#FF6692\",\"#B6E880\",\"#FF97FF\",\"#FECB52\"],\"font\":{\"color\":\"#2a3f5f\"},\"geo\":{\"bgcolor\":\"white\",\"lakecolor\":\"white\",\"landcolor\":\"#E5ECF6\",\"showlakes\":true,\"showland\":true,\"subunitcolor\":\"white\"},\"hoverlabel\":{\"align\":\"left\"},\"hovermode\":\"closest\",\"mapbox\":{\"style\":\"light\"},\"paper_bgcolor\":\"white\",\"plot_bgcolor\":\"#E5ECF6\",\"polar\":{\"angularaxis\":{\"gridcolor\":\"white\",\"linecolor\":\"white\",\"ticks\":\"\"},\"bgcolor\":\"#E5ECF6\",\"radialaxis\":{\"gridcolor\":\"white\",\"linecolor\":\"white\",\"ticks\":\"\"}},\"scene\":{\"xaxis\":{\"backgroundcolor\":\"#E5ECF6\",\"gridcolor\":\"white\",\"gridwidth\":2,\"linecolor\":\"white\",\"showbackground\":true,\"ticks\":\"\",\"zerolinecolor\":\"white\"},\"yaxis\":{\"backgroundcolor\":\"#E5ECF6\",\"gridcolor\":\"white\",\"gridwidth\":2,\"linecolor\":\"white\",\"showbackground\":true,\"ticks\":\"\",\"zerolinecolor\":\"white\"},\"zaxis\":{\"backgroundcolor\":\"#E5ECF6\",\"gridcolor\":\"white\",\"gridwidth\":2,\"linecolor\":\"white\",\"showbackground\":true,\"ticks\":\"\",\"zerolinecolor\":\"white\"}},\"shapedefaults\":{\"line\":{\"color\":\"#2a3f5f\"}},\"ternary\":{\"aaxis\":{\"gridcolor\":\"white\",\"linecolor\":\"white\",\"ticks\":\"\"},\"baxis\":{\"gridcolor\":\"white\",\"linecolor\":\"white\",\"ticks\":\"\"},\"bgcolor\":\"#E5ECF6\",\"caxis\":{\"gridcolor\":\"white\",\"linecolor\":\"white\",\"ticks\":\"\"}},\"title\":{\"x\":0.05},\"xaxis\":{\"automargin\":true,\"gridcolor\":\"white\",\"linecolor\":\"white\",\"ticks\":\"\",\"title\":{\"standoff\":15},\"zerolinecolor\":\"white\",\"zerolinewidth\":2},\"yaxis\":{\"automargin\":true,\"gridcolor\":\"white\",\"linecolor\":\"white\",\"ticks\":\"\",\"title\":{\"standoff\":15},\"zerolinecolor\":\"white\",\"zerolinewidth\":2}}}},                        {\"responsive\": true}                    ).then(function(){\n",
       "                            \n",
       "var gd = document.getElementById('b1f0ac4c-ed37-4b70-aa8b-7d159c764ba2');\n",
       "var x = new MutationObserver(function (mutations, observer) {{\n",
       "        var display = window.getComputedStyle(gd).display;\n",
       "        if (!display || display === 'none') {{\n",
       "            console.log([gd, 'removed!']);\n",
       "            Plotly.purge(gd);\n",
       "            observer.disconnect();\n",
       "        }}\n",
       "}});\n",
       "\n",
       "// Listen for the removal of the full notebook cells\n",
       "var notebookContainer = gd.closest('#notebook-container');\n",
       "if (notebookContainer) {{\n",
       "    x.observe(notebookContainer, {childList: true});\n",
       "}}\n",
       "\n",
       "// Listen for the clearing of the current output cell\n",
       "var outputEl = gd.closest('.output');\n",
       "if (outputEl) {{\n",
       "    x.observe(outputEl, {childList: true});\n",
       "}}\n",
       "\n",
       "                        })                };                            </script>        </div>\n",
       "</body>\n",
       "</html>"
      ]
     },
     "metadata": {},
     "output_type": "display_data"
    }
   ],
   "source": [
    "# 시도한 것들에 대한 결과 리뷰\n",
    "optuna.visualization.plot_optimization_history(xgbc_study)"
   ]
  },
  {
   "cell_type": "code",
   "execution_count": 49,
   "metadata": {
    "colab": {
     "base_uri": "https://localhost:8080/",
     "height": 542
    },
    "id": "LCk5vAVbFREM",
    "outputId": "127d8c65-07fa-4400-9a52-c7d069ba42b4"
   },
   "outputs": [
    {
     "data": {
      "text/html": [
       "<html>\n",
       "<head><meta charset=\"utf-8\" /></head>\n",
       "<body>\n",
       "    <div>            <script src=\"https://cdnjs.cloudflare.com/ajax/libs/mathjax/2.7.5/MathJax.js?config=TeX-AMS-MML_SVG\"></script><script type=\"text/javascript\">if (window.MathJax) {MathJax.Hub.Config({SVG: {font: \"STIX-Web\"}});}</script>                <script type=\"text/javascript\">window.PlotlyConfig = {MathJaxConfig: 'local'};</script>\n",
       "        <script src=\"https://cdn.plot.ly/plotly-2.8.3.min.js\"></script>                <div id=\"bc1d3091-a149-488f-bfd1-07315ae8e1a1\" class=\"plotly-graph-div\" style=\"height:525px; width:100%;\"></div>            <script type=\"text/javascript\">                                    window.PLOTLYENV=window.PLOTLYENV || {};                                    if (document.getElementById(\"bc1d3091-a149-488f-bfd1-07315ae8e1a1\")) {                    Plotly.newPlot(                        \"bc1d3091-a149-488f-bfd1-07315ae8e1a1\",                        [{\"dimensions\":[{\"label\":\"Objective Value\",\"range\":[0.6165862306707377,0.8342361863488623],\"values\":[0.810400866738895,0.6502807052102828,0.7794149512459372,0.647444105190584,0.7190781049935979,0.6165862306707377,0.8103614695163991,0.7977346597064907,0.7765980498374864,0.8075248694967005,0.7962868117797695,0.8187924751305033,0.8243770314192851,0.8342361863488623,0.8285728356150892,0.8187432286023835,0.8299812863193144,0.8257953314291342,0.7976854131783709,0.8103319215995273,0.6671427164384911,0.8257756328178865,0.8271840835221116,0.8047276666994977,0.8159854230276766,0.8201615286122328,0.8160051216389246,0.8257756328178865,0.6390327981877277,0.8229587314094357]},{\"label\":\"booster\",\"range\":[0,2],\"ticktext\":[\"dart\",\"gblinear\",\"gbtree\"],\"tickvals\":[0,1,2],\"values\":[0,1,0,1,0,2,2,2,1,2,0,2,0,0,0,0,0,0,0,0,1,0,0,0,0,0,0,0,1,0]},{\"label\":\"colsample_bytree\",\"range\":[0.15000000000000002,1.0],\"values\":[0.7000000000000001,0.30000000000000004,0.35,0.9,0.15000000000000002,0.2,0.65,0.2,0.55,0.45000000000000007,0.8,0.65,0.7000000000000001,1.0,1.0,1.0,1.0,0.85,0.9,1.0,0.8,1.0,0.9,1.0,0.8,0.9,0.9500000000000001,0.75,0.9500000000000001,0.5]},{\"label\":\"learning_rate\",\"range\":[-2.9995250950187375,-0.28050519570149435],\"ticktext\":[\"0.001\",\"0.01\",\"0.1\",\"0.524\"],\"tickvals\":[-2.9995250950187375,-2,-1,-0.28050519570149435],\"values\":[-0.85053976063228,-1.065362289975299,-0.28050519570149435,-2.785055270963169,-2.0320712968890313,-0.6771974743785597,-0.6866964649139391,-0.7640527227146009,-0.41872503389647076,-1.2343495014969657,-1.9096352848709877,-1.4695454093132039,-1.585077373257215,-1.6664768673474273,-1.990254866400101,-2.3964811971285123,-2.22358713714878,-2.9995250950187375,-2.474101068964306,-2.288352360223526,-1.7291843696305105,-2.1628639870704496,-1.8363527190097406,-2.5981655212295593,-1.4532620655840356,-2.031025729308924,-1.249448950333582,-1.6721718771298035,-2.1590929897680344,-2.609470261277077]},{\"label\":\"max_depth\",\"range\":[3,100],\"values\":[92,24,55,61,83,11,79,3,71,49,98,95,98,100,35,36,37,39,22,69,47,28,36,15,43,58,32,66,85,17]},{\"label\":\"n_estimators\",\"range\":[104,997],\"values\":[449,163,997,428,586,868,111,491,756,481,294,202,300,254,316,319,651,655,669,807,552,381,277,232,356,601,726,412,104,498]},{\"label\":\"reg_alpha\",\"range\":[-5.755632064860495,2.429010933083607],\"ticktext\":[\"1.76e-06\",\"1e-05\",\"0.0001\",\"0.001\",\"0.01\",\"0.1\",\"1\",\"10\",\"100\",\"269\"],\"tickvals\":[-5.755632064860495,-5,-4,-3,-2,-1,0,1,2,2.429010933083607],\"values\":[-5.755632064860495,0.44363880891473917,-1.0361393868384092,-3.6696903635672586,1.3624967872852602,2.429010933083607,0.8560469082844107,-4.423729093430515,-2.3290676627690257,-5.008901952627473,-5.721734683859573,-0.6605313250873007,-1.4187852832374657,-1.0646922874768865,-2.6256932048976953,-2.8927619439919594,-2.56037139584808,0.10476916374199087,-2.206220618997848,-3.751172584474158,-0.2892248049743233,-2.084248509826288,-3.1039026409489656,-1.5368578739975713,-2.8613345483817776,-3.99830122169668,-1.6785104112245257,-1.0902213098441005,-3.0458563253819904,-0.45184101075103994]},{\"label\":\"reg_lambda\",\"range\":[-5.950253004406225,2.601550981176472],\"ticktext\":[\"1.12e-06\",\"1e-05\",\"0.0001\",\"0.001\",\"0.01\",\"0.1\",\"1\",\"10\",\"100\",\"400\"],\"tickvals\":[-5.950253004406225,-5,-4,-3,-2,-1,0,1,2,2.601550981176472],\"values\":[-0.8472025689278231,0.9207429276719644,-3.6758401577893873,0.08884095826868736,-3.3815642962523222,-4.057470527605814,-4.83107634143197,-4.878329764509805,-1.3644307262621342,-5.950253004406225,2.289531949175469,-2.250970560900933,-1.63325948354792,-2.2357555585751006,-2.276138885318489,-2.890340774331215,-0.1654944000209667,0.08310252887257509,2.601550981176472,1.3051338225346818,-0.7593904120671146,-2.483532320844824,-1.705678751734812,-0.11215543512890071,1.2225997119206504,-2.254284729296646,-0.8188228941670652,-2.88123865475604,0.7498812049793984,-1.2786279581832192]},{\"label\":\"subsample\",\"range\":[0.1,0.9500000000000001],\"values\":[0.2,0.8,0.9500000000000001,0.15000000000000002,0.55,0.7000000000000001,0.75,0.8,0.9500000000000001,0.9,0.15000000000000002,0.35,0.35,0.35,0.4,0.45000000000000007,0.55,0.6,0.5,0.25,0.30000000000000004,0.4,0.6,0.45000000000000007,0.55,0.65,0.25,0.4,0.1,0.5]}],\"labelangle\":30,\"labelside\":\"bottom\",\"line\":{\"color\":[0.810400866738895,0.6502807052102828,0.7794149512459372,0.647444105190584,0.7190781049935979,0.6165862306707377,0.8103614695163991,0.7977346597064907,0.7765980498374864,0.8075248694967005,0.7962868117797695,0.8187924751305033,0.8243770314192851,0.8342361863488623,0.8285728356150892,0.8187432286023835,0.8299812863193144,0.8257953314291342,0.7976854131783709,0.8103319215995273,0.6671427164384911,0.8257756328178865,0.8271840835221116,0.8047276666994977,0.8159854230276766,0.8201615286122328,0.8160051216389246,0.8257756328178865,0.6390327981877277,0.8229587314094357],\"colorbar\":{\"title\":{\"text\":\"Objective Value\"}},\"colorscale\":[[0.0,\"rgb(247,251,255)\"],[0.125,\"rgb(222,235,247)\"],[0.25,\"rgb(198,219,239)\"],[0.375,\"rgb(158,202,225)\"],[0.5,\"rgb(107,174,214)\"],[0.625,\"rgb(66,146,198)\"],[0.75,\"rgb(33,113,181)\"],[0.875,\"rgb(8,81,156)\"],[1.0,\"rgb(8,48,107)\"]],\"reversescale\":false,\"showscale\":true},\"type\":\"parcoords\"}],                        {\"title\":{\"text\":\"Parallel Coordinate Plot\"},\"template\":{\"data\":{\"bar\":[{\"error_x\":{\"color\":\"#2a3f5f\"},\"error_y\":{\"color\":\"#2a3f5f\"},\"marker\":{\"line\":{\"color\":\"#E5ECF6\",\"width\":0.5},\"pattern\":{\"fillmode\":\"overlay\",\"size\":10,\"solidity\":0.2}},\"type\":\"bar\"}],\"barpolar\":[{\"marker\":{\"line\":{\"color\":\"#E5ECF6\",\"width\":0.5},\"pattern\":{\"fillmode\":\"overlay\",\"size\":10,\"solidity\":0.2}},\"type\":\"barpolar\"}],\"carpet\":[{\"aaxis\":{\"endlinecolor\":\"#2a3f5f\",\"gridcolor\":\"white\",\"linecolor\":\"white\",\"minorgridcolor\":\"white\",\"startlinecolor\":\"#2a3f5f\"},\"baxis\":{\"endlinecolor\":\"#2a3f5f\",\"gridcolor\":\"white\",\"linecolor\":\"white\",\"minorgridcolor\":\"white\",\"startlinecolor\":\"#2a3f5f\"},\"type\":\"carpet\"}],\"choropleth\":[{\"colorbar\":{\"outlinewidth\":0,\"ticks\":\"\"},\"type\":\"choropleth\"}],\"contour\":[{\"colorbar\":{\"outlinewidth\":0,\"ticks\":\"\"},\"colorscale\":[[0.0,\"#0d0887\"],[0.1111111111111111,\"#46039f\"],[0.2222222222222222,\"#7201a8\"],[0.3333333333333333,\"#9c179e\"],[0.4444444444444444,\"#bd3786\"],[0.5555555555555556,\"#d8576b\"],[0.6666666666666666,\"#ed7953\"],[0.7777777777777778,\"#fb9f3a\"],[0.8888888888888888,\"#fdca26\"],[1.0,\"#f0f921\"]],\"type\":\"contour\"}],\"contourcarpet\":[{\"colorbar\":{\"outlinewidth\":0,\"ticks\":\"\"},\"type\":\"contourcarpet\"}],\"heatmap\":[{\"colorbar\":{\"outlinewidth\":0,\"ticks\":\"\"},\"colorscale\":[[0.0,\"#0d0887\"],[0.1111111111111111,\"#46039f\"],[0.2222222222222222,\"#7201a8\"],[0.3333333333333333,\"#9c179e\"],[0.4444444444444444,\"#bd3786\"],[0.5555555555555556,\"#d8576b\"],[0.6666666666666666,\"#ed7953\"],[0.7777777777777778,\"#fb9f3a\"],[0.8888888888888888,\"#fdca26\"],[1.0,\"#f0f921\"]],\"type\":\"heatmap\"}],\"heatmapgl\":[{\"colorbar\":{\"outlinewidth\":0,\"ticks\":\"\"},\"colorscale\":[[0.0,\"#0d0887\"],[0.1111111111111111,\"#46039f\"],[0.2222222222222222,\"#7201a8\"],[0.3333333333333333,\"#9c179e\"],[0.4444444444444444,\"#bd3786\"],[0.5555555555555556,\"#d8576b\"],[0.6666666666666666,\"#ed7953\"],[0.7777777777777778,\"#fb9f3a\"],[0.8888888888888888,\"#fdca26\"],[1.0,\"#f0f921\"]],\"type\":\"heatmapgl\"}],\"histogram\":[{\"marker\":{\"pattern\":{\"fillmode\":\"overlay\",\"size\":10,\"solidity\":0.2}},\"type\":\"histogram\"}],\"histogram2d\":[{\"colorbar\":{\"outlinewidth\":0,\"ticks\":\"\"},\"colorscale\":[[0.0,\"#0d0887\"],[0.1111111111111111,\"#46039f\"],[0.2222222222222222,\"#7201a8\"],[0.3333333333333333,\"#9c179e\"],[0.4444444444444444,\"#bd3786\"],[0.5555555555555556,\"#d8576b\"],[0.6666666666666666,\"#ed7953\"],[0.7777777777777778,\"#fb9f3a\"],[0.8888888888888888,\"#fdca26\"],[1.0,\"#f0f921\"]],\"type\":\"histogram2d\"}],\"histogram2dcontour\":[{\"colorbar\":{\"outlinewidth\":0,\"ticks\":\"\"},\"colorscale\":[[0.0,\"#0d0887\"],[0.1111111111111111,\"#46039f\"],[0.2222222222222222,\"#7201a8\"],[0.3333333333333333,\"#9c179e\"],[0.4444444444444444,\"#bd3786\"],[0.5555555555555556,\"#d8576b\"],[0.6666666666666666,\"#ed7953\"],[0.7777777777777778,\"#fb9f3a\"],[0.8888888888888888,\"#fdca26\"],[1.0,\"#f0f921\"]],\"type\":\"histogram2dcontour\"}],\"mesh3d\":[{\"colorbar\":{\"outlinewidth\":0,\"ticks\":\"\"},\"type\":\"mesh3d\"}],\"parcoords\":[{\"line\":{\"colorbar\":{\"outlinewidth\":0,\"ticks\":\"\"}},\"type\":\"parcoords\"}],\"pie\":[{\"automargin\":true,\"type\":\"pie\"}],\"scatter\":[{\"marker\":{\"colorbar\":{\"outlinewidth\":0,\"ticks\":\"\"}},\"type\":\"scatter\"}],\"scatter3d\":[{\"line\":{\"colorbar\":{\"outlinewidth\":0,\"ticks\":\"\"}},\"marker\":{\"colorbar\":{\"outlinewidth\":0,\"ticks\":\"\"}},\"type\":\"scatter3d\"}],\"scattercarpet\":[{\"marker\":{\"colorbar\":{\"outlinewidth\":0,\"ticks\":\"\"}},\"type\":\"scattercarpet\"}],\"scattergeo\":[{\"marker\":{\"colorbar\":{\"outlinewidth\":0,\"ticks\":\"\"}},\"type\":\"scattergeo\"}],\"scattergl\":[{\"marker\":{\"colorbar\":{\"outlinewidth\":0,\"ticks\":\"\"}},\"type\":\"scattergl\"}],\"scattermapbox\":[{\"marker\":{\"colorbar\":{\"outlinewidth\":0,\"ticks\":\"\"}},\"type\":\"scattermapbox\"}],\"scatterpolar\":[{\"marker\":{\"colorbar\":{\"outlinewidth\":0,\"ticks\":\"\"}},\"type\":\"scatterpolar\"}],\"scatterpolargl\":[{\"marker\":{\"colorbar\":{\"outlinewidth\":0,\"ticks\":\"\"}},\"type\":\"scatterpolargl\"}],\"scatterternary\":[{\"marker\":{\"colorbar\":{\"outlinewidth\":0,\"ticks\":\"\"}},\"type\":\"scatterternary\"}],\"surface\":[{\"colorbar\":{\"outlinewidth\":0,\"ticks\":\"\"},\"colorscale\":[[0.0,\"#0d0887\"],[0.1111111111111111,\"#46039f\"],[0.2222222222222222,\"#7201a8\"],[0.3333333333333333,\"#9c179e\"],[0.4444444444444444,\"#bd3786\"],[0.5555555555555556,\"#d8576b\"],[0.6666666666666666,\"#ed7953\"],[0.7777777777777778,\"#fb9f3a\"],[0.8888888888888888,\"#fdca26\"],[1.0,\"#f0f921\"]],\"type\":\"surface\"}],\"table\":[{\"cells\":{\"fill\":{\"color\":\"#EBF0F8\"},\"line\":{\"color\":\"white\"}},\"header\":{\"fill\":{\"color\":\"#C8D4E3\"},\"line\":{\"color\":\"white\"}},\"type\":\"table\"}]},\"layout\":{\"annotationdefaults\":{\"arrowcolor\":\"#2a3f5f\",\"arrowhead\":0,\"arrowwidth\":1},\"autotypenumbers\":\"strict\",\"coloraxis\":{\"colorbar\":{\"outlinewidth\":0,\"ticks\":\"\"}},\"colorscale\":{\"diverging\":[[0,\"#8e0152\"],[0.1,\"#c51b7d\"],[0.2,\"#de77ae\"],[0.3,\"#f1b6da\"],[0.4,\"#fde0ef\"],[0.5,\"#f7f7f7\"],[0.6,\"#e6f5d0\"],[0.7,\"#b8e186\"],[0.8,\"#7fbc41\"],[0.9,\"#4d9221\"],[1,\"#276419\"]],\"sequential\":[[0.0,\"#0d0887\"],[0.1111111111111111,\"#46039f\"],[0.2222222222222222,\"#7201a8\"],[0.3333333333333333,\"#9c179e\"],[0.4444444444444444,\"#bd3786\"],[0.5555555555555556,\"#d8576b\"],[0.6666666666666666,\"#ed7953\"],[0.7777777777777778,\"#fb9f3a\"],[0.8888888888888888,\"#fdca26\"],[1.0,\"#f0f921\"]],\"sequentialminus\":[[0.0,\"#0d0887\"],[0.1111111111111111,\"#46039f\"],[0.2222222222222222,\"#7201a8\"],[0.3333333333333333,\"#9c179e\"],[0.4444444444444444,\"#bd3786\"],[0.5555555555555556,\"#d8576b\"],[0.6666666666666666,\"#ed7953\"],[0.7777777777777778,\"#fb9f3a\"],[0.8888888888888888,\"#fdca26\"],[1.0,\"#f0f921\"]]},\"colorway\":[\"#636efa\",\"#EF553B\",\"#00cc96\",\"#ab63fa\",\"#FFA15A\",\"#19d3f3\",\"#FF6692\",\"#B6E880\",\"#FF97FF\",\"#FECB52\"],\"font\":{\"color\":\"#2a3f5f\"},\"geo\":{\"bgcolor\":\"white\",\"lakecolor\":\"white\",\"landcolor\":\"#E5ECF6\",\"showlakes\":true,\"showland\":true,\"subunitcolor\":\"white\"},\"hoverlabel\":{\"align\":\"left\"},\"hovermode\":\"closest\",\"mapbox\":{\"style\":\"light\"},\"paper_bgcolor\":\"white\",\"plot_bgcolor\":\"#E5ECF6\",\"polar\":{\"angularaxis\":{\"gridcolor\":\"white\",\"linecolor\":\"white\",\"ticks\":\"\"},\"bgcolor\":\"#E5ECF6\",\"radialaxis\":{\"gridcolor\":\"white\",\"linecolor\":\"white\",\"ticks\":\"\"}},\"scene\":{\"xaxis\":{\"backgroundcolor\":\"#E5ECF6\",\"gridcolor\":\"white\",\"gridwidth\":2,\"linecolor\":\"white\",\"showbackground\":true,\"ticks\":\"\",\"zerolinecolor\":\"white\"},\"yaxis\":{\"backgroundcolor\":\"#E5ECF6\",\"gridcolor\":\"white\",\"gridwidth\":2,\"linecolor\":\"white\",\"showbackground\":true,\"ticks\":\"\",\"zerolinecolor\":\"white\"},\"zaxis\":{\"backgroundcolor\":\"#E5ECF6\",\"gridcolor\":\"white\",\"gridwidth\":2,\"linecolor\":\"white\",\"showbackground\":true,\"ticks\":\"\",\"zerolinecolor\":\"white\"}},\"shapedefaults\":{\"line\":{\"color\":\"#2a3f5f\"}},\"ternary\":{\"aaxis\":{\"gridcolor\":\"white\",\"linecolor\":\"white\",\"ticks\":\"\"},\"baxis\":{\"gridcolor\":\"white\",\"linecolor\":\"white\",\"ticks\":\"\"},\"bgcolor\":\"#E5ECF6\",\"caxis\":{\"gridcolor\":\"white\",\"linecolor\":\"white\",\"ticks\":\"\"}},\"title\":{\"x\":0.05},\"xaxis\":{\"automargin\":true,\"gridcolor\":\"white\",\"linecolor\":\"white\",\"ticks\":\"\",\"title\":{\"standoff\":15},\"zerolinecolor\":\"white\",\"zerolinewidth\":2},\"yaxis\":{\"automargin\":true,\"gridcolor\":\"white\",\"linecolor\":\"white\",\"ticks\":\"\",\"title\":{\"standoff\":15},\"zerolinecolor\":\"white\",\"zerolinewidth\":2}}}},                        {\"responsive\": true}                    ).then(function(){\n",
       "                            \n",
       "var gd = document.getElementById('bc1d3091-a149-488f-bfd1-07315ae8e1a1');\n",
       "var x = new MutationObserver(function (mutations, observer) {{\n",
       "        var display = window.getComputedStyle(gd).display;\n",
       "        if (!display || display === 'none') {{\n",
       "            console.log([gd, 'removed!']);\n",
       "            Plotly.purge(gd);\n",
       "            observer.disconnect();\n",
       "        }}\n",
       "}});\n",
       "\n",
       "// Listen for the removal of the full notebook cells\n",
       "var notebookContainer = gd.closest('#notebook-container');\n",
       "if (notebookContainer) {{\n",
       "    x.observe(notebookContainer, {childList: true});\n",
       "}}\n",
       "\n",
       "// Listen for the clearing of the current output cell\n",
       "var outputEl = gd.closest('.output');\n",
       "if (outputEl) {{\n",
       "    x.observe(outputEl, {childList: true});\n",
       "}}\n",
       "\n",
       "                        })                };                            </script>        </div>\n",
       "</body>\n",
       "</html>"
      ]
     },
     "metadata": {},
     "output_type": "display_data"
    }
   ],
   "source": [
    "optuna.visualization.plot_parallel_coordinate(xgbc_study)"
   ]
  },
  {
   "cell_type": "code",
   "execution_count": 50,
   "metadata": {
    "colab": {
     "base_uri": "https://localhost:8080/",
     "height": 542
    },
    "id": "DT7gNIsnGTuQ",
    "outputId": "9cb76452-7c6b-43af-c19e-924f40db23a5"
   },
   "outputs": [
    {
     "data": {
      "text/html": [
       "<html>\n",
       "<head><meta charset=\"utf-8\" /></head>\n",
       "<body>\n",
       "    <div>            <script src=\"https://cdnjs.cloudflare.com/ajax/libs/mathjax/2.7.5/MathJax.js?config=TeX-AMS-MML_SVG\"></script><script type=\"text/javascript\">if (window.MathJax) {MathJax.Hub.Config({SVG: {font: \"STIX-Web\"}});}</script>                <script type=\"text/javascript\">window.PlotlyConfig = {MathJaxConfig: 'local'};</script>\n",
       "        <script src=\"https://cdn.plot.ly/plotly-2.8.3.min.js\"></script>                <div id=\"39f541bf-9911-4671-bf55-e68bca4ea304\" class=\"plotly-graph-div\" style=\"height:525px; width:100%;\"></div>            <script type=\"text/javascript\">                                    window.PLOTLYENV=window.PLOTLYENV || {};                                    if (document.getElementById(\"39f541bf-9911-4671-bf55-e68bca4ea304\")) {                    Plotly.newPlot(                        \"39f541bf-9911-4671-bf55-e68bca4ea304\",                        [{\"cliponaxis\":false,\"hovertemplate\":[\"reg_lambda (LogUniformDistribution): 0.0008801321089963957<extra></extra>\",\"n_estimators (IntUniformDistribution): 0.0606823383338869<extra></extra>\",\"max_depth (IntUniformDistribution): 0.06618860548279341<extra></extra>\",\"colsample_bytree (DiscreteUniformDistribution): 0.08356532040255392<extra></extra>\",\"subsample (DiscreteUniformDistribution): 0.08529666342766981<extra></extra>\",\"learning_rate (LogUniformDistribution): 0.09277572678689656<extra></extra>\",\"reg_alpha (LogUniformDistribution): 0.0965548549711494<extra></extra>\",\"booster (CategoricalDistribution): 0.5140563584860537<extra></extra>\"],\"marker\":{\"color\":\"rgb(66,146,198)\"},\"orientation\":\"h\",\"text\":[\"0.0008801321089963957\",\"0.0606823383338869\",\"0.06618860548279341\",\"0.08356532040255392\",\"0.08529666342766981\",\"0.09277572678689656\",\"0.0965548549711494\",\"0.5140563584860537\"],\"textposition\":\"outside\",\"texttemplate\":\"%{text:.2f}\",\"x\":[0.0008801321089963957,0.0606823383338869,0.06618860548279341,0.08356532040255392,0.08529666342766981,0.09277572678689656,0.0965548549711494,0.5140563584860537],\"y\":[\"reg_lambda\",\"n_estimators\",\"max_depth\",\"colsample_bytree\",\"subsample\",\"learning_rate\",\"reg_alpha\",\"booster\"],\"type\":\"bar\"}],                        {\"showlegend\":false,\"title\":{\"text\":\"Hyperparameter Importances\"},\"xaxis\":{\"title\":{\"text\":\"Importance for Objective Value\"}},\"yaxis\":{\"title\":{\"text\":\"Hyperparameter\"}},\"template\":{\"data\":{\"bar\":[{\"error_x\":{\"color\":\"#2a3f5f\"},\"error_y\":{\"color\":\"#2a3f5f\"},\"marker\":{\"line\":{\"color\":\"#E5ECF6\",\"width\":0.5},\"pattern\":{\"fillmode\":\"overlay\",\"size\":10,\"solidity\":0.2}},\"type\":\"bar\"}],\"barpolar\":[{\"marker\":{\"line\":{\"color\":\"#E5ECF6\",\"width\":0.5},\"pattern\":{\"fillmode\":\"overlay\",\"size\":10,\"solidity\":0.2}},\"type\":\"barpolar\"}],\"carpet\":[{\"aaxis\":{\"endlinecolor\":\"#2a3f5f\",\"gridcolor\":\"white\",\"linecolor\":\"white\",\"minorgridcolor\":\"white\",\"startlinecolor\":\"#2a3f5f\"},\"baxis\":{\"endlinecolor\":\"#2a3f5f\",\"gridcolor\":\"white\",\"linecolor\":\"white\",\"minorgridcolor\":\"white\",\"startlinecolor\":\"#2a3f5f\"},\"type\":\"carpet\"}],\"choropleth\":[{\"colorbar\":{\"outlinewidth\":0,\"ticks\":\"\"},\"type\":\"choropleth\"}],\"contour\":[{\"colorbar\":{\"outlinewidth\":0,\"ticks\":\"\"},\"colorscale\":[[0.0,\"#0d0887\"],[0.1111111111111111,\"#46039f\"],[0.2222222222222222,\"#7201a8\"],[0.3333333333333333,\"#9c179e\"],[0.4444444444444444,\"#bd3786\"],[0.5555555555555556,\"#d8576b\"],[0.6666666666666666,\"#ed7953\"],[0.7777777777777778,\"#fb9f3a\"],[0.8888888888888888,\"#fdca26\"],[1.0,\"#f0f921\"]],\"type\":\"contour\"}],\"contourcarpet\":[{\"colorbar\":{\"outlinewidth\":0,\"ticks\":\"\"},\"type\":\"contourcarpet\"}],\"heatmap\":[{\"colorbar\":{\"outlinewidth\":0,\"ticks\":\"\"},\"colorscale\":[[0.0,\"#0d0887\"],[0.1111111111111111,\"#46039f\"],[0.2222222222222222,\"#7201a8\"],[0.3333333333333333,\"#9c179e\"],[0.4444444444444444,\"#bd3786\"],[0.5555555555555556,\"#d8576b\"],[0.6666666666666666,\"#ed7953\"],[0.7777777777777778,\"#fb9f3a\"],[0.8888888888888888,\"#fdca26\"],[1.0,\"#f0f921\"]],\"type\":\"heatmap\"}],\"heatmapgl\":[{\"colorbar\":{\"outlinewidth\":0,\"ticks\":\"\"},\"colorscale\":[[0.0,\"#0d0887\"],[0.1111111111111111,\"#46039f\"],[0.2222222222222222,\"#7201a8\"],[0.3333333333333333,\"#9c179e\"],[0.4444444444444444,\"#bd3786\"],[0.5555555555555556,\"#d8576b\"],[0.6666666666666666,\"#ed7953\"],[0.7777777777777778,\"#fb9f3a\"],[0.8888888888888888,\"#fdca26\"],[1.0,\"#f0f921\"]],\"type\":\"heatmapgl\"}],\"histogram\":[{\"marker\":{\"pattern\":{\"fillmode\":\"overlay\",\"size\":10,\"solidity\":0.2}},\"type\":\"histogram\"}],\"histogram2d\":[{\"colorbar\":{\"outlinewidth\":0,\"ticks\":\"\"},\"colorscale\":[[0.0,\"#0d0887\"],[0.1111111111111111,\"#46039f\"],[0.2222222222222222,\"#7201a8\"],[0.3333333333333333,\"#9c179e\"],[0.4444444444444444,\"#bd3786\"],[0.5555555555555556,\"#d8576b\"],[0.6666666666666666,\"#ed7953\"],[0.7777777777777778,\"#fb9f3a\"],[0.8888888888888888,\"#fdca26\"],[1.0,\"#f0f921\"]],\"type\":\"histogram2d\"}],\"histogram2dcontour\":[{\"colorbar\":{\"outlinewidth\":0,\"ticks\":\"\"},\"colorscale\":[[0.0,\"#0d0887\"],[0.1111111111111111,\"#46039f\"],[0.2222222222222222,\"#7201a8\"],[0.3333333333333333,\"#9c179e\"],[0.4444444444444444,\"#bd3786\"],[0.5555555555555556,\"#d8576b\"],[0.6666666666666666,\"#ed7953\"],[0.7777777777777778,\"#fb9f3a\"],[0.8888888888888888,\"#fdca26\"],[1.0,\"#f0f921\"]],\"type\":\"histogram2dcontour\"}],\"mesh3d\":[{\"colorbar\":{\"outlinewidth\":0,\"ticks\":\"\"},\"type\":\"mesh3d\"}],\"parcoords\":[{\"line\":{\"colorbar\":{\"outlinewidth\":0,\"ticks\":\"\"}},\"type\":\"parcoords\"}],\"pie\":[{\"automargin\":true,\"type\":\"pie\"}],\"scatter\":[{\"marker\":{\"colorbar\":{\"outlinewidth\":0,\"ticks\":\"\"}},\"type\":\"scatter\"}],\"scatter3d\":[{\"line\":{\"colorbar\":{\"outlinewidth\":0,\"ticks\":\"\"}},\"marker\":{\"colorbar\":{\"outlinewidth\":0,\"ticks\":\"\"}},\"type\":\"scatter3d\"}],\"scattercarpet\":[{\"marker\":{\"colorbar\":{\"outlinewidth\":0,\"ticks\":\"\"}},\"type\":\"scattercarpet\"}],\"scattergeo\":[{\"marker\":{\"colorbar\":{\"outlinewidth\":0,\"ticks\":\"\"}},\"type\":\"scattergeo\"}],\"scattergl\":[{\"marker\":{\"colorbar\":{\"outlinewidth\":0,\"ticks\":\"\"}},\"type\":\"scattergl\"}],\"scattermapbox\":[{\"marker\":{\"colorbar\":{\"outlinewidth\":0,\"ticks\":\"\"}},\"type\":\"scattermapbox\"}],\"scatterpolar\":[{\"marker\":{\"colorbar\":{\"outlinewidth\":0,\"ticks\":\"\"}},\"type\":\"scatterpolar\"}],\"scatterpolargl\":[{\"marker\":{\"colorbar\":{\"outlinewidth\":0,\"ticks\":\"\"}},\"type\":\"scatterpolargl\"}],\"scatterternary\":[{\"marker\":{\"colorbar\":{\"outlinewidth\":0,\"ticks\":\"\"}},\"type\":\"scatterternary\"}],\"surface\":[{\"colorbar\":{\"outlinewidth\":0,\"ticks\":\"\"},\"colorscale\":[[0.0,\"#0d0887\"],[0.1111111111111111,\"#46039f\"],[0.2222222222222222,\"#7201a8\"],[0.3333333333333333,\"#9c179e\"],[0.4444444444444444,\"#bd3786\"],[0.5555555555555556,\"#d8576b\"],[0.6666666666666666,\"#ed7953\"],[0.7777777777777778,\"#fb9f3a\"],[0.8888888888888888,\"#fdca26\"],[1.0,\"#f0f921\"]],\"type\":\"surface\"}],\"table\":[{\"cells\":{\"fill\":{\"color\":\"#EBF0F8\"},\"line\":{\"color\":\"white\"}},\"header\":{\"fill\":{\"color\":\"#C8D4E3\"},\"line\":{\"color\":\"white\"}},\"type\":\"table\"}]},\"layout\":{\"annotationdefaults\":{\"arrowcolor\":\"#2a3f5f\",\"arrowhead\":0,\"arrowwidth\":1},\"autotypenumbers\":\"strict\",\"coloraxis\":{\"colorbar\":{\"outlinewidth\":0,\"ticks\":\"\"}},\"colorscale\":{\"diverging\":[[0,\"#8e0152\"],[0.1,\"#c51b7d\"],[0.2,\"#de77ae\"],[0.3,\"#f1b6da\"],[0.4,\"#fde0ef\"],[0.5,\"#f7f7f7\"],[0.6,\"#e6f5d0\"],[0.7,\"#b8e186\"],[0.8,\"#7fbc41\"],[0.9,\"#4d9221\"],[1,\"#276419\"]],\"sequential\":[[0.0,\"#0d0887\"],[0.1111111111111111,\"#46039f\"],[0.2222222222222222,\"#7201a8\"],[0.3333333333333333,\"#9c179e\"],[0.4444444444444444,\"#bd3786\"],[0.5555555555555556,\"#d8576b\"],[0.6666666666666666,\"#ed7953\"],[0.7777777777777778,\"#fb9f3a\"],[0.8888888888888888,\"#fdca26\"],[1.0,\"#f0f921\"]],\"sequentialminus\":[[0.0,\"#0d0887\"],[0.1111111111111111,\"#46039f\"],[0.2222222222222222,\"#7201a8\"],[0.3333333333333333,\"#9c179e\"],[0.4444444444444444,\"#bd3786\"],[0.5555555555555556,\"#d8576b\"],[0.6666666666666666,\"#ed7953\"],[0.7777777777777778,\"#fb9f3a\"],[0.8888888888888888,\"#fdca26\"],[1.0,\"#f0f921\"]]},\"colorway\":[\"#636efa\",\"#EF553B\",\"#00cc96\",\"#ab63fa\",\"#FFA15A\",\"#19d3f3\",\"#FF6692\",\"#B6E880\",\"#FF97FF\",\"#FECB52\"],\"font\":{\"color\":\"#2a3f5f\"},\"geo\":{\"bgcolor\":\"white\",\"lakecolor\":\"white\",\"landcolor\":\"#E5ECF6\",\"showlakes\":true,\"showland\":true,\"subunitcolor\":\"white\"},\"hoverlabel\":{\"align\":\"left\"},\"hovermode\":\"closest\",\"mapbox\":{\"style\":\"light\"},\"paper_bgcolor\":\"white\",\"plot_bgcolor\":\"#E5ECF6\",\"polar\":{\"angularaxis\":{\"gridcolor\":\"white\",\"linecolor\":\"white\",\"ticks\":\"\"},\"bgcolor\":\"#E5ECF6\",\"radialaxis\":{\"gridcolor\":\"white\",\"linecolor\":\"white\",\"ticks\":\"\"}},\"scene\":{\"xaxis\":{\"backgroundcolor\":\"#E5ECF6\",\"gridcolor\":\"white\",\"gridwidth\":2,\"linecolor\":\"white\",\"showbackground\":true,\"ticks\":\"\",\"zerolinecolor\":\"white\"},\"yaxis\":{\"backgroundcolor\":\"#E5ECF6\",\"gridcolor\":\"white\",\"gridwidth\":2,\"linecolor\":\"white\",\"showbackground\":true,\"ticks\":\"\",\"zerolinecolor\":\"white\"},\"zaxis\":{\"backgroundcolor\":\"#E5ECF6\",\"gridcolor\":\"white\",\"gridwidth\":2,\"linecolor\":\"white\",\"showbackground\":true,\"ticks\":\"\",\"zerolinecolor\":\"white\"}},\"shapedefaults\":{\"line\":{\"color\":\"#2a3f5f\"}},\"ternary\":{\"aaxis\":{\"gridcolor\":\"white\",\"linecolor\":\"white\",\"ticks\":\"\"},\"baxis\":{\"gridcolor\":\"white\",\"linecolor\":\"white\",\"ticks\":\"\"},\"bgcolor\":\"#E5ECF6\",\"caxis\":{\"gridcolor\":\"white\",\"linecolor\":\"white\",\"ticks\":\"\"}},\"title\":{\"x\":0.05},\"xaxis\":{\"automargin\":true,\"gridcolor\":\"white\",\"linecolor\":\"white\",\"ticks\":\"\",\"title\":{\"standoff\":15},\"zerolinecolor\":\"white\",\"zerolinewidth\":2},\"yaxis\":{\"automargin\":true,\"gridcolor\":\"white\",\"linecolor\":\"white\",\"ticks\":\"\",\"title\":{\"standoff\":15},\"zerolinecolor\":\"white\",\"zerolinewidth\":2}}}},                        {\"responsive\": true}                    ).then(function(){\n",
       "                            \n",
       "var gd = document.getElementById('39f541bf-9911-4671-bf55-e68bca4ea304');\n",
       "var x = new MutationObserver(function (mutations, observer) {{\n",
       "        var display = window.getComputedStyle(gd).display;\n",
       "        if (!display || display === 'none') {{\n",
       "            console.log([gd, 'removed!']);\n",
       "            Plotly.purge(gd);\n",
       "            observer.disconnect();\n",
       "        }}\n",
       "}});\n",
       "\n",
       "// Listen for the removal of the full notebook cells\n",
       "var notebookContainer = gd.closest('#notebook-container');\n",
       "if (notebookContainer) {{\n",
       "    x.observe(notebookContainer, {childList: true});\n",
       "}}\n",
       "\n",
       "// Listen for the clearing of the current output cell\n",
       "var outputEl = gd.closest('.output');\n",
       "if (outputEl) {{\n",
       "    x.observe(outputEl, {childList: true});\n",
       "}}\n",
       "\n",
       "                        })                };                            </script>        </div>\n",
       "</body>\n",
       "</html>"
      ]
     },
     "metadata": {},
     "output_type": "display_data"
    }
   ],
   "source": [
    "optuna.visualization.plot_param_importances(xgbc_study)"
   ]
  },
  {
   "cell_type": "code",
   "execution_count": 51,
   "metadata": {
    "colab": {
     "base_uri": "https://localhost:8080/"
    },
    "id": "Oa2zpDRVGX0D",
    "outputId": "c3f52249-be1c-4de7-8d11-01be828df795"
   },
   "outputs": [
    {
     "data": {
      "text/plain": [
       "0.8212290502793296"
      ]
     },
     "execution_count": 51,
     "metadata": {},
     "output_type": "execute_result"
    }
   ],
   "source": [
    "# 찾은 최적의 파라미터로 학습해보자~\n",
    "optimized_xgbc = XGBClassifier( \n",
    "                        booster=xgbc_study.best_params[\"booster\"],\n",
    "                        n_estimators = xgbc_study.best_params[\"n_estimators\"],\n",
    "                        learning_rate = xgbc_study.best_params[\"learning_rate\"],\n",
    "                        max_depth = xgbc_study.best_params[\"max_depth\"],\n",
    "                        subsample = xgbc_study.best_params[\"subsample\"],\n",
    "                        colsample_bytree = xgbc_study.best_params[\"colsample_bytree\"],\n",
    "                        reg_alpha = xgbc_study.best_params[\"reg_alpha\"],\n",
    "                        reg_lambda = xgbc_study.best_params[\"reg_lambda\"],\n",
    "                        n_jobs= -1,\n",
    "                        random_state=1234,\n",
    "                        use_label_encoder=False,\n",
    "                        # 학습 관련된 부분 상세 설정~(0,1 2진분류)\n",
    "                        objective = \"binary:logistic\",\n",
    "                        eval_metric = \"error\")\n",
    "optimized_xgbc.fit(X_train, y_train)\n",
    "accuracy_score(y_test, optimized_xgbc.predict(X_test))"
   ]
  },
  {
   "cell_type": "code",
   "execution_count": 52,
   "metadata": {
    "id": "3vO1ap7wJsuy"
   },
   "outputs": [],
   "source": [
    "### LightGBM"
   ]
  },
  {
   "cell_type": "code",
   "execution_count": 53,
   "metadata": {
    "id": "iPZCPwcdNeL_"
   },
   "outputs": [],
   "source": [
    "from lightgbm import LGBMClassifier"
   ]
  },
  {
   "cell_type": "code",
   "execution_count": 54,
   "metadata": {
    "id": "BOvtRxxGNmN3"
   },
   "outputs": [],
   "source": [
    "lgbm = LGBMClassifier( random_state =1234, n_jobs = -1)"
   ]
  },
  {
   "cell_type": "code",
   "execution_count": 55,
   "metadata": {
    "colab": {
     "base_uri": "https://localhost:8080/"
    },
    "id": "iExHnwlWN8vP",
    "outputId": "93723db3-d9df-4684-b4fa-2e15c426318d"
   },
   "outputs": [
    {
     "name": "stdout",
     "output_type": "stream",
     "text": [
      "lgbm K-Fold 0번째 검증 정확도 : 0.8322\n",
      "lgbm K-Fold 1번째 검증 정확도 : 0.8671\n",
      "lgbm K-Fold 2번째 검증 정확도 : 0.7887\n",
      "lgbm K-Fold 3번째 검증 정확도 : 0.7887\n",
      "lgbm K-Fold 4번째 검증 정확도 : 0.8521\n",
      "lgbm K-Fold 평균 정확도 : 0.8257756328178862\n"
     ]
    }
   ],
   "source": [
    "scores = cross_val_score(\n",
    "    lgbm,\n",
    "    X_train, y_train,\n",
    "    cv=kfold,\n",
    "    scoring=\"accuracy\"\n",
    ")\n",
    "for iter_count, acc in enumerate(scores):\n",
    "    print(\"lgbm K-Fold {0}번째 검증 정확도 : {1:.4f}\".format(iter_count,acc ))\n",
    "print(\"lgbm K-Fold 평균 정확도 :\", scores.mean())"
   ]
  },
  {
   "cell_type": "code",
   "execution_count": 74,
   "metadata": {
    "id": "Ga26cbO7OKG-"
   },
   "outputs": [],
   "source": [
    "def lgbm_objective(trial):\n",
    "    # 1) Test할 파라미터들 세팅 : dict\n",
    "    params ={\n",
    "        \"n_estimators\" : trial.suggest_int(\"n_estimators\", 100,1000),\n",
    "        \"learning_rate\" : trial.suggest_loguniform(\"learning_rate\", 1e-3, 8e-1),\n",
    "\n",
    "        \"max_depth\" : trial.suggest_int(\"max_depth\", 1, 100),\n",
    "\n",
    "        # 규약 -> 주의 e 숫자로 활용할 때 앞에 1 다른 숫자 필요\n",
    "        \"reg_alpha\" :trial.suggest_loguniform(\"reg_alpha\",1e-6, 1e3),\n",
    "        \"reg_lambda\" : trial.suggest_loguniform(\"reg_lambda\",1e-6, 1e3)\n",
    "\n",
    "    }\n",
    "    # 2) 1번 세팅을 적용할 모델\n",
    "    lgbm = LGBMClassifier( **params ,\n",
    "                         n_jobs= -1,\n",
    "                     random_state=1234,\n",
    "                    )\n",
    "    # 3) Cross-Val\n",
    "    scores = cross_val_score(lgbm, X_train, y_train,\n",
    "                             cv = kfold, scoring=\"accuracy\")\n",
    "    acc_mean = scores.mean()\n",
    "\n",
    "    return acc_mean"
   ]
  },
  {
   "cell_type": "code",
   "execution_count": 81,
   "metadata": {
    "colab": {
     "base_uri": "https://localhost:8080/"
    },
    "id": "AeVfs535O4gP",
    "outputId": "afeb5636-4c6c-4798-e617-2f310ddb0a5a"
   },
   "outputs": [
    {
     "name": "stderr",
     "output_type": "stream",
     "text": [
      "\u001b[32m[I 2022-03-23 06:20:14,355]\u001b[0m A new study created in memory with name: no-name-8df325ea-6886-416d-8e66-a29b93d1ebac\u001b[0m\n",
      "\u001b[32m[I 2022-03-23 06:20:16,674]\u001b[0m Trial 0 finished with value: 0.8019107652910471 and parameters: {'n_estimators': 386, 'learning_rate': 0.15975310153892744, 'max_depth': 70, 'reg_alpha': 1.631401236932468e-05, 'reg_lambda': 0.5498824236588529}. Best is trial 0 with value: 0.8019107652910471.\u001b[0m\n",
      "\u001b[32m[I 2022-03-23 06:20:16,896]\u001b[0m Trial 1 finished with value: 0.8117502216093765 and parameters: {'n_estimators': 187, 'learning_rate': 0.7393246384400759, 'max_depth': 34, 'reg_alpha': 0.48281623931722323, 'reg_lambda': 3.413906205008565}. Best is trial 1 with value: 0.8117502216093765.\u001b[0m\n",
      "\u001b[32m[I 2022-03-23 06:20:17,881]\u001b[0m Trial 2 finished with value: 0.801900915985423 and parameters: {'n_estimators': 505, 'learning_rate': 0.07691789655979933, 'max_depth': 79, 'reg_alpha': 0.002000042849897708, 'reg_lambda': 0.002255906252926322}. Best is trial 1 with value: 0.8117502216093765.\u001b[0m\n",
      "\u001b[32m[I 2022-03-23 06:20:18,519]\u001b[0m Trial 3 finished with value: 0.797675563872747 and parameters: {'n_estimators': 947, 'learning_rate': 0.4744656678136478, 'max_depth': 73, 'reg_alpha': 0.02104257042598848, 'reg_lambda': 0.0005130178066708128}. Best is trial 1 with value: 0.8117502216093765.\u001b[0m\n",
      "\u001b[32m[I 2022-03-23 06:20:19,975]\u001b[0m Trial 4 finished with value: 0.8243573328080371 and parameters: {'n_estimators': 680, 'learning_rate': 0.01078169856471118, 'max_depth': 68, 'reg_alpha': 1.3189766144560158e-05, 'reg_lambda': 0.0051294599760244655}. Best is trial 4 with value: 0.8243573328080371.\u001b[0m\n",
      "\u001b[32m[I 2022-03-23 06:20:20,684]\u001b[0m Trial 5 finished with value: 0.8201418300009848 and parameters: {'n_estimators': 549, 'learning_rate': 0.025763948021471163, 'max_depth': 72, 'reg_alpha': 1.4715304946691976, 'reg_lambda': 0.09358204467033357}. Best is trial 4 with value: 0.8243573328080371.\u001b[0m\n",
      "\u001b[32m[I 2022-03-23 06:20:21,589]\u001b[0m Trial 6 finished with value: 0.8047178173938736 and parameters: {'n_estimators': 570, 'learning_rate': 0.0033655161426768966, 'max_depth': 67, 'reg_alpha': 0.25259537617023314, 'reg_lambda': 0.00017130220932759865}. Best is trial 4 with value: 0.8243573328080371.\u001b[0m\n",
      "\u001b[32m[I 2022-03-23 06:20:21,763]\u001b[0m Trial 7 finished with value: 0.6165862306707377 and parameters: {'n_estimators': 524, 'learning_rate': 0.021352589286729718, 'max_depth': 65, 'reg_alpha': 553.360621372678, 'reg_lambda': 0.016260127681001865}. Best is trial 4 with value: 0.8243573328080371.\u001b[0m\n",
      "\u001b[32m[I 2022-03-23 06:20:22,185]\u001b[0m Trial 8 finished with value: 0.8257953314291342 and parameters: {'n_estimators': 251, 'learning_rate': 0.660506563345486, 'max_depth': 65, 'reg_alpha': 0.08202969621413032, 'reg_lambda': 35.20638917462434}. Best is trial 8 with value: 0.8257953314291342.\u001b[0m\n",
      "\u001b[32m[I 2022-03-23 06:20:22,294]\u001b[0m Trial 9 finished with value: 0.7850783019797103 and parameters: {'n_estimators': 132, 'learning_rate': 0.5263719940366016, 'max_depth': 100, 'reg_alpha': 33.97309892300064, 'reg_lambda': 132.04094631561205}. Best is trial 8 with value: 0.8257953314291342.\u001b[0m\n",
      "\u001b[32m[I 2022-03-23 06:20:22,748]\u001b[0m Trial 10 finished with value: 0.8018910666797991 and parameters: {'n_estimators': 328, 'learning_rate': 0.0019421039562780862, 'max_depth': 4, 'reg_alpha': 0.0010291378468097485, 'reg_lambda': 2.528884583999834e-06}. Best is trial 8 with value: 0.8257953314291342.\u001b[0m\n",
      "\u001b[32m[I 2022-03-23 06:20:23,390]\u001b[0m Trial 11 finished with value: 0.6755244755244755 and parameters: {'n_estimators': 795, 'learning_rate': 0.0066505264459206835, 'max_depth': 40, 'reg_alpha': 1.0811448396396135e-06, 'reg_lambda': 655.6787005627693}. Best is trial 8 with value: 0.8257953314291342.\u001b[0m\n",
      "\u001b[32m[I 2022-03-23 06:20:24,320]\u001b[0m Trial 12 finished with value: 0.8201516793066089 and parameters: {'n_estimators': 748, 'learning_rate': 0.009577063558318312, 'max_depth': 49, 'reg_alpha': 0.00015390572518233554, 'reg_lambda': 19.035269648299714}. Best is trial 8 with value: 0.8257953314291342.\u001b[0m\n",
      "\u001b[32m[I 2022-03-23 06:20:25,931]\u001b[0m Trial 13 finished with value: 0.7976854131783708 and parameters: {'n_estimators': 756, 'learning_rate': 0.07648813425730137, 'max_depth': 92, 'reg_alpha': 0.03196968439691693, 'reg_lambda': 3.878858322351736e-05}. Best is trial 8 with value: 0.8257953314291342.\u001b[0m\n",
      "\u001b[32m[I 2022-03-23 06:20:26,487]\u001b[0m Trial 14 finished with value: 0.7766669949768541 and parameters: {'n_estimators': 287, 'learning_rate': 0.0010951894643920102, 'max_depth': 24, 'reg_alpha': 1.606080695169089e-06, 'reg_lambda': 0.01271642489250944}. Best is trial 8 with value: 0.8257953314291342.\u001b[0m\n",
      "\u001b[32m[I 2022-03-23 06:20:28,479]\u001b[0m Trial 15 finished with value: 0.7991431104107161 and parameters: {'n_estimators': 980, 'learning_rate': 0.1698753489293293, 'max_depth': 52, 'reg_alpha': 0.00015586606417606073, 'reg_lambda': 0.36071351663869744}. Best is trial 8 with value: 0.8257953314291342.\u001b[0m\n",
      "\u001b[32m[I 2022-03-23 06:20:28,939]\u001b[0m Trial 16 finished with value: 0.7850684526740864 and parameters: {'n_estimators': 636, 'learning_rate': 0.009580763576259163, 'max_depth': 85, 'reg_alpha': 17.23424214092824, 'reg_lambda': 9.994974944779424}. Best is trial 8 with value: 0.8257953314291342.\u001b[0m\n",
      "\u001b[32m[I 2022-03-23 06:20:29,756]\u001b[0m Trial 17 finished with value: 0.8005121638924455 and parameters: {'n_estimators': 408, 'learning_rate': 0.04359172072825133, 'max_depth': 55, 'reg_alpha': 0.01260116567423461, 'reg_lambda': 8.749482411854376e-06}. Best is trial 8 with value: 0.8257953314291342.\u001b[0m\n",
      "\u001b[32m[I 2022-03-23 06:20:31,230]\u001b[0m Trial 18 finished with value: 0.7963360583078893 and parameters: {'n_estimators': 668, 'learning_rate': 0.22378175522095733, 'max_depth': 58, 'reg_alpha': 4.547874267560714e-05, 'reg_lambda': 0.005251418185818721}. Best is trial 8 with value: 0.8257953314291342.\u001b[0m\n",
      "\u001b[32m[I 2022-03-23 06:20:31,686]\u001b[0m Trial 19 finished with value: 0.8271840835221116 and parameters: {'n_estimators': 235, 'learning_rate': 0.017415298763589115, 'max_depth': 16, 'reg_alpha': 0.0017933572063644665, 'reg_lambda': 0.11842032673943151}. Best is trial 19 with value: 0.8271840835221116.\u001b[0m\n",
      "\u001b[32m[I 2022-03-23 06:20:31,877]\u001b[0m Trial 20 finished with value: 0.8272037821333595 and parameters: {'n_estimators': 229, 'learning_rate': 0.053634816470068854, 'max_depth': 2, 'reg_alpha': 0.0015896811758029674, 'reg_lambda': 1.310035778380907}. Best is trial 20 with value: 0.8272037821333595.\u001b[0m\n",
      "\u001b[32m[I 2022-03-23 06:20:32,067]\u001b[0m Trial 21 finished with value: 0.8201615286122328 and parameters: {'n_estimators': 232, 'learning_rate': 0.049515485870543594, 'max_depth': 2, 'reg_alpha': 0.001651825732308066, 'reg_lambda': 1.1316244815249734}. Best is trial 20 with value: 0.8272037821333595.\u001b[0m\n",
      "\u001b[32m[I 2022-03-23 06:20:32,245]\u001b[0m Trial 22 finished with value: 0.7864572047670639 and parameters: {'n_estimators': 108, 'learning_rate': 0.019856309729591747, 'max_depth': 16, 'reg_alpha': 0.08646773730808575, 'reg_lambda': 57.689033554417584}. Best is trial 20 with value: 0.8272037821333595.\u001b[0m\n",
      "\u001b[32m[I 2022-03-23 06:20:32,719]\u001b[0m Trial 23 finished with value: 0.8019403132079189 and parameters: {'n_estimators': 237, 'learning_rate': 0.30129079359761285, 'max_depth': 13, 'reg_alpha': 0.00669855320411654, 'reg_lambda': 0.10977434376978457}. Best is trial 20 with value: 0.8272037821333595.\u001b[0m\n",
      "\u001b[32m[I 2022-03-23 06:20:33,056]\u001b[0m Trial 24 finished with value: 0.6165862306707377 and parameters: {'n_estimators': 391, 'learning_rate': 0.004767939380488329, 'max_depth': 28, 'reg_alpha': 0.00041366029935282876, 'reg_lambda': 775.353662612356}. Best is trial 20 with value: 0.8272037821333595.\u001b[0m\n",
      "\u001b[32m[I 2022-03-23 06:20:33,269]\u001b[0m Trial 25 finished with value: 0.813148823007978 and parameters: {'n_estimators': 306, 'learning_rate': 0.09791875358046796, 'max_depth': 12, 'reg_alpha': 7.2211480175290355, 'reg_lambda': 5.3842113219483965}. Best is trial 20 with value: 0.8272037821333595.\u001b[0m\n",
      "\u001b[32m[I 2022-03-23 06:20:33,667]\u001b[0m Trial 26 finished with value: 0.8243770314192849 and parameters: {'n_estimators': 174, 'learning_rate': 0.04433416101405406, 'max_depth': 41, 'reg_alpha': 0.07551684879048683, 'reg_lambda': 0.0949876247081826}. Best is trial 20 with value: 0.8272037821333595.\u001b[0m\n",
      "\u001b[32m[I 2022-03-23 06:20:34,178]\u001b[0m Trial 27 finished with value: 0.813138973702354 and parameters: {'n_estimators': 465, 'learning_rate': 0.012263249529580895, 'max_depth': 8, 'reg_alpha': 0.005181750137563239, 'reg_lambda': 34.79629326232086}. Best is trial 20 with value: 0.8272037821333595.\u001b[0m\n",
      "\u001b[32m[I 2022-03-23 06:20:34,645]\u001b[0m Trial 28 finished with value: 0.8342066384319906 and parameters: {'n_estimators': 335, 'learning_rate': 0.12018958726633222, 'max_depth': 23, 'reg_alpha': 0.9163035222425435, 'reg_lambda': 2.414394268981035}. Best is trial 28 with value: 0.8342066384319906.\u001b[0m\n",
      "\u001b[32m[I 2022-03-23 06:20:34,892]\u001b[0m Trial 29 finished with value: 0.8187530779080076 and parameters: {'n_estimators': 328, 'learning_rate': 0.11269787382712143, 'max_depth': 18, 'reg_alpha': 2.1899837574764955, 'reg_lambda': 0.9317025530980378}. Best is trial 28 with value: 0.8342066384319906.\u001b[0m\n"
     ]
    }
   ],
   "source": [
    "lgbm_study = optuna.create_study(direction=\"maximize\")\n",
    "lgbm_study.optimize(lgbm_objective,n_trials= 30 )"
   ]
  },
  {
   "cell_type": "code",
   "execution_count": 82,
   "metadata": {
    "colab": {
     "base_uri": "https://localhost:8080/"
    },
    "id": "_Wd0xZzdO9KB",
    "outputId": "bd455591-45b6-4dfe-9cbc-2fa1e789e010"
   },
   "outputs": [
    {
     "name": "stdout",
     "output_type": "stream",
     "text": [
      "{'n_estimators': 335, 'learning_rate': 0.12018958726633222, 'max_depth': 23, 'reg_alpha': 0.9163035222425435, 'reg_lambda': 2.414394268981035}\n",
      "------------\n",
      "0.8342066384319906\n"
     ]
    }
   ],
   "source": [
    "## trial 시도한 것들에 대해서 가장 좋았던 파라미터, 성능\n",
    "print(lgbm_study.best_params) # lgbm_study_trail.params\n",
    "print(\"------------\")\n",
    "print(lgbm_study.best_value)"
   ]
  },
  {
   "cell_type": "code",
   "execution_count": 83,
   "metadata": {
    "colab": {
     "base_uri": "https://localhost:8080/",
     "height": 542
    },
    "id": "i6zE8c1RalCn",
    "outputId": "0f199cf1-9752-42e7-e84a-b1b0688a8e4f"
   },
   "outputs": [
    {
     "data": {
      "text/html": [
       "<html>\n",
       "<head><meta charset=\"utf-8\" /></head>\n",
       "<body>\n",
       "    <div>            <script src=\"https://cdnjs.cloudflare.com/ajax/libs/mathjax/2.7.5/MathJax.js?config=TeX-AMS-MML_SVG\"></script><script type=\"text/javascript\">if (window.MathJax) {MathJax.Hub.Config({SVG: {font: \"STIX-Web\"}});}</script>                <script type=\"text/javascript\">window.PlotlyConfig = {MathJaxConfig: 'local'};</script>\n",
       "        <script src=\"https://cdn.plot.ly/plotly-2.8.3.min.js\"></script>                <div id=\"d1dec7ab-bf95-445a-bc8b-2ae5232912bf\" class=\"plotly-graph-div\" style=\"height:525px; width:100%;\"></div>            <script type=\"text/javascript\">                                    window.PLOTLYENV=window.PLOTLYENV || {};                                    if (document.getElementById(\"d1dec7ab-bf95-445a-bc8b-2ae5232912bf\")) {                    Plotly.newPlot(                        \"d1dec7ab-bf95-445a-bc8b-2ae5232912bf\",                        [{\"mode\":\"markers\",\"name\":\"Objective Value\",\"x\":[0,1,2,3,4,5,6,7,8,9,10,11,12,13,14,15,16,17,18,19,20,21,22,23,24,25,26,27,28,29],\"y\":[0.8019107652910471,0.8117502216093765,0.801900915985423,0.797675563872747,0.8243573328080371,0.8201418300009848,0.8047178173938736,0.6165862306707377,0.8257953314291342,0.7850783019797103,0.8018910666797991,0.6755244755244755,0.8201516793066089,0.7976854131783708,0.7766669949768541,0.7991431104107161,0.7850684526740864,0.8005121638924455,0.7963360583078893,0.8271840835221116,0.8272037821333595,0.8201615286122328,0.7864572047670639,0.8019403132079189,0.6165862306707377,0.813148823007978,0.8243770314192849,0.813138973702354,0.8342066384319906,0.8187530779080076],\"type\":\"scatter\"},{\"name\":\"Best Value\",\"x\":[0,1,2,3,4,5,6,7,8,9,10,11,12,13,14,15,16,17,18,19,20,21,22,23,24,25,26,27,28,29],\"y\":[0.8019107652910471,0.8117502216093765,0.8117502216093765,0.8117502216093765,0.8243573328080371,0.8243573328080371,0.8243573328080371,0.8243573328080371,0.8257953314291342,0.8257953314291342,0.8257953314291342,0.8257953314291342,0.8257953314291342,0.8257953314291342,0.8257953314291342,0.8257953314291342,0.8257953314291342,0.8257953314291342,0.8257953314291342,0.8271840835221116,0.8272037821333595,0.8272037821333595,0.8272037821333595,0.8272037821333595,0.8272037821333595,0.8272037821333595,0.8272037821333595,0.8272037821333595,0.8342066384319906,0.8342066384319906],\"type\":\"scatter\"}],                        {\"title\":{\"text\":\"Optimization History Plot\"},\"xaxis\":{\"title\":{\"text\":\"#Trials\"}},\"yaxis\":{\"title\":{\"text\":\"Objective Value\"}},\"template\":{\"data\":{\"bar\":[{\"error_x\":{\"color\":\"#2a3f5f\"},\"error_y\":{\"color\":\"#2a3f5f\"},\"marker\":{\"line\":{\"color\":\"#E5ECF6\",\"width\":0.5},\"pattern\":{\"fillmode\":\"overlay\",\"size\":10,\"solidity\":0.2}},\"type\":\"bar\"}],\"barpolar\":[{\"marker\":{\"line\":{\"color\":\"#E5ECF6\",\"width\":0.5},\"pattern\":{\"fillmode\":\"overlay\",\"size\":10,\"solidity\":0.2}},\"type\":\"barpolar\"}],\"carpet\":[{\"aaxis\":{\"endlinecolor\":\"#2a3f5f\",\"gridcolor\":\"white\",\"linecolor\":\"white\",\"minorgridcolor\":\"white\",\"startlinecolor\":\"#2a3f5f\"},\"baxis\":{\"endlinecolor\":\"#2a3f5f\",\"gridcolor\":\"white\",\"linecolor\":\"white\",\"minorgridcolor\":\"white\",\"startlinecolor\":\"#2a3f5f\"},\"type\":\"carpet\"}],\"choropleth\":[{\"colorbar\":{\"outlinewidth\":0,\"ticks\":\"\"},\"type\":\"choropleth\"}],\"contour\":[{\"colorbar\":{\"outlinewidth\":0,\"ticks\":\"\"},\"colorscale\":[[0.0,\"#0d0887\"],[0.1111111111111111,\"#46039f\"],[0.2222222222222222,\"#7201a8\"],[0.3333333333333333,\"#9c179e\"],[0.4444444444444444,\"#bd3786\"],[0.5555555555555556,\"#d8576b\"],[0.6666666666666666,\"#ed7953\"],[0.7777777777777778,\"#fb9f3a\"],[0.8888888888888888,\"#fdca26\"],[1.0,\"#f0f921\"]],\"type\":\"contour\"}],\"contourcarpet\":[{\"colorbar\":{\"outlinewidth\":0,\"ticks\":\"\"},\"type\":\"contourcarpet\"}],\"heatmap\":[{\"colorbar\":{\"outlinewidth\":0,\"ticks\":\"\"},\"colorscale\":[[0.0,\"#0d0887\"],[0.1111111111111111,\"#46039f\"],[0.2222222222222222,\"#7201a8\"],[0.3333333333333333,\"#9c179e\"],[0.4444444444444444,\"#bd3786\"],[0.5555555555555556,\"#d8576b\"],[0.6666666666666666,\"#ed7953\"],[0.7777777777777778,\"#fb9f3a\"],[0.8888888888888888,\"#fdca26\"],[1.0,\"#f0f921\"]],\"type\":\"heatmap\"}],\"heatmapgl\":[{\"colorbar\":{\"outlinewidth\":0,\"ticks\":\"\"},\"colorscale\":[[0.0,\"#0d0887\"],[0.1111111111111111,\"#46039f\"],[0.2222222222222222,\"#7201a8\"],[0.3333333333333333,\"#9c179e\"],[0.4444444444444444,\"#bd3786\"],[0.5555555555555556,\"#d8576b\"],[0.6666666666666666,\"#ed7953\"],[0.7777777777777778,\"#fb9f3a\"],[0.8888888888888888,\"#fdca26\"],[1.0,\"#f0f921\"]],\"type\":\"heatmapgl\"}],\"histogram\":[{\"marker\":{\"pattern\":{\"fillmode\":\"overlay\",\"size\":10,\"solidity\":0.2}},\"type\":\"histogram\"}],\"histogram2d\":[{\"colorbar\":{\"outlinewidth\":0,\"ticks\":\"\"},\"colorscale\":[[0.0,\"#0d0887\"],[0.1111111111111111,\"#46039f\"],[0.2222222222222222,\"#7201a8\"],[0.3333333333333333,\"#9c179e\"],[0.4444444444444444,\"#bd3786\"],[0.5555555555555556,\"#d8576b\"],[0.6666666666666666,\"#ed7953\"],[0.7777777777777778,\"#fb9f3a\"],[0.8888888888888888,\"#fdca26\"],[1.0,\"#f0f921\"]],\"type\":\"histogram2d\"}],\"histogram2dcontour\":[{\"colorbar\":{\"outlinewidth\":0,\"ticks\":\"\"},\"colorscale\":[[0.0,\"#0d0887\"],[0.1111111111111111,\"#46039f\"],[0.2222222222222222,\"#7201a8\"],[0.3333333333333333,\"#9c179e\"],[0.4444444444444444,\"#bd3786\"],[0.5555555555555556,\"#d8576b\"],[0.6666666666666666,\"#ed7953\"],[0.7777777777777778,\"#fb9f3a\"],[0.8888888888888888,\"#fdca26\"],[1.0,\"#f0f921\"]],\"type\":\"histogram2dcontour\"}],\"mesh3d\":[{\"colorbar\":{\"outlinewidth\":0,\"ticks\":\"\"},\"type\":\"mesh3d\"}],\"parcoords\":[{\"line\":{\"colorbar\":{\"outlinewidth\":0,\"ticks\":\"\"}},\"type\":\"parcoords\"}],\"pie\":[{\"automargin\":true,\"type\":\"pie\"}],\"scatter\":[{\"marker\":{\"colorbar\":{\"outlinewidth\":0,\"ticks\":\"\"}},\"type\":\"scatter\"}],\"scatter3d\":[{\"line\":{\"colorbar\":{\"outlinewidth\":0,\"ticks\":\"\"}},\"marker\":{\"colorbar\":{\"outlinewidth\":0,\"ticks\":\"\"}},\"type\":\"scatter3d\"}],\"scattercarpet\":[{\"marker\":{\"colorbar\":{\"outlinewidth\":0,\"ticks\":\"\"}},\"type\":\"scattercarpet\"}],\"scattergeo\":[{\"marker\":{\"colorbar\":{\"outlinewidth\":0,\"ticks\":\"\"}},\"type\":\"scattergeo\"}],\"scattergl\":[{\"marker\":{\"colorbar\":{\"outlinewidth\":0,\"ticks\":\"\"}},\"type\":\"scattergl\"}],\"scattermapbox\":[{\"marker\":{\"colorbar\":{\"outlinewidth\":0,\"ticks\":\"\"}},\"type\":\"scattermapbox\"}],\"scatterpolar\":[{\"marker\":{\"colorbar\":{\"outlinewidth\":0,\"ticks\":\"\"}},\"type\":\"scatterpolar\"}],\"scatterpolargl\":[{\"marker\":{\"colorbar\":{\"outlinewidth\":0,\"ticks\":\"\"}},\"type\":\"scatterpolargl\"}],\"scatterternary\":[{\"marker\":{\"colorbar\":{\"outlinewidth\":0,\"ticks\":\"\"}},\"type\":\"scatterternary\"}],\"surface\":[{\"colorbar\":{\"outlinewidth\":0,\"ticks\":\"\"},\"colorscale\":[[0.0,\"#0d0887\"],[0.1111111111111111,\"#46039f\"],[0.2222222222222222,\"#7201a8\"],[0.3333333333333333,\"#9c179e\"],[0.4444444444444444,\"#bd3786\"],[0.5555555555555556,\"#d8576b\"],[0.6666666666666666,\"#ed7953\"],[0.7777777777777778,\"#fb9f3a\"],[0.8888888888888888,\"#fdca26\"],[1.0,\"#f0f921\"]],\"type\":\"surface\"}],\"table\":[{\"cells\":{\"fill\":{\"color\":\"#EBF0F8\"},\"line\":{\"color\":\"white\"}},\"header\":{\"fill\":{\"color\":\"#C8D4E3\"},\"line\":{\"color\":\"white\"}},\"type\":\"table\"}]},\"layout\":{\"annotationdefaults\":{\"arrowcolor\":\"#2a3f5f\",\"arrowhead\":0,\"arrowwidth\":1},\"autotypenumbers\":\"strict\",\"coloraxis\":{\"colorbar\":{\"outlinewidth\":0,\"ticks\":\"\"}},\"colorscale\":{\"diverging\":[[0,\"#8e0152\"],[0.1,\"#c51b7d\"],[0.2,\"#de77ae\"],[0.3,\"#f1b6da\"],[0.4,\"#fde0ef\"],[0.5,\"#f7f7f7\"],[0.6,\"#e6f5d0\"],[0.7,\"#b8e186\"],[0.8,\"#7fbc41\"],[0.9,\"#4d9221\"],[1,\"#276419\"]],\"sequential\":[[0.0,\"#0d0887\"],[0.1111111111111111,\"#46039f\"],[0.2222222222222222,\"#7201a8\"],[0.3333333333333333,\"#9c179e\"],[0.4444444444444444,\"#bd3786\"],[0.5555555555555556,\"#d8576b\"],[0.6666666666666666,\"#ed7953\"],[0.7777777777777778,\"#fb9f3a\"],[0.8888888888888888,\"#fdca26\"],[1.0,\"#f0f921\"]],\"sequentialminus\":[[0.0,\"#0d0887\"],[0.1111111111111111,\"#46039f\"],[0.2222222222222222,\"#7201a8\"],[0.3333333333333333,\"#9c179e\"],[0.4444444444444444,\"#bd3786\"],[0.5555555555555556,\"#d8576b\"],[0.6666666666666666,\"#ed7953\"],[0.7777777777777778,\"#fb9f3a\"],[0.8888888888888888,\"#fdca26\"],[1.0,\"#f0f921\"]]},\"colorway\":[\"#636efa\",\"#EF553B\",\"#00cc96\",\"#ab63fa\",\"#FFA15A\",\"#19d3f3\",\"#FF6692\",\"#B6E880\",\"#FF97FF\",\"#FECB52\"],\"font\":{\"color\":\"#2a3f5f\"},\"geo\":{\"bgcolor\":\"white\",\"lakecolor\":\"white\",\"landcolor\":\"#E5ECF6\",\"showlakes\":true,\"showland\":true,\"subunitcolor\":\"white\"},\"hoverlabel\":{\"align\":\"left\"},\"hovermode\":\"closest\",\"mapbox\":{\"style\":\"light\"},\"paper_bgcolor\":\"white\",\"plot_bgcolor\":\"#E5ECF6\",\"polar\":{\"angularaxis\":{\"gridcolor\":\"white\",\"linecolor\":\"white\",\"ticks\":\"\"},\"bgcolor\":\"#E5ECF6\",\"radialaxis\":{\"gridcolor\":\"white\",\"linecolor\":\"white\",\"ticks\":\"\"}},\"scene\":{\"xaxis\":{\"backgroundcolor\":\"#E5ECF6\",\"gridcolor\":\"white\",\"gridwidth\":2,\"linecolor\":\"white\",\"showbackground\":true,\"ticks\":\"\",\"zerolinecolor\":\"white\"},\"yaxis\":{\"backgroundcolor\":\"#E5ECF6\",\"gridcolor\":\"white\",\"gridwidth\":2,\"linecolor\":\"white\",\"showbackground\":true,\"ticks\":\"\",\"zerolinecolor\":\"white\"},\"zaxis\":{\"backgroundcolor\":\"#E5ECF6\",\"gridcolor\":\"white\",\"gridwidth\":2,\"linecolor\":\"white\",\"showbackground\":true,\"ticks\":\"\",\"zerolinecolor\":\"white\"}},\"shapedefaults\":{\"line\":{\"color\":\"#2a3f5f\"}},\"ternary\":{\"aaxis\":{\"gridcolor\":\"white\",\"linecolor\":\"white\",\"ticks\":\"\"},\"baxis\":{\"gridcolor\":\"white\",\"linecolor\":\"white\",\"ticks\":\"\"},\"bgcolor\":\"#E5ECF6\",\"caxis\":{\"gridcolor\":\"white\",\"linecolor\":\"white\",\"ticks\":\"\"}},\"title\":{\"x\":0.05},\"xaxis\":{\"automargin\":true,\"gridcolor\":\"white\",\"linecolor\":\"white\",\"ticks\":\"\",\"title\":{\"standoff\":15},\"zerolinecolor\":\"white\",\"zerolinewidth\":2},\"yaxis\":{\"automargin\":true,\"gridcolor\":\"white\",\"linecolor\":\"white\",\"ticks\":\"\",\"title\":{\"standoff\":15},\"zerolinecolor\":\"white\",\"zerolinewidth\":2}}}},                        {\"responsive\": true}                    ).then(function(){\n",
       "                            \n",
       "var gd = document.getElementById('d1dec7ab-bf95-445a-bc8b-2ae5232912bf');\n",
       "var x = new MutationObserver(function (mutations, observer) {{\n",
       "        var display = window.getComputedStyle(gd).display;\n",
       "        if (!display || display === 'none') {{\n",
       "            console.log([gd, 'removed!']);\n",
       "            Plotly.purge(gd);\n",
       "            observer.disconnect();\n",
       "        }}\n",
       "}});\n",
       "\n",
       "// Listen for the removal of the full notebook cells\n",
       "var notebookContainer = gd.closest('#notebook-container');\n",
       "if (notebookContainer) {{\n",
       "    x.observe(notebookContainer, {childList: true});\n",
       "}}\n",
       "\n",
       "// Listen for the clearing of the current output cell\n",
       "var outputEl = gd.closest('.output');\n",
       "if (outputEl) {{\n",
       "    x.observe(outputEl, {childList: true});\n",
       "}}\n",
       "\n",
       "                        })                };                            </script>        </div>\n",
       "</body>\n",
       "</html>"
      ]
     },
     "metadata": {},
     "output_type": "display_data"
    }
   ],
   "source": [
    "# 시도한 것들에 대한 결과 리뷰\n",
    "optuna.visualization.plot_optimization_history(lgbm_study)"
   ]
  },
  {
   "cell_type": "code",
   "execution_count": 84,
   "metadata": {
    "colab": {
     "base_uri": "https://localhost:8080/",
     "height": 542
    },
    "id": "BwWLKF5_autv",
    "outputId": "48eb30b4-c1f7-4e5d-9bbd-a624ca97830e"
   },
   "outputs": [
    {
     "data": {
      "text/html": [
       "<html>\n",
       "<head><meta charset=\"utf-8\" /></head>\n",
       "<body>\n",
       "    <div>            <script src=\"https://cdnjs.cloudflare.com/ajax/libs/mathjax/2.7.5/MathJax.js?config=TeX-AMS-MML_SVG\"></script><script type=\"text/javascript\">if (window.MathJax) {MathJax.Hub.Config({SVG: {font: \"STIX-Web\"}});}</script>                <script type=\"text/javascript\">window.PlotlyConfig = {MathJaxConfig: 'local'};</script>\n",
       "        <script src=\"https://cdn.plot.ly/plotly-2.8.3.min.js\"></script>                <div id=\"5a6a3768-b4ef-4729-8190-c8870a03d681\" class=\"plotly-graph-div\" style=\"height:525px; width:100%;\"></div>            <script type=\"text/javascript\">                                    window.PLOTLYENV=window.PLOTLYENV || {};                                    if (document.getElementById(\"5a6a3768-b4ef-4729-8190-c8870a03d681\")) {                    Plotly.newPlot(                        \"5a6a3768-b4ef-4729-8190-c8870a03d681\",                        [{\"dimensions\":[{\"label\":\"Objective Value\",\"range\":[0.6165862306707377,0.8342066384319906],\"values\":[0.8019107652910471,0.8117502216093765,0.801900915985423,0.797675563872747,0.8243573328080371,0.8201418300009848,0.8047178173938736,0.6165862306707377,0.8257953314291342,0.7850783019797103,0.8018910666797991,0.6755244755244755,0.8201516793066089,0.7976854131783708,0.7766669949768541,0.7991431104107161,0.7850684526740864,0.8005121638924455,0.7963360583078893,0.8271840835221116,0.8272037821333595,0.8201615286122328,0.7864572047670639,0.8019403132079189,0.6165862306707377,0.813148823007978,0.8243770314192849,0.813138973702354,0.8342066384319906,0.8187530779080076]},{\"label\":\"learning_rate\",\"range\":[-2.96051074272142,-0.1311648204354218],\"ticktext\":[\"0.0011\",\"0.01\",\"0.1\",\"0.739\"],\"tickvals\":[-2.96051074272142,-2,-1,-0.1311648204354218],\"values\":[-0.7965507014439537,-0.1311648204354218,-1.1139726007331257,-0.32379520751176327,-1.9673128143653482,-1.5889875857003768,-2.4729483220115034,-1.6705494534373218,-0.18012286251491164,-0.2787072256990484,-2.711727527038937,-2.177143975221854,-2.018767630368939,-1.1164059325100648,-2.96051074272142,-0.7698696382039576,-2.0185998767522735,-1.36059598741648,-0.6501753241072944,-1.7590690707167882,-1.270553201126643,-1.3052589550799119,-1.7021014614293772,-0.521014138658011,-2.3216692748464216,-1.009134123349761,-1.353261505771801,-1.9113944347301994,-0.9201331561990024,-0.9480842773332993]},{\"label\":\"max_depth\",\"range\":[2,100],\"values\":[70,34,79,73,68,72,67,65,65,100,4,40,49,92,24,52,85,55,58,16,2,2,16,13,28,12,41,8,23,18]},{\"label\":\"n_estimators\",\"range\":[108,980],\"values\":[386,187,505,947,680,549,570,524,251,132,328,795,748,756,287,980,636,408,668,235,229,232,108,237,391,306,174,465,335,328]},{\"label\":\"reg_alpha\",\"range\":[-5.966116120253411,2.74300825034334],\"ticktext\":[\"1.08e-06\",\"1e-05\",\"0.0001\",\"0.001\",\"0.01\",\"0.1\",\"1\",\"10\",\"100\",\"553\"],\"tickvals\":[-5.966116120253411,-5,-4,-3,-2,-1,0,1,2,2.74300825034334],\"values\":[-4.787439212745577,-0.31621813102031343,-2.698960699698632,-1.6769012106381278,-4.879762904455714,0.1677692664555646,-0.5975746035911882,2.74300825034334,-1.0860288967968428,1.5311351637017971,-2.987526450213961,-5.966116120253411,-3.8127452244255116,-1.495261651039979,-5.794232638019833,-3.807248430965005,1.2363921904855102,-1.8995892784957815,-4.342191550505716,-2.7463331977205527,-2.7986899684302218,-2.782035772687033,-1.0631459055146033,-2.174018988839424,-3.3833561580973552,0.8586062471602165,-1.1219561408161365,-2.2855235323949126,-0.0379606440171542,0.3404408938061051]},{\"label\":\"reg_lambda\",\"range\":[-5.597070991009805,2.8894998427466567],\"ticktext\":[\"2.53e-06\",\"1e-05\",\"0.0001\",\"0.001\",\"0.01\",\"0.1\",\"1\",\"10\",\"100\",\"775\"],\"tickvals\":[-5.597070991009805,-5,-4,-3,-2,-1,0,1,2,2.8894998427466567],\"values\":[-0.2597301618056019,0.5332515849665341,-2.6466789519771434,-3.289867560415157,-2.289928354532967,-1.0288074701574923,-3.7662370357934076,-1.7888760484752322,1.5466214853953864,2.120708628186112,-5.597070991009805,2.8166910760284183,1.2795590332879834,-4.411296082979098,-1.8956349694809669,-0.44283758351580693,0.9997817097740279,-5.05801763752902,-2.2797233961936154,-0.9265737449687934,0.11728315683226305,0.05370233439841686,1.7610932634251346,-0.9594991504250164,2.8894998427466567,0.7311220969356527,-1.0223329723010253,1.5415329824103416,0.38280819155309087,-0.030722714433929047]}],\"labelangle\":30,\"labelside\":\"bottom\",\"line\":{\"color\":[0.8019107652910471,0.8117502216093765,0.801900915985423,0.797675563872747,0.8243573328080371,0.8201418300009848,0.8047178173938736,0.6165862306707377,0.8257953314291342,0.7850783019797103,0.8018910666797991,0.6755244755244755,0.8201516793066089,0.7976854131783708,0.7766669949768541,0.7991431104107161,0.7850684526740864,0.8005121638924455,0.7963360583078893,0.8271840835221116,0.8272037821333595,0.8201615286122328,0.7864572047670639,0.8019403132079189,0.6165862306707377,0.813148823007978,0.8243770314192849,0.813138973702354,0.8342066384319906,0.8187530779080076],\"colorbar\":{\"title\":{\"text\":\"Objective Value\"}},\"colorscale\":[[0.0,\"rgb(247,251,255)\"],[0.125,\"rgb(222,235,247)\"],[0.25,\"rgb(198,219,239)\"],[0.375,\"rgb(158,202,225)\"],[0.5,\"rgb(107,174,214)\"],[0.625,\"rgb(66,146,198)\"],[0.75,\"rgb(33,113,181)\"],[0.875,\"rgb(8,81,156)\"],[1.0,\"rgb(8,48,107)\"]],\"reversescale\":false,\"showscale\":true},\"type\":\"parcoords\"}],                        {\"title\":{\"text\":\"Parallel Coordinate Plot\"},\"template\":{\"data\":{\"bar\":[{\"error_x\":{\"color\":\"#2a3f5f\"},\"error_y\":{\"color\":\"#2a3f5f\"},\"marker\":{\"line\":{\"color\":\"#E5ECF6\",\"width\":0.5},\"pattern\":{\"fillmode\":\"overlay\",\"size\":10,\"solidity\":0.2}},\"type\":\"bar\"}],\"barpolar\":[{\"marker\":{\"line\":{\"color\":\"#E5ECF6\",\"width\":0.5},\"pattern\":{\"fillmode\":\"overlay\",\"size\":10,\"solidity\":0.2}},\"type\":\"barpolar\"}],\"carpet\":[{\"aaxis\":{\"endlinecolor\":\"#2a3f5f\",\"gridcolor\":\"white\",\"linecolor\":\"white\",\"minorgridcolor\":\"white\",\"startlinecolor\":\"#2a3f5f\"},\"baxis\":{\"endlinecolor\":\"#2a3f5f\",\"gridcolor\":\"white\",\"linecolor\":\"white\",\"minorgridcolor\":\"white\",\"startlinecolor\":\"#2a3f5f\"},\"type\":\"carpet\"}],\"choropleth\":[{\"colorbar\":{\"outlinewidth\":0,\"ticks\":\"\"},\"type\":\"choropleth\"}],\"contour\":[{\"colorbar\":{\"outlinewidth\":0,\"ticks\":\"\"},\"colorscale\":[[0.0,\"#0d0887\"],[0.1111111111111111,\"#46039f\"],[0.2222222222222222,\"#7201a8\"],[0.3333333333333333,\"#9c179e\"],[0.4444444444444444,\"#bd3786\"],[0.5555555555555556,\"#d8576b\"],[0.6666666666666666,\"#ed7953\"],[0.7777777777777778,\"#fb9f3a\"],[0.8888888888888888,\"#fdca26\"],[1.0,\"#f0f921\"]],\"type\":\"contour\"}],\"contourcarpet\":[{\"colorbar\":{\"outlinewidth\":0,\"ticks\":\"\"},\"type\":\"contourcarpet\"}],\"heatmap\":[{\"colorbar\":{\"outlinewidth\":0,\"ticks\":\"\"},\"colorscale\":[[0.0,\"#0d0887\"],[0.1111111111111111,\"#46039f\"],[0.2222222222222222,\"#7201a8\"],[0.3333333333333333,\"#9c179e\"],[0.4444444444444444,\"#bd3786\"],[0.5555555555555556,\"#d8576b\"],[0.6666666666666666,\"#ed7953\"],[0.7777777777777778,\"#fb9f3a\"],[0.8888888888888888,\"#fdca26\"],[1.0,\"#f0f921\"]],\"type\":\"heatmap\"}],\"heatmapgl\":[{\"colorbar\":{\"outlinewidth\":0,\"ticks\":\"\"},\"colorscale\":[[0.0,\"#0d0887\"],[0.1111111111111111,\"#46039f\"],[0.2222222222222222,\"#7201a8\"],[0.3333333333333333,\"#9c179e\"],[0.4444444444444444,\"#bd3786\"],[0.5555555555555556,\"#d8576b\"],[0.6666666666666666,\"#ed7953\"],[0.7777777777777778,\"#fb9f3a\"],[0.8888888888888888,\"#fdca26\"],[1.0,\"#f0f921\"]],\"type\":\"heatmapgl\"}],\"histogram\":[{\"marker\":{\"pattern\":{\"fillmode\":\"overlay\",\"size\":10,\"solidity\":0.2}},\"type\":\"histogram\"}],\"histogram2d\":[{\"colorbar\":{\"outlinewidth\":0,\"ticks\":\"\"},\"colorscale\":[[0.0,\"#0d0887\"],[0.1111111111111111,\"#46039f\"],[0.2222222222222222,\"#7201a8\"],[0.3333333333333333,\"#9c179e\"],[0.4444444444444444,\"#bd3786\"],[0.5555555555555556,\"#d8576b\"],[0.6666666666666666,\"#ed7953\"],[0.7777777777777778,\"#fb9f3a\"],[0.8888888888888888,\"#fdca26\"],[1.0,\"#f0f921\"]],\"type\":\"histogram2d\"}],\"histogram2dcontour\":[{\"colorbar\":{\"outlinewidth\":0,\"ticks\":\"\"},\"colorscale\":[[0.0,\"#0d0887\"],[0.1111111111111111,\"#46039f\"],[0.2222222222222222,\"#7201a8\"],[0.3333333333333333,\"#9c179e\"],[0.4444444444444444,\"#bd3786\"],[0.5555555555555556,\"#d8576b\"],[0.6666666666666666,\"#ed7953\"],[0.7777777777777778,\"#fb9f3a\"],[0.8888888888888888,\"#fdca26\"],[1.0,\"#f0f921\"]],\"type\":\"histogram2dcontour\"}],\"mesh3d\":[{\"colorbar\":{\"outlinewidth\":0,\"ticks\":\"\"},\"type\":\"mesh3d\"}],\"parcoords\":[{\"line\":{\"colorbar\":{\"outlinewidth\":0,\"ticks\":\"\"}},\"type\":\"parcoords\"}],\"pie\":[{\"automargin\":true,\"type\":\"pie\"}],\"scatter\":[{\"marker\":{\"colorbar\":{\"outlinewidth\":0,\"ticks\":\"\"}},\"type\":\"scatter\"}],\"scatter3d\":[{\"line\":{\"colorbar\":{\"outlinewidth\":0,\"ticks\":\"\"}},\"marker\":{\"colorbar\":{\"outlinewidth\":0,\"ticks\":\"\"}},\"type\":\"scatter3d\"}],\"scattercarpet\":[{\"marker\":{\"colorbar\":{\"outlinewidth\":0,\"ticks\":\"\"}},\"type\":\"scattercarpet\"}],\"scattergeo\":[{\"marker\":{\"colorbar\":{\"outlinewidth\":0,\"ticks\":\"\"}},\"type\":\"scattergeo\"}],\"scattergl\":[{\"marker\":{\"colorbar\":{\"outlinewidth\":0,\"ticks\":\"\"}},\"type\":\"scattergl\"}],\"scattermapbox\":[{\"marker\":{\"colorbar\":{\"outlinewidth\":0,\"ticks\":\"\"}},\"type\":\"scattermapbox\"}],\"scatterpolar\":[{\"marker\":{\"colorbar\":{\"outlinewidth\":0,\"ticks\":\"\"}},\"type\":\"scatterpolar\"}],\"scatterpolargl\":[{\"marker\":{\"colorbar\":{\"outlinewidth\":0,\"ticks\":\"\"}},\"type\":\"scatterpolargl\"}],\"scatterternary\":[{\"marker\":{\"colorbar\":{\"outlinewidth\":0,\"ticks\":\"\"}},\"type\":\"scatterternary\"}],\"surface\":[{\"colorbar\":{\"outlinewidth\":0,\"ticks\":\"\"},\"colorscale\":[[0.0,\"#0d0887\"],[0.1111111111111111,\"#46039f\"],[0.2222222222222222,\"#7201a8\"],[0.3333333333333333,\"#9c179e\"],[0.4444444444444444,\"#bd3786\"],[0.5555555555555556,\"#d8576b\"],[0.6666666666666666,\"#ed7953\"],[0.7777777777777778,\"#fb9f3a\"],[0.8888888888888888,\"#fdca26\"],[1.0,\"#f0f921\"]],\"type\":\"surface\"}],\"table\":[{\"cells\":{\"fill\":{\"color\":\"#EBF0F8\"},\"line\":{\"color\":\"white\"}},\"header\":{\"fill\":{\"color\":\"#C8D4E3\"},\"line\":{\"color\":\"white\"}},\"type\":\"table\"}]},\"layout\":{\"annotationdefaults\":{\"arrowcolor\":\"#2a3f5f\",\"arrowhead\":0,\"arrowwidth\":1},\"autotypenumbers\":\"strict\",\"coloraxis\":{\"colorbar\":{\"outlinewidth\":0,\"ticks\":\"\"}},\"colorscale\":{\"diverging\":[[0,\"#8e0152\"],[0.1,\"#c51b7d\"],[0.2,\"#de77ae\"],[0.3,\"#f1b6da\"],[0.4,\"#fde0ef\"],[0.5,\"#f7f7f7\"],[0.6,\"#e6f5d0\"],[0.7,\"#b8e186\"],[0.8,\"#7fbc41\"],[0.9,\"#4d9221\"],[1,\"#276419\"]],\"sequential\":[[0.0,\"#0d0887\"],[0.1111111111111111,\"#46039f\"],[0.2222222222222222,\"#7201a8\"],[0.3333333333333333,\"#9c179e\"],[0.4444444444444444,\"#bd3786\"],[0.5555555555555556,\"#d8576b\"],[0.6666666666666666,\"#ed7953\"],[0.7777777777777778,\"#fb9f3a\"],[0.8888888888888888,\"#fdca26\"],[1.0,\"#f0f921\"]],\"sequentialminus\":[[0.0,\"#0d0887\"],[0.1111111111111111,\"#46039f\"],[0.2222222222222222,\"#7201a8\"],[0.3333333333333333,\"#9c179e\"],[0.4444444444444444,\"#bd3786\"],[0.5555555555555556,\"#d8576b\"],[0.6666666666666666,\"#ed7953\"],[0.7777777777777778,\"#fb9f3a\"],[0.8888888888888888,\"#fdca26\"],[1.0,\"#f0f921\"]]},\"colorway\":[\"#636efa\",\"#EF553B\",\"#00cc96\",\"#ab63fa\",\"#FFA15A\",\"#19d3f3\",\"#FF6692\",\"#B6E880\",\"#FF97FF\",\"#FECB52\"],\"font\":{\"color\":\"#2a3f5f\"},\"geo\":{\"bgcolor\":\"white\",\"lakecolor\":\"white\",\"landcolor\":\"#E5ECF6\",\"showlakes\":true,\"showland\":true,\"subunitcolor\":\"white\"},\"hoverlabel\":{\"align\":\"left\"},\"hovermode\":\"closest\",\"mapbox\":{\"style\":\"light\"},\"paper_bgcolor\":\"white\",\"plot_bgcolor\":\"#E5ECF6\",\"polar\":{\"angularaxis\":{\"gridcolor\":\"white\",\"linecolor\":\"white\",\"ticks\":\"\"},\"bgcolor\":\"#E5ECF6\",\"radialaxis\":{\"gridcolor\":\"white\",\"linecolor\":\"white\",\"ticks\":\"\"}},\"scene\":{\"xaxis\":{\"backgroundcolor\":\"#E5ECF6\",\"gridcolor\":\"white\",\"gridwidth\":2,\"linecolor\":\"white\",\"showbackground\":true,\"ticks\":\"\",\"zerolinecolor\":\"white\"},\"yaxis\":{\"backgroundcolor\":\"#E5ECF6\",\"gridcolor\":\"white\",\"gridwidth\":2,\"linecolor\":\"white\",\"showbackground\":true,\"ticks\":\"\",\"zerolinecolor\":\"white\"},\"zaxis\":{\"backgroundcolor\":\"#E5ECF6\",\"gridcolor\":\"white\",\"gridwidth\":2,\"linecolor\":\"white\",\"showbackground\":true,\"ticks\":\"\",\"zerolinecolor\":\"white\"}},\"shapedefaults\":{\"line\":{\"color\":\"#2a3f5f\"}},\"ternary\":{\"aaxis\":{\"gridcolor\":\"white\",\"linecolor\":\"white\",\"ticks\":\"\"},\"baxis\":{\"gridcolor\":\"white\",\"linecolor\":\"white\",\"ticks\":\"\"},\"bgcolor\":\"#E5ECF6\",\"caxis\":{\"gridcolor\":\"white\",\"linecolor\":\"white\",\"ticks\":\"\"}},\"title\":{\"x\":0.05},\"xaxis\":{\"automargin\":true,\"gridcolor\":\"white\",\"linecolor\":\"white\",\"ticks\":\"\",\"title\":{\"standoff\":15},\"zerolinecolor\":\"white\",\"zerolinewidth\":2},\"yaxis\":{\"automargin\":true,\"gridcolor\":\"white\",\"linecolor\":\"white\",\"ticks\":\"\",\"title\":{\"standoff\":15},\"zerolinecolor\":\"white\",\"zerolinewidth\":2}}}},                        {\"responsive\": true}                    ).then(function(){\n",
       "                            \n",
       "var gd = document.getElementById('5a6a3768-b4ef-4729-8190-c8870a03d681');\n",
       "var x = new MutationObserver(function (mutations, observer) {{\n",
       "        var display = window.getComputedStyle(gd).display;\n",
       "        if (!display || display === 'none') {{\n",
       "            console.log([gd, 'removed!']);\n",
       "            Plotly.purge(gd);\n",
       "            observer.disconnect();\n",
       "        }}\n",
       "}});\n",
       "\n",
       "// Listen for the removal of the full notebook cells\n",
       "var notebookContainer = gd.closest('#notebook-container');\n",
       "if (notebookContainer) {{\n",
       "    x.observe(notebookContainer, {childList: true});\n",
       "}}\n",
       "\n",
       "// Listen for the clearing of the current output cell\n",
       "var outputEl = gd.closest('.output');\n",
       "if (outputEl) {{\n",
       "    x.observe(outputEl, {childList: true});\n",
       "}}\n",
       "\n",
       "                        })                };                            </script>        </div>\n",
       "</body>\n",
       "</html>"
      ]
     },
     "metadata": {},
     "output_type": "display_data"
    }
   ],
   "source": [
    "optuna.visualization.plot_parallel_coordinate(lgbm_study)"
   ]
  },
  {
   "cell_type": "code",
   "execution_count": 85,
   "metadata": {
    "colab": {
     "base_uri": "https://localhost:8080/",
     "height": 542
    },
    "id": "218uBiV-axIS",
    "outputId": "10c4e4a7-5502-4b5b-dfbf-5d32d35fa4f4"
   },
   "outputs": [
    {
     "data": {
      "text/html": [
       "<html>\n",
       "<head><meta charset=\"utf-8\" /></head>\n",
       "<body>\n",
       "    <div>            <script src=\"https://cdnjs.cloudflare.com/ajax/libs/mathjax/2.7.5/MathJax.js?config=TeX-AMS-MML_SVG\"></script><script type=\"text/javascript\">if (window.MathJax) {MathJax.Hub.Config({SVG: {font: \"STIX-Web\"}});}</script>                <script type=\"text/javascript\">window.PlotlyConfig = {MathJaxConfig: 'local'};</script>\n",
       "        <script src=\"https://cdn.plot.ly/plotly-2.8.3.min.js\"></script>                <div id=\"61ba7d55-28b6-4af0-8faa-7707a1b48ece\" class=\"plotly-graph-div\" style=\"height:525px; width:100%;\"></div>            <script type=\"text/javascript\">                                    window.PLOTLYENV=window.PLOTLYENV || {};                                    if (document.getElementById(\"61ba7d55-28b6-4af0-8faa-7707a1b48ece\")) {                    Plotly.newPlot(                        \"61ba7d55-28b6-4af0-8faa-7707a1b48ece\",                        [{\"cliponaxis\":false,\"hovertemplate\":[\"learning_rate (LogUniformDistribution): 0.00701164831152079<extra></extra>\",\"max_depth (IntUniformDistribution): 0.026771015143700456<extra></extra>\",\"n_estimators (IntUniformDistribution): 0.027836135311726587<extra></extra>\",\"reg_lambda (LogUniformDistribution): 0.40115977533299113<extra></extra>\",\"reg_alpha (LogUniformDistribution): 0.5372214259000611<extra></extra>\"],\"marker\":{\"color\":\"rgb(66,146,198)\"},\"orientation\":\"h\",\"text\":[\"0.00701164831152079\",\"0.026771015143700456\",\"0.027836135311726587\",\"0.40115977533299113\",\"0.5372214259000611\"],\"textposition\":\"outside\",\"texttemplate\":\"%{text:.2f}\",\"x\":[0.00701164831152079,0.026771015143700456,0.027836135311726587,0.40115977533299113,0.5372214259000611],\"y\":[\"learning_rate\",\"max_depth\",\"n_estimators\",\"reg_lambda\",\"reg_alpha\"],\"type\":\"bar\"}],                        {\"showlegend\":false,\"title\":{\"text\":\"Hyperparameter Importances\"},\"xaxis\":{\"title\":{\"text\":\"Importance for Objective Value\"}},\"yaxis\":{\"title\":{\"text\":\"Hyperparameter\"}},\"template\":{\"data\":{\"bar\":[{\"error_x\":{\"color\":\"#2a3f5f\"},\"error_y\":{\"color\":\"#2a3f5f\"},\"marker\":{\"line\":{\"color\":\"#E5ECF6\",\"width\":0.5},\"pattern\":{\"fillmode\":\"overlay\",\"size\":10,\"solidity\":0.2}},\"type\":\"bar\"}],\"barpolar\":[{\"marker\":{\"line\":{\"color\":\"#E5ECF6\",\"width\":0.5},\"pattern\":{\"fillmode\":\"overlay\",\"size\":10,\"solidity\":0.2}},\"type\":\"barpolar\"}],\"carpet\":[{\"aaxis\":{\"endlinecolor\":\"#2a3f5f\",\"gridcolor\":\"white\",\"linecolor\":\"white\",\"minorgridcolor\":\"white\",\"startlinecolor\":\"#2a3f5f\"},\"baxis\":{\"endlinecolor\":\"#2a3f5f\",\"gridcolor\":\"white\",\"linecolor\":\"white\",\"minorgridcolor\":\"white\",\"startlinecolor\":\"#2a3f5f\"},\"type\":\"carpet\"}],\"choropleth\":[{\"colorbar\":{\"outlinewidth\":0,\"ticks\":\"\"},\"type\":\"choropleth\"}],\"contour\":[{\"colorbar\":{\"outlinewidth\":0,\"ticks\":\"\"},\"colorscale\":[[0.0,\"#0d0887\"],[0.1111111111111111,\"#46039f\"],[0.2222222222222222,\"#7201a8\"],[0.3333333333333333,\"#9c179e\"],[0.4444444444444444,\"#bd3786\"],[0.5555555555555556,\"#d8576b\"],[0.6666666666666666,\"#ed7953\"],[0.7777777777777778,\"#fb9f3a\"],[0.8888888888888888,\"#fdca26\"],[1.0,\"#f0f921\"]],\"type\":\"contour\"}],\"contourcarpet\":[{\"colorbar\":{\"outlinewidth\":0,\"ticks\":\"\"},\"type\":\"contourcarpet\"}],\"heatmap\":[{\"colorbar\":{\"outlinewidth\":0,\"ticks\":\"\"},\"colorscale\":[[0.0,\"#0d0887\"],[0.1111111111111111,\"#46039f\"],[0.2222222222222222,\"#7201a8\"],[0.3333333333333333,\"#9c179e\"],[0.4444444444444444,\"#bd3786\"],[0.5555555555555556,\"#d8576b\"],[0.6666666666666666,\"#ed7953\"],[0.7777777777777778,\"#fb9f3a\"],[0.8888888888888888,\"#fdca26\"],[1.0,\"#f0f921\"]],\"type\":\"heatmap\"}],\"heatmapgl\":[{\"colorbar\":{\"outlinewidth\":0,\"ticks\":\"\"},\"colorscale\":[[0.0,\"#0d0887\"],[0.1111111111111111,\"#46039f\"],[0.2222222222222222,\"#7201a8\"],[0.3333333333333333,\"#9c179e\"],[0.4444444444444444,\"#bd3786\"],[0.5555555555555556,\"#d8576b\"],[0.6666666666666666,\"#ed7953\"],[0.7777777777777778,\"#fb9f3a\"],[0.8888888888888888,\"#fdca26\"],[1.0,\"#f0f921\"]],\"type\":\"heatmapgl\"}],\"histogram\":[{\"marker\":{\"pattern\":{\"fillmode\":\"overlay\",\"size\":10,\"solidity\":0.2}},\"type\":\"histogram\"}],\"histogram2d\":[{\"colorbar\":{\"outlinewidth\":0,\"ticks\":\"\"},\"colorscale\":[[0.0,\"#0d0887\"],[0.1111111111111111,\"#46039f\"],[0.2222222222222222,\"#7201a8\"],[0.3333333333333333,\"#9c179e\"],[0.4444444444444444,\"#bd3786\"],[0.5555555555555556,\"#d8576b\"],[0.6666666666666666,\"#ed7953\"],[0.7777777777777778,\"#fb9f3a\"],[0.8888888888888888,\"#fdca26\"],[1.0,\"#f0f921\"]],\"type\":\"histogram2d\"}],\"histogram2dcontour\":[{\"colorbar\":{\"outlinewidth\":0,\"ticks\":\"\"},\"colorscale\":[[0.0,\"#0d0887\"],[0.1111111111111111,\"#46039f\"],[0.2222222222222222,\"#7201a8\"],[0.3333333333333333,\"#9c179e\"],[0.4444444444444444,\"#bd3786\"],[0.5555555555555556,\"#d8576b\"],[0.6666666666666666,\"#ed7953\"],[0.7777777777777778,\"#fb9f3a\"],[0.8888888888888888,\"#fdca26\"],[1.0,\"#f0f921\"]],\"type\":\"histogram2dcontour\"}],\"mesh3d\":[{\"colorbar\":{\"outlinewidth\":0,\"ticks\":\"\"},\"type\":\"mesh3d\"}],\"parcoords\":[{\"line\":{\"colorbar\":{\"outlinewidth\":0,\"ticks\":\"\"}},\"type\":\"parcoords\"}],\"pie\":[{\"automargin\":true,\"type\":\"pie\"}],\"scatter\":[{\"marker\":{\"colorbar\":{\"outlinewidth\":0,\"ticks\":\"\"}},\"type\":\"scatter\"}],\"scatter3d\":[{\"line\":{\"colorbar\":{\"outlinewidth\":0,\"ticks\":\"\"}},\"marker\":{\"colorbar\":{\"outlinewidth\":0,\"ticks\":\"\"}},\"type\":\"scatter3d\"}],\"scattercarpet\":[{\"marker\":{\"colorbar\":{\"outlinewidth\":0,\"ticks\":\"\"}},\"type\":\"scattercarpet\"}],\"scattergeo\":[{\"marker\":{\"colorbar\":{\"outlinewidth\":0,\"ticks\":\"\"}},\"type\":\"scattergeo\"}],\"scattergl\":[{\"marker\":{\"colorbar\":{\"outlinewidth\":0,\"ticks\":\"\"}},\"type\":\"scattergl\"}],\"scattermapbox\":[{\"marker\":{\"colorbar\":{\"outlinewidth\":0,\"ticks\":\"\"}},\"type\":\"scattermapbox\"}],\"scatterpolar\":[{\"marker\":{\"colorbar\":{\"outlinewidth\":0,\"ticks\":\"\"}},\"type\":\"scatterpolar\"}],\"scatterpolargl\":[{\"marker\":{\"colorbar\":{\"outlinewidth\":0,\"ticks\":\"\"}},\"type\":\"scatterpolargl\"}],\"scatterternary\":[{\"marker\":{\"colorbar\":{\"outlinewidth\":0,\"ticks\":\"\"}},\"type\":\"scatterternary\"}],\"surface\":[{\"colorbar\":{\"outlinewidth\":0,\"ticks\":\"\"},\"colorscale\":[[0.0,\"#0d0887\"],[0.1111111111111111,\"#46039f\"],[0.2222222222222222,\"#7201a8\"],[0.3333333333333333,\"#9c179e\"],[0.4444444444444444,\"#bd3786\"],[0.5555555555555556,\"#d8576b\"],[0.6666666666666666,\"#ed7953\"],[0.7777777777777778,\"#fb9f3a\"],[0.8888888888888888,\"#fdca26\"],[1.0,\"#f0f921\"]],\"type\":\"surface\"}],\"table\":[{\"cells\":{\"fill\":{\"color\":\"#EBF0F8\"},\"line\":{\"color\":\"white\"}},\"header\":{\"fill\":{\"color\":\"#C8D4E3\"},\"line\":{\"color\":\"white\"}},\"type\":\"table\"}]},\"layout\":{\"annotationdefaults\":{\"arrowcolor\":\"#2a3f5f\",\"arrowhead\":0,\"arrowwidth\":1},\"autotypenumbers\":\"strict\",\"coloraxis\":{\"colorbar\":{\"outlinewidth\":0,\"ticks\":\"\"}},\"colorscale\":{\"diverging\":[[0,\"#8e0152\"],[0.1,\"#c51b7d\"],[0.2,\"#de77ae\"],[0.3,\"#f1b6da\"],[0.4,\"#fde0ef\"],[0.5,\"#f7f7f7\"],[0.6,\"#e6f5d0\"],[0.7,\"#b8e186\"],[0.8,\"#7fbc41\"],[0.9,\"#4d9221\"],[1,\"#276419\"]],\"sequential\":[[0.0,\"#0d0887\"],[0.1111111111111111,\"#46039f\"],[0.2222222222222222,\"#7201a8\"],[0.3333333333333333,\"#9c179e\"],[0.4444444444444444,\"#bd3786\"],[0.5555555555555556,\"#d8576b\"],[0.6666666666666666,\"#ed7953\"],[0.7777777777777778,\"#fb9f3a\"],[0.8888888888888888,\"#fdca26\"],[1.0,\"#f0f921\"]],\"sequentialminus\":[[0.0,\"#0d0887\"],[0.1111111111111111,\"#46039f\"],[0.2222222222222222,\"#7201a8\"],[0.3333333333333333,\"#9c179e\"],[0.4444444444444444,\"#bd3786\"],[0.5555555555555556,\"#d8576b\"],[0.6666666666666666,\"#ed7953\"],[0.7777777777777778,\"#fb9f3a\"],[0.8888888888888888,\"#fdca26\"],[1.0,\"#f0f921\"]]},\"colorway\":[\"#636efa\",\"#EF553B\",\"#00cc96\",\"#ab63fa\",\"#FFA15A\",\"#19d3f3\",\"#FF6692\",\"#B6E880\",\"#FF97FF\",\"#FECB52\"],\"font\":{\"color\":\"#2a3f5f\"},\"geo\":{\"bgcolor\":\"white\",\"lakecolor\":\"white\",\"landcolor\":\"#E5ECF6\",\"showlakes\":true,\"showland\":true,\"subunitcolor\":\"white\"},\"hoverlabel\":{\"align\":\"left\"},\"hovermode\":\"closest\",\"mapbox\":{\"style\":\"light\"},\"paper_bgcolor\":\"white\",\"plot_bgcolor\":\"#E5ECF6\",\"polar\":{\"angularaxis\":{\"gridcolor\":\"white\",\"linecolor\":\"white\",\"ticks\":\"\"},\"bgcolor\":\"#E5ECF6\",\"radialaxis\":{\"gridcolor\":\"white\",\"linecolor\":\"white\",\"ticks\":\"\"}},\"scene\":{\"xaxis\":{\"backgroundcolor\":\"#E5ECF6\",\"gridcolor\":\"white\",\"gridwidth\":2,\"linecolor\":\"white\",\"showbackground\":true,\"ticks\":\"\",\"zerolinecolor\":\"white\"},\"yaxis\":{\"backgroundcolor\":\"#E5ECF6\",\"gridcolor\":\"white\",\"gridwidth\":2,\"linecolor\":\"white\",\"showbackground\":true,\"ticks\":\"\",\"zerolinecolor\":\"white\"},\"zaxis\":{\"backgroundcolor\":\"#E5ECF6\",\"gridcolor\":\"white\",\"gridwidth\":2,\"linecolor\":\"white\",\"showbackground\":true,\"ticks\":\"\",\"zerolinecolor\":\"white\"}},\"shapedefaults\":{\"line\":{\"color\":\"#2a3f5f\"}},\"ternary\":{\"aaxis\":{\"gridcolor\":\"white\",\"linecolor\":\"white\",\"ticks\":\"\"},\"baxis\":{\"gridcolor\":\"white\",\"linecolor\":\"white\",\"ticks\":\"\"},\"bgcolor\":\"#E5ECF6\",\"caxis\":{\"gridcolor\":\"white\",\"linecolor\":\"white\",\"ticks\":\"\"}},\"title\":{\"x\":0.05},\"xaxis\":{\"automargin\":true,\"gridcolor\":\"white\",\"linecolor\":\"white\",\"ticks\":\"\",\"title\":{\"standoff\":15},\"zerolinecolor\":\"white\",\"zerolinewidth\":2},\"yaxis\":{\"automargin\":true,\"gridcolor\":\"white\",\"linecolor\":\"white\",\"ticks\":\"\",\"title\":{\"standoff\":15},\"zerolinecolor\":\"white\",\"zerolinewidth\":2}}}},                        {\"responsive\": true}                    ).then(function(){\n",
       "                            \n",
       "var gd = document.getElementById('61ba7d55-28b6-4af0-8faa-7707a1b48ece');\n",
       "var x = new MutationObserver(function (mutations, observer) {{\n",
       "        var display = window.getComputedStyle(gd).display;\n",
       "        if (!display || display === 'none') {{\n",
       "            console.log([gd, 'removed!']);\n",
       "            Plotly.purge(gd);\n",
       "            observer.disconnect();\n",
       "        }}\n",
       "}});\n",
       "\n",
       "// Listen for the removal of the full notebook cells\n",
       "var notebookContainer = gd.closest('#notebook-container');\n",
       "if (notebookContainer) {{\n",
       "    x.observe(notebookContainer, {childList: true});\n",
       "}}\n",
       "\n",
       "// Listen for the clearing of the current output cell\n",
       "var outputEl = gd.closest('.output');\n",
       "if (outputEl) {{\n",
       "    x.observe(outputEl, {childList: true});\n",
       "}}\n",
       "\n",
       "                        })                };                            </script>        </div>\n",
       "</body>\n",
       "</html>"
      ]
     },
     "metadata": {},
     "output_type": "display_data"
    }
   ],
   "source": [
    "optuna.visualization.plot_param_importances(lgbm_study)"
   ]
  },
  {
   "cell_type": "code",
   "execution_count": 86,
   "metadata": {
    "colab": {
     "base_uri": "https://localhost:8080/"
    },
    "id": "adoSCb_qa18K",
    "outputId": "af2ef81d-9e35-4312-9ea2-799609150050"
   },
   "outputs": [
    {
     "data": {
      "text/plain": [
       "0.8379888268156425"
      ]
     },
     "execution_count": 86,
     "metadata": {},
     "output_type": "execute_result"
    }
   ],
   "source": [
    "# 찾은 최적의 파라미터로 학습해보자~\n",
    "optimized_lgbm = LGBMClassifier( \n",
    "                        n_estimators = lgbm_study.best_params[\"n_estimators\"],\n",
    "                        learning_rate = lgbm_study.best_params[\"learning_rate\"],\n",
    "                        max_depth = lgbm_study.best_params[\"max_depth\"],\n",
    "                        reg_alpha = lgbm_study.best_params[\"reg_alpha\"],\n",
    "                        reg_lambda = lgbm_study.best_params[\"reg_lambda\"],\n",
    "                        n_jobs= -1,\n",
    "                        random_state=1234,\n",
    "                         )\n",
    "optimized_lgbm.fit(X_train, y_train)\n",
    "accuracy_score(y_test, optimized_lgbm.predict(X_test))"
   ]
  },
  {
   "cell_type": "code",
   "execution_count": null,
   "metadata": {
    "id": "dmav0S2sbRmi"
   },
   "outputs": [],
   "source": []
  }
 ],
 "metadata": {
  "colab": {
   "authorship_tag": "ABX9TyOsCNq9gjEiDzCjVQlCfYCg",
   "collapsed_sections": [],
   "include_colab_link": true,
   "name": "머신러닝 (optuna)  .ipynb",
   "provenance": []
  },
  "kernelspec": {
   "display_name": "Python 3 (ipykernel)",
   "language": "python",
   "name": "python3"
  },
  "language_info": {
   "codemirror_mode": {
    "name": "ipython",
    "version": 3
   },
   "file_extension": ".py",
   "mimetype": "text/x-python",
   "name": "python",
   "nbconvert_exporter": "python",
   "pygments_lexer": "ipython3",
   "version": "3.9.7"
  }
 },
 "nbformat": 4,
 "nbformat_minor": 1
}
