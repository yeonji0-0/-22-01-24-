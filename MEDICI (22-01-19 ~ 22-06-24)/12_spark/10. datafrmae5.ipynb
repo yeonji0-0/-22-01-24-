{
 "cells": [
  {
   "cell_type": "code",
   "execution_count": 1,
   "metadata": {},
   "outputs": [],
   "source": [
    "from pyspark.sql import  SQLContext, Row\n",
    "from pyspark import SparkContext,SparkConf\n",
    "import pandas as pd\n",
    "from pyspark.sql.functions import regexp_extract, regexp_replace, when,udf,col"
   ]
  },
  {
   "cell_type": "code",
   "execution_count": 2,
   "metadata": {},
   "outputs": [],
   "source": [
    "sc = SparkContext('local')\n",
    "sqlCtx = SQLContext( sc ) "
   ]
  },
  {
   "cell_type": "code",
   "execution_count": 3,
   "metadata": {},
   "outputs": [
    {
     "name": "stdout",
     "output_type": "stream",
     "text": [
      "+----+--------------------+\n",
      "|  ID|               Notes|\n",
      "+----+--------------------+\n",
      "|2345|     Checked by John|\n",
      "|2398|   Verified by Stacy|\n",
      "|2328|Verified by Srini...|\n",
      "|3983|Double Checked on...|\n",
      "+----+--------------------+\n",
      "\n"
     ]
    }
   ],
   "source": [
    "data =  [('2345', 'Checked by John'),\n",
    "('2398','Verified by Stacy'),\n",
    "('2328','Verified by Srinivas than some random text'),        \n",
    "('3983','Double Checked on 2/23/17 by Marsha')]\n",
    "df = sc.parallelize(data).toDF(['ID','Notes'] )\n",
    "df.show()"
   ]
  },
  {
   "cell_type": "code",
   "execution_count": 14,
   "metadata": {},
   "outputs": [
    {
     "name": "stdout",
     "output_type": "stream",
     "text": [
      "+----+--------------------+--------+\n",
      "|  ID|               Notes|   fname|\n",
      "+----+--------------------+--------+\n",
      "|2345|     Checked by John|    John|\n",
      "|2398|   Verified by Stacy|   Stacy|\n",
      "|2328|Verified by Srini...|Srinivas|\n",
      "|3983|Double Checked on...|  Marsha|\n",
      "+----+--------------------+--------+\n",
      "\n"
     ]
    }
   ],
   "source": [
    "#regexp_extract(컬럼,패턴,그룹아이디) #0 (no group)\n",
    "# df.withColumn( 'fname', \n",
    "#     regexp_extract( df['Notes'],'by [a-zA-Z]+',0)  ).show()\n",
    "# df.withColumn( 'fname', \n",
    "#     regexp_extract( df['Notes'],'(by) ([a-zA-Z]+)',2)  ).show()\n",
    "df.withColumn( 'fname', \n",
    "    regexp_extract( df['Notes'],'(\\w+) by ([a-zA-Z]+)',2) ).show()\n",
    "#[a-zA-Z0-9_]  ==>\\w"
   ]
  }
 ],
 "metadata": {
  "kernelspec": {
   "display_name": "Python 3",
   "language": "python",
   "name": "python3"
  },
  "language_info": {
   "codemirror_mode": {
    "name": "ipython",
    "version": 3
   },
   "file_extension": ".py",
   "mimetype": "text/x-python",
   "name": "python",
   "nbconvert_exporter": "python",
   "pygments_lexer": "ipython3",
   "version": "3.7.9"
  }
 },
 "nbformat": 4,
 "nbformat_minor": 4
}
