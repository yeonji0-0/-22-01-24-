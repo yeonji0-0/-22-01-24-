{
 "cells": [
  {
   "cell_type": "code",
   "execution_count": 1,
   "id": "864a9d7f",
   "metadata": {},
   "outputs": [],
   "source": [
    "from pyspark import SparkContext"
   ]
  },
  {
   "cell_type": "code",
   "execution_count": 2,
   "id": "cd806609",
   "metadata": {},
   "outputs": [
    {
     "name": "stderr",
     "output_type": "stream",
     "text": [
      "22/04/26 09:43:34 WARN Utils: Your hostname, mobile-virtual-machine resolves to a loopback address: 127.0.1.1; using 192.168.41.128 instead (on interface ens33)\n",
      "22/04/26 09:43:34 WARN Utils: Set SPARK_LOCAL_IP if you need to bind to another address\n",
      "22/04/26 09:43:36 WARN NativeCodeLoader: Unable to load native-hadoop library for your platform... using builtin-java classes where applicable\n",
      "Using Spark's default log4j profile: org/apache/spark/log4j-defaults.properties\n",
      "Setting default log level to \"WARN\".\n",
      "To adjust logging level use sc.setLogLevel(newLevel). For SparkR, use setLogLevel(newLevel).\n"
     ]
    }
   ],
   "source": [
    "sc = SparkContext('local')"
   ]
  },
  {
   "cell_type": "code",
   "execution_count": 3,
   "id": "d4646733",
   "metadata": {},
   "outputs": [],
   "source": [
    "my = [10,20,30,40,50]"
   ]
  },
  {
   "cell_type": "code",
   "execution_count": null,
   "id": "2deaa5d7",
   "metadata": {},
   "outputs": [],
   "source": [
    "## RDD : 분산리스트(distributed list)"
   ]
  },
  {
   "cell_type": "code",
   "execution_count": 7,
   "id": "492db375",
   "metadata": {},
   "outputs": [
    {
     "data": {
      "text/plain": [
       "aa.txt MapPartitionsRDD[3] at textFile at NativeMethodAccessorImpl.java:0"
      ]
     },
     "execution_count": 7,
     "metadata": {},
     "output_type": "execute_result"
    }
   ],
   "source": [
    "rdd = sc.textFile('aa.txt')\n",
    "rdd"
   ]
  },
  {
   "cell_type": "markdown",
   "id": "cb266b96",
   "metadata": {},
   "source": [
    "> 1. action: rdd x, list, string, tuple,... (master system momory use)\n",
    "> 2. transform: return rdd"
   ]
  },
  {
   "cell_type": "code",
   "execution_count": 8,
   "id": "203a7919",
   "metadata": {},
   "outputs": [
    {
     "name": "stderr",
     "output_type": "stream",
     "text": [
      "                                                                                \r"
     ]
    },
    {
     "data": {
      "text/plain": [
       "['aaa', 'bbb', 'ccc']"
      ]
     },
     "execution_count": 8,
     "metadata": {},
     "output_type": "execute_result"
    }
   ],
   "source": [
    "# action\n",
    "rdd.collect() #실제로 사용할 때 주의 요함! "
   ]
  },
  {
   "cell_type": "code",
   "execution_count": 10,
   "id": "403ddbe4",
   "metadata": {},
   "outputs": [],
   "source": [
    "my = [10,20,30,40,50]\n",
    "nRdd = sc.parallelize(my)"
   ]
  },
  {
   "cell_type": "code",
   "execution_count": 11,
   "id": "df8e0c7a",
   "metadata": {},
   "outputs": [
    {
     "data": {
      "text/plain": [
       "[10, 20, 30, 40, 50]"
      ]
     },
     "execution_count": 11,
     "metadata": {},
     "output_type": "execute_result"
    }
   ],
   "source": [
    "nRdd.collect()"
   ]
  },
  {
   "cell_type": "code",
   "execution_count": 12,
   "id": "7e73488b",
   "metadata": {},
   "outputs": [
    {
     "name": "stderr",
     "output_type": "stream",
     "text": [
      "                                                                                \r"
     ]
    },
    {
     "data": {
      "text/plain": [
       "[10, 20]"
      ]
     },
     "execution_count": 12,
     "metadata": {},
     "output_type": "execute_result"
    }
   ],
   "source": [
    "nRdd.take(2) #action"
   ]
  },
  {
   "cell_type": "code",
   "execution_count": 13,
   "id": "123d32a4",
   "metadata": {},
   "outputs": [
    {
     "name": "stderr",
     "output_type": "stream",
     "text": [
      "10\n",
      "20\n",
      "30\n",
      "40\n",
      "50\n"
     ]
    }
   ],
   "source": [
    "nRdd.foreach( lambda v: print(v)) # action"
   ]
  },
  {
   "cell_type": "code",
   "execution_count": 14,
   "id": "d346076b",
   "metadata": {},
   "outputs": [
    {
     "data": {
      "text/plain": [
       "[12, 22, 32, 42, 52]"
      ]
     },
     "execution_count": 14,
     "metadata": {},
     "output_type": "execute_result"
    }
   ],
   "source": [
    "nRdd1 = nRdd.map( lambda v : v+2 ) #transformation\n",
    "nRdd1.collect()"
   ]
  },
  {
   "cell_type": "code",
   "execution_count": 15,
   "id": "acfb189f",
   "metadata": {},
   "outputs": [
    {
     "data": {
      "text/plain": [
       "[11, 21, 32, 42, 52]"
      ]
     },
     "execution_count": 15,
     "metadata": {},
     "output_type": "execute_result"
    }
   ],
   "source": [
    "nRdd1 = nRdd.map( lambda v : v+2 if v >=30 else v +1 ) #transformation\n",
    "nRdd1.collect()"
   ]
  },
  {
   "cell_type": "code",
   "execution_count": 16,
   "id": "ad032fd2",
   "metadata": {},
   "outputs": [],
   "source": [
    "sc.stop()"
   ]
  },
  {
   "cell_type": "code",
   "execution_count": null,
   "id": "54e53df5",
   "metadata": {},
   "outputs": [],
   "source": []
  }
 ],
 "metadata": {
  "kernelspec": {
   "display_name": "Python 3 (ipykernel)",
   "language": "python",
   "name": "python3"
  },
  "language_info": {
   "codemirror_mode": {
    "name": "ipython",
    "version": 3
   },
   "file_extension": ".py",
   "mimetype": "text/x-python",
   "name": "python",
   "nbconvert_exporter": "python",
   "pygments_lexer": "ipython3",
   "version": "3.9.7"
  }
 },
 "nbformat": 4,
 "nbformat_minor": 5
}
