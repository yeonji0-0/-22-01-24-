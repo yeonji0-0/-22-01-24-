{
 "cells": [
  {
   "cell_type": "code",
   "execution_count": 1,
   "id": "75cf0d44",
   "metadata": {},
   "outputs": [],
   "source": [
    "from pyspark import SparkContext"
   ]
  },
  {
   "cell_type": "code",
   "execution_count": 2,
   "id": "e4350335",
   "metadata": {},
   "outputs": [
    {
     "name": "stderr",
     "output_type": "stream",
     "text": [
      "22/04/26 11:47:14 WARN Utils: Your hostname, mobile-virtual-machine resolves to a loopback address: 127.0.1.1; using 192.168.41.128 instead (on interface ens33)\n",
      "22/04/26 11:47:14 WARN Utils: Set SPARK_LOCAL_IP if you need to bind to another address\n",
      "22/04/26 11:47:15 WARN NativeCodeLoader: Unable to load native-hadoop library for your platform... using builtin-java classes where applicable\n",
      "Using Spark's default log4j profile: org/apache/spark/log4j-defaults.properties\n",
      "Setting default log level to \"WARN\".\n",
      "To adjust logging level use sc.setLogLevel(newLevel). For SparkR, use setLogLevel(newLevel).\n"
     ]
    }
   ],
   "source": [
    "sc = SparkContext('local')"
   ]
  },
  {
   "cell_type": "code",
   "execution_count": 3,
   "id": "ed12e0ee",
   "metadata": {},
   "outputs": [
    {
     "name": "stderr",
     "output_type": "stream",
     "text": [
      "                                                                                \r"
     ]
    },
    {
     "data": {
      "text/plain": [
       "['year,height,weight,grade,gender,gradecode,gendercode',\n",
       " '2017,152.5,47.9,elementary,man,2,1',\n",
       " '2017,153.2,46.6,elementary,woman,2,0',\n",
       " '2017,170.6,63.8,middle,man,0,1',\n",
       " '2017,160.4,54.2,middle,woman,0,0',\n",
       " '2017,173.9,72.3,high,man,1,1',\n",
       " '2017,160.9,57.7,high,woman,1,0',\n",
       " '2018,160.9,57.7,middle,woman,1,0',\n",
       " '2018,160.9,57.7,high,woman,1,0',\n",
       " '']"
      ]
     },
     "execution_count": 3,
     "metadata": {},
     "output_type": "execute_result"
    }
   ],
   "source": [
    "rdd = sc.textFile('w.csv')\n",
    "rdd.collect()"
   ]
  },
  {
   "cell_type": "code",
   "execution_count": 4,
   "id": "cf83d006",
   "metadata": {},
   "outputs": [
    {
     "name": "stderr",
     "output_type": "stream",
     "text": [
      "                                                                                \r"
     ]
    },
    {
     "data": {
      "text/plain": [
       "[['year', 'height', 'weight', 'grade', 'gender', 'gradecode', 'gendercode'],\n",
       " ['2017', '152.5', '47.9', 'elementary', 'man', '2', '1'],\n",
       " ['2017', '153.2', '46.6', 'elementary', 'woman', '2', '0'],\n",
       " ['2017', '170.6', '63.8', 'middle', 'man', '0', '1'],\n",
       " ['2017', '160.4', '54.2', 'middle', 'woman', '0', '0'],\n",
       " ['2017', '173.9', '72.3', 'high', 'man', '1', '1'],\n",
       " ['2017', '160.9', '57.7', 'high', 'woman', '1', '0'],\n",
       " ['2018', '160.9', '57.7', 'middle', 'woman', '1', '0'],\n",
       " ['2018', '160.9', '57.7', 'high', 'woman', '1', '0'],\n",
       " ['']]"
      ]
     },
     "execution_count": 4,
     "metadata": {},
     "output_type": "execute_result"
    }
   ],
   "source": [
    "rdd.map( lambda v: v.split(',')).collect()"
   ]
  },
  {
   "cell_type": "code",
   "execution_count": 6,
   "id": "b2e339ed",
   "metadata": {},
   "outputs": [
    {
     "data": {
      "text/plain": [
       "[['2017', '152.5', '47.9', 'elementary', 'man', '2', '1'],\n",
       " ['2017', '153.2', '46.6', 'elementary', 'woman', '2', '0'],\n",
       " ['2017', '170.6', '63.8', 'middle', 'man', '0', '1'],\n",
       " ['2017', '160.4', '54.2', 'middle', 'woman', '0', '0'],\n",
       " ['2017', '173.9', '72.3', 'high', 'man', '1', '1'],\n",
       " ['2017', '160.9', '57.7', 'high', 'woman', '1', '0']]"
      ]
     },
     "execution_count": 6,
     "metadata": {},
     "output_type": "execute_result"
    }
   ],
   "source": [
    "rdd1 = rdd.map( lambda v: v.split(',')).filter(lambda v: v[0]=='2017')\n",
    "rdd1.collect()"
   ]
  },
  {
   "cell_type": "markdown",
   "id": "05793c46",
   "metadata": {},
   "source": [
    "## 연습문제"
   ]
  },
  {
   "cell_type": "markdown",
   "id": "3eef00dc",
   "metadata": {},
   "source": [
    "#### 1.전체 키의 합과 평균을 구하시오\n"
   ]
  },
  {
   "cell_type": "code",
   "execution_count": 26,
   "id": "b4c24110",
   "metadata": {},
   "outputs": [
    {
     "data": {
      "text/plain": [
       "[152.5, 153.2, 170.6, 160.4, 173.9, 160.9]"
      ]
     },
     "execution_count": 26,
     "metadata": {},
     "output_type": "execute_result"
    }
   ],
   "source": [
    "rdd_h = rdd1.map( lambda v: v[1]).map(lambda v : float(v))\n",
    "rdd_h.collect()"
   ]
  },
  {
   "cell_type": "code",
   "execution_count": 27,
   "id": "77c91f10",
   "metadata": {},
   "outputs": [
    {
     "data": {
      "text/plain": [
       "971.4999999999999"
      ]
     },
     "execution_count": 27,
     "metadata": {},
     "output_type": "execute_result"
    }
   ],
   "source": [
    "rdd_h.sum()"
   ]
  },
  {
   "cell_type": "code",
   "execution_count": 28,
   "id": "19d41747",
   "metadata": {},
   "outputs": [
    {
     "data": {
      "text/plain": [
       "161.91666666666666"
      ]
     },
     "execution_count": 28,
     "metadata": {},
     "output_type": "execute_result"
    }
   ],
   "source": [
    "rdd_h.mean()"
   ]
  },
  {
   "cell_type": "markdown",
   "id": "6a5b286f",
   "metadata": {},
   "source": [
    "#### 2.다음과 같이 변경하시오(학년별 갯수)\n",
    "[('elementary', 2), ('middle', 2), ('high', 2)]"
   ]
  },
  {
   "cell_type": "code",
   "execution_count": 35,
   "id": "17052f64",
   "metadata": {},
   "outputs": [
    {
     "data": {
      "text/plain": [
       "defaultdict(int, {'elementary': 2, 'middle': 2, 'high': 2})"
      ]
     },
     "execution_count": 35,
     "metadata": {},
     "output_type": "execute_result"
    }
   ],
   "source": [
    "rdd_g = rdd1.map( lambda v: v[3]).map(lambda v: (v,1))\n",
    "rdd_g.countByKey()"
   ]
  },
  {
   "cell_type": "markdown",
   "id": "9cb1784e",
   "metadata": {},
   "source": [
    "#### 3.몸무게가 높은 순으로 정렬하시오\n"
   ]
  },
  {
   "cell_type": "code",
   "execution_count": 39,
   "id": "78b3797f",
   "metadata": {},
   "outputs": [
    {
     "data": {
      "text/plain": [
       "[72.3, 63.8, 57.7, 54.2, 47.9, 46.6]"
      ]
     },
     "execution_count": 39,
     "metadata": {},
     "output_type": "execute_result"
    }
   ],
   "source": [
    "rdd_w = rdd1.map( lambda v: v[2]).map(lambda v : float(v)).sortBy(lambda v: v, ascending = False)\n",
    "rdd_w.collect()"
   ]
  },
  {
   "cell_type": "markdown",
   "id": "ef30ccb5",
   "metadata": {},
   "source": [
    "#### 4. elementary(초등학생) 데이터를 구하시요\n"
   ]
  },
  {
   "cell_type": "code",
   "execution_count": 53,
   "id": "81f8f9f2",
   "metadata": {},
   "outputs": [
    {
     "data": {
      "text/plain": [
       "[['2017', '152.5', '47.9', 'elementary', 'man', '2', '1'],\n",
       " ['2017', '153.2', '46.6', 'elementary', 'woman', '2', '0']]"
      ]
     },
     "execution_count": 53,
     "metadata": {},
     "output_type": "execute_result"
    }
   ],
   "source": [
    "rdd1.filter(lambda v: v[3]=='elementary').collect()"
   ]
  },
  {
   "cell_type": "markdown",
   "id": "6dba1230",
   "metadata": {},
   "source": [
    "#### 5. 몸무게가 60 이상인 데이터를 구하시요\n"
   ]
  },
  {
   "cell_type": "code",
   "execution_count": 59,
   "id": "403cca2b",
   "metadata": {},
   "outputs": [
    {
     "data": {
      "text/plain": [
       "[63.8, 72.3]"
      ]
     },
     "execution_count": 59,
     "metadata": {},
     "output_type": "execute_result"
    }
   ],
   "source": [
    "rdd1.map(lambda v : float(v[2])).filter(lambda v: v >= 60).collect()"
   ]
  },
  {
   "cell_type": "code",
   "execution_count": null,
   "id": "eb53f108",
   "metadata": {},
   "outputs": [],
   "source": []
  }
 ],
 "metadata": {
  "kernelspec": {
   "display_name": "Python 3 (ipykernel)",
   "language": "python",
   "name": "python3"
  },
  "language_info": {
   "codemirror_mode": {
    "name": "ipython",
    "version": 3
   },
   "file_extension": ".py",
   "mimetype": "text/x-python",
   "name": "python",
   "nbconvert_exporter": "python",
   "pygments_lexer": "ipython3",
   "version": "3.9.7"
  }
 },
 "nbformat": 4,
 "nbformat_minor": 5
}
