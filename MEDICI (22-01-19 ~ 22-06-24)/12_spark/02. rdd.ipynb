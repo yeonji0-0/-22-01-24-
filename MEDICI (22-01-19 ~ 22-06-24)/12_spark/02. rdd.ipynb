{
 "cells": [
  {
   "cell_type": "code",
   "execution_count": 1,
   "id": "a7b91a81",
   "metadata": {},
   "outputs": [],
   "source": [
    "from pyspark import SparkContext"
   ]
  },
  {
   "cell_type": "code",
   "execution_count": 2,
   "id": "f7615790",
   "metadata": {},
   "outputs": [
    {
     "name": "stderr",
     "output_type": "stream",
     "text": [
      "22/04/26 10:45:36 WARN Utils: Your hostname, mobile-virtual-machine resolves to a loopback address: 127.0.1.1; using 192.168.41.128 instead (on interface ens33)\n",
      "22/04/26 10:45:36 WARN Utils: Set SPARK_LOCAL_IP if you need to bind to another address\n",
      "22/04/26 10:45:38 WARN NativeCodeLoader: Unable to load native-hadoop library for your platform... using builtin-java classes where applicable\n",
      "Using Spark's default log4j profile: org/apache/spark/log4j-defaults.properties\n",
      "Setting default log level to \"WARN\".\n",
      "To adjust logging level use sc.setLogLevel(newLevel). For SparkR, use setLogLevel(newLevel).\n"
     ]
    }
   ],
   "source": [
    "sc = SparkContext('local')"
   ]
  },
  {
   "cell_type": "code",
   "execution_count": 3,
   "id": "17c53be9",
   "metadata": {},
   "outputs": [
    {
     "data": {
      "text/plain": [
       "bb.txt MapPartitionsRDD[1] at textFile at NativeMethodAccessorImpl.java:0"
      ]
     },
     "execution_count": 3,
     "metadata": {},
     "output_type": "execute_result"
    }
   ],
   "source": [
    "rdd = sc.textFile('bb.txt')\n",
    "rdd"
   ]
  },
  {
   "cell_type": "code",
   "execution_count": 4,
   "id": "7b14149e",
   "metadata": {},
   "outputs": [
    {
     "name": "stderr",
     "output_type": "stream",
     "text": [
      "                                                                                \r"
     ]
    },
    {
     "data": {
      "text/plain": [
       "['aa bb', 'cc dd', 'ee ff']"
      ]
     },
     "execution_count": 4,
     "metadata": {},
     "output_type": "execute_result"
    }
   ],
   "source": [
    "rdd.collect()"
   ]
  },
  {
   "cell_type": "code",
   "execution_count": 10,
   "id": "e823adfc",
   "metadata": {},
   "outputs": [
    {
     "data": {
      "text/plain": [
       "[['aa', 'bb'], ['cc', 'dd'], ['ee', 'ff']]"
      ]
     },
     "execution_count": 10,
     "metadata": {},
     "output_type": "execute_result"
    }
   ],
   "source": [
    "rdd1 = rdd.map( lambda v: v.split())\n",
    "rdd1.collect()"
   ]
  },
  {
   "cell_type": "code",
   "execution_count": 8,
   "id": "f4b3f44b",
   "metadata": {},
   "outputs": [
    {
     "data": {
      "text/plain": [
       "['aa', 'bb', 'cc', 'dd', 'ee', 'ff']"
      ]
     },
     "execution_count": 8,
     "metadata": {},
     "output_type": "execute_result"
    }
   ],
   "source": [
    "rdd2 = rdd.flatMap( lambda v: v.split()) #transformation\n",
    "rdd2.collect()"
   ]
  },
  {
   "cell_type": "code",
   "execution_count": 9,
   "id": "238d4f45",
   "metadata": {},
   "outputs": [
    {
     "data": {
      "text/plain": [
       "6"
      ]
     },
     "execution_count": 9,
     "metadata": {},
     "output_type": "execute_result"
    }
   ],
   "source": [
    "rdd2.count() # action"
   ]
  },
  {
   "cell_type": "code",
   "execution_count": 17,
   "id": "c99bf7c3",
   "metadata": {},
   "outputs": [
    {
     "data": {
      "text/plain": [
       "cc.txt MapPartitionsRDD[13] at textFile at NativeMethodAccessorImpl.java:0"
      ]
     },
     "execution_count": 17,
     "metadata": {},
     "output_type": "execute_result"
    }
   ],
   "source": [
    "rdd = sc.textFile('cc.txt')\n",
    "rdd"
   ]
  },
  {
   "cell_type": "code",
   "execution_count": 12,
   "id": "d97655c3",
   "metadata": {},
   "outputs": [
    {
     "data": {
      "text/plain": [
       "['10,20', '30,40', '50,60', '20,40']"
      ]
     },
     "execution_count": 12,
     "metadata": {},
     "output_type": "execute_result"
    }
   ],
   "source": [
    "rdd.collect()"
   ]
  },
  {
   "cell_type": "code",
   "execution_count": 13,
   "id": "b68d34fe",
   "metadata": {},
   "outputs": [
    {
     "data": {
      "text/plain": [
       "['10,20', '30,40', '50,60', '20,40']"
      ]
     },
     "execution_count": 13,
     "metadata": {},
     "output_type": "execute_result"
    }
   ],
   "source": [
    "rdd.take(5) # collect()대신 take 사용하는게 더 안전"
   ]
  },
  {
   "cell_type": "code",
   "execution_count": 20,
   "id": "bce008d4",
   "metadata": {},
   "outputs": [
    {
     "data": {
      "text/plain": [
       "[['10', '20'], ['30', '40'], ['50', '60'], ['20', '40']]"
      ]
     },
     "execution_count": 20,
     "metadata": {},
     "output_type": "execute_result"
    }
   ],
   "source": [
    "rdd.map( lambda v: v.split(',')).collect()"
   ]
  },
  {
   "cell_type": "code",
   "execution_count": 21,
   "id": "deecd510",
   "metadata": {},
   "outputs": [
    {
     "data": {
      "text/plain": [
       "['10', '20', '30', '40', '50', '60', '20', '40']"
      ]
     },
     "execution_count": 21,
     "metadata": {},
     "output_type": "execute_result"
    }
   ],
   "source": [
    "rdd1 = rdd.flatMap( lambda v: v.split(','))\n",
    "rdd1.collect()"
   ]
  },
  {
   "cell_type": "code",
   "execution_count": 22,
   "id": "79a3df0d",
   "metadata": {},
   "outputs": [
    {
     "data": {
      "text/plain": [
       "[10, 20, 30, 40, 50, 60, 20, 40]"
      ]
     },
     "execution_count": 22,
     "metadata": {},
     "output_type": "execute_result"
    }
   ],
   "source": [
    "rdd2 = rdd1.map( lambda v: int(v))\n",
    "rdd2.collect()"
   ]
  },
  {
   "cell_type": "code",
   "execution_count": 24,
   "id": "48b8d535",
   "metadata": {},
   "outputs": [
    {
     "data": {
      "text/plain": [
       "[10, 20, 30, 40, 50, 60, 20, 40]"
      ]
     },
     "execution_count": 24,
     "metadata": {},
     "output_type": "execute_result"
    }
   ],
   "source": [
    "rdd3 = rdd.flatMap( lambda v: v.split(',')).map(lambda v: int(v))\n",
    "rdd3.collect()"
   ]
  },
  {
   "cell_type": "markdown",
   "id": "3bb761aa",
   "metadata": {},
   "source": [
    "### statistics"
   ]
  },
  {
   "cell_type": "code",
   "execution_count": 25,
   "id": "48d9d28c",
   "metadata": {},
   "outputs": [
    {
     "data": {
      "text/plain": [
       "10"
      ]
     },
     "execution_count": 25,
     "metadata": {},
     "output_type": "execute_result"
    }
   ],
   "source": [
    "# action\n",
    "rdd3.first()"
   ]
  },
  {
   "cell_type": "code",
   "execution_count": 26,
   "id": "a907c2a8",
   "metadata": {},
   "outputs": [
    {
     "data": {
      "text/plain": [
       "270"
      ]
     },
     "execution_count": 26,
     "metadata": {},
     "output_type": "execute_result"
    }
   ],
   "source": [
    "# action\n",
    "rdd3.sum()"
   ]
  },
  {
   "cell_type": "code",
   "execution_count": 27,
   "id": "895d7258",
   "metadata": {},
   "outputs": [
    {
     "data": {
      "text/plain": [
       "33.75"
      ]
     },
     "execution_count": 27,
     "metadata": {},
     "output_type": "execute_result"
    }
   ],
   "source": [
    "rdd3.mean()"
   ]
  },
  {
   "cell_type": "code",
   "execution_count": 28,
   "id": "f0287a53",
   "metadata": {},
   "outputs": [
    {
     "data": {
      "text/plain": [
       "15.761900266148114"
      ]
     },
     "execution_count": 28,
     "metadata": {},
     "output_type": "execute_result"
    }
   ],
   "source": [
    "rdd3.stdev()"
   ]
  },
  {
   "cell_type": "code",
   "execution_count": 29,
   "id": "67179576",
   "metadata": {},
   "outputs": [
    {
     "data": {
      "text/plain": [
       "60"
      ]
     },
     "execution_count": 29,
     "metadata": {},
     "output_type": "execute_result"
    }
   ],
   "source": [
    "rdd3.max()"
   ]
  },
  {
   "cell_type": "code",
   "execution_count": 30,
   "id": "70edcfc7",
   "metadata": {},
   "outputs": [
    {
     "data": {
      "text/plain": [
       "10"
      ]
     },
     "execution_count": 30,
     "metadata": {},
     "output_type": "execute_result"
    }
   ],
   "source": [
    "rdd3.min()"
   ]
  },
  {
   "cell_type": "code",
   "execution_count": 31,
   "id": "7a5e9ace",
   "metadata": {},
   "outputs": [
    {
     "data": {
      "text/plain": [
       "([1, 50, 100], [6, 2])"
      ]
     },
     "execution_count": 31,
     "metadata": {},
     "output_type": "execute_result"
    }
   ],
   "source": [
    "rdd3.histogram([1, 50, 100]) #cut과 비슷 1 <= data < 50, 50 <= data < 100"
   ]
  },
  {
   "cell_type": "code",
   "execution_count": 32,
   "id": "fbf78a86",
   "metadata": {},
   "outputs": [
    {
     "data": {
      "text/plain": [
       "(count: 8, mean: 33.75, stdev: 15.761900266148114, max: 60.0, min: 10.0)"
      ]
     },
     "execution_count": 32,
     "metadata": {},
     "output_type": "execute_result"
    }
   ],
   "source": [
    "rdd3.stats() #discribe과 비슷"
   ]
  },
  {
   "cell_type": "code",
   "execution_count": 35,
   "id": "757daac9",
   "metadata": {},
   "outputs": [],
   "source": [
    "def fn(a,b):\n",
    "    print('a=', a)\n",
    "    print('b=', b)\n",
    "    print(\"-\"*5)\n",
    "    return a+b"
   ]
  },
  {
   "cell_type": "code",
   "execution_count": 36,
   "id": "0f0eb94a",
   "metadata": {},
   "outputs": [
    {
     "name": "stderr",
     "output_type": "stream",
     "text": [
      "a= 10\n",
      "b= 20\n",
      "-----\n",
      "a= 30\n",
      "b= 30\n",
      "-----\n",
      "a= 60\n",
      "b= 40\n",
      "-----\n",
      "a= 100\n",
      "b= 50\n",
      "-----\n",
      "a= 150\n",
      "b= 60\n",
      "-----\n",
      "a= 210\n",
      "b= 20\n",
      "-----\n",
      "a= 230\n",
      "b= 40\n",
      "-----\n"
     ]
    },
    {
     "data": {
      "text/plain": [
       "270"
      ]
     },
     "execution_count": 36,
     "metadata": {},
     "output_type": "execute_result"
    }
   ],
   "source": [
    "# action function\n",
    "rdd3.reduce(fn)"
   ]
  },
  {
   "cell_type": "code",
   "execution_count": 37,
   "id": "ed87ff1b",
   "metadata": {},
   "outputs": [
    {
     "data": {
      "text/plain": [
       "270"
      ]
     },
     "execution_count": 37,
     "metadata": {},
     "output_type": "execute_result"
    }
   ],
   "source": [
    "rdd3.reduce( lambda a,b: a+b)"
   ]
  },
  {
   "cell_type": "code",
   "execution_count": 38,
   "id": "50f27aad",
   "metadata": {},
   "outputs": [],
   "source": [
    "sc.stop()"
   ]
  }
 ],
 "metadata": {
  "kernelspec": {
   "display_name": "Python 3 (ipykernel)",
   "language": "python",
   "name": "python3"
  },
  "language_info": {
   "codemirror_mode": {
    "name": "ipython",
    "version": 3
   },
   "file_extension": ".py",
   "mimetype": "text/x-python",
   "name": "python",
   "nbconvert_exporter": "python",
   "pygments_lexer": "ipython3",
   "version": "3.9.7"
  }
 },
 "nbformat": 4,
 "nbformat_minor": 5
}
