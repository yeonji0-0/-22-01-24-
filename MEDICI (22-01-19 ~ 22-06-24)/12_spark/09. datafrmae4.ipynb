{
 "cells": [
  {
   "cell_type": "code",
   "execution_count": 5,
   "metadata": {
    "collapsed": true
   },
   "outputs": [
    {
     "name": "stdout",
     "output_type": "stream",
     "text": [
      "Collecting xlrd\n",
      "  Using cached xlrd-1.2.0-py2.py3-none-any.whl (103 kB)\n",
      "Installing collected packages: xlrd\n",
      "Successfully installed xlrd-1.2.0\n"
     ]
    },
    {
     "name": "stderr",
     "output_type": "stream",
     "text": [
      "WARNING: You are using pip version 20.1.1; however, version 20.2.4 is available.\n",
      "You should consider upgrading via the 'c:\\python37\\python.exe -m pip install --upgrade pip' command.\n"
     ]
    }
   ],
   "source": [
    "!pip install xlrd"
   ]
  },
  {
   "cell_type": "code",
   "execution_count": 1,
   "metadata": {},
   "outputs": [],
   "source": [
    "from pyspark import SparkContext\n",
    "from pyspark.sql import SQLContext, Row\n",
    "import pandas as pd\n",
    "\n",
    "from pyspark.sql.functions import when, udf, col, regexp_replace\n",
    "from pyspark.sql.types import DoubleType,IntegerType, StringType\n",
    "import pyspark.sql.functions as func\n",
    "\n",
    "import matplotlib.pyplot as plt"
   ]
  },
  {
   "cell_type": "code",
   "execution_count": 2,
   "metadata": {},
   "outputs": [],
   "source": [
    "sc = SparkContext('local')\n",
    "sqlCtx = SQLContext( sc ) "
   ]
  },
  {
   "cell_type": "code",
   "execution_count": 6,
   "metadata": {
    "collapsed": true
   },
   "outputs": [
    {
     "data": {
      "text/html": [
       "<div>\n",
       "<style scoped>\n",
       "    .dataframe tbody tr th:only-of-type {\n",
       "        vertical-align: middle;\n",
       "    }\n",
       "\n",
       "    .dataframe tbody tr th {\n",
       "        vertical-align: top;\n",
       "    }\n",
       "\n",
       "    .dataframe thead th {\n",
       "        text-align: right;\n",
       "    }\n",
       "</style>\n",
       "<table border=\"1\" class=\"dataframe\">\n",
       "  <thead>\n",
       "    <tr style=\"text-align: right;\">\n",
       "      <th></th>\n",
       "      <th>Unnamed: 0</th>\n",
       "      <th>grade</th>\n",
       "      <th>rate</th>\n",
       "      <th>price</th>\n",
       "    </tr>\n",
       "  </thead>\n",
       "  <tbody>\n",
       "    <tr>\n",
       "      <th>0</th>\n",
       "      <td>호텔1</td>\n",
       "      <td>10</td>\n",
       "      <td>1</td>\n",
       "      <td>9500</td>\n",
       "    </tr>\n",
       "    <tr>\n",
       "      <th>1</th>\n",
       "      <td>호텔2</td>\n",
       "      <td>8</td>\n",
       "      <td>2</td>\n",
       "      <td>8000</td>\n",
       "    </tr>\n",
       "    <tr>\n",
       "      <th>2</th>\n",
       "      <td>호텔3</td>\n",
       "      <td>6</td>\n",
       "      <td>4</td>\n",
       "      <td>6000</td>\n",
       "    </tr>\n",
       "    <tr>\n",
       "      <th>3</th>\n",
       "      <td>호텔4</td>\n",
       "      <td>9</td>\n",
       "      <td>2</td>\n",
       "      <td>8600</td>\n",
       "    </tr>\n",
       "    <tr>\n",
       "      <th>4</th>\n",
       "      <td>호텔5</td>\n",
       "      <td>7</td>\n",
       "      <td>4</td>\n",
       "      <td>7000</td>\n",
       "    </tr>\n",
       "    <tr>\n",
       "      <th>5</th>\n",
       "      <td>호텔6</td>\n",
       "      <td>8</td>\n",
       "      <td>2</td>\n",
       "      <td>8300</td>\n",
       "    </tr>\n",
       "    <tr>\n",
       "      <th>6</th>\n",
       "      <td>호텔7</td>\n",
       "      <td>5</td>\n",
       "      <td>5</td>\n",
       "      <td>5000</td>\n",
       "    </tr>\n",
       "    <tr>\n",
       "      <th>7</th>\n",
       "      <td>호텔8</td>\n",
       "      <td>5</td>\n",
       "      <td>5</td>\n",
       "      <td>5200</td>\n",
       "    </tr>\n",
       "    <tr>\n",
       "      <th>8</th>\n",
       "      <td>호텔9</td>\n",
       "      <td>8</td>\n",
       "      <td>3</td>\n",
       "      <td>8100</td>\n",
       "    </tr>\n",
       "    <tr>\n",
       "      <th>9</th>\n",
       "      <td>호텔10</td>\n",
       "      <td>10</td>\n",
       "      <td>1</td>\n",
       "      <td>9300</td>\n",
       "    </tr>\n",
       "    <tr>\n",
       "      <th>10</th>\n",
       "      <td>호텔11</td>\n",
       "      <td>9</td>\n",
       "      <td>3</td>\n",
       "      <td>8800</td>\n",
       "    </tr>\n",
       "    <tr>\n",
       "      <th>11</th>\n",
       "      <td>호텔12</td>\n",
       "      <td>7</td>\n",
       "      <td>4</td>\n",
       "      <td>7100</td>\n",
       "    </tr>\n",
       "    <tr>\n",
       "      <th>12</th>\n",
       "      <td>호텔13</td>\n",
       "      <td>8</td>\n",
       "      <td>3</td>\n",
       "      <td>8500</td>\n",
       "    </tr>\n",
       "    <tr>\n",
       "      <th>13</th>\n",
       "      <td>호텔14</td>\n",
       "      <td>5</td>\n",
       "      <td>4</td>\n",
       "      <td>5200</td>\n",
       "    </tr>\n",
       "    <tr>\n",
       "      <th>14</th>\n",
       "      <td>호텔15</td>\n",
       "      <td>5</td>\n",
       "      <td>5</td>\n",
       "      <td>3200</td>\n",
       "    </tr>\n",
       "    <tr>\n",
       "      <th>15</th>\n",
       "      <td>호텔16</td>\n",
       "      <td>6</td>\n",
       "      <td>4</td>\n",
       "      <td>6800</td>\n",
       "    </tr>\n",
       "    <tr>\n",
       "      <th>16</th>\n",
       "      <td>호텔17</td>\n",
       "      <td>7</td>\n",
       "      <td>4</td>\n",
       "      <td>7100</td>\n",
       "    </tr>\n",
       "    <tr>\n",
       "      <th>17</th>\n",
       "      <td>호텔18</td>\n",
       "      <td>8</td>\n",
       "      <td>3</td>\n",
       "      <td>8400</td>\n",
       "    </tr>\n",
       "    <tr>\n",
       "      <th>18</th>\n",
       "      <td>호텔19</td>\n",
       "      <td>5</td>\n",
       "      <td>4</td>\n",
       "      <td>2200</td>\n",
       "    </tr>\n",
       "    <tr>\n",
       "      <th>19</th>\n",
       "      <td>호텔20</td>\n",
       "      <td>5</td>\n",
       "      <td>5</td>\n",
       "      <td>4500</td>\n",
       "    </tr>\n",
       "  </tbody>\n",
       "</table>\n",
       "</div>"
      ],
      "text/plain": [
       "   Unnamed: 0  grade  rate  price\n",
       "0         호텔1     10     1   9500\n",
       "1         호텔2      8     2   8000\n",
       "2         호텔3      6     4   6000\n",
       "3         호텔4      9     2   8600\n",
       "4         호텔5      7     4   7000\n",
       "5         호텔6      8     2   8300\n",
       "6         호텔7      5     5   5000\n",
       "7         호텔8      5     5   5200\n",
       "8         호텔9      8     3   8100\n",
       "9        호텔10     10     1   9300\n",
       "10       호텔11      9     3   8800\n",
       "11       호텔12      7     4   7100\n",
       "12       호텔13      8     3   8500\n",
       "13       호텔14      5     4   5200\n",
       "14       호텔15      5     5   3200\n",
       "15       호텔16      6     4   6800\n",
       "16       호텔17      7     4   7100\n",
       "17       호텔18      8     3   8400\n",
       "18       호텔19      5     4   2200\n",
       "19       호텔20      5     5   4500"
      ]
     },
     "execution_count": 6,
     "metadata": {},
     "output_type": "execute_result"
    }
   ],
   "source": [
    "pdf = pd.read_excel( 'data/hotel.xlsx')\n",
    "pdf"
   ]
  },
  {
   "cell_type": "code",
   "execution_count": 7,
   "metadata": {
    "collapsed": true
   },
   "outputs": [
    {
     "name": "stdout",
     "output_type": "stream",
     "text": [
      "+----------+-----+----+-----+\n",
      "|Unnamed: 0|grade|rate|price|\n",
      "+----------+-----+----+-----+\n",
      "|     호텔1|   10|   1| 9500|\n",
      "|     호텔2|    8|   2| 8000|\n",
      "|     호텔3|    6|   4| 6000|\n",
      "|     호텔4|    9|   2| 8600|\n",
      "|     호텔5|    7|   4| 7000|\n",
      "|     호텔6|    8|   2| 8300|\n",
      "|     호텔7|    5|   5| 5000|\n",
      "|     호텔8|    5|   5| 5200|\n",
      "|     호텔9|    8|   3| 8100|\n",
      "|    호텔10|   10|   1| 9300|\n",
      "|    호텔11|    9|   3| 8800|\n",
      "|    호텔12|    7|   4| 7100|\n",
      "|    호텔13|    8|   3| 8500|\n",
      "|    호텔14|    5|   4| 5200|\n",
      "|    호텔15|    5|   5| 3200|\n",
      "|    호텔16|    6|   4| 6800|\n",
      "|    호텔17|    7|   4| 7100|\n",
      "|    호텔18|    8|   3| 8400|\n",
      "|    호텔19|    5|   4| 2200|\n",
      "|    호텔20|    5|   5| 4500|\n",
      "+----------+-----+----+-----+\n",
      "\n"
     ]
    }
   ],
   "source": [
    "df = sqlCtx.createDataFrame( pdf )\n",
    "df.show()"
   ]
  },
  {
   "cell_type": "code",
   "execution_count": 8,
   "metadata": {
    "collapsed": true
   },
   "outputs": [
    {
     "name": "stdout",
     "output_type": "stream",
     "text": [
      "+---------+-----+----+-----+\n",
      "|hotelname|grade|rate|price|\n",
      "+---------+-----+----+-----+\n",
      "|    호텔1|   10|   1| 9500|\n",
      "|    호텔2|    8|   2| 8000|\n",
      "|    호텔3|    6|   4| 6000|\n",
      "|    호텔4|    9|   2| 8600|\n",
      "|    호텔5|    7|   4| 7000|\n",
      "|    호텔6|    8|   2| 8300|\n",
      "|    호텔7|    5|   5| 5000|\n",
      "|    호텔8|    5|   5| 5200|\n",
      "|    호텔9|    8|   3| 8100|\n",
      "|   호텔10|   10|   1| 9300|\n",
      "|   호텔11|    9|   3| 8800|\n",
      "|   호텔12|    7|   4| 7100|\n",
      "|   호텔13|    8|   3| 8500|\n",
      "|   호텔14|    5|   4| 5200|\n",
      "|   호텔15|    5|   5| 3200|\n",
      "|   호텔16|    6|   4| 6800|\n",
      "|   호텔17|    7|   4| 7100|\n",
      "|   호텔18|    8|   3| 8400|\n",
      "|   호텔19|    5|   4| 2200|\n",
      "|   호텔20|    5|   5| 4500|\n",
      "+---------+-----+----+-----+\n",
      "\n"
     ]
    }
   ],
   "source": [
    "df = df.withColumnRenamed('Unnamed: 0','hotelname')\n",
    "df.show()"
   ]
  },
  {
   "cell_type": "code",
   "execution_count": 12,
   "metadata": {
    "collapsed": true
   },
   "outputs": [
    {
     "name": "stdout",
     "output_type": "stream",
     "text": [
      "+-----+----------+---------+----------+\n",
      "|grade|sum(grade)|sum(rate)|sum(price)|\n",
      "+-----+----------+---------+----------+\n",
      "|    7|        21|       12|     21200|\n",
      "|    6|        12|        8|     12800|\n",
      "|    9|        18|        5|     17400|\n",
      "|    5|        30|       28|     25300|\n",
      "|   10|        20|        2|     18800|\n",
      "|    8|        40|       13|     41300|\n",
      "+-----+----------+---------+----------+\n",
      "\n"
     ]
    }
   ],
   "source": [
    "#sum, count, min, max, avg, agg\n",
    "df.groupBy('grade').sum().show()"
   ]
  },
  {
   "cell_type": "code",
   "execution_count": 15,
   "metadata": {
    "collapsed": true
   },
   "outputs": [
    {
     "name": "stdout",
     "output_type": "stream",
     "text": [
      "+-----+---------+----------+\n",
      "|grade|sum(rate)|sum(price)|\n",
      "+-----+---------+----------+\n",
      "|    7|       12|     21200|\n",
      "|    6|        8|     12800|\n",
      "|    9|        5|     17400|\n",
      "|    5|       28|     25300|\n",
      "|   10|        2|     18800|\n",
      "|    8|       13|     41300|\n",
      "+-----+---------+----------+\n",
      "\n"
     ]
    }
   ],
   "source": [
    "df.groupBy('grade').sum('rate','price').show()"
   ]
  },
  {
   "cell_type": "code",
   "execution_count": 16,
   "metadata": {
    "collapsed": true
   },
   "outputs": [
    {
     "name": "stdout",
     "output_type": "stream",
     "text": [
      "+-----+-----------------+\n",
      "|grade|       avg(price)|\n",
      "+-----+-----------------+\n",
      "|    7|7066.666666666667|\n",
      "|    6|           6400.0|\n",
      "|    9|           8700.0|\n",
      "|    5|4216.666666666667|\n",
      "|   10|           9400.0|\n",
      "|    8|           8260.0|\n",
      "+-----+-----------------+\n",
      "\n"
     ]
    }
   ],
   "source": [
    "df.groupBy('grade').avg('price').show()"
   ]
  },
  {
   "cell_type": "code",
   "execution_count": 17,
   "metadata": {
    "collapsed": true
   },
   "outputs": [
    {
     "name": "stdout",
     "output_type": "stream",
     "text": [
      "+-----+----------+\n",
      "|grade|max(price)|\n",
      "+-----+----------+\n",
      "|    7|      7100|\n",
      "|    6|      6800|\n",
      "|    9|      8800|\n",
      "|    5|      5200|\n",
      "|   10|      9500|\n",
      "|    8|      8500|\n",
      "+-----+----------+\n",
      "\n"
     ]
    }
   ],
   "source": [
    "df.groupBy('grade').max('price').show()"
   ]
  },
  {
   "cell_type": "code",
   "execution_count": 20,
   "metadata": {
    "collapsed": true
   },
   "outputs": [
    {
     "name": "stdout",
     "output_type": "stream",
     "text": [
      "+-----+----------+\n",
      "|grade|min(price)|\n",
      "+-----+----------+\n",
      "|    5|      2200|\n",
      "|    6|      6000|\n",
      "|    7|      7000|\n",
      "|    8|      8000|\n",
      "|    9|      8600|\n",
      "|   10|      9300|\n",
      "+-----+----------+\n",
      "\n"
     ]
    }
   ],
   "source": [
    "df.groupBy('grade').min('price').orderBy('grade').show()"
   ]
  },
  {
   "cell_type": "code",
   "execution_count": 22,
   "metadata": {},
   "outputs": [
    {
     "name": "stdout",
     "output_type": "stream",
     "text": [
      "+-----+--------+--------+\n",
      "|grade|priceSum|priceMax|\n",
      "+-----+--------+--------+\n",
      "|    7|   21200|    7100|\n",
      "|    6|   12800|    6800|\n",
      "|    9|   17400|    8800|\n",
      "|    5|   25300|    5200|\n",
      "|   10|   18800|    9500|\n",
      "|    8|   41300|    8500|\n",
      "+-----+--------+--------+\n",
      "\n"
     ]
    }
   ],
   "source": [
    "df.groupBy('grade').agg( func.sum('price').alias('priceSum'), \n",
    "                        func.max('price').alias('priceMax') ).show()"
   ]
  }
 ],
 "metadata": {
  "kernelspec": {
   "display_name": "Python 3",
   "language": "python",
   "name": "python3"
  },
  "language_info": {
   "codemirror_mode": {
    "name": "ipython",
    "version": 3
   },
   "file_extension": ".py",
   "mimetype": "text/x-python",
   "name": "python",
   "nbconvert_exporter": "python",
   "pygments_lexer": "ipython3",
   "version": "3.7.9"
  }
 },
 "nbformat": 4,
 "nbformat_minor": 4
}
