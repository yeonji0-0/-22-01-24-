{
 "cells": [
  {
   "cell_type": "code",
   "execution_count": 1,
   "metadata": {},
   "outputs": [],
   "source": [
    "from pyspark.sql import  SQLContext, Row\n",
    "from pyspark import SparkContext,SparkConf\n",
    "import pandas as pd\n",
    "from pyspark.sql.functions import regexp_extract, regexp_replace, when,udf,col"
   ]
  },
  {
   "cell_type": "code",
   "execution_count": 2,
   "metadata": {},
   "outputs": [],
   "source": [
    "sc = SparkContext('local')\n",
    "sqlCtx = SQLContext( sc )"
   ]
  },
  {
   "cell_type": "code",
   "execution_count": 3,
   "metadata": {},
   "outputs": [],
   "source": [
    "emp =[('홍길동',1),('이순신',2),\n",
    "      ('임꺽정',3),('김철수',3),('김철수1',5)]\n",
    "dept = [('개발',1), ('연구',2),\n",
    "        ('영업',3),('기획',4) ]\n",
    "empA=sqlCtx.createDataFrame( emp, ['name','deptid'] )\n",
    "deptB=sqlCtx.createDataFrame( dept,['deptname','deptid'] )"
   ]
  },
  {
   "cell_type": "code",
   "execution_count": 4,
   "metadata": {},
   "outputs": [
    {
     "name": "stdout",
     "output_type": "stream",
     "text": [
      "+-------+------+\n",
      "|   name|deptid|\n",
      "+-------+------+\n",
      "| 홍길동|     1|\n",
      "| 이순신|     2|\n",
      "| 임꺽정|     3|\n",
      "| 김철수|     3|\n",
      "|김철수1|     5|\n",
      "+-------+------+\n",
      "\n"
     ]
    }
   ],
   "source": [
    "empA.show()"
   ]
  },
  {
   "cell_type": "code",
   "execution_count": 5,
   "metadata": {},
   "outputs": [
    {
     "name": "stdout",
     "output_type": "stream",
     "text": [
      "+--------+------+\n",
      "|deptname|deptid|\n",
      "+--------+------+\n",
      "|    개발|     1|\n",
      "|    연구|     2|\n",
      "|    영업|     3|\n",
      "|    기획|     4|\n",
      "+--------+------+\n",
      "\n"
     ]
    }
   ],
   "source": [
    "deptB.show()"
   ]
  },
  {
   "cell_type": "code",
   "execution_count": 6,
   "metadata": {
    "collapsed": true
   },
   "outputs": [
    {
     "name": "stdout",
     "output_type": "stream",
     "text": [
      "+------+------+--------+\n",
      "|deptid|  name|deptname|\n",
      "+------+------+--------+\n",
      "|     1|홍길동|    개발|\n",
      "|     3|임꺽정|    영업|\n",
      "|     3|김철수|    영업|\n",
      "|     2|이순신|    연구|\n",
      "+------+------+--------+\n",
      "\n"
     ]
    }
   ],
   "source": [
    "empA.join( deptB, on=['deptid'] ).show() #inner join..."
   ]
  },
  {
   "cell_type": "code",
   "execution_count": 7,
   "metadata": {
    "collapsed": true
   },
   "outputs": [
    {
     "name": "stdout",
     "output_type": "stream",
     "text": [
      "+------+------+--------+\n",
      "|deptid|  name|deptname|\n",
      "+------+------+--------+\n",
      "|     1|홍길동|    개발|\n",
      "|     3|임꺽정|    영업|\n",
      "|     3|김철수|    영업|\n",
      "|     2|이순신|    연구|\n",
      "+------+------+--------+\n",
      "\n"
     ]
    }
   ],
   "source": [
    "empA.join( deptB, on=['deptid'],how='inner').show()"
   ]
  },
  {
   "cell_type": "code",
   "execution_count": 8,
   "metadata": {
    "collapsed": true
   },
   "outputs": [
    {
     "name": "stdout",
     "output_type": "stream",
     "text": [
      "+------+-------+--------+\n",
      "|deptid|   name|deptname|\n",
      "+------+-------+--------+\n",
      "|     5|김철수1|    null|\n",
      "|     1| 홍길동|    개발|\n",
      "|     3| 임꺽정|    영업|\n",
      "|     3| 김철수|    영업|\n",
      "|     2| 이순신|    연구|\n",
      "+------+-------+--------+\n",
      "\n"
     ]
    }
   ],
   "source": [
    "empA.join( deptB, on=['deptid'],how='left').show()"
   ]
  },
  {
   "cell_type": "code",
   "execution_count": 9,
   "metadata": {
    "collapsed": true
   },
   "outputs": [
    {
     "name": "stdout",
     "output_type": "stream",
     "text": [
      "+------+------+--------+\n",
      "|deptid|  name|deptname|\n",
      "+------+------+--------+\n",
      "|     1|홍길동|    개발|\n",
      "|     3|임꺽정|    영업|\n",
      "|     3|김철수|    영업|\n",
      "|     2|이순신|    연구|\n",
      "|     4|  null|    기획|\n",
      "+------+------+--------+\n",
      "\n"
     ]
    }
   ],
   "source": [
    "empA.join( deptB, on=['deptid'],how='right').show()"
   ]
  },
  {
   "cell_type": "code",
   "execution_count": 10,
   "metadata": {
    "collapsed": true
   },
   "outputs": [
    {
     "name": "stdout",
     "output_type": "stream",
     "text": [
      "+------+-------+--------+\n",
      "|deptid|   name|deptname|\n",
      "+------+-------+--------+\n",
      "|     5|김철수1|    null|\n",
      "|     1| 홍길동|    개발|\n",
      "|     3| 임꺽정|    영업|\n",
      "|     3| 김철수|    영업|\n",
      "|     2| 이순신|    연구|\n",
      "|     4|   null|    기획|\n",
      "+------+-------+--------+\n",
      "\n"
     ]
    }
   ],
   "source": [
    "empA.join( deptB, on=['deptid'],how='full').show()"
   ]
  },
  {
   "cell_type": "code",
   "execution_count": 11,
   "metadata": {},
   "outputs": [],
   "source": [
    "# name, id\n",
    "testA = [('A',1),('B',2),('C',3),('D',4)]\n",
    "# name, myid\n",
    "testB = [('E',1),('A',2),('C',3),('F',4)]\n",
    "#spark데이터프레임을 만들고\n",
    "#inner, left, right, full join 을 테스트하시요"
   ]
  },
  {
   "cell_type": "code",
   "execution_count": 12,
   "metadata": {},
   "outputs": [
    {
     "name": "stdout",
     "output_type": "stream",
     "text": [
      "+----+---+\n",
      "|name| id|\n",
      "+----+---+\n",
      "|   A|  1|\n",
      "|   B|  2|\n",
      "|   C|  3|\n",
      "|   D|  4|\n",
      "+----+---+\n",
      "\n",
      "+----+----+\n",
      "|name|myid|\n",
      "+----+----+\n",
      "|   E|   1|\n",
      "|   A|   2|\n",
      "|   C|   3|\n",
      "|   F|   4|\n",
      "+----+----+\n",
      "\n"
     ]
    }
   ],
   "source": [
    "testAA = sqlCtx.createDataFrame( testA, ['name','id'] )\n",
    "testBB = sqlCtx.createDataFrame( testB,['name', 'myid'] )\n",
    "testAA.show()\n",
    "testBB.show()"
   ]
  },
  {
   "cell_type": "code",
   "execution_count": 13,
   "metadata": {},
   "outputs": [
    {
     "name": "stdout",
     "output_type": "stream",
     "text": [
      "+----+---+----+\n",
      "|name| id|myid|\n",
      "+----+---+----+\n",
      "|   C|  3|   3|\n",
      "|   A|  1|   2|\n",
      "+----+---+----+\n",
      "\n"
     ]
    }
   ],
   "source": [
    "testAA.join( testBB, on=['name'],how='inner').show()"
   ]
  },
  {
   "cell_type": "code",
   "execution_count": 14,
   "metadata": {},
   "outputs": [
    {
     "name": "stdout",
     "output_type": "stream",
     "text": [
      "+----+---+----+\n",
      "|name| id|myid|\n",
      "+----+---+----+\n",
      "|   B|  2|null|\n",
      "|   D|  4|null|\n",
      "|   C|  3|   3|\n",
      "|   A|  1|   2|\n",
      "+----+---+----+\n",
      "\n"
     ]
    }
   ],
   "source": [
    "testAA.join( testBB, on=['name'],how='left').show()"
   ]
  },
  {
   "cell_type": "code",
   "execution_count": 15,
   "metadata": {},
   "outputs": [
    {
     "name": "stdout",
     "output_type": "stream",
     "text": [
      "+----+----+----+\n",
      "|name|  id|myid|\n",
      "+----+----+----+\n",
      "|   F|null|   4|\n",
      "|   E|null|   1|\n",
      "|   C|   3|   3|\n",
      "|   A|   1|   2|\n",
      "+----+----+----+\n",
      "\n"
     ]
    }
   ],
   "source": [
    "testAA.join( testBB, on=['name'],how='right').show()"
   ]
  },
  {
   "cell_type": "code",
   "execution_count": 16,
   "metadata": {},
   "outputs": [
    {
     "name": "stdout",
     "output_type": "stream",
     "text": [
      "+----+----+----+\n",
      "|name|  id|myid|\n",
      "+----+----+----+\n",
      "|   F|null|   4|\n",
      "|   E|null|   1|\n",
      "|   B|   2|null|\n",
      "|   D|   4|null|\n",
      "|   C|   3|   3|\n",
      "|   A|   1|   2|\n",
      "+----+----+----+\n",
      "\n"
     ]
    }
   ],
   "source": [
    "testAA.join( testBB, on=['name'],how='full').show()"
   ]
  },
  {
   "cell_type": "code",
   "execution_count": 18,
   "metadata": {},
   "outputs": [
    {
     "name": "stdout",
     "output_type": "stream",
     "text": [
      "+----+---+----+\n",
      "|name| id|myid|\n",
      "+----+---+----+\n",
      "|   F| 10|   4|\n",
      "|   E| 10|   1|\n",
      "|   B|  2|  10|\n",
      "|   D|  4|  10|\n",
      "|   C|  3|   3|\n",
      "|   A|  1|   2|\n",
      "+----+---+----+\n",
      "\n"
     ]
    }
   ],
   "source": [
    "dd = testAA.join( testBB, on=['name'],how='full')\n",
    "dd.fillna(10).show()"
   ]
  },
  {
   "cell_type": "code",
   "execution_count": 20,
   "metadata": {
    "scrolled": true
   },
   "outputs": [
    {
     "name": "stdout",
     "output_type": "stream",
     "text": [
      "+----+---+----+\n",
      "|name| id|myid|\n",
      "+----+---+----+\n",
      "|   C|  3|   3|\n",
      "|   A|  1|   2|\n",
      "+----+---+----+\n",
      "\n"
     ]
    }
   ],
   "source": [
    "dd = testAA.join( testBB, on=['name'],how='full')\n",
    "dd.dropna().show()"
   ]
  },
  {
   "cell_type": "code",
   "execution_count": 21,
   "metadata": {},
   "outputs": [
    {
     "name": "stdout",
     "output_type": "stream",
     "text": [
      "+----+---+\n",
      "|name| id|\n",
      "+----+---+\n",
      "|   A|  1|\n",
      "|   B|  2|\n",
      "|   C|  3|\n",
      "|   D|  4|\n",
      "|   E|  1|\n",
      "|   A|  2|\n",
      "|   C|  3|\n",
      "|   F|  4|\n",
      "+----+---+\n",
      "\n"
     ]
    }
   ],
   "source": [
    "testAA.unionAll( testBB ).show()"
   ]
  }
 ],
 "metadata": {
  "kernelspec": {
   "display_name": "Python 3",
   "language": "python",
   "name": "python3"
  },
  "language_info": {
   "codemirror_mode": {
    "name": "ipython",
    "version": 3
   },
   "file_extension": ".py",
   "mimetype": "text/x-python",
   "name": "python",
   "nbconvert_exporter": "python",
   "pygments_lexer": "ipython3",
   "version": "3.7.9"
  }
 },
 "nbformat": 4,
 "nbformat_minor": 4
}
