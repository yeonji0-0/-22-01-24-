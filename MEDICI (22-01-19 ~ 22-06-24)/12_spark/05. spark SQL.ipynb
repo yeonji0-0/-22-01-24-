{
 "cells": [
  {
   "cell_type": "code",
   "execution_count": 2,
   "id": "4b8bfe1e",
   "metadata": {},
   "outputs": [],
   "source": [
    "from pyspark import SparkContext\n",
    "from pyspark.sql import SQLContext, Row\n",
    "import pandas as pd\n",
    "import numpy as np"
   ]
  },
  {
   "cell_type": "code",
   "execution_count": 3,
   "id": "f9fe66df",
   "metadata": {},
   "outputs": [
    {
     "name": "stderr",
     "output_type": "stream",
     "text": [
      "22/04/27 16:41:28 WARN Utils: Your hostname, mobile-virtual-machine resolves to a loopback address: 127.0.1.1; using 192.168.41.128 instead (on interface ens33)\n",
      "22/04/27 16:41:28 WARN Utils: Set SPARK_LOCAL_IP if you need to bind to another address\n",
      "22/04/27 16:41:28 WARN NativeCodeLoader: Unable to load native-hadoop library for your platform... using builtin-java classes where applicable\n",
      "Using Spark's default log4j profile: org/apache/spark/log4j-defaults.properties\n",
      "Setting default log level to \"WARN\".\n",
      "To adjust logging level use sc.setLogLevel(newLevel). For SparkR, use setLogLevel(newLevel).\n"
     ]
    }
   ],
   "source": [
    "sc = SparkContext( 'local' )\n",
    "sqlCtx = SQLContext( sc )"
   ]
  },
  {
   "cell_type": "code",
   "execution_count": 3,
   "id": "dae58014",
   "metadata": {},
   "outputs": [],
   "source": [
    "emp =[('홍길동',1),('이순신',2),\n",
    "      ('임꺽정',3),('김철수',3),('김철수1',5)]\n",
    "dept = [('개발',1), ('연구',2),\n",
    "        ('영업',3),('기획',4) ]"
   ]
  },
  {
   "cell_type": "code",
   "execution_count": 4,
   "id": "a0e0f9fb",
   "metadata": {},
   "outputs": [
    {
     "data": {
      "text/plain": [
       "ParallelCollectionRDD[0] at readRDDFromFile at PythonRDD.scala:262"
      ]
     },
     "execution_count": 4,
     "metadata": {},
     "output_type": "execute_result"
    }
   ],
   "source": [
    "empRdd = sc.parallelize( emp )\n",
    "empRdd"
   ]
  },
  {
   "cell_type": "code",
   "execution_count": 5,
   "id": "07b38d93",
   "metadata": {},
   "outputs": [
    {
     "name": "stderr",
     "output_type": "stream",
     "text": [
      "                                                                                \r"
     ]
    },
    {
     "data": {
      "text/plain": [
       "[('홍길동', 1), ('이순신', 2), ('임꺽정', 3), ('김철수', 3), ('김철수1', 5)]"
      ]
     },
     "execution_count": 5,
     "metadata": {},
     "output_type": "execute_result"
    }
   ],
   "source": [
    "empRdd.collect()"
   ]
  },
  {
   "cell_type": "markdown",
   "id": "10952e70",
   "metadata": {},
   "source": [
    "### rdd 데이터프레임으로 변환"
   ]
  },
  {
   "cell_type": "code",
   "execution_count": 12,
   "id": "f9d8d8bd",
   "metadata": {},
   "outputs": [],
   "source": [
    "empDF = empRdd.toDF(['name','deptid']) #분산데이터프레임 파이썬 데이터프레임 아님"
   ]
  },
  {
   "cell_type": "code",
   "execution_count": 13,
   "id": "21fc4109",
   "metadata": {},
   "outputs": [
    {
     "data": {
      "text/plain": [
       "DataFrame[name: string, deptid: bigint]"
      ]
     },
     "execution_count": 13,
     "metadata": {},
     "output_type": "execute_result"
    }
   ],
   "source": [
    "empDF"
   ]
  },
  {
   "cell_type": "code",
   "execution_count": 15,
   "id": "9e0d64db",
   "metadata": {},
   "outputs": [
    {
     "name": "stdout",
     "output_type": "stream",
     "text": [
      "root\n",
      " |-- name: string (nullable = true)\n",
      " |-- deptid: long (nullable = true)\n",
      "\n"
     ]
    }
   ],
   "source": [
    "empDF.printSchema()"
   ]
  },
  {
   "cell_type": "code",
   "execution_count": 14,
   "id": "ef243127",
   "metadata": {},
   "outputs": [
    {
     "name": "stdout",
     "output_type": "stream",
     "text": [
      "+-------+------+\n",
      "|   name|deptid|\n",
      "+-------+------+\n",
      "| 홍길동|     1|\n",
      "| 이순신|     2|\n",
      "| 임꺽정|     3|\n",
      "| 김철수|     3|\n",
      "|김철수1|     5|\n",
      "+-------+------+\n",
      "\n"
     ]
    }
   ],
   "source": [
    "empDF.show()"
   ]
  },
  {
   "cell_type": "code",
   "execution_count": 17,
   "id": "32f333d5",
   "metadata": {},
   "outputs": [
    {
     "data": {
      "text/html": [
       "<div>\n",
       "<style scoped>\n",
       "    .dataframe tbody tr th:only-of-type {\n",
       "        vertical-align: middle;\n",
       "    }\n",
       "\n",
       "    .dataframe tbody tr th {\n",
       "        vertical-align: top;\n",
       "    }\n",
       "\n",
       "    .dataframe thead th {\n",
       "        text-align: right;\n",
       "    }\n",
       "</style>\n",
       "<table border=\"1\" class=\"dataframe\">\n",
       "  <thead>\n",
       "    <tr style=\"text-align: right;\">\n",
       "      <th></th>\n",
       "      <th>name</th>\n",
       "      <th>deptid</th>\n",
       "    </tr>\n",
       "  </thead>\n",
       "  <tbody>\n",
       "    <tr>\n",
       "      <th>0</th>\n",
       "      <td>홍길동</td>\n",
       "      <td>1</td>\n",
       "    </tr>\n",
       "    <tr>\n",
       "      <th>1</th>\n",
       "      <td>이순신</td>\n",
       "      <td>2</td>\n",
       "    </tr>\n",
       "    <tr>\n",
       "      <th>2</th>\n",
       "      <td>임꺽정</td>\n",
       "      <td>3</td>\n",
       "    </tr>\n",
       "    <tr>\n",
       "      <th>3</th>\n",
       "      <td>김철수</td>\n",
       "      <td>3</td>\n",
       "    </tr>\n",
       "    <tr>\n",
       "      <th>4</th>\n",
       "      <td>김철수1</td>\n",
       "      <td>5</td>\n",
       "    </tr>\n",
       "  </tbody>\n",
       "</table>\n",
       "</div>"
      ],
      "text/plain": [
       "   name  deptid\n",
       "0   홍길동       1\n",
       "1   이순신       2\n",
       "2   임꺽정       3\n",
       "3   김철수       3\n",
       "4  김철수1       5"
      ]
     },
     "execution_count": 17,
     "metadata": {},
     "output_type": "execute_result"
    }
   ],
   "source": [
    "pdf = empDF.toPandas() #판다스 데이터프레임 객체를 반환 (주의요망!)\n",
    "pdf"
   ]
  },
  {
   "cell_type": "code",
   "execution_count": null,
   "id": "f3af2e44",
   "metadata": {},
   "outputs": [],
   "source": [
    "# sql : standard\n",
    "# plus (function)\n",
    "# hive sqlg"
   ]
  },
  {
   "cell_type": "code",
   "execution_count": 18,
   "id": "2b94a5a1",
   "metadata": {},
   "outputs": [],
   "source": [
    "empDF.createOrReplaceTempView('empt')"
   ]
  },
  {
   "cell_type": "code",
   "execution_count": 20,
   "id": "9064d375",
   "metadata": {},
   "outputs": [
    {
     "name": "stdout",
     "output_type": "stream",
     "text": [
      "+-------+------+\n",
      "|   name|deptid|\n",
      "+-------+------+\n",
      "| 홍길동|     1|\n",
      "| 이순신|     2|\n",
      "| 임꺽정|     3|\n",
      "| 김철수|     3|\n",
      "|김철수1|     5|\n",
      "+-------+------+\n",
      "\n"
     ]
    }
   ],
   "source": [
    "sql = 'select * from empt'\n",
    "sqlDF = sqlCtx.sql( sql)\n",
    "sqlDF.show() #shift + tab"
   ]
  },
  {
   "cell_type": "code",
   "execution_count": 35,
   "id": "dcab234d",
   "metadata": {},
   "outputs": [
    {
     "name": "stdout",
     "output_type": "stream",
     "text": [
      "+------+------+\n",
      "|  name|deptid|\n",
      "+------+------+\n",
      "|홍길동|     1|\n",
      "|이순신|     2|\n",
      "+------+------+\n",
      "\n"
     ]
    }
   ],
   "source": [
    "sql = 'select * from empt limit 2'\n",
    "sqlDF = sqlCtx.sql( sql)\n",
    "sqlDF.show()"
   ]
  },
  {
   "cell_type": "code",
   "execution_count": 24,
   "id": "87fe8319",
   "metadata": {},
   "outputs": [
    {
     "name": "stdout",
     "output_type": "stream",
     "text": [
      "+-------+\n",
      "|   name|\n",
      "+-------+\n",
      "| 홍길동|\n",
      "| 이순신|\n",
      "| 임꺽정|\n",
      "| 김철수|\n",
      "|김철수1|\n",
      "+-------+\n",
      "\n"
     ]
    }
   ],
   "source": [
    "sql = 'select name from empt'\n",
    "sqlDF = sqlCtx.sql( sql)\n",
    "sqlDF.show()"
   ]
  },
  {
   "cell_type": "code",
   "execution_count": 21,
   "id": "e38feea4",
   "metadata": {},
   "outputs": [
    {
     "name": "stdout",
     "output_type": "stream",
     "text": [
      "+------+------+\n",
      "|  name|deptid|\n",
      "+------+------+\n",
      "|임꺽정|     3|\n",
      "|김철수|     3|\n",
      "+------+------+\n",
      "\n"
     ]
    }
   ],
   "source": [
    "sql = 'select * from empt where deptid=3'\n",
    "sqlDF = sqlCtx.sql( sql)\n",
    "sqlDF.show()"
   ]
  },
  {
   "cell_type": "code",
   "execution_count": 22,
   "id": "dd7baae9",
   "metadata": {},
   "outputs": [
    {
     "name": "stdout",
     "output_type": "stream",
     "text": [
      "+-------+------+\n",
      "|   name|deptid|\n",
      "+-------+------+\n",
      "| 임꺽정|     3|\n",
      "| 김철수|     3|\n",
      "|김철수1|     5|\n",
      "+-------+------+\n",
      "\n"
     ]
    }
   ],
   "source": [
    "sql = \"select name,deptid from empt where deptid > 2\"\n",
    "sqlDF = sqlCtx.sql( sql)\n",
    "sqlDF.show()"
   ]
  },
  {
   "cell_type": "code",
   "execution_count": 23,
   "id": "80b754ea",
   "metadata": {},
   "outputs": [
    {
     "name": "stdout",
     "output_type": "stream",
     "text": [
      "+------+------+\n",
      "|  name|deptid|\n",
      "+------+------+\n",
      "|이순신|     2|\n",
      "|임꺽정|     3|\n",
      "|김철수|     3|\n",
      "+------+------+\n",
      "\n"
     ]
    }
   ],
   "source": [
    "sql = \"select name,deptid from empt where deptid=2 or deptid=3\"\n",
    "sqlDF = sqlCtx.sql( sql)\n",
    "sqlDF.show()"
   ]
  },
  {
   "cell_type": "code",
   "execution_count": 25,
   "id": "f5e68b91",
   "metadata": {},
   "outputs": [
    {
     "name": "stdout",
     "output_type": "stream",
     "text": [
      "+------+------+\n",
      "|  name|deptid|\n",
      "+------+------+\n",
      "|홍길동|     1|\n",
      "|이순신|     2|\n",
      "|임꺽정|     3|\n",
      "|김철수|     3|\n",
      "+------+------+\n",
      "\n"
     ]
    }
   ],
   "source": [
    "sql = \"select name,deptid from empt where deptid in(1,2,3)\"\n",
    "sqlDF = sqlCtx.sql( sql)\n",
    "sqlDF.show()"
   ]
  },
  {
   "cell_type": "code",
   "execution_count": 26,
   "id": "eaf98d18",
   "metadata": {},
   "outputs": [
    {
     "name": "stdout",
     "output_type": "stream",
     "text": [
      "+------+------+\n",
      "|  name|deptid|\n",
      "+------+------+\n",
      "|이순신|     2|\n",
      "|임꺽정|     3|\n",
      "|김철수|     3|\n",
      "+------+------+\n",
      "\n"
     ]
    }
   ],
   "source": [
    "sql = \"select name,deptid from empt where deptid>=2 and deptid<=4\"\n",
    "sqlDF = sqlCtx.sql( sql)\n",
    "sqlDF.show()"
   ]
  },
  {
   "cell_type": "code",
   "execution_count": 27,
   "id": "354787fe",
   "metadata": {},
   "outputs": [
    {
     "name": "stdout",
     "output_type": "stream",
     "text": [
      "+------+------+\n",
      "|  name|deptid|\n",
      "+------+------+\n",
      "|이순신|     2|\n",
      "|임꺽정|     3|\n",
      "|김철수|     3|\n",
      "+------+------+\n",
      "\n"
     ]
    }
   ],
   "source": [
    "sql = \"select name,deptid from empt where deptid between 2 and 4\"\n",
    "sqlDF = sqlCtx.sql( sql)\n",
    "sqlDF.show()"
   ]
  },
  {
   "cell_type": "code",
   "execution_count": 28,
   "id": "856bd10c",
   "metadata": {},
   "outputs": [
    {
     "name": "stdout",
     "output_type": "stream",
     "text": [
      "+------+------+\n",
      "|  name|deptid|\n",
      "+------+------+\n",
      "|이순신|     2|\n",
      "+------+------+\n",
      "\n"
     ]
    }
   ],
   "source": [
    "sql = \"select name,deptid from empt where name='이순신'\"\n",
    "sqlDF = sqlCtx.sql( sql)\n",
    "sqlDF.show()"
   ]
  },
  {
   "cell_type": "code",
   "execution_count": 29,
   "id": "03cc7754",
   "metadata": {},
   "outputs": [
    {
     "name": "stdout",
     "output_type": "stream",
     "text": [
      "+-------+------+\n",
      "|   name|deptid|\n",
      "+-------+------+\n",
      "| 김철수|     3|\n",
      "|김철수1|     5|\n",
      "+-------+------+\n",
      "\n"
     ]
    }
   ],
   "source": [
    "sql = \"select name,deptid from empt where name like '%김%'\"\n",
    "sqlDF = sqlCtx.sql( sql)\n",
    "sqlDF.show()"
   ]
  },
  {
   "cell_type": "code",
   "execution_count": 30,
   "id": "62d1cbe5",
   "metadata": {},
   "outputs": [
    {
     "name": "stdout",
     "output_type": "stream",
     "text": [
      "+-------+------+\n",
      "|   name|deptid|\n",
      "+-------+------+\n",
      "| 김철수|     3|\n",
      "|김철수1|     5|\n",
      "+-------+------+\n",
      "\n"
     ]
    }
   ],
   "source": [
    "sql = \"select name,deptid from empt where name rlike '김'\"\n",
    "sqlDF = sqlCtx.sql( sql)\n",
    "sqlDF.show()"
   ]
  },
  {
   "cell_type": "code",
   "execution_count": 32,
   "id": "a56a3dcf",
   "metadata": {},
   "outputs": [
    {
     "name": "stdout",
     "output_type": "stream",
     "text": [
      "+-------+------+\n",
      "|   name|deptid|\n",
      "+-------+------+\n",
      "| 김철수|     3|\n",
      "|김철수1|     5|\n",
      "+-------+------+\n",
      "\n"
     ]
    }
   ],
   "source": [
    "sql = \"select name,deptid from empt where name rlike '^김'\"\n",
    "sqlDF = sqlCtx.sql( sql)\n",
    "sqlDF.show()"
   ]
  },
  {
   "cell_type": "code",
   "execution_count": 31,
   "id": "3b5e9b7c",
   "metadata": {},
   "outputs": [
    {
     "name": "stdout",
     "output_type": "stream",
     "text": [
      "+------+------+\n",
      "|  name|deptid|\n",
      "+------+------+\n",
      "|김철수|     3|\n",
      "+------+------+\n",
      "\n"
     ]
    }
   ],
   "source": [
    "sql = \"select name,deptid from empt where name rlike '수$'\"\n",
    "sqlDF = sqlCtx.sql( sql)\n",
    "sqlDF.show()"
   ]
  },
  {
   "cell_type": "code",
   "execution_count": 34,
   "id": "db6a0d09",
   "metadata": {},
   "outputs": [
    {
     "name": "stdout",
     "output_type": "stream",
     "text": [
      "+-------+------+\n",
      "|   name|deptid|\n",
      "+-------+------+\n",
      "| 홍길동|     1|\n",
      "| 김철수|     3|\n",
      "|김철수1|     5|\n",
      "+-------+------+\n",
      "\n"
     ]
    }
   ],
   "source": [
    "sql = \"select name,deptid from empt where name rlike '[김홍]'\" # 김 or 홍\n",
    "sqlDF = sqlCtx.sql( sql)\n",
    "sqlDF.show()"
   ]
  },
  {
   "cell_type": "code",
   "execution_count": 36,
   "id": "c2183b75",
   "metadata": {},
   "outputs": [
    {
     "name": "stdout",
     "output_type": "stream",
     "text": [
      "+-------+------+--------+\n",
      "|   name|deptid|deptplus|\n",
      "+-------+------+--------+\n",
      "| 홍길동|     1|       2|\n",
      "| 이순신|     2|       4|\n",
      "| 임꺽정|     3|       6|\n",
      "| 김철수|     3|       6|\n",
      "|김철수1|     5|      10|\n",
      "+-------+------+--------+\n",
      "\n"
     ]
    }
   ],
   "source": [
    "sql = \"select name,deptid, deptid*2 as deptplus from empt\" \n",
    "sqlDF = sqlCtx.sql( sql)\n",
    "sqlDF.show()"
   ]
  },
  {
   "cell_type": "code",
   "execution_count": 38,
   "id": "92455bf7",
   "metadata": {},
   "outputs": [
    {
     "name": "stdout",
     "output_type": "stream",
     "text": [
      "+-------+------+-------+\n",
      "|   name|deptid|deptcon|\n",
      "+-------+------+-------+\n",
      "| 홍길동|     1|   적음|\n",
      "| 이순신|     2|   적음|\n",
      "| 임꺽정|     3|   보통|\n",
      "| 김철수|     3|   보통|\n",
      "|김철수1|     5|   많음|\n",
      "+-------+------+-------+\n",
      "\n"
     ]
    }
   ],
   "source": [
    "sql = '''select name, deptid,\n",
    "case\n",
    "when deptid>4 then '많음'\n",
    "when deptid>=3 then '보통'\n",
    "else '적음'\n",
    "end as deptcon\n",
    "from empt'''\n",
    "sqlDF = sqlCtx.sql( sql )\n",
    "sqlDF.show()"
   ]
  },
  {
   "cell_type": "markdown",
   "id": "23612fa2",
   "metadata": {},
   "source": [
    "### 집계함수\n",
    "#### 집계( max, min, avg, sum, count) 함수(숫자타입)\n",
    "###  https://cwiki.apache.org/confluence/display/hive/languagemanual+udf\n"
   ]
  },
  {
   "cell_type": "code",
   "execution_count": 39,
   "id": "07d9b226",
   "metadata": {},
   "outputs": [
    {
     "name": "stdout",
     "output_type": "stream",
     "text": [
      "+-----------+\n",
      "|max(deptid)|\n",
      "+-----------+\n",
      "|          5|\n",
      "+-----------+\n",
      "\n"
     ]
    }
   ],
   "source": [
    "sql = \"select max(deptid) from empt\"\n",
    "sqlDF = sqlCtx.sql( sql )\n",
    "sqlDF.show()"
   ]
  },
  {
   "cell_type": "code",
   "execution_count": 48,
   "id": "e4db7d28",
   "metadata": {},
   "outputs": [
    {
     "name": "stdout",
     "output_type": "stream",
     "text": [
      "+-----------+\n",
      "|sum(deptid)|\n",
      "+-----------+\n",
      "|         14|\n",
      "+-----------+\n",
      "\n"
     ]
    }
   ],
   "source": [
    "sql = \"select sum(deptid) from empt\"\n",
    "sqlDF = sqlCtx.sql( sql )\n",
    "sqlDF.show()"
   ]
  },
  {
   "cell_type": "code",
   "execution_count": 40,
   "id": "5b83e6af",
   "metadata": {},
   "outputs": [
    {
     "name": "stdout",
     "output_type": "stream",
     "text": [
      "+-----------+\n",
      "|avg(deptid)|\n",
      "+-----------+\n",
      "|        2.8|\n",
      "+-----------+\n",
      "\n"
     ]
    }
   ],
   "source": [
    "sql = \"select avg(deptid) from empt\"\n",
    "sqlDF = sqlCtx.sql( sql )\n",
    "sqlDF.show()"
   ]
  },
  {
   "cell_type": "code",
   "execution_count": 41,
   "id": "9f54cacf",
   "metadata": {},
   "outputs": [
    {
     "name": "stdout",
     "output_type": "stream",
     "text": [
      "+--------+\n",
      "|count(1)|\n",
      "+--------+\n",
      "|       5|\n",
      "+--------+\n",
      "\n"
     ]
    }
   ],
   "source": [
    "sql = \"select count(*) from empt\"\n",
    "sqlDF = sqlCtx.sql( sql )\n",
    "sqlDF.show()"
   ]
  },
  {
   "cell_type": "code",
   "execution_count": 42,
   "id": "6d8f0a65",
   "metadata": {},
   "outputs": [
    {
     "name": "stdout",
     "output_type": "stream",
     "text": [
      "+-----------------------------------+\n",
      "|stddev_samp(CAST(deptid AS DOUBLE))|\n",
      "+-----------------------------------+\n",
      "|                 1.4832396974191326|\n",
      "+-----------------------------------+\n",
      "\n"
     ]
    }
   ],
   "source": [
    "sql = \"select stddev_samp(deptid) from empt\"\n",
    "sqlDF = sqlCtx.sql( sql )\n",
    "sqlDF.show()"
   ]
  },
  {
   "cell_type": "code",
   "execution_count": 43,
   "id": "fcfb41b7",
   "metadata": {},
   "outputs": [
    {
     "name": "stdout",
     "output_type": "stream",
     "text": [
      "+------------+\n",
      "|length(name)|\n",
      "+------------+\n",
      "|           3|\n",
      "|           3|\n",
      "|           3|\n",
      "|           3|\n",
      "|           4|\n",
      "+------------+\n",
      "\n"
     ]
    }
   ],
   "source": [
    "sql = \"select length(name) from empt\"\n",
    "sqlDF = sqlCtx.sql( sql )\n",
    "sqlDF.show()"
   ]
  },
  {
   "cell_type": "code",
   "execution_count": 44,
   "id": "0e62c50c",
   "metadata": {},
   "outputs": [
    {
     "name": "stdout",
     "output_type": "stream",
     "text": [
      "+---------------------------+\n",
      "|substr(name, 2, 2147483647)|\n",
      "+---------------------------+\n",
      "|                       길동|\n",
      "|                       순신|\n",
      "|                       꺽정|\n",
      "|                       철수|\n",
      "|                      철수1|\n",
      "+---------------------------+\n",
      "\n"
     ]
    }
   ],
   "source": [
    "sql = \"select substr(name,2) from empt\"\n",
    "sqlDF = sqlCtx.sql( sql )\n",
    "sqlDF.show()"
   ]
  },
  {
   "cell_type": "code",
   "execution_count": 45,
   "id": "6923b17c",
   "metadata": {},
   "outputs": [
    {
     "name": "stdout",
     "output_type": "stream",
     "text": [
      "+------------------+\n",
      "|substr(name, 2, 2)|\n",
      "+------------------+\n",
      "|              길동|\n",
      "|              순신|\n",
      "|              꺽정|\n",
      "|              철수|\n",
      "|              철수|\n",
      "+------------------+\n",
      "\n"
     ]
    }
   ],
   "source": [
    "sql = \"select substr(name,2,2) from empt\"\n",
    "sqlDF = sqlCtx.sql( sql )\n",
    "sqlDF.show()"
   ]
  },
  {
   "cell_type": "markdown",
   "id": "9c123bca",
   "metadata": {},
   "source": [
    "### group by"
   ]
  },
  {
   "cell_type": "code",
   "execution_count": 46,
   "id": "4309fe61",
   "metadata": {},
   "outputs": [
    {
     "name": "stderr",
     "output_type": "stream",
     "text": [
      "                                                                                \r"
     ]
    },
    {
     "name": "stdout",
     "output_type": "stream",
     "text": [
      "+-----------+\n",
      "|avg(deptid)|\n",
      "+-----------+\n",
      "|        5.0|\n",
      "|        1.0|\n",
      "|        3.0|\n",
      "|        2.0|\n",
      "+-----------+\n",
      "\n"
     ]
    }
   ],
   "source": [
    "sql = \"select avg(deptid) from empt group by deptid\"\n",
    "sqlDF = sqlCtx.sql( sql )\n",
    "sqlDF.show()"
   ]
  },
  {
   "cell_type": "code",
   "execution_count": 47,
   "id": "99e9063a",
   "metadata": {},
   "outputs": [
    {
     "name": "stderr",
     "output_type": "stream",
     "text": [
      "                                                                                \r"
     ]
    },
    {
     "name": "stdout",
     "output_type": "stream",
     "text": [
      "+-----------+\n",
      "|sum(deptid)|\n",
      "+-----------+\n",
      "|          5|\n",
      "|          1|\n",
      "|          6|\n",
      "|          2|\n",
      "+-----------+\n",
      "\n"
     ]
    }
   ],
   "source": [
    "sql = \"select sum(deptid) from empt group by deptid\"\n",
    "sqlDF = sqlCtx.sql( sql )\n",
    "sqlDF.show()"
   ]
  },
  {
   "cell_type": "code",
   "execution_count": 49,
   "id": "23c09906",
   "metadata": {},
   "outputs": [
    {
     "name": "stdout",
     "output_type": "stream",
     "text": [
      "+------+-----------+-----------+\n",
      "|deptid|avg(deptid)|sum(deptid)|\n",
      "+------+-----------+-----------+\n",
      "|     5|        5.0|          5|\n",
      "|     1|        1.0|          1|\n",
      "|     3|        3.0|          6|\n",
      "|     2|        2.0|          2|\n",
      "+------+-----------+-----------+\n",
      "\n"
     ]
    }
   ],
   "source": [
    "sql = \"select deptid, avg(deptid),sum(deptid) from empt group by deptid\"\n",
    "sqlDF = sqlCtx.sql( sql )\n",
    "sqlDF.show()"
   ]
  },
  {
   "cell_type": "code",
   "execution_count": null,
   "id": "fe92efd1",
   "metadata": {},
   "outputs": [],
   "source": []
  },
  {
   "cell_type": "code",
   "execution_count": 82,
   "id": "53767d45",
   "metadata": {},
   "outputs": [],
   "source": [
    "# name salary 컬럼명을 가지는 데이터프레임을 만드시요.\n",
    "data1 = ['홍길동,1000','이순신,2000','임꺽정,3000',\n",
    "         '김철수,4000','이황,5000','이이,6000']"
   ]
  },
  {
   "cell_type": "code",
   "execution_count": 83,
   "id": "c85acd7f",
   "metadata": {},
   "outputs": [
    {
     "name": "stdout",
     "output_type": "stream",
     "text": [
      "+------+------+\n",
      "|  name|salary|\n",
      "+------+------+\n",
      "|홍길동|  1000|\n",
      "|이순신|  2000|\n",
      "|임꺽정|  3000|\n",
      "|김철수|  4000|\n",
      "|  이황|  5000|\n",
      "|  이이|  6000|\n",
      "+------+------+\n",
      "\n"
     ]
    }
   ],
   "source": [
    "dataRdd = sc.parallelize(data1).map(lambda v : v.split(',')).map(lambda v : (v[0],v[1]))\n",
    "data = dataRdd.toDF(['name','salary'])\n",
    "data.show()"
   ]
  },
  {
   "cell_type": "code",
   "execution_count": 84,
   "id": "069e6738",
   "metadata": {},
   "outputs": [],
   "source": [
    "data.createOrReplaceTempView('sal')"
   ]
  },
  {
   "cell_type": "code",
   "execution_count": 85,
   "id": "46d01d9f",
   "metadata": {},
   "outputs": [
    {
     "name": "stdout",
     "output_type": "stream",
     "text": [
      "+----+------+\n",
      "|name|salary|\n",
      "+----+------+\n",
      "|이이|  6000|\n",
      "+----+------+\n",
      "\n"
     ]
    }
   ],
   "source": [
    "# 1. 급여가 가장높은 name과 salary를 출력하시요\n",
    "sql = \"select  * from sal where order by salary desc limit 1 \"\n",
    "sqlDF = sqlCtx.sql( sql )\n",
    "sqlDF.show()"
   ]
  },
  {
   "cell_type": "code",
   "execution_count": 80,
   "id": "c783fe2d",
   "metadata": {},
   "outputs": [
    {
     "name": "stdout",
     "output_type": "stream",
     "text": [
      "+----+------+\n",
      "|name|salary|\n",
      "+----+------+\n",
      "|이이|  6000|\n",
      "+----+------+\n",
      "\n"
     ]
    }
   ],
   "source": [
    "sql = 'select name, salary from sal where salary = (select max(salary) from sal) '\n",
    "sqlDF = sqlCtx.sql(sql)\n",
    "sqlDF.show()"
   ]
  },
  {
   "cell_type": "code",
   "execution_count": 68,
   "id": "6ff4f827",
   "metadata": {},
   "outputs": [
    {
     "name": "stdout",
     "output_type": "stream",
     "text": [
      "+------+------+--------+\n",
      "|  name|salary|     tax|\n",
      "+------+------+--------+\n",
      "|홍길동|  1000| 967.000|\n",
      "|이순신|  2000|1934.000|\n",
      "|임꺽정|  3000|2901.000|\n",
      "|김철수|  4000|3868.000|\n",
      "|  이황|  5000|4835.000|\n",
      "|  이이|  6000|5802.000|\n",
      "+------+------+--------+\n",
      "\n"
     ]
    }
   ],
   "source": [
    "# 2. name, salary, tax 를 출력하시요 (tax는 급여에서 세금 3.3을 제한값)\n",
    "sql = \"select name, salary, salary*0.967 as tax from sal\"\n",
    "sqlDF = sqlCtx.sql( sql )\n",
    "sqlDF.show()"
   ]
  },
  {
   "cell_type": "code",
   "execution_count": 69,
   "id": "b6e9034a",
   "metadata": {},
   "outputs": [
    {
     "name": "stdout",
     "output_type": "stream",
     "text": [
      "+------+------+\n",
      "|  name|salary|\n",
      "+------+------+\n",
      "|김철수|  4000|\n",
      "+------+------+\n",
      "\n"
     ]
    }
   ],
   "source": [
    "# 3. name 에 '철'이 포함된  name,salary 를 출력하시요\n",
    "sql = \"select name, salary from sal where name like '%철%'\"\n",
    "sqlDF = sqlCtx.sql( sql )\n",
    "sqlDF.show()"
   ]
  },
  {
   "cell_type": "code",
   "execution_count": 75,
   "id": "28e5ff24",
   "metadata": {},
   "outputs": [
    {
     "name": "stdout",
     "output_type": "stream",
     "text": [
      "+------+------+\n",
      "|  name|salary|\n",
      "+------+------+\n",
      "|  이이|  6000|\n",
      "|  이황|  5000|\n",
      "|김철수|  4000|\n",
      "|임꺽정|  3000|\n",
      "|이순신|  2000|\n",
      "+------+------+\n",
      "\n"
     ]
    }
   ],
   "source": [
    "# 4. salary top 5 인 name, salary 출력하시요\n",
    "sql = \"select name, salary from sal order by salary desc limit 5\"\n",
    "sqlDF = sqlCtx.sql( sql )\n",
    "sqlDF.show()"
   ]
  },
  {
   "cell_type": "code",
   "execution_count": 71,
   "id": "837d4651",
   "metadata": {},
   "outputs": [
    {
     "name": "stdout",
     "output_type": "stream",
     "text": [
      "+------+------+\n",
      "|  name|salary|\n",
      "+------+------+\n",
      "|이순신|  2000|\n",
      "|임꺽정|  3000|\n",
      "|김철수|  4000|\n",
      "+------+------+\n",
      "\n"
     ]
    }
   ],
   "source": [
    "# 5. salary  2000  과 4000 사이의 데이터를 출력하시요\n",
    "sql = \"select * from sal where salary between 2000 and 4000\"\n",
    "sqlDF = sqlCtx.sql( sql )\n",
    "sqlDF.show()"
   ]
  },
  {
   "cell_type": "markdown",
   "id": "374ded6e",
   "metadata": {},
   "source": [
    "## 과제"
   ]
  },
  {
   "cell_type": "code",
   "execution_count": 4,
   "id": "61d9a71e",
   "metadata": {},
   "outputs": [
    {
     "name": "stdout",
     "output_type": "stream",
     "text": [
      "+--------+----+-------------+------+------+------+\n",
      "|  기관명|소계|2013년도 이전|2014년|2015년|2016년|\n",
      "+--------+----+-------------+------+------+------+\n",
      "|  강남구|2780|         1292|   430|   584|   932|\n",
      "|  강동구| 773|          379|    99|   155|   377|\n",
      "|  강북구| 748|          369|   120|   138|   204|\n",
      "|  강서구| 884|          388|   258|   184|    81|\n",
      "|  관악구|1496|          846|   260|   390|   613|\n",
      "|  광진구| 707|          573|    78|    53|   174|\n",
      "|  구로구|1561|         1142|   173|   246|   323|\n",
      "|  금천구|1015|          674|    51|   269|   354|\n",
      "|  노원구|1265|          542|    57|   451|   516|\n",
      "|  도봉구| 485|          238|   159|    42|   386|\n",
      "|동대문구|1294|         1070|    23|   198|   579|\n",
      "|  동작구|1091|          544|   341|   103|   314|\n",
      "|  마포구| 574|          314|   118|   169|   379|\n",
      "|서대문구| 962|          844|    50|    68|   292|\n",
      "|  서초구|1930|         1406|   157|   336|   398|\n",
      "|  성동구|1062|          730|    91|   241|   265|\n",
      "|  성북구|1464|         1009|    78|   360|   204|\n",
      "|  송파구| 618|          529|    21|    68|   463|\n",
      "|  양천구|2034|         1843|   142|    30|   467|\n",
      "|영등포구| 904|          495|   214|   195|   373|\n",
      "+--------+----+-------------+------+------+------+\n",
      "only showing top 20 rows\n",
      "\n"
     ]
    }
   ],
   "source": [
    "cctvDF = sqlCtx.read.csv('cctv.csv', header=True, inferSchema=True) #False면 string인데 True면타입 자동으로 변경\n",
    "cctvDF.show()"
   ]
  },
  {
   "cell_type": "code",
   "execution_count": 5,
   "id": "3e7bf3f5",
   "metadata": {},
   "outputs": [
    {
     "name": "stdout",
     "output_type": "stream",
     "text": [
      "root\n",
      " |-- 기관명: string (nullable = true)\n",
      " |-- 소계: integer (nullable = true)\n",
      " |-- 2013년도 이전: integer (nullable = true)\n",
      " |-- 2014년: integer (nullable = true)\n",
      " |-- 2015년: integer (nullable = true)\n",
      " |-- 2016년: integer (nullable = true)\n",
      "\n"
     ]
    }
   ],
   "source": [
    "cctvDF.printSchema()"
   ]
  },
  {
   "cell_type": "code",
   "execution_count": 6,
   "id": "47a7a9b6",
   "metadata": {},
   "outputs": [],
   "source": [
    "cctvDF.createOrReplaceTempView('cctv')"
   ]
  },
  {
   "cell_type": "code",
   "execution_count": 23,
   "id": "3d880329",
   "metadata": {},
   "outputs": [
    {
     "name": "stdout",
     "output_type": "stream",
     "text": [
      "+------+----+-------------+------+------+------+\n",
      "|기관명|소계|2013년도 이전|2014년|2015년|2016년|\n",
      "+------+----+-------------+------+------+------+\n",
      "|강남구|2780|         1292|   430|   584|   932|\n",
      "|강동구| 773|          379|    99|   155|   377|\n",
      "|강북구| 748|          369|   120|   138|   204|\n",
      "|강서구| 884|          388|   258|   184|    81|\n",
      "+------+----+-------------+------+------+------+\n",
      "\n"
     ]
    }
   ],
   "source": [
    "# 1. 기관명이 '강'글자가 포함된  데이터를 가져오시요\n",
    "sql = \"select * from cctv where `기관명` rlike '강'\"\n",
    "sqlDF = sqlCtx.sql( sql )\n",
    "sqlDF.show()"
   ]
  },
  {
   "cell_type": "code",
   "execution_count": 24,
   "id": "48835b6c",
   "metadata": {},
   "outputs": [
    {
     "name": "stdout",
     "output_type": "stream",
     "text": [
      "+-----------+\n",
      "|sum(2015년)|\n",
      "+-----------+\n",
      "|       5130|\n",
      "+-----------+\n",
      "\n"
     ]
    }
   ],
   "source": [
    "# 2. 2015년도 cctv 총합을 구하시요.\n",
    "sql = \"select sum(`2015년`) from cctv\"\n",
    "sqlDF = sqlCtx.sql( sql )\n",
    "sqlDF.show()"
   ]
  },
  {
   "cell_type": "code",
   "execution_count": 31,
   "id": "821e0773",
   "metadata": {},
   "outputs": [
    {
     "name": "stdout",
     "output_type": "stream",
     "text": [
      "+------+------------------+\n",
      "|기관명|            증가율|\n",
      "+------+------------------+\n",
      "|종로구|2.4892241379310347|\n",
      "|도봉구| 2.466386554621849|\n",
      "|마포구| 2.121019108280255|\n",
      "|노원구|1.8892988929889298|\n",
      "|강동구|1.6649076517150396|\n",
      "+------+------------------+\n",
      "\n"
     ]
    }
   ],
   "source": [
    "# 3. 증가율이 가장높은 top 5를 보여주시요\n",
    "# 증가율:  (14+15+16)/(2013년이전 )\n",
    "sql = \"select `기관명`, (`2014년`+`2015년`+`2016년`)/`2013년도 이전` as `증가율`  from cctv order by `증가율` desc limit 5\"\n",
    "sqlDF = sqlCtx.sql( sql )\n",
    "sqlDF.show()\n"
   ]
  },
  {
   "cell_type": "code",
   "execution_count": 99,
   "id": "49c3d5bf",
   "metadata": {},
   "outputs": [
    {
     "name": "stdout",
     "output_type": "stream",
     "text": [
      "+------+\n",
      "|  위치|\n",
      "+------+\n",
      "|  강남|\n",
      "|  강동|\n",
      "|  강북|\n",
      "|  강서|\n",
      "|  관악|\n",
      "|  광진|\n",
      "|  구로|\n",
      "|  금천|\n",
      "|  노원|\n",
      "|  도봉|\n",
      "|동대문|\n",
      "|  동작|\n",
      "|  마포|\n",
      "|서대문|\n",
      "|  서초|\n",
      "|  성동|\n",
      "|  성북|\n",
      "|  송파|\n",
      "|  양천|\n",
      "|영등포|\n",
      "+------+\n",
      "only showing top 20 rows\n",
      "\n"
     ]
    }
   ],
   "source": [
    "# 4. \n",
    "# 기관명에서 마지막 '구'라는 글자를 제한 \n",
    "# 글자를 출력하시요(예)\n",
    "# 기관명\n",
    "# ==========\n",
    "# 강남\n",
    "# 강동\n",
    "# 강북....\n",
    "\n",
    "sql = \"select if(length(`기관명`) = 3 , substr(`기관명`,1,2) , substr(`기관명`,1,3) ) as `위치` from cctv\"\n",
    "sqlDF = sqlCtx.sql( sql )\n",
    "sqlDF.show()"
   ]
  },
  {
   "cell_type": "code",
   "execution_count": 57,
   "id": "d932508b",
   "metadata": {},
   "outputs": [
    {
     "name": "stdout",
     "output_type": "stream",
     "text": [
      "+------+------+\n",
      "|기관명|총개수|\n",
      "+------+------+\n",
      "|강남구|  3238|\n",
      "+------+------+\n",
      "\n"
     ]
    }
   ],
   "source": [
    "# 5. cctv가 가장많은 기관명과 갯수를 구하시요 .\n",
    "sql = \"select `기관명`, `2014년`+`2015년`+`2016년`+`2013년도 이전` as `총개수` from cctv order by `총개수` desc limit 1\"\n",
    "sqlDF = sqlCtx.sql( sql )\n",
    "sqlDF.show()"
   ]
  },
  {
   "cell_type": "code",
   "execution_count": 100,
   "id": "e9e5f8a6",
   "metadata": {},
   "outputs": [
    {
     "name": "stdout",
     "output_type": "stream",
     "text": [
      "+--------+----+-------------+------+------+------+------+--------+\n",
      "|  기관명|소계|2013년도 이전|2014년|2015년|2016년|총개수|    표시|\n",
      "+--------+----+-------------+------+------+------+------+--------+\n",
      "|  강남구|2780|         1292|   430|   584|   932|  3238|매우많음|\n",
      "|  강동구| 773|          379|    99|   155|   377|  1010|    많음|\n",
      "|  강북구| 748|          369|   120|   138|   204|   831|    보통|\n",
      "|  강서구| 884|          388|   258|   184|    81|   911|    보통|\n",
      "|  관악구|1496|          846|   260|   390|   613|  2109|매우많음|\n",
      "|  광진구| 707|          573|    78|    53|   174|   878|    보통|\n",
      "|  구로구|1561|         1142|   173|   246|   323|  1884|매우많음|\n",
      "|  금천구|1015|          674|    51|   269|   354|  1348|    많음|\n",
      "|  노원구|1265|          542|    57|   451|   516|  1566|매우많음|\n",
      "|  도봉구| 485|          238|   159|    42|   386|   825|    보통|\n",
      "|동대문구|1294|         1070|    23|   198|   579|  1870|매우많음|\n",
      "|  동작구|1091|          544|   341|   103|   314|  1302|    많음|\n",
      "|  마포구| 574|          314|   118|   169|   379|   980|    보통|\n",
      "|서대문구| 962|          844|    50|    68|   292|  1254|    많음|\n",
      "|  서초구|1930|         1406|   157|   336|   398|  2297|매우많음|\n",
      "|  성동구|1062|          730|    91|   241|   265|  1327|    많음|\n",
      "|  성북구|1464|         1009|    78|   360|   204|  1651|매우많음|\n",
      "|  송파구| 618|          529|    21|    68|   463|  1081|    많음|\n",
      "|  양천구|2034|         1843|   142|    30|   467|  2482|매우많음|\n",
      "|영등포구| 904|          495|   214|   195|   373|  1277|    많음|\n",
      "+--------+----+-------------+------+------+------+------+--------+\n",
      "only showing top 20 rows\n",
      "\n"
     ]
    }
   ],
   "source": [
    "# 6.  cctv총갯수가 1500개 이상이면 '매우많음' 1000개이상이면 '많음' \n",
    "# 나머지 보통으로 표시하시요\n",
    "sql = '''select *,`2014년`+`2015년`+`2016년`+`2013년도 이전` as `총개수`,\n",
    "case\n",
    "when `2014년`+`2015년`+`2016년`+`2013년도 이전` >=1500 then '매우많음'\n",
    "when `2014년`+`2015년`+`2016년`+`2013년도 이전` >=1000 then '많음'\n",
    "else '보통'\n",
    "end as `표시`\n",
    "from cctv'''\n",
    "sqlDF = sqlCtx.sql( sql )\n",
    "sqlDF.show()"
   ]
  },
  {
   "cell_type": "code",
   "execution_count": null,
   "id": "8547cc64",
   "metadata": {},
   "outputs": [],
   "source": [
    "# 7. 2014년도 2015년도 cctv데이터에 대한 바차트를 그리시요(x축 기관명임)"
   ]
  },
  {
   "cell_type": "code",
   "execution_count": 103,
   "id": "4d8b05cd",
   "metadata": {},
   "outputs": [
    {
     "ename": "AnalysisException",
     "evalue": "Undefined function: 'REPLICATE'. This function is neither a registered temporary function nor a permanent function registered in the database 'default'.; line 1 pos 10",
     "output_type": "error",
     "traceback": [
      "\u001b[0;31m---------------------------------------------------------------------------\u001b[0m",
      "\u001b[0;31mAnalysisException\u001b[0m                         Traceback (most recent call last)",
      "\u001b[0;32m/tmp/ipykernel_16836/2340169736.py\u001b[0m in \u001b[0;36m<module>\u001b[0;34m\u001b[0m\n\u001b[1;32m      1\u001b[0m \u001b[0msql\u001b[0m \u001b[0;34m=\u001b[0m \u001b[0;34m\"select * ,REPLICATE('▒', `기관명` )  [Bar] from cctv\"\u001b[0m\u001b[0;34m\u001b[0m\u001b[0;34m\u001b[0m\u001b[0m\n\u001b[0;32m----> 2\u001b[0;31m \u001b[0msqlDF\u001b[0m \u001b[0;34m=\u001b[0m \u001b[0msqlCtx\u001b[0m\u001b[0;34m.\u001b[0m\u001b[0msql\u001b[0m\u001b[0;34m(\u001b[0m \u001b[0msql\u001b[0m \u001b[0;34m)\u001b[0m\u001b[0;34m\u001b[0m\u001b[0;34m\u001b[0m\u001b[0m\n\u001b[0m\u001b[1;32m      3\u001b[0m \u001b[0msqlDF\u001b[0m\u001b[0;34m.\u001b[0m\u001b[0mshow\u001b[0m\u001b[0;34m(\u001b[0m\u001b[0;34m)\u001b[0m\u001b[0;34m\u001b[0m\u001b[0;34m\u001b[0m\u001b[0m\n",
      "\u001b[0;32m~/spark-3.0.3-bin-hadoop2.7/python/pyspark/sql/context.py\u001b[0m in \u001b[0;36msql\u001b[0;34m(self, sqlQuery)\u001b[0m\n\u001b[1;32m    370\u001b[0m         \u001b[0;34m[\u001b[0m\u001b[0mRow\u001b[0m\u001b[0;34m(\u001b[0m\u001b[0mf1\u001b[0m\u001b[0;34m=\u001b[0m\u001b[0;36m1\u001b[0m\u001b[0;34m,\u001b[0m \u001b[0mf2\u001b[0m\u001b[0;34m=\u001b[0m\u001b[0;34mu'row1'\u001b[0m\u001b[0;34m)\u001b[0m\u001b[0;34m,\u001b[0m \u001b[0mRow\u001b[0m\u001b[0;34m(\u001b[0m\u001b[0mf1\u001b[0m\u001b[0;34m=\u001b[0m\u001b[0;36m2\u001b[0m\u001b[0;34m,\u001b[0m \u001b[0mf2\u001b[0m\u001b[0;34m=\u001b[0m\u001b[0;34mu'row2'\u001b[0m\u001b[0;34m)\u001b[0m\u001b[0;34m,\u001b[0m \u001b[0mRow\u001b[0m\u001b[0;34m(\u001b[0m\u001b[0mf1\u001b[0m\u001b[0;34m=\u001b[0m\u001b[0;36m3\u001b[0m\u001b[0;34m,\u001b[0m \u001b[0mf2\u001b[0m\u001b[0;34m=\u001b[0m\u001b[0;34mu'row3'\u001b[0m\u001b[0;34m)\u001b[0m\u001b[0;34m]\u001b[0m\u001b[0;34m\u001b[0m\u001b[0;34m\u001b[0m\u001b[0m\n\u001b[1;32m    371\u001b[0m         \"\"\"\n\u001b[0;32m--> 372\u001b[0;31m         \u001b[0;32mreturn\u001b[0m \u001b[0mself\u001b[0m\u001b[0;34m.\u001b[0m\u001b[0msparkSession\u001b[0m\u001b[0;34m.\u001b[0m\u001b[0msql\u001b[0m\u001b[0;34m(\u001b[0m\u001b[0msqlQuery\u001b[0m\u001b[0;34m)\u001b[0m\u001b[0;34m\u001b[0m\u001b[0;34m\u001b[0m\u001b[0m\n\u001b[0m\u001b[1;32m    373\u001b[0m \u001b[0;34m\u001b[0m\u001b[0m\n\u001b[1;32m    374\u001b[0m     \u001b[0;34m@\u001b[0m\u001b[0msince\u001b[0m\u001b[0;34m(\u001b[0m\u001b[0;36m1.0\u001b[0m\u001b[0;34m)\u001b[0m\u001b[0;34m\u001b[0m\u001b[0;34m\u001b[0m\u001b[0m\n",
      "\u001b[0;32m~/spark-3.0.3-bin-hadoop2.7/python/pyspark/sql/session.py\u001b[0m in \u001b[0;36msql\u001b[0;34m(self, sqlQuery)\u001b[0m\n\u001b[1;32m    647\u001b[0m         \u001b[0;34m[\u001b[0m\u001b[0mRow\u001b[0m\u001b[0;34m(\u001b[0m\u001b[0mf1\u001b[0m\u001b[0;34m=\u001b[0m\u001b[0;36m1\u001b[0m\u001b[0;34m,\u001b[0m \u001b[0mf2\u001b[0m\u001b[0;34m=\u001b[0m\u001b[0;34mu'row1'\u001b[0m\u001b[0;34m)\u001b[0m\u001b[0;34m,\u001b[0m \u001b[0mRow\u001b[0m\u001b[0;34m(\u001b[0m\u001b[0mf1\u001b[0m\u001b[0;34m=\u001b[0m\u001b[0;36m2\u001b[0m\u001b[0;34m,\u001b[0m \u001b[0mf2\u001b[0m\u001b[0;34m=\u001b[0m\u001b[0;34mu'row2'\u001b[0m\u001b[0;34m)\u001b[0m\u001b[0;34m,\u001b[0m \u001b[0mRow\u001b[0m\u001b[0;34m(\u001b[0m\u001b[0mf1\u001b[0m\u001b[0;34m=\u001b[0m\u001b[0;36m3\u001b[0m\u001b[0;34m,\u001b[0m \u001b[0mf2\u001b[0m\u001b[0;34m=\u001b[0m\u001b[0;34mu'row3'\u001b[0m\u001b[0;34m)\u001b[0m\u001b[0;34m]\u001b[0m\u001b[0;34m\u001b[0m\u001b[0;34m\u001b[0m\u001b[0m\n\u001b[1;32m    648\u001b[0m         \"\"\"\n\u001b[0;32m--> 649\u001b[0;31m         \u001b[0;32mreturn\u001b[0m \u001b[0mDataFrame\u001b[0m\u001b[0;34m(\u001b[0m\u001b[0mself\u001b[0m\u001b[0;34m.\u001b[0m\u001b[0m_jsparkSession\u001b[0m\u001b[0;34m.\u001b[0m\u001b[0msql\u001b[0m\u001b[0;34m(\u001b[0m\u001b[0msqlQuery\u001b[0m\u001b[0;34m)\u001b[0m\u001b[0;34m,\u001b[0m \u001b[0mself\u001b[0m\u001b[0;34m.\u001b[0m\u001b[0m_wrapped\u001b[0m\u001b[0;34m)\u001b[0m\u001b[0;34m\u001b[0m\u001b[0;34m\u001b[0m\u001b[0m\n\u001b[0m\u001b[1;32m    650\u001b[0m \u001b[0;34m\u001b[0m\u001b[0m\n\u001b[1;32m    651\u001b[0m     \u001b[0;34m@\u001b[0m\u001b[0msince\u001b[0m\u001b[0;34m(\u001b[0m\u001b[0;36m2.0\u001b[0m\u001b[0;34m)\u001b[0m\u001b[0;34m\u001b[0m\u001b[0;34m\u001b[0m\u001b[0m\n",
      "\u001b[0;32m~/spark-3.0.3-bin-hadoop2.7/python/lib/py4j-0.10.9-src.zip/py4j/java_gateway.py\u001b[0m in \u001b[0;36m__call__\u001b[0;34m(self, *args)\u001b[0m\n\u001b[1;32m   1302\u001b[0m \u001b[0;34m\u001b[0m\u001b[0m\n\u001b[1;32m   1303\u001b[0m         \u001b[0manswer\u001b[0m \u001b[0;34m=\u001b[0m \u001b[0mself\u001b[0m\u001b[0;34m.\u001b[0m\u001b[0mgateway_client\u001b[0m\u001b[0;34m.\u001b[0m\u001b[0msend_command\u001b[0m\u001b[0;34m(\u001b[0m\u001b[0mcommand\u001b[0m\u001b[0;34m)\u001b[0m\u001b[0;34m\u001b[0m\u001b[0;34m\u001b[0m\u001b[0m\n\u001b[0;32m-> 1304\u001b[0;31m         return_value = get_return_value(\n\u001b[0m\u001b[1;32m   1305\u001b[0m             answer, self.gateway_client, self.target_id, self.name)\n\u001b[1;32m   1306\u001b[0m \u001b[0;34m\u001b[0m\u001b[0m\n",
      "\u001b[0;32m~/spark-3.0.3-bin-hadoop2.7/python/pyspark/sql/utils.py\u001b[0m in \u001b[0;36mdeco\u001b[0;34m(*a, **kw)\u001b[0m\n\u001b[1;32m    132\u001b[0m                 \u001b[0;31m# Hide where the exception came from that shows a non-Pythonic\u001b[0m\u001b[0;34m\u001b[0m\u001b[0;34m\u001b[0m\u001b[0m\n\u001b[1;32m    133\u001b[0m                 \u001b[0;31m# JVM exception message.\u001b[0m\u001b[0;34m\u001b[0m\u001b[0;34m\u001b[0m\u001b[0m\n\u001b[0;32m--> 134\u001b[0;31m                 \u001b[0mraise_from\u001b[0m\u001b[0;34m(\u001b[0m\u001b[0mconverted\u001b[0m\u001b[0;34m)\u001b[0m\u001b[0;34m\u001b[0m\u001b[0;34m\u001b[0m\u001b[0m\n\u001b[0m\u001b[1;32m    135\u001b[0m             \u001b[0;32melse\u001b[0m\u001b[0;34m:\u001b[0m\u001b[0;34m\u001b[0m\u001b[0;34m\u001b[0m\u001b[0m\n\u001b[1;32m    136\u001b[0m                 \u001b[0;32mraise\u001b[0m\u001b[0;34m\u001b[0m\u001b[0;34m\u001b[0m\u001b[0m\n",
      "\u001b[0;32m~/spark-3.0.3-bin-hadoop2.7/python/pyspark/sql/utils.py\u001b[0m in \u001b[0;36mraise_from\u001b[0;34m(e)\u001b[0m\n",
      "\u001b[0;31mAnalysisException\u001b[0m: Undefined function: 'REPLICATE'. This function is neither a registered temporary function nor a permanent function registered in the database 'default'.; line 1 pos 10"
     ]
    }
   ],
   "source": [
    "sql = \"select * ,REPLICATE('▒', `기관명` )  [Bar] from cctv\"\n",
    "sqlDF = sqlCtx.sql( sql )\n",
    "sqlDF.show()"
   ]
  }
 ],
 "metadata": {
  "kernelspec": {
   "display_name": "Python 3 (ipykernel)",
   "language": "python",
   "name": "python3"
  },
  "language_info": {
   "codemirror_mode": {
    "name": "ipython",
    "version": 3
   },
   "file_extension": ".py",
   "mimetype": "text/x-python",
   "name": "python",
   "nbconvert_exporter": "python",
   "pygments_lexer": "ipython3",
   "version": "3.9.7"
  }
 },
 "nbformat": 4,
 "nbformat_minor": 5
}
