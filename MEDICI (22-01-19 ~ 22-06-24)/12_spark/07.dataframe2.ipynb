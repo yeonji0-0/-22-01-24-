{
 "cells": [
  {
   "cell_type": "code",
   "execution_count": 1,
   "id": "fac9b42e",
   "metadata": {},
   "outputs": [],
   "source": [
    "from pyspark import SparkContext\n",
    "from pyspark.sql import SQLContext, Row\n",
    "import pandas as pd\n",
    "\n",
    "from pyspark.sql.functions import when, udf, col, regexp_replace\n",
    "from pyspark.sql.types import DoubleType,IntegerType, StringType\n",
    "import pyspark.sql.functions as func\n",
    "\n",
    "import matplotlib.pyplot as plt"
   ]
  },
  {
   "cell_type": "code",
   "execution_count": 2,
   "id": "3c7d8d19",
   "metadata": {},
   "outputs": [
    {
     "name": "stderr",
     "output_type": "stream",
     "text": [
      "22/04/29 11:46:48 WARN NativeCodeLoader: Unable to load native-hadoop library for your platform... using builtin-java classes where applicable\n",
      "Using Spark's default log4j profile: org/apache/spark/log4j-defaults.properties\n",
      "Setting default log level to \"WARN\".\n",
      "To adjust logging level use sc.setLogLevel(newLevel). For SparkR, use setLogLevel(newLevel).\n"
     ]
    }
   ],
   "source": [
    "sc = SparkContext('local')\n",
    "sqlCtx = SQLContext( sc )"
   ]
  },
  {
   "cell_type": "code",
   "execution_count": 4,
   "id": "a4f169da",
   "metadata": {},
   "outputs": [
    {
     "name": "stdout",
     "output_type": "stream",
     "text": [
      "+----+--------+--------+\n",
      "| _c0|     _c1|     _c2|\n",
      "+----+--------+--------+\n",
      "|1880| 90993.0|110491.0|\n",
      "|1881| 91954.0|100745.0|\n",
      "|1882|107850.0|113688.0|\n",
      "|1883|112321.0|104629.0|\n",
      "|1884|129022.0|114445.0|\n",
      "|1885|133055.0|107800.0|\n",
      "|1886|144535.0|110784.0|\n",
      "|1887|145982.0|101414.0|\n",
      "|1888|178627.0|120853.0|\n",
      "|1889|178366.0|110584.0|\n",
      "|1890|190377.0|111025.0|\n",
      "|1891|185482.0|101196.0|\n",
      "|1892|212346.0|122037.0|\n",
      "|1893|212906.0|112317.0|\n",
      "|1894|222922.0|115772.0|\n",
      "|1895|233630.0|117398.0|\n",
      "|1896|237920.0|119570.0|\n",
      "|1897|234202.0|112758.0|\n",
      "|1898|258770.0|122693.0|\n",
      "|1899|233023.0|106212.0|\n",
      "+----+--------+--------+\n",
      "only showing top 20 rows\n",
      "\n"
     ]
    }
   ],
   "source": [
    "df = sqlCtx.read.csv('births.txt',inferSchema=True)\n",
    "df.show()"
   ]
  },
  {
   "cell_type": "code",
   "execution_count": 7,
   "id": "13962e95",
   "metadata": {},
   "outputs": [],
   "source": [
    "df = df.withColumnRenamed('_c0','year').\\     # \\ 줄바꾸기\n",
    "     withColumnRenamed('_c1','boys').\\\n",
    "withColumnRenamed('_c2','girls')"
   ]
  },
  {
   "cell_type": "code",
   "execution_count": 23,
   "id": "956b4a3d",
   "metadata": {},
   "outputs": [
    {
     "name": "stdout",
     "output_type": "stream",
     "text": [
      "+----+--------+--------+\n",
      "|year|    boys|   girls|\n",
      "+----+--------+--------+\n",
      "|1880| 90993.0|110491.0|\n",
      "|1881| 91954.0|100745.0|\n",
      "|1882|107850.0|113688.0|\n",
      "|1883|112321.0|104629.0|\n",
      "|1884|129022.0|114445.0|\n",
      "|1885|133055.0|107800.0|\n",
      "|1886|144535.0|110784.0|\n",
      "|1887|145982.0|101414.0|\n",
      "|1888|178627.0|120853.0|\n",
      "|1889|178366.0|110584.0|\n",
      "|1890|190377.0|111025.0|\n",
      "|1891|185482.0|101196.0|\n",
      "|1892|212346.0|122037.0|\n",
      "|1893|212906.0|112317.0|\n",
      "|1894|222922.0|115772.0|\n",
      "|1895|233630.0|117398.0|\n",
      "|1896|237920.0|119570.0|\n",
      "|1897|234202.0|112758.0|\n",
      "|1898|258770.0|122693.0|\n",
      "|1899|233023.0|106212.0|\n",
      "+----+--------+--------+\n",
      "only showing top 20 rows\n",
      "\n"
     ]
    }
   ],
   "source": [
    "df.show()"
   ]
  },
  {
   "cell_type": "markdown",
   "id": "6260ae32",
   "metadata": {},
   "source": [
    "## 연습문제"
   ]
  },
  {
   "cell_type": "code",
   "execution_count": 24,
   "id": "867bdbf8",
   "metadata": {},
   "outputs": [
    {
     "name": "stdout",
     "output_type": "stream",
     "text": [
      "+----+---------+---------+\n",
      "|year|     boys|    girls|\n",
      "+----+---------+---------+\n",
      "|2000|1814601.0|1962406.0|\n",
      "|2001|1799049.0|1941251.0|\n",
      "|2002|1795206.0|1939815.0|\n",
      "|2003|1825359.0|1973434.0|\n",
      "|2004|1834145.0|1982794.0|\n",
      "|2005|1845379.0|1994841.0|\n",
      "|2006|1898463.0|2052377.0|\n",
      "|2007|1919408.0|2072139.0|\n",
      "|2008|1887234.0|2036289.0|\n",
      "|2009|1832925.0|1979303.0|\n",
      "|2010|1772738.0|1913851.0|\n",
      "|2011|1753500.0|1893230.0|\n",
      "+----+---------+---------+\n",
      "\n"
     ]
    }
   ],
   "source": [
    "# 1. 2000년도 이후 데이터를 구하시요\n",
    "df.where('year >= 2000').show()"
   ]
  },
  {
   "cell_type": "code",
   "execution_count": 25,
   "id": "a200f731",
   "metadata": {},
   "outputs": [
    {
     "name": "stdout",
     "output_type": "stream",
     "text": [
      "+----+---------+---------+\n",
      "|year|     boys|    girls|\n",
      "+----+---------+---------+\n",
      "|1995|1757927.0|1902832.0|\n",
      "|1996|1752249.0|1893378.0|\n",
      "|1997|1739806.0|1884122.0|\n",
      "|1998|1765915.0|1910250.0|\n",
      "|1999|1772632.0|1918809.0|\n",
      "|2000|1814601.0|1962406.0|\n",
      "+----+---------+---------+\n",
      "\n"
     ]
    }
   ],
   "source": [
    "# 2. 1995~2000 년도 데이터를 구하시요\n",
    "df.where('year between 1995 and 2000').show()"
   ]
  },
  {
   "cell_type": "code",
   "execution_count": 15,
   "id": "300ce3a1",
   "metadata": {},
   "outputs": [
    {
     "name": "stdout",
     "output_type": "stream",
     "text": [
      "+----+---------+\n",
      "|year|     boys|\n",
      "+----+---------+\n",
      "|1957|2044160.0|\n",
      "|1959|2023044.0|\n",
      "|1960|2022093.0|\n",
      "|1961|2017316.0|\n",
      "|1958|2010884.0|\n",
      "+----+---------+\n",
      "only showing top 5 rows\n",
      "\n"
     ]
    }
   ],
   "source": [
    "# 3.  남아출생이 가장많은 top5를 구하시요(년도,남아수 출력)\n",
    "df.orderBy('boys',ascending=False).select('year','boys').show(5)"
   ]
  },
  {
   "cell_type": "code",
   "execution_count": 28,
   "id": "9c2b1f7b",
   "metadata": {},
   "outputs": [
    {
     "name": "stdout",
     "output_type": "stream",
     "text": [
      "+----+--------+--------+----------+\n",
      "|year|    boys|   girls|boysPercnt|\n",
      "+----+--------+--------+----------+\n",
      "|1880| 90993.0|110491.0|     45.16|\n",
      "|1881| 91954.0|100745.0|     47.72|\n",
      "|1882|107850.0|113688.0|     48.68|\n",
      "|1883|112321.0|104629.0|     51.77|\n",
      "|1884|129022.0|114445.0|     52.99|\n",
      "|1885|133055.0|107800.0|     55.24|\n",
      "|1886|144535.0|110784.0|     56.61|\n",
      "|1887|145982.0|101414.0|     59.01|\n",
      "|1888|178627.0|120853.0|     59.65|\n",
      "|1889|178366.0|110584.0|     61.73|\n",
      "|1890|190377.0|111025.0|     63.16|\n",
      "|1891|185482.0|101196.0|      64.7|\n",
      "|1892|212346.0|122037.0|      63.5|\n",
      "|1893|212906.0|112317.0|     65.46|\n",
      "|1894|222922.0|115772.0|     65.82|\n",
      "|1895|233630.0|117398.0|     66.56|\n",
      "|1896|237920.0|119570.0|     66.55|\n",
      "|1897|234202.0|112758.0|      67.5|\n",
      "|1898|258770.0|122693.0|     67.84|\n",
      "|1899|233023.0|106212.0|     68.69|\n",
      "+----+--------+--------+----------+\n",
      "only showing top 20 rows\n",
      "\n"
     ]
    }
   ],
   "source": [
    "# 4. 남아율(%)컬럼을 추가하고 각년도별 남아수가 차지하는 비율을 보여주시요\n",
    "df.withColumn('boysPercnt', func.round( df['boys']/(df['boys']+df['girls'])*100,2)).show()"
   ]
  },
  {
   "cell_type": "code",
   "execution_count": 29,
   "id": "6456d003",
   "metadata": {},
   "outputs": [
    {
     "name": "stdout",
     "output_type": "stream",
     "text": [
      "+------------+------------------+\n",
      "|  sum(girls)|        avg(girls)|\n",
      "+------------+------------------+\n",
      "|1.64392696E8|1245399.2121212122|\n",
      "+------------+------------------+\n",
      "\n"
     ]
    }
   ],
   "source": [
    "df.agg(func.sum('girls'), func.mean('girls')).show()"
   ]
  },
  {
   "cell_type": "code",
   "execution_count": 30,
   "id": "09665aeb",
   "metadata": {},
   "outputs": [
    {
     "name": "stdout",
     "output_type": "stream",
     "text": [
      "+------------+------------------+\n",
      "|        총합|              평균|\n",
      "+------------+------------------+\n",
      "|1.64392696E8|1245399.2121212122|\n",
      "+------------+------------------+\n",
      "\n"
     ]
    }
   ],
   "source": [
    "df.agg( func.sum('girls').alias('총합'), \n",
    "       func.mean('girls').alias('평균') ).show()"
   ]
  },
  {
   "cell_type": "code",
   "execution_count": null,
   "id": "86d8160b",
   "metadata": {},
   "outputs": [],
   "source": []
  }
 ],
 "metadata": {
  "kernelspec": {
   "display_name": "Python 3 (ipykernel)",
   "language": "python",
   "name": "python3"
  },
  "language_info": {
   "codemirror_mode": {
    "name": "ipython",
    "version": 3
   },
   "file_extension": ".py",
   "mimetype": "text/x-python",
   "name": "python",
   "nbconvert_exporter": "python",
   "pygments_lexer": "ipython3",
   "version": "3.9.7"
  }
 },
 "nbformat": 4,
 "nbformat_minor": 5
}
