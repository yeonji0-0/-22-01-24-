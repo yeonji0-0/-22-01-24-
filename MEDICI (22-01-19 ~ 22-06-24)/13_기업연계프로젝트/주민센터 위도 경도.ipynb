{
 "cells": [
  {
   "cell_type": "code",
   "execution_count": 93,
   "id": "c37d83b4",
   "metadata": {
    "ExecuteTime": {
     "end_time": "2022-05-10T02:12:09.773277Z",
     "start_time": "2022-05-10T02:12:09.756624Z"
    }
   },
   "outputs": [],
   "source": [
    "from selenium import webdriver\n",
    "from selenium.webdriver.chrome.service import Service\n",
    "from selenium.webdriver.common.by import By\n",
    "import urllib.request\n",
    "import time\n",
    "import pandas as pd"
   ]
  },
  {
   "cell_type": "code",
   "execution_count": 4,
   "id": "b8d2050d",
   "metadata": {
    "ExecuteTime": {
     "end_time": "2022-05-10T00:26:00.909037Z",
     "start_time": "2022-05-10T00:26:00.903059Z"
    }
   },
   "outputs": [],
   "source": [
    "path = r\"C:\\Users\\MEDICI\\Documents\\Coding\\chromedriver.exe\" "
   ]
  },
  {
   "cell_type": "code",
   "execution_count": 69,
   "id": "71f9d8e1",
   "metadata": {
    "ExecuteTime": {
     "end_time": "2022-05-10T01:49:58.717998Z",
     "start_time": "2022-05-10T01:49:55.958518Z"
    }
   },
   "outputs": [],
   "source": [
    "url =\"https://www.myhome.go.kr/hws/portal/cmt/selectCmtSrvCntrListView.do\"\n",
    "s = Service(path)\n",
    "driver = webdriver.Chrome(service=s)\n",
    "driver.get(url)"
   ]
  },
  {
   "cell_type": "code",
   "execution_count": 174,
   "id": "a52fafd5",
   "metadata": {
    "ExecuteTime": {
     "end_time": "2022-05-10T03:19:55.330659Z",
     "start_time": "2022-05-10T03:19:55.323623Z"
    }
   },
   "outputs": [],
   "source": [
    "jumin = []\n",
    "juso = []"
   ]
  },
  {
   "cell_type": "code",
   "execution_count": 175,
   "id": "414b0061",
   "metadata": {
    "ExecuteTime": {
     "end_time": "2022-05-10T03:24:14.703985Z",
     "start_time": "2022-05-10T03:19:57.633656Z"
    }
   },
   "outputs": [
    {
     "ename": "NoSuchElementException",
     "evalue": "Message: no such element: Unable to locate element: {\"method\":\"xpath\",\"selector\":\"//*[@id=\"schTbody\"]/tr[5]/td[2]\"}\n  (Session info: chrome=100.0.4896.127)\nStacktrace:\nBacktrace:\n\tOrdinal0 [0x00DD9943+2595139]\n\tOrdinal0 [0x00D6C9F1+2148849]\n\tOrdinal0 [0x00C64528+1066280]\n\tOrdinal0 [0x00C90FD4+1249236]\n\tOrdinal0 [0x00C911CB+1249739]\n\tOrdinal0 [0x00CBD812+1431570]\n\tOrdinal0 [0x00CABA34+1358388]\n\tOrdinal0 [0x00CBBAF2+1424114]\n\tOrdinal0 [0x00CAB806+1357830]\n\tOrdinal0 [0x00C86086+1204358]\n\tOrdinal0 [0x00C86F96+1208214]\n\tGetHandleVerifier [0x00F7B232+1658114]\n\tGetHandleVerifier [0x0103312C+2411516]\n\tGetHandleVerifier [0x00E6F261+560433]\n\tGetHandleVerifier [0x00E6E366+556598]\n\tOrdinal0 [0x00D7286B+2173035]\n\tOrdinal0 [0x00D775F8+2192888]\n\tOrdinal0 [0x00D776E5+2193125]\n\tOrdinal0 [0x00D811FC+2232828]\n\tBaseThreadInitThunk [0x762AFA29+25]\n\tRtlGetAppContainerNamedObjectPath [0x76FA7A7E+286]\n\tRtlGetAppContainerNamedObjectPath [0x76FA7A4E+238]\n",
     "output_type": "error",
     "traceback": [
      "\u001b[1;31m---------------------------------------------------------------------------\u001b[0m",
      "\u001b[1;31mNoSuchElementException\u001b[0m                    Traceback (most recent call last)",
      "\u001b[1;32m~\\AppData\\Local\\Temp/ipykernel_40556/4032560565.py\u001b[0m in \u001b[0;36m<module>\u001b[1;34m\u001b[0m\n\u001b[0;32m     14\u001b[0m                 \u001b[0mtime\u001b[0m\u001b[1;33m.\u001b[0m\u001b[0msleep\u001b[0m\u001b[1;33m(\u001b[0m\u001b[1;36m5\u001b[0m\u001b[1;33m)\u001b[0m\u001b[1;33m\u001b[0m\u001b[1;33m\u001b[0m\u001b[0m\n\u001b[0;32m     15\u001b[0m                 \u001b[1;32mfor\u001b[0m \u001b[0mi\u001b[0m \u001b[1;32min\u001b[0m \u001b[0mrange\u001b[0m\u001b[1;33m(\u001b[0m\u001b[1;36m1\u001b[0m\u001b[1;33m,\u001b[0m\u001b[1;36m11\u001b[0m\u001b[1;33m)\u001b[0m\u001b[1;33m:\u001b[0m\u001b[1;33m\u001b[0m\u001b[1;33m\u001b[0m\u001b[0m\n\u001b[1;32m---> 16\u001b[1;33m                     \u001b[1;32mif\u001b[0m \u001b[0mdriver\u001b[0m\u001b[1;33m.\u001b[0m\u001b[0mfind_element\u001b[0m\u001b[1;33m(\u001b[0m\u001b[0mBy\u001b[0m\u001b[1;33m.\u001b[0m\u001b[0mXPATH\u001b[0m\u001b[1;33m,\u001b[0m \u001b[1;34m'//*[@id=\"schTbody\"]/tr['\u001b[0m\u001b[1;33m+\u001b[0m\u001b[0mstr\u001b[0m\u001b[1;33m(\u001b[0m\u001b[0mi\u001b[0m\u001b[1;33m)\u001b[0m\u001b[1;33m+\u001b[0m\u001b[1;34m']/td[2]'\u001b[0m\u001b[1;33m)\u001b[0m\u001b[1;33m.\u001b[0m\u001b[0mtext\u001b[0m \u001b[1;33m!=\u001b[0m \u001b[1;33m[\u001b[0m\u001b[1;33m]\u001b[0m\u001b[1;33m:\u001b[0m\u001b[1;33m\u001b[0m\u001b[1;33m\u001b[0m\u001b[0m\n\u001b[0m\u001b[0;32m     17\u001b[0m                         \u001b[0mjumin\u001b[0m\u001b[1;33m.\u001b[0m\u001b[0mappend\u001b[0m\u001b[1;33m(\u001b[0m\u001b[0mdriver\u001b[0m\u001b[1;33m.\u001b[0m\u001b[0mfind_element\u001b[0m\u001b[1;33m(\u001b[0m\u001b[0mBy\u001b[0m\u001b[1;33m.\u001b[0m\u001b[0mXPATH\u001b[0m\u001b[1;33m,\u001b[0m \u001b[1;34m'//*[@id=\"schTbody\"]/tr['\u001b[0m\u001b[1;33m+\u001b[0m\u001b[0mstr\u001b[0m\u001b[1;33m(\u001b[0m\u001b[0mi\u001b[0m\u001b[1;33m)\u001b[0m\u001b[1;33m+\u001b[0m\u001b[1;34m']/td[2]'\u001b[0m\u001b[1;33m)\u001b[0m\u001b[1;33m.\u001b[0m\u001b[0mtext\u001b[0m\u001b[1;33m)\u001b[0m\u001b[1;33m\u001b[0m\u001b[1;33m\u001b[0m\u001b[0m\n\u001b[0;32m     18\u001b[0m                         \u001b[0mjuso\u001b[0m\u001b[1;33m.\u001b[0m\u001b[0mappend\u001b[0m\u001b[1;33m(\u001b[0m\u001b[0mdriver\u001b[0m\u001b[1;33m.\u001b[0m\u001b[0mfind_element\u001b[0m\u001b[1;33m(\u001b[0m\u001b[0mBy\u001b[0m\u001b[1;33m.\u001b[0m\u001b[0mXPATH\u001b[0m\u001b[1;33m,\u001b[0m \u001b[1;34m'//*[@id=\"schTbody\"]/tr['\u001b[0m\u001b[1;33m+\u001b[0m\u001b[0mstr\u001b[0m\u001b[1;33m(\u001b[0m\u001b[0mi\u001b[0m\u001b[1;33m)\u001b[0m\u001b[1;33m+\u001b[0m\u001b[1;34m']/td[4]/a'\u001b[0m\u001b[1;33m)\u001b[0m\u001b[1;33m.\u001b[0m\u001b[0mtext\u001b[0m\u001b[1;33m)\u001b[0m\u001b[1;33m\u001b[0m\u001b[1;33m\u001b[0m\u001b[0m\n",
      "\u001b[1;32m~\\Anaconda3\\lib\\site-packages\\selenium\\webdriver\\remote\\webdriver.py\u001b[0m in \u001b[0;36mfind_element\u001b[1;34m(self, by, value)\u001b[0m\n\u001b[0;32m   1242\u001b[0m             \u001b[0mvalue\u001b[0m \u001b[1;33m=\u001b[0m \u001b[1;34m'[name=\"%s\"]'\u001b[0m \u001b[1;33m%\u001b[0m \u001b[0mvalue\u001b[0m\u001b[1;33m\u001b[0m\u001b[1;33m\u001b[0m\u001b[0m\n\u001b[0;32m   1243\u001b[0m \u001b[1;33m\u001b[0m\u001b[0m\n\u001b[1;32m-> 1244\u001b[1;33m         return self.execute(Command.FIND_ELEMENT, {\n\u001b[0m\u001b[0;32m   1245\u001b[0m             \u001b[1;34m'using'\u001b[0m\u001b[1;33m:\u001b[0m \u001b[0mby\u001b[0m\u001b[1;33m,\u001b[0m\u001b[1;33m\u001b[0m\u001b[1;33m\u001b[0m\u001b[0m\n\u001b[0;32m   1246\u001b[0m             'value': value})['value']\n",
      "\u001b[1;32m~\\Anaconda3\\lib\\site-packages\\selenium\\webdriver\\remote\\webdriver.py\u001b[0m in \u001b[0;36mexecute\u001b[1;34m(self, driver_command, params)\u001b[0m\n\u001b[0;32m    422\u001b[0m         \u001b[0mresponse\u001b[0m \u001b[1;33m=\u001b[0m \u001b[0mself\u001b[0m\u001b[1;33m.\u001b[0m\u001b[0mcommand_executor\u001b[0m\u001b[1;33m.\u001b[0m\u001b[0mexecute\u001b[0m\u001b[1;33m(\u001b[0m\u001b[0mdriver_command\u001b[0m\u001b[1;33m,\u001b[0m \u001b[0mparams\u001b[0m\u001b[1;33m)\u001b[0m\u001b[1;33m\u001b[0m\u001b[1;33m\u001b[0m\u001b[0m\n\u001b[0;32m    423\u001b[0m         \u001b[1;32mif\u001b[0m \u001b[0mresponse\u001b[0m\u001b[1;33m:\u001b[0m\u001b[1;33m\u001b[0m\u001b[1;33m\u001b[0m\u001b[0m\n\u001b[1;32m--> 424\u001b[1;33m             \u001b[0mself\u001b[0m\u001b[1;33m.\u001b[0m\u001b[0merror_handler\u001b[0m\u001b[1;33m.\u001b[0m\u001b[0mcheck_response\u001b[0m\u001b[1;33m(\u001b[0m\u001b[0mresponse\u001b[0m\u001b[1;33m)\u001b[0m\u001b[1;33m\u001b[0m\u001b[1;33m\u001b[0m\u001b[0m\n\u001b[0m\u001b[0;32m    425\u001b[0m             response['value'] = self._unwrap_value(\n\u001b[0;32m    426\u001b[0m                 response.get('value', None))\n",
      "\u001b[1;32m~\\Anaconda3\\lib\\site-packages\\selenium\\webdriver\\remote\\errorhandler.py\u001b[0m in \u001b[0;36mcheck_response\u001b[1;34m(self, response)\u001b[0m\n\u001b[0;32m    245\u001b[0m                 \u001b[0malert_text\u001b[0m \u001b[1;33m=\u001b[0m \u001b[0mvalue\u001b[0m\u001b[1;33m[\u001b[0m\u001b[1;34m'alert'\u001b[0m\u001b[1;33m]\u001b[0m\u001b[1;33m.\u001b[0m\u001b[0mget\u001b[0m\u001b[1;33m(\u001b[0m\u001b[1;34m'text'\u001b[0m\u001b[1;33m)\u001b[0m\u001b[1;33m\u001b[0m\u001b[1;33m\u001b[0m\u001b[0m\n\u001b[0;32m    246\u001b[0m             \u001b[1;32mraise\u001b[0m \u001b[0mexception_class\u001b[0m\u001b[1;33m(\u001b[0m\u001b[0mmessage\u001b[0m\u001b[1;33m,\u001b[0m \u001b[0mscreen\u001b[0m\u001b[1;33m,\u001b[0m \u001b[0mstacktrace\u001b[0m\u001b[1;33m,\u001b[0m \u001b[0malert_text\u001b[0m\u001b[1;33m)\u001b[0m  \u001b[1;31m# type: ignore[call-arg]  # mypy is not smart enough here\u001b[0m\u001b[1;33m\u001b[0m\u001b[1;33m\u001b[0m\u001b[0m\n\u001b[1;32m--> 247\u001b[1;33m         \u001b[1;32mraise\u001b[0m \u001b[0mexception_class\u001b[0m\u001b[1;33m(\u001b[0m\u001b[0mmessage\u001b[0m\u001b[1;33m,\u001b[0m \u001b[0mscreen\u001b[0m\u001b[1;33m,\u001b[0m \u001b[0mstacktrace\u001b[0m\u001b[1;33m)\u001b[0m\u001b[1;33m\u001b[0m\u001b[1;33m\u001b[0m\u001b[0m\n\u001b[0m\u001b[0;32m    248\u001b[0m \u001b[1;33m\u001b[0m\u001b[0m\n\u001b[0;32m    249\u001b[0m     \u001b[1;32mdef\u001b[0m \u001b[0m_value_or_default\u001b[0m\u001b[1;33m(\u001b[0m\u001b[0mself\u001b[0m\u001b[1;33m,\u001b[0m \u001b[0mobj\u001b[0m\u001b[1;33m:\u001b[0m \u001b[0mMapping\u001b[0m\u001b[1;33m[\u001b[0m\u001b[0m_KT\u001b[0m\u001b[1;33m,\u001b[0m \u001b[0m_VT\u001b[0m\u001b[1;33m]\u001b[0m\u001b[1;33m,\u001b[0m \u001b[0mkey\u001b[0m\u001b[1;33m:\u001b[0m \u001b[0m_KT\u001b[0m\u001b[1;33m,\u001b[0m \u001b[0mdefault\u001b[0m\u001b[1;33m:\u001b[0m \u001b[0m_VT\u001b[0m\u001b[1;33m)\u001b[0m \u001b[1;33m->\u001b[0m \u001b[0m_VT\u001b[0m\u001b[1;33m:\u001b[0m\u001b[1;33m\u001b[0m\u001b[1;33m\u001b[0m\u001b[0m\n",
      "\u001b[1;31mNoSuchElementException\u001b[0m: Message: no such element: Unable to locate element: {\"method\":\"xpath\",\"selector\":\"//*[@id=\"schTbody\"]/tr[5]/td[2]\"}\n  (Session info: chrome=100.0.4896.127)\nStacktrace:\nBacktrace:\n\tOrdinal0 [0x00DD9943+2595139]\n\tOrdinal0 [0x00D6C9F1+2148849]\n\tOrdinal0 [0x00C64528+1066280]\n\tOrdinal0 [0x00C90FD4+1249236]\n\tOrdinal0 [0x00C911CB+1249739]\n\tOrdinal0 [0x00CBD812+1431570]\n\tOrdinal0 [0x00CABA34+1358388]\n\tOrdinal0 [0x00CBBAF2+1424114]\n\tOrdinal0 [0x00CAB806+1357830]\n\tOrdinal0 [0x00C86086+1204358]\n\tOrdinal0 [0x00C86F96+1208214]\n\tGetHandleVerifier [0x00F7B232+1658114]\n\tGetHandleVerifier [0x0103312C+2411516]\n\tGetHandleVerifier [0x00E6F261+560433]\n\tGetHandleVerifier [0x00E6E366+556598]\n\tOrdinal0 [0x00D7286B+2173035]\n\tOrdinal0 [0x00D775F8+2192888]\n\tOrdinal0 [0x00D776E5+2193125]\n\tOrdinal0 [0x00D811FC+2232828]\n\tBaseThreadInitThunk [0x762AFA29+25]\n\tRtlGetAppContainerNamedObjectPath [0x76FA7A7E+286]\n\tRtlGetAppContainerNamedObjectPath [0x76FA7A4E+238]\n"
     ]
    }
   ],
   "source": [
    "url =\"https://www.myhome.go.kr/hws/portal/cmt/selectCmtSrvCntrListView.do\"\n",
    "s = Service(path)\n",
    "driver = webdriver.Chrome(service=s)\n",
    "driver.get(url)\n",
    "driver.find_element(By.XPATH,'//*[@id=\"srcBrtCd\"]').click()\n",
    "driver.find_element(By.XPATH,'//*[@id=\"srcBrtCd\"]/option[2]').click()\n",
    "time.sleep(0.8)\n",
    "for _ in range(1,6):\n",
    "    time.sleep(3)\n",
    "    for j in range(3,14):\n",
    "        if driver.find_element(By.XPATH, '//*[@id=\"pageDiv\"]/ul/li['+str(j)+']/a').text != []: \n",
    "            if j != 13:\n",
    "                driver.find_element(By.XPATH, '//*[@id=\"pageDiv\"]/ul/li['+str(j)+']/a').click()\n",
    "                time.sleep(5)\n",
    "                for i in range(1,11):\n",
    "                    if driver.find_element(By.XPATH, '//*[@id=\"schTbody\"]/tr['+str(i)+']/td[2]').text != []:\n",
    "                        jumin.append(driver.find_element(By.XPATH, '//*[@id=\"schTbody\"]/tr['+str(i)+']/td[2]').text) \n",
    "                        juso.append(driver.find_element(By.XPATH, '//*[@id=\"schTbody\"]/tr['+str(i)+']/td[4]/a').text)\n",
    "                    else:\n",
    "                        break\n",
    "            else: \n",
    "                driver.find_element(By.XPATH, '//*[@id=\"page_last_a\"]').click()\n",
    "        "
   ]
  },
  {
   "cell_type": "code",
   "execution_count": 265,
   "id": "a4b7c440",
   "metadata": {
    "ExecuteTime": {
     "end_time": "2022-05-10T06:23:48.414703Z",
     "start_time": "2022-05-10T06:23:48.396678Z"
    },
    "scrolled": true
   },
   "outputs": [
    {
     "data": {
      "text/html": [
       "<div>\n",
       "<style scoped>\n",
       "    .dataframe tbody tr th:only-of-type {\n",
       "        vertical-align: middle;\n",
       "    }\n",
       "\n",
       "    .dataframe tbody tr th {\n",
       "        vertical-align: top;\n",
       "    }\n",
       "\n",
       "    .dataframe thead th {\n",
       "        text-align: right;\n",
       "    }\n",
       "</style>\n",
       "<table border=\"1\" class=\"dataframe\">\n",
       "  <thead>\n",
       "    <tr style=\"text-align: right;\">\n",
       "      <th></th>\n",
       "      <th>주민센터</th>\n",
       "      <th>주소</th>\n",
       "    </tr>\n",
       "  </thead>\n",
       "  <tbody>\n",
       "    <tr>\n",
       "      <th>0</th>\n",
       "      <td>청운효자동 주민센터</td>\n",
       "      <td>서울특별시 종로구 자하문로 92</td>\n",
       "    </tr>\n",
       "    <tr>\n",
       "      <th>1</th>\n",
       "      <td>사직동 주민센터</td>\n",
       "      <td>서울특별시 종로구 사직로9길 1</td>\n",
       "    </tr>\n",
       "    <tr>\n",
       "      <th>2</th>\n",
       "      <td>종로1-4가동 주민센터</td>\n",
       "      <td>서울특별시 종로구 종로17길 8</td>\n",
       "    </tr>\n",
       "    <tr>\n",
       "      <th>3</th>\n",
       "      <td>삼청동 주민센터</td>\n",
       "      <td>서울특별시 종로구 삼청로 107</td>\n",
       "    </tr>\n",
       "    <tr>\n",
       "      <th>4</th>\n",
       "      <td>가회동 주민센터</td>\n",
       "      <td>서울특별시 종로구 북촌로 35</td>\n",
       "    </tr>\n",
       "    <tr>\n",
       "      <th>...</th>\n",
       "      <td>...</td>\n",
       "      <td>...</td>\n",
       "    </tr>\n",
       "    <tr>\n",
       "      <th>419</th>\n",
       "      <td>성내3동 주민센터</td>\n",
       "      <td>서울특별시 강동구 강동대로53길 76</td>\n",
       "    </tr>\n",
       "    <tr>\n",
       "      <th>420</th>\n",
       "      <td>천호1동 주민센터</td>\n",
       "      <td>서울특별시 강동구 구천면로42길 59</td>\n",
       "    </tr>\n",
       "    <tr>\n",
       "      <th>421</th>\n",
       "      <td>천호2동 주민센터</td>\n",
       "      <td>서울특별시 강동구 올림픽로 698</td>\n",
       "    </tr>\n",
       "    <tr>\n",
       "      <th>422</th>\n",
       "      <td>천호3동 주민센터</td>\n",
       "      <td>서울특별시 강동구 진황도로23길 7</td>\n",
       "    </tr>\n",
       "    <tr>\n",
       "      <th>423</th>\n",
       "      <td>강일동 주민센터</td>\n",
       "      <td>서울특별시 강동구 아리수로93길 9-14</td>\n",
       "    </tr>\n",
       "  </tbody>\n",
       "</table>\n",
       "<p>424 rows × 2 columns</p>\n",
       "</div>"
      ],
      "text/plain": [
       "             주민센터                      주소\n",
       "0      청운효자동 주민센터       서울특별시 종로구 자하문로 92\n",
       "1        사직동 주민센터       서울특별시 종로구 사직로9길 1\n",
       "2    종로1-4가동 주민센터       서울특별시 종로구 종로17길 8\n",
       "3        삼청동 주민센터       서울특별시 종로구 삼청로 107\n",
       "4        가회동 주민센터        서울특별시 종로구 북촌로 35\n",
       "..            ...                     ...\n",
       "419     성내3동 주민센터    서울특별시 강동구 강동대로53길 76\n",
       "420     천호1동 주민센터    서울특별시 강동구 구천면로42길 59\n",
       "421     천호2동 주민센터      서울특별시 강동구 올림픽로 698\n",
       "422     천호3동 주민센터     서울특별시 강동구 진황도로23길 7\n",
       "423      강일동 주민센터  서울특별시 강동구 아리수로93길 9-14\n",
       "\n",
       "[424 rows x 2 columns]"
      ]
     },
     "execution_count": 265,
     "metadata": {},
     "output_type": "execute_result"
    }
   ],
   "source": [
    "pd.DataFrame({\"주민센터\":jumin,\"주소\":juso})\n"
   ]
  },
  {
   "cell_type": "code",
   "execution_count": 177,
   "id": "16874ca7",
   "metadata": {
    "ExecuteTime": {
     "end_time": "2022-05-10T04:54:21.528346Z",
     "start_time": "2022-05-10T04:54:18.411173Z"
    }
   },
   "outputs": [
    {
     "name": "stdout",
     "output_type": "stream",
     "text": [
      "Requirement already satisfied: geopy in c:\\users\\medici\\anaconda3\\lib\\site-packages (2.2.0)\n",
      "Requirement already satisfied: geographiclib<2,>=1.49 in c:\\users\\medici\\anaconda3\\lib\\site-packages (from geopy) (1.52)\n",
      "Note: you may need to restart the kernel to use updated packages.\n"
     ]
    }
   ],
   "source": [
    "pip install geopy"
   ]
  },
  {
   "cell_type": "code",
   "execution_count": 215,
   "id": "8b063676",
   "metadata": {
    "ExecuteTime": {
     "end_time": "2022-05-10T05:28:57.337732Z",
     "start_time": "2022-05-10T05:28:57.328631Z"
    }
   },
   "outputs": [],
   "source": [
    "from geopy.geocoders import Nominatim\n",
    "geo_local = Nominatim(user_agent='South Korea')\n",
    "address= juso\n",
    "# 위도, 경도 반환하는 함수\n",
    "def geocoding(address):\n",
    "    geo = geo_local.geocode(address)\n",
    "    x_y = [geo.latitude, geo.longitude]\n",
    "    return x_y"
   ]
  },
  {
   "cell_type": "code",
   "execution_count": 260,
   "id": "9d08b34f",
   "metadata": {
    "ExecuteTime": {
     "end_time": "2022-05-10T06:22:09.657319Z",
     "start_time": "2022-05-10T06:15:05.912476Z"
    }
   },
   "outputs": [],
   "source": [
    "latitude = []\n",
    "longitude =[]\n",
    "\n",
    "for i in address:\n",
    "    try :\n",
    "        latitude.append(geocoding(i)[0])\n",
    "        longitude.append(geocoding(i)[1])\n",
    "    except AttributeError:\n",
    "        latitude.append(0)\n",
    "        longitude.append(0)\n"
   ]
  },
  {
   "cell_type": "code",
   "execution_count": 264,
   "id": "a6f35a88",
   "metadata": {
    "ExecuteTime": {
     "end_time": "2022-05-10T06:23:32.849993Z",
     "start_time": "2022-05-10T06:23:32.834004Z"
    }
   },
   "outputs": [
    {
     "data": {
      "text/html": [
       "<div>\n",
       "<style scoped>\n",
       "    .dataframe tbody tr th:only-of-type {\n",
       "        vertical-align: middle;\n",
       "    }\n",
       "\n",
       "    .dataframe tbody tr th {\n",
       "        vertical-align: top;\n",
       "    }\n",
       "\n",
       "    .dataframe thead th {\n",
       "        text-align: right;\n",
       "    }\n",
       "</style>\n",
       "<table border=\"1\" class=\"dataframe\">\n",
       "  <thead>\n",
       "    <tr style=\"text-align: right;\">\n",
       "      <th></th>\n",
       "      <th>주민센터</th>\n",
       "      <th>주소</th>\n",
       "      <th>위도</th>\n",
       "      <th>경도</th>\n",
       "    </tr>\n",
       "  </thead>\n",
       "  <tbody>\n",
       "    <tr>\n",
       "      <th>0</th>\n",
       "      <td>청운효자동 주민센터</td>\n",
       "      <td>서울특별시 종로구 자하문로 92</td>\n",
       "      <td>37.584083</td>\n",
       "      <td>126.970636</td>\n",
       "    </tr>\n",
       "    <tr>\n",
       "      <th>1</th>\n",
       "      <td>사직동 주민센터</td>\n",
       "      <td>서울특별시 종로구 사직로9길 1</td>\n",
       "      <td>37.576191</td>\n",
       "      <td>126.968829</td>\n",
       "    </tr>\n",
       "    <tr>\n",
       "      <th>2</th>\n",
       "      <td>종로1-4가동 주민센터</td>\n",
       "      <td>서울특별시 종로구 종로17길 8</td>\n",
       "      <td>37.570728</td>\n",
       "      <td>126.988912</td>\n",
       "    </tr>\n",
       "    <tr>\n",
       "      <th>3</th>\n",
       "      <td>삼청동 주민센터</td>\n",
       "      <td>서울특별시 종로구 삼청로 107</td>\n",
       "      <td>37.584979</td>\n",
       "      <td>126.981782</td>\n",
       "    </tr>\n",
       "    <tr>\n",
       "      <th>4</th>\n",
       "      <td>가회동 주민센터</td>\n",
       "      <td>서울특별시 종로구 북촌로 35</td>\n",
       "      <td>37.580025</td>\n",
       "      <td>126.984805</td>\n",
       "    </tr>\n",
       "    <tr>\n",
       "      <th>...</th>\n",
       "      <td>...</td>\n",
       "      <td>...</td>\n",
       "      <td>...</td>\n",
       "      <td>...</td>\n",
       "    </tr>\n",
       "    <tr>\n",
       "      <th>419</th>\n",
       "      <td>성내3동 주민센터</td>\n",
       "      <td>서울특별시 강동구 강동대로53길 76</td>\n",
       "      <td>37.525568</td>\n",
       "      <td>127.131712</td>\n",
       "    </tr>\n",
       "    <tr>\n",
       "      <th>420</th>\n",
       "      <td>천호1동 주민센터</td>\n",
       "      <td>서울특별시 강동구 구천면로42길 59</td>\n",
       "      <td>37.542726</td>\n",
       "      <td>127.137356</td>\n",
       "    </tr>\n",
       "    <tr>\n",
       "      <th>421</th>\n",
       "      <td>천호2동 주민센터</td>\n",
       "      <td>서울특별시 강동구 올림픽로 698</td>\n",
       "      <td>37.538545</td>\n",
       "      <td>127.123474</td>\n",
       "    </tr>\n",
       "    <tr>\n",
       "      <th>422</th>\n",
       "      <td>천호3동 주민센터</td>\n",
       "      <td>서울특별시 강동구 진황도로23길 7</td>\n",
       "      <td>37.539519</td>\n",
       "      <td>127.129328</td>\n",
       "    </tr>\n",
       "    <tr>\n",
       "      <th>423</th>\n",
       "      <td>강일동 주민센터</td>\n",
       "      <td>서울특별시 강동구 아리수로93길 9-14</td>\n",
       "      <td>37.564942</td>\n",
       "      <td>127.173915</td>\n",
       "    </tr>\n",
       "  </tbody>\n",
       "</table>\n",
       "<p>424 rows × 4 columns</p>\n",
       "</div>"
      ],
      "text/plain": [
       "             주민센터                      주소         위도          경도\n",
       "0      청운효자동 주민센터       서울특별시 종로구 자하문로 92  37.584083  126.970636\n",
       "1        사직동 주민센터       서울특별시 종로구 사직로9길 1  37.576191  126.968829\n",
       "2    종로1-4가동 주민센터       서울특별시 종로구 종로17길 8  37.570728  126.988912\n",
       "3        삼청동 주민센터       서울특별시 종로구 삼청로 107  37.584979  126.981782\n",
       "4        가회동 주민센터        서울특별시 종로구 북촌로 35  37.580025  126.984805\n",
       "..            ...                     ...        ...         ...\n",
       "419     성내3동 주민센터    서울특별시 강동구 강동대로53길 76  37.525568  127.131712\n",
       "420     천호1동 주민센터    서울특별시 강동구 구천면로42길 59  37.542726  127.137356\n",
       "421     천호2동 주민센터      서울특별시 강동구 올림픽로 698  37.538545  127.123474\n",
       "422     천호3동 주민센터     서울특별시 강동구 진황도로23길 7  37.539519  127.129328\n",
       "423      강일동 주민센터  서울특별시 강동구 아리수로93길 9-14  37.564942  127.173915\n",
       "\n",
       "[424 rows x 4 columns]"
      ]
     },
     "execution_count": 264,
     "metadata": {},
     "output_type": "execute_result"
    }
   ],
   "source": [
    "data = pd.DataFrame({\"주민센터\":jumin,\"주소\":juso,'위도':latitude,'경도':longitude})\n",
    "data"
   ]
  },
  {
   "cell_type": "code",
   "execution_count": 266,
   "id": "1f27eb35",
   "metadata": {
    "ExecuteTime": {
     "end_time": "2022-05-10T06:25:13.929529Z",
     "start_time": "2022-05-10T06:25:13.902495Z"
    }
   },
   "outputs": [
    {
     "data": {
      "text/html": [
       "<div>\n",
       "<style scoped>\n",
       "    .dataframe tbody tr th:only-of-type {\n",
       "        vertical-align: middle;\n",
       "    }\n",
       "\n",
       "    .dataframe tbody tr th {\n",
       "        vertical-align: top;\n",
       "    }\n",
       "\n",
       "    .dataframe thead th {\n",
       "        text-align: right;\n",
       "    }\n",
       "</style>\n",
       "<table border=\"1\" class=\"dataframe\">\n",
       "  <thead>\n",
       "    <tr style=\"text-align: right;\">\n",
       "      <th></th>\n",
       "      <th>주민센터</th>\n",
       "      <th>주소</th>\n",
       "      <th>위도</th>\n",
       "      <th>경도</th>\n",
       "    </tr>\n",
       "  </thead>\n",
       "  <tbody>\n",
       "    <tr>\n",
       "      <th>115</th>\n",
       "      <td>안암동 주민센터</td>\n",
       "      <td>서울특별시 성북구 인촌로 16</td>\n",
       "      <td>0.0</td>\n",
       "      <td>0.0</td>\n",
       "    </tr>\n",
       "    <tr>\n",
       "      <th>238</th>\n",
       "      <td>신정6동 주민센터</td>\n",
       "      <td>서울특별시 양천구 신남3길 6</td>\n",
       "      <td>0.0</td>\n",
       "      <td>0.0</td>\n",
       "    </tr>\n",
       "    <tr>\n",
       "      <th>274</th>\n",
       "      <td>수궁동 주민센터</td>\n",
       "      <td>서울특별시 구로구 오리로15길 32</td>\n",
       "      <td>0.0</td>\n",
       "      <td>0.0</td>\n",
       "    </tr>\n",
       "  </tbody>\n",
       "</table>\n",
       "</div>"
      ],
      "text/plain": [
       "          주민센터                   주소   위도   경도\n",
       "115   안암동 주민센터     서울특별시 성북구 인촌로 16  0.0  0.0\n",
       "238  신정6동 주민센터     서울특별시 양천구 신남3길 6  0.0  0.0\n",
       "274   수궁동 주민센터  서울특별시 구로구 오리로15길 32  0.0  0.0"
      ]
     },
     "execution_count": 266,
     "metadata": {},
     "output_type": "execute_result"
    }
   ],
   "source": [
    "data[data[\"위도\"] == 0]"
   ]
  },
  {
   "cell_type": "code",
   "execution_count": 280,
   "id": "6a2cb61c",
   "metadata": {
    "ExecuteTime": {
     "end_time": "2022-05-10T06:52:59.618384Z",
     "start_time": "2022-05-10T06:52:59.600186Z"
    }
   },
   "outputs": [],
   "source": [
    "data.iat[238,2] = 37.517354\n",
    "data.iat[238,3] = 126.864480"
   ]
  },
  {
   "cell_type": "code",
   "execution_count": 282,
   "id": "5f6e0ec6",
   "metadata": {
    "ExecuteTime": {
     "end_time": "2022-05-10T06:55:31.427718Z",
     "start_time": "2022-05-10T06:55:31.408716Z"
    }
   },
   "outputs": [],
   "source": [
    "data.iat[274,2] = 37.494002\n",
    "data.iat[274,3] = 126.831446"
   ]
  },
  {
   "cell_type": "code",
   "execution_count": 283,
   "id": "ab0467b2",
   "metadata": {
    "ExecuteTime": {
     "end_time": "2022-05-10T06:55:32.003517Z",
     "start_time": "2022-05-10T06:55:31.992516Z"
    }
   },
   "outputs": [],
   "source": [
    "data.iat[115,2] = 37.586034\n",
    "data.iat[115,3] = 127.021375"
   ]
  },
  {
   "cell_type": "code",
   "execution_count": 294,
   "id": "5bb826ea",
   "metadata": {
    "ExecuteTime": {
     "end_time": "2022-05-10T07:48:09.029065Z",
     "start_time": "2022-05-10T07:48:09.007051Z"
    }
   },
   "outputs": [
    {
     "data": {
      "text/html": [
       "<div>\n",
       "<style scoped>\n",
       "    .dataframe tbody tr th:only-of-type {\n",
       "        vertical-align: middle;\n",
       "    }\n",
       "\n",
       "    .dataframe tbody tr th {\n",
       "        vertical-align: top;\n",
       "    }\n",
       "\n",
       "    .dataframe thead th {\n",
       "        text-align: right;\n",
       "    }\n",
       "</style>\n",
       "<table border=\"1\" class=\"dataframe\">\n",
       "  <thead>\n",
       "    <tr style=\"text-align: right;\">\n",
       "      <th></th>\n",
       "      <th>주민센터</th>\n",
       "      <th>주소</th>\n",
       "      <th>위도</th>\n",
       "      <th>경도</th>\n",
       "    </tr>\n",
       "  </thead>\n",
       "  <tbody>\n",
       "    <tr>\n",
       "      <th>0</th>\n",
       "      <td>청운효자동 주민센터</td>\n",
       "      <td>서울특별시 종로구 자하문로 92</td>\n",
       "      <td>37.584083</td>\n",
       "      <td>126.970636</td>\n",
       "    </tr>\n",
       "    <tr>\n",
       "      <th>1</th>\n",
       "      <td>사직동 주민센터</td>\n",
       "      <td>서울특별시 종로구 사직로9길 1</td>\n",
       "      <td>37.576191</td>\n",
       "      <td>126.968829</td>\n",
       "    </tr>\n",
       "    <tr>\n",
       "      <th>2</th>\n",
       "      <td>종로1-4가동 주민센터</td>\n",
       "      <td>서울특별시 종로구 종로17길 8</td>\n",
       "      <td>37.570728</td>\n",
       "      <td>126.988912</td>\n",
       "    </tr>\n",
       "    <tr>\n",
       "      <th>3</th>\n",
       "      <td>삼청동 주민센터</td>\n",
       "      <td>서울특별시 종로구 삼청로 107</td>\n",
       "      <td>37.584979</td>\n",
       "      <td>126.981782</td>\n",
       "    </tr>\n",
       "    <tr>\n",
       "      <th>4</th>\n",
       "      <td>가회동 주민센터</td>\n",
       "      <td>서울특별시 종로구 북촌로 35</td>\n",
       "      <td>37.580025</td>\n",
       "      <td>126.984805</td>\n",
       "    </tr>\n",
       "    <tr>\n",
       "      <th>...</th>\n",
       "      <td>...</td>\n",
       "      <td>...</td>\n",
       "      <td>...</td>\n",
       "      <td>...</td>\n",
       "    </tr>\n",
       "    <tr>\n",
       "      <th>420</th>\n",
       "      <td>천호1동 주민센터</td>\n",
       "      <td>서울특별시 강동구 구천면로42길 59</td>\n",
       "      <td>37.542726</td>\n",
       "      <td>127.137356</td>\n",
       "    </tr>\n",
       "    <tr>\n",
       "      <th>421</th>\n",
       "      <td>천호2동 주민센터</td>\n",
       "      <td>서울특별시 강동구 올림픽로 698</td>\n",
       "      <td>37.538545</td>\n",
       "      <td>127.123474</td>\n",
       "    </tr>\n",
       "    <tr>\n",
       "      <th>422</th>\n",
       "      <td>천호3동 주민센터</td>\n",
       "      <td>서울특별시 강동구 진황도로23길 7</td>\n",
       "      <td>37.539519</td>\n",
       "      <td>127.129328</td>\n",
       "    </tr>\n",
       "    <tr>\n",
       "      <th>423</th>\n",
       "      <td>강일동 주민센터</td>\n",
       "      <td>서울특별시 강동구 아리수로93길 9-14</td>\n",
       "      <td>37.564942</td>\n",
       "      <td>127.173915</td>\n",
       "    </tr>\n",
       "    <tr>\n",
       "      <th>424</th>\n",
       "      <td>항동 주민센터</td>\n",
       "      <td>서울특별시 구로구 항동 119-6</td>\n",
       "      <td>37.480214</td>\n",
       "      <td>126.823492</td>\n",
       "    </tr>\n",
       "  </tbody>\n",
       "</table>\n",
       "<p>425 rows × 4 columns</p>\n",
       "</div>"
      ],
      "text/plain": [
       "             주민센터                      주소         위도          경도\n",
       "0      청운효자동 주민센터       서울특별시 종로구 자하문로 92  37.584083  126.970636\n",
       "1        사직동 주민센터       서울특별시 종로구 사직로9길 1  37.576191  126.968829\n",
       "2    종로1-4가동 주민센터       서울특별시 종로구 종로17길 8  37.570728  126.988912\n",
       "3        삼청동 주민센터       서울특별시 종로구 삼청로 107  37.584979  126.981782\n",
       "4        가회동 주민센터        서울특별시 종로구 북촌로 35  37.580025  126.984805\n",
       "..            ...                     ...        ...         ...\n",
       "420     천호1동 주민센터    서울특별시 강동구 구천면로42길 59  37.542726  127.137356\n",
       "421     천호2동 주민센터      서울특별시 강동구 올림픽로 698  37.538545  127.123474\n",
       "422     천호3동 주민센터     서울특별시 강동구 진황도로23길 7  37.539519  127.129328\n",
       "423      강일동 주민센터  서울특별시 강동구 아리수로93길 9-14  37.564942  127.173915\n",
       "424       항동 주민센터      서울특별시 구로구 항동 119-6  37.480214  126.823492\n",
       "\n",
       "[425 rows x 4 columns]"
      ]
     },
     "execution_count": 294,
     "metadata": {},
     "output_type": "execute_result"
    }
   ],
   "source": [
    "data = data.append({\"주민센터\":\"항동 주민센터\",\"주소\":\"서울특별시 구로구 항동 119-6\",'위도':37.480214,'경도':126.823492},ignore_index=True)\n",
    "data"
   ]
  },
  {
   "cell_type": "code",
   "execution_count": 295,
   "id": "923bf2eb",
   "metadata": {
    "ExecuteTime": {
     "end_time": "2022-05-10T07:57:05.188622Z",
     "start_time": "2022-05-10T07:57:05.167959Z"
    }
   },
   "outputs": [],
   "source": [
    "data.to_csv(\"latitude_longitude.csv\")"
   ]
  }
 ],
 "metadata": {
  "kernelspec": {
   "display_name": "Python 3 (ipykernel)",
   "language": "python",
   "name": "python3"
  },
  "language_info": {
   "codemirror_mode": {
    "name": "ipython",
    "version": 3
   },
   "file_extension": ".py",
   "mimetype": "text/x-python",
   "name": "python",
   "nbconvert_exporter": "python",
   "pygments_lexer": "ipython3",
   "version": "3.9.7"
  },
  "toc": {
   "base_numbering": 1,
   "nav_menu": {},
   "number_sections": true,
   "sideBar": true,
   "skip_h1_title": false,
   "title_cell": "Table of Contents",
   "title_sidebar": "Contents",
   "toc_cell": false,
   "toc_position": {},
   "toc_section_display": true,
   "toc_window_display": false
  },
  "varInspector": {
   "cols": {
    "lenName": 16,
    "lenType": 16,
    "lenVar": 40
   },
   "kernels_config": {
    "python": {
     "delete_cmd_postfix": "",
     "delete_cmd_prefix": "del ",
     "library": "var_list.py",
     "varRefreshCmd": "print(var_dic_list())"
    },
    "r": {
     "delete_cmd_postfix": ") ",
     "delete_cmd_prefix": "rm(",
     "library": "var_list.r",
     "varRefreshCmd": "cat(var_dic_list()) "
    }
   },
   "types_to_exclude": [
    "module",
    "function",
    "builtin_function_or_method",
    "instance",
    "_Feature"
   ],
   "window_display": false
  }
 },
 "nbformat": 4,
 "nbformat_minor": 5
}
