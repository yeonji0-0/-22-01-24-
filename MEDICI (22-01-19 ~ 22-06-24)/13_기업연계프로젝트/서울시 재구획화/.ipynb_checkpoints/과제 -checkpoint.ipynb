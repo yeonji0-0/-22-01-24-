{
 "cells": [
  {
   "cell_type": "code",
   "execution_count": 1,
   "id": "4b398ba9",
   "metadata": {
    "ExecuteTime": {
     "end_time": "2022-04-30T01:21:53.313338Z",
     "start_time": "2022-04-30T01:21:52.638311Z"
    }
   },
   "outputs": [],
   "source": [
    "import pandas as pd\n",
    "import numpy as np"
   ]
  },
  {
   "cell_type": "code",
   "execution_count": 66,
   "id": "ba76f7c0",
   "metadata": {
    "ExecuteTime": {
     "end_time": "2022-05-02T03:16:23.212011Z",
     "start_time": "2022-05-02T03:16:23.175686Z"
    }
   },
   "outputs": [
    {
     "data": {
      "text/html": [
       "<div>\n",
       "<style scoped>\n",
       "    .dataframe tbody tr th:only-of-type {\n",
       "        vertical-align: middle;\n",
       "    }\n",
       "\n",
       "    .dataframe tbody tr th {\n",
       "        vertical-align: top;\n",
       "    }\n",
       "\n",
       "    .dataframe thead th {\n",
       "        text-align: right;\n",
       "    }\n",
       "</style>\n",
       "<table border=\"1\" class=\"dataframe\">\n",
       "  <thead>\n",
       "    <tr style=\"text-align: right;\">\n",
       "      <th></th>\n",
       "      <th>district</th>\n",
       "      <th>price</th>\n",
       "      <th>elected_rate</th>\n",
       "      <th>elected_tf</th>\n",
       "    </tr>\n",
       "  </thead>\n",
       "  <tbody>\n",
       "    <tr>\n",
       "      <th>0</th>\n",
       "      <td>AA</td>\n",
       "      <td>3549.9</td>\n",
       "      <td>47.01</td>\n",
       "      <td>0</td>\n",
       "    </tr>\n",
       "    <tr>\n",
       "      <th>1</th>\n",
       "      <td>AB</td>\n",
       "      <td>3125.5</td>\n",
       "      <td>43.82</td>\n",
       "      <td>0</td>\n",
       "    </tr>\n",
       "    <tr>\n",
       "      <th>2</th>\n",
       "      <td>AC</td>\n",
       "      <td>3652.2</td>\n",
       "      <td>49.48</td>\n",
       "      <td>1</td>\n",
       "    </tr>\n",
       "    <tr>\n",
       "      <th>3</th>\n",
       "      <td>AD</td>\n",
       "      <td>3713.1</td>\n",
       "      <td>46.67</td>\n",
       "      <td>0</td>\n",
       "    </tr>\n",
       "    <tr>\n",
       "      <th>4</th>\n",
       "      <td>AE</td>\n",
       "      <td>3252.2</td>\n",
       "      <td>46.50</td>\n",
       "      <td>0</td>\n",
       "    </tr>\n",
       "  </tbody>\n",
       "</table>\n",
       "</div>"
      ],
      "text/plain": [
       "  district   price  elected_rate  elected_tf\n",
       "0       AA  3549.9         47.01           0\n",
       "1       AB  3125.5         43.82           0\n",
       "2       AC  3652.2         49.48           1\n",
       "3       AD  3713.1         46.67           0\n",
       "4       AE  3252.2         46.50           0"
      ]
     },
     "execution_count": 66,
     "metadata": {},
     "output_type": "execute_result"
    }
   ],
   "source": [
    "data = pd.read_csv(\"week1_data_election.csv\")\n",
    "data.head()"
   ]
  },
  {
   "cell_type": "code",
   "execution_count": 13,
   "id": "55bf966a",
   "metadata": {
    "ExecuteTime": {
     "end_time": "2022-04-30T01:31:02.816805Z",
     "start_time": "2022-04-30T01:31:02.809806Z"
    }
   },
   "outputs": [],
   "source": [
    "from sklearn.model_selection import train_test_split"
   ]
  },
  {
   "cell_type": "code",
   "execution_count": 80,
   "id": "f900b1f6",
   "metadata": {
    "ExecuteTime": {
     "end_time": "2022-05-02T04:58:27.502248Z",
     "start_time": "2022-05-02T04:58:27.485429Z"
    }
   },
   "outputs": [],
   "source": [
    "x = data.iloc[:,[1,2]]\n",
    "y = data.iloc[:,3]"
   ]
  },
  {
   "cell_type": "code",
   "execution_count": 81,
   "id": "c0ada9e3",
   "metadata": {
    "ExecuteTime": {
     "end_time": "2022-05-02T04:58:28.254625Z",
     "start_time": "2022-05-02T04:58:28.242601Z"
    }
   },
   "outputs": [],
   "source": [
    "x_train, x_test, y_train, y_test = train_test_split(x, y, test_size=0.25, random_state=0)\n"
   ]
  },
  {
   "cell_type": "code",
   "execution_count": 82,
   "id": "ab262123",
   "metadata": {
    "ExecuteTime": {
     "end_time": "2022-05-02T04:59:14.134003Z",
     "start_time": "2022-05-02T04:59:14.120394Z"
    }
   },
   "outputs": [],
   "source": [
    "from sklearn.preprocessing import LabelEncoder\n",
    "def encode_feature(df):\n",
    "    features = [\"district\"]\n",
    "\n",
    "\n",
    "    for f in features:\n",
    "        le = LabelEncoder()\n",
    "        le.fit(df.loc[:,f]) \n",
    "        df.loc[:,f] = le.transform(df.loc[:,f])\n",
    "\n",
    "    return df"
   ]
  },
  {
   "cell_type": "code",
   "execution_count": 83,
   "id": "2e741a64",
   "metadata": {
    "ExecuteTime": {
     "end_time": "2022-05-02T04:59:21.305301Z",
     "start_time": "2022-05-02T04:59:21.283099Z"
    },
    "scrolled": true
   },
   "outputs": [
    {
     "data": {
      "text/html": [
       "<div>\n",
       "<style scoped>\n",
       "    .dataframe tbody tr th:only-of-type {\n",
       "        vertical-align: middle;\n",
       "    }\n",
       "\n",
       "    .dataframe tbody tr th {\n",
       "        vertical-align: top;\n",
       "    }\n",
       "\n",
       "    .dataframe thead th {\n",
       "        text-align: right;\n",
       "    }\n",
       "</style>\n",
       "<table border=\"1\" class=\"dataframe\">\n",
       "  <thead>\n",
       "    <tr style=\"text-align: right;\">\n",
       "      <th></th>\n",
       "      <th>district</th>\n",
       "      <th>price</th>\n",
       "      <th>elected_rate</th>\n",
       "      <th>elected_tf</th>\n",
       "    </tr>\n",
       "  </thead>\n",
       "  <tbody>\n",
       "    <tr>\n",
       "      <th>0</th>\n",
       "      <td>0</td>\n",
       "      <td>3549.9</td>\n",
       "      <td>47.01</td>\n",
       "      <td>0</td>\n",
       "    </tr>\n",
       "    <tr>\n",
       "      <th>1</th>\n",
       "      <td>1</td>\n",
       "      <td>3125.5</td>\n",
       "      <td>43.82</td>\n",
       "      <td>0</td>\n",
       "    </tr>\n",
       "    <tr>\n",
       "      <th>2</th>\n",
       "      <td>2</td>\n",
       "      <td>3652.2</td>\n",
       "      <td>49.48</td>\n",
       "      <td>1</td>\n",
       "    </tr>\n",
       "    <tr>\n",
       "      <th>3</th>\n",
       "      <td>3</td>\n",
       "      <td>3713.1</td>\n",
       "      <td>46.67</td>\n",
       "      <td>0</td>\n",
       "    </tr>\n",
       "    <tr>\n",
       "      <th>4</th>\n",
       "      <td>4</td>\n",
       "      <td>3252.2</td>\n",
       "      <td>46.50</td>\n",
       "      <td>0</td>\n",
       "    </tr>\n",
       "    <tr>\n",
       "      <th>5</th>\n",
       "      <td>5</td>\n",
       "      <td>3127.5</td>\n",
       "      <td>45.73</td>\n",
       "      <td>0</td>\n",
       "    </tr>\n",
       "    <tr>\n",
       "      <th>6</th>\n",
       "      <td>6</td>\n",
       "      <td>3220.6</td>\n",
       "      <td>44.65</td>\n",
       "      <td>0</td>\n",
       "    </tr>\n",
       "    <tr>\n",
       "      <th>7</th>\n",
       "      <td>7</td>\n",
       "      <td>4800.4</td>\n",
       "      <td>51.64</td>\n",
       "      <td>1</td>\n",
       "    </tr>\n",
       "    <tr>\n",
       "      <th>8</th>\n",
       "      <td>8</td>\n",
       "      <td>4898.4</td>\n",
       "      <td>50.13</td>\n",
       "      <td>1</td>\n",
       "    </tr>\n",
       "    <tr>\n",
       "      <th>9</th>\n",
       "      <td>9</td>\n",
       "      <td>3718.1</td>\n",
       "      <td>47.22</td>\n",
       "      <td>0</td>\n",
       "    </tr>\n",
       "    <tr>\n",
       "      <th>10</th>\n",
       "      <td>10</td>\n",
       "      <td>5032.0</td>\n",
       "      <td>49.03</td>\n",
       "      <td>1</td>\n",
       "    </tr>\n",
       "    <tr>\n",
       "      <th>11</th>\n",
       "      <td>11</td>\n",
       "      <td>5290.5</td>\n",
       "      <td>53.20</td>\n",
       "      <td>1</td>\n",
       "    </tr>\n",
       "    <tr>\n",
       "      <th>12</th>\n",
       "      <td>12</td>\n",
       "      <td>5772.1</td>\n",
       "      <td>56.44</td>\n",
       "      <td>1</td>\n",
       "    </tr>\n",
       "    <tr>\n",
       "      <th>13</th>\n",
       "      <td>13</td>\n",
       "      <td>7477.6</td>\n",
       "      <td>65.13</td>\n",
       "      <td>1</td>\n",
       "    </tr>\n",
       "    <tr>\n",
       "      <th>14</th>\n",
       "      <td>14</td>\n",
       "      <td>8256.0</td>\n",
       "      <td>67.01</td>\n",
       "      <td>1</td>\n",
       "    </tr>\n",
       "    <tr>\n",
       "      <th>15</th>\n",
       "      <td>15</td>\n",
       "      <td>4100.6</td>\n",
       "      <td>46.97</td>\n",
       "      <td>0</td>\n",
       "    </tr>\n",
       "    <tr>\n",
       "      <th>16</th>\n",
       "      <td>16</td>\n",
       "      <td>3728.1</td>\n",
       "      <td>47.47</td>\n",
       "      <td>0</td>\n",
       "    </tr>\n",
       "    <tr>\n",
       "      <th>17</th>\n",
       "      <td>17</td>\n",
       "      <td>3852.6</td>\n",
       "      <td>49.16</td>\n",
       "      <td>1</td>\n",
       "    </tr>\n",
       "    <tr>\n",
       "      <th>18</th>\n",
       "      <td>18</td>\n",
       "      <td>6060.3</td>\n",
       "      <td>56.76</td>\n",
       "      <td>1</td>\n",
       "    </tr>\n",
       "    <tr>\n",
       "      <th>19</th>\n",
       "      <td>19</td>\n",
       "      <td>4535.8</td>\n",
       "      <td>50.96</td>\n",
       "      <td>1</td>\n",
       "    </tr>\n",
       "    <tr>\n",
       "      <th>20</th>\n",
       "      <td>20</td>\n",
       "      <td>4634.4</td>\n",
       "      <td>51.70</td>\n",
       "      <td>1</td>\n",
       "    </tr>\n",
       "    <tr>\n",
       "      <th>21</th>\n",
       "      <td>21</td>\n",
       "      <td>4736.9</td>\n",
       "      <td>50.51</td>\n",
       "      <td>1</td>\n",
       "    </tr>\n",
       "    <tr>\n",
       "      <th>22</th>\n",
       "      <td>22</td>\n",
       "      <td>5011.3</td>\n",
       "      <td>48.82</td>\n",
       "      <td>1</td>\n",
       "    </tr>\n",
       "    <tr>\n",
       "      <th>23</th>\n",
       "      <td>23</td>\n",
       "      <td>2854.3</td>\n",
       "      <td>44.50</td>\n",
       "      <td>0</td>\n",
       "    </tr>\n",
       "    <tr>\n",
       "      <th>24</th>\n",
       "      <td>24</td>\n",
       "      <td>3579.2</td>\n",
       "      <td>4516.00</td>\n",
       "      <td>0</td>\n",
       "    </tr>\n",
       "  </tbody>\n",
       "</table>\n",
       "</div>"
      ],
      "text/plain": [
       "    district   price  elected_rate  elected_tf\n",
       "0          0  3549.9         47.01           0\n",
       "1          1  3125.5         43.82           0\n",
       "2          2  3652.2         49.48           1\n",
       "3          3  3713.1         46.67           0\n",
       "4          4  3252.2         46.50           0\n",
       "5          5  3127.5         45.73           0\n",
       "6          6  3220.6         44.65           0\n",
       "7          7  4800.4         51.64           1\n",
       "8          8  4898.4         50.13           1\n",
       "9          9  3718.1         47.22           0\n",
       "10        10  5032.0         49.03           1\n",
       "11        11  5290.5         53.20           1\n",
       "12        12  5772.1         56.44           1\n",
       "13        13  7477.6         65.13           1\n",
       "14        14  8256.0         67.01           1\n",
       "15        15  4100.6         46.97           0\n",
       "16        16  3728.1         47.47           0\n",
       "17        17  3852.6         49.16           1\n",
       "18        18  6060.3         56.76           1\n",
       "19        19  4535.8         50.96           1\n",
       "20        20  4634.4         51.70           1\n",
       "21        21  4736.9         50.51           1\n",
       "22        22  5011.3         48.82           1\n",
       "23        23  2854.3         44.50           0\n",
       "24        24  3579.2       4516.00           0"
      ]
     },
     "execution_count": 83,
     "metadata": {},
     "output_type": "execute_result"
    }
   ],
   "source": [
    "encode_feature(data)"
   ]
  },
  {
   "cell_type": "code",
   "execution_count": 202,
   "id": "99120267",
   "metadata": {
    "ExecuteTime": {
     "end_time": "2022-05-08T01:13:07.832837Z",
     "start_time": "2022-05-08T01:13:07.828843Z"
    }
   },
   "outputs": [],
   "source": [
    "data['elected_tf'] = data['elected_tf'].astype(int)\n",
    "data['elected_rate'] = data['elected_rate'].astype(int)"
   ]
  },
  {
   "cell_type": "code",
   "execution_count": 203,
   "id": "7ad35f50",
   "metadata": {
    "ExecuteTime": {
     "end_time": "2022-05-08T01:13:10.834125Z",
     "start_time": "2022-05-08T01:13:10.822081Z"
    }
   },
   "outputs": [
    {
     "name": "stdout",
     "output_type": "stream",
     "text": [
      "<class 'pandas.core.frame.DataFrame'>\n",
      "RangeIndex: 25 entries, 0 to 24\n",
      "Data columns (total 4 columns):\n",
      " #   Column        Non-Null Count  Dtype  \n",
      "---  ------        --------------  -----  \n",
      " 0   district      25 non-null     int32  \n",
      " 1   price         25 non-null     float64\n",
      " 2   elected_rate  25 non-null     int32  \n",
      " 3   elected_tf    25 non-null     int32  \n",
      "dtypes: float64(1), int32(3)\n",
      "memory usage: 628.0 bytes\n"
     ]
    }
   ],
   "source": [
    "data.info()"
   ]
  },
  {
   "cell_type": "code",
   "execution_count": 204,
   "id": "27653363",
   "metadata": {
    "ExecuteTime": {
     "end_time": "2022-05-08T01:13:15.186389Z",
     "start_time": "2022-05-08T01:13:15.167288Z"
    }
   },
   "outputs": [],
   "source": [
    "x1 = data.iloc[:,[1,3]]\n",
    "y1 = data.iloc[:,2]"
   ]
  },
  {
   "cell_type": "code",
   "execution_count": 205,
   "id": "f94db794",
   "metadata": {
    "ExecuteTime": {
     "end_time": "2022-05-08T01:13:16.958619Z",
     "start_time": "2022-05-08T01:13:16.947566Z"
    }
   },
   "outputs": [],
   "source": [
    "x1_train, x1_test, y1_train, y1_test = train_test_split(x1, y1, test_size=0.25, random_state=0)"
   ]
  },
  {
   "cell_type": "code",
   "execution_count": 88,
   "id": "045bd8ac",
   "metadata": {
    "ExecuteTime": {
     "end_time": "2022-05-06T01:58:09.989560Z",
     "start_time": "2022-05-06T01:58:09.979558Z"
    }
   },
   "outputs": [],
   "source": [
    "#파라미터 튜닝\n",
    "from sklearn.model_selection import RandomizedSearchCV\n",
    "from sklearn.model_selection import GridSearchCV\n",
    "\n",
    "#대충 돌릴 때 체크 : cross_val\n",
    "from sklearn.model_selection import cross_val_score\n",
    "\n",
    "#평가\n",
    "from sklearn.metrics import accuracy_score"
   ]
  },
  {
   "cell_type": "code",
   "execution_count": 118,
   "id": "537f292f",
   "metadata": {
    "ExecuteTime": {
     "end_time": "2022-05-06T15:50:53.718412Z",
     "start_time": "2022-05-06T15:50:53.710377Z"
    }
   },
   "outputs": [],
   "source": [
    "# 1) 일반적인 k-fold\n",
    "from sklearn.model_selection import KFold\n",
    "kfold = KFold(n_splits = 5, random_state=1234, shuffle = True)"
   ]
  },
  {
   "cell_type": "markdown",
   "id": "db77addc",
   "metadata": {},
   "source": [
    "# 분류"
   ]
  },
  {
   "cell_type": "markdown",
   "id": "4b0d4778",
   "metadata": {
    "ExecuteTime": {
     "end_time": "2022-05-02T04:59:27.585907Z",
     "start_time": "2022-05-02T04:59:27.575904Z"
    }
   },
   "source": [
    "## RandomForest\n",
    "* 분류 회귀 둘 다 가능 \n",
    "* 데이터가 크지 않아서 사용하였다"
   ]
  },
  {
   "cell_type": "code",
   "execution_count": 86,
   "id": "84aede03",
   "metadata": {
    "ExecuteTime": {
     "end_time": "2022-05-06T01:55:53.952432Z",
     "start_time": "2022-05-06T01:55:53.937429Z"
    }
   },
   "outputs": [],
   "source": [
    "from sklearn.ensemble import RandomForestClassifier"
   ]
  },
  {
   "cell_type": "code",
   "execution_count": 106,
   "id": "4e36beb1",
   "metadata": {
    "ExecuteTime": {
     "end_time": "2022-05-06T15:24:04.959745Z",
     "start_time": "2022-05-06T15:24:04.205065Z"
    }
   },
   "outputs": [
    {
     "data": {
      "text/plain": [
       "RandomForestClassifier(n_estimators=1000, random_state=1234)"
      ]
     },
     "execution_count": 106,
     "metadata": {},
     "output_type": "execute_result"
    }
   ],
   "source": [
    "rf = RandomForestClassifier(n_estimators=100, random_state=1234)\n",
    "rf.fit(x_train,y_train)"
   ]
  },
  {
   "cell_type": "code",
   "execution_count": 107,
   "id": "115d61aa",
   "metadata": {
    "ExecuteTime": {
     "end_time": "2022-05-06T15:24:05.727755Z",
     "start_time": "2022-05-06T15:24:05.657745Z"
    }
   },
   "outputs": [
    {
     "data": {
      "text/plain": [
       "0.7142857142857143"
      ]
     },
     "execution_count": 107,
     "metadata": {},
     "output_type": "execute_result"
    }
   ],
   "source": [
    "from sklearn.metrics import accuracy_score\n",
    "pred = rf.predict(x_test)\n",
    "accuracy = accuracy_score(y_test, pred)\n",
    "accuracy"
   ]
  },
  {
   "cell_type": "code",
   "execution_count": 214,
   "id": "01868fd8",
   "metadata": {
    "ExecuteTime": {
     "end_time": "2022-05-08T01:16:49.264910Z",
     "start_time": "2022-05-08T01:16:33.788576Z"
    }
   },
   "outputs": [
    {
     "name": "stdout",
     "output_type": "stream",
     "text": [
      "Fitting 6 folds for each of 10 candidates, totalling 60 fits\n"
     ]
    },
    {
     "data": {
      "text/plain": [
       "RandomizedSearchCV(cv=KFold(n_splits=6, random_state=0, shuffle=True),\n",
       "                   estimator=RandomForestClassifier(n_estimators=1000,\n",
       "                                                    random_state=1234),\n",
       "                   n_jobs=-1,\n",
       "                   param_distributions={'max_depth': [30, 50, 100],\n",
       "                                        'max_features': ['auto', 'log2'],\n",
       "                                        'min_samples_leaf': [1, 2, 3, 4, 5],\n",
       "                                        'min_samples_split': [2, 4, 5, 6, 8,\n",
       "                                                              10],\n",
       "                                        'n_estimators': [500, 1000, 2000,\n",
       "                                                         3000]},\n",
       "                   random_state=1234, scoring='accuracy', verbose=2)"
      ]
     },
     "execution_count": 214,
     "metadata": {},
     "output_type": "execute_result"
    }
   ],
   "source": [
    "c = RandomForestClassifier(n_jobs=-1, random_state=1234)\n",
    "\n",
    "parameters ={\n",
    "    \"n_estimators\" : [ 500, 1000 ,2000,3000],  #개수에 따라 시간 오래걸림\n",
    "    \"max_features\" :[\"auto\",\"log2\"],\n",
    "    \"max_depth\" : [ 30, 50,100],\n",
    "    \"min_samples_split\" : [ 2, 4,5, 6,8, 10,],\n",
    "    \"min_samples_leaf\" : [1,2,3,4,5]\n",
    "}\n",
    "\n",
    "n_iter_search = 10\n",
    "\n",
    "rf_kf_rgs = RandomizedSearchCV(\n",
    "    rf, param_distributions = parameters,\n",
    "    cv = kfold, scoring=\"accuracy\",\n",
    "    n_jobs = -1, random_state=1234,\n",
    "    n_iter= n_iter_search, verbose=2\n",
    ")\n",
    "\n",
    "rf_kf_rgs.fit(x_train, y_train)"
   ]
  },
  {
   "cell_type": "code",
   "execution_count": 212,
   "id": "9a93abb9",
   "metadata": {
    "ExecuteTime": {
     "end_time": "2022-05-08T01:15:39.709516Z",
     "start_time": "2022-05-08T01:15:39.704517Z"
    }
   },
   "outputs": [
    {
     "data": {
      "text/plain": [
       "{'n_estimators': 1000,\n",
       " 'min_samples_split': 6,\n",
       " 'min_samples_leaf': 2,\n",
       " 'max_features': 'log2',\n",
       " 'max_depth': 50}"
      ]
     },
     "execution_count": 212,
     "metadata": {},
     "output_type": "execute_result"
    }
   ],
   "source": [
    "rf_kf_rgs.best_params_"
   ]
  },
  {
   "cell_type": "code",
   "execution_count": 215,
   "id": "4559add1",
   "metadata": {
    "ExecuteTime": {
     "end_time": "2022-05-08T01:16:52.271859Z",
     "start_time": "2022-05-08T01:16:52.130383Z"
    }
   },
   "outputs": [
    {
     "name": "stdout",
     "output_type": "stream",
     "text": [
      "RF-KF-RGS Acc: 0.7142857142857143\n"
     ]
    }
   ],
   "source": [
    "rf_kf_rgs_best = rf_kf_rgs.best_estimator_\n",
    "rf_kf_rgs_best_ypred = rf_kf_rgs_best.predict(x_test)\n",
    "rf_kf_rgs_best_acc = accuracy_score(y_test,rf_kf_rgs_best_ypred )\n",
    "print(\"RF-KF-RGS Acc:\",rf_kf_rgs_best_acc)"
   ]
  },
  {
   "cell_type": "code",
   "execution_count": null,
   "id": "b2c8917c",
   "metadata": {},
   "outputs": [],
   "source": []
  },
  {
   "cell_type": "code",
   "execution_count": null,
   "id": "28ec7260",
   "metadata": {},
   "outputs": [],
   "source": []
  },
  {
   "cell_type": "code",
   "execution_count": 219,
   "id": "61640c2d",
   "metadata": {
    "ExecuteTime": {
     "end_time": "2022-05-08T01:23:37.150615Z",
     "start_time": "2022-05-08T01:23:09.257151Z"
    }
   },
   "outputs": [
    {
     "name": "stdout",
     "output_type": "stream",
     "text": [
      "Fitting 6 folds for each of 10 candidates, totalling 60 fits\n"
     ]
    },
    {
     "data": {
      "text/plain": [
       "RandomizedSearchCV(cv=KFold(n_splits=6, random_state=0, shuffle=True),\n",
       "                   estimator=RandomForestClassifier(n_estimators=1000,\n",
       "                                                    random_state=1234),\n",
       "                   n_jobs=-1,\n",
       "                   param_distributions={'max_depth': [10, 20, 30, 50, 100],\n",
       "                                        'max_features': ['auto', 'log2'],\n",
       "                                        'min_samples_leaf': [0.1, 0.5, 1, 2, 3],\n",
       "                                        'min_samples_split': [2, 4, 5, 6, 8,\n",
       "                                                              10],\n",
       "                                        'n_estimators': [2000, 3000, 5000]},\n",
       "                   random_state=1234, scoring='neg_root_mean_squared_error',\n",
       "                   verbose=2)"
      ]
     },
     "execution_count": 219,
     "metadata": {},
     "output_type": "execute_result"
    }
   ],
   "source": [
    "c = RandomForestRegressor(n_jobs=-1, random_state=1234)\n",
    "\n",
    "parameters ={\n",
    "    \"n_estimators\" : [ 2000,3000,5000],  #개수에 따라 시간 오래걸림\n",
    "    \"max_features\" :[\"auto\",\"log2\"],\n",
    "    \"max_depth\" : [ 10,20,30, 50,100],\n",
    "    \"min_samples_split\" : [ 2, 4,5, 6,8, 10,],\n",
    "    \"min_samples_leaf\" : [0.1,0.5,1,2,3]\n",
    "}\n",
    "\n",
    "n_iter_search = 10\n",
    "\n",
    "rf_kf_rgs = RandomizedSearchCV(\n",
    "    rf, param_distributions = parameters,\n",
    "    cv = kfold, scoring=\"neg_root_mean_squared_error\",\n",
    "    n_jobs = -1, random_state=1234,\n",
    "    n_iter= n_iter_search, verbose=2\n",
    ")\n",
    "\n",
    "rf_kf_rgs.fit(x1_train, y1_train)"
   ]
  },
  {
   "cell_type": "code",
   "execution_count": 217,
   "id": "5656bb91",
   "metadata": {
    "ExecuteTime": {
     "end_time": "2022-05-08T01:21:36.873295Z",
     "start_time": "2022-05-08T01:21:36.860807Z"
    }
   },
   "outputs": [
    {
     "data": {
      "text/plain": [
       "{'n_estimators': 3000,\n",
       " 'min_samples_split': 5,\n",
       " 'min_samples_leaf': 1,\n",
       " 'max_features': 'log2',\n",
       " 'max_depth': 30}"
      ]
     },
     "execution_count": 217,
     "metadata": {},
     "output_type": "execute_result"
    }
   ],
   "source": [
    "rf_kf_rgs.best_params_"
   ]
  },
  {
   "cell_type": "code",
   "execution_count": 220,
   "id": "15af1e33",
   "metadata": {
    "ExecuteTime": {
     "end_time": "2022-05-08T01:23:43.989035Z",
     "start_time": "2022-05-08T01:23:43.683934Z"
    }
   },
   "outputs": [
    {
     "name": "stdout",
     "output_type": "stream",
     "text": [
      "RF-KF-RGS Acc: 0.0\n"
     ]
    }
   ],
   "source": [
    "rf_kf_rgs_best = rf_kf_rgs.best_estimator_\n",
    "rf_kf_rgs_best_y1pred = rf_kf_rgs_best.predict(x1_test)\n",
    "rf_kf_rgs_best_acc = accuracy_score(y1_test,rf_kf_rgs_best_y1pred )\n",
    "print(\"RF-KF-RGS Acc:\",rf_kf_rgs_best_acc)"
   ]
  },
  {
   "cell_type": "markdown",
   "id": "7a04f0be",
   "metadata": {},
   "source": [
    "## Xgboost"
   ]
  },
  {
   "cell_type": "code",
   "execution_count": 119,
   "id": "5ff58108",
   "metadata": {
    "ExecuteTime": {
     "end_time": "2022-05-06T15:52:38.673051Z",
     "start_time": "2022-05-06T15:52:38.664505Z"
    }
   },
   "outputs": [],
   "source": [
    "from xgboost import XGBClassifier"
   ]
  },
  {
   "cell_type": "code",
   "execution_count": 120,
   "id": "2bce6b5e",
   "metadata": {
    "ExecuteTime": {
     "end_time": "2022-05-06T15:52:43.919644Z",
     "start_time": "2022-05-06T15:52:43.906504Z"
    }
   },
   "outputs": [],
   "source": [
    "xgbc = XGBClassifier(n_jobs= -1,random_state=1234, use_label_encoder=False,\n",
    "                     # 학습 관련된 부분 상세 설정~(0,1 2진분류)\n",
    "                     objective = \"binary:logistic\",\n",
    "                     eval_metric = \"error\")"
   ]
  },
  {
   "cell_type": "code",
   "execution_count": 125,
   "id": "af59df70",
   "metadata": {
    "ExecuteTime": {
     "end_time": "2022-05-06T15:55:34.642261Z",
     "start_time": "2022-05-06T15:55:26.810967Z"
    }
   },
   "outputs": [
    {
     "name": "stdout",
     "output_type": "stream",
     "text": [
      "Fitting 5 folds for each of 10 candidates, totalling 50 fits\n",
      "[00:55:34] WARNING: D:\\bld\\xgboost-split_1645118015404\\work\\src\\learner.cc:576: \n",
      "Parameters: { \"colsample_bytree\", \"gamma\", \"max_depth\", \"min_child_weight\", \"subsample\" } might not be used.\n",
      "\n",
      "  This could be a false alarm, with some parameters getting used by language bindings but\n",
      "  then being mistakenly passed down to XGBoost core, or some parameter actually being used\n",
      "  but getting flagged wrongly here. Please open an issue if you find any such cases.\n",
      "\n",
      "\n"
     ]
    },
    {
     "data": {
      "text/plain": [
       "RandomizedSearchCV(cv=KFold(n_splits=5, random_state=1234, shuffle=True),\n",
       "                   estimator=XGBClassifier(base_score=None, booster=None,\n",
       "                                           colsample_bylevel=None,\n",
       "                                           colsample_bynode=None,\n",
       "                                           colsample_bytree=None,\n",
       "                                           enable_categorical=False,\n",
       "                                           eval_metric='error', gamma=None,\n",
       "                                           gpu_id=None, importance_type=None,\n",
       "                                           interaction_constraints=None,\n",
       "                                           learning_rate=None,\n",
       "                                           max_delta_step=None, ma...\n",
       "                   param_distributions={'booster': ['gbtree', 'gblinear',\n",
       "                                                    'dart'],\n",
       "                                        'colsample_bytree': [0.3, 0.5, 0.7,\n",
       "                                                             0.9],\n",
       "                                        'gamma': [0, 0.1, 0.5],\n",
       "                                        'learning_rate': [0.3, 0.8, 1, 2],\n",
       "                                        'max_depth': [1, 2, 3, 4, 6],\n",
       "                                        'min_child_weight': [0.5, 1, 5],\n",
       "                                        'n_estimators': [300, 500, 1000],\n",
       "                                        'reg_alpha': [0, 0.01, 0.1, 0.5, 1, 10],\n",
       "                                        'reg_lambda': [0, 0.01, 0.1, 0.5, 1,\n",
       "                                                       10],\n",
       "                                        'subsample': [0.3, 0.5, 0.1]},\n",
       "                   random_state=1234, scoring='accuracy', verbose=2)"
      ]
     },
     "execution_count": 125,
     "metadata": {},
     "output_type": "execute_result"
    }
   ],
   "source": [
    "# random grid search용 테스트할 파라미터들\n",
    "parameters = {\n",
    "    #부스팅 : 이어달리기를 할건데 어떤 스타일의 선수`\n",
    "    \"booster\" : [\"gbtree\", \"gblinear\", \"dart\"],\n",
    "    \n",
    "    # 그러면 몇 명의 선수들을 선발해서 경기를 진행할지\n",
    "    # +얼마나 디테일하게 할지\n",
    "    \"n_estimators\" : [300,500,1000],\n",
    "    \"learning_rate\" : [0.3, 0.8,1,2],\n",
    "    \n",
    "    # tree모형에 대한 조절\n",
    "    \"max_depth\" : [1,2,3, 4, 6],\n",
    "    \"min_child_weight\" : [0.5, 1, 5],\n",
    "    \"gamma\" : [ 0, 0.1, 0.5],  # 트리를 어느 이상 손실값 이상이면 트리를 분할할지..  \n",
    "    \n",
    "    # 샘플링쪽에서 컨트롤\n",
    "    \"subsample\" : [0.3, 0.5,0.1],\n",
    "    \"colsample_bytree\" : [0.3, 0.5, 0.7, 0.9],\n",
    "    \n",
    "    # 규약\n",
    "    \"reg_alpha\" : [0, 0.01, 0.1, 0.5, 1, 10],  # 규약을 안 쓰는 경우 0\n",
    "    \"reg_lambda\" : [0, 0.01, 0.1, 0.5, 1, 10]\n",
    "    \n",
    "}\n",
    "\n",
    "n_iter_search = 10\n",
    "\n",
    "xgbc_kf_rgs = RandomizedSearchCV(\n",
    "    xgbc, param_distributions = parameters,\n",
    "    cv = kfold, scoring=\"accuracy\",\n",
    "    n_jobs = -1, random_state=1234,\n",
    "    n_iter= n_iter_search, verbose=2\n",
    ")\n",
    "\n",
    "# xgbc 버전에 따라서 간혹 에러가 날 때에는 # xgbc_kf_rgs.fit(np.ascontiguousarray(X_train),np.ascontiguousarray(y_train))\n",
    "xgbc_kf_rgs.fit(x_train, y_train)"
   ]
  },
  {
   "cell_type": "code",
   "execution_count": 126,
   "id": "acae20d1",
   "metadata": {
    "ExecuteTime": {
     "end_time": "2022-05-06T15:55:39.038832Z",
     "start_time": "2022-05-06T15:55:39.030751Z"
    }
   },
   "outputs": [
    {
     "data": {
      "text/plain": [
       "{'subsample': 0.1,\n",
       " 'reg_lambda': 0.01,\n",
       " 'reg_alpha': 0.5,\n",
       " 'n_estimators': 1000,\n",
       " 'min_child_weight': 0.5,\n",
       " 'max_depth': 6,\n",
       " 'learning_rate': 0.3,\n",
       " 'gamma': 0.5,\n",
       " 'colsample_bytree': 0.9,\n",
       " 'booster': 'gblinear'}"
      ]
     },
     "execution_count": 126,
     "metadata": {},
     "output_type": "execute_result"
    }
   ],
   "source": [
    "xgbc_kf_rgs.best_params_"
   ]
  },
  {
   "cell_type": "code",
   "execution_count": 127,
   "id": "777044ca",
   "metadata": {
    "ExecuteTime": {
     "end_time": "2022-05-06T15:55:40.232753Z",
     "start_time": "2022-05-06T15:55:40.218758Z"
    }
   },
   "outputs": [
    {
     "name": "stdout",
     "output_type": "stream",
     "text": [
      "0.7142857142857143\n"
     ]
    }
   ],
   "source": [
    "xgbc_kf_rgs_best = xgbc_kf_rgs.best_estimator_\n",
    "xgbc_kf_rgs_pred = xgbc_kf_rgs_best.predict(x_test)\n",
    "print(accuracy_score(y_test, xgbc_kf_rgs_pred))"
   ]
  },
  {
   "cell_type": "markdown",
   "id": "a96cca21",
   "metadata": {},
   "source": [
    "## LightGBM\n",
    "* 데이터 양이 적으면 과적합 문제가 있을 수 있음"
   ]
  },
  {
   "cell_type": "code",
   "execution_count": 128,
   "id": "c797258a",
   "metadata": {
    "ExecuteTime": {
     "end_time": "2022-05-06T15:57:11.365689Z",
     "start_time": "2022-05-06T15:57:11.351686Z"
    }
   },
   "outputs": [],
   "source": [
    "from lightgbm import LGBMClassifier"
   ]
  },
  {
   "cell_type": "code",
   "execution_count": 132,
   "id": "befe4cc3",
   "metadata": {
    "ExecuteTime": {
     "end_time": "2022-05-06T15:58:48.915233Z",
     "start_time": "2022-05-06T15:58:47.984030Z"
    }
   },
   "outputs": [
    {
     "name": "stdout",
     "output_type": "stream",
     "text": [
      "Fitting 5 folds for each of 100 candidates, totalling 500 fits\n"
     ]
    },
    {
     "data": {
      "text/plain": [
       "RandomizedSearchCV(cv=KFold(n_splits=5, random_state=1234, shuffle=True),\n",
       "                   estimator=LGBMClassifier(random_state=1234), n_iter=100,\n",
       "                   n_jobs=-1,\n",
       "                   param_distributions={'learning_rate': [0.3, 0.2, 0.4],\n",
       "                                        'max_depth': [9, 10, 11, 12, 13],\n",
       "                                        'min_child_weight': [1, 0.9, 0.8, 0.6],\n",
       "                                        'n_estimators': [50, 100, 200],\n",
       "                                        'reg_alpha': [0, 0.01],\n",
       "                                        'reg_lambda': [0, 5, 10, 20]},\n",
       "                   random_state=1234, scoring='accuracy', verbose=2)"
      ]
     },
     "execution_count": 132,
     "metadata": {},
     "output_type": "execute_result"
    }
   ],
   "source": [
    "lgbm = LGBMClassifier(\n",
    "    random_state=1234,\n",
    "    n_jobs = -1\n",
    ")\n",
    "\n",
    "parameters ={\n",
    "    # 부스팅 : 이어달리기를 할 것입니다~어떤 스타일의 선수~~\n",
    "    #\"boosting_type\" : [\"gbdt\",\"goss\",\"dart\",\"rf\"],\n",
    "\n",
    "    # 그러면 몇 명의 선수를 선발해서 경기를 진행을 할지!!!\n",
    "    # + 얼머나 디테일하게 할지 \n",
    "    \"n_estimators\" : [50,100, 200],\n",
    "    \"learning_rate\" : [0.3, 0.2, 0.4], #overfit\n",
    "\n",
    "    # tree 모형에 대한 조절 : overfit\n",
    "    \"max_depth\" :[ 9,10,11,12,13],\n",
    "    \"min_child_weight\": [1,0.9,0.8,0.6],\n",
    "\n",
    "    # 규약!!!\n",
    "    \"reg_alpha\":[0, 0.01] , # 규약을 안 쓰는 경우 0, \n",
    "    \"reg_lambda\":[0, 5,10,20]\n",
    "}\n",
    "\n",
    "n_iter_search = 100\n",
    "\n",
    "lgbm_kf_rgs = RandomizedSearchCV(\n",
    "    lgbm, param_distributions = parameters,\n",
    "    cv = kfold, scoring=\"accuracy\",\n",
    "    n_jobs = -1, random_state=1234,\n",
    "    n_iter= n_iter_search, verbose=2\n",
    ")\n",
    "\n",
    "lgbm_kf_rgs.fit(x_train, y_train)"
   ]
  },
  {
   "cell_type": "code",
   "execution_count": 133,
   "id": "a06a0672",
   "metadata": {
    "ExecuteTime": {
     "end_time": "2022-05-06T15:58:51.169105Z",
     "start_time": "2022-05-06T15:58:51.156046Z"
    }
   },
   "outputs": [
    {
     "data": {
      "text/plain": [
       "{'reg_lambda': 0,\n",
       " 'reg_alpha': 0.01,\n",
       " 'n_estimators': 200,\n",
       " 'min_child_weight': 0.8,\n",
       " 'max_depth': 9,\n",
       " 'learning_rate': 0.2}"
      ]
     },
     "execution_count": 133,
     "metadata": {},
     "output_type": "execute_result"
    }
   ],
   "source": [
    "lgbm_kf_rgs.best_params_"
   ]
  },
  {
   "cell_type": "code",
   "execution_count": 134,
   "id": "f069cc50",
   "metadata": {
    "ExecuteTime": {
     "end_time": "2022-05-06T15:58:51.816800Z",
     "start_time": "2022-05-06T15:58:51.806812Z"
    }
   },
   "outputs": [
    {
     "name": "stdout",
     "output_type": "stream",
     "text": [
      "0.2857142857142857\n"
     ]
    }
   ],
   "source": [
    "lgbm_kf_rgs_best = lgbm_kf_rgs.best_estimator_\n",
    "lgbm_kf_rgs_pred = lgbm_kf_rgs_best.predict(x_test)\n",
    "print(accuracy_score(y_test,lgbm_kf_rgs_pred))"
   ]
  },
  {
   "cell_type": "markdown",
   "id": "4934f94b",
   "metadata": {},
   "source": [
    "# 회귀"
   ]
  },
  {
   "cell_type": "markdown",
   "id": "40ff5027",
   "metadata": {},
   "source": [
    "## LinearRegression, Ridge, Lasso"
   ]
  },
  {
   "cell_type": "code",
   "execution_count": 157,
   "id": "cee55c9d",
   "metadata": {
    "ExecuteTime": {
     "end_time": "2022-05-08T00:25:06.879995Z",
     "start_time": "2022-05-08T00:25:06.874980Z"
    }
   },
   "outputs": [],
   "source": [
    "from sklearn.linear_model import LinearRegression, Ridge, Lasso\n",
    "from sklearn.metrics import mean_squared_error"
   ]
  },
  {
   "cell_type": "code",
   "execution_count": 161,
   "id": "053b51e1",
   "metadata": {
    "ExecuteTime": {
     "end_time": "2022-05-08T00:26:05.103765Z",
     "start_time": "2022-05-08T00:26:05.092713Z"
    }
   },
   "outputs": [],
   "source": [
    "def get_rmse(model):\n",
    "    pred = model.predict(x_test)\n",
    "    mse = mean_squared_error(y_test , pred)\n",
    "    rmse = np.sqrt(mse)\n",
    "    print(f'{model.__class__.__name__} 로그 변환된 RMSE: {np.round(rmse, 4)}')\n",
    "    \n",
    "    return rmse\n",
    "\n",
    "def get_rmses(models):\n",
    "    rmses = []\n",
    "    \n",
    "    for model in models:\n",
    "        rmse = get_rmse(model)\n",
    "        rmses.append(rmse)\n",
    "    \n",
    "    return rmses"
   ]
  },
  {
   "cell_type": "code",
   "execution_count": 221,
   "id": "bd26e0f0",
   "metadata": {
    "ExecuteTime": {
     "end_time": "2022-05-08T01:25:22.494536Z",
     "start_time": "2022-05-08T01:25:22.472531Z"
    }
   },
   "outputs": [
    {
     "name": "stdout",
     "output_type": "stream",
     "text": [
      "LinearRegression 로그 변환된 RMSE: 28117.9613\n",
      "Ridge 로그 변환된 RMSE: 17763.0219\n",
      "Lasso 로그 변환된 RMSE: 27614.2595\n"
     ]
    }
   ],
   "source": [
    "# LinearRegression, Ridge, Lasso\n",
    "lr_reg = LinearRegression()\n",
    "ridge_reg = Ridge()\n",
    "lasso_reg = Lasso()\n",
    "\n",
    "lr_reg.fit(x1_train, y1_train)\n",
    "ridge_reg.fit(x1_train, y1_train)\n",
    "lasso_reg.fit(x1_train, y1_train)\n",
    "\n",
    "# 예측 평가\n",
    "models = [lr_reg, ridge_reg, lasso_reg]\n",
    "rmses = get_rmses(models)"
   ]
  },
  {
   "cell_type": "markdown",
   "id": "1dd7e348",
   "metadata": {
    "ExecuteTime": {
     "end_time": "2022-05-08T09:38:45.589686Z",
     "start_time": "2022-05-08T09:38:45.571738Z"
    }
   },
   "source": [
    "> Ridge가 RMSE값이 가장 작아 회긔 성능이 그나마 좋다 하지만 그래도 값 자체가 크다"
   ]
  },
  {
   "cell_type": "markdown",
   "id": "9e6c85fd",
   "metadata": {},
   "source": [
    "## RandomForestRegressor"
   ]
  },
  {
   "cell_type": "code",
   "execution_count": 240,
   "id": "2a383c7a",
   "metadata": {
    "ExecuteTime": {
     "end_time": "2022-05-08T09:42:51.158878Z",
     "start_time": "2022-05-08T09:42:51.150879Z"
    }
   },
   "outputs": [],
   "source": [
    "from sklearn.ensemble import RandomForestRegressor\n",
    "from sklearn.metrics import mean_squared_error"
   ]
  },
  {
   "cell_type": "code",
   "execution_count": 241,
   "id": "868ab5ec",
   "metadata": {
    "ExecuteTime": {
     "end_time": "2022-05-08T09:42:54.197463Z",
     "start_time": "2022-05-08T09:42:53.737362Z"
    }
   },
   "outputs": [
    {
     "data": {
      "text/plain": [
       "0.0"
      ]
     },
     "execution_count": 241,
     "metadata": {},
     "output_type": "execute_result"
    }
   ],
   "source": [
    "forest = RandomForestClassifier(random_state=0, max_depth=5, min_samples_leaf=8, min_samples_split=8,n_estimators=200)\n",
    "forest.fit(x1_train,y1_train)\n",
    "y_pred = forest.predict(x1_test)\n",
    "accuracy = accuracy_score(y1_test, pred)\n",
    "accuracy"
   ]
  },
  {
   "cell_type": "markdown",
   "id": "1764861a",
   "metadata": {},
   "source": [
    "## xgbRegressor"
   ]
  },
  {
   "cell_type": "code",
   "execution_count": 242,
   "id": "81472e07",
   "metadata": {
    "ExecuteTime": {
     "end_time": "2022-05-08T09:44:26.101891Z",
     "start_time": "2022-05-08T09:44:26.083871Z"
    }
   },
   "outputs": [],
   "source": [
    "import xgboost\n",
    "from sklearn.metrics import explained_variance_score"
   ]
  },
  {
   "cell_type": "code",
   "execution_count": 252,
   "id": "6e924eb9",
   "metadata": {
    "ExecuteTime": {
     "end_time": "2022-05-08T12:18:24.453702Z",
     "start_time": "2022-05-08T12:18:24.401697Z"
    }
   },
   "outputs": [
    {
     "data": {
      "text/plain": [
       "XGBRegressor(base_score=0.5, booster='gbtree', colsample_bylevel=1,\n",
       "             colsample_bynode=1, colsample_bytree=1, enable_categorical=False,\n",
       "             gamma=0, gpu_id=-1, importance_type=None,\n",
       "             interaction_constraints='', learning_rate=0.08, max_delta_step=0,\n",
       "             max_depth=7, min_child_weight=1, missing=nan,\n",
       "             monotone_constraints='()', n_estimators=100, n_jobs=16,\n",
       "             num_parallel_tree=1, predictor='auto', random_state=0, reg_alpha=0,\n",
       "             reg_lambda=1, scale_pos_weight=1, subsample=0.75,\n",
       "             tree_method='exact', validate_parameters=1, verbosity=None)"
      ]
     },
     "execution_count": 252,
     "metadata": {},
     "output_type": "execute_result"
    }
   ],
   "source": [
    "xgb_model_r = xgboost.XGBRegressor(n_estimators=100, learning_rate=0.08, gamma=0, subsample=0.75,\n",
    "                           colsample_bytree=1, max_depth=7)\n",
    "\n",
    "xgb_model_r.fit(x1_train,y1_train)"
   ]
  },
  {
   "cell_type": "code",
   "execution_count": 253,
   "id": "ea5812c1",
   "metadata": {
    "ExecuteTime": {
     "end_time": "2022-05-08T12:18:26.036167Z",
     "start_time": "2022-05-08T12:18:26.022169Z"
    }
   },
   "outputs": [
    {
     "data": {
      "text/plain": [
       "array([ 36.341   ,  71.60289 ,  50.71008 ,  71.60289 ,  49.24253 ,\n",
       "        49.24253 , -72.509926], dtype=float32)"
      ]
     },
     "execution_count": 253,
     "metadata": {},
     "output_type": "execute_result"
    }
   ],
   "source": [
    "pred_y = xgb_model_r.predict(x1_test)\n",
    "pred_y"
   ]
  },
  {
   "cell_type": "code",
   "execution_count": 254,
   "id": "aaaae475",
   "metadata": {
    "ExecuteTime": {
     "end_time": "2022-05-08T12:18:27.637903Z",
     "start_time": "2022-05-08T12:18:27.623901Z"
    }
   },
   "outputs": [
    {
     "name": "stdout",
     "output_type": "stream",
     "text": [
      "0.9926198631238519\n",
      "-0.004791718555255953\n"
     ]
    }
   ],
   "source": [
    "r_sq = xgb_model_r.score(x1_train, y1_train)\n",
    "print(r_sq)\n",
    "print(explained_variance_score(pred_y,y1_test))"
   ]
  },
  {
   "cell_type": "code",
   "execution_count": null,
   "id": "ad0dd9c5",
   "metadata": {},
   "outputs": [],
   "source": []
  },
  {
   "cell_type": "code",
   "execution_count": null,
   "id": "18f4c373",
   "metadata": {},
   "outputs": [],
   "source": []
  },
  {
   "cell_type": "code",
   "execution_count": null,
   "id": "b0a6b9a1",
   "metadata": {},
   "outputs": [],
   "source": []
  },
  {
   "cell_type": "code",
   "execution_count": null,
   "id": "43f966cb",
   "metadata": {},
   "outputs": [],
   "source": []
  },
  {
   "cell_type": "markdown",
   "id": "0792cde8",
   "metadata": {},
   "source": [
    "# Scaler\n",
    "* 로지스틱 회귀나 트리기반인 랜덤포레스트증 은 표준화 필요 없음\n",
    "* 회귀는 예측을 위한 모델링이 목적이라면 표준화 필요 없지만 변수의 중요도나 회귀계수 비교하는 것이 목적이라면 필요\n",
    "* 릿지, 라쏘는 다중공선성과 과적합을 해결하기 위해 사용됨"
   ]
  },
  {
   "cell_type": "code",
   "execution_count": 147,
   "id": "e8e1a1b4",
   "metadata": {
    "ExecuteTime": {
     "end_time": "2022-05-07T15:48:39.856137Z",
     "start_time": "2022-05-07T15:48:39.841134Z"
    }
   },
   "outputs": [],
   "source": [
    "from sklearn.preprocessing import StandardScaler\n",
    "from sklearn.preprocessing import RobustScaler, MinMaxScaler, MaxAbsScaler"
   ]
  },
  {
   "cell_type": "markdown",
   "id": "4ddc272a",
   "metadata": {
    "ExecuteTime": {
     "end_time": "2022-05-08T00:49:58.919743Z",
     "start_time": "2022-05-08T00:49:58.904719Z"
    }
   },
   "source": [
    "## 분류"
   ]
  },
  {
   "cell_type": "code",
   "execution_count": 247,
   "id": "62dff4f1",
   "metadata": {
    "ExecuteTime": {
     "end_time": "2022-05-08T12:03:07.709986Z",
     "start_time": "2022-05-08T12:02:32.242954Z"
    }
   },
   "outputs": [
    {
     "name": "stdout",
     "output_type": "stream",
     "text": [
      "Fitting 5 folds for each of 10 candidates, totalling 50 fits\n",
      "Fitting 5 folds for each of 10 candidates, totalling 50 fits\n",
      "Fitting 5 folds for each of 10 candidates, totalling 50 fits\n",
      "Fitting 5 folds for each of 10 candidates, totalling 50 fits\n",
      "StandardScaler 성능: 0.714\n",
      "RobustScaler 성능: 0.714\n",
      "MinMaxScaler 성능: 0.714\n",
      "MaxAbsScaler 성능: 0.714\n"
     ]
    }
   ],
   "source": [
    "#StandardSclaer\n",
    "scaler = StandardScaler()\n",
    "x_train_scaled = scaler.fit_transform(x_train)\n",
    "x_test_scaled = scaler.transform(x_test)\n",
    "\n",
    "xgbc_kf_rgs.fit(x_train_scaled, y_train)\n",
    "y_pred = xgbc_kf_rgs.predict(x_test_scaled)\n",
    "\n",
    "#RobustScaler\n",
    "scaler2 = RobustScaler()\n",
    "x_train_scaled2 = scaler.fit_transform(x_train)\n",
    "x_test_scaled2 = scaler.transform(x_test)\n",
    "\n",
    "xgbc_kf_rgs.fit(x_train_scaled2, y_train)\n",
    "y_pred2 = xgbc_kf_rgs.predict(x_test_scaled2)\n",
    "\n",
    "#MinMaxScaler\n",
    "scaler3 = MinMaxScaler()\n",
    "x_train_scaled3 = scaler.fit_transform(x_train)\n",
    "x_test_scaled3 = scaler.transform(x_test)\n",
    "\n",
    "xgbc_kf_rgs.fit(x_train_scaled3, y_train)\n",
    "y_pred3 = xgbc_kf_rgs.predict(x_test_scaled3)\n",
    "\n",
    "#MaxAbsScaler\n",
    "scaler4 = MaxAbsScaler()\n",
    "x_train_scaled4 = scaler.fit_transform(x_train)\n",
    "x_test_scaled4 = scaler.transform(x_test)\n",
    "\n",
    "xgbc_kf_rgs.fit(x_train_scaled4, y_train)\n",
    "y_pred4 = xgbc_kf_rgs.predict(x_test_scaled4)\n",
    "\n",
    "\n",
    "print('StandardScaler 성능: {:.3f}'.format(accuracy_score(y_test, y_pred)))\n",
    "print('RobustScaler 성능: {:.3f}'.format(accuracy_score(y_test, y_pred2)))\n",
    "print('MinMaxScaler 성능: {:.3f}'.format(accuracy_score(y_test, y_pred3)))\n",
    "print('MaxAbsScaler 성능: {:.3f}'.format(accuracy_score(y_test, y_pred4)))"
   ]
  },
  {
   "cell_type": "code",
   "execution_count": 246,
   "id": "f342cc61",
   "metadata": {
    "ExecuteTime": {
     "end_time": "2022-05-08T12:00:41.321559Z",
     "start_time": "2022-05-08T12:00:34.604771Z"
    }
   },
   "outputs": [
    {
     "name": "stdout",
     "output_type": "stream",
     "text": [
      "Fitting 5 folds for each of 100 candidates, totalling 500 fits\n",
      "Fitting 5 folds for each of 100 candidates, totalling 500 fits\n",
      "Fitting 5 folds for each of 100 candidates, totalling 500 fits\n",
      "Fitting 5 folds for each of 100 candidates, totalling 500 fits\n",
      "StandardScaler 성능: 0.286\n",
      "RobustScaler 성능: 0.286\n",
      "MinMaxScaler 성능: 0.286\n",
      "MaxAbsScaler 성능: 0.286\n"
     ]
    }
   ],
   "source": [
    "#StandardSclaer\n",
    "scaler = StandardScaler()\n",
    "x_train_scaled = scaler.fit_transform(x_train)\n",
    "x_test_scaled = scaler.transform(x_test)\n",
    "\n",
    "lgbm_kf_rgs.fit(x_train_scaled, y_train)\n",
    "y_pred = lgbm_kf_rgs.predict(x_test_scaled)\n",
    "\n",
    "#RobustScaler\n",
    "scaler2 = RobustScaler()\n",
    "x_train_scaled2 = scaler.fit_transform(x_train)\n",
    "x_test_scaled2 = scaler.transform(x_test)\n",
    "\n",
    "lgbm_kf_rgs.fit(x_train_scaled2, y_train)\n",
    "y_pred2 = lgbm_kf_rgs.predict(x_test_scaled2)\n",
    "\n",
    "#MinMaxScaler\n",
    "scaler3 = MinMaxScaler()\n",
    "x_train_scaled3 = scaler.fit_transform(x_train)\n",
    "x_test_scaled3 = scaler.transform(x_test)\n",
    "\n",
    "lgbm_kf_rgs.fit(x_train_scaled3, y_train)\n",
    "y_pred3 = lgbm_kf_rgs.predict(x_test_scaled3)\n",
    "\n",
    "#MaxAbsScaler\n",
    "scaler4 = MaxAbsScaler()\n",
    "x_train_scaled4 = scaler.fit_transform(x_train)\n",
    "x_test_scaled4 = scaler.transform(x_test)\n",
    "\n",
    "lgbm_kf_rgs.fit(x_train_scaled4, y_train)\n",
    "y_pred4 = lgbm_kf_rgs.predict(x_test_scaled4)\n",
    "\n",
    "\n",
    "print('StandardScaler 성능: {:.3f}'.format(accuracy_score(y_test, y_pred)))\n",
    "print('RobustScaler 성능: {:.3f}'.format(accuracy_score(y_test, y_pred2)))\n",
    "print('MinMaxScaler 성능: {:.3f}'.format(accuracy_score(y_test, y_pred3)))\n",
    "print('MaxAbsScaler 성능: {:.3f}'.format(accuracy_score(y_test, y_pred4)))"
   ]
  },
  {
   "cell_type": "markdown",
   "id": "7b7fa58f",
   "metadata": {
    "ExecuteTime": {
     "end_time": "2022-05-07T15:49:05.616549Z",
     "start_time": "2022-05-07T15:49:05.610550Z"
    }
   },
   "source": [
    "## 회귀"
   ]
  },
  {
   "cell_type": "code",
   "execution_count": 249,
   "id": "7af8aa8f",
   "metadata": {
    "ExecuteTime": {
     "end_time": "2022-05-08T12:08:34.547693Z",
     "start_time": "2022-05-08T12:08:34.542680Z"
    }
   },
   "outputs": [],
   "source": [
    "from sklearn.metrics import mean_squared_error, mean_absolute_error\n",
    "\n",
    "# MAE, RMSE, RMSLE 반환\n",
    "def evaluate_regr(y,pred):\n",
    "    # MAE\n",
    "    mae = mean_absolute_error(y,pred)\n",
    "    \n",
    "    # RMSE\n",
    "    rmse = np.sqrt(mean_squared_error(y,pred))\n",
    "    \n",
    "    # RMSLE\n",
    "    log_y = np.log1p(y)\n",
    "    log_pred = np.log1p(pred)\n",
    "    msle = np.mean((log_y - log_pred) ** 2)\n",
    "    rmsle = np.sqrt(msle)    \n",
    "    \n",
    "    print(f'MAE: {mae:.3f}, RMSE: {rmse:.3f}, RMSLE: {rmsle:.3f}')"
   ]
  },
  {
   "cell_type": "code",
   "execution_count": 251,
   "id": "52d1dfb1",
   "metadata": {
    "ExecuteTime": {
     "end_time": "2022-05-08T12:11:11.355929Z",
     "start_time": "2022-05-08T12:11:11.332410Z"
    }
   },
   "outputs": [
    {
     "name": "stdout",
     "output_type": "stream",
     "text": [
      "MAE: 175.376, RMSE: 268.509, RMSLE: 1.848\n"
     ]
    },
    {
     "ename": "TypeError",
     "evalue": "unsupported format string passed to NoneType.__format__",
     "output_type": "error",
     "traceback": [
      "\u001b[1;31m---------------------------------------------------------------------------\u001b[0m",
      "\u001b[1;31mTypeError\u001b[0m                                 Traceback (most recent call last)",
      "\u001b[1;32m~\\AppData\\Local\\Temp/ipykernel_14080/1552669172.py\u001b[0m in \u001b[0;36m<module>\u001b[1;34m\u001b[0m\n\u001b[0;32m      8\u001b[0m \u001b[0my1_pred\u001b[0m \u001b[1;33m=\u001b[0m \u001b[0mlr_reg\u001b[0m\u001b[1;33m.\u001b[0m\u001b[0mpredict\u001b[0m\u001b[1;33m(\u001b[0m\u001b[0mx1_test_scaled\u001b[0m\u001b[1;33m)\u001b[0m\u001b[1;33m\u001b[0m\u001b[1;33m\u001b[0m\u001b[0m\n\u001b[0;32m      9\u001b[0m \u001b[1;33m\u001b[0m\u001b[0m\n\u001b[1;32m---> 10\u001b[1;33m \u001b[0mprint\u001b[0m\u001b[1;33m(\u001b[0m\u001b[1;34m'StandardScaler 성능: {:.3f}'\u001b[0m\u001b[1;33m.\u001b[0m\u001b[0mformat\u001b[0m\u001b[1;33m(\u001b[0m\u001b[0mevaluate_regr\u001b[0m\u001b[1;33m(\u001b[0m\u001b[0my1_test\u001b[0m\u001b[1;33m,\u001b[0m \u001b[0my1_pred\u001b[0m\u001b[1;33m)\u001b[0m\u001b[1;33m)\u001b[0m\u001b[1;33m)\u001b[0m\u001b[1;33m\u001b[0m\u001b[1;33m\u001b[0m\u001b[0m\n\u001b[0m",
      "\u001b[1;31mTypeError\u001b[0m: unsupported format string passed to NoneType.__format__"
     ]
    }
   ],
   "source": [
    "# LinearRegression\n",
    "#StandardSclaer\n",
    "scaler = StandardScaler()\n",
    "x1_train_scaled = scaler.fit_transform(x1_train)\n",
    "x1_test_scaled = scaler.transform(x1_test)\n",
    "\n",
    "lr_reg.fit(x1_train_scaled, y1_train)\n",
    "y1_pred = lr_reg.predict(x1_test_scaled)\n",
    "\n",
    "print('StandardScaler 성능: {:.3f}'.format(evaluate_regr(y1_test, y1_pred)))"
   ]
  },
  {
   "cell_type": "code",
   "execution_count": 248,
   "id": "567d8a05",
   "metadata": {
    "ExecuteTime": {
     "end_time": "2022-05-08T12:06:49.156699Z",
     "start_time": "2022-05-08T12:06:49.134685Z"
    }
   },
   "outputs": [
    {
     "ename": "TypeError",
     "evalue": "'LinearRegression' object is not iterable",
     "output_type": "error",
     "traceback": [
      "\u001b[1;31m---------------------------------------------------------------------------\u001b[0m",
      "\u001b[1;31mTypeError\u001b[0m                                 Traceback (most recent call last)",
      "\u001b[1;32m~\\AppData\\Local\\Temp/ipykernel_14080/4141474704.py\u001b[0m in \u001b[0;36m<module>\u001b[1;34m\u001b[0m\n\u001b[0;32m      6\u001b[0m \u001b[0mlr_reg\u001b[0m\u001b[1;33m.\u001b[0m\u001b[0mfit\u001b[0m\u001b[1;33m(\u001b[0m\u001b[0mx1_train_scaled\u001b[0m\u001b[1;33m,\u001b[0m \u001b[0my1_train\u001b[0m\u001b[1;33m)\u001b[0m\u001b[1;33m\u001b[0m\u001b[1;33m\u001b[0m\u001b[0m\n\u001b[0;32m      7\u001b[0m \u001b[1;33m\u001b[0m\u001b[0m\n\u001b[1;32m----> 8\u001b[1;33m \u001b[0mrmses\u001b[0m \u001b[1;33m=\u001b[0m \u001b[0mget_rmses\u001b[0m\u001b[1;33m(\u001b[0m\u001b[0mlr_reg\u001b[0m\u001b[1;33m)\u001b[0m\u001b[1;33m\u001b[0m\u001b[1;33m\u001b[0m\u001b[0m\n\u001b[0m",
      "\u001b[1;32m~\\AppData\\Local\\Temp/ipykernel_14080/3962127486.py\u001b[0m in \u001b[0;36mget_rmses\u001b[1;34m(models)\u001b[0m\n\u001b[0;32m     10\u001b[0m     \u001b[0mrmses\u001b[0m \u001b[1;33m=\u001b[0m \u001b[1;33m[\u001b[0m\u001b[1;33m]\u001b[0m\u001b[1;33m\u001b[0m\u001b[1;33m\u001b[0m\u001b[0m\n\u001b[0;32m     11\u001b[0m \u001b[1;33m\u001b[0m\u001b[0m\n\u001b[1;32m---> 12\u001b[1;33m     \u001b[1;32mfor\u001b[0m \u001b[0mmodel\u001b[0m \u001b[1;32min\u001b[0m \u001b[0mmodels\u001b[0m\u001b[1;33m:\u001b[0m\u001b[1;33m\u001b[0m\u001b[1;33m\u001b[0m\u001b[0m\n\u001b[0m\u001b[0;32m     13\u001b[0m         \u001b[0mrmse\u001b[0m \u001b[1;33m=\u001b[0m \u001b[0mget_rmse\u001b[0m\u001b[1;33m(\u001b[0m\u001b[0mmodel\u001b[0m\u001b[1;33m)\u001b[0m\u001b[1;33m\u001b[0m\u001b[1;33m\u001b[0m\u001b[0m\n\u001b[0;32m     14\u001b[0m         \u001b[0mrmses\u001b[0m\u001b[1;33m.\u001b[0m\u001b[0mappend\u001b[0m\u001b[1;33m(\u001b[0m\u001b[0mrmse\u001b[0m\u001b[1;33m)\u001b[0m\u001b[1;33m\u001b[0m\u001b[1;33m\u001b[0m\u001b[0m\n",
      "\u001b[1;31mTypeError\u001b[0m: 'LinearRegression' object is not iterable"
     ]
    }
   ],
   "source": [
    "#StandardSclaer\n",
    "scaler = StandardScaler()\n",
    "x1_train_scaled = scaler.fit_transform(x1_train)\n",
    "x1_test_scaled = scaler.transform(x1_test)\n",
    "\n",
    "lr_reg.fit(x1_train_scaled, y1_train)\n",
    "\n",
    "rmses = get_rmses(lr_reg)\n",
    "\n",
    "print('StandardScaler 성능: {:.3f}'.format(evaluate_regr(y1_test, y1_pred)))"
   ]
  },
  {
   "cell_type": "code",
   "execution_count": 255,
   "id": "26aa5327",
   "metadata": {
    "ExecuteTime": {
     "end_time": "2022-05-08T12:19:31.668324Z",
     "start_time": "2022-05-08T12:19:31.518292Z"
    }
   },
   "outputs": [
    {
     "name": "stdout",
     "output_type": "stream",
     "text": [
      "StandardScaler 성능: -398.307\n",
      "RobustScaler 성능: -398.307\n",
      "MinMaxScaler 성능: -398.307\n",
      "MaxAbsScaler 성능: 0.460\n"
     ]
    }
   ],
   "source": [
    "#StandardSclaer\n",
    "scaler = StandardScaler()\n",
    "x1_train_scaled = scaler.fit_transform(x1_train)\n",
    "x1_test_scaled = scaler.transform(x1_test)\n",
    "\n",
    "xgb_model_r.fit(x1_train_scaled, y1_train)\n",
    "y1_pred = xgb_model_r.predict(x1_test_scaled)\n",
    "\n",
    "#RobustScaler\n",
    "scaler2 = RobustScaler()\n",
    "x1_train_scaled2 = scaler.fit_transform(x1_train)\n",
    "x1_test_scaled2 = scaler.transform(x1_test)\n",
    "\n",
    "xgb_model_r.fit(x1_train_scaled2, y1_train)\n",
    "y1_pred2 = xgb_model_r.predict(x1_test_scaled2)\n",
    "\n",
    "#MinMaxScaler\n",
    "scaler3 = MinMaxScaler()\n",
    "x1_train_scaled3 = scaler.fit_transform(x1_train)\n",
    "x1_test_scaled3 = scaler.transform(x1_test)\n",
    "\n",
    "xgb_model_r.fit(x1_train_scaled3, y1_train)\n",
    "y1_pred3 = xgb_model_r.predict(x1_test_scaled3)\n",
    "\n",
    "#MaxAbsScaler\n",
    "scaler4 = MaxAbsScaler()\n",
    "x1_train_scaled4 = scaler.fit_transform(x1_train)\n",
    "x1_test_scaled4 = scaler.transform(x1_test)\n",
    "\n",
    "xgb_model_r.fit(x_train_scaled4, y1_train)\n",
    "y1_pred4 = xgb_model_r.predict(x1_test_scaled4)\n",
    "\n",
    "\n",
    "print('StandardScaler 성능: {:.3f}'.format(explained_variance_score(y1_test, y1_pred)))\n",
    "print('RobustScaler 성능: {:.3f}'.format(explained_variance_score(y1_test, y1_pred2)))\n",
    "print('MinMaxScaler 성능: {:.3f}'.format(explained_variance_score(y1_test, y1_pred3)))\n",
    "print('MaxAbsScaler 성능: {:.3f}'.format(explained_variance_score(y1_test, y1_pred4)))"
   ]
  },
  {
   "cell_type": "code",
   "execution_count": 256,
   "id": "4915ce51",
   "metadata": {
    "ExecuteTime": {
     "end_time": "2022-05-08T12:20:08.884436Z",
     "start_time": "2022-05-08T12:20:08.848412Z"
    }
   },
   "outputs": [
    {
     "ename": "ValueError",
     "evalue": "Expected 2D array, got 1D array instead:\narray=[45 49 50 47 53 48 49].\nReshape your data either using array.reshape(-1, 1) if your data has a single feature or array.reshape(1, -1) if it contains a single sample.",
     "output_type": "error",
     "traceback": [
      "\u001b[1;31m---------------------------------------------------------------------------\u001b[0m",
      "\u001b[1;31mValueError\u001b[0m                                Traceback (most recent call last)",
      "\u001b[1;32m~\\AppData\\Local\\Temp/ipykernel_14080/1619593005.py\u001b[0m in \u001b[0;36m<module>\u001b[1;34m\u001b[0m\n\u001b[0;32m     35\u001b[0m \u001b[1;33m\u001b[0m\u001b[0m\n\u001b[0;32m     36\u001b[0m \u001b[1;33m\u001b[0m\u001b[0m\n\u001b[1;32m---> 37\u001b[1;33m \u001b[0mprint\u001b[0m\u001b[1;33m(\u001b[0m\u001b[1;34m'StandardScaler 성능: {:.3f}'\u001b[0m\u001b[1;33m.\u001b[0m\u001b[0mformat\u001b[0m\u001b[1;33m(\u001b[0m\u001b[0mridge\u001b[0m\u001b[1;33m.\u001b[0m\u001b[0mscore\u001b[0m\u001b[1;33m(\u001b[0m\u001b[0my1_test\u001b[0m\u001b[1;33m,\u001b[0m \u001b[0my1_pred\u001b[0m\u001b[1;33m)\u001b[0m\u001b[1;33m)\u001b[0m\u001b[1;33m)\u001b[0m\u001b[1;33m\u001b[0m\u001b[1;33m\u001b[0m\u001b[0m\n\u001b[0m\u001b[0;32m     38\u001b[0m \u001b[0mprint\u001b[0m\u001b[1;33m(\u001b[0m\u001b[1;34m'RobustScaler 성능: {:.3f}'\u001b[0m\u001b[1;33m.\u001b[0m\u001b[0mformat\u001b[0m\u001b[1;33m(\u001b[0m\u001b[0mridge\u001b[0m\u001b[1;33m.\u001b[0m\u001b[0mscore\u001b[0m\u001b[1;33m(\u001b[0m\u001b[0my1_test\u001b[0m\u001b[1;33m,\u001b[0m \u001b[0my1_pred2\u001b[0m\u001b[1;33m)\u001b[0m\u001b[1;33m)\u001b[0m\u001b[1;33m)\u001b[0m\u001b[1;33m\u001b[0m\u001b[1;33m\u001b[0m\u001b[0m\n\u001b[0;32m     39\u001b[0m \u001b[0mprint\u001b[0m\u001b[1;33m(\u001b[0m\u001b[1;34m'MinMaxScaler 성능: {:.3f}'\u001b[0m\u001b[1;33m.\u001b[0m\u001b[0mformat\u001b[0m\u001b[1;33m(\u001b[0m\u001b[0mridge\u001b[0m\u001b[1;33m.\u001b[0m\u001b[0mscore\u001b[0m\u001b[1;33m(\u001b[0m\u001b[0my1_test\u001b[0m\u001b[1;33m,\u001b[0m \u001b[0my1_pred3\u001b[0m\u001b[1;33m)\u001b[0m\u001b[1;33m)\u001b[0m\u001b[1;33m)\u001b[0m\u001b[1;33m\u001b[0m\u001b[1;33m\u001b[0m\u001b[0m\n",
      "\u001b[1;32m~\\Anaconda3\\lib\\site-packages\\sklearn\\base.py\u001b[0m in \u001b[0;36mscore\u001b[1;34m(self, X, y, sample_weight)\u001b[0m\n\u001b[0;32m    551\u001b[0m \u001b[1;33m\u001b[0m\u001b[0m\n\u001b[0;32m    552\u001b[0m         \u001b[1;32mfrom\u001b[0m \u001b[1;33m.\u001b[0m\u001b[0mmetrics\u001b[0m \u001b[1;32mimport\u001b[0m \u001b[0mr2_score\u001b[0m\u001b[1;33m\u001b[0m\u001b[1;33m\u001b[0m\u001b[0m\n\u001b[1;32m--> 553\u001b[1;33m         \u001b[0my_pred\u001b[0m \u001b[1;33m=\u001b[0m \u001b[0mself\u001b[0m\u001b[1;33m.\u001b[0m\u001b[0mpredict\u001b[0m\u001b[1;33m(\u001b[0m\u001b[0mX\u001b[0m\u001b[1;33m)\u001b[0m\u001b[1;33m\u001b[0m\u001b[1;33m\u001b[0m\u001b[0m\n\u001b[0m\u001b[0;32m    554\u001b[0m         \u001b[1;32mreturn\u001b[0m \u001b[0mr2_score\u001b[0m\u001b[1;33m(\u001b[0m\u001b[0my\u001b[0m\u001b[1;33m,\u001b[0m \u001b[0my_pred\u001b[0m\u001b[1;33m,\u001b[0m \u001b[0msample_weight\u001b[0m\u001b[1;33m=\u001b[0m\u001b[0msample_weight\u001b[0m\u001b[1;33m)\u001b[0m\u001b[1;33m\u001b[0m\u001b[1;33m\u001b[0m\u001b[0m\n\u001b[0;32m    555\u001b[0m \u001b[1;33m\u001b[0m\u001b[0m\n",
      "\u001b[1;32m~\\Anaconda3\\lib\\site-packages\\sklearn\\linear_model\\_base.py\u001b[0m in \u001b[0;36mpredict\u001b[1;34m(self, X)\u001b[0m\n\u001b[0;32m    236\u001b[0m             \u001b[0mReturns\u001b[0m \u001b[0mpredicted\u001b[0m \u001b[0mvalues\u001b[0m\u001b[1;33m.\u001b[0m\u001b[1;33m\u001b[0m\u001b[1;33m\u001b[0m\u001b[0m\n\u001b[0;32m    237\u001b[0m         \"\"\"\n\u001b[1;32m--> 238\u001b[1;33m         \u001b[1;32mreturn\u001b[0m \u001b[0mself\u001b[0m\u001b[1;33m.\u001b[0m\u001b[0m_decision_function\u001b[0m\u001b[1;33m(\u001b[0m\u001b[0mX\u001b[0m\u001b[1;33m)\u001b[0m\u001b[1;33m\u001b[0m\u001b[1;33m\u001b[0m\u001b[0m\n\u001b[0m\u001b[0;32m    239\u001b[0m \u001b[1;33m\u001b[0m\u001b[0m\n\u001b[0;32m    240\u001b[0m     \u001b[0m_preprocess_data\u001b[0m \u001b[1;33m=\u001b[0m \u001b[0mstaticmethod\u001b[0m\u001b[1;33m(\u001b[0m\u001b[0m_preprocess_data\u001b[0m\u001b[1;33m)\u001b[0m\u001b[1;33m\u001b[0m\u001b[1;33m\u001b[0m\u001b[0m\n",
      "\u001b[1;32m~\\Anaconda3\\lib\\site-packages\\sklearn\\linear_model\\_base.py\u001b[0m in \u001b[0;36m_decision_function\u001b[1;34m(self, X)\u001b[0m\n\u001b[0;32m    218\u001b[0m         \u001b[0mcheck_is_fitted\u001b[0m\u001b[1;33m(\u001b[0m\u001b[0mself\u001b[0m\u001b[1;33m)\u001b[0m\u001b[1;33m\u001b[0m\u001b[1;33m\u001b[0m\u001b[0m\n\u001b[0;32m    219\u001b[0m \u001b[1;33m\u001b[0m\u001b[0m\n\u001b[1;32m--> 220\u001b[1;33m         \u001b[0mX\u001b[0m \u001b[1;33m=\u001b[0m \u001b[0mcheck_array\u001b[0m\u001b[1;33m(\u001b[0m\u001b[0mX\u001b[0m\u001b[1;33m,\u001b[0m \u001b[0maccept_sparse\u001b[0m\u001b[1;33m=\u001b[0m\u001b[1;33m[\u001b[0m\u001b[1;34m'csr'\u001b[0m\u001b[1;33m,\u001b[0m \u001b[1;34m'csc'\u001b[0m\u001b[1;33m,\u001b[0m \u001b[1;34m'coo'\u001b[0m\u001b[1;33m]\u001b[0m\u001b[1;33m)\u001b[0m\u001b[1;33m\u001b[0m\u001b[1;33m\u001b[0m\u001b[0m\n\u001b[0m\u001b[0;32m    221\u001b[0m         return safe_sparse_dot(X, self.coef_.T,\n\u001b[0;32m    222\u001b[0m                                dense_output=True) + self.intercept_\n",
      "\u001b[1;32m~\\Anaconda3\\lib\\site-packages\\sklearn\\utils\\validation.py\u001b[0m in \u001b[0;36minner_f\u001b[1;34m(*args, **kwargs)\u001b[0m\n\u001b[0;32m     61\u001b[0m             \u001b[0mextra_args\u001b[0m \u001b[1;33m=\u001b[0m \u001b[0mlen\u001b[0m\u001b[1;33m(\u001b[0m\u001b[0margs\u001b[0m\u001b[1;33m)\u001b[0m \u001b[1;33m-\u001b[0m \u001b[0mlen\u001b[0m\u001b[1;33m(\u001b[0m\u001b[0mall_args\u001b[0m\u001b[1;33m)\u001b[0m\u001b[1;33m\u001b[0m\u001b[1;33m\u001b[0m\u001b[0m\n\u001b[0;32m     62\u001b[0m             \u001b[1;32mif\u001b[0m \u001b[0mextra_args\u001b[0m \u001b[1;33m<=\u001b[0m \u001b[1;36m0\u001b[0m\u001b[1;33m:\u001b[0m\u001b[1;33m\u001b[0m\u001b[1;33m\u001b[0m\u001b[0m\n\u001b[1;32m---> 63\u001b[1;33m                 \u001b[1;32mreturn\u001b[0m \u001b[0mf\u001b[0m\u001b[1;33m(\u001b[0m\u001b[1;33m*\u001b[0m\u001b[0margs\u001b[0m\u001b[1;33m,\u001b[0m \u001b[1;33m**\u001b[0m\u001b[0mkwargs\u001b[0m\u001b[1;33m)\u001b[0m\u001b[1;33m\u001b[0m\u001b[1;33m\u001b[0m\u001b[0m\n\u001b[0m\u001b[0;32m     64\u001b[0m \u001b[1;33m\u001b[0m\u001b[0m\n\u001b[0;32m     65\u001b[0m             \u001b[1;31m# extra_args > 0\u001b[0m\u001b[1;33m\u001b[0m\u001b[1;33m\u001b[0m\u001b[0m\n",
      "\u001b[1;32m~\\Anaconda3\\lib\\site-packages\\sklearn\\utils\\validation.py\u001b[0m in \u001b[0;36mcheck_array\u001b[1;34m(array, accept_sparse, accept_large_sparse, dtype, order, copy, force_all_finite, ensure_2d, allow_nd, ensure_min_samples, ensure_min_features, estimator)\u001b[0m\n\u001b[0;32m    692\u001b[0m             \u001b[1;31m# If input is 1D raise error\u001b[0m\u001b[1;33m\u001b[0m\u001b[1;33m\u001b[0m\u001b[0m\n\u001b[0;32m    693\u001b[0m             \u001b[1;32mif\u001b[0m \u001b[0marray\u001b[0m\u001b[1;33m.\u001b[0m\u001b[0mndim\u001b[0m \u001b[1;33m==\u001b[0m \u001b[1;36m1\u001b[0m\u001b[1;33m:\u001b[0m\u001b[1;33m\u001b[0m\u001b[1;33m\u001b[0m\u001b[0m\n\u001b[1;32m--> 694\u001b[1;33m                 raise ValueError(\n\u001b[0m\u001b[0;32m    695\u001b[0m                     \u001b[1;34m\"Expected 2D array, got 1D array instead:\\narray={}.\\n\"\u001b[0m\u001b[1;33m\u001b[0m\u001b[1;33m\u001b[0m\u001b[0m\n\u001b[0;32m    696\u001b[0m                     \u001b[1;34m\"Reshape your data either using array.reshape(-1, 1) if \"\u001b[0m\u001b[1;33m\u001b[0m\u001b[1;33m\u001b[0m\u001b[0m\n",
      "\u001b[1;31mValueError\u001b[0m: Expected 2D array, got 1D array instead:\narray=[45 49 50 47 53 48 49].\nReshape your data either using array.reshape(-1, 1) if your data has a single feature or array.reshape(1, -1) if it contains a single sample."
     ]
    }
   ],
   "source": [
    "from sklearn.linear_model import Ridge\n",
    "ridge = Ridge().fit(x1_train,y1_train)\n",
    "\n",
    "#StandardSclaer\n",
    "scaler = StandardScaler()\n",
    "x1_train_scaled = scaler.fit_transform(x1_train)\n",
    "x1_test_scaled = scaler.transform(x1_test)\n",
    "\n",
    "ridge.fit(x1_train_scaled, y1_train)\n",
    "y1_pred = ridge.predict(x1_test_scaled)\n",
    "\n",
    "#RobustScaler\n",
    "scaler2 = RobustScaler()\n",
    "x1_train_scaled2 = scaler.fit_transform(x1_train)\n",
    "x1_test_scaled2 = scaler.transform(x1_test)\n",
    "\n",
    "ridge.fit(x1_train_scaled2, y1_train)\n",
    "y1_pred2 = ridge.predict(x1_test_scaled2)\n",
    "\n",
    "#MinMaxScaler\n",
    "scaler3 = MinMaxScaler()\n",
    "x1_train_scaled3 = scaler.fit_transform(x1_train)\n",
    "x1_test_scaled3 = scaler.transform(x1_test)\n",
    "\n",
    "ridge.fit(x1_train_scaled3, y1_train)\n",
    "y1_pred3 = ridge.predict(x1_test_scaled3)\n",
    "\n",
    "#MaxAbsScaler\n",
    "scaler4 = MaxAbsScaler()\n",
    "x1_train_scaled4 = scaler.fit_transform(x1_train)\n",
    "x1_test_scaled4 = scaler.transform(x1_test)\n",
    "\n",
    "ridge.fit(x_train_scaled4, y1_train)\n",
    "y1_pred4 = ridge.predict(x1_test_scaled4)\n",
    "\n",
    "\n",
    "print('StandardScaler 성능: {:.3f}'.format(ridge.score(y1_test, y1_pred)))\n",
    "print('RobustScaler 성능: {:.3f}'.format(ridge.score(y1_test, y1_pred2)))\n",
    "print('MinMaxScaler 성능: {:.3f}'.format(ridge.score(y1_test, y1_pred3)))\n",
    "print('MaxAbsScaler 성능: {:.3f}'.format(ridge.score(y1_test, y1_pred4)))"
   ]
  },
  {
   "cell_type": "code",
   "execution_count": null,
   "id": "6f9e389d",
   "metadata": {},
   "outputs": [],
   "source": []
  },
  {
   "cell_type": "code",
   "execution_count": null,
   "id": "792a0619",
   "metadata": {},
   "outputs": [],
   "source": []
  },
  {
   "cell_type": "code",
   "execution_count": 42,
   "id": "68f5c096",
   "metadata": {
    "ExecuteTime": {
     "end_time": "2022-04-30T01:38:39.352537Z",
     "start_time": "2022-04-30T01:38:39.336380Z"
    }
   },
   "outputs": [
    {
     "ename": "IndentationError",
     "evalue": "unexpected indent (Temp/ipykernel_14080/615641574.py, line 6)",
     "output_type": "error",
     "traceback": [
      "\u001b[1;36m  File \u001b[1;32m\"C:\\Users\\MEDICI\\AppData\\Local\\Temp/ipykernel_14080/615641574.py\"\u001b[1;36m, line \u001b[1;32m6\u001b[0m\n\u001b[1;33m    log_reg.fit(x_train, y_train)\u001b[0m\n\u001b[1;37m    ^\u001b[0m\n\u001b[1;31mIndentationError\u001b[0m\u001b[1;31m:\u001b[0m unexpected indent\n"
     ]
    }
   ],
   "source": [
    "from sklearn.linear_model import LogisticRegression\n",
    "from sklearn import metrics\n",
    "import statsmodels.api as sm\n",
    " \n",
    "log_reg = LogisticRegression()\n",
    "    log_reg.fit(x_train, y_train)\n",
    " \n",
    "    x2 = sm.add_constant(x)\n",
    "    model = sm.OLS(y, x2)\n",
    "    result = model.fit()\n",
    "    print(result.summary())\n",
    " \n",
    "    y_pred = log_reg.predict(x_test)\n",
    "    print(y_pred)\n",
    "    print(list(y_test))\n",
    " \n",
    "    print('정확도 :', metrics.accuracy_score(y_test, y_pred))"
   ]
  },
  {
   "cell_type": "code",
   "execution_count": null,
   "id": "f6dbafba",
   "metadata": {},
   "outputs": [],
   "source": []
  },
  {
   "cell_type": "code",
   "execution_count": 237,
   "id": "bbc2106d",
   "metadata": {
    "ExecuteTime": {
     "end_time": "2022-05-08T09:37:26.096291Z",
     "start_time": "2022-05-08T09:37:26.085288Z"
    }
   },
   "outputs": [
    {
     "data": {
      "text/plain": [
       "LinearRegression()"
      ]
     },
     "execution_count": 237,
     "metadata": {},
     "output_type": "execute_result"
    }
   ],
   "source": [
    "from sklearn.linear_model import LinearRegression\n",
    "line_fitter = LinearRegression()\n",
    "line_fitter.fit(x1_train, y1_train)"
   ]
  },
  {
   "cell_type": "code",
   "execution_count": 238,
   "id": "44c91d1f",
   "metadata": {
    "ExecuteTime": {
     "end_time": "2022-05-08T09:37:28.623668Z",
     "start_time": "2022-05-08T09:37:28.613648Z"
    }
   },
   "outputs": [
    {
     "data": {
      "text/plain": [
       "482.5433792736128"
      ]
     },
     "execution_count": 238,
     "metadata": {},
     "output_type": "execute_result"
    }
   ],
   "source": [
    "y_pred = line_fitter.predict(x1_test) # 예측 값\n",
    "mean_squared_error(y1_pred, y1_test, squared = False)"
   ]
  },
  {
   "cell_type": "code",
   "execution_count": 45,
   "id": "1de7abba",
   "metadata": {
    "ExecuteTime": {
     "end_time": "2022-04-30T01:41:55.197218Z",
     "start_time": "2022-04-30T01:41:55.185217Z"
    }
   },
   "outputs": [],
   "source": [
    "from sklearn.preprocessing import LabelEncoder\n",
    "def encode_feature(df):\n",
    "    features = [\"district\"]\n",
    "\n",
    "\n",
    "    for f in features:\n",
    "        le = LabelEncoder()\n",
    "        le.fit(df.loc[:,f]) \n",
    "        df.loc[:,f] = le.transform(df.loc[:,f])\n",
    "\n",
    "    return df"
   ]
  },
  {
   "cell_type": "code",
   "execution_count": 52,
   "id": "b7c37033",
   "metadata": {
    "ExecuteTime": {
     "end_time": "2022-04-30T01:43:51.213364Z",
     "start_time": "2022-04-30T01:43:50.110863Z"
    }
   },
   "outputs": [],
   "source": [
    "import pandas as pd\n",
    "import matplotlib.pyplot as plt\n",
    "import matplotlib\n",
    "matplotlib.rcParams['axes.unicode_minus'] = False ## 마이나스 '-' 표시 제대로 출력\n",
    " \n",
    "from statsmodels.formula.api import ols\n",
    "from sklearn.linear_model import LinearRegression"
   ]
  },
  {
   "cell_type": "code",
   "execution_count": 53,
   "id": "f82e07b1",
   "metadata": {
    "ExecuteTime": {
     "end_time": "2022-04-30T01:44:28.031796Z",
     "start_time": "2022-04-30T01:44:28.003785Z"
    }
   },
   "outputs": [
    {
     "ename": "SyntaxError",
     "evalue": "invalid syntax (<unknown>, line 1)",
     "output_type": "error",
     "traceback": [
      "Traceback \u001b[1;36m(most recent call last)\u001b[0m:\n",
      "  File \u001b[0;32m\"C:\\Users\\MEDICI\\Anaconda3\\lib\\site-packages\\IPython\\core\\interactiveshell.py\"\u001b[0m, line \u001b[0;32m3444\u001b[0m, in \u001b[0;35mrun_code\u001b[0m\n    exec(code_obj, self.user_global_ns, self.user_ns)\n",
      "  File \u001b[0;32m\"C:\\Users\\MEDICI\\AppData\\Local\\Temp/ipykernel_14080/2890185098.py\"\u001b[0m, line \u001b[0;32m1\u001b[0m, in \u001b[0;35m<module>\u001b[0m\n    fit = ols('price ~.',data=data).fit()\n",
      "  File \u001b[0;32m\"C:\\Users\\MEDICI\\Anaconda3\\lib\\site-packages\\statsmodels\\base\\model.py\"\u001b[0m, line \u001b[0;32m169\u001b[0m, in \u001b[0;35mfrom_formula\u001b[0m\n    tmp = handle_formula_data(data, None, formula, depth=eval_env,\n",
      "  File \u001b[0;32m\"C:\\Users\\MEDICI\\Anaconda3\\lib\\site-packages\\statsmodels\\formula\\formulatools.py\"\u001b[0m, line \u001b[0;32m63\u001b[0m, in \u001b[0;35mhandle_formula_data\u001b[0m\n    result = dmatrices(formula, Y, depth, return_type='dataframe',\n",
      "  File \u001b[0;32m\"C:\\Users\\MEDICI\\Anaconda3\\lib\\site-packages\\patsy\\highlevel.py\"\u001b[0m, line \u001b[0;32m309\u001b[0m, in \u001b[0;35mdmatrices\u001b[0m\n    (lhs, rhs) = _do_highlevel_design(formula_like, data, eval_env,\n",
      "  File \u001b[0;32m\"C:\\Users\\MEDICI\\Anaconda3\\lib\\site-packages\\patsy\\highlevel.py\"\u001b[0m, line \u001b[0;32m164\u001b[0m, in \u001b[0;35m_do_highlevel_design\u001b[0m\n    design_infos = _try_incr_builders(formula_like, data_iter_maker, eval_env,\n",
      "  File \u001b[0;32m\"C:\\Users\\MEDICI\\Anaconda3\\lib\\site-packages\\patsy\\highlevel.py\"\u001b[0m, line \u001b[0;32m66\u001b[0m, in \u001b[0;35m_try_incr_builders\u001b[0m\n    return design_matrix_builders([formula_like.lhs_termlist,\n",
      "  File \u001b[0;32m\"C:\\Users\\MEDICI\\Anaconda3\\lib\\site-packages\\patsy\\build.py\"\u001b[0m, line \u001b[0;32m689\u001b[0m, in \u001b[0;35mdesign_matrix_builders\u001b[0m\n    factor_states = _factors_memorize(all_factors, data_iter_maker, eval_env)\n",
      "  File \u001b[0;32m\"C:\\Users\\MEDICI\\Anaconda3\\lib\\site-packages\\patsy\\build.py\"\u001b[0m, line \u001b[0;32m354\u001b[0m, in \u001b[0;35m_factors_memorize\u001b[0m\n    which_pass = factor.memorize_passes_needed(state, eval_env)\n",
      "  File \u001b[0;32m\"C:\\Users\\MEDICI\\Anaconda3\\lib\\site-packages\\patsy\\eval.py\"\u001b[0m, line \u001b[0;32m474\u001b[0m, in \u001b[0;35mmemorize_passes_needed\u001b[0m\n    subset_names = [name for name in ast_names(self.code)\n",
      "  File \u001b[0;32m\"C:\\Users\\MEDICI\\Anaconda3\\lib\\site-packages\\patsy\\eval.py\"\u001b[0m, line \u001b[0;32m474\u001b[0m, in \u001b[0;35m<listcomp>\u001b[0m\n    subset_names = [name for name in ast_names(self.code)\n",
      "  File \u001b[0;32m\"C:\\Users\\MEDICI\\Anaconda3\\lib\\site-packages\\patsy\\eval.py\"\u001b[0m, line \u001b[0;32m105\u001b[0m, in \u001b[0;35mast_names\u001b[0m\n    for node in ast.walk(ast.parse(code)):\n",
      "\u001b[1;36m  File \u001b[1;32m\"C:\\Users\\MEDICI\\Anaconda3\\lib\\ast.py\"\u001b[1;36m, line \u001b[1;32m50\u001b[1;36m, in \u001b[1;35mparse\u001b[1;36m\u001b[0m\n\u001b[1;33m    return compile(source, filename, mode, flags,\u001b[0m\n",
      "\u001b[1;36m  File \u001b[1;32m\"<unknown>\"\u001b[1;36m, line \u001b[1;32m1\u001b[0m\n\u001b[1;33m    .\u001b[0m\n\u001b[1;37m    ^\u001b[0m\n\u001b[1;31mSyntaxError\u001b[0m\u001b[1;31m:\u001b[0m invalid syntax\n"
     ]
    }
   ],
   "source": [
    "fit = ols('price ~.',data=data).fit()"
   ]
  },
  {
   "cell_type": "code",
   "execution_count": 54,
   "id": "92b94c20",
   "metadata": {
    "ExecuteTime": {
     "end_time": "2022-04-30T01:46:10.801034Z",
     "start_time": "2022-04-30T01:46:10.783031Z"
    }
   },
   "outputs": [],
   "source": [
    "from sklearn.neighbors import KNeighborsClassifier\n",
    "knn = KNeighborsClassifier(n_neighbors=1)"
   ]
  },
  {
   "cell_type": "code",
   "execution_count": 57,
   "id": "4809e651",
   "metadata": {
    "ExecuteTime": {
     "end_time": "2022-04-30T01:46:36.741782Z",
     "start_time": "2022-04-30T01:46:36.707580Z"
    }
   },
   "outputs": [
    {
     "ename": "ValueError",
     "evalue": "Unknown label type: 'continuous'",
     "output_type": "error",
     "traceback": [
      "\u001b[1;31m---------------------------------------------------------------------------\u001b[0m",
      "\u001b[1;31mValueError\u001b[0m                                Traceback (most recent call last)",
      "\u001b[1;32m~\\AppData\\Local\\Temp/ipykernel_14080/2303676771.py\u001b[0m in \u001b[0;36m<module>\u001b[1;34m\u001b[0m\n\u001b[1;32m----> 1\u001b[1;33m \u001b[0mknn\u001b[0m\u001b[1;33m.\u001b[0m\u001b[0mfit\u001b[0m\u001b[1;33m(\u001b[0m\u001b[0mx_train\u001b[0m\u001b[1;33m,\u001b[0m \u001b[0my_train\u001b[0m\u001b[1;33m)\u001b[0m\u001b[1;33m\u001b[0m\u001b[1;33m\u001b[0m\u001b[0m\n\u001b[0m",
      "\u001b[1;32m~\\Anaconda3\\lib\\site-packages\\sklearn\\neighbors\\_classification.py\u001b[0m in \u001b[0;36mfit\u001b[1;34m(self, X, y)\u001b[0m\n\u001b[0;32m    177\u001b[0m             \u001b[0mThe\u001b[0m \u001b[0mfitted\u001b[0m \u001b[0mk\u001b[0m\u001b[1;33m-\u001b[0m\u001b[0mnearest\u001b[0m \u001b[0mneighbors\u001b[0m \u001b[0mclassifier\u001b[0m\u001b[1;33m.\u001b[0m\u001b[1;33m\u001b[0m\u001b[1;33m\u001b[0m\u001b[0m\n\u001b[0;32m    178\u001b[0m         \"\"\"\n\u001b[1;32m--> 179\u001b[1;33m         \u001b[1;32mreturn\u001b[0m \u001b[0mself\u001b[0m\u001b[1;33m.\u001b[0m\u001b[0m_fit\u001b[0m\u001b[1;33m(\u001b[0m\u001b[0mX\u001b[0m\u001b[1;33m,\u001b[0m \u001b[0my\u001b[0m\u001b[1;33m)\u001b[0m\u001b[1;33m\u001b[0m\u001b[1;33m\u001b[0m\u001b[0m\n\u001b[0m\u001b[0;32m    180\u001b[0m \u001b[1;33m\u001b[0m\u001b[0m\n\u001b[0;32m    181\u001b[0m     \u001b[1;32mdef\u001b[0m \u001b[0mpredict\u001b[0m\u001b[1;33m(\u001b[0m\u001b[0mself\u001b[0m\u001b[1;33m,\u001b[0m \u001b[0mX\u001b[0m\u001b[1;33m)\u001b[0m\u001b[1;33m:\u001b[0m\u001b[1;33m\u001b[0m\u001b[1;33m\u001b[0m\u001b[0m\n",
      "\u001b[1;32m~\\Anaconda3\\lib\\site-packages\\sklearn\\neighbors\\_base.py\u001b[0m in \u001b[0;36m_fit\u001b[1;34m(self, X, y)\u001b[0m\n\u001b[0;32m    379\u001b[0m                     \u001b[0mself\u001b[0m\u001b[1;33m.\u001b[0m\u001b[0moutputs_2d_\u001b[0m \u001b[1;33m=\u001b[0m \u001b[1;32mTrue\u001b[0m\u001b[1;33m\u001b[0m\u001b[1;33m\u001b[0m\u001b[0m\n\u001b[0;32m    380\u001b[0m \u001b[1;33m\u001b[0m\u001b[0m\n\u001b[1;32m--> 381\u001b[1;33m                 \u001b[0mcheck_classification_targets\u001b[0m\u001b[1;33m(\u001b[0m\u001b[0my\u001b[0m\u001b[1;33m)\u001b[0m\u001b[1;33m\u001b[0m\u001b[1;33m\u001b[0m\u001b[0m\n\u001b[0m\u001b[0;32m    382\u001b[0m                 \u001b[0mself\u001b[0m\u001b[1;33m.\u001b[0m\u001b[0mclasses_\u001b[0m \u001b[1;33m=\u001b[0m \u001b[1;33m[\u001b[0m\u001b[1;33m]\u001b[0m\u001b[1;33m\u001b[0m\u001b[1;33m\u001b[0m\u001b[0m\n\u001b[0;32m    383\u001b[0m                 \u001b[0mself\u001b[0m\u001b[1;33m.\u001b[0m\u001b[0m_y\u001b[0m \u001b[1;33m=\u001b[0m \u001b[0mnp\u001b[0m\u001b[1;33m.\u001b[0m\u001b[0mempty\u001b[0m\u001b[1;33m(\u001b[0m\u001b[0my\u001b[0m\u001b[1;33m.\u001b[0m\u001b[0mshape\u001b[0m\u001b[1;33m,\u001b[0m \u001b[0mdtype\u001b[0m\u001b[1;33m=\u001b[0m\u001b[0mint\u001b[0m\u001b[1;33m)\u001b[0m\u001b[1;33m\u001b[0m\u001b[1;33m\u001b[0m\u001b[0m\n",
      "\u001b[1;32m~\\Anaconda3\\lib\\site-packages\\sklearn\\utils\\multiclass.py\u001b[0m in \u001b[0;36mcheck_classification_targets\u001b[1;34m(y)\u001b[0m\n\u001b[0;32m    181\u001b[0m     if y_type not in ['binary', 'multiclass', 'multiclass-multioutput',\n\u001b[0;32m    182\u001b[0m                       'multilabel-indicator', 'multilabel-sequences']:\n\u001b[1;32m--> 183\u001b[1;33m         \u001b[1;32mraise\u001b[0m \u001b[0mValueError\u001b[0m\u001b[1;33m(\u001b[0m\u001b[1;34m\"Unknown label type: %r\"\u001b[0m \u001b[1;33m%\u001b[0m \u001b[0my_type\u001b[0m\u001b[1;33m)\u001b[0m\u001b[1;33m\u001b[0m\u001b[1;33m\u001b[0m\u001b[0m\n\u001b[0m\u001b[0;32m    184\u001b[0m \u001b[1;33m\u001b[0m\u001b[0m\n\u001b[0;32m    185\u001b[0m \u001b[1;33m\u001b[0m\u001b[0m\n",
      "\u001b[1;31mValueError\u001b[0m: Unknown label type: 'continuous'"
     ]
    }
   ],
   "source": [
    "knn.fit(x_train, y_train)"
   ]
  },
  {
   "cell_type": "code",
   "execution_count": 62,
   "id": "4d160ea6",
   "metadata": {
    "ExecuteTime": {
     "end_time": "2022-04-30T01:49:59.722455Z",
     "start_time": "2022-04-30T01:49:59.694350Z"
    }
   },
   "outputs": [
    {
     "data": {
      "text/plain": [
       "DecisionTreeClassifier(random_state=156)"
      ]
     },
     "execution_count": 62,
     "metadata": {},
     "output_type": "execute_result"
    }
   ],
   "source": [
    "\n",
    "from sklearn.tree import DecisionTreeClassifier\n",
    "from sklearn.datasets import load_iris\n",
    "from sklearn.model_selection import train_test_split\n",
    "import warnings\n",
    "warnings.filterwarnings('ignore')\n",
    "\n",
    "# DecisionTree Classifier 생성\n",
    "dt_clf = DecisionTreeClassifier(random_state=156)\n",
    "\n",
    "\n",
    "x_train, x_test, y_train, y_test = train_test_split(x, y, test_size = 0.2, random_state = 11)\n",
    "\n",
    "dt_clf.fit(x_train, y_train)"
   ]
  },
  {
   "cell_type": "code",
   "execution_count": 64,
   "id": "0a575f47",
   "metadata": {
    "ExecuteTime": {
     "end_time": "2022-04-30T01:57:57.957769Z",
     "start_time": "2022-04-30T01:57:57.773711Z"
    }
   },
   "outputs": [
    {
     "name": "stdout",
     "output_type": "stream",
     "text": [
      "랜덤 포레스트 정확도 : 1.0\n"
     ]
    }
   ],
   "source": [
    "from sklearn.ensemble import RandomForestClassifier\n",
    "from sklearn.metrics import accuracy_score\n",
    "import pandas as pd\n",
    "import warnings\n",
    "warnings.filterwarnings('ignore')\n",
    "\n",
    "x_train, x_test, y_train, y_test = train_test_split(x, y, test_size = 0.2, random_state = 11)\n",
    "\n",
    "rf_clf = RandomForestClassifier(random_state=0)\n",
    "rf_clf.fit(x_train, y_train)\n",
    "pred = rf_clf.predict(x_test)\n",
    "accuracy = accuracy_score(y_test, pred)\n",
    "print('랜덤 포레스트 정확도 :', accuracy)"
   ]
  },
  {
   "cell_type": "code",
   "execution_count": 236,
   "id": "1a650f0d",
   "metadata": {
    "ExecuteTime": {
     "end_time": "2022-05-08T09:21:46.976020Z",
     "start_time": "2022-05-08T09:21:46.889003Z"
    }
   },
   "outputs": [
    {
     "ename": "ValueError",
     "evalue": "Classification metrics can't handle a mix of binary and continuous targets",
     "output_type": "error",
     "traceback": [
      "\u001b[1;31m---------------------------------------------------------------------------\u001b[0m",
      "\u001b[1;31mValueError\u001b[0m                                Traceback (most recent call last)",
      "\u001b[1;32m~\\AppData\\Local\\Temp/ipykernel_14080/935935867.py\u001b[0m in \u001b[0;36m<module>\u001b[1;34m\u001b[0m\n\u001b[0;32m      6\u001b[0m \u001b[0mxgb_model\u001b[0m\u001b[1;33m.\u001b[0m\u001b[0mfit\u001b[0m\u001b[1;33m(\u001b[0m\u001b[0mx_train_scaled2\u001b[0m\u001b[1;33m,\u001b[0m \u001b[0my_train\u001b[0m\u001b[1;33m)\u001b[0m\u001b[1;33m\u001b[0m\u001b[1;33m\u001b[0m\u001b[0m\n\u001b[0;32m      7\u001b[0m \u001b[0my_pred2\u001b[0m \u001b[1;33m=\u001b[0m \u001b[0mxgb_model\u001b[0m\u001b[1;33m.\u001b[0m\u001b[0mpredict\u001b[0m\u001b[1;33m(\u001b[0m\u001b[0mx_test_scaled2\u001b[0m\u001b[1;33m)\u001b[0m\u001b[1;33m\u001b[0m\u001b[1;33m\u001b[0m\u001b[0m\n\u001b[1;32m----> 8\u001b[1;33m \u001b[0mprint\u001b[0m\u001b[1;33m(\u001b[0m\u001b[0maccuracy_score\u001b[0m\u001b[1;33m(\u001b[0m\u001b[0my_test\u001b[0m\u001b[1;33m,\u001b[0m \u001b[0my_pred2\u001b[0m\u001b[1;33m)\u001b[0m\u001b[1;33m)\u001b[0m\u001b[1;33m\u001b[0m\u001b[1;33m\u001b[0m\u001b[0m\n\u001b[0m",
      "\u001b[1;32m~\\Anaconda3\\lib\\site-packages\\sklearn\\utils\\validation.py\u001b[0m in \u001b[0;36minner_f\u001b[1;34m(*args, **kwargs)\u001b[0m\n\u001b[0;32m     61\u001b[0m             \u001b[0mextra_args\u001b[0m \u001b[1;33m=\u001b[0m \u001b[0mlen\u001b[0m\u001b[1;33m(\u001b[0m\u001b[0margs\u001b[0m\u001b[1;33m)\u001b[0m \u001b[1;33m-\u001b[0m \u001b[0mlen\u001b[0m\u001b[1;33m(\u001b[0m\u001b[0mall_args\u001b[0m\u001b[1;33m)\u001b[0m\u001b[1;33m\u001b[0m\u001b[1;33m\u001b[0m\u001b[0m\n\u001b[0;32m     62\u001b[0m             \u001b[1;32mif\u001b[0m \u001b[0mextra_args\u001b[0m \u001b[1;33m<=\u001b[0m \u001b[1;36m0\u001b[0m\u001b[1;33m:\u001b[0m\u001b[1;33m\u001b[0m\u001b[1;33m\u001b[0m\u001b[0m\n\u001b[1;32m---> 63\u001b[1;33m                 \u001b[1;32mreturn\u001b[0m \u001b[0mf\u001b[0m\u001b[1;33m(\u001b[0m\u001b[1;33m*\u001b[0m\u001b[0margs\u001b[0m\u001b[1;33m,\u001b[0m \u001b[1;33m**\u001b[0m\u001b[0mkwargs\u001b[0m\u001b[1;33m)\u001b[0m\u001b[1;33m\u001b[0m\u001b[1;33m\u001b[0m\u001b[0m\n\u001b[0m\u001b[0;32m     64\u001b[0m \u001b[1;33m\u001b[0m\u001b[0m\n\u001b[0;32m     65\u001b[0m             \u001b[1;31m# extra_args > 0\u001b[0m\u001b[1;33m\u001b[0m\u001b[1;33m\u001b[0m\u001b[0m\n",
      "\u001b[1;32m~\\Anaconda3\\lib\\site-packages\\sklearn\\metrics\\_classification.py\u001b[0m in \u001b[0;36maccuracy_score\u001b[1;34m(y_true, y_pred, normalize, sample_weight)\u001b[0m\n\u001b[0;32m    200\u001b[0m \u001b[1;33m\u001b[0m\u001b[0m\n\u001b[0;32m    201\u001b[0m     \u001b[1;31m# Compute accuracy for each possible representation\u001b[0m\u001b[1;33m\u001b[0m\u001b[1;33m\u001b[0m\u001b[0m\n\u001b[1;32m--> 202\u001b[1;33m     \u001b[0my_type\u001b[0m\u001b[1;33m,\u001b[0m \u001b[0my_true\u001b[0m\u001b[1;33m,\u001b[0m \u001b[0my_pred\u001b[0m \u001b[1;33m=\u001b[0m \u001b[0m_check_targets\u001b[0m\u001b[1;33m(\u001b[0m\u001b[0my_true\u001b[0m\u001b[1;33m,\u001b[0m \u001b[0my_pred\u001b[0m\u001b[1;33m)\u001b[0m\u001b[1;33m\u001b[0m\u001b[1;33m\u001b[0m\u001b[0m\n\u001b[0m\u001b[0;32m    203\u001b[0m     \u001b[0mcheck_consistent_length\u001b[0m\u001b[1;33m(\u001b[0m\u001b[0my_true\u001b[0m\u001b[1;33m,\u001b[0m \u001b[0my_pred\u001b[0m\u001b[1;33m,\u001b[0m \u001b[0msample_weight\u001b[0m\u001b[1;33m)\u001b[0m\u001b[1;33m\u001b[0m\u001b[1;33m\u001b[0m\u001b[0m\n\u001b[0;32m    204\u001b[0m     \u001b[1;32mif\u001b[0m \u001b[0my_type\u001b[0m\u001b[1;33m.\u001b[0m\u001b[0mstartswith\u001b[0m\u001b[1;33m(\u001b[0m\u001b[1;34m'multilabel'\u001b[0m\u001b[1;33m)\u001b[0m\u001b[1;33m:\u001b[0m\u001b[1;33m\u001b[0m\u001b[1;33m\u001b[0m\u001b[0m\n",
      "\u001b[1;32m~\\Anaconda3\\lib\\site-packages\\sklearn\\metrics\\_classification.py\u001b[0m in \u001b[0;36m_check_targets\u001b[1;34m(y_true, y_pred)\u001b[0m\n\u001b[0;32m     90\u001b[0m \u001b[1;33m\u001b[0m\u001b[0m\n\u001b[0;32m     91\u001b[0m     \u001b[1;32mif\u001b[0m \u001b[0mlen\u001b[0m\u001b[1;33m(\u001b[0m\u001b[0my_type\u001b[0m\u001b[1;33m)\u001b[0m \u001b[1;33m>\u001b[0m \u001b[1;36m1\u001b[0m\u001b[1;33m:\u001b[0m\u001b[1;33m\u001b[0m\u001b[1;33m\u001b[0m\u001b[0m\n\u001b[1;32m---> 92\u001b[1;33m         raise ValueError(\"Classification metrics can't handle a mix of {0} \"\n\u001b[0m\u001b[0;32m     93\u001b[0m                          \"and {1} targets\".format(type_true, type_pred))\n\u001b[0;32m     94\u001b[0m \u001b[1;33m\u001b[0m\u001b[0m\n",
      "\u001b[1;31mValueError\u001b[0m: Classification metrics can't handle a mix of binary and continuous targets"
     ]
    }
   ],
   "source": [
    "#RobustScaler\n",
    "scaler2 = RobustScaler()\n",
    "x_train_scaled2 = scaler.fit_transform(x_train)\n",
    "x_test_scaled2 = scaler.transform(x_test)\n",
    "\n",
    "xgb_model.fit(x_train_scaled2, y_train)\n",
    "y_pred2 = xgb_model.predict(x_test_scaled2)\n",
    "print(accuracy_score(y_test, y_pred2))"
   ]
  },
  {
   "cell_type": "code",
   "execution_count": null,
   "id": "4303c0d0",
   "metadata": {},
   "outputs": [],
   "source": [
    "xgbc_kf_rgs_best = xgbc_kf_rgs.best_estimator_\n",
    "xgbc_kf_rgs_pred = xgbc_kf_rgs_best.predict(x_test)\n",
    "print(accuracy_score(y_test, xgbc_kf_rgs_pred))"
   ]
  },
  {
   "cell_type": "markdown",
   "id": "d62be27c",
   "metadata": {},
   "source": [
    "### 스케일링 한 것과 안 한 것의 차이"
   ]
  },
  {
   "cell_type": "markdown",
   "id": "46ca5cf2",
   "metadata": {
    "ExecuteTime": {
     "end_time": "2022-05-02T03:32:52.727861Z",
     "start_time": "2022-05-02T03:32:52.718873Z"
    }
   },
   "source": [
    "##### 스켈링 안 함"
   ]
  },
  {
   "cell_type": "code",
   "execution_count": null,
   "id": "65df54ac",
   "metadata": {},
   "outputs": [],
   "source": []
  },
  {
   "cell_type": "markdown",
   "id": "75352a83",
   "metadata": {},
   "source": [
    "##### 스케링 함"
   ]
  },
  {
   "cell_type": "code",
   "execution_count": null,
   "id": "bcfe1a18",
   "metadata": {},
   "outputs": [],
   "source": []
  }
 ],
 "metadata": {
  "kernelspec": {
   "display_name": "Python 3 (ipykernel)",
   "language": "python",
   "name": "python3"
  },
  "language_info": {
   "codemirror_mode": {
    "name": "ipython",
    "version": 3
   },
   "file_extension": ".py",
   "mimetype": "text/x-python",
   "name": "python",
   "nbconvert_exporter": "python",
   "pygments_lexer": "ipython3",
   "version": "3.9.7"
  },
  "toc": {
   "base_numbering": 1,
   "nav_menu": {},
   "number_sections": true,
   "sideBar": true,
   "skip_h1_title": false,
   "title_cell": "Table of Contents",
   "title_sidebar": "Contents",
   "toc_cell": false,
   "toc_position": {},
   "toc_section_display": true,
   "toc_window_display": true
  },
  "varInspector": {
   "cols": {
    "lenName": 16,
    "lenType": 16,
    "lenVar": 40
   },
   "kernels_config": {
    "python": {
     "delete_cmd_postfix": "",
     "delete_cmd_prefix": "del ",
     "library": "var_list.py",
     "varRefreshCmd": "print(var_dic_list())"
    },
    "r": {
     "delete_cmd_postfix": ") ",
     "delete_cmd_prefix": "rm(",
     "library": "var_list.r",
     "varRefreshCmd": "cat(var_dic_list()) "
    }
   },
   "types_to_exclude": [
    "module",
    "function",
    "builtin_function_or_method",
    "instance",
    "_Feature"
   ],
   "window_display": false
  }
 },
 "nbformat": 4,
 "nbformat_minor": 5
}
