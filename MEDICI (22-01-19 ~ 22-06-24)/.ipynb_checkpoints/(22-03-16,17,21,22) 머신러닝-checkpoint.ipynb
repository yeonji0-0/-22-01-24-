{
 "cells": [
  {
   "cell_type": "code",
   "execution_count": 1,
   "metadata": {
    "id": "4q9h3yTqgA0q"
   },
   "outputs": [],
   "source": [
    "# 기본적으로 필요한 패키지들\n",
    "import numpy as np\n",
    "import pandas as pd\n",
    "import matplotlib.pyplot as plt"
   ]
  },
  {
   "cell_type": "code",
   "execution_count": 2,
   "metadata": {
    "colab": {
     "base_uri": "https://localhost:8080/",
     "height": 250
    },
    "executionInfo": {
     "elapsed": 224,
     "status": "ok",
     "timestamp": 1647396883796,
     "user": {
      "displayName": "Minkyu Kwon",
      "photoUrl": "https://lh3.googleusercontent.com/a/default-user=s64",
      "userId": "08202342554901369599"
     },
     "user_tz": -540
    },
    "id": "wytZGuQjgHCX",
    "outputId": "3023fc5b-f267-4e89-df65-43b3b80cf542"
   },
   "outputs": [
    {
     "data": {
      "text/html": [
       "<div>\n",
       "<style scoped>\n",
       "    .dataframe tbody tr th:only-of-type {\n",
       "        vertical-align: middle;\n",
       "    }\n",
       "\n",
       "    .dataframe tbody tr th {\n",
       "        vertical-align: top;\n",
       "    }\n",
       "\n",
       "    .dataframe thead th {\n",
       "        text-align: right;\n",
       "    }\n",
       "</style>\n",
       "<table border=\"1\" class=\"dataframe\">\n",
       "  <thead>\n",
       "    <tr style=\"text-align: right;\">\n",
       "      <th></th>\n",
       "      <th>PassengerId</th>\n",
       "      <th>Survived</th>\n",
       "      <th>Pclass</th>\n",
       "      <th>Name</th>\n",
       "      <th>Sex</th>\n",
       "      <th>Age</th>\n",
       "      <th>SibSp</th>\n",
       "      <th>Parch</th>\n",
       "      <th>Ticket</th>\n",
       "      <th>Fare</th>\n",
       "      <th>Cabin</th>\n",
       "      <th>Embarked</th>\n",
       "    </tr>\n",
       "  </thead>\n",
       "  <tbody>\n",
       "    <tr>\n",
       "      <th>0</th>\n",
       "      <td>1</td>\n",
       "      <td>0</td>\n",
       "      <td>3</td>\n",
       "      <td>Braund, Mr. Owen Harris</td>\n",
       "      <td>male</td>\n",
       "      <td>22.0</td>\n",
       "      <td>1</td>\n",
       "      <td>0</td>\n",
       "      <td>A/5 21171</td>\n",
       "      <td>7.2500</td>\n",
       "      <td>NaN</td>\n",
       "      <td>S</td>\n",
       "    </tr>\n",
       "    <tr>\n",
       "      <th>1</th>\n",
       "      <td>2</td>\n",
       "      <td>1</td>\n",
       "      <td>1</td>\n",
       "      <td>Cumings, Mrs. John Bradley (Florence Briggs Th...</td>\n",
       "      <td>female</td>\n",
       "      <td>38.0</td>\n",
       "      <td>1</td>\n",
       "      <td>0</td>\n",
       "      <td>PC 17599</td>\n",
       "      <td>71.2833</td>\n",
       "      <td>C85</td>\n",
       "      <td>C</td>\n",
       "    </tr>\n",
       "    <tr>\n",
       "      <th>2</th>\n",
       "      <td>3</td>\n",
       "      <td>1</td>\n",
       "      <td>3</td>\n",
       "      <td>Heikkinen, Miss. Laina</td>\n",
       "      <td>female</td>\n",
       "      <td>26.0</td>\n",
       "      <td>0</td>\n",
       "      <td>0</td>\n",
       "      <td>STON/O2. 3101282</td>\n",
       "      <td>7.9250</td>\n",
       "      <td>NaN</td>\n",
       "      <td>S</td>\n",
       "    </tr>\n",
       "    <tr>\n",
       "      <th>3</th>\n",
       "      <td>4</td>\n",
       "      <td>1</td>\n",
       "      <td>1</td>\n",
       "      <td>Futrelle, Mrs. Jacques Heath (Lily May Peel)</td>\n",
       "      <td>female</td>\n",
       "      <td>35.0</td>\n",
       "      <td>1</td>\n",
       "      <td>0</td>\n",
       "      <td>113803</td>\n",
       "      <td>53.1000</td>\n",
       "      <td>C123</td>\n",
       "      <td>S</td>\n",
       "    </tr>\n",
       "    <tr>\n",
       "      <th>4</th>\n",
       "      <td>5</td>\n",
       "      <td>0</td>\n",
       "      <td>3</td>\n",
       "      <td>Allen, Mr. William Henry</td>\n",
       "      <td>male</td>\n",
       "      <td>35.0</td>\n",
       "      <td>0</td>\n",
       "      <td>0</td>\n",
       "      <td>373450</td>\n",
       "      <td>8.0500</td>\n",
       "      <td>NaN</td>\n",
       "      <td>S</td>\n",
       "    </tr>\n",
       "  </tbody>\n",
       "</table>\n",
       "</div>"
      ],
      "text/plain": [
       "   PassengerId  Survived  Pclass  \\\n",
       "0            1         0       3   \n",
       "1            2         1       1   \n",
       "2            3         1       3   \n",
       "3            4         1       1   \n",
       "4            5         0       3   \n",
       "\n",
       "                                                Name     Sex   Age  SibSp  \\\n",
       "0                            Braund, Mr. Owen Harris    male  22.0      1   \n",
       "1  Cumings, Mrs. John Bradley (Florence Briggs Th...  female  38.0      1   \n",
       "2                             Heikkinen, Miss. Laina  female  26.0      0   \n",
       "3       Futrelle, Mrs. Jacques Heath (Lily May Peel)  female  35.0      1   \n",
       "4                           Allen, Mr. William Henry    male  35.0      0   \n",
       "\n",
       "   Parch            Ticket     Fare Cabin Embarked  \n",
       "0      0         A/5 21171   7.2500   NaN        S  \n",
       "1      0          PC 17599  71.2833   C85        C  \n",
       "2      0  STON/O2. 3101282   7.9250   NaN        S  \n",
       "3      0            113803  53.1000  C123        S  \n",
       "4      0            373450   8.0500   NaN        S  "
      ]
     },
     "execution_count": 2,
     "metadata": {},
     "output_type": "execute_result"
    }
   ],
   "source": [
    "path = \"05_data/train.csv\"\n",
    "data = pd.read_csv(path)\n",
    "data.head()"
   ]
  },
  {
   "cell_type": "code",
   "execution_count": null,
   "metadata": {
    "id": "vOvAVBHMgHEw"
   },
   "outputs": [],
   "source": [
    "# 원래는 FM적으로 하려면, EDA를 수행을 하셔야 합니다....\n",
    "# -> 지난 번 수행을 했기에, 여기서는 생략을 하고 진행을 합니다.."
   ]
  },
  {
   "cell_type": "code",
   "execution_count": 3,
   "metadata": {
    "colab": {
     "base_uri": "https://localhost:8080/"
    },
    "executionInfo": {
     "elapsed": 291,
     "status": "ok",
     "timestamp": 1647396963482,
     "user": {
      "displayName": "Minkyu Kwon",
      "photoUrl": "https://lh3.googleusercontent.com/a/default-user=s64",
      "userId": "08202342554901369599"
     },
     "user_tz": -540
    },
    "id": "Hx00S9cygmOs",
    "outputId": "dc6ee6b0-ec37-4f27-a963-d6e104e2b0bd"
   },
   "outputs": [
    {
     "name": "stdout",
     "output_type": "stream",
     "text": [
      "<class 'pandas.core.frame.DataFrame'>\n",
      "RangeIndex: 891 entries, 0 to 890\n",
      "Data columns (total 12 columns):\n",
      " #   Column       Non-Null Count  Dtype  \n",
      "---  ------       --------------  -----  \n",
      " 0   PassengerId  891 non-null    int64  \n",
      " 1   Survived     891 non-null    int64  \n",
      " 2   Pclass       891 non-null    int64  \n",
      " 3   Name         891 non-null    object \n",
      " 4   Sex          891 non-null    object \n",
      " 5   Age          714 non-null    float64\n",
      " 6   SibSp        891 non-null    int64  \n",
      " 7   Parch        891 non-null    int64  \n",
      " 8   Ticket       891 non-null    object \n",
      " 9   Fare         891 non-null    float64\n",
      " 10  Cabin        204 non-null    object \n",
      " 11  Embarked     889 non-null    object \n",
      "dtypes: float64(2), int64(5), object(5)\n",
      "memory usage: 83.7+ KB\n"
     ]
    }
   ],
   "source": [
    "data.info()"
   ]
  },
  {
   "cell_type": "code",
   "execution_count": null,
   "metadata": {
    "id": "ywKPpKT5gmRZ"
   },
   "outputs": [],
   "source": [
    "# 일단 각 컬럼별로 누락된 데이터의 비율"
   ]
  },
  {
   "cell_type": "code",
   "execution_count": 4,
   "metadata": {
    "colab": {
     "base_uri": "https://localhost:8080/"
    },
    "executionInfo": {
     "elapsed": 243,
     "status": "ok",
     "timestamp": 1647397120231,
     "user": {
      "displayName": "Minkyu Kwon",
      "photoUrl": "https://lh3.googleusercontent.com/a/default-user=s64",
      "userId": "08202342554901369599"
     },
     "user_tz": -540
    },
    "id": "KKkqMKJ4gmUG",
    "outputId": "21aa8ec5-326b-4ff2-872f-9f7cac831996"
   },
   "outputs": [
    {
     "name": "stdout",
     "output_type": "stream",
     "text": [
      "PassengerId: 0.0\n",
      "Survived: 0.0\n",
      "Pclass: 0.0\n",
      "Name: 0.0\n",
      "Sex: 0.0\n",
      "Age: 0.19865319865319866\n",
      "SibSp: 0.0\n",
      "Parch: 0.0\n",
      "Ticket: 0.0\n",
      "Fare: 0.0\n",
      "Cabin: 0.7710437710437711\n",
      "Embarked: 0.002244668911335578\n"
     ]
    }
   ],
   "source": [
    "for col in data.columns:\n",
    "    print(str(col) + \":\", data[col].isnull().sum()/len(data) )"
   ]
  },
  {
   "cell_type": "code",
   "execution_count": null,
   "metadata": {
    "id": "6QkhSGXFgmWz"
   },
   "outputs": [],
   "source": [
    "### 빵구난 데이터들을 처리!!!!!!"
   ]
  },
  {
   "cell_type": "code",
   "execution_count": 5,
   "metadata": {
    "colab": {
     "base_uri": "https://localhost:8080/",
     "height": 284
    },
    "executionInfo": {
     "elapsed": 697,
     "status": "ok",
     "timestamp": 1647397245232,
     "user": {
      "displayName": "Minkyu Kwon",
      "photoUrl": "https://lh3.googleusercontent.com/a/default-user=s64",
      "userId": "08202342554901369599"
     },
     "user_tz": -540
    },
    "id": "bpxV4MjvgmZK",
    "outputId": "fce5216c-82a6-495c-e960-dd35ca775768"
   },
   "outputs": [
    {
     "data": {
      "text/plain": [
       "<AxesSubplot:ylabel='Frequency'>"
      ]
     },
     "execution_count": 5,
     "metadata": {},
     "output_type": "execute_result"
    },
    {
     "data": {
      "image/png": "[encoded data removed]",
      "text/plain": [
       "<Figure size 432x288 with 1 Axes>"
      ]
     },
     "metadata": {
      "needs_background": "light"
     },
     "output_type": "display_data"
    }
   ],
   "source": [
    "data[\"Age\"].plot(kind=\"hist\")"
   ]
  },
  {
   "cell_type": "code",
   "execution_count": 6,
   "metadata": {
    "executionInfo": {
     "elapsed": 2,
     "status": "ok",
     "timestamp": 1647397371492,
     "user": {
      "displayName": "Minkyu Kwon",
      "photoUrl": "https://lh3.googleusercontent.com/a/default-user=s64",
      "userId": "08202342554901369599"
     },
     "user_tz": -540
    },
    "id": "M88VKng4h4SA"
   },
   "outputs": [],
   "source": [
    "# 나이 같은 경우는 20프로 정도가 누락이 되어 있어서,\n",
    "# 단순히 제거를 한다고 하면 문제가 될 수 있다\n",
    "# -> 나이들의 평균으로 채운다(대표값)\n",
    "# + 주어진 데이터들 Age 컬럼을 Target으로 하고, 모델!!!(모델을)\n",
    "data[\"Age\"].fillna(data[\"Age\"].mean(), inplace=True)"
   ]
  },
  {
   "cell_type": "code",
   "execution_count": 7,
   "metadata": {
    "colab": {
     "base_uri": "https://localhost:8080/"
    },
    "executionInfo": {
     "elapsed": 3,
     "status": "ok",
     "timestamp": 1647397417221,
     "user": {
      "displayName": "Minkyu Kwon",
      "photoUrl": "https://lh3.googleusercontent.com/a/default-user=s64",
      "userId": "08202342554901369599"
     },
     "user_tz": -540
    },
    "id": "hHtmm2qAh4Us",
    "outputId": "8ce22718-e0ec-437a-e5a5-8d75c8778d99"
   },
   "outputs": [
    {
     "data": {
      "text/plain": [
       "0"
      ]
     },
     "execution_count": 7,
     "metadata": {},
     "output_type": "execute_result"
    }
   ],
   "source": [
    "# 다 채워졌는지 확인\n",
    "data[\"Age\"].isnull().sum()"
   ]
  },
  {
   "cell_type": "code",
   "execution_count": null,
   "metadata": {
    "id": "UAjMsRTLh4XZ"
   },
   "outputs": [],
   "source": [
    "# cabin 컬럼과 embarked 컬럼에 대해서 채우려고 함\n",
    "# 문자열의 값으로 누락이 되어 있음!\n",
    "# -> 새로운 문자열로 채우거나(N)\n",
    "# -> 많이 나타나는 문자값으로 채우거나\n",
    "# -> Cabin, Embarked 예측하는 모델을 만들어서 채우거나"
   ]
  },
  {
   "cell_type": "code",
   "execution_count": 9,
   "metadata": {
    "executionInfo": {
     "elapsed": 306,
     "status": "ok",
     "timestamp": 1647397598649,
     "user": {
      "displayName": "Minkyu Kwon",
      "photoUrl": "https://lh3.googleusercontent.com/a/default-user=s64",
      "userId": "08202342554901369599"
     },
     "user_tz": -540
    },
    "id": "cZMD7jGMilw9"
   },
   "outputs": [],
   "source": [
    "data[\"Embarked\"].fillna(\"N\", inplace=True)\n",
    "data[\"Cabin\"].fillna(\"N\", inplace=True)"
   ]
  },
  {
   "cell_type": "code",
   "execution_count": 10,
   "metadata": {
    "colab": {
     "base_uri": "https://localhost:8080/"
    },
    "executionInfo": {
     "elapsed": 289,
     "status": "ok",
     "timestamp": 1647397631730,
     "user": {
      "displayName": "Minkyu Kwon",
      "photoUrl": "https://lh3.googleusercontent.com/a/default-user=s64",
      "userId": "08202342554901369599"
     },
     "user_tz": -540
    },
    "id": "fcl_A_gfiqow",
    "outputId": "3bb6e030-fbd7-4bfb-8880-84cf9bcffd21"
   },
   "outputs": [
    {
     "data": {
      "text/plain": [
       "0"
      ]
     },
     "execution_count": 10,
     "metadata": {},
     "output_type": "execute_result"
    }
   ],
   "source": [
    "data.isnull().sum().sum()"
   ]
  },
  {
   "cell_type": "code",
   "execution_count": 11,
   "metadata": {
    "colab": {
     "base_uri": "https://localhost:8080/"
    },
    "executionInfo": {
     "elapsed": 230,
     "status": "ok",
     "timestamp": 1647397678715,
     "user": {
      "displayName": "Minkyu Kwon",
      "photoUrl": "https://lh3.googleusercontent.com/a/default-user=s64",
      "userId": "08202342554901369599"
     },
     "user_tz": -540
    },
    "id": "Rwj4Mt59jZYZ",
    "outputId": "0655ee6a-c0ec-44fd-c964-83ee388d5937"
   },
   "outputs": [
    {
     "name": "stdout",
     "output_type": "stream",
     "text": [
      "<class 'pandas.core.frame.DataFrame'>\n",
      "RangeIndex: 891 entries, 0 to 890\n",
      "Data columns (total 12 columns):\n",
      " #   Column       Non-Null Count  Dtype  \n",
      "---  ------       --------------  -----  \n",
      " 0   PassengerId  891 non-null    int64  \n",
      " 1   Survived     891 non-null    int64  \n",
      " 2   Pclass       891 non-null    int64  \n",
      " 3   Name         891 non-null    object \n",
      " 4   Sex          891 non-null    object \n",
      " 5   Age          891 non-null    float64\n",
      " 6   SibSp        891 non-null    int64  \n",
      " 7   Parch        891 non-null    int64  \n",
      " 8   Ticket       891 non-null    object \n",
      " 9   Fare         891 non-null    float64\n",
      " 10  Cabin        891 non-null    object \n",
      " 11  Embarked     891 non-null    object \n",
      "dtypes: float64(2), int64(5), object(5)\n",
      "memory usage: 83.7+ KB\n"
     ]
    }
   ],
   "source": [
    "data.info()"
   ]
  },
  {
   "cell_type": "code",
   "execution_count": null,
   "metadata": {
    "id": "GN0e8UamjZa8"
   },
   "outputs": [],
   "source": [
    "### 일단 빵구난 값들은 처리가 끝남!\n",
    "### -> 문자열로 된 값들/카테고리 변수들에 대해서는 처리\n",
    "### 인코딩!!!"
   ]
  },
  {
   "cell_type": "code",
   "execution_count": null,
   "metadata": {
    "id": "yNwLM_iWjplW"
   },
   "outputs": [],
   "source": [
    "# 인코딩 : 라벨인코딩과 원핫인코딩\n",
    "\n",
    "# 성별 : 남자, 여자\n",
    "# -> 종류가 증가하면 숫자를 큰 값을 통해서 할당 0,1,2,3,4,5 \n",
    "#    라벨인코딩\n",
    "\n",
    "# 남자, 여자 -----> 원핫인코딩 ---> 남자냐,     여자냐\n",
    "# 남자                                1            0\n",
    "# 여자                                0            1\n",
    "# 종류에 따라서 숫자값이 증가하는 것이 아니라~~\n",
    "# 컬럼의 수가 증가를 하고, 값은 0/1로 표현!!!!\n",
    "# 차원이 너무 커질 수 있는 부분이 있음!!!!주의!!!!\n"
   ]
  },
  {
   "cell_type": "code",
   "execution_count": 12,
   "metadata": {
    "executionInfo": {
     "elapsed": 283,
     "status": "ok",
     "timestamp": 1647397918241,
     "user": {
      "displayName": "Minkyu Kwon",
      "photoUrl": "https://lh3.googleusercontent.com/a/default-user=s64",
      "userId": "08202342554901369599"
     },
     "user_tz": -540
    },
    "id": "ubtCkSCajpp7"
   },
   "outputs": [],
   "source": [
    "# 잠시) \n",
    "from sklearn.preprocessing import LabelEncoder"
   ]
  },
  {
   "cell_type": "code",
   "execution_count": 13,
   "metadata": {
    "colab": {
     "base_uri": "https://localhost:8080/"
    },
    "executionInfo": {
     "elapsed": 345,
     "status": "ok",
     "timestamp": 1647398034548,
     "user": {
      "displayName": "Minkyu Kwon",
      "photoUrl": "https://lh3.googleusercontent.com/a/default-user=s64",
      "userId": "08202342554901369599"
     },
     "user_tz": -540
    },
    "id": "8PDBbupxjpsi",
    "outputId": "2b4a91d5-2a36-46e2-e231-be3b5b3f8611"
   },
   "outputs": [
    {
     "data": {
      "text/plain": [
       "array([0, 1, 2, 0, 1])"
      ]
     },
     "execution_count": 13,
     "metadata": {},
     "output_type": "execute_result"
    }
   ],
   "source": [
    "items = [\"TV\",\"냉장고\",\"세탁기\",\"TV\",\"냉장고\"]\n",
    "# 어떤것을0으로, 어떤것을1로, 어떤 것을 2로...규칙\n",
    "label_encoder = LabelEncoder()\n",
    "label_encoder.fit(items) # 학습 : 규칙을 찾는거...\n",
    "label_items = label_encoder.transform(items)\n",
    "label_items"
   ]
  },
  {
   "cell_type": "code",
   "execution_count": 14,
   "metadata": {
    "colab": {
     "base_uri": "https://localhost:8080/"
    },
    "executionInfo": {
     "elapsed": 287,
     "status": "ok",
     "timestamp": 1647398079200,
     "user": {
      "displayName": "Minkyu Kwon",
      "photoUrl": "https://lh3.googleusercontent.com/a/default-user=s64",
      "userId": "08202342554901369599"
     },
     "user_tz": -540
    },
    "id": "3kfzSxtLk6MF",
    "outputId": "0dfe1a73-bcb1-4b56-cdc1-f95f896c4a28"
   },
   "outputs": [
    {
     "data": {
      "text/plain": [
       "array(['TV', '냉장고', '세탁기'], dtype='<U3')"
      ]
     },
     "execution_count": 14,
     "metadata": {},
     "output_type": "execute_result"
    }
   ],
   "source": [
    "label_encoder.classes_ # 특별히 지정하지 않으면\n",
    "# 영문 -> 사전순으로..."
   ]
  },
  {
   "cell_type": "code",
   "execution_count": 15,
   "metadata": {
    "colab": {
     "base_uri": "https://localhost:8080/"
    },
    "executionInfo": {
     "elapsed": 266,
     "status": "ok",
     "timestamp": 1647398226055,
     "user": {
      "displayName": "Minkyu Kwon",
      "photoUrl": "https://lh3.googleusercontent.com/a/default-user=s64",
      "userId": "08202342554901369599"
     },
     "user_tz": -540
    },
    "id": "ig0xvgabk6PP",
    "outputId": "e3946633-b2f6-4463-ea48-66f62f15f8a5"
   },
   "outputs": [
    {
     "data": {
      "text/plain": [
       "['TV', '냉장고', '커피포트', '냉장고']"
      ]
     },
     "execution_count": 15,
     "metadata": {},
     "output_type": "execute_result"
    }
   ],
   "source": [
    "# test 셋에서 전혀  train에 없었던 새로운 값이 나타날때 \n",
    "# unseen data : 커피포트\n",
    "test_items = [\"TV\",\"냉장고\",\"커피포트\",\"냉장고\"]\n",
    "test_items"
   ]
  },
  {
   "cell_type": "code",
   "execution_count": 28,
   "metadata": {
    "colab": {
     "base_uri": "https://localhost:8080/",
     "height": 461
    },
    "executionInfo": {
     "elapsed": 6,
     "status": "error",
     "timestamp": 1647398231451,
     "user": {
      "displayName": "Minkyu Kwon",
      "photoUrl": "https://lh3.googleusercontent.com/a/default-user=s64",
      "userId": "08202342554901369599"
     },
     "user_tz": -540
    },
    "id": "U2eBabQYk6Rk",
    "outputId": "34126a11-b0cc-4ec1-df9a-092130459b20"
   },
   "outputs": [
    {
     "ename": "ValueError",
     "evalue": "ignored",
     "output_type": "error",
     "traceback": [
      "\u001b[0;31m---------------------------------------------------------------------------\u001b[0m",
      "\u001b[0;31mKeyError\u001b[0m                                  Traceback (most recent call last)",
      "\u001b[0;32m/usr/local/lib/python3.7/dist-packages/sklearn/utils/_encode.py\u001b[0m in \u001b[0;36m_encode\u001b[0;34m(values, uniques, check_unknown)\u001b[0m\n\u001b[1;32m    181\u001b[0m         \u001b[0;32mtry\u001b[0m\u001b[0;34m:\u001b[0m\u001b[0;34m\u001b[0m\u001b[0;34m\u001b[0m\u001b[0m\n\u001b[0;32m--> 182\u001b[0;31m             \u001b[0;32mreturn\u001b[0m \u001b[0m_map_to_integer\u001b[0m\u001b[0;34m(\u001b[0m\u001b[0mvalues\u001b[0m\u001b[0;34m,\u001b[0m \u001b[0muniques\u001b[0m\u001b[0;34m)\u001b[0m\u001b[0;34m\u001b[0m\u001b[0;34m\u001b[0m\u001b[0m\n\u001b[0m\u001b[1;32m    183\u001b[0m         \u001b[0;32mexcept\u001b[0m \u001b[0mKeyError\u001b[0m \u001b[0;32mas\u001b[0m \u001b[0me\u001b[0m\u001b[0;34m:\u001b[0m\u001b[0;34m\u001b[0m\u001b[0;34m\u001b[0m\u001b[0m\n",
      "\u001b[0;32m/usr/local/lib/python3.7/dist-packages/sklearn/utils/_encode.py\u001b[0m in \u001b[0;36m_map_to_integer\u001b[0;34m(values, uniques)\u001b[0m\n\u001b[1;32m    125\u001b[0m     \u001b[0mtable\u001b[0m \u001b[0;34m=\u001b[0m \u001b[0m_nandict\u001b[0m\u001b[0;34m(\u001b[0m\u001b[0;34m{\u001b[0m\u001b[0mval\u001b[0m\u001b[0;34m:\u001b[0m \u001b[0mi\u001b[0m \u001b[0;32mfor\u001b[0m \u001b[0mi\u001b[0m\u001b[0;34m,\u001b[0m \u001b[0mval\u001b[0m \u001b[0;32min\u001b[0m \u001b[0menumerate\u001b[0m\u001b[0;34m(\u001b[0m\u001b[0muniques\u001b[0m\u001b[0;34m)\u001b[0m\u001b[0;34m}\u001b[0m\u001b[0;34m)\u001b[0m\u001b[0;34m\u001b[0m\u001b[0;34m\u001b[0m\u001b[0m\n\u001b[0;32m--> 126\u001b[0;31m     \u001b[0;32mreturn\u001b[0m \u001b[0mnp\u001b[0m\u001b[0;34m.\u001b[0m\u001b[0marray\u001b[0m\u001b[0;34m(\u001b[0m\u001b[0;34m[\u001b[0m\u001b[0mtable\u001b[0m\u001b[0;34m[\u001b[0m\u001b[0mv\u001b[0m\u001b[0;34m]\u001b[0m \u001b[0;32mfor\u001b[0m \u001b[0mv\u001b[0m \u001b[0;32min\u001b[0m \u001b[0mvalues\u001b[0m\u001b[0;34m]\u001b[0m\u001b[0;34m)\u001b[0m\u001b[0;34m\u001b[0m\u001b[0;34m\u001b[0m\u001b[0m\n\u001b[0m\u001b[1;32m    127\u001b[0m \u001b[0;34m\u001b[0m\u001b[0m\n",
      "\u001b[0;32m/usr/local/lib/python3.7/dist-packages/sklearn/utils/_encode.py\u001b[0m in \u001b[0;36m<listcomp>\u001b[0;34m(.0)\u001b[0m\n\u001b[1;32m    125\u001b[0m     \u001b[0mtable\u001b[0m \u001b[0;34m=\u001b[0m \u001b[0m_nandict\u001b[0m\u001b[0;34m(\u001b[0m\u001b[0;34m{\u001b[0m\u001b[0mval\u001b[0m\u001b[0;34m:\u001b[0m \u001b[0mi\u001b[0m \u001b[0;32mfor\u001b[0m \u001b[0mi\u001b[0m\u001b[0;34m,\u001b[0m \u001b[0mval\u001b[0m \u001b[0;32min\u001b[0m \u001b[0menumerate\u001b[0m\u001b[0;34m(\u001b[0m\u001b[0muniques\u001b[0m\u001b[0;34m)\u001b[0m\u001b[0;34m}\u001b[0m\u001b[0;34m)\u001b[0m\u001b[0;34m\u001b[0m\u001b[0;34m\u001b[0m\u001b[0m\n\u001b[0;32m--> 126\u001b[0;31m     \u001b[0;32mreturn\u001b[0m \u001b[0mnp\u001b[0m\u001b[0;34m.\u001b[0m\u001b[0marray\u001b[0m\u001b[0;34m(\u001b[0m\u001b[0;34m[\u001b[0m\u001b[0mtable\u001b[0m\u001b[0;34m[\u001b[0m\u001b[0mv\u001b[0m\u001b[0;34m]\u001b[0m \u001b[0;32mfor\u001b[0m \u001b[0mv\u001b[0m \u001b[0;32min\u001b[0m \u001b[0mvalues\u001b[0m\u001b[0;34m]\u001b[0m\u001b[0;34m)\u001b[0m\u001b[0;34m\u001b[0m\u001b[0;34m\u001b[0m\u001b[0m\n\u001b[0m\u001b[1;32m    127\u001b[0m \u001b[0;34m\u001b[0m\u001b[0m\n",
      "\u001b[0;32m/usr/local/lib/python3.7/dist-packages/sklearn/utils/_encode.py\u001b[0m in \u001b[0;36m__missing__\u001b[0;34m(self, key)\u001b[0m\n\u001b[1;32m    119\u001b[0m             \u001b[0;32mreturn\u001b[0m \u001b[0mself\u001b[0m\u001b[0;34m.\u001b[0m\u001b[0mnan_value\u001b[0m\u001b[0;34m\u001b[0m\u001b[0;34m\u001b[0m\u001b[0m\n\u001b[0;32m--> 120\u001b[0;31m         \u001b[0;32mraise\u001b[0m \u001b[0mKeyError\u001b[0m\u001b[0;34m(\u001b[0m\u001b[0mkey\u001b[0m\u001b[0;34m)\u001b[0m\u001b[0;34m\u001b[0m\u001b[0;34m\u001b[0m\u001b[0m\n\u001b[0m\u001b[1;32m    121\u001b[0m \u001b[0;34m\u001b[0m\u001b[0m\n",
      "\u001b[0;31mKeyError\u001b[0m: '커피포트'",
      "\nDuring handling of the above exception, another exception occurred:\n",
      "\u001b[0;31mValueError\u001b[0m                                Traceback (most recent call last)",
      "\u001b[0;32m<ipython-input-28-e7cd5b364a76>\u001b[0m in \u001b[0;36m<module>\u001b[0;34m()\u001b[0m\n\u001b[0;32m----> 1\u001b[0;31m \u001b[0mlabel_encoder\u001b[0m\u001b[0;34m.\u001b[0m\u001b[0mtransform\u001b[0m\u001b[0;34m(\u001b[0m\u001b[0mtest_items\u001b[0m\u001b[0;34m)\u001b[0m\u001b[0;34m\u001b[0m\u001b[0;34m\u001b[0m\u001b[0m\n\u001b[0m",
      "\u001b[0;32m/usr/local/lib/python3.7/dist-packages/sklearn/preprocessing/_label.py\u001b[0m in \u001b[0;36mtransform\u001b[0;34m(self, y)\u001b[0m\n\u001b[1;32m    136\u001b[0m             \u001b[0;32mreturn\u001b[0m \u001b[0mnp\u001b[0m\u001b[0;34m.\u001b[0m\u001b[0marray\u001b[0m\u001b[0;34m(\u001b[0m\u001b[0;34m[\u001b[0m\u001b[0;34m]\u001b[0m\u001b[0;34m)\u001b[0m\u001b[0;34m\u001b[0m\u001b[0;34m\u001b[0m\u001b[0m\n\u001b[1;32m    137\u001b[0m \u001b[0;34m\u001b[0m\u001b[0m\n\u001b[0;32m--> 138\u001b[0;31m         \u001b[0;32mreturn\u001b[0m \u001b[0m_encode\u001b[0m\u001b[0;34m(\u001b[0m\u001b[0my\u001b[0m\u001b[0;34m,\u001b[0m \u001b[0muniques\u001b[0m\u001b[0;34m=\u001b[0m\u001b[0mself\u001b[0m\u001b[0;34m.\u001b[0m\u001b[0mclasses_\u001b[0m\u001b[0;34m)\u001b[0m\u001b[0;34m\u001b[0m\u001b[0;34m\u001b[0m\u001b[0m\n\u001b[0m\u001b[1;32m    139\u001b[0m \u001b[0;34m\u001b[0m\u001b[0m\n\u001b[1;32m    140\u001b[0m     \u001b[0;32mdef\u001b[0m \u001b[0minverse_transform\u001b[0m\u001b[0;34m(\u001b[0m\u001b[0mself\u001b[0m\u001b[0;34m,\u001b[0m \u001b[0my\u001b[0m\u001b[0;34m)\u001b[0m\u001b[0;34m:\u001b[0m\u001b[0;34m\u001b[0m\u001b[0;34m\u001b[0m\u001b[0m\n",
      "\u001b[0;32m/usr/local/lib/python3.7/dist-packages/sklearn/utils/_encode.py\u001b[0m in \u001b[0;36m_encode\u001b[0;34m(values, uniques, check_unknown)\u001b[0m\n\u001b[1;32m    182\u001b[0m             \u001b[0;32mreturn\u001b[0m \u001b[0m_map_to_integer\u001b[0m\u001b[0;34m(\u001b[0m\u001b[0mvalues\u001b[0m\u001b[0;34m,\u001b[0m \u001b[0muniques\u001b[0m\u001b[0;34m)\u001b[0m\u001b[0;34m\u001b[0m\u001b[0;34m\u001b[0m\u001b[0m\n\u001b[1;32m    183\u001b[0m         \u001b[0;32mexcept\u001b[0m \u001b[0mKeyError\u001b[0m \u001b[0;32mas\u001b[0m \u001b[0me\u001b[0m\u001b[0;34m:\u001b[0m\u001b[0;34m\u001b[0m\u001b[0;34m\u001b[0m\u001b[0m\n\u001b[0;32m--> 184\u001b[0;31m             \u001b[0;32mraise\u001b[0m \u001b[0mValueError\u001b[0m\u001b[0;34m(\u001b[0m\u001b[0;34mf\"y contains previously unseen labels: {str(e)}\"\u001b[0m\u001b[0;34m)\u001b[0m\u001b[0;34m\u001b[0m\u001b[0;34m\u001b[0m\u001b[0m\n\u001b[0m\u001b[1;32m    185\u001b[0m     \u001b[0;32melse\u001b[0m\u001b[0;34m:\u001b[0m\u001b[0;34m\u001b[0m\u001b[0;34m\u001b[0m\u001b[0m\n\u001b[1;32m    186\u001b[0m         \u001b[0;32mif\u001b[0m \u001b[0mcheck_unknown\u001b[0m\u001b[0;34m:\u001b[0m\u001b[0;34m\u001b[0m\u001b[0;34m\u001b[0m\u001b[0m\n",
      "\u001b[0;31mValueError\u001b[0m: y contains previously unseen labels: '커피포트'"
     ]
    }
   ],
   "source": [
    "label_encoder.transform(test_items)"
   ]
  },
  {
   "cell_type": "code",
   "execution_count": null,
   "metadata": {
    "id": "tCEdbiaNk6T0"
   },
   "outputs": [],
   "source": [
    "# 새로운 값들이 나타나게 된다면, 어떻게 할지에 대해서"
   ]
  },
  {
   "cell_type": "code",
   "execution_count": 16,
   "metadata": {
    "colab": {
     "base_uri": "https://localhost:8080/"
    },
    "executionInfo": {
     "elapsed": 224,
     "status": "ok",
     "timestamp": 1647398592371,
     "user": {
      "displayName": "Minkyu Kwon",
      "photoUrl": "https://lh3.googleusercontent.com/a/default-user=s64",
      "userId": "08202342554901369599"
     },
     "user_tz": -540
    },
    "id": "Sm9YoOptl0b2",
    "outputId": "26945e74-7768-4d51-c4ac-2959dd6d49dc"
   },
   "outputs": [
    {
     "data": {
      "text/plain": [
       "array([0, 1, 3, 1])"
      ]
     },
     "execution_count": 16,
     "metadata": {},
     "output_type": "execute_result"
    }
   ],
   "source": [
    "# 1) 기존의 변환룰에 대한 종류들을 리스트업\n",
    "prev_class = list(label_encoder.classes_)\n",
    "# 2) 새로운 unseen data가 나타나면,,, classses에 추가\n",
    "for label in np.unique(test_items):\n",
    "    if label not in prev_class: # 기존 종류에 없는 새론 값이라고 하면..\n",
    "        prev_class.append(label)\n",
    "# 새롭게 추가되는 것들은 뒤로~~append 뒤로 들어가서 test....\n",
    "# 3) 기존의 값과 새롭게 나타난 것을 다 합쳐서 룰을\n",
    "label_encoder.classes_ = np.array(prev_class) \n",
    "label_encoder.transform(test_items)\n"
   ]
  },
  {
   "cell_type": "code",
   "execution_count": 17,
   "metadata": {
    "colab": {
     "base_uri": "https://localhost:8080/"
    },
    "executionInfo": {
     "elapsed": 246,
     "status": "ok",
     "timestamp": 1647398374751,
     "user": {
      "displayName": "Minkyu Kwon",
      "photoUrl": "https://lh3.googleusercontent.com/a/default-user=s64",
      "userId": "08202342554901369599"
     },
     "user_tz": -540
    },
    "id": "vQxEM9Sql0eB",
    "outputId": "11db8d9e-08c4-4b51-996d-5306a6aa48a7"
   },
   "outputs": [],
   "source": [
    "## 원핫인코딩"
   ]
  },
  {
   "cell_type": "code",
   "execution_count": 19,
   "metadata": {
    "executionInfo": {
     "elapsed": 213,
     "status": "ok",
     "timestamp": 1647398864058,
     "user": {
      "displayName": "Minkyu Kwon",
      "photoUrl": "https://lh3.googleusercontent.com/a/default-user=s64",
      "userId": "08202342554901369599"
     },
     "user_tz": -540
    },
    "id": "d5YahtCrl0go"
   },
   "outputs": [],
   "source": [
    "# 주의!!) scikit learn으로 one hot encoding을 할 때\n",
    "# 라벨인코더와 원핫인코더 2개가 필요!!!! -> 2단계\n",
    "from sklearn.preprocessing import LabelEncoder\n",
    "from sklearn.preprocessing import OneHotEncoder"
   ]
  },
  {
   "cell_type": "code",
   "execution_count": 20,
   "metadata": {
    "colab": {
     "base_uri": "https://localhost:8080/"
    },
    "executionInfo": {
     "elapsed": 230,
     "status": "ok",
     "timestamp": 1647399105756,
     "user": {
      "displayName": "Minkyu Kwon",
      "photoUrl": "https://lh3.googleusercontent.com/a/default-user=s64",
      "userId": "08202342554901369599"
     },
     "user_tz": -540
    },
    "id": "q66l_3D7l0i-",
    "outputId": "3a8f52d0-5130-4b15-9045-539e85b9e9d9"
   },
   "outputs": [
    {
     "name": "stdout",
     "output_type": "stream",
     "text": [
      "[0 1 2 0 1]\n"
     ]
    },
    {
     "data": {
      "text/plain": [
       "<5x3 sparse matrix of type '<class 'numpy.float64'>'\n",
       "\twith 5 stored elements in Compressed Sparse Row format>"
      ]
     },
     "execution_count": 20,
     "metadata": {},
     "output_type": "execute_result"
    }
   ],
   "source": [
    "# 1단계 : 주어진 값에 대해서 라벨 인코딩을 먼저 수행\n",
    "label_encoder = LabelEncoder()\n",
    "label_encoder.fit(items)\n",
    "label_items = label_encoder.transform(items)\n",
    "print(label_items)\n",
    "# 2단계 : 라벨인코딩을 바탕으로 원핫이코딩을\n",
    "oh_encoder = OneHotEncoder()\n",
    "oh_labels_items = label_items.reshape(-1,1) # DL \n",
    "oh_labels_labels = oh_encoder.fit_transform(oh_labels_items)\n",
    "oh_labels_labels"
   ]
  },
  {
   "cell_type": "code",
   "execution_count": 35,
   "metadata": {
    "colab": {
     "base_uri": "https://localhost:8080/"
    },
    "executionInfo": {
     "elapsed": 239,
     "status": "ok",
     "timestamp": 1647399118912,
     "user": {
      "displayName": "Minkyu Kwon",
      "photoUrl": "https://lh3.googleusercontent.com/a/default-user=s64",
      "userId": "08202342554901369599"
     },
     "user_tz": -540
    },
    "id": "cwZhqyMMo48d",
    "outputId": "1ec2718b-5b85-400c-9ff7-03bf3e0aeebe"
   },
   "outputs": [
    {
     "data": {
      "text/plain": [
       "array([[1., 0., 0.],\n",
       "       [0., 1., 0.],\n",
       "       [0., 0., 1.],\n",
       "       [1., 0., 0.],\n",
       "       [0., 1., 0.]])"
      ]
     },
     "execution_count": 35,
     "metadata": {},
     "output_type": "execute_result"
    }
   ],
   "source": [
    "oh_labels_labels.toarray()"
   ]
  },
  {
   "cell_type": "code",
   "execution_count": null,
   "metadata": {
    "id": "bJKjibUPsLKn"
   },
   "outputs": [],
   "source": [
    "### Scaling 관련된 부분\n",
    "# -> StadndarScaler\n",
    "# -> minmaxScaler"
   ]
  },
  {
   "cell_type": "code",
   "execution_count": null,
   "metadata": {
    "id": "SjqTfk4osLNa"
   },
   "outputs": [],
   "source": []
  },
  {
   "cell_type": "code",
   "execution_count": null,
   "metadata": {
    "id": "MLUgpWscsLP9"
   },
   "outputs": [],
   "source": [
    "### 전처리에 대해서 함수화 --> 파이프라인"
   ]
  },
  {
   "cell_type": "code",
   "execution_count": 21,
   "metadata": {
    "colab": {
     "base_uri": "https://localhost:8080/"
    },
    "executionInfo": {
     "elapsed": 4,
     "status": "ok",
     "timestamp": 1647400320768,
     "user": {
      "displayName": "Minkyu Kwon",
      "photoUrl": "https://lh3.googleusercontent.com/a/default-user=s64",
      "userId": "08202342554901369599"
     },
     "user_tz": -540
    },
    "id": "FfYzmIjgtdfK",
    "outputId": "ccea2077-9dde-45cb-f60d-8fcdbb146076"
   },
   "outputs": [
    {
     "data": {
      "text/plain": [
       "array(['N', 'C85', 'C123', 'E46', 'G6', 'C103', 'D56', 'A6',\n",
       "       'C23 C25 C27', 'B78', 'D33', 'B30', 'C52', 'B28', 'C83', 'F33',\n",
       "       'F G73', 'E31', 'A5', 'D10 D12', 'D26', 'C110', 'B58 B60', 'E101',\n",
       "       'F E69', 'D47', 'B86', 'F2', 'C2', 'E33', 'B19', 'A7', 'C49', 'F4',\n",
       "       'A32', 'B4', 'B80', 'A31', 'D36', 'D15', 'C93', 'C78', 'D35',\n",
       "       'C87', 'B77', 'E67', 'B94', 'C125', 'C99', 'C118', 'D7', 'A19',\n",
       "       'B49', 'D', 'C22 C26', 'C106', 'C65', 'E36', 'C54',\n",
       "       'B57 B59 B63 B66', 'C7', 'E34', 'C32', 'B18', 'C124', 'C91', 'E40',\n",
       "       'T', 'C128', 'D37', 'B35', 'E50', 'C82', 'B96 B98', 'E10', 'E44',\n",
       "       'A34', 'C104', 'C111', 'C92', 'E38', 'D21', 'E12', 'E63', 'A14',\n",
       "       'B37', 'C30', 'D20', 'B79', 'E25', 'D46', 'B73', 'C95', 'B38',\n",
       "       'B39', 'B22', 'C86', 'C70', 'A16', 'C101', 'C68', 'A10', 'E68',\n",
       "       'B41', 'A20', 'D19', 'D50', 'D9', 'A23', 'B50', 'A26', 'D48',\n",
       "       'E58', 'C126', 'B71', 'B51 B53 B55', 'D49', 'B5', 'B20', 'F G63',\n",
       "       'C62 C64', 'E24', 'C90', 'C45', 'E8', 'B101', 'D45', 'C46', 'D30',\n",
       "       'E121', 'D11', 'E77', 'F38', 'B3', 'D6', 'B82 B84', 'D17', 'A36',\n",
       "       'B102', 'B69', 'E49', 'C47', 'D28', 'E17', 'A24', 'C50', 'B42',\n",
       "       'C148'], dtype=object)"
      ]
     },
     "execution_count": 21,
     "metadata": {},
     "output_type": "execute_result"
    }
   ],
   "source": [
    "data[\"Cabin\"].unique()"
   ]
  },
  {
   "cell_type": "code",
   "execution_count": null,
   "metadata": {
    "id": "_f7DGNw4srT2"
   },
   "outputs": [],
   "source": [
    "#1) 전처리 : 인코딩 부분 함수화\n",
    "#   입력) DF전체를 받아서...\n",
    "#   수행) 내가 원하는 컬럼에다가 인코딩 작업~~~~\n",
    "#   출력) 인코딩 작업이 된 DF"
   ]
  },
  {
   "cell_type": "code",
   "execution_count": 22,
   "metadata": {
    "executionInfo": {
     "elapsed": 2,
     "status": "ok",
     "timestamp": 1647400169701,
     "user": {
      "displayName": "Minkyu Kwon",
      "photoUrl": "https://lh3.googleusercontent.com/a/default-user=s64",
      "userId": "08202342554901369599"
     },
     "user_tz": -540
    },
    "id": "nr8C3lUVsrZ2"
   },
   "outputs": [],
   "source": [
    "from sklearn.preprocessing import LabelEncoder\n",
    "from sklearn.preprocessing import OneHotEncoder"
   ]
  },
  {
   "cell_type": "code",
   "execution_count": 23,
   "metadata": {
    "executionInfo": {
     "elapsed": 220,
     "status": "ok",
     "timestamp": 1647400624861,
     "user": {
      "displayName": "Minkyu Kwon",
      "photoUrl": "https://lh3.googleusercontent.com/a/default-user=s64",
      "userId": "08202342554901369599"
     },
     "user_tz": -540
    },
    "id": "PqtlQ0VhsrdG"
   },
   "outputs": [],
   "source": [
    "def encode_feature(df):\n",
    "    # Cabin은 너무나 종류가 많아서, 앞자리 1개 구역으로 설정\n",
    "    # 인코딩 하기 전에 전처리\n",
    "    df.loc[:,\"Cabin\"] = df.loc[:,\"Cabin\"].apply(lambda x : str(x)[:1])\n",
    "\n",
    "    # 인코딩을 하려는 컬럼 리스트\n",
    "    features = [\"Cabin\",\"Sex\",\"Embarked\"]\n",
    "\n",
    "    # 모두다 다 라벨인코딩\n",
    "    for f in features:\n",
    "        le = LabelEncoder()\n",
    "        le.fit(df.loc[:,f]) # f컬럼에 대한 규칙\n",
    "        df.loc[:,f] = le.transform(df.loc[:,f])\n",
    "    ### 지정한 컬럼들에 대해서 다 수행\n",
    "    return df\n",
    "\n"
   ]
  },
  {
   "cell_type": "code",
   "execution_count": 87,
   "metadata": {
    "id": "NoDnxNgms8Am"
   },
   "outputs": [],
   "source": [
    "# 빵구난 데이터들에 대한 체크 : fillna -> 함수화\n",
    "# 처리 : Age, Cabin, Embarked, Fare\n",
    "# 입력 : DF -> 누락된 값 채우기 -> DF\n",
    "def check_fillna(df):\n",
    "    df[\"Age\"].fillna(df[\"Age\"].mean(), inplace=True)\n",
    "    df[\"Cabin\"].fillna(\"N\", inplace=True)\n",
    "    df[\"Embarked\"].fillna(\"N\", inplace=True)\n",
    "    df[\"Fare\"].fillna(0, inplace=True)\n",
    "    return df"
   ]
  },
  {
   "cell_type": "code",
   "execution_count": 88,
   "metadata": {
    "colab": {
     "base_uri": "https://localhost:8080/"
    },
    "executionInfo": {
     "elapsed": 885,
     "status": "ok",
     "timestamp": 1647405382285,
     "user": {
      "displayName": "Minkyu Kwon",
      "photoUrl": "https://lh3.googleusercontent.com/a/default-user=s64",
      "userId": "08202342554901369599"
     },
     "user_tz": -540
    },
    "id": "jbNVIh32s8DS",
    "outputId": "a32ead20-edbd-42f6-bf9d-154f9237f3f1"
   },
   "outputs": [
    {
     "name": "stdout",
     "output_type": "stream",
     "text": [
      "<class 'pandas.core.frame.DataFrame'>\n",
      "RangeIndex: 891 entries, 0 to 890\n",
      "Data columns (total 12 columns):\n",
      " #   Column       Non-Null Count  Dtype  \n",
      "---  ------       --------------  -----  \n",
      " 0   PassengerId  891 non-null    int64  \n",
      " 1   Survived     891 non-null    int64  \n",
      " 2   Pclass       891 non-null    int64  \n",
      " 3   Name         891 non-null    object \n",
      " 4   Sex          891 non-null    object \n",
      " 5   Age          714 non-null    float64\n",
      " 6   SibSp        891 non-null    int64  \n",
      " 7   Parch        891 non-null    int64  \n",
      " 8   Ticket       891 non-null    object \n",
      " 9   Fare         891 non-null    float64\n",
      " 10  Cabin        204 non-null    object \n",
      " 11  Embarked     889 non-null    object \n",
      "dtypes: float64(2), int64(5), object(5)\n",
      "memory usage: 83.7+ KB\n"
     ]
    }
   ],
   "source": [
    "data.info()"
   ]
  },
  {
   "cell_type": "code",
   "execution_count": 89,
   "metadata": {},
   "outputs": [],
   "source": [
    "## 일반적인 데이터를 수집하다 보니...불필요한 컬럼\n",
    "# 입력 : DF -> 특정 컬럼 제거 -> DF\n",
    "def drop_features(df):\n",
    "    df.drop([\"PassengerId\", \"Name\",\"Ticket\"], axis =1, inplace=True )\n",
    "    return df"
   ]
  },
  {
   "cell_type": "code",
   "execution_count": 90,
   "metadata": {},
   "outputs": [],
   "source": [
    "#### 전처리 함수화\n",
    "def titanic_preprocess(df):\n",
    "    df = check_fillna(df)\n",
    "    df = drop_features(df)\n",
    "    df = encode_feature(df)\n",
    "    return df"
   ]
  },
  {
   "cell_type": "code",
   "execution_count": 91,
   "metadata": {},
   "outputs": [
    {
     "data": {
      "text/html": [
       "<div>\n",
       "<style scoped>\n",
       "    .dataframe tbody tr th:only-of-type {\n",
       "        vertical-align: middle;\n",
       "    }\n",
       "\n",
       "    .dataframe tbody tr th {\n",
       "        vertical-align: top;\n",
       "    }\n",
       "\n",
       "    .dataframe thead th {\n",
       "        text-align: right;\n",
       "    }\n",
       "</style>\n",
       "<table border=\"1\" class=\"dataframe\">\n",
       "  <thead>\n",
       "    <tr style=\"text-align: right;\">\n",
       "      <th></th>\n",
       "      <th>PassengerId</th>\n",
       "      <th>Survived</th>\n",
       "      <th>Pclass</th>\n",
       "      <th>Name</th>\n",
       "      <th>Sex</th>\n",
       "      <th>Age</th>\n",
       "      <th>SibSp</th>\n",
       "      <th>Parch</th>\n",
       "      <th>Ticket</th>\n",
       "      <th>Fare</th>\n",
       "      <th>Cabin</th>\n",
       "      <th>Embarked</th>\n",
       "    </tr>\n",
       "  </thead>\n",
       "  <tbody>\n",
       "    <tr>\n",
       "      <th>0</th>\n",
       "      <td>1</td>\n",
       "      <td>0</td>\n",
       "      <td>3</td>\n",
       "      <td>Braund, Mr. Owen Harris</td>\n",
       "      <td>male</td>\n",
       "      <td>22.0</td>\n",
       "      <td>1</td>\n",
       "      <td>0</td>\n",
       "      <td>A/5 21171</td>\n",
       "      <td>7.2500</td>\n",
       "      <td>NaN</td>\n",
       "      <td>S</td>\n",
       "    </tr>\n",
       "    <tr>\n",
       "      <th>1</th>\n",
       "      <td>2</td>\n",
       "      <td>1</td>\n",
       "      <td>1</td>\n",
       "      <td>Cumings, Mrs. John Bradley (Florence Briggs Th...</td>\n",
       "      <td>female</td>\n",
       "      <td>38.0</td>\n",
       "      <td>1</td>\n",
       "      <td>0</td>\n",
       "      <td>PC 17599</td>\n",
       "      <td>71.2833</td>\n",
       "      <td>C85</td>\n",
       "      <td>C</td>\n",
       "    </tr>\n",
       "    <tr>\n",
       "      <th>2</th>\n",
       "      <td>3</td>\n",
       "      <td>1</td>\n",
       "      <td>3</td>\n",
       "      <td>Heikkinen, Miss. Laina</td>\n",
       "      <td>female</td>\n",
       "      <td>26.0</td>\n",
       "      <td>0</td>\n",
       "      <td>0</td>\n",
       "      <td>STON/O2. 3101282</td>\n",
       "      <td>7.9250</td>\n",
       "      <td>NaN</td>\n",
       "      <td>S</td>\n",
       "    </tr>\n",
       "    <tr>\n",
       "      <th>3</th>\n",
       "      <td>4</td>\n",
       "      <td>1</td>\n",
       "      <td>1</td>\n",
       "      <td>Futrelle, Mrs. Jacques Heath (Lily May Peel)</td>\n",
       "      <td>female</td>\n",
       "      <td>35.0</td>\n",
       "      <td>1</td>\n",
       "      <td>0</td>\n",
       "      <td>113803</td>\n",
       "      <td>53.1000</td>\n",
       "      <td>C123</td>\n",
       "      <td>S</td>\n",
       "    </tr>\n",
       "    <tr>\n",
       "      <th>4</th>\n",
       "      <td>5</td>\n",
       "      <td>0</td>\n",
       "      <td>3</td>\n",
       "      <td>Allen, Mr. William Henry</td>\n",
       "      <td>male</td>\n",
       "      <td>35.0</td>\n",
       "      <td>0</td>\n",
       "      <td>0</td>\n",
       "      <td>373450</td>\n",
       "      <td>8.0500</td>\n",
       "      <td>NaN</td>\n",
       "      <td>S</td>\n",
       "    </tr>\n",
       "  </tbody>\n",
       "</table>\n",
       "</div>"
      ],
      "text/plain": [
       "   PassengerId  Survived  Pclass  \\\n",
       "0            1         0       3   \n",
       "1            2         1       1   \n",
       "2            3         1       3   \n",
       "3            4         1       1   \n",
       "4            5         0       3   \n",
       "\n",
       "                                                Name     Sex   Age  SibSp  \\\n",
       "0                            Braund, Mr. Owen Harris    male  22.0      1   \n",
       "1  Cumings, Mrs. John Bradley (Florence Briggs Th...  female  38.0      1   \n",
       "2                             Heikkinen, Miss. Laina  female  26.0      0   \n",
       "3       Futrelle, Mrs. Jacques Heath (Lily May Peel)  female  35.0      1   \n",
       "4                           Allen, Mr. William Henry    male  35.0      0   \n",
       "\n",
       "   Parch            Ticket     Fare Cabin Embarked  \n",
       "0      0         A/5 21171   7.2500   NaN        S  \n",
       "1      0          PC 17599  71.2833   C85        C  \n",
       "2      0  STON/O2. 3101282   7.9250   NaN        S  \n",
       "3      0            113803  53.1000  C123        S  \n",
       "4      0            373450   8.0500   NaN        S  "
      ]
     },
     "execution_count": 91,
     "metadata": {},
     "output_type": "execute_result"
    }
   ],
   "source": [
    "# Data 다시 불러오기\n",
    "data = pd.read_csv(path)\n",
    "data.head()"
   ]
  },
  {
   "cell_type": "code",
   "execution_count": 92,
   "metadata": {},
   "outputs": [
    {
     "name": "stdout",
     "output_type": "stream",
     "text": [
      "<class 'pandas.core.frame.DataFrame'>\n",
      "RangeIndex: 891 entries, 0 to 890\n",
      "Data columns (total 11 columns):\n",
      " #   Column       Non-Null Count  Dtype  \n",
      "---  ------       --------------  -----  \n",
      " 0   PassengerId  891 non-null    int64  \n",
      " 1   Pclass       891 non-null    int64  \n",
      " 2   Name         891 non-null    object \n",
      " 3   Sex          891 non-null    object \n",
      " 4   Age          714 non-null    float64\n",
      " 5   SibSp        891 non-null    int64  \n",
      " 6   Parch        891 non-null    int64  \n",
      " 7   Ticket       891 non-null    object \n",
      " 8   Fare         891 non-null    float64\n",
      " 9   Cabin        204 non-null    object \n",
      " 10  Embarked     889 non-null    object \n",
      "dtypes: float64(2), int64(4), object(5)\n",
      "memory usage: 76.7+ KB\n"
     ]
    }
   ],
   "source": [
    "y_titanic = data.loc[:,\"Survived\"]\n",
    "X_titanic = data.drop(\"Survived\", axis = 1)\n",
    "X_titanic.info()"
   ]
  },
  {
   "cell_type": "code",
   "execution_count": 93,
   "metadata": {},
   "outputs": [
    {
     "name": "stdout",
     "output_type": "stream",
     "text": [
      "<class 'pandas.core.frame.DataFrame'>\n",
      "RangeIndex: 891 entries, 0 to 890\n",
      "Data columns (total 8 columns):\n",
      " #   Column    Non-Null Count  Dtype  \n",
      "---  ------    --------------  -----  \n",
      " 0   Pclass    891 non-null    int64  \n",
      " 1   Sex       891 non-null    int32  \n",
      " 2   Age       891 non-null    float64\n",
      " 3   SibSp     891 non-null    int64  \n",
      " 4   Parch     891 non-null    int64  \n",
      " 5   Fare      891 non-null    float64\n",
      " 6   Cabin     891 non-null    int32  \n",
      " 7   Embarked  891 non-null    int32  \n",
      "dtypes: float64(2), int32(3), int64(3)\n",
      "memory usage: 45.4 KB\n"
     ]
    }
   ],
   "source": [
    "X_titanic = titanic_preprocess(X_titanic)\n",
    "X_titanic.info()"
   ]
  },
  {
   "cell_type": "code",
   "execution_count": 34,
   "metadata": {},
   "outputs": [],
   "source": [
    "# train을 가지고 자체적으로 검증을 위한 셋을 분리하기 위해 \n",
    "# train_test_split"
   ]
  },
  {
   "cell_type": "code",
   "execution_count": 94,
   "metadata": {},
   "outputs": [],
   "source": [
    "from sklearn.model_selection import train_test_split"
   ]
  },
  {
   "cell_type": "code",
   "execution_count": 95,
   "metadata": {},
   "outputs": [],
   "source": [
    "X_train, X_test, y_train, y_test = train_test_split(X_titanic, y_titanic, test_size = 0.2, random_state = 1234, stratify = y_titanic)"
   ]
  },
  {
   "cell_type": "code",
   "execution_count": 96,
   "metadata": {},
   "outputs": [
    {
     "data": {
      "text/plain": [
       "0    549\n",
       "1    342\n",
       "Name: Survived, dtype: int64"
      ]
     },
     "execution_count": 96,
     "metadata": {},
     "output_type": "execute_result"
    }
   ],
   "source": [
    "y_titanic.value_counts()"
   ]
  },
  {
   "cell_type": "code",
   "execution_count": 97,
   "metadata": {},
   "outputs": [
    {
     "data": {
      "text/plain": [
       "0    110\n",
       "1     69\n",
       "Name: Survived, dtype: int64"
      ]
     },
     "execution_count": 97,
     "metadata": {},
     "output_type": "execute_result"
    }
   ],
   "source": [
    "y_test.value_counts()"
   ]
  },
  {
   "cell_type": "code",
   "execution_count": 46,
   "metadata": {},
   "outputs": [
    {
     "data": {
      "text/plain": [
       "0    0.616573\n",
       "1    0.383427\n",
       "Name: Survived, dtype: float64"
      ]
     },
     "execution_count": 46,
     "metadata": {},
     "output_type": "execute_result"
    }
   ],
   "source": [
    "y_train.value_counts() / len(y_train)"
   ]
  },
  {
   "cell_type": "code",
   "execution_count": 45,
   "metadata": {},
   "outputs": [
    {
     "data": {
      "text/plain": [
       "0    0.614525\n",
       "1    0.385475\n",
       "Name: Survived, dtype: float64"
      ]
     },
     "execution_count": 45,
     "metadata": {},
     "output_type": "execute_result"
    }
   ],
   "source": [
    "y_test.value_counts() / len(y_test)"
   ]
  },
  {
   "cell_type": "code",
   "execution_count": 44,
   "metadata": {},
   "outputs": [
    {
     "data": {
      "text/plain": [
       "0    0.616162\n",
       "1    0.383838\n",
       "Name: Survived, dtype: float64"
      ]
     },
     "execution_count": 44,
     "metadata": {},
     "output_type": "execute_result"
    }
   ],
   "source": [
    "y_titanic.value_counts() / len(y_titanic)"
   ]
  },
  {
   "cell_type": "code",
   "execution_count": null,
   "metadata": {},
   "outputs": [],
   "source": [
    "# Cross_validation을 할 때, 명시적으로 미리 k-fold를 딱 지정"
   ]
  },
  {
   "cell_type": "code",
   "execution_count": 98,
   "metadata": {},
   "outputs": [],
   "source": [
    "# 1) 일반적인 k-fold\n",
    "from sklearn.model_selection import KFold"
   ]
  },
  {
   "cell_type": "code",
   "execution_count": 99,
   "metadata": {},
   "outputs": [],
   "source": [
    "# k-fold를 나누는 과정\n",
    "kfold = KFold(n_splits = 5, random_state=1234, shuffle = True)"
   ]
  },
  {
   "cell_type": "code",
   "execution_count": 100,
   "metadata": {},
   "outputs": [
    {
     "name": "stdout",
     "output_type": "stream",
     "text": [
      "0번째 구분: train용 데이터[ 0  1  2  3  4  5  6  8  9 10], 검증용 데이터[ 7 11 21 24 28 29 58 60 61 64]\n",
      "1번째 구분: train용 데이터[ 0  1  2  3  4  5  6  7  9 10], 검증용 데이터[ 8 13 20 27 34 39 40 44 47 50]\n",
      "2번째 구분: train용 데이터[ 1  3  4  5  7  8  9 10 11 12], 검증용 데이터[ 0  2  6 17 19 22 25 33 35 36]\n",
      "3번째 구분: train용 데이터[ 0  1  2  3  4  6  7  8 10 11], 검증용 데이터[ 5  9 12 16 23 31 32 42 48 49]\n",
      "4번째 구분: train용 데이터[ 0  2  5  6  7  8  9 11 12 13], 검증용 데이터[ 1  3  4 10 14 15 18 26 30 41]\n"
     ]
    }
   ],
   "source": [
    "# 간략하게 몇 개만 보자\n",
    "for idx, (x_tr, x_val) in enumerate(kfold.split(X_train, y_train)):\n",
    "    print(str(idx)+\"번째 구분: train용 데이터\"+ str(x_tr[:10])+\", 검증용 데이터\"+str(x_val[:10]))"
   ]
  },
  {
   "cell_type": "code",
   "execution_count": 56,
   "metadata": {},
   "outputs": [
    {
     "name": "stdout",
     "output_type": "stream",
     "text": [
      "0    0.643357\n",
      "1    0.356643\n",
      "Name: Survived, dtype: float64\n",
      "0    0.58042\n",
      "1    0.41958\n",
      "Name: Survived, dtype: float64\n",
      "0    0.647887\n",
      "1    0.352113\n",
      "Name: Survived, dtype: float64\n",
      "0    0.605634\n",
      "1    0.394366\n",
      "Name: Survived, dtype: float64\n",
      "0    0.605634\n",
      "1    0.394366\n",
      "Name: Survived, dtype: float64\n"
     ]
    }
   ],
   "source": [
    "for idx, (x_tr, x_val) in enumerate(kfold.split(X_train, y_train)):\n",
    "    print(y_train.iloc[x_val].value_counts(normalize=True))"
   ]
  },
  {
   "cell_type": "code",
   "execution_count": 101,
   "metadata": {},
   "outputs": [],
   "source": [
    "# 2) 비율을 유지하는 stratified k-fold\n",
    "from sklearn.model_selection import StratifiedKFold"
   ]
  },
  {
   "cell_type": "code",
   "execution_count": 102,
   "metadata": {},
   "outputs": [],
   "source": [
    "str_kfold = StratifiedKFold(n_splits=5, random_state=1234, shuffle=True)"
   ]
  },
  {
   "cell_type": "code",
   "execution_count": 59,
   "metadata": {},
   "outputs": [
    {
     "name": "stdout",
     "output_type": "stream",
     "text": [
      "0    0.615385\n",
      "1    0.384615\n",
      "Name: Survived, dtype: float64\n",
      "0    0.615385\n",
      "1    0.384615\n",
      "Name: Survived, dtype: float64\n",
      "0    0.619718\n",
      "1    0.380282\n",
      "Name: Survived, dtype: float64\n",
      "0    0.619718\n",
      "1    0.380282\n",
      "Name: Survived, dtype: float64\n",
      "0    0.612676\n",
      "1    0.387324\n",
      "Name: Survived, dtype: float64\n"
     ]
    }
   ],
   "source": [
    "for idx, (x_tr, x_val) in enumerate(str_kfold.split(X_train, y_train)):\n",
    "    print(y_train.iloc[x_val].value_counts(normalize=True))"
   ]
  },
  {
   "cell_type": "code",
   "execution_count": 103,
   "metadata": {},
   "outputs": [],
   "source": [
    "# 3) Repeated k-fold : 반복해서 중복선택 가능해서 -> 샘플이 적을 때 사용\n",
    "from sklearn.model_selection import RepeatedKFold"
   ]
  },
  {
   "cell_type": "code",
   "execution_count": 104,
   "metadata": {},
   "outputs": [],
   "source": [
    "rkfold = RepeatedKFold(n_splits = 5, random_state=1234, n_repeats=10)"
   ]
  },
  {
   "cell_type": "code",
   "execution_count": 105,
   "metadata": {},
   "outputs": [],
   "source": [
    "# 4) Repeated Stratified k-fold\n",
    "from sklearn.model_selection import RepeatedStratifiedKFold"
   ]
  },
  {
   "cell_type": "code",
   "execution_count": 106,
   "metadata": {},
   "outputs": [],
   "source": [
    "rskfold = RepeatedStratifiedKFold(n_splits = 5, random_state=1234, n_repeats=10)"
   ]
  },
  {
   "cell_type": "code",
   "execution_count": 65,
   "metadata": {},
   "outputs": [],
   "source": [
    "# 모델 학습"
   ]
  },
  {
   "cell_type": "code",
   "execution_count": 107,
   "metadata": {},
   "outputs": [],
   "source": [
    "#파라미터 튜닝\n",
    "from sklearn.model_selection import RandomizedSearchCV\n",
    "from sklearn.model_selection import GridSearchCV\n",
    "\n",
    "#대충 돌릴 때 체크 : cross_val\n",
    "from sklearn.model_selection import cross_val_score\n",
    "\n",
    "#평가\n",
    "from sklearn.metrics import accuracy_score"
   ]
  },
  {
   "cell_type": "code",
   "execution_count": 67,
   "metadata": {},
   "outputs": [],
   "source": [
    "# knn & kfold"
   ]
  },
  {
   "cell_type": "code",
   "execution_count": 108,
   "metadata": {},
   "outputs": [],
   "source": [
    "from sklearn.neighbors import KNeighborsClassifier"
   ]
  },
  {
   "cell_type": "code",
   "execution_count": 109,
   "metadata": {},
   "outputs": [],
   "source": [
    "knn = KNeighborsClassifier(n_jobs = -1)"
   ]
  },
  {
   "cell_type": "code",
   "execution_count": 70,
   "metadata": {},
   "outputs": [],
   "source": [
    "## Base Line Check -> 주어진 데이터 일단 cross-val로 성능 체크"
   ]
  },
  {
   "cell_type": "code",
   "execution_count": 110,
   "metadata": {},
   "outputs": [
    {
     "name": "stdout",
     "output_type": "stream",
     "text": [
      "knn 0번째 검증 정확도 : 0.7343\n",
      "knn 1번째 검증 정확도 : 0.7063\n",
      "knn 2번째 검증 정확도 : 0.6549\n",
      "knn 3번째 검증 정확도 : 0.6831\n",
      "knn 4번째 검증 정확도 : 0.7817\n",
      "KNN 평균 정확도 : 0.7120555500837191\n"
     ]
    }
   ],
   "source": [
    "scores = cross_val_score(knn, X_train, y_train, cv = kfold, scoring = \"accuracy\")\n",
    "for iter_count, acc in enumerate(scores):\n",
    "    print(\"knn {0}번째 검증 정확도 : {1:.4f}\".format(iter_count, acc))\n",
    "print(\"KNN 평균 정확도 :\", scores.mean())"
   ]
  },
  {
   "cell_type": "code",
   "execution_count": 111,
   "metadata": {},
   "outputs": [],
   "source": [
    "# 테스트할 파라미터들의 조합\n",
    "# 규칙 : 내가 테스트할 파라미터 이름 -> 키값, 테스트할 값들 -> value\n",
    "# 매뉴얼 보고 해야함\n",
    "parameters = {\n",
    "    \"n_neighbors\" : [1, 3, 4, 7, 9]\n",
    "}"
   ]
  },
  {
   "cell_type": "code",
   "execution_count": 112,
   "metadata": {},
   "outputs": [
    {
     "name": "stderr",
     "output_type": "stream",
     "text": [
      "C:\\Users\\MEDICI\\Anaconda3\\lib\\site-packages\\sklearn\\model_selection\\_search.py:285: UserWarning: The total space of parameters 5 is smaller than n_iter=10. Running 5 iterations. For exhaustive searches, use GridSearchCV.\n",
      "  warnings.warn(\n"
     ]
    },
    {
     "name": "stdout",
     "output_type": "stream",
     "text": [
      "Fitting 5 folds for each of 5 candidates, totalling 25 fits\n"
     ]
    },
    {
     "data": {
      "text/plain": [
       "RandomizedSearchCV(cv=KFold(n_splits=5, random_state=1234, shuffle=True),\n",
       "                   estimator=KNeighborsClassifier(n_jobs=-1), n_jobs=-1,\n",
       "                   param_distributions={'n_neighbors': [1, 3, 4, 7, 9]},\n",
       "                   random_state=1234, scoring='accuracy', verbose=2)"
      ]
     },
     "execution_count": 112,
     "metadata": {},
     "output_type": "execute_result"
    }
   ],
   "source": [
    "# 너무 파라미터의 조합이 너무 많아서 대략 어디로 가야할지 체크하기 위해서 \n",
    "# RandomGridSearchCV\n",
    "\n",
    "# 1) 사용할 모델\n",
    "knn = KNeighborsClassifier(n_jobs=-1)\n",
    "\n",
    "# 몇 번 반복하면서 할 것인지 : RandomGridSearchCV\n",
    "n_iter_search = 10\n",
    "\n",
    "# RGSCV 세팅!!!!\n",
    "knn_kf_rgs = RandomizedSearchCV(\n",
    "    knn, param_distributions = parameters,\n",
    "    cv = kfold, scoring = \"accuracy\",\n",
    "    n_jobs = -1,\n",
    "    random_state=1234,\n",
    "    n_iter= n_iter_search,\n",
    "    verbose= 2\n",
    ")\n",
    "\n",
    "# 실제 데이터를 밀어서 수행\n",
    "# ---> 실질적인 수행은 이 부분이기 때문에 시간이 여기서 오래 걸림\n",
    "knn_kf_rgs.fit(X_train, y_train)"
   ]
  },
  {
   "cell_type": "code",
   "execution_count": 113,
   "metadata": {},
   "outputs": [
    {
     "data": {
      "text/plain": [
       "{'mean_fit_time': array([0.00820251, 0.00920072, 0.00880075, 0.00700121, 0.00760212]),\n",
       " 'std_fit_time': array([0.00039938, 0.00074874, 0.0007482 , 0.00063279, 0.00120049]),\n",
       " 'mean_score_time': array([0.04861045, 0.04881129, 0.04340863, 0.0430099 , 0.04140697]),\n",
       " 'std_score_time': array([0.00492443, 0.00808803, 0.0052024 , 0.00936107, 0.0044547 ]),\n",
       " 'param_n_neighbors': masked_array(data=[1, 3, 4, 7, 9],\n",
       "              mask=[False, False, False, False, False],\n",
       "        fill_value='?',\n",
       "             dtype=object),\n",
       " 'params': [{'n_neighbors': 1},\n",
       "  {'n_neighbors': 3},\n",
       "  {'n_neighbors': 4},\n",
       "  {'n_neighbors': 7},\n",
       "  {'n_neighbors': 9}],\n",
       " 'split0_test_score': array([0.68531469, 0.72727273, 0.72727273, 0.73426573, 0.72027972]),\n",
       " 'split1_test_score': array([0.66433566, 0.70629371, 0.67832168, 0.6993007 , 0.6993007 ]),\n",
       " 'split2_test_score': array([0.66197183, 0.67605634, 0.68309859, 0.67605634, 0.6971831 ]),\n",
       " 'split3_test_score': array([0.69014085, 0.70422535, 0.65492958, 0.69014085, 0.70422535]),\n",
       " 'split4_test_score': array([0.82394366, 0.76760563, 0.75352113, 0.77464789, 0.76056338]),\n",
       " 'mean_test_score': array([0.70514134, 0.71629075, 0.69942874, 0.7148823 , 0.71631045]),\n",
       " 'std_test_score': array([0.06043312, 0.03039126, 0.03575928, 0.03552471, 0.02355977]),\n",
       " 'rank_test_score': array([4, 2, 5, 3, 1])}"
      ]
     },
     "execution_count": 113,
     "metadata": {},
     "output_type": "execute_result"
    }
   ],
   "source": [
    "knn_kf_rgs.cv_results_"
   ]
  },
  {
   "cell_type": "code",
   "execution_count": 114,
   "metadata": {},
   "outputs": [
    {
     "data": {
      "text/plain": [
       "{'n_neighbors': 9}"
      ]
     },
     "execution_count": 114,
     "metadata": {},
     "output_type": "execute_result"
    }
   ],
   "source": [
    "knn_kf_rgs.best_params_"
   ]
  },
  {
   "cell_type": "code",
   "execution_count": 115,
   "metadata": {},
   "outputs": [
    {
     "data": {
      "text/plain": [
       "0.716310450113267"
      ]
     },
     "execution_count": 115,
     "metadata": {},
     "output_type": "execute_result"
    }
   ],
   "source": [
    "knn_kf_rgs.best_score_"
   ]
  },
  {
   "cell_type": "code",
   "execution_count": 117,
   "metadata": {},
   "outputs": [
    {
     "name": "stdout",
     "output_type": "stream",
     "text": [
      "Knn-Kfold-RGS-Validation: 0.6871508379888268\n"
     ]
    }
   ],
   "source": [
    "# 이 모델을 바탕으로 검증\n",
    "knn_kf_rgs_best = knn_kf_rgs.best_estimator_\n",
    "knn_kf_rgs_best_ypred = knn_kf_rgs_best.predict(X_test)\n",
    "knn_kf_rgs_acc = accuracy_score(y_test,knn_kf_rgs_best_ypred )\n",
    "print(\"Knn-Kfold-RGS-Validation:\", knn_kf_rgs_acc)"
   ]
  },
  {
   "cell_type": "code",
   "execution_count": null,
   "metadata": {},
   "outputs": [],
   "source": [
    "# 주변을 좀 더 디테일하게 탐색하자 : gridsearchCV"
   ]
  },
  {
   "cell_type": "code",
   "execution_count": 118,
   "metadata": {},
   "outputs": [
    {
     "name": "stdout",
     "output_type": "stream",
     "text": [
      "Fitting 5 folds for each of 3 candidates, totalling 15 fits\n"
     ]
    },
    {
     "data": {
      "text/plain": [
       "GridSearchCV(cv=KFold(n_splits=5, random_state=1234, shuffle=True),\n",
       "             estimator=KNeighborsClassifier(n_jobs=-1), n_jobs=-1,\n",
       "             param_grid={'n_neighbors': [7, 9, 11]}, scoring='accuracy',\n",
       "             verbose=2)"
      ]
     },
     "execution_count": 118,
     "metadata": {},
     "output_type": "execute_result"
    }
   ],
   "source": [
    "# 1) 디테일하게 직접 다 체크할 파라미터의 값들\n",
    "parameters = {\n",
    "    \"n_neighbors\" : [7,9,11]\n",
    "}\n",
    "\n",
    "# 2) 사용할 모델\n",
    "knn = KNeighborsClassifier(n_jobs=-1)\n",
    "\n",
    "# 3) GridSearchCV\n",
    "knn_kf_gs = GridSearchCV(\n",
    "    knn, param_grid=parameters, \n",
    "    cv= kfold, scoring=\"accuracy\",\n",
    "    n_jobs=-1, verbose=2\n",
    ")\n",
    "\n",
    "# 4) 실제 데이터 넣어서 수행\n",
    "knn_kf_gs.fit(X_train, y_train)"
   ]
  },
  {
   "cell_type": "code",
   "execution_count": 119,
   "metadata": {},
   "outputs": [
    {
     "data": {
      "text/plain": [
       "0.716310450113267"
      ]
     },
     "execution_count": 119,
     "metadata": {},
     "output_type": "execute_result"
    }
   ],
   "source": [
    "knn_kf_gs.best_score_"
   ]
  },
  {
   "cell_type": "code",
   "execution_count": 120,
   "metadata": {},
   "outputs": [
    {
     "data": {
      "text/plain": [
       "{'n_neighbors': 9}"
      ]
     },
     "execution_count": 120,
     "metadata": {},
     "output_type": "execute_result"
    }
   ],
   "source": [
    "knn_kf_gs.best_params_"
   ]
  },
  {
   "cell_type": "code",
   "execution_count": 121,
   "metadata": {},
   "outputs": [
    {
     "data": {
      "text/plain": [
       "{'mean_fit_time': array([0.00740147, 0.00840168, 0.00780063]),\n",
       " 'std_fit_time': array([0.00079543, 0.000801  , 0.00132778]),\n",
       " 'mean_score_time': array([0.07941632, 0.08301649, 0.0822145 ]),\n",
       " 'std_score_time': array([0.0108949 , 0.01092112, 0.00577803]),\n",
       " 'param_n_neighbors': masked_array(data=[7, 9, 11],\n",
       "              mask=[False, False, False],\n",
       "        fill_value='?',\n",
       "             dtype=object),\n",
       " 'params': [{'n_neighbors': 7}, {'n_neighbors': 9}, {'n_neighbors': 11}],\n",
       " 'split0_test_score': array([0.73426573, 0.72027972, 0.71328671]),\n",
       " 'split1_test_score': array([0.6993007 , 0.6993007 , 0.70629371]),\n",
       " 'split2_test_score': array([0.67605634, 0.6971831 , 0.70422535]),\n",
       " 'split3_test_score': array([0.69014085, 0.70422535, 0.70422535]),\n",
       " 'split4_test_score': array([0.77464789, 0.76056338, 0.74647887]),\n",
       " 'mean_test_score': array([0.7148823 , 0.71631045, 0.714902  ]),\n",
       " 'std_test_score': array([0.03552471, 0.02355977, 0.01613563]),\n",
       " 'rank_test_score': array([3, 1, 2])}"
      ]
     },
     "execution_count": 121,
     "metadata": {},
     "output_type": "execute_result"
    }
   ],
   "source": [
    "knn_kf_gs.cv_results_"
   ]
  },
  {
   "cell_type": "code",
   "execution_count": 122,
   "metadata": {},
   "outputs": [
    {
     "name": "stdout",
     "output_type": "stream",
     "text": [
      "KNN-KFold-GS_X_test 0.6871508379888268\n"
     ]
    }
   ],
   "source": [
    "# GS의 best 모델을 찾아서 평가\n",
    "knn_kf_gs_best = knn_kf_gs.best_estimator_\n",
    "knn_kf_gs_ypred = knn_kf_gs_best.predict(X_test)\n",
    "knn_kf_gs_acc = accuracy_score(y_test,knn_kf_gs_ypred )\n",
    "print(\"KNN-KFold-GS_X_test\", knn_kf_gs_acc)"
   ]
  },
  {
   "cell_type": "code",
   "execution_count": 123,
   "metadata": {},
   "outputs": [],
   "source": [
    "################ KNN & StratifiedKFold ###########\n",
    "# 1) base line Check\n",
    "# 2) RandomGridSearch -> X_test Check!!!\n",
    "# 3) GridSearch -> X_test check!!"
   ]
  },
  {
   "cell_type": "code",
   "execution_count": 124,
   "metadata": {},
   "outputs": [
    {
     "name": "stdout",
     "output_type": "stream",
     "text": [
      "knn 0번째 검증 정확도 : 0.6224\n",
      "knn 1번째 검증 정확도 : 0.7552\n",
      "knn 2번째 검증 정확도 : 0.7042\n",
      "knn 3번째 검증 정확도 : 0.7113\n",
      "knn 4번째 검증 정확도 : 0.7606\n",
      "KNN str_kfold 평균 정확도 : 0.7107357431301093\n"
     ]
    }
   ],
   "source": [
    "knn = KNeighborsClassifier(n_jobs=-1)\n",
    "scores = cross_val_score(knn, X_train, y_train ,\n",
    "                         cv=str_kfold, scoring=\"accuracy\")\n",
    "for iter_count, acc in enumerate(scores):\n",
    "    print(\"knn {0}번째 검증 정확도 : {1:.4f}\".format(iter_count,acc ))\n",
    "print(\"KNN str_kfold 평균 정확도 :\", scores.mean())"
   ]
  },
  {
   "cell_type": "code",
   "execution_count": 125,
   "metadata": {},
   "outputs": [],
   "source": [
    "# Check할 파라미터의 값들..\n",
    "parameters = {\n",
    "    \"n_neighbors\" : [1, 3, 5, 7, 9, 11,15]\n",
    "}"
   ]
  },
  {
   "cell_type": "code",
   "execution_count": 126,
   "metadata": {},
   "outputs": [
    {
     "name": "stderr",
     "output_type": "stream",
     "text": [
      "C:\\Users\\MEDICI\\Anaconda3\\lib\\site-packages\\sklearn\\model_selection\\_search.py:285: UserWarning: The total space of parameters 7 is smaller than n_iter=10. Running 7 iterations. For exhaustive searches, use GridSearchCV.\n",
      "  warnings.warn(\n"
     ]
    },
    {
     "name": "stdout",
     "output_type": "stream",
     "text": [
      "Fitting 5 folds for each of 7 candidates, totalling 35 fits\n"
     ]
    },
    {
     "data": {
      "text/plain": [
       "RandomizedSearchCV(cv=StratifiedKFold(n_splits=5, random_state=1234, shuffle=True),\n",
       "                   estimator=KNeighborsClassifier(n_jobs=-1), n_jobs=-1,\n",
       "                   param_distributions={'n_neighbors': [1, 3, 5, 7, 9, 11, 15]},\n",
       "                   random_state=1234, scoring='accuracy', verbose=2)"
      ]
     },
     "execution_count": 126,
     "metadata": {},
     "output_type": "execute_result"
    }
   ],
   "source": [
    "# 너무 파라미터의 조합이 너무 많아서 대략 어디로 가야할지 체크를 위해서\n",
    "# RandomGridSearchCV\n",
    "\n",
    "# 1) 사용할 모델\n",
    "knn = KNeighborsClassifier(n_jobs=-1)\n",
    "\n",
    "# 몇 번 반복하면서 할 것인지 : RandomGridSearchCV\n",
    "n_iter_search = 10\n",
    "\n",
    "# RGSCV 세팅!!!!\n",
    "knn_strkf_rgs = RandomizedSearchCV(\n",
    "    knn, param_distributions = parameters,\n",
    "    cv = str_kfold, scoring = \"accuracy\",\n",
    "    n_jobs = -1,\n",
    "    random_state=1234,\n",
    "    n_iter= n_iter_search,\n",
    "    verbose= 2\n",
    ")\n",
    "\n",
    "# 실제 데이터를 밀어서 수행...\n",
    "# ---> 실질적인 수행은 이 부분이기 때문에 시간이 여기서 오래 걸립니다...\n",
    "knn_strkf_rgs.fit(X_train, y_train)"
   ]
  },
  {
   "cell_type": "code",
   "execution_count": 127,
   "metadata": {},
   "outputs": [
    {
     "data": {
      "text/plain": [
       "0.7177189008174923"
      ]
     },
     "execution_count": 127,
     "metadata": {},
     "output_type": "execute_result"
    }
   ],
   "source": [
    "knn_strkf_rgs.best_score_"
   ]
  },
  {
   "cell_type": "code",
   "execution_count": 128,
   "metadata": {},
   "outputs": [
    {
     "data": {
      "text/plain": [
       "{'n_neighbors': 7}"
      ]
     },
     "execution_count": 128,
     "metadata": {},
     "output_type": "execute_result"
    }
   ],
   "source": [
    "knn_strkf_rgs.best_params_"
   ]
  },
  {
   "cell_type": "code",
   "execution_count": 129,
   "metadata": {},
   "outputs": [
    {
     "name": "stdout",
     "output_type": "stream",
     "text": [
      "KNN StrKfold RS X_test Score: 0.6759776536312849\n"
     ]
    }
   ],
   "source": [
    "knn_strkf_rgs_best = knn_strkf_rgs.best_estimator_\n",
    "knn_strkf_rgs_ypred = knn_strkf_rgs_best.predict(X_test)\n",
    "knn_strkf_rgs_acc = accuracy_score(knn_strkf_rgs_ypred, y_test)\n",
    "print(\"KNN StrKfold RS X_test Score:\", knn_strkf_rgs_acc)"
   ]
  },
  {
   "cell_type": "code",
   "execution_count": null,
   "metadata": {},
   "outputs": [],
   "source": [
    "# n = 7이 정말???"
   ]
  },
  {
   "cell_type": "code",
   "execution_count": 130,
   "metadata": {},
   "outputs": [
    {
     "name": "stdout",
     "output_type": "stream",
     "text": [
      "Fitting 5 folds for each of 3 candidates, totalling 15 fits\n"
     ]
    },
    {
     "data": {
      "text/plain": [
       "GridSearchCV(cv=StratifiedKFold(n_splits=5, random_state=1234, shuffle=True),\n",
       "             estimator=KNeighborsClassifier(n_jobs=-1), n_jobs=-1,\n",
       "             param_grid={'n_neighbors': [5, 7, 9]}, scoring='accuracy',\n",
       "             verbose=2)"
      ]
     },
     "execution_count": 130,
     "metadata": {},
     "output_type": "execute_result"
    }
   ],
   "source": [
    "# 1) 디테일하게 직접 다 체크할 파라미터의 값들...\n",
    "parameters = {\n",
    "    \"n_neighbors\" : [5,7,9]\n",
    "}\n",
    "\n",
    "# 2) 사용할 모델\n",
    "knn = KNeighborsClassifier(n_jobs=-1)\n",
    "\n",
    "# 3) GridSearchCV\n",
    "knn_strkf_gs = GridSearchCV(\n",
    "    knn, param_grid=parameters, \n",
    "    cv= str_kfold, scoring=\"accuracy\",\n",
    "    n_jobs=-1, verbose=2\n",
    ")\n",
    "\n",
    "# 4) 실제 데이터 넣어서 수행~\n",
    "knn_strkf_gs.fit(X_train, y_train)"
   ]
  },
  {
   "cell_type": "code",
   "execution_count": 131,
   "metadata": {},
   "outputs": [
    {
     "data": {
      "text/plain": [
       "{'n_neighbors': 7}"
      ]
     },
     "execution_count": 131,
     "metadata": {},
     "output_type": "execute_result"
    }
   ],
   "source": [
    "knn_strkf_gs.best_params_"
   ]
  },
  {
   "cell_type": "markdown",
   "metadata": {},
   "source": [
    "## Random Forest"
   ]
  },
  {
   "cell_type": "code",
   "execution_count": 133,
   "metadata": {},
   "outputs": [],
   "source": [
    "from sklearn.ensemble import RandomForestClassifier"
   ]
  },
  {
   "cell_type": "code",
   "execution_count": null,
   "metadata": {},
   "outputs": [],
   "source": [
    "# RF & K-Fold BaseLine Check"
   ]
  },
  {
   "cell_type": "code",
   "execution_count": 134,
   "metadata": {},
   "outputs": [
    {
     "name": "stdout",
     "output_type": "stream",
     "text": [
      "RF K-Fold 0번째 검증 정확도 : 0.8112\n",
      "RF K-Fold 1번째 검증 정확도 : 0.8462\n",
      "RF K-Fold 2번째 검증 정확도 : 0.7887\n",
      "RF K-Fold 3번째 검증 정확도 : 0.7606\n",
      "RF K-Fold 4번째 검증 정확도 : 0.8310\n",
      "KNN str_kfold 평균 정확도 : 0.8075248694967005\n"
     ]
    }
   ],
   "source": [
    "rf = RandomForestClassifier(n_jobs=-1, random_state=1234)\n",
    "scores = cross_val_score(rf, X_train, y_train ,\n",
    "                         cv=kfold, scoring=\"accuracy\")\n",
    "for iter_count, acc in enumerate(scores):\n",
    "    print(\"RF K-Fold {0}번째 검증 정확도 : {1:.4f}\".format(iter_count,acc ))\n",
    "print(\"KNN kfold 평균 정확도 :\", scores.mean())"
   ]
  },
  {
   "cell_type": "code",
   "execution_count": 135,
   "metadata": {},
   "outputs": [],
   "source": [
    "# Base Line 0.80보다 더 잘 나오게 하이퍼파리미터 튜닝 : RGS"
   ]
  },
  {
   "cell_type": "code",
   "execution_count": 138,
   "metadata": {},
   "outputs": [
    {
     "name": "stdout",
     "output_type": "stream",
     "text": [
      "Fitting 5 folds for each of 10 candidates, totalling 50 fits\n"
     ]
    },
    {
     "data": {
      "text/plain": [
       "RandomizedSearchCV(cv=KFold(n_splits=5, random_state=1234, shuffle=True),\n",
       "                   estimator=RandomForestClassifier(n_jobs=-1,\n",
       "                                                    random_state=1234),\n",
       "                   n_jobs=-1,\n",
       "                   param_distributions={'max_depth': [3, 5, 10, 30, 50],\n",
       "                                        'max_features': ['auto', 'log2'],\n",
       "                                        'min_samples_leaf': [1, 2, 3, 5, 10],\n",
       "                                        'min_samples_split': [2, 4, 6, 10, 30],\n",
       "                                        'n_estimators': [10, 50, 100, 500, 1000,\n",
       "                                                         3000]},\n",
       "                   random_state=1234, scoring='accuracy', verbose=2)"
      ]
     },
     "execution_count": 138,
     "metadata": {},
     "output_type": "execute_result"
    }
   ],
   "source": [
    "c = RandomForestClassifier(n_jobs=-1, random_state=1234)\n",
    "\n",
    "parameters ={\n",
    "    \"n_estimators\" : [10, 50, 100, 500, 1000, 3000],  #개수에 따라 시간 오래걸림\n",
    "    \"max_features\" :[\"auto\",\"log2\"],\n",
    "    \"max_depth\" : [3, 5, 10, 30, 50],\n",
    "    \"min_samples_split\" : [ 2, 4, 6, 10, 30],\n",
    "    \"min_samples_leaf\" : [1,2,3,5, 10]\n",
    "}\n",
    "\n",
    "n_iter_search = 10\n",
    "\n",
    "rf_kf_rgs = RandomizedSearchCV(\n",
    "    rf, param_distributions = parameters,\n",
    "    cv = kfold, scoring=\"accuracy\",\n",
    "    n_jobs = -1, random_state=1234,\n",
    "    n_iter= n_iter_search, verbose=2\n",
    ")\n",
    "\n",
    "rf_kf_rgs.fit(X_train, y_train)"
   ]
  },
  {
   "cell_type": "code",
   "execution_count": 139,
   "metadata": {},
   "outputs": [
    {
     "data": {
      "text/plain": [
       "0.8299911356249385"
      ]
     },
     "execution_count": 139,
     "metadata": {},
     "output_type": "execute_result"
    }
   ],
   "source": [
    "rf_kf_rgs.best_score_"
   ]
  },
  {
   "cell_type": "code",
   "execution_count": 140,
   "metadata": {},
   "outputs": [
    {
     "data": {
      "text/plain": [
       "{'n_estimators': 500,\n",
       " 'min_samples_split': 30,\n",
       " 'min_samples_leaf': 1,\n",
       " 'max_features': 'log2',\n",
       " 'max_depth': 30}"
      ]
     },
     "execution_count": 140,
     "metadata": {},
     "output_type": "execute_result"
    }
   ],
   "source": [
    "rf_kf_rgs.best_params_"
   ]
  },
  {
   "cell_type": "code",
   "execution_count": 142,
   "metadata": {},
   "outputs": [
    {
     "name": "stdout",
     "output_type": "stream",
     "text": [
      "RF-KF-RGS Acc: 0.8324022346368715\n"
     ]
    }
   ],
   "source": [
    "rf_kf_rgs_best = rf_kf_rgs.best_estimator_\n",
    "rf_kf_rgs_best_ypred = rf_kf_rgs_best.predict(X_test)\n",
    "rf_kf_rgs_best_acc = accuracy_score(y_test,rf_kf_rgs_best_ypred )\n",
    "print(\"RF-KF-RGS Acc:\",rf_kf_rgs_best_acc)"
   ]
  },
  {
   "cell_type": "code",
   "execution_count": 143,
   "metadata": {},
   "outputs": [
    {
     "data": {
      "text/plain": [
       "179"
      ]
     },
     "execution_count": 143,
     "metadata": {},
     "output_type": "execute_result"
    }
   ],
   "source": [
    "len(X_test)"
   ]
  },
  {
   "cell_type": "code",
   "execution_count": 144,
   "metadata": {},
   "outputs": [
    {
     "data": {
      "text/plain": [
       "{'n_estimators': 500,\n",
       " 'min_samples_split': 30,\n",
       " 'min_samples_leaf': 1,\n",
       " 'max_features': 'log2',\n",
       " 'max_depth': 30}"
      ]
     },
     "execution_count": 144,
     "metadata": {},
     "output_type": "execute_result"
    }
   ],
   "source": [
    "# RF -> GS 좀더 디테일하게 찾아보자\n",
    "rf_kf_rgs.best_params_"
   ]
  },
  {
   "cell_type": "code",
   "execution_count": 147,
   "metadata": {},
   "outputs": [
    {
     "name": "stdout",
     "output_type": "stream",
     "text": [
      "Fitting 5 folds for each of 288 candidates, totalling 1440 fits\n"
     ]
    },
    {
     "data": {
      "text/plain": [
       "GridSearchCV(cv=KFold(n_splits=5, random_state=1234, shuffle=True),\n",
       "             estimator=RandomForestClassifier(n_jobs=-1, random_state=1234),\n",
       "             n_jobs=-1,\n",
       "             param_grid={'max_depth': [30, 29, 31, 35],\n",
       "                         'max_features': ['auto', 'log2'],\n",
       "                         'min_samples_leaf': [1, 2, 3, 5],\n",
       "                         'min_samples_split': [28, 30, 32],\n",
       "                         'n_estimators': [500, 300, 700]},\n",
       "             scoring='accuracy', verbose=2)"
      ]
     },
     "execution_count": 147,
     "metadata": {},
     "output_type": "execute_result"
    }
   ],
   "source": [
    "rf = RandomForestClassifier(n_jobs=-1, random_state=1234)\n",
    "\n",
    "parameters ={\n",
    "    \"n_estimators\" : [500,  300, 700],\n",
    "    \"max_features\" :[\"auto\",\"log2\"],\n",
    "    \"max_depth\" : [30,29,31, 35],\n",
    "    \"min_samples_split\" : [ 28,30,32],\n",
    "    \"min_samples_leaf\" : [1,2,3,5]\n",
    "}\n",
    "\n",
    "rf_kf_gs = GridSearchCV(\n",
    "    rf, param_grid = parameters,\n",
    "    cv = kfold, scoring=\"accuracy\",\n",
    "    n_jobs = -1, verbose=2\n",
    ")\n",
    "\n",
    "rf_kf_gs.fit(X_train, y_train)"
   ]
  },
  {
   "cell_type": "code",
   "execution_count": 149,
   "metadata": {},
   "outputs": [
    {
     "data": {
      "text/plain": [
       "0.8370530877573131"
      ]
     },
     "execution_count": 149,
     "metadata": {},
     "output_type": "execute_result"
    }
   ],
   "source": [
    "rf_kf_gs.best_score_"
   ]
  },
  {
   "cell_type": "code",
   "execution_count": 150,
   "metadata": {},
   "outputs": [
    {
     "data": {
      "text/plain": [
       "{'max_depth': 30,\n",
       " 'max_features': 'log2',\n",
       " 'min_samples_leaf': 5,\n",
       " 'min_samples_split': 28,\n",
       " 'n_estimators': 300}"
      ]
     },
     "execution_count": 150,
     "metadata": {},
     "output_type": "execute_result"
    }
   ],
   "source": [
    "rf_kf_gs.best_params_"
   ]
  },
  {
   "cell_type": "code",
   "execution_count": 151,
   "metadata": {},
   "outputs": [
    {
     "name": "stdout",
     "output_type": "stream",
     "text": [
      "RF kFold Acc :  0.8156424581005587\n"
     ]
    }
   ],
   "source": [
    "rf_kf_gs_best = rf_kf_gs.best_estimator_\n",
    "rf_kf_gs_best_ypred = rf_kf_gs_best.predict(X_test)\n",
    "rf_kf_gs_best_acc = accuracy_score(y_test, rf_kf_gs_best_ypred)\n",
    "print(\"RF kFold Acc : \", rf_kf_gs_best_acc)"
   ]
  },
  {
   "cell_type": "markdown",
   "metadata": {},
   "source": [
    "### 만든 모델에 대한 저장과 불러오기"
   ]
  },
  {
   "cell_type": "code",
   "execution_count": 148,
   "metadata": {},
   "outputs": [],
   "source": [
    "import joblib "
   ]
  },
  {
   "cell_type": "code",
   "execution_count": 152,
   "metadata": {},
   "outputs": [
    {
     "data": {
      "text/plain": [
       "['rf_model_kf_bnest.pkl']"
      ]
     },
     "execution_count": 152,
     "metadata": {},
     "output_type": "execute_result"
    }
   ],
   "source": [
    "# 모델을 저장\n",
    "# 파이썬에서는 pickle 타입으로 저장을 한다\n",
    "# joblib.dump( 저장하려고 하는 모델, \"~~.pkl\")\n",
    "joblib.dump(rf_kf_gs_best, \"rf_model_kf_bnest.pkl\")"
   ]
  },
  {
   "cell_type": "code",
   "execution_count": 155,
   "metadata": {},
   "outputs": [],
   "source": [
    "# 모델을 불러오기\n",
    "model_path = \"C:/Users/MEDICI/Documents/MEDICI (22-01-19 ~ 22-06-24)/GitHub/rf_model_kf_bnest.pkl\"\n",
    "rf_kf_back_model = joblib.load(model_path)"
   ]
  },
  {
   "cell_type": "code",
   "execution_count": 156,
   "metadata": {},
   "outputs": [
    {
     "data": {
      "text/plain": [
       "RandomForestClassifier(max_depth=30, max_features='log2', min_samples_leaf=5,\n",
       "                       min_samples_split=28, n_estimators=300, n_jobs=-1,\n",
       "                       random_state=1234)"
      ]
     },
     "execution_count": 156,
     "metadata": {},
     "output_type": "execute_result"
    }
   ],
   "source": [
    "rf_kf_back_model"
   ]
  },
  {
   "cell_type": "code",
   "execution_count": 157,
   "metadata": {},
   "outputs": [
    {
     "data": {
      "text/plain": [
       "array([ True,  True,  True,  True,  True,  True,  True,  True,  True,\n",
       "        True,  True,  True,  True,  True,  True,  True,  True,  True,\n",
       "        True,  True,  True,  True,  True,  True,  True,  True,  True,\n",
       "        True,  True,  True,  True,  True,  True,  True,  True,  True,\n",
       "        True,  True,  True,  True,  True,  True,  True,  True,  True,\n",
       "        True,  True,  True,  True,  True,  True,  True,  True,  True,\n",
       "        True,  True,  True,  True,  True,  True,  True,  True,  True,\n",
       "        True,  True,  True,  True,  True,  True,  True,  True,  True,\n",
       "        True,  True,  True,  True,  True,  True,  True,  True,  True,\n",
       "        True,  True,  True,  True,  True,  True,  True,  True,  True,\n",
       "        True,  True,  True,  True,  True,  True,  True,  True,  True,\n",
       "        True,  True,  True,  True,  True,  True,  True,  True,  True,\n",
       "        True,  True,  True,  True,  True,  True,  True,  True,  True,\n",
       "        True,  True,  True,  True,  True,  True,  True,  True,  True,\n",
       "        True,  True,  True,  True,  True,  True,  True,  True,  True,\n",
       "        True,  True,  True,  True,  True,  True,  True,  True,  True,\n",
       "        True,  True,  True,  True,  True,  True,  True,  True,  True,\n",
       "        True,  True,  True,  True,  True,  True,  True,  True,  True,\n",
       "        True,  True,  True,  True,  True,  True,  True,  True,  True,\n",
       "        True,  True,  True,  True,  True,  True,  True,  True])"
      ]
     },
     "execution_count": 157,
     "metadata": {},
     "output_type": "execute_result"
    }
   ],
   "source": [
    "rf_kf_back_model.predict(X_test) == rf_kf_gs_best.predict(X_test)"
   ]
  },
  {
   "cell_type": "code",
   "execution_count": null,
   "metadata": {},
   "outputs": [],
   "source": [
    "# RF에 대해서 k-fold, str_kfold, repeatedkfold, repeatedstrkfold\n",
    "# -> 각각 최적화를 해서 best모델 4개를 만들어 보세요\n",
    "# 모델에 대한 성능(best_score_, X_test), 파라미터"
   ]
  },
  {
   "cell_type": "markdown",
   "metadata": {},
   "source": [
    "#### str_kfold"
   ]
  },
  {
   "cell_type": "code",
   "execution_count": 160,
   "metadata": {},
   "outputs": [
    {
     "name": "stdout",
     "output_type": "stream",
     "text": [
      "RF str_K-Fold 0번째 검증 정확도 : 0.7902\n",
      "RF str_K-Fold 1번째 검증 정확도 : 0.7902\n",
      "RF str_K-Fold 2번째 검증 정확도 : 0.8310\n",
      "RF str_K-Fold 3번째 검증 정확도 : 0.8028\n",
      "RF str_K-Fold 4번째 검증 정확도 : 0.8662\n",
      "KNN str_kfold 평균 정확도 : 0.816083916083916\n"
     ]
    }
   ],
   "source": [
    "rf = RandomForestClassifier(n_jobs=-1, random_state=1234)\n",
    "scores = cross_val_score(rf, X_train, y_train ,\n",
    "                         cv=str_kfold, scoring=\"accuracy\")\n",
    "for iter_count, acc in enumerate(scores):\n",
    "    print(\"RF str_K-Fold {0}번째 검증 정확도 : {1:.4f}\".format(iter_count,acc ))\n",
    "print(\"KNN str_kfold 평균 정확도 :\", scores.mean())"
   ]
  },
  {
   "cell_type": "code",
   "execution_count": 168,
   "metadata": {},
   "outputs": [
    {
     "name": "stdout",
     "output_type": "stream",
     "text": [
      "Fitting 5 folds for each of 10 candidates, totalling 50 fits\n"
     ]
    },
    {
     "name": "stderr",
     "output_type": "stream",
     "text": [
      "C:\\Users\\MEDICI\\Anaconda3\\lib\\site-packages\\sklearn\\model_selection\\_search.py:922: UserWarning: One or more of the test scores are non-finite: [0.81045011 0.81323747        nan 0.81045011 0.81184871 0.81045996\n",
      " 0.81045011        nan 0.81467547 0.82447552]\n",
      "  warnings.warn(\n"
     ]
    },
    {
     "data": {
      "text/plain": [
       "RandomizedSearchCV(cv=StratifiedKFold(n_splits=5, random_state=1234, shuffle=True),\n",
       "                   estimator=RandomForestClassifier(n_jobs=-1,\n",
       "                                                    random_state=1234),\n",
       "                   n_jobs=-1,\n",
       "                   param_distributions={'max_depth': [48, 50, 52],\n",
       "                                        'max_features': ['auto', 'log2'],\n",
       "                                        'min_samples_leaf': [1, 2, 3, 5],\n",
       "                                        'min_samples_split': [1, 2, 3, 4, 5, 6],\n",
       "                                        'n_estimators': [800, 1000, 1500,\n",
       "                                                         2000]},\n",
       "                   random_state=1234, scoring='accuracy', verbose=2)"
      ]
     },
     "execution_count": 168,
     "metadata": {},
     "output_type": "execute_result"
    }
   ],
   "source": [
    "c = RandomForestClassifier(n_jobs=-1, random_state=1234)\n",
    "\n",
    "parameters ={\n",
    "    \"n_estimators\" : [800,1000, 1500,2000],\n",
    "    \"max_features\" :[\"auto\",\"log2\"],\n",
    "    \"max_depth\" : [48, 50, 52],\n",
    "    \"min_samples_split\" : [1,2,3, 4,5, 6],\n",
    "    \"min_samples_leaf\" : [1,2,3,5]\n",
    "}\n",
    "\n",
    "n_iter_search = 10\n",
    "\n",
    "rf_str_kf_rgs = RandomizedSearchCV(\n",
    "    rf, param_distributions = parameters,\n",
    "    cv = str_kfold, scoring=\"accuracy\",\n",
    "    n_jobs = -1, random_state=1234,\n",
    "    n_iter= n_iter_search, verbose=2\n",
    ")\n",
    "\n",
    "rf_str_kf_rgs.fit(X_train, y_train)"
   ]
  },
  {
   "cell_type": "code",
   "execution_count": 167,
   "metadata": {},
   "outputs": [
    {
     "data": {
      "text/plain": [
       "{'n_estimators': 1000,\n",
       " 'min_samples_split': 3,\n",
       " 'min_samples_leaf': 1,\n",
       " 'max_features': 'log2',\n",
       " 'max_depth': 50}"
      ]
     },
     "execution_count": 167,
     "metadata": {},
     "output_type": "execute_result"
    }
   ],
   "source": [
    "rf_str_kf_rgs.best_params_"
   ]
  },
  {
   "cell_type": "code",
   "execution_count": 172,
   "metadata": {},
   "outputs": [
    {
     "data": {
      "text/plain": [
       "0.8244755244755245"
      ]
     },
     "execution_count": 172,
     "metadata": {},
     "output_type": "execute_result"
    }
   ],
   "source": [
    "rf_str_kf_rgs.best_score_"
   ]
  },
  {
   "cell_type": "code",
   "execution_count": 175,
   "metadata": {},
   "outputs": [
    {
     "name": "stdout",
     "output_type": "stream",
     "text": [
      "RF str_kFold Acc :  0.8100558659217877\n"
     ]
    }
   ],
   "source": [
    "rf_str_kf_rgs_best = rf_str_kf_rgs.best_estimator_\n",
    "rf_str_kf_rgs_best_ypred = rf_str_kf_rgs_best.predict(X_test)\n",
    "rf_str_kf_rgs_best_acc = accuracy_score(y_test, rf_str_kf_rgs_best_ypred)\n",
    "print(\"RF str_kFold Acc : \", rf_str_kf_rgs_best_acc)"
   ]
  },
  {
   "cell_type": "markdown",
   "metadata": {},
   "source": [
    "#### repeated kfold"
   ]
  },
  {
   "cell_type": "code",
   "execution_count": 176,
   "metadata": {},
   "outputs": [
    {
     "name": "stdout",
     "output_type": "stream",
     "text": [
      "RF Repeated K-Fold 0번째 검증 정확도 : 0.8112\n",
      "RF Repeated K-Fold 1번째 검증 정확도 : 0.8462\n",
      "RF Repeated K-Fold 2번째 검증 정확도 : 0.7887\n",
      "RF Repeated K-Fold 3번째 검증 정확도 : 0.7606\n",
      "RF Repeated K-Fold 4번째 검증 정확도 : 0.8310\n",
      "RF Repeated K-Fold 5번째 검증 정확도 : 0.7972\n",
      "RF Repeated K-Fold 6번째 검증 정확도 : 0.7902\n",
      "RF Repeated K-Fold 7번째 검증 정확도 : 0.8099\n",
      "RF Repeated K-Fold 8번째 검증 정확도 : 0.8380\n",
      "RF Repeated K-Fold 9번째 검증 정확도 : 0.7746\n",
      "RF Repeated K-Fold 10번째 검증 정확도 : 0.8042\n",
      "RF Repeated K-Fold 11번째 검증 정확도 : 0.8322\n",
      "RF Repeated K-Fold 12번째 검증 정확도 : 0.7817\n",
      "RF Repeated K-Fold 13번째 검증 정확도 : 0.7606\n",
      "RF Repeated K-Fold 14번째 검증 정확도 : 0.8239\n",
      "RF Repeated K-Fold 15번째 검증 정확도 : 0.8112\n",
      "RF Repeated K-Fold 16번째 검증 정확도 : 0.7902\n",
      "RF Repeated K-Fold 17번째 검증 정확도 : 0.8451\n",
      "RF Repeated K-Fold 18번째 검증 정확도 : 0.7817\n",
      "RF Repeated K-Fold 19번째 검증 정확도 : 0.8239\n",
      "RF Repeated K-Fold 20번째 검증 정확도 : 0.8042\n",
      "RF Repeated K-Fold 21번째 검증 정확도 : 0.8112\n",
      "RF Repeated K-Fold 22번째 검증 정확도 : 0.8380\n",
      "RF Repeated K-Fold 23번째 검증 정확도 : 0.7958\n",
      "RF Repeated K-Fold 24번째 검증 정확도 : 0.7606\n",
      "RF Repeated K-Fold 25번째 검증 정확도 : 0.7483\n",
      "RF Repeated K-Fold 26번째 검증 정확도 : 0.8322\n",
      "RF Repeated K-Fold 27번째 검증 정확도 : 0.8169\n",
      "RF Repeated K-Fold 28번째 검증 정확도 : 0.8099\n",
      "RF Repeated K-Fold 29번째 검증 정확도 : 0.7887\n",
      "RF Repeated K-Fold 30번째 검증 정확도 : 0.8112\n",
      "RF Repeated K-Fold 31번째 검증 정확도 : 0.8042\n",
      "RF Repeated K-Fold 32번째 검증 정확도 : 0.8239\n",
      "RF Repeated K-Fold 33번째 검증 정확도 : 0.8099\n",
      "RF Repeated K-Fold 34번째 검증 정확도 : 0.7676\n",
      "RF Repeated K-Fold 35번째 검증 정확도 : 0.8182\n",
      "RF Repeated K-Fold 36번째 검증 정확도 : 0.7902\n",
      "RF Repeated K-Fold 37번째 검증 정확도 : 0.7394\n",
      "RF Repeated K-Fold 38번째 검증 정확도 : 0.7887\n",
      "RF Repeated K-Fold 39번째 검증 정확도 : 0.8239\n",
      "RF Repeated K-Fold 40번째 검증 정확도 : 0.7972\n",
      "RF Repeated K-Fold 41번째 검증 정확도 : 0.7972\n",
      "RF Repeated K-Fold 42번째 검증 정확도 : 0.8380\n",
      "RF Repeated K-Fold 43번째 검증 정확도 : 0.8099\n",
      "RF Repeated K-Fold 44번째 검증 정확도 : 0.8099\n",
      "RF Repeated K-Fold 45번째 검증 정확도 : 0.7483\n",
      "RF Repeated K-Fold 46번째 검증 정확도 : 0.8322\n",
      "RF Repeated K-Fold 47번째 검증 정확도 : 0.8451\n",
      "RF Repeated K-Fold 48번째 검증 정확도 : 0.8310\n",
      "RF Repeated K-Fold 49번째 검증 정확도 : 0.7606\n",
      "KNN Repeated kfold 평균 정확도 : 0.8030877573131094\n"
     ]
    }
   ],
   "source": [
    "rf = RandomForestClassifier(n_jobs=-1, random_state=1234)\n",
    "scores = cross_val_score(rf, X_train, y_train ,\n",
    "                         cv=rkfold, scoring=\"accuracy\")\n",
    "for iter_count, acc in enumerate(scores):\n",
    "    print(\"RF Repeated K-Fold {0}번째 검증 정확도 : {1:.4f}\".format(iter_count,acc ))\n",
    "print(\"KNN Repeated kfold 평균 정확도 :\", scores.mean())"
   ]
  },
  {
   "cell_type": "code",
   "execution_count": 181,
   "metadata": {},
   "outputs": [
    {
     "name": "stdout",
     "output_type": "stream",
     "text": [
      "Fitting 50 folds for each of 10 candidates, totalling 500 fits\n"
     ]
    },
    {
     "name": "stderr",
     "output_type": "stream",
     "text": [
      "C:\\Users\\MEDICI\\Anaconda3\\lib\\site-packages\\sklearn\\model_selection\\_search.py:922: UserWarning: One or more of the test scores are non-finite: [0.81798286 0.81600315        nan 0.78005614        nan 0.81502709\n",
      " 0.80323451 0.81966118 0.80534325 0.80407761]\n",
      "  warnings.warn(\n"
     ]
    },
    {
     "data": {
      "text/plain": [
       "RandomizedSearchCV(cv=RepeatedKFold(n_repeats=10, n_splits=5, random_state=1234),\n",
       "                   estimator=RandomForestClassifier(n_jobs=-1,\n",
       "                                                    random_state=1234),\n",
       "                   n_jobs=-1,\n",
       "                   param_distributions={'max_depth': [1, 3, 5, 10, 15],\n",
       "                                        'max_features': ['auto', 'log2'],\n",
       "                                        'min_samples_leaf': [1, 2, 3, 4, 5],\n",
       "                                        'min_samples_split': [1, 2, 3, 4],\n",
       "                                        'n_estimators': [3000, 5000, 8000]},\n",
       "                   random_state=1234, scoring='accuracy', verbose=2)"
      ]
     },
     "execution_count": 181,
     "metadata": {},
     "output_type": "execute_result"
    }
   ],
   "source": [
    "c = RandomForestClassifier(n_jobs=-1, random_state=1234)\n",
    "\n",
    "parameters ={\n",
    "    \"n_estimators\" : [3000, 5000, 8000],\n",
    "    \"max_features\" :[\"auto\",\"log2\"],\n",
    "    \"max_depth\" : [ 1,3,5, 10, 15],\n",
    "    \"min_samples_split\" : [ 1, 2, 3,4],\n",
    "    \"min_samples_leaf\" : [1,2,3,4,5]\n",
    "}\n",
    "\n",
    "n_iter_search = 10\n",
    "\n",
    "rf_rkf_rgs = RandomizedSearchCV(\n",
    "    rf, param_distributions = parameters,\n",
    "    cv = rkfold, scoring=\"accuracy\",\n",
    "    n_jobs = -1, random_state=1234,\n",
    "    n_iter= n_iter_search, verbose=2\n",
    ")\n",
    "\n",
    "rf_rkf_rgs.fit(X_train, y_train)"
   ]
  },
  {
   "cell_type": "code",
   "execution_count": 180,
   "metadata": {},
   "outputs": [
    {
     "data": {
      "text/plain": [
       "{'n_estimators': 5000,\n",
       " 'min_samples_split': 2,\n",
       " 'min_samples_leaf': 3,\n",
       " 'max_features': 'auto',\n",
       " 'max_depth': 5}"
      ]
     },
     "execution_count": 180,
     "metadata": {},
     "output_type": "execute_result"
    }
   ],
   "source": [
    "rf_rkf_rgs.best_params_"
   ]
  },
  {
   "cell_type": "code",
   "execution_count": 182,
   "metadata": {},
   "outputs": [
    {
     "data": {
      "text/plain": [
       "0.819661183886536"
      ]
     },
     "execution_count": 182,
     "metadata": {},
     "output_type": "execute_result"
    }
   ],
   "source": [
    "rf_rkf_rgs.best_score_"
   ]
  },
  {
   "cell_type": "code",
   "execution_count": 183,
   "metadata": {},
   "outputs": [
    {
     "name": "stdout",
     "output_type": "stream",
     "text": [
      "RF Repeated kFold Acc :  0.8379888268156425\n"
     ]
    }
   ],
   "source": [
    "rf_rkf_rgs_best = rf_rkf_rgs.best_estimator_\n",
    "rf_rkf_rgs_best_ypred = rf_rkf_rgs_best.predict(X_test)\n",
    "rf_rkf_rgs_best_acc = accuracy_score(y_test, rf_rkf_rgs_best_ypred)\n",
    "print(\"RF Repeated kFold Acc : \", rf_rkf_rgs_best_acc)"
   ]
  },
  {
   "cell_type": "markdown",
   "metadata": {},
   "source": [
    "#### repeated str kfold"
   ]
  },
  {
   "cell_type": "code",
   "execution_count": 184,
   "metadata": {},
   "outputs": [
    {
     "name": "stdout",
     "output_type": "stream",
     "text": [
      "RF RepeatedstrK-Fold 0번째 검증 정확도 : 0.7902\n",
      "RF RepeatedstrK-Fold 1번째 검증 정확도 : 0.7902\n",
      "RF RepeatedstrK-Fold 2번째 검증 정확도 : 0.8310\n",
      "RF RepeatedstrK-Fold 3번째 검증 정확도 : 0.8028\n",
      "RF RepeatedstrK-Fold 4번째 검증 정확도 : 0.8662\n",
      "RF RepeatedstrK-Fold 5번째 검증 정확도 : 0.8042\n",
      "RF RepeatedstrK-Fold 6번째 검증 정확도 : 0.8112\n",
      "RF RepeatedstrK-Fold 7번째 검증 정확도 : 0.8099\n",
      "RF RepeatedstrK-Fold 8번째 검증 정확도 : 0.8239\n",
      "RF RepeatedstrK-Fold 9번째 검증 정확도 : 0.8169\n",
      "RF RepeatedstrK-Fold 10번째 검증 정확도 : 0.8182\n",
      "RF RepeatedstrK-Fold 11번째 검증 정확도 : 0.8322\n",
      "RF RepeatedstrK-Fold 12번째 검증 정확도 : 0.8310\n",
      "RF RepeatedstrK-Fold 13번째 검증 정확도 : 0.8028\n",
      "RF RepeatedstrK-Fold 14번째 검증 정확도 : 0.8380\n",
      "RF RepeatedstrK-Fold 15번째 검증 정확도 : 0.7902\n",
      "RF RepeatedstrK-Fold 16번째 검증 정확도 : 0.7902\n",
      "RF RepeatedstrK-Fold 17번째 검증 정확도 : 0.8662\n",
      "RF RepeatedstrK-Fold 18번째 검증 정확도 : 0.7958\n",
      "RF RepeatedstrK-Fold 19번째 검증 정확도 : 0.8239\n",
      "RF RepeatedstrK-Fold 20번째 검증 정확도 : 0.7902\n",
      "RF RepeatedstrK-Fold 21번째 검증 정확도 : 0.8322\n",
      "RF RepeatedstrK-Fold 22번째 검증 정확도 : 0.8169\n",
      "RF RepeatedstrK-Fold 23번째 검증 정확도 : 0.8732\n",
      "RF RepeatedstrK-Fold 24번째 검증 정확도 : 0.7958\n",
      "RF RepeatedstrK-Fold 25번째 검증 정확도 : 0.7972\n",
      "RF RepeatedstrK-Fold 26번째 검증 정확도 : 0.8042\n",
      "RF RepeatedstrK-Fold 27번째 검증 정확도 : 0.8028\n",
      "RF RepeatedstrK-Fold 28번째 검증 정확도 : 0.8451\n",
      "RF RepeatedstrK-Fold 29번째 검증 정확도 : 0.8592\n",
      "RF RepeatedstrK-Fold 30번째 검증 정확도 : 0.8112\n",
      "RF RepeatedstrK-Fold 31번째 검증 정확도 : 0.8252\n",
      "RF RepeatedstrK-Fold 32번째 검증 정확도 : 0.8592\n",
      "RF RepeatedstrK-Fold 33번째 검증 정확도 : 0.7746\n",
      "RF RepeatedstrK-Fold 34번째 검증 정확도 : 0.7817\n",
      "RF RepeatedstrK-Fold 35번째 검증 정확도 : 0.8531\n",
      "RF RepeatedstrK-Fold 36번째 검증 정확도 : 0.8112\n",
      "RF RepeatedstrK-Fold 37번째 검증 정확도 : 0.8310\n",
      "RF RepeatedstrK-Fold 38번째 검증 정확도 : 0.7746\n",
      "RF RepeatedstrK-Fold 39번째 검증 정확도 : 0.7817\n",
      "RF RepeatedstrK-Fold 40번째 검증 정확도 : 0.7692\n",
      "RF RepeatedstrK-Fold 41번째 검증 정확도 : 0.8112\n",
      "RF RepeatedstrK-Fold 42번째 검증 정확도 : 0.7817\n",
      "RF RepeatedstrK-Fold 43번째 검증 정확도 : 0.8592\n",
      "RF RepeatedstrK-Fold 44번째 검증 정확도 : 0.7746\n",
      "RF RepeatedstrK-Fold 45번째 검증 정확도 : 0.8392\n",
      "RF RepeatedstrK-Fold 46번째 검증 정확도 : 0.7762\n",
      "RF RepeatedstrK-Fold 47번째 검증 정확도 : 0.7606\n",
      "RF RepeatedstrK-Fold 48번째 검증 정확도 : 0.7887\n",
      "RF RepeatedstrK-Fold 49번째 검증 정확도 : 0.8028\n",
      "KNN Repeatedstrkfold 평균 정확도 : 0.8123736826553727\n"
     ]
    }
   ],
   "source": [
    "rf = RandomForestClassifier(n_jobs=-1, random_state=1234)\n",
    "scores = cross_val_score(rf, X_train, y_train ,\n",
    "                         cv=rskfold, scoring=\"accuracy\")\n",
    "for iter_count, acc in enumerate(scores):\n",
    "    print(\"RF RepeatedstrK-Fold {0}번째 검증 정확도 : {1:.4f}\".format(iter_count,acc ))\n",
    "print(\"KNN Repeatedstrkfold 평균 정확도 :\", scores.mean())"
   ]
  },
  {
   "cell_type": "code",
   "execution_count": 185,
   "metadata": {},
   "outputs": [
    {
     "name": "stdout",
     "output_type": "stream",
     "text": [
      "Fitting 50 folds for each of 10 candidates, totalling 500 fits\n"
     ]
    },
    {
     "data": {
      "text/plain": [
       "RandomizedSearchCV(cv=RepeatedStratifiedKFold(n_repeats=10, n_splits=5, random_state=1234),\n",
       "                   estimator=RandomForestClassifier(n_jobs=-1,\n",
       "                                                    random_state=1234),\n",
       "                   n_jobs=-1,\n",
       "                   param_distributions={'max_depth': [3, 5, 10, 30, 50],\n",
       "                                        'max_features': ['auto', 'log2'],\n",
       "                                        'min_samples_leaf': [1, 2, 3, 5, 10],\n",
       "                                        'min_samples_split': [2, 4, 6, 10, 30],\n",
       "                                        'n_estimators': [10, 50, 100, 500, 1000,\n",
       "                                                         3000]},\n",
       "                   random_state=1234, scoring='accuracy', verbose=2)"
      ]
     },
     "execution_count": 185,
     "metadata": {},
     "output_type": "execute_result"
    }
   ],
   "source": [
    "c = RandomForestClassifier(n_jobs=-1, random_state=1234)\n",
    "\n",
    "parameters ={\n",
    "    \"n_estimators\" : [10, 50, 100, 500, 1000, 3000],\n",
    "    \"max_features\" :[\"auto\",\"log2\"],\n",
    "    \"max_depth\" : [3, 5, 10, 30, 50],\n",
    "    \"min_samples_split\" : [ 2, 4, 6, 10, 30],\n",
    "    \"min_samples_leaf\" : [1,2,3,5, 10]\n",
    "}\n",
    "\n",
    "n_iter_search = 10\n",
    "\n",
    "rf_rskf_rgs = RandomizedSearchCV(\n",
    "    rf, param_distributions = parameters,\n",
    "    cv = rskfold, scoring=\"accuracy\",\n",
    "    n_jobs = -1, random_state=1234,\n",
    "    n_iter= n_iter_search, verbose=2\n",
    ")\n",
    "\n",
    "rf_rskf_rgs.fit(X_train, y_train)"
   ]
  },
  {
   "cell_type": "code",
   "execution_count": null,
   "metadata": {},
   "outputs": [],
   "source": [
    "rf_rskf_rgs.best_params_"
   ]
  },
  {
   "cell_type": "code",
   "execution_count": null,
   "metadata": {},
   "outputs": [],
   "source": [
    "rf_rskf_rgs.best_score_"
   ]
  },
  {
   "cell_type": "code",
   "execution_count": null,
   "metadata": {},
   "outputs": [],
   "source": [
    "rf_rskf_rgs_best = rf_rskf_rgs.best_estimator_\n",
    "rf_rskf_rgs_best_ypred = rf_rskf_rgs_best.predict(X_test)\n",
    "rf_rskf_rgs_best_acc = accuracy_score(y_test, rf_rskf_rgs_best_ypred)\n",
    "print(\"RF RepeatedstrkFold Acc : \", rf_rskf_rgs_best_acc)"
   ]
  },
  {
   "cell_type": "markdown",
   "metadata": {},
   "source": [
    "### Xgboost"
   ]
  },
  {
   "cell_type": "code",
   "execution_count": 186,
   "metadata": {},
   "outputs": [],
   "source": [
    "from xgboost import XGBClassifier"
   ]
  },
  {
   "cell_type": "code",
   "execution_count": 187,
   "metadata": {},
   "outputs": [],
   "source": [
    "xgbc = XGBClassifier( n_jobs = -1, random_state = 1234, use_label_encoder = False)"
   ]
  },
  {
   "cell_type": "markdown",
   "metadata": {},
   "source": [
    "#### kfold"
   ]
  },
  {
   "cell_type": "code",
   "execution_count": 188,
   "metadata": {},
   "outputs": [
    {
     "name": "stdout",
     "output_type": "stream",
     "text": [
      "[11:12:06] WARNING: D:\\bld\\xgboost-split_1645118015404\\work\\src\\learner.cc:1115: Starting in XGBoost 1.3.0, the default evaluation metric used with the objective 'binary:logistic' was changed from 'error' to 'logloss'. Explicitly set eval_metric if you'd like to restore the old behavior.\n",
      "[11:12:06] WARNING: D:\\bld\\xgboost-split_1645118015404\\work\\src\\learner.cc:1115: Starting in XGBoost 1.3.0, the default evaluation metric used with the objective 'binary:logistic' was changed from 'error' to 'logloss'. Explicitly set eval_metric if you'd like to restore the old behavior.\n",
      "[11:12:06] WARNING: D:\\bld\\xgboost-split_1645118015404\\work\\src\\learner.cc:1115: Starting in XGBoost 1.3.0, the default evaluation metric used with the objective 'binary:logistic' was changed from 'error' to 'logloss'. Explicitly set eval_metric if you'd like to restore the old behavior.\n",
      "[11:12:06] WARNING: D:\\bld\\xgboost-split_1645118015404\\work\\src\\learner.cc:1115: Starting in XGBoost 1.3.0, the default evaluation metric used with the objective 'binary:logistic' was changed from 'error' to 'logloss'. Explicitly set eval_metric if you'd like to restore the old behavior.\n",
      "[11:12:06] WARNING: D:\\bld\\xgboost-split_1645118015404\\work\\src\\learner.cc:1115: Starting in XGBoost 1.3.0, the default evaluation metric used with the objective 'binary:logistic' was changed from 'error' to 'logloss'. Explicitly set eval_metric if you'd like to restore the old behavior.\n",
      "sgb K-Fold 0번째 검증 정확도 : 0.8252\n",
      "sgb K-Fold 1번째 검증 정확도 : 0.8112\n",
      "sgb K-Fold 2번째 검증 정확도 : 0.7746\n",
      "sgb K-Fold 3번째 검증 정확도 : 0.8028\n",
      "sgb K-Fold 4번째 검증 정확도 : 0.8380\n",
      "xgb K-Fold 평균 정확도 : 0.810371318822023\n"
     ]
    }
   ],
   "source": [
    "scores = cross_val_score(\n",
    "    xgbc,\n",
    "    X_train, y_train,\n",
    "    cv=kfold,\n",
    "    scoring=\"accuracy\"\n",
    ")\n",
    "for iter_count, acc in enumerate(scores):\n",
    "    print(\"sgb K-Fold {0}번째 검증 정확도 : {1:.4f}\".format(iter_count,acc ))\n",
    "print(\"xgb K-Fold 평균 정확도 :\", scores.mean())"
   ]
  },
  {
   "cell_type": "code",
   "execution_count": 189,
   "metadata": {},
   "outputs": [],
   "source": [
    "# 아무것도 안 해도 xgboost를 쓰면 BaseLine : 0.818~ 0.82\n",
    "# --> 부스팅의 알고리즘은 데이터가 아주 많지 않거나\n",
    "#     컬럼도 아주 많지 않은 경우들에 있어서\n",
    "#     하이퍼파라미터 튜닝이 아주~~성능 향상이 좀 적다"
   ]
  },
  {
   "cell_type": "code",
   "execution_count": 190,
   "metadata": {},
   "outputs": [],
   "source": [
    "xgbc = XGBClassifier(n_jobs= -1,random_state=1234, use_label_encoder=False,\n",
    "                     # 학습 관련된 부분 상세 설정~(0,1 2진분류)\n",
    "                     objective = \"binary:logistic\",\n",
    "                     eval_metric = \"error\")"
   ]
  },
  {
   "cell_type": "code",
   "execution_count": 191,
   "metadata": {},
   "outputs": [
    {
     "name": "stdout",
     "output_type": "stream",
     "text": [
      "Fitting 5 folds for each of 10 candidates, totalling 50 fits\n"
     ]
    },
    {
     "data": {
      "text/plain": [
       "RandomizedSearchCV(cv=KFold(n_splits=5, random_state=1234, shuffle=True),\n",
       "                   estimator=XGBClassifier(base_score=None, booster=None,\n",
       "                                           colsample_bylevel=None,\n",
       "                                           colsample_bynode=None,\n",
       "                                           colsample_bytree=None,\n",
       "                                           enable_categorical=False,\n",
       "                                           eval_metric='error', gamma=None,\n",
       "                                           gpu_id=None, importance_type=None,\n",
       "                                           interaction_constraints=None,\n",
       "                                           learning_rate=None,\n",
       "                                           max_delta_step=None, ma...\n",
       "                   param_distributions={'booster': ['gbtree', 'gblinear',\n",
       "                                                    'dart'],\n",
       "                                        'colsample_bytree': [0.3, 0.5, 0.7,\n",
       "                                                             0.9],\n",
       "                                        'learning_rate': [0.01, 0.1, 0.3, 0.8],\n",
       "                                        'max_depth': [2, 4, 6, 8, 10, 20],\n",
       "                                        'min_child_weight': [0.5, 1, 5],\n",
       "                                        'n_estimators': [10, 50, 100, 300, 500],\n",
       "                                        'reg_alpha': [0, 0.01, 0.1, 0.5, 1, 10],\n",
       "                                        'reg_lambda': [0, 0.01, 0.1, 0.5, 1,\n",
       "                                                       10],\n",
       "                                        'subsample': [0.3, 0.5, 0.7, 0.9]},\n",
       "                   random_state=1234, scoring='accuracy', verbose=2)"
      ]
     },
     "execution_count": 191,
     "metadata": {},
     "output_type": "execute_result"
    }
   ],
   "source": [
    "# random grid search용 테스트할 파라미터들\n",
    "parameters = {\n",
    "    #부스팅 : 이어달리기를 할건데 어떤 스타일의 선수`\n",
    "    \"booster\" : [\"gbtree\", \"gblinear\", \"dart\"],\n",
    "    \n",
    "    # 그러면 몇 명의 선수들을 선발해서 경기를 진행할지\n",
    "    # +얼마나 디테일하게 할지\n",
    "    \"n_estimators\" : [10,50,100,300,500],\n",
    "    \"learning_rate\" : [0.01, 0.1, 0.3, 0.8],\n",
    "    \n",
    "    # tree모형에 대한 조절\n",
    "    \"max_depth\" : [2, 4, 6, 8, 10, 20],\n",
    "    \"min_child_weight\" : [0.5, 1, 5],\n",
    "    \"gamma\" : [ 0, 0.1, 0.5],  # 트리를 어느 이상 손실값 이상이면 트리를 분할할지..  \n",
    "    \n",
    "    # 샘플링쪽에서 컨트롤\n",
    "    \"subsample\" : [0.3, 0.5, 0.7, 0.9],\n",
    "    \"colsample_bytree\" : [0.3, 0.5, 0.7, 0.9],\n",
    "    \n",
    "    # 규약\n",
    "    \"reg_alpha\" : [0, 0.01, 0.1, 0.5, 1, 10],  # 규약을 안 쓰는 경우 0\n",
    "    \"reg_lambda\" : [0, 0.01, 0.1, 0.5, 1, 10]\n",
    "    \n",
    "}\n",
    "\n",
    "n_iter_search = 10\n",
    "\n",
    "xgbc_kf_rgs = RandomizedSearchCV(\n",
    "    xgbc, param_distributions = parameters,\n",
    "    cv = kfold, scoring=\"accuracy\",\n",
    "    n_jobs = -1, random_state=1234,\n",
    "    n_iter= n_iter_search, verbose=2\n",
    ")\n",
    "\n",
    "# xgbc 버전에 따라서 간혹 에러가 날 때에는 # xgbc_kf_rgs.fit(np.ascontiguousarray(X_train),np.ascontiguousarray(y_train))\n",
    "xgbc_kf_rgs.fit(X_train, y_train)\n"
   ]
  },
  {
   "cell_type": "code",
   "execution_count": 192,
   "metadata": {},
   "outputs": [
    {
     "data": {
      "text/plain": [
       "0.8229882793263075"
      ]
     },
     "execution_count": 192,
     "metadata": {},
     "output_type": "execute_result"
    }
   ],
   "source": [
    "xgbc_kf_rgs.best_score_"
   ]
  },
  {
   "cell_type": "code",
   "execution_count": 193,
   "metadata": {},
   "outputs": [
    {
     "data": {
      "text/plain": [
       "{'subsample': 0.7,\n",
       " 'reg_lambda': 10,\n",
       " 'reg_alpha': 0.01,\n",
       " 'n_estimators': 100,\n",
       " 'min_child_weight': 1,\n",
       " 'max_depth': 10,\n",
       " 'learning_rate': 0.3,\n",
       " 'colsample_bytree': 0.7,\n",
       " 'booster': 'gbtree'}"
      ]
     },
     "execution_count": 193,
     "metadata": {},
     "output_type": "execute_result"
    }
   ],
   "source": [
    "xgbc_kf_rgs.best_params_"
   ]
  },
  {
   "cell_type": "code",
   "execution_count": 194,
   "metadata": {},
   "outputs": [
    {
     "name": "stdout",
     "output_type": "stream",
     "text": [
      "0.8044692737430168\n"
     ]
    }
   ],
   "source": [
    "xgbc_kf_rgs_best = xgbc_kf_rgs.best_estimator_\n",
    "xgbc_kf_rgs_pred = xgbc_kf_rgs_best.predict(X_test)\n",
    "print(accuracy_score(y_test, xgbc_kf_rgs_pred))"
   ]
  },
  {
   "cell_type": "code",
   "execution_count": null,
   "metadata": {},
   "outputs": [],
   "source": [
    "# 만약에 overfit이 발생하게 된다면\n",
    "# learning rate(극단적으로 낮은 것과 큰 것)\n",
    "# n_estimator (극단적으로 낮은 것과 큰 것)\n",
    "\n",
    "# max_depth : 트리가 작도록 컨트롤 필요\n",
    "# minchild_weight : 값을 높이는 쪽\n",
    "# gamma : 높여서 overfit을 조절하는 부분\n",
    "\n",
    "# + sample 관련된 비율 조절"
   ]
  },
  {
   "cell_type": "code",
   "execution_count": 195,
   "metadata": {},
   "outputs": [
    {
     "data": {
      "text/plain": [
       "{'subsample': 0.7,\n",
       " 'reg_lambda': 10,\n",
       " 'reg_alpha': 0.01,\n",
       " 'n_estimators': 100,\n",
       " 'min_child_weight': 1,\n",
       " 'max_depth': 10,\n",
       " 'learning_rate': 0.3,\n",
       " 'colsample_bytree': 0.7,\n",
       " 'booster': 'gbtree'}"
      ]
     },
     "execution_count": 195,
     "metadata": {},
     "output_type": "execute_result"
    }
   ],
   "source": [
    "xgbc_kf_rgs.best_params_"
   ]
  },
  {
   "cell_type": "code",
   "execution_count": 355,
   "metadata": {},
   "outputs": [
    {
     "name": "stdout",
     "output_type": "stream",
     "text": [
      "Fitting 5 folds for each of 384000 candidates, totalling 1920000 fits\n"
     ]
    },
    {
     "ename": "KeyboardInterrupt",
     "evalue": "",
     "output_type": "error",
     "traceback": [
      "\u001b[1;31m---------------------------------------------------------------------------\u001b[0m",
      "\u001b[1;31mKeyboardInterrupt\u001b[0m                         Traceback (most recent call last)",
      "\u001b[1;32m~\\AppData\\Local\\Temp/ipykernel_23924/3453399881.py\u001b[0m in \u001b[0;36m<module>\u001b[1;34m\u001b[0m\n\u001b[0;32m     32\u001b[0m \u001b[1;31m# xgboost 버전에 따라서 간혹 에러가 날 때에는 : 타입 변환 !!!!\u001b[0m\u001b[1;33m\u001b[0m\u001b[1;33m\u001b[0m\u001b[0m\n\u001b[0;32m     33\u001b[0m \u001b[1;31m# xgbc_kf_rgs.fit(np.ascontiguousarray(X_train),np.ascontiguousarray(y_train))\u001b[0m\u001b[1;33m\u001b[0m\u001b[1;33m\u001b[0m\u001b[0m\n\u001b[1;32m---> 34\u001b[1;33m \u001b[0mxgbc_kf_gs\u001b[0m\u001b[1;33m.\u001b[0m\u001b[0mfit\u001b[0m\u001b[1;33m(\u001b[0m\u001b[0mX_train\u001b[0m\u001b[1;33m,\u001b[0m \u001b[0my_train\u001b[0m\u001b[1;33m)\u001b[0m\u001b[1;33m\u001b[0m\u001b[1;33m\u001b[0m\u001b[0m\n\u001b[0m",
      "\u001b[1;32m~\\Anaconda3\\lib\\site-packages\\sklearn\\utils\\validation.py\u001b[0m in \u001b[0;36minner_f\u001b[1;34m(*args, **kwargs)\u001b[0m\n\u001b[0;32m     61\u001b[0m             \u001b[0mextra_args\u001b[0m \u001b[1;33m=\u001b[0m \u001b[0mlen\u001b[0m\u001b[1;33m(\u001b[0m\u001b[0margs\u001b[0m\u001b[1;33m)\u001b[0m \u001b[1;33m-\u001b[0m \u001b[0mlen\u001b[0m\u001b[1;33m(\u001b[0m\u001b[0mall_args\u001b[0m\u001b[1;33m)\u001b[0m\u001b[1;33m\u001b[0m\u001b[1;33m\u001b[0m\u001b[0m\n\u001b[0;32m     62\u001b[0m             \u001b[1;32mif\u001b[0m \u001b[0mextra_args\u001b[0m \u001b[1;33m<=\u001b[0m \u001b[1;36m0\u001b[0m\u001b[1;33m:\u001b[0m\u001b[1;33m\u001b[0m\u001b[1;33m\u001b[0m\u001b[0m\n\u001b[1;32m---> 63\u001b[1;33m                 \u001b[1;32mreturn\u001b[0m \u001b[0mf\u001b[0m\u001b[1;33m(\u001b[0m\u001b[1;33m*\u001b[0m\u001b[0margs\u001b[0m\u001b[1;33m,\u001b[0m \u001b[1;33m**\u001b[0m\u001b[0mkwargs\u001b[0m\u001b[1;33m)\u001b[0m\u001b[1;33m\u001b[0m\u001b[1;33m\u001b[0m\u001b[0m\n\u001b[0m\u001b[0;32m     64\u001b[0m \u001b[1;33m\u001b[0m\u001b[0m\n\u001b[0;32m     65\u001b[0m             \u001b[1;31m# extra_args > 0\u001b[0m\u001b[1;33m\u001b[0m\u001b[1;33m\u001b[0m\u001b[0m\n",
      "\u001b[1;32m~\\Anaconda3\\lib\\site-packages\\sklearn\\model_selection\\_search.py\u001b[0m in \u001b[0;36mfit\u001b[1;34m(self, X, y, groups, **fit_params)\u001b[0m\n\u001b[0;32m    839\u001b[0m                 \u001b[1;32mreturn\u001b[0m \u001b[0mresults\u001b[0m\u001b[1;33m\u001b[0m\u001b[1;33m\u001b[0m\u001b[0m\n\u001b[0;32m    840\u001b[0m \u001b[1;33m\u001b[0m\u001b[0m\n\u001b[1;32m--> 841\u001b[1;33m             \u001b[0mself\u001b[0m\u001b[1;33m.\u001b[0m\u001b[0m_run_search\u001b[0m\u001b[1;33m(\u001b[0m\u001b[0mevaluate_candidates\u001b[0m\u001b[1;33m)\u001b[0m\u001b[1;33m\u001b[0m\u001b[1;33m\u001b[0m\u001b[0m\n\u001b[0m\u001b[0;32m    842\u001b[0m \u001b[1;33m\u001b[0m\u001b[0m\n\u001b[0;32m    843\u001b[0m             \u001b[1;31m# multimetric is determined here because in the case of a callable\u001b[0m\u001b[1;33m\u001b[0m\u001b[1;33m\u001b[0m\u001b[0m\n",
      "\u001b[1;32m~\\Anaconda3\\lib\\site-packages\\sklearn\\model_selection\\_search.py\u001b[0m in \u001b[0;36m_run_search\u001b[1;34m(self, evaluate_candidates)\u001b[0m\n\u001b[0;32m   1294\u001b[0m     \u001b[1;32mdef\u001b[0m \u001b[0m_run_search\u001b[0m\u001b[1;33m(\u001b[0m\u001b[0mself\u001b[0m\u001b[1;33m,\u001b[0m \u001b[0mevaluate_candidates\u001b[0m\u001b[1;33m)\u001b[0m\u001b[1;33m:\u001b[0m\u001b[1;33m\u001b[0m\u001b[1;33m\u001b[0m\u001b[0m\n\u001b[0;32m   1295\u001b[0m         \u001b[1;34m\"\"\"Search all candidates in param_grid\"\"\"\u001b[0m\u001b[1;33m\u001b[0m\u001b[1;33m\u001b[0m\u001b[0m\n\u001b[1;32m-> 1296\u001b[1;33m         \u001b[0mevaluate_candidates\u001b[0m\u001b[1;33m(\u001b[0m\u001b[0mParameterGrid\u001b[0m\u001b[1;33m(\u001b[0m\u001b[0mself\u001b[0m\u001b[1;33m.\u001b[0m\u001b[0mparam_grid\u001b[0m\u001b[1;33m)\u001b[0m\u001b[1;33m)\u001b[0m\u001b[1;33m\u001b[0m\u001b[1;33m\u001b[0m\u001b[0m\n\u001b[0m\u001b[0;32m   1297\u001b[0m \u001b[1;33m\u001b[0m\u001b[0m\n\u001b[0;32m   1298\u001b[0m \u001b[1;33m\u001b[0m\u001b[0m\n",
      "\u001b[1;32m~\\Anaconda3\\lib\\site-packages\\sklearn\\model_selection\\_search.py\u001b[0m in \u001b[0;36mevaluate_candidates\u001b[1;34m(candidate_params, cv, more_results)\u001b[0m\n\u001b[0;32m    793\u001b[0m                               n_splits, n_candidates, n_candidates * n_splits))\n\u001b[0;32m    794\u001b[0m \u001b[1;33m\u001b[0m\u001b[0m\n\u001b[1;32m--> 795\u001b[1;33m                 out = parallel(delayed(_fit_and_score)(clone(base_estimator),\n\u001b[0m\u001b[0;32m    796\u001b[0m                                                        \u001b[0mX\u001b[0m\u001b[1;33m,\u001b[0m \u001b[0my\u001b[0m\u001b[1;33m,\u001b[0m\u001b[1;33m\u001b[0m\u001b[1;33m\u001b[0m\u001b[0m\n\u001b[0;32m    797\u001b[0m                                                        \u001b[0mtrain\u001b[0m\u001b[1;33m=\u001b[0m\u001b[0mtrain\u001b[0m\u001b[1;33m,\u001b[0m \u001b[0mtest\u001b[0m\u001b[1;33m=\u001b[0m\u001b[0mtest\u001b[0m\u001b[1;33m,\u001b[0m\u001b[1;33m\u001b[0m\u001b[1;33m\u001b[0m\u001b[0m\n",
      "\u001b[1;32m~\\Anaconda3\\lib\\site-packages\\joblib\\parallel.py\u001b[0m in \u001b[0;36m__call__\u001b[1;34m(self, iterable)\u001b[0m\n\u001b[0;32m   1054\u001b[0m \u001b[1;33m\u001b[0m\u001b[0m\n\u001b[0;32m   1055\u001b[0m             \u001b[1;32mwith\u001b[0m \u001b[0mself\u001b[0m\u001b[1;33m.\u001b[0m\u001b[0m_backend\u001b[0m\u001b[1;33m.\u001b[0m\u001b[0mretrieval_context\u001b[0m\u001b[1;33m(\u001b[0m\u001b[1;33m)\u001b[0m\u001b[1;33m:\u001b[0m\u001b[1;33m\u001b[0m\u001b[1;33m\u001b[0m\u001b[0m\n\u001b[1;32m-> 1056\u001b[1;33m                 \u001b[0mself\u001b[0m\u001b[1;33m.\u001b[0m\u001b[0mretrieve\u001b[0m\u001b[1;33m(\u001b[0m\u001b[1;33m)\u001b[0m\u001b[1;33m\u001b[0m\u001b[1;33m\u001b[0m\u001b[0m\n\u001b[0m\u001b[0;32m   1057\u001b[0m             \u001b[1;31m# Make sure that we get a last message telling us we are done\u001b[0m\u001b[1;33m\u001b[0m\u001b[1;33m\u001b[0m\u001b[0m\n\u001b[0;32m   1058\u001b[0m             \u001b[0melapsed_time\u001b[0m \u001b[1;33m=\u001b[0m \u001b[0mtime\u001b[0m\u001b[1;33m.\u001b[0m\u001b[0mtime\u001b[0m\u001b[1;33m(\u001b[0m\u001b[1;33m)\u001b[0m \u001b[1;33m-\u001b[0m \u001b[0mself\u001b[0m\u001b[1;33m.\u001b[0m\u001b[0m_start_time\u001b[0m\u001b[1;33m\u001b[0m\u001b[1;33m\u001b[0m\u001b[0m\n",
      "\u001b[1;32m~\\Anaconda3\\lib\\site-packages\\joblib\\parallel.py\u001b[0m in \u001b[0;36mretrieve\u001b[1;34m(self)\u001b[0m\n\u001b[0;32m    933\u001b[0m             \u001b[1;32mtry\u001b[0m\u001b[1;33m:\u001b[0m\u001b[1;33m\u001b[0m\u001b[1;33m\u001b[0m\u001b[0m\n\u001b[0;32m    934\u001b[0m                 \u001b[1;32mif\u001b[0m \u001b[0mgetattr\u001b[0m\u001b[1;33m(\u001b[0m\u001b[0mself\u001b[0m\u001b[1;33m.\u001b[0m\u001b[0m_backend\u001b[0m\u001b[1;33m,\u001b[0m \u001b[1;34m'supports_timeout'\u001b[0m\u001b[1;33m,\u001b[0m \u001b[1;32mFalse\u001b[0m\u001b[1;33m)\u001b[0m\u001b[1;33m:\u001b[0m\u001b[1;33m\u001b[0m\u001b[1;33m\u001b[0m\u001b[0m\n\u001b[1;32m--> 935\u001b[1;33m                     \u001b[0mself\u001b[0m\u001b[1;33m.\u001b[0m\u001b[0m_output\u001b[0m\u001b[1;33m.\u001b[0m\u001b[0mextend\u001b[0m\u001b[1;33m(\u001b[0m\u001b[0mjob\u001b[0m\u001b[1;33m.\u001b[0m\u001b[0mget\u001b[0m\u001b[1;33m(\u001b[0m\u001b[0mtimeout\u001b[0m\u001b[1;33m=\u001b[0m\u001b[0mself\u001b[0m\u001b[1;33m.\u001b[0m\u001b[0mtimeout\u001b[0m\u001b[1;33m)\u001b[0m\u001b[1;33m)\u001b[0m\u001b[1;33m\u001b[0m\u001b[1;33m\u001b[0m\u001b[0m\n\u001b[0m\u001b[0;32m    936\u001b[0m                 \u001b[1;32melse\u001b[0m\u001b[1;33m:\u001b[0m\u001b[1;33m\u001b[0m\u001b[1;33m\u001b[0m\u001b[0m\n\u001b[0;32m    937\u001b[0m                     \u001b[0mself\u001b[0m\u001b[1;33m.\u001b[0m\u001b[0m_output\u001b[0m\u001b[1;33m.\u001b[0m\u001b[0mextend\u001b[0m\u001b[1;33m(\u001b[0m\u001b[0mjob\u001b[0m\u001b[1;33m.\u001b[0m\u001b[0mget\u001b[0m\u001b[1;33m(\u001b[0m\u001b[1;33m)\u001b[0m\u001b[1;33m)\u001b[0m\u001b[1;33m\u001b[0m\u001b[1;33m\u001b[0m\u001b[0m\n",
      "\u001b[1;32m~\\Anaconda3\\lib\\site-packages\\joblib\\_parallel_backends.py\u001b[0m in \u001b[0;36mwrap_future_result\u001b[1;34m(future, timeout)\u001b[0m\n\u001b[0;32m    540\u001b[0m         AsyncResults.get from multiprocessing.\"\"\"\n\u001b[0;32m    541\u001b[0m         \u001b[1;32mtry\u001b[0m\u001b[1;33m:\u001b[0m\u001b[1;33m\u001b[0m\u001b[1;33m\u001b[0m\u001b[0m\n\u001b[1;32m--> 542\u001b[1;33m             \u001b[1;32mreturn\u001b[0m \u001b[0mfuture\u001b[0m\u001b[1;33m.\u001b[0m\u001b[0mresult\u001b[0m\u001b[1;33m(\u001b[0m\u001b[0mtimeout\u001b[0m\u001b[1;33m=\u001b[0m\u001b[0mtimeout\u001b[0m\u001b[1;33m)\u001b[0m\u001b[1;33m\u001b[0m\u001b[1;33m\u001b[0m\u001b[0m\n\u001b[0m\u001b[0;32m    543\u001b[0m         \u001b[1;32mexcept\u001b[0m \u001b[0mCfTimeoutError\u001b[0m \u001b[1;32mas\u001b[0m \u001b[0me\u001b[0m\u001b[1;33m:\u001b[0m\u001b[1;33m\u001b[0m\u001b[1;33m\u001b[0m\u001b[0m\n\u001b[0;32m    544\u001b[0m             \u001b[1;32mraise\u001b[0m \u001b[0mTimeoutError\u001b[0m \u001b[1;32mfrom\u001b[0m \u001b[0me\u001b[0m\u001b[1;33m\u001b[0m\u001b[1;33m\u001b[0m\u001b[0m\n",
      "\u001b[1;32m~\\Anaconda3\\lib\\concurrent\\futures\\_base.py\u001b[0m in \u001b[0;36mresult\u001b[1;34m(self, timeout)\u001b[0m\n\u001b[0;32m    438\u001b[0m                     \u001b[1;32mreturn\u001b[0m \u001b[0mself\u001b[0m\u001b[1;33m.\u001b[0m\u001b[0m__get_result\u001b[0m\u001b[1;33m(\u001b[0m\u001b[1;33m)\u001b[0m\u001b[1;33m\u001b[0m\u001b[1;33m\u001b[0m\u001b[0m\n\u001b[0;32m    439\u001b[0m \u001b[1;33m\u001b[0m\u001b[0m\n\u001b[1;32m--> 440\u001b[1;33m                 \u001b[0mself\u001b[0m\u001b[1;33m.\u001b[0m\u001b[0m_condition\u001b[0m\u001b[1;33m.\u001b[0m\u001b[0mwait\u001b[0m\u001b[1;33m(\u001b[0m\u001b[0mtimeout\u001b[0m\u001b[1;33m)\u001b[0m\u001b[1;33m\u001b[0m\u001b[1;33m\u001b[0m\u001b[0m\n\u001b[0m\u001b[0;32m    441\u001b[0m \u001b[1;33m\u001b[0m\u001b[0m\n\u001b[0;32m    442\u001b[0m                 \u001b[1;32mif\u001b[0m \u001b[0mself\u001b[0m\u001b[1;33m.\u001b[0m\u001b[0m_state\u001b[0m \u001b[1;32min\u001b[0m \u001b[1;33m[\u001b[0m\u001b[0mCANCELLED\u001b[0m\u001b[1;33m,\u001b[0m \u001b[0mCANCELLED_AND_NOTIFIED\u001b[0m\u001b[1;33m]\u001b[0m\u001b[1;33m:\u001b[0m\u001b[1;33m\u001b[0m\u001b[1;33m\u001b[0m\u001b[0m\n",
      "\u001b[1;32m~\\Anaconda3\\lib\\threading.py\u001b[0m in \u001b[0;36mwait\u001b[1;34m(self, timeout)\u001b[0m\n\u001b[0;32m    310\u001b[0m         \u001b[1;32mtry\u001b[0m\u001b[1;33m:\u001b[0m    \u001b[1;31m# restore state no matter what (e.g., KeyboardInterrupt)\u001b[0m\u001b[1;33m\u001b[0m\u001b[1;33m\u001b[0m\u001b[0m\n\u001b[0;32m    311\u001b[0m             \u001b[1;32mif\u001b[0m \u001b[0mtimeout\u001b[0m \u001b[1;32mis\u001b[0m \u001b[1;32mNone\u001b[0m\u001b[1;33m:\u001b[0m\u001b[1;33m\u001b[0m\u001b[1;33m\u001b[0m\u001b[0m\n\u001b[1;32m--> 312\u001b[1;33m                 \u001b[0mwaiter\u001b[0m\u001b[1;33m.\u001b[0m\u001b[0macquire\u001b[0m\u001b[1;33m(\u001b[0m\u001b[1;33m)\u001b[0m\u001b[1;33m\u001b[0m\u001b[1;33m\u001b[0m\u001b[0m\n\u001b[0m\u001b[0;32m    313\u001b[0m                 \u001b[0mgotit\u001b[0m \u001b[1;33m=\u001b[0m \u001b[1;32mTrue\u001b[0m\u001b[1;33m\u001b[0m\u001b[1;33m\u001b[0m\u001b[0m\n\u001b[0;32m    314\u001b[0m             \u001b[1;32melse\u001b[0m\u001b[1;33m:\u001b[0m\u001b[1;33m\u001b[0m\u001b[1;33m\u001b[0m\u001b[0m\n",
      "\u001b[1;31mKeyboardInterrupt\u001b[0m: "
     ]
    }
   ],
   "source": [
    "# random grid search 용 테스트할 파라미터들\n",
    "parameters ={\n",
    "    # 부스팅 : 이어달리기를 할 것입니다~어떤 스타일의 선수~~\n",
    "    \"booster\" : [\"gbtree\", \"gblinear\", \"dart\"],\n",
    "\n",
    "    # 그러면 몇 명의 선수를 선발해서 경기를 진행을 할지!!!\n",
    "    # + 얼머나 디테일하게 할지 \n",
    "    \"n_estimators\" : [50,100, 300, 1000],\n",
    "    \"learning_rate\" : [0.3, 0.2, 0.4, 0.001, 0.7], #overfit\n",
    "\n",
    "    # tree 모형에 대한 조절 : overfit\n",
    "    \"max_depth\" :[ 8,9,10,11],\n",
    "    \"min_child_weight\": [1,0.9,0.8,1.1,3],\n",
    "    \n",
    "    # 샘플링쪽에서 컨트롤\n",
    "    \"subsample\" : [0.6, 0.7,0.8, 0.65],\n",
    "    \"colsample_bytree\" : [0.6, 0.7,0.8, 0.65],\n",
    "\n",
    "    # 규약!!!\n",
    "    \"reg_alpha\":[0, 0.01, 0.005, 0.015, 10 ] , # 규약을 안 쓰는 경우 0, \n",
    "    \"reg_lambda\":[0,0.01, 10, 13]\n",
    "\n",
    "}\n",
    "\n",
    "xgbc_kf_gs = GridSearchCV(\n",
    "    xgbc, param_grid = parameters,\n",
    "    cv = kfold, scoring=\"accuracy\",\n",
    "    n_jobs = -1, \n",
    "     verbose=3\n",
    ")\n",
    "\n",
    "# xgboost 버전에 따라서 간혹 에러가 날 때에는 : 타입 변환 !!!!\n",
    "# xgbc_kf_rgs.fit(np.ascontiguousarray(X_train),np.ascontiguousarray(y_train))\n",
    "xgbc_kf_gs.fit(X_train, y_train)"
   ]
  },
  {
   "cell_type": "markdown",
   "metadata": {},
   "source": [
    ">xgboost 같은 경우!\n",
    ">1) boost 여서 시간이 생각보도 오래 걸림                                                       \n",
    "> -> randomgridsearcCV를 중심                                                                                      \n",
    "> -> 반복횟수를 좀 크게                                                                                                    \n",
    "> 2) 파라미터에 대한 정리                                                                                              \n",
    "> 2-1) 기본 파라미터[고정]:                                                                                         \n",
    "> n_jobs, random_state etc                                                                                    \n",
    "> 2-2) 부스팅 관련 파라미터 [가변]                                                                              \n",
    "> booster(어떤 분류기들을 사용할지)                                                                                      \n",
    "> .n_estimators : 몇 개를 사용할지                                                                                       \n",
    "> learning_rate : 얼마나 디테일하게 찾아갈지                                                                            \n",
    "> max_depth(Down), min_child_weight(Up),                                                                               \n",
    "> gamma(Up)                                                                                                                  \n",
    "> 분류기들 학습에 쓸 샘플링 :                                                                                               \n",
    "> subsample(down) , colsample_bytree(Down)                                                                                     \n",
    "> 규약 : reg_alpha, reg_lambda [ Up :컬럼많을때..]                                                                            \n",
    "> ---> 오버핏이 있으니 이를 줄이는 방향                                                                                    \n",
    "> 2-3) 학습 관련 기본 세팅!!!!![고정]                                                                                  \n",
    "> objective : 어떠한 문제를 풀지에 따라서 세팅                                                                           \n",
    "> eval_metrc : 내가 풀 문제의 평가 기준"
   ]
  },
  {
   "cell_type": "markdown",
   "metadata": {},
   "source": [
    "#### str_kfold"
   ]
  },
  {
   "cell_type": "code",
   "execution_count": 220,
   "metadata": {},
   "outputs": [
    {
     "name": "stdout",
     "output_type": "stream",
     "text": [
      "sgb str_K-Fold 0번째 검증 정확도 : 0.8112\n",
      "sgb str_K-Fold 1번째 검증 정확도 : 0.7762\n",
      "sgb str_K-Fold 2번째 검증 정확도 : 0.8239\n",
      "sgb str_K-Fold 3번째 검증 정확도 : 0.8099\n",
      "sgb str_K-Fold 4번째 검증 정확도 : 0.8451\n",
      "xgb str_K-Fold 평균 정확도 : 0.8132571653698415\n"
     ]
    }
   ],
   "source": [
    "scores = cross_val_score(\n",
    "    xgbc,\n",
    "    X_train, y_train,\n",
    "    cv=str_kfold,\n",
    "    scoring=\"accuracy\"\n",
    ")\n",
    "for iter_count, acc in enumerate(scores):\n",
    "    print(\"sgb str_K-Fold {0}번째 검증 정확도 : {1:.4f}\".format(iter_count,acc ))\n",
    "print(\"xgb str_K-Fold 평균 정확도 :\", scores.mean())"
   ]
  },
  {
   "cell_type": "code",
   "execution_count": 256,
   "metadata": {},
   "outputs": [
    {
     "name": "stdout",
     "output_type": "stream",
     "text": [
      "Fitting 5 folds for each of 10 candidates, totalling 50 fits\n"
     ]
    },
    {
     "data": {
      "text/plain": [
       "RandomizedSearchCV(cv=StratifiedKFold(n_splits=5, random_state=1234, shuffle=True),\n",
       "                   estimator=XGBClassifier(base_score=None, booster=None,\n",
       "                                           colsample_bylevel=None,\n",
       "                                           colsample_bynode=None,\n",
       "                                           colsample_bytree=None,\n",
       "                                           enable_categorical=False,\n",
       "                                           eval_metric='error', gamma=None,\n",
       "                                           gpu_id=None, importance_type=None,\n",
       "                                           interaction_constraints=None,\n",
       "                                           learning_rate=None,\n",
       "                                           max_delta_st...\n",
       "                   param_distributions={'booster': ['gbtree', 'gblinear',\n",
       "                                                    'dart'],\n",
       "                                        'colsample_bytree': [0.3, 0.5, 0.7,\n",
       "                                                             0.9],\n",
       "                                        'gamma': [0, 0.1, 0.5],\n",
       "                                        'learning_rate': [0.01, 0.1, 0.3, 0.8],\n",
       "                                        'max_depth': [4, 6, 8, 10, 12],\n",
       "                                        'min_child_weight': [5, 10, 15],\n",
       "                                        'n_estimators': [10, 50, 100, 200],\n",
       "                                        'reg_alpha': [0, 0.01, 0.1, 0.5, 1, 10],\n",
       "                                        'reg_lambda': [0, 0.01, 0.1, 0.5, 1,\n",
       "                                                       10],\n",
       "                                        'subsample': [0.5, 0.7, 0.9, 1.1]},\n",
       "                   random_state=1234, scoring='accuracy', verbose=2)"
      ]
     },
     "execution_count": 256,
     "metadata": {},
     "output_type": "execute_result"
    }
   ],
   "source": [
    "# random grid search용 테스트할 파라미터들\n",
    "parameters = {\n",
    "    #부스팅 : 이어달리기를 할건데 어떤 스타일의 선수`\n",
    "    \"booster\" : [\"gbtree\", \"gblinear\", \"dart\"],\n",
    "    \n",
    "    # 그러면 몇 명의 선수들을 선발해서 경기를 진행할지\n",
    "    # +얼마나 디테일하게 할지\n",
    "    \"n_estimators\" : [10,50,100,200],\n",
    "    \"learning_rate\" : [0.01, 0.1, 0.3, 0.8],\n",
    "    \n",
    "    # tree모형에 대한 조절\n",
    "    \"max_depth\" : [ 4, 6, 8, 10,12],\n",
    "    \"min_child_weight\" : [ 5,10,15],\n",
    "    \"gamma\" : [ 0, 0.1, 0.5],  # 트리를 어느 이상 손실값 이상이면 트리를 분할할지..  \n",
    "    \n",
    "    # 샘플링쪽에서 컨트롤\n",
    "    \"subsample\" : [ 0.5, 0.7, 0.9, 1.1],\n",
    "    \"colsample_bytree\" : [0.3, 0.5, 0.7, 0.9],\n",
    "    \n",
    "    # 규약\n",
    "    \"reg_alpha\" : [0, 0.01, 0.1, 0.5, 1, 10],  # 규약을 안 쓰는 경우 0\n",
    "    \"reg_lambda\" : [0, 0.01, 0.1, 0.5, 1, 10]\n",
    "    \n",
    "}\n",
    "\n",
    "n_iter_search = 10\n",
    "\n",
    "xgbc_str_kf_rgs = RandomizedSearchCV(\n",
    "    xgbc, param_distributions = parameters,\n",
    "    cv = str_kfold, scoring=\"accuracy\",\n",
    "    n_jobs = -1, random_state=1234,\n",
    "    n_iter= n_iter_search, verbose=2\n",
    ")\n",
    "\n",
    "# xgbc 버전에 따라서 간혹 에러가 날 때에는 # xgbc_kf_rgs.fit(np.ascontiguousarray(X_train),np.ascontiguousarray(y_train))\n",
    "xgbc_str_kf_rgs.fit(X_train, y_train)"
   ]
  },
  {
   "cell_type": "code",
   "execution_count": 257,
   "metadata": {},
   "outputs": [
    {
     "data": {
      "text/plain": [
       "0.8287304245050724"
      ]
     },
     "execution_count": 257,
     "metadata": {},
     "output_type": "execute_result"
    }
   ],
   "source": [
    "xgbc_str_kf_rgs.best_score_"
   ]
  },
  {
   "cell_type": "code",
   "execution_count": 258,
   "metadata": {},
   "outputs": [
    {
     "data": {
      "text/plain": [
       "{'subsample': 0.7,\n",
       " 'reg_lambda': 0.1,\n",
       " 'reg_alpha': 0.1,\n",
       " 'n_estimators': 200,\n",
       " 'min_child_weight': 5,\n",
       " 'max_depth': 8,\n",
       " 'learning_rate': 0.3,\n",
       " 'gamma': 0,\n",
       " 'colsample_bytree': 0.7,\n",
       " 'booster': 'dart'}"
      ]
     },
     "execution_count": 258,
     "metadata": {},
     "output_type": "execute_result"
    }
   ],
   "source": [
    "xgbc_str_kf_rgs.best_params_"
   ]
  },
  {
   "cell_type": "code",
   "execution_count": 259,
   "metadata": {},
   "outputs": [
    {
     "name": "stdout",
     "output_type": "stream",
     "text": [
      "0.7932960893854749\n"
     ]
    }
   ],
   "source": [
    "xgbc_str_kf_rgs_best = xgbc_str_kf_rgs.best_estimator_\n",
    "xgbc_str_kf_rgs_pred = xgbc_str_kf_rgs_best.predict(X_test)\n",
    "print(accuracy_score(y_test, xgbc_str_kf_rgs_pred))"
   ]
  },
  {
   "cell_type": "markdown",
   "metadata": {},
   "source": [
    "#### repeated kfold"
   ]
  },
  {
   "cell_type": "code",
   "execution_count": 248,
   "metadata": {},
   "outputs": [
    {
     "name": "stdout",
     "output_type": "stream",
     "text": [
      "sgb  repeated K-Fold 0번째 검증 정확도 : 0.8252\n",
      "sgb  repeated K-Fold 1번째 검증 정확도 : 0.8112\n",
      "sgb  repeated K-Fold 2번째 검증 정확도 : 0.7746\n",
      "sgb  repeated K-Fold 3번째 검증 정확도 : 0.8028\n",
      "sgb  repeated K-Fold 4번째 검증 정확도 : 0.8380\n",
      "sgb  repeated K-Fold 5번째 검증 정확도 : 0.7972\n",
      "sgb  repeated K-Fold 6번째 검증 정확도 : 0.7972\n",
      "sgb  repeated K-Fold 7번째 검증 정확도 : 0.8592\n",
      "sgb  repeated K-Fold 8번째 검증 정확도 : 0.8451\n",
      "sgb  repeated K-Fold 9번째 검증 정확도 : 0.7887\n",
      "sgb  repeated K-Fold 10번째 검증 정확도 : 0.8252\n",
      "sgb  repeated K-Fold 11번째 검증 정확도 : 0.8252\n",
      "sgb  repeated K-Fold 12번째 검증 정확도 : 0.7465\n",
      "sgb  repeated K-Fold 13번째 검증 정확도 : 0.8099\n",
      "sgb  repeated K-Fold 14번째 검증 정확도 : 0.8028\n",
      "sgb  repeated K-Fold 15번째 검증 정확도 : 0.7972\n",
      "sgb  repeated K-Fold 16번째 검증 정확도 : 0.7902\n",
      "sgb  repeated K-Fold 17번째 검증 정확도 : 0.8099\n",
      "sgb  repeated K-Fold 18번째 검증 정확도 : 0.8169\n",
      "sgb  repeated K-Fold 19번째 검증 정확도 : 0.7606\n",
      "sgb  repeated K-Fold 20번째 검증 정확도 : 0.8671\n",
      "sgb  repeated K-Fold 21번째 검증 정확도 : 0.7832\n",
      "sgb  repeated K-Fold 22번째 검증 정확도 : 0.8028\n",
      "sgb  repeated K-Fold 23번째 검증 정확도 : 0.8169\n",
      "sgb  repeated K-Fold 24번째 검증 정확도 : 0.7887\n",
      "sgb  repeated K-Fold 25번째 검증 정확도 : 0.7552\n",
      "sgb  repeated K-Fold 26번째 검증 정확도 : 0.8182\n",
      "sgb  repeated K-Fold 27번째 검증 정확도 : 0.8310\n",
      "sgb  repeated K-Fold 28번째 검증 정확도 : 0.8521\n",
      "sgb  repeated K-Fold 29번째 검증 정확도 : 0.7746\n",
      "sgb  repeated K-Fold 30번째 검증 정확도 : 0.8042\n",
      "sgb  repeated K-Fold 31번째 검증 정확도 : 0.8392\n",
      "sgb  repeated K-Fold 32번째 검증 정확도 : 0.8169\n",
      "sgb  repeated K-Fold 33번째 검증 정확도 : 0.8169\n",
      "sgb  repeated K-Fold 34번째 검증 정확도 : 0.7535\n",
      "sgb  repeated K-Fold 35번째 검증 정확도 : 0.7972\n",
      "sgb  repeated K-Fold 36번째 검증 정확도 : 0.7762\n",
      "sgb  repeated K-Fold 37번째 검증 정확도 : 0.7535\n",
      "sgb  repeated K-Fold 38번째 검증 정확도 : 0.7606\n",
      "sgb  repeated K-Fold 39번째 검증 정확도 : 0.7746\n",
      "sgb  repeated K-Fold 40번째 검증 정확도 : 0.8182\n",
      "sgb  repeated K-Fold 41번째 검증 정확도 : 0.7902\n",
      "sgb  repeated K-Fold 42번째 검증 정확도 : 0.8310\n",
      "sgb  repeated K-Fold 43번째 검증 정확도 : 0.7958\n",
      "sgb  repeated K-Fold 44번째 검증 정확도 : 0.8028\n",
      "sgb  repeated K-Fold 45번째 검증 정확도 : 0.7762\n",
      "sgb  repeated K-Fold 46번째 검증 정확도 : 0.8182\n",
      "sgb  repeated K-Fold 47번째 검증 정확도 : 0.8380\n",
      "sgb  repeated K-Fold 48번째 검증 정확도 : 0.8099\n",
      "sgb  repeated K-Fold 49번째 검증 정확도 : 0.7887\n",
      "xgb repeated K-Fold 평균 정확도 : 0.803505367871565\n"
     ]
    }
   ],
   "source": [
    "scores = cross_val_score(\n",
    "    xgbc,\n",
    "    X_train, y_train,\n",
    "    cv=rkfold,\n",
    "    scoring=\"accuracy\"\n",
    ")\n",
    "for iter_count, acc in enumerate(scores):\n",
    "    print(\"sgb  repeated K-Fold {0}번째 검증 정확도 : {1:.4f}\".format(iter_count,acc ))\n",
    "print(\"xgb repeated K-Fold 평균 정확도 :\", scores.mean())"
   ]
  },
  {
   "cell_type": "code",
   "execution_count": 269,
   "metadata": {},
   "outputs": [
    {
     "name": "stdout",
     "output_type": "stream",
     "text": [
      "Fitting 50 folds for each of 10 candidates, totalling 500 fits\n"
     ]
    },
    {
     "data": {
      "text/plain": [
       "RandomizedSearchCV(cv=RepeatedKFold(n_repeats=10, n_splits=5, random_state=1234),\n",
       "                   estimator=XGBClassifier(base_score=None, booster=None,\n",
       "                                           colsample_bylevel=None,\n",
       "                                           colsample_bynode=None,\n",
       "                                           colsample_bytree=None,\n",
       "                                           enable_categorical=False,\n",
       "                                           eval_metric='error', gamma=None,\n",
       "                                           gpu_id=None, importance_type=None,\n",
       "                                           interaction_constraints=None,\n",
       "                                           learning_rate=None,\n",
       "                                           max_delta_step...\n",
       "                   param_distributions={'booster': ['gbtree', 'gblinear',\n",
       "                                                    'dart'],\n",
       "                                        'colsample_bytree': [0.3, 0.5, 0.7,\n",
       "                                                             0.9],\n",
       "                                        'gamma': [0, 0.1, 0.5],\n",
       "                                        'learning_rate': [0.01, 0.1, 0.3, 0.8],\n",
       "                                        'max_depth': [2, 4, 6, 8, 10, 20],\n",
       "                                        'min_child_weight': [0.5, 1, 5],\n",
       "                                        'n_estimators': [10, 50, 100, 300, 500],\n",
       "                                        'reg_alpha': [0, 0.01, 0.1, 0.5, 1, 10],\n",
       "                                        'reg_lambda': [0, 0.01, 0.1, 0.5, 1,\n",
       "                                                       10],\n",
       "                                        'subsample': [0.3, 0.5, 0.7, 0.9]},\n",
       "                   random_state=1234, scoring='accuracy', verbose=2)"
      ]
     },
     "execution_count": 269,
     "metadata": {},
     "output_type": "execute_result"
    }
   ],
   "source": [
    "# random grid search용 테스트할 파라미터들\n",
    "parameters = {\n",
    "    #부스팅 : 이어달리기를 할건데 어떤 스타일의 선수`\n",
    "    \"booster\" : [\"gbtree\", \"gblinear\", \"dart\"],\n",
    "    \n",
    "    # 그러면 몇 명의 선수들을 선발해서 경기를 진행할지\n",
    "    # +얼마나 디테일하게 할지\n",
    "    \"n_estimators\" : [10,50,100,300,500],\n",
    "    \"learning_rate\" : [0.01, 0.1, 0.3, 0.8],\n",
    "    \n",
    "    # tree모형에 대한 조절\n",
    "    \"max_depth\" : [2, 4, 6, 8, 10, 20],\n",
    "    \"min_child_weight\" : [0.5, 1, 5],\n",
    "    \"gamma\" : [ 0, 0.1, 0.5],  # 트리를 어느 이상 손실값 이상이면 트리를 분할할지..  \n",
    "    \n",
    "    # 샘플링쪽에서 컨트롤\n",
    "    \"subsample\" : [0.3, 0.5, 0.7, 0.9],\n",
    "    \"colsample_bytree\" : [0.3, 0.5, 0.7, 0.9],\n",
    "    \n",
    "    # 규약\n",
    "    \"reg_alpha\" : [0, 0.01, 0.1, 0.5, 1, 10],  # 규약을 안 쓰는 경우 0\n",
    "    \"reg_lambda\" : [0, 0.01, 0.1, 0.5, 1, 10]\n",
    "    \n",
    "}\n",
    "\n",
    "n_iter_search = 10\n",
    "\n",
    "xgbc_rkf_rgs = RandomizedSearchCV(\n",
    "    xgbc, param_distributions = parameters,\n",
    "    cv = rkfold, scoring=\"accuracy\",\n",
    "    n_jobs = -1, random_state=1234,\n",
    "    n_iter= n_iter_search, verbose=2\n",
    ")\n",
    "\n",
    "# xgbc 버전에 따라서 간혹 에러가 날 때에는 # xgbc_kf_rgs.fit(np.ascontiguousarray(X_train),np.ascontiguousarray(y_train))\n",
    "xgbc_rkf_rgs.fit(X_train, y_train)"
   ]
  },
  {
   "cell_type": "code",
   "execution_count": 270,
   "metadata": {},
   "outputs": [
    {
     "data": {
      "text/plain": [
       "0.8188210381168127"
      ]
     },
     "execution_count": 270,
     "metadata": {},
     "output_type": "execute_result"
    }
   ],
   "source": [
    "xgbc_rkf_rgs.best_score_"
   ]
  },
  {
   "cell_type": "code",
   "execution_count": 271,
   "metadata": {},
   "outputs": [
    {
     "data": {
      "text/plain": [
       "{'subsample': 0.9,\n",
       " 'reg_lambda': 10,\n",
       " 'reg_alpha': 0.01,\n",
       " 'n_estimators': 50,\n",
       " 'min_child_weight': 0.5,\n",
       " 'max_depth': 8,\n",
       " 'learning_rate': 0.1,\n",
       " 'gamma': 0,\n",
       " 'colsample_bytree': 0.9,\n",
       " 'booster': 'gbtree'}"
      ]
     },
     "execution_count": 271,
     "metadata": {},
     "output_type": "execute_result"
    }
   ],
   "source": [
    "xgbc_rkf_rgs.best_params_"
   ]
  },
  {
   "cell_type": "code",
   "execution_count": 272,
   "metadata": {},
   "outputs": [
    {
     "name": "stdout",
     "output_type": "stream",
     "text": [
      "0.8324022346368715\n"
     ]
    }
   ],
   "source": [
    "xgbc_rkf_rgs_best = xgbc_rkf_rgs.best_estimator_\n",
    "xgbc_rkf_rgs_pred = xgbc_rkf_rgs_best.predict(X_test)\n",
    "print(accuracy_score(y_test, xgbc_rkf_rgs_pred))"
   ]
  },
  {
   "cell_type": "markdown",
   "metadata": {},
   "source": [
    "#### repeated str kfold"
   ]
  },
  {
   "cell_type": "code",
   "execution_count": 273,
   "metadata": {},
   "outputs": [
    {
     "name": "stdout",
     "output_type": "stream",
     "text": [
      "sgb rsK-Fold 0번째 검증 정확도 : 0.8112\n",
      "sgb rsK-Fold 1번째 검증 정확도 : 0.7762\n",
      "sgb rsK-Fold 2번째 검증 정확도 : 0.8239\n",
      "sgb rsK-Fold 3번째 검증 정확도 : 0.8099\n",
      "sgb rsK-Fold 4번째 검증 정확도 : 0.8451\n",
      "sgb rsK-Fold 5번째 검증 정확도 : 0.8182\n",
      "sgb rsK-Fold 6번째 검증 정확도 : 0.8182\n",
      "sgb rsK-Fold 7번째 검증 정확도 : 0.8028\n",
      "sgb rsK-Fold 8번째 검증 정확도 : 0.8169\n",
      "sgb rsK-Fold 9번째 검증 정확도 : 0.8099\n",
      "sgb rsK-Fold 10번째 검증 정확도 : 0.7902\n",
      "sgb rsK-Fold 11번째 검증 정확도 : 0.8462\n",
      "sgb rsK-Fold 12번째 검증 정확도 : 0.8521\n",
      "sgb rsK-Fold 13번째 검증 정확도 : 0.8099\n",
      "sgb rsK-Fold 14번째 검증 정확도 : 0.8028\n",
      "sgb rsK-Fold 15번째 검증 정확도 : 0.7902\n",
      "sgb rsK-Fold 16번째 검증 정확도 : 0.7972\n",
      "sgb rsK-Fold 17번째 검증 정확도 : 0.8873\n",
      "sgb rsK-Fold 18번째 검증 정확도 : 0.8028\n",
      "sgb rsK-Fold 19번째 검증 정확도 : 0.8239\n",
      "sgb rsK-Fold 20번째 검증 정확도 : 0.7902\n",
      "sgb rsK-Fold 21번째 검증 정확도 : 0.8042\n",
      "sgb rsK-Fold 22번째 검증 정확도 : 0.8239\n",
      "sgb rsK-Fold 23번째 검증 정확도 : 0.8662\n",
      "sgb rsK-Fold 24번째 검증 정확도 : 0.7817\n",
      "sgb rsK-Fold 25번째 검증 정확도 : 0.7902\n",
      "sgb rsK-Fold 26번째 검증 정확도 : 0.7622\n",
      "sgb rsK-Fold 27번째 검증 정확도 : 0.7958\n",
      "sgb rsK-Fold 28번째 검증 정확도 : 0.8239\n",
      "sgb rsK-Fold 29번째 검증 정확도 : 0.8239\n",
      "sgb rsK-Fold 30번째 검증 정확도 : 0.8042\n",
      "sgb rsK-Fold 31번째 검증 정확도 : 0.8252\n",
      "sgb rsK-Fold 32번째 검증 정확도 : 0.8451\n",
      "sgb rsK-Fold 33번째 검증 정확도 : 0.7958\n",
      "sgb rsK-Fold 34번째 검증 정확도 : 0.7958\n",
      "sgb rsK-Fold 35번째 검증 정확도 : 0.8252\n",
      "sgb rsK-Fold 36번째 검증 정확도 : 0.7972\n",
      "sgb rsK-Fold 37번째 검증 정확도 : 0.8380\n",
      "sgb rsK-Fold 38번째 검증 정확도 : 0.7676\n",
      "sgb rsK-Fold 39번째 검증 정확도 : 0.7746\n",
      "sgb rsK-Fold 40번째 검증 정확도 : 0.7902\n",
      "sgb rsK-Fold 41번째 검증 정확도 : 0.8392\n",
      "sgb rsK-Fold 42번째 검증 정확도 : 0.8028\n",
      "sgb rsK-Fold 43번째 검증 정확도 : 0.8521\n",
      "sgb rsK-Fold 44번째 검증 정확도 : 0.7606\n",
      "sgb rsK-Fold 45번째 검증 정확도 : 0.8322\n",
      "sgb rsK-Fold 46번째 검증 정확도 : 0.8252\n",
      "sgb rsK-Fold 47번째 검증 정확도 : 0.8169\n",
      "sgb rsK-Fold 48번째 검증 정확도 : 0.7887\n",
      "sgb rsK-Fold 49번째 검증 정확도 : 0.8380\n",
      "xgb rsK-Fold 평균 정확도 : 0.8122348074460751\n"
     ]
    }
   ],
   "source": [
    "scores = cross_val_score(\n",
    "    xgbc,\n",
    "    X_train, y_train,\n",
    "    cv=rskfold,\n",
    "    scoring=\"accuracy\"\n",
    ")\n",
    "for iter_count, acc in enumerate(scores):\n",
    "    print(\"xgb rsK-Fold {0}번째 검증 정확도 : {1:.4f}\".format(iter_count,acc ))\n",
    "print(\"xgb rsK-Fold 평균 정확도 :\", scores.mean())"
   ]
  },
  {
   "cell_type": "code",
   "execution_count": 278,
   "metadata": {},
   "outputs": [
    {
     "name": "stdout",
     "output_type": "stream",
     "text": [
      "Fitting 50 folds for each of 10 candidates, totalling 500 fits\n"
     ]
    },
    {
     "name": "stderr",
     "output_type": "stream",
     "text": [
      "C:\\Users\\MEDICI\\Anaconda3\\lib\\site-packages\\sklearn\\model_selection\\_search.py:922: UserWarning: One or more of the test scores are non-finite: [       nan        nan 0.80254112 0.62065104 0.80802718 0.61657638\n",
      " 0.79536689 0.67091008 0.80647395 0.69957057]\n",
      "  warnings.warn(\n"
     ]
    },
    {
     "data": {
      "text/plain": [
       "RandomizedSearchCV(cv=RepeatedStratifiedKFold(n_repeats=10, n_splits=5, random_state=1234),\n",
       "                   estimator=XGBClassifier(base_score=None, booster=None,\n",
       "                                           colsample_bylevel=None,\n",
       "                                           colsample_bynode=None,\n",
       "                                           colsample_bytree=None,\n",
       "                                           enable_categorical=False,\n",
       "                                           eval_metric='error', gamma=None,\n",
       "                                           gpu_id=None, importance_type=None,\n",
       "                                           interaction_constraints=None,\n",
       "                                           learning_rate=None,\n",
       "                                           max_...\n",
       "                   param_distributions={'booster': ['gbtree', 'gblinear',\n",
       "                                                    'dart'],\n",
       "                                        'colsample_bytree': [0.3, 0.5, 0.7,\n",
       "                                                             0.9],\n",
       "                                        'gamma': [0, 0.1, 0.5],\n",
       "                                        'learning_rate': [0.01, 0.1, 0.3, 0.8],\n",
       "                                        'max_depth': [4, 6, 8, 10, 20],\n",
       "                                        'min_child_weight': [0.1, 0.5, 1, 5],\n",
       "                                        'n_estimators': [10, 50, 100, 300],\n",
       "                                        'reg_alpha': [0, 0.01, 0.1, 0.5, 1, 10],\n",
       "                                        'reg_lambda': [0, 0.01, 0.1, 0.5, 1,\n",
       "                                                       10],\n",
       "                                        'subsample': [0.5, 0.7, 0.9, 1.2]},\n",
       "                   random_state=1234, scoring='accuracy', verbose=2)"
      ]
     },
     "execution_count": 278,
     "metadata": {},
     "output_type": "execute_result"
    }
   ],
   "source": [
    "# random grid search용 테스트할 파라미터들\n",
    "parameters = {\n",
    "    #부스팅 : 이어달리기를 할건데 어떤 스타일의 선수`\n",
    "    \"booster\" : [\"gbtree\", \"gblinear\", \"dart\"],\n",
    "    \n",
    "    # 그러면 몇 명의 선수들을 선발해서 경기를 진행할지\n",
    "    # +얼마나 디테일하게 할지\n",
    "    \"n_estimators\" : [10,50,100,300],\n",
    "    \"learning_rate\" : [0.01, 0.1, 0.3, 0.8],\n",
    "    \n",
    "    # tree모형에 대한 조절\n",
    "    \"max_depth\" : [ 4, 6, 8, 10, 20],\n",
    "    \"min_child_weight\" : [0.1,0.5, 1, 5],\n",
    "    \"gamma\" : [ 0, 0.1, 0.5],  # 트리를 어느 이상 손실값 이상이면 트리를 분할할지..  \n",
    "    \n",
    "    # 샘플링쪽에서 컨트롤\n",
    "    \"subsample\" : [ 0.5, 0.7, 0.9, 1.2],\n",
    "    \"colsample_bytree\" : [0.3, 0.5, 0.7, 0.9],\n",
    "    \n",
    "    # 규약\n",
    "    \"reg_alpha\" : [0, 0.01, 0.1, 0.5, 1, 10],  # 규약을 안 쓰는 경우 0\n",
    "    \"reg_lambda\" : [0, 0.01, 0.1, 0.5, 1, 10]\n",
    "    \n",
    "}\n",
    "\n",
    "n_iter_search = 10\n",
    "\n",
    "xgbc_rskf_rgs = RandomizedSearchCV(\n",
    "    xgbc, param_distributions = parameters,\n",
    "    cv = rskfold, scoring=\"accuracy\",\n",
    "    n_jobs = -1, random_state=1234,\n",
    "    n_iter= n_iter_search, verbose=2\n",
    ")\n",
    "\n",
    "# xgbc 버전에 따라서 간혹 에러가 날 때에는 # xgbc_kf_rgs.fit(np.ascontiguousarray(X_train),np.ascontiguousarray(y_train))\n",
    "xgbc_rskf_rgs.fit(X_train, y_train)"
   ]
  },
  {
   "cell_type": "code",
   "execution_count": 275,
   "metadata": {},
   "outputs": [
    {
     "data": {
      "text/plain": [
       "0.8216339998030139"
      ]
     },
     "execution_count": 275,
     "metadata": {},
     "output_type": "execute_result"
    }
   ],
   "source": [
    "xgbc_rskf_rgs.best_score_"
   ]
  },
  {
   "cell_type": "code",
   "execution_count": 276,
   "metadata": {},
   "outputs": [
    {
     "data": {
      "text/plain": [
       "{'subsample': 0.9,\n",
       " 'reg_lambda': 10,\n",
       " 'reg_alpha': 0.01,\n",
       " 'n_estimators': 50,\n",
       " 'min_child_weight': 0.5,\n",
       " 'max_depth': 8,\n",
       " 'learning_rate': 0.1,\n",
       " 'gamma': 0,\n",
       " 'colsample_bytree': 0.9,\n",
       " 'booster': 'gbtree'}"
      ]
     },
     "execution_count": 276,
     "metadata": {},
     "output_type": "execute_result"
    }
   ],
   "source": [
    "xgbc_rskf_rgs.best_params_"
   ]
  },
  {
   "cell_type": "code",
   "execution_count": 277,
   "metadata": {},
   "outputs": [
    {
     "name": "stdout",
     "output_type": "stream",
     "text": [
      "0.8324022346368715\n"
     ]
    }
   ],
   "source": [
    "xgbc_rskf_rgs_best = xgbc_rskf_rgs.best_estimator_\n",
    "xgbc_rskf_rgs_pred = xgbc_rskf_rgs_best.predict(X_test)\n",
    "print(accuracy_score(y_test, xgbc_rskf_rgs_pred))"
   ]
  },
  {
   "cell_type": "code",
   "execution_count": null,
   "metadata": {},
   "outputs": [],
   "source": []
  },
  {
   "cell_type": "markdown",
   "metadata": {},
   "source": [
    "### LightGBM : 사전에 설치 필요"
   ]
  },
  {
   "cell_type": "code",
   "execution_count": 198,
   "metadata": {},
   "outputs": [],
   "source": [
    "from lightgbm import LGBMClassifier"
   ]
  },
  {
   "cell_type": "code",
   "execution_count": 199,
   "metadata": {},
   "outputs": [],
   "source": [
    "lgbm = LGBMClassifier( random_state =1234, n_jobs = -1)"
   ]
  },
  {
   "cell_type": "markdown",
   "metadata": {},
   "source": [
    "#### kfold"
   ]
  },
  {
   "cell_type": "code",
   "execution_count": 200,
   "metadata": {},
   "outputs": [
    {
     "name": "stdout",
     "output_type": "stream",
     "text": [
      "lgbm K-Fold 0번째 검증 정확도 : 0.8252\n",
      "lgbm K-Fold 1번째 검증 정확도 : 0.8531\n",
      "lgbm K-Fold 2번째 검증 정확도 : 0.8028\n",
      "lgbm K-Fold 3번째 검증 정확도 : 0.8099\n",
      "lgbm K-Fold 4번째 검증 정확도 : 0.8451\n",
      "lgbm K-Fold 평균 정확도 : 0.8272136314389836\n"
     ]
    }
   ],
   "source": [
    "scores = cross_val_score(\n",
    "    lgbm,\n",
    "    X_train, y_train,\n",
    "    cv=kfold,\n",
    "    scoring=\"accuracy\"\n",
    ")\n",
    "for iter_count, acc in enumerate(scores):\n",
    "    print(\"lgbm K-Fold {0}번째 검증 정확도 : {1:.4f}\".format(iter_count,acc ))\n",
    "print(\"lgbm K-Fold 평균 정확도 :\", scores.mean())"
   ]
  },
  {
   "cell_type": "code",
   "execution_count": null,
   "metadata": {},
   "outputs": [],
   "source": [
    "# lightGBM -> baseline : 0.78 ~ 0.82정도로 체크를 하고\n",
    "# 최고로 0.8666까지 갈 수도 있지 않을까?"
   ]
  },
  {
   "cell_type": "code",
   "execution_count": 204,
   "metadata": {},
   "outputs": [
    {
     "name": "stdout",
     "output_type": "stream",
     "text": [
      "Fitting 5 folds for each of 100 candidates, totalling 500 fits\n",
      "[LightGBM] [Warning] Unknown parameter: booster\n"
     ]
    },
    {
     "data": {
      "text/plain": [
       "RandomizedSearchCV(cv=KFold(n_splits=5, random_state=1234, shuffle=True),\n",
       "                   estimator=LGBMClassifier(random_state=1234), n_iter=100,\n",
       "                   n_jobs=-1,\n",
       "                   param_distributions={'booster': ['gbdt', 'goss', 'dart',\n",
       "                                                    'rf'],\n",
       "                                        'learning_rate': [0.3, 0.2, 0.4],\n",
       "                                        'max_depth': [9, 10, 11],\n",
       "                                        'min_child_weight': [1, 0.9, 0.8],\n",
       "                                        'n_estimators': [50, 100, 300],\n",
       "                                        'reg_alpha': [0, 0.01],\n",
       "                                        'reg_lambda': [0, 10]},\n",
       "                   random_state=1234, scoring='accuracy', verbose=2)"
      ]
     },
     "execution_count": 204,
     "metadata": {},
     "output_type": "execute_result"
    }
   ],
   "source": [
    "lgbm = LGBMClassifier(\n",
    "    random_state=1234,\n",
    "    n_jobs = -1\n",
    ")\n",
    "\n",
    "parameters ={\n",
    "    # 부스팅 : 이어달리기를 할 것입니다~어떤 스타일의 선수~~\n",
    "    #\"boosting_type\" : [\"gbdt\",\"goss\",\"dart\",\"rf\"],\n",
    "\n",
    "    # 그러면 몇 명의 선수를 선발해서 경기를 진행을 할지!!!\n",
    "    # + 얼머나 디테일하게 할지 \n",
    "    \"n_estimators\" : [50,100, 300],\n",
    "    \"learning_rate\" : [0.3, 0.2, 0.4], #overfit\n",
    "\n",
    "    # tree 모형에 대한 조절 : overfit\n",
    "    \"max_depth\" :[ 9,10,11],\n",
    "    \"min_child_weight\": [1,0.9,0.8],\n",
    "\n",
    "    # 규약!!!\n",
    "    \"reg_alpha\":[0, 0.01] , # 규약을 안 쓰는 경우 0, \n",
    "    \"reg_lambda\":[0, 10]\n",
    "}\n",
    "\n",
    "n_iter_search = 100\n",
    "\n",
    "lgbm_kf_rgs = RandomizedSearchCV(\n",
    "    lgbm, param_distributions = parameters,\n",
    "    cv = kfold, scoring=\"accuracy\",\n",
    "    n_jobs = -1, random_state=1234,\n",
    "    n_iter= n_iter_search, verbose=2\n",
    ")\n",
    "\n",
    "lgbm_kf_rgs.fit(X_train, y_train)\n"
   ]
  },
  {
   "cell_type": "code",
   "execution_count": 205,
   "metadata": {},
   "outputs": [
    {
     "data": {
      "text/plain": [
       "0.8370136905348172"
      ]
     },
     "execution_count": 205,
     "metadata": {},
     "output_type": "execute_result"
    }
   ],
   "source": [
    "lgbm_kf_rgs.best_score_"
   ]
  },
  {
   "cell_type": "code",
   "execution_count": 206,
   "metadata": {},
   "outputs": [
    {
     "data": {
      "text/plain": [
       "{'reg_lambda': 10,\n",
       " 'reg_alpha': 0.01,\n",
       " 'n_estimators': 50,\n",
       " 'min_child_weight': 1,\n",
       " 'max_depth': 9,\n",
       " 'learning_rate': 0.4,\n",
       " 'booster': 'dart'}"
      ]
     },
     "execution_count": 206,
     "metadata": {},
     "output_type": "execute_result"
    }
   ],
   "source": [
    "lgbm_kf_rgs.best_params_"
   ]
  },
  {
   "cell_type": "code",
   "execution_count": 207,
   "metadata": {},
   "outputs": [
    {
     "name": "stdout",
     "output_type": "stream",
     "text": [
      "0.8379888268156425\n"
     ]
    }
   ],
   "source": [
    "lgbm_kf_rgs_best = lgbm_kf_rgs.best_estimator_\n",
    "lgbm_kf_rgs_pred = lgbm_kf_rgs_best.predict(X_test)\n",
    "print(accuracy_score(y_test,lgbm_kf_rgs_pred))"
   ]
  },
  {
   "cell_type": "code",
   "execution_count": 208,
   "metadata": {},
   "outputs": [
    {
     "data": {
      "text/plain": [
       "LGBMClassifier(booster='dart', learning_rate=0.4, max_depth=9,\n",
       "               min_child_weight=1, n_estimators=50, random_state=1234,\n",
       "               reg_alpha=0.01, reg_lambda=10)"
      ]
     },
     "execution_count": 208,
     "metadata": {},
     "output_type": "execute_result"
    }
   ],
   "source": [
    "lgbm_kf_rgs_best"
   ]
  },
  {
   "cell_type": "code",
   "execution_count": 209,
   "metadata": {},
   "outputs": [
    {
     "data": {
      "text/plain": [
       "XGBClassifier(base_score=0.5, booster='gbtree', colsample_bylevel=1,\n",
       "              colsample_bynode=1, colsample_bytree=0.7,\n",
       "              enable_categorical=False, eval_metric='error', gamma=0, gpu_id=-1,\n",
       "              importance_type=None, interaction_constraints='',\n",
       "              learning_rate=0.3, max_delta_step=0, max_depth=10,\n",
       "              min_child_weight=1, missing=nan, monotone_constraints='()',\n",
       "              n_estimators=100, n_jobs=-1, num_parallel_tree=1,\n",
       "              predictor='auto', random_state=1234, reg_alpha=0.01,\n",
       "              reg_lambda=10, scale_pos_weight=1, subsample=0.7,\n",
       "              tree_method='exact', use_label_encoder=False,\n",
       "              validate_parameters=1, verbosity=None)"
      ]
     },
     "execution_count": 209,
     "metadata": {},
     "output_type": "execute_result"
    }
   ],
   "source": [
    "xgbc_kf_rgs_best"
   ]
  },
  {
   "cell_type": "code",
   "execution_count": 210,
   "metadata": {},
   "outputs": [
    {
     "data": {
      "text/plain": [
       "RandomForestClassifier(max_depth=30, max_features='log2', min_samples_leaf=5,\n",
       "                       min_samples_split=28, n_estimators=300, n_jobs=-1,\n",
       "                       random_state=1234)"
      ]
     },
     "execution_count": 210,
     "metadata": {},
     "output_type": "execute_result"
    }
   ],
   "source": [
    "rf_kf_gs_best"
   ]
  },
  {
   "cell_type": "markdown",
   "metadata": {},
   "source": [
    "#### str_kfold"
   ]
  },
  {
   "cell_type": "code",
   "execution_count": 279,
   "metadata": {},
   "outputs": [
    {
     "name": "stdout",
     "output_type": "stream",
     "text": [
      "lgbm K-Fold 0번째 검증 정확도 : 0.7972\n",
      "lgbm K-Fold 1번째 검증 정확도 : 0.7902\n",
      "lgbm K-Fold 2번째 검증 정확도 : 0.8662\n",
      "lgbm K-Fold 3번째 검증 정확도 : 0.8380\n",
      "lgbm K-Fold 4번째 검증 정확도 : 0.8662\n",
      "lgbm K-Fold 평균 정확도 : 0.8315670245247709\n"
     ]
    }
   ],
   "source": [
    "scores = cross_val_score(\n",
    "    lgbm,\n",
    "    X_train, y_train,\n",
    "    cv=str_kfold,\n",
    "    scoring=\"accuracy\"\n",
    ")\n",
    "for iter_count, acc in enumerate(scores):\n",
    "    print(\"lgbm K-Fold {0}번째 검증 정확도 : {1:.4f}\".format(iter_count,acc ))\n",
    "print(\"lgbm K-Fold 평균 정확도 :\", scores.mean())"
   ]
  },
  {
   "cell_type": "code",
   "execution_count": 288,
   "metadata": {},
   "outputs": [
    {
     "name": "stdout",
     "output_type": "stream",
     "text": [
      "Fitting 5 folds for each of 100 candidates, totalling 500 fits\n"
     ]
    },
    {
     "data": {
      "text/plain": [
       "RandomizedSearchCV(cv=StratifiedKFold(n_splits=5, random_state=1234, shuffle=True),\n",
       "                   estimator=LGBMClassifier(random_state=1234), n_iter=100,\n",
       "                   n_jobs=-1,\n",
       "                   param_distributions={'learning_rate': [0.3, 0.2, 0.4],\n",
       "                                        'max_depth': [7, 9, 10, 11],\n",
       "                                        'min_child_weight': [3, 1, 0.9],\n",
       "                                        'n_estimators': [30, 50, 100],\n",
       "                                        'reg_alpha': [0, 0.01, 0.1],\n",
       "                                        'reg_lambda': [0, 5, 10, 12]},\n",
       "                   random_state=1234, scoring='accuracy', verbose=2)"
      ]
     },
     "execution_count": 288,
     "metadata": {},
     "output_type": "execute_result"
    }
   ],
   "source": [
    "lgbm = LGBMClassifier(\n",
    "    random_state=1234,\n",
    "    n_jobs = -1\n",
    ")\n",
    "\n",
    "parameters ={\n",
    "    # 부스팅 : 이어달리기를 할 것입니다~어떤 스타일의 선수~~\n",
    "    #\"boosting_type\" : [\"gbdt\",\"goss\",\"dart\",\"rf\"],\n",
    "\n",
    "    # 그러면 몇 명의 선수를 선발해서 경기를 진행을 할지!!!\n",
    "    # + 얼머나 디테일하게 할지 \n",
    "    \"n_estimators\" : [30,50,100],\n",
    "    \"learning_rate\" : [0.3, 0.2, 0.4], #overfit\n",
    "\n",
    "    # tree 모형에 대한 조절 : overfit\n",
    "    \"max_depth\" :[ 7,9,10,11],\n",
    "    \"min_child_weight\": [3,1,0.9],\n",
    "\n",
    "    # 규약!!!\n",
    "    \"reg_alpha\":[0, 0.01,0.1] , # 규약을 안 쓰는 경우 0, \n",
    "    \"reg_lambda\":[0, 5,10,12]\n",
    "}\n",
    "\n",
    "n_iter_search = 100\n",
    "\n",
    "lgbm_str_kf_rgs = RandomizedSearchCV(\n",
    "    lgbm, param_distributions = parameters,\n",
    "    cv = str_kfold, scoring=\"accuracy\",\n",
    "    n_jobs = -1, random_state=1234,\n",
    "    n_iter= n_iter_search, verbose=2\n",
    ")\n",
    "\n",
    "lgbm_str_kf_rgs.fit(X_train, y_train)"
   ]
  },
  {
   "cell_type": "code",
   "execution_count": 343,
   "metadata": {},
   "outputs": [
    {
     "data": {
      "text/plain": [
       "0.8385403329065302"
      ]
     },
     "execution_count": 343,
     "metadata": {},
     "output_type": "execute_result"
    }
   ],
   "source": [
    "lgbm_str_kf_rgs.best_score_"
   ]
  },
  {
   "cell_type": "code",
   "execution_count": 344,
   "metadata": {},
   "outputs": [
    {
     "data": {
      "text/plain": [
       "{'reg_lambda': 5,\n",
       " 'reg_alpha': 0,\n",
       " 'n_estimators': 100,\n",
       " 'min_child_weight': 1,\n",
       " 'max_depth': 11,\n",
       " 'learning_rate': 0.3}"
      ]
     },
     "execution_count": 344,
     "metadata": {},
     "output_type": "execute_result"
    }
   ],
   "source": [
    "lgbm_str_kf_rgs.best_params_"
   ]
  },
  {
   "cell_type": "code",
   "execution_count": 345,
   "metadata": {},
   "outputs": [
    {
     "name": "stdout",
     "output_type": "stream",
     "text": [
      "0.8268156424581006\n"
     ]
    }
   ],
   "source": [
    "lgbm_str_kf_rgs_best = lgbm_str_kf_rgs.best_estimator_\n",
    "lgbm_str_kf_rgs_pred = lgbm_str_kf_rgs_best.predict(X_test)\n",
    "print(accuracy_score(y_test,lgbm_str_kf_rgs_pred))"
   ]
  },
  {
   "cell_type": "markdown",
   "metadata": {},
   "source": [
    "#### reapeated kfold"
   ]
  },
  {
   "cell_type": "code",
   "execution_count": 292,
   "metadata": {},
   "outputs": [
    {
     "name": "stdout",
     "output_type": "stream",
     "text": [
      "lgbm reapted K-Fold 0번째 검증 정확도 : 0.8252\n",
      "lgbm reapted K-Fold 1번째 검증 정확도 : 0.8531\n",
      "lgbm reapted K-Fold 2번째 검증 정확도 : 0.8028\n",
      "lgbm reapted K-Fold 3번째 검증 정확도 : 0.8099\n",
      "lgbm reapted K-Fold 4번째 검증 정확도 : 0.8451\n",
      "lgbm reapted K-Fold 5번째 검증 정확도 : 0.8462\n",
      "lgbm reapted K-Fold 6번째 검증 정확도 : 0.7762\n",
      "lgbm reapted K-Fold 7번째 검증 정확도 : 0.8451\n",
      "lgbm reapted K-Fold 8번째 검증 정확도 : 0.8662\n",
      "lgbm reapted K-Fold 9번째 검증 정확도 : 0.7958\n",
      "lgbm reapted K-Fold 10번째 검증 정확도 : 0.8252\n",
      "lgbm reapted K-Fold 11번째 검증 정확도 : 0.8322\n",
      "lgbm reapted K-Fold 12번째 검증 정확도 : 0.7465\n",
      "lgbm reapted K-Fold 13번째 검증 정확도 : 0.8028\n",
      "lgbm reapted K-Fold 14번째 검증 정확도 : 0.8169\n",
      "lgbm reapted K-Fold 15번째 검증 정확도 : 0.8322\n",
      "lgbm reapted K-Fold 16번째 검증 정확도 : 0.7832\n",
      "lgbm reapted K-Fold 17번째 검증 정확도 : 0.8521\n",
      "lgbm reapted K-Fold 18번째 검증 정확도 : 0.7958\n",
      "lgbm reapted K-Fold 19번째 검증 정확도 : 0.7958\n",
      "lgbm reapted K-Fold 20번째 검증 정확도 : 0.8462\n",
      "lgbm reapted K-Fold 21번째 검증 정확도 : 0.8252\n",
      "lgbm reapted K-Fold 22번째 검증 정확도 : 0.8521\n",
      "lgbm reapted K-Fold 23번째 검증 정확도 : 0.8028\n",
      "lgbm reapted K-Fold 24번째 검증 정확도 : 0.7746\n",
      "lgbm reapted K-Fold 25번째 검증 정확도 : 0.7692\n",
      "lgbm reapted K-Fold 26번째 검증 정확도 : 0.8671\n",
      "lgbm reapted K-Fold 27번째 검증 정확도 : 0.8662\n",
      "lgbm reapted K-Fold 28번째 검증 정확도 : 0.8662\n",
      "lgbm reapted K-Fold 29번째 검증 정확도 : 0.7958\n",
      "lgbm reapted K-Fold 30번째 검증 정확도 : 0.8252\n",
      "lgbm reapted K-Fold 31번째 검증 정확도 : 0.8462\n",
      "lgbm reapted K-Fold 32번째 검증 정확도 : 0.8310\n",
      "lgbm reapted K-Fold 33번째 검증 정확도 : 0.8239\n",
      "lgbm reapted K-Fold 34번째 검증 정확도 : 0.7676\n",
      "lgbm reapted K-Fold 35번째 검증 정확도 : 0.8322\n",
      "lgbm reapted K-Fold 36번째 검증 정확도 : 0.8182\n",
      "lgbm reapted K-Fold 37번째 검증 정확도 : 0.7606\n",
      "lgbm reapted K-Fold 38번째 검증 정확도 : 0.7958\n",
      "lgbm reapted K-Fold 39번째 검증 정확도 : 0.8380\n",
      "lgbm reapted K-Fold 40번째 검증 정확도 : 0.8182\n",
      "lgbm reapted K-Fold 41번째 검증 정확도 : 0.8042\n",
      "lgbm reapted K-Fold 42번째 검증 정확도 : 0.8521\n",
      "lgbm reapted K-Fold 43번째 검증 정확도 : 0.8028\n",
      "lgbm reapted K-Fold 44번째 검증 정확도 : 0.8099\n",
      "lgbm reapted K-Fold 45번째 검증 정확도 : 0.7622\n",
      "lgbm reapted K-Fold 46번째 검증 정확도 : 0.8392\n",
      "lgbm reapted K-Fold 47번째 검증 정확도 : 0.8099\n",
      "lgbm reapted K-Fold 48번째 검증 정확도 : 0.8380\n",
      "lgbm reapted K-Fold 49번째 검증 정확도 : 0.7958\n",
      "lgbm reapted K-Fold 평균 정확도 : 0.8176863981089335\n"
     ]
    }
   ],
   "source": [
    "scores = cross_val_score(\n",
    "    lgbm,\n",
    "    X_train, y_train,\n",
    "    cv=rkfold,\n",
    "    scoring=\"accuracy\"\n",
    ")\n",
    "for iter_count, acc in enumerate(scores):\n",
    "    print(\"lgbm reapted K-Fold {0}번째 검증 정확도 : {1:.4f}\".format(iter_count,acc ))\n",
    "print(\"lgbm reapted K-Fold 평균 정확도 :\", scores.mean())"
   ]
  },
  {
   "cell_type": "code",
   "execution_count": 320,
   "metadata": {},
   "outputs": [
    {
     "name": "stdout",
     "output_type": "stream",
     "text": [
      "Fitting 50 folds for each of 100 candidates, totalling 5000 fits\n"
     ]
    },
    {
     "data": {
      "text/plain": [
       "RandomizedSearchCV(cv=RepeatedKFold(n_repeats=10, n_splits=5, random_state=1234),\n",
       "                   estimator=LGBMClassifier(random_state=1234), n_iter=100,\n",
       "                   n_jobs=-1,\n",
       "                   param_distributions={'learning_rate': [0.1, 0.3, 0.2, 0.4],\n",
       "                                        'max_depth': [11, 12, 13, 14, 15],\n",
       "                                        'min_child_weight': [1, 0.9, 0.8],\n",
       "                                        'n_estimators': [30, 50, 100, 300],\n",
       "                                        'reg_alpha': [0, 0.01],\n",
       "                                        'reg_lambda': [0, 10]},\n",
       "                   random_state=1234, scoring='accuracy', verbose=2)"
      ]
     },
     "execution_count": 320,
     "metadata": {},
     "output_type": "execute_result"
    }
   ],
   "source": [
    "lgbm = LGBMClassifier(\n",
    "    random_state=1234,\n",
    "    n_jobs = -1\n",
    ")\n",
    "\n",
    "parameters ={\n",
    "    # 부스팅 : 이어달리기를 할 것입니다~어떤 스타일의 선수~~\n",
    "    #\"boosting_type\" : [\"gbdt\",\"goss\",\"dart\",\"rf\"],\n",
    "\n",
    "    # 그러면 몇 명의 선수를 선발해서 경기를 진행을 할지!!!\n",
    "    # + 얼머나 디테일하게 할지 \n",
    "    \"n_estimators\" : [30,50,100, 300],\n",
    "    \"learning_rate\" : [0.1,0.3, 0.2, 0.4], #overfit\n",
    "\n",
    "    # tree 모형에 대한 조절 : overfit\n",
    "    \"max_depth\" :[11,12,13,14,15],\n",
    "    \"min_child_weight\": [1,0.9,0.8],\n",
    "\n",
    "    # 규약!!!\n",
    "    \"reg_alpha\":[0, 0.01] , # 규약을 안 쓰는 경우 0, \n",
    "    \"reg_lambda\":[0, 10]\n",
    "}\n",
    "\n",
    "n_iter_search = 100\n",
    "\n",
    "lgbm_rkf_rgs = RandomizedSearchCV(\n",
    "    lgbm, param_distributions = parameters,\n",
    "    cv = rkfold, scoring=\"accuracy\",\n",
    "    n_jobs = -1, random_state=1234,\n",
    "    n_iter= n_iter_search, verbose=2\n",
    ")\n",
    "\n",
    "lgbm_rkf_rgs.fit(X_train, y_train)"
   ]
  },
  {
   "cell_type": "code",
   "execution_count": 321,
   "metadata": {},
   "outputs": [
    {
     "data": {
      "text/plain": [
       "0.828507830197971"
      ]
     },
     "execution_count": 321,
     "metadata": {},
     "output_type": "execute_result"
    }
   ],
   "source": [
    "lgbm_rkf_rgs.best_score_"
   ]
  },
  {
   "cell_type": "code",
   "execution_count": 322,
   "metadata": {},
   "outputs": [
    {
     "data": {
      "text/plain": [
       "{'reg_lambda': 0,\n",
       " 'reg_alpha': 0.01,\n",
       " 'n_estimators': 50,\n",
       " 'min_child_weight': 0.9,\n",
       " 'max_depth': 13,\n",
       " 'learning_rate': 0.1}"
      ]
     },
     "execution_count": 322,
     "metadata": {},
     "output_type": "execute_result"
    }
   ],
   "source": [
    "lgbm_rkf_rgs.best_params_"
   ]
  },
  {
   "cell_type": "code",
   "execution_count": 323,
   "metadata": {},
   "outputs": [
    {
     "name": "stdout",
     "output_type": "stream",
     "text": [
      "0.8212290502793296\n"
     ]
    }
   ],
   "source": [
    "lgbm_rkf_rgs_best = lgbm_rkf_rgs.best_estimator_\n",
    "lgbm_rkf_rgs_pred = lgbm_rkf_rgs_best.predict(X_test)\n",
    "print(accuracy_score(y_test,lgbm_rkf_rgs_pred))"
   ]
  },
  {
   "cell_type": "markdown",
   "metadata": {},
   "source": [
    "#### repeated str kfold"
   ]
  },
  {
   "cell_type": "code",
   "execution_count": 301,
   "metadata": {},
   "outputs": [
    {
     "name": "stdout",
     "output_type": "stream",
     "text": [
      "lgbm reapted str K-Fold 0번째 검증 정확도 : 0.7972\n",
      "lgbm reapted str K-Fold 1번째 검증 정확도 : 0.7902\n",
      "lgbm reapted str K-Fold 2번째 검증 정확도 : 0.8662\n",
      "lgbm reapted str K-Fold 3번째 검증 정확도 : 0.8380\n",
      "lgbm reapted str K-Fold 4번째 검증 정확도 : 0.8662\n",
      "lgbm reapted str K-Fold 5번째 검증 정확도 : 0.8322\n",
      "lgbm reapted str K-Fold 6번째 검증 정확도 : 0.8182\n",
      "lgbm reapted str K-Fold 7번째 검증 정확도 : 0.8310\n",
      "lgbm reapted str K-Fold 8번째 검증 정확도 : 0.8169\n",
      "lgbm reapted str K-Fold 9번째 검증 정확도 : 0.8521\n",
      "lgbm reapted str K-Fold 10번째 검증 정확도 : 0.8112\n",
      "lgbm reapted str K-Fold 11번째 검증 정확도 : 0.8531\n",
      "lgbm reapted str K-Fold 12번째 검증 정확도 : 0.8451\n",
      "lgbm reapted str K-Fold 13번째 검증 정확도 : 0.8310\n",
      "lgbm reapted str K-Fold 14번째 검증 정확도 : 0.8169\n",
      "lgbm reapted str K-Fold 15번째 검증 정확도 : 0.8112\n",
      "lgbm reapted str K-Fold 16번째 검증 정확도 : 0.7972\n",
      "lgbm reapted str K-Fold 17번째 검증 정확도 : 0.8662\n",
      "lgbm reapted str K-Fold 18번째 검증 정확도 : 0.8099\n",
      "lgbm reapted str K-Fold 19번째 검증 정확도 : 0.8592\n",
      "lgbm reapted str K-Fold 20번째 검증 정확도 : 0.8042\n",
      "lgbm reapted str K-Fold 21번째 검증 정확도 : 0.8322\n",
      "lgbm reapted str K-Fold 22번째 검증 정확도 : 0.8310\n",
      "lgbm reapted str K-Fold 23번째 검증 정확도 : 0.8592\n",
      "lgbm reapted str K-Fold 24번째 검증 정확도 : 0.8310\n",
      "lgbm reapted str K-Fold 25번째 검증 정확도 : 0.8182\n",
      "lgbm reapted str K-Fold 26번째 검증 정확도 : 0.8042\n",
      "lgbm reapted str K-Fold 27번째 검증 정확도 : 0.8310\n",
      "lgbm reapted str K-Fold 28번째 검증 정확도 : 0.8169\n",
      "lgbm reapted str K-Fold 29번째 검증 정확도 : 0.8239\n",
      "lgbm reapted str K-Fold 30번째 검증 정확도 : 0.7972\n",
      "lgbm reapted str K-Fold 31번째 검증 정확도 : 0.8601\n",
      "lgbm reapted str K-Fold 32번째 검증 정확도 : 0.8521\n",
      "lgbm reapted str K-Fold 33번째 검증 정확도 : 0.8028\n",
      "lgbm reapted str K-Fold 34번째 검증 정확도 : 0.8169\n",
      "lgbm reapted str K-Fold 35번째 검증 정확도 : 0.8601\n",
      "lgbm reapted str K-Fold 36번째 검증 정확도 : 0.8042\n",
      "lgbm reapted str K-Fold 37번째 검증 정확도 : 0.8662\n",
      "lgbm reapted str K-Fold 38번째 검증 정확도 : 0.7887\n",
      "lgbm reapted str K-Fold 39번째 검증 정확도 : 0.7887\n",
      "lgbm reapted str K-Fold 40번째 검증 정확도 : 0.7622\n",
      "lgbm reapted str K-Fold 41번째 검증 정확도 : 0.8462\n",
      "lgbm reapted str K-Fold 42번째 검증 정확도 : 0.7746\n",
      "lgbm reapted str K-Fold 43번째 검증 정확도 : 0.8873\n",
      "lgbm reapted str K-Fold 44번째 검증 정확도 : 0.7394\n",
      "lgbm reapted str K-Fold 45번째 검증 정확도 : 0.8531\n",
      "lgbm reapted str K-Fold 46번째 검증 정확도 : 0.8182\n",
      "lgbm reapted str K-Fold 47번째 검증 정확도 : 0.8169\n",
      "lgbm reapted str K-Fold 48번째 검증 정확도 : 0.8028\n",
      "lgbm reapted str K-Fold 49번째 검증 정확도 : 0.8451\n",
      "lgbm repteated str K-Fold 평균 정확도 : 0.8248773761449817\n"
     ]
    }
   ],
   "source": [
    "scores = cross_val_score(\n",
    "    lgbm,\n",
    "    X_train, y_train,\n",
    "    cv=rskfold,\n",
    "    scoring=\"accuracy\"\n",
    ")\n",
    "for iter_count, acc in enumerate(scores):\n",
    "    print(\"lgbm reapted str K-Fold {0}번째 검증 정확도 : {1:.4f}\".format(iter_count,acc ))\n",
    "print(\"lgbm repteated str K-Fold 평균 정확도 :\", scores.mean())"
   ]
  },
  {
   "cell_type": "code",
   "execution_count": 335,
   "metadata": {},
   "outputs": [
    {
     "name": "stdout",
     "output_type": "stream",
     "text": [
      "Fitting 50 folds for each of 100 candidates, totalling 5000 fits\n"
     ]
    },
    {
     "data": {
      "text/plain": [
       "RandomizedSearchCV(cv=RepeatedStratifiedKFold(n_repeats=10, n_splits=5, random_state=1234),\n",
       "                   estimator=LGBMClassifier(random_state=1234), n_iter=100,\n",
       "                   n_jobs=-1,\n",
       "                   param_distributions={'learning_rate': [0.3, 0.2, 0.4],\n",
       "                                        'max_depth': [10, 11, 12, 13],\n",
       "                                        'min_child_weight': [1, 0.8, 0.6],\n",
       "                                        'n_estimators': [30, 40, 50, 100],\n",
       "                                        'reg_alpha': [0, 0.01],\n",
       "                                        'reg_lambda': [0, 10]},\n",
       "                   random_state=1234, scoring='accuracy', verbose=2)"
      ]
     },
     "execution_count": 335,
     "metadata": {},
     "output_type": "execute_result"
    }
   ],
   "source": [
    "lgbm = LGBMClassifier(\n",
    "    random_state=1234,\n",
    "    n_jobs = -1\n",
    ")\n",
    "\n",
    "parameters ={\n",
    "    # 부스팅 : 이어달리기를 할 것입니다~어떤 스타일의 선수~~\n",
    "    #\"boosting_type\" : [\"gbdt\",\"goss\",\"dart\",\"rf\"],\n",
    "\n",
    "    # 그러면 몇 명의 선수를 선발해서 경기를 진행을 할지!!!\n",
    "    # + 얼머나 디테일하게 할지 \n",
    "    \"n_estimators\" : [30,40,50,100],\n",
    "    \"learning_rate\" : [0.3, 0.2, 0.4], #overfit\n",
    "\n",
    "    # tree 모형에 대한 조절 : overfit\n",
    "    \"max_depth\" :[ 10,11,12,13],\n",
    "    \"min_child_weight\": [1,0.8,0.6],\n",
    "\n",
    "    # 규약!!!\n",
    "    \"reg_alpha\":[0, 0.01] , # 규약을 안 쓰는 경우 0, \n",
    "    \"reg_lambda\":[0, 10]\n",
    "}\n",
    "\n",
    "n_iter_search = 100\n",
    "\n",
    "lgbm_rskf_rgs = RandomizedSearchCV(\n",
    "    lgbm, param_distributions = parameters,\n",
    "    cv = rskfold, scoring=\"accuracy\",\n",
    "    n_jobs = -1, random_state=1234,\n",
    "    n_iter= n_iter_search, verbose=2\n",
    ")\n",
    "\n",
    "lgbm_rskf_rgs.fit(X_train, y_train)"
   ]
  },
  {
   "cell_type": "code",
   "execution_count": 336,
   "metadata": {},
   "outputs": [
    {
     "data": {
      "text/plain": [
       "0.8337181128730424"
      ]
     },
     "execution_count": 336,
     "metadata": {},
     "output_type": "execute_result"
    }
   ],
   "source": [
    "lgbm_rskf_rgs.best_score_"
   ]
  },
  {
   "cell_type": "code",
   "execution_count": 337,
   "metadata": {},
   "outputs": [
    {
     "data": {
      "text/plain": [
       "{'reg_lambda': 0,\n",
       " 'reg_alpha': 0.01,\n",
       " 'n_estimators': 30,\n",
       " 'min_child_weight': 1,\n",
       " 'max_depth': 10,\n",
       " 'learning_rate': 0.2}"
      ]
     },
     "execution_count": 337,
     "metadata": {},
     "output_type": "execute_result"
    }
   ],
   "source": [
    "lgbm_rskf_rgs.best_params_"
   ]
  },
  {
   "cell_type": "code",
   "execution_count": 338,
   "metadata": {},
   "outputs": [
    {
     "name": "stdout",
     "output_type": "stream",
     "text": [
      "0.8212290502793296\n"
     ]
    }
   ],
   "source": [
    "lgbm_rskf_rgs_best = lgbm_rskf_rgs.best_estimator_\n",
    "lgbm_rskf_rgs_pred = lgbm_rskf_rgs_best.predict(X_test)\n",
    "print(accuracy_score(y_test,lgbm_rskf_rgs_pred))"
   ]
  },
  {
   "cell_type": "code",
   "execution_count": null,
   "metadata": {},
   "outputs": [],
   "source": [
    "joblib.dump(xgbc_kf_rgs_best, \"yj_xgbc_kf_rgs_best.pkl\")\n",
    "joblib.dump(xgbc_str_kf_rgs_best, \"yj_xgbc_str_kf_rgs_best.pkl\")\n",
    "joblib.dump(xgbc_rkf_rgs_best, \"yj_xgbc_rkf_rgs_best.pkl\")\n",
    "joblib.dump(xgbc_rskf_rgs_best, \"yj_xgbc_rskf_rgs_best.pkl\")\n",
    "joblib.dump(lgbm_kf_rgs_best, \"yj_lgbm_kf_rgs_best.pkl\")\n",
    "joblib.dump(lgbm_str_kf_rgs_best, \"yj_lgbm_str_kf_rgs_best.pkl\")\n",
    "joblib.dump(lgbm_rkf_rgs_best, \"yj_lgbm_rkf_rgs_best.pkl\")\n",
    "joblib.dump(lgbm_rskf_rgs_best, \"yj_lgbm_rskf_rgs_best.pkl\")"
   ]
  },
  {
   "cell_type": "code",
   "execution_count": null,
   "metadata": {},
   "outputs": [],
   "source": [
    "model_path = \"C:/Users/MEDICI/Documents/MEDICI (22-01-19 ~ 22-06-24)/GitHub/yj_xgbc_kf_rgs_best.pkl\"\n",
    "yj_xgbc_kf_rgs_best = joblib.load(model_path)\n",
    "model_path = \"C:/Users/MEDICI/Documents/MEDICI (22-01-19 ~ 22-06-24)/GitHub/yj_xgbc_str_kf_rgs_best.pkl\"\n",
    "yj_xgbc_str_kf_rgs_best = joblib.load(model_path)\n",
    "model_path = \"C:/Users/MEDICI/Documents/MEDICI (22-01-19 ~ 22-06-24)/GitHub/yj_xgbc_rkf_rgs_best.pkl\"\n",
    "yj_xgbc_rkf_rgs_best = joblib.load(model_path)\n",
    "model_path = \"C:/Users/MEDICI/Documents/MEDICI (22-01-19 ~ 22-06-24)/GitHub/yj_xgbc_rskf_rgs_best.pkl\"\n",
    "yj_xgbc_rskf_rgs_best = joblib.load(model_path)\n",
    "model_path = \"C:/Users/MEDICI/Documents/MEDICI (22-01-19 ~ 22-06-24)/GitHub/yj_lgbm_kf_rgs_best.pkl\"\n",
    "yj_lgbm_kf_rgs_best = joblib.load(model_path)\n",
    "model_path = \"C:/Users/MEDICI/Documents/MEDICI (22-01-19 ~ 22-06-24)/GitHub/yj_lgbm_str_kf_rgs_best.pkl\"\n",
    "yj_lgbm_str_kf_rgs_best = joblib.load(model_path)\n",
    "model_path = \"C:/Users/MEDICI/Documents/MEDICI (22-01-19 ~ 22-06-24)/GitHub/yj_lgbm_rkf_rgs_best.pkl\"\n",
    "yj_lgbm_rkf_rgs_best = joblib.load(model_path)\n",
    "model_path = \"C:/Users/MEDICI/Documents/MEDICI (22-01-19 ~ 22-06-24)/GitHub/yj_lgbm_rskf_rgs_best.pkl\"\n",
    "yj_lgbm_rskf_rgs_best = joblib.load(model_path)"
   ]
  },
  {
   "cell_type": "code",
   "execution_count": 356,
   "metadata": {},
   "outputs": [
    {
     "name": "stdout",
     "output_type": "stream",
     "text": [
      "XGBClassifier(base_score=0.5, booster='gbtree', colsample_bylevel=1,\n",
      "              colsample_bynode=1, colsample_bytree=0.7,\n",
      "              enable_categorical=False, eval_metric='error', gamma=0, gpu_id=-1,\n",
      "              importance_type=None, interaction_constraints='',\n",
      "              learning_rate=0.3, max_delta_step=0, max_depth=10,\n",
      "              min_child_weight=1, missing=nan, monotone_constraints='()',\n",
      "              n_estimators=100, n_jobs=-1, num_parallel_tree=1,\n",
      "              predictor='auto', random_state=1234, reg_alpha=0.01,\n",
      "              reg_lambda=10, scale_pos_weight=1, subsample=0.7,\n",
      "              tree_method='exact', use_label_encoder=False,\n",
      "              validate_parameters=1, verbosity=None)\n",
      "XGBClassifier(base_score=0.5, booster='dart', colsample_bylevel=1,\n",
      "              colsample_bynode=1, colsample_bytree=0.7,\n",
      "              enable_categorical=False, eval_metric='error', gamma=0, gpu_id=-1,\n",
      "              importance_type=None, interaction_constraints='',\n",
      "              learning_rate=0.3, max_delta_step=0, max_depth=8,\n",
      "              min_child_weight=5, missing=nan, monotone_constraints='()',\n",
      "              n_estimators=200, n_jobs=-1, num_parallel_tree=1,\n",
      "              predictor='auto', random_state=1234, reg_alpha=0.1,\n",
      "              reg_lambda=0.1, scale_pos_weight=1, subsample=0.7,\n",
      "              tree_method='exact', use_label_encoder=False,\n",
      "              validate_parameters=1, verbosity=None)\n",
      "XGBClassifier(base_score=0.5, booster='gbtree', colsample_bylevel=1,\n",
      "              colsample_bynode=1, colsample_bytree=0.9,\n",
      "              enable_categorical=False, eval_metric='error', gamma=0, gpu_id=-1,\n",
      "              importance_type=None, interaction_constraints='',\n",
      "              learning_rate=0.1, max_delta_step=0, max_depth=8,\n",
      "              min_child_weight=0.5, missing=nan, monotone_constraints='()',\n",
      "              n_estimators=50, n_jobs=-1, num_parallel_tree=1, predictor='auto',\n",
      "              random_state=1234, reg_alpha=0.01, reg_lambda=10,\n",
      "              scale_pos_weight=1, subsample=0.9, tree_method='exact',\n",
      "              use_label_encoder=False, validate_parameters=1, verbosity=None)\n",
      "XGBClassifier(base_score=0.5, booster='gbtree', colsample_bylevel=1,\n",
      "              colsample_bynode=1, colsample_bytree=0.9,\n",
      "              enable_categorical=False, eval_metric='error', gamma=0, gpu_id=-1,\n",
      "              importance_type=None, interaction_constraints='',\n",
      "              learning_rate=0.1, max_delta_step=0, max_depth=8,\n",
      "              min_child_weight=0.5, missing=nan, monotone_constraints='()',\n",
      "              n_estimators=50, n_jobs=-1, num_parallel_tree=1, predictor='auto',\n",
      "              random_state=1234, reg_alpha=0.01, reg_lambda=10,\n",
      "              scale_pos_weight=1, subsample=0.9, tree_method='exact',\n",
      "              use_label_encoder=False, validate_parameters=1, verbosity=None)\n",
      "LGBMClassifier(booster='dart', learning_rate=0.4, max_depth=9,\n",
      "               min_child_weight=1, n_estimators=50, random_state=1234,\n",
      "               reg_alpha=0.01, reg_lambda=10)\n",
      "LGBMClassifier(learning_rate=0.3, max_depth=11, min_child_weight=1,\n",
      "               random_state=1234, reg_alpha=0, reg_lambda=5)\n",
      "LGBMClassifier(max_depth=13, min_child_weight=0.9, n_estimators=50,\n",
      "               random_state=1234, reg_alpha=0.01, reg_lambda=0)\n",
      "LGBMClassifier(learning_rate=0.2, max_depth=10, min_child_weight=1,\n",
      "               n_estimators=30, random_state=1234, reg_alpha=0.01,\n",
      "               reg_lambda=0)\n"
     ]
    }
   ],
   "source": [
    "print(yj_xgbc_kf_rgs_best)\n",
    "print(yj_xgbc_str_kf_rgs_best)\n",
    "print(yj_xgbc_rkf_rgs_best)\n",
    "print(yj_xgbc_rskf_rgs_best)\n",
    "print(yj_lgbm_kf_rgs_best)\n",
    "print(yj_lgbm_str_kf_rgs_best)\n",
    "print(yj_lgbm_rkf_rgs_best)\n",
    "print(yj_lgbm_rskf_rgs_best)"
   ]
  },
  {
   "cell_type": "code",
   "execution_count": 360,
   "metadata": {},
   "outputs": [
    {
     "ename": "NameError",
     "evalue": "name 'ys_lgbm_rskf_rgs_best_score_' is not defined",
     "output_type": "error",
     "traceback": [
      "\u001b[1;31m---------------------------------------------------------------------------\u001b[0m",
      "\u001b[1;31mNameError\u001b[0m                                 Traceback (most recent call last)",
      "\u001b[1;32m~\\AppData\\Local\\Temp/ipykernel_23924/3710767213.py\u001b[0m in \u001b[0;36m<module>\u001b[1;34m\u001b[0m\n\u001b[1;32m----> 1\u001b[1;33m \u001b[0mys_lgbm_rskf_rgs_best_score_\u001b[0m\u001b[1;33m\u001b[0m\u001b[1;33m\u001b[0m\u001b[0m\n\u001b[0m",
      "\u001b[1;31mNameError\u001b[0m: name 'ys_lgbm_rskf_rgs_best_score_' is not defined"
     ]
    }
   ],
   "source": []
  },
  {
   "cell_type": "code",
   "execution_count": null,
   "metadata": {},
   "outputs": [],
   "source": []
  },
  {
   "cell_type": "code",
   "execution_count": null,
   "metadata": {},
   "outputs": [],
   "source": []
  },
  {
   "cell_type": "code",
   "execution_count": null,
   "metadata": {},
   "outputs": [],
   "source": []
  },
  {
   "cell_type": "code",
   "execution_count": 211,
   "metadata": {},
   "outputs": [],
   "source": [
    "##### 지금까지 최적화를 수행한 여러 모델을 쥐어짜보자~~ : Voting "
   ]
  },
  {
   "cell_type": "code",
   "execution_count": 212,
   "metadata": {},
   "outputs": [
    {
     "name": "stdout",
     "output_type": "stream",
     "text": [
      "RF: 0.8156424581005587\n",
      "xgb: 0.8044692737430168\n",
      "lightGBM: 0.8379888268156425\n"
     ]
    }
   ],
   "source": [
    "print(\"RF:\", accuracy_score(y_test, rf_kf_gs_best.predict(X_test)))\n",
    "print(\"xgb:\", accuracy_score(y_test, xgbc_kf_rgs_best.predict(X_test)))\n",
    "print(\"lightGBM:\", accuracy_score(y_test, lgbm_kf_rgs_best.predict(X_test)))"
   ]
  },
  {
   "cell_type": "code",
   "execution_count": 213,
   "metadata": {},
   "outputs": [],
   "source": [
    "from sklearn.ensemble import VotingClassifier"
   ]
  },
  {
   "cell_type": "code",
   "execution_count": 214,
   "metadata": {},
   "outputs": [],
   "source": [
    "# 1인 1표 : Hear Voting -> 여러 모델 필요"
   ]
  },
  {
   "cell_type": "code",
   "execution_count": 215,
   "metadata": {},
   "outputs": [],
   "source": [
    "ensemble_clf = VotingClassifier(\n",
    "    estimators=[(\"RF\",rf_kf_gs_best),\n",
    "                (\"xgb\",xgbc_kf_rgs_best ),\n",
    "                (\"lgm\", lgbm_kf_rgs_best)],\n",
    "    voting=\"hard\"\n",
    ")"
   ]
  },
  {
   "cell_type": "code",
   "execution_count": 216,
   "metadata": {},
   "outputs": [
    {
     "name": "stdout",
     "output_type": "stream",
     "text": [
      "[LightGBM] [Warning] Unknown parameter: booster\n",
      "0.8268156424581006\n"
     ]
    }
   ],
   "source": [
    "ensemble_clf.fit(X_train, y_train)\n",
    "ensemble_clf_pred = ensemble_clf.predict(X_test)\n",
    "print(accuracy_score(y_test, ensemble_clf_pred))"
   ]
  },
  {
   "cell_type": "code",
   "execution_count": 217,
   "metadata": {},
   "outputs": [],
   "source": [
    "# 소프트 보팅 : 1인 다표제"
   ]
  },
  {
   "cell_type": "code",
   "execution_count": 219,
   "metadata": {},
   "outputs": [
    {
     "name": "stdout",
     "output_type": "stream",
     "text": [
      "[LightGBM] [Warning] Unknown parameter: booster\n",
      "Xg:LGBM 1:2 soft Voiting 0.8324022346368715\n"
     ]
    }
   ],
   "source": [
    "ensemble_clf_soft = VotingClassifier(\n",
    "    estimators=[(\"xgb\",xgbc_kf_rgs_best ),\n",
    "                (\"lgm\", lgbm_kf_rgs_best)],\n",
    "    voting=\"soft\",\n",
    "    weights = [1,2]\n",
    ")\n",
    "ensemble_clf_soft.fit(X_train, y_train)\n",
    "ensemble_clf_soft_pred = ensemble_clf_soft.predict(X_test)\n",
    "print(\"Xg:LGBM 1:2 soft Voiting\", accuracy_score(y_test, ensemble_clf_soft_pred))"
   ]
  },
  {
   "cell_type": "code",
   "execution_count": null,
   "metadata": {},
   "outputs": [],
   "source": []
  },
  {
   "cell_type": "code",
   "execution_count": 309,
   "metadata": {},
   "outputs": [],
   "source": [
    "import collections\n",
    "import numpy as np"
   ]
  },
  {
   "cell_type": "code",
   "execution_count": 310,
   "metadata": {},
   "outputs": [
    {
     "data": {
      "text/plain": [
       "Counter({1: 3, 0: 5, 2: 1})"
      ]
     },
     "execution_count": 310,
     "metadata": {},
     "output_type": "execute_result"
    }
   ],
   "source": [
    "collections.Counter([1,0,0,0,0,0,1,2,1])"
   ]
  },
  {
   "cell_type": "code",
   "execution_count": 311,
   "metadata": {},
   "outputs": [
    {
     "data": {
      "text/plain": [
       "(0, 5)"
      ]
     },
     "execution_count": 311,
     "metadata": {},
     "output_type": "execute_result"
    }
   ],
   "source": [
    "# 어떤 값이 제일 많이 나타났는지 체크 \n",
    "collections.Counter([1,0,0,0,0,0,1,2,1]).most_common()[0]"
   ]
  },
  {
   "cell_type": "code",
   "execution_count": 312,
   "metadata": {},
   "outputs": [
    {
     "name": "stdout",
     "output_type": "stream",
     "text": [
      "0\n",
      "5\n"
     ]
    }
   ],
   "source": [
    "#가장 많이 나타난 종류 : 0\n",
    "#가장 많이 나타난 종류이 횟수 : 5\n",
    "print(collections.Counter([1,0,0,0,0,0,1,2,1]).most_common()[0][0])\n",
    "print(collections.Counter([1,0,0,0,0,0,1,2,1]).most_common()[0][1])"
   ]
  },
  {
   "cell_type": "code",
   "execution_count": 317,
   "metadata": {},
   "outputs": [],
   "source": [
    "def vote_handmade(x):\n",
    "    p = collections.Counter(x) # m1:1, m2:0, m3:1 -> x[1,0,1]\n",
    "    if p.most_common()[0][1] >= 2: # 3모델을 가지고 다수결 ~ 2표 이상이면 과반\n",
    "        return p.most_common()[0][0]\n",
    "    else:\n",
    "        print(\"check!\")\n",
    "        return x[0]"
   ]
  },
  {
   "cell_type": "code",
   "execution_count": 314,
   "metadata": {},
   "outputs": [
    {
     "data": {
      "text/html": [
       "<div>\n",
       "<style scoped>\n",
       "    .dataframe tbody tr th:only-of-type {\n",
       "        vertical-align: middle;\n",
       "    }\n",
       "\n",
       "    .dataframe tbody tr th {\n",
       "        vertical-align: top;\n",
       "    }\n",
       "\n",
       "    .dataframe thead th {\n",
       "        text-align: right;\n",
       "    }\n",
       "</style>\n",
       "<table border=\"1\" class=\"dataframe\">\n",
       "  <thead>\n",
       "    <tr style=\"text-align: right;\">\n",
       "      <th></th>\n",
       "      <th>Pclass</th>\n",
       "      <th>Sex</th>\n",
       "      <th>Age</th>\n",
       "      <th>SibSp</th>\n",
       "      <th>Parch</th>\n",
       "      <th>Fare</th>\n",
       "      <th>Cabin</th>\n",
       "      <th>Embarked</th>\n",
       "      <th>rf_clf</th>\n",
       "      <th>xgb_clf</th>\n",
       "      <th>lgb_clf</th>\n",
       "    </tr>\n",
       "  </thead>\n",
       "  <tbody>\n",
       "    <tr>\n",
       "      <th>92</th>\n",
       "      <td>1</td>\n",
       "      <td>1</td>\n",
       "      <td>46.000000</td>\n",
       "      <td>1</td>\n",
       "      <td>0</td>\n",
       "      <td>61.1750</td>\n",
       "      <td>4</td>\n",
       "      <td>3</td>\n",
       "      <td>0</td>\n",
       "      <td>1</td>\n",
       "      <td>1</td>\n",
       "    </tr>\n",
       "    <tr>\n",
       "      <th>552</th>\n",
       "      <td>3</td>\n",
       "      <td>1</td>\n",
       "      <td>29.699118</td>\n",
       "      <td>0</td>\n",
       "      <td>0</td>\n",
       "      <td>7.8292</td>\n",
       "      <td>7</td>\n",
       "      <td>2</td>\n",
       "      <td>0</td>\n",
       "      <td>0</td>\n",
       "      <td>0</td>\n",
       "    </tr>\n",
       "    <tr>\n",
       "      <th>810</th>\n",
       "      <td>3</td>\n",
       "      <td>1</td>\n",
       "      <td>26.000000</td>\n",
       "      <td>0</td>\n",
       "      <td>0</td>\n",
       "      <td>7.8875</td>\n",
       "      <td>7</td>\n",
       "      <td>3</td>\n",
       "      <td>0</td>\n",
       "      <td>0</td>\n",
       "      <td>0</td>\n",
       "    </tr>\n",
       "    <tr>\n",
       "      <th>29</th>\n",
       "      <td>3</td>\n",
       "      <td>1</td>\n",
       "      <td>29.699118</td>\n",
       "      <td>0</td>\n",
       "      <td>0</td>\n",
       "      <td>7.8958</td>\n",
       "      <td>7</td>\n",
       "      <td>3</td>\n",
       "      <td>0</td>\n",
       "      <td>0</td>\n",
       "      <td>0</td>\n",
       "    </tr>\n",
       "    <tr>\n",
       "      <th>681</th>\n",
       "      <td>1</td>\n",
       "      <td>1</td>\n",
       "      <td>27.000000</td>\n",
       "      <td>0</td>\n",
       "      <td>0</td>\n",
       "      <td>76.7292</td>\n",
       "      <td>3</td>\n",
       "      <td>0</td>\n",
       "      <td>1</td>\n",
       "      <td>1</td>\n",
       "      <td>1</td>\n",
       "    </tr>\n",
       "  </tbody>\n",
       "</table>\n",
       "</div>"
      ],
      "text/plain": [
       "     Pclass  Sex        Age  SibSp  Parch     Fare  Cabin  Embarked  rf_clf  \\\n",
       "92        1    1  46.000000      1      0  61.1750      4         3       0   \n",
       "552       3    1  29.699118      0      0   7.8292      7         2       0   \n",
       "810       3    1  26.000000      0      0   7.8875      7         3       0   \n",
       "29        3    1  29.699118      0      0   7.8958      7         3       0   \n",
       "681       1    1  27.000000      0      0  76.7292      3         0       1   \n",
       "\n",
       "     xgb_clf  lgb_clf  \n",
       "92         1        1  \n",
       "552        0        0  \n",
       "810        0        0  \n",
       "29         0        0  \n",
       "681        1        1  "
      ]
     },
     "execution_count": 314,
     "metadata": {},
     "output_type": "execute_result"
    }
   ],
   "source": [
    "X_test_model_total = X_test.copy(deep = True)\n",
    "X_test_model_total[\"rf_clf\"] = rf_kf_rgs_best.predict(X_test)\n",
    "X_test_model_total[\"xgb_clf\"] = xgbc_kf_rgs_best.predict(X_test)\n",
    "X_test_model_total[\"lgb_clf\"] = lgbm_kf_rgs_best.predict(X_test)\n",
    "X_test_model_total.head()"
   ]
  },
  {
   "cell_type": "code",
   "execution_count": 318,
   "metadata": {},
   "outputs": [
    {
     "data": {
      "text/html": [
       "<div>\n",
       "<style scoped>\n",
       "    .dataframe tbody tr th:only-of-type {\n",
       "        vertical-align: middle;\n",
       "    }\n",
       "\n",
       "    .dataframe tbody tr th {\n",
       "        vertical-align: top;\n",
       "    }\n",
       "\n",
       "    .dataframe thead th {\n",
       "        text-align: right;\n",
       "    }\n",
       "</style>\n",
       "<table border=\"1\" class=\"dataframe\">\n",
       "  <thead>\n",
       "    <tr style=\"text-align: right;\">\n",
       "      <th></th>\n",
       "      <th>Pclass</th>\n",
       "      <th>Sex</th>\n",
       "      <th>Age</th>\n",
       "      <th>SibSp</th>\n",
       "      <th>Parch</th>\n",
       "      <th>Fare</th>\n",
       "      <th>Cabin</th>\n",
       "      <th>Embarked</th>\n",
       "      <th>rf_clf</th>\n",
       "      <th>xgb_clf</th>\n",
       "      <th>lgb_clf</th>\n",
       "      <th>hard_voting</th>\n",
       "    </tr>\n",
       "  </thead>\n",
       "  <tbody>\n",
       "    <tr>\n",
       "      <th>92</th>\n",
       "      <td>1</td>\n",
       "      <td>1</td>\n",
       "      <td>46.000000</td>\n",
       "      <td>1</td>\n",
       "      <td>0</td>\n",
       "      <td>61.1750</td>\n",
       "      <td>4</td>\n",
       "      <td>3</td>\n",
       "      <td>0</td>\n",
       "      <td>1</td>\n",
       "      <td>1</td>\n",
       "      <td>1</td>\n",
       "    </tr>\n",
       "    <tr>\n",
       "      <th>552</th>\n",
       "      <td>3</td>\n",
       "      <td>1</td>\n",
       "      <td>29.699118</td>\n",
       "      <td>0</td>\n",
       "      <td>0</td>\n",
       "      <td>7.8292</td>\n",
       "      <td>7</td>\n",
       "      <td>2</td>\n",
       "      <td>0</td>\n",
       "      <td>0</td>\n",
       "      <td>0</td>\n",
       "      <td>0</td>\n",
       "    </tr>\n",
       "    <tr>\n",
       "      <th>810</th>\n",
       "      <td>3</td>\n",
       "      <td>1</td>\n",
       "      <td>26.000000</td>\n",
       "      <td>0</td>\n",
       "      <td>0</td>\n",
       "      <td>7.8875</td>\n",
       "      <td>7</td>\n",
       "      <td>3</td>\n",
       "      <td>0</td>\n",
       "      <td>0</td>\n",
       "      <td>0</td>\n",
       "      <td>0</td>\n",
       "    </tr>\n",
       "    <tr>\n",
       "      <th>29</th>\n",
       "      <td>3</td>\n",
       "      <td>1</td>\n",
       "      <td>29.699118</td>\n",
       "      <td>0</td>\n",
       "      <td>0</td>\n",
       "      <td>7.8958</td>\n",
       "      <td>7</td>\n",
       "      <td>3</td>\n",
       "      <td>0</td>\n",
       "      <td>0</td>\n",
       "      <td>0</td>\n",
       "      <td>0</td>\n",
       "    </tr>\n",
       "    <tr>\n",
       "      <th>681</th>\n",
       "      <td>1</td>\n",
       "      <td>1</td>\n",
       "      <td>27.000000</td>\n",
       "      <td>0</td>\n",
       "      <td>0</td>\n",
       "      <td>76.7292</td>\n",
       "      <td>3</td>\n",
       "      <td>0</td>\n",
       "      <td>1</td>\n",
       "      <td>1</td>\n",
       "      <td>1</td>\n",
       "      <td>1</td>\n",
       "    </tr>\n",
       "  </tbody>\n",
       "</table>\n",
       "</div>"
      ],
      "text/plain": [
       "     Pclass  Sex        Age  SibSp  Parch     Fare  Cabin  Embarked  rf_clf  \\\n",
       "92        1    1  46.000000      1      0  61.1750      4         3       0   \n",
       "552       3    1  29.699118      0      0   7.8292      7         2       0   \n",
       "810       3    1  26.000000      0      0   7.8875      7         3       0   \n",
       "29        3    1  29.699118      0      0   7.8958      7         3       0   \n",
       "681       1    1  27.000000      0      0  76.7292      3         0       1   \n",
       "\n",
       "     xgb_clf  lgb_clf  hard_voting  \n",
       "92         1        1            1  \n",
       "552        0        0            0  \n",
       "810        0        0            0  \n",
       "29         0        0            0  \n",
       "681        1        1            1  "
      ]
     },
     "execution_count": 318,
     "metadata": {},
     "output_type": "execute_result"
    }
   ],
   "source": [
    "X_test_model_total[\"hard_voting\"] = X_test_model_total.loc[:, [\"rf_clf\",\"xgb_clf\",\"lgb_clf\"]].apply(lambda x : vote_handmade(x), axis =1)\n",
    "X_test_model_total.head()"
   ]
  },
  {
   "cell_type": "code",
   "execution_count": 319,
   "metadata": {},
   "outputs": [
    {
     "data": {
      "text/html": [
       "<div>\n",
       "<style scoped>\n",
       "    .dataframe tbody tr th:only-of-type {\n",
       "        vertical-align: middle;\n",
       "    }\n",
       "\n",
       "    .dataframe tbody tr th {\n",
       "        vertical-align: top;\n",
       "    }\n",
       "\n",
       "    .dataframe thead th {\n",
       "        text-align: right;\n",
       "    }\n",
       "</style>\n",
       "<table border=\"1\" class=\"dataframe\">\n",
       "  <thead>\n",
       "    <tr style=\"text-align: right;\">\n",
       "      <th></th>\n",
       "      <th>Pclass</th>\n",
       "      <th>Sex</th>\n",
       "      <th>Age</th>\n",
       "      <th>SibSp</th>\n",
       "      <th>Parch</th>\n",
       "      <th>Fare</th>\n",
       "      <th>Cabin</th>\n",
       "      <th>Embarked</th>\n",
       "      <th>rf_clf</th>\n",
       "      <th>xgb_clf</th>\n",
       "      <th>lgb_clf</th>\n",
       "      <th>hard_voting</th>\n",
       "      <th>real_y</th>\n",
       "    </tr>\n",
       "  </thead>\n",
       "  <tbody>\n",
       "    <tr>\n",
       "      <th>92</th>\n",
       "      <td>1</td>\n",
       "      <td>1</td>\n",
       "      <td>46.000000</td>\n",
       "      <td>1</td>\n",
       "      <td>0</td>\n",
       "      <td>61.1750</td>\n",
       "      <td>4</td>\n",
       "      <td>3</td>\n",
       "      <td>0</td>\n",
       "      <td>1</td>\n",
       "      <td>1</td>\n",
       "      <td>1</td>\n",
       "      <td>0</td>\n",
       "    </tr>\n",
       "    <tr>\n",
       "      <th>552</th>\n",
       "      <td>3</td>\n",
       "      <td>1</td>\n",
       "      <td>29.699118</td>\n",
       "      <td>0</td>\n",
       "      <td>0</td>\n",
       "      <td>7.8292</td>\n",
       "      <td>7</td>\n",
       "      <td>2</td>\n",
       "      <td>0</td>\n",
       "      <td>0</td>\n",
       "      <td>0</td>\n",
       "      <td>0</td>\n",
       "      <td>0</td>\n",
       "    </tr>\n",
       "    <tr>\n",
       "      <th>810</th>\n",
       "      <td>3</td>\n",
       "      <td>1</td>\n",
       "      <td>26.000000</td>\n",
       "      <td>0</td>\n",
       "      <td>0</td>\n",
       "      <td>7.8875</td>\n",
       "      <td>7</td>\n",
       "      <td>3</td>\n",
       "      <td>0</td>\n",
       "      <td>0</td>\n",
       "      <td>0</td>\n",
       "      <td>0</td>\n",
       "      <td>0</td>\n",
       "    </tr>\n",
       "    <tr>\n",
       "      <th>29</th>\n",
       "      <td>3</td>\n",
       "      <td>1</td>\n",
       "      <td>29.699118</td>\n",
       "      <td>0</td>\n",
       "      <td>0</td>\n",
       "      <td>7.8958</td>\n",
       "      <td>7</td>\n",
       "      <td>3</td>\n",
       "      <td>0</td>\n",
       "      <td>0</td>\n",
       "      <td>0</td>\n",
       "      <td>0</td>\n",
       "      <td>0</td>\n",
       "    </tr>\n",
       "    <tr>\n",
       "      <th>681</th>\n",
       "      <td>1</td>\n",
       "      <td>1</td>\n",
       "      <td>27.000000</td>\n",
       "      <td>0</td>\n",
       "      <td>0</td>\n",
       "      <td>76.7292</td>\n",
       "      <td>3</td>\n",
       "      <td>0</td>\n",
       "      <td>1</td>\n",
       "      <td>1</td>\n",
       "      <td>1</td>\n",
       "      <td>1</td>\n",
       "      <td>1</td>\n",
       "    </tr>\n",
       "    <tr>\n",
       "      <th>869</th>\n",
       "      <td>3</td>\n",
       "      <td>1</td>\n",
       "      <td>4.000000</td>\n",
       "      <td>1</td>\n",
       "      <td>1</td>\n",
       "      <td>11.1333</td>\n",
       "      <td>7</td>\n",
       "      <td>3</td>\n",
       "      <td>1</td>\n",
       "      <td>1</td>\n",
       "      <td>1</td>\n",
       "      <td>1</td>\n",
       "      <td>1</td>\n",
       "    </tr>\n",
       "    <tr>\n",
       "      <th>566</th>\n",
       "      <td>3</td>\n",
       "      <td>1</td>\n",
       "      <td>19.000000</td>\n",
       "      <td>0</td>\n",
       "      <td>0</td>\n",
       "      <td>7.8958</td>\n",
       "      <td>7</td>\n",
       "      <td>3</td>\n",
       "      <td>0</td>\n",
       "      <td>0</td>\n",
       "      <td>0</td>\n",
       "      <td>0</td>\n",
       "      <td>0</td>\n",
       "    </tr>\n",
       "    <tr>\n",
       "      <th>389</th>\n",
       "      <td>2</td>\n",
       "      <td>0</td>\n",
       "      <td>17.000000</td>\n",
       "      <td>0</td>\n",
       "      <td>0</td>\n",
       "      <td>12.0000</td>\n",
       "      <td>7</td>\n",
       "      <td>0</td>\n",
       "      <td>1</td>\n",
       "      <td>1</td>\n",
       "      <td>1</td>\n",
       "      <td>1</td>\n",
       "      <td>1</td>\n",
       "    </tr>\n",
       "    <tr>\n",
       "      <th>657</th>\n",
       "      <td>3</td>\n",
       "      <td>0</td>\n",
       "      <td>32.000000</td>\n",
       "      <td>1</td>\n",
       "      <td>1</td>\n",
       "      <td>15.5000</td>\n",
       "      <td>7</td>\n",
       "      <td>2</td>\n",
       "      <td>1</td>\n",
       "      <td>1</td>\n",
       "      <td>1</td>\n",
       "      <td>1</td>\n",
       "      <td>0</td>\n",
       "    </tr>\n",
       "    <tr>\n",
       "      <th>134</th>\n",
       "      <td>2</td>\n",
       "      <td>1</td>\n",
       "      <td>25.000000</td>\n",
       "      <td>0</td>\n",
       "      <td>0</td>\n",
       "      <td>13.0000</td>\n",
       "      <td>7</td>\n",
       "      <td>3</td>\n",
       "      <td>0</td>\n",
       "      <td>0</td>\n",
       "      <td>0</td>\n",
       "      <td>0</td>\n",
       "      <td>0</td>\n",
       "    </tr>\n",
       "    <tr>\n",
       "      <th>683</th>\n",
       "      <td>3</td>\n",
       "      <td>1</td>\n",
       "      <td>14.000000</td>\n",
       "      <td>5</td>\n",
       "      <td>2</td>\n",
       "      <td>46.9000</td>\n",
       "      <td>7</td>\n",
       "      <td>3</td>\n",
       "      <td>0</td>\n",
       "      <td>0</td>\n",
       "      <td>0</td>\n",
       "      <td>0</td>\n",
       "      <td>0</td>\n",
       "    </tr>\n",
       "    <tr>\n",
       "      <th>391</th>\n",
       "      <td>3</td>\n",
       "      <td>1</td>\n",
       "      <td>21.000000</td>\n",
       "      <td>0</td>\n",
       "      <td>0</td>\n",
       "      <td>7.7958</td>\n",
       "      <td>7</td>\n",
       "      <td>3</td>\n",
       "      <td>0</td>\n",
       "      <td>0</td>\n",
       "      <td>0</td>\n",
       "      <td>0</td>\n",
       "      <td>1</td>\n",
       "    </tr>\n",
       "    <tr>\n",
       "      <th>232</th>\n",
       "      <td>2</td>\n",
       "      <td>1</td>\n",
       "      <td>59.000000</td>\n",
       "      <td>0</td>\n",
       "      <td>0</td>\n",
       "      <td>13.5000</td>\n",
       "      <td>7</td>\n",
       "      <td>3</td>\n",
       "      <td>0</td>\n",
       "      <td>0</td>\n",
       "      <td>0</td>\n",
       "      <td>0</td>\n",
       "      <td>0</td>\n",
       "    </tr>\n",
       "    <tr>\n",
       "      <th>623</th>\n",
       "      <td>3</td>\n",
       "      <td>1</td>\n",
       "      <td>21.000000</td>\n",
       "      <td>0</td>\n",
       "      <td>0</td>\n",
       "      <td>7.8542</td>\n",
       "      <td>7</td>\n",
       "      <td>3</td>\n",
       "      <td>0</td>\n",
       "      <td>0</td>\n",
       "      <td>0</td>\n",
       "      <td>0</td>\n",
       "      <td>0</td>\n",
       "    </tr>\n",
       "    <tr>\n",
       "      <th>286</th>\n",
       "      <td>3</td>\n",
       "      <td>1</td>\n",
       "      <td>30.000000</td>\n",
       "      <td>0</td>\n",
       "      <td>0</td>\n",
       "      <td>9.5000</td>\n",
       "      <td>7</td>\n",
       "      <td>3</td>\n",
       "      <td>0</td>\n",
       "      <td>0</td>\n",
       "      <td>0</td>\n",
       "      <td>0</td>\n",
       "      <td>1</td>\n",
       "    </tr>\n",
       "    <tr>\n",
       "      <th>654</th>\n",
       "      <td>3</td>\n",
       "      <td>0</td>\n",
       "      <td>18.000000</td>\n",
       "      <td>0</td>\n",
       "      <td>0</td>\n",
       "      <td>6.7500</td>\n",
       "      <td>7</td>\n",
       "      <td>2</td>\n",
       "      <td>1</td>\n",
       "      <td>1</td>\n",
       "      <td>1</td>\n",
       "      <td>1</td>\n",
       "      <td>0</td>\n",
       "    </tr>\n",
       "    <tr>\n",
       "      <th>307</th>\n",
       "      <td>1</td>\n",
       "      <td>0</td>\n",
       "      <td>17.000000</td>\n",
       "      <td>1</td>\n",
       "      <td>0</td>\n",
       "      <td>108.9000</td>\n",
       "      <td>2</td>\n",
       "      <td>0</td>\n",
       "      <td>1</td>\n",
       "      <td>1</td>\n",
       "      <td>1</td>\n",
       "      <td>1</td>\n",
       "      <td>1</td>\n",
       "    </tr>\n",
       "    <tr>\n",
       "      <th>312</th>\n",
       "      <td>2</td>\n",
       "      <td>0</td>\n",
       "      <td>26.000000</td>\n",
       "      <td>1</td>\n",
       "      <td>1</td>\n",
       "      <td>26.0000</td>\n",
       "      <td>7</td>\n",
       "      <td>3</td>\n",
       "      <td>1</td>\n",
       "      <td>1</td>\n",
       "      <td>1</td>\n",
       "      <td>1</td>\n",
       "      <td>0</td>\n",
       "    </tr>\n",
       "    <tr>\n",
       "      <th>615</th>\n",
       "      <td>2</td>\n",
       "      <td>0</td>\n",
       "      <td>24.000000</td>\n",
       "      <td>1</td>\n",
       "      <td>2</td>\n",
       "      <td>65.0000</td>\n",
       "      <td>7</td>\n",
       "      <td>3</td>\n",
       "      <td>1</td>\n",
       "      <td>1</td>\n",
       "      <td>1</td>\n",
       "      <td>1</td>\n",
       "      <td>1</td>\n",
       "    </tr>\n",
       "    <tr>\n",
       "      <th>180</th>\n",
       "      <td>3</td>\n",
       "      <td>0</td>\n",
       "      <td>29.699118</td>\n",
       "      <td>8</td>\n",
       "      <td>2</td>\n",
       "      <td>69.5500</td>\n",
       "      <td>7</td>\n",
       "      <td>3</td>\n",
       "      <td>0</td>\n",
       "      <td>0</td>\n",
       "      <td>0</td>\n",
       "      <td>0</td>\n",
       "      <td>0</td>\n",
       "    </tr>\n",
       "  </tbody>\n",
       "</table>\n",
       "</div>"
      ],
      "text/plain": [
       "     Pclass  Sex        Age  SibSp  Parch      Fare  Cabin  Embarked  rf_clf  \\\n",
       "92        1    1  46.000000      1      0   61.1750      4         3       0   \n",
       "552       3    1  29.699118      0      0    7.8292      7         2       0   \n",
       "810       3    1  26.000000      0      0    7.8875      7         3       0   \n",
       "29        3    1  29.699118      0      0    7.8958      7         3       0   \n",
       "681       1    1  27.000000      0      0   76.7292      3         0       1   \n",
       "869       3    1   4.000000      1      1   11.1333      7         3       1   \n",
       "566       3    1  19.000000      0      0    7.8958      7         3       0   \n",
       "389       2    0  17.000000      0      0   12.0000      7         0       1   \n",
       "657       3    0  32.000000      1      1   15.5000      7         2       1   \n",
       "134       2    1  25.000000      0      0   13.0000      7         3       0   \n",
       "683       3    1  14.000000      5      2   46.9000      7         3       0   \n",
       "391       3    1  21.000000      0      0    7.7958      7         3       0   \n",
       "232       2    1  59.000000      0      0   13.5000      7         3       0   \n",
       "623       3    1  21.000000      0      0    7.8542      7         3       0   \n",
       "286       3    1  30.000000      0      0    9.5000      7         3       0   \n",
       "654       3    0  18.000000      0      0    6.7500      7         2       1   \n",
       "307       1    0  17.000000      1      0  108.9000      2         0       1   \n",
       "312       2    0  26.000000      1      1   26.0000      7         3       1   \n",
       "615       2    0  24.000000      1      2   65.0000      7         3       1   \n",
       "180       3    0  29.699118      8      2   69.5500      7         3       0   \n",
       "\n",
       "     xgb_clf  lgb_clf  hard_voting  real_y  \n",
       "92         1        1            1       0  \n",
       "552        0        0            0       0  \n",
       "810        0        0            0       0  \n",
       "29         0        0            0       0  \n",
       "681        1        1            1       1  \n",
       "869        1        1            1       1  \n",
       "566        0        0            0       0  \n",
       "389        1        1            1       1  \n",
       "657        1        1            1       0  \n",
       "134        0        0            0       0  \n",
       "683        0        0            0       0  \n",
       "391        0        0            0       1  \n",
       "232        0        0            0       0  \n",
       "623        0        0            0       0  \n",
       "286        0        0            0       1  \n",
       "654        1        1            1       0  \n",
       "307        1        1            1       1  \n",
       "312        1        1            1       0  \n",
       "615        1        1            1       1  \n",
       "180        0        0            0       0  "
      ]
     },
     "execution_count": 319,
     "metadata": {},
     "output_type": "execute_result"
    }
   ],
   "source": [
    "X_test_model_total[\"real_y\"] = y_test\n",
    "X_test_model_total.head(20)"
   ]
  },
  {
   "cell_type": "code",
   "execution_count": null,
   "metadata": {},
   "outputs": [],
   "source": []
  }
 ],
 "metadata": {
  "colab": {
   "authorship_tag": "ABX9TyNceJwVCnwBMlqXxFalHJiZ",
   "name": "Untitled0.ipynb",
   "provenance": []
  },
  "kernelspec": {
   "display_name": "Python 3 (ipykernel)",
   "language": "python",
   "name": "python3"
  },
  "language_info": {
   "codemirror_mode": {
    "name": "ipython",
    "version": 3
   },
   "file_extension": ".py",
   "mimetype": "text/x-python",
   "name": "python",
   "nbconvert_exporter": "python",
   "pygments_lexer": "ipython3",
   "version": "3.9.7"
  }
 },
 "nbformat": 4,
 "nbformat_minor": 1
}
