{
 "cells": [
  {
   "cell_type": "markdown",
   "id": "5cd2d569",
   "metadata": {},
   "source": [
    "# 재귀 함수"
   ]
  },
  {
   "cell_type": "code",
   "execution_count": null,
   "id": "40a4b074",
   "metadata": {},
   "outputs": [],
   "source": [
    "def recursive_func():\n",
    "    print(\"나는 재귀함수다!!\")\n",
    "    recursive_func()\n",
    "\n",
    "# 재귀 함수 실행  --> 무한루프 시행(파이썬은 몇 번 부르다가 잘라냄)\n",
    "recursive_func()"
   ]
  },
  {
   "cell_type": "code",
   "execution_count": 1,
   "id": "493f4ddd",
   "metadata": {},
   "outputs": [
    {
     "name": "stdout",
     "output_type": "stream",
     "text": [
      "My Factorial 불렀으? n값은?4\n",
      "My Factorial 불렀으? n값은?3\n",
      "My Factorial 불렀으? n값은?2\n",
      "My Factorial 불렀으? n값은?1\n"
     ]
    },
    {
     "data": {
      "text/plain": [
       "24"
      ]
     },
     "execution_count": 1,
     "metadata": {},
     "output_type": "execute_result"
    }
   ],
   "source": [
    "def my_factorial(n):\n",
    "# 진짜 불러지는지 확인을 위해서 print 함수를 사용을 함..\n",
    "    print(\"My Factorial 불렀으? n값은?\" + str(n))\n",
    "    if n <= 1 :\n",
    "        return 1\n",
    "    else:\n",
    "        return  n * my_factorial(n - 1)\n",
    "\n",
    "### 실제 4!에 대한 계산 시행\n",
    "my_factorial(4)"
   ]
  },
  {
   "cell_type": "code",
   "execution_count": 5,
   "id": "40d239e3",
   "metadata": {},
   "outputs": [],
   "source": [
    "#4!의 값을 구하는 코드 작성\n",
    "n = 4\n",
    "fact = 1\n",
    "#1) for문 : 직접적으로 필요한 수를 만들어서 그 값들을 직접 돌리는 구조\n",
    "for i in range(1,n+1,1):  #요기서 필요한 것은 1,2,3,4숫자 -> range\n",
    "    fact *= i\n",
    "    \n",
    "#2) while문 : 주로 조건 만족할 때까지 돌리는 구조\n",
    "#             조건 잘 설정 -> 종료할 수 있게\n",
    "a =1 # 증가용, n의 값 변경 안하려고\n",
    "while a <= n: # 주어진 n보다 크면 더 안하게\n",
    "    fact *= a #필요한 숫자 1을 기준으로 +1 하면서 생성 & 반복\n",
    "    a += 1"
   ]
  },
  {
   "cell_type": "code",
   "execution_count": 6,
   "id": "c71d65fd",
   "metadata": {},
   "outputs": [],
   "source": [
    "#종료 조건 추가하기"
   ]
  },
  {
   "cell_type": "code",
   "execution_count": 7,
   "id": "d580694e",
   "metadata": {},
   "outputs": [
    {
     "name": "stdout",
     "output_type": "stream",
     "text": [
      "나는 1번째 Call\n",
      "나는 2번째 Call\n",
      "나는 3번째 Call\n",
      "나는 4번째 Call\n",
      "나는 5번째 Call\n",
      "나는 6번째 Call\n",
      "나는 7번째 Call\n",
      "나는 8번째 Call\n",
      "나는 9번째 Call\n",
      "나는 10번째 Call\n",
      "나는 11번째 Call\n",
      "나는 12번째 Call\n",
      "나는 13번째 Call\n",
      "나는 14번째 Call\n",
      "나는 15번째 Call\n",
      "나는 16번째 Call\n",
      "나는 17번째 Call\n",
      "나는 18번째 Call\n",
      "나는 19번째 Call\n",
      "나는 20번째 Call\n",
      "나는 21번째 Call\n",
      "나는 22번째 Call\n",
      "나는 23번째 Call\n",
      "나는 24번째 Call\n",
      "나는 25번째 Call\n",
      "나는 26번째 Call\n",
      "나는 27번째 Call\n",
      "나는 28번째 Call\n",
      "나는 29번째 Call\n",
      "나는 30번째 Call\n",
      "나는 31번째 Call\n",
      "나는 32번째 Call\n",
      "나는 33번째 Call\n",
      "나는 34번째 Call\n",
      "나는 35번째 Call\n",
      "나는 36번째 Call\n",
      "나는 37번째 Call\n",
      "나는 38번째 Call\n",
      "나는 39번째 Call\n",
      "나는 40번째 Call\n",
      "나는 41번째 Call\n",
      "나는 42번째 Call\n",
      "나는 43번째 Call\n",
      "나는 44번째 Call\n",
      "나는 45번째 Call\n",
      "나는 46번째 Call\n",
      "나는 47번째 Call\n",
      "나는 48번째 Call\n",
      "나는 49번째 Call\n"
     ]
    }
   ],
   "source": [
    "#명시적으로 몇 번 반복을 할지를 입력으로 받아서\n",
    "#부를 때마다 +1 하면서 그 수가 50이 되면\n",
    "#종료하기 위해서 -> 빠져나갈 퇴로 만들어 둠\n",
    "def recursive_func(i):\n",
    "    if i == 50:\n",
    "        return\n",
    "    else:\n",
    "        print(\"나는 {}번째 Call\".format(i))\n",
    "        recursive_func(i + 1)\n",
    "# 재귀 함수 실행 \n",
    "recursive_func(1)"
   ]
  },
  {
   "cell_type": "markdown",
   "id": "8f683729",
   "metadata": {},
   "source": [
    "# 탐색 알고리즘"
   ]
  },
  {
   "cell_type": "markdown",
   "id": "5f1c5880",
   "metadata": {},
   "source": [
    "### DFS에 대한 부분"
   ]
  },
  {
   "cell_type": "code",
   "execution_count": 8,
   "id": "f56dc823",
   "metadata": {},
   "outputs": [
    {
     "data": {
      "text/plain": [
       "{'1': ['2', '3', '8'],\n",
       " '2': ['1', '7'],\n",
       " '3': ['1', '4', '5'],\n",
       " '4': ['3', '5'],\n",
       " '5': ['3', '4'],\n",
       " '6': ['7'],\n",
       " '7': ['2', '6', '8'],\n",
       " '8': ['1', '7']}"
      ]
     },
     "execution_count": 8,
     "metadata": {},
     "output_type": "execute_result"
    }
   ],
   "source": [
    "#인접 리스트로 표현\n",
    "graph = {\n",
    "    \"1\" : [\"2\",\"3\",\"8\"],\n",
    "    \"2\" : [\"1\",\"7\"],\n",
    "    \"3\" : [\"1\",\"4\",\"5\"],\n",
    "    \"4\" : [\"3\",\"5\"],\n",
    "    \"5\" : [\"3\",\"4\"],\n",
    "    \"6\" : [\"7\"],\n",
    "    \"7\" : [\"2\",\"6\",\"8\"],\n",
    "    \"8\" : [\"1\",\"7\"]\n",
    "}\n",
    "graph"
   ]
  },
  {
   "cell_type": "code",
   "execution_count": 12,
   "id": "fef3a005",
   "metadata": {},
   "outputs": [],
   "source": [
    "def dfs_list(graph, start): #입력 : 지도 - 인접 리스트 방식\n",
    "    #우선 필요한 변수  : 방문할 곳, 방문한 곳  -> 리스트로\n",
    "    need_visit = list()\n",
    "    visited = list()\n",
    "    #일단 시작노드에서 출발 -> 입력 start\n",
    "    need_visit.append(start)\n",
    "    #이제부터 본격적으로 해야할 일\n",
    "    #큰 틀 : need_visit가 없을 때 까지\n",
    "    while need_visit: # 조건에 리스트 -> 빈 것이면 false \n",
    "        #to visit list에서 일단  1개씩 꺼내서 이동\n",
    "        node = need_visit.pop() # 방문리스트 중 맨 뒤 선택\n",
    "        #잠시 지금 node가 과거 방문한 곳인이 아닌지 체크\n",
    "        #     --> 지금 node가 처음 온 상태\n",
    "        if node not in visited:  #방문 목록에 없으면\n",
    "            #새로운 곳에 왔으니 도장 찍기\n",
    "            visited.append(node)\n",
    "            #지금 여기서 연결된 곳들을 -> to visit list 추가\n",
    "            need_visit.extend(graph[node])\n",
    "    return visited\n",
    "            "
   ]
  },
  {
   "cell_type": "code",
   "execution_count": 10,
   "id": "17f89240",
   "metadata": {},
   "outputs": [
    {
     "data": {
      "text/plain": [
       "['1', '8', '7', '6', '2', '3', '5', '4']"
      ]
     },
     "execution_count": 10,
     "metadata": {},
     "output_type": "execute_result"
    }
   ],
   "source": [
    "dfs_list(graph, \"1\")"
   ]
  },
  {
   "cell_type": "code",
   "execution_count": null,
   "id": "c5af441b",
   "metadata": {},
   "outputs": [],
   "source": [
    "#그러면 탐색의 순서를 연결되 노드 중에서 제일 작은 값을 우선으로 방문하려면...?\n",
    "#graph를 내가 작은 -> 큰걸로 작성해서 큰 노드 우선 pop해서 탐색\n",
    "# need_visit.extend(graph[node])를 뒤집어야 함\n",
    "temp = graph[node] # -> [2,3,8] \n",
    "temp_reverse = list(reversed(temp)) # -> [8,3,2]\n",
    "\n",
    "need_visit.extend(temp_reverse)"
   ]
  },
  {
   "cell_type": "code",
   "execution_count": 14,
   "id": "fd3b320e",
   "metadata": {},
   "outputs": [],
   "source": [
    "#값들을 좀 더 빠르게 추가하고, 빼내기 위해\n",
    "#deque라는 외부 패키지를 활용할 자료구조 사용"
   ]
  },
  {
   "cell_type": "code",
   "execution_count": 15,
   "id": "2f60b322",
   "metadata": {},
   "outputs": [],
   "source": [
    "from collections import deque "
   ]
  },
  {
   "cell_type": "code",
   "execution_count": 16,
   "id": "1d146ba1",
   "metadata": {},
   "outputs": [
    {
     "data": {
      "text/plain": [
       "deque(['a'])"
      ]
     },
     "execution_count": 16,
     "metadata": {},
     "output_type": "execute_result"
    }
   ],
   "source": [
    "test_deq = deque()\n",
    "test_deq.append(\"a\")\n",
    "test_deq"
   ]
  },
  {
   "cell_type": "code",
   "execution_count": 17,
   "id": "24b2f09d",
   "metadata": {},
   "outputs": [
    {
     "data": {
      "text/plain": [
       "deque(['a', 'b'])"
      ]
     },
     "execution_count": 17,
     "metadata": {},
     "output_type": "execute_result"
    }
   ],
   "source": [
    "test_deq.append(\"b\")\n",
    "test_deq"
   ]
  },
  {
   "cell_type": "code",
   "execution_count": 18,
   "id": "e603a4ec",
   "metadata": {},
   "outputs": [
    {
     "data": {
      "text/plain": [
       "deque(['c', 'a', 'b'])"
      ]
     },
     "execution_count": 18,
     "metadata": {},
     "output_type": "execute_result"
    }
   ],
   "source": [
    "test_deq.appendleft(\"c\")\n",
    "test_deq"
   ]
  },
  {
   "cell_type": "code",
   "execution_count": 19,
   "id": "478b54c7",
   "metadata": {},
   "outputs": [
    {
     "data": {
      "text/plain": [
       "'b'"
      ]
     },
     "execution_count": 19,
     "metadata": {},
     "output_type": "execute_result"
    }
   ],
   "source": [
    "test_deq.pop()"
   ]
  },
  {
   "cell_type": "code",
   "execution_count": 20,
   "id": "62239502",
   "metadata": {},
   "outputs": [
    {
     "data": {
      "text/plain": [
       "'c'"
      ]
     },
     "execution_count": 20,
     "metadata": {},
     "output_type": "execute_result"
    }
   ],
   "source": [
    "test_deq.popleft()"
   ]
  },
  {
   "cell_type": "code",
   "execution_count": 21,
   "id": "ec906ca8",
   "metadata": {},
   "outputs": [
    {
     "data": {
      "text/plain": [
       "deque(['a'])"
      ]
     },
     "execution_count": 21,
     "metadata": {},
     "output_type": "execute_result"
    }
   ],
   "source": [
    "test_deq\n",
    "#deque 결론 : 쌩 파이썬의 list와 기능이 동일 + 다만 앞쪽(left) 원소 추가, 제거를 명시적으로 \n",
    "# --> 원소를 추가/제거시 속도 향상"
   ]
  },
  {
   "cell_type": "code",
   "execution_count": 22,
   "id": "d3e22981",
   "metadata": {},
   "outputs": [],
   "source": [
    "#DFS에서 Stack을 쌩 파이썬의 list로 구현하지 않고\n",
    "#collections 패키지의 deque를 활용해서 stack으로 활용"
   ]
  },
  {
   "cell_type": "code",
   "execution_count": null,
   "id": "dc633126",
   "metadata": {},
   "outputs": [],
   "source": [
    "#사용하기 전에는 반듯이 해당 패키지 불러야 함\n",
    "#부르기 전에는 collectons 패키지가 설치가 되어 있어야 함\n",
    "# --> 아나콘다, programmers 등은 기본으로 사용 할 수 있는 패키지임\n",
    "from collections import deque  "
   ]
  },
  {
   "cell_type": "code",
   "execution_count": 23,
   "id": "d9003350",
   "metadata": {},
   "outputs": [],
   "source": [
    "def dfs_deque(graph, start): \n",
    "    #쌩 파이썬list, deque 동일하다는 것으로 보여주기 위해 하나만 deque로 바꿈\n",
    "    need_visit = deque() #앞에 코드와 동일 요기만 다름!\n",
    "    visited = list()\n",
    "    need_visit.append(start)\n",
    "    #이제부터 본격적으로 해야할 일\n",
    "    #큰 틀 : need_visit가 없을 때 까지\n",
    "    while need_visit: \n",
    "        node = need_visit.pop() \n",
    "        if node not in visited:  \n",
    "            visited.append(node)\n",
    "            temp = graph[node] # -> [2,3,8] \n",
    "            temp_reverse = list(reversed(temp)) # -> [8,3,2]\n",
    "            need_visit.extend(temp_reverse)\n",
    "    return visited"
   ]
  },
  {
   "cell_type": "code",
   "execution_count": 25,
   "id": "691d62a8",
   "metadata": {},
   "outputs": [
    {
     "data": {
      "text/plain": [
       "['1', '2', '7', '6', '8', '3', '4', '5']"
      ]
     },
     "execution_count": 25,
     "metadata": {},
     "output_type": "execute_result"
    }
   ],
   "source": [
    "dfs_deque(graph, \"1\")"
   ]
  },
  {
   "cell_type": "code",
   "execution_count": 26,
   "id": "d419ab8a",
   "metadata": {},
   "outputs": [],
   "source": [
    "#DFS를 그러면 Stack으로 활용해서 하는데 \n",
    "#-> 계속 동일한 일은 하는데 이것을 함수로 하면..?"
   ]
  },
  {
   "cell_type": "code",
   "execution_count": 27,
   "id": "043c98fa",
   "metadata": {},
   "outputs": [],
   "source": [
    "#전체 지도, 지금 위치, 지금까지 간 곳들 목록(visited)\n",
    "#이 기능을 언제 불러요? -> 지금 위치가 new하면\n",
    "def def_recursive_dict(graph, start,visited = [] ): \n",
    "    #일단 지금 위치 도장\n",
    "    visited.append(start)\n",
    "    #\n",
    "    for node in graph[start]:\n",
    "        if node not in visited:\n",
    "            def_recursive_dict(graph, node, visited)\n",
    "    return visited\n",
    "    "
   ]
  },
  {
   "cell_type": "code",
   "execution_count": 29,
   "id": "40564948",
   "metadata": {},
   "outputs": [
    {
     "data": {
      "text/plain": [
       "['1', '2', '7', '6', '8', '3', '4', '5']"
      ]
     },
     "execution_count": 29,
     "metadata": {},
     "output_type": "execute_result"
    }
   ],
   "source": [
    "def_recursive_dict(graph, \"1\")"
   ]
  },
  {
   "cell_type": "markdown",
   "id": "950658a2",
   "metadata": {},
   "source": [
    "## 얼음 덩어리 문제"
   ]
  },
  {
   "cell_type": "code",
   "execution_count": 32,
   "id": "9c35f217",
   "metadata": {},
   "outputs": [
    {
     "name": "stdout",
     "output_type": "stream",
     "text": [
      "가로, 세로를 공란으로 입력하세요 4 5\n",
      "정보 입력하세요0 0 1 1 0\n",
      "정보 입력하세요0 0 1 1 1\n",
      "정보 입력하세요1 1 1 1 1\n",
      "정보 입력하세요0 0 0 0 0\n"
     ]
    },
    {
     "data": {
      "text/plain": [
       "[[0, 0, 1, 1, 0], [0, 0, 1, 1, 1], [1, 1, 1, 1, 1], [0, 0, 0, 0, 0]]"
      ]
     },
     "execution_count": 32,
     "metadata": {},
     "output_type": "execute_result"
    }
   ],
   "source": [
    "# step1) 얼음 덩어리 입력단 설계\n",
    "##입력 1번째 줄 처리\n",
    "n,m = map(int,input(\"가로, 세로를 공란으로 입력하세요 \").split())\n",
    "##입력 2번째 줄부터 마지막줄까지 얼음틀 정보 입력\n",
    "graph = []\n",
    "for _ in range(n): # n개의 가로줄 입력 받기 위해서... 반복\n",
    "    graph.append(list(map(int,input(\"정보 입력하세요\").split())))\n",
    "graph"
   ]
  },
  {
   "cell_type": "code",
   "execution_count": 35,
   "id": "8afe2aec",
   "metadata": {},
   "outputs": [
    {
     "data": {
      "text/plain": [
       "1"
      ]
     },
     "execution_count": 35,
     "metadata": {},
     "output_type": "execute_result"
    }
   ],
   "source": [
    "graph[0][0]"
   ]
  },
  {
   "cell_type": "code",
   "execution_count": 36,
   "id": "8976e8d5",
   "metadata": {},
   "outputs": [],
   "source": [
    "#DFS로 구현할 때 가장 큰 틀은 counting\n",
    "\n",
    "#각 포인트마다 이동하면서 할 일이 동일함 -> 결과가 go, stop\n",
    "#--> 입력 : 위치정보, 출력 : go/ stop -> True, False\n",
    "def dfs_ice(x,y):\n",
    "    #얼음 틀 밖이면 더 call 안해도 된다\n",
    "    if x <= -1 or x >= n or y >= m or y <= -1:\n",
    "        return False\n",
    "    #얼음 틀 안이면, 그 현재 위치가 0이면 이동시켜 보자\n",
    "    if graph[x][y] == 0:\n",
    "        #일단 x,y에서 0이라고 해서 시작한다 -> 왔다 \n",
    "        graph[x][y] = 1\n",
    "        # --> L, R, U, D하면서 위에서 한 일 -> 도장 찍기\n",
    "        dfs_ice(x-1,y) #Up\n",
    "        dfs_ice(x+1,y) #Down\n",
    "        dfs_ice(x,y+1) #Right\n",
    "        dfs_ice(x,y-1) #Left\n",
    "        return True\n",
    "    return False\n",
    "        \n",
    "        \n",
    "result = 0 \n",
    "for i in range(n):\n",
    "    for j in range(m):\n",
    "        if dfs_ice(i,j) == True: #더 이상 움직이지 못 하면\n",
    "            result += 1"
   ]
  },
  {
   "cell_type": "code",
   "execution_count": 37,
   "id": "c9618874",
   "metadata": {},
   "outputs": [
    {
     "data": {
      "text/plain": [
       "2"
      ]
     },
     "execution_count": 37,
     "metadata": {},
     "output_type": "execute_result"
    }
   ],
   "source": [
    "result"
   ]
  },
  {
   "cell_type": "markdown",
   "id": "ffcaca80",
   "metadata": {},
   "source": [
    "# Numpy"
   ]
  },
  {
   "cell_type": "markdown",
   "id": "3ec47408",
   "metadata": {},
   "source": [
    ">패키지가 일단 설치 되어있다는 전제하에  패키지 부를 때                                      \n",
    ">1)패키지 전체를 부르는 경우\n",
    "import numpy \n",
    "/ import numpy as np                                         \n",
    ">2)패키지 중 일부만 부를 때\n",
    "  from 사용할 패키지 import 내가 필요한 것만"
   ]
  },
  {
   "cell_type": "markdown",
   "id": "959ddf05",
   "metadata": {},
   "source": [
    " * 1) 벡터 연산 -> 모든 원소에 일괄 적용!!!!\n",
    "                    -> 수식적인 표현을 그대로 코드로\n",
    "                    ->조건 검색이 가능한 불리언 인덱싱!\n",
    "                    ->데이터에 대해서 엄격하게 차원 (오/열 딱 각져야 함) ->ndim, shape, dtype\n",
    "                       --> 차원을 포함하여 reshape가능 (단, 차원 유지)\n",
    "                    ->수치연산 : 여러 수학적 함수가 사전에 정의가 되어 있음 -> 필요한 함수 검색해서 사용 \n",
    "                    \n",
    "* 2) 속도 -> 속도가 빠른데, 이유는 내부적인 메모리 \n",
    "\n",
    "* 3) 기타(인덱스) : 리스트 처럼 생각 -> 차원, 가로/세로의 관점으로 인덱스 접근\n",
    "                                         -> 가로/세로에 정수, 슬라이싱, 조건"
   ]
  },
  {
   "cell_type": "code",
   "execution_count": 38,
   "id": "c93dc510",
   "metadata": {},
   "outputs": [],
   "source": [
    "a = [100,200,300,400,500]\n",
    "# -> [110,210,310,410,510]"
   ]
  },
  {
   "cell_type": "code",
   "execution_count": 39,
   "id": "987627a3",
   "metadata": {},
   "outputs": [
    {
     "name": "stdout",
     "output_type": "stream",
     "text": [
      "[110, 210, 310, 410, 510]\n"
     ]
    }
   ],
   "source": [
    "b = []\n",
    "for i in a:\n",
    "    b.append(i + 10)\n",
    "print(b)"
   ]
  },
  {
   "cell_type": "code",
   "execution_count": 40,
   "id": "4f1368bf",
   "metadata": {},
   "outputs": [
    {
     "data": {
      "text/plain": [
       "[110, 210, 310, 410, 510]"
      ]
     },
     "execution_count": 40,
     "metadata": {},
     "output_type": "execute_result"
    }
   ],
   "source": [
    "[ i + 10 for i in a]"
   ]
  },
  {
   "cell_type": "code",
   "execution_count": 44,
   "id": "f5536a03",
   "metadata": {},
   "outputs": [
    {
     "data": {
      "text/plain": [
       "array([100, 200, 300, 400, 500])"
      ]
     },
     "execution_count": 44,
     "metadata": {},
     "output_type": "execute_result"
    }
   ],
   "source": [
    "import numpy as np\n",
    "a_arr = np.array(a)\n",
    "a_arr"
   ]
  },
  {
   "cell_type": "code",
   "execution_count": 45,
   "id": "661aefb9",
   "metadata": {},
   "outputs": [
    {
     "data": {
      "text/plain": [
       "array([110, 210, 310, 410, 510])"
      ]
     },
     "execution_count": 45,
     "metadata": {},
     "output_type": "execute_result"
    }
   ],
   "source": [
    "a_arr + 10 # x + 10\n",
    "# ---> 벡터 표현이 가능하여 수식을 그대로 코드로\n",
    "#      적용이 간단하다!!!"
   ]
  },
  {
   "cell_type": "code",
   "execution_count": 46,
   "id": "e90be492",
   "metadata": {},
   "outputs": [
    {
     "data": {
      "text/plain": [
       "[1, 2, 3, 4, 5, 10, 20, 30, 40, 50]"
      ]
     },
     "execution_count": 46,
     "metadata": {},
     "output_type": "execute_result"
    }
   ],
   "source": [
    "# 위의 경우와 유사한데...\n",
    "# 수학적 표현이라고 하면,,\n",
    "x = [1,2,3,4,5]\n",
    "y = [10,20,30,40,50]\n",
    "# -> x+y = [1+10, 2+20, 3+30, 4+40, 5+50]"
   ]
  },
  {
   "cell_type": "code",
   "execution_count": 47,
   "id": "9c553cdb",
   "metadata": {},
   "outputs": [
    {
     "data": {
      "text/plain": [
       "[11, 22, 33, 44, 55]"
      ]
     },
     "execution_count": 47,
     "metadata": {},
     "output_type": "execute_result"
    }
   ],
   "source": [
    "# Q)위의 쌩 파이썬의 리스트를 가지고 벡터합을 구현하려면?\n",
    "z = []\n",
    "for i in range(len(x)):\n",
    "    z.append(x[i] + y[i])\n",
    "z"
   ]
  },
  {
   "cell_type": "code",
   "execution_count": 49,
   "id": "92288aa5",
   "metadata": {},
   "outputs": [
    {
     "name": "stdout",
     "output_type": "stream",
     "text": [
      "[1 2 3 4 5]\n",
      "[10 20 30 40 50]\n"
     ]
    }
   ],
   "source": [
    "x_arr = np.array(x)\n",
    "y_arr = np.array(y)\n",
    "print(x_arr)\n",
    "print(y_arr)"
   ]
  },
  {
   "cell_type": "code",
   "execution_count": 50,
   "id": "3398502f",
   "metadata": {},
   "outputs": [
    {
     "data": {
      "text/plain": [
       "array([11, 22, 33, 44, 55])"
      ]
     },
     "execution_count": 50,
     "metadata": {},
     "output_type": "execute_result"
    }
   ],
   "source": [
    "x_arr + y_arr\n",
    "#두 벡터의 합으로 코드가 동일하게 작성"
   ]
  },
  {
   "cell_type": "markdown",
   "id": "57f0713b",
   "metadata": {},
   "source": [
    "### array 생성"
   ]
  },
  {
   "cell_type": "code",
   "execution_count": 52,
   "id": "96f4372f",
   "metadata": {},
   "outputs": [
    {
     "name": "stderr",
     "output_type": "stream",
     "text": [
      "C:\\Users\\MEDICI\\AppData\\Local\\Temp/ipykernel_189632/864172562.py:1: VisibleDeprecationWarning: Creating an ndarray from ragged nested sequences (which is a list-or-tuple of lists-or-tuples-or ndarrays with different lengths or shapes) is deprecated. If you meant to do this, you must specify 'dtype=object' when creating the ndarray.\n",
      "  test_arr = np.array([1,2,3,4,5,[\"a\",\"b\",\"c\",12,3]])\n"
     ]
    },
    {
     "data": {
      "text/plain": [
       "array([1, 2, 3, 4, 5, list(['a', 'b', 'c', 12, 3])], dtype=object)"
      ]
     },
     "execution_count": 52,
     "metadata": {},
     "output_type": "execute_result"
    }
   ],
   "source": [
    "test_arr = np.array([1,2,3,4,5,[\"a\",\"b\",\"c\",12,3]])\n",
    "test_arr"
   ]
  },
  {
   "cell_type": "markdown",
   "id": "b8a730b2",
   "metadata": {},
   "source": [
    "### array의 기본 정보"
   ]
  },
  {
   "cell_type": "code",
   "execution_count": 58,
   "id": "36311d32",
   "metadata": {},
   "outputs": [
    {
     "name": "stdout",
     "output_type": "stream",
     "text": [
      "2\n",
      "(2, 3)\n",
      "int32\n"
     ]
    }
   ],
   "source": [
    "a = np.array([\n",
    "             [1,2,3],\n",
    "             [4,5,6]\n",
    "                  ])\n",
    "print(a.ndim) # 몇 차원인지\n",
    "print(a.shape) # 00000000000데이터 모양\n",
    "print(a.dtype) # 값들이 정수, 실수, 문자인지"
   ]
  },
  {
   "cell_type": "code",
   "execution_count": 59,
   "id": "fc10cbdb",
   "metadata": {},
   "outputs": [],
   "source": [
    "## array에서 원하는 값을 접근하기 위해서는?\n",
    "# -> 리스트와 동일!!! 정수 인덱스가 기본\n",
    "#                     슬라이싱"
   ]
  },
  {
   "cell_type": "code",
   "execution_count": 60,
   "id": "95ba93e2",
   "metadata": {},
   "outputs": [
    {
     "data": {
      "text/plain": [
       "array([ 1,  3,  5, 10])"
      ]
     },
     "execution_count": 60,
     "metadata": {},
     "output_type": "execute_result"
    }
   ],
   "source": [
    "a = [1,3,5,10]\n",
    "a_arr = np.array(a)\n",
    "a_arr"
   ]
  },
  {
   "cell_type": "code",
   "execution_count": 61,
   "id": "b8c76246",
   "metadata": {},
   "outputs": [
    {
     "data": {
      "text/plain": [
       "5"
      ]
     },
     "execution_count": 61,
     "metadata": {},
     "output_type": "execute_result"
    }
   ],
   "source": [
    "a_arr[2]"
   ]
  },
  {
   "cell_type": "code",
   "execution_count": 62,
   "id": "58297d84",
   "metadata": {},
   "outputs": [
    {
     "data": {
      "text/plain": [
       "array([ 1,  3,  5, 10])"
      ]
     },
     "execution_count": 62,
     "metadata": {},
     "output_type": "execute_result"
    }
   ],
   "source": [
    "a_arr[:]"
   ]
  },
  {
   "cell_type": "code",
   "execution_count": 63,
   "id": "23db279b",
   "metadata": {},
   "outputs": [
    {
     "data": {
      "text/plain": [
       "array([1, 5])"
      ]
     },
     "execution_count": 63,
     "metadata": {},
     "output_type": "execute_result"
    }
   ],
   "source": [
    "a_arr[::2]"
   ]
  },
  {
   "cell_type": "markdown",
   "id": "ed5959b0",
   "metadata": {},
   "source": [
    "### 입력할 때 데이터 타입 지정"
   ]
  },
  {
   "cell_type": "code",
   "execution_count": 65,
   "id": "12346cdd",
   "metadata": {},
   "outputs": [
    {
     "data": {
      "text/plain": [
       "array([b'1', b'2', b'3'], dtype='|S1')"
      ]
     },
     "execution_count": 65,
     "metadata": {},
     "output_type": "execute_result"
    }
   ],
   "source": [
    "b = [1,2,3]\n",
    "b_arr = np.array(b, dtype = np.string_)\n",
    "b_arr"
   ]
  },
  {
   "cell_type": "code",
   "execution_count": null,
   "id": "2d69362d",
   "metadata": {},
   "outputs": [],
   "source": [
    "#데이터 타입 변경(수정)\n",
    "bb_arr = b_aarr.astype(np.float64) #np를 사용하니 np가 지정한 타입\n",
    "bb_arr"
   ]
  },
  {
   "cell_type": "code",
   "execution_count": 66,
   "id": "cb731659",
   "metadata": {},
   "outputs": [],
   "source": [
    "## range vs arange 함수  : 시작점, 끝점, 간격 다 똑같음"
   ]
  },
  {
   "cell_type": "code",
   "execution_count": 67,
   "id": "50d5d76f",
   "metadata": {},
   "outputs": [
    {
     "name": "stdout",
     "output_type": "stream",
     "text": [
      "0\n",
      "1\n",
      "2\n",
      "3\n",
      "4\n"
     ]
    }
   ],
   "source": [
    "for i in range(5): \n",
    "    print(i)"
   ]
  },
  {
   "cell_type": "code",
   "execution_count": 68,
   "id": "6c38b19b",
   "metadata": {},
   "outputs": [
    {
     "name": "stdout",
     "output_type": "stream",
     "text": [
      "0\n",
      "1\n",
      "2\n",
      "3\n",
      "4\n"
     ]
    }
   ],
   "source": [
    "for i in np.arange(5):\n",
    "    print(i)"
   ]
  },
  {
   "cell_type": "markdown",
   "id": "c55c4cbe",
   "metadata": {},
   "source": [
    "### 기본적인 수치연산에 많이 사용하는 것들                                    \n",
    "->선형대수에서 사용하는 특수한 행렬들이 필요하며"
   ]
  },
  {
   "cell_type": "code",
   "execution_count": 70,
   "id": "65f8b5b0",
   "metadata": {},
   "outputs": [
    {
     "data": {
      "text/plain": [
       "array([1., 1., 1., 1.])"
      ]
     },
     "execution_count": 70,
     "metadata": {},
     "output_type": "execute_result"
    }
   ],
   "source": [
    "np.ones(4)"
   ]
  },
  {
   "cell_type": "code",
   "execution_count": 71,
   "id": "5f952ac4",
   "metadata": {},
   "outputs": [
    {
     "data": {
      "text/plain": [
       "array([0., 0., 0., 0., 0.])"
      ]
     },
     "execution_count": 71,
     "metadata": {},
     "output_type": "execute_result"
    }
   ],
   "source": [
    "np.zeros(5)"
   ]
  },
  {
   "cell_type": "code",
   "execution_count": 72,
   "id": "be1e7f3a",
   "metadata": {},
   "outputs": [
    {
     "data": {
      "text/plain": [
       "array([[1., 0., 0., 0.],\n",
       "       [0., 1., 0., 0.],\n",
       "       [0., 0., 1., 0.],\n",
       "       [0., 0., 0., 1.]])"
      ]
     },
     "execution_count": 72,
     "metadata": {},
     "output_type": "execute_result"
    }
   ],
   "source": [
    "np.identity(4)"
   ]
  },
  {
   "cell_type": "markdown",
   "id": "653bfd1d",
   "metadata": {},
   "source": [
    "### 6 by 6 matrix에서 인덱스 문제"
   ]
  },
  {
   "cell_type": "code",
   "execution_count": 74,
   "id": "5b7a4812",
   "metadata": {},
   "outputs": [
    {
     "data": {
      "text/plain": [
       "array([0, 1, 2, 3, 4, 5])"
      ]
     },
     "execution_count": 74,
     "metadata": {},
     "output_type": "execute_result"
    }
   ],
   "source": [
    "np.arange(0,6,1)"
   ]
  },
  {
   "cell_type": "code",
   "execution_count": 78,
   "id": "08fc47bd",
   "metadata": {},
   "outputs": [
    {
     "data": {
      "text/plain": [
       "array([[ 0,  1,  2,  3,  4,  5],\n",
       "       [10, 11, 12, 13, 14, 15],\n",
       "       [20, 21, 22, 23, 24, 25],\n",
       "       [30, 31, 32, 33, 34, 35],\n",
       "       [40, 41, 42, 43, 44, 45],\n",
       "       [50, 51, 52, 53, 54, 55]])"
      ]
     },
     "execution_count": 78,
     "metadata": {},
     "output_type": "execute_result"
    }
   ],
   "source": [
    "a = np.arange(0,51,10)[:, np.newaxis] + np.arange(0,6,1) #np.newaxis 축 뒤집음\n",
    "a"
   ]
  },
  {
   "cell_type": "code",
   "execution_count": 80,
   "id": "a0c4a46b",
   "metadata": {},
   "outputs": [
    {
     "data": {
      "text/plain": [
       "3"
      ]
     },
     "execution_count": 80,
     "metadata": {},
     "output_type": "execute_result"
    }
   ],
   "source": [
    "a[0][3]"
   ]
  },
  {
   "cell_type": "code",
   "execution_count": 81,
   "id": "ffd7469d",
   "metadata": {},
   "outputs": [
    {
     "data": {
      "text/plain": [
       "3"
      ]
     },
     "execution_count": 81,
     "metadata": {},
     "output_type": "execute_result"
    }
   ],
   "source": [
    "a[0,3] #다이렉트로 접근 가능 "
   ]
  },
  {
   "cell_type": "code",
   "execution_count": 82,
   "id": "40a5c00c",
   "metadata": {},
   "outputs": [
    {
     "data": {
      "text/plain": [
       "array([[ 3,  4],\n",
       "       [23, 24]])"
      ]
     },
     "execution_count": 82,
     "metadata": {},
     "output_type": "execute_result"
    }
   ],
   "source": [
    "a[0:3:2,3:5]"
   ]
  },
  {
   "cell_type": "code",
   "execution_count": 83,
   "id": "e8f33155",
   "metadata": {},
   "outputs": [
    {
     "data": {
      "text/plain": [
       "array([[ 0,  1,  2,  3,  4,  5],\n",
       "       [40, 41, 42, 43, 44, 45]])"
      ]
     },
     "execution_count": 83,
     "metadata": {},
     "output_type": "execute_result"
    }
   ],
   "source": [
    "a[[0,4]] #맨 외각의 [  ]인데스를 쓰겟다의 기호\n",
    "#그 안의 [  ] 의 내가 볼 인덱스가 여러개여서\n",
    "#리스트로 보고자 한느거 다 써서 던진 리스트 표현"
   ]
  },
  {
   "cell_type": "code",
   "execution_count": 87,
   "id": "29c0b7c0",
   "metadata": {},
   "outputs": [
    {
     "data": {
      "text/plain": [
       "array([ 2, 12, 22, 32, 42, 52])"
      ]
     },
     "execution_count": 87,
     "metadata": {},
     "output_type": "execute_result"
    }
   ],
   "source": [
    "red = a[:,2]\n",
    "red"
   ]
  },
  {
   "cell_type": "code",
   "execution_count": 86,
   "id": "bfbc4c91",
   "metadata": {},
   "outputs": [
    {
     "data": {
      "text/plain": [
       "array([3, 4])"
      ]
     },
     "execution_count": 86,
     "metadata": {},
     "output_type": "execute_result"
    }
   ],
   "source": [
    "orange = a[0,3:5]\n",
    "orange"
   ]
  },
  {
   "cell_type": "code",
   "execution_count": 92,
   "id": "a54a9f2b",
   "metadata": {},
   "outputs": [
    {
     "data": {
      "text/plain": [
       "array([[20, 22, 24],\n",
       "       [40, 42, 44]])"
      ]
     },
     "execution_count": 92,
     "metadata": {},
     "output_type": "execute_result"
    }
   ],
   "source": [
    "baby_green = a[2::2, ::2]\n",
    "baby_green"
   ]
  },
  {
   "cell_type": "code",
   "execution_count": 89,
   "id": "5f061c4a",
   "metadata": {},
   "outputs": [
    {
     "data": {
      "text/plain": [
       "array([[44, 45],\n",
       "       [54, 55]])"
      ]
     },
     "execution_count": 89,
     "metadata": {},
     "output_type": "execute_result"
    }
   ],
   "source": [
    "green = a[4:, 4:]\n",
    "green "
   ]
  },
  {
   "cell_type": "markdown",
   "id": "08c1bac8",
   "metadata": {},
   "source": [
    "### boolean indexing"
   ]
  },
  {
   "cell_type": "markdown",
   "id": "706c0353",
   "metadata": {},
   "source": [
    ">인덱스를 사용하는데 정수가 아니라 논리적인 인덱스를 사용하겠다"
   ]
  },
  {
   "cell_type": "code",
   "execution_count": 93,
   "id": "097729f9",
   "metadata": {},
   "outputs": [
    {
     "data": {
      "text/plain": [
       "array([0, 1, 2, 3, 4, 5, 6, 7, 8, 9])"
      ]
     },
     "execution_count": 93,
     "metadata": {},
     "output_type": "execute_result"
    }
   ],
   "source": [
    "test_arr = np.arange(10)\n",
    "test_arr"
   ]
  },
  {
   "cell_type": "code",
   "execution_count": 100,
   "id": "40dc9a7f",
   "metadata": {},
   "outputs": [
    {
     "data": {
      "text/plain": [
       "array([ True,  True,  True,  True, False,  True,  True, False, False,\n",
       "       False,  True,  True, False, False])"
      ]
     },
     "execution_count": 100,
     "metadata": {},
     "output_type": "execute_result"
    }
   ],
   "source": [
    "#예시 상황1) 1000개의 위의 test_arr, 값도 랜덤\n",
    "# --> 5보다 작은 값은 뭘까?\n",
    "test_arr < 5 "
   ]
  },
  {
   "cell_type": "code",
   "execution_count": 101,
   "id": "c3293213",
   "metadata": {},
   "outputs": [
    {
     "data": {
      "text/plain": [
       "array([1, 2, 3, 4, 3, 2, 2, 3])"
      ]
     },
     "execution_count": 101,
     "metadata": {},
     "output_type": "execute_result"
    }
   ],
   "source": [
    "#그래서 궁극적으로 전체 데이터 중에서 \n",
    "#실제 5보다 작은 값들이 누구냐? 정체를 나타내라\n",
    "test_arr[test_arr < 5]"
   ]
  },
  {
   "cell_type": "code",
   "execution_count": 109,
   "id": "661cae39",
   "metadata": {},
   "outputs": [
    {
     "name": "stdout",
     "output_type": "stream",
     "text": [
      "[3 4 5 3 3 5]\n",
      "6\n"
     ]
    }
   ],
   "source": [
    "#예를 들어 3~5사이의 값들만 보고 싶다\n",
    "# -> 위의 데이터에서 3,4,5에 해당하는 값들만 보고 싶음\n",
    "#--> 조건1 : 3이상, 조건2 : 5이하, 조건1과 2는 and\n",
    "test_arr = np.array([1,2,3,4,5,3,2,6,8,9,2,3,5,6])\n",
    "print(test_arr[ (test_arr >= 3) & (test_arr <= 5)])\n",
    "print(len(test_arr[ (test_arr >= 3) & (test_arr <= 5)]))"
   ]
  },
  {
   "cell_type": "markdown",
   "id": "6d32e80f",
   "metadata": {},
   "source": [
    "### 나머지 기타 등등"
   ]
  },
  {
   "cell_type": "code",
   "execution_count": 111,
   "id": "183a26e4",
   "metadata": {},
   "outputs": [
    {
     "data": {
      "text/plain": [
       "array([ 0,  1,  2,  3,  4,  5,  6,  7,  8,  9, 10, 11, 12, 13, 14, 15, 16,\n",
       "       17, 18, 19, 20, 21, 22, 23, 24, 25, 26, 27, 28, 29, 30, 31])"
      ]
     },
     "execution_count": 111,
     "metadata": {},
     "output_type": "execute_result"
    }
   ],
   "source": [
    "a = np.arange(32)\n",
    "a"
   ]
  },
  {
   "cell_type": "code",
   "execution_count": 112,
   "id": "41d3b9c6",
   "metadata": {},
   "outputs": [
    {
     "data": {
      "text/plain": [
       "array([[ 0,  1,  2,  3,  4,  5,  6,  7],\n",
       "       [ 8,  9, 10, 11, 12, 13, 14, 15],\n",
       "       [16, 17, 18, 19, 20, 21, 22, 23],\n",
       "       [24, 25, 26, 27, 28, 29, 30, 31]])"
      ]
     },
     "execution_count": 112,
     "metadata": {},
     "output_type": "execute_result"
    }
   ],
   "source": [
    "a.reshape((4,8)) #오와 열이 맞아야 함"
   ]
  },
  {
   "cell_type": "code",
   "execution_count": 113,
   "id": "ae5b82ce",
   "metadata": {},
   "outputs": [],
   "source": [
    "#수치엱산을 위한 것들이니 필요한 여러 연산을 미리 정의"
   ]
  },
  {
   "cell_type": "code",
   "execution_count": 114,
   "id": "ae25e6bd",
   "metadata": {},
   "outputs": [
    {
     "data": {
      "text/plain": [
       "array([ 0,  1,  2,  3,  4,  5,  6,  7,  8,  9, 10, 11, 12, 13, 14, 15, 16,\n",
       "       17, 18, 19, 20, 21, 22, 23, 24, 25, 26, 27, 28, 29, 30, 31])"
      ]
     },
     "execution_count": 114,
     "metadata": {},
     "output_type": "execute_result"
    }
   ],
   "source": [
    "a"
   ]
  },
  {
   "cell_type": "code",
   "execution_count": 115,
   "id": "590a2bf0",
   "metadata": {},
   "outputs": [
    {
     "data": {
      "text/plain": [
       "15.5"
      ]
     },
     "execution_count": 115,
     "metadata": {},
     "output_type": "execute_result"
    }
   ],
   "source": [
    "a.mean()"
   ]
  },
  {
   "cell_type": "code",
   "execution_count": 116,
   "id": "35eb57c8",
   "metadata": {},
   "outputs": [
    {
     "data": {
      "text/plain": [
       "9.233092656309694"
      ]
     },
     "execution_count": 116,
     "metadata": {},
     "output_type": "execute_result"
    }
   ],
   "source": [
    "a.std()"
   ]
  }
 ],
 "metadata": {
  "kernelspec": {
   "display_name": "Python 3 (ipykernel)",
   "language": "python",
   "name": "python3"
  },
  "language_info": {
   "codemirror_mode": {
    "name": "ipython",
    "version": 3
   },
   "file_extension": ".py",
   "mimetype": "text/x-python",
   "name": "python",
   "nbconvert_exporter": "python",
   "pygments_lexer": "ipython3",
   "version": "3.9.7"
  }
 },
 "nbformat": 4,
 "nbformat_minor": 5
}
