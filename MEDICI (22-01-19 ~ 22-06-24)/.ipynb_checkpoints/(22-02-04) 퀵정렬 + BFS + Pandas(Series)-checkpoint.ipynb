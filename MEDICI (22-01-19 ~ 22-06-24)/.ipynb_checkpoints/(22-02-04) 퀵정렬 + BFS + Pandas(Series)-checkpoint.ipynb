{
 "cells": [
  {
   "cell_type": "markdown",
   "id": "8a3c30dd",
   "metadata": {},
   "source": [
    "## 퀵 정렬"
   ]
  },
  {
   "cell_type": "code",
   "execution_count": 4,
   "id": "c9d1d89d",
   "metadata": {},
   "outputs": [
    {
     "data": {
      "text/plain": [
       "[5, 7, 9, 0, 3, 1, 6, 2, 4, 8]"
      ]
     },
     "execution_count": 4,
     "metadata": {},
     "output_type": "execute_result"
    }
   ],
   "source": [
    "arr = [5, 7, 9, 0, 3, 1, 6, 2, 4, 8]\n",
    "arr"
   ]
  },
  {
   "cell_type": "code",
   "execution_count": 7,
   "id": "feb49082",
   "metadata": {},
   "outputs": [],
   "source": [
    "# 기능적으로 필요한 것 :  pivot, DOwn, Up 나누는 기능 -> 반복\n",
    "# 이러한 기능적인 반복에서 위치 지정을 통해서 처리 -> start, end 인덱스 \n",
    "def quick_sort(data, start, end):\n",
    "    #Stop : 원소의 개수가 1개 \n",
    "    if start >=  end:\n",
    "        return\n",
    "    #Go : 원소 개수가 2개 이상\n",
    "    else:\n",
    "        #시작을 위한 세팅 pivot, left, right\n",
    "        pivot = start\n",
    "        left = start + 1 \n",
    "        right = end      \n",
    "        #세팅하고 언제까지 할 것인가 \n",
    "        while(left <= right):\n",
    "            #left 달릴 조건 -> pivot 작을 때\n",
    "            while(left <= end and data[left] <= data[pivot]):\n",
    "                left += 1 # ->으로 이동 : +1\n",
    "            #right 달릴 조건 -> pivot 클 때\n",
    "            while(right > start and data[right] >= data[pivot]):\n",
    "                right -= 1 # <-으로 이동 : -1\n",
    "            #일단 lift, right 멈추고 나서 \n",
    "            #swap : 2가지 (right < left) : pivot <-> right\n",
    "            #              선수선발 다 안 끝날때 : left value <-> right value\n",
    "            if left > right : #양팀 주장이 서로 경계를 넘어감\n",
    "                data[pivot], data[right] = data[right], data[pivot]\n",
    "            else: #아직 선수선발 완료 전\n",
    "                data[left], data[right] = data[right], data[left]\n",
    "                \n",
    "        #### downs pivot(1) ups ####\n",
    "        ## downs에 이 일을 적용\n",
    "        quick_sort(data, start, right-1)\n",
    "        ## ups에 이 일을 적용\n",
    "        quick_sort(data, right+1, end)"
   ]
  },
  {
   "cell_type": "code",
   "execution_count": 8,
   "id": "405c4789",
   "metadata": {},
   "outputs": [],
   "source": [
    "quick_sort(arr, 0, len(arr)-1)"
   ]
  },
  {
   "cell_type": "code",
   "execution_count": 9,
   "id": "861dd75d",
   "metadata": {},
   "outputs": [
    {
     "data": {
      "text/plain": [
       "[0, 1, 2, 3, 4, 5, 6, 7, 8, 9]"
      ]
     },
     "execution_count": 9,
     "metadata": {},
     "output_type": "execute_result"
    }
   ],
   "source": [
    "arr"
   ]
  },
  {
   "cell_type": "code",
   "execution_count": 10,
   "id": "b9d79a12",
   "metadata": {},
   "outputs": [
    {
     "data": {
      "text/plain": [
       "[5, 0, 3, 1, 2, 4]"
      ]
     },
     "execution_count": 10,
     "metadata": {},
     "output_type": "execute_result"
    }
   ],
   "source": [
    "arr = [5, 7, 9, 0, 3, 1, 6, 2, 4, 8]\n",
    "pivot = arr[0]\n",
    "left = [i for i in arr if i <= arr[0]]\n",
    "left"
   ]
  },
  {
   "cell_type": "code",
   "execution_count": 11,
   "id": "dda0b5d8",
   "metadata": {},
   "outputs": [],
   "source": [
    "### 일반적인 퀵 정렬의 아이디어를 파이썬 특징을 활용해서 \n",
    "def quick_sort_py(data):\n",
    "    #stop : 원소가 1개 \n",
    "    if len(data) <= 1:\n",
    "        return data\n",
    "    #go : 원소가 1개 이상일 때\n",
    "    else:\n",
    "        #시작 세팅 : 기준과 그 외\n",
    "        pivot = data[0]\n",
    "        tail = data [1:] #pivot을 제외한 값들 \n",
    "        #left_part, right_part로 나누자 : 리스트 컴프리핸션\n",
    "        #단, 주의할 점은 poivot 같은 값을 left, right 한쪽에만 몰아야 전체 모양이 그대로 유지된다!\n",
    "        left_side = [x for x in tail if x <= pivot]\n",
    "        right_side = [x for x in tail if x > pivot]\n",
    "        #출력\n",
    "        return quick_sort_py(left_side) + [pivot] + quick_sort_py(right_side)"
   ]
  },
  {
   "cell_type": "code",
   "execution_count": 12,
   "id": "00d5dd5f",
   "metadata": {},
   "outputs": [
    {
     "data": {
      "text/plain": [
       "[0, 1, 2, 3, 4, 5, 6, 7, 8, 9]"
      ]
     },
     "execution_count": 12,
     "metadata": {},
     "output_type": "execute_result"
    }
   ],
   "source": [
    "quick_sort_py(arr)"
   ]
  },
  {
   "cell_type": "markdown",
   "id": "49a24c29",
   "metadata": {},
   "source": [
    "## BFS "
   ]
  },
  {
   "cell_type": "markdown",
   "id": "a917b42c",
   "metadata": {},
   "source": [
    "####  최소 경로"
   ]
  },
  {
   "cell_type": "code",
   "execution_count": 17,
   "id": "3e7e91cb",
   "metadata": {},
   "outputs": [
    {
     "data": {
      "text/plain": [
       "{'1': ['2', '3', '8'],\n",
       " '2': ['1', '7'],\n",
       " '3': ['1', '4', '5'],\n",
       " '4': ['3', '5'],\n",
       " '5': ['3', '4'],\n",
       " '6': ['7'],\n",
       " '7': ['2', '6', '8'],\n",
       " '8': ['1', '7']}"
      ]
     },
     "execution_count": 17,
     "metadata": {},
     "output_type": "execute_result"
    }
   ],
   "source": [
    "graph = {\n",
    "    \"1\" : [\"2\",\"3\",\"8\"],\n",
    "    \"2\" : [\"1\",\"7\"],\n",
    "    \"3\" : [\"1\",\"4\",\"5\"],\n",
    "    \"4\" : [\"3\",\"5\"],\n",
    "    \"5\" : [\"3\",\"4\"],\n",
    "    \"6\" : [\"7\"],\n",
    "    \"7\" : [\"2\",\"6\",\"8\"],\n",
    "    \"8\" : [\"1\",\"7\"]\n",
    "}\n",
    "graph"
   ]
  },
  {
   "cell_type": "code",
   "execution_count": 18,
   "id": "56b00ab5",
   "metadata": {},
   "outputs": [],
   "source": [
    "def bfs_list(graph, start): #입력 : 지도 - 인접 리스트 방식\n",
    "    need_visit = list()\n",
    "    visited = list()\n",
    "    need_visit.append(start)\n",
    "    while need_visit: \n",
    "        ##### 방문할 리스트 중에서 맨 앞의 값을 뽑아서 처리  -> DFS랑 요기만 달라짐\n",
    "        node = need_visit.pop(0) # 방문리스트 중 맨 뒤 선택\n",
    "        #############################################\n",
    "        if node not in visited:  #방문 목록에 없으면\n",
    "            visited.append(node)\n",
    "            need_visit.extend(graph[node])\n",
    "    return visited\n",
    "            "
   ]
  },
  {
   "cell_type": "code",
   "execution_count": 20,
   "id": "5e42037a",
   "metadata": {},
   "outputs": [
    {
     "data": {
      "text/plain": [
       "['1', '2', '3', '8', '7', '4', '5', '6']"
      ]
     },
     "execution_count": 20,
     "metadata": {},
     "output_type": "execute_result"
    }
   ],
   "source": [
    "bfs_list(graph, \"1\")"
   ]
  },
  {
   "cell_type": "code",
   "execution_count": 21,
   "id": "ba469824",
   "metadata": {},
   "outputs": [],
   "source": [
    "#bfs with Deque\n",
    "######################################\n",
    "from collections import deque\n",
    "def bfs_deque(graph, start): #입력 : 지도 - 인접 리스트 방식\n",
    "    need_visit = deque()\n",
    "######################################\n",
    "    visited = list()\n",
    "    need_visit.append(start)\n",
    "    while need_visit: \n",
    "        ##### 방문할 리스트 중에서 맨 앞의 값을 뽑아서 처리  -> DFS랑 요기만 달라짐\n",
    "        node = need_visit.popleft() # 방문리스트 중 맨 뒤 선택\n",
    "        #############################################\n",
    "        if node not in visited:  #방문 목록에 없으면\n",
    "            visited.append(node)\n",
    "            need_visit.extend(graph[node])\n",
    "    return visited"
   ]
  },
  {
   "cell_type": "code",
   "execution_count": 22,
   "id": "3f4ee72c",
   "metadata": {},
   "outputs": [
    {
     "data": {
      "text/plain": [
       "['1', '2', '3', '8', '7', '4', '5', '6']"
      ]
     },
     "execution_count": 22,
     "metadata": {},
     "output_type": "execute_result"
    }
   ],
   "source": [
    "bfs_deque(graph, \"1\")"
   ]
  },
  {
   "cell_type": "code",
   "execution_count": 23,
   "id": "93814928",
   "metadata": {},
   "outputs": [],
   "source": [
    "### DFS로 구현을 한 얼음문제를 BFS로 해보자"
   ]
  },
  {
   "cell_type": "code",
   "execution_count": 24,
   "id": "984b6f2c",
   "metadata": {},
   "outputs": [
    {
     "name": "stdout",
     "output_type": "stream",
     "text": [
      "가로, 세로를 공란으로 입력하세요 4 5\n",
      "정보 입력하세요0 0 1 1 0\n",
      "정보 입력하세요0 0 1 1 0\n",
      "정보 입력하세요1 1 1 1 1\n",
      "정보 입력하세요0 0 0 0 0\n"
     ]
    },
    {
     "data": {
      "text/plain": [
       "[[0, 0, 1, 1, 0], [0, 0, 1, 1, 0], [1, 1, 1, 1, 1], [0, 0, 0, 0, 0]]"
      ]
     },
     "execution_count": 24,
     "metadata": {},
     "output_type": "execute_result"
    }
   ],
   "source": [
    "##입력 1번째 줄 처리\n",
    "n,m = map(int,input(\"가로, 세로를 공란으로 입력하세요 \").split())\n",
    "##입력 2번째 줄부터 마지막줄까지 얼음틀 정보 입력\n",
    "graph = []\n",
    "for _ in range(n): # n개의 가로줄 입력 받기 위해서... 반복\n",
    "    graph.append(list(map(int,input(\"정보 입력하세요\").split())))\n",
    "graph"
   ]
  },
  {
   "cell_type": "code",
   "execution_count": 30,
   "id": "1797df72",
   "metadata": {},
   "outputs": [],
   "source": [
    "from collections import deque\n",
    "\n",
    "def bfs_ice_deque(row, col):\n",
    "    #지금 위치가 탐색을 시작해야할지, 안해야할지 판단\n",
    "    if graph[row][col] == 0: #[row, col] 이건 numpy import 해야 가능\n",
    "        # 0이면 얼음 얼릴 수 있으니 시작\n",
    "        #내가 지금 위치에서 이동할 곳들을 담을 리스트 : to visit list\n",
    "        need_visit = deque([ [row, col] ])\n",
    "        # 나 여기 왔으니 이제 더 못 온다 도장 찍음\n",
    "        graph[row][col] = 1\n",
    "        while True:\n",
    "            if not need_visit: #더이상 방문할 곳이 없을 때\n",
    "                return 1\n",
    "            else: #더 움직일 수 있다면\n",
    "                row, col = need_visit.popleft() #node = need_visit.pop()\n",
    "                #여기서 R:[0,1], L:[0, -1], D:[1,0], U:[-1,0]에 대한 이동을 체크\n",
    "                for dx, dy in [ [0,1],[0, -1],[1,0],[-1,0]]:\n",
    "                    #위의 4가지 방향에 대해서 이동이 가능한지 찾아보기\n",
    "                    #단, 주어진 범위 내에서만 해야하니\n",
    "                    if 0 <= row + dy <= n-1 and 0 <= col + dx <= m-1: #인바운드\n",
    "                        if graph[row+dy][col+dx] == 0:\n",
    "                            need_visit.append([ row+dy, col+dx ])\n",
    "                            graph[row+dy][col+dx] = 1\n",
    "    else:\n",
    "        return 0\n",
    "    \n",
    "#앞에서 dfs로 한 것과 동일한 가장 큰 틀\n",
    "#  -> 전체 돌아가면서 탐색을 시작할 수 있으면 탐색을 다 하고 마무리가 되면 카툰팅 1 올리자\n",
    "result = 0 \n",
    "for row in range(n):\n",
    "    for col in range(m):\n",
    "        result += bfs_ice_deque(row,col) # 함수는 0,1로 return\n",
    "        #if bfs_ice_deque(i,j) == True: #더 이상 움직이지 못 하면\n",
    "        #   result += 1"
   ]
  },
  {
   "cell_type": "code",
   "execution_count": 31,
   "id": "6c58b969",
   "metadata": {},
   "outputs": [
    {
     "data": {
      "text/plain": [
       "3"
      ]
     },
     "execution_count": 31,
     "metadata": {},
     "output_type": "execute_result"
    }
   ],
   "source": [
    "result"
   ]
  },
  {
   "cell_type": "code",
   "execution_count": 26,
   "id": "da4e81f4",
   "metadata": {
    "scrolled": true
   },
   "outputs": [
    {
     "name": "stdout",
     "output_type": "stream",
     "text": [
      "a\n",
      "b\n",
      "c\n",
      "d\n"
     ]
    }
   ],
   "source": [
    "a = a = [\"a\",\"b\",\"c\",\"d\"]\n",
    "for i in a:\n",
    "    print(i)"
   ]
  },
  {
   "cell_type": "code",
   "execution_count": 27,
   "id": "f361e1b3",
   "metadata": {},
   "outputs": [
    {
     "name": "stdout",
     "output_type": "stream",
     "text": [
      "(0, 'a')\n",
      "(1, 'b')\n",
      "(2, 'c')\n",
      "(3, 'd')\n"
     ]
    }
   ],
   "source": [
    "for i in enumerate(a): #위치랑 값 같이 찍기\n",
    "    print(i)"
   ]
  },
  {
   "cell_type": "code",
   "execution_count": 28,
   "id": "dda60133",
   "metadata": {},
   "outputs": [
    {
     "name": "stdout",
     "output_type": "stream",
     "text": [
      "0\n",
      "a\n",
      "1\n",
      "b\n",
      "2\n",
      "c\n",
      "3\n",
      "d\n"
     ]
    }
   ],
   "source": [
    "for idx, v in enumerate(a):\n",
    "    print(idx)\n",
    "    print(v)"
   ]
  },
  {
   "cell_type": "markdown",
   "id": "6023bace",
   "metadata": {},
   "source": [
    "#### 미로 탐색"
   ]
  },
  {
   "cell_type": "code",
   "execution_count": 2,
   "id": "123d618d",
   "metadata": {},
   "outputs": [
    {
     "name": "stdout",
     "output_type": "stream",
     "text": [
      "가로, 세로 크기 입력4 6\n",
      "~~1 1 0 1 1 0\n",
      "~~1 1 0 1 1 0\n",
      "~~1 1 1 1 1 1\n",
      "~~1 1 1 1 0 1\n"
     ]
    },
    {
     "data": {
      "text/plain": [
       "[[1, 1, 0, 1, 1, 0],\n",
       " [1, 1, 0, 1, 1, 0],\n",
       " [1, 1, 1, 1, 1, 1],\n",
       " [1, 1, 1, 1, 0, 1]]"
      ]
     },
     "execution_count": 2,
     "metadata": {},
     "output_type": "execute_result"
    }
   ],
   "source": [
    "#입력단\n",
    "n,m = map(int, input(\"가로, 세로 크기 입력\").split())\n",
    "#미로에 대한 지도 받기\n",
    "graph = []\n",
    "#가로줄 수만큼 돌리면서 입력 받으면 되니\n",
    "for _ in range(n):\n",
    "    graph.append( list(map(int, input(\"~~\").split())))\n",
    "graph"
   ]
  },
  {
   "cell_type": "code",
   "execution_count": 6,
   "id": "eb5c99a7",
   "metadata": {},
   "outputs": [
    {
     "name": "stdout",
     "output_type": "stream",
     "text": [
      "9\n"
     ]
    }
   ],
   "source": [
    "#4가지 방향에 대한 이동\n",
    "dx = [-1, 1, 0, 0]\n",
    "dy = [0, 0, -1, 1]\n",
    "\n",
    "# bfs -> 큐를 사용할 것인데,,속도때문에..deque\n",
    "from collections import deque\n",
    "\n",
    "# 처리하는 함수 : bfs_miro 함수이름\n",
    "#               : 입력 : 시작점 위치 정보-> 스탭가면서 +1 지도 갱신\n",
    "#               : 출력은 없음!!! \n",
    "#               : 하지만, 진행하면서 Visited하면 graph에 값을 갱신하면서 진행~\n",
    "def bfs_miro(start_pos): # -> 입력은 시작점에 대한 위치 정보  (0,0)\n",
    "     # 일단 지금 위치에 대해서 check -> x_pos, y_pos\n",
    "    x_pos = start_pos[0]\n",
    "    y_pos = start_pos[1]\n",
    "    # to visit list : deque로 초기화\n",
    "    need_visit = deque() #방문할 목록 큐\n",
    "    # 일단 지금 위치에 대한 것을 to visit list에 추가\n",
    "    need_visit.append((x_pos,y_pos))\n",
    "    \n",
    "    #visit list(큐)가 빌 때까지 : while\n",
    "    while need_visit:\n",
    "        #일단 어디 방문해야 할지 정보 추출 : popleft()\n",
    "        x, y = need_visit.popleft()   #node -> x, y\n",
    "        #여기서 상/하/좌/우에 대해서 check\n",
    "        for i in range(len(dx)):\n",
    "            nx = x + dx[i]\n",
    "            ny = y + dy[i]\n",
    "            #일단 이동해보고, 그게 지도 안쪽..\n",
    "            if (0 <= nx < n) and (0 <= ny < m):\n",
    "                #지도 안에여도 이동이 가능해야 하는 1인 길인지\n",
    "                if graph[nx][ny] ==1:\n",
    "                    graph[nx][ny] = graph[x][y] + 1\n",
    "                    need_visit.append((nx,ny ))\n",
    "                #그러면 나 여기 왔다~ 도장 \n",
    "                \n",
    "\n",
    "# 구체적인 함수 실행 : 시작점에 대한 위치 정보 -> (0,0) :파이썬 기준\n",
    "bfs_miro( (0,0) ) #-> 시작점 정보 (x,y) : 1개로 묶여서\n",
    "print(graph[n-1][m-1])"
   ]
  },
  {
   "cell_type": "markdown",
   "id": "46b0bb3a",
   "metadata": {},
   "source": [
    "#### 특정 거리 도시 찾기 문제"
   ]
  },
  {
   "cell_type": "code",
   "execution_count": 13,
   "id": "80c40d96",
   "metadata": {},
   "outputs": [],
   "source": [
    "from collections import deque"
   ]
  },
  {
   "cell_type": "code",
   "execution_count": 16,
   "id": "1be8cd0f",
   "metadata": {},
   "outputs": [
    {
     "name": "stdout",
     "output_type": "stream",
     "text": [
      "도시수, 도로수, 거리, 시작도시4 4 2 1\n",
      "연결 s e1 2\n",
      "연결 s e1 3\n",
      "연결 s e2 3\n",
      "연결 s e2 4\n"
     ]
    },
    {
     "data": {
      "text/plain": [
       "[[], [2, 3], [3, 4], [], []]"
      ]
     },
     "execution_count": 16,
     "metadata": {},
     "output_type": "execute_result"
    }
   ],
   "source": [
    "#입력단 \n",
    "n,m,k,x = list(map(int,input(\"도시수, 도로수, 거리, 시작도시\").split()))\n",
    "#문제에서 1번 도시부터 N번 도시까지이니 graph 지도에서 1번 인덱스 ~ N번 인덱스에 각 도시를 의미\n",
    "#일단 0번 도시 ~ N번 도시까지 있다.. 빈 그래프\n",
    "graph = [[] for _ in range(n+1)]\n",
    "# 도로의 개수에 대해서 돌아가면서 graph에 추가\n",
    "for _ in range(m):\n",
    "    s, e = map(int, input(\"연결 s e\").split())\n",
    "    graph[s].append(e)\n",
    "graph    "
   ]
  },
  {
   "cell_type": "code",
   "execution_count": 17,
   "id": "e53f92db",
   "metadata": {},
   "outputs": [],
   "source": [
    "#함수 : 입력 출발 도시 -> 주어진 graph에 따라서\n",
    "#    각 도시별 거리에 대한 정보를 출력\n",
    "#    입력 : 출발도시, 출력 : 각 도시별 거리\n",
    "INF = float(\"inf\")\n",
    "def bfs_city(start):\n",
    "    #####필요한 정보들 세팅 : To Vist, Visited\n",
    "    #visisted list : 각 도시별 거리에 대한 정보 -> 초기 inf\n",
    "    distance = [INF] * (n+1) # [iNF] + [iNF] + [iNF] + ...\n",
    "    # 방문목록 : to visit list\n",
    "    q = deque()\n",
    "    \n",
    "    #####초기값에 대해서 설정\n",
    "    q.append(start)\n",
    "    distance[start] = 0\n",
    "\n",
    "    #####to visit list 빌 때까지\n",
    "    while q:\n",
    "        #일단 1개 도시에서 -> 뽑아 popleft\n",
    "        now = q.popleft()\n",
    "        for next_node in graph[now]:\n",
    "            if distance[next_node] == INF:\n",
    "                #거리갱신\n",
    "                distance[next_node] = distance[now] + 1\n",
    "                q.append(next_node)\n",
    "    return distance"
   ]
  },
  {
   "cell_type": "code",
   "execution_count": 21,
   "id": "d3925941",
   "metadata": {},
   "outputs": [
    {
     "data": {
      "text/plain": [
       "[inf, 0, 1, 1, 2]"
      ]
     },
     "execution_count": 21,
     "metadata": {},
     "output_type": "execute_result"
    }
   ],
   "source": [
    "dis_result = bfs_city(x)\n",
    "dis_result"
   ]
  },
  {
   "cell_type": "code",
   "execution_count": 22,
   "id": "258ccd05",
   "metadata": {},
   "outputs": [
    {
     "name": "stdout",
     "output_type": "stream",
     "text": [
      "4\n"
     ]
    }
   ],
   "source": [
    "dis_k = [i for i , v in enumerate(dis_result) if v == k ]\n",
    "###출력 양식\n",
    "if dis_k == []:\n",
    "    print(-1)\n",
    "else:\n",
    "    while dis_k:\n",
    "        print(dis_k.pop(0))"
   ]
  },
  {
   "cell_type": "markdown",
   "id": "0e7b7029",
   "metadata": {},
   "source": [
    "- 거리계산, 최단거리 등에서는 Bfs기반으로 생각을 먼저\n",
    "- 방문 목록, 방만한 곳을 문제에 맞게 어떻게 변형할거냐\n",
    "  - -> 예) 얼음,미로: 방문한 곳 - 지도 /  도시 : 방문한곳 - 거리\n",
    "- 주어진 문제 상황을 어떻게 표현할지\n",
    "  - -> 예) 얼음, 미로 : 가로,세로 딱 맞춰서 ..2D  / 도시 : 도시 숫자하고 지도의 순서를 보통 맞춰서\n"
   ]
  },
  {
   "cell_type": "markdown",
   "id": "6f0dcb0c",
   "metadata": {},
   "source": [
    "##  속도 부분 비교 "
   ]
  },
  {
   "cell_type": "markdown",
   "id": "2dbee709",
   "metadata": {},
   "source": [
    ">파이썬은 코드 작성 방법이 너무 많은데 그 중에서 그럼 큰 틀은 어떻게 할지에 대해서"
   ]
  },
  {
   "cell_type": "code",
   "execution_count": 39,
   "id": "51d9c3f0",
   "metadata": {},
   "outputs": [],
   "source": [
    "import time\n",
    "import numpy as np"
   ]
  },
  {
   "cell_type": "markdown",
   "id": "273d5a90",
   "metadata": {},
   "source": [
    "#### 쌩 파이썬의 리스트 vs Numpy Array의 속도 비교"
   ]
  },
  {
   "cell_type": "code",
   "execution_count": 40,
   "id": "27780fb9",
   "metadata": {},
   "outputs": [],
   "source": [
    "def pythonlist(size_vector):\n",
    "    t1 = time.time()\n",
    "    x = range(size_vector)\n",
    "    y = range(size_vector)\n",
    "    z = []\n",
    "    for i in range(size_vector):\n",
    "        z.append(x[i] + y[i])\n",
    "    t2 = time.time()\n",
    "    print(\"pythonlist :\" + str(t2 - t1))\n",
    "        \n",
    "def numpyarray1(size_vector):\n",
    "    t1 = time.time()\n",
    "    x = np.arange(size_vector)\n",
    "    y = np.arange(size_vector)\n",
    "    z = x + y\n",
    "    t2 = time.time()\n",
    "    print(\"numpyarray1 :\" + str(t2 - t1))\n",
    "    \n",
    "def numpyarray2(size_vector):\n",
    "    t1 = time.time()\n",
    "    x = np.arange(size_vector)\n",
    "    y = np.arange(size_vector)\n",
    "    z = np.arange(size_vector)\n",
    "    for i in range(size_vector):\n",
    "        z[i] = x[i] + y[i]\n",
    "    t2 = time.time()\n",
    "    print(\"numpyarray2 :\" + str(t2 - t1))"
   ]
  },
  {
   "cell_type": "code",
   "execution_count": 42,
   "id": "b9ed3651",
   "metadata": {},
   "outputs": [
    {
     "name": "stdout",
     "output_type": "stream",
     "text": [
      "pythonlist :0.02001023292541504\n",
      "numpyarray1 :0.001781463623046875\n",
      "numpyarray2 :0.02205038070678711\n"
     ]
    }
   ],
   "source": [
    "size_vector = 100000\n",
    "pythonlist(size_vector)\n",
    "numpyarray1(size_vector)\n",
    "numpyarray2(size_vector)"
   ]
  },
  {
   "cell_type": "markdown",
   "id": "506d7805",
   "metadata": {},
   "source": [
    "* 1. 데이터의 수가 작을 때는 별 차이들이 없음\n",
    "* 2. 데이터의 수가 많으면,,,, 리스트 vs numpy array 답게 쓰면 \n",
    "                            -> 상당히 많이 차이가 발생을 함.\n",
    "* 3. 문제는 그럼 numpy array로만 하면 되나?                                                                                           \n",
    "     ---> 그냥 단순히 변수의 타입을 array로만 해서가 아니라!                                                                                                                                                                                    \n",
    "     ------> 내가 해야할 일에 대해서 할 때 array 답게 할 때 속도가 어느 정도 보장                                                                                           \n",
    "     ------> 그 패키지 답게? 그게 뭔데?\n",
    "              내가 하고자 기능이 그 패키지에 함수, 메서드, 조작....그것을 사용하는게 속도가 보장이 "
   ]
  },
  {
   "cell_type": "code",
   "execution_count": 2,
   "id": "5aa42834",
   "metadata": {},
   "outputs": [],
   "source": [
    "from collections import deque\n",
    "import time"
   ]
  },
  {
   "cell_type": "markdown",
   "id": "7cda4a9d",
   "metadata": {},
   "source": [
    "#### list와 deque stack방식 속도 비교"
   ]
  },
  {
   "cell_type": "code",
   "execution_count": 9,
   "id": "5346cacb",
   "metadata": {},
   "outputs": [
    {
     "name": "stdout",
     "output_type": "stream",
     "text": [
      "List_Stack Run Time : 0.1668260097503662\n",
      "Deque_Stack Run Time : 0.12500762939453125\n"
     ]
    }
   ],
   "source": [
    "N = 1000 #초기에 값을 넣어두려는 원소의 수\n",
    "TIMES = 1000 # 실험 횟수\n",
    "M = 1000 #M번에 대해서 pop, append\n",
    "#Test에 사용할 List, Deque\n",
    "list_stack = list([i for i in range(0,N)])\n",
    "deque_stack  = deque([i for i in range(0,N)])\n",
    "\n",
    "#List를 가지고 Stack으로 할 때\n",
    "start_time = time.time()\n",
    "for _ in range(0,TIMES):\n",
    "    #M번에 대해서 원소를 추가도 하고 빼기도.. : Stack\n",
    "    for i in range(0, M):\n",
    "        list_stack.append(i)\n",
    "        list_stack.pop()\n",
    "print(\"List_Stack Run Time :\", time.time() - start_time)\n",
    "\n",
    "#Deque \n",
    "start_time = time.time()\n",
    "for _ in range(0,TIMES):\n",
    "    #M번에 대해서 원소를 추가도 하고 빼기도.. : Stack\n",
    "    for i in range(0, M):\n",
    "        deque_stack.append(i)\n",
    "        deque_stack.pop()\n",
    "print(\"Deque_Stack Run Time :\", time.time() - start_time)"
   ]
  },
  {
   "cell_type": "markdown",
   "id": "ac417aab",
   "metadata": {},
   "source": [
    "#### list와 deque queque방식 속도 비교"
   ]
  },
  {
   "cell_type": "code",
   "execution_count": 12,
   "id": "3d303c20",
   "metadata": {},
   "outputs": [
    {
     "name": "stdout",
     "output_type": "stream",
     "text": [
      "List_Stack Run Time : 0.25520801544189453\n",
      "Deque_Stack Run Time : 0.13933277130126953\n"
     ]
    }
   ],
   "source": [
    "N = 1000 #초기에 값을 넣어두려는 원소의 수\n",
    "TIMES = 1000 # 실험 횟수\n",
    "M = 1000 #M번에 대해서 pop, append\n",
    "#Test에 사용할 List, Deque\n",
    "list_queue = list([i for i in range(0,N)])\n",
    "deque_queue  = deque([i for i in range(0,N)])\n",
    "\n",
    "#List를 가지고 Stack으로 할 때\n",
    "start_time = time.time()\n",
    "for _ in range(0,TIMES):\n",
    "    #M번에 대해서 원소를 추가도 하고 빼기도.. : Stack\n",
    "    for i in range(0, M):\n",
    "        list_queue.append(i)\n",
    "        list_queue.pop(0)\n",
    "print(\"List_Stack Run Time :\", time.time() - start_time)\n",
    "\n",
    "#Deque \n",
    "start_time = time.time()\n",
    "for _ in range(0,TIMES):\n",
    "    #M번에 대해서 원소를 추가도 하고 빼기도.. : Stack\n",
    "    for i in range(0, M):\n",
    "        deque_queue.append(i)\n",
    "        deque_queue.popleft()\n",
    "print(\"Deque_Stack Run Time :\", time.time() - start_time)"
   ]
  },
  {
   "cell_type": "markdown",
   "id": "d167dbcb",
   "metadata": {},
   "source": [
    "# Pandas"
   ]
  },
  {
   "cell_type": "markdown",
   "id": "ef3a2e18",
   "metadata": {},
   "source": [
    "### 1차원: Series"
   ]
  },
  {
   "cell_type": "code",
   "execution_count": 3,
   "id": "71cc9b6b",
   "metadata": {},
   "outputs": [],
   "source": [
    "#패키지 불러오기\n",
    "import numpy as np\n",
    "import pandas as pd\n",
    "\n",
    "#from pandas import DataFrame, Series 필요한 부분만 가져오기"
   ]
  },
  {
   "cell_type": "code",
   "execution_count": 44,
   "id": "583c497c",
   "metadata": {},
   "outputs": [],
   "source": [
    "#예제 데이터 만들기\n",
    "# 대상 : 주식 가격 데이터\n",
    "# 값 : 10000, 10300, 9900, 10500, 11000"
   ]
  },
  {
   "cell_type": "code",
   "execution_count": 45,
   "id": "dbb78a48",
   "metadata": {},
   "outputs": [],
   "source": [
    "#생성1) 쌩 파이썬 리스트\n",
    "stock_price_list = [10000, 10300, 9900, 10500, 11000]\n",
    "stock_price_Series = pd.Series([10000, 10300, 9900, 10500, 11000]) #Series 대문자 조심하기"
   ]
  },
  {
   "cell_type": "code",
   "execution_count": 46,
   "id": "da7a40bf",
   "metadata": {},
   "outputs": [
    {
     "data": {
      "text/plain": [
       "[10000, 10300, 9900, 10500, 11000]"
      ]
     },
     "execution_count": 46,
     "metadata": {},
     "output_type": "execute_result"
    }
   ],
   "source": [
    "stock_price_list"
   ]
  },
  {
   "cell_type": "code",
   "execution_count": 47,
   "id": "e1de48a1",
   "metadata": {},
   "outputs": [
    {
     "data": {
      "text/plain": [
       "0    10000\n",
       "1    10300\n",
       "2     9900\n",
       "3    10500\n",
       "4    11000\n",
       "dtype: int64"
      ]
     },
     "execution_count": 47,
     "metadata": {},
     "output_type": "execute_result"
    }
   ],
   "source": [
    "stock_price_Series"
   ]
  },
  {
   "cell_type": "code",
   "execution_count": 48,
   "id": "c43f1bb6",
   "metadata": {},
   "outputs": [
    {
     "name": "stdout",
     "output_type": "stream",
     "text": [
      "0    10000\n",
      "1    10300\n",
      "2     9900\n",
      "3    10500\n",
      "4    11000\n",
      "dtype: int64\n"
     ]
    }
   ],
   "source": [
    "print(stock_price_Series)"
   ]
  },
  {
   "cell_type": "code",
   "execution_count": 49,
   "id": "2125cfc3",
   "metadata": {},
   "outputs": [],
   "source": [
    "#개별 원소에 접근하는 방법 : 몇 번째 나오세요~ 정수 인덱스.."
   ]
  },
  {
   "cell_type": "code",
   "execution_count": 50,
   "id": "6516b6f9",
   "metadata": {},
   "outputs": [
    {
     "data": {
      "text/plain": [
       "10300"
      ]
     },
     "execution_count": 50,
     "metadata": {},
     "output_type": "execute_result"
    }
   ],
   "source": [
    "stock_price_list[1]"
   ]
  },
  {
   "cell_type": "code",
   "execution_count": 51,
   "id": "b640e745",
   "metadata": {},
   "outputs": [
    {
     "data": {
      "text/plain": [
       "10300"
      ]
     },
     "execution_count": 51,
     "metadata": {},
     "output_type": "execute_result"
    }
   ],
   "source": [
    "stock_price_Series[1]"
   ]
  },
  {
   "cell_type": "code",
   "execution_count": 53,
   "id": "f2bcd7ac",
   "metadata": {},
   "outputs": [
    {
     "data": {
      "text/plain": [
       "2021-03-01    10000\n",
       "2021-03-02    10300\n",
       "2021-03-03     9900\n",
       "2021-03-04    10500\n",
       "2021-03-5     11000\n",
       "dtype: int64"
      ]
     },
     "execution_count": 53,
     "metadata": {},
     "output_type": "execute_result"
    }
   ],
   "source": [
    "### pandas에서 내가 원하는 인덱스 : 날짜 부여하기\n",
    "stock_price_Series_index = pd.Series([10000, 10300, 9900, 10500, 11000], \n",
    "                                     index = [\"2021-03-01\",\"2021-03-02\",\"2021-03-03\",\"2021-03-04\",\"2021-03-5\"])\n",
    "stock_price_Series_index"
   ]
  },
  {
   "cell_type": "code",
   "execution_count": 54,
   "id": "8123c8ce",
   "metadata": {},
   "outputs": [],
   "source": [
    "idx = [\"2021-03-01\",\"2021-03-02\",\"2021-03-03\",\"2021-03-04\",\"2021-03-5\"]\n",
    "data = [10000, 10300, 9900, 10500, 11000]"
   ]
  },
  {
   "cell_type": "code",
   "execution_count": 55,
   "id": "3287e64b",
   "metadata": {},
   "outputs": [
    {
     "data": {
      "text/plain": [
       "9900"
      ]
     },
     "execution_count": 55,
     "metadata": {},
     "output_type": "execute_result"
    }
   ],
   "source": [
    "stock_price_Series_index[2]"
   ]
  },
  {
   "cell_type": "code",
   "execution_count": 56,
   "id": "187f38db",
   "metadata": {},
   "outputs": [
    {
     "data": {
      "text/plain": [
       "9900"
      ]
     },
     "execution_count": 56,
     "metadata": {},
     "output_type": "execute_result"
    }
   ],
   "source": [
    "stock_price_Series_index[\"2021-03-03\"]"
   ]
  },
  {
   "cell_type": "code",
   "execution_count": 66,
   "id": "b120dad7",
   "metadata": {},
   "outputs": [
    {
     "data": {
      "text/plain": [
       "2021-03-03     9900\n",
       "2021-03-04    10500\n",
       "dtype: int64"
      ]
     },
     "execution_count": 66,
     "metadata": {},
     "output_type": "execute_result"
    }
   ],
   "source": [
    "stock_price_Series_index[2:4] #숫자 슬라이싱은 끝에 빠짐"
   ]
  },
  {
   "cell_type": "code",
   "execution_count": 68,
   "id": "ad350bf7",
   "metadata": {},
   "outputs": [
    {
     "data": {
      "text/plain": [
       "2021-03-03     9900\n",
       "2021-03-04    10500\n",
       "dtype: int64"
      ]
     },
     "execution_count": 68,
     "metadata": {},
     "output_type": "execute_result"
    }
   ],
   "source": [
    "stock_price_Series_index[\"2021-03-03\":\"2021-03-04\"] #내가 만든 인덱스 슬라이싱은 끝점 빠지지 않음"
   ]
  },
  {
   "cell_type": "code",
   "execution_count": 70,
   "id": "0aa552ee",
   "metadata": {},
   "outputs": [
    {
     "data": {
      "text/plain": [
       "2021-03-01    10000\n",
       "2021-03-03     9900\n",
       "dtype: int64"
      ]
     },
     "execution_count": 70,
     "metadata": {},
     "output_type": "execute_result"
    }
   ],
   "source": [
    "stock_price_Series_index[\"2021-03-01\":\"2021-03-04\":2]"
   ]
  },
  {
   "cell_type": "code",
   "execution_count": 71,
   "id": "7dc80d69",
   "metadata": {},
   "outputs": [
    {
     "ename": "NameError",
     "evalue": "name 'strock_price_list' is not defined",
     "output_type": "error",
     "traceback": [
      "\u001b[1;31m---------------------------------------------------------------------------\u001b[0m",
      "\u001b[1;31mNameError\u001b[0m                                 Traceback (most recent call last)",
      "\u001b[1;32m~\\AppData\\Local\\Temp/ipykernel_276492/1038917394.py\u001b[0m in \u001b[0;36m<module>\u001b[1;34m\u001b[0m\n\u001b[1;32m----> 1\u001b[1;33m \u001b[0mstrock_price_list\u001b[0m\u001b[1;33m[\u001b[0m\u001b[1;33m[\u001b[0m\u001b[1;36m0\u001b[0m\u001b[1;33m,\u001b[0m\u001b[1;36m3\u001b[0m\u001b[1;33m]\u001b[0m\u001b[1;33m]\u001b[0m\u001b[1;33m\u001b[0m\u001b[1;33m\u001b[0m\u001b[0m\n\u001b[0m",
      "\u001b[1;31mNameError\u001b[0m: name 'strock_price_list' is not defined"
     ]
    }
   ],
   "source": [
    "strock_price_list[[0,3]] #리스트는 에러남"
   ]
  },
  {
   "cell_type": "code",
   "execution_count": null,
   "id": "edc7abd2",
   "metadata": {},
   "outputs": [],
   "source": [
    "#인덱스에 대해서 슬라이싱이 아닌 랜덤한, 보고자하는 것들에 대한\n",
    "#멀티 컬렉션 -> 여러개의 값 -> [볼 인덱스1, 볼 인덱스2,...]\n",
    "#위의 형태로 [ ] 인덱스 자리에 들어간다\n",
    "#볼 것이 여러개여서 다만 표현이 [ ]으로 되어서 [ [idx1, idx2, ..]]"
   ]
  },
  {
   "cell_type": "code",
   "execution_count": 72,
   "id": "dd3ad482",
   "metadata": {},
   "outputs": [
    {
     "data": {
      "text/plain": [
       "2021-03-01    10000\n",
       "2021-03-04    10500\n",
       "dtype: int64"
      ]
     },
     "execution_count": 72,
     "metadata": {},
     "output_type": "execute_result"
    }
   ],
   "source": [
    "stock_price_Series_index[[0,3]] #연속적이지 않은 필요한 부분만 추출 가능"
   ]
  },
  {
   "cell_type": "code",
   "execution_count": 74,
   "id": "168a603d",
   "metadata": {},
   "outputs": [
    {
     "data": {
      "text/plain": [
       "2021-03-01    10000\n",
       "2021-03-04    10500\n",
       "dtype: int64"
      ]
     },
     "execution_count": 74,
     "metadata": {},
     "output_type": "execute_result"
    }
   ],
   "source": [
    "stock_price_Series_index[[\"2021-03-01\",\"2021-03-04\"]]"
   ]
  },
  {
   "cell_type": "code",
   "execution_count": 57,
   "id": "4a9b0eff",
   "metadata": {},
   "outputs": [],
   "source": [
    "## pandas는 기본적으로 index(태생적인 정수, 내가 만든pot) + 값들"
   ]
  },
  {
   "cell_type": "code",
   "execution_count": 60,
   "id": "be4a138f",
   "metadata": {},
   "outputs": [
    {
     "data": {
      "text/plain": [
       "Index(['2021-03-01', '2021-03-02', '2021-03-03', '2021-03-04', '2021-03-5'], dtype='object')"
      ]
     },
     "execution_count": 60,
     "metadata": {},
     "output_type": "execute_result"
    }
   ],
   "source": [
    "stock_price_Series_index.index"
   ]
  },
  {
   "cell_type": "code",
   "execution_count": 61,
   "id": "91f4324b",
   "metadata": {},
   "outputs": [
    {
     "data": {
      "text/plain": [
       "'2021-03-02'"
      ]
     },
     "execution_count": 61,
     "metadata": {},
     "output_type": "execute_result"
    }
   ],
   "source": [
    "stock_price_Series_index.index[1]"
   ]
  },
  {
   "cell_type": "code",
   "execution_count": 62,
   "id": "d80f7988",
   "metadata": {},
   "outputs": [
    {
     "data": {
      "text/plain": [
       "array([10000, 10300,  9900, 10500, 11000], dtype=int64)"
      ]
     },
     "execution_count": 62,
     "metadata": {},
     "output_type": "execute_result"
    }
   ],
   "source": [
    "stock_price_Series_index.values"
   ]
  },
  {
   "cell_type": "code",
   "execution_count": 63,
   "id": "07d2b500",
   "metadata": {},
   "outputs": [
    {
     "data": {
      "text/plain": [
       "10300"
      ]
     },
     "execution_count": 63,
     "metadata": {},
     "output_type": "execute_result"
    }
   ],
   "source": [
    "stock_price_Series_index.values[1]"
   ]
  },
  {
   "cell_type": "code",
   "execution_count": 75,
   "id": "bdc0fcaf",
   "metadata": {},
   "outputs": [],
   "source": [
    "#pandas는 기본적으로 numpy를 기반으로 했기 때문에\n",
    "# -> numpy의 기본적인 특성이 거의 그대로 반영\n",
    "#    가장 대표적인 벡터 표현! -> 모든 원소 일괄 적용"
   ]
  },
  {
   "cell_type": "code",
   "execution_count": 76,
   "id": "a6a671b7",
   "metadata": {},
   "outputs": [
    {
     "data": {
      "text/plain": [
       "2021-03-01    10005\n",
       "2021-03-02    10305\n",
       "2021-03-03     9905\n",
       "2021-03-04    10505\n",
       "2021-03-5     11005\n",
       "dtype: int64"
      ]
     },
     "execution_count": 76,
     "metadata": {},
     "output_type": "execute_result"
    }
   ],
   "source": [
    "stock_price_Series_index +5 #전체에 적용 "
   ]
  },
  {
   "cell_type": "code",
   "execution_count": 78,
   "id": "69114738",
   "metadata": {},
   "outputs": [
    {
     "data": {
      "text/plain": [
       "2021-03-01    100.0\n",
       "2021-03-02    103.0\n",
       "2021-03-03     99.0\n",
       "2021-03-04    105.0\n",
       "2021-03-5     110.0\n",
       "dtype: float64"
      ]
     },
     "execution_count": 78,
     "metadata": {},
     "output_type": "execute_result"
    }
   ],
   "source": [
    "stock_price_Series_index * 1/100  #퍼센트로 단위 변환 할 때 자주 사용"
   ]
  },
  {
   "cell_type": "code",
   "execution_count": 79,
   "id": "d7cb43eb",
   "metadata": {},
   "outputs": [],
   "source": [
    "#조건검색 -> numpy의 불리언 인덱싱\n",
    "# 예) stock_price_Series_index에서 주식가격이 10000보다 작을 때는?\n",
    "stock_price_Series_index[ 조건 : 벡터연산을 기반]"
   ]
  },
  {
   "cell_type": "code",
   "execution_count": 80,
   "id": "fe13ea0d",
   "metadata": {},
   "outputs": [
    {
     "data": {
      "text/plain": [
       "2021-03-03    9900\n",
       "dtype: int64"
      ]
     },
     "execution_count": 80,
     "metadata": {},
     "output_type": "execute_result"
    }
   ],
   "source": [
    "stock_price_Series_index[ stock_price_Series_index < 10000 ]"
   ]
  },
  {
   "cell_type": "code",
   "execution_count": 81,
   "id": "9b4dddb6",
   "metadata": {},
   "outputs": [],
   "source": [
    "# 그러면... 2019년 3월 3일에 데이터가 있나?\n",
    "# -> 2021년 3월 5일 데이터 있나?(기준은 인덱스를 기준으로 있는지..)\n",
    "#pandas는 항상 기준이 인덱스 (내가 만든거 > 태생적 정수 인덱스) -> in을 통해서 인덱스 있는 지 볼 때는 exact matching"
   ]
  },
  {
   "cell_type": "code",
   "execution_count": 82,
   "id": "225b0343",
   "metadata": {},
   "outputs": [
    {
     "data": {
      "text/plain": [
       "False"
      ]
     },
     "execution_count": 82,
     "metadata": {},
     "output_type": "execute_result"
    }
   ],
   "source": [
    "\"2021-03-05\" in stock_price_Series_index"
   ]
  },
  {
   "cell_type": "code",
   "execution_count": 83,
   "id": "d9f1c349",
   "metadata": {},
   "outputs": [
    {
     "data": {
      "text/plain": [
       "True"
      ]
     },
     "execution_count": 83,
     "metadata": {},
     "output_type": "execute_result"
    }
   ],
   "source": [
    "\"2021-03-5\" in stock_price_Series_index"
   ]
  },
  {
   "cell_type": "code",
   "execution_count": 84,
   "id": "bdf8dbbd",
   "metadata": {},
   "outputs": [
    {
     "data": {
      "text/plain": [
       "False"
      ]
     },
     "execution_count": 84,
     "metadata": {},
     "output_type": "execute_result"
    }
   ],
   "source": [
    "10500 in stock_price_Series_index  #in은 value값이 아니라 인덱스를 기준으로 있는지 없는지 판단"
   ]
  },
  {
   "cell_type": "code",
   "execution_count": 4,
   "id": "2ff8a572",
   "metadata": {},
   "outputs": [
    {
     "data": {
      "text/plain": [
       "APPLE     1000\n",
       "MS        2000\n",
       "AMAZON    3000\n",
       "dtype: int64"
      ]
     },
     "execution_count": 4,
     "metadata": {},
     "output_type": "execute_result"
    }
   ],
   "source": [
    "#참고) 파이썬의 기본 자료유형인 dict -> pandas Series로 전환\n",
    "#dict의 key -> pasdas의 index\n",
    "#dict의 value -> pandas의 value\n",
    "sdata= {\"APPLE\" : 1000, \"MS\": 2000, \"AMAZON\": 3000}\n",
    "s_dict1 = pd.Series(sdata)\n",
    "s_dict1"
   ]
  },
  {
   "cell_type": "code",
   "execution_count": 5,
   "id": "a7cffda9",
   "metadata": {},
   "outputs": [
    {
     "data": {
      "text/plain": [
       "GOOGLE       NaN\n",
       "APPLE     1000.0\n",
       "AMAZON    3000.0\n",
       "dtype: float64"
      ]
     },
     "execution_count": 5,
     "metadata": {},
     "output_type": "execute_result"
    }
   ],
   "source": [
    "#pandas는 index를 기준으로 우선으로 하는 구나\n",
    "#지정된 index를 기준으로 틀을 만들고, 값을 채우는 형식으로\n",
    "ticker = [\"GOOGLE\",\"APPLE\",\"AMAZON\"]\n",
    "s_dict2 = pd.Series(data = sdata, index = ticker)\n",
    "s_dict2"
   ]
  },
  {
   "cell_type": "code",
   "execution_count": 6,
   "id": "9a7bce96",
   "metadata": {},
   "outputs": [
    {
     "data": {
      "text/plain": [
       "AMAZON    6000.0\n",
       "APPLE     2000.0\n",
       "GOOGLE       NaN\n",
       "MS           NaN\n",
       "dtype: float64"
      ]
     },
     "execution_count": 6,
     "metadata": {},
     "output_type": "execute_result"
    }
   ],
   "source": [
    "s_dict1 + s_dict2"
   ]
  },
  {
   "cell_type": "code",
   "execution_count": 7,
   "id": "98338a06",
   "metadata": {},
   "outputs": [
    {
     "data": {
      "text/plain": [
       "AMAZON    6000.0\n",
       "APPLE     2000.0\n",
       "GOOGLE       NaN\n",
       "MS           NaN\n",
       "dtype: float64"
      ]
     },
     "execution_count": 7,
     "metadata": {},
     "output_type": "execute_result"
    }
   ],
   "source": [
    "s_test = s_dict1 + s_dict2\n",
    "s_test"
   ]
  },
  {
   "cell_type": "code",
   "execution_count": 8,
   "id": "ecdf7612",
   "metadata": {},
   "outputs": [
    {
     "data": {
      "text/plain": [
       "AMAZON     True\n",
       "APPLE      True\n",
       "GOOGLE    False\n",
       "MS        False\n",
       "dtype: bool"
      ]
     },
     "execution_count": 8,
     "metadata": {},
     "output_type": "execute_result"
    }
   ],
   "source": [
    "#누락된 데이터에 대해서\n",
    "#데이터 값이 누락이 되었나> -> isnull() -> 누락된 데이터 중심으로 찾을 때\n",
    "s_test.isnull()\n",
    "#데이터 값이 누락이 안 되었나 -> notnull() -> 값이 있는 데이터 중심으로 찾을 때\n",
    "s_test.notnull()"
   ]
  },
  {
   "cell_type": "code",
   "execution_count": 9,
   "id": "fe399e7e",
   "metadata": {},
   "outputs": [
    {
     "data": {
      "text/plain": [
       "GOOGLE   NaN\n",
       "MS       NaN\n",
       "dtype: float64"
      ]
     },
     "execution_count": 9,
     "metadata": {},
     "output_type": "execute_result"
    }
   ],
   "source": [
    "#전체 데이터 중에서 값이 누락된 것들만 조건 검색\n",
    "s_test[s_test.isnull()]"
   ]
  },
  {
   "cell_type": "code",
   "execution_count": 10,
   "id": "b09e4a6b",
   "metadata": {},
   "outputs": [
    {
     "data": {
      "text/plain": [
       "AMAZON    6000.0\n",
       "APPLE     2000.0\n",
       "dtype: float64"
      ]
     },
     "execution_count": 10,
     "metadata": {},
     "output_type": "execute_result"
    }
   ],
   "source": [
    "#전체 데이터 중에서 값이 누락이 없이 잘 들어 잇는 것들만 조건 검색\n",
    "s_test[s_test.notnull()]"
   ]
  },
  {
   "cell_type": "code",
   "execution_count": 11,
   "id": "2aa5d689",
   "metadata": {},
   "outputs": [
    {
     "data": {
      "text/plain": [
       "2021-03-01    10000\n",
       "2021-03-02    10300\n",
       "2021-03-03     9900\n",
       "2021-03-04    10500\n",
       "2021-03-5     11000\n",
       "Name: stock price data, dtype: int64"
      ]
     },
     "execution_count": 11,
     "metadata": {},
     "output_type": "execute_result"
    }
   ],
   "source": [
    "#인덱스에 이름 붙이기\n",
    "stock_price_Series_index = pd.Series([10000, 10300, 9900, 10500, 11000], \n",
    "                                     index = [\"2021-03-01\",\"2021-03-02\",\"2021-03-03\",\"2021-03-04\",\"2021-03-5\"])\n",
    "stock_price_Series_index.name = \"stock price data\"\n",
    "stock_price_Series_index"
   ]
  },
  {
   "cell_type": "code",
   "execution_count": 12,
   "id": "a60a2ffb",
   "metadata": {},
   "outputs": [
    {
     "name": "stdout",
     "output_type": "stream",
     "text": [
      "(5,)\n",
      "1\n",
      "5\n"
     ]
    }
   ],
   "source": [
    "#크기, 모양, 차원 등 기본 정보 체크\n",
    "#pandas에서는 내가 불러들인 데이터의 모양과 개수 확인 할 때\n",
    "# shape를 제일 많이 사용함 ->  check용으로 \n",
    "print(stock_price_Series_index.shape)\n",
    "print(stock_price_Series_index.ndim)\n",
    "print(stock_price_Series_index.size)"
   ]
  },
  {
   "cell_type": "markdown",
   "id": "fb7e70ef",
   "metadata": {},
   "source": [
    ">실질적으로 값에 접근하는 FM방법들에 대해서                                              \n",
    ">기준) 인덱스 자리에서 정수, 내가 만든거, 슬라이싱, 여러개[ ]\n",
    "    -> 내가 원하는 값을 접근하고, 가져오기 위해서\n",
    "    \n",
    "> 이제 FM적인 방법으로 접근 할 때 -> 구별이 필요함                                         \n",
    "> 접근 하고자 하는 값이 1개 (point) vs 여러개 (search)                                               \n",
    "               > 1개 :  at(내가 만든 인덱스), iat(정수 인덱스)                                                               \n",
    "               > 여러개 : loc(내가 만든 인덱스), iloc(정수 인덱스)                                                             \n",
    ">-> 내가 정수인덱스로 접근할지, 내가 만든 인덱스로 접근할지 명시적으로 딱 정해야 함"
   ]
  },
  {
   "cell_type": "markdown",
   "id": "03a86b14",
   "metadata": {},
   "source": [
    ">단순 데이터 탐색이나 결과를 보기용으로는 큰 차이가 없음                                            \n",
    ">다만, 많은 데이터들에 대한 batch 처리에서는 속도차이가 상당함                                     \n",
    ">-> 속도가 중요할 때에는 FM적인 방법으로 코드를 작성할 것 "
   ]
  },
  {
   "cell_type": "code",
   "execution_count": 13,
   "id": "c90553cb",
   "metadata": {},
   "outputs": [],
   "source": [
    "#1개 : at, iat"
   ]
  },
  {
   "cell_type": "code",
   "execution_count": 14,
   "id": "649b148b",
   "metadata": {},
   "outputs": [
    {
     "data": {
      "text/plain": [
       "10000"
      ]
     },
     "execution_count": 14,
     "metadata": {},
     "output_type": "execute_result"
    }
   ],
   "source": [
    "stock_price_Series_index[0]"
   ]
  },
  {
   "cell_type": "code",
   "execution_count": 15,
   "id": "00cff437",
   "metadata": {},
   "outputs": [
    {
     "data": {
      "text/plain": [
       "10000"
      ]
     },
     "execution_count": 15,
     "metadata": {},
     "output_type": "execute_result"
    }
   ],
   "source": [
    "stock_price_Series_index.iat[0] #DataFrame값기 크면 클수록 속도 차이가 남 FM적인 방식이 빠르다"
   ]
  },
  {
   "cell_type": "code",
   "execution_count": 16,
   "id": "154c54fb",
   "metadata": {},
   "outputs": [
    {
     "data": {
      "text/plain": [
       "10000"
      ]
     },
     "execution_count": 16,
     "metadata": {},
     "output_type": "execute_result"
    }
   ],
   "source": [
    "stock_price_Series_index[\"2021-03-01\"]"
   ]
  },
  {
   "cell_type": "code",
   "execution_count": 17,
   "id": "27478729",
   "metadata": {},
   "outputs": [
    {
     "data": {
      "text/plain": [
       "10000"
      ]
     },
     "execution_count": 17,
     "metadata": {},
     "output_type": "execute_result"
    }
   ],
   "source": [
    "stock_price_Series_index.at[\"2021-03-01\"]"
   ]
  },
  {
   "cell_type": "code",
   "execution_count": 18,
   "id": "d58d9acb",
   "metadata": {},
   "outputs": [],
   "source": [
    "#여러개 : loc, iloc"
   ]
  },
  {
   "cell_type": "code",
   "execution_count": 19,
   "id": "e5aea6b2",
   "metadata": {},
   "outputs": [
    {
     "data": {
      "text/plain": [
       "2021-03-01    10000\n",
       "2021-03-02    10300\n",
       "2021-03-03     9900\n",
       "Name: stock price data, dtype: int64"
      ]
     },
     "execution_count": 19,
     "metadata": {},
     "output_type": "execute_result"
    }
   ],
   "source": [
    "stock_price_Series_index[\"2021-03-01\":\"2021-03-03\"]"
   ]
  },
  {
   "cell_type": "code",
   "execution_count": 20,
   "id": "f6b00052",
   "metadata": {},
   "outputs": [
    {
     "data": {
      "text/plain": [
       "2021-03-01    10000\n",
       "2021-03-02    10300\n",
       "2021-03-03     9900\n",
       "Name: stock price data, dtype: int64"
      ]
     },
     "execution_count": 20,
     "metadata": {},
     "output_type": "execute_result"
    }
   ],
   "source": [
    "stock_price_Series_index.loc[\"2021-03-01\":\"2021-03-03\"]"
   ]
  },
  {
   "cell_type": "code",
   "execution_count": 21,
   "id": "cb5896aa",
   "metadata": {},
   "outputs": [
    {
     "data": {
      "text/plain": [
       "2021-03-01    10000\n",
       "2021-03-03     9900\n",
       "Name: stock price data, dtype: int64"
      ]
     },
     "execution_count": 21,
     "metadata": {},
     "output_type": "execute_result"
    }
   ],
   "source": [
    "stock_price_Series_index[[\"2021-03-01\",\"2021-03-03\"]]"
   ]
  },
  {
   "cell_type": "code",
   "execution_count": 22,
   "id": "afc1f09f",
   "metadata": {},
   "outputs": [
    {
     "data": {
      "text/plain": [
       "2021-03-01    10000\n",
       "2021-03-03     9900\n",
       "Name: stock price data, dtype: int64"
      ]
     },
     "execution_count": 22,
     "metadata": {},
     "output_type": "execute_result"
    }
   ],
   "source": [
    "stock_price_Series_index.loc[[\"2021-03-01\",\"2021-03-03\"]]"
   ]
  },
  {
   "cell_type": "code",
   "execution_count": 23,
   "id": "afa499d5",
   "metadata": {},
   "outputs": [
    {
     "data": {
      "text/plain": [
       "2021-03-01    10000\n",
       "2021-03-02    10300\n",
       "2021-03-03     9900\n",
       "Name: stock price data, dtype: int64"
      ]
     },
     "execution_count": 23,
     "metadata": {},
     "output_type": "execute_result"
    }
   ],
   "source": [
    "stock_price_Series_index[0 : 3]"
   ]
  },
  {
   "cell_type": "code",
   "execution_count": 24,
   "id": "2747f2c7",
   "metadata": {},
   "outputs": [
    {
     "data": {
      "text/plain": [
       "2021-03-01    10000\n",
       "2021-03-02    10300\n",
       "2021-03-03     9900\n",
       "Name: stock price data, dtype: int64"
      ]
     },
     "execution_count": 24,
     "metadata": {},
     "output_type": "execute_result"
    }
   ],
   "source": [
    "stock_price_Series_index.iloc[0 : 3]"
   ]
  },
  {
   "cell_type": "code",
   "execution_count": 25,
   "id": "4a1560b7",
   "metadata": {},
   "outputs": [
    {
     "ename": "AttributeError",
     "evalue": "'Series' object has no attribute 'ix'",
     "output_type": "error",
     "traceback": [
      "\u001b[1;31m---------------------------------------------------------------------------\u001b[0m",
      "\u001b[1;31mAttributeError\u001b[0m                            Traceback (most recent call last)",
      "\u001b[1;32m~\\AppData\\Local\\Temp/ipykernel_319456/69839206.py\u001b[0m in \u001b[0;36m<module>\u001b[1;34m\u001b[0m\n\u001b[0;32m      1\u001b[0m \u001b[1;31m#이제는 더이상 사용을 안 하는 ix에 대한 코드\u001b[0m\u001b[1;33m\u001b[0m\u001b[1;33m\u001b[0m\u001b[0m\n\u001b[1;32m----> 2\u001b[1;33m \u001b[0mstock_price_Series_index\u001b[0m\u001b[1;33m.\u001b[0m\u001b[0mix\u001b[0m\u001b[1;33m[\u001b[0m\u001b[1;34m\"2021-03-01\"\u001b[0m\u001b[1;33m]\u001b[0m\u001b[1;33m\u001b[0m\u001b[1;33m\u001b[0m\u001b[0m\n\u001b[0m",
      "\u001b[1;32m~\\Anaconda3\\lib\\site-packages\\pandas\\core\\generic.py\u001b[0m in \u001b[0;36m__getattr__\u001b[1;34m(self, name)\u001b[0m\n\u001b[0;32m   5485\u001b[0m         ):\n\u001b[0;32m   5486\u001b[0m             \u001b[1;32mreturn\u001b[0m \u001b[0mself\u001b[0m\u001b[1;33m[\u001b[0m\u001b[0mname\u001b[0m\u001b[1;33m]\u001b[0m\u001b[1;33m\u001b[0m\u001b[1;33m\u001b[0m\u001b[0m\n\u001b[1;32m-> 5487\u001b[1;33m         \u001b[1;32mreturn\u001b[0m \u001b[0mobject\u001b[0m\u001b[1;33m.\u001b[0m\u001b[0m__getattribute__\u001b[0m\u001b[1;33m(\u001b[0m\u001b[0mself\u001b[0m\u001b[1;33m,\u001b[0m \u001b[0mname\u001b[0m\u001b[1;33m)\u001b[0m\u001b[1;33m\u001b[0m\u001b[1;33m\u001b[0m\u001b[0m\n\u001b[0m\u001b[0;32m   5488\u001b[0m \u001b[1;33m\u001b[0m\u001b[0m\n\u001b[0;32m   5489\u001b[0m     \u001b[1;32mdef\u001b[0m \u001b[0m__setattr__\u001b[0m\u001b[1;33m(\u001b[0m\u001b[0mself\u001b[0m\u001b[1;33m,\u001b[0m \u001b[0mname\u001b[0m\u001b[1;33m:\u001b[0m \u001b[0mstr\u001b[0m\u001b[1;33m,\u001b[0m \u001b[0mvalue\u001b[0m\u001b[1;33m)\u001b[0m \u001b[1;33m->\u001b[0m \u001b[1;32mNone\u001b[0m\u001b[1;33m:\u001b[0m\u001b[1;33m\u001b[0m\u001b[1;33m\u001b[0m\u001b[0m\n",
      "\u001b[1;31mAttributeError\u001b[0m: 'Series' object has no attribute 'ix'"
     ]
    }
   ],
   "source": [
    "#이제는 더이상 사용을 안 하는 ix에 대한 코드\n",
    "stock_price_Series_index.ix[\"2021-03-01\"]"
   ]
  },
  {
   "cell_type": "code",
   "execution_count": 26,
   "id": "9f0c7a08",
   "metadata": {},
   "outputs": [],
   "source": [
    "##기타 : count, append, max, min etc"
   ]
  },
  {
   "cell_type": "code",
   "execution_count": 27,
   "id": "0d9e44d0",
   "metadata": {},
   "outputs": [
    {
     "name": "stderr",
     "output_type": "stream",
     "text": [
      "C:\\Users\\MEDICI\\AppData\\Local\\Temp/ipykernel_319456/2493321647.py:1: FutureWarning: Using the level keyword in DataFrame and Series aggregations is deprecated and will be removed in a future version. Use groupby instead. ser.count(level=1) should use ser.groupby(level=1).count().\n",
      "  stock_price_Series_index.count(10000) #리스트와 똑같이 작용하지 않음\n"
     ]
    },
    {
     "ename": "ValueError",
     "evalue": "Series.count level is only valid with a MultiIndex",
     "output_type": "error",
     "traceback": [
      "\u001b[1;31m---------------------------------------------------------------------------\u001b[0m",
      "\u001b[1;31mValueError\u001b[0m                                Traceback (most recent call last)",
      "\u001b[1;32m~\\AppData\\Local\\Temp/ipykernel_319456/2493321647.py\u001b[0m in \u001b[0;36m<module>\u001b[1;34m\u001b[0m\n\u001b[1;32m----> 1\u001b[1;33m \u001b[0mstock_price_Series_index\u001b[0m\u001b[1;33m.\u001b[0m\u001b[0mcount\u001b[0m\u001b[1;33m(\u001b[0m\u001b[1;36m10000\u001b[0m\u001b[1;33m)\u001b[0m \u001b[1;31m#리스트와 똑같이 작용하지 않음\u001b[0m\u001b[1;33m\u001b[0m\u001b[1;33m\u001b[0m\u001b[0m\n\u001b[0m",
      "\u001b[1;32m~\\Anaconda3\\lib\\site-packages\\pandas\\core\\series.py\u001b[0m in \u001b[0;36mcount\u001b[1;34m(self, level)\u001b[0m\n\u001b[0;32m   1936\u001b[0m             )\n\u001b[0;32m   1937\u001b[0m             \u001b[1;32mif\u001b[0m \u001b[1;32mnot\u001b[0m \u001b[0misinstance\u001b[0m\u001b[1;33m(\u001b[0m\u001b[0mself\u001b[0m\u001b[1;33m.\u001b[0m\u001b[0mindex\u001b[0m\u001b[1;33m,\u001b[0m \u001b[0mMultiIndex\u001b[0m\u001b[1;33m)\u001b[0m\u001b[1;33m:\u001b[0m\u001b[1;33m\u001b[0m\u001b[1;33m\u001b[0m\u001b[0m\n\u001b[1;32m-> 1938\u001b[1;33m                 \u001b[1;32mraise\u001b[0m \u001b[0mValueError\u001b[0m\u001b[1;33m(\u001b[0m\u001b[1;34m\"Series.count level is only valid with a MultiIndex\"\u001b[0m\u001b[1;33m)\u001b[0m\u001b[1;33m\u001b[0m\u001b[1;33m\u001b[0m\u001b[0m\n\u001b[0m\u001b[0;32m   1939\u001b[0m \u001b[1;33m\u001b[0m\u001b[0m\n\u001b[0;32m   1940\u001b[0m         \u001b[0mindex\u001b[0m \u001b[1;33m=\u001b[0m \u001b[0mself\u001b[0m\u001b[1;33m.\u001b[0m\u001b[0mindex\u001b[0m\u001b[1;33m\u001b[0m\u001b[1;33m\u001b[0m\u001b[0m\n",
      "\u001b[1;31mValueError\u001b[0m: Series.count level is only valid with a MultiIndex"
     ]
    }
   ],
   "source": [
    "stock_price_Series_index.count(10000) #리스트와 똑같이 작용하지 않음"
   ]
  },
  {
   "cell_type": "code",
   "execution_count": 28,
   "id": "893d79a9",
   "metadata": {},
   "outputs": [
    {
     "name": "stdout",
     "output_type": "stream",
     "text": [
      "2021-03-01    10000\n",
      "2021-03-02    10300\n",
      "2021-03-03     9900\n",
      "2021-03-04    10500\n",
      "2021-03-5     11000\n",
      "2022-02-07    12345\n",
      "dtype: int64\n",
      "---------------\n",
      "2021-03-01    10000\n",
      "2021-03-02    10300\n",
      "2021-03-03     9900\n",
      "2021-03-04    10500\n",
      "2021-03-5     11000\n",
      "Name: stock price data, dtype: int64\n"
     ]
    }
   ],
   "source": [
    "add_data = pd.Series([12345],index=[\"2022-02-07\"])\n",
    "print(stock_price_Series_index.append(add_data))\n",
    "print(\"-\"*15)\n",
    "print(stock_price_Series_index)"
   ]
  },
  {
   "cell_type": "code",
   "execution_count": 29,
   "id": "705bc41b",
   "metadata": {},
   "outputs": [
    {
     "data": {
      "text/plain": [
       "2021-03-01    10000\n",
       "2021-03-02    10300\n",
       "2021-03-03     9900\n",
       "2021-03-04    10500\n",
       "2021-03-5     11000\n",
       "2022-02-07    12345\n",
       "dtype: int64"
      ]
     },
     "execution_count": 29,
     "metadata": {},
     "output_type": "execute_result"
    }
   ],
   "source": [
    "#리스트에서와 같이 맨 뒤로 추가가 되기는 하는데\n",
    "#리스트와 달리 자기 자신이 바로 업데이트 되지 않음 -> 업데이트 필요\n",
    "s_test2 = stock_price_Series_index.append(add_data)\n",
    "s_test2"
   ]
  },
  {
   "cell_type": "code",
   "execution_count": 30,
   "id": "3a23e342",
   "metadata": {},
   "outputs": [
    {
     "data": {
      "text/plain": [
       "2021-03-01    10000\n",
       "2021-03-02    10300\n",
       "2021-03-03     9900\n",
       "2021-03-04    10500\n",
       "2021-03-5     11000\n",
       "2021-03-01    12345\n",
       "dtype: int64"
      ]
     },
     "execution_count": 30,
     "metadata": {},
     "output_type": "execute_result"
    }
   ],
   "source": [
    "#인덱스가 겹치는 것을 추가하면?\n",
    "add_data = pd.Series([12345],index=[\"2021-03-01\"])\n",
    "s_test2 = stock_price_Series_index.append(add_data)\n",
    "s_test2  #이중 인덱스를 기본으로 함"
   ]
  },
  {
   "cell_type": "code",
   "execution_count": 31,
   "id": "7505cde4",
   "metadata": {},
   "outputs": [
    {
     "data": {
      "text/plain": [
       "2021-03-01    10000\n",
       "2021-03-01    12345\n",
       "dtype: int64"
      ]
     },
     "execution_count": 31,
     "metadata": {},
     "output_type": "execute_result"
    }
   ],
   "source": [
    "s_test2[\"2021-03-01\"]"
   ]
  },
  {
   "cell_type": "code",
   "execution_count": 32,
   "id": "74c2940e",
   "metadata": {},
   "outputs": [
    {
     "data": {
      "text/plain": [
       "pandas.core.series.Series"
      ]
     },
     "execution_count": 32,
     "metadata": {},
     "output_type": "execute_result"
    }
   ],
   "source": [
    "type(s_test2[\"2021-03-01\"])"
   ]
  },
  {
   "cell_type": "code",
   "execution_count": 33,
   "id": "3ccf1f46",
   "metadata": {},
   "outputs": [
    {
     "data": {
      "text/plain": [
       "10300"
      ]
     },
     "execution_count": 33,
     "metadata": {},
     "output_type": "execute_result"
    }
   ],
   "source": [
    "s_test2[\"2021-03-02\"]"
   ]
  },
  {
   "cell_type": "code",
   "execution_count": 34,
   "id": "644a48ba",
   "metadata": {},
   "outputs": [
    {
     "data": {
      "text/plain": [
       "numpy.int64"
      ]
     },
     "execution_count": 34,
     "metadata": {},
     "output_type": "execute_result"
    }
   ],
   "source": [
    "type(s_test2[\"2021-03-02\"])"
   ]
  },
  {
   "cell_type": "code",
   "execution_count": 35,
   "id": "18474ae7",
   "metadata": {},
   "outputs": [
    {
     "ename": "ValueError",
     "evalue": "Indexes have overlapping values: Index(['2021-03-01'], dtype='object')",
     "output_type": "error",
     "traceback": [
      "\u001b[1;31m---------------------------------------------------------------------------\u001b[0m",
      "\u001b[1;31mValueError\u001b[0m                                Traceback (most recent call last)",
      "\u001b[1;32m~\\AppData\\Local\\Temp/ipykernel_319456/153862957.py\u001b[0m in \u001b[0;36m<module>\u001b[1;34m\u001b[0m\n\u001b[0;32m      1\u001b[0m \u001b[1;31m#유니크한 인덱스만 허용해서 추가하려면\u001b[0m\u001b[1;33m\u001b[0m\u001b[1;33m\u001b[0m\u001b[0m\n\u001b[1;32m----> 2\u001b[1;33m \u001b[0ms_test2\u001b[0m \u001b[1;33m=\u001b[0m \u001b[0mstock_price_Series_index\u001b[0m\u001b[1;33m.\u001b[0m\u001b[0mappend\u001b[0m\u001b[1;33m(\u001b[0m\u001b[0madd_data\u001b[0m\u001b[1;33m,\u001b[0m \u001b[0mverify_integrity\u001b[0m\u001b[1;33m=\u001b[0m\u001b[1;32mTrue\u001b[0m\u001b[1;33m)\u001b[0m\u001b[1;33m\u001b[0m\u001b[1;33m\u001b[0m\u001b[0m\n\u001b[0m\u001b[0;32m      3\u001b[0m \u001b[0ms_test2\u001b[0m \u001b[1;31m#이중 인덱스 때문에 오류남\u001b[0m\u001b[1;33m\u001b[0m\u001b[1;33m\u001b[0m\u001b[0m\n",
      "\u001b[1;32m~\\Anaconda3\\lib\\site-packages\\pandas\\core\\series.py\u001b[0m in \u001b[0;36mappend\u001b[1;34m(self, to_append, ignore_index, verify_integrity)\u001b[0m\n\u001b[0;32m   2875\u001b[0m             \u001b[0mmsg\u001b[0m \u001b[1;33m=\u001b[0m \u001b[1;34m\"to_append should be a Series or list/tuple of Series, got DataFrame\"\u001b[0m\u001b[1;33m\u001b[0m\u001b[1;33m\u001b[0m\u001b[0m\n\u001b[0;32m   2876\u001b[0m             \u001b[1;32mraise\u001b[0m \u001b[0mTypeError\u001b[0m\u001b[1;33m(\u001b[0m\u001b[0mmsg\u001b[0m\u001b[1;33m)\u001b[0m\u001b[1;33m\u001b[0m\u001b[1;33m\u001b[0m\u001b[0m\n\u001b[1;32m-> 2877\u001b[1;33m         return concat(\n\u001b[0m\u001b[0;32m   2878\u001b[0m             \u001b[0mto_concat\u001b[0m\u001b[1;33m,\u001b[0m \u001b[0mignore_index\u001b[0m\u001b[1;33m=\u001b[0m\u001b[0mignore_index\u001b[0m\u001b[1;33m,\u001b[0m \u001b[0mverify_integrity\u001b[0m\u001b[1;33m=\u001b[0m\u001b[0mverify_integrity\u001b[0m\u001b[1;33m\u001b[0m\u001b[1;33m\u001b[0m\u001b[0m\n\u001b[0;32m   2879\u001b[0m         )\n",
      "\u001b[1;32m~\\Anaconda3\\lib\\site-packages\\pandas\\util\\_decorators.py\u001b[0m in \u001b[0;36mwrapper\u001b[1;34m(*args, **kwargs)\u001b[0m\n\u001b[0;32m    309\u001b[0m                     \u001b[0mstacklevel\u001b[0m\u001b[1;33m=\u001b[0m\u001b[0mstacklevel\u001b[0m\u001b[1;33m,\u001b[0m\u001b[1;33m\u001b[0m\u001b[1;33m\u001b[0m\u001b[0m\n\u001b[0;32m    310\u001b[0m                 )\n\u001b[1;32m--> 311\u001b[1;33m             \u001b[1;32mreturn\u001b[0m \u001b[0mfunc\u001b[0m\u001b[1;33m(\u001b[0m\u001b[1;33m*\u001b[0m\u001b[0margs\u001b[0m\u001b[1;33m,\u001b[0m \u001b[1;33m**\u001b[0m\u001b[0mkwargs\u001b[0m\u001b[1;33m)\u001b[0m\u001b[1;33m\u001b[0m\u001b[1;33m\u001b[0m\u001b[0m\n\u001b[0m\u001b[0;32m    312\u001b[0m \u001b[1;33m\u001b[0m\u001b[0m\n\u001b[0;32m    313\u001b[0m         \u001b[1;32mreturn\u001b[0m \u001b[0mwrapper\u001b[0m\u001b[1;33m\u001b[0m\u001b[1;33m\u001b[0m\u001b[0m\n",
      "\u001b[1;32m~\\Anaconda3\\lib\\site-packages\\pandas\\core\\reshape\\concat.py\u001b[0m in \u001b[0;36mconcat\u001b[1;34m(objs, axis, join, ignore_index, keys, levels, names, verify_integrity, sort, copy)\u001b[0m\n\u001b[0;32m    292\u001b[0m     \u001b[0mValueError\u001b[0m\u001b[1;33m:\u001b[0m \u001b[0mIndexes\u001b[0m \u001b[0mhave\u001b[0m \u001b[0moverlapping\u001b[0m \u001b[0mvalues\u001b[0m\u001b[1;33m:\u001b[0m \u001b[1;33m[\u001b[0m\u001b[1;34m'a'\u001b[0m\u001b[1;33m]\u001b[0m\u001b[1;33m\u001b[0m\u001b[1;33m\u001b[0m\u001b[0m\n\u001b[0;32m    293\u001b[0m     \"\"\"\n\u001b[1;32m--> 294\u001b[1;33m     op = _Concatenator(\n\u001b[0m\u001b[0;32m    295\u001b[0m         \u001b[0mobjs\u001b[0m\u001b[1;33m,\u001b[0m\u001b[1;33m\u001b[0m\u001b[1;33m\u001b[0m\u001b[0m\n\u001b[0;32m    296\u001b[0m         \u001b[0maxis\u001b[0m\u001b[1;33m=\u001b[0m\u001b[0maxis\u001b[0m\u001b[1;33m,\u001b[0m\u001b[1;33m\u001b[0m\u001b[1;33m\u001b[0m\u001b[0m\n",
      "\u001b[1;32m~\\Anaconda3\\lib\\site-packages\\pandas\\core\\reshape\\concat.py\u001b[0m in \u001b[0;36m__init__\u001b[1;34m(self, objs, axis, join, keys, levels, names, ignore_index, verify_integrity, copy, sort)\u001b[0m\n\u001b[0;32m    477\u001b[0m         \u001b[0mself\u001b[0m\u001b[1;33m.\u001b[0m\u001b[0mcopy\u001b[0m \u001b[1;33m=\u001b[0m \u001b[0mcopy\u001b[0m\u001b[1;33m\u001b[0m\u001b[1;33m\u001b[0m\u001b[0m\n\u001b[0;32m    478\u001b[0m \u001b[1;33m\u001b[0m\u001b[0m\n\u001b[1;32m--> 479\u001b[1;33m         \u001b[0mself\u001b[0m\u001b[1;33m.\u001b[0m\u001b[0mnew_axes\u001b[0m \u001b[1;33m=\u001b[0m \u001b[0mself\u001b[0m\u001b[1;33m.\u001b[0m\u001b[0m_get_new_axes\u001b[0m\u001b[1;33m(\u001b[0m\u001b[1;33m)\u001b[0m\u001b[1;33m\u001b[0m\u001b[1;33m\u001b[0m\u001b[0m\n\u001b[0m\u001b[0;32m    480\u001b[0m \u001b[1;33m\u001b[0m\u001b[0m\n\u001b[0;32m    481\u001b[0m     \u001b[1;32mdef\u001b[0m \u001b[0mget_result\u001b[0m\u001b[1;33m(\u001b[0m\u001b[0mself\u001b[0m\u001b[1;33m)\u001b[0m\u001b[1;33m:\u001b[0m\u001b[1;33m\u001b[0m\u001b[1;33m\u001b[0m\u001b[0m\n",
      "\u001b[1;32m~\\Anaconda3\\lib\\site-packages\\pandas\\core\\reshape\\concat.py\u001b[0m in \u001b[0;36m_get_new_axes\u001b[1;34m(self)\u001b[0m\n\u001b[0;32m    547\u001b[0m     \u001b[1;32mdef\u001b[0m \u001b[0m_get_new_axes\u001b[0m\u001b[1;33m(\u001b[0m\u001b[0mself\u001b[0m\u001b[1;33m)\u001b[0m \u001b[1;33m->\u001b[0m \u001b[0mlist\u001b[0m\u001b[1;33m[\u001b[0m\u001b[0mIndex\u001b[0m\u001b[1;33m]\u001b[0m\u001b[1;33m:\u001b[0m\u001b[1;33m\u001b[0m\u001b[1;33m\u001b[0m\u001b[0m\n\u001b[0;32m    548\u001b[0m         \u001b[0mndim\u001b[0m \u001b[1;33m=\u001b[0m \u001b[0mself\u001b[0m\u001b[1;33m.\u001b[0m\u001b[0m_get_result_dim\u001b[0m\u001b[1;33m(\u001b[0m\u001b[1;33m)\u001b[0m\u001b[1;33m\u001b[0m\u001b[1;33m\u001b[0m\u001b[0m\n\u001b[1;32m--> 549\u001b[1;33m         return [\n\u001b[0m\u001b[0;32m    550\u001b[0m             \u001b[0mself\u001b[0m\u001b[1;33m.\u001b[0m\u001b[0m_get_concat_axis\u001b[0m \u001b[1;32mif\u001b[0m \u001b[0mi\u001b[0m \u001b[1;33m==\u001b[0m \u001b[0mself\u001b[0m\u001b[1;33m.\u001b[0m\u001b[0mbm_axis\u001b[0m \u001b[1;32melse\u001b[0m \u001b[0mself\u001b[0m\u001b[1;33m.\u001b[0m\u001b[0m_get_comb_axis\u001b[0m\u001b[1;33m(\u001b[0m\u001b[0mi\u001b[0m\u001b[1;33m)\u001b[0m\u001b[1;33m\u001b[0m\u001b[1;33m\u001b[0m\u001b[0m\n\u001b[0;32m    551\u001b[0m             \u001b[1;32mfor\u001b[0m \u001b[0mi\u001b[0m \u001b[1;32min\u001b[0m \u001b[0mrange\u001b[0m\u001b[1;33m(\u001b[0m\u001b[0mndim\u001b[0m\u001b[1;33m)\u001b[0m\u001b[1;33m\u001b[0m\u001b[1;33m\u001b[0m\u001b[0m\n",
      "\u001b[1;32m~\\Anaconda3\\lib\\site-packages\\pandas\\core\\reshape\\concat.py\u001b[0m in \u001b[0;36m<listcomp>\u001b[1;34m(.0)\u001b[0m\n\u001b[0;32m    548\u001b[0m         \u001b[0mndim\u001b[0m \u001b[1;33m=\u001b[0m \u001b[0mself\u001b[0m\u001b[1;33m.\u001b[0m\u001b[0m_get_result_dim\u001b[0m\u001b[1;33m(\u001b[0m\u001b[1;33m)\u001b[0m\u001b[1;33m\u001b[0m\u001b[1;33m\u001b[0m\u001b[0m\n\u001b[0;32m    549\u001b[0m         return [\n\u001b[1;32m--> 550\u001b[1;33m             \u001b[0mself\u001b[0m\u001b[1;33m.\u001b[0m\u001b[0m_get_concat_axis\u001b[0m \u001b[1;32mif\u001b[0m \u001b[0mi\u001b[0m \u001b[1;33m==\u001b[0m \u001b[0mself\u001b[0m\u001b[1;33m.\u001b[0m\u001b[0mbm_axis\u001b[0m \u001b[1;32melse\u001b[0m \u001b[0mself\u001b[0m\u001b[1;33m.\u001b[0m\u001b[0m_get_comb_axis\u001b[0m\u001b[1;33m(\u001b[0m\u001b[0mi\u001b[0m\u001b[1;33m)\u001b[0m\u001b[1;33m\u001b[0m\u001b[1;33m\u001b[0m\u001b[0m\n\u001b[0m\u001b[0;32m    551\u001b[0m             \u001b[1;32mfor\u001b[0m \u001b[0mi\u001b[0m \u001b[1;32min\u001b[0m \u001b[0mrange\u001b[0m\u001b[1;33m(\u001b[0m\u001b[0mndim\u001b[0m\u001b[1;33m)\u001b[0m\u001b[1;33m\u001b[0m\u001b[1;33m\u001b[0m\u001b[0m\n\u001b[0;32m    552\u001b[0m         ]\n",
      "\u001b[1;32m~\\Anaconda3\\lib\\site-packages\\pandas\\_libs\\properties.pyx\u001b[0m in \u001b[0;36mpandas._libs.properties.CachedProperty.__get__\u001b[1;34m()\u001b[0m\n",
      "\u001b[1;32m~\\Anaconda3\\lib\\site-packages\\pandas\\core\\reshape\\concat.py\u001b[0m in \u001b[0;36m_get_concat_axis\u001b[1;34m(self)\u001b[0m\n\u001b[0;32m    609\u001b[0m             )\n\u001b[0;32m    610\u001b[0m \u001b[1;33m\u001b[0m\u001b[0m\n\u001b[1;32m--> 611\u001b[1;33m         \u001b[0mself\u001b[0m\u001b[1;33m.\u001b[0m\u001b[0m_maybe_check_integrity\u001b[0m\u001b[1;33m(\u001b[0m\u001b[0mconcat_axis\u001b[0m\u001b[1;33m)\u001b[0m\u001b[1;33m\u001b[0m\u001b[1;33m\u001b[0m\u001b[0m\n\u001b[0m\u001b[0;32m    612\u001b[0m \u001b[1;33m\u001b[0m\u001b[0m\n\u001b[0;32m    613\u001b[0m         \u001b[1;32mreturn\u001b[0m \u001b[0mconcat_axis\u001b[0m\u001b[1;33m\u001b[0m\u001b[1;33m\u001b[0m\u001b[0m\n",
      "\u001b[1;32m~\\Anaconda3\\lib\\site-packages\\pandas\\core\\reshape\\concat.py\u001b[0m in \u001b[0;36m_maybe_check_integrity\u001b[1;34m(self, concat_index)\u001b[0m\n\u001b[0;32m    617\u001b[0m             \u001b[1;32mif\u001b[0m \u001b[1;32mnot\u001b[0m \u001b[0mconcat_index\u001b[0m\u001b[1;33m.\u001b[0m\u001b[0mis_unique\u001b[0m\u001b[1;33m:\u001b[0m\u001b[1;33m\u001b[0m\u001b[1;33m\u001b[0m\u001b[0m\n\u001b[0;32m    618\u001b[0m                 \u001b[0moverlap\u001b[0m \u001b[1;33m=\u001b[0m \u001b[0mconcat_index\u001b[0m\u001b[1;33m[\u001b[0m\u001b[0mconcat_index\u001b[0m\u001b[1;33m.\u001b[0m\u001b[0mduplicated\u001b[0m\u001b[1;33m(\u001b[0m\u001b[1;33m)\u001b[0m\u001b[1;33m]\u001b[0m\u001b[1;33m.\u001b[0m\u001b[0munique\u001b[0m\u001b[1;33m(\u001b[0m\u001b[1;33m)\u001b[0m\u001b[1;33m\u001b[0m\u001b[1;33m\u001b[0m\u001b[0m\n\u001b[1;32m--> 619\u001b[1;33m                 \u001b[1;32mraise\u001b[0m \u001b[0mValueError\u001b[0m\u001b[1;33m(\u001b[0m\u001b[1;34mf\"Indexes have overlapping values: {overlap}\"\u001b[0m\u001b[1;33m)\u001b[0m\u001b[1;33m\u001b[0m\u001b[1;33m\u001b[0m\u001b[0m\n\u001b[0m\u001b[0;32m    620\u001b[0m \u001b[1;33m\u001b[0m\u001b[0m\n\u001b[0;32m    621\u001b[0m \u001b[1;33m\u001b[0m\u001b[0m\n",
      "\u001b[1;31mValueError\u001b[0m: Indexes have overlapping values: Index(['2021-03-01'], dtype='object')"
     ]
    }
   ],
   "source": [
    "#유니크한 인덱스만 허용해서 추가하려면\n",
    "s_test2 = stock_price_Series_index.append(add_data, verify_integrity=True)\n",
    "s_test2 #이중 인덱스 때문에 오류남"
   ]
  },
  {
   "cell_type": "markdown",
   "id": "63b901bd",
   "metadata": {},
   "source": [
    "> 참고) pandas는 일반적인 인덱스의 개념과 달리                                                                        \n",
    "> 이중인덱스를 기본으로 하고 있어서 추가할 때, 작업하다가 오타가 되어서 등..                                                         \n",
    ">이중인덱스에대한 에러를 기본으로 안 함\n",
    "> --> 항상 이중인덱스에 대한 여부를 인지를 해야함                                \n",
    "> 특히 데이터를 추가할 때!!"
   ]
  },
  {
   "cell_type": "code",
   "execution_count": 36,
   "id": "9f4e1e5d",
   "metadata": {},
   "outputs": [
    {
     "name": "stdout",
     "output_type": "stream",
     "text": [
      "11000\n",
      "9900\n",
      "10340.0\n",
      "439.31765272977594\n",
      "193000.0\n"
     ]
    }
   ],
   "source": [
    "#기타 수식 함수\n",
    "print(stock_price_Series_index.max())\n",
    "print(stock_price_Series_index.min())\n",
    "print(stock_price_Series_index.mean())\n",
    "print(stock_price_Series_index.std())\n",
    "print(stock_price_Series_index.var())"
   ]
  },
  {
   "cell_type": "markdown",
   "id": "63ac6f4c",
   "metadata": {},
   "source": [
    "#### pandas Series 정리\n",
    "* 1) pandas는 차원에 따라서 데이터 타입을 지정함\n",
    "     1D : Series, 2D : DataFrame (대소문자 주의!)\n",
    "* 2) 태생적인 정수 인덱스 + 내가 만든 인덱스\n",
    "    -> 모든 것들 다 둘다에 가능함\n",
    "    -> 간략방법 [ ] 인덱스로 바로 접근\n",
    "    -> FM방법 1개(at, iat) vs 여러개 (loc, iloc) ... 접근 기준이 정수인덱스냐 내가 만든거냐\n",
    "* 3) numpy를 활용해서, 모든 원소에 일괄 적용하는 부분\n",
    "    -> 불리언 인덱싱 -> 조건 검색\n",
    "* 4) 인덱스의 특징 : 이중 인덱스를 기본으로 하여서 주의필요!!"
   ]
  }
 ],
 "metadata": {
  "kernelspec": {
   "display_name": "Python 3 (ipykernel)",
   "language": "python",
   "name": "python3"
  },
  "language_info": {
   "codemirror_mode": {
    "name": "ipython",
    "version": 3
   },
   "file_extension": ".py",
   "mimetype": "text/x-python",
   "name": "python",
   "nbconvert_exporter": "python",
   "pygments_lexer": "ipython3",
   "version": "3.9.7"
  }
 },
 "nbformat": 4,
 "nbformat_minor": 5
}
