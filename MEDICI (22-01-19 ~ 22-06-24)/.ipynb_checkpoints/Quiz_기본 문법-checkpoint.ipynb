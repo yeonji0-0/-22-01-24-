{
 "cells": [
  {
   "cell_type": "markdown",
   "id": "59ca3b38",
   "metadata": {},
   "source": [
    "# 기본 연습 문제 리뷰"
   ]
  },
  {
   "cell_type": "markdown",
   "id": "b8886266",
   "metadata": {},
   "source": [
    " "
   ]
  },
  {
   "cell_type": "markdown",
   "id": "bc182f96",
   "metadata": {},
   "source": [
    "### 01. \n",
    "8과목의 점수를 입력을 받아서, 이들의 평균을 구하는 것을 구하세요. 아래와 같이 본인이 입력을 받으려는 과목의 이름을 출력을 하면서, 그 과목의 점수를 입력을 받으면서 진행을 하세요"
   ]
  },
  {
   "cell_type": "code",
   "execution_count": 51,
   "id": "fac1747a",
   "metadata": {},
   "outputs": [
    {
     "name": "stdout",
     "output_type": "stream",
     "text": [
      "국어점수를 입력하세요10\n",
      "수학점수를 입력하세요20\n",
      "과학점수를 입력하세요30\n",
      "사회점수를 입력하세요40\n",
      "영어점수를 입력하세요50\n",
      "음악점수를 입력하세요60\n",
      "평균 : 35.0\n"
     ]
    }
   ],
   "source": [
    "score = []\n",
    "score.append(int(input(\"국어점수를 입력하세요\")))\n",
    "score.append(int(input(\"수학점수를 입력하세요\")))\n",
    "score.append(int(input(\"과학점수를 입력하세요\")))\n",
    "score.append(int(input(\"사회점수를 입력하세요\")))\n",
    "score.append(int(input(\"영어점수를 입력하세요\")))\n",
    "score.append(int(input(\"음악점수를 입력하세요\")))\n",
    "print(\"평균 :\",str(sum(score)/len(score)))"
   ]
  },
  {
   "cell_type": "markdown",
   "id": "a2359c7b",
   "metadata": {},
   "source": [
    "### 02. \n",
    "아래와 같은 학생 성적에 대해서 a = {\"A\": 30, \"B\":50, \"C\":20,\"D\":30, \"E\":85, \"F\":85,\"G\":20}의 데이터에 대해서, 최고점의 점수와 최고점을 받은 학생이 몇 명인지 알려주세요"
   ]
  },
  {
   "cell_type": "code",
   "execution_count": 73,
   "id": "417964d3",
   "metadata": {},
   "outputs": [
    {
     "name": "stdout",
     "output_type": "stream",
     "text": [
      "최고점 : 85\n",
      "최고점 학생 수 : 2\n"
     ]
    }
   ],
   "source": [
    "a = {\"A\": 30, \"B\":50, \"C\":20,\"D\":30, \"E\":85, \"F\":85,\"G\":20}\n",
    "score_max = max(a.values())\n",
    "student = 0\n",
    "for score in a.values():\n",
    "    if score == score_max:\n",
    "        student += 1\n",
    "print(\"최고점 :\" ,score_max)\n",
    "print(\"최고점 학생 수 :\",student)\n",
    "   "
   ]
  },
  {
   "cell_type": "markdown",
   "id": "9b0f3744",
   "metadata": {},
   "source": [
    "### 03.\n",
    "a = [\"three\", \"six\", \"nine\", \"twelve\"] 데이터를 기반으로 b = [\"three_3\", \"six_6\", \"nine_9\", \"twelve_12\"]로 만들어보세요~"
   ]
  },
  {
   "cell_type": "code",
   "execution_count": 30,
   "id": "977bc151",
   "metadata": {},
   "outputs": [
    {
     "data": {
      "text/plain": [
       "['three_3', 'six_6', 'nine_9', 'twelve_12']"
      ]
     },
     "execution_count": 30,
     "metadata": {},
     "output_type": "execute_result"
    }
   ],
   "source": [
    "a = [\"three\", \"six\", \"nine\", \"twelve\"]\n",
    "b = []\n",
    "for i in range(len(a)):\n",
    "    b.append(a[i]+\"_\"+str((i+1)*3))\n",
    "b"
   ]
  },
  {
   "cell_type": "markdown",
   "id": "0b0446ad",
   "metadata": {},
   "source": [
    "### 04.\n",
    "a = [ 100, 300, 150, 200, 500, 800, 300, 200, 100, 450 , 800, 100 ] 의 데이터가 주어졌을 때, 이들 중에서 100, 200, 800, 500, 450, 300 의 값을 제외한 나머지 값들에 대해서  / 100을 값을 아래와 같이 출력하세요~ 아래와 같은 2가지 방법으로 하세요<br>\n",
    "방법1 : 리스트 컴프리핸션, not in 사용<br>\n",
    "방법2 : 리스트 컴프리핸션, in 사용"
   ]
  },
  {
   "cell_type": "code",
   "execution_count": 32,
   "id": "7eb4eb00",
   "metadata": {},
   "outputs": [],
   "source": [
    "a = [ 100, 300, 150, 200, 500, 800, 300, 200, 100, 450 , 800, 100 ]"
   ]
  },
  {
   "cell_type": "code",
   "execution_count": 33,
   "id": "c5f5c1b9",
   "metadata": {},
   "outputs": [
    {
     "data": {
      "text/plain": [
       "[1.5]"
      ]
     },
     "execution_count": 33,
     "metadata": {},
     "output_type": "execute_result"
    }
   ],
   "source": [
    "#) not in 을 사용해서 하기\n",
    "[i/100 for i in a if i not in [100, 200, 800, 500, 450, 300]]"
   ]
  },
  {
   "cell_type": "code",
   "execution_count": 36,
   "id": "823d2e6e",
   "metadata": {},
   "outputs": [
    {
     "ename": "TypeError",
     "evalue": "bad operand type for unary -: 'list'",
     "output_type": "error",
     "traceback": [
      "\u001b[1;31m---------------------------------------------------------------------------\u001b[0m",
      "\u001b[1;31mTypeError\u001b[0m                                 Traceback (most recent call last)",
      "\u001b[1;32m~\\AppData\\Local\\Temp/ipykernel_390600/3795439971.py\u001b[0m in \u001b[0;36m<module>\u001b[1;34m\u001b[0m\n\u001b[0;32m      1\u001b[0m \u001b[1;31m# in을 사용해서 하기\u001b[0m\u001b[1;33m\u001b[0m\u001b[1;33m\u001b[0m\u001b[0m\n\u001b[1;32m----> 2\u001b[1;33m \u001b[1;33m[\u001b[0m\u001b[0mi\u001b[0m\u001b[1;33m/\u001b[0m\u001b[1;36m100\u001b[0m \u001b[1;32mfor\u001b[0m \u001b[0mi\u001b[0m \u001b[1;32min\u001b[0m \u001b[0ma\u001b[0m \u001b[1;32mif\u001b[0m \u001b[0mi\u001b[0m \u001b[1;32min\u001b[0m \u001b[1;33m-\u001b[0m\u001b[1;33m(\u001b[0m\u001b[1;33m[\u001b[0m\u001b[1;36m100\u001b[0m\u001b[1;33m,\u001b[0m \u001b[1;36m200\u001b[0m\u001b[1;33m,\u001b[0m \u001b[1;36m800\u001b[0m\u001b[1;33m,\u001b[0m \u001b[1;36m500\u001b[0m\u001b[1;33m,\u001b[0m \u001b[1;36m450\u001b[0m\u001b[1;33m,\u001b[0m \u001b[1;36m300\u001b[0m\u001b[1;33m]\u001b[0m\u001b[1;33m)\u001b[0m\u001b[1;33m]\u001b[0m\u001b[1;33m\u001b[0m\u001b[1;33m\u001b[0m\u001b[0m\n\u001b[0m",
      "\u001b[1;32m~\\AppData\\Local\\Temp/ipykernel_390600/3795439971.py\u001b[0m in \u001b[0;36m<listcomp>\u001b[1;34m(.0)\u001b[0m\n\u001b[0;32m      1\u001b[0m \u001b[1;31m# in을 사용해서 하기\u001b[0m\u001b[1;33m\u001b[0m\u001b[1;33m\u001b[0m\u001b[0m\n\u001b[1;32m----> 2\u001b[1;33m \u001b[1;33m[\u001b[0m\u001b[0mi\u001b[0m\u001b[1;33m/\u001b[0m\u001b[1;36m100\u001b[0m \u001b[1;32mfor\u001b[0m \u001b[0mi\u001b[0m \u001b[1;32min\u001b[0m \u001b[0ma\u001b[0m \u001b[1;32mif\u001b[0m \u001b[0mi\u001b[0m \u001b[1;32min\u001b[0m \u001b[1;33m-\u001b[0m\u001b[1;33m(\u001b[0m\u001b[1;33m[\u001b[0m\u001b[1;36m100\u001b[0m\u001b[1;33m,\u001b[0m \u001b[1;36m200\u001b[0m\u001b[1;33m,\u001b[0m \u001b[1;36m800\u001b[0m\u001b[1;33m,\u001b[0m \u001b[1;36m500\u001b[0m\u001b[1;33m,\u001b[0m \u001b[1;36m450\u001b[0m\u001b[1;33m,\u001b[0m \u001b[1;36m300\u001b[0m\u001b[1;33m]\u001b[0m\u001b[1;33m)\u001b[0m\u001b[1;33m]\u001b[0m\u001b[1;33m\u001b[0m\u001b[1;33m\u001b[0m\u001b[0m\n\u001b[0m",
      "\u001b[1;31mTypeError\u001b[0m: bad operand type for unary -: 'list'"
     ]
    }
   ],
   "source": [
    "# in을 사용해서 하기\n",
    "[i/100 for i in a if i in [100, 200, 800, 500, 450, 300]]"
   ]
  },
  {
   "cell_type": "markdown",
   "id": "b6cdd80a",
   "metadata": {},
   "source": [
    "### 05.\n",
    "100까지의 소수를 모두 찾아보세요~"
   ]
  },
  {
   "cell_type": "code",
   "execution_count": 106,
   "id": "e1000432",
   "metadata": {},
   "outputs": [],
   "source": [
    "a = list(range(2,101))\n",
    "for i in range(2,101):\n",
    "        if a[i-2] > i & a[i-2] % i != 0:\n",
    "                print(a[i-2])\n",
    "            "
   ]
  },
  {
   "cell_type": "markdown",
   "id": "1298f9f1",
   "metadata": {},
   "source": [
    "### 06.\n",
    "아래의 그림을 만들어 보세요"
   ]
  },
  {
   "cell_type": "code",
   "execution_count": 39,
   "id": "5dc3543f",
   "metadata": {},
   "outputs": [
    {
     "name": "stdout",
     "output_type": "stream",
     "text": [
      "@@@@@@@@@\n",
      " @@@@@@@\n",
      "  @@@@@\n",
      "   @@@\n",
      "    @\n"
     ]
    }
   ],
   "source": [
    "for i in range(5,0,-1):\n",
    "  print(\" \"*(5-i)+\"@\"*(2*i-1))"
   ]
  },
  {
   "cell_type": "markdown",
   "id": "3f12723d",
   "metadata": {},
   "source": [
    "### 07.\n",
    "3개의 수를 입력을 받고, 그 중에서 가장 큰 숫자를 출력하세요"
   ]
  },
  {
   "cell_type": "code",
   "execution_count": 40,
   "id": "ad7dbc92",
   "metadata": {},
   "outputs": [
    {
     "name": "stdout",
     "output_type": "stream",
     "text": [
      "처음수 :3\n",
      "두번째수 :5\n",
      "마지막수 :2\n"
     ]
    },
    {
     "data": {
      "text/plain": [
       "'5'"
      ]
     },
     "execution_count": 40,
     "metadata": {},
     "output_type": "execute_result"
    }
   ],
   "source": [
    "num = []\n",
    "num.append(input(\"처음수 :\"))\n",
    "num.append(input(\"두번째수 :\"))\n",
    "num.append(input(\"마지막수 :\"))\n",
    "max(num)"
   ]
  },
  {
   "cell_type": "markdown",
   "id": "f00d5d81",
   "metadata": {},
   "source": [
    "### 08.\n",
    "아래와 같이 주가 가격의 정보가 있다. 가로줄은 1일에 대한 시가, 고가, 저가, 종가의 순으로 되어 있으며, 고가가 200보다 큰 경우를 출력하세요"
   ]
  },
  {
   "cell_type": "code",
   "execution_count": 2,
   "id": "b9efb534",
   "metadata": {},
   "outputs": [],
   "source": [
    "data = [[\"open\", \"high\", \"low\", \"close\"],\n",
    "        [120, 150, 90, 100],\n",
    "        [230, 220, 120, 200],\n",
    "        [340, 340, 300, 200]]"
   ]
  },
  {
   "cell_type": "code",
   "execution_count": 14,
   "id": "97ed67d3",
   "metadata": {},
   "outputs": [
    {
     "data": {
      "text/plain": [
       "[220, 340]"
      ]
     },
     "execution_count": 14,
     "metadata": {},
     "output_type": "execute_result"
    }
   ],
   "source": [
    "stock_max = []\n",
    "for i in range(1,len(data)):\n",
    "    stock_max.append(data[i][1])\n",
    "    \n",
    "[i for i in stock_max if i > 200]"
   ]
  },
  {
   "cell_type": "markdown",
   "id": "48c7305b",
   "metadata": {},
   "source": [
    "### 09.\n",
    "아래와 같이 주가 가격의 정보가 있다. 가로줄은 1일에 대한 시가, 고가, 저가, 종가의 순으로 되어 있으며, 그 날의 고가과 저가의 변동폭을 날짜별로 출력을 하세요"
   ]
  },
  {
   "cell_type": "code",
   "execution_count": 24,
   "id": "62d68df9",
   "metadata": {},
   "outputs": [],
   "source": [
    "data = [[\"open\", \"high\", \"low\", \"close\"],\n",
    "        [120, 150, 90, 100],\n",
    "        [230, 220, 120, 200],\n",
    "        [340, 340, 300, 200]]"
   ]
  },
  {
   "cell_type": "code",
   "execution_count": 15,
   "id": "58b7b28d",
   "metadata": {},
   "outputs": [
    {
     "data": {
      "text/plain": [
       "[60, 100, 40]"
      ]
     },
     "execution_count": 15,
     "metadata": {},
     "output_type": "execute_result"
    }
   ],
   "source": [
    "stock_gap = []\n",
    "\n",
    "\n",
    "for i in range(1,len(data)):\n",
    "    stock_gap.append(int(data[i][1])-int(data[i][2]))\n",
    "    \n",
    "stock_gap"
   ]
  },
  {
   "cell_type": "markdown",
   "id": "1a469858",
   "metadata": {},
   "source": [
    "### 10. \n",
    "아래와 같이 주가 가격의 정보가 있다. 가로 줄은 1일에 대한 시가, 고가, 저가, 종가의 순으로 되어 있으며, 그날 시가에 사서 고가에 매도를 하였을 때 날짜별로 수익금을 출력하세요"
   ]
  },
  {
   "cell_type": "code",
   "execution_count": 23,
   "id": "49fe34f1",
   "metadata": {},
   "outputs": [],
   "source": [
    "data = [[\"open\", \"high\", \"low\", \"close\"],\n",
    "        [120, 150, 90, 100],\n",
    "        [230, 220, 120, 200],\n",
    "        [340, 340, 300, 200]]"
   ]
  },
  {
   "cell_type": "code",
   "execution_count": 16,
   "id": "0bffe1e3",
   "metadata": {},
   "outputs": [
    {
     "name": "stdout",
     "output_type": "stream",
     "text": [
      "1일 수익금 : 30\n",
      "2일 수익금 : -10\n",
      "3일 수익금 : 0\n"
     ]
    }
   ],
   "source": [
    "stock_get = []\n",
    "stock_get = [(int(data[i][1])-int(data[i][0])) for i in range(1,len(data)) ]\n",
    "print(\"1일 수익금 :\",stock_get[0])\n",
    "print(\"2일 수익금 :\",stock_get[1])\n",
    "print(\"3일 수익금 :\",stock_get[2])"
   ]
  }
 ],
 "metadata": {
  "kernelspec": {
   "display_name": "Python 3 (ipykernel)",
   "language": "python",
   "name": "python3"
  },
  "language_info": {
   "codemirror_mode": {
    "name": "ipython",
    "version": 3
   },
   "file_extension": ".py",
   "mimetype": "text/x-python",
   "name": "python",
   "nbconvert_exporter": "python",
   "pygments_lexer": "ipython3",
   "version": "3.9.7"
  }
 },
 "nbformat": 4,
 "nbformat_minor": 5
}
