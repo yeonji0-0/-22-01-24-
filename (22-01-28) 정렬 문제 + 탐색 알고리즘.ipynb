{
 "cells": [
  {
   "cell_type": "markdown",
   "id": "d878528a",
   "metadata": {},
   "source": [
    " ## 어제 했던 부분 리뷰\n",
    ">대표적인 정렬\n",
    ">기본적인 정렬 알고리즘 & 정렬에 대한 구현\n",
    "\n",
    ">1) 기본 알고리즘 : 원리, 코드(인덱스), 대면면접 \n",
    "\n",
    ">2) 일단 정렬만 하자: sort, sorted -> 내가 원하는 기준으로 정렬\n",
    "\n",
    "> 기본 알고리즘 : 선택, 삽입, 버블->2중 for : N^2의 복잡도"
   ]
  },
  {
   "cell_type": "markdown",
   "id": "3a5c69d9",
   "metadata": {},
   "source": [
    " ## 카카오 실패율 문제"
   ]
  },
  {
   "cell_type": "code",
   "execution_count": null,
   "id": "870a9ae7",
   "metadata": {},
   "outputs": [],
   "source": [
    "기준 : 실패율\n",
    "할 것: 실패율 높은 순 -> 낮은순 (스테이지 번호: 리스트) 정렬  \n",
    "& *주의사항* 실패율이 같으면 작은 스테이지 번호 우선 출력 (어제 - 성적 같을 때 이름,학번순서)\n",
    " --> 1번 기준: 실패율, 2번 기준 : \n",
    " \n",
    "EX) N : 5 -> stage:1,2,3,4,5 \n",
    "    stages -> [2,1,2,6,2,4,3,3]\n",
    "    1번 stage : 참가자 8명 / 실패자 1명 -> stage 1인 사람 수  / 실패율 1/8 / 통과자 : 8 - 1 = 7명\n",
    "    2번 stage : 참가자 7명(1번 통과자들) / 실패자 3명 -> stage 2인 사람 수  / 실패율 3/7 / 통과자 7-3 = 4명\n",
    "    3번 stage : 참가자 4명 (2번 통과자들) / 실패자 2명 -> stage3인 사람 수  / 실패율 2/4 / 통과자 4-2 = 2명\n",
    "    4번 stage : 참가자 2명 (3번 통과자들) / 실패자 1명 -> stage4인 사람 수  / 실패율 2/1 / 통과자 2-1 = 1명\n",
    "    5번 stage : 참가자 1명 (4번 통과자들) / 실패자 0명  / 실패율 0 / 통과자 1-0 = 1명\n",
    "    \n",
    "i번 stage : 참가자(i-1번 통과자들) / 실패자 값이 i인 개수 / 실패율 실패자/참가자 / 통과자 참가자 - 실패자 = i+1 참가자\n",
    "           (i=1 stages변수의 값의 수 (len))    (count)\n",
    "최종형태 [(1, 1/8), (2, 3/7), (3, 2/4), (4, 1/2), (5,0) ] -> 뒤의 실패율을 기준으로 3 4 2 1 5\n",
    "    \n",
    "EX2) N : 4\n",
    "    stages -> [4,4,4,4,4] -> 5명 참가\n",
    "    1번 stage : 참가자 5명 / 실패자 1명   / 실패율 0 / 통과자 : 5 - 0 = 5명\n",
    "    2번 stage : 참가자 5명 / 실패자 1명   / 실패율 0 / 통과자 : 5 - 0 = 5명\n",
    "    3번 stage : 참가자 5명 / 실패자 1명   / 실패율 0 / 통과자 : 5 - 0 = 5명\n",
    "    4번 stage : 참가자 5명  / 실패자 5명 -> stage4인 사람 수  / 실패율 1 / 통과자 0명\n",
    "    \n",
    "    최종형태 [(1, 0), (2, 0), (3, 0), (4, 1) ] -> 뒤의 실패율을 기준으로 4 1 2 3\n",
    "\n",
    "나만의 정렬을 만드는 가장 기본 스타일\n",
    "[ (A,30), (B,50), (C,40) ] -> 성적순대로 이름을 출력하세요 단, 성적이 같으면 이름순"
   ]
  },
  {
   "cell_type": "code",
   "execution_count": 15,
   "id": "e1c714ec",
   "metadata": {},
   "outputs": [],
   "source": [
    "def solution(N, stages):\n",
    "    answer = []\n",
    "    ##############################\n",
    "    #1-1) 필요한 정보 : stage별 실패율 기록할 변수\n",
    "    fail_dict={} #key ; stage수, value : 실패율\n",
    "    #1-2) 최초 참가자 수 = 1번 stage 참가자 수 : len\n",
    "    num_people = len(stages)\n",
    "    #2) 1번 stage~~ N번 stage까지.. : stage값을 기준 -> 파이썬 기준으로 잘 맞춰야 할 듯\n",
    "    for stage in range(1, N+1):\n",
    "        #i번째 stage의 실패자 : 리스트.count(stage)\n",
    "        fail_num = stages.count(stage)\n",
    "        #i번째 stage의 실패율 \n",
    "        if num_people > 0:\n",
    "            fail_dict[stage] = fail_num / num_people\n",
    "        else: # 0 일 때\n",
    "            fail_dict[stage] = 0\n",
    "                #참가자가 0인지 아닌지에 따라서\n",
    "        #i번째 stage의 통과자 : i+1 stage의 참가자\n",
    "        num_people = num_people - fail_num\n",
    "    ############################\n",
    "    #3) stage별로 실패율 정렬 : 같을 때 앞의 스테이지부터\n",
    "    fail_list = sorted(fail_dict.items(), key = lambda x :  x[1], reverse = True) #sorted는 안 바껴서 변수에 할당해야 바뀜\n",
    "    #fail_dict가 아니라 fail_list로 다른 변수를 한 이유 : sorted하면 타입이 list로 변경되어서\n",
    "    #4) 원하는 기준에 따른 stage만 리스트로 묶어서 출력\n",
    "    answer = [info[0] for info in fail_list]\n",
    "    ############################\n",
    "    return answer"
   ]
  },
  {
   "cell_type": "code",
   "execution_count": 16,
   "id": "5c6b627e",
   "metadata": {},
   "outputs": [
    {
     "data": {
      "text/plain": [
       "[3, 4, 2, 1, 5]"
      ]
     },
     "execution_count": 16,
     "metadata": {},
     "output_type": "execute_result"
    }
   ],
   "source": [
    "solution(5, [2, 1, 2, 6, 2, 4, 3, 3])"
   ]
  },
  {
   "cell_type": "code",
   "execution_count": 9,
   "id": "254a45ab",
   "metadata": {},
   "outputs": [
    {
     "data": {
      "text/plain": [
       "[(2, 0.5), (1, 0.125), (3, 0)]"
      ]
     },
     "execution_count": 9,
     "metadata": {},
     "output_type": "execute_result"
    }
   ],
   "source": [
    "a = {1: 1/8, 2: 2/4, 3: 0}\n",
    "sorted(a) #키값을 중심으로 정렬하게 됨\n",
    "b = sorted(a.items(), key = lambda x :  x[1], reverse = True)\n",
    "b"
   ]
  },
  {
   "cell_type": "code",
   "execution_count": 10,
   "id": "1ece0d63",
   "metadata": {},
   "outputs": [
    {
     "name": "stdout",
     "output_type": "stream",
     "text": [
      "(2, 0.5)\n",
      "(1, 0.125)\n",
      "(3, 0)\n"
     ]
    }
   ],
   "source": [
    "for i in b:\n",
    "    print(i)"
   ]
  },
  {
   "cell_type": "code",
   "execution_count": null,
   "id": "73a1a5b2",
   "metadata": {},
   "outputs": [],
   "source": [
    " #ME\n",
    "solution(N, stages):\n",
    "    answer = []\n",
    "    passer = len(stages)\n",
    "    result = []\n",
    "    for stage in range(1,len(N)+1):\n",
    "        for i in range(len(stages)):\n",
    "            if stage == stages[i]:\n",
    "                answer += 1\n",
    "        passer -= answer\n",
    "    result.append(answer / passer) \n",
    "result.sort(reserve = True)\n",
    "\n",
    "return result"
   ]
  },
  {
   "cell_type": "markdown",
   "id": "7ece8ee2",
   "metadata": {},
   "source": [
    "## 파일 정리 문제"
   ]
  },
  {
   "cell_type": "code",
   "execution_count": 24,
   "id": "c1da7cc5",
   "metadata": {},
   "outputs": [
    {
     "data": {
      "text/plain": [
       "'01230'"
      ]
     },
     "execution_count": 24,
     "metadata": {},
     "output_type": "execute_result"
    }
   ],
   "source": [
    "\"asdDSDWDWDWDWWD01230sdas34341das.sdsdsd\"\n",
    "# head : asdDSDWDWDWDW -> 대or소 일괄 변경\n",
    "# number : 01230 변경 -> padding 제거 : 1230 tn\n",
    "# tail : sdas34341das.sdsdsd ->  사용안 함\n",
    "\n",
    "#head와 number을 분리\n",
    "#   어떻게 분리할 것인가? -> 앞에서 쭉 스캔하면서 숫자가 나타나면 \n",
    "#      처음부터 그 숫자 앞까지 : head\n",
    "#      그 숫자 뒤로 숫자들이 계속 나올 떄까지 (연속) : number\n",
    "\n",
    "import re #정규식 선언\n",
    "test_str = \"asdDSDWDWDWDWWD01230sdas34341das.sdsdsd\"\n",
    "#re.findall(패턴[정규식], 어디서) -> 만족하는거 다 찾아줘\n",
    "re.findall(\"\\d+\", test_str)   #\\d+ : 자리 1 이상 , \\d{3} : 3자리만 \n",
    "#찾은 숫자들 중에서 처음 나타난 것이 number part\n",
    "re.findall(\"\\d+\", test_str)[0]\n",
    "test_str.index(\"01230\")\n",
    "test_str[:test_str.index(\"01230\")] #head 파트가 됨\n",
    "#head파트 대소문자 통일\n",
    " #문자열.lower() : 다 소문자로 바꿔줌   / 문자열.upper() : 다 대문자로 바꿔줌\n",
    "test_str[:test_str.index(\"01230\")].lower()\n",
    "#number파트에서 할 일\n",
    "  #앞에 0 없애기"
   ]
  },
  {
   "cell_type": "code",
   "execution_count": 59,
   "id": "41e33537",
   "metadata": {},
   "outputs": [],
   "source": [
    "import re # 필요 패키지 : 정규식 -> number/head 분리하려고..\n",
    "def solution(files):\n",
    "    answer = []\n",
    "    #################################\n",
    "    #1) 내가 필요한 정보들을 담을 변수  \n",
    "    my_files = [] #head, number, 원본 순서 담아두기 -> 원본순서대신 원본파일명으로 담아두어도 됨\n",
    "    #2) 입력 files에 대해서 1개씩 처리\n",
    "    for idx, i in enumerate(files):\n",
    "        #2-1) 정규식으로 숫자파트 추출 -> 제로패딩 제거\n",
    "        number = re.findall(\"\\d+\",i)[0]\n",
    "        #2-2) 처음부터 ~ 숫자파트 직전까치 추출 -> head -> 대소문자 통일\n",
    "        head = i[:i.index(number)]\n",
    "        #2-3) 필요한 정보들 처리 & 저장\n",
    "        number = int(number)\n",
    "        head = head.lower()\n",
    "        my_files.append([head, number, idx])\n",
    "    #3) 문제에서 준 대로 정렬 : head -> number -> 원본 순서\n",
    "    my_files.sort(key = lambda x : (x[0], x[1]))\n",
    "    #4) 문제에서 출력하라는 대로 출력\n",
    "    for j in my_files: # i -> (head, number, idx)\n",
    "        answer.append(files[j[2]])\n",
    "    # answer = [my_files[j[2]] for j in my_files] 위에 두 줄을 컴프리핸션으로 한 줄로도 표현 가능\n",
    "    #################################\n",
    "    return answer"
   ]
  },
  {
   "cell_type": "code",
   "execution_count": 61,
   "id": "6659112a",
   "metadata": {},
   "outputs": [
    {
     "data": {
      "text/plain": [
       "['img1.png', 'IMG01.GIF', 'img02.png', 'img2.JPG', 'img10.png', 'img12.png']"
      ]
     },
     "execution_count": 61,
     "metadata": {},
     "output_type": "execute_result"
    }
   ],
   "source": [
    "solution([\"img12.png\", \"img10.png\", \"img02.png\", \"img1.png\", \"IMG01.GIF\", \"img2.JPG\"])"
   ]
  },
  {
   "cell_type": "code",
   "execution_count": null,
   "id": "2da08206",
   "metadata": {},
   "outputs": [],
   "source": [
    "#또 다른 방식\n",
    "import re \n",
    "\n",
    "def solution(files):\n",
    "    answer = []\n",
    "    my_files = [] # h, n, 원본 파일명\n",
    "    # 2) 입력 files에 대해서 1개씩 처리\n",
    "    for i in files: \n",
    "    #    2-1) 정규식으로 숫자파트 추출 -> 제로패딩 제거\n",
    "        number = re.findall(\"\\d+\", i)[0] # \"002\"\n",
    "    #    2-2) 처음부터~숫자파트 직전까지 추출 -> head ->대소문자 통일\n",
    "        head = i[:i.index(number)] # \"AbdEf\"\n",
    "    #    2-3) 필요한 정보들 처리 & 저장~~~\n",
    "        number = int(number)\n",
    "        head = head.lower()\n",
    "        my_files.append([head, number, i])\n",
    "    # 3) 문제에서 준 대로 정렬:head -> number -> 원본순서\n",
    "    my_files.sort(key = lambda x:(x[0], x[1]))\n",
    "    # 4) 문제에서 출력하라는 대로 출력\n",
    "    answer = [ j[2] for j in my_files]\n",
    "    # answer = [ files[j[2] ] for j in my_files]\n",
    "    #############################################\n",
    "    return answer"
   ]
  },
  {
   "cell_type": "code",
   "execution_count": 45,
   "id": "d37e86b3",
   "metadata": {},
   "outputs": [],
   "source": [
    "#ME\n",
    "import re \n",
    "def solution(files):\n",
    "    answer = []\n",
    "    \n",
    "    for file in files:\n",
    "        number = int(re.findall(\"\\d+\", file)[0])\n",
    "        head = file[:file.index(number)].lower()\n",
    "        sorted(file, key = lambda x : ( x[0],x[1]))\n",
    "        \n",
    "    \n",
    "    return answer        \n",
    "    \n",
    "    "
   ]
  },
  {
   "cell_type": "code",
   "execution_count": 62,
   "id": "0be8a08f",
   "metadata": {},
   "outputs": [
    {
     "data": {
      "text/plain": [
       "['img1.png', 'IMG01.GIF', 'img02.png', 'img2.JPG', 'img10.png', 'img12.png']"
      ]
     },
     "execution_count": 62,
     "metadata": {},
     "output_type": "execute_result"
    }
   ],
   "source": [
    "files = [\"img12.png\", \"img10.png\", \"img02.png\", \"img1.png\", \"IMG01.GIF\", \"img2.JPG\"]\n",
    "solution(files)"
   ]
  },
  {
   "cell_type": "markdown",
   "id": "f5d14da2",
   "metadata": {},
   "source": [
    "## 자료구조 :stack, queue"
   ]
  },
  {
   "cell_type": "code",
   "execution_count": 63,
   "id": "a4738359",
   "metadata": {},
   "outputs": [
    {
     "data": {
      "text/plain": [
       "[1, 2, 3, 4, 5]"
      ]
     },
     "execution_count": 63,
     "metadata": {},
     "output_type": "execute_result"
    }
   ],
   "source": [
    "number = [1,2,3,4,5]\n",
    "number"
   ]
  },
  {
   "cell_type": "code",
   "execution_count": 64,
   "id": "2363f327",
   "metadata": {},
   "outputs": [
    {
     "data": {
      "text/plain": [
       "[1, 2, 3, 4, 5, 6]"
      ]
     },
     "execution_count": 64,
     "metadata": {},
     "output_type": "execute_result"
    }
   ],
   "source": [
    "number.append(6)\n",
    "number"
   ]
  },
  {
   "cell_type": "code",
   "execution_count": 70,
   "id": "f1e87332",
   "metadata": {},
   "outputs": [
    {
     "data": {
      "text/plain": [
       "[11, 13, 14]"
      ]
     },
     "execution_count": 70,
     "metadata": {},
     "output_type": "execute_result"
    }
   ],
   "source": [
    "number.pop()\n",
    "number"
   ]
  },
  {
   "cell_type": "code",
   "execution_count": 67,
   "id": "eaf3a276",
   "metadata": {},
   "outputs": [],
   "source": [
    "number = [10,11,12,13]"
   ]
  },
  {
   "cell_type": "code",
   "execution_count": 68,
   "id": "19836d84",
   "metadata": {},
   "outputs": [
    {
     "data": {
      "text/plain": [
       "[10, 11, 12, 13, 14]"
      ]
     },
     "execution_count": 68,
     "metadata": {},
     "output_type": "execute_result"
    }
   ],
   "source": [
    "number.append(14)\n",
    "number"
   ]
  },
  {
   "cell_type": "code",
   "execution_count": 69,
   "id": "26f3d95b",
   "metadata": {},
   "outputs": [
    {
     "data": {
      "text/plain": [
       "[11, 12, 13, 14]"
      ]
     },
     "execution_count": 69,
     "metadata": {},
     "output_type": "execute_result"
    }
   ],
   "source": [
    "number.pop(0) #디폴트값 맨뒤 라서 원하는 위치 적기\n",
    "number"
   ]
  },
  {
   "cell_type": "markdown",
   "id": "1e1dd5f2",
   "metadata": {},
   "source": [
    "## 그래프 표현"
   ]
  },
  {
   "cell_type": "markdown",
   "id": "87d288f8",
   "metadata": {},
   "source": [
    "### 행렬로 표현할 때"
   ]
  },
  {
   "cell_type": "code",
   "execution_count": 71,
   "id": "4353c59e",
   "metadata": {},
   "outputs": [],
   "source": [
    "#거리가 무한이다의 표현 : inf\n",
    "#방법 1) 그냥 엄청 큰 수 직접 입력\n",
    "INF = 9999999999\n",
    "#방법 2) 명시적으로 inf\n",
    "INF = float(\"inf\")"
   ]
  },
  {
   "cell_type": "code",
   "execution_count": 72,
   "id": "65bc2325",
   "metadata": {},
   "outputs": [
    {
     "data": {
      "text/plain": [
       "[[0, 7, 5], [7, 0, inf], [2, 5, inf]]"
      ]
     },
     "execution_count": 72,
     "metadata": {},
     "output_type": "execute_result"
    }
   ],
   "source": [
    "[\n",
    "    [0, 7, 5],\n",
    "    [7, 0, INF],\n",
    "    [2, 5, INF]\n",
    "]"
   ]
  },
  {
   "cell_type": "code",
   "execution_count": null,
   "id": "39c694f4",
   "metadata": {},
   "outputs": [],
   "source": [
    "graph = [\n",
    "    [],\n",
    "    [],\n",
    "    []\n",
    "]"
   ]
  },
  {
   "cell_type": "code",
   "execution_count": 75,
   "id": "9b691595",
   "metadata": {},
   "outputs": [
    {
     "data": {
      "text/plain": [
       "[[], [], []]"
      ]
     },
     "execution_count": 75,
     "metadata": {},
     "output_type": "execute_result"
    }
   ],
   "source": [
    "graph = [ [] for _ in range(3)]  #직접 치지 않고 행렬 구조 만드는 방법\n",
    "graph"
   ]
  },
  {
   "cell_type": "code",
   "execution_count": 76,
   "id": "3196a4b5",
   "metadata": {},
   "outputs": [
    {
     "data": {
      "text/plain": [
       "[[(1, 7), (2, 5)], [], []]"
      ]
     },
     "execution_count": 76,
     "metadata": {},
     "output_type": "execute_result"
    }
   ],
   "source": [
    "graph[0].append((1,7))  #튜플 안에 들어가 있는 수 : (연결 노드, 가중치)\n",
    "graph[0].append((2,5))\n",
    "graph"
   ]
  },
  {
   "cell_type": "code",
   "execution_count": 77,
   "id": "3cb89f35",
   "metadata": {},
   "outputs": [
    {
     "data": {
      "text/plain": [
       "[[(1, 7), (2, 5)], [(0, 7)], []]"
      ]
     },
     "execution_count": 77,
     "metadata": {},
     "output_type": "execute_result"
    }
   ],
   "source": [
    "graph[1].append((0,7))\n",
    "graph"
   ]
  },
  {
   "cell_type": "code",
   "execution_count": 78,
   "id": "0fd7381a",
   "metadata": {},
   "outputs": [
    {
     "data": {
      "text/plain": [
       "[[(1, 7), (2, 5)], [(0, 7)], [(0, 5)]]"
      ]
     },
     "execution_count": 78,
     "metadata": {},
     "output_type": "execute_result"
    }
   ],
   "source": [
    "graph[2].append((0,5))\n",
    "graph"
   ]
  },
  {
   "cell_type": "code",
   "execution_count": 81,
   "id": "b9d9109b",
   "metadata": {},
   "outputs": [
    {
     "name": "stdout",
     "output_type": "stream",
     "text": [
      "[(1, 7), (2, 5)]\n",
      "[(0, 7)]\n",
      "[(0, 5)]\n"
     ]
    }
   ],
   "source": [
    "for i in range(len(graph)):\n",
    "    print(graph[i])"
   ]
  },
  {
   "cell_type": "markdown",
   "id": "c4c899fc",
   "metadata": {},
   "source": [
    "### DFS"
   ]
  },
  {
   "cell_type": "code",
   "execution_count": 82,
   "id": "0d707571",
   "metadata": {},
   "outputs": [
    {
     "data": {
      "text/plain": [
       "{'1': ['2', '3', '8'],\n",
       " '2': ['1', '7'],\n",
       " '3': ['4', '5'],\n",
       " '4': ['3', '5'],\n",
       " '5': ['3', '4'],\n",
       " '6': ['7'],\n",
       " '7': ['2', '6', '8'],\n",
       " '8': ['1', '7']}"
      ]
     },
     "execution_count": 82,
     "metadata": {},
     "output_type": "execute_result"
    }
   ],
   "source": [
    "graph = {\n",
    "    \"1\" : [\"2\",\"3\",\"8\"],\n",
    "    \"2\" : [\"1\",\"7\"],\n",
    "    \"3\" : [\"4\",\"5\"],\n",
    "    \"4\" : [\"3\",\"5\"],\n",
    "    \"5\" : [\"3\",\"4\"],\n",
    "    \"6\" : [\"7\"],\n",
    "    \"7\" : [\"2\",\"6\",\"8\"],\n",
    "    \"8\" : [\"1\",\"7\"]\n",
    "}\n",
    "graph"
   ]
  },
  {
   "cell_type": "code",
   "execution_count": 85,
   "id": "1f53c943",
   "metadata": {},
   "outputs": [],
   "source": [
    "def dfs_list(graph, start_node):\n",
    "    #사전에 필요한 변수들 : 방문한 곳, 방문할 곳\n",
    "    need_visit = list()\n",
    "    visited = list()\n",
    "    #시작점에 대해서 방문 리스트에 추가하기\n",
    "    need_visit.append(start_node)\n",
    "    \n",
    "    #출발 \n",
    "    while need_visit: #방문할 곳이 없을 때 까지\n",
    "        #지금 어느 노드에서 판단할지\n",
    "        node = need_visit.pop() #방문리스트 : stack -> 이어달리기 -> DFS\n",
    "        #사전에 온 적이 없는 new 장소에서 \n",
    "        if node not in visited:  #왔던 곳 안 왔던 곳 걸러짐\n",
    "            visited.append(node)\n",
    "            need_visit.extend(graph[node])\n",
    "    return visited\n"
   ]
  },
  {
   "cell_type": "code",
   "execution_count": 86,
   "id": "addad211",
   "metadata": {},
   "outputs": [
    {
     "data": {
      "text/plain": [
       "['1', '8', '7', '6', '2', '3', '5', '4']"
      ]
     },
     "execution_count": 86,
     "metadata": {},
     "output_type": "execute_result"
    }
   ],
   "source": [
    "dfs_list(graph, \"1\")"
   ]
  },
  {
   "cell_type": "code",
   "execution_count": null,
   "id": "525b83a0",
   "metadata": {},
   "outputs": [],
   "source": []
  }
 ],
 "metadata": {
  "kernelspec": {
   "display_name": "Python 3 (ipykernel)",
   "language": "python",
   "name": "python3"
  },
  "language_info": {
   "codemirror_mode": {
    "name": "ipython",
    "version": 3
   },
   "file_extension": ".py",
   "mimetype": "text/x-python",
   "name": "python",
   "nbconvert_exporter": "python",
   "pygments_lexer": "ipython3",
   "version": "3.9.7"
  }
 },
 "nbformat": 4,
 "nbformat_minor": 5
}
