{
 "cells": [
  {
   "cell_type": "markdown",
   "id": "ac346448",
   "metadata": {},
   "source": [
    "# 케라스 딥러닝"
   ]
  },
  {
   "cell_type": "code",
   "execution_count": 1,
   "id": "723b8f81",
   "metadata": {
    "collapsed": true
   },
   "outputs": [
    {
     "name": "stderr",
     "output_type": "stream",
     "text": [
      "'C:/Users/ilhan/Documents/R/win-library/4.1'의 위치에 패키지(들)을 설치합니다.\n",
      "(왜냐하면 'lib'가 지정되지 않았기 때문입니다)\n",
      "\n",
      "'backports', 'RcppTOML', 'here', 'png', 'config', 'tfautograph', 'reticulate', 'tensorflow', 'tfruns', 'zeallot'(들)을 또한 설치합니다.\n",
      "\n",
      "\n"
     ]
    },
    {
     "name": "stdout",
     "output_type": "stream",
     "text": [
      "package 'backports' successfully unpacked and MD5 sums checked\n",
      "package 'RcppTOML' successfully unpacked and MD5 sums checked\n",
      "package 'here' successfully unpacked and MD5 sums checked\n",
      "package 'png' successfully unpacked and MD5 sums checked\n",
      "package 'config' successfully unpacked and MD5 sums checked\n",
      "package 'tfautograph' successfully unpacked and MD5 sums checked\n",
      "package 'reticulate' successfully unpacked and MD5 sums checked\n",
      "package 'tensorflow' successfully unpacked and MD5 sums checked\n",
      "package 'tfruns' successfully unpacked and MD5 sums checked\n",
      "package 'zeallot' successfully unpacked and MD5 sums checked\n",
      "package 'keras' successfully unpacked and MD5 sums checked\n",
      "\n",
      "The downloaded binary packages are in\n",
      "\tC:\\Users\\ilhan\\AppData\\Local\\Temp\\RtmpU3QN7u\\downloaded_packages\n"
     ]
    }
   ],
   "source": [
    "install.packages(\"keras\")"
   ]
  },
  {
   "cell_type": "raw",
   "id": "73a5b2b4",
   "metadata": {},
   "source": [
    "devtools::install_github(\"rstudio/tensorflow\")\n",
    "devtools::install_github(\"rstudio/keras\")\n",
    "tensorflow::install_tensorflow()\n",
    "# tensorflow::install_tensorflow(version = \"gpu\") # gpu 사용시\n",
    "tensorflow::tf_config()"
   ]
  },
  {
   "cell_type": "raw",
   "id": "e38d8912",
   "metadata": {},
   "source": [
    "Sys.setenv(\"CUDA_VISIBLE_DEVICES\" = -1)  # 쿠다비활성화시"
   ]
  },
  {
   "cell_type": "code",
   "execution_count": 2,
   "id": "8628a4e1",
   "metadata": {},
   "outputs": [],
   "source": [
    " # Then load keras\n",
    "library(keras)   \n",
    "library(magrittr)\n",
    "use_backend(\"tensorflow\") "
   ]
  },
  {
   "cell_type": "code",
   "execution_count": 3,
   "id": "eda45fe5",
   "metadata": {},
   "outputs": [],
   "source": [
    "mcars <- as.matrix(cars)"
   ]
  },
  {
   "cell_type": "code",
   "execution_count": 4,
   "id": "566bbec3",
   "metadata": {},
   "outputs": [],
   "source": [
    "x_train = array( mcars[,1], dim=c( 50,1) )"
   ]
  },
  {
   "cell_type": "code",
   "execution_count": 5,
   "id": "b34f3df5",
   "metadata": {},
   "outputs": [],
   "source": [
    "y_train = mcars[,2]"
   ]
  },
  {
   "cell_type": "code",
   "execution_count": 6,
   "id": "17adf304",
   "metadata": {},
   "outputs": [
    {
     "data": {
      "text/html": [
       "<ol class=list-inline>\n",
       "\t<li>50</li>\n",
       "\t<li>1</li>\n",
       "</ol>\n"
      ],
      "text/latex": [
       "\\begin{enumerate*}\n",
       "\\item 50\n",
       "\\item 1\n",
       "\\end{enumerate*}\n"
      ],
      "text/markdown": [
       "1. 50\n",
       "2. 1\n",
       "\n",
       "\n"
      ],
      "text/plain": [
       "[1] 50  1"
      ]
     },
     "metadata": {},
     "output_type": "display_data"
    }
   ],
   "source": [
    "dim(x_train)"
   ]
  },
  {
   "cell_type": "code",
   "execution_count": null,
   "id": "9e2cf191",
   "metadata": {},
   "outputs": [],
   "source": [
    "##########모델 만들기\n",
    "model = keras_model_sequential()\n",
    "model = layer_dense(model, units = 1, input_shape = 1 )\n",
    "compile(model, optimizer = \"adam\", loss = \"mse\")\n",
    "summary(model)\n",
    "#############모델 적합\n",
    "history <- fit(model, x_train, y_train,  epochs = 1000 )"
   ]
  },
  {
   "cell_type": "code",
   "execution_count": 37,
   "id": "a906c54a",
   "metadata": {},
   "outputs": [
    {
     "data": {
      "text/html": [
       "<ol>\n",
       "\t<li><table class=\"dataframe\">\n",
       "<caption>A matrix: 1 × 1 of type dbl</caption>\n",
       "<tbody>\n",
       "\t<tr><td>0.8347353</td></tr>\n",
       "</tbody>\n",
       "</table>\n",
       "</li>\n",
       "\t<li>1.73602855205536</li>\n",
       "</ol>\n"
      ],
      "text/latex": [
       "\\begin{enumerate}\n",
       "\\item A matrix: 1 × 1 of type dbl\n",
       "\\begin{tabular}{l}\n",
       "\t 0.8347353\\\\\n",
       "\\end{tabular}\n",
       "\n",
       "\\item 1.73602855205536\n",
       "\\end{enumerate}\n"
      ],
      "text/markdown": [
       "1. \n",
       "A matrix: 1 × 1 of type dbl\n",
       "\n",
       "| 0.8347353 |\n",
       "\n",
       "\n",
       "2. 1.73602855205536\n",
       "\n",
       "\n"
      ],
      "text/plain": [
       "[[1]]\n",
       "          [,1]\n",
       "[1,] 0.8347353\n",
       "\n",
       "[[2]]\n",
       "[1] 1.736029\n"
      ]
     },
     "metadata": {},
     "output_type": "display_data"
    }
   ],
   "source": [
    "get_weights(model)"
   ]
  },
  {
   "cell_type": "code",
   "execution_count": 41,
   "id": "ca112ce4",
   "metadata": {},
   "outputs": [
    {
     "data": {
      "text/html": [
       "<table class=\"dataframe\">\n",
       "<caption>A matrix: 1 × 1 of type dbl</caption>\n",
       "<tbody>\n",
       "\t<tr><td>15.92653</td></tr>\n",
       "</tbody>\n",
       "</table>\n"
      ],
      "text/latex": [
       "A matrix: 1 × 1 of type dbl\n",
       "\\begin{tabular}{l}\n",
       "\t 15.92653\\\\\n",
       "\\end{tabular}\n"
      ],
      "text/markdown": [
       "\n",
       "A matrix: 1 × 1 of type dbl\n",
       "\n",
       "| 15.92653 |\n",
       "\n"
      ],
      "text/plain": [
       "     [,1]    \n",
       "[1,] 15.92653"
      ]
     },
     "metadata": {},
     "output_type": "display_data"
    }
   ],
   "source": [
    "predict( model, as.matrix(17, dim=c(1,1)) )"
   ]
  },
  {
   "cell_type": "code",
   "execution_count": 43,
   "id": "ef6f8ef2",
   "metadata": {
    "scrolled": true
   },
   "outputs": [
    {
     "data": {
      "text/html": [
       "<table class=\"dataframe\">\n",
       "<caption>A matrix: 2 × 1 of type dbl</caption>\n",
       "<tbody>\n",
       "\t<tr><td>15.92653</td></tr>\n",
       "\t<tr><td>16.76126</td></tr>\n",
       "</tbody>\n",
       "</table>\n"
      ],
      "text/latex": [
       "A matrix: 2 × 1 of type dbl\n",
       "\\begin{tabular}{l}\n",
       "\t 15.92653\\\\\n",
       "\t 16.76126\\\\\n",
       "\\end{tabular}\n"
      ],
      "text/markdown": [
       "\n",
       "A matrix: 2 × 1 of type dbl\n",
       "\n",
       "| 15.92653 |\n",
       "| 16.76126 |\n",
       "\n"
      ],
      "text/plain": [
       "     [,1]    \n",
       "[1,] 15.92653\n",
       "[2,] 16.76126"
      ]
     },
     "metadata": {},
     "output_type": "display_data"
    }
   ],
   "source": [
    "predict( model, as.matrix( c(17,18), dim=c(2,1) )  )"
   ]
  },
  {
   "cell_type": "code",
   "execution_count": 45,
   "id": "62e0adfc",
   "metadata": {
    "collapsed": true
   },
   "outputs": [
    {
     "name": "stderr",
     "output_type": "stream",
     "text": [
      "'C:/Users/ilhan/Documents/R/win-library/4.1'의 위치에 패키지(들)을 설치합니다.\n",
      "(왜냐하면 'lib'가 지정되지 않았기 때문입니다)\n",
      "\n"
     ]
    },
    {
     "name": "stdout",
     "output_type": "stream",
     "text": [
      "package 'mlbench' successfully unpacked and MD5 sums checked\n",
      "\n",
      "The downloaded binary packages are in\n",
      "\tC:\\Users\\ilhan\\AppData\\Local\\Temp\\RtmpAf30fu\\downloaded_packages\n"
     ]
    }
   ],
   "source": [
    "install.packages(\"mlbench\")\n",
    "library(mlbench)\n",
    "data(PimaIndiansDiabetes)"
   ]
  },
  {
   "cell_type": "code",
   "execution_count": 46,
   "id": "ee64b1a9",
   "metadata": {
    "collapsed": true
   },
   "outputs": [
    {
     "data": {
      "text/html": [
       "<table class=\"dataframe\">\n",
       "<caption>A data.frame: 768 × 9</caption>\n",
       "<thead>\n",
       "\t<tr><th></th><th scope=col>pregnant</th><th scope=col>glucose</th><th scope=col>pressure</th><th scope=col>triceps</th><th scope=col>insulin</th><th scope=col>mass</th><th scope=col>pedigree</th><th scope=col>age</th><th scope=col>diabetes</th></tr>\n",
       "\t<tr><th></th><th scope=col>&lt;dbl&gt;</th><th scope=col>&lt;dbl&gt;</th><th scope=col>&lt;dbl&gt;</th><th scope=col>&lt;dbl&gt;</th><th scope=col>&lt;dbl&gt;</th><th scope=col>&lt;dbl&gt;</th><th scope=col>&lt;dbl&gt;</th><th scope=col>&lt;dbl&gt;</th><th scope=col>&lt;fct&gt;</th></tr>\n",
       "</thead>\n",
       "<tbody>\n",
       "\t<tr><th scope=row>1</th><td> 6</td><td>148</td><td>72</td><td>35</td><td>  0</td><td>33.6</td><td>0.627</td><td>50</td><td>pos</td></tr>\n",
       "\t<tr><th scope=row>2</th><td> 1</td><td> 85</td><td>66</td><td>29</td><td>  0</td><td>26.6</td><td>0.351</td><td>31</td><td>neg</td></tr>\n",
       "\t<tr><th scope=row>3</th><td> 8</td><td>183</td><td>64</td><td> 0</td><td>  0</td><td>23.3</td><td>0.672</td><td>32</td><td>pos</td></tr>\n",
       "\t<tr><th scope=row>4</th><td> 1</td><td> 89</td><td>66</td><td>23</td><td> 94</td><td>28.1</td><td>0.167</td><td>21</td><td>neg</td></tr>\n",
       "\t<tr><th scope=row>5</th><td> 0</td><td>137</td><td>40</td><td>35</td><td>168</td><td>43.1</td><td>2.288</td><td>33</td><td>pos</td></tr>\n",
       "\t<tr><th scope=row>6</th><td> 5</td><td>116</td><td>74</td><td> 0</td><td>  0</td><td>25.6</td><td>0.201</td><td>30</td><td>neg</td></tr>\n",
       "\t<tr><th scope=row>7</th><td> 3</td><td> 78</td><td>50</td><td>32</td><td> 88</td><td>31.0</td><td>0.248</td><td>26</td><td>pos</td></tr>\n",
       "\t<tr><th scope=row>8</th><td>10</td><td>115</td><td> 0</td><td> 0</td><td>  0</td><td>35.3</td><td>0.134</td><td>29</td><td>neg</td></tr>\n",
       "\t<tr><th scope=row>9</th><td> 2</td><td>197</td><td>70</td><td>45</td><td>543</td><td>30.5</td><td>0.158</td><td>53</td><td>pos</td></tr>\n",
       "\t<tr><th scope=row>10</th><td> 8</td><td>125</td><td>96</td><td> 0</td><td>  0</td><td> 0.0</td><td>0.232</td><td>54</td><td>pos</td></tr>\n",
       "\t<tr><th scope=row>11</th><td> 4</td><td>110</td><td>92</td><td> 0</td><td>  0</td><td>37.6</td><td>0.191</td><td>30</td><td>neg</td></tr>\n",
       "\t<tr><th scope=row>12</th><td>10</td><td>168</td><td>74</td><td> 0</td><td>  0</td><td>38.0</td><td>0.537</td><td>34</td><td>pos</td></tr>\n",
       "\t<tr><th scope=row>13</th><td>10</td><td>139</td><td>80</td><td> 0</td><td>  0</td><td>27.1</td><td>1.441</td><td>57</td><td>neg</td></tr>\n",
       "\t<tr><th scope=row>14</th><td> 1</td><td>189</td><td>60</td><td>23</td><td>846</td><td>30.1</td><td>0.398</td><td>59</td><td>pos</td></tr>\n",
       "\t<tr><th scope=row>15</th><td> 5</td><td>166</td><td>72</td><td>19</td><td>175</td><td>25.8</td><td>0.587</td><td>51</td><td>pos</td></tr>\n",
       "\t<tr><th scope=row>16</th><td> 7</td><td>100</td><td> 0</td><td> 0</td><td>  0</td><td>30.0</td><td>0.484</td><td>32</td><td>pos</td></tr>\n",
       "\t<tr><th scope=row>17</th><td> 0</td><td>118</td><td>84</td><td>47</td><td>230</td><td>45.8</td><td>0.551</td><td>31</td><td>pos</td></tr>\n",
       "\t<tr><th scope=row>18</th><td> 7</td><td>107</td><td>74</td><td> 0</td><td>  0</td><td>29.6</td><td>0.254</td><td>31</td><td>pos</td></tr>\n",
       "\t<tr><th scope=row>19</th><td> 1</td><td>103</td><td>30</td><td>38</td><td> 83</td><td>43.3</td><td>0.183</td><td>33</td><td>neg</td></tr>\n",
       "\t<tr><th scope=row>20</th><td> 1</td><td>115</td><td>70</td><td>30</td><td> 96</td><td>34.6</td><td>0.529</td><td>32</td><td>pos</td></tr>\n",
       "\t<tr><th scope=row>21</th><td> 3</td><td>126</td><td>88</td><td>41</td><td>235</td><td>39.3</td><td>0.704</td><td>27</td><td>neg</td></tr>\n",
       "\t<tr><th scope=row>22</th><td> 8</td><td> 99</td><td>84</td><td> 0</td><td>  0</td><td>35.4</td><td>0.388</td><td>50</td><td>neg</td></tr>\n",
       "\t<tr><th scope=row>23</th><td> 7</td><td>196</td><td>90</td><td> 0</td><td>  0</td><td>39.8</td><td>0.451</td><td>41</td><td>pos</td></tr>\n",
       "\t<tr><th scope=row>24</th><td> 9</td><td>119</td><td>80</td><td>35</td><td>  0</td><td>29.0</td><td>0.263</td><td>29</td><td>pos</td></tr>\n",
       "\t<tr><th scope=row>25</th><td>11</td><td>143</td><td>94</td><td>33</td><td>146</td><td>36.6</td><td>0.254</td><td>51</td><td>pos</td></tr>\n",
       "\t<tr><th scope=row>26</th><td>10</td><td>125</td><td>70</td><td>26</td><td>115</td><td>31.1</td><td>0.205</td><td>41</td><td>pos</td></tr>\n",
       "\t<tr><th scope=row>27</th><td> 7</td><td>147</td><td>76</td><td> 0</td><td>  0</td><td>39.4</td><td>0.257</td><td>43</td><td>pos</td></tr>\n",
       "\t<tr><th scope=row>28</th><td> 1</td><td> 97</td><td>66</td><td>15</td><td>140</td><td>23.2</td><td>0.487</td><td>22</td><td>neg</td></tr>\n",
       "\t<tr><th scope=row>29</th><td>13</td><td>145</td><td>82</td><td>19</td><td>110</td><td>22.2</td><td>0.245</td><td>57</td><td>neg</td></tr>\n",
       "\t<tr><th scope=row>30</th><td> 5</td><td>117</td><td>92</td><td> 0</td><td>  0</td><td>34.1</td><td>0.337</td><td>38</td><td>neg</td></tr>\n",
       "\t<tr><th scope=row>⋮</th><td>⋮</td><td>⋮</td><td>⋮</td><td>⋮</td><td>⋮</td><td>⋮</td><td>⋮</td><td>⋮</td><td>⋮</td></tr>\n",
       "\t<tr><th scope=row>739</th><td> 2</td><td> 99</td><td>60</td><td>17</td><td>160</td><td>36.6</td><td>0.453</td><td>21</td><td>neg</td></tr>\n",
       "\t<tr><th scope=row>740</th><td> 1</td><td>102</td><td>74</td><td> 0</td><td>  0</td><td>39.5</td><td>0.293</td><td>42</td><td>pos</td></tr>\n",
       "\t<tr><th scope=row>741</th><td>11</td><td>120</td><td>80</td><td>37</td><td>150</td><td>42.3</td><td>0.785</td><td>48</td><td>pos</td></tr>\n",
       "\t<tr><th scope=row>742</th><td> 3</td><td>102</td><td>44</td><td>20</td><td> 94</td><td>30.8</td><td>0.400</td><td>26</td><td>neg</td></tr>\n",
       "\t<tr><th scope=row>743</th><td> 1</td><td>109</td><td>58</td><td>18</td><td>116</td><td>28.5</td><td>0.219</td><td>22</td><td>neg</td></tr>\n",
       "\t<tr><th scope=row>744</th><td> 9</td><td>140</td><td>94</td><td> 0</td><td>  0</td><td>32.7</td><td>0.734</td><td>45</td><td>pos</td></tr>\n",
       "\t<tr><th scope=row>745</th><td>13</td><td>153</td><td>88</td><td>37</td><td>140</td><td>40.6</td><td>1.174</td><td>39</td><td>neg</td></tr>\n",
       "\t<tr><th scope=row>746</th><td>12</td><td>100</td><td>84</td><td>33</td><td>105</td><td>30.0</td><td>0.488</td><td>46</td><td>neg</td></tr>\n",
       "\t<tr><th scope=row>747</th><td> 1</td><td>147</td><td>94</td><td>41</td><td>  0</td><td>49.3</td><td>0.358</td><td>27</td><td>pos</td></tr>\n",
       "\t<tr><th scope=row>748</th><td> 1</td><td> 81</td><td>74</td><td>41</td><td> 57</td><td>46.3</td><td>1.096</td><td>32</td><td>neg</td></tr>\n",
       "\t<tr><th scope=row>749</th><td> 3</td><td>187</td><td>70</td><td>22</td><td>200</td><td>36.4</td><td>0.408</td><td>36</td><td>pos</td></tr>\n",
       "\t<tr><th scope=row>750</th><td> 6</td><td>162</td><td>62</td><td> 0</td><td>  0</td><td>24.3</td><td>0.178</td><td>50</td><td>pos</td></tr>\n",
       "\t<tr><th scope=row>751</th><td> 4</td><td>136</td><td>70</td><td> 0</td><td>  0</td><td>31.2</td><td>1.182</td><td>22</td><td>pos</td></tr>\n",
       "\t<tr><th scope=row>752</th><td> 1</td><td>121</td><td>78</td><td>39</td><td> 74</td><td>39.0</td><td>0.261</td><td>28</td><td>neg</td></tr>\n",
       "\t<tr><th scope=row>753</th><td> 3</td><td>108</td><td>62</td><td>24</td><td>  0</td><td>26.0</td><td>0.223</td><td>25</td><td>neg</td></tr>\n",
       "\t<tr><th scope=row>754</th><td> 0</td><td>181</td><td>88</td><td>44</td><td>510</td><td>43.3</td><td>0.222</td><td>26</td><td>pos</td></tr>\n",
       "\t<tr><th scope=row>755</th><td> 8</td><td>154</td><td>78</td><td>32</td><td>  0</td><td>32.4</td><td>0.443</td><td>45</td><td>pos</td></tr>\n",
       "\t<tr><th scope=row>756</th><td> 1</td><td>128</td><td>88</td><td>39</td><td>110</td><td>36.5</td><td>1.057</td><td>37</td><td>pos</td></tr>\n",
       "\t<tr><th scope=row>757</th><td> 7</td><td>137</td><td>90</td><td>41</td><td>  0</td><td>32.0</td><td>0.391</td><td>39</td><td>neg</td></tr>\n",
       "\t<tr><th scope=row>758</th><td> 0</td><td>123</td><td>72</td><td> 0</td><td>  0</td><td>36.3</td><td>0.258</td><td>52</td><td>pos</td></tr>\n",
       "\t<tr><th scope=row>759</th><td> 1</td><td>106</td><td>76</td><td> 0</td><td>  0</td><td>37.5</td><td>0.197</td><td>26</td><td>neg</td></tr>\n",
       "\t<tr><th scope=row>760</th><td> 6</td><td>190</td><td>92</td><td> 0</td><td>  0</td><td>35.5</td><td>0.278</td><td>66</td><td>pos</td></tr>\n",
       "\t<tr><th scope=row>761</th><td> 2</td><td> 88</td><td>58</td><td>26</td><td> 16</td><td>28.4</td><td>0.766</td><td>22</td><td>neg</td></tr>\n",
       "\t<tr><th scope=row>762</th><td> 9</td><td>170</td><td>74</td><td>31</td><td>  0</td><td>44.0</td><td>0.403</td><td>43</td><td>pos</td></tr>\n",
       "\t<tr><th scope=row>763</th><td> 9</td><td> 89</td><td>62</td><td> 0</td><td>  0</td><td>22.5</td><td>0.142</td><td>33</td><td>neg</td></tr>\n",
       "\t<tr><th scope=row>764</th><td>10</td><td>101</td><td>76</td><td>48</td><td>180</td><td>32.9</td><td>0.171</td><td>63</td><td>neg</td></tr>\n",
       "\t<tr><th scope=row>765</th><td> 2</td><td>122</td><td>70</td><td>27</td><td>  0</td><td>36.8</td><td>0.340</td><td>27</td><td>neg</td></tr>\n",
       "\t<tr><th scope=row>766</th><td> 5</td><td>121</td><td>72</td><td>23</td><td>112</td><td>26.2</td><td>0.245</td><td>30</td><td>neg</td></tr>\n",
       "\t<tr><th scope=row>767</th><td> 1</td><td>126</td><td>60</td><td> 0</td><td>  0</td><td>30.1</td><td>0.349</td><td>47</td><td>pos</td></tr>\n",
       "\t<tr><th scope=row>768</th><td> 1</td><td> 93</td><td>70</td><td>31</td><td>  0</td><td>30.4</td><td>0.315</td><td>23</td><td>neg</td></tr>\n",
       "</tbody>\n",
       "</table>\n"
      ],
      "text/latex": [
       "A data.frame: 768 × 9\n",
       "\\begin{tabular}{r|lllllllll}\n",
       "  & pregnant & glucose & pressure & triceps & insulin & mass & pedigree & age & diabetes\\\\\n",
       "  & <dbl> & <dbl> & <dbl> & <dbl> & <dbl> & <dbl> & <dbl> & <dbl> & <fct>\\\\\n",
       "\\hline\n",
       "\t1 &  6 & 148 & 72 & 35 &   0 & 33.6 & 0.627 & 50 & pos\\\\\n",
       "\t2 &  1 &  85 & 66 & 29 &   0 & 26.6 & 0.351 & 31 & neg\\\\\n",
       "\t3 &  8 & 183 & 64 &  0 &   0 & 23.3 & 0.672 & 32 & pos\\\\\n",
       "\t4 &  1 &  89 & 66 & 23 &  94 & 28.1 & 0.167 & 21 & neg\\\\\n",
       "\t5 &  0 & 137 & 40 & 35 & 168 & 43.1 & 2.288 & 33 & pos\\\\\n",
       "\t6 &  5 & 116 & 74 &  0 &   0 & 25.6 & 0.201 & 30 & neg\\\\\n",
       "\t7 &  3 &  78 & 50 & 32 &  88 & 31.0 & 0.248 & 26 & pos\\\\\n",
       "\t8 & 10 & 115 &  0 &  0 &   0 & 35.3 & 0.134 & 29 & neg\\\\\n",
       "\t9 &  2 & 197 & 70 & 45 & 543 & 30.5 & 0.158 & 53 & pos\\\\\n",
       "\t10 &  8 & 125 & 96 &  0 &   0 &  0.0 & 0.232 & 54 & pos\\\\\n",
       "\t11 &  4 & 110 & 92 &  0 &   0 & 37.6 & 0.191 & 30 & neg\\\\\n",
       "\t12 & 10 & 168 & 74 &  0 &   0 & 38.0 & 0.537 & 34 & pos\\\\\n",
       "\t13 & 10 & 139 & 80 &  0 &   0 & 27.1 & 1.441 & 57 & neg\\\\\n",
       "\t14 &  1 & 189 & 60 & 23 & 846 & 30.1 & 0.398 & 59 & pos\\\\\n",
       "\t15 &  5 & 166 & 72 & 19 & 175 & 25.8 & 0.587 & 51 & pos\\\\\n",
       "\t16 &  7 & 100 &  0 &  0 &   0 & 30.0 & 0.484 & 32 & pos\\\\\n",
       "\t17 &  0 & 118 & 84 & 47 & 230 & 45.8 & 0.551 & 31 & pos\\\\\n",
       "\t18 &  7 & 107 & 74 &  0 &   0 & 29.6 & 0.254 & 31 & pos\\\\\n",
       "\t19 &  1 & 103 & 30 & 38 &  83 & 43.3 & 0.183 & 33 & neg\\\\\n",
       "\t20 &  1 & 115 & 70 & 30 &  96 & 34.6 & 0.529 & 32 & pos\\\\\n",
       "\t21 &  3 & 126 & 88 & 41 & 235 & 39.3 & 0.704 & 27 & neg\\\\\n",
       "\t22 &  8 &  99 & 84 &  0 &   0 & 35.4 & 0.388 & 50 & neg\\\\\n",
       "\t23 &  7 & 196 & 90 &  0 &   0 & 39.8 & 0.451 & 41 & pos\\\\\n",
       "\t24 &  9 & 119 & 80 & 35 &   0 & 29.0 & 0.263 & 29 & pos\\\\\n",
       "\t25 & 11 & 143 & 94 & 33 & 146 & 36.6 & 0.254 & 51 & pos\\\\\n",
       "\t26 & 10 & 125 & 70 & 26 & 115 & 31.1 & 0.205 & 41 & pos\\\\\n",
       "\t27 &  7 & 147 & 76 &  0 &   0 & 39.4 & 0.257 & 43 & pos\\\\\n",
       "\t28 &  1 &  97 & 66 & 15 & 140 & 23.2 & 0.487 & 22 & neg\\\\\n",
       "\t29 & 13 & 145 & 82 & 19 & 110 & 22.2 & 0.245 & 57 & neg\\\\\n",
       "\t30 &  5 & 117 & 92 &  0 &   0 & 34.1 & 0.337 & 38 & neg\\\\\n",
       "\t⋮ & ⋮ & ⋮ & ⋮ & ⋮ & ⋮ & ⋮ & ⋮ & ⋮ & ⋮\\\\\n",
       "\t739 &  2 &  99 & 60 & 17 & 160 & 36.6 & 0.453 & 21 & neg\\\\\n",
       "\t740 &  1 & 102 & 74 &  0 &   0 & 39.5 & 0.293 & 42 & pos\\\\\n",
       "\t741 & 11 & 120 & 80 & 37 & 150 & 42.3 & 0.785 & 48 & pos\\\\\n",
       "\t742 &  3 & 102 & 44 & 20 &  94 & 30.8 & 0.400 & 26 & neg\\\\\n",
       "\t743 &  1 & 109 & 58 & 18 & 116 & 28.5 & 0.219 & 22 & neg\\\\\n",
       "\t744 &  9 & 140 & 94 &  0 &   0 & 32.7 & 0.734 & 45 & pos\\\\\n",
       "\t745 & 13 & 153 & 88 & 37 & 140 & 40.6 & 1.174 & 39 & neg\\\\\n",
       "\t746 & 12 & 100 & 84 & 33 & 105 & 30.0 & 0.488 & 46 & neg\\\\\n",
       "\t747 &  1 & 147 & 94 & 41 &   0 & 49.3 & 0.358 & 27 & pos\\\\\n",
       "\t748 &  1 &  81 & 74 & 41 &  57 & 46.3 & 1.096 & 32 & neg\\\\\n",
       "\t749 &  3 & 187 & 70 & 22 & 200 & 36.4 & 0.408 & 36 & pos\\\\\n",
       "\t750 &  6 & 162 & 62 &  0 &   0 & 24.3 & 0.178 & 50 & pos\\\\\n",
       "\t751 &  4 & 136 & 70 &  0 &   0 & 31.2 & 1.182 & 22 & pos\\\\\n",
       "\t752 &  1 & 121 & 78 & 39 &  74 & 39.0 & 0.261 & 28 & neg\\\\\n",
       "\t753 &  3 & 108 & 62 & 24 &   0 & 26.0 & 0.223 & 25 & neg\\\\\n",
       "\t754 &  0 & 181 & 88 & 44 & 510 & 43.3 & 0.222 & 26 & pos\\\\\n",
       "\t755 &  8 & 154 & 78 & 32 &   0 & 32.4 & 0.443 & 45 & pos\\\\\n",
       "\t756 &  1 & 128 & 88 & 39 & 110 & 36.5 & 1.057 & 37 & pos\\\\\n",
       "\t757 &  7 & 137 & 90 & 41 &   0 & 32.0 & 0.391 & 39 & neg\\\\\n",
       "\t758 &  0 & 123 & 72 &  0 &   0 & 36.3 & 0.258 & 52 & pos\\\\\n",
       "\t759 &  1 & 106 & 76 &  0 &   0 & 37.5 & 0.197 & 26 & neg\\\\\n",
       "\t760 &  6 & 190 & 92 &  0 &   0 & 35.5 & 0.278 & 66 & pos\\\\\n",
       "\t761 &  2 &  88 & 58 & 26 &  16 & 28.4 & 0.766 & 22 & neg\\\\\n",
       "\t762 &  9 & 170 & 74 & 31 &   0 & 44.0 & 0.403 & 43 & pos\\\\\n",
       "\t763 &  9 &  89 & 62 &  0 &   0 & 22.5 & 0.142 & 33 & neg\\\\\n",
       "\t764 & 10 & 101 & 76 & 48 & 180 & 32.9 & 0.171 & 63 & neg\\\\\n",
       "\t765 &  2 & 122 & 70 & 27 &   0 & 36.8 & 0.340 & 27 & neg\\\\\n",
       "\t766 &  5 & 121 & 72 & 23 & 112 & 26.2 & 0.245 & 30 & neg\\\\\n",
       "\t767 &  1 & 126 & 60 &  0 &   0 & 30.1 & 0.349 & 47 & pos\\\\\n",
       "\t768 &  1 &  93 & 70 & 31 &   0 & 30.4 & 0.315 & 23 & neg\\\\\n",
       "\\end{tabular}\n"
      ],
      "text/markdown": [
       "\n",
       "A data.frame: 768 × 9\n",
       "\n",
       "| <!--/--> | pregnant &lt;dbl&gt; | glucose &lt;dbl&gt; | pressure &lt;dbl&gt; | triceps &lt;dbl&gt; | insulin &lt;dbl&gt; | mass &lt;dbl&gt; | pedigree &lt;dbl&gt; | age &lt;dbl&gt; | diabetes &lt;fct&gt; |\n",
       "|---|---|---|---|---|---|---|---|---|---|\n",
       "| 1 |  6 | 148 | 72 | 35 |   0 | 33.6 | 0.627 | 50 | pos |\n",
       "| 2 |  1 |  85 | 66 | 29 |   0 | 26.6 | 0.351 | 31 | neg |\n",
       "| 3 |  8 | 183 | 64 |  0 |   0 | 23.3 | 0.672 | 32 | pos |\n",
       "| 4 |  1 |  89 | 66 | 23 |  94 | 28.1 | 0.167 | 21 | neg |\n",
       "| 5 |  0 | 137 | 40 | 35 | 168 | 43.1 | 2.288 | 33 | pos |\n",
       "| 6 |  5 | 116 | 74 |  0 |   0 | 25.6 | 0.201 | 30 | neg |\n",
       "| 7 |  3 |  78 | 50 | 32 |  88 | 31.0 | 0.248 | 26 | pos |\n",
       "| 8 | 10 | 115 |  0 |  0 |   0 | 35.3 | 0.134 | 29 | neg |\n",
       "| 9 |  2 | 197 | 70 | 45 | 543 | 30.5 | 0.158 | 53 | pos |\n",
       "| 10 |  8 | 125 | 96 |  0 |   0 |  0.0 | 0.232 | 54 | pos |\n",
       "| 11 |  4 | 110 | 92 |  0 |   0 | 37.6 | 0.191 | 30 | neg |\n",
       "| 12 | 10 | 168 | 74 |  0 |   0 | 38.0 | 0.537 | 34 | pos |\n",
       "| 13 | 10 | 139 | 80 |  0 |   0 | 27.1 | 1.441 | 57 | neg |\n",
       "| 14 |  1 | 189 | 60 | 23 | 846 | 30.1 | 0.398 | 59 | pos |\n",
       "| 15 |  5 | 166 | 72 | 19 | 175 | 25.8 | 0.587 | 51 | pos |\n",
       "| 16 |  7 | 100 |  0 |  0 |   0 | 30.0 | 0.484 | 32 | pos |\n",
       "| 17 |  0 | 118 | 84 | 47 | 230 | 45.8 | 0.551 | 31 | pos |\n",
       "| 18 |  7 | 107 | 74 |  0 |   0 | 29.6 | 0.254 | 31 | pos |\n",
       "| 19 |  1 | 103 | 30 | 38 |  83 | 43.3 | 0.183 | 33 | neg |\n",
       "| 20 |  1 | 115 | 70 | 30 |  96 | 34.6 | 0.529 | 32 | pos |\n",
       "| 21 |  3 | 126 | 88 | 41 | 235 | 39.3 | 0.704 | 27 | neg |\n",
       "| 22 |  8 |  99 | 84 |  0 |   0 | 35.4 | 0.388 | 50 | neg |\n",
       "| 23 |  7 | 196 | 90 |  0 |   0 | 39.8 | 0.451 | 41 | pos |\n",
       "| 24 |  9 | 119 | 80 | 35 |   0 | 29.0 | 0.263 | 29 | pos |\n",
       "| 25 | 11 | 143 | 94 | 33 | 146 | 36.6 | 0.254 | 51 | pos |\n",
       "| 26 | 10 | 125 | 70 | 26 | 115 | 31.1 | 0.205 | 41 | pos |\n",
       "| 27 |  7 | 147 | 76 |  0 |   0 | 39.4 | 0.257 | 43 | pos |\n",
       "| 28 |  1 |  97 | 66 | 15 | 140 | 23.2 | 0.487 | 22 | neg |\n",
       "| 29 | 13 | 145 | 82 | 19 | 110 | 22.2 | 0.245 | 57 | neg |\n",
       "| 30 |  5 | 117 | 92 |  0 |   0 | 34.1 | 0.337 | 38 | neg |\n",
       "| ⋮ | ⋮ | ⋮ | ⋮ | ⋮ | ⋮ | ⋮ | ⋮ | ⋮ | ⋮ |\n",
       "| 739 |  2 |  99 | 60 | 17 | 160 | 36.6 | 0.453 | 21 | neg |\n",
       "| 740 |  1 | 102 | 74 |  0 |   0 | 39.5 | 0.293 | 42 | pos |\n",
       "| 741 | 11 | 120 | 80 | 37 | 150 | 42.3 | 0.785 | 48 | pos |\n",
       "| 742 |  3 | 102 | 44 | 20 |  94 | 30.8 | 0.400 | 26 | neg |\n",
       "| 743 |  1 | 109 | 58 | 18 | 116 | 28.5 | 0.219 | 22 | neg |\n",
       "| 744 |  9 | 140 | 94 |  0 |   0 | 32.7 | 0.734 | 45 | pos |\n",
       "| 745 | 13 | 153 | 88 | 37 | 140 | 40.6 | 1.174 | 39 | neg |\n",
       "| 746 | 12 | 100 | 84 | 33 | 105 | 30.0 | 0.488 | 46 | neg |\n",
       "| 747 |  1 | 147 | 94 | 41 |   0 | 49.3 | 0.358 | 27 | pos |\n",
       "| 748 |  1 |  81 | 74 | 41 |  57 | 46.3 | 1.096 | 32 | neg |\n",
       "| 749 |  3 | 187 | 70 | 22 | 200 | 36.4 | 0.408 | 36 | pos |\n",
       "| 750 |  6 | 162 | 62 |  0 |   0 | 24.3 | 0.178 | 50 | pos |\n",
       "| 751 |  4 | 136 | 70 |  0 |   0 | 31.2 | 1.182 | 22 | pos |\n",
       "| 752 |  1 | 121 | 78 | 39 |  74 | 39.0 | 0.261 | 28 | neg |\n",
       "| 753 |  3 | 108 | 62 | 24 |   0 | 26.0 | 0.223 | 25 | neg |\n",
       "| 754 |  0 | 181 | 88 | 44 | 510 | 43.3 | 0.222 | 26 | pos |\n",
       "| 755 |  8 | 154 | 78 | 32 |   0 | 32.4 | 0.443 | 45 | pos |\n",
       "| 756 |  1 | 128 | 88 | 39 | 110 | 36.5 | 1.057 | 37 | pos |\n",
       "| 757 |  7 | 137 | 90 | 41 |   0 | 32.0 | 0.391 | 39 | neg |\n",
       "| 758 |  0 | 123 | 72 |  0 |   0 | 36.3 | 0.258 | 52 | pos |\n",
       "| 759 |  1 | 106 | 76 |  0 |   0 | 37.5 | 0.197 | 26 | neg |\n",
       "| 760 |  6 | 190 | 92 |  0 |   0 | 35.5 | 0.278 | 66 | pos |\n",
       "| 761 |  2 |  88 | 58 | 26 |  16 | 28.4 | 0.766 | 22 | neg |\n",
       "| 762 |  9 | 170 | 74 | 31 |   0 | 44.0 | 0.403 | 43 | pos |\n",
       "| 763 |  9 |  89 | 62 |  0 |   0 | 22.5 | 0.142 | 33 | neg |\n",
       "| 764 | 10 | 101 | 76 | 48 | 180 | 32.9 | 0.171 | 63 | neg |\n",
       "| 765 |  2 | 122 | 70 | 27 |   0 | 36.8 | 0.340 | 27 | neg |\n",
       "| 766 |  5 | 121 | 72 | 23 | 112 | 26.2 | 0.245 | 30 | neg |\n",
       "| 767 |  1 | 126 | 60 |  0 |   0 | 30.1 | 0.349 | 47 | pos |\n",
       "| 768 |  1 |  93 | 70 | 31 |   0 | 30.4 | 0.315 | 23 | neg |\n",
       "\n"
      ],
      "text/plain": [
       "    pregnant glucose pressure triceps insulin mass pedigree age diabetes\n",
       "1    6       148     72       35        0     33.6 0.627    50  pos     \n",
       "2    1        85     66       29        0     26.6 0.351    31  neg     \n",
       "3    8       183     64        0        0     23.3 0.672    32  pos     \n",
       "4    1        89     66       23       94     28.1 0.167    21  neg     \n",
       "5    0       137     40       35      168     43.1 2.288    33  pos     \n",
       "6    5       116     74        0        0     25.6 0.201    30  neg     \n",
       "7    3        78     50       32       88     31.0 0.248    26  pos     \n",
       "8   10       115      0        0        0     35.3 0.134    29  neg     \n",
       "9    2       197     70       45      543     30.5 0.158    53  pos     \n",
       "10   8       125     96        0        0      0.0 0.232    54  pos     \n",
       "11   4       110     92        0        0     37.6 0.191    30  neg     \n",
       "12  10       168     74        0        0     38.0 0.537    34  pos     \n",
       "13  10       139     80        0        0     27.1 1.441    57  neg     \n",
       "14   1       189     60       23      846     30.1 0.398    59  pos     \n",
       "15   5       166     72       19      175     25.8 0.587    51  pos     \n",
       "16   7       100      0        0        0     30.0 0.484    32  pos     \n",
       "17   0       118     84       47      230     45.8 0.551    31  pos     \n",
       "18   7       107     74        0        0     29.6 0.254    31  pos     \n",
       "19   1       103     30       38       83     43.3 0.183    33  neg     \n",
       "20   1       115     70       30       96     34.6 0.529    32  pos     \n",
       "21   3       126     88       41      235     39.3 0.704    27  neg     \n",
       "22   8        99     84        0        0     35.4 0.388    50  neg     \n",
       "23   7       196     90        0        0     39.8 0.451    41  pos     \n",
       "24   9       119     80       35        0     29.0 0.263    29  pos     \n",
       "25  11       143     94       33      146     36.6 0.254    51  pos     \n",
       "26  10       125     70       26      115     31.1 0.205    41  pos     \n",
       "27   7       147     76        0        0     39.4 0.257    43  pos     \n",
       "28   1        97     66       15      140     23.2 0.487    22  neg     \n",
       "29  13       145     82       19      110     22.2 0.245    57  neg     \n",
       "30   5       117     92        0        0     34.1 0.337    38  neg     \n",
       "<U+22EE>   <U+22EE> <U+22EE> <U+22EE> <U+22EE> <U+22EE> <U+22EE> <U+22EE> <U+22EE> <U+22EE>\n",
       "739  2        99     60       17      160     36.6 0.453    21  neg     \n",
       "740  1       102     74        0        0     39.5 0.293    42  pos     \n",
       "741 11       120     80       37      150     42.3 0.785    48  pos     \n",
       "742  3       102     44       20       94     30.8 0.400    26  neg     \n",
       "743  1       109     58       18      116     28.5 0.219    22  neg     \n",
       "744  9       140     94        0        0     32.7 0.734    45  pos     \n",
       "745 13       153     88       37      140     40.6 1.174    39  neg     \n",
       "746 12       100     84       33      105     30.0 0.488    46  neg     \n",
       "747  1       147     94       41        0     49.3 0.358    27  pos     \n",
       "748  1        81     74       41       57     46.3 1.096    32  neg     \n",
       "749  3       187     70       22      200     36.4 0.408    36  pos     \n",
       "750  6       162     62        0        0     24.3 0.178    50  pos     \n",
       "751  4       136     70        0        0     31.2 1.182    22  pos     \n",
       "752  1       121     78       39       74     39.0 0.261    28  neg     \n",
       "753  3       108     62       24        0     26.0 0.223    25  neg     \n",
       "754  0       181     88       44      510     43.3 0.222    26  pos     \n",
       "755  8       154     78       32        0     32.4 0.443    45  pos     \n",
       "756  1       128     88       39      110     36.5 1.057    37  pos     \n",
       "757  7       137     90       41        0     32.0 0.391    39  neg     \n",
       "758  0       123     72        0        0     36.3 0.258    52  pos     \n",
       "759  1       106     76        0        0     37.5 0.197    26  neg     \n",
       "760  6       190     92        0        0     35.5 0.278    66  pos     \n",
       "761  2        88     58       26       16     28.4 0.766    22  neg     \n",
       "762  9       170     74       31        0     44.0 0.403    43  pos     \n",
       "763  9        89     62        0        0     22.5 0.142    33  neg     \n",
       "764 10       101     76       48      180     32.9 0.171    63  neg     \n",
       "765  2       122     70       27        0     36.8 0.340    27  neg     \n",
       "766  5       121     72       23      112     26.2 0.245    30  neg     \n",
       "767  1       126     60        0        0     30.1 0.349    47  pos     \n",
       "768  1        93     70       31        0     30.4 0.315    23  neg     "
      ]
     },
     "metadata": {},
     "output_type": "display_data"
    }
   ],
   "source": [
    "PimaIndiansDiabetes"
   ]
  },
  {
   "cell_type": "markdown",
   "id": "b91f630f",
   "metadata": {},
   "source": [
    "## 분류"
   ]
  },
  {
   "cell_type": "code",
   "execution_count": 2,
   "id": "db9c4759",
   "metadata": {
    "collapsed": true
   },
   "outputs": [
    {
     "data": {
      "text/html": [
       "<table class=\"dataframe\">\n",
       "<caption>A data.frame: 150 × 5</caption>\n",
       "<thead>\n",
       "\t<tr><th scope=col>Sepal.Length</th><th scope=col>Sepal.Width</th><th scope=col>Petal.Length</th><th scope=col>Petal.Width</th><th scope=col>Species</th></tr>\n",
       "\t<tr><th scope=col>&lt;dbl&gt;</th><th scope=col>&lt;dbl&gt;</th><th scope=col>&lt;dbl&gt;</th><th scope=col>&lt;dbl&gt;</th><th scope=col>&lt;fct&gt;</th></tr>\n",
       "</thead>\n",
       "<tbody>\n",
       "\t<tr><td>5.1</td><td>3.5</td><td>1.4</td><td>0.2</td><td>setosa</td></tr>\n",
       "\t<tr><td>4.9</td><td>3.0</td><td>1.4</td><td>0.2</td><td>setosa</td></tr>\n",
       "\t<tr><td>4.7</td><td>3.2</td><td>1.3</td><td>0.2</td><td>setosa</td></tr>\n",
       "\t<tr><td>4.6</td><td>3.1</td><td>1.5</td><td>0.2</td><td>setosa</td></tr>\n",
       "\t<tr><td>5.0</td><td>3.6</td><td>1.4</td><td>0.2</td><td>setosa</td></tr>\n",
       "\t<tr><td>5.4</td><td>3.9</td><td>1.7</td><td>0.4</td><td>setosa</td></tr>\n",
       "\t<tr><td>4.6</td><td>3.4</td><td>1.4</td><td>0.3</td><td>setosa</td></tr>\n",
       "\t<tr><td>5.0</td><td>3.4</td><td>1.5</td><td>0.2</td><td>setosa</td></tr>\n",
       "\t<tr><td>4.4</td><td>2.9</td><td>1.4</td><td>0.2</td><td>setosa</td></tr>\n",
       "\t<tr><td>4.9</td><td>3.1</td><td>1.5</td><td>0.1</td><td>setosa</td></tr>\n",
       "\t<tr><td>5.4</td><td>3.7</td><td>1.5</td><td>0.2</td><td>setosa</td></tr>\n",
       "\t<tr><td>4.8</td><td>3.4</td><td>1.6</td><td>0.2</td><td>setosa</td></tr>\n",
       "\t<tr><td>4.8</td><td>3.0</td><td>1.4</td><td>0.1</td><td>setosa</td></tr>\n",
       "\t<tr><td>4.3</td><td>3.0</td><td>1.1</td><td>0.1</td><td>setosa</td></tr>\n",
       "\t<tr><td>5.8</td><td>4.0</td><td>1.2</td><td>0.2</td><td>setosa</td></tr>\n",
       "\t<tr><td>5.7</td><td>4.4</td><td>1.5</td><td>0.4</td><td>setosa</td></tr>\n",
       "\t<tr><td>5.4</td><td>3.9</td><td>1.3</td><td>0.4</td><td>setosa</td></tr>\n",
       "\t<tr><td>5.1</td><td>3.5</td><td>1.4</td><td>0.3</td><td>setosa</td></tr>\n",
       "\t<tr><td>5.7</td><td>3.8</td><td>1.7</td><td>0.3</td><td>setosa</td></tr>\n",
       "\t<tr><td>5.1</td><td>3.8</td><td>1.5</td><td>0.3</td><td>setosa</td></tr>\n",
       "\t<tr><td>5.4</td><td>3.4</td><td>1.7</td><td>0.2</td><td>setosa</td></tr>\n",
       "\t<tr><td>5.1</td><td>3.7</td><td>1.5</td><td>0.4</td><td>setosa</td></tr>\n",
       "\t<tr><td>4.6</td><td>3.6</td><td>1.0</td><td>0.2</td><td>setosa</td></tr>\n",
       "\t<tr><td>5.1</td><td>3.3</td><td>1.7</td><td>0.5</td><td>setosa</td></tr>\n",
       "\t<tr><td>4.8</td><td>3.4</td><td>1.9</td><td>0.2</td><td>setosa</td></tr>\n",
       "\t<tr><td>5.0</td><td>3.0</td><td>1.6</td><td>0.2</td><td>setosa</td></tr>\n",
       "\t<tr><td>5.0</td><td>3.4</td><td>1.6</td><td>0.4</td><td>setosa</td></tr>\n",
       "\t<tr><td>5.2</td><td>3.5</td><td>1.5</td><td>0.2</td><td>setosa</td></tr>\n",
       "\t<tr><td>5.2</td><td>3.4</td><td>1.4</td><td>0.2</td><td>setosa</td></tr>\n",
       "\t<tr><td>4.7</td><td>3.2</td><td>1.6</td><td>0.2</td><td>setosa</td></tr>\n",
       "\t<tr><td>⋮</td><td>⋮</td><td>⋮</td><td>⋮</td><td>⋮</td></tr>\n",
       "\t<tr><td>6.9</td><td>3.2</td><td>5.7</td><td>2.3</td><td>virginica</td></tr>\n",
       "\t<tr><td>5.6</td><td>2.8</td><td>4.9</td><td>2.0</td><td>virginica</td></tr>\n",
       "\t<tr><td>7.7</td><td>2.8</td><td>6.7</td><td>2.0</td><td>virginica</td></tr>\n",
       "\t<tr><td>6.3</td><td>2.7</td><td>4.9</td><td>1.8</td><td>virginica</td></tr>\n",
       "\t<tr><td>6.7</td><td>3.3</td><td>5.7</td><td>2.1</td><td>virginica</td></tr>\n",
       "\t<tr><td>7.2</td><td>3.2</td><td>6.0</td><td>1.8</td><td>virginica</td></tr>\n",
       "\t<tr><td>6.2</td><td>2.8</td><td>4.8</td><td>1.8</td><td>virginica</td></tr>\n",
       "\t<tr><td>6.1</td><td>3.0</td><td>4.9</td><td>1.8</td><td>virginica</td></tr>\n",
       "\t<tr><td>6.4</td><td>2.8</td><td>5.6</td><td>2.1</td><td>virginica</td></tr>\n",
       "\t<tr><td>7.2</td><td>3.0</td><td>5.8</td><td>1.6</td><td>virginica</td></tr>\n",
       "\t<tr><td>7.4</td><td>2.8</td><td>6.1</td><td>1.9</td><td>virginica</td></tr>\n",
       "\t<tr><td>7.9</td><td>3.8</td><td>6.4</td><td>2.0</td><td>virginica</td></tr>\n",
       "\t<tr><td>6.4</td><td>2.8</td><td>5.6</td><td>2.2</td><td>virginica</td></tr>\n",
       "\t<tr><td>6.3</td><td>2.8</td><td>5.1</td><td>1.5</td><td>virginica</td></tr>\n",
       "\t<tr><td>6.1</td><td>2.6</td><td>5.6</td><td>1.4</td><td>virginica</td></tr>\n",
       "\t<tr><td>7.7</td><td>3.0</td><td>6.1</td><td>2.3</td><td>virginica</td></tr>\n",
       "\t<tr><td>6.3</td><td>3.4</td><td>5.6</td><td>2.4</td><td>virginica</td></tr>\n",
       "\t<tr><td>6.4</td><td>3.1</td><td>5.5</td><td>1.8</td><td>virginica</td></tr>\n",
       "\t<tr><td>6.0</td><td>3.0</td><td>4.8</td><td>1.8</td><td>virginica</td></tr>\n",
       "\t<tr><td>6.9</td><td>3.1</td><td>5.4</td><td>2.1</td><td>virginica</td></tr>\n",
       "\t<tr><td>6.7</td><td>3.1</td><td>5.6</td><td>2.4</td><td>virginica</td></tr>\n",
       "\t<tr><td>6.9</td><td>3.1</td><td>5.1</td><td>2.3</td><td>virginica</td></tr>\n",
       "\t<tr><td>5.8</td><td>2.7</td><td>5.1</td><td>1.9</td><td>virginica</td></tr>\n",
       "\t<tr><td>6.8</td><td>3.2</td><td>5.9</td><td>2.3</td><td>virginica</td></tr>\n",
       "\t<tr><td>6.7</td><td>3.3</td><td>5.7</td><td>2.5</td><td>virginica</td></tr>\n",
       "\t<tr><td>6.7</td><td>3.0</td><td>5.2</td><td>2.3</td><td>virginica</td></tr>\n",
       "\t<tr><td>6.3</td><td>2.5</td><td>5.0</td><td>1.9</td><td>virginica</td></tr>\n",
       "\t<tr><td>6.5</td><td>3.0</td><td>5.2</td><td>2.0</td><td>virginica</td></tr>\n",
       "\t<tr><td>6.2</td><td>3.4</td><td>5.4</td><td>2.3</td><td>virginica</td></tr>\n",
       "\t<tr><td>5.9</td><td>3.0</td><td>5.1</td><td>1.8</td><td>virginica</td></tr>\n",
       "</tbody>\n",
       "</table>\n"
      ],
      "text/latex": [
       "A data.frame: 150 × 5\n",
       "\\begin{tabular}{lllll}\n",
       " Sepal.Length & Sepal.Width & Petal.Length & Petal.Width & Species\\\\\n",
       " <dbl> & <dbl> & <dbl> & <dbl> & <fct>\\\\\n",
       "\\hline\n",
       "\t 5.1 & 3.5 & 1.4 & 0.2 & setosa\\\\\n",
       "\t 4.9 & 3.0 & 1.4 & 0.2 & setosa\\\\\n",
       "\t 4.7 & 3.2 & 1.3 & 0.2 & setosa\\\\\n",
       "\t 4.6 & 3.1 & 1.5 & 0.2 & setosa\\\\\n",
       "\t 5.0 & 3.6 & 1.4 & 0.2 & setosa\\\\\n",
       "\t 5.4 & 3.9 & 1.7 & 0.4 & setosa\\\\\n",
       "\t 4.6 & 3.4 & 1.4 & 0.3 & setosa\\\\\n",
       "\t 5.0 & 3.4 & 1.5 & 0.2 & setosa\\\\\n",
       "\t 4.4 & 2.9 & 1.4 & 0.2 & setosa\\\\\n",
       "\t 4.9 & 3.1 & 1.5 & 0.1 & setosa\\\\\n",
       "\t 5.4 & 3.7 & 1.5 & 0.2 & setosa\\\\\n",
       "\t 4.8 & 3.4 & 1.6 & 0.2 & setosa\\\\\n",
       "\t 4.8 & 3.0 & 1.4 & 0.1 & setosa\\\\\n",
       "\t 4.3 & 3.0 & 1.1 & 0.1 & setosa\\\\\n",
       "\t 5.8 & 4.0 & 1.2 & 0.2 & setosa\\\\\n",
       "\t 5.7 & 4.4 & 1.5 & 0.4 & setosa\\\\\n",
       "\t 5.4 & 3.9 & 1.3 & 0.4 & setosa\\\\\n",
       "\t 5.1 & 3.5 & 1.4 & 0.3 & setosa\\\\\n",
       "\t 5.7 & 3.8 & 1.7 & 0.3 & setosa\\\\\n",
       "\t 5.1 & 3.8 & 1.5 & 0.3 & setosa\\\\\n",
       "\t 5.4 & 3.4 & 1.7 & 0.2 & setosa\\\\\n",
       "\t 5.1 & 3.7 & 1.5 & 0.4 & setosa\\\\\n",
       "\t 4.6 & 3.6 & 1.0 & 0.2 & setosa\\\\\n",
       "\t 5.1 & 3.3 & 1.7 & 0.5 & setosa\\\\\n",
       "\t 4.8 & 3.4 & 1.9 & 0.2 & setosa\\\\\n",
       "\t 5.0 & 3.0 & 1.6 & 0.2 & setosa\\\\\n",
       "\t 5.0 & 3.4 & 1.6 & 0.4 & setosa\\\\\n",
       "\t 5.2 & 3.5 & 1.5 & 0.2 & setosa\\\\\n",
       "\t 5.2 & 3.4 & 1.4 & 0.2 & setosa\\\\\n",
       "\t 4.7 & 3.2 & 1.6 & 0.2 & setosa\\\\\n",
       "\t ⋮ & ⋮ & ⋮ & ⋮ & ⋮\\\\\n",
       "\t 6.9 & 3.2 & 5.7 & 2.3 & virginica\\\\\n",
       "\t 5.6 & 2.8 & 4.9 & 2.0 & virginica\\\\\n",
       "\t 7.7 & 2.8 & 6.7 & 2.0 & virginica\\\\\n",
       "\t 6.3 & 2.7 & 4.9 & 1.8 & virginica\\\\\n",
       "\t 6.7 & 3.3 & 5.7 & 2.1 & virginica\\\\\n",
       "\t 7.2 & 3.2 & 6.0 & 1.8 & virginica\\\\\n",
       "\t 6.2 & 2.8 & 4.8 & 1.8 & virginica\\\\\n",
       "\t 6.1 & 3.0 & 4.9 & 1.8 & virginica\\\\\n",
       "\t 6.4 & 2.8 & 5.6 & 2.1 & virginica\\\\\n",
       "\t 7.2 & 3.0 & 5.8 & 1.6 & virginica\\\\\n",
       "\t 7.4 & 2.8 & 6.1 & 1.9 & virginica\\\\\n",
       "\t 7.9 & 3.8 & 6.4 & 2.0 & virginica\\\\\n",
       "\t 6.4 & 2.8 & 5.6 & 2.2 & virginica\\\\\n",
       "\t 6.3 & 2.8 & 5.1 & 1.5 & virginica\\\\\n",
       "\t 6.1 & 2.6 & 5.6 & 1.4 & virginica\\\\\n",
       "\t 7.7 & 3.0 & 6.1 & 2.3 & virginica\\\\\n",
       "\t 6.3 & 3.4 & 5.6 & 2.4 & virginica\\\\\n",
       "\t 6.4 & 3.1 & 5.5 & 1.8 & virginica\\\\\n",
       "\t 6.0 & 3.0 & 4.8 & 1.8 & virginica\\\\\n",
       "\t 6.9 & 3.1 & 5.4 & 2.1 & virginica\\\\\n",
       "\t 6.7 & 3.1 & 5.6 & 2.4 & virginica\\\\\n",
       "\t 6.9 & 3.1 & 5.1 & 2.3 & virginica\\\\\n",
       "\t 5.8 & 2.7 & 5.1 & 1.9 & virginica\\\\\n",
       "\t 6.8 & 3.2 & 5.9 & 2.3 & virginica\\\\\n",
       "\t 6.7 & 3.3 & 5.7 & 2.5 & virginica\\\\\n",
       "\t 6.7 & 3.0 & 5.2 & 2.3 & virginica\\\\\n",
       "\t 6.3 & 2.5 & 5.0 & 1.9 & virginica\\\\\n",
       "\t 6.5 & 3.0 & 5.2 & 2.0 & virginica\\\\\n",
       "\t 6.2 & 3.4 & 5.4 & 2.3 & virginica\\\\\n",
       "\t 5.9 & 3.0 & 5.1 & 1.8 & virginica\\\\\n",
       "\\end{tabular}\n"
      ],
      "text/markdown": [
       "\n",
       "A data.frame: 150 × 5\n",
       "\n",
       "| Sepal.Length &lt;dbl&gt; | Sepal.Width &lt;dbl&gt; | Petal.Length &lt;dbl&gt; | Petal.Width &lt;dbl&gt; | Species &lt;fct&gt; |\n",
       "|---|---|---|---|---|\n",
       "| 5.1 | 3.5 | 1.4 | 0.2 | setosa |\n",
       "| 4.9 | 3.0 | 1.4 | 0.2 | setosa |\n",
       "| 4.7 | 3.2 | 1.3 | 0.2 | setosa |\n",
       "| 4.6 | 3.1 | 1.5 | 0.2 | setosa |\n",
       "| 5.0 | 3.6 | 1.4 | 0.2 | setosa |\n",
       "| 5.4 | 3.9 | 1.7 | 0.4 | setosa |\n",
       "| 4.6 | 3.4 | 1.4 | 0.3 | setosa |\n",
       "| 5.0 | 3.4 | 1.5 | 0.2 | setosa |\n",
       "| 4.4 | 2.9 | 1.4 | 0.2 | setosa |\n",
       "| 4.9 | 3.1 | 1.5 | 0.1 | setosa |\n",
       "| 5.4 | 3.7 | 1.5 | 0.2 | setosa |\n",
       "| 4.8 | 3.4 | 1.6 | 0.2 | setosa |\n",
       "| 4.8 | 3.0 | 1.4 | 0.1 | setosa |\n",
       "| 4.3 | 3.0 | 1.1 | 0.1 | setosa |\n",
       "| 5.8 | 4.0 | 1.2 | 0.2 | setosa |\n",
       "| 5.7 | 4.4 | 1.5 | 0.4 | setosa |\n",
       "| 5.4 | 3.9 | 1.3 | 0.4 | setosa |\n",
       "| 5.1 | 3.5 | 1.4 | 0.3 | setosa |\n",
       "| 5.7 | 3.8 | 1.7 | 0.3 | setosa |\n",
       "| 5.1 | 3.8 | 1.5 | 0.3 | setosa |\n",
       "| 5.4 | 3.4 | 1.7 | 0.2 | setosa |\n",
       "| 5.1 | 3.7 | 1.5 | 0.4 | setosa |\n",
       "| 4.6 | 3.6 | 1.0 | 0.2 | setosa |\n",
       "| 5.1 | 3.3 | 1.7 | 0.5 | setosa |\n",
       "| 4.8 | 3.4 | 1.9 | 0.2 | setosa |\n",
       "| 5.0 | 3.0 | 1.6 | 0.2 | setosa |\n",
       "| 5.0 | 3.4 | 1.6 | 0.4 | setosa |\n",
       "| 5.2 | 3.5 | 1.5 | 0.2 | setosa |\n",
       "| 5.2 | 3.4 | 1.4 | 0.2 | setosa |\n",
       "| 4.7 | 3.2 | 1.6 | 0.2 | setosa |\n",
       "| ⋮ | ⋮ | ⋮ | ⋮ | ⋮ |\n",
       "| 6.9 | 3.2 | 5.7 | 2.3 | virginica |\n",
       "| 5.6 | 2.8 | 4.9 | 2.0 | virginica |\n",
       "| 7.7 | 2.8 | 6.7 | 2.0 | virginica |\n",
       "| 6.3 | 2.7 | 4.9 | 1.8 | virginica |\n",
       "| 6.7 | 3.3 | 5.7 | 2.1 | virginica |\n",
       "| 7.2 | 3.2 | 6.0 | 1.8 | virginica |\n",
       "| 6.2 | 2.8 | 4.8 | 1.8 | virginica |\n",
       "| 6.1 | 3.0 | 4.9 | 1.8 | virginica |\n",
       "| 6.4 | 2.8 | 5.6 | 2.1 | virginica |\n",
       "| 7.2 | 3.0 | 5.8 | 1.6 | virginica |\n",
       "| 7.4 | 2.8 | 6.1 | 1.9 | virginica |\n",
       "| 7.9 | 3.8 | 6.4 | 2.0 | virginica |\n",
       "| 6.4 | 2.8 | 5.6 | 2.2 | virginica |\n",
       "| 6.3 | 2.8 | 5.1 | 1.5 | virginica |\n",
       "| 6.1 | 2.6 | 5.6 | 1.4 | virginica |\n",
       "| 7.7 | 3.0 | 6.1 | 2.3 | virginica |\n",
       "| 6.3 | 3.4 | 5.6 | 2.4 | virginica |\n",
       "| 6.4 | 3.1 | 5.5 | 1.8 | virginica |\n",
       "| 6.0 | 3.0 | 4.8 | 1.8 | virginica |\n",
       "| 6.9 | 3.1 | 5.4 | 2.1 | virginica |\n",
       "| 6.7 | 3.1 | 5.6 | 2.4 | virginica |\n",
       "| 6.9 | 3.1 | 5.1 | 2.3 | virginica |\n",
       "| 5.8 | 2.7 | 5.1 | 1.9 | virginica |\n",
       "| 6.8 | 3.2 | 5.9 | 2.3 | virginica |\n",
       "| 6.7 | 3.3 | 5.7 | 2.5 | virginica |\n",
       "| 6.7 | 3.0 | 5.2 | 2.3 | virginica |\n",
       "| 6.3 | 2.5 | 5.0 | 1.9 | virginica |\n",
       "| 6.5 | 3.0 | 5.2 | 2.0 | virginica |\n",
       "| 6.2 | 3.4 | 5.4 | 2.3 | virginica |\n",
       "| 5.9 | 3.0 | 5.1 | 1.8 | virginica |\n",
       "\n"
      ],
      "text/plain": [
       "    Sepal.Length Sepal.Width Petal.Length Petal.Width Species  \n",
       "1   5.1          3.5         1.4          0.2         setosa   \n",
       "2   4.9          3.0         1.4          0.2         setosa   \n",
       "3   4.7          3.2         1.3          0.2         setosa   \n",
       "4   4.6          3.1         1.5          0.2         setosa   \n",
       "5   5.0          3.6         1.4          0.2         setosa   \n",
       "6   5.4          3.9         1.7          0.4         setosa   \n",
       "7   4.6          3.4         1.4          0.3         setosa   \n",
       "8   5.0          3.4         1.5          0.2         setosa   \n",
       "9   4.4          2.9         1.4          0.2         setosa   \n",
       "10  4.9          3.1         1.5          0.1         setosa   \n",
       "11  5.4          3.7         1.5          0.2         setosa   \n",
       "12  4.8          3.4         1.6          0.2         setosa   \n",
       "13  4.8          3.0         1.4          0.1         setosa   \n",
       "14  4.3          3.0         1.1          0.1         setosa   \n",
       "15  5.8          4.0         1.2          0.2         setosa   \n",
       "16  5.7          4.4         1.5          0.4         setosa   \n",
       "17  5.4          3.9         1.3          0.4         setosa   \n",
       "18  5.1          3.5         1.4          0.3         setosa   \n",
       "19  5.7          3.8         1.7          0.3         setosa   \n",
       "20  5.1          3.8         1.5          0.3         setosa   \n",
       "21  5.4          3.4         1.7          0.2         setosa   \n",
       "22  5.1          3.7         1.5          0.4         setosa   \n",
       "23  4.6          3.6         1.0          0.2         setosa   \n",
       "24  5.1          3.3         1.7          0.5         setosa   \n",
       "25  4.8          3.4         1.9          0.2         setosa   \n",
       "26  5.0          3.0         1.6          0.2         setosa   \n",
       "27  5.0          3.4         1.6          0.4         setosa   \n",
       "28  5.2          3.5         1.5          0.2         setosa   \n",
       "29  5.2          3.4         1.4          0.2         setosa   \n",
       "30  4.7          3.2         1.6          0.2         setosa   \n",
       "<U+22EE>   <U+22EE>     <U+22EE>    <U+22EE>     <U+22EE>    <U+22EE> \n",
       "121 6.9          3.2         5.7          2.3         virginica\n",
       "122 5.6          2.8         4.9          2.0         virginica\n",
       "123 7.7          2.8         6.7          2.0         virginica\n",
       "124 6.3          2.7         4.9          1.8         virginica\n",
       "125 6.7          3.3         5.7          2.1         virginica\n",
       "126 7.2          3.2         6.0          1.8         virginica\n",
       "127 6.2          2.8         4.8          1.8         virginica\n",
       "128 6.1          3.0         4.9          1.8         virginica\n",
       "129 6.4          2.8         5.6          2.1         virginica\n",
       "130 7.2          3.0         5.8          1.6         virginica\n",
       "131 7.4          2.8         6.1          1.9         virginica\n",
       "132 7.9          3.8         6.4          2.0         virginica\n",
       "133 6.4          2.8         5.6          2.2         virginica\n",
       "134 6.3          2.8         5.1          1.5         virginica\n",
       "135 6.1          2.6         5.6          1.4         virginica\n",
       "136 7.7          3.0         6.1          2.3         virginica\n",
       "137 6.3          3.4         5.6          2.4         virginica\n",
       "138 6.4          3.1         5.5          1.8         virginica\n",
       "139 6.0          3.0         4.8          1.8         virginica\n",
       "140 6.9          3.1         5.4          2.1         virginica\n",
       "141 6.7          3.1         5.6          2.4         virginica\n",
       "142 6.9          3.1         5.1          2.3         virginica\n",
       "143 5.8          2.7         5.1          1.9         virginica\n",
       "144 6.8          3.2         5.9          2.3         virginica\n",
       "145 6.7          3.3         5.7          2.5         virginica\n",
       "146 6.7          3.0         5.2          2.3         virginica\n",
       "147 6.3          2.5         5.0          1.9         virginica\n",
       "148 6.5          3.0         5.2          2.0         virginica\n",
       "149 6.2          3.4         5.4          2.3         virginica\n",
       "150 5.9          3.0         5.1          1.8         virginica"
      ]
     },
     "metadata": {},
     "output_type": "display_data"
    }
   ],
   "source": [
    "iris"
   ]
  },
  {
   "cell_type": "code",
   "execution_count": 2,
   "id": "d6a2c5d7",
   "metadata": {},
   "outputs": [],
   "source": [
    "#종속변수를 숫자로 만들어주기\n",
    "# unclass(iris$Species)\n",
    "iris$Species = as.numeric(iris[,5]) -1\n",
    "# iris$Species = ifelse(iris$Species=='setosa',0,ifelse(iris$Species=='versicolor',1,2) )"
   ]
  },
  {
   "cell_type": "code",
   "execution_count": 3,
   "id": "bcdbc087",
   "metadata": {},
   "outputs": [],
   "source": [
    "iris <- as.matrix(iris)"
   ]
  },
  {
   "cell_type": "markdown",
   "id": "9c2c4e5e",
   "metadata": {},
   "source": [
    "#### 67 대 33 으로 학습셋 테스트셋 나누기"
   ]
  },
  {
   "cell_type": "code",
   "execution_count": 5,
   "id": "885880c5",
   "metadata": {},
   "outputs": [],
   "source": [
    "ind <- sample(2, nrow(iris), replace=TRUE, prob=c(0.67, 0.33))\n",
    "x_train <- iris[ind==1, 1:4]\n",
    "x_test <- iris[ind==2, 1:4]\n",
    "y_train <- iris[ind==1, 5]\n",
    "y_test <- iris[ind==2, 5]"
   ]
  },
  {
   "cell_type": "markdown",
   "id": "fa802b14",
   "metadata": {},
   "source": [
    "### 원핫 변환"
   ]
  },
  {
   "cell_type": "code",
   "execution_count": 6,
   "id": "9ed01327",
   "metadata": {},
   "outputs": [
    {
     "name": "stderr",
     "output_type": "stream",
     "text": [
      "Loaded Tensorflow version 2.8.0\n",
      "\n"
     ]
    }
   ],
   "source": [
    "y_train=to_categorical(y_train)\n",
    "y_test=to_categorical(y_test)"
   ]
  },
  {
   "cell_type": "code",
   "execution_count": 8,
   "id": "0798005d",
   "metadata": {},
   "outputs": [
    {
     "data": {
      "text/html": [
       "<style>\n",
       ".list-inline {list-style: none; margin:0; padding: 0}\n",
       ".list-inline>li {display: inline-block}\n",
       ".list-inline>li:not(:last-child)::after {content: \"\\00b7\"; padding: 0 .5ex}\n",
       "</style>\n",
       "<ol class=list-inline><li>114</li><li>4</li></ol>\n"
      ],
      "text/latex": [
       "\\begin{enumerate*}\n",
       "\\item 114\n",
       "\\item 4\n",
       "\\end{enumerate*}\n"
      ],
      "text/markdown": [
       "1. 114\n",
       "2. 4\n",
       "\n",
       "\n"
      ],
      "text/plain": [
       "[1] 114   4"
      ]
     },
     "metadata": {},
     "output_type": "display_data"
    },
    {
     "data": {
      "text/html": [
       "<style>\n",
       ".list-inline {list-style: none; margin:0; padding: 0}\n",
       ".list-inline>li {display: inline-block}\n",
       ".list-inline>li:not(:last-child)::after {content: \"\\00b7\"; padding: 0 .5ex}\n",
       "</style>\n",
       "<ol class=list-inline><li>114</li><li>3</li></ol>\n"
      ],
      "text/latex": [
       "\\begin{enumerate*}\n",
       "\\item 114\n",
       "\\item 3\n",
       "\\end{enumerate*}\n"
      ],
      "text/markdown": [
       "1. 114\n",
       "2. 3\n",
       "\n",
       "\n"
      ],
      "text/plain": [
       "[1] 114   3"
      ]
     },
     "metadata": {},
     "output_type": "display_data"
    },
    {
     "data": {
      "text/html": [
       "<style>\n",
       ".list-inline {list-style: none; margin:0; padding: 0}\n",
       ".list-inline>li {display: inline-block}\n",
       ".list-inline>li:not(:last-child)::after {content: \"\\00b7\"; padding: 0 .5ex}\n",
       "</style>\n",
       "<ol class=list-inline><li>36</li><li>4</li></ol>\n"
      ],
      "text/latex": [
       "\\begin{enumerate*}\n",
       "\\item 36\n",
       "\\item 4\n",
       "\\end{enumerate*}\n"
      ],
      "text/markdown": [
       "1. 36\n",
       "2. 4\n",
       "\n",
       "\n"
      ],
      "text/plain": [
       "[1] 36  4"
      ]
     },
     "metadata": {},
     "output_type": "display_data"
    },
    {
     "data": {
      "text/html": [
       "<style>\n",
       ".list-inline {list-style: none; margin:0; padding: 0}\n",
       ".list-inline>li {display: inline-block}\n",
       ".list-inline>li:not(:last-child)::after {content: \"\\00b7\"; padding: 0 .5ex}\n",
       "</style>\n",
       "<ol class=list-inline><li>36</li><li>3</li></ol>\n"
      ],
      "text/latex": [
       "\\begin{enumerate*}\n",
       "\\item 36\n",
       "\\item 3\n",
       "\\end{enumerate*}\n"
      ],
      "text/markdown": [
       "1. 36\n",
       "2. 3\n",
       "\n",
       "\n"
      ],
      "text/plain": [
       "[1] 36  3"
      ]
     },
     "metadata": {},
     "output_type": "display_data"
    }
   ],
   "source": [
    "dim(x_train);dim(y_train)\n",
    "dim(x_test);dim(y_test)"
   ]
  },
  {
   "cell_type": "code",
   "execution_count": 9,
   "id": "d664e613",
   "metadata": {
    "collapsed": true
   },
   "outputs": [
    {
     "data": {
      "text/html": [
       "<table class=\"dataframe\">\n",
       "<caption>A matrix: 96 × 4 of type dbl</caption>\n",
       "<thead>\n",
       "\t<tr><th scope=col>Sepal.Length</th><th scope=col>Sepal.Width</th><th scope=col>Petal.Length</th><th scope=col>Petal.Width</th></tr>\n",
       "</thead>\n",
       "<tbody>\n",
       "\t<tr><td>5.1</td><td>3.5</td><td>1.4</td><td>0.2</td></tr>\n",
       "\t<tr><td>4.6</td><td>3.1</td><td>1.5</td><td>0.2</td></tr>\n",
       "\t<tr><td>5.0</td><td>3.6</td><td>1.4</td><td>0.2</td></tr>\n",
       "\t<tr><td>5.4</td><td>3.9</td><td>1.7</td><td>0.4</td></tr>\n",
       "\t<tr><td>4.9</td><td>3.1</td><td>1.5</td><td>0.1</td></tr>\n",
       "\t<tr><td>5.4</td><td>3.7</td><td>1.5</td><td>0.2</td></tr>\n",
       "\t<tr><td>4.8</td><td>3.4</td><td>1.6</td><td>0.2</td></tr>\n",
       "\t<tr><td>5.8</td><td>4.0</td><td>1.2</td><td>0.2</td></tr>\n",
       "\t<tr><td>5.7</td><td>4.4</td><td>1.5</td><td>0.4</td></tr>\n",
       "\t<tr><td>5.4</td><td>3.9</td><td>1.3</td><td>0.4</td></tr>\n",
       "\t<tr><td>5.1</td><td>3.8</td><td>1.5</td><td>0.3</td></tr>\n",
       "\t<tr><td>5.1</td><td>3.7</td><td>1.5</td><td>0.4</td></tr>\n",
       "\t<tr><td>4.8</td><td>3.4</td><td>1.9</td><td>0.2</td></tr>\n",
       "\t<tr><td>5.0</td><td>3.0</td><td>1.6</td><td>0.2</td></tr>\n",
       "\t<tr><td>5.2</td><td>3.5</td><td>1.5</td><td>0.2</td></tr>\n",
       "\t<tr><td>4.8</td><td>3.1</td><td>1.6</td><td>0.2</td></tr>\n",
       "\t<tr><td>5.4</td><td>3.4</td><td>1.5</td><td>0.4</td></tr>\n",
       "\t<tr><td>5.2</td><td>4.1</td><td>1.5</td><td>0.1</td></tr>\n",
       "\t<tr><td>5.5</td><td>4.2</td><td>1.4</td><td>0.2</td></tr>\n",
       "\t<tr><td>4.9</td><td>3.1</td><td>1.5</td><td>0.2</td></tr>\n",
       "\t<tr><td>5.0</td><td>3.2</td><td>1.2</td><td>0.2</td></tr>\n",
       "\t<tr><td>4.9</td><td>3.6</td><td>1.4</td><td>0.1</td></tr>\n",
       "\t<tr><td>4.4</td><td>3.0</td><td>1.3</td><td>0.2</td></tr>\n",
       "\t<tr><td>5.1</td><td>3.4</td><td>1.5</td><td>0.2</td></tr>\n",
       "\t<tr><td>4.4</td><td>3.2</td><td>1.3</td><td>0.2</td></tr>\n",
       "\t<tr><td>4.8</td><td>3.0</td><td>1.4</td><td>0.3</td></tr>\n",
       "\t<tr><td>5.1</td><td>3.8</td><td>1.6</td><td>0.2</td></tr>\n",
       "\t<tr><td>7.0</td><td>3.2</td><td>4.7</td><td>1.4</td></tr>\n",
       "\t<tr><td>6.4</td><td>3.2</td><td>4.5</td><td>1.5</td></tr>\n",
       "\t<tr><td>5.5</td><td>2.3</td><td>4.0</td><td>1.3</td></tr>\n",
       "\t<tr><td>⋮</td><td>⋮</td><td>⋮</td><td>⋮</td></tr>\n",
       "\t<tr><td>6.7</td><td>2.5</td><td>5.8</td><td>1.8</td></tr>\n",
       "\t<tr><td>7.2</td><td>3.6</td><td>6.1</td><td>2.5</td></tr>\n",
       "\t<tr><td>6.5</td><td>3.2</td><td>5.1</td><td>2.0</td></tr>\n",
       "\t<tr><td>6.8</td><td>3.0</td><td>5.5</td><td>2.1</td></tr>\n",
       "\t<tr><td>5.7</td><td>2.5</td><td>5.0</td><td>2.0</td></tr>\n",
       "\t<tr><td>6.4</td><td>3.2</td><td>5.3</td><td>2.3</td></tr>\n",
       "\t<tr><td>6.5</td><td>3.0</td><td>5.5</td><td>1.8</td></tr>\n",
       "\t<tr><td>6.0</td><td>2.2</td><td>5.0</td><td>1.5</td></tr>\n",
       "\t<tr><td>6.9</td><td>3.2</td><td>5.7</td><td>2.3</td></tr>\n",
       "\t<tr><td>5.6</td><td>2.8</td><td>4.9</td><td>2.0</td></tr>\n",
       "\t<tr><td>7.7</td><td>2.8</td><td>6.7</td><td>2.0</td></tr>\n",
       "\t<tr><td>6.3</td><td>2.7</td><td>4.9</td><td>1.8</td></tr>\n",
       "\t<tr><td>6.7</td><td>3.3</td><td>5.7</td><td>2.1</td></tr>\n",
       "\t<tr><td>7.2</td><td>3.2</td><td>6.0</td><td>1.8</td></tr>\n",
       "\t<tr><td>7.2</td><td>3.0</td><td>5.8</td><td>1.6</td></tr>\n",
       "\t<tr><td>7.4</td><td>2.8</td><td>6.1</td><td>1.9</td></tr>\n",
       "\t<tr><td>7.9</td><td>3.8</td><td>6.4</td><td>2.0</td></tr>\n",
       "\t<tr><td>6.4</td><td>2.8</td><td>5.6</td><td>2.2</td></tr>\n",
       "\t<tr><td>6.1</td><td>2.6</td><td>5.6</td><td>1.4</td></tr>\n",
       "\t<tr><td>7.7</td><td>3.0</td><td>6.1</td><td>2.3</td></tr>\n",
       "\t<tr><td>6.3</td><td>3.4</td><td>5.6</td><td>2.4</td></tr>\n",
       "\t<tr><td>6.4</td><td>3.1</td><td>5.5</td><td>1.8</td></tr>\n",
       "\t<tr><td>6.7</td><td>3.1</td><td>5.6</td><td>2.4</td></tr>\n",
       "\t<tr><td>6.9</td><td>3.1</td><td>5.1</td><td>2.3</td></tr>\n",
       "\t<tr><td>5.8</td><td>2.7</td><td>5.1</td><td>1.9</td></tr>\n",
       "\t<tr><td>6.8</td><td>3.2</td><td>5.9</td><td>2.3</td></tr>\n",
       "\t<tr><td>6.7</td><td>3.3</td><td>5.7</td><td>2.5</td></tr>\n",
       "\t<tr><td>6.5</td><td>3.0</td><td>5.2</td><td>2.0</td></tr>\n",
       "\t<tr><td>6.2</td><td>3.4</td><td>5.4</td><td>2.3</td></tr>\n",
       "\t<tr><td>5.9</td><td>3.0</td><td>5.1</td><td>1.8</td></tr>\n",
       "</tbody>\n",
       "</table>\n"
      ],
      "text/latex": [
       "A matrix: 96 × 4 of type dbl\n",
       "\\begin{tabular}{llll}\n",
       " Sepal.Length & Sepal.Width & Petal.Length & Petal.Width\\\\\n",
       "\\hline\n",
       "\t 5.1 & 3.5 & 1.4 & 0.2\\\\\n",
       "\t 4.6 & 3.1 & 1.5 & 0.2\\\\\n",
       "\t 5.0 & 3.6 & 1.4 & 0.2\\\\\n",
       "\t 5.4 & 3.9 & 1.7 & 0.4\\\\\n",
       "\t 4.9 & 3.1 & 1.5 & 0.1\\\\\n",
       "\t 5.4 & 3.7 & 1.5 & 0.2\\\\\n",
       "\t 4.8 & 3.4 & 1.6 & 0.2\\\\\n",
       "\t 5.8 & 4.0 & 1.2 & 0.2\\\\\n",
       "\t 5.7 & 4.4 & 1.5 & 0.4\\\\\n",
       "\t 5.4 & 3.9 & 1.3 & 0.4\\\\\n",
       "\t 5.1 & 3.8 & 1.5 & 0.3\\\\\n",
       "\t 5.1 & 3.7 & 1.5 & 0.4\\\\\n",
       "\t 4.8 & 3.4 & 1.9 & 0.2\\\\\n",
       "\t 5.0 & 3.0 & 1.6 & 0.2\\\\\n",
       "\t 5.2 & 3.5 & 1.5 & 0.2\\\\\n",
       "\t 4.8 & 3.1 & 1.6 & 0.2\\\\\n",
       "\t 5.4 & 3.4 & 1.5 & 0.4\\\\\n",
       "\t 5.2 & 4.1 & 1.5 & 0.1\\\\\n",
       "\t 5.5 & 4.2 & 1.4 & 0.2\\\\\n",
       "\t 4.9 & 3.1 & 1.5 & 0.2\\\\\n",
       "\t 5.0 & 3.2 & 1.2 & 0.2\\\\\n",
       "\t 4.9 & 3.6 & 1.4 & 0.1\\\\\n",
       "\t 4.4 & 3.0 & 1.3 & 0.2\\\\\n",
       "\t 5.1 & 3.4 & 1.5 & 0.2\\\\\n",
       "\t 4.4 & 3.2 & 1.3 & 0.2\\\\\n",
       "\t 4.8 & 3.0 & 1.4 & 0.3\\\\\n",
       "\t 5.1 & 3.8 & 1.6 & 0.2\\\\\n",
       "\t 7.0 & 3.2 & 4.7 & 1.4\\\\\n",
       "\t 6.4 & 3.2 & 4.5 & 1.5\\\\\n",
       "\t 5.5 & 2.3 & 4.0 & 1.3\\\\\n",
       "\t ⋮ & ⋮ & ⋮ & ⋮\\\\\n",
       "\t 6.7 & 2.5 & 5.8 & 1.8\\\\\n",
       "\t 7.2 & 3.6 & 6.1 & 2.5\\\\\n",
       "\t 6.5 & 3.2 & 5.1 & 2.0\\\\\n",
       "\t 6.8 & 3.0 & 5.5 & 2.1\\\\\n",
       "\t 5.7 & 2.5 & 5.0 & 2.0\\\\\n",
       "\t 6.4 & 3.2 & 5.3 & 2.3\\\\\n",
       "\t 6.5 & 3.0 & 5.5 & 1.8\\\\\n",
       "\t 6.0 & 2.2 & 5.0 & 1.5\\\\\n",
       "\t 6.9 & 3.2 & 5.7 & 2.3\\\\\n",
       "\t 5.6 & 2.8 & 4.9 & 2.0\\\\\n",
       "\t 7.7 & 2.8 & 6.7 & 2.0\\\\\n",
       "\t 6.3 & 2.7 & 4.9 & 1.8\\\\\n",
       "\t 6.7 & 3.3 & 5.7 & 2.1\\\\\n",
       "\t 7.2 & 3.2 & 6.0 & 1.8\\\\\n",
       "\t 7.2 & 3.0 & 5.8 & 1.6\\\\\n",
       "\t 7.4 & 2.8 & 6.1 & 1.9\\\\\n",
       "\t 7.9 & 3.8 & 6.4 & 2.0\\\\\n",
       "\t 6.4 & 2.8 & 5.6 & 2.2\\\\\n",
       "\t 6.1 & 2.6 & 5.6 & 1.4\\\\\n",
       "\t 7.7 & 3.0 & 6.1 & 2.3\\\\\n",
       "\t 6.3 & 3.4 & 5.6 & 2.4\\\\\n",
       "\t 6.4 & 3.1 & 5.5 & 1.8\\\\\n",
       "\t 6.7 & 3.1 & 5.6 & 2.4\\\\\n",
       "\t 6.9 & 3.1 & 5.1 & 2.3\\\\\n",
       "\t 5.8 & 2.7 & 5.1 & 1.9\\\\\n",
       "\t 6.8 & 3.2 & 5.9 & 2.3\\\\\n",
       "\t 6.7 & 3.3 & 5.7 & 2.5\\\\\n",
       "\t 6.5 & 3.0 & 5.2 & 2.0\\\\\n",
       "\t 6.2 & 3.4 & 5.4 & 2.3\\\\\n",
       "\t 5.9 & 3.0 & 5.1 & 1.8\\\\\n",
       "\\end{tabular}\n"
      ],
      "text/markdown": [
       "\n",
       "A matrix: 96 × 4 of type dbl\n",
       "\n",
       "| Sepal.Length | Sepal.Width | Petal.Length | Petal.Width |\n",
       "|---|---|---|---|\n",
       "| 5.1 | 3.5 | 1.4 | 0.2 |\n",
       "| 4.6 | 3.1 | 1.5 | 0.2 |\n",
       "| 5.0 | 3.6 | 1.4 | 0.2 |\n",
       "| 5.4 | 3.9 | 1.7 | 0.4 |\n",
       "| 4.9 | 3.1 | 1.5 | 0.1 |\n",
       "| 5.4 | 3.7 | 1.5 | 0.2 |\n",
       "| 4.8 | 3.4 | 1.6 | 0.2 |\n",
       "| 5.8 | 4.0 | 1.2 | 0.2 |\n",
       "| 5.7 | 4.4 | 1.5 | 0.4 |\n",
       "| 5.4 | 3.9 | 1.3 | 0.4 |\n",
       "| 5.1 | 3.8 | 1.5 | 0.3 |\n",
       "| 5.1 | 3.7 | 1.5 | 0.4 |\n",
       "| 4.8 | 3.4 | 1.9 | 0.2 |\n",
       "| 5.0 | 3.0 | 1.6 | 0.2 |\n",
       "| 5.2 | 3.5 | 1.5 | 0.2 |\n",
       "| 4.8 | 3.1 | 1.6 | 0.2 |\n",
       "| 5.4 | 3.4 | 1.5 | 0.4 |\n",
       "| 5.2 | 4.1 | 1.5 | 0.1 |\n",
       "| 5.5 | 4.2 | 1.4 | 0.2 |\n",
       "| 4.9 | 3.1 | 1.5 | 0.2 |\n",
       "| 5.0 | 3.2 | 1.2 | 0.2 |\n",
       "| 4.9 | 3.6 | 1.4 | 0.1 |\n",
       "| 4.4 | 3.0 | 1.3 | 0.2 |\n",
       "| 5.1 | 3.4 | 1.5 | 0.2 |\n",
       "| 4.4 | 3.2 | 1.3 | 0.2 |\n",
       "| 4.8 | 3.0 | 1.4 | 0.3 |\n",
       "| 5.1 | 3.8 | 1.6 | 0.2 |\n",
       "| 7.0 | 3.2 | 4.7 | 1.4 |\n",
       "| 6.4 | 3.2 | 4.5 | 1.5 |\n",
       "| 5.5 | 2.3 | 4.0 | 1.3 |\n",
       "| ⋮ | ⋮ | ⋮ | ⋮ |\n",
       "| 6.7 | 2.5 | 5.8 | 1.8 |\n",
       "| 7.2 | 3.6 | 6.1 | 2.5 |\n",
       "| 6.5 | 3.2 | 5.1 | 2.0 |\n",
       "| 6.8 | 3.0 | 5.5 | 2.1 |\n",
       "| 5.7 | 2.5 | 5.0 | 2.0 |\n",
       "| 6.4 | 3.2 | 5.3 | 2.3 |\n",
       "| 6.5 | 3.0 | 5.5 | 1.8 |\n",
       "| 6.0 | 2.2 | 5.0 | 1.5 |\n",
       "| 6.9 | 3.2 | 5.7 | 2.3 |\n",
       "| 5.6 | 2.8 | 4.9 | 2.0 |\n",
       "| 7.7 | 2.8 | 6.7 | 2.0 |\n",
       "| 6.3 | 2.7 | 4.9 | 1.8 |\n",
       "| 6.7 | 3.3 | 5.7 | 2.1 |\n",
       "| 7.2 | 3.2 | 6.0 | 1.8 |\n",
       "| 7.2 | 3.0 | 5.8 | 1.6 |\n",
       "| 7.4 | 2.8 | 6.1 | 1.9 |\n",
       "| 7.9 | 3.8 | 6.4 | 2.0 |\n",
       "| 6.4 | 2.8 | 5.6 | 2.2 |\n",
       "| 6.1 | 2.6 | 5.6 | 1.4 |\n",
       "| 7.7 | 3.0 | 6.1 | 2.3 |\n",
       "| 6.3 | 3.4 | 5.6 | 2.4 |\n",
       "| 6.4 | 3.1 | 5.5 | 1.8 |\n",
       "| 6.7 | 3.1 | 5.6 | 2.4 |\n",
       "| 6.9 | 3.1 | 5.1 | 2.3 |\n",
       "| 5.8 | 2.7 | 5.1 | 1.9 |\n",
       "| 6.8 | 3.2 | 5.9 | 2.3 |\n",
       "| 6.7 | 3.3 | 5.7 | 2.5 |\n",
       "| 6.5 | 3.0 | 5.2 | 2.0 |\n",
       "| 6.2 | 3.4 | 5.4 | 2.3 |\n",
       "| 5.9 | 3.0 | 5.1 | 1.8 |\n",
       "\n"
      ],
      "text/plain": [
       "      Sepal.Length Sepal.Width Petal.Length Petal.Width\n",
       " [1,] 5.1          3.5         1.4          0.2        \n",
       " [2,] 4.6          3.1         1.5          0.2        \n",
       " [3,] 5.0          3.6         1.4          0.2        \n",
       " [4,] 5.4          3.9         1.7          0.4        \n",
       " [5,] 4.9          3.1         1.5          0.1        \n",
       " [6,] 5.4          3.7         1.5          0.2        \n",
       " [7,] 4.8          3.4         1.6          0.2        \n",
       " [8,] 5.8          4.0         1.2          0.2        \n",
       " [9,] 5.7          4.4         1.5          0.4        \n",
       "[10,] 5.4          3.9         1.3          0.4        \n",
       "[11,] 5.1          3.8         1.5          0.3        \n",
       "[12,] 5.1          3.7         1.5          0.4        \n",
       "[13,] 4.8          3.4         1.9          0.2        \n",
       "[14,] 5.0          3.0         1.6          0.2        \n",
       "[15,] 5.2          3.5         1.5          0.2        \n",
       "[16,] 4.8          3.1         1.6          0.2        \n",
       "[17,] 5.4          3.4         1.5          0.4        \n",
       "[18,] 5.2          4.1         1.5          0.1        \n",
       "[19,] 5.5          4.2         1.4          0.2        \n",
       "[20,] 4.9          3.1         1.5          0.2        \n",
       "[21,] 5.0          3.2         1.2          0.2        \n",
       "[22,] 4.9          3.6         1.4          0.1        \n",
       "[23,] 4.4          3.0         1.3          0.2        \n",
       "[24,] 5.1          3.4         1.5          0.2        \n",
       "[25,] 4.4          3.2         1.3          0.2        \n",
       "[26,] 4.8          3.0         1.4          0.3        \n",
       "[27,] 5.1          3.8         1.6          0.2        \n",
       "[28,] 7.0          3.2         4.7          1.4        \n",
       "[29,] 6.4          3.2         4.5          1.5        \n",
       "[30,] 5.5          2.3         4.0          1.3        \n",
       "[31,] <U+22EE>     <U+22EE>    <U+22EE>     <U+22EE>   \n",
       "[32,] 6.7          2.5         5.8          1.8        \n",
       "[33,] 7.2          3.6         6.1          2.5        \n",
       "[34,] 6.5          3.2         5.1          2.0        \n",
       "[35,] 6.8          3.0         5.5          2.1        \n",
       "[36,] 5.7          2.5         5.0          2.0        \n",
       "[37,] 6.4          3.2         5.3          2.3        \n",
       "[38,] 6.5          3.0         5.5          1.8        \n",
       "[39,] 6.0          2.2         5.0          1.5        \n",
       "[40,] 6.9          3.2         5.7          2.3        \n",
       "[41,] 5.6          2.8         4.9          2.0        \n",
       "[42,] 7.7          2.8         6.7          2.0        \n",
       "[43,] 6.3          2.7         4.9          1.8        \n",
       "[44,] 6.7          3.3         5.7          2.1        \n",
       "[45,] 7.2          3.2         6.0          1.8        \n",
       "[46,] 7.2          3.0         5.8          1.6        \n",
       "[47,] 7.4          2.8         6.1          1.9        \n",
       "[48,] 7.9          3.8         6.4          2.0        \n",
       "[49,] 6.4          2.8         5.6          2.2        \n",
       "[50,] 6.1          2.6         5.6          1.4        \n",
       "[51,] 7.7          3.0         6.1          2.3        \n",
       "[52,] 6.3          3.4         5.6          2.4        \n",
       "[53,] 6.4          3.1         5.5          1.8        \n",
       "[54,] 6.7          3.1         5.6          2.4        \n",
       "[55,] 6.9          3.1         5.1          2.3        \n",
       "[56,] 5.8          2.7         5.1          1.9        \n",
       "[57,] 6.8          3.2         5.9          2.3        \n",
       "[58,] 6.7          3.3         5.7          2.5        \n",
       "[59,] 6.5          3.0         5.2          2.0        \n",
       "[60,] 6.2          3.4         5.4          2.3        \n",
       "[61,] 5.9          3.0         5.1          1.8        "
      ]
     },
     "metadata": {},
     "output_type": "display_data"
    }
   ],
   "source": [
    "x_train"
   ]
  },
  {
   "cell_type": "code",
   "execution_count": 9,
   "id": "ee19a7e7",
   "metadata": {},
   "outputs": [
    {
     "name": "stdout",
     "output_type": "stream",
     "text": [
      "Model: \"sequential\"\n",
      "________________________________________________________________________________\n",
      " Layer (type)                       Output Shape                    Param #     \n",
      "================================================================================\n",
      " dense (Dense)                      (None, 3)                       15          \n",
      "                                                                                \n",
      "================================================================================\n",
      "Total params: 15\n",
      "Trainable params: 15\n",
      "Non-trainable params: 0\n",
      "________________________________________________________________________________\n"
     ]
    }
   ],
   "source": [
    "##########모델 만들기\n",
    "model = keras_model_sequential()\n",
    "model = layer_dense(model, units = ncol(y_train),, input_shape = ncol(x_train),\n",
    "            activation = \"softmax\")\n",
    "compile(model, optimizer = \"adam\", loss = \"categorical_crossentropy\",\n",
    "  metrics = c(\"accuracy\")\n",
    ")\n",
    "summary(model)\n",
    "#############모델 적합\n",
    "history <- fit(model, x_train, y_train,  epochs = 1000 )"
   ]
  },
  {
   "cell_type": "code",
   "execution_count": 18,
   "id": "0eedf883",
   "metadata": {},
   "outputs": [],
   "source": [
    "?which.max"
   ]
  },
  {
   "cell_type": "code",
   "execution_count": 16,
   "id": "047444dd",
   "metadata": {},
   "outputs": [
    {
     "data": {
      "text/html": [
       "11"
      ],
      "text/latex": [
       "11"
      ],
      "text/markdown": [
       "11"
      ],
      "text/plain": [
       "[1] 11"
      ]
     },
     "metadata": {},
     "output_type": "display_data"
    }
   ],
   "source": [
    "which.max(predict(model, x_test))"
   ]
  },
  {
   "cell_type": "code",
   "execution_count": 10,
   "id": "fe7720ec",
   "metadata": {
    "collapsed": true
   },
   "outputs": [
    {
     "data": {
      "text/html": [
       "<table class=\"dataframe\">\n",
       "<caption>A matrix: 36 × 3 of type dbl</caption>\n",
       "<tbody>\n",
       "\t<tr><td>0.9711191654</td><td>0.02856793</td><td>0.0003128983</td></tr>\n",
       "\t<tr><td>0.9617956877</td><td>0.03771395</td><td>0.0004903693</td></tr>\n",
       "\t<tr><td>0.9340456724</td><td>0.06446344</td><td>0.0014909866</td></tr>\n",
       "\t<tr><td>0.9570377469</td><td>0.04228158</td><td>0.0006806048</td></tr>\n",
       "\t<tr><td>0.9399799705</td><td>0.05898670</td><td>0.0010332348</td></tr>\n",
       "\t<tr><td>0.9555124044</td><td>0.04381717</td><td>0.0006704688</td></tr>\n",
       "\t<tr><td>0.9174746275</td><td>0.08071769</td><td>0.0018076770</td></tr>\n",
       "\t<tr><td>0.9697167277</td><td>0.03003249</td><td>0.0002508159</td></tr>\n",
       "\t<tr><td>0.9742140174</td><td>0.02555714</td><td>0.0002289328</td></tr>\n",
       "\t<tr><td>0.0144662410</td><td>0.59029931</td><td>0.3952344954</td></tr>\n",
       "\t<tr><td>0.0132303117</td><td>0.53479439</td><td>0.4519752860</td></tr>\n",
       "\t<tr><td>0.0173192900</td><td>0.61320233</td><td>0.3694783449</td></tr>\n",
       "\t<tr><td>0.0154057918</td><td>0.62926316</td><td>0.3553310037</td></tr>\n",
       "\t<tr><td>0.0257710684</td><td>0.62937802</td><td>0.3448508978</td></tr>\n",
       "\t<tr><td>0.0477315187</td><td>0.58200449</td><td>0.3702639043</td></tr>\n",
       "\t<tr><td>0.0380745716</td><td>0.66119677</td><td>0.3007286787</td></tr>\n",
       "\t<tr><td>0.0321743116</td><td>0.63883960</td><td>0.3289861381</td></tr>\n",
       "\t<tr><td>0.0140859131</td><td>0.57264924</td><td>0.4132648110</td></tr>\n",
       "\t<tr><td>0.0483506359</td><td>0.62626863</td><td>0.3253807127</td></tr>\n",
       "\t<tr><td>0.0210135002</td><td>0.67154461</td><td>0.3074419796</td></tr>\n",
       "\t<tr><td>0.0246773027</td><td>0.57754713</td><td>0.3977755606</td></tr>\n",
       "\t<tr><td>0.0931159332</td><td>0.64711577</td><td>0.2597682774</td></tr>\n",
       "\t<tr><td>0.0239964686</td><td>0.61309892</td><td>0.3629045784</td></tr>\n",
       "\t<tr><td>0.0001477417</td><td>0.19198221</td><td>0.8078700900</td></tr>\n",
       "\t<tr><td>0.0004369796</td><td>0.22700766</td><td>0.7725552917</td></tr>\n",
       "\t<tr><td>0.0002873807</td><td>0.18605666</td><td>0.8136560321</td></tr>\n",
       "\t<tr><td>0.0027003640</td><td>0.36165550</td><td>0.6356440783</td></tr>\n",
       "\t<tr><td>0.0008635161</td><td>0.33918387</td><td>0.6599525809</td></tr>\n",
       "\t<tr><td>0.0036158373</td><td>0.40059230</td><td>0.5957918763</td></tr>\n",
       "\t<tr><td>0.0002776352</td><td>0.19945315</td><td>0.8002692461</td></tr>\n",
       "\t<tr><td>0.0017801864</td><td>0.39978057</td><td>0.5984392762</td></tr>\n",
       "\t<tr><td>0.0018031069</td><td>0.41072458</td><td>0.5874722600</td></tr>\n",
       "\t<tr><td>0.0044511859</td><td>0.45862922</td><td>0.5369196534</td></tr>\n",
       "\t<tr><td>0.0011602507</td><td>0.28256652</td><td>0.7162731886</td></tr>\n",
       "\t<tr><td>0.0015923211</td><td>0.34362632</td><td>0.6547814608</td></tr>\n",
       "\t<tr><td>0.0007763179</td><td>0.32665557</td><td>0.6725680828</td></tr>\n",
       "</tbody>\n",
       "</table>\n"
      ],
      "text/latex": [
       "A matrix: 36 × 3 of type dbl\n",
       "\\begin{tabular}{lll}\n",
       "\t 0.9711191654 & 0.02856793 & 0.0003128983\\\\\n",
       "\t 0.9617956877 & 0.03771395 & 0.0004903693\\\\\n",
       "\t 0.9340456724 & 0.06446344 & 0.0014909866\\\\\n",
       "\t 0.9570377469 & 0.04228158 & 0.0006806048\\\\\n",
       "\t 0.9399799705 & 0.05898670 & 0.0010332348\\\\\n",
       "\t 0.9555124044 & 0.04381717 & 0.0006704688\\\\\n",
       "\t 0.9174746275 & 0.08071769 & 0.0018076770\\\\\n",
       "\t 0.9697167277 & 0.03003249 & 0.0002508159\\\\\n",
       "\t 0.9742140174 & 0.02555714 & 0.0002289328\\\\\n",
       "\t 0.0144662410 & 0.59029931 & 0.3952344954\\\\\n",
       "\t 0.0132303117 & 0.53479439 & 0.4519752860\\\\\n",
       "\t 0.0173192900 & 0.61320233 & 0.3694783449\\\\\n",
       "\t 0.0154057918 & 0.62926316 & 0.3553310037\\\\\n",
       "\t 0.0257710684 & 0.62937802 & 0.3448508978\\\\\n",
       "\t 0.0477315187 & 0.58200449 & 0.3702639043\\\\\n",
       "\t 0.0380745716 & 0.66119677 & 0.3007286787\\\\\n",
       "\t 0.0321743116 & 0.63883960 & 0.3289861381\\\\\n",
       "\t 0.0140859131 & 0.57264924 & 0.4132648110\\\\\n",
       "\t 0.0483506359 & 0.62626863 & 0.3253807127\\\\\n",
       "\t 0.0210135002 & 0.67154461 & 0.3074419796\\\\\n",
       "\t 0.0246773027 & 0.57754713 & 0.3977755606\\\\\n",
       "\t 0.0931159332 & 0.64711577 & 0.2597682774\\\\\n",
       "\t 0.0239964686 & 0.61309892 & 0.3629045784\\\\\n",
       "\t 0.0001477417 & 0.19198221 & 0.8078700900\\\\\n",
       "\t 0.0004369796 & 0.22700766 & 0.7725552917\\\\\n",
       "\t 0.0002873807 & 0.18605666 & 0.8136560321\\\\\n",
       "\t 0.0027003640 & 0.36165550 & 0.6356440783\\\\\n",
       "\t 0.0008635161 & 0.33918387 & 0.6599525809\\\\\n",
       "\t 0.0036158373 & 0.40059230 & 0.5957918763\\\\\n",
       "\t 0.0002776352 & 0.19945315 & 0.8002692461\\\\\n",
       "\t 0.0017801864 & 0.39978057 & 0.5984392762\\\\\n",
       "\t 0.0018031069 & 0.41072458 & 0.5874722600\\\\\n",
       "\t 0.0044511859 & 0.45862922 & 0.5369196534\\\\\n",
       "\t 0.0011602507 & 0.28256652 & 0.7162731886\\\\\n",
       "\t 0.0015923211 & 0.34362632 & 0.6547814608\\\\\n",
       "\t 0.0007763179 & 0.32665557 & 0.6725680828\\\\\n",
       "\\end{tabular}\n"
      ],
      "text/markdown": [
       "\n",
       "A matrix: 36 × 3 of type dbl\n",
       "\n",
       "| 0.9711191654 | 0.02856793 | 0.0003128983 |\n",
       "| 0.9617956877 | 0.03771395 | 0.0004903693 |\n",
       "| 0.9340456724 | 0.06446344 | 0.0014909866 |\n",
       "| 0.9570377469 | 0.04228158 | 0.0006806048 |\n",
       "| 0.9399799705 | 0.05898670 | 0.0010332348 |\n",
       "| 0.9555124044 | 0.04381717 | 0.0006704688 |\n",
       "| 0.9174746275 | 0.08071769 | 0.0018076770 |\n",
       "| 0.9697167277 | 0.03003249 | 0.0002508159 |\n",
       "| 0.9742140174 | 0.02555714 | 0.0002289328 |\n",
       "| 0.0144662410 | 0.59029931 | 0.3952344954 |\n",
       "| 0.0132303117 | 0.53479439 | 0.4519752860 |\n",
       "| 0.0173192900 | 0.61320233 | 0.3694783449 |\n",
       "| 0.0154057918 | 0.62926316 | 0.3553310037 |\n",
       "| 0.0257710684 | 0.62937802 | 0.3448508978 |\n",
       "| 0.0477315187 | 0.58200449 | 0.3702639043 |\n",
       "| 0.0380745716 | 0.66119677 | 0.3007286787 |\n",
       "| 0.0321743116 | 0.63883960 | 0.3289861381 |\n",
       "| 0.0140859131 | 0.57264924 | 0.4132648110 |\n",
       "| 0.0483506359 | 0.62626863 | 0.3253807127 |\n",
       "| 0.0210135002 | 0.67154461 | 0.3074419796 |\n",
       "| 0.0246773027 | 0.57754713 | 0.3977755606 |\n",
       "| 0.0931159332 | 0.64711577 | 0.2597682774 |\n",
       "| 0.0239964686 | 0.61309892 | 0.3629045784 |\n",
       "| 0.0001477417 | 0.19198221 | 0.8078700900 |\n",
       "| 0.0004369796 | 0.22700766 | 0.7725552917 |\n",
       "| 0.0002873807 | 0.18605666 | 0.8136560321 |\n",
       "| 0.0027003640 | 0.36165550 | 0.6356440783 |\n",
       "| 0.0008635161 | 0.33918387 | 0.6599525809 |\n",
       "| 0.0036158373 | 0.40059230 | 0.5957918763 |\n",
       "| 0.0002776352 | 0.19945315 | 0.8002692461 |\n",
       "| 0.0017801864 | 0.39978057 | 0.5984392762 |\n",
       "| 0.0018031069 | 0.41072458 | 0.5874722600 |\n",
       "| 0.0044511859 | 0.45862922 | 0.5369196534 |\n",
       "| 0.0011602507 | 0.28256652 | 0.7162731886 |\n",
       "| 0.0015923211 | 0.34362632 | 0.6547814608 |\n",
       "| 0.0007763179 | 0.32665557 | 0.6725680828 |\n",
       "\n"
      ],
      "text/plain": [
       "      [,1]         [,2]       [,3]        \n",
       " [1,] 0.9711191654 0.02856793 0.0003128983\n",
       " [2,] 0.9617956877 0.03771395 0.0004903693\n",
       " [3,] 0.9340456724 0.06446344 0.0014909866\n",
       " [4,] 0.9570377469 0.04228158 0.0006806048\n",
       " [5,] 0.9399799705 0.05898670 0.0010332348\n",
       " [6,] 0.9555124044 0.04381717 0.0006704688\n",
       " [7,] 0.9174746275 0.08071769 0.0018076770\n",
       " [8,] 0.9697167277 0.03003249 0.0002508159\n",
       " [9,] 0.9742140174 0.02555714 0.0002289328\n",
       "[10,] 0.0144662410 0.59029931 0.3952344954\n",
       "[11,] 0.0132303117 0.53479439 0.4519752860\n",
       "[12,] 0.0173192900 0.61320233 0.3694783449\n",
       "[13,] 0.0154057918 0.62926316 0.3553310037\n",
       "[14,] 0.0257710684 0.62937802 0.3448508978\n",
       "[15,] 0.0477315187 0.58200449 0.3702639043\n",
       "[16,] 0.0380745716 0.66119677 0.3007286787\n",
       "[17,] 0.0321743116 0.63883960 0.3289861381\n",
       "[18,] 0.0140859131 0.57264924 0.4132648110\n",
       "[19,] 0.0483506359 0.62626863 0.3253807127\n",
       "[20,] 0.0210135002 0.67154461 0.3074419796\n",
       "[21,] 0.0246773027 0.57754713 0.3977755606\n",
       "[22,] 0.0931159332 0.64711577 0.2597682774\n",
       "[23,] 0.0239964686 0.61309892 0.3629045784\n",
       "[24,] 0.0001477417 0.19198221 0.8078700900\n",
       "[25,] 0.0004369796 0.22700766 0.7725552917\n",
       "[26,] 0.0002873807 0.18605666 0.8136560321\n",
       "[27,] 0.0027003640 0.36165550 0.6356440783\n",
       "[28,] 0.0008635161 0.33918387 0.6599525809\n",
       "[29,] 0.0036158373 0.40059230 0.5957918763\n",
       "[30,] 0.0002776352 0.19945315 0.8002692461\n",
       "[31,] 0.0017801864 0.39978057 0.5984392762\n",
       "[32,] 0.0018031069 0.41072458 0.5874722600\n",
       "[33,] 0.0044511859 0.45862922 0.5369196534\n",
       "[34,] 0.0011602507 0.28256652 0.7162731886\n",
       "[35,] 0.0015923211 0.34362632 0.6547814608\n",
       "[36,] 0.0007763179 0.32665557 0.6725680828"
      ]
     },
     "metadata": {},
     "output_type": "display_data"
    }
   ],
   "source": [
    "p = predict(model, x_test)\n",
    "p"
   ]
  },
  {
   "cell_type": "code",
   "execution_count": 20,
   "id": "9f7a568c",
   "metadata": {},
   "outputs": [],
   "source": [
    "?apply"
   ]
  },
  {
   "cell_type": "code",
   "execution_count": 11,
   "id": "93ce6695",
   "metadata": {},
   "outputs": [
    {
     "data": {
      "text/html": [
       "<style>\n",
       ".list-inline {list-style: none; margin:0; padding: 0}\n",
       ".list-inline>li {display: inline-block}\n",
       ".list-inline>li:not(:last-child)::after {content: \"\\00b7\"; padding: 0 .5ex}\n",
       "</style>\n",
       "<ol class=list-inline><li>0</li><li>0</li><li>0</li><li>0</li><li>0</li><li>0</li><li>0</li><li>0</li><li>0</li><li>1</li><li>1</li><li>1</li><li>1</li><li>1</li><li>1</li><li>1</li><li>1</li><li>1</li><li>1</li><li>1</li><li>1</li><li>1</li><li>1</li><li>2</li><li>2</li><li>2</li><li>2</li><li>2</li><li>2</li><li>2</li><li>2</li><li>2</li><li>2</li><li>2</li><li>2</li><li>2</li></ol>\n"
      ],
      "text/latex": [
       "\\begin{enumerate*}\n",
       "\\item 0\n",
       "\\item 0\n",
       "\\item 0\n",
       "\\item 0\n",
       "\\item 0\n",
       "\\item 0\n",
       "\\item 0\n",
       "\\item 0\n",
       "\\item 0\n",
       "\\item 1\n",
       "\\item 1\n",
       "\\item 1\n",
       "\\item 1\n",
       "\\item 1\n",
       "\\item 1\n",
       "\\item 1\n",
       "\\item 1\n",
       "\\item 1\n",
       "\\item 1\n",
       "\\item 1\n",
       "\\item 1\n",
       "\\item 1\n",
       "\\item 1\n",
       "\\item 2\n",
       "\\item 2\n",
       "\\item 2\n",
       "\\item 2\n",
       "\\item 2\n",
       "\\item 2\n",
       "\\item 2\n",
       "\\item 2\n",
       "\\item 2\n",
       "\\item 2\n",
       "\\item 2\n",
       "\\item 2\n",
       "\\item 2\n",
       "\\end{enumerate*}\n"
      ],
      "text/markdown": [
       "1. 0\n",
       "2. 0\n",
       "3. 0\n",
       "4. 0\n",
       "5. 0\n",
       "6. 0\n",
       "7. 0\n",
       "8. 0\n",
       "9. 0\n",
       "10. 1\n",
       "11. 1\n",
       "12. 1\n",
       "13. 1\n",
       "14. 1\n",
       "15. 1\n",
       "16. 1\n",
       "17. 1\n",
       "18. 1\n",
       "19. 1\n",
       "20. 1\n",
       "21. 1\n",
       "22. 1\n",
       "23. 1\n",
       "24. 2\n",
       "25. 2\n",
       "26. 2\n",
       "27. 2\n",
       "28. 2\n",
       "29. 2\n",
       "30. 2\n",
       "31. 2\n",
       "32. 2\n",
       "33. 2\n",
       "34. 2\n",
       "35. 2\n",
       "36. 2\n",
       "\n",
       "\n"
      ],
      "text/plain": [
       " [1] 0 0 0 0 0 0 0 0 0 1 1 1 1 1 1 1 1 1 1 1 1 1 1 2 2 2 2 2 2 2 2 2 2 2 2 2"
      ]
     },
     "metadata": {},
     "output_type": "display_data"
    }
   ],
   "source": [
    "apply(p,1, which.max)-1"
   ]
  },
  {
   "cell_type": "code",
   "execution_count": 24,
   "id": "98682d20",
   "metadata": {},
   "outputs": [
    {
     "data": {
      "text/html": [
       "<style>\n",
       ".list-inline {list-style: none; margin:0; padding: 0}\n",
       ".list-inline>li {display: inline-block}\n",
       ".list-inline>li:not(:last-child)::after {content: \"\\00b7\"; padding: 0 .5ex}\n",
       "</style>\n",
       "<ol class=list-inline><li>0</li><li>0</li><li>0</li><li>0</li><li>0</li><li>0</li><li>0</li><li>0</li><li>0</li><li>0</li><li>0</li><li>0</li><li>0</li><li>0</li><li>0</li><li>0</li><li>0</li><li>0</li><li>0</li><li>0</li><li>0</li><li>0</li><li>0</li><li>1</li><li>1</li><li>1</li><li>1</li><li>1</li><li>1</li><li>1</li><li>1</li><li>1</li><li>1</li><li>1</li><li>1</li><li>1</li><li>1</li><li>1</li><li>1</li><li>1</li><li>2</li><li>2</li><li>2</li><li>2</li><li>2</li><li>2</li><li>2</li><li>2</li><li>2</li><li>2</li><li>2</li><li>2</li><li>2</li><li>2</li></ol>\n"
      ],
      "text/latex": [
       "\\begin{enumerate*}\n",
       "\\item 0\n",
       "\\item 0\n",
       "\\item 0\n",
       "\\item 0\n",
       "\\item 0\n",
       "\\item 0\n",
       "\\item 0\n",
       "\\item 0\n",
       "\\item 0\n",
       "\\item 0\n",
       "\\item 0\n",
       "\\item 0\n",
       "\\item 0\n",
       "\\item 0\n",
       "\\item 0\n",
       "\\item 0\n",
       "\\item 0\n",
       "\\item 0\n",
       "\\item 0\n",
       "\\item 0\n",
       "\\item 0\n",
       "\\item 0\n",
       "\\item 0\n",
       "\\item 1\n",
       "\\item 1\n",
       "\\item 1\n",
       "\\item 1\n",
       "\\item 1\n",
       "\\item 1\n",
       "\\item 1\n",
       "\\item 1\n",
       "\\item 1\n",
       "\\item 1\n",
       "\\item 1\n",
       "\\item 1\n",
       "\\item 1\n",
       "\\item 1\n",
       "\\item 1\n",
       "\\item 1\n",
       "\\item 1\n",
       "\\item 2\n",
       "\\item 2\n",
       "\\item 2\n",
       "\\item 2\n",
       "\\item 2\n",
       "\\item 2\n",
       "\\item 2\n",
       "\\item 2\n",
       "\\item 2\n",
       "\\item 2\n",
       "\\item 2\n",
       "\\item 2\n",
       "\\item 2\n",
       "\\item 2\n",
       "\\end{enumerate*}\n"
      ],
      "text/markdown": [
       "1. 0\n",
       "2. 0\n",
       "3. 0\n",
       "4. 0\n",
       "5. 0\n",
       "6. 0\n",
       "7. 0\n",
       "8. 0\n",
       "9. 0\n",
       "10. 0\n",
       "11. 0\n",
       "12. 0\n",
       "13. 0\n",
       "14. 0\n",
       "15. 0\n",
       "16. 0\n",
       "17. 0\n",
       "18. 0\n",
       "19. 0\n",
       "20. 0\n",
       "21. 0\n",
       "22. 0\n",
       "23. 0\n",
       "24. 1\n",
       "25. 1\n",
       "26. 1\n",
       "27. 1\n",
       "28. 1\n",
       "29. 1\n",
       "30. 1\n",
       "31. 1\n",
       "32. 1\n",
       "33. 1\n",
       "34. 1\n",
       "35. 1\n",
       "36. 1\n",
       "37. 1\n",
       "38. 1\n",
       "39. 1\n",
       "40. 1\n",
       "41. 2\n",
       "42. 2\n",
       "43. 2\n",
       "44. 2\n",
       "45. 2\n",
       "46. 2\n",
       "47. 2\n",
       "48. 2\n",
       "49. 2\n",
       "50. 2\n",
       "51. 2\n",
       "52. 2\n",
       "53. 2\n",
       "54. 2\n",
       "\n",
       "\n"
      ],
      "text/plain": [
       " [1] 0 0 0 0 0 0 0 0 0 0 0 0 0 0 0 0 0 0 0 0 0 0 0 1 1 1 1 1 1 1 1 1 1 1 1 1 1 1\n",
       "[39] 1 1 2 2 2 2 2 2 2 2 2 2 2 2 2 2"
      ]
     },
     "metadata": {},
     "output_type": "display_data"
    }
   ],
   "source": [
    "apply(y_test,1, which.max)-1"
   ]
  },
  {
   "cell_type": "code",
   "execution_count": 26,
   "id": "fca92826",
   "metadata": {
    "collapsed": true
   },
   "outputs": [
    {
     "name": "stdout",
     "output_type": "stream",
     "text": [
      "Model: \"sequential_1\"\n",
      "________________________________________________________________________________\n",
      " Layer (type)                       Output Shape                    Param #     \n",
      "================================================================================\n",
      " dense_5 (Dense)                    (None, 16)                      80          \n",
      "                                                                                \n",
      " dense_4 (Dense)                    (None, 16)                      272         \n",
      "                                                                                \n",
      " dense_3 (Dense)                    (None, 3)                       51          \n",
      "                                                                                \n",
      "================================================================================\n",
      "Total params: 403\n",
      "Trainable params: 403\n",
      "Non-trainable params: 0\n",
      "________________________________________________________________________________\n"
     ]
    }
   ],
   "source": [
    "# ##########모델 만들기\n",
    "# model <- keras_model_sequential() %>% \n",
    "#   layer_dense(units = 16, activation = \"relu\", input_shape = ncol(x_train)) %>% \n",
    "#   layer_dense(units = 16, activation = \"relu\") %>%\n",
    "#   layer_dense(units = ncol(y_train), activation = \"softmax\")\n",
    "\n",
    "# model %>% compile(\n",
    "#   optimizer = \"rmsprop\",\n",
    "#   loss = \"categorical_crossentropy\",\n",
    "#   metrics = c(\"accuracy\")\n",
    "# )\n",
    "# summary(model)\n"
   ]
  },
  {
   "cell_type": "code",
   "execution_count": 12,
   "id": "da14ff82",
   "metadata": {},
   "outputs": [
    {
     "name": "stderr",
     "output_type": "stream",
     "text": [
      "`geom_smooth()` using formula 'y ~ x'\n",
      "\n"
     ]
    },
    {
     "data": {
      "text/html": [
       "<style>\n",
       ".dl-inline {width: auto; margin:0; padding: 0}\n",
       ".dl-inline>dt, .dl-inline>dd {float: none; width: auto; display: inline-block}\n",
       ".dl-inline>dt::after {content: \":\\0020\"; padding-right: .5ex}\n",
       ".dl-inline>dt:not(:first-of-type) {padding-left: .5ex}\n",
       "</style><dl class=dl-inline><dt>loss</dt><dd>0.294981837272644</dd><dt>accuracy</dt><dd>0.956140339374542</dd></dl>\n"
      ],
      "text/latex": [
       "\\begin{description*}\n",
       "\\item[loss] 0.294981837272644\n",
       "\\item[accuracy] 0.956140339374542\n",
       "\\end{description*}\n"
      ],
      "text/markdown": [
       "loss\n",
       ":   0.294981837272644accuracy\n",
       ":   0.956140339374542\n",
       "\n"
      ],
      "text/plain": [
       "     loss  accuracy \n",
       "0.2949818 0.9561403 "
      ]
     },
     "metadata": {},
     "output_type": "display_data"
    },
    {
     "data": {
      "text/html": [
       "<style>\n",
       ".dl-inline {width: auto; margin:0; padding: 0}\n",
       ".dl-inline>dt, .dl-inline>dd {float: none; width: auto; display: inline-block}\n",
       ".dl-inline>dt::after {content: \":\\0020\"; padding-right: .5ex}\n",
       ".dl-inline>dt:not(:first-of-type) {padding-left: .5ex}\n",
       "</style><dl class=dl-inline><dt>loss</dt><dd>0.344647228717804</dd><dt>accuracy</dt><dd>1</dd></dl>\n"
      ],
      "text/latex": [
       "\\begin{description*}\n",
       "\\item[loss] 0.344647228717804\n",
       "\\item[accuracy] 1\n",
       "\\end{description*}\n"
      ],
      "text/markdown": [
       "loss\n",
       ":   0.344647228717804accuracy\n",
       ":   1\n",
       "\n"
      ],
      "text/plain": [
       "     loss  accuracy \n",
       "0.3446472 1.0000000 "
      ]
     },
     "metadata": {},
     "output_type": "display_data"
    },
    {
     "data": {
      "image/png": "[encoded data removed]",
      "text/plain": [
       "plot without title"
      ]
     },
     "metadata": {
      "image/png": {
       "height": 420,
       "width": 420
      }
     },
     "output_type": "display_data"
    }
   ],
   "source": [
    "plot(history)\n",
    "#############train에 적용\n",
    "result1=model %>% evaluate(x_train, y_train)\n",
    "result1 \n",
    "###############test에 적용\n",
    "result2=model %>% evaluate(x_test, y_test)\n",
    "result2 "
   ]
  },
  {
   "cell_type": "code",
   "execution_count": 22,
   "id": "8b272e2c",
   "metadata": {},
   "outputs": [
    {
     "name": "stderr",
     "output_type": "stream",
     "text": [
      "-- \u001b[1mAttaching packages\u001b[22m ---------------------------------------------------------------------------- tidyverse 1.3.1 --\n",
      "\n",
      "\u001b[32mv\u001b[39m \u001b[34mggplot2\u001b[39m 3.3.5     \u001b[32mv\u001b[39m \u001b[34mpurrr  \u001b[39m 0.3.4\n",
      "\u001b[32mv\u001b[39m \u001b[34mtibble \u001b[39m 3.1.6     \u001b[32mv\u001b[39m \u001b[34mdplyr  \u001b[39m 1.0.8\n",
      "\u001b[32mv\u001b[39m \u001b[34mtidyr  \u001b[39m 1.2.0     \u001b[32mv\u001b[39m \u001b[34mstringr\u001b[39m 1.4.0\n",
      "\u001b[32mv\u001b[39m \u001b[34mreadr  \u001b[39m 2.1.2     \u001b[32mv\u001b[39m \u001b[34mforcats\u001b[39m 0.5.1\n",
      "\n",
      "-- \u001b[1mConflicts\u001b[22m ------------------------------------------------------------------------------- tidyverse_conflicts() --\n",
      "\u001b[31mx\u001b[39m \u001b[34mtidyr\u001b[39m::\u001b[32mextract()\u001b[39m   masks \u001b[34mmagrittr\u001b[39m::extract()\n",
      "\u001b[31mx\u001b[39m \u001b[34mdplyr\u001b[39m::\u001b[32mfilter()\u001b[39m    masks \u001b[34mstats\u001b[39m::filter()\n",
      "\u001b[31mx\u001b[39m \u001b[34mdplyr\u001b[39m::\u001b[32mlag()\u001b[39m       masks \u001b[34mstats\u001b[39m::lag()\n",
      "\u001b[31mx\u001b[39m \u001b[34mpurrr\u001b[39m::\u001b[32mset_names()\u001b[39m masks \u001b[34mmagrittr\u001b[39m::set_names()\n",
      "\n"
     ]
    }
   ],
   "source": [
    "library(tidyverse)"
   ]
  },
  {
   "cell_type": "markdown",
   "id": "815c5827",
   "metadata": {},
   "source": [
    "### minst 데이터셋"
   ]
  },
  {
   "cell_type": "code",
   "execution_count": 2,
   "id": "2255b7eb",
   "metadata": {},
   "outputs": [
    {
     "name": "stderr",
     "output_type": "stream",
     "text": [
      "Loaded Tensorflow version 2.8.0\n",
      "\n"
     ]
    }
   ],
   "source": [
    "mnist_lst <- dataset_mnist()"
   ]
  },
  {
   "cell_type": "code",
   "execution_count": 3,
   "id": "ff3f7219",
   "metadata": {},
   "outputs": [
    {
     "data": {
      "text/html": [
       "<style>\n",
       ".list-inline {list-style: none; margin:0; padding: 0}\n",
       ".list-inline>li {display: inline-block}\n",
       ".list-inline>li:not(:last-child)::after {content: \"\\00b7\"; padding: 0 .5ex}\n",
       "</style>\n",
       "<ol class=list-inline><li>60000</li><li>28</li><li>28</li></ol>\n"
      ],
      "text/latex": [
       "\\begin{enumerate*}\n",
       "\\item 60000\n",
       "\\item 28\n",
       "\\item 28\n",
       "\\end{enumerate*}\n"
      ],
      "text/markdown": [
       "1. 60000\n",
       "2. 28\n",
       "3. 28\n",
       "\n",
       "\n"
      ],
      "text/plain": [
       "[1] 60000    28    28"
      ]
     },
     "metadata": {},
     "output_type": "display_data"
    }
   ],
   "source": [
    "dim( mnist_lst$train$x )"
   ]
  },
  {
   "cell_type": "code",
   "execution_count": 4,
   "id": "348f902d",
   "metadata": {},
   "outputs": [
    {
     "data": {
      "text/html": [
       "'array'"
      ],
      "text/latex": [
       "'array'"
      ],
      "text/markdown": [
       "'array'"
      ],
      "text/plain": [
       "[1] \"array\""
      ]
     },
     "metadata": {},
     "output_type": "display_data"
    }
   ],
   "source": [
    "class(mnist_lst$train$x)"
   ]
  },
  {
   "cell_type": "code",
   "execution_count": 5,
   "id": "eb8d0508",
   "metadata": {},
   "outputs": [
    {
     "data": {
      "text/html": [
       "60000"
      ],
      "text/latex": [
       "60000"
      ],
      "text/markdown": [
       "60000"
      ],
      "text/plain": [
       "[1] 60000"
      ]
     },
     "metadata": {},
     "output_type": "display_data"
    }
   ],
   "source": [
    "dim( mnist_lst$train$y )"
   ]
  },
  {
   "cell_type": "code",
   "execution_count": 7,
   "id": "573de18b",
   "metadata": {},
   "outputs": [],
   "source": [
    "train_x <- mnist_lst$train$x\n",
    "train_y <- mnist_lst$train$y\n",
    "\n",
    "# 검증데이터\n",
    "test_x <- mnist_lst$test$x\n",
    "test_y <- mnist_lst$test$y"
   ]
  },
  {
   "cell_type": "code",
   "execution_count": 8,
   "id": "b446f961",
   "metadata": {},
   "outputs": [],
   "source": [
    "train_x <- array( as.numeric(train_x), dim = c(60000,28,28,1) )"
   ]
  },
  {
   "cell_type": "code",
   "execution_count": 10,
   "id": "050bc2c7",
   "metadata": {},
   "outputs": [
    {
     "data": {
      "text/html": [
       "<style>\n",
       ".list-inline {list-style: none; margin:0; padding: 0}\n",
       ".list-inline>li {display: inline-block}\n",
       ".list-inline>li:not(:last-child)::after {content: \"\\00b7\"; padding: 0 .5ex}\n",
       "</style>\n",
       "<ol class=list-inline><li>60000</li><li>28</li><li>28</li><li>1</li></ol>\n"
      ],
      "text/latex": [
       "\\begin{enumerate*}\n",
       "\\item 60000\n",
       "\\item 28\n",
       "\\item 28\n",
       "\\item 1\n",
       "\\end{enumerate*}\n"
      ],
      "text/markdown": [
       "1. 60000\n",
       "2. 28\n",
       "3. 28\n",
       "4. 1\n",
       "\n",
       "\n"
      ],
      "text/plain": [
       "[1] 60000    28    28     1"
      ]
     },
     "metadata": {},
     "output_type": "display_data"
    }
   ],
   "source": [
    "dim(train_x )"
   ]
  },
  {
   "cell_type": "code",
   "execution_count": null,
   "id": "3fcf085a",
   "metadata": {},
   "outputs": [],
   "source": [
    "\n",
    "# RGB 값을 [0,1] 범위로 변환\n",
    "train_x <- train_x / 255\n",
    "test_x <- test_x / 255\n",
    "\n",
    "cat(dim(train_x)[[1]], '개: 훈련표본\\n') #60000 훈련표본"
   ]
  },
  {
   "cell_type": "code",
   "execution_count": 29,
   "id": "df53fab4",
   "metadata": {},
   "outputs": [],
   "source": [
    "?image"
   ]
  },
  {
   "cell_type": "code",
   "execution_count": 33,
   "id": "4457c04e",
   "metadata": {},
   "outputs": [
    {
     "data": {
      "image/png": "[encoded data removed]",
      "text/plain": [
       "plot without title"
      ]
     },
     "metadata": {
      "image/png": {
       "height": 420,
       "width": 420
      }
     },
     "output_type": "display_data"
    }
   ],
   "source": [
    "image(train_x[1,,,], col=grey.colors(255), axes=FALSE)"
   ]
  },
  {
   "cell_type": "code",
   "execution_count": 8,
   "id": "78cbcac5",
   "metadata": {
    "collapsed": true
   },
   "outputs": [
    {
     "name": "stderr",
     "output_type": "stream",
     "text": [
      "Warning message:\n",
      "\"`tbl_df()` was deprecated in dplyr 1.0.0.\n",
      "Please use `tibble::as_tibble()` instead.\n",
      "\u001b[90mThis warning is displayed once every 8 hours.\u001b[39m\n",
      "\u001b[90mCall `lifecycle::last_lifecycle_warnings()` to see where this warning was generated.\u001b[39m\"\n"
     ]
    },
    {
     "data": {
      "image/png": "[encoded data removed]",
      "text/plain": [
       "plot without title"
      ]
     },
     "metadata": {
      "image/png": {
       "height": 420,
       "width": 420
      }
     },
     "output_type": "display_data"
    }
   ],
   "source": [
    "mnist_smpl <- mnist_lst$train$x %>% tbl_df() %>% \n",
    "    sample_n(50)\n",
    "\n",
    "par(mfrow=c(5,10), mar=c(0.1,0.1,0.1,0.1))\n",
    "\n",
    "display_digit <- function(input){\n",
    "    m <- matrix(unlist(input), nrow = 28, byrow = FALSE)\n",
    "    m <- t(apply(m, 2, rev))\n",
    "    image(m, col=grey.colors(255), axes=FALSE)\n",
    "}\n",
    "\n",
    "for(i in 1:50) {\n",
    "    display_digit(mnist_smpl[i,])\n",
    "}"
   ]
  },
  {
   "cell_type": "code",
   "execution_count": 11,
   "id": "9ecfa844",
   "metadata": {},
   "outputs": [],
   "source": [
    "model <- keras_model_sequential() %>% \n",
    "  layer_conv_2d(filters = 32, kernel_size = c(3,3), activation = \"relu\", \n",
    "                input_shape = c(28,28,1)) %>% \n",
    "  layer_max_pooling_2d(pool_size = c(2,2)) %>% \n",
    "  layer_conv_2d(filters = 64, kernel_size = c(3,3), activation = \"relu\") %>% \n",
    "  layer_max_pooling_2d(pool_size = c(2,2)) %>% \n",
    "  layer_conv_2d(filters = 64, kernel_size = c(3,3), activation = \"relu\")\n",
    "\n",
    "model %>% \n",
    "  layer_flatten() %>% \n",
    "  layer_dense(units = 64, activation = \"relu\") %>% \n",
    "  layer_dense(units = 10, activation = \"softmax\")\n",
    "\n",
    "\n",
    "model %>% compile(\n",
    "  optimizer = \"adam\",\n",
    "  loss = \"sparse_categorical_crossentropy\",\n",
    "  metrics = \"accuracy\"\n",
    ")\n",
    "\n",
    "history <- model %>%  fit(  x = train_x, y =train_y,   epochs = 10  )"
   ]
  },
  {
   "cell_type": "code",
   "execution_count": 34,
   "id": "8e3e7683",
   "metadata": {},
   "outputs": [
    {
     "data": {
      "text/html": [
       "<style>\n",
       ".list-inline {list-style: none; margin:0; padding: 0}\n",
       ".list-inline>li {display: inline-block}\n",
       ".list-inline>li:not(:last-child)::after {content: \"\\00b7\"; padding: 0 .5ex}\n",
       "</style>\n",
       "<ol class=list-inline><li>28</li><li>28</li></ol>\n"
      ],
      "text/latex": [
       "\\begin{enumerate*}\n",
       "\\item 28\n",
       "\\item 28\n",
       "\\end{enumerate*}\n"
      ],
      "text/markdown": [
       "1. 28\n",
       "2. 28\n",
       "\n",
       "\n"
      ],
      "text/plain": [
       "[1] 28 28"
      ]
     },
     "metadata": {},
     "output_type": "display_data"
    }
   ],
   "source": [
    "dim( train_x[1,,,] )\n",
    "array( as.numeric(train_x[1,,,]), dim = c(1,28,28,1) )"
   ]
  },
  {
   "cell_type": "code",
   "execution_count": 36,
   "id": "62a1a343",
   "metadata": {},
   "outputs": [
    {
     "data": {
      "text/html": [
       "5"
      ],
      "text/latex": [
       "5"
      ],
      "text/markdown": [
       "5"
      ],
      "text/plain": [
       "[1] 5"
      ]
     },
     "metadata": {},
     "output_type": "display_data"
    }
   ],
   "source": [
    "p= predict(model, array( as.numeric(train_x[1,,,]), dim = c(1,28,28,1) )  )\n",
    "apply(p,1, which.max)-1"
   ]
  },
  {
   "cell_type": "markdown",
   "id": "006d8eea",
   "metadata": {},
   "source": [
    "## image make"
   ]
  },
  {
   "cell_type": "code",
   "execution_count": 1,
   "id": "4cbfcb73",
   "metadata": {},
   "outputs": [],
   "source": [
    "library(keras)"
   ]
  },
  {
   "cell_type": "code",
   "execution_count": 2,
   "id": "824332c7",
   "metadata": {},
   "outputs": [
    {
     "name": "stderr",
     "output_type": "stream",
     "text": [
      "Loaded Tensorflow version 2.8.0\n",
      "\n"
     ]
    }
   ],
   "source": [
    "dataGen = image_data_generator(rescale=1/255)"
   ]
  },
  {
   "cell_type": "code",
   "execution_count": 9,
   "id": "22ce0aea",
   "metadata": {},
   "outputs": [],
   "source": [
    "?flow_images_from_directory"
   ]
  },
  {
   "cell_type": "code",
   "execution_count": 3,
   "id": "51de5f16",
   "metadata": {},
   "outputs": [],
   "source": [
    "trainGen = flow_images_from_directory('./dogcat', dataGen,target_size=c(98,98) )"
   ]
  },
  {
   "cell_type": "code",
   "execution_count": 4,
   "id": "2d9de867",
   "metadata": {},
   "outputs": [
    {
     "data": {
      "text/plain": [
       "<keras.preprocessing.image.DirectoryIterator>"
      ]
     },
     "metadata": {},
     "output_type": "display_data"
    }
   ],
   "source": [
    "trainGen"
   ]
  },
  {
   "cell_type": "code",
   "execution_count": 19,
   "id": "cfcaa9eb",
   "metadata": {},
   "outputs": [
    {
     "data": {
      "text/html": [
       "<dl>\n",
       "\t<dt>$cat</dt>\n",
       "\t\t<dd>0</dd>\n",
       "\t<dt>$dog</dt>\n",
       "\t\t<dd>1</dd>\n",
       "</dl>\n"
      ],
      "text/latex": [
       "\\begin{description}\n",
       "\\item[\\$cat] 0\n",
       "\\item[\\$dog] 1\n",
       "\\end{description}\n"
      ],
      "text/markdown": [
       "$cat\n",
       ":   0\n",
       "$dog\n",
       ":   1\n",
       "\n",
       "\n"
      ],
      "text/plain": [
       "$cat\n",
       "[1] 0\n",
       "\n",
       "$dog\n",
       "[1] 1\n"
      ]
     },
     "metadata": {},
     "output_type": "display_data"
    }
   ],
   "source": [
    "trainGen$class_indices"
   ]
  },
  {
   "cell_type": "code",
   "execution_count": 7,
   "id": "7ea9d526",
   "metadata": {},
   "outputs": [],
   "source": [
    "model <- keras_model_sequential() %>% \n",
    "  layer_conv_2d(filters = 32, kernel_size = c(3,3), activation = \"relu\", \n",
    "                input_shape = c(98,98,3)) %>% \n",
    "  layer_max_pooling_2d(pool_size = c(2,2)) %>% \n",
    "  layer_conv_2d(filters = 64, kernel_size = c(3,3), activation = \"relu\") %>% \n",
    "  layer_max_pooling_2d(pool_size = c(2,2)) %>% \n",
    "  layer_conv_2d(filters = 64, kernel_size = c(3,3), activation = \"relu\")\n",
    "\n",
    "model %>% \n",
    "  layer_flatten() %>% \n",
    "  layer_dense(units = 64, activation = \"relu\") %>% \n",
    "  layer_dense(units = 2, activation = \"softmax\")\n",
    "\n",
    "\n",
    "model %>% compile(\n",
    "  optimizer = \"adam\",\n",
    "  loss = \"categorical_crossentropy\",\n",
    "  metrics = \"accuracy\"\n",
    ")\n",
    "history <- model %>%  fit(  trainGen,   epochs = 10  )"
   ]
  },
  {
   "cell_type": "code",
   "execution_count": 11,
   "id": "db459f4b",
   "metadata": {},
   "outputs": [],
   "source": [
    "?image_load"
   ]
  },
  {
   "cell_type": "code",
   "execution_count": 13,
   "id": "b5a3c2fd",
   "metadata": {},
   "outputs": [],
   "source": [
    "testImg = image_load( 'image/dog1.jpg', target_size=c(98,98))"
   ]
  },
  {
   "cell_type": "code",
   "execution_count": 16,
   "id": "d9f02929",
   "metadata": {},
   "outputs": [
    {
     "data": {
      "text/html": [
       "<style>\n",
       ".list-inline {list-style: none; margin:0; padding: 0}\n",
       ".list-inline>li {display: inline-block}\n",
       ".list-inline>li:not(:last-child)::after {content: \"\\00b7\"; padding: 0 .5ex}\n",
       "</style>\n",
       "<ol class=list-inline><li>98</li><li>98</li><li>3</li></ol>\n"
      ],
      "text/latex": [
       "\\begin{enumerate*}\n",
       "\\item 98\n",
       "\\item 98\n",
       "\\item 3\n",
       "\\end{enumerate*}\n"
      ],
      "text/markdown": [
       "1. 98\n",
       "2. 98\n",
       "3. 3\n",
       "\n",
       "\n"
      ],
      "text/plain": [
       "[1] 98 98  3"
      ]
     },
     "metadata": {},
     "output_type": "display_data"
    }
   ],
   "source": [
    "imgArr = image_to_array( testImg )/255\n",
    "dim(imgArr)"
   ]
  },
  {
   "cell_type": "code",
   "execution_count": 18,
   "id": "2e8788f3",
   "metadata": {},
   "outputs": [
    {
     "data": {
      "text/html": [
       "1"
      ],
      "text/latex": [
       "1"
      ],
      "text/markdown": [
       "1"
      ],
      "text/plain": [
       "[1] 1"
      ]
     },
     "metadata": {},
     "output_type": "display_data"
    }
   ],
   "source": [
    "p= predict(model, array( imgArr, dim = c(1,98,98,3) )  )\n",
    "apply(p,1, which.max)-1"
   ]
  },
  {
   "cell_type": "code",
   "execution_count": null,
   "id": "891a9388",
   "metadata": {},
   "outputs": [],
   "source": []
  }
 ],
 "metadata": {
  "kernelspec": {
   "display_name": "R",
   "language": "R",
   "name": "ir"
  },
  "language_info": {
   "codemirror_mode": "r",
   "file_extension": ".r",
   "mimetype": "text/x-r-source",
   "name": "R",
   "pygments_lexer": "r",
   "version": "3.6.1"
  }
 },
 "nbformat": 4,
 "nbformat_minor": 5
}
