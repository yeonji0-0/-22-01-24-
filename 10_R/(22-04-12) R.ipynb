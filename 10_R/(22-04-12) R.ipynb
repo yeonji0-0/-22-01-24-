{
 "cells": [
  {
   "cell_type": "markdown",
   "id": "2f8de846",
   "metadata": {},
   "source": [
    "# 05 cond"
   ]
  },
  {
   "cell_type": "code",
   "execution_count": 1,
   "id": "3a93c77e",
   "metadata": {},
   "outputs": [
    {
     "name": "stdout",
     "output_type": "stream",
     "text": [
      "[1] \"크다\"\n"
     ]
    }
   ],
   "source": [
    "x = 3\n",
    "if( x > 0 ){\n",
    "  print(\"크다\")\n",
    "}else if( x == 0 ){\n",
    "  print(\"작다\")\n",
    "}else{\n",
    "  print(\"아니다\")\n",
    "}"
   ]
  },
  {
   "cell_type": "code",
   "execution_count": 2,
   "id": "c2503d53",
   "metadata": {},
   "outputs": [
    {
     "ename": "ERROR",
     "evalue": "Error in parse(text = x, srcfile = src): <text>:8:0: 예상하지 못한 입력의 끝(end of input)입니다.\n6: }else{\n7:   print(\"아니다\")\n  ^\n",
     "output_type": "error",
     "traceback": [
      "Error in parse(text = x, srcfile = src): <text>:8:0: 예상하지 못한 입력의 끝(end of input)입니다.\n6: }else{\n7:   print(\"아니다\")\n  ^\nTraceback:\n"
     ]
    }
   ],
   "source": [
    "x = -1\n",
    "if( x > 0 ){\n",
    "  print(\"크다\")\n",
    "}else if( x == 0 ){\n",
    "  print(\"작다\")\n",
    "}else{\n",
    "  print(\"아니다\")"
   ]
  },
  {
   "cell_type": "code",
   "execution_count": 3,
   "id": "f5f04522",
   "metadata": {},
   "outputs": [
    {
     "name": "stdout",
     "output_type": "stream",
     "text": [
      "[1] \"1이다\"\n"
     ]
    }
   ],
   "source": [
    "x = \"1\"\n",
    "result = switch(x, \"1\" =\"1이다\", \"2\" =\"2이다\",\"나머지\")\n",
    "print(result)"
   ]
  },
  {
   "cell_type": "code",
   "execution_count": 4,
   "id": "e09e9459",
   "metadata": {},
   "outputs": [
    {
     "name": "stdout",
     "output_type": "stream",
     "text": [
      "[1] \"나머지\"\n"
     ]
    }
   ],
   "source": [
    "x = \"5\"\n",
    "result = switch(x, \"1\" =\"1이다\", \"2\" =\"2이다\",\"나머지\")\n",
    "print(result)"
   ]
  },
  {
   "cell_type": "code",
   "execution_count": 5,
   "id": "8d17a4e3",
   "metadata": {},
   "outputs": [
    {
     "name": "stdout",
     "output_type": "stream",
     "text": [
      "[1] \"2이다\"\n"
     ]
    }
   ],
   "source": [
    "x = \"2\"\n",
    "result = switch(x, \"1\" =\"1이다\", \"2\" =\"2이다\",\"나머지\")\n",
    "print(result)"
   ]
  },
  {
   "cell_type": "markdown",
   "id": "7d6190ab",
   "metadata": {},
   "source": [
    "# 06 loop"
   ]
  },
  {
   "cell_type": "code",
   "execution_count": null,
   "id": "4f716770",
   "metadata": {},
   "outputs": [],
   "source": [
    "# python : for n in 복합데이터"
   ]
  },
  {
   "cell_type": "code",
   "execution_count": 6,
   "id": "b5791c4d",
   "metadata": {},
   "outputs": [
    {
     "name": "stdout",
     "output_type": "stream",
     "text": [
      "1122334455"
     ]
    }
   ],
   "source": [
    "v = c(11,22,33,44,55)\n",
    "for( n in v)\n",
    "{\n",
    "  #print(n)\n",
    "  cat(n)\n",
    "}"
   ]
  },
  {
   "cell_type": "code",
   "execution_count": 7,
   "id": "d9002259",
   "metadata": {},
   "outputs": [
    {
     "name": "stdout",
     "output_type": "stream",
     "text": [
      "11\n",
      "22\n",
      "33\n",
      "44\n",
      "55\n"
     ]
    }
   ],
   "source": [
    "v = c(11,22,33,44,55)\n",
    "for( n in v)\n",
    "{\n",
    "  #print(n)\n",
    "  cat(n, fill=T)\n",
    "}"
   ]
  },
  {
   "cell_type": "code",
   "execution_count": 8,
   "id": "6a1da77a",
   "metadata": {},
   "outputs": [
    {
     "name": "stdout",
     "output_type": "stream",
     "text": [
      "1\n",
      "2\n",
      "3\n",
      "4\n",
      "5\n",
      "6\n",
      "7\n",
      "8\n",
      "9\n",
      "10\n"
     ]
    }
   ],
   "source": [
    "for( n in 1:10)\n",
    "{\n",
    "  cat(n, fill=T)\n",
    "}"
   ]
  },
  {
   "cell_type": "code",
   "execution_count": 9,
   "id": "0f04d955",
   "metadata": {},
   "outputs": [
    {
     "name": "stdout",
     "output_type": "stream",
     "text": [
      "[1] 1\n",
      "[1] 2\n",
      "[1] 3\n",
      "[1] 4\n",
      "[1] 5\n"
     ]
    }
   ],
   "source": [
    "for( n in 1:10)\n",
    "{\n",
    "  print(n)\n",
    "  if(n==5)\n",
    "    break\n",
    "}"
   ]
  },
  {
   "cell_type": "code",
   "execution_count": 10,
   "id": "27efca76",
   "metadata": {},
   "outputs": [
    {
     "name": "stdout",
     "output_type": "stream",
     "text": [
      "[1] 1\n",
      "[1] 2\n",
      "[1] 3\n",
      "[1] 4\n",
      "[1] 6\n",
      "[1] 7\n",
      "[1] 8\n",
      "[1] 9\n",
      "[1] 10\n"
     ]
    }
   ],
   "source": [
    "for( n in 1:10 )\n",
    "{\n",
    "  if(n==5)\n",
    "    next\n",
    "  print(n)\n",
    "}"
   ]
  },
  {
   "cell_type": "code",
   "execution_count": 11,
   "id": "5b83c5e8",
   "metadata": {},
   "outputs": [
    {
     "name": "stdout",
     "output_type": "stream",
     "text": [
      "[1] 1\n",
      "[1] 2\n",
      "[1] 5\n",
      "[1] 7\n",
      "[1] 10\n"
     ]
    }
   ],
   "source": [
    "## 1~10 까지 정수중 3 또는 4의 배수를 제외하고 출력하시오.\n",
    "\n",
    "for( n in 1:10 )\n",
    "{\n",
    "  if(n %% 3 == 0)\n",
    "    next\n",
    "  else if(n %% 4 == 0)\n",
    "    next\n",
    "  print(n)\n",
    "  \n",
    "}"
   ]
  },
  {
   "cell_type": "code",
   "execution_count": 12,
   "id": "45b48b2a",
   "metadata": {},
   "outputs": [
    {
     "name": "stdout",
     "output_type": "stream",
     "text": [
      "[1] 1\n",
      "[1] 2\n",
      "[1] 5\n",
      "[1] 7\n",
      "[1] 10\n"
     ]
    }
   ],
   "source": [
    "# 다른 방식 \n",
    "for(n in 1:10)\n",
    "{\n",
    "  if(n%%3==0 | n%%4==0)\n",
    "    next\n",
    "  print(n)\n",
    "}"
   ]
  },
  {
   "cell_type": "code",
   "execution_count": 14,
   "id": "c8106549",
   "metadata": {},
   "outputs": [
    {
     "name": "stdout",
     "output_type": "stream",
     "text": [
      "[1] 1\n",
      "[1] 2\n",
      "[1] 3\n",
      "[1] 4\n",
      "[1] 5\n"
     ]
    }
   ],
   "source": [
    "a = 1\n",
    "# a = a + 1 ok\n",
    "# print(a+=1) R에서 안됨\n",
    "# print(a+=+) R에서 안됨\n",
    "while(a <= 5)\n",
    "{\n",
    "  print(a)\n",
    "  a = a + 1\n",
    "}"
   ]
  },
  {
   "cell_type": "code",
   "execution_count": 15,
   "id": "89479459",
   "metadata": {},
   "outputs": [
    {
     "name": "stdout",
     "output_type": "stream",
     "text": [
      "[1] 1\n",
      "[1] 2\n",
      "[1] 3\n",
      "[1] 4\n",
      "[1] 5\n",
      "[1] 6\n"
     ]
    }
   ],
   "source": [
    "b = 1\n",
    "repeat{\n",
    "  print(b)\n",
    "  if(b==6)\n",
    "    break\n",
    "  b=b+1\n",
    "}"
   ]
  },
  {
   "cell_type": "code",
   "execution_count": 16,
   "id": "29cf8c46",
   "metadata": {},
   "outputs": [
    {
     "name": "stdout",
     "output_type": "stream",
     "text": [
      "[1] 1\n",
      "[1] 2\n",
      "[1] 3\n",
      "[1] 4\n",
      "[1] 5\n",
      "[1] 6\n"
     ]
    }
   ],
   "source": [
    "b = 1\n",
    "while(TRUE)\n",
    "{\n",
    "  print(b)\n",
    "  if(b==6)\n",
    "    break\n",
    "  b=b+1\n",
    "}\n"
   ]
  },
  {
   "cell_type": "code",
   "execution_count": 17,
   "id": "f5a15a6c",
   "metadata": {},
   "outputs": [
    {
     "name": "stdout",
     "output_type": "stream",
     "text": [
      "[1] 3 6 9\n",
      "[1] 3 6 9\n"
     ]
    }
   ],
   "source": [
    "v = 1:10\n",
    "f = print(v[v%%3==0])\n",
    "print(f)"
   ]
  },
  {
   "cell_type": "code",
   "execution_count": 18,
   "id": "a7bc33bf",
   "metadata": {},
   "outputs": [
    {
     "name": "stdout",
     "output_type": "stream",
     "text": [
      "[1] 1\n",
      "[1] 2\n",
      "[1] 4\n",
      "[1] 5\n",
      "[1] 7\n",
      "[1] 8\n",
      "[1] 10\n"
     ]
    }
   ],
   "source": [
    "# python comprehension\n",
    "# v = range(1,11)\n",
    "# [ n for n in v if v%3==0]\n",
    "\n",
    "# for(n in {x = 1:10; x[x%%3]})\n",
    "# {\n",
    "#   print(n)\n",
    "# }\n",
    "\n",
    "for(i in { x = 1:10; x[x%%3 != 0] } ) \n",
    "  print(i)"
   ]
  },
  {
   "cell_type": "code",
   "execution_count": 19,
   "id": "09c58daf",
   "metadata": {},
   "outputs": [
    {
     "name": "stdout",
     "output_type": "stream",
     "text": [
      "1 1\n",
      "1 2\n",
      "1 3\n",
      "2 1\n",
      "2 2\n",
      "2 3\n",
      "3 1\n",
      "3 2\n",
      "3 3\n"
     ]
    }
   ],
   "source": [
    "# 중첩반복문\n",
    "\n",
    "for(i in 1:3)\n",
    "{\n",
    "  for(j in 1:3)\n",
    "  {\n",
    "    cat(i,j, fill = T)\n",
    "    }\n",
    "    \n",
    "}"
   ]
  },
  {
   "cell_type": "code",
   "execution_count": 20,
   "id": "6002eb89",
   "metadata": {},
   "outputs": [
    {
     "name": "stdout",
     "output_type": "stream",
     "text": [
      "1 x 1 = 1\n",
      "1 x 2 = 2\n",
      "1 x 3 = 3\n",
      "1 x 4 = 4\n",
      "1 x 5 = 5\n",
      "1 x 6 = 6\n",
      "1 x 7 = 7\n",
      "1 x 8 = 8\n",
      "1 x 9 = 9\n",
      "2 x 1 = 2\n",
      "2 x 2 = 4\n",
      "2 x 3 = 6\n",
      "2 x 4 = 8\n",
      "2 x 5 = 10\n",
      "2 x 6 = 12\n",
      "2 x 7 = 14\n",
      "2 x 8 = 16\n",
      "2 x 9 = 18\n",
      "3 x 1 = 3\n",
      "3 x 2 = 6\n",
      "3 x 3 = 9\n",
      "3 x 4 = 12\n",
      "3 x 5 = 15\n",
      "3 x 6 = 18\n",
      "3 x 7 = 21\n",
      "3 x 8 = 24\n",
      "3 x 9 = 27\n",
      "4 x 1 = 4\n",
      "4 x 2 = 8\n",
      "4 x 3 = 12\n",
      "4 x 4 = 16\n",
      "4 x 5 = 20\n",
      "4 x 6 = 24\n",
      "4 x 7 = 28\n",
      "4 x 8 = 32\n",
      "4 x 9 = 36\n",
      "5 x 1 = 5\n",
      "5 x 2 = 10\n",
      "5 x 3 = 15\n",
      "5 x 4 = 20\n",
      "5 x 5 = 25\n",
      "5 x 6 = 30\n",
      "5 x 7 = 35\n",
      "5 x 8 = 40\n",
      "5 x 9 = 45\n",
      "6 x 1 = 6\n",
      "6 x 2 = 12\n",
      "6 x 3 = 18\n",
      "6 x 4 = 24\n",
      "6 x 5 = 30\n",
      "6 x 6 = 36\n",
      "6 x 7 = 42\n",
      "6 x 8 = 48\n",
      "6 x 9 = 54\n",
      "7 x 1 = 7\n",
      "7 x 2 = 14\n",
      "7 x 3 = 21\n",
      "7 x 4 = 28\n",
      "7 x 5 = 35\n",
      "7 x 6 = 42\n",
      "7 x 7 = 49\n",
      "7 x 8 = 56\n",
      "7 x 9 = 63\n",
      "8 x 1 = 8\n",
      "8 x 2 = 16\n",
      "8 x 3 = 24\n",
      "8 x 4 = 32\n",
      "8 x 5 = 40\n",
      "8 x 6 = 48\n",
      "8 x 7 = 56\n",
      "8 x 8 = 64\n",
      "8 x 9 = 72\n",
      "9 x 1 = 9\n",
      "9 x 2 = 18\n",
      "9 x 3 = 27\n",
      "9 x 4 = 36\n",
      "9 x 5 = 45\n",
      "9 x 6 = 54\n",
      "9 x 7 = 63\n",
      "9 x 8 = 72\n",
      "9 x 9 = 81\n"
     ]
    }
   ],
   "source": [
    "for(i in 1:9)\n",
    "{\n",
    "  for(j in 1:9)\n",
    "  {\n",
    "   a = i * j\n",
    "   cat(i,\"x\",j,\"=\", a, fill=T)\n",
    "  }\n",
    "}"
   ]
  },
  {
   "cell_type": "code",
   "execution_count": 21,
   "id": "c5e3a087",
   "metadata": {},
   "outputs": [
    {
     "name": "stdout",
     "output_type": "stream",
     "text": [
      "1 x 1 = 1\n",
      "1 x 2 = 2\n",
      "1 x 3 = 3\n",
      "1 x 4 = 4\n",
      "1 x 5 = 5\n",
      "1 x 6 = 6\n",
      "1 x 7 = 7\n",
      "1 x 8 = 8\n",
      "1 x 9 = 9\n",
      "2 x 1 = 2\n",
      "2 x 2 = 4\n",
      "2 x 3 = 6\n",
      "2 x 4 = 8\n",
      "2 x 5 = 10\n",
      "2 x 6 = 12\n",
      "2 x 7 = 14\n",
      "2 x 8 = 16\n",
      "2 x 9 = 18\n",
      "3 x 1 = 3\n",
      "3 x 2 = 6\n",
      "3 x 3 = 9\n",
      "3 x 4 = 12\n",
      "3 x 5 = 15\n",
      "3 x 6 = 18\n",
      "3 x 7 = 21\n",
      "3 x 8 = 24\n",
      "3 x 9 = 27\n",
      "4 x 1 = 4\n",
      "4 x 2 = 8\n",
      "4 x 3 = 12\n",
      "4 x 4 = 16\n",
      "4 x 5 = 20\n",
      "4 x 6 = 24\n",
      "4 x 7 = 28\n",
      "4 x 8 = 32\n",
      "4 x 9 = 36\n",
      "5 x 1 = 5\n",
      "5 x 2 = 10\n",
      "5 x 3 = 15\n",
      "5 x 4 = 20\n",
      "5 x 5 = 25\n",
      "5 x 6 = 30\n",
      "5 x 7 = 35\n",
      "5 x 8 = 40\n",
      "5 x 9 = 45\n",
      "6 x 1 = 6\n",
      "6 x 2 = 12\n",
      "6 x 3 = 18\n",
      "6 x 4 = 24\n",
      "6 x 5 = 30\n",
      "6 x 6 = 36\n",
      "6 x 7 = 42\n",
      "6 x 8 = 48\n",
      "6 x 9 = 54\n",
      "7 x 1 = 7\n",
      "7 x 2 = 14\n",
      "7 x 3 = 21\n",
      "7 x 4 = 28\n",
      "7 x 5 = 35\n",
      "7 x 6 = 42\n",
      "7 x 7 = 49\n",
      "7 x 8 = 56\n",
      "7 x 9 = 63\n",
      "8 x 1 = 8\n",
      "8 x 2 = 16\n",
      "8 x 3 = 24\n",
      "8 x 4 = 32\n",
      "8 x 5 = 40\n",
      "8 x 6 = 48\n",
      "8 x 7 = 56\n",
      "8 x 8 = 64\n",
      "8 x 9 = 72\n",
      "9 x 1 = 9\n",
      "9 x 2 = 18\n",
      "9 x 3 = 27\n",
      "9 x 4 = 36\n",
      "9 x 5 = 45\n",
      "9 x 6 = 54\n",
      "9 x 7 = 63\n",
      "9 x 8 = 72\n",
      "9 x 9 = 81\n"
     ]
    }
   ],
   "source": [
    "# 다른 방식\n",
    "for(i in 1:9)\n",
    "{\n",
    "  for(j in 1:9)\n",
    "  {\n",
    "    cat(i,\"x\",j,\"=\",i*j,fill=T)\n",
    "  }\n",
    "}"
   ]
  },
  {
   "cell_type": "code",
   "execution_count": 22,
   "id": "db27b601",
   "metadata": {},
   "outputs": [
    {
     "name": "stdout",
     "output_type": "stream",
     "text": [
      "1 x 1 = 1 2 x 1 = 2 3 x 1 = 3\n",
      "1 x 2 = 2 2 x 2 = 4 3 x 2 = 6\n",
      "1 x 3 = 3 2 x 3 = 6 3 x 3 = 9\n",
      "1 x 4 = 4 2 x 4 = 8 3 x 4 = 12\n",
      "1 x 5 = 5 2 x 5 = 10 3 x 5 = 15\n",
      "1 x 6 = 6 2 x 6 = 12 3 x 6 = 18\n",
      "1 x 7 = 7 2 x 7 = 14 3 x 7 = 21\n",
      "1 x 8 = 8 2 x 8 = 16 3 x 8 = 24\n",
      "1 x 9 = 9 2 x 9 = 18 3 x 9 = 27\n",
      "4 x 1 = 4 5 x 1 = 5 6 x 1 = 6\n",
      "4 x 2 = 8 5 x 2 = 10 6 x 2 = 12\n",
      "4 x 3 = 12 5 x 3 = 15 6 x 3 = 18\n",
      "4 x 4 = 16 5 x 4 = 20 6 x 4 = 24\n",
      "4 x 5 = 20 5 x 5 = 25 6 x 5 = 30\n",
      "4 x 6 = 24 5 x 6 = 30 6 x 6 = 36\n",
      "4 x 7 = 28 5 x 7 = 35 6 x 7 = 42\n",
      "4 x 8 = 32 5 x 8 = 40 6 x 8 = 48\n",
      "4 x 9 = 36 5 x 9 = 45 6 x 9 = 54\n",
      "7 x 1 = 7 8 x 1 = 8 9 x 1 = 9\n",
      "7 x 2 = 14 8 x 2 = 16 9 x 2 = 18\n",
      "7 x 3 = 21 8 x 3 = 24 9 x 3 = 27\n",
      "7 x 4 = 28 8 x 4 = 32 9 x 4 = 36\n",
      "7 x 5 = 35 8 x 5 = 40 9 x 5 = 45\n",
      "7 x 6 = 42 8 x 6 = 48 9 x 6 = 54\n",
      "7 x 7 = 49 8 x 7 = 56 9 x 7 = 63\n",
      "7 x 8 = 56 8 x 8 = 64 9 x 8 = 72\n",
      "7 x 9 = 63 8 x 9 = 72 9 x 9 = 81\n"
     ]
    }
   ],
   "source": [
    "# 1X1 = 1\t2X1= 2\t3X1= 3\n",
    "# 1X2 = 1\t2X2= 4\t3X2= 6\n",
    "# ...\n",
    "# 1X9 = 9\t2X9=18\t3X9=27\n",
    "# \n",
    "# 4X1 = 4\t5X1= 5\t6X1= 6\n",
    "# 4X2 = 8\t5X2=10\t6X2=12\n",
    "# ...\n",
    "# 4X9 =36\t5X9=45\t6X9=54\n",
    "# \n",
    "# 7X1 = 7\t8X1= 8\t9X1= 9\n",
    "# 7X2 =14\t8X2=16\t9X2=18\n",
    "# ...\n",
    "# 7X9 =63\t8X9=72\t9X9=81\n",
    "for(i in 1:3){\n",
    "  for(j in 1:9){\n",
    "    cat((3*i-2),\"x\",j,\"=\",(3*i-2)*j,(3*i-1),\"x\",j,\"=\",(3*i-1)*j,(3*i),\"x\",j,\"=\",(3*i)*j, fill=T)\n",
    "  }\n",
    "}"
   ]
  },
  {
   "cell_type": "code",
   "execution_count": 24,
   "id": "8709adb4",
   "metadata": {},
   "outputs": [
    {
     "name": "stdout",
     "output_type": "stream",
     "text": [
      "1 X 1 = 1 2 X 1 = 2 3 X 1 = 3\n",
      "1 X 2 = 2 2 X 2 = 4 3 X 2 = 6\n",
      "1 X 3 = 3 2 X 3 = 6 3 X 3 = 9\n",
      "1 X 4 = 4 2 X 4 = 8 3 X 4 = 12\n",
      "1 X 5 = 5 2 X 5 = 10 3 X 5 = 15\n",
      "1 X 6 = 6 2 X 6 = 12 3 X 6 = 18\n",
      "1 X 7 = 7 2 X 7 = 14 3 X 7 = 21\n",
      "1 X 8 = 8 2 X 8 = 16 3 X 8 = 24\n",
      "1 X 9 = 9 2 X 9 = 18 3 X 9 = 27\n",
      "\n",
      "4 X 1 = 4 5 X 1 = 5 6 X 1 = 6\n",
      "4 X 2 = 8 5 X 2 = 10 6 X 2 = 12\n",
      "4 X 3 = 12 5 X 3 = 15 6 X 3 = 18\n",
      "4 X 4 = 16 5 X 4 = 20 6 X 4 = 24\n",
      "4 X 5 = 20 5 X 5 = 25 6 X 5 = 30\n",
      "4 X 6 = 24 5 X 6 = 30 6 X 6 = 36\n",
      "4 X 7 = 28 5 X 7 = 35 6 X 7 = 42\n",
      "4 X 8 = 32 5 X 8 = 40 6 X 8 = 48\n",
      "4 X 9 = 36 5 X 9 = 45 6 X 9 = 54\n",
      "\n",
      "7 X 1 = 7 8 X 1 = 8 9 X 1 = 9\n",
      "7 X 2 = 14 8 X 2 = 16 9 X 2 = 18\n",
      "7 X 3 = 21 8 X 3 = 24 9 X 3 = 27\n",
      "7 X 4 = 28 8 X 4 = 32 9 X 4 = 36\n",
      "7 X 5 = 35 8 X 5 = 40 9 X 5 = 45\n",
      "7 X 6 = 42 8 X 6 = 48 9 X 6 = 54\n",
      "7 X 7 = 49 8 X 7 = 56 9 X 7 = 63\n",
      "7 X 8 = 56 8 X 8 = 64 9 X 8 = 72\n",
      "7 X 9 = 63 8 X 9 = 72 9 X 9 = 81\n",
      "\n"
     ]
    }
   ],
   "source": [
    "# 다른 방식\n",
    "for( i in c(1,4,7))\n",
    "{\n",
    "  for( j in 1:9){8\n",
    "    cat(i,'X',j,'=',i*j, i+1,'X',j,'=',(i+1)*j , (i+2),'X',j,'=',(i+2)*j , fill=T) \n",
    "    \n",
    "  }\n",
    "  cat(fill=T)  \n",
    "}"
   ]
  },
  {
   "cell_type": "code",
   "execution_count": 25,
   "id": "28f5b81d",
   "metadata": {},
   "outputs": [
    {
     "name": "stdout",
     "output_type": "stream",
     "text": [
      "1x1 =  1 2x1= 2 3x1= 3\n",
      "1x2 =  2 2x2= 4 3x2= 6\n",
      "1x3 =  3 2x3= 6 3x3= 9\n",
      "1x4 =  4 2x4= 8 3x4=12\n",
      "1x5 =  5 2x5=10 3x5=15\n",
      "1x6 =  6 2x6=12 3x6=18\n",
      "1x7 =  7 2x7=14 3x7=21\n",
      "1x8 =  8 2x8=16 3x8=24\n",
      "1x9 =  9 2x9=18 3x9=27\n",
      "\n",
      "4x1 =  4 5x1= 5 6x1= 6\n",
      "4x2 =  8 5x2=10 6x2=12\n",
      "4x3 = 12 5x3=15 6x3=18\n",
      "4x4 = 16 5x4=20 6x4=24\n",
      "4x5 = 20 5x5=25 6x5=30\n",
      "4x6 = 24 5x6=30 6x6=36\n",
      "4x7 = 28 5x7=35 6x7=42\n",
      "4x8 = 32 5x8=40 6x8=48\n",
      "4x9 = 36 5x9=45 6x9=54\n",
      "\n",
      "7x1 =  7 8x1= 8 9x1= 9\n",
      "7x2 = 14 8x2=16 9x2=18\n",
      "7x3 = 21 8x3=24 9x3=27\n",
      "7x4 = 28 8x4=32 9x4=36\n",
      "7x5 = 35 8x5=40 9x5=45\n",
      "7x6 = 42 8x6=48 9x6=54\n",
      "7x7 = 49 8x7=56 9x7=63\n",
      "7x8 = 56 8x8=64 9x8=72\n",
      "7x9 = 63 8x9=72 9x9=81\n",
      "\n"
     ]
    }
   ],
   "source": [
    "# 다른 방식\n",
    "for( i in c(1,4,7))\n",
    "{\n",
    "  for( j in 1:9)\n",
    "  {\n",
    "    s =sprintf('%dx%d = %2d %dx%d=%2d %dx%d=%2d',i,j,i*j,i+1,j,(i+1)*j,i+2,j,(i+2)*j )\n",
    "    cat(s, fill=T)\n",
    "    # cat(i,'X',j,'=',i*j, i+1,'X',j,'=',(i+1)*j , (i+2),'X',j,'=',(i+2)*j , fill=T)\n",
    "  }\n",
    "  cat(fill=T)\n",
    "}"
   ]
  },
  {
   "cell_type": "markdown",
   "id": "3dc3f599",
   "metadata": {},
   "source": [
    "# 07 function"
   ]
  },
  {
   "cell_type": "code",
   "execution_count": 26,
   "id": "85383594",
   "metadata": {},
   "outputs": [],
   "source": [
    "fn <- function() {\n",
    "  print(\"hello\")\n",
    "  print(\"korea\")\n",
    "}"
   ]
  },
  {
   "cell_type": "code",
   "execution_count": 35,
   "id": "a87b890c",
   "metadata": {},
   "outputs": [
    {
     "name": "stdout",
     "output_type": "stream",
     "text": [
      "[1] \"hello\"\n",
      "[1] \"korea\"\n"
     ]
    }
   ],
   "source": [
    "fn()"
   ]
  },
  {
   "cell_type": "code",
   "execution_count": 28,
   "id": "e27fc8a8",
   "metadata": {},
   "outputs": [],
   "source": [
    "hap <- function(a,b) {\n",
    "  return(a+b)\n",
    "}"
   ]
  },
  {
   "cell_type": "code",
   "execution_count": 36,
   "id": "e19b7cba",
   "metadata": {},
   "outputs": [
    {
     "name": "stdout",
     "output_type": "stream",
     "text": [
      "[1] 30\n"
     ]
    }
   ],
   "source": [
    "rst = hap(10,20)\n",
    "print(rst)"
   ]
  },
  {
   "cell_type": "code",
   "execution_count": 29,
   "id": "f4575480",
   "metadata": {},
   "outputs": [],
   "source": [
    "gop <- function(a,b) {\n",
    "  return(a*b)\n",
    "}"
   ]
  },
  {
   "cell_type": "code",
   "execution_count": 37,
   "id": "79cf3c98",
   "metadata": {},
   "outputs": [
    {
     "name": "stdout",
     "output_type": "stream",
     "text": [
      "[1] 200\n"
     ]
    }
   ],
   "source": [
    "rst = gop(10,20)\n",
    "print(rst)"
   ]
  },
  {
   "cell_type": "code",
   "execution_count": 30,
   "id": "aa41183a",
   "metadata": {},
   "outputs": [],
   "source": [
    "fn1 <- function(a=10,b=20) {\n",
    "  cat(a,b, fill=T)\n",
    "}"
   ]
  },
  {
   "cell_type": "code",
   "execution_count": 38,
   "id": "b492e1fa",
   "metadata": {},
   "outputs": [
    {
     "name": "stdout",
     "output_type": "stream",
     "text": [
      "10 20\n"
     ]
    }
   ],
   "source": [
    "fn1()"
   ]
  },
  {
   "cell_type": "code",
   "execution_count": 39,
   "id": "e0e678b6",
   "metadata": {},
   "outputs": [
    {
     "name": "stdout",
     "output_type": "stream",
     "text": [
      "100 20\n"
     ]
    }
   ],
   "source": [
    "fn1(100)"
   ]
  },
  {
   "cell_type": "code",
   "execution_count": 40,
   "id": "4ddbedfe",
   "metadata": {},
   "outputs": [
    {
     "name": "stdout",
     "output_type": "stream",
     "text": [
      "100 200\n"
     ]
    }
   ],
   "source": [
    "fn1(100,200)"
   ]
  },
  {
   "cell_type": "code",
   "execution_count": 41,
   "id": "7554b674",
   "metadata": {},
   "outputs": [
    {
     "name": "stdout",
     "output_type": "stream",
     "text": [
      "10 1000\n"
     ]
    }
   ],
   "source": [
    "fn1(b=1000)"
   ]
  },
  {
   "cell_type": "code",
   "execution_count": 42,
   "id": "c41d77d1",
   "metadata": {},
   "outputs": [],
   "source": [
    " fn2 <- function(a,b) {\n",
    "   return( c(a+b, a*b) )\n",
    " }"
   ]
  },
  {
   "cell_type": "code",
   "execution_count": 43,
   "id": "17476403",
   "metadata": {},
   "outputs": [
    {
     "name": "stdout",
     "output_type": "stream",
     "text": [
      "[1]  30 200\n",
      "30 200"
     ]
    }
   ],
   "source": [
    "result = fn2(10,20)\n",
    "print(result)\n",
    "cat(result[1], result[2])"
   ]
  },
  {
   "cell_type": "code",
   "execution_count": 44,
   "id": "61545cdf",
   "metadata": {},
   "outputs": [],
   "source": [
    "# ... 은 가변인자 def fn3(*args) 와 같다\n",
    "fn3 <- function(...) {\n",
    "   args = c(...)\n",
    "   print(args)\n",
    " } "
   ]
  },
  {
   "cell_type": "code",
   "execution_count": 45,
   "id": "fce7ba75",
   "metadata": {},
   "outputs": [
    {
     "name": "stdout",
     "output_type": "stream",
     "text": [
      "[1] 10 20\n",
      "[1] 10 20 30 40\n"
     ]
    }
   ],
   "source": [
    "fn3(10,20)\n",
    "fn3(10,20,30,40)"
   ]
  },
  {
   "cell_type": "code",
   "execution_count": 46,
   "id": "6dd07a21",
   "metadata": {},
   "outputs": [
    {
     "name": "stdout",
     "output_type": "stream",
     "text": [
      "[1] 10 20\n"
     ]
    },
    {
     "ename": "ERROR",
     "evalue": "Error in print(a): 기본값이 없는 인수 \"a\"가 누락되어 있습니다\n",
     "output_type": "error",
     "traceback": [
      "Error in print(a): 기본값이 없는 인수 \"a\"가 누락되어 있습니다\nTraceback:\n",
      "1. fn3(10, 20)",
      "2. print(a)   # at line 5 of file <text>"
     ]
    }
   ],
   "source": [
    "#  안됨\n",
    " fn3 <- function(..., a) {\n",
    "   args = c(...)\n",
    "   print(args)\n",
    "   print(a)\n",
    " }\n",
    " \n",
    "fn3(10,20)\n",
    "fn3(10,20,30,40)"
   ]
  },
  {
   "cell_type": "code",
   "execution_count": 47,
   "id": "2ffa647e",
   "metadata": {},
   "outputs": [
    {
     "name": "stdout",
     "output_type": "stream",
     "text": [
      "[1] 10 20\n",
      "[1] 100\n",
      "[1] \"============\"\n",
      "[1] 10 20 30 40\n",
      "[1] 100\n",
      "[1] \"============\"\n",
      "[1] 1 2 3 4\n",
      "[1] 5\n"
     ]
    }
   ],
   "source": [
    "fn3 <- function(..., a=100) {\n",
    "  args = c(...)\n",
    "   print(args)\n",
    "   print(a)\n",
    " }\n",
    " \n",
    "fn3(10,20)\n",
    "print(\"============\")\n",
    "fn3(10,20,30,40)\n",
    "print(\"============\")\n",
    "fn3(1,2,3,4, a=5)"
   ]
  },
  {
   "cell_type": "code",
   "execution_count": 49,
   "id": "df909bd3",
   "metadata": {},
   "outputs": [
    {
     "name": "stdout",
     "output_type": "stream",
     "text": [
      "[1] 1.181103\n"
     ]
    }
   ],
   "source": [
    "# cm를 인자(아규먼트)로 받아 인치를 반환하는 함수를 만드시오\n",
    "# 0.393701in\n",
    "infun <- function(a) {\n",
    "  return(a*0.393701) \n",
    "}\n",
    "print(infun(3))"
   ]
  },
  {
   "cell_type": "code",
   "execution_count": 50,
   "id": "d9aa243c",
   "metadata": {},
   "outputs": [
    {
     "name": "stdout",
     "output_type": "stream",
     "text": [
      "[1] 3.141593 9.424778\n"
     ]
    }
   ],
   "source": [
    "# 반지름과 높이를 인자로 받아 원의 면적과 원기둥의 부피를 반환하는 함수를 만드시오\n",
    "circle <- function(a,b) {\n",
    "  return(c(pi*a^2, pi*a^2*b))\n",
    "}\n",
    "\n",
    "print(circle(1,3))"
   ]
  },
  {
   "cell_type": "code",
   "execution_count": 51,
   "id": "25e6f02d",
   "metadata": {},
   "outputs": [
    {
     "name": "stdout",
     "output_type": "stream",
     "text": [
      "[1] 1.181102\n",
      "[1] 3.141593 9.424778\n"
     ]
    }
   ],
   "source": [
    "cmToinch <- function( cm) {\n",
    "  return(cm/2.54)\n",
    "}\n",
    "\n",
    "shape <- function(r,h) {\n",
    "  return( c(pi*r^2, pi*r^2*h))\n",
    "}\n",
    "print( cmToinch(3) )\n",
    "print( shape(1, 3) )"
   ]
  },
  {
   "cell_type": "code",
   "execution_count": 54,
   "id": "b3561836",
   "metadata": {},
   "outputs": [
    {
     "name": "stdout",
     "output_type": "stream",
     "text": [
      "[1] 8\n"
     ]
    }
   ],
   "source": [
    "# 두개의 정수를 인자로 받아 절대값의 합을 반환하는 함수를 만드시오\n",
    "aBs <- function(a,b) {\n",
    "  return(abs(a)+abs(b))\n",
    "}\n",
    "print(aBs(3,-5))"
   ]
  },
  {
   "cell_type": "code",
   "execution_count": 55,
   "id": "d3d08f68",
   "metadata": {},
   "outputs": [
    {
     "name": "stdout",
     "output_type": "stream",
     "text": [
      "[1] 9\n"
     ]
    }
   ],
   "source": [
    "# 3개의 정수를 인자로 받아 가장 큰값을 반환하는함수를 만드시오\n",
    "mAx <- function(c,d,e) {\n",
    "  return(max(c,d,e))\n",
    "}\n",
    "print(mAx(4,9,3))"
   ]
  },
  {
   "cell_type": "code",
   "execution_count": 56,
   "id": "aa8f09a5",
   "metadata": {},
   "outputs": [],
   "source": [
    "absHAP <- function(a, b) {\n",
    "  a <- ifelse(a<0, -a, a)\n",
    "  b <- ifelse(b<0, -b, b)\n",
    "  return(a+b)\n",
    "}"
   ]
  },
  {
   "cell_type": "code",
   "execution_count": 57,
   "id": "349279c9",
   "metadata": {},
   "outputs": [],
   "source": [
    "maxValue <- function(a, b, c) {\n",
    "  mx <- ifelse(a<b, b, a)\n",
    "  mx <- ifelse(mx<c, c, b)\n",
    "  return(mx)\n",
    "}"
   ]
  },
  {
   "cell_type": "markdown",
   "id": "cc89590a",
   "metadata": {},
   "source": [
    "# 08 string"
   ]
  },
  {
   "cell_type": "code",
   "execution_count": 58,
   "id": "14f754ee",
   "metadata": {},
   "outputs": [
    {
     "name": "stdout",
     "output_type": "stream",
     "text": [
      "[1] \"a=10 b=3.14 c=abc\"\n"
     ]
    }
   ],
   "source": [
    "a = 10\n",
    "b = 3.14\n",
    "c = \"abc\"\n",
    "\n",
    "# python f'a={a} b={b} c={c}' ==> a=10 b=3.14 c=abc\n",
    "# a=%d b=%f c=%s %(a,b,c)\n",
    "\n",
    "result = sprintf('a=%d b=%.2f c=%s', a,b,c)\n",
    "print(result)"
   ]
  },
  {
   "cell_type": "code",
   "execution_count": 59,
   "id": "08f301a3",
   "metadata": {},
   "outputs": [
    {
     "name": "stdout",
     "output_type": "stream",
     "text": [
      "[1] \"a=        10 b=3.14 c=abc\"\n"
     ]
    }
   ],
   "source": [
    "result = sprintf('a=%10d b=%.2f c=%s', a,b,c)\n",
    "print(result)"
   ]
  },
  {
   "cell_type": "code",
   "execution_count": 60,
   "id": "3d33eef2",
   "metadata": {},
   "outputs": [
    {
     "name": "stdout",
     "output_type": "stream",
     "text": [
      "[1] 3\n"
     ]
    }
   ],
   "source": [
    "print(nchar(c)) # 문자열의 개수"
   ]
  },
  {
   "cell_type": "code",
   "execution_count": 61,
   "id": "728e3a12",
   "metadata": {},
   "outputs": [
    {
     "name": "stdout",
     "output_type": "stream",
     "text": [
      "[1] 7\n"
     ]
    }
   ],
   "source": [
    "s = \"abcdefg\"\n",
    "print(nchar(s)) # 문자열의 개수"
   ]
  },
  {
   "cell_type": "code",
   "execution_count": null,
   "id": "de2d9822",
   "metadata": {},
   "outputs": [],
   "source": [
    "?substr"
   ]
  },
  {
   "cell_type": "code",
   "execution_count": 62,
   "id": "bd5be491",
   "metadata": {},
   "outputs": [
    {
     "name": "stdout",
     "output_type": "stream",
     "text": [
      "[1] \"bcd\"\n",
      "[1] \"bcdefg\"\n"
     ]
    }
   ],
   "source": [
    "print(substr(s, 2,4))\n",
    "print(substring(s, 2))"
   ]
  },
  {
   "cell_type": "code",
   "execution_count": 63,
   "id": "8c5e548b",
   "metadata": {},
   "outputs": [
    {
     "name": "stdout",
     "output_type": "stream",
     "text": [
      "[1] 4 4 4\n",
      "[1] \"ab\" \"eg\" \"jk\"\n"
     ]
    }
   ],
   "source": [
    "cc = c(\"abcd\", \"eghi\",\"jklm\")\n",
    "print( nchar(cc))\n",
    "print( substr(cc, 1,2))"
   ]
  },
  {
   "cell_type": "code",
   "execution_count": null,
   "id": "96972814",
   "metadata": {},
   "outputs": [],
   "source": [
    "?strsplit"
   ]
  },
  {
   "cell_type": "code",
   "execution_count": 64,
   "id": "bebc6c56",
   "metadata": {},
   "outputs": [
    {
     "name": "stdout",
     "output_type": "stream",
     "text": [
      "[[1]]\n",
      "[1] \"abc\" \"def\" \"ghi\"\n",
      "\n",
      "[1] \"abc\"\n"
     ]
    }
   ],
   "source": [
    "s1 = \"abc def ghi\"\n",
    "v = strsplit(s1, split=\" \") # 결과는 list\n",
    "print(v)\n",
    "print(v[[1]][1])"
   ]
  },
  {
   "cell_type": "code",
   "execution_count": 65,
   "id": "e5be1bd6",
   "metadata": {},
   "outputs": [
    {
     "name": "stdout",
     "output_type": "stream",
     "text": [
      "abc def ghi\n"
     ]
    }
   ],
   "source": [
    "myl = strsplit(s1, split=' ') #결과는 list\n",
    "v = myl[[1]]\n",
    "cat( v[1],v[2],v[3], fill=T)"
   ]
  },
  {
   "cell_type": "code",
   "execution_count": 66,
   "id": "bcef2a90",
   "metadata": {},
   "outputs": [
    {
     "name": "stdout",
     "output_type": "stream",
     "text": [
      "[1] \"abc def\"\n",
      "[1] \"abcdef\"\n"
     ]
    }
   ],
   "source": [
    "# python 'abc' + 'def'\n",
    "print(paste( \"abc\", \"def\"))\n",
    "print(paste( \"abc\", \"def\", sep = \"\"))"
   ]
  },
  {
   "cell_type": "markdown",
   "id": "e46dfd38",
   "metadata": {},
   "source": [
    "# 09 벡터"
   ]
  },
  {
   "cell_type": "markdown",
   "id": "3d670db1",
   "metadata": {},
   "source": [
    "<img src=\"https://img1.daumcdn.net/thumb/R1280x0/?scode=mtistory2&fname=http%3A%2F%2Fcfile30.uf.tistory.com%2Fimage%2F9930233F5A5C3844146549\">"
   ]
  },
  {
   "cell_type": "code",
   "execution_count": 67,
   "id": "d1e275e1",
   "metadata": {},
   "outputs": [
    {
     "data": {
      "text/html": [
       "10"
      ],
      "text/latex": [
       "10"
      ],
      "text/markdown": [
       "10"
      ],
      "text/plain": [
       "[1] 10"
      ]
     },
     "metadata": {},
     "output_type": "display_data"
    },
    {
     "data": {
      "text/html": [
       "20"
      ],
      "text/latex": [
       "20"
      ],
      "text/markdown": [
       "20"
      ],
      "text/plain": [
       "[1] 20"
      ]
     },
     "metadata": {},
     "output_type": "display_data"
    }
   ],
   "source": [
    "# R은 이게 된다\n",
    "a = 10\n",
    "b = 20\n",
    "a\n",
    "b"
   ]
  },
  {
   "cell_type": "markdown",
   "id": "995f7ae5",
   "metadata": {},
   "source": [
    "## 벡터를 생성하는 방법엔 3가지가 \n",
    "- c()를 이용해 값들을 벡터로 결합해주는 방법,\n",
    "기본적으로 R에서 여러개의 요소를 묶어줄 때 사용.\n",
    "- rep() 반복 함수를 통해 생성,\n",
    "- seq(), ':' 와 같이 범위를 지정하는 함수를 통해 생성하는 방법"
   ]
  },
  {
   "cell_type": "code",
   "execution_count": 69,
   "id": "2ceb5cfa",
   "metadata": {},
   "outputs": [
    {
     "data": {
      "text/html": [
       "<ol class=list-inline>\n",
       "\t<li>10</li>\n",
       "\t<li>20</li>\n",
       "\t<li>30</li>\n",
       "\t<li>40</li>\n",
       "</ol>\n"
      ],
      "text/latex": [
       "\\begin{enumerate*}\n",
       "\\item 10\n",
       "\\item 20\n",
       "\\item 30\n",
       "\\item 40\n",
       "\\end{enumerate*}\n"
      ],
      "text/markdown": [
       "1. 10\n",
       "2. 20\n",
       "3. 30\n",
       "4. 40\n",
       "\n",
       "\n"
      ],
      "text/plain": [
       "[1] 10 20 30 40"
      ]
     },
     "metadata": {},
     "output_type": "display_data"
    },
    {
     "name": "stdout",
     "output_type": "stream",
     "text": [
      "[1] 10 20 30 40\n",
      "10 20 30 40"
     ]
    }
   ],
   "source": [
    "t = c(10,20,30,40)\n",
    "t\n",
    "print(t)\n",
    "cat(t)"
   ]
  },
  {
   "cell_type": "code",
   "execution_count": null,
   "id": "87f54115",
   "metadata": {},
   "outputs": [],
   "source": [
    "?rep"
   ]
  },
  {
   "cell_type": "code",
   "execution_count": 70,
   "id": "df54b2f5",
   "metadata": {},
   "outputs": [
    {
     "data": {
      "text/html": [
       "<ol class=list-inline>\n",
       "\t<li>1</li>\n",
       "\t<li>1</li>\n",
       "\t<li>1</li>\n",
       "\t<li>1</li>\n",
       "\t<li>1</li>\n",
       "</ol>\n"
      ],
      "text/latex": [
       "\\begin{enumerate*}\n",
       "\\item 1\n",
       "\\item 1\n",
       "\\item 1\n",
       "\\item 1\n",
       "\\item 1\n",
       "\\end{enumerate*}\n"
      ],
      "text/markdown": [
       "1. 1\n",
       "2. 1\n",
       "3. 1\n",
       "4. 1\n",
       "5. 1\n",
       "\n",
       "\n"
      ],
      "text/plain": [
       "[1] 1 1 1 1 1"
      ]
     },
     "metadata": {},
     "output_type": "display_data"
    }
   ],
   "source": [
    "y = rep(1, 5)\n",
    "y"
   ]
  },
  {
   "cell_type": "code",
   "execution_count": null,
   "id": "e30debf6",
   "metadata": {},
   "outputs": [],
   "source": [
    "?seq"
   ]
  },
  {
   "cell_type": "code",
   "execution_count": 71,
   "id": "adf78314",
   "metadata": {},
   "outputs": [
    {
     "data": {
      "text/html": [
       "<ol class=list-inline>\n",
       "\t<li>1</li>\n",
       "\t<li>2</li>\n",
       "\t<li>3</li>\n",
       "\t<li>4</li>\n",
       "\t<li>5</li>\n",
       "</ol>\n"
      ],
      "text/latex": [
       "\\begin{enumerate*}\n",
       "\\item 1\n",
       "\\item 2\n",
       "\\item 3\n",
       "\\item 4\n",
       "\\item 5\n",
       "\\end{enumerate*}\n"
      ],
      "text/markdown": [
       "1. 1\n",
       "2. 2\n",
       "3. 3\n",
       "4. 4\n",
       "5. 5\n",
       "\n",
       "\n"
      ],
      "text/plain": [
       "[1] 1 2 3 4 5"
      ]
     },
     "metadata": {},
     "output_type": "display_data"
    }
   ],
   "source": [
    "sq = seq(1,5) # 1:5\n",
    "sq"
   ]
  },
  {
   "cell_type": "code",
   "execution_count": 72,
   "id": "822d310e",
   "metadata": {},
   "outputs": [
    {
     "data": {
      "text/html": [
       "<ol class=list-inline>\n",
       "\t<li>1</li>\n",
       "\t<li>3</li>\n",
       "\t<li>5</li>\n",
       "</ol>\n"
      ],
      "text/latex": [
       "\\begin{enumerate*}\n",
       "\\item 1\n",
       "\\item 3\n",
       "\\item 5\n",
       "\\end{enumerate*}\n"
      ],
      "text/markdown": [
       "1. 1\n",
       "2. 3\n",
       "3. 5\n",
       "\n",
       "\n"
      ],
      "text/plain": [
       "[1] 1 3 5"
      ]
     },
     "metadata": {},
     "output_type": "display_data"
    }
   ],
   "source": [
    "sq1 = seq(1,5,2) # 1:5:2(X)\n",
    "sq1"
   ]
  },
  {
   "cell_type": "code",
   "execution_count": 73,
   "id": "38ec28df",
   "metadata": {},
   "outputs": [
    {
     "data": {
      "text/html": [
       "<ol class=list-inline>\n",
       "\t<li>10</li>\n",
       "\t<li>9</li>\n",
       "\t<li>8</li>\n",
       "\t<li>7</li>\n",
       "\t<li>6</li>\n",
       "\t<li>5</li>\n",
       "\t<li>4</li>\n",
       "\t<li>3</li>\n",
       "\t<li>2</li>\n",
       "\t<li>1</li>\n",
       "</ol>\n"
      ],
      "text/latex": [
       "\\begin{enumerate*}\n",
       "\\item 10\n",
       "\\item 9\n",
       "\\item 8\n",
       "\\item 7\n",
       "\\item 6\n",
       "\\item 5\n",
       "\\item 4\n",
       "\\item 3\n",
       "\\item 2\n",
       "\\item 1\n",
       "\\end{enumerate*}\n"
      ],
      "text/markdown": [
       "1. 10\n",
       "2. 9\n",
       "3. 8\n",
       "4. 7\n",
       "5. 6\n",
       "6. 5\n",
       "7. 4\n",
       "8. 3\n",
       "9. 2\n",
       "10. 1\n",
       "\n",
       "\n"
      ],
      "text/plain": [
       " [1] 10  9  8  7  6  5  4  3  2  1"
      ]
     },
     "metadata": {},
     "output_type": "display_data"
    }
   ],
   "source": [
    "sq2 = seq(10,1,-1) # 1:5:2(X)\n",
    "sq2"
   ]
  },
  {
   "cell_type": "markdown",
   "id": "b31f46a3",
   "metadata": {},
   "source": [
    "## 인덱싱\n",
    "- 1,2,3,4,..."
   ]
  },
  {
   "cell_type": "code",
   "execution_count": 75,
   "id": "7b1d1234",
   "metadata": {},
   "outputs": [
    {
     "data": {
      "text/html": [
       "10"
      ],
      "text/latex": [
       "10"
      ],
      "text/markdown": [
       "10"
      ],
      "text/plain": [
       "[1] 10"
      ]
     },
     "metadata": {},
     "output_type": "display_data"
    }
   ],
   "source": [
    "t = c(10,20,30,40,50,60,70)\n",
    "t[1]"
   ]
  },
  {
   "cell_type": "code",
   "execution_count": 76,
   "id": "a28e8704",
   "metadata": {},
   "outputs": [
    {
     "data": {
      "text/html": [
       "<ol class=list-inline>\n",
       "\t<li>20</li>\n",
       "\t<li>30</li>\n",
       "\t<li>40</li>\n",
       "\t<li>50</li>\n",
       "\t<li>60</li>\n",
       "\t<li>70</li>\n",
       "</ol>\n"
      ],
      "text/latex": [
       "\\begin{enumerate*}\n",
       "\\item 20\n",
       "\\item 30\n",
       "\\item 40\n",
       "\\item 50\n",
       "\\item 60\n",
       "\\item 70\n",
       "\\end{enumerate*}\n"
      ],
      "text/markdown": [
       "1. 20\n",
       "2. 30\n",
       "3. 40\n",
       "4. 50\n",
       "5. 60\n",
       "6. 70\n",
       "\n",
       "\n"
      ],
      "text/plain": [
       "[1] 20 30 40 50 60 70"
      ]
     },
     "metadata": {},
     "output_type": "display_data"
    }
   ],
   "source": [
    "t[-1]"
   ]
  },
  {
   "cell_type": "code",
   "execution_count": 77,
   "id": "ed3aea09",
   "metadata": {},
   "outputs": [
    {
     "data": {
      "text/html": [
       "<ol class=list-inline>\n",
       "\t<li>10</li>\n",
       "\t<li>30</li>\n",
       "\t<li>40</li>\n",
       "\t<li>50</li>\n",
       "\t<li>60</li>\n",
       "\t<li>70</li>\n",
       "</ol>\n"
      ],
      "text/latex": [
       "\\begin{enumerate*}\n",
       "\\item 10\n",
       "\\item 30\n",
       "\\item 40\n",
       "\\item 50\n",
       "\\item 60\n",
       "\\item 70\n",
       "\\end{enumerate*}\n"
      ],
      "text/markdown": [
       "1. 10\n",
       "2. 30\n",
       "3. 40\n",
       "4. 50\n",
       "5. 60\n",
       "6. 70\n",
       "\n",
       "\n"
      ],
      "text/plain": [
       "[1] 10 30 40 50 60 70"
      ]
     },
     "metadata": {},
     "output_type": "display_data"
    }
   ],
   "source": [
    "t[-2]"
   ]
  },
  {
   "cell_type": "markdown",
   "id": "f149d538",
   "metadata": {},
   "source": [
    "## 복수개 인덱싱"
   ]
  },
  {
   "cell_type": "code",
   "execution_count": 78,
   "id": "6f8cd203",
   "metadata": {},
   "outputs": [
    {
     "data": {
      "text/html": [
       "<ol class=list-inline>\n",
       "\t<li>20</li>\n",
       "\t<li>30</li>\n",
       "</ol>\n"
      ],
      "text/latex": [
       "\\begin{enumerate*}\n",
       "\\item 20\n",
       "\\item 30\n",
       "\\end{enumerate*}\n"
      ],
      "text/markdown": [
       "1. 20\n",
       "2. 30\n",
       "\n",
       "\n"
      ],
      "text/plain": [
       "[1] 20 30"
      ]
     },
     "metadata": {},
     "output_type": "display_data"
    }
   ],
   "source": [
    "## python : t[[2,3]]\n",
    "t[c(2,3)]"
   ]
  },
  {
   "cell_type": "code",
   "execution_count": 79,
   "id": "49929318",
   "metadata": {},
   "outputs": [
    {
     "data": {
      "text/html": [
       "<ol class=list-inline>\n",
       "\t<li>10</li>\n",
       "\t<li>40</li>\n",
       "\t<li>50</li>\n",
       "\t<li>60</li>\n",
       "\t<li>70</li>\n",
       "</ol>\n"
      ],
      "text/latex": [
       "\\begin{enumerate*}\n",
       "\\item 10\n",
       "\\item 40\n",
       "\\item 50\n",
       "\\item 60\n",
       "\\item 70\n",
       "\\end{enumerate*}\n"
      ],
      "text/markdown": [
       "1. 10\n",
       "2. 40\n",
       "3. 50\n",
       "4. 60\n",
       "5. 70\n",
       "\n",
       "\n"
      ],
      "text/plain": [
       "[1] 10 40 50 60 70"
      ]
     },
     "metadata": {},
     "output_type": "display_data"
    }
   ],
   "source": [
    "t[c(-2, -3)]"
   ]
  },
  {
   "cell_type": "code",
   "execution_count": 80,
   "id": "a8f576fd",
   "metadata": {},
   "outputs": [
    {
     "data": {
      "text/html": [
       "<ol class=list-inline>\n",
       "\t<li>10</li>\n",
       "\t<li>20</li>\n",
       "\t<li>30</li>\n",
       "</ol>\n"
      ],
      "text/latex": [
       "\\begin{enumerate*}\n",
       "\\item 10\n",
       "\\item 20\n",
       "\\item 30\n",
       "\\end{enumerate*}\n"
      ],
      "text/markdown": [
       "1. 10\n",
       "2. 20\n",
       "3. 30\n",
       "\n",
       "\n"
      ],
      "text/plain": [
       "[1] 10 20 30"
      ]
     },
     "metadata": {},
     "output_type": "display_data"
    },
    {
     "data": {
      "text/html": [
       "<ol class=list-inline>\n",
       "\t<li>10</li>\n",
       "\t<li>20</li>\n",
       "\t<li>30</li>\n",
       "</ol>\n"
      ],
      "text/latex": [
       "\\begin{enumerate*}\n",
       "\\item 10\n",
       "\\item 20\n",
       "\\item 30\n",
       "\\end{enumerate*}\n"
      ],
      "text/markdown": [
       "1. 10\n",
       "2. 20\n",
       "3. 30\n",
       "\n",
       "\n"
      ],
      "text/plain": [
       "[1] 10 20 30"
      ]
     },
     "metadata": {},
     "output_type": "display_data"
    }
   ],
   "source": [
    "# t[c(1,2,3)]\n",
    "t[1:3]\n",
    "t[seq(1,3)]"
   ]
  },
  {
   "cell_type": "code",
   "execution_count": 81,
   "id": "ebe98ca2",
   "metadata": {},
   "outputs": [
    {
     "data": {
      "text/html": [
       "<ol class=list-inline>\n",
       "\t<li>10</li>\n",
       "\t<li>30</li>\n",
       "\t<li>50</li>\n",
       "\t<li>70</li>\n",
       "</ol>\n"
      ],
      "text/latex": [
       "\\begin{enumerate*}\n",
       "\\item 10\n",
       "\\item 30\n",
       "\\item 50\n",
       "\\item 70\n",
       "\\end{enumerate*}\n"
      ],
      "text/markdown": [
       "1. 10\n",
       "2. 30\n",
       "3. 50\n",
       "4. 70\n",
       "\n",
       "\n"
      ],
      "text/plain": [
       "[1] 10 30 50 70"
      ]
     },
     "metadata": {},
     "output_type": "display_data"
    }
   ],
   "source": [
    "## 문제 : 홀수인덱스 데이터선택\n",
    "t[seq(1,length(t),2)]"
   ]
  },
  {
   "cell_type": "code",
   "execution_count": 82,
   "id": "c1a0ce19",
   "metadata": {},
   "outputs": [
    {
     "data": {
      "text/html": [
       "<ol class=list-inline>\n",
       "\t<li>30</li>\n",
       "\t<li>40</li>\n",
       "\t<li>50</li>\n",
       "\t<li>60</li>\n",
       "\t<li>70</li>\n",
       "</ol>\n"
      ],
      "text/latex": [
       "\\begin{enumerate*}\n",
       "\\item 30\n",
       "\\item 40\n",
       "\\item 50\n",
       "\\item 60\n",
       "\\item 70\n",
       "\\end{enumerate*}\n"
      ],
      "text/markdown": [
       "1. 30\n",
       "2. 40\n",
       "3. 50\n",
       "4. 60\n",
       "5. 70\n",
       "\n",
       "\n"
      ],
      "text/plain": [
       "[1] 30 40 50 60 70"
      ]
     },
     "metadata": {},
     "output_type": "display_data"
    }
   ],
   "source": [
    "t[3:length(t)] # R은 끝까지라는걸 해줘야댐"
   ]
  },
  {
   "cell_type": "code",
   "execution_count": 83,
   "id": "6ad1add5",
   "metadata": {},
   "outputs": [
    {
     "data": {
      "text/html": [
       "<ol class=list-inline>\n",
       "\t<li>70</li>\n",
       "\t<li>60</li>\n",
       "\t<li>50</li>\n",
       "\t<li>40</li>\n",
       "\t<li>30</li>\n",
       "\t<li>20</li>\n",
       "\t<li>10</li>\n",
       "</ol>\n"
      ],
      "text/latex": [
       "\\begin{enumerate*}\n",
       "\\item 70\n",
       "\\item 60\n",
       "\\item 50\n",
       "\\item 40\n",
       "\\item 30\n",
       "\\item 20\n",
       "\\item 10\n",
       "\\end{enumerate*}\n"
      ],
      "text/markdown": [
       "1. 70\n",
       "2. 60\n",
       "3. 50\n",
       "4. 40\n",
       "5. 30\n",
       "6. 20\n",
       "7. 10\n",
       "\n",
       "\n"
      ],
      "text/plain": [
       "[1] 70 60 50 40 30 20 10"
      ]
     },
     "metadata": {},
     "output_type": "display_data"
    }
   ],
   "source": [
    "## 문제 : 역순 벡터\n",
    "t[seq(length(t),1,-1)]"
   ]
  },
  {
   "cell_type": "markdown",
   "id": "85dece1a",
   "metadata": {},
   "source": [
    "## 불리언 인덱싱"
   ]
  },
  {
   "cell_type": "code",
   "execution_count": 84,
   "id": "86d77814",
   "metadata": {},
   "outputs": [
    {
     "data": {
      "text/html": [
       "<ol class=list-inline>\n",
       "\t<li>10</li>\n",
       "\t<li>20</li>\n",
       "\t<li>30</li>\n",
       "\t<li>40</li>\n",
       "\t<li>50</li>\n",
       "\t<li>60</li>\n",
       "\t<li>70</li>\n",
       "</ol>\n"
      ],
      "text/latex": [
       "\\begin{enumerate*}\n",
       "\\item 10\n",
       "\\item 20\n",
       "\\item 30\n",
       "\\item 40\n",
       "\\item 50\n",
       "\\item 60\n",
       "\\item 70\n",
       "\\end{enumerate*}\n"
      ],
      "text/markdown": [
       "1. 10\n",
       "2. 20\n",
       "3. 30\n",
       "4. 40\n",
       "5. 50\n",
       "6. 60\n",
       "7. 70\n",
       "\n",
       "\n"
      ],
      "text/plain": [
       "[1] 10 20 30 40 50 60 70"
      ]
     },
     "metadata": {},
     "output_type": "display_data"
    },
    {
     "data": {
      "text/html": [
       "<ol class=list-inline>\n",
       "\t<li>10</li>\n",
       "\t<li>40</li>\n",
       "\t<li>50</li>\n",
       "\t<li>70</li>\n",
       "</ol>\n"
      ],
      "text/latex": [
       "\\begin{enumerate*}\n",
       "\\item 10\n",
       "\\item 40\n",
       "\\item 50\n",
       "\\item 70\n",
       "\\end{enumerate*}\n"
      ],
      "text/markdown": [
       "1. 10\n",
       "2. 40\n",
       "3. 50\n",
       "4. 70\n",
       "\n",
       "\n"
      ],
      "text/plain": [
       "[1] 10 40 50 70"
      ]
     },
     "metadata": {},
     "output_type": "display_data"
    },
    {
     "data": {
      "text/html": [
       "<ol class=list-inline>\n",
       "\t<li>10</li>\n",
       "\t<li>40</li>\n",
       "\t<li>70</li>\n",
       "</ol>\n"
      ],
      "text/latex": [
       "\\begin{enumerate*}\n",
       "\\item 10\n",
       "\\item 40\n",
       "\\item 70\n",
       "\\end{enumerate*}\n"
      ],
      "text/markdown": [
       "1. 10\n",
       "2. 40\n",
       "3. 70\n",
       "\n",
       "\n"
      ],
      "text/plain": [
       "[1] 10 40 70"
      ]
     },
     "metadata": {},
     "output_type": "display_data"
    }
   ],
   "source": [
    "## python : t[[True,False,...,False]] 개수가 꼭 맞춰져야한다. 벡터가아니라 시리즈\n",
    "t\n",
    "t[ c(T,F,F,T,T,F,T)]\n",
    "t[c(T,F,F)] # 반복이 된다"
   ]
  },
  {
   "cell_type": "markdown",
   "id": "060c14a8",
   "metadata": {},
   "source": [
    "## 벡터의 연산(산술,관계,논리)\n",
    "- element wise(요소별 : 동일한 인덱스끼리)\n",
    "- broad casting(자동확장)"
   ]
  },
  {
   "cell_type": "code",
   "execution_count": 85,
   "id": "7c0548d8",
   "metadata": {},
   "outputs": [
    {
     "data": {
      "text/html": [
       "<ol class=list-inline>\n",
       "\t<li>11</li>\n",
       "\t<li>22</li>\n",
       "\t<li>33</li>\n",
       "</ol>\n"
      ],
      "text/latex": [
       "\\begin{enumerate*}\n",
       "\\item 11\n",
       "\\item 22\n",
       "\\item 33\n",
       "\\end{enumerate*}\n"
      ],
      "text/markdown": [
       "1. 11\n",
       "2. 22\n",
       "3. 33\n",
       "\n",
       "\n"
      ],
      "text/plain": [
       "[1] 11 22 33"
      ]
     },
     "metadata": {},
     "output_type": "display_data"
    }
   ],
   "source": [
    "a = c(1,2,3)\n",
    "b = c(10,20,30)\n",
    "a+b"
   ]
  },
  {
   "cell_type": "code",
   "execution_count": 86,
   "id": "8af9e7c9",
   "metadata": {},
   "outputs": [
    {
     "data": {
      "text/html": [
       "<ol class=list-inline>\n",
       "\t<li>10</li>\n",
       "\t<li>20</li>\n",
       "\t<li>30</li>\n",
       "\t<li>40</li>\n",
       "\t<li>50</li>\n",
       "\t<li>60</li>\n",
       "\t<li>70</li>\n",
       "</ol>\n"
      ],
      "text/latex": [
       "\\begin{enumerate*}\n",
       "\\item 10\n",
       "\\item 20\n",
       "\\item 30\n",
       "\\item 40\n",
       "\\item 50\n",
       "\\item 60\n",
       "\\item 70\n",
       "\\end{enumerate*}\n"
      ],
      "text/markdown": [
       "1. 10\n",
       "2. 20\n",
       "3. 30\n",
       "4. 40\n",
       "5. 50\n",
       "6. 60\n",
       "7. 70\n",
       "\n",
       "\n"
      ],
      "text/plain": [
       "[1] 10 20 30 40 50 60 70"
      ]
     },
     "metadata": {},
     "output_type": "display_data"
    },
    {
     "data": {
      "text/html": [
       "<ol class=list-inline>\n",
       "\t<li>12</li>\n",
       "\t<li>22</li>\n",
       "\t<li>32</li>\n",
       "\t<li>42</li>\n",
       "\t<li>52</li>\n",
       "\t<li>62</li>\n",
       "\t<li>72</li>\n",
       "</ol>\n"
      ],
      "text/latex": [
       "\\begin{enumerate*}\n",
       "\\item 12\n",
       "\\item 22\n",
       "\\item 32\n",
       "\\item 42\n",
       "\\item 52\n",
       "\\item 62\n",
       "\\item 72\n",
       "\\end{enumerate*}\n"
      ],
      "text/markdown": [
       "1. 12\n",
       "2. 22\n",
       "3. 32\n",
       "4. 42\n",
       "5. 52\n",
       "6. 62\n",
       "7. 72\n",
       "\n",
       "\n"
      ],
      "text/plain": [
       "[1] 12 22 32 42 52 62 72"
      ]
     },
     "metadata": {},
     "output_type": "display_data"
    },
    {
     "name": "stderr",
     "output_type": "stream",
     "text": [
      "Warning message in t + c(2, 3):\n",
      "\"두 객체의 길이가 서로 배수관계에 있지 않습니다\""
     ]
    },
    {
     "data": {
      "text/html": [
       "<ol class=list-inline>\n",
       "\t<li>12</li>\n",
       "\t<li>23</li>\n",
       "\t<li>32</li>\n",
       "\t<li>43</li>\n",
       "\t<li>52</li>\n",
       "\t<li>63</li>\n",
       "\t<li>72</li>\n",
       "</ol>\n"
      ],
      "text/latex": [
       "\\begin{enumerate*}\n",
       "\\item 12\n",
       "\\item 23\n",
       "\\item 32\n",
       "\\item 43\n",
       "\\item 52\n",
       "\\item 63\n",
       "\\item 72\n",
       "\\end{enumerate*}\n"
      ],
      "text/markdown": [
       "1. 12\n",
       "2. 23\n",
       "3. 32\n",
       "4. 43\n",
       "5. 52\n",
       "6. 63\n",
       "7. 72\n",
       "\n",
       "\n"
      ],
      "text/plain": [
       "[1] 12 23 32 43 52 63 72"
      ]
     },
     "metadata": {},
     "output_type": "display_data"
    }
   ],
   "source": [
    "t\n",
    "t + 2 # c(2,2,2,2,2)\n",
    "t + c(2,3) # c(2,3,2,3,2,3,2)"
   ]
  },
  {
   "cell_type": "code",
   "execution_count": 87,
   "id": "a35f532f",
   "metadata": {},
   "outputs": [
    {
     "data": {
      "text/html": [
       "<ol class=list-inline>\n",
       "\t<li>967</li>\n",
       "\t<li>1934</li>\n",
       "\t<li>2901</li>\n",
       "\t<li>3868</li>\n",
       "</ol>\n"
      ],
      "text/latex": [
       "\\begin{enumerate*}\n",
       "\\item 967\n",
       "\\item 1934\n",
       "\\item 2901\n",
       "\\item 3868\n",
       "\\end{enumerate*}\n"
      ],
      "text/markdown": [
       "1. 967\n",
       "2. 1934\n",
       "3. 2901\n",
       "4. 3868\n",
       "\n",
       "\n"
      ],
      "text/plain": [
       "[1]  967 1934 2901 3868"
      ]
     },
     "metadata": {},
     "output_type": "display_data"
    }
   ],
   "source": [
    "# 각 연봉 세금 3.3%를 제한 실수령액을 구하시요\n",
    "salary <- c(1000,2000,3000,4000)\n",
    "salary * 0.967"
   ]
  },
  {
   "cell_type": "markdown",
   "id": "bad714e3",
   "metadata": {},
   "source": [
    "## 관계연산자"
   ]
  },
  {
   "cell_type": "code",
   "execution_count": 89,
   "id": "d260789c",
   "metadata": {},
   "outputs": [
    {
     "data": {
      "text/html": [
       "<ol class=list-inline>\n",
       "\t<li>10</li>\n",
       "\t<li>20</li>\n",
       "\t<li>30</li>\n",
       "\t<li>40</li>\n",
       "\t<li>50</li>\n",
       "\t<li>60</li>\n",
       "\t<li>70</li>\n",
       "</ol>\n"
      ],
      "text/latex": [
       "\\begin{enumerate*}\n",
       "\\item 10\n",
       "\\item 20\n",
       "\\item 30\n",
       "\\item 40\n",
       "\\item 50\n",
       "\\item 60\n",
       "\\item 70\n",
       "\\end{enumerate*}\n"
      ],
      "text/markdown": [
       "1. 10\n",
       "2. 20\n",
       "3. 30\n",
       "4. 40\n",
       "5. 50\n",
       "6. 60\n",
       "7. 70\n",
       "\n",
       "\n"
      ],
      "text/plain": [
       "[1] 10 20 30 40 50 60 70"
      ]
     },
     "metadata": {},
     "output_type": "display_data"
    },
    {
     "data": {
      "text/html": [
       "<ol class=list-inline>\n",
       "\t<li>FALSE</li>\n",
       "\t<li>FALSE</li>\n",
       "\t<li>FALSE</li>\n",
       "\t<li>TRUE</li>\n",
       "\t<li>TRUE</li>\n",
       "\t<li>TRUE</li>\n",
       "\t<li>TRUE</li>\n",
       "</ol>\n"
      ],
      "text/latex": [
       "\\begin{enumerate*}\n",
       "\\item FALSE\n",
       "\\item FALSE\n",
       "\\item FALSE\n",
       "\\item TRUE\n",
       "\\item TRUE\n",
       "\\item TRUE\n",
       "\\item TRUE\n",
       "\\end{enumerate*}\n"
      ],
      "text/markdown": [
       "1. FALSE\n",
       "2. FALSE\n",
       "3. FALSE\n",
       "4. TRUE\n",
       "5. TRUE\n",
       "6. TRUE\n",
       "7. TRUE\n",
       "\n",
       "\n"
      ],
      "text/plain": [
       "[1] FALSE FALSE FALSE  TRUE  TRUE  TRUE  TRUE"
      ]
     },
     "metadata": {},
     "output_type": "display_data"
    },
    {
     "data": {
      "text/html": [
       "<ol class=list-inline>\n",
       "\t<li>40</li>\n",
       "\t<li>50</li>\n",
       "\t<li>60</li>\n",
       "\t<li>70</li>\n",
       "</ol>\n"
      ],
      "text/latex": [
       "\\begin{enumerate*}\n",
       "\\item 40\n",
       "\\item 50\n",
       "\\item 60\n",
       "\\item 70\n",
       "\\end{enumerate*}\n"
      ],
      "text/markdown": [
       "1. 40\n",
       "2. 50\n",
       "3. 60\n",
       "4. 70\n",
       "\n",
       "\n"
      ],
      "text/plain": [
       "[1] 40 50 60 70"
      ]
     },
     "metadata": {},
     "output_type": "display_data"
    }
   ],
   "source": [
    "t\n",
    "t>30\n",
    "t[ t>30 ]"
   ]
  },
  {
   "cell_type": "code",
   "execution_count": 90,
   "id": "173b9a00",
   "metadata": {},
   "outputs": [
    {
     "data": {
      "text/html": [
       "<ol class=list-inline>\n",
       "\t<li>10</li>\n",
       "\t<li>20</li>\n",
       "\t<li>30</li>\n",
       "\t<li>40</li>\n",
       "\t<li>50</li>\n",
       "\t<li>60</li>\n",
       "\t<li>70</li>\n",
       "</ol>\n"
      ],
      "text/latex": [
       "\\begin{enumerate*}\n",
       "\\item 10\n",
       "\\item 20\n",
       "\\item 30\n",
       "\\item 40\n",
       "\\item 50\n",
       "\\item 60\n",
       "\\item 70\n",
       "\\end{enumerate*}\n"
      ],
      "text/markdown": [
       "1. 10\n",
       "2. 20\n",
       "3. 30\n",
       "4. 40\n",
       "5. 50\n",
       "6. 60\n",
       "7. 70\n",
       "\n",
       "\n"
      ],
      "text/plain": [
       "[1] 10 20 30 40 50 60 70"
      ]
     },
     "metadata": {},
     "output_type": "display_data"
    },
    {
     "data": {
      "text/html": [
       "<ol class=list-inline>\n",
       "\t<li>FALSE</li>\n",
       "\t<li>FALSE</li>\n",
       "\t<li>TRUE</li>\n",
       "\t<li>FALSE</li>\n",
       "\t<li>TRUE</li>\n",
       "\t<li>FALSE</li>\n",
       "\t<li>FALSE</li>\n",
       "</ol>\n"
      ],
      "text/latex": [
       "\\begin{enumerate*}\n",
       "\\item FALSE\n",
       "\\item FALSE\n",
       "\\item TRUE\n",
       "\\item FALSE\n",
       "\\item TRUE\n",
       "\\item FALSE\n",
       "\\item FALSE\n",
       "\\end{enumerate*}\n"
      ],
      "text/markdown": [
       "1. FALSE\n",
       "2. FALSE\n",
       "3. TRUE\n",
       "4. FALSE\n",
       "5. TRUE\n",
       "6. FALSE\n",
       "7. FALSE\n",
       "\n",
       "\n"
      ],
      "text/plain": [
       "[1] FALSE FALSE  TRUE FALSE  TRUE FALSE FALSE"
      ]
     },
     "metadata": {},
     "output_type": "display_data"
    },
    {
     "data": {
      "text/html": [
       "<ol class=list-inline>\n",
       "\t<li>FALSE</li>\n",
       "\t<li>TRUE</li>\n",
       "\t<li>TRUE</li>\n",
       "\t<li>TRUE</li>\n",
       "\t<li>TRUE</li>\n",
       "\t<li>FALSE</li>\n",
       "\t<li>FALSE</li>\n",
       "</ol>\n"
      ],
      "text/latex": [
       "\\begin{enumerate*}\n",
       "\\item FALSE\n",
       "\\item TRUE\n",
       "\\item TRUE\n",
       "\\item TRUE\n",
       "\\item TRUE\n",
       "\\item FALSE\n",
       "\\item FALSE\n",
       "\\end{enumerate*}\n"
      ],
      "text/markdown": [
       "1. FALSE\n",
       "2. TRUE\n",
       "3. TRUE\n",
       "4. TRUE\n",
       "5. TRUE\n",
       "6. FALSE\n",
       "7. FALSE\n",
       "\n",
       "\n"
      ],
      "text/plain": [
       "[1] FALSE  TRUE  TRUE  TRUE  TRUE FALSE FALSE"
      ]
     },
     "metadata": {},
     "output_type": "display_data"
    }
   ],
   "source": [
    "t\n",
    "t == 30 | t == 50\n",
    "t >= 20 & t <= 50"
   ]
  },
  {
   "cell_type": "code",
   "execution_count": 91,
   "id": "ffd78b36",
   "metadata": {},
   "outputs": [
    {
     "data": {
      "text/html": [
       "<ol class=list-inline>\n",
       "\t<li>10</li>\n",
       "\t<li>20</li>\n",
       "\t<li>30</li>\n",
       "\t<li>40</li>\n",
       "\t<li>50</li>\n",
       "\t<li>60</li>\n",
       "\t<li>70</li>\n",
       "</ol>\n"
      ],
      "text/latex": [
       "\\begin{enumerate*}\n",
       "\\item 10\n",
       "\\item 20\n",
       "\\item 30\n",
       "\\item 40\n",
       "\\item 50\n",
       "\\item 60\n",
       "\\item 70\n",
       "\\end{enumerate*}\n"
      ],
      "text/markdown": [
       "1. 10\n",
       "2. 20\n",
       "3. 30\n",
       "4. 40\n",
       "5. 50\n",
       "6. 60\n",
       "7. 70\n",
       "\n",
       "\n"
      ],
      "text/plain": [
       "[1] 10 20 30 40 50 60 70"
      ]
     },
     "metadata": {},
     "output_type": "display_data"
    },
    {
     "data": {
      "text/html": [
       "<ol class=list-inline>\n",
       "\t<li>30</li>\n",
       "\t<li>50</li>\n",
       "</ol>\n"
      ],
      "text/latex": [
       "\\begin{enumerate*}\n",
       "\\item 30\n",
       "\\item 50\n",
       "\\end{enumerate*}\n"
      ],
      "text/markdown": [
       "1. 30\n",
       "2. 50\n",
       "\n",
       "\n"
      ],
      "text/plain": [
       "[1] 30 50"
      ]
     },
     "metadata": {},
     "output_type": "display_data"
    },
    {
     "data": {
      "text/html": [
       "<ol class=list-inline>\n",
       "\t<li>20</li>\n",
       "\t<li>30</li>\n",
       "\t<li>40</li>\n",
       "\t<li>50</li>\n",
       "</ol>\n"
      ],
      "text/latex": [
       "\\begin{enumerate*}\n",
       "\\item 20\n",
       "\\item 30\n",
       "\\item 40\n",
       "\\item 50\n",
       "\\end{enumerate*}\n"
      ],
      "text/markdown": [
       "1. 20\n",
       "2. 30\n",
       "3. 40\n",
       "4. 50\n",
       "\n",
       "\n"
      ],
      "text/plain": [
       "[1] 20 30 40 50"
      ]
     },
     "metadata": {},
     "output_type": "display_data"
    }
   ],
   "source": [
    "t\n",
    "t[t == 30 | t == 50]\n",
    "t[t >= 20 & t <= 50]"
   ]
  },
  {
   "cell_type": "markdown",
   "id": "6a59aaef",
   "metadata": {},
   "source": [
    "## 수정"
   ]
  },
  {
   "cell_type": "code",
   "execution_count": 92,
   "id": "22e82d62",
   "metadata": {},
   "outputs": [
    {
     "data": {
      "text/html": [
       "<ol class=list-inline>\n",
       "\t<li>10</li>\n",
       "\t<li>20</li>\n",
       "\t<li>30</li>\n",
       "\t<li>40</li>\n",
       "\t<li>50</li>\n",
       "\t<li>60</li>\n",
       "\t<li>70</li>\n",
       "</ol>\n"
      ],
      "text/latex": [
       "\\begin{enumerate*}\n",
       "\\item 10\n",
       "\\item 20\n",
       "\\item 30\n",
       "\\item 40\n",
       "\\item 50\n",
       "\\item 60\n",
       "\\item 70\n",
       "\\end{enumerate*}\n"
      ],
      "text/markdown": [
       "1. 10\n",
       "2. 20\n",
       "3. 30\n",
       "4. 40\n",
       "5. 50\n",
       "6. 60\n",
       "7. 70\n",
       "\n",
       "\n"
      ],
      "text/plain": [
       "[1] 10 20 30 40 50 60 70"
      ]
     },
     "metadata": {},
     "output_type": "display_data"
    },
    {
     "data": {
      "text/html": [
       "<ol class=list-inline>\n",
       "\t<li>100</li>\n",
       "\t<li>20</li>\n",
       "\t<li>30</li>\n",
       "\t<li>40</li>\n",
       "\t<li>50</li>\n",
       "\t<li>60</li>\n",
       "\t<li>70</li>\n",
       "</ol>\n"
      ],
      "text/latex": [
       "\\begin{enumerate*}\n",
       "\\item 100\n",
       "\\item 20\n",
       "\\item 30\n",
       "\\item 40\n",
       "\\item 50\n",
       "\\item 60\n",
       "\\item 70\n",
       "\\end{enumerate*}\n"
      ],
      "text/markdown": [
       "1. 100\n",
       "2. 20\n",
       "3. 30\n",
       "4. 40\n",
       "5. 50\n",
       "6. 60\n",
       "7. 70\n",
       "\n",
       "\n"
      ],
      "text/plain": [
       "[1] 100  20  30  40  50  60  70"
      ]
     },
     "metadata": {},
     "output_type": "display_data"
    }
   ],
   "source": [
    "t\n",
    "t[1] = 100\n",
    "t"
   ]
  },
  {
   "cell_type": "code",
   "execution_count": 93,
   "id": "661d95f3",
   "metadata": {},
   "outputs": [
    {
     "data": {
      "text/html": [
       "<ol class=list-inline>\n",
       "\t<li>100</li>\n",
       "\t<li>200</li>\n",
       "\t<li>200</li>\n",
       "\t<li>200</li>\n",
       "\t<li>50</li>\n",
       "\t<li>60</li>\n",
       "\t<li>70</li>\n",
       "</ol>\n"
      ],
      "text/latex": [
       "\\begin{enumerate*}\n",
       "\\item 100\n",
       "\\item 200\n",
       "\\item 200\n",
       "\\item 200\n",
       "\\item 50\n",
       "\\item 60\n",
       "\\item 70\n",
       "\\end{enumerate*}\n"
      ],
      "text/markdown": [
       "1. 100\n",
       "2. 200\n",
       "3. 200\n",
       "4. 200\n",
       "5. 50\n",
       "6. 60\n",
       "7. 70\n",
       "\n",
       "\n"
      ],
      "text/plain": [
       "[1] 100 200 200 200  50  60  70"
      ]
     },
     "metadata": {},
     "output_type": "display_data"
    }
   ],
   "source": [
    "t[2:4] = 200\n",
    "t"
   ]
  },
  {
   "cell_type": "code",
   "execution_count": 94,
   "id": "98aad00d",
   "metadata": {},
   "outputs": [
    {
     "data": {
      "text/html": [
       "<ol class=list-inline>\n",
       "\t<li>10</li>\n",
       "\t<li>20</li>\n",
       "\t<li>30</li>\n",
       "\t<li>40</li>\n",
       "\t<li>50</li>\n",
       "\t<li>60</li>\n",
       "\t<li>70</li>\n",
       "</ol>\n"
      ],
      "text/latex": [
       "\\begin{enumerate*}\n",
       "\\item 10\n",
       "\\item 20\n",
       "\\item 30\n",
       "\\item 40\n",
       "\\item 50\n",
       "\\item 60\n",
       "\\item 70\n",
       "\\end{enumerate*}\n"
      ],
      "text/markdown": [
       "1. 10\n",
       "2. 20\n",
       "3. 30\n",
       "4. 40\n",
       "5. 50\n",
       "6. 60\n",
       "7. 70\n",
       "\n",
       "\n"
      ],
      "text/plain": [
       "[1] 10 20 30 40 50 60 70"
      ]
     },
     "metadata": {},
     "output_type": "display_data"
    }
   ],
   "source": [
    "t = c(10,20,30,40,50,60,70)\n",
    "t"
   ]
  },
  {
   "cell_type": "code",
   "execution_count": 95,
   "id": "09db5b51",
   "metadata": {},
   "outputs": [
    {
     "data": {
      "text/html": [
       "<ol class=list-inline>\n",
       "\t<li>22</li>\n",
       "\t<li>32</li>\n",
       "\t<li>42</li>\n",
       "</ol>\n"
      ],
      "text/latex": [
       "\\begin{enumerate*}\n",
       "\\item 22\n",
       "\\item 32\n",
       "\\item 42\n",
       "\\end{enumerate*}\n"
      ],
      "text/markdown": [
       "1. 22\n",
       "2. 32\n",
       "3. 42\n",
       "\n",
       "\n"
      ],
      "text/plain": [
       "[1] 22 32 42"
      ]
     },
     "metadata": {},
     "output_type": "display_data"
    },
    {
     "data": {
      "text/html": [
       "<ol class=list-inline>\n",
       "\t<li>10</li>\n",
       "\t<li>20</li>\n",
       "\t<li>30</li>\n",
       "\t<li>40</li>\n",
       "\t<li>50</li>\n",
       "\t<li>60</li>\n",
       "\t<li>70</li>\n",
       "</ol>\n"
      ],
      "text/latex": [
       "\\begin{enumerate*}\n",
       "\\item 10\n",
       "\\item 20\n",
       "\\item 30\n",
       "\\item 40\n",
       "\\item 50\n",
       "\\item 60\n",
       "\\item 70\n",
       "\\end{enumerate*}\n"
      ],
      "text/markdown": [
       "1. 10\n",
       "2. 20\n",
       "3. 30\n",
       "4. 40\n",
       "5. 50\n",
       "6. 60\n",
       "7. 70\n",
       "\n",
       "\n"
      ],
      "text/plain": [
       "[1] 10 20 30 40 50 60 70"
      ]
     },
     "metadata": {},
     "output_type": "display_data"
    }
   ],
   "source": [
    "t[2:4] + 2\n",
    "t"
   ]
  },
  {
   "cell_type": "code",
   "execution_count": 96,
   "id": "5f393fdc",
   "metadata": {},
   "outputs": [
    {
     "data": {
      "text/html": [
       "<ol class=list-inline>\n",
       "\t<li>10</li>\n",
       "\t<li>11</li>\n",
       "\t<li>22</li>\n",
       "\t<li>33</li>\n",
       "\t<li>50</li>\n",
       "\t<li>60</li>\n",
       "\t<li>70</li>\n",
       "</ol>\n"
      ],
      "text/latex": [
       "\\begin{enumerate*}\n",
       "\\item 10\n",
       "\\item 11\n",
       "\\item 22\n",
       "\\item 33\n",
       "\\item 50\n",
       "\\item 60\n",
       "\\item 70\n",
       "\\end{enumerate*}\n"
      ],
      "text/markdown": [
       "1. 10\n",
       "2. 11\n",
       "3. 22\n",
       "4. 33\n",
       "5. 50\n",
       "6. 60\n",
       "7. 70\n",
       "\n",
       "\n"
      ],
      "text/plain": [
       "[1] 10 11 22 33 50 60 70"
      ]
     },
     "metadata": {},
     "output_type": "display_data"
    }
   ],
   "source": [
    "t[2:4] = c(11,22,33)\n",
    "t"
   ]
  },
  {
   "cell_type": "code",
   "execution_count": 97,
   "id": "676c4a52",
   "metadata": {},
   "outputs": [
    {
     "data": {
      "text/html": [
       "<ol class=list-inline>\n",
       "\t<li>10</li>\n",
       "\t<li>11</li>\n",
       "\t<li>24</li>\n",
       "\t<li>35</li>\n",
       "\t<li>52</li>\n",
       "\t<li>62</li>\n",
       "\t<li>70</li>\n",
       "</ol>\n"
      ],
      "text/latex": [
       "\\begin{enumerate*}\n",
       "\\item 10\n",
       "\\item 11\n",
       "\\item 24\n",
       "\\item 35\n",
       "\\item 52\n",
       "\\item 62\n",
       "\\item 70\n",
       "\\end{enumerate*}\n"
      ],
      "text/markdown": [
       "1. 10\n",
       "2. 11\n",
       "3. 24\n",
       "4. 35\n",
       "5. 52\n",
       "6. 62\n",
       "7. 70\n",
       "\n",
       "\n"
      ],
      "text/plain": [
       "[1] 10 11 24 35 52 62 70"
      ]
     },
     "metadata": {},
     "output_type": "display_data"
    }
   ],
   "source": [
    "t[3:6] = t[3:6] + 2\n",
    "t"
   ]
  },
  {
   "cell_type": "code",
   "execution_count": 98,
   "id": "3294f0bc",
   "metadata": {},
   "outputs": [
    {
     "data": {
      "text/html": [
       "<ol class=list-inline>\n",
       "\t<li>10</li>\n",
       "\t<li>20</li>\n",
       "\t<li>33</li>\n",
       "\t<li>43</li>\n",
       "\t<li>53</li>\n",
       "\t<li>63</li>\n",
       "\t<li>73</li>\n",
       "</ol>\n"
      ],
      "text/latex": [
       "\\begin{enumerate*}\n",
       "\\item 10\n",
       "\\item 20\n",
       "\\item 33\n",
       "\\item 43\n",
       "\\item 53\n",
       "\\item 63\n",
       "\\item 73\n",
       "\\end{enumerate*}\n"
      ],
      "text/markdown": [
       "1. 10\n",
       "2. 20\n",
       "3. 33\n",
       "4. 43\n",
       "5. 53\n",
       "6. 63\n",
       "7. 73\n",
       "\n",
       "\n"
      ],
      "text/plain": [
       "[1] 10 20 33 43 53 63 73"
      ]
     },
     "metadata": {},
     "output_type": "display_data"
    }
   ],
   "source": [
    "t = c(10,20,30,40,50,60,70)\n",
    "# 퀴즈 30이상인데이터에 기존의 값에 3을 더한 것으로 수정하셈\n",
    "t[3:7] = t[3:7] + 3\n",
    "t"
   ]
  },
  {
   "cell_type": "code",
   "execution_count": 99,
   "id": "4064828b",
   "metadata": {},
   "outputs": [
    {
     "data": {
      "text/html": [
       "<ol class=list-inline>\n",
       "\t<li>10</li>\n",
       "\t<li>20</li>\n",
       "\t<li>33</li>\n",
       "\t<li>43</li>\n",
       "\t<li>53</li>\n",
       "\t<li>63</li>\n",
       "\t<li>73</li>\n",
       "</ol>\n"
      ],
      "text/latex": [
       "\\begin{enumerate*}\n",
       "\\item 10\n",
       "\\item 20\n",
       "\\item 33\n",
       "\\item 43\n",
       "\\item 53\n",
       "\\item 63\n",
       "\\item 73\n",
       "\\end{enumerate*}\n"
      ],
      "text/markdown": [
       "1. 10\n",
       "2. 20\n",
       "3. 33\n",
       "4. 43\n",
       "5. 53\n",
       "6. 63\n",
       "7. 73\n",
       "\n",
       "\n"
      ],
      "text/plain": [
       "[1] 10 20 33 43 53 63 73"
      ]
     },
     "metadata": {},
     "output_type": "display_data"
    }
   ],
   "source": [
    "t = c(10,20,30,40,50,60,70)\n",
    "t[t>=30] = t[t>=30]+3\n",
    "t"
   ]
  },
  {
   "cell_type": "markdown",
   "id": "96451b5b",
   "metadata": {},
   "source": [
    "## 추가"
   ]
  },
  {
   "cell_type": "code",
   "execution_count": 100,
   "id": "fa8b8184",
   "metadata": {},
   "outputs": [],
   "source": [
    "t = c(10,20,30,40,50,60,70)"
   ]
  },
  {
   "cell_type": "code",
   "execution_count": 101,
   "id": "79fad2ea",
   "metadata": {},
   "outputs": [
    {
     "data": {
      "text/html": [
       "<ol class=list-inline>\n",
       "\t<li>11</li>\n",
       "\t<li>22</li>\n",
       "\t<li>10</li>\n",
       "\t<li>20</li>\n",
       "\t<li>30</li>\n",
       "\t<li>40</li>\n",
       "\t<li>50</li>\n",
       "\t<li>60</li>\n",
       "\t<li>70</li>\n",
       "</ol>\n"
      ],
      "text/latex": [
       "\\begin{enumerate*}\n",
       "\\item 11\n",
       "\\item 22\n",
       "\\item 10\n",
       "\\item 20\n",
       "\\item 30\n",
       "\\item 40\n",
       "\\item 50\n",
       "\\item 60\n",
       "\\item 70\n",
       "\\end{enumerate*}\n"
      ],
      "text/markdown": [
       "1. 11\n",
       "2. 22\n",
       "3. 10\n",
       "4. 20\n",
       "5. 30\n",
       "6. 40\n",
       "7. 50\n",
       "8. 60\n",
       "9. 70\n",
       "\n",
       "\n"
      ],
      "text/plain": [
       "[1] 11 22 10 20 30 40 50 60 70"
      ]
     },
     "metadata": {},
     "output_type": "display_data"
    }
   ],
   "source": [
    "c( c(11,22), t)"
   ]
  },
  {
   "cell_type": "code",
   "execution_count": null,
   "id": "2b384620",
   "metadata": {},
   "outputs": [],
   "source": [
    "# t = c( c(11,22), t) # 적용"
   ]
  },
  {
   "cell_type": "code",
   "execution_count": 102,
   "id": "a54dd3f0",
   "metadata": {},
   "outputs": [
    {
     "data": {
      "text/html": [
       "<ol class=list-inline>\n",
       "\t<li>10</li>\n",
       "\t<li>20</li>\n",
       "\t<li>30</li>\n",
       "\t<li>40</li>\n",
       "\t<li>50</li>\n",
       "\t<li>60</li>\n",
       "\t<li>70</li>\n",
       "\t<li>11</li>\n",
       "\t<li>22</li>\n",
       "</ol>\n"
      ],
      "text/latex": [
       "\\begin{enumerate*}\n",
       "\\item 10\n",
       "\\item 20\n",
       "\\item 30\n",
       "\\item 40\n",
       "\\item 50\n",
       "\\item 60\n",
       "\\item 70\n",
       "\\item 11\n",
       "\\item 22\n",
       "\\end{enumerate*}\n"
      ],
      "text/markdown": [
       "1. 10\n",
       "2. 20\n",
       "3. 30\n",
       "4. 40\n",
       "5. 50\n",
       "6. 60\n",
       "7. 70\n",
       "8. 11\n",
       "9. 22\n",
       "\n",
       "\n"
      ],
      "text/plain": [
       "[1] 10 20 30 40 50 60 70 11 22"
      ]
     },
     "metadata": {},
     "output_type": "display_data"
    }
   ],
   "source": [
    "c( t, c(11,22))"
   ]
  },
  {
   "cell_type": "code",
   "execution_count": null,
   "id": "81e4808a",
   "metadata": {},
   "outputs": [],
   "source": [
    "?append"
   ]
  },
  {
   "cell_type": "code",
   "execution_count": 103,
   "id": "d4eb35d0",
   "metadata": {},
   "outputs": [
    {
     "data": {
      "text/html": [
       "<ol class=list-inline>\n",
       "\t<li>10</li>\n",
       "\t<li>20</li>\n",
       "\t<li>30</li>\n",
       "\t<li>40</li>\n",
       "\t<li>50</li>\n",
       "\t<li>60</li>\n",
       "\t<li>70</li>\n",
       "\t<li>1</li>\n",
       "\t<li>2</li>\n",
       "\t<li>3</li>\n",
       "</ol>\n"
      ],
      "text/latex": [
       "\\begin{enumerate*}\n",
       "\\item 10\n",
       "\\item 20\n",
       "\\item 30\n",
       "\\item 40\n",
       "\\item 50\n",
       "\\item 60\n",
       "\\item 70\n",
       "\\item 1\n",
       "\\item 2\n",
       "\\item 3\n",
       "\\end{enumerate*}\n"
      ],
      "text/markdown": [
       "1. 10\n",
       "2. 20\n",
       "3. 30\n",
       "4. 40\n",
       "5. 50\n",
       "6. 60\n",
       "7. 70\n",
       "8. 1\n",
       "9. 2\n",
       "10. 3\n",
       "\n",
       "\n"
      ],
      "text/plain": [
       " [1] 10 20 30 40 50 60 70  1  2  3"
      ]
     },
     "metadata": {},
     "output_type": "display_data"
    }
   ],
   "source": [
    "append(t, c(1,2,3))"
   ]
  },
  {
   "cell_type": "code",
   "execution_count": 104,
   "id": "ad7af29a",
   "metadata": {},
   "outputs": [
    {
     "data": {
      "text/html": [
       "<ol class=list-inline>\n",
       "\t<li>10</li>\n",
       "\t<li>20</li>\n",
       "\t<li>1</li>\n",
       "\t<li>2</li>\n",
       "\t<li>3</li>\n",
       "\t<li>30</li>\n",
       "\t<li>40</li>\n",
       "\t<li>50</li>\n",
       "\t<li>60</li>\n",
       "\t<li>70</li>\n",
       "</ol>\n"
      ],
      "text/latex": [
       "\\begin{enumerate*}\n",
       "\\item 10\n",
       "\\item 20\n",
       "\\item 1\n",
       "\\item 2\n",
       "\\item 3\n",
       "\\item 30\n",
       "\\item 40\n",
       "\\item 50\n",
       "\\item 60\n",
       "\\item 70\n",
       "\\end{enumerate*}\n"
      ],
      "text/markdown": [
       "1. 10\n",
       "2. 20\n",
       "3. 1\n",
       "4. 2\n",
       "5. 3\n",
       "6. 30\n",
       "7. 40\n",
       "8. 50\n",
       "9. 60\n",
       "10. 70\n",
       "\n",
       "\n"
      ],
      "text/plain": [
       " [1] 10 20  1  2  3 30 40 50 60 70"
      ]
     },
     "metadata": {},
     "output_type": "display_data"
    }
   ],
   "source": [
    "append(t, c(1,2,3),2)"
   ]
  },
  {
   "cell_type": "code",
   "execution_count": 105,
   "id": "d27aca9c",
   "metadata": {},
   "outputs": [
    {
     "data": {
      "text/html": [
       "<ol class=list-inline>\n",
       "\t<li>10</li>\n",
       "\t<li>20</li>\n",
       "</ol>\n"
      ],
      "text/latex": [
       "\\begin{enumerate*}\n",
       "\\item 10\n",
       "\\item 20\n",
       "\\end{enumerate*}\n"
      ],
      "text/markdown": [
       "1. 10\n",
       "2. 20\n",
       "\n",
       "\n"
      ],
      "text/plain": [
       "[1] 10 20"
      ]
     },
     "metadata": {},
     "output_type": "display_data"
    }
   ],
   "source": [
    "u = c()\n",
    "u = append(u,10)\n",
    "u = append(u,20)\n",
    "u"
   ]
  },
  {
   "cell_type": "code",
   "execution_count": 106,
   "id": "7619a8c4",
   "metadata": {},
   "outputs": [
    {
     "name": "stdout",
     "output_type": "stream",
     "text": [
      "\n",
      "  There is a binary version available but the source version is later:\n",
      "         binary source needs_compilation\n",
      "magrittr  2.0.1  2.0.3              TRUE\n",
      "\n",
      "  Binaries will be installed\n",
      "package 'magrittr' successfully unpacked and MD5 sums checked\n"
     ]
    },
    {
     "name": "stderr",
     "output_type": "stream",
     "text": [
      "Warning message:\n",
      "\"cannot remove prior installation of package 'magrittr'\"Warning message in file.copy(savedcopy, lib, recursive = TRUE):\n",
      "\"C:\\Users\\MEDICI\\Anaconda3\\Lib\\R\\library\\00LOCK\\magrittr\\libs\\x64\\magrittr.dll를 C:\\Users\\MEDICI\\Anaconda3\\Lib\\R\\library\\magrittr\\libs\\x64\\magrittr.dll로 복사하는데 문제가 발생했습니다: Permission denied\"Warning message:\n",
      "\"restored 'magrittr'\""
     ]
    },
    {
     "name": "stdout",
     "output_type": "stream",
     "text": [
      "\n",
      "The downloaded binary packages are in\n",
      "\tC:\\Users\\MEDICI\\AppData\\Local\\Temp\\RtmpQ90sZG\\downloaded_packages\n"
     ]
    }
   ],
   "source": [
    "install.packages(\"magrittr\")"
   ]
  },
  {
   "cell_type": "code",
   "execution_count": 107,
   "id": "e4faa524",
   "metadata": {},
   "outputs": [
    {
     "name": "stderr",
     "output_type": "stream",
     "text": [
      "Warning message:\n",
      "\"package 'magrittr' was built under R version 3.6.3\""
     ]
    }
   ],
   "source": [
    "library( magrittr)"
   ]
  },
  {
   "cell_type": "code",
   "execution_count": 108,
   "id": "b10e067a",
   "metadata": {},
   "outputs": [
    {
     "data": {
      "text/html": [
       "<ol class=list-inline>\n",
       "\t<li>10</li>\n",
       "\t<li>20</li>\n",
       "\t<li>30</li>\n",
       "\t<li>40</li>\n",
       "\t<li>50</li>\n",
       "\t<li>60</li>\n",
       "\t<li>70</li>\n",
       "\t<li>11</li>\n",
       "\t<li>22</li>\n",
       "\t<li>33</li>\n",
       "</ol>\n"
      ],
      "text/latex": [
       "\\begin{enumerate*}\n",
       "\\item 10\n",
       "\\item 20\n",
       "\\item 30\n",
       "\\item 40\n",
       "\\item 50\n",
       "\\item 60\n",
       "\\item 70\n",
       "\\item 11\n",
       "\\item 22\n",
       "\\item 33\n",
       "\\end{enumerate*}\n"
      ],
      "text/markdown": [
       "1. 10\n",
       "2. 20\n",
       "3. 30\n",
       "4. 40\n",
       "5. 50\n",
       "6. 60\n",
       "7. 70\n",
       "8. 11\n",
       "9. 22\n",
       "10. 33\n",
       "\n",
       "\n"
      ],
      "text/plain": [
       " [1] 10 20 30 40 50 60 70 11 22 33"
      ]
     },
     "metadata": {},
     "output_type": "display_data"
    },
    {
     "data": {
      "text/html": [
       "<ol class=list-inline>\n",
       "\t<li>10</li>\n",
       "\t<li>20</li>\n",
       "\t<li>30</li>\n",
       "\t<li>40</li>\n",
       "\t<li>50</li>\n",
       "\t<li>60</li>\n",
       "\t<li>70</li>\n",
       "\t<li>11</li>\n",
       "\t<li>22</li>\n",
       "\t<li>33</li>\n",
       "</ol>\n"
      ],
      "text/latex": [
       "\\begin{enumerate*}\n",
       "\\item 10\n",
       "\\item 20\n",
       "\\item 30\n",
       "\\item 40\n",
       "\\item 50\n",
       "\\item 60\n",
       "\\item 70\n",
       "\\item 11\n",
       "\\item 22\n",
       "\\item 33\n",
       "\\end{enumerate*}\n"
      ],
      "text/markdown": [
       "1. 10\n",
       "2. 20\n",
       "3. 30\n",
       "4. 40\n",
       "5. 50\n",
       "6. 60\n",
       "7. 70\n",
       "8. 11\n",
       "9. 22\n",
       "10. 33\n",
       "\n",
       "\n"
      ],
      "text/plain": [
       " [1] 10 20 30 40 50 60 70 11 22 33"
      ]
     },
     "metadata": {},
     "output_type": "display_data"
    },
    {
     "data": {
      "text/html": [
       "<ol class=list-inline>\n",
       "\t<li>10</li>\n",
       "\t<li>20</li>\n",
       "\t<li>30</li>\n",
       "\t<li>40</li>\n",
       "\t<li>50</li>\n",
       "\t<li>60</li>\n",
       "\t<li>70</li>\n",
       "\t<li>11</li>\n",
       "\t<li>22</li>\n",
       "\t<li>33</li>\n",
       "\t<li>11</li>\n",
       "\t<li>22</li>\n",
       "\t<li>33</li>\n",
       "</ol>\n"
      ],
      "text/latex": [
       "\\begin{enumerate*}\n",
       "\\item 10\n",
       "\\item 20\n",
       "\\item 30\n",
       "\\item 40\n",
       "\\item 50\n",
       "\\item 60\n",
       "\\item 70\n",
       "\\item 11\n",
       "\\item 22\n",
       "\\item 33\n",
       "\\item 11\n",
       "\\item 22\n",
       "\\item 33\n",
       "\\end{enumerate*}\n"
      ],
      "text/markdown": [
       "1. 10\n",
       "2. 20\n",
       "3. 30\n",
       "4. 40\n",
       "5. 50\n",
       "6. 60\n",
       "7. 70\n",
       "8. 11\n",
       "9. 22\n",
       "10. 33\n",
       "11. 11\n",
       "12. 22\n",
       "13. 33\n",
       "\n",
       "\n"
      ],
      "text/plain": [
       " [1] 10 20 30 40 50 60 70 11 22 33 11 22 33"
      ]
     },
     "metadata": {},
     "output_type": "display_data"
    }
   ],
   "source": [
    "append(t, c(11,22,33))\n",
    "t %>% append(c(11,22,33))\n",
    "t %>% append(c(11,22,33)) %>% append(c(11,22,33))"
   ]
  },
  {
   "cell_type": "code",
   "execution_count": 109,
   "id": "57f2b101",
   "metadata": {},
   "outputs": [
    {
     "data": {
      "text/html": [
       "7"
      ],
      "text/latex": [
       "7"
      ],
      "text/markdown": [
       "7"
      ],
      "text/plain": [
       "[1] 7"
      ]
     },
     "metadata": {},
     "output_type": "display_data"
    },
    {
     "data": {
      "text/html": [
       "7"
      ],
      "text/latex": [
       "7"
      ],
      "text/markdown": [
       "7"
      ],
      "text/plain": [
       "[1] 7"
      ]
     },
     "metadata": {},
     "output_type": "display_data"
    }
   ],
   "source": [
    "s = \"abcdefg\"\n",
    "nchar(s)\n",
    "s %>% nchar"
   ]
  },
  {
   "cell_type": "code",
   "execution_count": 110,
   "id": "e8d173a7",
   "metadata": {},
   "outputs": [
    {
     "data": {
      "text/html": [
       "<ol>\n",
       "\t<li><ol class=list-inline>\n",
       "\t<li>'abc'</li>\n",
       "\t<li>'def'</li>\n",
       "\t<li>'ghi'</li>\n",
       "</ol>\n",
       "</li>\n",
       "</ol>\n"
      ],
      "text/latex": [
       "\\begin{enumerate}\n",
       "\\item \\begin{enumerate*}\n",
       "\\item 'abc'\n",
       "\\item 'def'\n",
       "\\item 'ghi'\n",
       "\\end{enumerate*}\n",
       "\n",
       "\\end{enumerate}\n"
      ],
      "text/markdown": [
       "1. 1. 'abc'\n",
       "2. 'def'\n",
       "3. 'ghi'\n",
       "\n",
       "\n",
       "\n",
       "\n",
       "\n"
      ],
      "text/plain": [
       "[[1]]\n",
       "[1] \"abc\" \"def\" \"ghi\"\n"
      ]
     },
     "metadata": {},
     "output_type": "display_data"
    },
    {
     "data": {
      "text/html": [
       "<ol>\n",
       "\t<li><ol class=list-inline>\n",
       "\t<li>'abc'</li>\n",
       "\t<li>'def'</li>\n",
       "\t<li>'ghi'</li>\n",
       "</ol>\n",
       "</li>\n",
       "</ol>\n"
      ],
      "text/latex": [
       "\\begin{enumerate}\n",
       "\\item \\begin{enumerate*}\n",
       "\\item 'abc'\n",
       "\\item 'def'\n",
       "\\item 'ghi'\n",
       "\\end{enumerate*}\n",
       "\n",
       "\\end{enumerate}\n"
      ],
      "text/markdown": [
       "1. 1. 'abc'\n",
       "2. 'def'\n",
       "3. 'ghi'\n",
       "\n",
       "\n",
       "\n",
       "\n",
       "\n"
      ],
      "text/plain": [
       "[[1]]\n",
       "[1] \"abc\" \"def\" \"ghi\"\n"
      ]
     },
     "metadata": {},
     "output_type": "display_data"
    }
   ],
   "source": [
    "s1 = \"abc def ghi\"\n",
    "strsplit(s1, split=\" \")\n",
    "s1 %>% strsplit(split=\" \")"
   ]
  },
  {
   "cell_type": "markdown",
   "id": "ee021baf",
   "metadata": {},
   "source": [
    "## 삭제"
   ]
  },
  {
   "cell_type": "code",
   "execution_count": 111,
   "id": "e1386226",
   "metadata": {},
   "outputs": [],
   "source": [
    "t = c(10,20,30,40,50,60,70)"
   ]
  },
  {
   "cell_type": "code",
   "execution_count": 112,
   "id": "6d32f9af",
   "metadata": {},
   "outputs": [
    {
     "data": {
      "text/html": [
       "<ol class=list-inline>\n",
       "\t<li>20</li>\n",
       "\t<li>30</li>\n",
       "\t<li>40</li>\n",
       "\t<li>50</li>\n",
       "\t<li>60</li>\n",
       "\t<li>70</li>\n",
       "</ol>\n"
      ],
      "text/latex": [
       "\\begin{enumerate*}\n",
       "\\item 20\n",
       "\\item 30\n",
       "\\item 40\n",
       "\\item 50\n",
       "\\item 60\n",
       "\\item 70\n",
       "\\end{enumerate*}\n"
      ],
      "text/markdown": [
       "1. 20\n",
       "2. 30\n",
       "3. 40\n",
       "4. 50\n",
       "5. 60\n",
       "6. 70\n",
       "\n",
       "\n"
      ],
      "text/plain": [
       "[1] 20 30 40 50 60 70"
      ]
     },
     "metadata": {},
     "output_type": "display_data"
    }
   ],
   "source": [
    "t[-1]"
   ]
  },
  {
   "cell_type": "code",
   "execution_count": 113,
   "id": "3d46d621",
   "metadata": {},
   "outputs": [
    {
     "data": {
      "text/html": [
       "<ol class=list-inline>\n",
       "\t<li>20</li>\n",
       "\t<li>40</li>\n",
       "\t<li>50</li>\n",
       "\t<li>60</li>\n",
       "\t<li>70</li>\n",
       "</ol>\n"
      ],
      "text/latex": [
       "\\begin{enumerate*}\n",
       "\\item 20\n",
       "\\item 40\n",
       "\\item 50\n",
       "\\item 60\n",
       "\\item 70\n",
       "\\end{enumerate*}\n"
      ],
      "text/markdown": [
       "1. 20\n",
       "2. 40\n",
       "3. 50\n",
       "4. 60\n",
       "5. 70\n",
       "\n",
       "\n"
      ],
      "text/plain": [
       "[1] 20 40 50 60 70"
      ]
     },
     "metadata": {},
     "output_type": "display_data"
    }
   ],
   "source": [
    "t[c(-1,-3)]"
   ]
  },
  {
   "cell_type": "code",
   "execution_count": null,
   "id": "ffcf6a7b",
   "metadata": {},
   "outputs": [],
   "source": [
    "?which"
   ]
  },
  {
   "cell_type": "code",
   "execution_count": 114,
   "id": "eb7b996a",
   "metadata": {},
   "outputs": [
    {
     "data": {
      "text/html": [
       "<ol class=list-inline>\n",
       "\t<li>3</li>\n",
       "\t<li>4</li>\n",
       "\t<li>5</li>\n",
       "\t<li>6</li>\n",
       "\t<li>7</li>\n",
       "</ol>\n"
      ],
      "text/latex": [
       "\\begin{enumerate*}\n",
       "\\item 3\n",
       "\\item 4\n",
       "\\item 5\n",
       "\\item 6\n",
       "\\item 7\n",
       "\\end{enumerate*}\n"
      ],
      "text/markdown": [
       "1. 3\n",
       "2. 4\n",
       "3. 5\n",
       "4. 6\n",
       "5. 7\n",
       "\n",
       "\n"
      ],
      "text/plain": [
       "[1] 3 4 5 6 7"
      ]
     },
     "metadata": {},
     "output_type": "display_data"
    }
   ],
   "source": [
    "which(t>=30)"
   ]
  },
  {
   "cell_type": "code",
   "execution_count": 115,
   "id": "cd9fedf6",
   "metadata": {},
   "outputs": [
    {
     "data": {
      "text/html": [
       "<ol class=list-inline>\n",
       "\t<li>-1</li>\n",
       "\t<li>-2</li>\n",
       "\t<li>-3</li>\n",
       "</ol>\n"
      ],
      "text/latex": [
       "\\begin{enumerate*}\n",
       "\\item -1\n",
       "\\item -2\n",
       "\\item -3\n",
       "\\end{enumerate*}\n"
      ],
      "text/markdown": [
       "1. -1\n",
       "2. -2\n",
       "3. -3\n",
       "\n",
       "\n"
      ],
      "text/plain": [
       "[1] -1 -2 -3"
      ]
     },
     "metadata": {},
     "output_type": "display_data"
    }
   ],
   "source": [
    "-1 * c(1,2,3)"
   ]
  },
  {
   "cell_type": "code",
   "execution_count": 116,
   "id": "6878a1d5",
   "metadata": {},
   "outputs": [
    {
     "data": {
      "text/html": [
       "<ol class=list-inline>\n",
       "\t<li>30</li>\n",
       "\t<li>40</li>\n",
       "\t<li>50</li>\n",
       "\t<li>60</li>\n",
       "\t<li>70</li>\n",
       "</ol>\n"
      ],
      "text/latex": [
       "\\begin{enumerate*}\n",
       "\\item 30\n",
       "\\item 40\n",
       "\\item 50\n",
       "\\item 60\n",
       "\\item 70\n",
       "\\end{enumerate*}\n"
      ],
      "text/markdown": [
       "1. 30\n",
       "2. 40\n",
       "3. 50\n",
       "4. 60\n",
       "5. 70\n",
       "\n",
       "\n"
      ],
      "text/plain": [
       "[1] 30 40 50 60 70"
      ]
     },
     "metadata": {},
     "output_type": "display_data"
    }
   ],
   "source": [
    "t[which(t>=30)]"
   ]
  },
  {
   "cell_type": "code",
   "execution_count": 117,
   "id": "f3635519",
   "metadata": {},
   "outputs": [
    {
     "data": {
      "text/html": [
       "<ol class=list-inline>\n",
       "\t<li>10</li>\n",
       "\t<li>20</li>\n",
       "</ol>\n"
      ],
      "text/latex": [
       "\\begin{enumerate*}\n",
       "\\item 10\n",
       "\\item 20\n",
       "\\end{enumerate*}\n"
      ],
      "text/markdown": [
       "1. 10\n",
       "2. 20\n",
       "\n",
       "\n"
      ],
      "text/plain": [
       "[1] 10 20"
      ]
     },
     "metadata": {},
     "output_type": "display_data"
    }
   ],
   "source": [
    "t[ -which(t>=30)]"
   ]
  },
  {
   "cell_type": "code",
   "execution_count": 118,
   "id": "fb2cb7d8",
   "metadata": {},
   "outputs": [
    {
     "data": {
      "text/html": [
       "<ol class=list-inline>\n",
       "\t<li>10</li>\n",
       "\t<li>20</li>\n",
       "\t<li>40</li>\n",
       "\t<li>50</li>\n",
       "\t<li>70</li>\n",
       "</ol>\n"
      ],
      "text/latex": [
       "\\begin{enumerate*}\n",
       "\\item 10\n",
       "\\item 20\n",
       "\\item 40\n",
       "\\item 50\n",
       "\\item 70\n",
       "\\end{enumerate*}\n"
      ],
      "text/markdown": [
       "1. 10\n",
       "2. 20\n",
       "3. 40\n",
       "4. 50\n",
       "5. 70\n",
       "\n",
       "\n"
      ],
      "text/plain": [
       "[1] 10 20 40 50 70"
      ]
     },
     "metadata": {},
     "output_type": "display_data"
    }
   ],
   "source": [
    "# 30 or 60 데이터를 삭제해\n",
    "t[-which(t%%30==0)]"
   ]
  },
  {
   "cell_type": "code",
   "execution_count": 119,
   "id": "b11ae679",
   "metadata": {},
   "outputs": [
    {
     "data": {
      "text/html": [
       "<ol class=list-inline>\n",
       "\t<li>10</li>\n",
       "\t<li>20</li>\n",
       "\t<li>40</li>\n",
       "\t<li>50</li>\n",
       "\t<li>70</li>\n",
       "</ol>\n"
      ],
      "text/latex": [
       "\\begin{enumerate*}\n",
       "\\item 10\n",
       "\\item 20\n",
       "\\item 40\n",
       "\\item 50\n",
       "\\item 70\n",
       "\\end{enumerate*}\n"
      ],
      "text/markdown": [
       "1. 10\n",
       "2. 20\n",
       "3. 40\n",
       "4. 50\n",
       "5. 70\n",
       "\n",
       "\n"
      ],
      "text/plain": [
       "[1] 10 20 40 50 70"
      ]
     },
     "metadata": {},
     "output_type": "display_data"
    }
   ],
   "source": [
    "t[-(which(t==30|t==60))]"
   ]
  },
  {
   "cell_type": "code",
   "execution_count": null,
   "id": "5999a7f9",
   "metadata": {},
   "outputs": [],
   "source": [
    "?setdiff # 삭제할 값"
   ]
  },
  {
   "cell_type": "code",
   "execution_count": 120,
   "id": "60cea0ba",
   "metadata": {},
   "outputs": [
    {
     "data": {
      "text/html": [
       "<ol class=list-inline>\n",
       "\t<li>10</li>\n",
       "\t<li>20</li>\n",
       "\t<li>30</li>\n",
       "\t<li>50</li>\n",
       "\t<li>70</li>\n",
       "</ol>\n"
      ],
      "text/latex": [
       "\\begin{enumerate*}\n",
       "\\item 10\n",
       "\\item 20\n",
       "\\item 30\n",
       "\\item 50\n",
       "\\item 70\n",
       "\\end{enumerate*}\n"
      ],
      "text/markdown": [
       "1. 10\n",
       "2. 20\n",
       "3. 30\n",
       "4. 50\n",
       "5. 70\n",
       "\n",
       "\n"
      ],
      "text/plain": [
       "[1] 10 20 30 50 70"
      ]
     },
     "metadata": {},
     "output_type": "display_data"
    }
   ],
   "source": [
    "setdiff(t, c(40,60)) "
   ]
  },
  {
   "cell_type": "markdown",
   "id": "a8bde67c",
   "metadata": {},
   "source": [
    "## 과제2"
   ]
  },
  {
   "cell_type": "code",
   "execution_count": 121,
   "id": "bcee6ca8",
   "metadata": {},
   "outputs": [
    {
     "name": "stdout",
     "output_type": "stream",
     "text": [
      "시간 입력:13:00\n"
     ]
    },
    {
     "data": {
      "text/html": [
       "'정각입니다.'"
      ],
      "text/latex": [
       "'정각입니다.'"
      ],
      "text/markdown": [
       "'정각입니다.'"
      ],
      "text/plain": [
       "[1] \"정각입니다.\""
      ]
     },
     "metadata": {},
     "output_type": "display_data"
    }
   ],
   "source": [
    "# 1.  사용자로부터 입력 받은 시간이 정각인지 판별하라\n",
    "#  예) 시간 입력: 13:00   정각입니다.\n",
    "a = readline(\"시간 입력:\")\n",
    "result = strsplit(a, split=':')[[1]][2]\n",
    "ifelse( result=='00', '정각입니다.', '정각아님')"
   ]
  },
  {
   "cell_type": "code",
   "execution_count": 122,
   "id": "8006a5c9",
   "metadata": {},
   "outputs": [
    {
     "data": {
      "text/html": [
       "<ol class=list-inline>\n",
       "\t<li>1</li>\n",
       "\t<li>2</li>\n",
       "\t<li>5</li>\n",
       "\t<li>10</li>\n",
       "</ol>\n"
      ],
      "text/latex": [
       "\\begin{enumerate*}\n",
       "\\item 1\n",
       "\\item 2\n",
       "\\item 5\n",
       "\\item 10\n",
       "\\end{enumerate*}\n"
      ],
      "text/markdown": [
       "1. 1\n",
       "2. 2\n",
       "3. 5\n",
       "4. 10\n",
       "\n",
       "\n"
      ],
      "text/plain": [
       "[1]  1  2  5 10"
      ]
     },
     "metadata": {},
     "output_type": "display_data"
    }
   ],
   "source": [
    "# 2. 정수를 인자로 받아 해당정수의 약수를 반환하는 함수를 만드시요.\n",
    "#  예) 10 이면 1,2,5,10 약수를 반환\n",
    "yaksu <- function(num) \n",
    "{\n",
    "    v = c()\n",
    "    for(i in 1:num){\n",
    "        if (num %% i == 0){\n",
    "#             cat(i, \" \")\n",
    "            v = append( v , i)\n",
    "        }\n",
    "    }\n",
    "    return(v)\n",
    "}\n",
    "result = yaksu(10)\n",
    "result"
   ]
  },
  {
   "cell_type": "code",
   "execution_count": 123,
   "id": "d407bf3e",
   "metadata": {},
   "outputs": [
    {
     "data": {
      "text/html": [
       "<ol class=list-inline>\n",
       "\t<li>1</li>\n",
       "\t<li>2</li>\n",
       "\t<li>3</li>\n",
       "\t<li>4</li>\n",
       "\t<li>5</li>\n",
       "\t<li>6</li>\n",
       "\t<li>7</li>\n",
       "\t<li>8</li>\n",
       "\t<li>9</li>\n",
       "</ol>\n"
      ],
      "text/latex": [
       "\\begin{enumerate*}\n",
       "\\item 1\n",
       "\\item 2\n",
       "\\item 3\n",
       "\\item 4\n",
       "\\item 5\n",
       "\\item 6\n",
       "\\item 7\n",
       "\\item 8\n",
       "\\item 9\n",
       "\\end{enumerate*}\n"
      ],
      "text/markdown": [
       "1. 1\n",
       "2. 2\n",
       "3. 3\n",
       "4. 4\n",
       "5. 5\n",
       "6. 6\n",
       "7. 7\n",
       "8. 8\n",
       "9. 9\n",
       "\n",
       "\n"
      ],
      "text/plain": [
       "[1] 1 2 3 4 5 6 7 8 9"
      ]
     },
     "metadata": {},
     "output_type": "display_data"
    }
   ],
   "source": [
    "#  3.  1~10 까지의 벡터에서 마지막 데이터를 제외한 벡터를 구하시요.\n",
    "t = 1:10 # 자체가 벡터라 괄호 필요 없음\n",
    "t[seq(1,length(t)-1)]"
   ]
  },
  {
   "cell_type": "code",
   "execution_count": 124,
   "id": "ce65586a",
   "metadata": {},
   "outputs": [
    {
     "name": "stdout",
     "output_type": "stream",
     "text": [
      "일단 입력:11 45 85 6\n",
      "[1] 85\n"
     ]
    }
   ],
   "source": [
    "# 4. n 개의 정수를 키보드로 입력받아(예 입력:2 10 5 20) 해당 숫자의 가장 큰값을 구하시요. \n",
    "t  = readline(\"일단 입력:\")\n",
    "sResult = strsplit(t, split=' ')[[1]]\n",
    "sResult = as.integer( sResult )\n",
    "# print( sResult)\n",
    "mx = sResult[1]\n",
    "for(i in sResult[2:length(sResult)])\n",
    "{\n",
    "    if( mx<i)\n",
    "        mx = i\n",
    "}\n",
    "print( mx )"
   ]
  },
  {
   "cell_type": "code",
   "execution_count": null,
   "id": "3e42eece",
   "metadata": {},
   "outputs": [],
   "source": [
    "# 5. 정수를 키보드로 입력받아 아래 와 같이 별을 출력하시요 ( 예 3입력 )\n",
    "#     *\n",
    "#    * *\n",
    "#   * * *"
   ]
  },
  {
   "cell_type": "code",
   "execution_count": 125,
   "id": "b41a4572",
   "metadata": {},
   "outputs": [
    {
     "name": "stdout",
     "output_type": "stream",
     "text": [
      "[1] 6 4 4\n",
      "6\n",
      "4\n",
      "4\n"
     ]
    }
   ],
   "source": [
    "# 6. stock= c(\"SK하이닉스\", \"삼성전자\", \"LG전자\") 각 문자열의 길이를 아래처럼 출력하시요\n",
    "# 6 4 4\n",
    "stock = c(\"SK하이닉스\", \"삼성전자\", \"LG전자\")\n",
    "cc = nchar(stock)\n",
    "print(cc)\n",
    "for( n in nchar(stock)){\n",
    "    cat(n, fill = T)\n",
    "}"
   ]
  },
  {
   "cell_type": "code",
   "execution_count": 127,
   "id": "5922c091",
   "metadata": {},
   "outputs": [
    {
     "name": "stdout",
     "output_type": "stream",
     "text": [
      "입력: 20 달러\n"
     ]
    },
    {
     "data": {
      "text/html": [
       "23340"
      ],
      "text/latex": [
       "23340"
      ],
      "text/markdown": [
       "23340"
      ],
      "text/plain": [
       "[1] 23340"
      ]
     },
     "metadata": {},
     "output_type": "display_data"
    }
   ],
   "source": [
    "#  7. 사용자로부터 달러, 엔, 유로, 또는 위안 금액을 입력받은 후 이를 원으로 변환하는 프로그램을 작성하라. \n",
    "#  각 통화별 환율은 다음과 같다. 사용자는 100 달러, 1000 엔, 13 유로, 100 위안과 같이 금액과 통화명 사이에 \n",
    "#  공백을 넣어 입력한다고 가정한다. (함수를 만드시요)\n",
    "money_conv <- function(won) {\n",
    "  s = strsplit(won, split=' ')[[1]]\n",
    "  money = as.integer(s[1])\n",
    "  unit = s[2]\n",
    "  if(unit == \"달러\"){\n",
    "    return(money*1167)\n",
    "  }else if(unit == \"엔\"){\n",
    "    return(money*1.096)\n",
    "  }else if(unit == \"유로\"){\n",
    "    return(money*1268)\n",
    "  }else if(unit == \"위안\"){\n",
    "    return(money*171)\n",
    "  }\n",
    "}\n",
    "won = readline(\"입력: \")\n",
    "money_conv(won)"
   ]
  },
  {
   "cell_type": "code",
   "execution_count": 129,
   "id": "909a47eb",
   "metadata": {},
   "outputs": [
    {
     "name": "stdout",
     "output_type": "stream",
     "text": [
      "입력: 20 달러\n"
     ]
    },
    {
     "data": {
      "text/html": [
       "<strong>달러:</strong> 23340"
      ],
      "text/latex": [
       "\\textbf{달러:} 23340"
      ],
      "text/markdown": [
       "**달러:** 23340"
      ],
      "text/plain": [
       " 달러 \n",
       "23340 "
      ]
     },
     "metadata": {},
     "output_type": "display_data"
    }
   ],
   "source": [
    "# 다른 방식\n",
    "v = c(달러=1167,엔=1.096,유로= 1268, 위안=171)\n",
    "\n",
    "money_conv <- function(won) \n",
    "{\n",
    "  s = strsplit(won, split=' ')[[1]]\n",
    "  money = as.integer(s[1])\n",
    "  unit = s[2]\n",
    "  return( money*v[unit] )\n",
    "}\n",
    "won = readline(\"입력: \")\n",
    "money_conv(won)"
   ]
  },
  {
   "cell_type": "code",
   "execution_count": 130,
   "id": "61af587b",
   "metadata": {},
   "outputs": [
    {
     "name": "stdout",
     "output_type": "stream",
     "text": [
      "입력: 011\n"
     ]
    },
    {
     "data": {
      "text/html": [
       "'당신은 SKT 사용자입니다.'"
      ],
      "text/latex": [
       "'당신은 SKT 사용자입니다.'"
      ],
      "text/markdown": [
       "'당신은 SKT 사용자입니다.'"
      ],
      "text/plain": [
       "[1] \"당신은 SKT 사용자입니다.\""
      ]
     },
     "metadata": {},
     "output_type": "display_data"
    }
   ],
   "source": [
    "# 8. 휴대폰 번호 앞자리에 따라 통신사는 아래와 같이 구분된다. 사용자로부터 휴대전화 번호를 입력 받고, 통신사를 출력하는 프로그램을 작성하라.\n",
    "#  (함수를 만드시요)\n",
    " \n",
    "# 번호\t통신사\n",
    "#  011\tSKT\n",
    "#  016\tKT\n",
    "#  019\tLGU\n",
    "#  010\t알수없음\n",
    "#  >> 휴대전화 번호 입력: 011-345-1922\n",
    "#  당신은 SKT 사용자입니다.\n",
    "phone <- function(number) \n",
    "{\n",
    "    s = strsplit(number, split='-')[[1]]\n",
    "    front = s[1]\n",
    "    if(front == \"011\"){\n",
    "        return(\"당신은 SKT 사용자입니다.\")\n",
    "    }else if(front == \"016\"){\n",
    "        return(\"당신은 KT 사용자입니다.\")\n",
    "    }else if(front == \"019\"){\n",
    "         return(\"당신은 LGU사용자입니다\")\n",
    "    }else if(front == '010'){\n",
    "         return(\"알수없음\")\n",
    "    }\n",
    "}\n",
    "number = readline(\"입력: \")\n",
    "phone(number)"
   ]
  },
  {
   "cell_type": "code",
   "execution_count": 131,
   "id": "bed7e2b8",
   "metadata": {},
   "outputs": [
    {
     "name": "stdout",
     "output_type": "stream",
     "text": [
      "입력: 019\n"
     ]
    },
    {
     "data": {
      "text/html": [
       "<span style=white-space:pre-wrap>'당신은  LGU 사용자입니다'</span>"
      ],
      "text/latex": [
       "'당신은  LGU 사용자입니다'"
      ],
      "text/markdown": [
       "<span style=white-space:pre-wrap>'당신은  LGU 사용자입니다'</span>"
      ],
      "text/plain": [
       "[1] \"당신은  LGU 사용자입니다\""
      ]
     },
     "metadata": {},
     "output_type": "display_data"
    }
   ],
   "source": [
    "# 다른 방식 \n",
    "phone <- function(number) \n",
    "{\n",
    "    v = c( '011'='SKT', '016'='KT', '019'='LGU','010'='알수없음')\n",
    "    s = strsplit(number, split='-')[[1]]\n",
    "    front = s[1]\n",
    "    return( paste(\"당신은 \",v[front],'사용자입니다', sep=' ') )\n",
    "}\n",
    "number = readline(\"입력: \")\n",
    "phone(number)"
   ]
  },
  {
   "cell_type": "code",
   "execution_count": 132,
   "id": "d965a3fc",
   "metadata": {},
   "outputs": [
    {
     "name": "stdout",
     "output_type": "stream",
     "text": [
      "우편번호 입력:01400\n",
      "[1] \"도봉구\"\n"
     ]
    }
   ],
   "source": [
    "#  9. 우편번호는 5자리로 구성되는데, 앞의 세자리는 구를 나타낸다. 예를들어, 강북구의 경우 010, 011, 012 세 자리로 시작한다.\n",
    "#  -  0  1  2  3  4  5  6  7  8  9\n",
    "#  01  강북구\t강북구\t강북구\t도봉구\t도봉구\t도봉구\t노원구\t노원구\t노원구\t노원구\n",
    "#  사용자로 부터 5자리 우편번호를 입력받고 구를 판별하라\n",
    "#  >> 우편번호: 01400\n",
    "#  도봉구\n",
    "mail = readline(\"우편번호 입력:\")\n",
    "mail = substr(mail,3,3)\n",
    "if(mail >= 0 & mail<=2 ){\n",
    "  print(\"강북구\")\n",
    "}else if(mail >= 3 & mail<=5 ){\n",
    "  print(\"도봉구\")\n",
    "}else{\n",
    "  print(\"노원구\")\n",
    "}"
   ]
  },
  {
   "cell_type": "code",
   "execution_count": 133,
   "id": "fd7594d1",
   "metadata": {},
   "outputs": [
    {
     "data": {
      "text/html": [
       "'www.naver.com'"
      ],
      "text/latex": [
       "'www.naver.com'"
      ],
      "text/markdown": [
       "'www.naver.com'"
      ],
      "text/plain": [
       "[1] \"www.naver.com\""
      ]
     },
     "metadata": {},
     "output_type": "display_data"
    }
   ],
   "source": [
    "# 10. 문자열 하나를 입력받아 인터넷 주소를 반환하는 make_url 함수를 정의하라.\n",
    "# make_url(\"naver\")\n",
    "# www.naver.com\n",
    "make_url <- function(a) \n",
    "{\n",
    "  a = as.character(a)\n",
    "  return( paste(\"www.\",a,\".com\", sep='') )\n",
    "}\n",
    "make_url(\"naver\")"
   ]
  },
  {
   "cell_type": "code",
   "execution_count": null,
   "id": "1ee18efa",
   "metadata": {},
   "outputs": [],
   "source": []
  }
 ],
 "metadata": {
  "kernelspec": {
   "display_name": "R",
   "language": "R",
   "name": "ir"
  },
  "language_info": {
   "codemirror_mode": "r",
   "file_extension": ".r",
   "mimetype": "text/x-r-source",
   "name": "R",
   "pygments_lexer": "r",
   "version": "3.6.1"
  }
 },
 "nbformat": 4,
 "nbformat_minor": 5
}
