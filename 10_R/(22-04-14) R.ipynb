{
 "cells": [
  {
   "cell_type": "code",
   "execution_count": null,
   "id": "848e80f6",
   "metadata": {},
   "outputs": [],
   "source": [
    "# https://wikidocs.net/book/922 파이썬 문제 풀어보기"
   ]
  },
  {
   "cell_type": "markdown",
   "id": "68069206",
   "metadata": {},
   "source": [
    "# 데이터 프레임\n",
    "- 행열과동일한 구조\n",
    "- 매트릭스와 다른 점은 컬럼이 다른 데이터 유형이 가능하다"
   ]
  },
  {
   "cell_type": "code",
   "execution_count": 4,
   "id": "a6cc7b36",
   "metadata": {},
   "outputs": [],
   "source": [
    "?data.frame"
   ]
  },
  {
   "cell_type": "code",
   "execution_count": 9,
   "id": "f0b09590",
   "metadata": {},
   "outputs": [
    {
     "data": {
      "text/html": [
       "<table>\n",
       "<thead><tr><th></th><th scope=col>이름</th><th scope=col>국어</th><th scope=col>영어</th><th scope=col>수학</th></tr></thead>\n",
       "<tbody>\n",
       "\t<tr><th scope=row>a</th><td>홍길동</td><td>80    </td><td>70    </td><td>50    </td></tr>\n",
       "\t<tr><th scope=row>b</th><td>이순신</td><td>90    </td><td>80    </td><td>40    </td></tr>\n",
       "\t<tr><th scope=row>c</th><td>임꺽정</td><td>30    </td><td>50    </td><td>20    </td></tr>\n",
       "</tbody>\n",
       "</table>\n"
      ],
      "text/latex": [
       "\\begin{tabular}{r|llll}\n",
       "  & 이름 & 국어 & 영어 & 수학\\\\\n",
       "\\hline\n",
       "\ta & 홍길동 & 80     & 70     & 50    \\\\\n",
       "\tb & 이순신 & 90     & 80     & 40    \\\\\n",
       "\tc & 임꺽정 & 30     & 50     & 20    \\\\\n",
       "\\end{tabular}\n"
      ],
      "text/markdown": [
       "\n",
       "| <!--/--> | 이름 | 국어 | 영어 | 수학 |\n",
       "|---|---|---|---|---|\n",
       "| a | 홍길동 | 80     | 70     | 50     |\n",
       "| b | 이순신 | 90     | 80     | 40     |\n",
       "| c | 임꺽정 | 30     | 50     | 20     |\n",
       "\n"
      ],
      "text/plain": [
       "  이름   국어 영어 수학\n",
       "a 홍길동 80   70   50  \n",
       "b 이순신 90   80   40  \n",
       "c 임꺽정 30   50   20  "
      ]
     },
     "metadata": {},
     "output_type": "display_data"
    }
   ],
   "source": [
    "v1 = c('홍길동','이순신', '임꺽정')\n",
    "v2 = c(80,90, 30)\n",
    "v3 = c(70,80, 50)\n",
    "v4 = c(50,40, 20)\n",
    "df = data.frame(v1,v2,v3,v4, row.names = c('a','b','c')) \n",
    "colnames(df) = c('이름', '국어','영어','수학')\n",
    "df"
   ]
  },
  {
   "cell_type": "code",
   "execution_count": 10,
   "id": "22b4af5d",
   "metadata": {},
   "outputs": [
    {
     "data": {
      "text/html": [
       "<table>\n",
       "<thead><tr><th scope=col>id</th><th scope=col>name</th><th scope=col>age</th><th scope=col>isMarried</th></tr></thead>\n",
       "<tbody>\n",
       "\t<tr><td>F1    </td><td>김가수</td><td>32    </td><td> TRUE </td></tr>\n",
       "\t<tr><td>F2    </td><td>박인호</td><td>28    </td><td> TRUE </td></tr>\n",
       "\t<tr><td>F3    </td><td>고소미</td><td>22    </td><td>FALSE </td></tr>\n",
       "\t<tr><td>F4    </td><td>홍길동</td><td>30    </td><td>FALSE </td></tr>\n",
       "\t<tr><td>F5    </td><td>이순신</td><td>40    </td><td> TRUE </td></tr>\n",
       "</tbody>\n",
       "</table>\n"
      ],
      "text/latex": [
       "\\begin{tabular}{r|llll}\n",
       " id & name & age & isMarried\\\\\n",
       "\\hline\n",
       "\t F1     & 김가수 & 32     &  TRUE \\\\\n",
       "\t F2     & 박인호 & 28     &  TRUE \\\\\n",
       "\t F3     & 고소미 & 22     & FALSE \\\\\n",
       "\t F4     & 홍길동 & 30     & FALSE \\\\\n",
       "\t F5     & 이순신 & 40     &  TRUE \\\\\n",
       "\\end{tabular}\n"
      ],
      "text/markdown": [
       "\n",
       "| id | name | age | isMarried |\n",
       "|---|---|---|---|\n",
       "| F1     | 김가수 | 32     |  TRUE  |\n",
       "| F2     | 박인호 | 28     |  TRUE  |\n",
       "| F3     | 고소미 | 22     | FALSE  |\n",
       "| F4     | 홍길동 | 30     | FALSE  |\n",
       "| F5     | 이순신 | 40     |  TRUE  |\n",
       "\n"
      ],
      "text/plain": [
       "  id name   age isMarried\n",
       "1 F1 김가수 32   TRUE    \n",
       "2 F2 박인호 28   TRUE    \n",
       "3 F3 고소미 22  FALSE    \n",
       "4 F4 홍길동 30  FALSE    \n",
       "5 F5 이순신 40   TRUE    "
      ]
     },
     "metadata": {},
     "output_type": "display_data"
    }
   ],
   "source": [
    "id <- c('F1', 'F2', 'F3','F4','F5')\n",
    "name <- c('김가수', '박인호', '고소미','홍길동','이순신')\n",
    "age <- c(32 , 28 , 22, 30, 40 )\n",
    "isMarried <- c(TRUE , TRUE , FALSE, FALSE, TRUE)\n",
    "df1 = data.frame(id, name, age, isMarried)\n",
    "df1"
   ]
  },
  {
   "cell_type": "markdown",
   "id": "694369d3",
   "metadata": {},
   "source": [
    "## 기본 함수"
   ]
  },
  {
   "cell_type": "code",
   "execution_count": 11,
   "id": "d3f72abf",
   "metadata": {},
   "outputs": [
    {
     "data": {
      "text/html": [
       "<ol class=list-inline>\n",
       "\t<li>3</li>\n",
       "\t<li>4</li>\n",
       "</ol>\n"
      ],
      "text/latex": [
       "\\begin{enumerate*}\n",
       "\\item 3\n",
       "\\item 4\n",
       "\\end{enumerate*}\n"
      ],
      "text/markdown": [
       "1. 3\n",
       "2. 4\n",
       "\n",
       "\n"
      ],
      "text/plain": [
       "[1] 3 4"
      ]
     },
     "metadata": {},
     "output_type": "display_data"
    }
   ],
   "source": [
    "dim(df)"
   ]
  },
  {
   "cell_type": "code",
   "execution_count": 12,
   "id": "0c7b1e9a",
   "metadata": {},
   "outputs": [
    {
     "data": {
      "text/html": [
       "3"
      ],
      "text/latex": [
       "3"
      ],
      "text/markdown": [
       "3"
      ],
      "text/plain": [
       "[1] 3"
      ]
     },
     "metadata": {},
     "output_type": "display_data"
    }
   ],
   "source": [
    "nrow(df)"
   ]
  },
  {
   "cell_type": "code",
   "execution_count": 13,
   "id": "c4a6c60f",
   "metadata": {},
   "outputs": [
    {
     "data": {
      "text/html": [
       "4"
      ],
      "text/latex": [
       "4"
      ],
      "text/markdown": [
       "4"
      ],
      "text/plain": [
       "[1] 4"
      ]
     },
     "metadata": {},
     "output_type": "display_data"
    }
   ],
   "source": [
    "ncol(df)"
   ]
  },
  {
   "cell_type": "code",
   "execution_count": 14,
   "id": "214f8206",
   "metadata": {},
   "outputs": [
    {
     "data": {
      "text/html": [
       "<table>\n",
       "<thead><tr><th></th><th scope=col>a</th><th scope=col>b</th><th scope=col>c</th></tr></thead>\n",
       "<tbody>\n",
       "\t<tr><th scope=row>이름</th><td>홍길동</td><td>이순신</td><td>임꺽정</td></tr>\n",
       "\t<tr><th scope=row>국어</th><td>80    </td><td>90    </td><td>30    </td></tr>\n",
       "\t<tr><th scope=row>영어</th><td>70    </td><td>80    </td><td>50    </td></tr>\n",
       "\t<tr><th scope=row>수학</th><td>50    </td><td>40    </td><td>20    </td></tr>\n",
       "</tbody>\n",
       "</table>\n"
      ],
      "text/latex": [
       "\\begin{tabular}{r|lll}\n",
       "  & a & b & c\\\\\n",
       "\\hline\n",
       "\t이름 & 홍길동 & 이순신 & 임꺽정\\\\\n",
       "\t국어 & 80     & 90     & 30    \\\\\n",
       "\t영어 & 70     & 80     & 50    \\\\\n",
       "\t수학 & 50     & 40     & 20    \\\\\n",
       "\\end{tabular}\n"
      ],
      "text/markdown": [
       "\n",
       "| <!--/--> | a | b | c |\n",
       "|---|---|---|---|\n",
       "| 이름 | 홍길동 | 이순신 | 임꺽정 |\n",
       "| 국어 | 80     | 90     | 30     |\n",
       "| 영어 | 70     | 80     | 50     |\n",
       "| 수학 | 50     | 40     | 20     |\n",
       "\n"
      ],
      "text/plain": [
       "     a      b      c     \n",
       "이름 홍길동 이순신 임꺽정\n",
       "국어 80     90     30    \n",
       "영어 70     80     50    \n",
       "수학 50     40     20    "
      ]
     },
     "metadata": {},
     "output_type": "display_data"
    }
   ],
   "source": [
    "t(df) #트랜스포즈 행열 바꿈"
   ]
  },
  {
   "cell_type": "code",
   "execution_count": 15,
   "id": "10483bc2",
   "metadata": {},
   "outputs": [
    {
     "name": "stdout",
     "output_type": "stream",
     "text": [
      "'data.frame':\t3 obs. of  4 variables:\n",
      " $ 이름: Factor w/ 3 levels \"이순신\",\"임꺽정\",..: 3 1 2\n",
      " $ 국어: num  80 90 30\n",
      " $ 영어: num  70 80 50\n",
      " $ 수학: num  50 40 20\n"
     ]
    }
   ],
   "source": [
    "str(df)"
   ]
  },
  {
   "cell_type": "code",
   "execution_count": 16,
   "id": "df271607",
   "metadata": {},
   "outputs": [
    {
     "data": {
      "text/html": [
       "4"
      ],
      "text/latex": [
       "4"
      ],
      "text/markdown": [
       "4"
      ],
      "text/plain": [
       "[1] 4"
      ]
     },
     "metadata": {},
     "output_type": "display_data"
    }
   ],
   "source": [
    "length(df)"
   ]
  },
  {
   "cell_type": "code",
   "execution_count": 17,
   "id": "5e9914cb",
   "metadata": {},
   "outputs": [
    {
     "data": {
      "text/html": [
       "<ol class=list-inline>\n",
       "\t<li>'a'</li>\n",
       "\t<li>'b'</li>\n",
       "\t<li>'c'</li>\n",
       "</ol>\n"
      ],
      "text/latex": [
       "\\begin{enumerate*}\n",
       "\\item 'a'\n",
       "\\item 'b'\n",
       "\\item 'c'\n",
       "\\end{enumerate*}\n"
      ],
      "text/markdown": [
       "1. 'a'\n",
       "2. 'b'\n",
       "3. 'c'\n",
       "\n",
       "\n"
      ],
      "text/plain": [
       "[1] \"a\" \"b\" \"c\""
      ]
     },
     "metadata": {},
     "output_type": "display_data"
    }
   ],
   "source": [
    "row.names(df)"
   ]
  },
  {
   "cell_type": "code",
   "execution_count": 18,
   "id": "82309075",
   "metadata": {},
   "outputs": [
    {
     "data": {
      "text/html": [
       "<ol class=list-inline>\n",
       "\t<li>'이름'</li>\n",
       "\t<li>'국어'</li>\n",
       "\t<li>'영어'</li>\n",
       "\t<li>'수학'</li>\n",
       "</ol>\n"
      ],
      "text/latex": [
       "\\begin{enumerate*}\n",
       "\\item '이름'\n",
       "\\item '국어'\n",
       "\\item '영어'\n",
       "\\item '수학'\n",
       "\\end{enumerate*}\n"
      ],
      "text/markdown": [
       "1. '이름'\n",
       "2. '국어'\n",
       "3. '영어'\n",
       "4. '수학'\n",
       "\n",
       "\n"
      ],
      "text/plain": [
       "[1] \"이름\" \"국어\" \"영어\" \"수학\""
      ]
     },
     "metadata": {},
     "output_type": "display_data"
    }
   ],
   "source": [
    "colnames(df)"
   ]
  },
  {
   "cell_type": "markdown",
   "id": "89e074f9",
   "metadata": {},
   "source": [
    "## 인덱싱\n",
    "- 컬럼 : ['컬럼명'] , [숫자 인덱스]\n",
    "- [ 행 , 열 ]"
   ]
  },
  {
   "cell_type": "code",
   "execution_count": 19,
   "id": "be8386a6",
   "metadata": {},
   "outputs": [
    {
     "data": {
      "text/html": [
       "<table>\n",
       "<thead><tr><th></th><th scope=col>국어</th></tr></thead>\n",
       "<tbody>\n",
       "\t<tr><th scope=row>a</th><td>80</td></tr>\n",
       "\t<tr><th scope=row>b</th><td>90</td></tr>\n",
       "\t<tr><th scope=row>c</th><td>30</td></tr>\n",
       "</tbody>\n",
       "</table>\n"
      ],
      "text/latex": [
       "\\begin{tabular}{r|l}\n",
       "  & 국어\\\\\n",
       "\\hline\n",
       "\ta & 80\\\\\n",
       "\tb & 90\\\\\n",
       "\tc & 30\\\\\n",
       "\\end{tabular}\n"
      ],
      "text/markdown": [
       "\n",
       "| <!--/--> | 국어 |\n",
       "|---|---|\n",
       "| a | 80 |\n",
       "| b | 90 |\n",
       "| c | 30 |\n",
       "\n"
      ],
      "text/plain": [
       "  국어\n",
       "a 80  \n",
       "b 90  \n",
       "c 30  "
      ]
     },
     "metadata": {},
     "output_type": "display_data"
    }
   ],
   "source": [
    "df['국어'] # 데이터프레임으로 나옴"
   ]
  },
  {
   "cell_type": "code",
   "execution_count": 20,
   "id": "9a906e69",
   "metadata": {},
   "outputs": [
    {
     "data": {
      "text/html": [
       "<ol class=list-inline>\n",
       "\t<li>80</li>\n",
       "\t<li>90</li>\n",
       "\t<li>30</li>\n",
       "</ol>\n"
      ],
      "text/latex": [
       "\\begin{enumerate*}\n",
       "\\item 80\n",
       "\\item 90\n",
       "\\item 30\n",
       "\\end{enumerate*}\n"
      ],
      "text/markdown": [
       "1. 80\n",
       "2. 90\n",
       "3. 30\n",
       "\n",
       "\n"
      ],
      "text/plain": [
       "[1] 80 90 30"
      ]
     },
     "metadata": {},
     "output_type": "display_data"
    }
   ],
   "source": [
    "df$국어 # 벡터로 나옴"
   ]
  },
  {
   "cell_type": "code",
   "execution_count": 21,
   "id": "72434306",
   "metadata": {},
   "outputs": [
    {
     "data": {
      "text/html": [
       "<table>\n",
       "<thead><tr><th></th><th scope=col>국어</th><th scope=col>영어</th></tr></thead>\n",
       "<tbody>\n",
       "\t<tr><th scope=row>a</th><td>80</td><td>70</td></tr>\n",
       "\t<tr><th scope=row>b</th><td>90</td><td>80</td></tr>\n",
       "\t<tr><th scope=row>c</th><td>30</td><td>50</td></tr>\n",
       "</tbody>\n",
       "</table>\n"
      ],
      "text/latex": [
       "\\begin{tabular}{r|ll}\n",
       "  & 국어 & 영어\\\\\n",
       "\\hline\n",
       "\ta & 80 & 70\\\\\n",
       "\tb & 90 & 80\\\\\n",
       "\tc & 30 & 50\\\\\n",
       "\\end{tabular}\n"
      ],
      "text/markdown": [
       "\n",
       "| <!--/--> | 국어 | 영어 |\n",
       "|---|---|---|\n",
       "| a | 80 | 70 |\n",
       "| b | 90 | 80 |\n",
       "| c | 30 | 50 |\n",
       "\n"
      ],
      "text/plain": [
       "  국어 영어\n",
       "a 80   70  \n",
       "b 90   80  \n",
       "c 30   50  "
      ]
     },
     "metadata": {},
     "output_type": "display_data"
    }
   ],
   "source": [
    "df[ c('국어','영어')] # pandas : df[ ['국어','영어']]"
   ]
  },
  {
   "cell_type": "code",
   "execution_count": 23,
   "id": "423500ef",
   "metadata": {},
   "outputs": [
    {
     "data": {
      "text/html": [
       "<table>\n",
       "<thead><tr><th></th><th scope=col>이름</th><th scope=col>국어</th><th scope=col>영어</th><th scope=col>수학</th></tr></thead>\n",
       "<tbody>\n",
       "\t<tr><th scope=row>a</th><td>홍길동</td><td>80    </td><td>70    </td><td>50    </td></tr>\n",
       "</tbody>\n",
       "</table>\n"
      ],
      "text/latex": [
       "\\begin{tabular}{r|llll}\n",
       "  & 이름 & 국어 & 영어 & 수학\\\\\n",
       "\\hline\n",
       "\ta & 홍길동 & 80     & 70     & 50    \\\\\n",
       "\\end{tabular}\n"
      ],
      "text/markdown": [
       "\n",
       "| <!--/--> | 이름 | 국어 | 영어 | 수학 |\n",
       "|---|---|---|---|---|\n",
       "| a | 홍길동 | 80     | 70     | 50     |\n",
       "\n"
      ],
      "text/plain": [
       "  이름   국어 영어 수학\n",
       "a 홍길동 80   70   50  "
      ]
     },
     "metadata": {},
     "output_type": "display_data"
    }
   ],
   "source": [
    "df[1]"
   ]
  },
  {
   "cell_type": "code",
   "execution_count": 24,
   "id": "cce85976",
   "metadata": {},
   "outputs": [
    {
     "data": {
      "text/html": [
       "<table>\n",
       "<thead><tr><th></th><th scope=col>이름</th><th scope=col>국어</th><th scope=col>영어</th><th scope=col>수학</th></tr></thead>\n",
       "<tbody>\n",
       "\t<tr><th scope=row>a</th><td>홍길동</td><td>80    </td><td>70    </td><td>50    </td></tr>\n",
       "</tbody>\n",
       "</table>\n"
      ],
      "text/latex": [
       "\\begin{tabular}{r|llll}\n",
       "  & 이름 & 국어 & 영어 & 수학\\\\\n",
       "\\hline\n",
       "\ta & 홍길동 & 80     & 70     & 50    \\\\\n",
       "\\end{tabular}\n"
      ],
      "text/markdown": [
       "\n",
       "| <!--/--> | 이름 | 국어 | 영어 | 수학 |\n",
       "|---|---|---|---|---|\n",
       "| a | 홍길동 | 80     | 70     | 50     |\n",
       "\n"
      ],
      "text/plain": [
       "  이름   국어 영어 수학\n",
       "a 홍길동 80   70   50  "
      ]
     },
     "metadata": {},
     "output_type": "display_data"
    }
   ],
   "source": [
    "df[1,]"
   ]
  },
  {
   "cell_type": "code",
   "execution_count": 26,
   "id": "38b0593e",
   "metadata": {},
   "outputs": [
    {
     "data": {
      "text/html": [
       "<table>\n",
       "<thead><tr><th></th><th scope=col>이름</th><th scope=col>국어</th><th scope=col>영어</th><th scope=col>수학</th></tr></thead>\n",
       "<tbody>\n",
       "\t<tr><th scope=row>a</th><td>홍길동</td><td>80    </td><td>70    </td><td>50    </td></tr>\n",
       "</tbody>\n",
       "</table>\n"
      ],
      "text/latex": [
       "\\begin{tabular}{r|llll}\n",
       "  & 이름 & 국어 & 영어 & 수학\\\\\n",
       "\\hline\n",
       "\ta & 홍길동 & 80     & 70     & 50    \\\\\n",
       "\\end{tabular}\n"
      ],
      "text/markdown": [
       "\n",
       "| <!--/--> | 이름 | 국어 | 영어 | 수학 |\n",
       "|---|---|---|---|---|\n",
       "| a | 홍길동 | 80     | 70     | 50     |\n",
       "\n"
      ],
      "text/plain": [
       "  이름   국어 영어 수학\n",
       "a 홍길동 80   70   50  "
      ]
     },
     "metadata": {},
     "output_type": "display_data"
    }
   ],
   "source": [
    "df['a',]"
   ]
  },
  {
   "cell_type": "code",
   "execution_count": 27,
   "id": "4c830682",
   "metadata": {},
   "outputs": [
    {
     "data": {
      "text/html": [
       "홍길동\n",
       "<details>\n",
       "\t<summary style=display:list-item;cursor:pointer>\n",
       "\t\t<strong>Levels</strong>:\n",
       "\t</summary>\n",
       "\t<ol class=list-inline>\n",
       "\t\t<li>'이순신'</li>\n",
       "\t\t<li>'임꺽정'</li>\n",
       "\t\t<li>'홍길동'</li>\n",
       "\t</ol>\n",
       "</details>"
      ],
      "text/latex": [
       "홍길동\n",
       "\\emph{Levels}: \\begin{enumerate*}\n",
       "\\item '이순신'\n",
       "\\item '임꺽정'\n",
       "\\item '홍길동'\n",
       "\\end{enumerate*}\n"
      ],
      "text/markdown": [
       "홍길동\n",
       "**Levels**: 1. '이순신'\n",
       "2. '임꺽정'\n",
       "3. '홍길동'\n",
       "\n",
       "\n"
      ],
      "text/plain": [
       "[1] 홍길동\n",
       "Levels: 이순신 임꺽정 홍길동"
      ]
     },
     "metadata": {},
     "output_type": "display_data"
    }
   ],
   "source": [
    "df[1,1]"
   ]
  },
  {
   "cell_type": "code",
   "execution_count": 28,
   "id": "b908d832",
   "metadata": {},
   "outputs": [
    {
     "data": {
      "text/html": [
       "80"
      ],
      "text/latex": [
       "80"
      ],
      "text/markdown": [
       "80"
      ],
      "text/plain": [
       "[1] 80"
      ]
     },
     "metadata": {},
     "output_type": "display_data"
    }
   ],
   "source": [
    "df['a','국어']"
   ]
  },
  {
   "cell_type": "code",
   "execution_count": 29,
   "id": "3cfa1bcb",
   "metadata": {},
   "outputs": [
    {
     "data": {
      "text/html": [
       "<table>\n",
       "<thead><tr><th></th><th scope=col>이름</th><th scope=col>국어</th><th scope=col>영어</th><th scope=col>수학</th></tr></thead>\n",
       "<tbody>\n",
       "\t<tr><th scope=row>a</th><td>홍길동</td><td>80    </td><td>70    </td><td>50    </td></tr>\n",
       "\t<tr><th scope=row>c</th><td>임꺽정</td><td>30    </td><td>50    </td><td>20    </td></tr>\n",
       "</tbody>\n",
       "</table>\n"
      ],
      "text/latex": [
       "\\begin{tabular}{r|llll}\n",
       "  & 이름 & 국어 & 영어 & 수학\\\\\n",
       "\\hline\n",
       "\ta & 홍길동 & 80     & 70     & 50    \\\\\n",
       "\tc & 임꺽정 & 30     & 50     & 20    \\\\\n",
       "\\end{tabular}\n"
      ],
      "text/markdown": [
       "\n",
       "| <!--/--> | 이름 | 국어 | 영어 | 수학 |\n",
       "|---|---|---|---|---|\n",
       "| a | 홍길동 | 80     | 70     | 50     |\n",
       "| c | 임꺽정 | 30     | 50     | 20     |\n",
       "\n"
      ],
      "text/plain": [
       "  이름   국어 영어 수학\n",
       "a 홍길동 80   70   50  \n",
       "c 임꺽정 30   50   20  "
      ]
     },
     "metadata": {},
     "output_type": "display_data"
    }
   ],
   "source": [
    "df[c('a','c'),]"
   ]
  },
  {
   "cell_type": "code",
   "execution_count": 30,
   "id": "72f11bb8",
   "metadata": {},
   "outputs": [
    {
     "data": {
      "text/html": [
       "<table>\n",
       "<thead><tr><th></th><th scope=col>이름</th><th scope=col>영어</th></tr></thead>\n",
       "<tbody>\n",
       "\t<tr><th scope=row>a</th><td>홍길동</td><td>70    </td></tr>\n",
       "\t<tr><th scope=row>b</th><td>이순신</td><td>80    </td></tr>\n",
       "\t<tr><th scope=row>c</th><td>임꺽정</td><td>50    </td></tr>\n",
       "</tbody>\n",
       "</table>\n"
      ],
      "text/latex": [
       "\\begin{tabular}{r|ll}\n",
       "  & 이름 & 영어\\\\\n",
       "\\hline\n",
       "\ta & 홍길동 & 70    \\\\\n",
       "\tb & 이순신 & 80    \\\\\n",
       "\tc & 임꺽정 & 50    \\\\\n",
       "\\end{tabular}\n"
      ],
      "text/markdown": [
       "\n",
       "| <!--/--> | 이름 | 영어 |\n",
       "|---|---|---|\n",
       "| a | 홍길동 | 70     |\n",
       "| b | 이순신 | 80     |\n",
       "| c | 임꺽정 | 50     |\n",
       "\n"
      ],
      "text/plain": [
       "  이름   영어\n",
       "a 홍길동 70  \n",
       "b 이순신 80  \n",
       "c 임꺽정 50  "
      ]
     },
     "metadata": {},
     "output_type": "display_data"
    }
   ],
   "source": [
    "df[c(1,3)]"
   ]
  },
  {
   "cell_type": "code",
   "execution_count": 31,
   "id": "f03552f6",
   "metadata": {},
   "outputs": [
    {
     "data": {
      "text/html": [
       "<table>\n",
       "<thead><tr><th></th><th scope=col>이름</th><th scope=col>국어</th><th scope=col>영어</th><th scope=col>수학</th></tr></thead>\n",
       "<tbody>\n",
       "\t<tr><th scope=row>a</th><td>홍길동</td><td>80    </td><td>70    </td><td>50    </td></tr>\n",
       "\t<tr><th scope=row>b</th><td>이순신</td><td>90    </td><td>80    </td><td>40    </td></tr>\n",
       "</tbody>\n",
       "</table>\n"
      ],
      "text/latex": [
       "\\begin{tabular}{r|llll}\n",
       "  & 이름 & 국어 & 영어 & 수학\\\\\n",
       "\\hline\n",
       "\ta & 홍길동 & 80     & 70     & 50    \\\\\n",
       "\tb & 이순신 & 90     & 80     & 40    \\\\\n",
       "\\end{tabular}\n"
      ],
      "text/markdown": [
       "\n",
       "| <!--/--> | 이름 | 국어 | 영어 | 수학 |\n",
       "|---|---|---|---|---|\n",
       "| a | 홍길동 | 80     | 70     | 50     |\n",
       "| b | 이순신 | 90     | 80     | 40     |\n",
       "\n"
      ],
      "text/plain": [
       "  이름   국어 영어 수학\n",
       "a 홍길동 80   70   50  \n",
       "b 이순신 90   80   40  "
      ]
     },
     "metadata": {},
     "output_type": "display_data"
    }
   ],
   "source": [
    "df[1:2,]"
   ]
  },
  {
   "cell_type": "code",
   "execution_count": 32,
   "id": "11e93f7b",
   "metadata": {},
   "outputs": [
    {
     "data": {
      "text/html": [
       "<table>\n",
       "<thead><tr><th></th><th scope=col>영어</th><th scope=col>수학</th></tr></thead>\n",
       "<tbody>\n",
       "\t<tr><th scope=row>b</th><td>80</td><td>40</td></tr>\n",
       "\t<tr><th scope=row>c</th><td>50</td><td>20</td></tr>\n",
       "</tbody>\n",
       "</table>\n"
      ],
      "text/latex": [
       "\\begin{tabular}{r|ll}\n",
       "  & 영어 & 수학\\\\\n",
       "\\hline\n",
       "\tb & 80 & 40\\\\\n",
       "\tc & 50 & 20\\\\\n",
       "\\end{tabular}\n"
      ],
      "text/markdown": [
       "\n",
       "| <!--/--> | 영어 | 수학 |\n",
       "|---|---|---|\n",
       "| b | 80 | 40 |\n",
       "| c | 50 | 20 |\n",
       "\n"
      ],
      "text/plain": [
       "  영어 수학\n",
       "b 80   40  \n",
       "c 50   20  "
      ]
     },
     "metadata": {},
     "output_type": "display_data"
    }
   ],
   "source": [
    "df[2:3,3:4]"
   ]
  },
  {
   "cell_type": "code",
   "execution_count": 38,
   "id": "5e1fd68f",
   "metadata": {},
   "outputs": [
    {
     "data": {
      "text/html": [
       "<table>\n",
       "<thead><tr><th></th><th scope=col>이름</th><th scope=col>국어</th><th scope=col>영어</th></tr></thead>\n",
       "<tbody>\n",
       "\t<tr><th scope=row>a</th><td>홍길동</td><td>80    </td><td>70    </td></tr>\n",
       "\t<tr><th scope=row>b</th><td>이순신</td><td>90    </td><td>80    </td></tr>\n",
       "\t<tr><th scope=row>c</th><td>임꺽정</td><td>30    </td><td>50    </td></tr>\n",
       "</tbody>\n",
       "</table>\n"
      ],
      "text/latex": [
       "\\begin{tabular}{r|lll}\n",
       "  & 이름 & 국어 & 영어\\\\\n",
       "\\hline\n",
       "\ta & 홍길동 & 80     & 70    \\\\\n",
       "\tb & 이순신 & 90     & 80    \\\\\n",
       "\tc & 임꺽정 & 30     & 50    \\\\\n",
       "\\end{tabular}\n"
      ],
      "text/markdown": [
       "\n",
       "| <!--/--> | 이름 | 국어 | 영어 |\n",
       "|---|---|---|---|\n",
       "| a | 홍길동 | 80     | 70     |\n",
       "| b | 이순신 | 90     | 80     |\n",
       "| c | 임꺽정 | 30     | 50     |\n",
       "\n"
      ],
      "text/plain": [
       "  이름   국어 영어\n",
       "a 홍길동 80   70  \n",
       "b 이순신 90   80  \n",
       "c 임꺽정 30   50  "
      ]
     },
     "metadata": {},
     "output_type": "display_data"
    },
    {
     "data": {
      "text/html": [
       "<table>\n",
       "<thead><tr><th></th><th scope=col>이름</th><th scope=col>국어</th><th scope=col>영어</th></tr></thead>\n",
       "<tbody>\n",
       "\t<tr><th scope=row>a</th><td>홍길동</td><td>80    </td><td>70    </td></tr>\n",
       "\t<tr><th scope=row>b</th><td>이순신</td><td>90    </td><td>80    </td></tr>\n",
       "\t<tr><th scope=row>c</th><td>임꺽정</td><td>30    </td><td>50    </td></tr>\n",
       "</tbody>\n",
       "</table>\n"
      ],
      "text/latex": [
       "\\begin{tabular}{r|lll}\n",
       "  & 이름 & 국어 & 영어\\\\\n",
       "\\hline\n",
       "\ta & 홍길동 & 80     & 70    \\\\\n",
       "\tb & 이순신 & 90     & 80    \\\\\n",
       "\tc & 임꺽정 & 30     & 50    \\\\\n",
       "\\end{tabular}\n"
      ],
      "text/markdown": [
       "\n",
       "| <!--/--> | 이름 | 국어 | 영어 |\n",
       "|---|---|---|---|\n",
       "| a | 홍길동 | 80     | 70     |\n",
       "| b | 이순신 | 90     | 80     |\n",
       "| c | 임꺽정 | 30     | 50     |\n",
       "\n"
      ],
      "text/plain": [
       "  이름   국어 영어\n",
       "a 홍길동 80   70  \n",
       "b 이순신 90   80  \n",
       "c 임꺽정 30   50  "
      ]
     },
     "metadata": {},
     "output_type": "display_data"
    }
   ],
   "source": [
    "### 마지막컬럼 앞에 모든 컬럼 선택\n",
    "df[-length(df)]\n",
    "df[-ncol(df)]"
   ]
  },
  {
   "cell_type": "markdown",
   "id": "25ce73a1",
   "metadata": {},
   "source": [
    "## 연산\n",
    "- 요소별\n",
    "- broadcasting"
   ]
  },
  {
   "cell_type": "markdown",
   "id": "32384cab",
   "metadata": {},
   "source": [
    "### 산술, 관계, 논리"
   ]
  },
  {
   "cell_type": "code",
   "execution_count": 12,
   "id": "92516957",
   "metadata": {},
   "outputs": [
    {
     "data": {
      "text/html": [
       "<table>\n",
       "<thead><tr><th></th><th scope=col>kor</th><th scope=col>eng</th><th scope=col>math</th></tr></thead>\n",
       "<tbody>\n",
       "\t<tr><th scope=row>홍길동</th><td>80</td><td>70</td><td>50</td></tr>\n",
       "\t<tr><th scope=row>이순신</th><td>90</td><td>80</td><td>40</td></tr>\n",
       "\t<tr><th scope=row>임꺽정</th><td>30</td><td>50</td><td>20</td></tr>\n",
       "</tbody>\n",
       "</table>\n"
      ],
      "text/latex": [
       "\\begin{tabular}{r|lll}\n",
       "  & kor & eng & math\\\\\n",
       "\\hline\n",
       "\t홍길동 & 80 & 70 & 50\\\\\n",
       "\t이순신 & 90 & 80 & 40\\\\\n",
       "\t임꺽정 & 30 & 50 & 20\\\\\n",
       "\\end{tabular}\n"
      ],
      "text/markdown": [
       "\n",
       "| <!--/--> | kor | eng | math |\n",
       "|---|---|---|---|\n",
       "| 홍길동 | 80 | 70 | 50 |\n",
       "| 이순신 | 90 | 80 | 40 |\n",
       "| 임꺽정 | 30 | 50 | 20 |\n",
       "\n"
      ],
      "text/plain": [
       "       kor eng math\n",
       "홍길동 80  70  50  \n",
       "이순신 90  80  40  \n",
       "임꺽정 30  50  20  "
      ]
     },
     "metadata": {},
     "output_type": "display_data"
    }
   ],
   "source": [
    "v1 = c('홍길동','이순신', '임꺽정')\n",
    "v2 = c(80,90, 30)\n",
    "v3 = c(70,80, 50)\n",
    "v4 = c(50,40, 20)\n",
    "df = data.frame( v2,v3,v4, row.names = v1)\n",
    "colnames(df) = c('kor','eng','math')\n",
    "df"
   ]
  },
  {
   "cell_type": "code",
   "execution_count": 48,
   "id": "c8e309c9",
   "metadata": {},
   "outputs": [
    {
     "data": {
      "text/html": [
       "<table>\n",
       "<thead><tr><th></th><th scope=col>kor</th><th scope=col>eng</th><th scope=col>math</th></tr></thead>\n",
       "<tbody>\n",
       "\t<tr><th scope=row>홍길동</th><td>160</td><td>140</td><td>100</td></tr>\n",
       "\t<tr><th scope=row>이순신</th><td>180</td><td>160</td><td> 80</td></tr>\n",
       "\t<tr><th scope=row>임꺽정</th><td> 60</td><td>100</td><td> 40</td></tr>\n",
       "</tbody>\n",
       "</table>\n"
      ],
      "text/latex": [
       "\\begin{tabular}{r|lll}\n",
       "  & kor & eng & math\\\\\n",
       "\\hline\n",
       "\t홍길동 & 160 & 140 & 100\\\\\n",
       "\t이순신 & 180 & 160 &  80\\\\\n",
       "\t임꺽정 &  60 & 100 &  40\\\\\n",
       "\\end{tabular}\n"
      ],
      "text/markdown": [
       "\n",
       "| <!--/--> | kor | eng | math |\n",
       "|---|---|---|---|\n",
       "| 홍길동 | 160 | 140 | 100 |\n",
       "| 이순신 | 180 | 160 |  80 |\n",
       "| 임꺽정 |  60 | 100 |  40 |\n",
       "\n"
      ],
      "text/plain": [
       "       kor eng math\n",
       "홍길동 160 140 100 \n",
       "이순신 180 160  80 \n",
       "임꺽정  60 100  40 "
      ]
     },
     "metadata": {},
     "output_type": "display_data"
    }
   ],
   "source": [
    "df + df"
   ]
  },
  {
   "cell_type": "code",
   "execution_count": 49,
   "id": "9fb3661b",
   "metadata": {},
   "outputs": [
    {
     "data": {
      "text/html": [
       "<table>\n",
       "<thead><tr><th></th><th scope=col>kor</th><th scope=col>eng</th><th scope=col>math</th></tr></thead>\n",
       "<tbody>\n",
       "\t<tr><th scope=row>홍길동</th><td>82</td><td>72</td><td>52</td></tr>\n",
       "\t<tr><th scope=row>이순신</th><td>92</td><td>82</td><td>42</td></tr>\n",
       "\t<tr><th scope=row>임꺽정</th><td>32</td><td>52</td><td>22</td></tr>\n",
       "</tbody>\n",
       "</table>\n"
      ],
      "text/latex": [
       "\\begin{tabular}{r|lll}\n",
       "  & kor & eng & math\\\\\n",
       "\\hline\n",
       "\t홍길동 & 82 & 72 & 52\\\\\n",
       "\t이순신 & 92 & 82 & 42\\\\\n",
       "\t임꺽정 & 32 & 52 & 22\\\\\n",
       "\\end{tabular}\n"
      ],
      "text/markdown": [
       "\n",
       "| <!--/--> | kor | eng | math |\n",
       "|---|---|---|---|\n",
       "| 홍길동 | 82 | 72 | 52 |\n",
       "| 이순신 | 92 | 82 | 42 |\n",
       "| 임꺽정 | 32 | 52 | 22 |\n",
       "\n"
      ],
      "text/plain": [
       "       kor eng math\n",
       "홍길동 82  72  52  \n",
       "이순신 92  82  42  \n",
       "임꺽정 32  52  22  "
      ]
     },
     "metadata": {},
     "output_type": "display_data"
    }
   ],
   "source": [
    "df + 2"
   ]
  },
  {
   "cell_type": "code",
   "execution_count": 50,
   "id": "d27f2746",
   "metadata": {},
   "outputs": [
    {
     "data": {
      "text/html": [
       "<table>\n",
       "<thead><tr><th></th><th scope=col>kor</th><th scope=col>eng</th><th scope=col>math</th></tr></thead>\n",
       "<tbody>\n",
       "\t<tr><th scope=row>홍길동</th><td>81</td><td>71</td><td>51</td></tr>\n",
       "\t<tr><th scope=row>이순신</th><td>92</td><td>82</td><td>42</td></tr>\n",
       "\t<tr><th scope=row>임꺽정</th><td>33</td><td>53</td><td>23</td></tr>\n",
       "</tbody>\n",
       "</table>\n"
      ],
      "text/latex": [
       "\\begin{tabular}{r|lll}\n",
       "  & kor & eng & math\\\\\n",
       "\\hline\n",
       "\t홍길동 & 81 & 71 & 51\\\\\n",
       "\t이순신 & 92 & 82 & 42\\\\\n",
       "\t임꺽정 & 33 & 53 & 23\\\\\n",
       "\\end{tabular}\n"
      ],
      "text/markdown": [
       "\n",
       "| <!--/--> | kor | eng | math |\n",
       "|---|---|---|---|\n",
       "| 홍길동 | 81 | 71 | 51 |\n",
       "| 이순신 | 92 | 82 | 42 |\n",
       "| 임꺽정 | 33 | 53 | 23 |\n",
       "\n"
      ],
      "text/plain": [
       "       kor eng math\n",
       "홍길동 81  71  51  \n",
       "이순신 92  82  42  \n",
       "임꺽정 33  53  23  "
      ]
     },
     "metadata": {},
     "output_type": "display_data"
    }
   ],
   "source": [
    "df + c(1,2,3)"
   ]
  },
  {
   "cell_type": "markdown",
   "id": "ec640c46",
   "metadata": {},
   "source": [
    "### boolean index :  R 행, 열 단위 둘 다 가능 / python pandas 행 단위\n",
    "                         "
   ]
  },
  {
   "cell_type": "code",
   "execution_count": 51,
   "id": "fc6cd294",
   "metadata": {},
   "outputs": [
    {
     "data": {
      "text/html": [
       "<table>\n",
       "<thead><tr><th></th><th scope=col>kor</th><th scope=col>eng</th></tr></thead>\n",
       "<tbody>\n",
       "\t<tr><th scope=row>홍길동</th><td>80</td><td>70</td></tr>\n",
       "\t<tr><th scope=row>이순신</th><td>90</td><td>80</td></tr>\n",
       "\t<tr><th scope=row>임꺽정</th><td>30</td><td>50</td></tr>\n",
       "</tbody>\n",
       "</table>\n"
      ],
      "text/latex": [
       "\\begin{tabular}{r|ll}\n",
       "  & kor & eng\\\\\n",
       "\\hline\n",
       "\t홍길동 & 80 & 70\\\\\n",
       "\t이순신 & 90 & 80\\\\\n",
       "\t임꺽정 & 30 & 50\\\\\n",
       "\\end{tabular}\n"
      ],
      "text/markdown": [
       "\n",
       "| <!--/--> | kor | eng |\n",
       "|---|---|---|\n",
       "| 홍길동 | 80 | 70 |\n",
       "| 이순신 | 90 | 80 |\n",
       "| 임꺽정 | 30 | 50 |\n",
       "\n"
      ],
      "text/plain": [
       "       kor eng\n",
       "홍길동 80  70 \n",
       "이순신 90  80 \n",
       "임꺽정 30  50 "
      ]
     },
     "metadata": {},
     "output_type": "display_data"
    }
   ],
   "source": [
    "df[c(T,T,F)]"
   ]
  },
  {
   "cell_type": "code",
   "execution_count": 52,
   "id": "1db23525",
   "metadata": {},
   "outputs": [
    {
     "data": {
      "text/html": [
       "<table>\n",
       "<thead><tr><th></th><th scope=col>kor</th><th scope=col>eng</th><th scope=col>math</th></tr></thead>\n",
       "<tbody>\n",
       "\t<tr><th scope=row>홍길동</th><td>80</td><td>70</td><td>50</td></tr>\n",
       "\t<tr><th scope=row>이순신</th><td>90</td><td>80</td><td>40</td></tr>\n",
       "</tbody>\n",
       "</table>\n"
      ],
      "text/latex": [
       "\\begin{tabular}{r|lll}\n",
       "  & kor & eng & math\\\\\n",
       "\\hline\n",
       "\t홍길동 & 80 & 70 & 50\\\\\n",
       "\t이순신 & 90 & 80 & 40\\\\\n",
       "\\end{tabular}\n"
      ],
      "text/markdown": [
       "\n",
       "| <!--/--> | kor | eng | math |\n",
       "|---|---|---|---|\n",
       "| 홍길동 | 80 | 70 | 50 |\n",
       "| 이순신 | 90 | 80 | 40 |\n",
       "\n"
      ],
      "text/plain": [
       "       kor eng math\n",
       "홍길동 80  70  50  \n",
       "이순신 90  80  40  "
      ]
     },
     "metadata": {},
     "output_type": "display_data"
    }
   ],
   "source": [
    "df[c(T,T,F),]"
   ]
  },
  {
   "cell_type": "code",
   "execution_count": 54,
   "id": "14083afa",
   "metadata": {},
   "outputs": [
    {
     "data": {
      "text/html": [
       "<ol class=list-inline>\n",
       "\t<li>TRUE</li>\n",
       "\t<li>TRUE</li>\n",
       "\t<li>FALSE</li>\n",
       "</ol>\n"
      ],
      "text/latex": [
       "\\begin{enumerate*}\n",
       "\\item TRUE\n",
       "\\item TRUE\n",
       "\\item FALSE\n",
       "\\end{enumerate*}\n"
      ],
      "text/markdown": [
       "1. TRUE\n",
       "2. TRUE\n",
       "3. FALSE\n",
       "\n",
       "\n"
      ],
      "text/plain": [
       "[1]  TRUE  TRUE FALSE"
      ]
     },
     "metadata": {},
     "output_type": "display_data"
    },
    {
     "data": {
      "text/html": [
       "<table>\n",
       "<thead><tr><th></th><th scope=col>kor</th><th scope=col>eng</th><th scope=col>math</th></tr></thead>\n",
       "<tbody>\n",
       "\t<tr><th scope=row>홍길동</th><td>80</td><td>70</td><td>50</td></tr>\n",
       "\t<tr><th scope=row>이순신</th><td>90</td><td>80</td><td>40</td></tr>\n",
       "</tbody>\n",
       "</table>\n"
      ],
      "text/latex": [
       "\\begin{tabular}{r|lll}\n",
       "  & kor & eng & math\\\\\n",
       "\\hline\n",
       "\t홍길동 & 80 & 70 & 50\\\\\n",
       "\t이순신 & 90 & 80 & 40\\\\\n",
       "\\end{tabular}\n"
      ],
      "text/markdown": [
       "\n",
       "| <!--/--> | kor | eng | math |\n",
       "|---|---|---|---|\n",
       "| 홍길동 | 80 | 70 | 50 |\n",
       "| 이순신 | 90 | 80 | 40 |\n",
       "\n"
      ],
      "text/plain": [
       "       kor eng math\n",
       "홍길동 80  70  50  \n",
       "이순신 90  80  40  "
      ]
     },
     "metadata": {},
     "output_type": "display_data"
    }
   ],
   "source": [
    "# df['kor']\n",
    "df$kor > 60\n",
    "df[df$kor > 60,]  # 콤마 넣어야 함"
   ]
  },
  {
   "cell_type": "code",
   "execution_count": 55,
   "id": "0522d0e0",
   "metadata": {},
   "outputs": [
    {
     "data": {
      "text/html": [
       "<ol class=list-inline>\n",
       "\t<li>TRUE</li>\n",
       "\t<li>FALSE</li>\n",
       "\t<li>TRUE</li>\n",
       "</ol>\n"
      ],
      "text/latex": [
       "\\begin{enumerate*}\n",
       "\\item TRUE\n",
       "\\item FALSE\n",
       "\\item TRUE\n",
       "\\end{enumerate*}\n"
      ],
      "text/markdown": [
       "1. TRUE\n",
       "2. FALSE\n",
       "3. TRUE\n",
       "\n",
       "\n"
      ],
      "text/plain": [
       "[1]  TRUE FALSE  TRUE"
      ]
     },
     "metadata": {},
     "output_type": "display_data"
    }
   ],
   "source": [
    "df$kor == 80 | df$kor == 30"
   ]
  },
  {
   "cell_type": "code",
   "execution_count": 56,
   "id": "2f5430e6",
   "metadata": {},
   "outputs": [
    {
     "data": {
      "text/html": [
       "<table>\n",
       "<thead><tr><th></th><th scope=col>kor</th><th scope=col>eng</th><th scope=col>math</th></tr></thead>\n",
       "<tbody>\n",
       "\t<tr><th scope=row>홍길동</th><td>80</td><td>70</td><td>50</td></tr>\n",
       "\t<tr><th scope=row>이순신</th><td>90</td><td>80</td><td>40</td></tr>\n",
       "</tbody>\n",
       "</table>\n"
      ],
      "text/latex": [
       "\\begin{tabular}{r|lll}\n",
       "  & kor & eng & math\\\\\n",
       "\\hline\n",
       "\t홍길동 & 80 & 70 & 50\\\\\n",
       "\t이순신 & 90 & 80 & 40\\\\\n",
       "\\end{tabular}\n"
      ],
      "text/markdown": [
       "\n",
       "| <!--/--> | kor | eng | math |\n",
       "|---|---|---|---|\n",
       "| 홍길동 | 80 | 70 | 50 |\n",
       "| 이순신 | 90 | 80 | 40 |\n",
       "\n"
      ],
      "text/plain": [
       "       kor eng math\n",
       "홍길동 80  70  50  \n",
       "이순신 90  80  40  "
      ]
     },
     "metadata": {},
     "output_type": "display_data"
    }
   ],
   "source": [
    "df[df$math > 20 & df$math < 100,]"
   ]
  },
  {
   "cell_type": "code",
   "execution_count": null,
   "id": "edad60d2",
   "metadata": {},
   "outputs": [],
   "source": [
    "?subset"
   ]
  },
  {
   "cell_type": "code",
   "execution_count": 13,
   "id": "ceacf58b",
   "metadata": {},
   "outputs": [
    {
     "data": {
      "text/html": [
       "<table>\n",
       "<thead><tr><th></th><th scope=col>kor</th><th scope=col>eng</th></tr></thead>\n",
       "<tbody>\n",
       "\t<tr><th scope=row>홍길동</th><td>80</td><td>70</td></tr>\n",
       "\t<tr><th scope=row>이순신</th><td>90</td><td>80</td></tr>\n",
       "</tbody>\n",
       "</table>\n"
      ],
      "text/latex": [
       "\\begin{tabular}{r|ll}\n",
       "  & kor & eng\\\\\n",
       "\\hline\n",
       "\t홍길동 & 80 & 70\\\\\n",
       "\t이순신 & 90 & 80\\\\\n",
       "\\end{tabular}\n"
      ],
      "text/markdown": [
       "\n",
       "| <!--/--> | kor | eng |\n",
       "|---|---|---|\n",
       "| 홍길동 | 80 | 70 |\n",
       "| 이순신 | 90 | 80 |\n",
       "\n"
      ],
      "text/plain": [
       "       kor eng\n",
       "홍길동 80  70 \n",
       "이순신 90  80 "
      ]
     },
     "metadata": {},
     "output_type": "display_data"
    }
   ],
   "source": [
    "subset(df, kor >= 80, c('kor','eng'))"
   ]
  },
  {
   "cell_type": "code",
   "execution_count": 14,
   "id": "73e20e75",
   "metadata": {},
   "outputs": [
    {
     "data": {
      "text/html": [
       "<table>\n",
       "<thead><tr><th></th><th scope=col>kor</th><th scope=col>eng</th><th scope=col>math</th></tr></thead>\n",
       "<tbody>\n",
       "\t<tr><th scope=row>홍길동</th><td>80</td><td>70</td><td>50</td></tr>\n",
       "\t<tr><th scope=row>임꺽정</th><td>30</td><td>50</td><td>20</td></tr>\n",
       "</tbody>\n",
       "</table>\n"
      ],
      "text/latex": [
       "\\begin{tabular}{r|lll}\n",
       "  & kor & eng & math\\\\\n",
       "\\hline\n",
       "\t홍길동 & 80 & 70 & 50\\\\\n",
       "\t임꺽정 & 30 & 50 & 20\\\\\n",
       "\\end{tabular}\n"
      ],
      "text/markdown": [
       "\n",
       "| <!--/--> | kor | eng | math |\n",
       "|---|---|---|---|\n",
       "| 홍길동 | 80 | 70 | 50 |\n",
       "| 임꺽정 | 30 | 50 | 20 |\n",
       "\n"
      ],
      "text/plain": [
       "       kor eng math\n",
       "홍길동 80  70  50  \n",
       "임꺽정 30  50  20  "
      ]
     },
     "metadata": {},
     "output_type": "display_data"
    }
   ],
   "source": [
    "# 영어점수가 70 또는 50인 행을 선택하시오\n",
    "subset(df, eng == 70 | eng == 50)"
   ]
  },
  {
   "cell_type": "markdown",
   "id": "36152fcb",
   "metadata": {},
   "source": [
    "### Python pandas query\n",
    "---------------------------------------"
   ]
  },
  {
   "cell_type": "code",
   "execution_count": null,
   "id": "eac3d6cb",
   "metadata": {},
   "outputs": [],
   "source": [
    "df[ df['c1'] >= 4]\n",
    "df.query('c1 >=4')"
   ]
  },
  {
   "cell_type": "code",
   "execution_count": null,
   "id": "9f06667a",
   "metadata": {},
   "outputs": [],
   "source": [
    "df[df['c1'] ==4 | df['c1'] == 7]\n",
    "df.query('c1' == 4 or 'c1' == 7)"
   ]
  },
  {
   "cell_type": "code",
   "execution_count": null,
   "id": "2a2028ed",
   "metadata": {},
   "outputs": [],
   "source": [
    "df[df['c1'] >=4 & df['c1'] <= 7]\n",
    "df.query('c1' >= 4 and 'c1' <= 7)"
   ]
  },
  {
   "cell_type": "code",
   "execution_count": null,
   "id": "67bde168",
   "metadata": {},
   "outputs": [],
   "source": [
    "n=4\n",
    "df[ df['c1'] >=n ]\n",
    "df.query( 'c1>=n')"
   ]
  },
  {
   "cell_type": "code",
   "execution_count": null,
   "id": "412dcd13",
   "metadata": {},
   "outputs": [],
   "source": [
    "n=4\n",
    "# df[ df['c1'] >=n ]\n",
    "df.query( 'c1>=@n')"
   ]
  },
  {
   "cell_type": "markdown",
   "id": "bef4cc00",
   "metadata": {},
   "source": [
    "________________________________________________________________________"
   ]
  },
  {
   "cell_type": "markdown",
   "id": "b89c26db",
   "metadata": {},
   "source": [
    "## SQL을 이용한 데이터 프레임 사용"
   ]
  },
  {
   "cell_type": "code",
   "execution_count": 33,
   "id": "26c7bac4",
   "metadata": {
    "ExecuteTime": {
     "end_time": "2022-04-20T07:37:01.897945Z",
     "start_time": "2022-04-20T07:36:19.291Z"
    }
   },
   "outputs": [
    {
     "name": "stderr",
     "output_type": "stream",
     "text": [
      "also installing the dependencies 'bit', 'bit64', 'blob', 'DBI', 'memoise', 'Rcpp', 'gsubfn', 'proto', 'RSQLite', 'chron'\n",
      "\n"
     ]
    },
    {
     "name": "stdout",
     "output_type": "stream",
     "text": [
      "\n",
      "  There are binary versions available but the source versions are later:\n",
      "        binary  source needs_compilation\n",
      "blob     1.2.1   1.2.3             FALSE\n",
      "DBI      1.1.1   1.1.2             FALSE\n",
      "memoise  2.0.0   2.0.1             FALSE\n",
      "Rcpp     1.0.6 1.0.8.3              TRUE\n",
      "RSQLite  2.2.7  2.2.12              TRUE\n",
      "\n",
      "  Binaries will be installed\n",
      "package 'bit' successfully unpacked and MD5 sums checked\n",
      "package 'bit64' successfully unpacked and MD5 sums checked\n",
      "package 'Rcpp' successfully unpacked and MD5 sums checked\n"
     ]
    },
    {
     "name": "stderr",
     "output_type": "stream",
     "text": [
      "Warning message:\n",
      "\"cannot remove prior installation of package 'Rcpp'\"Warning message in file.copy(savedcopy, lib, recursive = TRUE):\n",
      "\"C:\\Users\\MEDICI\\Anaconda3\\Lib\\R\\library\\00LOCK\\Rcpp\\libs\\x64\\Rcpp.dll를 C:\\Users\\MEDICI\\Anaconda3\\Lib\\R\\library\\Rcpp\\libs\\x64\\Rcpp.dll로 복사하는데 문제가 발생했습니다: Permission denied\"Warning message:\n",
      "\"restored 'Rcpp'\""
     ]
    },
    {
     "name": "stdout",
     "output_type": "stream",
     "text": [
      "package 'gsubfn' successfully unpacked and MD5 sums checked\n",
      "package 'proto' successfully unpacked and MD5 sums checked\n",
      "package 'RSQLite' successfully unpacked and MD5 sums checked\n",
      "package 'chron' successfully unpacked and MD5 sums checked\n",
      "package 'sqldf' successfully unpacked and MD5 sums checked\n",
      "\n",
      "The downloaded binary packages are in\n",
      "\tC:\\Users\\MEDICI\\AppData\\Local\\Temp\\RtmpstowGC\\downloaded_packages\n"
     ]
    },
    {
     "name": "stderr",
     "output_type": "stream",
     "text": [
      "installing the source packages 'blob', 'DBI', 'memoise'\n",
      "\n"
     ]
    }
   ],
   "source": [
    "install.packages('sqldf')"
   ]
  },
  {
   "cell_type": "code",
   "execution_count": 34,
   "id": "a6053671",
   "metadata": {
    "ExecuteTime": {
     "end_time": "2022-04-20T07:41:55.082245Z",
     "start_time": "2022-04-20T07:41:54.050Z"
    }
   },
   "outputs": [
    {
     "name": "stderr",
     "output_type": "stream",
     "text": [
      "Loading required package: sqldf\n",
      "Warning message:\n",
      "\"package 'sqldf' was built under R version 3.6.3\"Loading required package: gsubfn\n",
      "Warning message:\n",
      "\"package 'gsubfn' was built under R version 3.6.3\"Loading required package: proto\n",
      "Warning message:\n",
      "\"package 'proto' was built under R version 3.6.3\"Loading required package: RSQLite\n",
      "Warning message:\n",
      "\"package 'RSQLite' was built under R version 3.6.3\""
     ]
    }
   ],
   "source": [
    "require(sqldf)"
   ]
  },
  {
   "cell_type": "code",
   "execution_count": 35,
   "id": "d5ab36b4",
   "metadata": {
    "ExecuteTime": {
     "end_time": "2022-04-20T07:42:08.764603Z",
     "start_time": "2022-04-20T07:42:08.718Z"
    }
   },
   "outputs": [
    {
     "name": "stdout",
     "output_type": "stream",
     "text": [
      "  id   name age isMarried\n",
      "1 F1 김가수  32      TRUE\n",
      "2 F2 박인호  28      TRUE\n",
      "3 F3 고소미  22     FALSE\n",
      "4 F4 홍길동  30     FALSE\n",
      "5 F5 이순신  40      TRUE\n"
     ]
    },
    {
     "data": {
      "text/html": [
       "<table>\n",
       "<thead><tr><th scope=col>id</th><th scope=col>name</th><th scope=col>age</th><th scope=col>isMarried</th></tr></thead>\n",
       "<tbody>\n",
       "\t<tr><td>F1    </td><td>김가수</td><td>32    </td><td> TRUE </td></tr>\n",
       "\t<tr><td>F2    </td><td>박인호</td><td>28    </td><td> TRUE </td></tr>\n",
       "\t<tr><td>F3    </td><td>고소미</td><td>22    </td><td>FALSE </td></tr>\n",
       "\t<tr><td>F4    </td><td>홍길동</td><td>30    </td><td>FALSE </td></tr>\n",
       "\t<tr><td>F5    </td><td>이순신</td><td>40    </td><td> TRUE </td></tr>\n",
       "</tbody>\n",
       "</table>\n"
      ],
      "text/latex": [
       "\\begin{tabular}{r|llll}\n",
       " id & name & age & isMarried\\\\\n",
       "\\hline\n",
       "\t F1     & 김가수 & 32     &  TRUE \\\\\n",
       "\t F2     & 박인호 & 28     &  TRUE \\\\\n",
       "\t F3     & 고소미 & 22     & FALSE \\\\\n",
       "\t F4     & 홍길동 & 30     & FALSE \\\\\n",
       "\t F5     & 이순신 & 40     &  TRUE \\\\\n",
       "\\end{tabular}\n"
      ],
      "text/markdown": [
       "\n",
       "| id | name | age | isMarried |\n",
       "|---|---|---|---|\n",
       "| F1     | 김가수 | 32     |  TRUE  |\n",
       "| F2     | 박인호 | 28     |  TRUE  |\n",
       "| F3     | 고소미 | 22     | FALSE  |\n",
       "| F4     | 홍길동 | 30     | FALSE  |\n",
       "| F5     | 이순신 | 40     |  TRUE  |\n",
       "\n"
      ],
      "text/plain": [
       "  id name   age isMarried\n",
       "1 F1 김가수 32   TRUE    \n",
       "2 F2 박인호 28   TRUE    \n",
       "3 F3 고소미 22  FALSE    \n",
       "4 F4 홍길동 30  FALSE    \n",
       "5 F5 이순신 40   TRUE    "
      ]
     },
     "metadata": {},
     "output_type": "display_data"
    }
   ],
   "source": [
    "id <- c('F1', 'F2', 'F3','F4','F5')\n",
    "name <- c('김가수', '박인호', '고소미','홍길동','이순신')\n",
    "age <- c(32 , 28 , 22, 30, 40 )\n",
    "isMarried <- c(TRUE , TRUE , FALSE, FALSE, TRUE)\n",
    "df1 = data.frame( id,name,age, isMarried)\n",
    "print(df1)\n",
    "df1"
   ]
  },
  {
   "cell_type": "code",
   "execution_count": 67,
   "id": "69c1897c",
   "metadata": {},
   "outputs": [],
   "source": [
    "?sqldf"
   ]
  },
  {
   "cell_type": "code",
   "execution_count": 36,
   "id": "b75b2b07",
   "metadata": {
    "ExecuteTime": {
     "end_time": "2022-04-20T07:42:11.673146Z",
     "start_time": "2022-04-20T07:42:11.598Z"
    }
   },
   "outputs": [
    {
     "data": {
      "text/html": [
       "<table>\n",
       "<thead><tr><th scope=col>id</th><th scope=col>name</th><th scope=col>age</th><th scope=col>isMarried</th></tr></thead>\n",
       "<tbody>\n",
       "\t<tr><td>F1    </td><td>김가수</td><td>32    </td><td> TRUE </td></tr>\n",
       "\t<tr><td>F2    </td><td>박인호</td><td>28    </td><td> TRUE </td></tr>\n",
       "\t<tr><td>F3    </td><td>고소미</td><td>22    </td><td>FALSE </td></tr>\n",
       "\t<tr><td>F4    </td><td>홍길동</td><td>30    </td><td>FALSE </td></tr>\n",
       "\t<tr><td>F5    </td><td>이순신</td><td>40    </td><td> TRUE </td></tr>\n",
       "</tbody>\n",
       "</table>\n"
      ],
      "text/latex": [
       "\\begin{tabular}{r|llll}\n",
       " id & name & age & isMarried\\\\\n",
       "\\hline\n",
       "\t F1     & 김가수 & 32     &  TRUE \\\\\n",
       "\t F2     & 박인호 & 28     &  TRUE \\\\\n",
       "\t F3     & 고소미 & 22     & FALSE \\\\\n",
       "\t F4     & 홍길동 & 30     & FALSE \\\\\n",
       "\t F5     & 이순신 & 40     &  TRUE \\\\\n",
       "\\end{tabular}\n"
      ],
      "text/markdown": [
       "\n",
       "| id | name | age | isMarried |\n",
       "|---|---|---|---|\n",
       "| F1     | 김가수 | 32     |  TRUE  |\n",
       "| F2     | 박인호 | 28     |  TRUE  |\n",
       "| F3     | 고소미 | 22     | FALSE  |\n",
       "| F4     | 홍길동 | 30     | FALSE  |\n",
       "| F5     | 이순신 | 40     |  TRUE  |\n",
       "\n"
      ],
      "text/plain": [
       "  id name   age isMarried\n",
       "1 F1 김가수 32   TRUE    \n",
       "2 F2 박인호 28   TRUE    \n",
       "3 F3 고소미 22  FALSE    \n",
       "4 F4 홍길동 30  FALSE    \n",
       "5 F5 이순신 40   TRUE    "
      ]
     },
     "metadata": {},
     "output_type": "display_data"
    }
   ],
   "source": [
    "sqldf(\"select * from df1\")"
   ]
  },
  {
   "cell_type": "code",
   "execution_count": 37,
   "id": "e1a10c64",
   "metadata": {
    "ExecuteTime": {
     "end_time": "2022-04-20T07:42:14.005371Z",
     "start_time": "2022-04-20T07:42:13.876Z"
    }
   },
   "outputs": [
    {
     "data": {
      "text/html": [
       "<table>\n",
       "<thead><tr><th scope=col>id</th><th scope=col>name</th><th scope=col>age</th><th scope=col>isMarried</th></tr></thead>\n",
       "<tbody>\n",
       "\t<tr><td>F1    </td><td>김가수</td><td>32    </td><td> TRUE </td></tr>\n",
       "\t<tr><td>F4    </td><td>홍길동</td><td>30    </td><td>FALSE </td></tr>\n",
       "\t<tr><td>F5    </td><td>이순신</td><td>40    </td><td> TRUE </td></tr>\n",
       "</tbody>\n",
       "</table>\n"
      ],
      "text/latex": [
       "\\begin{tabular}{r|llll}\n",
       " id & name & age & isMarried\\\\\n",
       "\\hline\n",
       "\t F1     & 김가수 & 32     &  TRUE \\\\\n",
       "\t F4     & 홍길동 & 30     & FALSE \\\\\n",
       "\t F5     & 이순신 & 40     &  TRUE \\\\\n",
       "\\end{tabular}\n"
      ],
      "text/markdown": [
       "\n",
       "| id | name | age | isMarried |\n",
       "|---|---|---|---|\n",
       "| F1     | 김가수 | 32     |  TRUE  |\n",
       "| F4     | 홍길동 | 30     | FALSE  |\n",
       "| F5     | 이순신 | 40     |  TRUE  |\n",
       "\n"
      ],
      "text/plain": [
       "  id name   age isMarried\n",
       "1 F1 김가수 32   TRUE    \n",
       "2 F4 홍길동 30  FALSE    \n",
       "3 F5 이순신 40   TRUE    "
      ]
     },
     "metadata": {},
     "output_type": "display_data"
    }
   ],
   "source": [
    "# 1. 나이가 30 이상인 데이터를 선택하시오\n",
    "sqldf(\"select * from df1 where age>=30\")"
   ]
  },
  {
   "cell_type": "code",
   "execution_count": 38,
   "id": "8b75cfbb",
   "metadata": {
    "ExecuteTime": {
     "end_time": "2022-04-20T07:42:14.574506Z",
     "start_time": "2022-04-20T07:42:14.531Z"
    }
   },
   "outputs": [
    {
     "data": {
      "text/html": [
       "<table>\n",
       "<thead><tr><th scope=col>id</th><th scope=col>name</th><th scope=col>age</th><th scope=col>isMarried</th></tr></thead>\n",
       "<tbody>\n",
       "\t<tr><td>F5    </td><td>이순신</td><td>40    </td><td> TRUE </td></tr>\n",
       "\t<tr><td>F1    </td><td>김가수</td><td>32    </td><td> TRUE </td></tr>\n",
       "\t<tr><td>F4    </td><td>홍길동</td><td>30    </td><td>FALSE </td></tr>\n",
       "\t<tr><td>F2    </td><td>박인호</td><td>28    </td><td> TRUE </td></tr>\n",
       "\t<tr><td>F3    </td><td>고소미</td><td>22    </td><td>FALSE </td></tr>\n",
       "</tbody>\n",
       "</table>\n"
      ],
      "text/latex": [
       "\\begin{tabular}{r|llll}\n",
       " id & name & age & isMarried\\\\\n",
       "\\hline\n",
       "\t F5     & 이순신 & 40     &  TRUE \\\\\n",
       "\t F1     & 김가수 & 32     &  TRUE \\\\\n",
       "\t F4     & 홍길동 & 30     & FALSE \\\\\n",
       "\t F2     & 박인호 & 28     &  TRUE \\\\\n",
       "\t F3     & 고소미 & 22     & FALSE \\\\\n",
       "\\end{tabular}\n"
      ],
      "text/markdown": [
       "\n",
       "| id | name | age | isMarried |\n",
       "|---|---|---|---|\n",
       "| F5     | 이순신 | 40     |  TRUE  |\n",
       "| F1     | 김가수 | 32     |  TRUE  |\n",
       "| F4     | 홍길동 | 30     | FALSE  |\n",
       "| F2     | 박인호 | 28     |  TRUE  |\n",
       "| F3     | 고소미 | 22     | FALSE  |\n",
       "\n"
      ],
      "text/plain": [
       "  id name   age isMarried\n",
       "1 F5 이순신 40   TRUE    \n",
       "2 F1 김가수 32   TRUE    \n",
       "3 F4 홍길동 30  FALSE    \n",
       "4 F2 박인호 28   TRUE    \n",
       "5 F3 고소미 22  FALSE    "
      ]
     },
     "metadata": {},
     "output_type": "display_data"
    }
   ],
   "source": [
    "# 2. 나이순으로 정렬하세요\n",
    "sqldf(\"select * from df1 order by age desc\")"
   ]
  },
  {
   "cell_type": "code",
   "execution_count": 39,
   "id": "51707b03",
   "metadata": {
    "ExecuteTime": {
     "end_time": "2022-04-20T07:42:15.100368Z",
     "start_time": "2022-04-20T07:42:15.050Z"
    }
   },
   "outputs": [
    {
     "data": {
      "text/html": [
       "<table>\n",
       "<thead><tr><th scope=col>id</th><th scope=col>name</th><th scope=col>age</th><th scope=col>isMarried</th></tr></thead>\n",
       "<tbody>\n",
       "\t<tr><td>F1    </td><td>김가수</td><td>32    </td><td>TRUE  </td></tr>\n",
       "</tbody>\n",
       "</table>\n"
      ],
      "text/latex": [
       "\\begin{tabular}{r|llll}\n",
       " id & name & age & isMarried\\\\\n",
       "\\hline\n",
       "\t F1     & 김가수 & 32     & TRUE  \\\\\n",
       "\\end{tabular}\n"
      ],
      "text/markdown": [
       "\n",
       "| id | name | age | isMarried |\n",
       "|---|---|---|---|\n",
       "| F1     | 김가수 | 32     | TRUE   |\n",
       "\n"
      ],
      "text/plain": [
       "  id name   age isMarried\n",
       "1 F1 김가수 32  TRUE     "
      ]
     },
     "metadata": {},
     "output_type": "display_data"
    }
   ],
   "source": [
    "# 3. 이름에 '김' 글자가 있는 데이터를 선택하시오\n",
    "sqldf(\"select * from df1 where name LIKE '%김%'\")"
   ]
  },
  {
   "cell_type": "code",
   "execution_count": 40,
   "id": "021d2797",
   "metadata": {
    "ExecuteTime": {
     "end_time": "2022-04-20T07:42:16.620707Z",
     "start_time": "2022-04-20T07:42:16.576Z"
    }
   },
   "outputs": [
    {
     "data": {
      "text/html": [
       "<table>\n",
       "<thead><tr><th scope=col>name</th><th scope=col>age</th></tr></thead>\n",
       "<tbody>\n",
       "\t<tr><td>김가수</td><td>32    </td></tr>\n",
       "\t<tr><td>홍길동</td><td>30    </td></tr>\n",
       "\t<tr><td>이순신</td><td>40    </td></tr>\n",
       "</tbody>\n",
       "</table>\n"
      ],
      "text/latex": [
       "\\begin{tabular}{r|ll}\n",
       " name & age\\\\\n",
       "\\hline\n",
       "\t 김가수 & 32    \\\\\n",
       "\t 홍길동 & 30    \\\\\n",
       "\t 이순신 & 40    \\\\\n",
       "\\end{tabular}\n"
      ],
      "text/markdown": [
       "\n",
       "| name | age |\n",
       "|---|---|\n",
       "| 김가수 | 32     |\n",
       "| 홍길동 | 30     |\n",
       "| 이순신 | 40     |\n",
       "\n"
      ],
      "text/plain": [
       "  name   age\n",
       "1 김가수 32 \n",
       "2 홍길동 30 \n",
       "3 이순신 40 "
      ]
     },
     "metadata": {},
     "output_type": "display_data"
    }
   ],
   "source": [
    "# 4. 나이가 30이상 50이하인 데이터의 이름과 나이를 선택하시오\n",
    "sqldf(\"select name, age from df1 where age >= 30 and age <=50\")"
   ]
  },
  {
   "cell_type": "markdown",
   "id": "6793cdb5",
   "metadata": {},
   "source": [
    "### dplyr 패키지 이용"
   ]
  },
  {
   "cell_type": "code",
   "execution_count": 3,
   "id": "2db02324",
   "metadata": {
    "ExecuteTime": {
     "end_time": "2022-04-20T07:23:30.974144Z",
     "start_time": "2022-04-20T07:23:21.555Z"
    }
   },
   "outputs": [
    {
     "name": "stderr",
     "output_type": "stream",
     "text": [
      "also installing the dependencies 'glue', 'rlang', 'tibble'\n",
      "\n"
     ]
    },
    {
     "name": "stdout",
     "output_type": "stream",
     "text": [
      "\n",
      "  There are binary versions available but the source versions are later:\n",
      "       binary source needs_compilation\n",
      "glue    1.4.2  1.6.2              TRUE\n",
      "rlang  0.4.11  1.0.2              TRUE\n",
      "tibble  3.1.1  3.1.6              TRUE\n",
      "dplyr   1.0.6  1.0.8              TRUE\n",
      "\n",
      "  Binaries will be installed\n"
     ]
    },
    {
     "name": "stderr",
     "output_type": "stream",
     "text": [
      "Warning message:\n",
      "\"package 'dplyr' is in use and will not be installed\""
     ]
    },
    {
     "name": "stdout",
     "output_type": "stream",
     "text": [
      "package 'glue' successfully unpacked and MD5 sums checked\n"
     ]
    },
    {
     "name": "stderr",
     "output_type": "stream",
     "text": [
      "Warning message:\n",
      "\"cannot remove prior installation of package 'glue'\"Warning message in file.copy(savedcopy, lib, recursive = TRUE):\n",
      "\"C:\\Users\\MEDICI\\Anaconda3\\Lib\\R\\library\\00LOCK\\glue\\libs\\x64\\glue.dll를 C:\\Users\\MEDICI\\Anaconda3\\Lib\\R\\library\\glue\\libs\\x64\\glue.dll로 복사하는데 문제가 발생했습니다: Permission denied\"Warning message:\n",
      "\"restored 'glue'\""
     ]
    },
    {
     "name": "stdout",
     "output_type": "stream",
     "text": [
      "package 'rlang' successfully unpacked and MD5 sums checked\n"
     ]
    },
    {
     "name": "stderr",
     "output_type": "stream",
     "text": [
      "Warning message:\n",
      "\"cannot remove prior installation of package 'rlang'\"Warning message in file.copy(savedcopy, lib, recursive = TRUE):\n",
      "\"C:\\Users\\MEDICI\\Anaconda3\\Lib\\R\\library\\00LOCK\\rlang\\libs\\x64\\rlang.dll를 C:\\Users\\MEDICI\\Anaconda3\\Lib\\R\\library\\rlang\\libs\\x64\\rlang.dll로 복사하는데 문제가 발생했습니다: Permission denied\"Warning message:\n",
      "\"restored 'rlang'\""
     ]
    },
    {
     "name": "stdout",
     "output_type": "stream",
     "text": [
      "package 'tibble' successfully unpacked and MD5 sums checked\n"
     ]
    },
    {
     "name": "stderr",
     "output_type": "stream",
     "text": [
      "Warning message:\n",
      "\"cannot remove prior installation of package 'tibble'\"Warning message in file.copy(savedcopy, lib, recursive = TRUE):\n",
      "\"C:\\Users\\MEDICI\\Anaconda3\\Lib\\R\\library\\00LOCK\\tibble\\libs\\x64\\tibble.dll를 C:\\Users\\MEDICI\\Anaconda3\\Lib\\R\\library\\tibble\\libs\\x64\\tibble.dll로 복사하는데 문제가 발생했습니다: Permission denied\"Warning message:\n",
      "\"restored 'tibble'\""
     ]
    },
    {
     "name": "stdout",
     "output_type": "stream",
     "text": [
      "\n",
      "The downloaded binary packages are in\n",
      "\tC:\\Users\\MEDICI\\AppData\\Local\\Temp\\RtmpstowGC\\downloaded_packages\n"
     ]
    }
   ],
   "source": [
    "install.packages(\"dplyr\")"
   ]
  },
  {
   "cell_type": "code",
   "execution_count": 23,
   "id": "5d9f771c",
   "metadata": {
    "ExecuteTime": {
     "end_time": "2022-04-20T07:35:37.962012Z",
     "start_time": "2022-04-20T07:35:37.934Z"
    }
   },
   "outputs": [],
   "source": [
    "library(\"dplyr\")"
   ]
  },
  {
   "cell_type": "code",
   "execution_count": null,
   "id": "e2dc904c",
   "metadata": {},
   "outputs": [],
   "source": [
    "?filtter"
   ]
  },
  {
   "cell_type": "code",
   "execution_count": 27,
   "id": "1767f299",
   "metadata": {
    "ExecuteTime": {
     "end_time": "2022-04-20T07:35:57.083011Z",
     "start_time": "2022-04-20T07:35:57.030Z"
    }
   },
   "outputs": [
    {
     "data": {
      "text/html": [
       "<table>\n",
       "<thead><tr><th scope=col>id</th><th scope=col>name</th><th scope=col>age</th><th scope=col>isMarried</th></tr></thead>\n",
       "<tbody>\n",
       "\t<tr><td>F1    </td><td>김가수</td><td>32    </td><td> TRUE </td></tr>\n",
       "\t<tr><td>F4    </td><td>홍길동</td><td>30    </td><td>FALSE </td></tr>\n",
       "\t<tr><td>F5    </td><td>이순신</td><td>40    </td><td> TRUE </td></tr>\n",
       "</tbody>\n",
       "</table>\n"
      ],
      "text/latex": [
       "\\begin{tabular}{r|llll}\n",
       " id & name & age & isMarried\\\\\n",
       "\\hline\n",
       "\t F1     & 김가수 & 32     &  TRUE \\\\\n",
       "\t F4     & 홍길동 & 30     & FALSE \\\\\n",
       "\t F5     & 이순신 & 40     &  TRUE \\\\\n",
       "\\end{tabular}\n"
      ],
      "text/markdown": [
       "\n",
       "| id | name | age | isMarried |\n",
       "|---|---|---|---|\n",
       "| F1     | 김가수 | 32     |  TRUE  |\n",
       "| F4     | 홍길동 | 30     | FALSE  |\n",
       "| F5     | 이순신 | 40     |  TRUE  |\n",
       "\n"
      ],
      "text/plain": [
       "  id name   age isMarried\n",
       "1 F1 김가수 32   TRUE    \n",
       "2 F4 홍길동 30  FALSE    \n",
       "3 F5 이순신 40   TRUE    "
      ]
     },
     "metadata": {},
     "output_type": "display_data"
    }
   ],
   "source": [
    "filter(df1, age >= 30) \n",
    "# subset(df1, age >= 30)"
   ]
  },
  {
   "cell_type": "code",
   "execution_count": 28,
   "id": "f37f03b0",
   "metadata": {
    "ExecuteTime": {
     "end_time": "2022-04-20T07:35:59.536968Z",
     "start_time": "2022-04-20T07:35:59.488Z"
    }
   },
   "outputs": [
    {
     "data": {
      "text/html": [
       "<table>\n",
       "<thead><tr><th scope=col>id</th><th scope=col>name</th><th scope=col>age</th><th scope=col>isMarried</th></tr></thead>\n",
       "<tbody>\n",
       "\t<tr><td>F4    </td><td>홍길동</td><td>30    </td><td>FALSE </td></tr>\n",
       "</tbody>\n",
       "</table>\n"
      ],
      "text/latex": [
       "\\begin{tabular}{r|llll}\n",
       " id & name & age & isMarried\\\\\n",
       "\\hline\n",
       "\t F4     & 홍길동 & 30     & FALSE \\\\\n",
       "\\end{tabular}\n"
      ],
      "text/markdown": [
       "\n",
       "| id | name | age | isMarried |\n",
       "|---|---|---|---|\n",
       "| F4     | 홍길동 | 30     | FALSE  |\n",
       "\n"
      ],
      "text/plain": [
       "  id name   age isMarried\n",
       "1 F4 홍길동 30  FALSE    "
      ]
     },
     "metadata": {},
     "output_type": "display_data"
    }
   ],
   "source": [
    "filter(df1, age ==2 | age == 30)"
   ]
  },
  {
   "cell_type": "code",
   "execution_count": null,
   "id": "e928f6dd",
   "metadata": {},
   "outputs": [],
   "source": [
    "?select"
   ]
  },
  {
   "cell_type": "code",
   "execution_count": 29,
   "id": "6b7a22da",
   "metadata": {
    "ExecuteTime": {
     "end_time": "2022-04-20T07:36:01.862632Z",
     "start_time": "2022-04-20T07:36:01.813Z"
    }
   },
   "outputs": [
    {
     "data": {
      "text/html": [
       "<table>\n",
       "<thead><tr><th scope=col>name</th><th scope=col>age</th></tr></thead>\n",
       "<tbody>\n",
       "\t<tr><td>김가수</td><td>32    </td></tr>\n",
       "\t<tr><td>박인호</td><td>28    </td></tr>\n",
       "\t<tr><td>고소미</td><td>22    </td></tr>\n",
       "\t<tr><td>홍길동</td><td>30    </td></tr>\n",
       "\t<tr><td>이순신</td><td>40    </td></tr>\n",
       "</tbody>\n",
       "</table>\n"
      ],
      "text/latex": [
       "\\begin{tabular}{r|ll}\n",
       " name & age\\\\\n",
       "\\hline\n",
       "\t 김가수 & 32    \\\\\n",
       "\t 박인호 & 28    \\\\\n",
       "\t 고소미 & 22    \\\\\n",
       "\t 홍길동 & 30    \\\\\n",
       "\t 이순신 & 40    \\\\\n",
       "\\end{tabular}\n"
      ],
      "text/markdown": [
       "\n",
       "| name | age |\n",
       "|---|---|\n",
       "| 김가수 | 32     |\n",
       "| 박인호 | 28     |\n",
       "| 고소미 | 22     |\n",
       "| 홍길동 | 30     |\n",
       "| 이순신 | 40     |\n",
       "\n"
      ],
      "text/plain": [
       "  name   age\n",
       "1 김가수 32 \n",
       "2 박인호 28 \n",
       "3 고소미 22 \n",
       "4 홍길동 30 \n",
       "5 이순신 40 "
      ]
     },
     "metadata": {},
     "output_type": "display_data"
    }
   ],
   "source": [
    "select(df1, name, age)"
   ]
  },
  {
   "cell_type": "code",
   "execution_count": 30,
   "id": "b3aa0ebf",
   "metadata": {
    "ExecuteTime": {
     "end_time": "2022-04-20T07:36:02.434982Z",
     "start_time": "2022-04-20T07:36:02.404Z"
    }
   },
   "outputs": [
    {
     "data": {
      "text/html": [
       "<table>\n",
       "<thead><tr><th scope=col>name</th><th scope=col>age</th></tr></thead>\n",
       "<tbody>\n",
       "\t<tr><td>고소미</td><td>22    </td></tr>\n",
       "\t<tr><td>홍길동</td><td>30    </td></tr>\n",
       "</tbody>\n",
       "</table>\n"
      ],
      "text/latex": [
       "\\begin{tabular}{r|ll}\n",
       " name & age\\\\\n",
       "\\hline\n",
       "\t 고소미 & 22    \\\\\n",
       "\t 홍길동 & 30    \\\\\n",
       "\\end{tabular}\n"
      ],
      "text/markdown": [
       "\n",
       "| name | age |\n",
       "|---|---|\n",
       "| 고소미 | 22     |\n",
       "| 홍길동 | 30     |\n",
       "\n"
      ],
      "text/plain": [
       "  name   age\n",
       "1 고소미 22 \n",
       "2 홍길동 30 "
      ]
     },
     "metadata": {},
     "output_type": "display_data"
    }
   ],
   "source": [
    "df1 %>% filter ( age ==22 | age == 30) %>% select(name, age)"
   ]
  },
  {
   "cell_type": "code",
   "execution_count": 31,
   "id": "e85b70a8",
   "metadata": {
    "ExecuteTime": {
     "end_time": "2022-04-20T07:36:04.634763Z",
     "start_time": "2022-04-20T07:36:04.593Z"
    }
   },
   "outputs": [
    {
     "data": {
      "text/html": [
       "<table>\n",
       "<thead><tr><th scope=col>id</th><th scope=col>name</th><th scope=col>age</th><th scope=col>isMarried</th></tr></thead>\n",
       "<tbody>\n",
       "\t<tr><td>F1    </td><td>김가수</td><td>64    </td><td> TRUE </td></tr>\n",
       "\t<tr><td>F2    </td><td>박인호</td><td>56    </td><td> TRUE </td></tr>\n",
       "\t<tr><td>F3    </td><td>고소미</td><td>44    </td><td>FALSE </td></tr>\n",
       "\t<tr><td>F4    </td><td>홍길동</td><td>60    </td><td>FALSE </td></tr>\n",
       "\t<tr><td>F5    </td><td>이순신</td><td>80    </td><td> TRUE </td></tr>\n",
       "</tbody>\n",
       "</table>\n"
      ],
      "text/latex": [
       "\\begin{tabular}{r|llll}\n",
       " id & name & age & isMarried\\\\\n",
       "\\hline\n",
       "\t F1     & 김가수 & 64     &  TRUE \\\\\n",
       "\t F2     & 박인호 & 56     &  TRUE \\\\\n",
       "\t F3     & 고소미 & 44     & FALSE \\\\\n",
       "\t F4     & 홍길동 & 60     & FALSE \\\\\n",
       "\t F5     & 이순신 & 80     &  TRUE \\\\\n",
       "\\end{tabular}\n"
      ],
      "text/markdown": [
       "\n",
       "| id | name | age | isMarried |\n",
       "|---|---|---|---|\n",
       "| F1     | 김가수 | 64     |  TRUE  |\n",
       "| F2     | 박인호 | 56     |  TRUE  |\n",
       "| F3     | 고소미 | 44     | FALSE  |\n",
       "| F4     | 홍길동 | 60     | FALSE  |\n",
       "| F5     | 이순신 | 80     |  TRUE  |\n",
       "\n"
      ],
      "text/plain": [
       "  id name   age isMarried\n",
       "1 F1 김가수 64   TRUE    \n",
       "2 F2 박인호 56   TRUE    \n",
       "3 F3 고소미 44  FALSE    \n",
       "4 F4 홍길동 60  FALSE    \n",
       "5 F5 이순신 80   TRUE    "
      ]
     },
     "metadata": {},
     "output_type": "display_data"
    }
   ],
   "source": [
    "# mutate(df1, age = age*2) %>% select(name, aged)\n",
    "mutate(df1, age = age*2)"
   ]
  },
  {
   "cell_type": "code",
   "execution_count": 32,
   "id": "2c492cde",
   "metadata": {
    "ExecuteTime": {
     "end_time": "2022-04-20T07:36:11.733593Z",
     "start_time": "2022-04-20T07:36:11.705Z"
    }
   },
   "outputs": [
    {
     "ename": "ERROR",
     "evalue": "Error in sqld(\"select name, age, age*2 as aged from df1\"): 함수 \"sqld\"를 찾을 수 없습니다\n",
     "output_type": "error",
     "traceback": [
      "Error in sqld(\"select name, age, age*2 as aged from df1\"): 함수 \"sqld\"를 찾을 수 없습니다\nTraceback:\n"
     ]
    }
   ],
   "source": [
    "# sql로 했을 때\n",
    "sqld(\"select name, age, age*2 as aged from df1\")"
   ]
  },
  {
   "cell_type": "code",
   "execution_count": null,
   "id": "07660b13",
   "metadata": {},
   "outputs": [],
   "source": [
    "?arrange"
   ]
  },
  {
   "cell_type": "code",
   "execution_count": null,
   "id": "2fe4a94b",
   "metadata": {},
   "outputs": [],
   "source": [
    "arrange( df1, age)"
   ]
  },
  {
   "cell_type": "code",
   "execution_count": null,
   "id": "faee8559",
   "metadata": {},
   "outputs": [],
   "source": [
    "?slice"
   ]
  },
  {
   "cell_type": "code",
   "execution_count": null,
   "id": "7cf440d0",
   "metadata": {},
   "outputs": [],
   "source": [
    "slice(df1, 2:4)"
   ]
  },
  {
   "cell_type": "markdown",
   "id": "e3e38b4c",
   "metadata": {},
   "source": [
    "## 삭제"
   ]
  },
  {
   "cell_type": "code",
   "execution_count": 40,
   "id": "c72f57c9",
   "metadata": {},
   "outputs": [
    {
     "data": {
      "text/html": [
       "<table>\n",
       "<thead><tr><th></th><th scope=col>eng</th><th scope=col>math</th></tr></thead>\n",
       "<tbody>\n",
       "\t<tr><th scope=row>홍길동</th><td>70</td><td>50</td></tr>\n",
       "\t<tr><th scope=row>이순신</th><td>80</td><td>40</td></tr>\n",
       "\t<tr><th scope=row>임꺽정</th><td>50</td><td>20</td></tr>\n",
       "</tbody>\n",
       "</table>\n"
      ],
      "text/latex": [
       "\\begin{tabular}{r|ll}\n",
       "  & eng & math\\\\\n",
       "\\hline\n",
       "\t홍길동 & 70 & 50\\\\\n",
       "\t이순신 & 80 & 40\\\\\n",
       "\t임꺽정 & 50 & 20\\\\\n",
       "\\end{tabular}\n"
      ],
      "text/markdown": [
       "\n",
       "| <!--/--> | eng | math |\n",
       "|---|---|---|\n",
       "| 홍길동 | 70 | 50 |\n",
       "| 이순신 | 80 | 40 |\n",
       "| 임꺽정 | 50 | 20 |\n",
       "\n"
      ],
      "text/plain": [
       "       eng math\n",
       "홍길동 70  50  \n",
       "이순신 80  40  \n",
       "임꺽정 50  20  "
      ]
     },
     "metadata": {},
     "output_type": "display_data"
    }
   ],
   "source": [
    "df[-1]"
   ]
  },
  {
   "cell_type": "code",
   "execution_count": 41,
   "id": "16f65928",
   "metadata": {},
   "outputs": [
    {
     "data": {
      "text/html": [
       "<table>\n",
       "<thead><tr><th></th><th scope=col>math</th></tr></thead>\n",
       "<tbody>\n",
       "\t<tr><th scope=row>홍길동</th><td>50</td></tr>\n",
       "\t<tr><th scope=row>이순신</th><td>40</td></tr>\n",
       "\t<tr><th scope=row>임꺽정</th><td>20</td></tr>\n",
       "</tbody>\n",
       "</table>\n"
      ],
      "text/latex": [
       "\\begin{tabular}{r|l}\n",
       "  & math\\\\\n",
       "\\hline\n",
       "\t홍길동 & 50\\\\\n",
       "\t이순신 & 40\\\\\n",
       "\t임꺽정 & 20\\\\\n",
       "\\end{tabular}\n"
      ],
      "text/markdown": [
       "\n",
       "| <!--/--> | math |\n",
       "|---|---|\n",
       "| 홍길동 | 50 |\n",
       "| 이순신 | 40 |\n",
       "| 임꺽정 | 20 |\n",
       "\n"
      ],
      "text/plain": [
       "       math\n",
       "홍길동 50  \n",
       "이순신 40  \n",
       "임꺽정 20  "
      ]
     },
     "metadata": {},
     "output_type": "display_data"
    }
   ],
   "source": [
    "df[-c(1,2)]"
   ]
  },
  {
   "cell_type": "code",
   "execution_count": 42,
   "id": "8a41bd5e",
   "metadata": {},
   "outputs": [
    {
     "data": {
      "text/html": [
       "<table>\n",
       "<thead><tr><th></th><th scope=col>kor</th><th scope=col>eng</th><th scope=col>math</th></tr></thead>\n",
       "<tbody>\n",
       "\t<tr><th scope=row>이순신</th><td>90</td><td>80</td><td>40</td></tr>\n",
       "\t<tr><th scope=row>임꺽정</th><td>30</td><td>50</td><td>20</td></tr>\n",
       "</tbody>\n",
       "</table>\n"
      ],
      "text/latex": [
       "\\begin{tabular}{r|lll}\n",
       "  & kor & eng & math\\\\\n",
       "\\hline\n",
       "\t이순신 & 90 & 80 & 40\\\\\n",
       "\t임꺽정 & 30 & 50 & 20\\\\\n",
       "\\end{tabular}\n"
      ],
      "text/markdown": [
       "\n",
       "| <!--/--> | kor | eng | math |\n",
       "|---|---|---|---|\n",
       "| 이순신 | 90 | 80 | 40 |\n",
       "| 임꺽정 | 30 | 50 | 20 |\n",
       "\n"
      ],
      "text/plain": [
       "       kor eng math\n",
       "이순신 90  80  40  \n",
       "임꺽정 30  50  20  "
      ]
     },
     "metadata": {},
     "output_type": "display_data"
    }
   ],
   "source": [
    "df[-1,]"
   ]
  },
  {
   "cell_type": "markdown",
   "id": "e4cc8945",
   "metadata": {},
   "source": [
    "## 수정"
   ]
  },
  {
   "cell_type": "code",
   "execution_count": 43,
   "id": "55c9973f",
   "metadata": {},
   "outputs": [
    {
     "data": {
      "text/html": [
       "<table>\n",
       "<thead><tr><th></th><th scope=col>kor</th><th scope=col>eng</th><th scope=col>math</th></tr></thead>\n",
       "<tbody>\n",
       "\t<tr><th scope=row>홍길동</th><td>1 </td><td>70</td><td>50</td></tr>\n",
       "\t<tr><th scope=row>이순신</th><td>2 </td><td>80</td><td>40</td></tr>\n",
       "\t<tr><th scope=row>임꺽정</th><td>3 </td><td>50</td><td>20</td></tr>\n",
       "</tbody>\n",
       "</table>\n"
      ],
      "text/latex": [
       "\\begin{tabular}{r|lll}\n",
       "  & kor & eng & math\\\\\n",
       "\\hline\n",
       "\t홍길동 & 1  & 70 & 50\\\\\n",
       "\t이순신 & 2  & 80 & 40\\\\\n",
       "\t임꺽정 & 3  & 50 & 20\\\\\n",
       "\\end{tabular}\n"
      ],
      "text/markdown": [
       "\n",
       "| <!--/--> | kor | eng | math |\n",
       "|---|---|---|---|\n",
       "| 홍길동 | 1  | 70 | 50 |\n",
       "| 이순신 | 2  | 80 | 40 |\n",
       "| 임꺽정 | 3  | 50 | 20 |\n",
       "\n"
      ],
      "text/plain": [
       "       kor eng math\n",
       "홍길동 1   70  50  \n",
       "이순신 2   80  40  \n",
       "임꺽정 3   50  20  "
      ]
     },
     "metadata": {},
     "output_type": "display_data"
    }
   ],
   "source": [
    "df$kor = c(1,2,3)\n",
    "df"
   ]
  },
  {
   "cell_type": "code",
   "execution_count": 45,
   "id": "37e83fc8",
   "metadata": {},
   "outputs": [
    {
     "data": {
      "text/html": [
       "<table>\n",
       "<thead><tr><th></th><th scope=col>kor</th><th scope=col>eng</th><th scope=col>math</th></tr></thead>\n",
       "<tbody>\n",
       "\t<tr><th scope=row>홍길동</th><td>11</td><td>70</td><td>50</td></tr>\n",
       "\t<tr><th scope=row>이순신</th><td>22</td><td>80</td><td>40</td></tr>\n",
       "\t<tr><th scope=row>임꺽정</th><td>33</td><td>50</td><td>20</td></tr>\n",
       "</tbody>\n",
       "</table>\n"
      ],
      "text/latex": [
       "\\begin{tabular}{r|lll}\n",
       "  & kor & eng & math\\\\\n",
       "\\hline\n",
       "\t홍길동 & 11 & 70 & 50\\\\\n",
       "\t이순신 & 22 & 80 & 40\\\\\n",
       "\t임꺽정 & 33 & 50 & 20\\\\\n",
       "\\end{tabular}\n"
      ],
      "text/markdown": [
       "\n",
       "| <!--/--> | kor | eng | math |\n",
       "|---|---|---|---|\n",
       "| 홍길동 | 11 | 70 | 50 |\n",
       "| 이순신 | 22 | 80 | 40 |\n",
       "| 임꺽정 | 33 | 50 | 20 |\n",
       "\n"
      ],
      "text/plain": [
       "       kor eng math\n",
       "홍길동 11  70  50  \n",
       "이순신 22  80  40  \n",
       "임꺽정 33  50  20  "
      ]
     },
     "metadata": {},
     "output_type": "display_data"
    }
   ],
   "source": [
    "df['kor'] = c(11,22,33)\n",
    "df"
   ]
  },
  {
   "cell_type": "markdown",
   "id": "d8a1a809",
   "metadata": {},
   "source": [
    "## 추가"
   ]
  },
  {
   "cell_type": "code",
   "execution_count": 17,
   "id": "27cbfb73",
   "metadata": {},
   "outputs": [
    {
     "data": {
      "text/html": [
       "<table>\n",
       "<thead><tr><th></th><th scope=col>kor</th><th scope=col>eng</th><th scope=col>math</th><th scope=col>test</th></tr></thead>\n",
       "<tbody>\n",
       "\t<tr><th scope=row>홍길동</th><td>11</td><td>70</td><td>50</td><td>11</td></tr>\n",
       "\t<tr><th scope=row>이순신</th><td>22</td><td>80</td><td>40</td><td>22</td></tr>\n",
       "\t<tr><th scope=row>임꺽정</th><td>33</td><td>50</td><td>20</td><td>33</td></tr>\n",
       "</tbody>\n",
       "</table>\n"
      ],
      "text/latex": [
       "\\begin{tabular}{r|llll}\n",
       "  & kor & eng & math & test\\\\\n",
       "\\hline\n",
       "\t홍길동 & 11 & 70 & 50 & 11\\\\\n",
       "\t이순신 & 22 & 80 & 40 & 22\\\\\n",
       "\t임꺽정 & 33 & 50 & 20 & 33\\\\\n",
       "\\end{tabular}\n"
      ],
      "text/markdown": [
       "\n",
       "| <!--/--> | kor | eng | math | test |\n",
       "|---|---|---|---|---|\n",
       "| 홍길동 | 11 | 70 | 50 | 11 |\n",
       "| 이순신 | 22 | 80 | 40 | 22 |\n",
       "| 임꺽정 | 33 | 50 | 20 | 33 |\n",
       "\n"
      ],
      "text/plain": [
       "       kor eng math test\n",
       "홍길동 11  70  50   11  \n",
       "이순신 22  80  40   22  \n",
       "임꺽정 33  50  20   33  "
      ]
     },
     "metadata": {},
     "output_type": "display_data"
    }
   ],
   "source": [
    "df['test'] = c(11,22,33) # 컬럼 있으면 수정 없으면 추가\n",
    "# df[1] df[,1] df[,'kor']\n",
    "df"
   ]
  },
  {
   "cell_type": "code",
   "execution_count": 18,
   "id": "f1b4a141",
   "metadata": {},
   "outputs": [
    {
     "data": {
      "text/html": [
       "<table>\n",
       "<thead><tr><th></th><th scope=col>kor</th><th scope=col>eng</th><th scope=col>math</th><th scope=col>test</th><th scope=col>sum</th></tr></thead>\n",
       "<tbody>\n",
       "\t<tr><th scope=row>홍길동</th><td>11 </td><td>70 </td><td>50 </td><td>11 </td><td> 81</td></tr>\n",
       "\t<tr><th scope=row>이순신</th><td>22 </td><td>80 </td><td>40 </td><td>22 </td><td>102</td></tr>\n",
       "\t<tr><th scope=row>임꺽정</th><td>33 </td><td>50 </td><td>20 </td><td>33 </td><td> 83</td></tr>\n",
       "</tbody>\n",
       "</table>\n"
      ],
      "text/latex": [
       "\\begin{tabular}{r|lllll}\n",
       "  & kor & eng & math & test & sum\\\\\n",
       "\\hline\n",
       "\t홍길동 & 11  & 70  & 50  & 11  &  81\\\\\n",
       "\t이순신 & 22  & 80  & 40  & 22  & 102\\\\\n",
       "\t임꺽정 & 33  & 50  & 20  & 33  &  83\\\\\n",
       "\\end{tabular}\n"
      ],
      "text/markdown": [
       "\n",
       "| <!--/--> | kor | eng | math | test | sum |\n",
       "|---|---|---|---|---|---|\n",
       "| 홍길동 | 11  | 70  | 50  | 11  |  81 |\n",
       "| 이순신 | 22  | 80  | 40  | 22  | 102 |\n",
       "| 임꺽정 | 33  | 50  | 20  | 33  |  83 |\n",
       "\n"
      ],
      "text/plain": [
       "       kor eng math test sum\n",
       "홍길동 11  70  50   11    81\n",
       "이순신 22  80  40   22   102\n",
       "임꺽정 33  50  20   33    83"
      ]
     },
     "metadata": {},
     "output_type": "display_data"
    }
   ],
   "source": [
    "df['sum'] = df$kor + df$eng \n",
    "df"
   ]
  },
  {
   "cell_type": "code",
   "execution_count": 19,
   "id": "a811a394",
   "metadata": {},
   "outputs": [
    {
     "ename": "ERROR",
     "evalue": "Error in `[<-.data.frame`(`*tmp*`, \"이황\", , value = c(1, 2, 3)): replacement has 3 items, need 5\n",
     "output_type": "error",
     "traceback": [
      "Error in `[<-.data.frame`(`*tmp*`, \"이황\", , value = c(1, 2, 3)): replacement has 3 items, need 5\nTraceback:\n",
      "1. `[<-`(`*tmp*`, \"이황\", , value = c(1, 2, 3))",
      "2. `[<-.data.frame`(`*tmp*`, \"이황\", , value = c(1, 2, 3))",
      "3. stop(sprintf(ngettext(m, \"replacement has %d item, need %d\", \n .     \"replacement has %d items, need %d\"), m, n * p), domain = NA)"
     ]
    }
   ],
   "source": [
    "df['이황',]  = c(1,2,3) # 있으면 수정 없으면 추가"
   ]
  },
  {
   "cell_type": "markdown",
   "id": "97061675",
   "metadata": {},
   "source": [
    "## 정렬"
   ]
  },
  {
   "cell_type": "code",
   "execution_count": 6,
   "id": "ca00a89e",
   "metadata": {
    "ExecuteTime": {
     "end_time": "2022-04-20T07:31:27.767690Z",
     "start_time": "2022-04-20T07:31:27.713Z"
    }
   },
   "outputs": [
    {
     "data": {
      "text/html": [
       "<table>\n",
       "<thead><tr><th></th><th scope=col>kor</th><th scope=col>eng</th><th scope=col>math</th></tr></thead>\n",
       "<tbody>\n",
       "\t<tr><th scope=row>홍길동</th><td>80</td><td>70</td><td>50</td></tr>\n",
       "\t<tr><th scope=row>이순신</th><td>90</td><td>80</td><td>40</td></tr>\n",
       "\t<tr><th scope=row>임꺽정</th><td>30</td><td>50</td><td>20</td></tr>\n",
       "</tbody>\n",
       "</table>\n"
      ],
      "text/latex": [
       "\\begin{tabular}{r|lll}\n",
       "  & kor & eng & math\\\\\n",
       "\\hline\n",
       "\t홍길동 & 80 & 70 & 50\\\\\n",
       "\t이순신 & 90 & 80 & 40\\\\\n",
       "\t임꺽정 & 30 & 50 & 20\\\\\n",
       "\\end{tabular}\n"
      ],
      "text/markdown": [
       "\n",
       "| <!--/--> | kor | eng | math |\n",
       "|---|---|---|---|\n",
       "| 홍길동 | 80 | 70 | 50 |\n",
       "| 이순신 | 90 | 80 | 40 |\n",
       "| 임꺽정 | 30 | 50 | 20 |\n",
       "\n"
      ],
      "text/plain": [
       "       kor eng math\n",
       "홍길동 80  70  50  \n",
       "이순신 90  80  40  \n",
       "임꺽정 30  50  20  "
      ]
     },
     "metadata": {},
     "output_type": "display_data"
    }
   ],
   "source": [
    "v1 = c('홍길동','이순신', '임꺽정')\n",
    "v2 = c(80,90, 30)\n",
    "v3 = c(70,80, 50)\n",
    "v4 = c(50,40, 20)\n",
    "df = data.frame( v2,v3,v4, row.names = v1)\n",
    "colnames(df) = c('kor','eng','math')\n",
    "df"
   ]
  },
  {
   "cell_type": "code",
   "execution_count": 49,
   "id": "dfd8c254",
   "metadata": {},
   "outputs": [
    {
     "data": {
      "text/html": [
       "<ol class=list-inline>\n",
       "\t<li>30</li>\n",
       "\t<li>80</li>\n",
       "\t<li>90</li>\n",
       "</ol>\n"
      ],
      "text/latex": [
       "\\begin{enumerate*}\n",
       "\\item 30\n",
       "\\item 80\n",
       "\\item 90\n",
       "\\end{enumerate*}\n"
      ],
      "text/markdown": [
       "1. 30\n",
       "2. 80\n",
       "3. 90\n",
       "\n",
       "\n"
      ],
      "text/plain": [
       "[1] 30 80 90"
      ]
     },
     "metadata": {},
     "output_type": "display_data"
    },
    {
     "data": {
      "text/html": [
       "<ol class=list-inline>\n",
       "\t<li>3</li>\n",
       "\t<li>1</li>\n",
       "\t<li>2</li>\n",
       "</ol>\n"
      ],
      "text/latex": [
       "\\begin{enumerate*}\n",
       "\\item 3\n",
       "\\item 1\n",
       "\\item 2\n",
       "\\end{enumerate*}\n"
      ],
      "text/markdown": [
       "1. 3\n",
       "2. 1\n",
       "3. 2\n",
       "\n",
       "\n"
      ],
      "text/plain": [
       "[1] 3 1 2"
      ]
     },
     "metadata": {},
     "output_type": "display_data"
    }
   ],
   "source": [
    "sort(df$kor)\n",
    "order(df$kor)"
   ]
  },
  {
   "cell_type": "code",
   "execution_count": 50,
   "id": "3379b69d",
   "metadata": {},
   "outputs": [
    {
     "data": {
      "text/html": [
       "<table>\n",
       "<thead><tr><th></th><th scope=col>kor</th><th scope=col>eng</th><th scope=col>math</th></tr></thead>\n",
       "<tbody>\n",
       "\t<tr><th scope=row>임꺽정</th><td>30</td><td>50</td><td>20</td></tr>\n",
       "\t<tr><th scope=row>홍길동</th><td>80</td><td>70</td><td>50</td></tr>\n",
       "\t<tr><th scope=row>이순신</th><td>90</td><td>80</td><td>40</td></tr>\n",
       "</tbody>\n",
       "</table>\n"
      ],
      "text/latex": [
       "\\begin{tabular}{r|lll}\n",
       "  & kor & eng & math\\\\\n",
       "\\hline\n",
       "\t임꺽정 & 30 & 50 & 20\\\\\n",
       "\t홍길동 & 80 & 70 & 50\\\\\n",
       "\t이순신 & 90 & 80 & 40\\\\\n",
       "\\end{tabular}\n"
      ],
      "text/markdown": [
       "\n",
       "| <!--/--> | kor | eng | math |\n",
       "|---|---|---|---|\n",
       "| 임꺽정 | 30 | 50 | 20 |\n",
       "| 홍길동 | 80 | 70 | 50 |\n",
       "| 이순신 | 90 | 80 | 40 |\n",
       "\n"
      ],
      "text/plain": [
       "       kor eng math\n",
       "임꺽정 30  50  20  \n",
       "홍길동 80  70  50  \n",
       "이순신 90  80  40  "
      ]
     },
     "metadata": {},
     "output_type": "display_data"
    },
    {
     "data": {
      "text/html": [
       "<table>\n",
       "<thead><tr><th></th><th scope=col>kor</th><th scope=col>eng</th><th scope=col>math</th></tr></thead>\n",
       "<tbody>\n",
       "\t<tr><th scope=row>이순신</th><td>90</td><td>80</td><td>40</td></tr>\n",
       "\t<tr><th scope=row>홍길동</th><td>80</td><td>70</td><td>50</td></tr>\n",
       "\t<tr><th scope=row>임꺽정</th><td>30</td><td>50</td><td>20</td></tr>\n",
       "</tbody>\n",
       "</table>\n"
      ],
      "text/latex": [
       "\\begin{tabular}{r|lll}\n",
       "  & kor & eng & math\\\\\n",
       "\\hline\n",
       "\t이순신 & 90 & 80 & 40\\\\\n",
       "\t홍길동 & 80 & 70 & 50\\\\\n",
       "\t임꺽정 & 30 & 50 & 20\\\\\n",
       "\\end{tabular}\n"
      ],
      "text/markdown": [
       "\n",
       "| <!--/--> | kor | eng | math |\n",
       "|---|---|---|---|\n",
       "| 이순신 | 90 | 80 | 40 |\n",
       "| 홍길동 | 80 | 70 | 50 |\n",
       "| 임꺽정 | 30 | 50 | 20 |\n",
       "\n"
      ],
      "text/plain": [
       "       kor eng math\n",
       "이순신 90  80  40  \n",
       "홍길동 80  70  50  \n",
       "임꺽정 30  50  20  "
      ]
     },
     "metadata": {},
     "output_type": "display_data"
    }
   ],
   "source": [
    "df[ order( df$kor),]\n",
    "df[ order( df$kor,decreasing=T),]"
   ]
  },
  {
   "cell_type": "markdown",
   "id": "bcf45d51",
   "metadata": {},
   "source": [
    "## 다중정렬"
   ]
  },
  {
   "cell_type": "code",
   "execution_count": 4,
   "id": "5a324701",
   "metadata": {
    "ExecuteTime": {
     "end_time": "2022-04-20T07:31:17.119456Z",
     "start_time": "2022-04-20T07:31:17.097Z"
    }
   },
   "outputs": [],
   "source": [
    "library(dplyr)"
   ]
  },
  {
   "cell_type": "code",
   "execution_count": 7,
   "id": "bc11a958",
   "metadata": {
    "ExecuteTime": {
     "end_time": "2022-04-20T07:31:30.411067Z",
     "start_time": "2022-04-20T07:31:30.370Z"
    }
   },
   "outputs": [],
   "source": [
    "df['이이',] = c(30,20,70)"
   ]
  },
  {
   "cell_type": "code",
   "execution_count": 8,
   "id": "5396e048",
   "metadata": {
    "ExecuteTime": {
     "end_time": "2022-04-20T07:31:32.344162Z",
     "start_time": "2022-04-20T07:31:32.289Z"
    }
   },
   "outputs": [
    {
     "data": {
      "text/html": [
       "<table>\n",
       "<thead><tr><th scope=col>kor</th><th scope=col>eng</th><th scope=col>math</th></tr></thead>\n",
       "<tbody>\n",
       "\t<tr><td>30</td><td>50</td><td>20</td></tr>\n",
       "\t<tr><td>30</td><td>20</td><td>70</td></tr>\n",
       "\t<tr><td>80</td><td>70</td><td>50</td></tr>\n",
       "\t<tr><td>90</td><td>80</td><td>40</td></tr>\n",
       "</tbody>\n",
       "</table>\n"
      ],
      "text/latex": [
       "\\begin{tabular}{r|lll}\n",
       " kor & eng & math\\\\\n",
       "\\hline\n",
       "\t 30 & 50 & 20\\\\\n",
       "\t 30 & 20 & 70\\\\\n",
       "\t 80 & 70 & 50\\\\\n",
       "\t 90 & 80 & 40\\\\\n",
       "\\end{tabular}\n"
      ],
      "text/markdown": [
       "\n",
       "| kor | eng | math |\n",
       "|---|---|---|\n",
       "| 30 | 50 | 20 |\n",
       "| 30 | 20 | 70 |\n",
       "| 80 | 70 | 50 |\n",
       "| 90 | 80 | 40 |\n",
       "\n"
      ],
      "text/plain": [
       "  kor eng math\n",
       "1 30  50  20  \n",
       "2 30  20  70  \n",
       "3 80  70  50  \n",
       "4 90  80  40  "
      ]
     },
     "metadata": {},
     "output_type": "display_data"
    }
   ],
   "source": [
    "arrange(df, kor)"
   ]
  },
  {
   "cell_type": "code",
   "execution_count": 9,
   "id": "02fe19cc",
   "metadata": {
    "ExecuteTime": {
     "end_time": "2022-04-20T07:31:34.441241Z",
     "start_time": "2022-04-20T07:31:34.413Z"
    }
   },
   "outputs": [
    {
     "data": {
      "text/html": [
       "<table>\n",
       "<thead><tr><th scope=col>kor</th><th scope=col>eng</th><th scope=col>math</th></tr></thead>\n",
       "<tbody>\n",
       "\t<tr><td>30</td><td>20</td><td>70</td></tr>\n",
       "\t<tr><td>30</td><td>50</td><td>20</td></tr>\n",
       "\t<tr><td>80</td><td>70</td><td>50</td></tr>\n",
       "\t<tr><td>90</td><td>80</td><td>40</td></tr>\n",
       "</tbody>\n",
       "</table>\n"
      ],
      "text/latex": [
       "\\begin{tabular}{r|lll}\n",
       " kor & eng & math\\\\\n",
       "\\hline\n",
       "\t 30 & 20 & 70\\\\\n",
       "\t 30 & 50 & 20\\\\\n",
       "\t 80 & 70 & 50\\\\\n",
       "\t 90 & 80 & 40\\\\\n",
       "\\end{tabular}\n"
      ],
      "text/markdown": [
       "\n",
       "| kor | eng | math |\n",
       "|---|---|---|\n",
       "| 30 | 20 | 70 |\n",
       "| 30 | 50 | 20 |\n",
       "| 80 | 70 | 50 |\n",
       "| 90 | 80 | 40 |\n",
       "\n"
      ],
      "text/plain": [
       "  kor eng math\n",
       "1 30  20  70  \n",
       "2 30  50  20  \n",
       "3 80  70  50  \n",
       "4 90  80  40  "
      ]
     },
     "metadata": {},
     "output_type": "display_data"
    }
   ],
   "source": [
    "arrange(df, kor, eng)"
   ]
  },
  {
   "cell_type": "code",
   "execution_count": 10,
   "id": "6a058c99",
   "metadata": {
    "ExecuteTime": {
     "end_time": "2022-04-20T07:31:35.229359Z",
     "start_time": "2022-04-20T07:31:35.186Z"
    }
   },
   "outputs": [
    {
     "data": {
      "text/html": [
       "<table>\n",
       "<thead><tr><th scope=col>kor</th><th scope=col>eng</th><th scope=col>math</th></tr></thead>\n",
       "<tbody>\n",
       "\t<tr><td>90</td><td>80</td><td>40</td></tr>\n",
       "\t<tr><td>80</td><td>70</td><td>50</td></tr>\n",
       "\t<tr><td>30</td><td>50</td><td>20</td></tr>\n",
       "\t<tr><td>30</td><td>20</td><td>70</td></tr>\n",
       "</tbody>\n",
       "</table>\n"
      ],
      "text/latex": [
       "\\begin{tabular}{r|lll}\n",
       " kor & eng & math\\\\\n",
       "\\hline\n",
       "\t 90 & 80 & 40\\\\\n",
       "\t 80 & 70 & 50\\\\\n",
       "\t 30 & 50 & 20\\\\\n",
       "\t 30 & 20 & 70\\\\\n",
       "\\end{tabular}\n"
      ],
      "text/markdown": [
       "\n",
       "| kor | eng | math |\n",
       "|---|---|---|\n",
       "| 90 | 80 | 40 |\n",
       "| 80 | 70 | 50 |\n",
       "| 30 | 50 | 20 |\n",
       "| 30 | 20 | 70 |\n",
       "\n"
      ],
      "text/plain": [
       "  kor eng math\n",
       "1 90  80  40  \n",
       "2 80  70  50  \n",
       "3 30  50  20  \n",
       "4 30  20  70  "
      ]
     },
     "metadata": {},
     "output_type": "display_data"
    }
   ],
   "source": [
    "arrange(df, desc(kor))"
   ]
  },
  {
   "cell_type": "markdown",
   "id": "5d70d30d",
   "metadata": {},
   "source": [
    "## 통계"
   ]
  },
  {
   "cell_type": "code",
   "execution_count": 11,
   "id": "4665252e",
   "metadata": {
    "ExecuteTime": {
     "end_time": "2022-04-20T07:32:10.392974Z",
     "start_time": "2022-04-20T07:32:10.339Z"
    }
   },
   "outputs": [
    {
     "data": {
      "text/html": [
       "<table>\n",
       "<thead><tr><th></th><th scope=col>kor</th><th scope=col>eng</th><th scope=col>math</th></tr></thead>\n",
       "<tbody>\n",
       "\t<tr><th scope=row>홍길동</th><td>80</td><td>70</td><td>50</td></tr>\n",
       "\t<tr><th scope=row>이순신</th><td>90</td><td>80</td><td>40</td></tr>\n",
       "\t<tr><th scope=row>임꺽정</th><td>30</td><td>50</td><td>20</td></tr>\n",
       "</tbody>\n",
       "</table>\n"
      ],
      "text/latex": [
       "\\begin{tabular}{r|lll}\n",
       "  & kor & eng & math\\\\\n",
       "\\hline\n",
       "\t홍길동 & 80 & 70 & 50\\\\\n",
       "\t이순신 & 90 & 80 & 40\\\\\n",
       "\t임꺽정 & 30 & 50 & 20\\\\\n",
       "\\end{tabular}\n"
      ],
      "text/markdown": [
       "\n",
       "| <!--/--> | kor | eng | math |\n",
       "|---|---|---|---|\n",
       "| 홍길동 | 80 | 70 | 50 |\n",
       "| 이순신 | 90 | 80 | 40 |\n",
       "| 임꺽정 | 30 | 50 | 20 |\n",
       "\n"
      ],
      "text/plain": [
       "       kor eng math\n",
       "홍길동 80  70  50  \n",
       "이순신 90  80  40  \n",
       "임꺽정 30  50  20  "
      ]
     },
     "metadata": {},
     "output_type": "display_data"
    }
   ],
   "source": [
    "v1 = c('홍길동','이순신', '임꺽정')\n",
    "v2 = c(80,90, 30)\n",
    "v3 = c(70,80, 50)\n",
    "v4 = c(50,40, 20)\n",
    "df = data.frame( v2,v3,v4, row.names = v1)\n",
    "colnames(df) = c('kor','eng','math')\n",
    "df"
   ]
  },
  {
   "cell_type": "code",
   "execution_count": 26,
   "id": "d7bc5d8c",
   "metadata": {},
   "outputs": [
    {
     "data": {
      "text/html": [
       "240"
      ],
      "text/latex": [
       "240"
      ],
      "text/markdown": [
       "240"
      ],
      "text/plain": [
       "[1] 240"
      ]
     },
     "metadata": {},
     "output_type": "display_data"
    }
   ],
   "source": [
    "sum(df$kor)"
   ]
  },
  {
   "cell_type": "code",
   "execution_count": 28,
   "id": "6ac9f64f",
   "metadata": {},
   "outputs": [
    {
     "data": {
      "text/html": [
       "882"
      ],
      "text/latex": [
       "882"
      ],
      "text/markdown": [
       "882"
      ],
      "text/plain": [
       "[1] 882"
      ]
     },
     "metadata": {},
     "output_type": "display_data"
    }
   ],
   "source": [
    "sum(df)"
   ]
  },
  {
   "cell_type": "code",
   "execution_count": 29,
   "id": "a6fa7a63",
   "metadata": {},
   "outputs": [
    {
     "data": {
      "text/html": [
       "<dl class=dl-horizontal>\n",
       "\t<dt>홍길동</dt>\n",
       "\t\t<dd>292</dd>\n",
       "\t<dt>이순신</dt>\n",
       "\t\t<dd>334</dd>\n",
       "\t<dt>임꺽정</dt>\n",
       "\t\t<dd>256</dd>\n",
       "</dl>\n"
      ],
      "text/latex": [
       "\\begin{description*}\n",
       "\\item[홍길동] 292\n",
       "\\item[이순신] 334\n",
       "\\item[임꺽정] 256\n",
       "\\end{description*}\n"
      ],
      "text/markdown": [
       "홍길동\n",
       ":   292이순신\n",
       ":   334임꺽정\n",
       ":   256\n",
       "\n"
      ],
      "text/plain": [
       "홍길동 이순신 임꺽정 \n",
       "   292    334    256 "
      ]
     },
     "metadata": {},
     "output_type": "display_data"
    }
   ],
   "source": [
    "rowSums(df)"
   ]
  },
  {
   "cell_type": "code",
   "execution_count": 30,
   "id": "53a97c36",
   "metadata": {},
   "outputs": [
    {
     "data": {
      "text/html": [
       "<strong>홍길동:</strong> 292"
      ],
      "text/latex": [
       "\\textbf{홍길동:} 292"
      ],
      "text/markdown": [
       "**홍길동:** 292"
      ],
      "text/plain": [
       "홍길동 \n",
       "   292 "
      ]
     },
     "metadata": {},
     "output_type": "display_data"
    }
   ],
   "source": [
    "rowSums(df)['홍길동']"
   ]
  },
  {
   "cell_type": "code",
   "execution_count": 31,
   "id": "20d4ea8d",
   "metadata": {},
   "outputs": [
    {
     "data": {
      "text/html": [
       "<dl class=dl-horizontal>\n",
       "\t<dt>kor</dt>\n",
       "\t\t<dd>240</dd>\n",
       "\t<dt>eng</dt>\n",
       "\t\t<dd>200</dd>\n",
       "\t<dt>math</dt>\n",
       "\t\t<dd>110</dd>\n",
       "\t<dt>test</dt>\n",
       "\t\t<dd>66</dd>\n",
       "\t<dt>sum</dt>\n",
       "\t\t<dd>266</dd>\n",
       "</dl>\n"
      ],
      "text/latex": [
       "\\begin{description*}\n",
       "\\item[kor] 240\n",
       "\\item[eng] 200\n",
       "\\item[math] 110\n",
       "\\item[test] 66\n",
       "\\item[sum] 266\n",
       "\\end{description*}\n"
      ],
      "text/markdown": [
       "kor\n",
       ":   240eng\n",
       ":   200math\n",
       ":   110test\n",
       ":   66sum\n",
       ":   266\n",
       "\n"
      ],
      "text/plain": [
       " kor  eng math test  sum \n",
       " 240  200  110   66  266 "
      ]
     },
     "metadata": {},
     "output_type": "display_data"
    }
   ],
   "source": [
    "colSums(df)"
   ]
  },
  {
   "cell_type": "code",
   "execution_count": 36,
   "id": "2c100526",
   "metadata": {},
   "outputs": [],
   "source": [
    "fn = function(v)\n",
    "{\n",
    "    cat(v,fill=T)\n",
    "    cat('===========',fill=T)\n",
    "    return (sum(v))\n",
    "}\n"
   ]
  },
  {
   "cell_type": "code",
   "execution_count": 37,
   "id": "cf1c32fb",
   "metadata": {},
   "outputs": [
    {
     "name": "stdout",
     "output_type": "stream",
     "text": [
      "80 70 50 11 81\n",
      "===========\n",
      "90 80 40 22 102\n",
      "===========\n",
      "70 50 20 33 83\n",
      "===========\n"
     ]
    },
    {
     "data": {
      "text/html": [
       "<dl class=dl-horizontal>\n",
       "\t<dt>홍길동</dt>\n",
       "\t\t<dd>292</dd>\n",
       "\t<dt>이순신</dt>\n",
       "\t\t<dd>334</dd>\n",
       "\t<dt>임꺽정</dt>\n",
       "\t\t<dd>256</dd>\n",
       "</dl>\n"
      ],
      "text/latex": [
       "\\begin{description*}\n",
       "\\item[홍길동] 292\n",
       "\\item[이순신] 334\n",
       "\\item[임꺽정] 256\n",
       "\\end{description*}\n"
      ],
      "text/markdown": [
       "홍길동\n",
       ":   292이순신\n",
       ":   334임꺽정\n",
       ":   256\n",
       "\n"
      ],
      "text/plain": [
       "홍길동 이순신 임꺽정 \n",
       "   292    334    256 "
      ]
     },
     "metadata": {},
     "output_type": "display_data"
    }
   ],
   "source": [
    "apply(df, 1, fn)"
   ]
  },
  {
   "cell_type": "code",
   "execution_count": 38,
   "id": "dfe258fc",
   "metadata": {},
   "outputs": [
    {
     "data": {
      "text/html": [
       "<dl class=dl-horizontal>\n",
       "\t<dt>kor</dt>\n",
       "\t\t<dd>240</dd>\n",
       "\t<dt>eng</dt>\n",
       "\t\t<dd>200</dd>\n",
       "\t<dt>math</dt>\n",
       "\t\t<dd>110</dd>\n",
       "\t<dt>test</dt>\n",
       "\t\t<dd>66</dd>\n",
       "\t<dt>sum</dt>\n",
       "\t\t<dd>266</dd>\n",
       "</dl>\n"
      ],
      "text/latex": [
       "\\begin{description*}\n",
       "\\item[kor] 240\n",
       "\\item[eng] 200\n",
       "\\item[math] 110\n",
       "\\item[test] 66\n",
       "\\item[sum] 266\n",
       "\\end{description*}\n"
      ],
      "text/markdown": [
       "kor\n",
       ":   240eng\n",
       ":   200math\n",
       ":   110test\n",
       ":   66sum\n",
       ":   266\n",
       "\n"
      ],
      "text/plain": [
       " kor  eng math test  sum \n",
       " 240  200  110   66  266 "
      ]
     },
     "metadata": {},
     "output_type": "display_data"
    }
   ],
   "source": [
    "apply(df, 2, function(v) sum(v))"
   ]
  },
  {
   "cell_type": "code",
   "execution_count": 13,
   "id": "4e712a63",
   "metadata": {
    "ExecuteTime": {
     "end_time": "2022-04-20T07:33:09.017566Z",
     "start_time": "2022-04-20T07:33:08.981Z"
    }
   },
   "outputs": [
    {
     "data": {
      "text/html": [
       "<table>\n",
       "<thead><tr><th></th><th scope=col>kor</th><th scope=col>eng</th><th scope=col>math</th><th scope=col>결과</th></tr></thead>\n",
       "<tbody>\n",
       "\t<tr><th scope=row>홍길동</th><td>80    </td><td>70    </td><td>50    </td><td>불합격</td></tr>\n",
       "\t<tr><th scope=row>이순신</th><td>90    </td><td>80    </td><td>40    </td><td>합격  </td></tr>\n",
       "\t<tr><th scope=row>임꺽정</th><td>30    </td><td>50    </td><td>20    </td><td>불합격</td></tr>\n",
       "</tbody>\n",
       "</table>\n"
      ],
      "text/latex": [
       "\\begin{tabular}{r|llll}\n",
       "  & kor & eng & math & 결과\\\\\n",
       "\\hline\n",
       "\t홍길동 & 80     & 70     & 50     & 불합격\\\\\n",
       "\t이순신 & 90     & 80     & 40     & 합격  \\\\\n",
       "\t임꺽정 & 30     & 50     & 20     & 불합격\\\\\n",
       "\\end{tabular}\n"
      ],
      "text/markdown": [
       "\n",
       "| <!--/--> | kor | eng | math | 결과 |\n",
       "|---|---|---|---|---|\n",
       "| 홍길동 | 80     | 70     | 50     | 불합격 |\n",
       "| 이순신 | 90     | 80     | 40     | 합격   |\n",
       "| 임꺽정 | 30     | 50     | 20     | 불합격 |\n",
       "\n"
      ],
      "text/plain": [
       "       kor eng math 결과  \n",
       "홍길동 80  70  50   불합격\n",
       "이순신 90  80  40   합격  \n",
       "임꺽정 30  50  20   불합격"
      ]
     },
     "metadata": {},
     "output_type": "display_data"
    }
   ],
   "source": [
    "# 국어, 영어, 수학 평균이 70점 이상이면 '합격' 아니면 ' 불합격'으로 표시되는 결과 컬럼을 추가하시오\n",
    "df['결과'] = apply(df,1, function(v) ifelse(mean(v)>=70,'합격','불합격') )\n",
    "df"
   ]
  },
  {
   "cell_type": "code",
   "execution_count": 16,
   "id": "31219b61",
   "metadata": {
    "ExecuteTime": {
     "end_time": "2022-04-20T07:33:52.076845Z",
     "start_time": "2022-04-20T07:33:52.021Z"
    }
   },
   "outputs": [
    {
     "data": {
      "text/html": [
       "<table>\n",
       "<thead><tr><th></th><th scope=col>kor</th><th scope=col>eng</th><th scope=col>math</th></tr></thead>\n",
       "<tbody>\n",
       "\t<tr><th scope=row>홍길동</th><td>80</td><td>70</td><td>50</td></tr>\n",
       "\t<tr><th scope=row>이순신</th><td>90</td><td>80</td><td>40</td></tr>\n",
       "\t<tr><th scope=row>임꺽정</th><td>30</td><td>50</td><td>20</td></tr>\n",
       "</tbody>\n",
       "</table>\n"
      ],
      "text/latex": [
       "\\begin{tabular}{r|lll}\n",
       "  & kor & eng & math\\\\\n",
       "\\hline\n",
       "\t홍길동 & 80 & 70 & 50\\\\\n",
       "\t이순신 & 90 & 80 & 40\\\\\n",
       "\t임꺽정 & 30 & 50 & 20\\\\\n",
       "\\end{tabular}\n"
      ],
      "text/markdown": [
       "\n",
       "| <!--/--> | kor | eng | math |\n",
       "|---|---|---|---|\n",
       "| 홍길동 | 80 | 70 | 50 |\n",
       "| 이순신 | 90 | 80 | 40 |\n",
       "| 임꺽정 | 30 | 50 | 20 |\n",
       "\n"
      ],
      "text/plain": [
       "       kor eng math\n",
       "홍길동 80  70  50  \n",
       "이순신 90  80  40  \n",
       "임꺽정 30  50  20  "
      ]
     },
     "metadata": {},
     "output_type": "display_data"
    }
   ],
   "source": [
    "v1 = c('홍길동','이순신', '임꺽정')\n",
    "v2 = c(80,90, 30)\n",
    "v3 = c(70,80, 50)\n",
    "v4 = c(50,40, 20)\n",
    "df = data.frame( v2,v3,v4, row.names = v1)\n",
    "colnames(df) = c('kor','eng','math')\n",
    "df"
   ]
  },
  {
   "cell_type": "code",
   "execution_count": 18,
   "id": "c3443d51",
   "metadata": {
    "ExecuteTime": {
     "end_time": "2022-04-20T07:33:55.183402Z",
     "start_time": "2022-04-20T07:33:55.154Z"
    }
   },
   "outputs": [
    {
     "data": {
      "text/html": [
       "56.6666666666667"
      ],
      "text/latex": [
       "56.6666666666667"
      ],
      "text/markdown": [
       "56.6666666666667"
      ],
      "text/plain": [
       "[1] 56.66667"
      ]
     },
     "metadata": {},
     "output_type": "display_data"
    }
   ],
   "source": [
    "mean( as.matrix(df))"
   ]
  },
  {
   "cell_type": "code",
   "execution_count": 19,
   "id": "c86bca68",
   "metadata": {
    "ExecuteTime": {
     "end_time": "2022-04-20T07:33:57.034744Z",
     "start_time": "2022-04-20T07:33:57.005Z"
    }
   },
   "outputs": [
    {
     "data": {
      "text/html": [
       "<dl class=dl-horizontal>\n",
       "\t<dt>홍길동</dt>\n",
       "\t\t<dd>66.67</dd>\n",
       "\t<dt>이순신</dt>\n",
       "\t\t<dd>70</dd>\n",
       "\t<dt>임꺽정</dt>\n",
       "\t\t<dd>33.33</dd>\n",
       "</dl>\n"
      ],
      "text/latex": [
       "\\begin{description*}\n",
       "\\item[홍길동] 66.67\n",
       "\\item[이순신] 70\n",
       "\\item[임꺽정] 33.33\n",
       "\\end{description*}\n"
      ],
      "text/markdown": [
       "홍길동\n",
       ":   66.67이순신\n",
       ":   70임꺽정\n",
       ":   33.33\n",
       "\n"
      ],
      "text/plain": [
       "홍길동 이순신 임꺽정 \n",
       " 66.67  70.00  33.33 "
      ]
     },
     "metadata": {},
     "output_type": "display_data"
    }
   ],
   "source": [
    "rowMeans( df) %>% round(2)"
   ]
  },
  {
   "cell_type": "code",
   "execution_count": 12,
   "id": "6351541e",
   "metadata": {
    "ExecuteTime": {
     "end_time": "2022-04-20T07:32:27.372518Z",
     "start_time": "2022-04-20T07:32:27.326Z"
    }
   },
   "outputs": [
    {
     "data": {
      "text/html": [
       "<dl class=dl-horizontal>\n",
       "\t<dt>kor</dt>\n",
       "\t\t<dd>66.67</dd>\n",
       "\t<dt>eng</dt>\n",
       "\t\t<dd>66.67</dd>\n",
       "\t<dt>math</dt>\n",
       "\t\t<dd>36.67</dd>\n",
       "</dl>\n"
      ],
      "text/latex": [
       "\\begin{description*}\n",
       "\\item[kor] 66.67\n",
       "\\item[eng] 66.67\n",
       "\\item[math] 36.67\n",
       "\\end{description*}\n"
      ],
      "text/markdown": [
       "kor\n",
       ":   66.67eng\n",
       ":   66.67math\n",
       ":   36.67\n",
       "\n"
      ],
      "text/plain": [
       "  kor   eng  math \n",
       "66.67 66.67 36.67 "
      ]
     },
     "metadata": {},
     "output_type": "display_data"
    }
   ],
   "source": [
    "colMeans(df) %>% round(2)"
   ]
  },
  {
   "cell_type": "code",
   "execution_count": 73,
   "id": "56d52df9",
   "metadata": {},
   "outputs": [
    {
     "data": {
      "text/html": [
       "90"
      ],
      "text/latex": [
       "90"
      ],
      "text/markdown": [
       "90"
      ],
      "text/plain": [
       "[1] 90"
      ]
     },
     "metadata": {},
     "output_type": "display_data"
    }
   ],
   "source": [
    "max(df)"
   ]
  },
  {
   "cell_type": "code",
   "execution_count": 75,
   "id": "25445f75",
   "metadata": {},
   "outputs": [
    {
     "data": {
      "text/html": [
       "<dl class=dl-horizontal>\n",
       "\t<dt>홍길동</dt>\n",
       "\t\t<dd>80</dd>\n",
       "\t<dt>이순신</dt>\n",
       "\t\t<dd>90</dd>\n",
       "\t<dt>임꺽정</dt>\n",
       "\t\t<dd>50</dd>\n",
       "</dl>\n"
      ],
      "text/latex": [
       "\\begin{description*}\n",
       "\\item[홍길동] 80\n",
       "\\item[이순신] 90\n",
       "\\item[임꺽정] 50\n",
       "\\end{description*}\n"
      ],
      "text/markdown": [
       "홍길동\n",
       ":   80이순신\n",
       ":   90임꺽정\n",
       ":   50\n",
       "\n"
      ],
      "text/plain": [
       "홍길동 이순신 임꺽정 \n",
       "    80     90     50 "
      ]
     },
     "metadata": {},
     "output_type": "display_data"
    }
   ],
   "source": [
    "apply(df, 1, max)"
   ]
  },
  {
   "cell_type": "code",
   "execution_count": 76,
   "id": "fc3aaa62",
   "metadata": {
    "scrolled": true
   },
   "outputs": [
    {
     "data": {
      "text/html": [
       "<dl class=dl-horizontal>\n",
       "\t<dt>kor</dt>\n",
       "\t\t<dd>90</dd>\n",
       "\t<dt>eng</dt>\n",
       "\t\t<dd>80</dd>\n",
       "\t<dt>math</dt>\n",
       "\t\t<dd>50</dd>\n",
       "</dl>\n"
      ],
      "text/latex": [
       "\\begin{description*}\n",
       "\\item[kor] 90\n",
       "\\item[eng] 80\n",
       "\\item[math] 50\n",
       "\\end{description*}\n"
      ],
      "text/markdown": [
       "kor\n",
       ":   90eng\n",
       ":   80math\n",
       ":   50\n",
       "\n"
      ],
      "text/plain": [
       " kor  eng math \n",
       "  90   80   50 "
      ]
     },
     "metadata": {},
     "output_type": "display_data"
    }
   ],
   "source": [
    "apply(df, 2, max)"
   ]
  },
  {
   "cell_type": "code",
   "execution_count": 77,
   "id": "f63e5e4d",
   "metadata": {},
   "outputs": [
    {
     "data": {
      "text/html": [
       "50"
      ],
      "text/latex": [
       "50"
      ],
      "text/markdown": [
       "50"
      ],
      "text/plain": [
       "[1] 50"
      ]
     },
     "metadata": {},
     "output_type": "display_data"
    }
   ],
   "source": [
    "median(as.matrix(df))"
   ]
  },
  {
   "cell_type": "code",
   "execution_count": 78,
   "id": "362c7aa4",
   "metadata": {},
   "outputs": [
    {
     "data": {
      "text/html": [
       "<dl class=dl-horizontal>\n",
       "\t<dt>홍길동</dt>\n",
       "\t\t<dd>70</dd>\n",
       "\t<dt>이순신</dt>\n",
       "\t\t<dd>80</dd>\n",
       "\t<dt>임꺽정</dt>\n",
       "\t\t<dd>30</dd>\n",
       "</dl>\n"
      ],
      "text/latex": [
       "\\begin{description*}\n",
       "\\item[홍길동] 70\n",
       "\\item[이순신] 80\n",
       "\\item[임꺽정] 30\n",
       "\\end{description*}\n"
      ],
      "text/markdown": [
       "홍길동\n",
       ":   70이순신\n",
       ":   80임꺽정\n",
       ":   30\n",
       "\n"
      ],
      "text/plain": [
       "홍길동 이순신 임꺽정 \n",
       "    70     80     30 "
      ]
     },
     "metadata": {},
     "output_type": "display_data"
    }
   ],
   "source": [
    "apply(df, 1, median)"
   ]
  },
  {
   "cell_type": "code",
   "execution_count": 79,
   "id": "3c4064cd",
   "metadata": {},
   "outputs": [
    {
     "data": {
      "text/html": [
       "<dl class=dl-horizontal>\n",
       "\t<dt>25%</dt>\n",
       "\t\t<dd>40</dd>\n",
       "\t<dt>50%</dt>\n",
       "\t\t<dd>50</dd>\n",
       "\t<dt>75%</dt>\n",
       "\t\t<dd>80</dd>\n",
       "</dl>\n"
      ],
      "text/latex": [
       "\\begin{description*}\n",
       "\\item[25\\textbackslash{}\\%] 40\n",
       "\\item[50\\textbackslash{}\\%] 50\n",
       "\\item[75\\textbackslash{}\\%] 80\n",
       "\\end{description*}\n"
      ],
      "text/markdown": [
       "25%\n",
       ":   4050%\n",
       ":   5075%\n",
       ":   80\n",
       "\n"
      ],
      "text/plain": [
       "25% 50% 75% \n",
       " 40  50  80 "
      ]
     },
     "metadata": {},
     "output_type": "display_data"
    }
   ],
   "source": [
    "quantile( as.matrix(df), c(0.25, 0.5, 0.75))"
   ]
  },
  {
   "cell_type": "code",
   "execution_count": 80,
   "id": "a4c0c2c4",
   "metadata": {},
   "outputs": [
    {
     "data": {
      "text/html": [
       "24.4948974278318"
      ],
      "text/latex": [
       "24.4948974278318"
      ],
      "text/markdown": [
       "24.4948974278318"
      ],
      "text/plain": [
       "[1] 24.4949"
      ]
     },
     "metadata": {},
     "output_type": "display_data"
    }
   ],
   "source": [
    "sd( as.matrix(df))"
   ]
  },
  {
   "cell_type": "code",
   "execution_count": null,
   "id": "b65726f8",
   "metadata": {},
   "outputs": [],
   "source": [
    "# dplyr의 함수 \n",
    "?top_n"
   ]
  },
  {
   "cell_type": "code",
   "execution_count": 20,
   "id": "cca61e59",
   "metadata": {
    "ExecuteTime": {
     "end_time": "2022-04-20T07:34:11.557084Z",
     "start_time": "2022-04-20T07:34:11.508Z"
    }
   },
   "outputs": [
    {
     "data": {
      "text/html": [
       "<table>\n",
       "<thead><tr><th scope=col>kor</th><th scope=col>eng</th><th scope=col>math</th></tr></thead>\n",
       "<tbody>\n",
       "\t<tr><td>80</td><td>70</td><td>50</td></tr>\n",
       "\t<tr><td>90</td><td>80</td><td>40</td></tr>\n",
       "</tbody>\n",
       "</table>\n"
      ],
      "text/latex": [
       "\\begin{tabular}{r|lll}\n",
       " kor & eng & math\\\\\n",
       "\\hline\n",
       "\t 80 & 70 & 50\\\\\n",
       "\t 90 & 80 & 40\\\\\n",
       "\\end{tabular}\n"
      ],
      "text/markdown": [
       "\n",
       "| kor | eng | math |\n",
       "|---|---|---|\n",
       "| 80 | 70 | 50 |\n",
       "| 90 | 80 | 40 |\n",
       "\n"
      ],
      "text/plain": [
       "  kor eng math\n",
       "1 80  70  50  \n",
       "2 90  80  40  "
      ]
     },
     "metadata": {},
     "output_type": "display_data"
    }
   ],
   "source": [
    "top_n(df, 2, wt = eng)"
   ]
  },
  {
   "cell_type": "code",
   "execution_count": 21,
   "id": "2433859c",
   "metadata": {
    "ExecuteTime": {
     "end_time": "2022-04-20T07:34:14.291392Z",
     "start_time": "2022-04-20T07:34:14.255Z"
    }
   },
   "outputs": [
    {
     "data": {
      "text/html": [
       "<table>\n",
       "<thead><tr><th scope=col>kor</th><th scope=col>eng</th><th scope=col>math</th></tr></thead>\n",
       "<tbody>\n",
       "\t<tr><td>80</td><td>70</td><td>50</td></tr>\n",
       "\t<tr><td>30</td><td>50</td><td>20</td></tr>\n",
       "</tbody>\n",
       "</table>\n"
      ],
      "text/latex": [
       "\\begin{tabular}{r|lll}\n",
       " kor & eng & math\\\\\n",
       "\\hline\n",
       "\t 80 & 70 & 50\\\\\n",
       "\t 30 & 50 & 20\\\\\n",
       "\\end{tabular}\n"
      ],
      "text/markdown": [
       "\n",
       "| kor | eng | math |\n",
       "|---|---|---|\n",
       "| 80 | 70 | 50 |\n",
       "| 30 | 50 | 20 |\n",
       "\n"
      ],
      "text/plain": [
       "  kor eng math\n",
       "1 80  70  50  \n",
       "2 30  50  20  "
      ]
     },
     "metadata": {},
     "output_type": "display_data"
    }
   ],
   "source": [
    "top_n(df, -2, wt = eng)"
   ]
  },
  {
   "cell_type": "code",
   "execution_count": 22,
   "id": "eb7442b6",
   "metadata": {
    "ExecuteTime": {
     "end_time": "2022-04-20T07:34:16.231225Z",
     "start_time": "2022-04-20T07:34:16.193Z"
    }
   },
   "outputs": [
    {
     "data": {
      "text/html": [
       "<table>\n",
       "<thead><tr><th></th><th scope=col>kor</th><th scope=col>eng</th><th scope=col>math</th></tr></thead>\n",
       "<tbody>\n",
       "\t<tr><th scope=row>홍길동</th><td>80</td><td>70</td><td>50</td></tr>\n",
       "\t<tr><th scope=row>이순신</th><td>90</td><td>80</td><td>40</td></tr>\n",
       "</tbody>\n",
       "</table>\n"
      ],
      "text/latex": [
       "\\begin{tabular}{r|lll}\n",
       "  & kor & eng & math\\\\\n",
       "\\hline\n",
       "\t홍길동 & 80 & 70 & 50\\\\\n",
       "\t이순신 & 90 & 80 & 40\\\\\n",
       "\\end{tabular}\n"
      ],
      "text/markdown": [
       "\n",
       "| <!--/--> | kor | eng | math |\n",
       "|---|---|---|---|\n",
       "| 홍길동 | 80 | 70 | 50 |\n",
       "| 이순신 | 90 | 80 | 40 |\n",
       "\n"
      ],
      "text/plain": [
       "       kor eng math\n",
       "홍길동 80  70  50  \n",
       "이순신 90  80  40  "
      ]
     },
     "metadata": {},
     "output_type": "display_data"
    }
   ],
   "source": [
    "head(df, 2)"
   ]
  },
  {
   "cell_type": "markdown",
   "id": "708a6ca5",
   "metadata": {},
   "source": [
    "### Python\n",
    "--------------------------------------"
   ]
  },
  {
   "cell_type": "code",
   "execution_count": null,
   "id": "2415d4da",
   "metadata": {},
   "outputs": [],
   "source": [
    "data =  {'eng':[10,30,50,70],\n",
    "         'kor':[20,40,60,80],\n",
    "         'math':[90,50,20,70]}\n",
    "df = pd.DataFrame(data, index=['a','b','c','d'] )\n",
    "df"
   ]
  },
  {
   "cell_type": "code",
   "execution_count": null,
   "id": "0e4fe0df",
   "metadata": {},
   "outputs": [],
   "source": [
    "df.loc['b','kor'] = 60"
   ]
  },
  {
   "cell_type": "code",
   "execution_count": null,
   "id": "64ff9691",
   "metadata": {},
   "outputs": [],
   "source": [
    "# 국어점수가 가장 높은 2개의 값을 구하시오\n",
    "df.nlargest(2, 'kor')"
   ]
  },
  {
   "cell_type": "code",
   "execution_count": null,
   "id": "1343ffc4",
   "metadata": {},
   "outputs": [],
   "source": [
    "df.nlargest(2, 'kor'm keep=\"last\")"
   ]
  },
  {
   "cell_type": "code",
   "execution_count": null,
   "id": "260aa910",
   "metadata": {},
   "outputs": [],
   "source": [
    "df.nlargest(2, 'kor'm keep=\"all\")"
   ]
  },
  {
   "cell_type": "markdown",
   "id": "4873470c",
   "metadata": {},
   "source": [
    "-----------------------------------------------"
   ]
  },
  {
   "cell_type": "markdown",
   "id": "85350c08",
   "metadata": {},
   "source": [
    "# 데이터프레임 연습"
   ]
  },
  {
   "cell_type": "code",
   "execution_count": null,
   "id": "d4b40505",
   "metadata": {},
   "outputs": [],
   "source": [
    "library(magrittr)\n",
    "library(dplyr)"
   ]
  },
  {
   "cell_type": "code",
   "execution_count": null,
   "id": "f56e4b93",
   "metadata": {},
   "outputs": [],
   "source": [
    "?read.csv"
   ]
  },
  {
   "cell_type": "code",
   "execution_count": 119,
   "id": "9d0a5b16",
   "metadata": {
    "scrolled": true
   },
   "outputs": [
    {
     "data": {
      "text/html": [
       "<table>\n",
       "<thead><tr><th></th><th scope=col>남아수</th><th scope=col>여아수</th></tr></thead>\n",
       "<tbody>\n",
       "\t<tr><th scope=row>1880</th><td> 90993</td><td>110491</td></tr>\n",
       "\t<tr><th scope=row>1881</th><td> 91954</td><td>100745</td></tr>\n",
       "\t<tr><th scope=row>1882</th><td>107850</td><td>113688</td></tr>\n",
       "\t<tr><th scope=row>1883</th><td>112321</td><td>104629</td></tr>\n",
       "\t<tr><th scope=row>1884</th><td>129022</td><td>114445</td></tr>\n",
       "\t<tr><th scope=row>1885</th><td>133055</td><td>107800</td></tr>\n",
       "\t<tr><th scope=row>1886</th><td>144535</td><td>110784</td></tr>\n",
       "\t<tr><th scope=row>1887</th><td>145982</td><td>101414</td></tr>\n",
       "\t<tr><th scope=row>1888</th><td>178627</td><td>120853</td></tr>\n",
       "\t<tr><th scope=row>1889</th><td>178366</td><td>110584</td></tr>\n",
       "\t<tr><th scope=row>1890</th><td>190377</td><td>111025</td></tr>\n",
       "\t<tr><th scope=row>1891</th><td>185482</td><td>101196</td></tr>\n",
       "\t<tr><th scope=row>1892</th><td>212346</td><td>122037</td></tr>\n",
       "\t<tr><th scope=row>1893</th><td>212906</td><td>112317</td></tr>\n",
       "\t<tr><th scope=row>1894</th><td>222922</td><td>115772</td></tr>\n",
       "\t<tr><th scope=row>1895</th><td>233630</td><td>117398</td></tr>\n",
       "\t<tr><th scope=row>1896</th><td>237920</td><td>119570</td></tr>\n",
       "\t<tr><th scope=row>1897</th><td>234202</td><td>112758</td></tr>\n",
       "\t<tr><th scope=row>1898</th><td>258770</td><td>122693</td></tr>\n",
       "\t<tr><th scope=row>1899</th><td>233023</td><td>106212</td></tr>\n",
       "\t<tr><th scope=row>1900</th><td>299828</td><td>150499</td></tr>\n",
       "\t<tr><th scope=row>1901</th><td>239348</td><td>106471</td></tr>\n",
       "\t<tr><th scope=row>1902</th><td>264077</td><td>122659</td></tr>\n",
       "\t<tr><th scope=row>1903</th><td>261973</td><td>119234</td></tr>\n",
       "\t<tr><th scope=row>1904</th><td>275371</td><td>128125</td></tr>\n",
       "\t<tr><th scope=row>1905</th><td>291629</td><td>132319</td></tr>\n",
       "\t<tr><th scope=row>1906</th><td>295303</td><td>133159</td></tr>\n",
       "\t<tr><th scope=row>1907</th><td>318566</td><td>146833</td></tr>\n",
       "\t<tr><th scope=row>1908</th><td>334313</td><td>154344</td></tr>\n",
       "\t<tr><th scope=row>1909</th><td>347228</td><td>163999</td></tr>\n",
       "\t<tr><th scope=row>...</th><td>...</td><td>...</td></tr>\n",
       "\t<tr><th scope=row>1982</th><td>1692678</td><td>1813970</td></tr>\n",
       "\t<tr><th scope=row>1983</th><td>1670061</td><td>1791732</td></tr>\n",
       "\t<tr><th scope=row>1984</th><td>1682973</td><td>1803830</td></tr>\n",
       "\t<tr><th scope=row>1985</th><td>1720036</td><td>1847032</td></tr>\n",
       "\t<tr><th scope=row>1986</th><td>1714664</td><td>1840164</td></tr>\n",
       "\t<tr><th scope=row>1987</th><td>1737891</td><td>1865662</td></tr>\n",
       "\t<tr><th scope=row>1988</th><td>1779839</td><td>1912602</td></tr>\n",
       "\t<tr><th scope=row>1989</th><td>1843105</td><td>1999999</td></tr>\n",
       "\t<tr><th scope=row>1990</th><td>1897709</td><td>2052543</td></tr>\n",
       "\t<tr><th scope=row>1991</th><td>1874434</td><td>2019463</td></tr>\n",
       "\t<tr><th scope=row>1992</th><td>1843304</td><td>1996388</td></tr>\n",
       "\t<tr><th scope=row>1993</th><td>1808379</td><td>1960397</td></tr>\n",
       "\t<tr><th scope=row>1994</th><td>1785074</td><td>1931157</td></tr>\n",
       "\t<tr><th scope=row>1995</th><td>1757927</td><td>1902832</td></tr>\n",
       "\t<tr><th scope=row>1996</th><td>1752249</td><td>1893378</td></tr>\n",
       "\t<tr><th scope=row>1997</th><td>1739806</td><td>1884122</td></tr>\n",
       "\t<tr><th scope=row>1998</th><td>1765915</td><td>1910250</td></tr>\n",
       "\t<tr><th scope=row>1999</th><td>1772632</td><td>1918809</td></tr>\n",
       "\t<tr><th scope=row>2000</th><td>1814601</td><td>1962406</td></tr>\n",
       "\t<tr><th scope=row>2001</th><td>1799049</td><td>1941251</td></tr>\n",
       "\t<tr><th scope=row>2002</th><td>1795206</td><td>1939815</td></tr>\n",
       "\t<tr><th scope=row>2003</th><td>1825359</td><td>1973434</td></tr>\n",
       "\t<tr><th scope=row>2004</th><td>1834145</td><td>1982794</td></tr>\n",
       "\t<tr><th scope=row>2005</th><td>1845379</td><td>1994841</td></tr>\n",
       "\t<tr><th scope=row>2006</th><td>1898463</td><td>2052377</td></tr>\n",
       "\t<tr><th scope=row>2007</th><td>1919408</td><td>2072139</td></tr>\n",
       "\t<tr><th scope=row>2008</th><td>1887234</td><td>2036289</td></tr>\n",
       "\t<tr><th scope=row>2009</th><td>1832925</td><td>1979303</td></tr>\n",
       "\t<tr><th scope=row>2010</th><td>1772738</td><td>1913851</td></tr>\n",
       "\t<tr><th scope=row>2011</th><td>1753500</td><td>1893230</td></tr>\n",
       "</tbody>\n",
       "</table>\n"
      ],
      "text/latex": [
       "\\begin{tabular}{r|ll}\n",
       "  & 남아수 & 여아수\\\\\n",
       "\\hline\n",
       "\t1880 &  90993 & 110491\\\\\n",
       "\t1881 &  91954 & 100745\\\\\n",
       "\t1882 & 107850 & 113688\\\\\n",
       "\t1883 & 112321 & 104629\\\\\n",
       "\t1884 & 129022 & 114445\\\\\n",
       "\t1885 & 133055 & 107800\\\\\n",
       "\t1886 & 144535 & 110784\\\\\n",
       "\t1887 & 145982 & 101414\\\\\n",
       "\t1888 & 178627 & 120853\\\\\n",
       "\t1889 & 178366 & 110584\\\\\n",
       "\t1890 & 190377 & 111025\\\\\n",
       "\t1891 & 185482 & 101196\\\\\n",
       "\t1892 & 212346 & 122037\\\\\n",
       "\t1893 & 212906 & 112317\\\\\n",
       "\t1894 & 222922 & 115772\\\\\n",
       "\t1895 & 233630 & 117398\\\\\n",
       "\t1896 & 237920 & 119570\\\\\n",
       "\t1897 & 234202 & 112758\\\\\n",
       "\t1898 & 258770 & 122693\\\\\n",
       "\t1899 & 233023 & 106212\\\\\n",
       "\t1900 & 299828 & 150499\\\\\n",
       "\t1901 & 239348 & 106471\\\\\n",
       "\t1902 & 264077 & 122659\\\\\n",
       "\t1903 & 261973 & 119234\\\\\n",
       "\t1904 & 275371 & 128125\\\\\n",
       "\t1905 & 291629 & 132319\\\\\n",
       "\t1906 & 295303 & 133159\\\\\n",
       "\t1907 & 318566 & 146833\\\\\n",
       "\t1908 & 334313 & 154344\\\\\n",
       "\t1909 & 347228 & 163999\\\\\n",
       "\t... & ... & ...\\\\\n",
       "\t1982 & 1692678 & 1813970\\\\\n",
       "\t1983 & 1670061 & 1791732\\\\\n",
       "\t1984 & 1682973 & 1803830\\\\\n",
       "\t1985 & 1720036 & 1847032\\\\\n",
       "\t1986 & 1714664 & 1840164\\\\\n",
       "\t1987 & 1737891 & 1865662\\\\\n",
       "\t1988 & 1779839 & 1912602\\\\\n",
       "\t1989 & 1843105 & 1999999\\\\\n",
       "\t1990 & 1897709 & 2052543\\\\\n",
       "\t1991 & 1874434 & 2019463\\\\\n",
       "\t1992 & 1843304 & 1996388\\\\\n",
       "\t1993 & 1808379 & 1960397\\\\\n",
       "\t1994 & 1785074 & 1931157\\\\\n",
       "\t1995 & 1757927 & 1902832\\\\\n",
       "\t1996 & 1752249 & 1893378\\\\\n",
       "\t1997 & 1739806 & 1884122\\\\\n",
       "\t1998 & 1765915 & 1910250\\\\\n",
       "\t1999 & 1772632 & 1918809\\\\\n",
       "\t2000 & 1814601 & 1962406\\\\\n",
       "\t2001 & 1799049 & 1941251\\\\\n",
       "\t2002 & 1795206 & 1939815\\\\\n",
       "\t2003 & 1825359 & 1973434\\\\\n",
       "\t2004 & 1834145 & 1982794\\\\\n",
       "\t2005 & 1845379 & 1994841\\\\\n",
       "\t2006 & 1898463 & 2052377\\\\\n",
       "\t2007 & 1919408 & 2072139\\\\\n",
       "\t2008 & 1887234 & 2036289\\\\\n",
       "\t2009 & 1832925 & 1979303\\\\\n",
       "\t2010 & 1772738 & 1913851\\\\\n",
       "\t2011 & 1753500 & 1893230\\\\\n",
       "\\end{tabular}\n"
      ],
      "text/markdown": [
       "\n",
       "| <!--/--> | 남아수 | 여아수 |\n",
       "|---|---|---|\n",
       "| 1880 |  90993 | 110491 |\n",
       "| 1881 |  91954 | 100745 |\n",
       "| 1882 | 107850 | 113688 |\n",
       "| 1883 | 112321 | 104629 |\n",
       "| 1884 | 129022 | 114445 |\n",
       "| 1885 | 133055 | 107800 |\n",
       "| 1886 | 144535 | 110784 |\n",
       "| 1887 | 145982 | 101414 |\n",
       "| 1888 | 178627 | 120853 |\n",
       "| 1889 | 178366 | 110584 |\n",
       "| 1890 | 190377 | 111025 |\n",
       "| 1891 | 185482 | 101196 |\n",
       "| 1892 | 212346 | 122037 |\n",
       "| 1893 | 212906 | 112317 |\n",
       "| 1894 | 222922 | 115772 |\n",
       "| 1895 | 233630 | 117398 |\n",
       "| 1896 | 237920 | 119570 |\n",
       "| 1897 | 234202 | 112758 |\n",
       "| 1898 | 258770 | 122693 |\n",
       "| 1899 | 233023 | 106212 |\n",
       "| 1900 | 299828 | 150499 |\n",
       "| 1901 | 239348 | 106471 |\n",
       "| 1902 | 264077 | 122659 |\n",
       "| 1903 | 261973 | 119234 |\n",
       "| 1904 | 275371 | 128125 |\n",
       "| 1905 | 291629 | 132319 |\n",
       "| 1906 | 295303 | 133159 |\n",
       "| 1907 | 318566 | 146833 |\n",
       "| 1908 | 334313 | 154344 |\n",
       "| 1909 | 347228 | 163999 |\n",
       "| ... | ... | ... |\n",
       "| 1982 | 1692678 | 1813970 |\n",
       "| 1983 | 1670061 | 1791732 |\n",
       "| 1984 | 1682973 | 1803830 |\n",
       "| 1985 | 1720036 | 1847032 |\n",
       "| 1986 | 1714664 | 1840164 |\n",
       "| 1987 | 1737891 | 1865662 |\n",
       "| 1988 | 1779839 | 1912602 |\n",
       "| 1989 | 1843105 | 1999999 |\n",
       "| 1990 | 1897709 | 2052543 |\n",
       "| 1991 | 1874434 | 2019463 |\n",
       "| 1992 | 1843304 | 1996388 |\n",
       "| 1993 | 1808379 | 1960397 |\n",
       "| 1994 | 1785074 | 1931157 |\n",
       "| 1995 | 1757927 | 1902832 |\n",
       "| 1996 | 1752249 | 1893378 |\n",
       "| 1997 | 1739806 | 1884122 |\n",
       "| 1998 | 1765915 | 1910250 |\n",
       "| 1999 | 1772632 | 1918809 |\n",
       "| 2000 | 1814601 | 1962406 |\n",
       "| 2001 | 1799049 | 1941251 |\n",
       "| 2002 | 1795206 | 1939815 |\n",
       "| 2003 | 1825359 | 1973434 |\n",
       "| 2004 | 1834145 | 1982794 |\n",
       "| 2005 | 1845379 | 1994841 |\n",
       "| 2006 | 1898463 | 2052377 |\n",
       "| 2007 | 1919408 | 2072139 |\n",
       "| 2008 | 1887234 | 2036289 |\n",
       "| 2009 | 1832925 | 1979303 |\n",
       "| 2010 | 1772738 | 1913851 |\n",
       "| 2011 | 1753500 | 1893230 |\n",
       "\n"
      ],
      "text/plain": [
       "     남아수  여아수 \n",
       "1880  90993  110491 \n",
       "1881  91954  100745 \n",
       "1882 107850  113688 \n",
       "1883 112321  104629 \n",
       "1884 129022  114445 \n",
       "1885 133055  107800 \n",
       "1886 144535  110784 \n",
       "1887 145982  101414 \n",
       "1888 178627  120853 \n",
       "1889 178366  110584 \n",
       "1890 190377  111025 \n",
       "1891 185482  101196 \n",
       "1892 212346  122037 \n",
       "1893 212906  112317 \n",
       "1894 222922  115772 \n",
       "1895 233630  117398 \n",
       "1896 237920  119570 \n",
       "1897 234202  112758 \n",
       "1898 258770  122693 \n",
       "1899 233023  106212 \n",
       "1900 299828  150499 \n",
       "1901 239348  106471 \n",
       "1902 264077  122659 \n",
       "1903 261973  119234 \n",
       "1904 275371  128125 \n",
       "1905 291629  132319 \n",
       "1906 295303  133159 \n",
       "1907 318566  146833 \n",
       "1908 334313  154344 \n",
       "1909 347228  163999 \n",
       "...  ...     ...    \n",
       "1982 1692678 1813970\n",
       "1983 1670061 1791732\n",
       "1984 1682973 1803830\n",
       "1985 1720036 1847032\n",
       "1986 1714664 1840164\n",
       "1987 1737891 1865662\n",
       "1988 1779839 1912602\n",
       "1989 1843105 1999999\n",
       "1990 1897709 2052543\n",
       "1991 1874434 2019463\n",
       "1992 1843304 1996388\n",
       "1993 1808379 1960397\n",
       "1994 1785074 1931157\n",
       "1995 1757927 1902832\n",
       "1996 1752249 1893378\n",
       "1997 1739806 1884122\n",
       "1998 1765915 1910250\n",
       "1999 1772632 1918809\n",
       "2000 1814601 1962406\n",
       "2001 1799049 1941251\n",
       "2002 1795206 1939815\n",
       "2003 1825359 1973434\n",
       "2004 1834145 1982794\n",
       "2005 1845379 1994841\n",
       "2006 1898463 2052377\n",
       "2007 1919408 2072139\n",
       "2008 1887234 2036289\n",
       "2009 1832925 1979303\n",
       "2010 1772738 1913851\n",
       "2011 1753500 1893230"
      ]
     },
     "metadata": {},
     "output_type": "display_data"
    }
   ],
   "source": [
    "birthDF = read.table('C:/R/data/births.txt', sep=\",\", row.names = 'V1', col.names=c('V1','남아수','여아수'))\n",
    "birthDF"
   ]
  },
  {
   "cell_type": "code",
   "execution_count": 123,
   "id": "4788c76d",
   "metadata": {},
   "outputs": [
    {
     "data": {
      "text/html": [
       "<table>\n",
       "<thead><tr><th></th><th scope=col>남아수</th></tr></thead>\n",
       "<tbody>\n",
       "\t<tr><th scope=row>1957</th><td>2044160</td></tr>\n",
       "</tbody>\n",
       "</table>\n"
      ],
      "text/latex": [
       "\\begin{tabular}{r|l}\n",
       "  & 남아수\\\\\n",
       "\\hline\n",
       "\t1957 & 2044160\\\\\n",
       "\\end{tabular}\n"
      ],
      "text/markdown": [
       "\n",
       "| <!--/--> | 남아수 |\n",
       "|---|---|\n",
       "| 1957 | 2044160 |\n",
       "\n"
      ],
      "text/plain": [
       "     남아수 \n",
       "1957 2044160"
      ]
     },
     "metadata": {},
     "output_type": "display_data"
    }
   ],
   "source": [
    "# 1. 남아수가 가장 높은 년도 남아수를 구하시오\n",
    "m = max(birthDF['남아수'])\n",
    "birthDF[birthDF$남아수 == m,]['남아수']"
   ]
  },
  {
   "cell_type": "code",
   "execution_count": 124,
   "id": "6633a3b6",
   "metadata": {},
   "outputs": [
    {
     "data": {
      "text/html": [
       "<table>\n",
       "<thead><tr><th></th><th scope=col>남아수</th></tr></thead>\n",
       "<tbody>\n",
       "\t<tr><th scope=row>1957</th><td>2044160</td></tr>\n",
       "</tbody>\n",
       "</table>\n"
      ],
      "text/latex": [
       "\\begin{tabular}{r|l}\n",
       "  & 남아수\\\\\n",
       "\\hline\n",
       "\t1957 & 2044160\\\\\n",
       "\\end{tabular}\n"
      ],
      "text/markdown": [
       "\n",
       "| <!--/--> | 남아수 |\n",
       "|---|---|\n",
       "| 1957 | 2044160 |\n",
       "\n"
      ],
      "text/plain": [
       "     남아수 \n",
       "1957 2044160"
      ]
     },
     "metadata": {},
     "output_type": "display_data"
    }
   ],
   "source": [
    "subset(birthDF, 남아수 == m )['남아수']"
   ]
  },
  {
   "cell_type": "code",
   "execution_count": 128,
   "id": "aa3d9d12",
   "metadata": {},
   "outputs": [
    {
     "data": {
      "text/html": [
       "<table>\n",
       "<thead><tr><th></th><th scope=col>남아수</th><th scope=col>여아수</th></tr></thead>\n",
       "<tbody>\n",
       "\t<tr><th scope=row>2000</th><td>1814601</td><td>1962406</td></tr>\n",
       "\t<tr><th scope=row>2001</th><td>1799049</td><td>1941251</td></tr>\n",
       "\t<tr><th scope=row>2002</th><td>1795206</td><td>1939815</td></tr>\n",
       "\t<tr><th scope=row>2003</th><td>1825359</td><td>1973434</td></tr>\n",
       "\t<tr><th scope=row>2004</th><td>1834145</td><td>1982794</td></tr>\n",
       "\t<tr><th scope=row>2005</th><td>1845379</td><td>1994841</td></tr>\n",
       "\t<tr><th scope=row>2006</th><td>1898463</td><td>2052377</td></tr>\n",
       "\t<tr><th scope=row>2007</th><td>1919408</td><td>2072139</td></tr>\n",
       "\t<tr><th scope=row>2008</th><td>1887234</td><td>2036289</td></tr>\n",
       "\t<tr><th scope=row>2009</th><td>1832925</td><td>1979303</td></tr>\n",
       "\t<tr><th scope=row>2010</th><td>1772738</td><td>1913851</td></tr>\n",
       "\t<tr><th scope=row>2011</th><td>1753500</td><td>1893230</td></tr>\n",
       "</tbody>\n",
       "</table>\n"
      ],
      "text/latex": [
       "\\begin{tabular}{r|ll}\n",
       "  & 남아수 & 여아수\\\\\n",
       "\\hline\n",
       "\t2000 & 1814601 & 1962406\\\\\n",
       "\t2001 & 1799049 & 1941251\\\\\n",
       "\t2002 & 1795206 & 1939815\\\\\n",
       "\t2003 & 1825359 & 1973434\\\\\n",
       "\t2004 & 1834145 & 1982794\\\\\n",
       "\t2005 & 1845379 & 1994841\\\\\n",
       "\t2006 & 1898463 & 2052377\\\\\n",
       "\t2007 & 1919408 & 2072139\\\\\n",
       "\t2008 & 1887234 & 2036289\\\\\n",
       "\t2009 & 1832925 & 1979303\\\\\n",
       "\t2010 & 1772738 & 1913851\\\\\n",
       "\t2011 & 1753500 & 1893230\\\\\n",
       "\\end{tabular}\n"
      ],
      "text/markdown": [
       "\n",
       "| <!--/--> | 남아수 | 여아수 |\n",
       "|---|---|---|\n",
       "| 2000 | 1814601 | 1962406 |\n",
       "| 2001 | 1799049 | 1941251 |\n",
       "| 2002 | 1795206 | 1939815 |\n",
       "| 2003 | 1825359 | 1973434 |\n",
       "| 2004 | 1834145 | 1982794 |\n",
       "| 2005 | 1845379 | 1994841 |\n",
       "| 2006 | 1898463 | 2052377 |\n",
       "| 2007 | 1919408 | 2072139 |\n",
       "| 2008 | 1887234 | 2036289 |\n",
       "| 2009 | 1832925 | 1979303 |\n",
       "| 2010 | 1772738 | 1913851 |\n",
       "| 2011 | 1753500 | 1893230 |\n",
       "\n"
      ],
      "text/plain": [
       "     남아수  여아수 \n",
       "2000 1814601 1962406\n",
       "2001 1799049 1941251\n",
       "2002 1795206 1939815\n",
       "2003 1825359 1973434\n",
       "2004 1834145 1982794\n",
       "2005 1845379 1994841\n",
       "2006 1898463 2052377\n",
       "2007 1919408 2072139\n",
       "2008 1887234 2036289\n",
       "2009 1832925 1979303\n",
       "2010 1772738 1913851\n",
       "2011 1753500 1893230"
      ]
     },
     "metadata": {},
     "output_type": "display_data"
    }
   ],
   "source": [
    "# 2. 2000년도 이후 데이터를 구하시오\n",
    "birthDF[row.names(birthDF) >= 2000,]"
   ]
  },
  {
   "cell_type": "code",
   "execution_count": 126,
   "id": "fa0f13c6",
   "metadata": {},
   "outputs": [],
   "source": [
    "row.names(birthDF) = as.integer(row.names(birthDF))"
   ]
  },
  {
   "cell_type": "code",
   "execution_count": 112,
   "id": "e433fd1f",
   "metadata": {},
   "outputs": [
    {
     "data": {
      "text/html": [
       "1225776.06818182"
      ],
      "text/latex": [
       "1225776.06818182"
      ],
      "text/markdown": [
       "1225776.06818182"
      ],
      "text/plain": [
       "[1] 1225776"
      ]
     },
     "metadata": {},
     "output_type": "display_data"
    },
    {
     "data": {
      "text/html": [
       "1245399.21212121"
      ],
      "text/latex": [
       "1245399.21212121"
      ],
      "text/markdown": [
       "1245399.21212121"
      ],
      "text/plain": [
       "[1] 1245399"
      ]
     },
     "metadata": {},
     "output_type": "display_data"
    }
   ],
   "source": [
    "# 3. 남아수, 여아수 평균을 구하시오\n",
    "mean(birthDF$남아수)\n",
    "mean(birthDF$여아수)"
   ]
  },
  {
   "cell_type": "code",
   "execution_count": 130,
   "id": "b19b3e9a",
   "metadata": {},
   "outputs": [
    {
     "data": {
      "text/html": [
       "1225776.06818182"
      ],
      "text/latex": [
       "1225776.06818182"
      ],
      "text/markdown": [
       "1225776.06818182"
      ],
      "text/plain": [
       "[1] 1225776"
      ]
     },
     "metadata": {},
     "output_type": "display_data"
    },
    {
     "data": {
      "text/html": [
       "1245399.21212121"
      ],
      "text/latex": [
       "1245399.21212121"
      ],
      "text/markdown": [
       "1245399.21212121"
      ],
      "text/plain": [
       "[1] 1245399"
      ]
     },
     "metadata": {},
     "output_type": "display_data"
    }
   ],
   "source": [
    "mean(as.matrix(birthDF['남아수']))\n",
    "mean(as.matrix(birthDF['여아수']))"
   ]
  },
  {
   "cell_type": "code",
   "execution_count": 113,
   "id": "03e6d3d0",
   "metadata": {},
   "outputs": [
    {
     "ename": "ERROR",
     "evalue": "Error in top_n(df, 5, wt = 남아수): 함수 \"top_n\"를 찾을 수 없습니다\n",
     "output_type": "error",
     "traceback": [
      "Error in top_n(df, 5, wt = 남아수): 함수 \"top_n\"를 찾을 수 없습니다\nTraceback:\n"
     ]
    }
   ],
   "source": [
    "# 4. 남아수가 가장 높은 top5를 구하시오\n",
    "top_n(df, 5, wt = 남아수)"
   ]
  },
  {
   "cell_type": "code",
   "execution_count": 149,
   "id": "2af06338",
   "metadata": {},
   "outputs": [],
   "source": [
    "# 5. 1980년대 1990년대 2000년대 남아 영아 평균을 구하시오"
   ]
  },
  {
   "cell_type": "code",
   "execution_count": 146,
   "id": "bc51d072",
   "metadata": {},
   "outputs": [
    {
     "data": {
      "text/html": [
       "1716864.5"
      ],
      "text/latex": [
       "1716864.5"
      ],
      "text/markdown": [
       "1716864.5"
      ],
      "text/plain": [
       "[1] 1716865"
      ]
     },
     "metadata": {},
     "output_type": "display_data"
    },
    {
     "data": {
      "text/html": [
       "1844977.4"
      ],
      "text/latex": [
       "1844977.4"
      ],
      "text/markdown": [
       "1844977.4"
      ],
      "text/plain": [
       "[1] 1844977"
      ]
     },
     "metadata": {},
     "output_type": "display_data"
    }
   ],
   "source": [
    "mean(as.matrix(birthDF[row.names(birthDF)>=1980 & row.names(birthDF) < 1990,]['남아수']))\n",
    "mean(as.matrix(birthDF[row.names(birthDF)>=1980 & row.names(birthDF) < 1990,]['여아수']))"
   ]
  },
  {
   "cell_type": "code",
   "execution_count": 147,
   "id": "f662b849",
   "metadata": {},
   "outputs": [
    {
     "data": {
      "text/html": [
       "1799742.9"
      ],
      "text/latex": [
       "1799742.9"
      ],
      "text/markdown": [
       "1799742.9"
      ],
      "text/plain": [
       "[1] 1799743"
      ]
     },
     "metadata": {},
     "output_type": "display_data"
    },
    {
     "data": {
      "text/html": [
       "1946933.9"
      ],
      "text/latex": [
       "1946933.9"
      ],
      "text/markdown": [
       "1946933.9"
      ],
      "text/plain": [
       "[1] 1946934"
      ]
     },
     "metadata": {},
     "output_type": "display_data"
    }
   ],
   "source": [
    "mean(as.matrix(birthDF[row.names(birthDF)>=1990 & row.names(birthDF) < 2000,]['남아수']))\n",
    "mean(as.matrix(birthDF[row.names(birthDF)>=1990 & row.names(birthDF) < 2000,]['여아수']))"
   ]
  },
  {
   "cell_type": "code",
   "execution_count": 148,
   "id": "689c82ca",
   "metadata": {},
   "outputs": [
    {
     "data": {
      "text/html": [
       "1831500.58333333"
      ],
      "text/latex": [
       "1831500.58333333"
      ],
      "text/markdown": [
       "1831500.58333333"
      ],
      "text/plain": [
       "[1] 1831501"
      ]
     },
     "metadata": {},
     "output_type": "display_data"
    },
    {
     "data": {
      "text/html": [
       "1978477.5"
      ],
      "text/latex": [
       "1978477.5"
      ],
      "text/markdown": [
       "1978477.5"
      ],
      "text/plain": [
       "[1] 1978478"
      ]
     },
     "metadata": {},
     "output_type": "display_data"
    }
   ],
   "source": [
    "mean(as.matrix(birthDF[row.names(birthDF)>=2000 ,]['남아수']))\n",
    "mean(as.matrix(birthDF[row.names(birthDF)>=2000,]['여아수']))"
   ]
  },
  {
   "cell_type": "code",
   "execution_count": null,
   "id": "389776c0",
   "metadata": {},
   "outputs": [],
   "source": []
  },
  {
   "cell_type": "markdown",
   "id": "c7b953f3",
   "metadata": {},
   "source": [
    "# 과제 4"
   ]
  },
  {
   "cell_type": "code",
   "execution_count": 42,
   "id": "3c72426b",
   "metadata": {
    "ExecuteTime": {
     "end_time": "2022-04-20T08:07:03.668006Z",
     "start_time": "2022-04-20T08:07:03.596Z"
    },
    "scrolled": true
   },
   "outputs": [
    {
     "data": {
      "text/html": [
       "<table>\n",
       "<thead><tr><th scope=col>관서명</th><th scope=col>살인.발생</th><th scope=col>살인.검거</th><th scope=col>강도.발생</th><th scope=col>강도.검거</th><th scope=col>강간.발생</th><th scope=col>강간.검거</th><th scope=col>절도.발생</th><th scope=col>절도.검거</th><th scope=col>폭력.발생</th><th scope=col>폭력.검거</th></tr></thead>\n",
       "<tbody>\n",
       "\t<tr><td>중부서  </td><td> 2      </td><td> 2      </td><td> 3      </td><td> 2      </td><td>105     </td><td> 65     </td><td>1,395   </td><td>477     </td><td>1,355   </td><td>1,170   </td></tr>\n",
       "\t<tr><td>종로서  </td><td> 3      </td><td> 3      </td><td> 6      </td><td> 5      </td><td>115     </td><td> 98     </td><td>1,070   </td><td>413     </td><td>1,278   </td><td>1,070   </td></tr>\n",
       "\t<tr><td>남대문서</td><td> 1      </td><td> 0      </td><td> 6      </td><td> 4      </td><td> 65     </td><td> 46     </td><td>1,153   </td><td>382     </td><td>869     </td><td>794     </td></tr>\n",
       "\t<tr><td>서대문서</td><td> 2      </td><td> 2      </td><td> 5      </td><td> 4      </td><td>154     </td><td>124     </td><td>1,812   </td><td>738     </td><td>2,056   </td><td>1,711   </td></tr>\n",
       "\t<tr><td>혜화서  </td><td> 3      </td><td> 2      </td><td> 5      </td><td> 4      </td><td> 96     </td><td> 63     </td><td>1,114   </td><td>424     </td><td>1,015   </td><td>861     </td></tr>\n",
       "\t<tr><td>용산서  </td><td> 5      </td><td> 5      </td><td>14      </td><td>14      </td><td>194     </td><td>173     </td><td>1,557   </td><td>587     </td><td>2,050   </td><td>1,704   </td></tr>\n",
       "\t<tr><td>성북서  </td><td> 2      </td><td> 2      </td><td> 2      </td><td> 1      </td><td> 86     </td><td> 71     </td><td>953     </td><td>409     </td><td>1,194   </td><td>1,015   </td></tr>\n",
       "\t<tr><td>동대문서</td><td> 5      </td><td> 5      </td><td>13      </td><td>13      </td><td>173     </td><td>146     </td><td>1,981   </td><td>814     </td><td>2,548   </td><td>2,227   </td></tr>\n",
       "\t<tr><td>마포서  </td><td> 8      </td><td> 8      </td><td>14      </td><td>10      </td><td>294     </td><td>247     </td><td>2,555   </td><td>813     </td><td>2,983   </td><td>2,519   </td></tr>\n",
       "\t<tr><td>영등포서</td><td>14      </td><td>12      </td><td>22      </td><td>20      </td><td>295     </td><td>183     </td><td>2,964   </td><td>978     </td><td>3,572   </td><td>2,961   </td></tr>\n",
       "\t<tr><td>성동서  </td><td> 4      </td><td> 4      </td><td> 9      </td><td> 8      </td><td>126     </td><td>119     </td><td>1,607   </td><td>597     </td><td>1,612   </td><td>1,395   </td></tr>\n",
       "\t<tr><td>동작서  </td><td> 5      </td><td> 5      </td><td> 9      </td><td> 5      </td><td>285     </td><td>139     </td><td>1,865   </td><td>661     </td><td>1,910   </td><td>1,587   </td></tr>\n",
       "\t<tr><td>광진서  </td><td> 4      </td><td> 4      </td><td>14      </td><td>26      </td><td>240     </td><td>220     </td><td>3,026   </td><td>1,277   </td><td>2,625   </td><td>2,180   </td></tr>\n",
       "\t<tr><td>서부서  </td><td> 2      </td><td> 2      </td><td> 2      </td><td> 1      </td><td> 70     </td><td> 59     </td><td>819     </td><td>293     </td><td>1,192   </td><td>1,038   </td></tr>\n",
       "\t<tr><td>강북서  </td><td> 7      </td><td> 8      </td><td>14      </td><td>13      </td><td>153     </td><td>126     </td><td>1,434   </td><td>618     </td><td>2,649   </td><td>2,348   </td></tr>\n",
       "\t<tr><td>금천서  </td><td> 3      </td><td> 4      </td><td> 6      </td><td> 6      </td><td>151     </td><td>122     </td><td>1,567   </td><td>888     </td><td>2,054   </td><td>1,776   </td></tr>\n",
       "\t<tr><td>중랑서  </td><td>13      </td><td>12      </td><td>11      </td><td> 9      </td><td>187     </td><td>148     </td><td>2,135   </td><td>829     </td><td>2,847   </td><td>2,407   </td></tr>\n",
       "\t<tr><td>강남서  </td><td> 3      </td><td> 3      </td><td>15      </td><td>12      </td><td>300     </td><td>225     </td><td>2,411   </td><td>984     </td><td>2,465   </td><td>2,146   </td></tr>\n",
       "\t<tr><td>관악서  </td><td> 9      </td><td> 8      </td><td>12      </td><td>14      </td><td>320     </td><td>221     </td><td>2,706   </td><td>827     </td><td>3,298   </td><td>2,642   </td></tr>\n",
       "\t<tr><td>강서서  </td><td> 7      </td><td> 8      </td><td>13      </td><td>13      </td><td>262     </td><td>191     </td><td>2,096   </td><td>1,260   </td><td>3,207   </td><td>2,718   </td></tr>\n",
       "\t<tr><td>강동서  </td><td> 4      </td><td> 3      </td><td> 6      </td><td> 8      </td><td>156     </td><td>123     </td><td>2,366   </td><td>789     </td><td>2,712   </td><td>2,248   </td></tr>\n",
       "\t<tr><td>종암서  </td><td> 3      </td><td> 3      </td><td> 3      </td><td> 3      </td><td> 64     </td><td> 53     </td><td>832     </td><td>332     </td><td>1,015   </td><td>840     </td></tr>\n",
       "\t<tr><td>구로서  </td><td> 8      </td><td> 6      </td><td>15      </td><td>11      </td><td>281     </td><td>164     </td><td>2,335   </td><td>889     </td><td>3,007   </td><td>2,432   </td></tr>\n",
       "\t<tr><td>서초서  </td><td> 7      </td><td> 4      </td><td> 8      </td><td> 5      </td><td>334     </td><td>193     </td><td>1,982   </td><td>905     </td><td>1,852   </td><td>1,607   </td></tr>\n",
       "\t<tr><td>양천서  </td><td> 3      </td><td> 5      </td><td> 6      </td><td> 3      </td><td>120     </td><td>105     </td><td>1,890   </td><td>672     </td><td>2,509   </td><td>2,030   </td></tr>\n",
       "\t<tr><td>송파서  </td><td>11      </td><td>10      </td><td>13      </td><td>10      </td><td>220     </td><td>178     </td><td>3,239   </td><td>1,129   </td><td>3,295   </td><td>2,786   </td></tr>\n",
       "\t<tr><td>노원서  </td><td>10      </td><td>10      </td><td> 7      </td><td> 7      </td><td>197     </td><td>121     </td><td>2,193   </td><td>801     </td><td>2,723   </td><td>2,329   </td></tr>\n",
       "\t<tr><td>방배서  </td><td> 1      </td><td> 2      </td><td> 1      </td><td> 1      </td><td> 59     </td><td> 56     </td><td>653     </td><td>186     </td><td>547     </td><td>491     </td></tr>\n",
       "\t<tr><td>은평서  </td><td> 1      </td><td> 1      </td><td> 7      </td><td> 5      </td><td> 96     </td><td> 82     </td><td>1,095   </td><td>418     </td><td>1,461   </td><td>1,268   </td></tr>\n",
       "\t<tr><td>도봉서  </td><td> 3      </td><td> 3      </td><td> 9      </td><td>10      </td><td>102     </td><td>106     </td><td>1,063   </td><td>478     </td><td>1,487   </td><td>1,303   </td></tr>\n",
       "\t<tr><td>수서서  </td><td>10      </td><td> 7      </td><td> 6      </td><td> 6      </td><td>149     </td><td>124     </td><td>1,439   </td><td>666     </td><td>1,819   </td><td>1,559   </td></tr>\n",
       "</tbody>\n",
       "</table>\n"
      ],
      "text/latex": [
       "\\begin{tabular}{r|lllllllllll}\n",
       " 관서명 & 살인.발생 & 살인.검거 & 강도.발생 & 강도.검거 & 강간.발생 & 강간.검거 & 절도.발생 & 절도.검거 & 폭력.발생 & 폭력.검거\\\\\n",
       "\\hline\n",
       "\t 중부서   &  2       &  2       &  3       &  2       & 105      &  65      & 1,395    & 477      & 1,355    & 1,170   \\\\\n",
       "\t 종로서   &  3       &  3       &  6       &  5       & 115      &  98      & 1,070    & 413      & 1,278    & 1,070   \\\\\n",
       "\t 남대문서 &  1       &  0       &  6       &  4       &  65      &  46      & 1,153    & 382      & 869      & 794     \\\\\n",
       "\t 서대문서 &  2       &  2       &  5       &  4       & 154      & 124      & 1,812    & 738      & 2,056    & 1,711   \\\\\n",
       "\t 혜화서   &  3       &  2       &  5       &  4       &  96      &  63      & 1,114    & 424      & 1,015    & 861     \\\\\n",
       "\t 용산서   &  5       &  5       & 14       & 14       & 194      & 173      & 1,557    & 587      & 2,050    & 1,704   \\\\\n",
       "\t 성북서   &  2       &  2       &  2       &  1       &  86      &  71      & 953      & 409      & 1,194    & 1,015   \\\\\n",
       "\t 동대문서 &  5       &  5       & 13       & 13       & 173      & 146      & 1,981    & 814      & 2,548    & 2,227   \\\\\n",
       "\t 마포서   &  8       &  8       & 14       & 10       & 294      & 247      & 2,555    & 813      & 2,983    & 2,519   \\\\\n",
       "\t 영등포서 & 14       & 12       & 22       & 20       & 295      & 183      & 2,964    & 978      & 3,572    & 2,961   \\\\\n",
       "\t 성동서   &  4       &  4       &  9       &  8       & 126      & 119      & 1,607    & 597      & 1,612    & 1,395   \\\\\n",
       "\t 동작서   &  5       &  5       &  9       &  5       & 285      & 139      & 1,865    & 661      & 1,910    & 1,587   \\\\\n",
       "\t 광진서   &  4       &  4       & 14       & 26       & 240      & 220      & 3,026    & 1,277    & 2,625    & 2,180   \\\\\n",
       "\t 서부서   &  2       &  2       &  2       &  1       &  70      &  59      & 819      & 293      & 1,192    & 1,038   \\\\\n",
       "\t 강북서   &  7       &  8       & 14       & 13       & 153      & 126      & 1,434    & 618      & 2,649    & 2,348   \\\\\n",
       "\t 금천서   &  3       &  4       &  6       &  6       & 151      & 122      & 1,567    & 888      & 2,054    & 1,776   \\\\\n",
       "\t 중랑서   & 13       & 12       & 11       &  9       & 187      & 148      & 2,135    & 829      & 2,847    & 2,407   \\\\\n",
       "\t 강남서   &  3       &  3       & 15       & 12       & 300      & 225      & 2,411    & 984      & 2,465    & 2,146   \\\\\n",
       "\t 관악서   &  9       &  8       & 12       & 14       & 320      & 221      & 2,706    & 827      & 3,298    & 2,642   \\\\\n",
       "\t 강서서   &  7       &  8       & 13       & 13       & 262      & 191      & 2,096    & 1,260    & 3,207    & 2,718   \\\\\n",
       "\t 강동서   &  4       &  3       &  6       &  8       & 156      & 123      & 2,366    & 789      & 2,712    & 2,248   \\\\\n",
       "\t 종암서   &  3       &  3       &  3       &  3       &  64      &  53      & 832      & 332      & 1,015    & 840     \\\\\n",
       "\t 구로서   &  8       &  6       & 15       & 11       & 281      & 164      & 2,335    & 889      & 3,007    & 2,432   \\\\\n",
       "\t 서초서   &  7       &  4       &  8       &  5       & 334      & 193      & 1,982    & 905      & 1,852    & 1,607   \\\\\n",
       "\t 양천서   &  3       &  5       &  6       &  3       & 120      & 105      & 1,890    & 672      & 2,509    & 2,030   \\\\\n",
       "\t 송파서   & 11       & 10       & 13       & 10       & 220      & 178      & 3,239    & 1,129    & 3,295    & 2,786   \\\\\n",
       "\t 노원서   & 10       & 10       &  7       &  7       & 197      & 121      & 2,193    & 801      & 2,723    & 2,329   \\\\\n",
       "\t 방배서   &  1       &  2       &  1       &  1       &  59      &  56      & 653      & 186      & 547      & 491     \\\\\n",
       "\t 은평서   &  1       &  1       &  7       &  5       &  96      &  82      & 1,095    & 418      & 1,461    & 1,268   \\\\\n",
       "\t 도봉서   &  3       &  3       &  9       & 10       & 102      & 106      & 1,063    & 478      & 1,487    & 1,303   \\\\\n",
       "\t 수서서   & 10       &  7       &  6       &  6       & 149      & 124      & 1,439    & 666      & 1,819    & 1,559   \\\\\n",
       "\\end{tabular}\n"
      ],
      "text/markdown": [
       "\n",
       "| 관서명 | 살인.발생 | 살인.검거 | 강도.발생 | 강도.검거 | 강간.발생 | 강간.검거 | 절도.발생 | 절도.검거 | 폭력.발생 | 폭력.검거 |\n",
       "|---|---|---|---|---|---|---|---|---|---|---|\n",
       "| 중부서   |  2       |  2       |  3       |  2       | 105      |  65      | 1,395    | 477      | 1,355    | 1,170    |\n",
       "| 종로서   |  3       |  3       |  6       |  5       | 115      |  98      | 1,070    | 413      | 1,278    | 1,070    |\n",
       "| 남대문서 |  1       |  0       |  6       |  4       |  65      |  46      | 1,153    | 382      | 869      | 794      |\n",
       "| 서대문서 |  2       |  2       |  5       |  4       | 154      | 124      | 1,812    | 738      | 2,056    | 1,711    |\n",
       "| 혜화서   |  3       |  2       |  5       |  4       |  96      |  63      | 1,114    | 424      | 1,015    | 861      |\n",
       "| 용산서   |  5       |  5       | 14       | 14       | 194      | 173      | 1,557    | 587      | 2,050    | 1,704    |\n",
       "| 성북서   |  2       |  2       |  2       |  1       |  86      |  71      | 953      | 409      | 1,194    | 1,015    |\n",
       "| 동대문서 |  5       |  5       | 13       | 13       | 173      | 146      | 1,981    | 814      | 2,548    | 2,227    |\n",
       "| 마포서   |  8       |  8       | 14       | 10       | 294      | 247      | 2,555    | 813      | 2,983    | 2,519    |\n",
       "| 영등포서 | 14       | 12       | 22       | 20       | 295      | 183      | 2,964    | 978      | 3,572    | 2,961    |\n",
       "| 성동서   |  4       |  4       |  9       |  8       | 126      | 119      | 1,607    | 597      | 1,612    | 1,395    |\n",
       "| 동작서   |  5       |  5       |  9       |  5       | 285      | 139      | 1,865    | 661      | 1,910    | 1,587    |\n",
       "| 광진서   |  4       |  4       | 14       | 26       | 240      | 220      | 3,026    | 1,277    | 2,625    | 2,180    |\n",
       "| 서부서   |  2       |  2       |  2       |  1       |  70      |  59      | 819      | 293      | 1,192    | 1,038    |\n",
       "| 강북서   |  7       |  8       | 14       | 13       | 153      | 126      | 1,434    | 618      | 2,649    | 2,348    |\n",
       "| 금천서   |  3       |  4       |  6       |  6       | 151      | 122      | 1,567    | 888      | 2,054    | 1,776    |\n",
       "| 중랑서   | 13       | 12       | 11       |  9       | 187      | 148      | 2,135    | 829      | 2,847    | 2,407    |\n",
       "| 강남서   |  3       |  3       | 15       | 12       | 300      | 225      | 2,411    | 984      | 2,465    | 2,146    |\n",
       "| 관악서   |  9       |  8       | 12       | 14       | 320      | 221      | 2,706    | 827      | 3,298    | 2,642    |\n",
       "| 강서서   |  7       |  8       | 13       | 13       | 262      | 191      | 2,096    | 1,260    | 3,207    | 2,718    |\n",
       "| 강동서   |  4       |  3       |  6       |  8       | 156      | 123      | 2,366    | 789      | 2,712    | 2,248    |\n",
       "| 종암서   |  3       |  3       |  3       |  3       |  64      |  53      | 832      | 332      | 1,015    | 840      |\n",
       "| 구로서   |  8       |  6       | 15       | 11       | 281      | 164      | 2,335    | 889      | 3,007    | 2,432    |\n",
       "| 서초서   |  7       |  4       |  8       |  5       | 334      | 193      | 1,982    | 905      | 1,852    | 1,607    |\n",
       "| 양천서   |  3       |  5       |  6       |  3       | 120      | 105      | 1,890    | 672      | 2,509    | 2,030    |\n",
       "| 송파서   | 11       | 10       | 13       | 10       | 220      | 178      | 3,239    | 1,129    | 3,295    | 2,786    |\n",
       "| 노원서   | 10       | 10       |  7       |  7       | 197      | 121      | 2,193    | 801      | 2,723    | 2,329    |\n",
       "| 방배서   |  1       |  2       |  1       |  1       |  59      |  56      | 653      | 186      | 547      | 491      |\n",
       "| 은평서   |  1       |  1       |  7       |  5       |  96      |  82      | 1,095    | 418      | 1,461    | 1,268    |\n",
       "| 도봉서   |  3       |  3       |  9       | 10       | 102      | 106      | 1,063    | 478      | 1,487    | 1,303    |\n",
       "| 수서서   | 10       |  7       |  6       |  6       | 149      | 124      | 1,439    | 666      | 1,819    | 1,559    |\n",
       "\n"
      ],
      "text/plain": [
       "   관서명   살인.발생 살인.검거 강도.발생 강도.검거 강간.발생 강간.검거\n",
       "1  중부서    2         2         3         2        105        65      \n",
       "2  종로서    3         3         6         5        115        98      \n",
       "3  남대문서  1         0         6         4         65        46      \n",
       "4  서대문서  2         2         5         4        154       124      \n",
       "5  혜화서    3         2         5         4         96        63      \n",
       "6  용산서    5         5        14        14        194       173      \n",
       "7  성북서    2         2         2         1         86        71      \n",
       "8  동대문서  5         5        13        13        173       146      \n",
       "9  마포서    8         8        14        10        294       247      \n",
       "10 영등포서 14        12        22        20        295       183      \n",
       "11 성동서    4         4         9         8        126       119      \n",
       "12 동작서    5         5         9         5        285       139      \n",
       "13 광진서    4         4        14        26        240       220      \n",
       "14 서부서    2         2         2         1         70        59      \n",
       "15 강북서    7         8        14        13        153       126      \n",
       "16 금천서    3         4         6         6        151       122      \n",
       "17 중랑서   13        12        11         9        187       148      \n",
       "18 강남서    3         3        15        12        300       225      \n",
       "19 관악서    9         8        12        14        320       221      \n",
       "20 강서서    7         8        13        13        262       191      \n",
       "21 강동서    4         3         6         8        156       123      \n",
       "22 종암서    3         3         3         3         64        53      \n",
       "23 구로서    8         6        15        11        281       164      \n",
       "24 서초서    7         4         8         5        334       193      \n",
       "25 양천서    3         5         6         3        120       105      \n",
       "26 송파서   11        10        13        10        220       178      \n",
       "27 노원서   10        10         7         7        197       121      \n",
       "28 방배서    1         2         1         1         59        56      \n",
       "29 은평서    1         1         7         5         96        82      \n",
       "30 도봉서    3         3         9        10        102       106      \n",
       "31 수서서   10         7         6         6        149       124      \n",
       "   절도.발생 절도.검거 폭력.발생 폭력.검거\n",
       "1  1,395     477       1,355     1,170    \n",
       "2  1,070     413       1,278     1,070    \n",
       "3  1,153     382       869       794      \n",
       "4  1,812     738       2,056     1,711    \n",
       "5  1,114     424       1,015     861      \n",
       "6  1,557     587       2,050     1,704    \n",
       "7  953       409       1,194     1,015    \n",
       "8  1,981     814       2,548     2,227    \n",
       "9  2,555     813       2,983     2,519    \n",
       "10 2,964     978       3,572     2,961    \n",
       "11 1,607     597       1,612     1,395    \n",
       "12 1,865     661       1,910     1,587    \n",
       "13 3,026     1,277     2,625     2,180    \n",
       "14 819       293       1,192     1,038    \n",
       "15 1,434     618       2,649     2,348    \n",
       "16 1,567     888       2,054     1,776    \n",
       "17 2,135     829       2,847     2,407    \n",
       "18 2,411     984       2,465     2,146    \n",
       "19 2,706     827       3,298     2,642    \n",
       "20 2,096     1,260     3,207     2,718    \n",
       "21 2,366     789       2,712     2,248    \n",
       "22 832       332       1,015     840      \n",
       "23 2,335     889       3,007     2,432    \n",
       "24 1,982     905       1,852     1,607    \n",
       "25 1,890     672       2,509     2,030    \n",
       "26 3,239     1,129     3,295     2,786    \n",
       "27 2,193     801       2,723     2,329    \n",
       "28 653       186       547       491      \n",
       "29 1,095     418       1,461     1,268    \n",
       "30 1,063     478       1,487     1,303    \n",
       "31 1,439     666       1,819     1,559    "
      ]
     },
     "metadata": {},
     "output_type": "display_data"
    }
   ],
   "source": [
    "data = read.csv('10_data/crime_in_Seoul.csv', fileEncoding = 'utf-8') # 한글csv 파일 읽어올 때 utf-8 ,cp949(데이터 수 클 때)\n",
    "data"
   ]
  },
  {
   "cell_type": "code",
   "execution_count": 45,
   "id": "80ffb10f",
   "metadata": {
    "ExecuteTime": {
     "end_time": "2022-04-20T08:07:22.816595Z",
     "start_time": "2022-04-20T08:07:22.784Z"
    },
    "scrolled": true
   },
   "outputs": [
    {
     "name": "stdout",
     "output_type": "stream",
     "text": [
      "'data.frame':\t31 obs. of  11 variables:\n",
      " $ 관서명   : Factor w/ 31 levels \"강남서\",\"강동서\",..: 30 27 9 16 31 25 20 12 14 24 ...\n",
      " $ 살인.발생: int  2 3 1 2 3 5 2 5 8 14 ...\n",
      " $ 살인.검거: int  2 3 0 2 2 5 2 5 8 12 ...\n",
      " $ 강도.발생: int  3 6 6 5 5 14 2 13 14 22 ...\n",
      " $ 강도.검거: int  2 5 4 4 4 14 1 13 10 20 ...\n",
      " $ 강간.발생: int  105 115 65 154 96 194 86 173 294 295 ...\n",
      " $ 강간.검거: int  65 98 46 124 63 173 71 146 247 183 ...\n",
      " $ 절도.발생: chr  \"1395\" \"1070\" \"1153\" \"1812\" ...\n",
      " $ 절도.검거: chr  \"477\" \"413\" \"382\" \"738\" ...\n",
      " $ 폭력.발생: chr  \"1355\" \"1278\" \"869\" \"2056\" ...\n",
      " $ 폭력.검거: chr  \"1170\" \"1070\" \"794\" \"1711\" ...\n"
     ]
    }
   ],
   "source": [
    "str(data)"
   ]
  },
  {
   "cell_type": "code",
   "execution_count": 46,
   "id": "5e4e744c",
   "metadata": {
    "ExecuteTime": {
     "end_time": "2022-04-20T08:07:51.649466Z",
     "start_time": "2022-04-20T08:07:51.606Z"
    }
   },
   "outputs": [
    {
     "data": {
      "text/html": [
       "<table>\n",
       "<thead><tr><th scope=col>관서명</th><th scope=col>살인.발생</th><th scope=col>살인.검거</th><th scope=col>강도.발생</th><th scope=col>강도.검거</th><th scope=col>강간.발생</th><th scope=col>강간.검거</th><th scope=col>절도.발생</th><th scope=col>절도.검거</th><th scope=col>폭력.발생</th><th scope=col>폭력.검거</th></tr></thead>\n",
       "<tbody>\n",
       "\t<tr><td>중부서  </td><td>2       </td><td>2       </td><td> 3      </td><td> 2      </td><td>105     </td><td> 65     </td><td>1395    </td><td>477     </td><td>1355    </td><td>1170    </td></tr>\n",
       "\t<tr><td>종로서  </td><td>3       </td><td>3       </td><td> 6      </td><td> 5      </td><td>115     </td><td> 98     </td><td>1070    </td><td>413     </td><td>1278    </td><td>1070    </td></tr>\n",
       "\t<tr><td>남대문서</td><td>1       </td><td>0       </td><td> 6      </td><td> 4      </td><td> 65     </td><td> 46     </td><td>1153    </td><td>382     </td><td> 869    </td><td> 794    </td></tr>\n",
       "\t<tr><td>서대문서</td><td>2       </td><td>2       </td><td> 5      </td><td> 4      </td><td>154     </td><td>124     </td><td>1812    </td><td>738     </td><td>2056    </td><td>1711    </td></tr>\n",
       "\t<tr><td>혜화서  </td><td>3       </td><td>2       </td><td> 5      </td><td> 4      </td><td> 96     </td><td> 63     </td><td>1114    </td><td>424     </td><td>1015    </td><td> 861    </td></tr>\n",
       "\t<tr><td>용산서  </td><td>5       </td><td>5       </td><td>14      </td><td>14      </td><td>194     </td><td>173     </td><td>1557    </td><td>587     </td><td>2050    </td><td>1704    </td></tr>\n",
       "</tbody>\n",
       "</table>\n"
      ],
      "text/latex": [
       "\\begin{tabular}{r|lllllllllll}\n",
       " 관서명 & 살인.발생 & 살인.검거 & 강도.발생 & 강도.검거 & 강간.발생 & 강간.검거 & 절도.발생 & 절도.검거 & 폭력.발생 & 폭력.검거\\\\\n",
       "\\hline\n",
       "\t 중부서   & 2        & 2        &  3       &  2       & 105      &  65      & 1395     & 477      & 1355     & 1170    \\\\\n",
       "\t 종로서   & 3        & 3        &  6       &  5       & 115      &  98      & 1070     & 413      & 1278     & 1070    \\\\\n",
       "\t 남대문서 & 1        & 0        &  6       &  4       &  65      &  46      & 1153     & 382      &  869     &  794    \\\\\n",
       "\t 서대문서 & 2        & 2        &  5       &  4       & 154      & 124      & 1812     & 738      & 2056     & 1711    \\\\\n",
       "\t 혜화서   & 3        & 2        &  5       &  4       &  96      &  63      & 1114     & 424      & 1015     &  861    \\\\\n",
       "\t 용산서   & 5        & 5        & 14       & 14       & 194      & 173      & 1557     & 587      & 2050     & 1704    \\\\\n",
       "\\end{tabular}\n"
      ],
      "text/markdown": [
       "\n",
       "| 관서명 | 살인.발생 | 살인.검거 | 강도.발생 | 강도.검거 | 강간.발생 | 강간.검거 | 절도.발생 | 절도.검거 | 폭력.발생 | 폭력.검거 |\n",
       "|---|---|---|---|---|---|---|---|---|---|---|\n",
       "| 중부서   | 2        | 2        |  3       |  2       | 105      |  65      | 1395     | 477      | 1355     | 1170     |\n",
       "| 종로서   | 3        | 3        |  6       |  5       | 115      |  98      | 1070     | 413      | 1278     | 1070     |\n",
       "| 남대문서 | 1        | 0        |  6       |  4       |  65      |  46      | 1153     | 382      |  869     |  794     |\n",
       "| 서대문서 | 2        | 2        |  5       |  4       | 154      | 124      | 1812     | 738      | 2056     | 1711     |\n",
       "| 혜화서   | 3        | 2        |  5       |  4       |  96      |  63      | 1114     | 424      | 1015     |  861     |\n",
       "| 용산서   | 5        | 5        | 14       | 14       | 194      | 173      | 1557     | 587      | 2050     | 1704     |\n",
       "\n"
      ],
      "text/plain": [
       "  관서명   살인.발생 살인.검거 강도.발생 강도.검거 강간.발생 강간.검거\n",
       "1 중부서   2         2          3         2        105        65      \n",
       "2 종로서   3         3          6         5        115        98      \n",
       "3 남대문서 1         0          6         4         65        46      \n",
       "4 서대문서 2         2          5         4        154       124      \n",
       "5 혜화서   3         2          5         4         96        63      \n",
       "6 용산서   5         5         14        14        194       173      \n",
       "  절도.발생 절도.검거 폭력.발생 폭력.검거\n",
       "1 1395      477       1355      1170     \n",
       "2 1070      413       1278      1070     \n",
       "3 1153      382        869       794     \n",
       "4 1812      738       2056      1711     \n",
       "5 1114      424       1015       861     \n",
       "6 1557      587       2050      1704     "
      ]
     },
     "metadata": {},
     "output_type": "display_data"
    }
   ],
   "source": [
    "data$절도.발생 =  as.numeric(gsub(\",\", \"\", data$절도.발생))\n",
    "data$절도.검거 =  as.numeric(gsub(\",\", \"\", data$절도.검거))\n",
    "data$폭력.발생 =  as.numeric(gsub(\",\", \"\", data$폭력.발생))\n",
    "data$폭력.검거 =  as.numeric(gsub(\",\", \"\", data$폭력.검거))\n",
    "head(data)"
   ]
  },
  {
   "cell_type": "code",
   "execution_count": null,
   "id": "92ee064a",
   "metadata": {},
   "outputs": [],
   "source": [
    "#pandas\n",
    "pd.read.csv(...., thousands=','...) # 컴마 없이 "
   ]
  },
  {
   "cell_type": "code",
   "execution_count": 166,
   "id": "c2246336",
   "metadata": {},
   "outputs": [
    {
     "data": {
      "text/html": [
       "14"
      ],
      "text/latex": [
       "14"
      ],
      "text/markdown": [
       "14"
      ],
      "text/plain": [
       "[1] 14"
      ]
     },
     "metadata": {},
     "output_type": "display_data"
    },
    {
     "data": {
      "text/html": [
       "<table>\n",
       "<thead><tr><th></th><th scope=col>관서명</th><th scope=col>살인.발생</th><th scope=col>살인.검거</th></tr></thead>\n",
       "<tbody>\n",
       "\t<tr><th scope=row>10</th><td>영등포서</td><td>14      </td><td>12      </td></tr>\n",
       "</tbody>\n",
       "</table>\n"
      ],
      "text/latex": [
       "\\begin{tabular}{r|lll}\n",
       "  & 관서명 & 살인.발생 & 살인.검거\\\\\n",
       "\\hline\n",
       "\t10 & 영등포서 & 14       & 12      \\\\\n",
       "\\end{tabular}\n"
      ],
      "text/markdown": [
       "\n",
       "| <!--/--> | 관서명 | 살인.발생 | 살인.검거 |\n",
       "|---|---|---|---|\n",
       "| 10 | 영등포서 | 14       | 12       |\n",
       "\n"
      ],
      "text/plain": [
       "   관서명   살인.발생 살인.검거\n",
       "10 영등포서 14        12       "
      ]
     },
     "metadata": {},
     "output_type": "display_data"
    }
   ],
   "source": [
    "# 1. 살인발생이 가장높은 관서명, 살인발생,살인검거를 출력하시요\n",
    "max(data$살인.발생)\n",
    "data[data$살인.발생 == max(data$살인.발생), c('관서명','살인.발생','살인.검거') ]"
   ]
  },
  {
   "cell_type": "code",
   "execution_count": 47,
   "id": "4641f1d2",
   "metadata": {
    "ExecuteTime": {
     "end_time": "2022-04-20T08:07:56.189199Z",
     "start_time": "2022-04-20T08:07:55.844Z"
    }
   },
   "outputs": [
    {
     "data": {
      "image/png": "[encoded data removed]",
      "text/plain": [
       "Plot with title \"절도검거\""
      ]
     },
     "metadata": {},
     "output_type": "display_data"
    }
   ],
   "source": [
    "# 2. 관서별 절도발생,절도검거에 대한 바차트를 그리시요\n",
    "par(mfcol= c(2,1), mar = c(5,5,5,0))\n",
    "barplot(data$절도.발생, names.arg = data$관서명, main = '절도발생',las=2)\n",
    "barplot(data$절도.검거, names.arg = data$관서명, main = '절도검거',las=2)"
   ]
  },
  {
   "cell_type": "code",
   "execution_count": 49,
   "id": "5e2324ec",
   "metadata": {
    "ExecuteTime": {
     "end_time": "2022-04-20T08:08:38.791725Z",
     "start_time": "2022-04-20T08:08:38.608Z"
    }
   },
   "outputs": [
    {
     "data": {
      "image/png": "[encoded data removed]",
      "text/plain": [
       "plot without title"
      ]
     },
     "metadata": {},
     "output_type": "display_data"
    }
   ],
   "source": [
    "library('repr')\n",
    "options(repr.plot.width=25, repr.plot.height=10)\n",
    "\n",
    "temp <- data[c('절도.발생', '절도.검거')]\n",
    "barplot(t(as.matrix(temp)), beside = TRUE, names.arg = data$관서명)"
   ]
  },
  {
   "cell_type": "code",
   "execution_count": 443,
   "id": "8520eed8",
   "metadata": {
    "scrolled": true
   },
   "outputs": [
    {
     "data": {
      "text/html": [
       "<table>\n",
       "<thead><tr><th scope=col>관서명</th><th scope=col>살인.발생</th><th scope=col>살인.검거</th><th scope=col>강도.발생</th><th scope=col>강도.검거</th><th scope=col>강간.발생</th><th scope=col>강간.검거</th><th scope=col>절도.발생</th><th scope=col>절도.검거</th><th scope=col>폭력.발생</th><th scope=col>폭력.검거</th><th scope=col>절도검거율</th><th scope=col>살인차이</th><th scope=col>강도차이</th><th scope=col>강간차이</th><th scope=col>절도차이</th><th scope=col>살인발생결과</th><th scope=col>살인폭력평균</th></tr></thead>\n",
       "<tbody>\n",
       "\t<tr><td>중부서  </td><td> 2      </td><td> 2      </td><td> 3      </td><td> 2      </td><td>105     </td><td> 65     </td><td>1395    </td><td>477     </td><td>1355    </td><td>1170    </td><td>0.25    </td><td> 0      </td><td>  1     </td><td> 40     </td><td>NA      </td><td>적음    </td><td>1355    </td></tr>\n",
       "\t<tr><td>종로서  </td><td> 3      </td><td> 3      </td><td> 6      </td><td> 5      </td><td>115     </td><td> 98     </td><td>1070    </td><td>413     </td><td>1278    </td><td>1070    </td><td>0.28    </td><td> 0      </td><td>  1     </td><td> 17     </td><td>NA      </td><td>적음    </td><td>1278    </td></tr>\n",
       "\t<tr><td>남대문서</td><td> 1      </td><td> 0      </td><td> 6      </td><td> 4      </td><td> 65     </td><td> 46     </td><td>1153    </td><td>382     </td><td>869     </td><td>794     </td><td>0.25    </td><td> 1      </td><td>  2     </td><td> 19     </td><td>NA      </td><td>적음    </td><td> 869    </td></tr>\n",
       "\t<tr><td>서대문서</td><td> 2      </td><td> 2      </td><td> 5      </td><td> 4      </td><td>154     </td><td>124     </td><td>1812    </td><td>738     </td><td>2056    </td><td>1711    </td><td>0.29    </td><td> 0      </td><td>  1     </td><td> 30     </td><td>NA      </td><td>적음    </td><td>2056    </td></tr>\n",
       "\t<tr><td>혜화서  </td><td> 3      </td><td> 2      </td><td> 5      </td><td> 4      </td><td> 96     </td><td> 63     </td><td>1114    </td><td>424     </td><td>1015    </td><td>861     </td><td>0.28    </td><td> 1      </td><td>  1     </td><td> 33     </td><td>NA      </td><td>적음    </td><td>1015    </td></tr>\n",
       "\t<tr><td>용산서  </td><td> 5      </td><td> 5      </td><td>14      </td><td>14      </td><td>194     </td><td>173     </td><td>1557    </td><td>587     </td><td>2050    </td><td>1704    </td><td>0.27    </td><td> 0      </td><td>  0     </td><td> 21     </td><td>NA      </td><td>보통    </td><td>2050    </td></tr>\n",
       "\t<tr><td>성북서  </td><td> 2      </td><td> 2      </td><td> 2      </td><td> 1      </td><td> 86     </td><td> 71     </td><td>953     </td><td>409     </td><td>1194    </td><td>1015    </td><td>0.30    </td><td> 0      </td><td>  1     </td><td> 15     </td><td>NA      </td><td>적음    </td><td>1194    </td></tr>\n",
       "\t<tr><td>동대문서</td><td> 5      </td><td> 5      </td><td>13      </td><td>13      </td><td>173     </td><td>146     </td><td>1981    </td><td>814     </td><td>2548    </td><td>2227    </td><td>0.29    </td><td> 0      </td><td>  0     </td><td> 27     </td><td>NA      </td><td>보통    </td><td>2548    </td></tr>\n",
       "\t<tr><td>마포서  </td><td> 8      </td><td> 8      </td><td>14      </td><td>10      </td><td>294     </td><td>247     </td><td>2555    </td><td>813     </td><td>2983    </td><td>2519    </td><td>0.24    </td><td> 0      </td><td>  4     </td><td> 47     </td><td>NA      </td><td>많음    </td><td>2983    </td></tr>\n",
       "\t<tr><td>영등포서</td><td>14      </td><td>12      </td><td>22      </td><td>20      </td><td>295     </td><td>183     </td><td>2964    </td><td>978     </td><td>3572    </td><td>2961    </td><td>0.25    </td><td> 2      </td><td>  2     </td><td>112     </td><td>NA      </td><td>많음    </td><td>3572    </td></tr>\n",
       "\t<tr><td>성동서  </td><td> 4      </td><td> 4      </td><td> 9      </td><td> 8      </td><td>126     </td><td>119     </td><td>1607    </td><td>597     </td><td>1612    </td><td>1395    </td><td>0.27    </td><td> 0      </td><td>  1     </td><td>  7     </td><td>NA      </td><td>보통    </td><td>1612    </td></tr>\n",
       "\t<tr><td>동작서  </td><td> 5      </td><td> 5      </td><td> 9      </td><td> 5      </td><td>285     </td><td>139     </td><td>1865    </td><td>661     </td><td>1910    </td><td>1587    </td><td>0.26    </td><td> 0      </td><td>  4     </td><td>146     </td><td>NA      </td><td>보통    </td><td>1910    </td></tr>\n",
       "\t<tr><td>광진서  </td><td> 4      </td><td> 4      </td><td>14      </td><td>26      </td><td>240     </td><td>220     </td><td>3026    </td><td>1277    </td><td>2625    </td><td>2180    </td><td>0.30    </td><td> 0      </td><td>-12     </td><td> 20     </td><td>NA      </td><td>보통    </td><td>2625    </td></tr>\n",
       "\t<tr><td>서부서  </td><td> 2      </td><td> 2      </td><td> 2      </td><td> 1      </td><td> 70     </td><td> 59     </td><td>819     </td><td>293     </td><td>1192    </td><td>1038    </td><td>0.26    </td><td> 0      </td><td>  1     </td><td> 11     </td><td>NA      </td><td>적음    </td><td>1192    </td></tr>\n",
       "\t<tr><td>강북서  </td><td> 7      </td><td> 8      </td><td>14      </td><td>13      </td><td>153     </td><td>126     </td><td>1434    </td><td>618     </td><td>2649    </td><td>2348    </td><td>0.30    </td><td>-1      </td><td>  1     </td><td> 27     </td><td>NA      </td><td>많음    </td><td>2649    </td></tr>\n",
       "\t<tr><td>금천서  </td><td> 3      </td><td> 4      </td><td> 6      </td><td> 6      </td><td>151     </td><td>122     </td><td>1567    </td><td>888     </td><td>2054    </td><td>1776    </td><td>0.36    </td><td>-1      </td><td>  0     </td><td> 29     </td><td>NA      </td><td>적음    </td><td>2054    </td></tr>\n",
       "\t<tr><td>중랑서  </td><td>13      </td><td>12      </td><td>11      </td><td> 9      </td><td>187     </td><td>148     </td><td>2135    </td><td>829     </td><td>2847    </td><td>2407    </td><td>0.28    </td><td> 1      </td><td>  2     </td><td> 39     </td><td>NA      </td><td>많음    </td><td>2847    </td></tr>\n",
       "\t<tr><td>강남서  </td><td> 3      </td><td> 3      </td><td>15      </td><td>12      </td><td>300     </td><td>225     </td><td>2411    </td><td>984     </td><td>2465    </td><td>2146    </td><td>0.29    </td><td> 0      </td><td>  3     </td><td> 75     </td><td>NA      </td><td>적음    </td><td>2465    </td></tr>\n",
       "\t<tr><td>관악서  </td><td> 9      </td><td> 8      </td><td>12      </td><td>14      </td><td>320     </td><td>221     </td><td>2706    </td><td>827     </td><td>3298    </td><td>2642    </td><td>0.23    </td><td> 1      </td><td> -2     </td><td> 99     </td><td>NA      </td><td>많음    </td><td>3298    </td></tr>\n",
       "\t<tr><td>강서서  </td><td> 7      </td><td> 8      </td><td>13      </td><td>13      </td><td>262     </td><td>191     </td><td>2096    </td><td>1260    </td><td>3207    </td><td>2718    </td><td>0.38    </td><td>-1      </td><td>  0     </td><td> 71     </td><td>NA      </td><td>많음    </td><td>3207    </td></tr>\n",
       "\t<tr><td>강동서  </td><td> 4      </td><td> 3      </td><td> 6      </td><td> 8      </td><td>156     </td><td>123     </td><td>2366    </td><td>789     </td><td>2712    </td><td>2248    </td><td>0.25    </td><td> 1      </td><td> -2     </td><td> 33     </td><td>NA      </td><td>보통    </td><td>2712    </td></tr>\n",
       "\t<tr><td>종암서  </td><td> 3      </td><td> 3      </td><td> 3      </td><td> 3      </td><td> 64     </td><td> 53     </td><td>832     </td><td>332     </td><td>1015    </td><td>840     </td><td>0.29    </td><td> 0      </td><td>  0     </td><td> 11     </td><td>NA      </td><td>적음    </td><td>1015    </td></tr>\n",
       "\t<tr><td>구로서  </td><td> 8      </td><td> 6      </td><td>15      </td><td>11      </td><td>281     </td><td>164     </td><td>2335    </td><td>889     </td><td>3007    </td><td>2432    </td><td>0.28    </td><td> 2      </td><td>  4     </td><td>117     </td><td>NA      </td><td>많음    </td><td>3007    </td></tr>\n",
       "\t<tr><td>서초서  </td><td> 7      </td><td> 4      </td><td> 8      </td><td> 5      </td><td>334     </td><td>193     </td><td>1982    </td><td>905     </td><td>1852    </td><td>1607    </td><td>0.31    </td><td> 3      </td><td>  3     </td><td>141     </td><td>NA      </td><td>많음    </td><td>1852    </td></tr>\n",
       "\t<tr><td>양천서  </td><td> 3      </td><td> 5      </td><td> 6      </td><td> 3      </td><td>120     </td><td>105     </td><td>1890    </td><td>672     </td><td>2509    </td><td>2030    </td><td>0.26    </td><td>-2      </td><td>  3     </td><td> 15     </td><td>NA      </td><td>적음    </td><td>2509    </td></tr>\n",
       "\t<tr><td>송파서  </td><td>11      </td><td>10      </td><td>13      </td><td>10      </td><td>220     </td><td>178     </td><td>3239    </td><td>1129    </td><td>3295    </td><td>2786    </td><td>0.26    </td><td> 1      </td><td>  3     </td><td> 42     </td><td>NA      </td><td>많음    </td><td>3295    </td></tr>\n",
       "\t<tr><td>노원서  </td><td>10      </td><td>10      </td><td> 7      </td><td> 7      </td><td>197     </td><td>121     </td><td>2193    </td><td>801     </td><td>2723    </td><td>2329    </td><td>0.27    </td><td> 0      </td><td>  0     </td><td> 76     </td><td>NA      </td><td>많음    </td><td>2723    </td></tr>\n",
       "\t<tr><td>방배서  </td><td> 1      </td><td> 2      </td><td> 1      </td><td> 1      </td><td> 59     </td><td> 56     </td><td>653     </td><td>186     </td><td>547     </td><td>491     </td><td>0.22    </td><td>-1      </td><td>  0     </td><td>  3     </td><td>NA      </td><td>적음    </td><td> 547    </td></tr>\n",
       "\t<tr><td>은평서  </td><td> 1      </td><td> 1      </td><td> 7      </td><td> 5      </td><td> 96     </td><td> 82     </td><td>1095    </td><td>418     </td><td>1461    </td><td>1268    </td><td>0.28    </td><td> 0      </td><td>  2     </td><td> 14     </td><td>NA      </td><td>적음    </td><td>1461    </td></tr>\n",
       "\t<tr><td>도봉서  </td><td> 3      </td><td> 3      </td><td> 9      </td><td>10      </td><td>102     </td><td>106     </td><td>1063    </td><td>478     </td><td>1487    </td><td>1303    </td><td>0.31    </td><td> 0      </td><td> -1     </td><td> -4     </td><td>NA      </td><td>적음    </td><td>1487    </td></tr>\n",
       "\t<tr><td>수서서  </td><td>10      </td><td> 7      </td><td> 6      </td><td> 6      </td><td>149     </td><td>124     </td><td>1439    </td><td>666     </td><td>1819    </td><td>1559    </td><td>0.32    </td><td> 3      </td><td>  0     </td><td> 25     </td><td>NA      </td><td>많음    </td><td>1819    </td></tr>\n",
       "</tbody>\n",
       "</table>\n"
      ],
      "text/latex": [
       "\\begin{tabular}{r|llllllllllllllllll}\n",
       " 관서명 & 살인.발생 & 살인.검거 & 강도.발생 & 강도.검거 & 강간.발생 & 강간.검거 & 절도.발생 & 절도.검거 & 폭력.발생 & 폭력.검거 & 절도검거율 & 살인차이 & 강도차이 & 강간차이 & 절도차이 & 살인발생결과 & 살인폭력평균\\\\\n",
       "\\hline\n",
       "\t 중부서   &  2       &  2       &  3       &  2       & 105      &  65      & 1395     & 477      & 1355     & 1170     & 0.25     &  0       &   1      &  40      & NA       & 적음     & 1355    \\\\\n",
       "\t 종로서   &  3       &  3       &  6       &  5       & 115      &  98      & 1070     & 413      & 1278     & 1070     & 0.28     &  0       &   1      &  17      & NA       & 적음     & 1278    \\\\\n",
       "\t 남대문서 &  1       &  0       &  6       &  4       &  65      &  46      & 1153     & 382      & 869      & 794      & 0.25     &  1       &   2      &  19      & NA       & 적음     &  869    \\\\\n",
       "\t 서대문서 &  2       &  2       &  5       &  4       & 154      & 124      & 1812     & 738      & 2056     & 1711     & 0.29     &  0       &   1      &  30      & NA       & 적음     & 2056    \\\\\n",
       "\t 혜화서   &  3       &  2       &  5       &  4       &  96      &  63      & 1114     & 424      & 1015     & 861      & 0.28     &  1       &   1      &  33      & NA       & 적음     & 1015    \\\\\n",
       "\t 용산서   &  5       &  5       & 14       & 14       & 194      & 173      & 1557     & 587      & 2050     & 1704     & 0.27     &  0       &   0      &  21      & NA       & 보통     & 2050    \\\\\n",
       "\t 성북서   &  2       &  2       &  2       &  1       &  86      &  71      & 953      & 409      & 1194     & 1015     & 0.30     &  0       &   1      &  15      & NA       & 적음     & 1194    \\\\\n",
       "\t 동대문서 &  5       &  5       & 13       & 13       & 173      & 146      & 1981     & 814      & 2548     & 2227     & 0.29     &  0       &   0      &  27      & NA       & 보통     & 2548    \\\\\n",
       "\t 마포서   &  8       &  8       & 14       & 10       & 294      & 247      & 2555     & 813      & 2983     & 2519     & 0.24     &  0       &   4      &  47      & NA       & 많음     & 2983    \\\\\n",
       "\t 영등포서 & 14       & 12       & 22       & 20       & 295      & 183      & 2964     & 978      & 3572     & 2961     & 0.25     &  2       &   2      & 112      & NA       & 많음     & 3572    \\\\\n",
       "\t 성동서   &  4       &  4       &  9       &  8       & 126      & 119      & 1607     & 597      & 1612     & 1395     & 0.27     &  0       &   1      &   7      & NA       & 보통     & 1612    \\\\\n",
       "\t 동작서   &  5       &  5       &  9       &  5       & 285      & 139      & 1865     & 661      & 1910     & 1587     & 0.26     &  0       &   4      & 146      & NA       & 보통     & 1910    \\\\\n",
       "\t 광진서   &  4       &  4       & 14       & 26       & 240      & 220      & 3026     & 1277     & 2625     & 2180     & 0.30     &  0       & -12      &  20      & NA       & 보통     & 2625    \\\\\n",
       "\t 서부서   &  2       &  2       &  2       &  1       &  70      &  59      & 819      & 293      & 1192     & 1038     & 0.26     &  0       &   1      &  11      & NA       & 적음     & 1192    \\\\\n",
       "\t 강북서   &  7       &  8       & 14       & 13       & 153      & 126      & 1434     & 618      & 2649     & 2348     & 0.30     & -1       &   1      &  27      & NA       & 많음     & 2649    \\\\\n",
       "\t 금천서   &  3       &  4       &  6       &  6       & 151      & 122      & 1567     & 888      & 2054     & 1776     & 0.36     & -1       &   0      &  29      & NA       & 적음     & 2054    \\\\\n",
       "\t 중랑서   & 13       & 12       & 11       &  9       & 187      & 148      & 2135     & 829      & 2847     & 2407     & 0.28     &  1       &   2      &  39      & NA       & 많음     & 2847    \\\\\n",
       "\t 강남서   &  3       &  3       & 15       & 12       & 300      & 225      & 2411     & 984      & 2465     & 2146     & 0.29     &  0       &   3      &  75      & NA       & 적음     & 2465    \\\\\n",
       "\t 관악서   &  9       &  8       & 12       & 14       & 320      & 221      & 2706     & 827      & 3298     & 2642     & 0.23     &  1       &  -2      &  99      & NA       & 많음     & 3298    \\\\\n",
       "\t 강서서   &  7       &  8       & 13       & 13       & 262      & 191      & 2096     & 1260     & 3207     & 2718     & 0.38     & -1       &   0      &  71      & NA       & 많음     & 3207    \\\\\n",
       "\t 강동서   &  4       &  3       &  6       &  8       & 156      & 123      & 2366     & 789      & 2712     & 2248     & 0.25     &  1       &  -2      &  33      & NA       & 보통     & 2712    \\\\\n",
       "\t 종암서   &  3       &  3       &  3       &  3       &  64      &  53      & 832      & 332      & 1015     & 840      & 0.29     &  0       &   0      &  11      & NA       & 적음     & 1015    \\\\\n",
       "\t 구로서   &  8       &  6       & 15       & 11       & 281      & 164      & 2335     & 889      & 3007     & 2432     & 0.28     &  2       &   4      & 117      & NA       & 많음     & 3007    \\\\\n",
       "\t 서초서   &  7       &  4       &  8       &  5       & 334      & 193      & 1982     & 905      & 1852     & 1607     & 0.31     &  3       &   3      & 141      & NA       & 많음     & 1852    \\\\\n",
       "\t 양천서   &  3       &  5       &  6       &  3       & 120      & 105      & 1890     & 672      & 2509     & 2030     & 0.26     & -2       &   3      &  15      & NA       & 적음     & 2509    \\\\\n",
       "\t 송파서   & 11       & 10       & 13       & 10       & 220      & 178      & 3239     & 1129     & 3295     & 2786     & 0.26     &  1       &   3      &  42      & NA       & 많음     & 3295    \\\\\n",
       "\t 노원서   & 10       & 10       &  7       &  7       & 197      & 121      & 2193     & 801      & 2723     & 2329     & 0.27     &  0       &   0      &  76      & NA       & 많음     & 2723    \\\\\n",
       "\t 방배서   &  1       &  2       &  1       &  1       &  59      &  56      & 653      & 186      & 547      & 491      & 0.22     & -1       &   0      &   3      & NA       & 적음     &  547    \\\\\n",
       "\t 은평서   &  1       &  1       &  7       &  5       &  96      &  82      & 1095     & 418      & 1461     & 1268     & 0.28     &  0       &   2      &  14      & NA       & 적음     & 1461    \\\\\n",
       "\t 도봉서   &  3       &  3       &  9       & 10       & 102      & 106      & 1063     & 478      & 1487     & 1303     & 0.31     &  0       &  -1      &  -4      & NA       & 적음     & 1487    \\\\\n",
       "\t 수서서   & 10       &  7       &  6       &  6       & 149      & 124      & 1439     & 666      & 1819     & 1559     & 0.32     &  3       &   0      &  25      & NA       & 많음     & 1819    \\\\\n",
       "\\end{tabular}\n"
      ],
      "text/markdown": [
       "\n",
       "| 관서명 | 살인.발생 | 살인.검거 | 강도.발생 | 강도.검거 | 강간.발생 | 강간.검거 | 절도.발생 | 절도.검거 | 폭력.발생 | 폭력.검거 | 절도검거율 | 살인차이 | 강도차이 | 강간차이 | 절도차이 | 살인발생결과 | 살인폭력평균 |\n",
       "|---|---|---|---|---|---|---|---|---|---|---|---|---|---|---|---|---|---|\n",
       "| 중부서   |  2       |  2       |  3       |  2       | 105      |  65      | 1395     | 477      | 1355     | 1170     | 0.25     |  0       |   1      |  40      | NA       | 적음     | 1355     |\n",
       "| 종로서   |  3       |  3       |  6       |  5       | 115      |  98      | 1070     | 413      | 1278     | 1070     | 0.28     |  0       |   1      |  17      | NA       | 적음     | 1278     |\n",
       "| 남대문서 |  1       |  0       |  6       |  4       |  65      |  46      | 1153     | 382      | 869      | 794      | 0.25     |  1       |   2      |  19      | NA       | 적음     |  869     |\n",
       "| 서대문서 |  2       |  2       |  5       |  4       | 154      | 124      | 1812     | 738      | 2056     | 1711     | 0.29     |  0       |   1      |  30      | NA       | 적음     | 2056     |\n",
       "| 혜화서   |  3       |  2       |  5       |  4       |  96      |  63      | 1114     | 424      | 1015     | 861      | 0.28     |  1       |   1      |  33      | NA       | 적음     | 1015     |\n",
       "| 용산서   |  5       |  5       | 14       | 14       | 194      | 173      | 1557     | 587      | 2050     | 1704     | 0.27     |  0       |   0      |  21      | NA       | 보통     | 2050     |\n",
       "| 성북서   |  2       |  2       |  2       |  1       |  86      |  71      | 953      | 409      | 1194     | 1015     | 0.30     |  0       |   1      |  15      | NA       | 적음     | 1194     |\n",
       "| 동대문서 |  5       |  5       | 13       | 13       | 173      | 146      | 1981     | 814      | 2548     | 2227     | 0.29     |  0       |   0      |  27      | NA       | 보통     | 2548     |\n",
       "| 마포서   |  8       |  8       | 14       | 10       | 294      | 247      | 2555     | 813      | 2983     | 2519     | 0.24     |  0       |   4      |  47      | NA       | 많음     | 2983     |\n",
       "| 영등포서 | 14       | 12       | 22       | 20       | 295      | 183      | 2964     | 978      | 3572     | 2961     | 0.25     |  2       |   2      | 112      | NA       | 많음     | 3572     |\n",
       "| 성동서   |  4       |  4       |  9       |  8       | 126      | 119      | 1607     | 597      | 1612     | 1395     | 0.27     |  0       |   1      |   7      | NA       | 보통     | 1612     |\n",
       "| 동작서   |  5       |  5       |  9       |  5       | 285      | 139      | 1865     | 661      | 1910     | 1587     | 0.26     |  0       |   4      | 146      | NA       | 보통     | 1910     |\n",
       "| 광진서   |  4       |  4       | 14       | 26       | 240      | 220      | 3026     | 1277     | 2625     | 2180     | 0.30     |  0       | -12      |  20      | NA       | 보통     | 2625     |\n",
       "| 서부서   |  2       |  2       |  2       |  1       |  70      |  59      | 819      | 293      | 1192     | 1038     | 0.26     |  0       |   1      |  11      | NA       | 적음     | 1192     |\n",
       "| 강북서   |  7       |  8       | 14       | 13       | 153      | 126      | 1434     | 618      | 2649     | 2348     | 0.30     | -1       |   1      |  27      | NA       | 많음     | 2649     |\n",
       "| 금천서   |  3       |  4       |  6       |  6       | 151      | 122      | 1567     | 888      | 2054     | 1776     | 0.36     | -1       |   0      |  29      | NA       | 적음     | 2054     |\n",
       "| 중랑서   | 13       | 12       | 11       |  9       | 187      | 148      | 2135     | 829      | 2847     | 2407     | 0.28     |  1       |   2      |  39      | NA       | 많음     | 2847     |\n",
       "| 강남서   |  3       |  3       | 15       | 12       | 300      | 225      | 2411     | 984      | 2465     | 2146     | 0.29     |  0       |   3      |  75      | NA       | 적음     | 2465     |\n",
       "| 관악서   |  9       |  8       | 12       | 14       | 320      | 221      | 2706     | 827      | 3298     | 2642     | 0.23     |  1       |  -2      |  99      | NA       | 많음     | 3298     |\n",
       "| 강서서   |  7       |  8       | 13       | 13       | 262      | 191      | 2096     | 1260     | 3207     | 2718     | 0.38     | -1       |   0      |  71      | NA       | 많음     | 3207     |\n",
       "| 강동서   |  4       |  3       |  6       |  8       | 156      | 123      | 2366     | 789      | 2712     | 2248     | 0.25     |  1       |  -2      |  33      | NA       | 보통     | 2712     |\n",
       "| 종암서   |  3       |  3       |  3       |  3       |  64      |  53      | 832      | 332      | 1015     | 840      | 0.29     |  0       |   0      |  11      | NA       | 적음     | 1015     |\n",
       "| 구로서   |  8       |  6       | 15       | 11       | 281      | 164      | 2335     | 889      | 3007     | 2432     | 0.28     |  2       |   4      | 117      | NA       | 많음     | 3007     |\n",
       "| 서초서   |  7       |  4       |  8       |  5       | 334      | 193      | 1982     | 905      | 1852     | 1607     | 0.31     |  3       |   3      | 141      | NA       | 많음     | 1852     |\n",
       "| 양천서   |  3       |  5       |  6       |  3       | 120      | 105      | 1890     | 672      | 2509     | 2030     | 0.26     | -2       |   3      |  15      | NA       | 적음     | 2509     |\n",
       "| 송파서   | 11       | 10       | 13       | 10       | 220      | 178      | 3239     | 1129     | 3295     | 2786     | 0.26     |  1       |   3      |  42      | NA       | 많음     | 3295     |\n",
       "| 노원서   | 10       | 10       |  7       |  7       | 197      | 121      | 2193     | 801      | 2723     | 2329     | 0.27     |  0       |   0      |  76      | NA       | 많음     | 2723     |\n",
       "| 방배서   |  1       |  2       |  1       |  1       |  59      |  56      | 653      | 186      | 547      | 491      | 0.22     | -1       |   0      |   3      | NA       | 적음     |  547     |\n",
       "| 은평서   |  1       |  1       |  7       |  5       |  96      |  82      | 1095     | 418      | 1461     | 1268     | 0.28     |  0       |   2      |  14      | NA       | 적음     | 1461     |\n",
       "| 도봉서   |  3       |  3       |  9       | 10       | 102      | 106      | 1063     | 478      | 1487     | 1303     | 0.31     |  0       |  -1      |  -4      | NA       | 적음     | 1487     |\n",
       "| 수서서   | 10       |  7       |  6       |  6       | 149      | 124      | 1439     | 666      | 1819     | 1559     | 0.32     |  3       |   0      |  25      | NA       | 많음     | 1819     |\n",
       "\n"
      ],
      "text/plain": [
       "   관서명   살인.발생 살인.검거 강도.발생 강도.검거 강간.발생 강간.검거\n",
       "1  중부서    2         2         3         2        105        65      \n",
       "2  종로서    3         3         6         5        115        98      \n",
       "3  남대문서  1         0         6         4         65        46      \n",
       "4  서대문서  2         2         5         4        154       124      \n",
       "5  혜화서    3         2         5         4         96        63      \n",
       "6  용산서    5         5        14        14        194       173      \n",
       "7  성북서    2         2         2         1         86        71      \n",
       "8  동대문서  5         5        13        13        173       146      \n",
       "9  마포서    8         8        14        10        294       247      \n",
       "10 영등포서 14        12        22        20        295       183      \n",
       "11 성동서    4         4         9         8        126       119      \n",
       "12 동작서    5         5         9         5        285       139      \n",
       "13 광진서    4         4        14        26        240       220      \n",
       "14 서부서    2         2         2         1         70        59      \n",
       "15 강북서    7         8        14        13        153       126      \n",
       "16 금천서    3         4         6         6        151       122      \n",
       "17 중랑서   13        12        11         9        187       148      \n",
       "18 강남서    3         3        15        12        300       225      \n",
       "19 관악서    9         8        12        14        320       221      \n",
       "20 강서서    7         8        13        13        262       191      \n",
       "21 강동서    4         3         6         8        156       123      \n",
       "22 종암서    3         3         3         3         64        53      \n",
       "23 구로서    8         6        15        11        281       164      \n",
       "24 서초서    7         4         8         5        334       193      \n",
       "25 양천서    3         5         6         3        120       105      \n",
       "26 송파서   11        10        13        10        220       178      \n",
       "27 노원서   10        10         7         7        197       121      \n",
       "28 방배서    1         2         1         1         59        56      \n",
       "29 은평서    1         1         7         5         96        82      \n",
       "30 도봉서    3         3         9        10        102       106      \n",
       "31 수서서   10         7         6         6        149       124      \n",
       "   절도.발생 절도.검거 폭력.발생 폭력.검거 절도검거율 살인차이 강도차이\n",
       "1  1395      477       1355      1170      0.25        0         1     \n",
       "2  1070      413       1278      1070      0.28        0         1     \n",
       "3  1153      382       869       794       0.25        1         2     \n",
       "4  1812      738       2056      1711      0.29        0         1     \n",
       "5  1114      424       1015      861       0.28        1         1     \n",
       "6  1557      587       2050      1704      0.27        0         0     \n",
       "7  953       409       1194      1015      0.30        0         1     \n",
       "8  1981      814       2548      2227      0.29        0         0     \n",
       "9  2555      813       2983      2519      0.24        0         4     \n",
       "10 2964      978       3572      2961      0.25        2         2     \n",
       "11 1607      597       1612      1395      0.27        0         1     \n",
       "12 1865      661       1910      1587      0.26        0         4     \n",
       "13 3026      1277      2625      2180      0.30        0       -12     \n",
       "14 819       293       1192      1038      0.26        0         1     \n",
       "15 1434      618       2649      2348      0.30       -1         1     \n",
       "16 1567      888       2054      1776      0.36       -1         0     \n",
       "17 2135      829       2847      2407      0.28        1         2     \n",
       "18 2411      984       2465      2146      0.29        0         3     \n",
       "19 2706      827       3298      2642      0.23        1        -2     \n",
       "20 2096      1260      3207      2718      0.38       -1         0     \n",
       "21 2366      789       2712      2248      0.25        1        -2     \n",
       "22 832       332       1015      840       0.29        0         0     \n",
       "23 2335      889       3007      2432      0.28        2         4     \n",
       "24 1982      905       1852      1607      0.31        3         3     \n",
       "25 1890      672       2509      2030      0.26       -2         3     \n",
       "26 3239      1129      3295      2786      0.26        1         3     \n",
       "27 2193      801       2723      2329      0.27        0         0     \n",
       "28 653       186       547       491       0.22       -1         0     \n",
       "29 1095      418       1461      1268      0.28        0         2     \n",
       "30 1063      478       1487      1303      0.31        0        -1     \n",
       "31 1439      666       1819      1559      0.32        3         0     \n",
       "   강간차이 절도차이 살인발생결과 살인폭력평균\n",
       "1   40      NA       적음         1355        \n",
       "2   17      NA       적음         1278        \n",
       "3   19      NA       적음          869        \n",
       "4   30      NA       적음         2056        \n",
       "5   33      NA       적음         1015        \n",
       "6   21      NA       보통         2050        \n",
       "7   15      NA       적음         1194        \n",
       "8   27      NA       보통         2548        \n",
       "9   47      NA       많음         2983        \n",
       "10 112      NA       많음         3572        \n",
       "11   7      NA       보통         1612        \n",
       "12 146      NA       보통         1910        \n",
       "13  20      NA       보통         2625        \n",
       "14  11      NA       적음         1192        \n",
       "15  27      NA       많음         2649        \n",
       "16  29      NA       적음         2054        \n",
       "17  39      NA       많음         2847        \n",
       "18  75      NA       적음         2465        \n",
       "19  99      NA       많음         3298        \n",
       "20  71      NA       많음         3207        \n",
       "21  33      NA       보통         2712        \n",
       "22  11      NA       적음         1015        \n",
       "23 117      NA       많음         3007        \n",
       "24 141      NA       많음         1852        \n",
       "25  15      NA       적음         2509        \n",
       "26  42      NA       많음         3295        \n",
       "27  76      NA       많음         2723        \n",
       "28   3      NA       적음          547        \n",
       "29  14      NA       적음         1461        \n",
       "30  -4      NA       적음         1487        \n",
       "31  25      NA       많음         1819        "
      ]
     },
     "metadata": {},
     "output_type": "display_data"
    }
   ],
   "source": [
    "# 3. 절도검거율 컬럼을 추가 하시요\n",
    "data['절도검거율'] = round(as.numeric(data$'절도.검거') /as.numeric(data$'절도.발생'),2)\n",
    "data"
   ]
  },
  {
   "cell_type": "code",
   "execution_count": null,
   "id": "633398ad",
   "metadata": {},
   "outputs": [],
   "source": [
    "# 4. 살인 발생이 가장 높은 top5 관서명 살인발생 살인 검거를 구하시요\n",
    "top5 = top_n(df, 5, wt = 살인.발생)\n",
    "data[data$살인발생 == top5 ,c('관서명','살인.발생','살인.검거')]"
   ]
  },
  {
   "cell_type": "code",
   "execution_count": 206,
   "id": "41d8ed00",
   "metadata": {},
   "outputs": [],
   "source": [
    "# 5. 살인 발생이 7건이상이면 '많음' 4~5건 '보통' 나머지 '적음'으로 표시되는 정도 컬럼을 추가하시요\n",
    "fn = function(v) {\n",
    "    if(v >=7){ \n",
    "       return('많음') \n",
    "    }else if( v >=4 ){\n",
    "        return ('보통')\n",
    "    }else {\n",
    "        return ('적음')\n",
    "    }\n",
    "        }"
   ]
  },
  {
   "cell_type": "code",
   "execution_count": 308,
   "id": "23f55751",
   "metadata": {
    "scrolled": true
   },
   "outputs": [
    {
     "data": {
      "text/html": [
       "<table>\n",
       "<thead><tr><th scope=col>관서명</th><th scope=col>살인.발생</th><th scope=col>살인.검거</th><th scope=col>강도.발생</th><th scope=col>강도.검거</th><th scope=col>강간.발생</th><th scope=col>강간.검거</th><th scope=col>절도.발생</th><th scope=col>절도.검거</th><th scope=col>폭력.발생</th><th scope=col>폭력.검거</th><th scope=col>절도검거율</th><th scope=col>살인차이</th><th scope=col>강도차이</th><th scope=col>강간차이</th><th scope=col>절도차이</th><th scope=col>살인발생결과</th></tr></thead>\n",
       "<tbody>\n",
       "\t<tr><td>중부서  </td><td> 2      </td><td> 2      </td><td> 3      </td><td> 2      </td><td>105     </td><td> 65     </td><td>1,395   </td><td>477     </td><td>1,355   </td><td>1,170   </td><td> 2.00   </td><td> 0      </td><td>  1     </td><td> 40     </td><td>NA      </td><td>적음    </td></tr>\n",
       "\t<tr><td>종로서  </td><td> 3      </td><td> 3      </td><td> 6      </td><td> 5      </td><td>115     </td><td> 98     </td><td>1,070   </td><td>413     </td><td>1,278   </td><td>1,070   </td><td> 4.50   </td><td> 0      </td><td>  1     </td><td> 17     </td><td>NA      </td><td>적음    </td></tr>\n",
       "\t<tr><td>남대문서</td><td> 1      </td><td> 0      </td><td> 6      </td><td> 4      </td><td> 65     </td><td> 46     </td><td>1,153   </td><td>382     </td><td>869     </td><td>794     </td><td> 1.40   </td><td> 1      </td><td>  2     </td><td> 19     </td><td>NA      </td><td>적음    </td></tr>\n",
       "\t<tr><td>서대문서</td><td> 2      </td><td> 2      </td><td> 5      </td><td> 4      </td><td>154     </td><td>124     </td><td>1,812   </td><td>738     </td><td>2,056   </td><td>1,711   </td><td> 1.67   </td><td> 0      </td><td>  1     </td><td> 30     </td><td>NA      </td><td>적음    </td></tr>\n",
       "\t<tr><td>혜화서  </td><td> 3      </td><td> 2      </td><td> 5      </td><td> 4      </td><td> 96     </td><td> 63     </td><td>1,114   </td><td>424     </td><td>1,015   </td><td>861     </td><td> 2.75   </td><td> 1      </td><td>  1     </td><td> 33     </td><td>NA      </td><td>적음    </td></tr>\n",
       "\t<tr><td>용산서  </td><td> 5      </td><td> 5      </td><td>14      </td><td>14      </td><td>194     </td><td>173     </td><td>1,557   </td><td>587     </td><td>2,050   </td><td>1,704   </td><td> 1.56   </td><td> 0      </td><td>  0     </td><td> 21     </td><td>NA      </td><td>보통    </td></tr>\n",
       "\t<tr><td>성북서  </td><td> 2      </td><td> 2      </td><td> 2      </td><td> 1      </td><td> 86     </td><td> 71     </td><td>953     </td><td>409     </td><td>1,194   </td><td>1,015   </td><td> 0.26   </td><td> 0      </td><td>  1     </td><td> 15     </td><td>NA      </td><td>적음    </td></tr>\n",
       "\t<tr><td>동대문서</td><td> 5      </td><td> 5      </td><td>13      </td><td>13      </td><td>173     </td><td>146     </td><td>1,981   </td><td>814     </td><td>2,548   </td><td>2,227   </td><td> 1.60   </td><td> 0      </td><td>  0     </td><td> 27     </td><td>NA      </td><td>보통    </td></tr>\n",
       "\t<tr><td>마포서  </td><td> 8      </td><td> 8      </td><td>14      </td><td>10      </td><td>294     </td><td>247     </td><td>2,555   </td><td>813     </td><td>2,983   </td><td>2,519   </td><td> 1.00   </td><td> 0      </td><td>  4     </td><td> 47     </td><td>NA      </td><td>많음    </td></tr>\n",
       "\t<tr><td>영등포서</td><td>14      </td><td>12      </td><td>22      </td><td>20      </td><td>295     </td><td>183     </td><td>2,964   </td><td>978     </td><td>3,572   </td><td>2,961   </td><td> 1.20   </td><td> 2      </td><td>  2     </td><td>112     </td><td>NA      </td><td>많음    </td></tr>\n",
       "\t<tr><td>성동서  </td><td> 4      </td><td> 4      </td><td> 9      </td><td> 8      </td><td>126     </td><td>119     </td><td>1,607   </td><td>597     </td><td>1,612   </td><td>1,395   </td><td> 1.36   </td><td> 0      </td><td>  1     </td><td>  7     </td><td>NA      </td><td>보통    </td></tr>\n",
       "\t<tr><td>동작서  </td><td> 5      </td><td> 5      </td><td> 9      </td><td> 5      </td><td>285     </td><td>139     </td><td>1,865   </td><td>661     </td><td>1,910   </td><td>1,587   </td><td> 1.31   </td><td> 0      </td><td>  4     </td><td>146     </td><td>NA      </td><td>보통    </td></tr>\n",
       "\t<tr><td>광진서  </td><td> 4      </td><td> 4      </td><td>14      </td><td>26      </td><td>240     </td><td>220     </td><td>3,026   </td><td>1,277   </td><td>2,625   </td><td>2,180   </td><td> 0.12   </td><td> 0      </td><td>-12     </td><td> 20     </td><td>NA      </td><td>보통    </td></tr>\n",
       "\t<tr><td>서부서  </td><td> 2      </td><td> 2      </td><td> 2      </td><td> 1      </td><td> 70     </td><td> 59     </td><td>819     </td><td>293     </td><td>1,192   </td><td>1,038   </td><td> 0.17   </td><td> 0      </td><td>  1     </td><td> 11     </td><td>NA      </td><td>적음    </td></tr>\n",
       "\t<tr><td>강북서  </td><td> 7      </td><td> 8      </td><td>14      </td><td>13      </td><td>153     </td><td>126     </td><td>1,434   </td><td>618     </td><td>2,649   </td><td>2,348   </td><td> 2.29   </td><td>-1      </td><td>  1     </td><td> 27     </td><td>NA      </td><td>많음    </td></tr>\n",
       "\t<tr><td>금천서  </td><td> 3      </td><td> 4      </td><td> 6      </td><td> 6      </td><td>151     </td><td>122     </td><td>1,567   </td><td>888     </td><td>2,054   </td><td>1,776   </td><td> 2.70   </td><td>-1      </td><td>  0     </td><td> 29     </td><td>NA      </td><td>적음    </td></tr>\n",
       "\t<tr><td>중랑서  </td><td>13      </td><td>12      </td><td>11      </td><td> 9      </td><td>187     </td><td>148     </td><td>2,135   </td><td>829     </td><td>2,847   </td><td>2,407   </td><td> 1.44   </td><td> 1      </td><td>  2     </td><td> 39     </td><td>NA      </td><td>많음    </td></tr>\n",
       "\t<tr><td>강남서  </td><td> 3      </td><td> 3      </td><td>15      </td><td>12      </td><td>300     </td><td>225     </td><td>2,411   </td><td>984     </td><td>2,465   </td><td>2,146   </td><td> 1.41   </td><td> 0      </td><td>  3     </td><td> 75     </td><td>NA      </td><td>적음    </td></tr>\n",
       "\t<tr><td>관악서  </td><td> 9      </td><td> 8      </td><td>12      </td><td>14      </td><td>320     </td><td>221     </td><td>2,706   </td><td>827     </td><td>3,298   </td><td>2,642   </td><td> 1.04   </td><td> 1      </td><td> -2     </td><td> 99     </td><td>NA      </td><td>많음    </td></tr>\n",
       "\t<tr><td>강서서  </td><td> 7      </td><td> 8      </td><td>13      </td><td>13      </td><td>262     </td><td>191     </td><td>2,096   </td><td>1,260   </td><td>3,207   </td><td>2,718   </td><td> 0.12   </td><td>-1      </td><td>  0     </td><td> 71     </td><td>NA      </td><td>많음    </td></tr>\n",
       "\t<tr><td>강동서  </td><td> 4      </td><td> 3      </td><td> 6      </td><td> 8      </td><td>156     </td><td>123     </td><td>2,366   </td><td>789     </td><td>2,712   </td><td>2,248   </td><td> 1.00   </td><td> 1      </td><td> -2     </td><td> 33     </td><td>NA      </td><td>보통    </td></tr>\n",
       "\t<tr><td>종암서  </td><td> 3      </td><td> 3      </td><td> 3      </td><td> 3      </td><td> 64     </td><td> 53     </td><td>832     </td><td>332     </td><td>1,015   </td><td>840     </td><td> 0.20   </td><td> 0      </td><td>  0     </td><td> 11     </td><td>NA      </td><td>적음    </td></tr>\n",
       "\t<tr><td>구로서  </td><td> 8      </td><td> 6      </td><td>15      </td><td>11      </td><td>281     </td><td>164     </td><td>2,335   </td><td>889     </td><td>3,007   </td><td>2,432   </td><td> 1.40   </td><td> 2      </td><td>  4     </td><td>117     </td><td>NA      </td><td>많음    </td></tr>\n",
       "\t<tr><td>서초서  </td><td> 7      </td><td> 4      </td><td> 8      </td><td> 5      </td><td>334     </td><td>193     </td><td>1,982   </td><td>905     </td><td>1,852   </td><td>1,607   </td><td> 1.81   </td><td> 3      </td><td>  3     </td><td>141     </td><td>NA      </td><td>많음    </td></tr>\n",
       "\t<tr><td>양천서  </td><td> 3      </td><td> 5      </td><td> 6      </td><td> 3      </td><td>120     </td><td>105     </td><td>1,890   </td><td>672     </td><td>2,509   </td><td>2,030   </td><td> 1.36   </td><td>-2      </td><td>  3     </td><td> 15     </td><td>NA      </td><td>적음    </td></tr>\n",
       "\t<tr><td>송파서  </td><td>11      </td><td>10      </td><td>13      </td><td>10      </td><td>220     </td><td>178     </td><td>3,239   </td><td>1,129   </td><td>3,295   </td><td>2,786   </td><td> 0.04   </td><td> 1      </td><td>  3     </td><td> 42     </td><td>NA      </td><td>많음    </td></tr>\n",
       "\t<tr><td>노원서  </td><td>10      </td><td>10      </td><td> 7      </td><td> 7      </td><td>197     </td><td>121     </td><td>2,193   </td><td>801     </td><td>2,723   </td><td>2,329   </td><td> 1.16   </td><td> 0      </td><td>  0     </td><td> 76     </td><td>NA      </td><td>많음    </td></tr>\n",
       "\t<tr><td>방배서  </td><td> 1      </td><td> 2      </td><td> 1      </td><td> 1      </td><td> 59     </td><td> 56     </td><td>653     </td><td>186     </td><td>547     </td><td>491     </td><td> 0.14   </td><td>-1      </td><td>  0     </td><td>  3     </td><td>NA      </td><td>적음    </td></tr>\n",
       "\t<tr><td>은평서  </td><td> 1      </td><td> 1      </td><td> 7      </td><td> 5      </td><td> 96     </td><td> 82     </td><td>1,095   </td><td>418     </td><td>1,461   </td><td>1,268   </td><td> 3.33   </td><td> 0      </td><td>  2     </td><td> 14     </td><td>NA      </td><td>적음    </td></tr>\n",
       "\t<tr><td>도봉서  </td><td> 3      </td><td> 3      </td><td> 9      </td><td>10      </td><td>102     </td><td>106     </td><td>1,063   </td><td>478     </td><td>1,487   </td><td>1,303   </td><td>13.00   </td><td> 0      </td><td> -1     </td><td> -4     </td><td>NA      </td><td>적음    </td></tr>\n",
       "\t<tr><td>수서서  </td><td>10      </td><td> 7      </td><td> 6      </td><td> 6      </td><td>149     </td><td>124     </td><td>1,439   </td><td>666     </td><td>1,819   </td><td>1,559   </td><td> 2.25   </td><td> 3      </td><td>  0     </td><td> 25     </td><td>NA      </td><td>많음    </td></tr>\n",
       "</tbody>\n",
       "</table>\n"
      ],
      "text/latex": [
       "\\begin{tabular}{r|lllllllllllllllll}\n",
       " 관서명 & 살인.발생 & 살인.검거 & 강도.발생 & 강도.검거 & 강간.발생 & 강간.검거 & 절도.발생 & 절도.검거 & 폭력.발생 & 폭력.검거 & 절도검거율 & 살인차이 & 강도차이 & 강간차이 & 절도차이 & 살인발생결과\\\\\n",
       "\\hline\n",
       "\t 중부서   &  2       &  2       &  3       &  2       & 105      &  65      & 1,395    & 477      & 1,355    & 1,170    &  2.00    &  0       &   1      &  40      & NA       & 적음    \\\\\n",
       "\t 종로서   &  3       &  3       &  6       &  5       & 115      &  98      & 1,070    & 413      & 1,278    & 1,070    &  4.50    &  0       &   1      &  17      & NA       & 적음    \\\\\n",
       "\t 남대문서 &  1       &  0       &  6       &  4       &  65      &  46      & 1,153    & 382      & 869      & 794      &  1.40    &  1       &   2      &  19      & NA       & 적음    \\\\\n",
       "\t 서대문서 &  2       &  2       &  5       &  4       & 154      & 124      & 1,812    & 738      & 2,056    & 1,711    &  1.67    &  0       &   1      &  30      & NA       & 적음    \\\\\n",
       "\t 혜화서   &  3       &  2       &  5       &  4       &  96      &  63      & 1,114    & 424      & 1,015    & 861      &  2.75    &  1       &   1      &  33      & NA       & 적음    \\\\\n",
       "\t 용산서   &  5       &  5       & 14       & 14       & 194      & 173      & 1,557    & 587      & 2,050    & 1,704    &  1.56    &  0       &   0      &  21      & NA       & 보통    \\\\\n",
       "\t 성북서   &  2       &  2       &  2       &  1       &  86      &  71      & 953      & 409      & 1,194    & 1,015    &  0.26    &  0       &   1      &  15      & NA       & 적음    \\\\\n",
       "\t 동대문서 &  5       &  5       & 13       & 13       & 173      & 146      & 1,981    & 814      & 2,548    & 2,227    &  1.60    &  0       &   0      &  27      & NA       & 보통    \\\\\n",
       "\t 마포서   &  8       &  8       & 14       & 10       & 294      & 247      & 2,555    & 813      & 2,983    & 2,519    &  1.00    &  0       &   4      &  47      & NA       & 많음    \\\\\n",
       "\t 영등포서 & 14       & 12       & 22       & 20       & 295      & 183      & 2,964    & 978      & 3,572    & 2,961    &  1.20    &  2       &   2      & 112      & NA       & 많음    \\\\\n",
       "\t 성동서   &  4       &  4       &  9       &  8       & 126      & 119      & 1,607    & 597      & 1,612    & 1,395    &  1.36    &  0       &   1      &   7      & NA       & 보통    \\\\\n",
       "\t 동작서   &  5       &  5       &  9       &  5       & 285      & 139      & 1,865    & 661      & 1,910    & 1,587    &  1.31    &  0       &   4      & 146      & NA       & 보통    \\\\\n",
       "\t 광진서   &  4       &  4       & 14       & 26       & 240      & 220      & 3,026    & 1,277    & 2,625    & 2,180    &  0.12    &  0       & -12      &  20      & NA       & 보통    \\\\\n",
       "\t 서부서   &  2       &  2       &  2       &  1       &  70      &  59      & 819      & 293      & 1,192    & 1,038    &  0.17    &  0       &   1      &  11      & NA       & 적음    \\\\\n",
       "\t 강북서   &  7       &  8       & 14       & 13       & 153      & 126      & 1,434    & 618      & 2,649    & 2,348    &  2.29    & -1       &   1      &  27      & NA       & 많음    \\\\\n",
       "\t 금천서   &  3       &  4       &  6       &  6       & 151      & 122      & 1,567    & 888      & 2,054    & 1,776    &  2.70    & -1       &   0      &  29      & NA       & 적음    \\\\\n",
       "\t 중랑서   & 13       & 12       & 11       &  9       & 187      & 148      & 2,135    & 829      & 2,847    & 2,407    &  1.44    &  1       &   2      &  39      & NA       & 많음    \\\\\n",
       "\t 강남서   &  3       &  3       & 15       & 12       & 300      & 225      & 2,411    & 984      & 2,465    & 2,146    &  1.41    &  0       &   3      &  75      & NA       & 적음    \\\\\n",
       "\t 관악서   &  9       &  8       & 12       & 14       & 320      & 221      & 2,706    & 827      & 3,298    & 2,642    &  1.04    &  1       &  -2      &  99      & NA       & 많음    \\\\\n",
       "\t 강서서   &  7       &  8       & 13       & 13       & 262      & 191      & 2,096    & 1,260    & 3,207    & 2,718    &  0.12    & -1       &   0      &  71      & NA       & 많음    \\\\\n",
       "\t 강동서   &  4       &  3       &  6       &  8       & 156      & 123      & 2,366    & 789      & 2,712    & 2,248    &  1.00    &  1       &  -2      &  33      & NA       & 보통    \\\\\n",
       "\t 종암서   &  3       &  3       &  3       &  3       &  64      &  53      & 832      & 332      & 1,015    & 840      &  0.20    &  0       &   0      &  11      & NA       & 적음    \\\\\n",
       "\t 구로서   &  8       &  6       & 15       & 11       & 281      & 164      & 2,335    & 889      & 3,007    & 2,432    &  1.40    &  2       &   4      & 117      & NA       & 많음    \\\\\n",
       "\t 서초서   &  7       &  4       &  8       &  5       & 334      & 193      & 1,982    & 905      & 1,852    & 1,607    &  1.81    &  3       &   3      & 141      & NA       & 많음    \\\\\n",
       "\t 양천서   &  3       &  5       &  6       &  3       & 120      & 105      & 1,890    & 672      & 2,509    & 2,030    &  1.36    & -2       &   3      &  15      & NA       & 적음    \\\\\n",
       "\t 송파서   & 11       & 10       & 13       & 10       & 220      & 178      & 3,239    & 1,129    & 3,295    & 2,786    &  0.04    &  1       &   3      &  42      & NA       & 많음    \\\\\n",
       "\t 노원서   & 10       & 10       &  7       &  7       & 197      & 121      & 2,193    & 801      & 2,723    & 2,329    &  1.16    &  0       &   0      &  76      & NA       & 많음    \\\\\n",
       "\t 방배서   &  1       &  2       &  1       &  1       &  59      &  56      & 653      & 186      & 547      & 491      &  0.14    & -1       &   0      &   3      & NA       & 적음    \\\\\n",
       "\t 은평서   &  1       &  1       &  7       &  5       &  96      &  82      & 1,095    & 418      & 1,461    & 1,268    &  3.33    &  0       &   2      &  14      & NA       & 적음    \\\\\n",
       "\t 도봉서   &  3       &  3       &  9       & 10       & 102      & 106      & 1,063    & 478      & 1,487    & 1,303    & 13.00    &  0       &  -1      &  -4      & NA       & 적음    \\\\\n",
       "\t 수서서   & 10       &  7       &  6       &  6       & 149      & 124      & 1,439    & 666      & 1,819    & 1,559    &  2.25    &  3       &   0      &  25      & NA       & 많음    \\\\\n",
       "\\end{tabular}\n"
      ],
      "text/markdown": [
       "\n",
       "| 관서명 | 살인.발생 | 살인.검거 | 강도.발생 | 강도.검거 | 강간.발생 | 강간.검거 | 절도.발생 | 절도.검거 | 폭력.발생 | 폭력.검거 | 절도검거율 | 살인차이 | 강도차이 | 강간차이 | 절도차이 | 살인발생결과 |\n",
       "|---|---|---|---|---|---|---|---|---|---|---|---|---|---|---|---|---|\n",
       "| 중부서   |  2       |  2       |  3       |  2       | 105      |  65      | 1,395    | 477      | 1,355    | 1,170    |  2.00    |  0       |   1      |  40      | NA       | 적음     |\n",
       "| 종로서   |  3       |  3       |  6       |  5       | 115      |  98      | 1,070    | 413      | 1,278    | 1,070    |  4.50    |  0       |   1      |  17      | NA       | 적음     |\n",
       "| 남대문서 |  1       |  0       |  6       |  4       |  65      |  46      | 1,153    | 382      | 869      | 794      |  1.40    |  1       |   2      |  19      | NA       | 적음     |\n",
       "| 서대문서 |  2       |  2       |  5       |  4       | 154      | 124      | 1,812    | 738      | 2,056    | 1,711    |  1.67    |  0       |   1      |  30      | NA       | 적음     |\n",
       "| 혜화서   |  3       |  2       |  5       |  4       |  96      |  63      | 1,114    | 424      | 1,015    | 861      |  2.75    |  1       |   1      |  33      | NA       | 적음     |\n",
       "| 용산서   |  5       |  5       | 14       | 14       | 194      | 173      | 1,557    | 587      | 2,050    | 1,704    |  1.56    |  0       |   0      |  21      | NA       | 보통     |\n",
       "| 성북서   |  2       |  2       |  2       |  1       |  86      |  71      | 953      | 409      | 1,194    | 1,015    |  0.26    |  0       |   1      |  15      | NA       | 적음     |\n",
       "| 동대문서 |  5       |  5       | 13       | 13       | 173      | 146      | 1,981    | 814      | 2,548    | 2,227    |  1.60    |  0       |   0      |  27      | NA       | 보통     |\n",
       "| 마포서   |  8       |  8       | 14       | 10       | 294      | 247      | 2,555    | 813      | 2,983    | 2,519    |  1.00    |  0       |   4      |  47      | NA       | 많음     |\n",
       "| 영등포서 | 14       | 12       | 22       | 20       | 295      | 183      | 2,964    | 978      | 3,572    | 2,961    |  1.20    |  2       |   2      | 112      | NA       | 많음     |\n",
       "| 성동서   |  4       |  4       |  9       |  8       | 126      | 119      | 1,607    | 597      | 1,612    | 1,395    |  1.36    |  0       |   1      |   7      | NA       | 보통     |\n",
       "| 동작서   |  5       |  5       |  9       |  5       | 285      | 139      | 1,865    | 661      | 1,910    | 1,587    |  1.31    |  0       |   4      | 146      | NA       | 보통     |\n",
       "| 광진서   |  4       |  4       | 14       | 26       | 240      | 220      | 3,026    | 1,277    | 2,625    | 2,180    |  0.12    |  0       | -12      |  20      | NA       | 보통     |\n",
       "| 서부서   |  2       |  2       |  2       |  1       |  70      |  59      | 819      | 293      | 1,192    | 1,038    |  0.17    |  0       |   1      |  11      | NA       | 적음     |\n",
       "| 강북서   |  7       |  8       | 14       | 13       | 153      | 126      | 1,434    | 618      | 2,649    | 2,348    |  2.29    | -1       |   1      |  27      | NA       | 많음     |\n",
       "| 금천서   |  3       |  4       |  6       |  6       | 151      | 122      | 1,567    | 888      | 2,054    | 1,776    |  2.70    | -1       |   0      |  29      | NA       | 적음     |\n",
       "| 중랑서   | 13       | 12       | 11       |  9       | 187      | 148      | 2,135    | 829      | 2,847    | 2,407    |  1.44    |  1       |   2      |  39      | NA       | 많음     |\n",
       "| 강남서   |  3       |  3       | 15       | 12       | 300      | 225      | 2,411    | 984      | 2,465    | 2,146    |  1.41    |  0       |   3      |  75      | NA       | 적음     |\n",
       "| 관악서   |  9       |  8       | 12       | 14       | 320      | 221      | 2,706    | 827      | 3,298    | 2,642    |  1.04    |  1       |  -2      |  99      | NA       | 많음     |\n",
       "| 강서서   |  7       |  8       | 13       | 13       | 262      | 191      | 2,096    | 1,260    | 3,207    | 2,718    |  0.12    | -1       |   0      |  71      | NA       | 많음     |\n",
       "| 강동서   |  4       |  3       |  6       |  8       | 156      | 123      | 2,366    | 789      | 2,712    | 2,248    |  1.00    |  1       |  -2      |  33      | NA       | 보통     |\n",
       "| 종암서   |  3       |  3       |  3       |  3       |  64      |  53      | 832      | 332      | 1,015    | 840      |  0.20    |  0       |   0      |  11      | NA       | 적음     |\n",
       "| 구로서   |  8       |  6       | 15       | 11       | 281      | 164      | 2,335    | 889      | 3,007    | 2,432    |  1.40    |  2       |   4      | 117      | NA       | 많음     |\n",
       "| 서초서   |  7       |  4       |  8       |  5       | 334      | 193      | 1,982    | 905      | 1,852    | 1,607    |  1.81    |  3       |   3      | 141      | NA       | 많음     |\n",
       "| 양천서   |  3       |  5       |  6       |  3       | 120      | 105      | 1,890    | 672      | 2,509    | 2,030    |  1.36    | -2       |   3      |  15      | NA       | 적음     |\n",
       "| 송파서   | 11       | 10       | 13       | 10       | 220      | 178      | 3,239    | 1,129    | 3,295    | 2,786    |  0.04    |  1       |   3      |  42      | NA       | 많음     |\n",
       "| 노원서   | 10       | 10       |  7       |  7       | 197      | 121      | 2,193    | 801      | 2,723    | 2,329    |  1.16    |  0       |   0      |  76      | NA       | 많음     |\n",
       "| 방배서   |  1       |  2       |  1       |  1       |  59      |  56      | 653      | 186      | 547      | 491      |  0.14    | -1       |   0      |   3      | NA       | 적음     |\n",
       "| 은평서   |  1       |  1       |  7       |  5       |  96      |  82      | 1,095    | 418      | 1,461    | 1,268    |  3.33    |  0       |   2      |  14      | NA       | 적음     |\n",
       "| 도봉서   |  3       |  3       |  9       | 10       | 102      | 106      | 1,063    | 478      | 1,487    | 1,303    | 13.00    |  0       |  -1      |  -4      | NA       | 적음     |\n",
       "| 수서서   | 10       |  7       |  6       |  6       | 149      | 124      | 1,439    | 666      | 1,819    | 1,559    |  2.25    |  3       |   0      |  25      | NA       | 많음     |\n",
       "\n"
      ],
      "text/plain": [
       "   관서명   살인.발생 살인.검거 강도.발생 강도.검거 강간.발생 강간.검거\n",
       "1  중부서    2         2         3         2        105        65      \n",
       "2  종로서    3         3         6         5        115        98      \n",
       "3  남대문서  1         0         6         4         65        46      \n",
       "4  서대문서  2         2         5         4        154       124      \n",
       "5  혜화서    3         2         5         4         96        63      \n",
       "6  용산서    5         5        14        14        194       173      \n",
       "7  성북서    2         2         2         1         86        71      \n",
       "8  동대문서  5         5        13        13        173       146      \n",
       "9  마포서    8         8        14        10        294       247      \n",
       "10 영등포서 14        12        22        20        295       183      \n",
       "11 성동서    4         4         9         8        126       119      \n",
       "12 동작서    5         5         9         5        285       139      \n",
       "13 광진서    4         4        14        26        240       220      \n",
       "14 서부서    2         2         2         1         70        59      \n",
       "15 강북서    7         8        14        13        153       126      \n",
       "16 금천서    3         4         6         6        151       122      \n",
       "17 중랑서   13        12        11         9        187       148      \n",
       "18 강남서    3         3        15        12        300       225      \n",
       "19 관악서    9         8        12        14        320       221      \n",
       "20 강서서    7         8        13        13        262       191      \n",
       "21 강동서    4         3         6         8        156       123      \n",
       "22 종암서    3         3         3         3         64        53      \n",
       "23 구로서    8         6        15        11        281       164      \n",
       "24 서초서    7         4         8         5        334       193      \n",
       "25 양천서    3         5         6         3        120       105      \n",
       "26 송파서   11        10        13        10        220       178      \n",
       "27 노원서   10        10         7         7        197       121      \n",
       "28 방배서    1         2         1         1         59        56      \n",
       "29 은평서    1         1         7         5         96        82      \n",
       "30 도봉서    3         3         9        10        102       106      \n",
       "31 수서서   10         7         6         6        149       124      \n",
       "   절도.발생 절도.검거 폭력.발생 폭력.검거 절도검거율 살인차이 강도차이\n",
       "1  1,395     477       1,355     1,170      2.00       0         1     \n",
       "2  1,070     413       1,278     1,070      4.50       0         1     \n",
       "3  1,153     382       869       794        1.40       1         2     \n",
       "4  1,812     738       2,056     1,711      1.67       0         1     \n",
       "5  1,114     424       1,015     861        2.75       1         1     \n",
       "6  1,557     587       2,050     1,704      1.56       0         0     \n",
       "7  953       409       1,194     1,015      0.26       0         1     \n",
       "8  1,981     814       2,548     2,227      1.60       0         0     \n",
       "9  2,555     813       2,983     2,519      1.00       0         4     \n",
       "10 2,964     978       3,572     2,961      1.20       2         2     \n",
       "11 1,607     597       1,612     1,395      1.36       0         1     \n",
       "12 1,865     661       1,910     1,587      1.31       0         4     \n",
       "13 3,026     1,277     2,625     2,180      0.12       0       -12     \n",
       "14 819       293       1,192     1,038      0.17       0         1     \n",
       "15 1,434     618       2,649     2,348      2.29      -1         1     \n",
       "16 1,567     888       2,054     1,776      2.70      -1         0     \n",
       "17 2,135     829       2,847     2,407      1.44       1         2     \n",
       "18 2,411     984       2,465     2,146      1.41       0         3     \n",
       "19 2,706     827       3,298     2,642      1.04       1        -2     \n",
       "20 2,096     1,260     3,207     2,718      0.12      -1         0     \n",
       "21 2,366     789       2,712     2,248      1.00       1        -2     \n",
       "22 832       332       1,015     840        0.20       0         0     \n",
       "23 2,335     889       3,007     2,432      1.40       2         4     \n",
       "24 1,982     905       1,852     1,607      1.81       3         3     \n",
       "25 1,890     672       2,509     2,030      1.36      -2         3     \n",
       "26 3,239     1,129     3,295     2,786      0.04       1         3     \n",
       "27 2,193     801       2,723     2,329      1.16       0         0     \n",
       "28 653       186       547       491        0.14      -1         0     \n",
       "29 1,095     418       1,461     1,268      3.33       0         2     \n",
       "30 1,063     478       1,487     1,303     13.00       0        -1     \n",
       "31 1,439     666       1,819     1,559      2.25       3         0     \n",
       "   강간차이 절도차이 살인발생결과\n",
       "1   40      NA       적음        \n",
       "2   17      NA       적음        \n",
       "3   19      NA       적음        \n",
       "4   30      NA       적음        \n",
       "5   33      NA       적음        \n",
       "6   21      NA       보통        \n",
       "7   15      NA       적음        \n",
       "8   27      NA       보통        \n",
       "9   47      NA       많음        \n",
       "10 112      NA       많음        \n",
       "11   7      NA       보통        \n",
       "12 146      NA       보통        \n",
       "13  20      NA       보통        \n",
       "14  11      NA       적음        \n",
       "15  27      NA       많음        \n",
       "16  29      NA       적음        \n",
       "17  39      NA       많음        \n",
       "18  75      NA       적음        \n",
       "19  99      NA       많음        \n",
       "20  71      NA       많음        \n",
       "21  33      NA       보통        \n",
       "22  11      NA       적음        \n",
       "23 117      NA       많음        \n",
       "24 141      NA       많음        \n",
       "25  15      NA       적음        \n",
       "26  42      NA       많음        \n",
       "27  76      NA       많음        \n",
       "28   3      NA       적음        \n",
       "29  14      NA       적음        \n",
       "30  -4      NA       적음        \n",
       "31  25      NA       많음        "
      ]
     },
     "metadata": {},
     "output_type": "display_data"
    }
   ],
   "source": [
    "for (i in 1:nrow(data)){\n",
    "    data$'살인발생결과'[i] = fn(data$'살인.발생'[i])\n",
    "}\n",
    "# data['살인발생결과'] = apply(data[살인.발생], 1, fn)\n",
    "data"
   ]
  },
  {
   "cell_type": "code",
   "execution_count": 419,
   "id": "f505b7fe",
   "metadata": {
    "scrolled": true
   },
   "outputs": [
    {
     "data": {
      "text/html": [
       "<table>\n",
       "<thead><tr><th scope=col>관서명</th><th scope=col>살인.발생</th><th scope=col>살인.검거</th><th scope=col>강도.발생</th><th scope=col>강도.검거</th><th scope=col>강간.발생</th><th scope=col>강간.검거</th><th scope=col>절도.발생</th><th scope=col>절도.검거</th><th scope=col>폭력.발생</th><th scope=col>폭력.검거</th><th scope=col>절도검거율</th><th scope=col>살인차이</th><th scope=col>강도차이</th><th scope=col>강간차이</th><th scope=col>절도차이</th><th scope=col>살인발생결과</th><th scope=col>살인폭력평균</th></tr></thead>\n",
       "<tbody>\n",
       "\t<tr><td>중부서  </td><td> 2      </td><td> 2      </td><td> 3      </td><td> 2      </td><td>105     </td><td> 65     </td><td>1395    </td><td>477     </td><td>1355    </td><td>1170    </td><td> 2.00   </td><td> 0      </td><td>  1     </td><td> 40     </td><td>NA      </td><td>적음    </td><td>1355    </td></tr>\n",
       "\t<tr><td>종로서  </td><td> 3      </td><td> 3      </td><td> 6      </td><td> 5      </td><td>115     </td><td> 98     </td><td>1070    </td><td>413     </td><td>1278    </td><td>1070    </td><td> 4.50   </td><td> 0      </td><td>  1     </td><td> 17     </td><td>NA      </td><td>적음    </td><td>1278    </td></tr>\n",
       "\t<tr><td>남대문서</td><td> 1      </td><td> 0      </td><td> 6      </td><td> 4      </td><td> 65     </td><td> 46     </td><td>1153    </td><td>382     </td><td>869     </td><td>794     </td><td> 1.40   </td><td> 1      </td><td>  2     </td><td> 19     </td><td>NA      </td><td>적음    </td><td> 869    </td></tr>\n",
       "\t<tr><td>서대문서</td><td> 2      </td><td> 2      </td><td> 5      </td><td> 4      </td><td>154     </td><td>124     </td><td>1812    </td><td>738     </td><td>2056    </td><td>1711    </td><td> 1.67   </td><td> 0      </td><td>  1     </td><td> 30     </td><td>NA      </td><td>적음    </td><td>2056    </td></tr>\n",
       "\t<tr><td>혜화서  </td><td> 3      </td><td> 2      </td><td> 5      </td><td> 4      </td><td> 96     </td><td> 63     </td><td>1114    </td><td>424     </td><td>1015    </td><td>861     </td><td> 2.75   </td><td> 1      </td><td>  1     </td><td> 33     </td><td>NA      </td><td>적음    </td><td>1015    </td></tr>\n",
       "\t<tr><td>용산서  </td><td> 5      </td><td> 5      </td><td>14      </td><td>14      </td><td>194     </td><td>173     </td><td>1557    </td><td>587     </td><td>2050    </td><td>1704    </td><td> 1.56   </td><td> 0      </td><td>  0     </td><td> 21     </td><td>NA      </td><td>보통    </td><td>2050    </td></tr>\n",
       "\t<tr><td>성북서  </td><td> 2      </td><td> 2      </td><td> 2      </td><td> 1      </td><td> 86     </td><td> 71     </td><td>953     </td><td>409     </td><td>1194    </td><td>1015    </td><td> 0.26   </td><td> 0      </td><td>  1     </td><td> 15     </td><td>NA      </td><td>적음    </td><td>1194    </td></tr>\n",
       "\t<tr><td>동대문서</td><td> 5      </td><td> 5      </td><td>13      </td><td>13      </td><td>173     </td><td>146     </td><td>1981    </td><td>814     </td><td>2548    </td><td>2227    </td><td> 1.60   </td><td> 0      </td><td>  0     </td><td> 27     </td><td>NA      </td><td>보통    </td><td>2548    </td></tr>\n",
       "\t<tr><td>마포서  </td><td> 8      </td><td> 8      </td><td>14      </td><td>10      </td><td>294     </td><td>247     </td><td>2555    </td><td>813     </td><td>2983    </td><td>2519    </td><td> 1.00   </td><td> 0      </td><td>  4     </td><td> 47     </td><td>NA      </td><td>많음    </td><td>2983    </td></tr>\n",
       "\t<tr><td>영등포서</td><td>14      </td><td>12      </td><td>22      </td><td>20      </td><td>295     </td><td>183     </td><td>2964    </td><td>978     </td><td>3572    </td><td>2961    </td><td> 1.20   </td><td> 2      </td><td>  2     </td><td>112     </td><td>NA      </td><td>많음    </td><td>3572    </td></tr>\n",
       "\t<tr><td>성동서  </td><td> 4      </td><td> 4      </td><td> 9      </td><td> 8      </td><td>126     </td><td>119     </td><td>1607    </td><td>597     </td><td>1612    </td><td>1395    </td><td> 1.36   </td><td> 0      </td><td>  1     </td><td>  7     </td><td>NA      </td><td>보통    </td><td>1612    </td></tr>\n",
       "\t<tr><td>동작서  </td><td> 5      </td><td> 5      </td><td> 9      </td><td> 5      </td><td>285     </td><td>139     </td><td>1865    </td><td>661     </td><td>1910    </td><td>1587    </td><td> 1.31   </td><td> 0      </td><td>  4     </td><td>146     </td><td>NA      </td><td>보통    </td><td>1910    </td></tr>\n",
       "\t<tr><td>광진서  </td><td> 4      </td><td> 4      </td><td>14      </td><td>26      </td><td>240     </td><td>220     </td><td>3026    </td><td>1277    </td><td>2625    </td><td>2180    </td><td> 0.12   </td><td> 0      </td><td>-12     </td><td> 20     </td><td>NA      </td><td>보통    </td><td>2625    </td></tr>\n",
       "\t<tr><td>서부서  </td><td> 2      </td><td> 2      </td><td> 2      </td><td> 1      </td><td> 70     </td><td> 59     </td><td>819     </td><td>293     </td><td>1192    </td><td>1038    </td><td> 0.17   </td><td> 0      </td><td>  1     </td><td> 11     </td><td>NA      </td><td>적음    </td><td>1192    </td></tr>\n",
       "\t<tr><td>강북서  </td><td> 7      </td><td> 8      </td><td>14      </td><td>13      </td><td>153     </td><td>126     </td><td>1434    </td><td>618     </td><td>2649    </td><td>2348    </td><td> 2.29   </td><td>-1      </td><td>  1     </td><td> 27     </td><td>NA      </td><td>많음    </td><td>2649    </td></tr>\n",
       "\t<tr><td>금천서  </td><td> 3      </td><td> 4      </td><td> 6      </td><td> 6      </td><td>151     </td><td>122     </td><td>1567    </td><td>888     </td><td>2054    </td><td>1776    </td><td> 2.70   </td><td>-1      </td><td>  0     </td><td> 29     </td><td>NA      </td><td>적음    </td><td>2054    </td></tr>\n",
       "\t<tr><td>중랑서  </td><td>13      </td><td>12      </td><td>11      </td><td> 9      </td><td>187     </td><td>148     </td><td>2135    </td><td>829     </td><td>2847    </td><td>2407    </td><td> 1.44   </td><td> 1      </td><td>  2     </td><td> 39     </td><td>NA      </td><td>많음    </td><td>2847    </td></tr>\n",
       "\t<tr><td>강남서  </td><td> 3      </td><td> 3      </td><td>15      </td><td>12      </td><td>300     </td><td>225     </td><td>2411    </td><td>984     </td><td>2465    </td><td>2146    </td><td> 1.41   </td><td> 0      </td><td>  3     </td><td> 75     </td><td>NA      </td><td>적음    </td><td>2465    </td></tr>\n",
       "\t<tr><td>관악서  </td><td> 9      </td><td> 8      </td><td>12      </td><td>14      </td><td>320     </td><td>221     </td><td>2706    </td><td>827     </td><td>3298    </td><td>2642    </td><td> 1.04   </td><td> 1      </td><td> -2     </td><td> 99     </td><td>NA      </td><td>많음    </td><td>3298    </td></tr>\n",
       "\t<tr><td>강서서  </td><td> 7      </td><td> 8      </td><td>13      </td><td>13      </td><td>262     </td><td>191     </td><td>2096    </td><td>1260    </td><td>3207    </td><td>2718    </td><td> 0.12   </td><td>-1      </td><td>  0     </td><td> 71     </td><td>NA      </td><td>많음    </td><td>3207    </td></tr>\n",
       "\t<tr><td>강동서  </td><td> 4      </td><td> 3      </td><td> 6      </td><td> 8      </td><td>156     </td><td>123     </td><td>2366    </td><td>789     </td><td>2712    </td><td>2248    </td><td> 1.00   </td><td> 1      </td><td> -2     </td><td> 33     </td><td>NA      </td><td>보통    </td><td>2712    </td></tr>\n",
       "\t<tr><td>종암서  </td><td> 3      </td><td> 3      </td><td> 3      </td><td> 3      </td><td> 64     </td><td> 53     </td><td>832     </td><td>332     </td><td>1015    </td><td>840     </td><td> 0.20   </td><td> 0      </td><td>  0     </td><td> 11     </td><td>NA      </td><td>적음    </td><td>1015    </td></tr>\n",
       "\t<tr><td>구로서  </td><td> 8      </td><td> 6      </td><td>15      </td><td>11      </td><td>281     </td><td>164     </td><td>2335    </td><td>889     </td><td>3007    </td><td>2432    </td><td> 1.40   </td><td> 2      </td><td>  4     </td><td>117     </td><td>NA      </td><td>많음    </td><td>3007    </td></tr>\n",
       "\t<tr><td>서초서  </td><td> 7      </td><td> 4      </td><td> 8      </td><td> 5      </td><td>334     </td><td>193     </td><td>1982    </td><td>905     </td><td>1852    </td><td>1607    </td><td> 1.81   </td><td> 3      </td><td>  3     </td><td>141     </td><td>NA      </td><td>많음    </td><td>1852    </td></tr>\n",
       "\t<tr><td>양천서  </td><td> 3      </td><td> 5      </td><td> 6      </td><td> 3      </td><td>120     </td><td>105     </td><td>1890    </td><td>672     </td><td>2509    </td><td>2030    </td><td> 1.36   </td><td>-2      </td><td>  3     </td><td> 15     </td><td>NA      </td><td>적음    </td><td>2509    </td></tr>\n",
       "\t<tr><td>송파서  </td><td>11      </td><td>10      </td><td>13      </td><td>10      </td><td>220     </td><td>178     </td><td>3239    </td><td>1129    </td><td>3295    </td><td>2786    </td><td> 0.04   </td><td> 1      </td><td>  3     </td><td> 42     </td><td>NA      </td><td>많음    </td><td>3295    </td></tr>\n",
       "\t<tr><td>노원서  </td><td>10      </td><td>10      </td><td> 7      </td><td> 7      </td><td>197     </td><td>121     </td><td>2193    </td><td>801     </td><td>2723    </td><td>2329    </td><td> 1.16   </td><td> 0      </td><td>  0     </td><td> 76     </td><td>NA      </td><td>많음    </td><td>2723    </td></tr>\n",
       "\t<tr><td>방배서  </td><td> 1      </td><td> 2      </td><td> 1      </td><td> 1      </td><td> 59     </td><td> 56     </td><td>653     </td><td>186     </td><td>547     </td><td>491     </td><td> 0.14   </td><td>-1      </td><td>  0     </td><td>  3     </td><td>NA      </td><td>적음    </td><td> 547    </td></tr>\n",
       "\t<tr><td>은평서  </td><td> 1      </td><td> 1      </td><td> 7      </td><td> 5      </td><td> 96     </td><td> 82     </td><td>1095    </td><td>418     </td><td>1461    </td><td>1268    </td><td> 3.33   </td><td> 0      </td><td>  2     </td><td> 14     </td><td>NA      </td><td>적음    </td><td>1461    </td></tr>\n",
       "\t<tr><td>도봉서  </td><td> 3      </td><td> 3      </td><td> 9      </td><td>10      </td><td>102     </td><td>106     </td><td>1063    </td><td>478     </td><td>1487    </td><td>1303    </td><td>13.00   </td><td> 0      </td><td> -1     </td><td> -4     </td><td>NA      </td><td>적음    </td><td>1487    </td></tr>\n",
       "\t<tr><td>수서서  </td><td>10      </td><td> 7      </td><td> 6      </td><td> 6      </td><td>149     </td><td>124     </td><td>1439    </td><td>666     </td><td>1819    </td><td>1559    </td><td> 2.25   </td><td> 3      </td><td>  0     </td><td> 25     </td><td>NA      </td><td>많음    </td><td>1819    </td></tr>\n",
       "</tbody>\n",
       "</table>\n"
      ],
      "text/latex": [
       "\\begin{tabular}{r|llllllllllllllllll}\n",
       " 관서명 & 살인.발생 & 살인.검거 & 강도.발생 & 강도.검거 & 강간.발생 & 강간.검거 & 절도.발생 & 절도.검거 & 폭력.발생 & 폭력.검거 & 절도검거율 & 살인차이 & 강도차이 & 강간차이 & 절도차이 & 살인발생결과 & 살인폭력평균\\\\\n",
       "\\hline\n",
       "\t 중부서   &  2       &  2       &  3       &  2       & 105      &  65      & 1395     & 477      & 1355     & 1170     &  2.00    &  0       &   1      &  40      & NA       & 적음     & 1355    \\\\\n",
       "\t 종로서   &  3       &  3       &  6       &  5       & 115      &  98      & 1070     & 413      & 1278     & 1070     &  4.50    &  0       &   1      &  17      & NA       & 적음     & 1278    \\\\\n",
       "\t 남대문서 &  1       &  0       &  6       &  4       &  65      &  46      & 1153     & 382      & 869      & 794      &  1.40    &  1       &   2      &  19      & NA       & 적음     &  869    \\\\\n",
       "\t 서대문서 &  2       &  2       &  5       &  4       & 154      & 124      & 1812     & 738      & 2056     & 1711     &  1.67    &  0       &   1      &  30      & NA       & 적음     & 2056    \\\\\n",
       "\t 혜화서   &  3       &  2       &  5       &  4       &  96      &  63      & 1114     & 424      & 1015     & 861      &  2.75    &  1       &   1      &  33      & NA       & 적음     & 1015    \\\\\n",
       "\t 용산서   &  5       &  5       & 14       & 14       & 194      & 173      & 1557     & 587      & 2050     & 1704     &  1.56    &  0       &   0      &  21      & NA       & 보통     & 2050    \\\\\n",
       "\t 성북서   &  2       &  2       &  2       &  1       &  86      &  71      & 953      & 409      & 1194     & 1015     &  0.26    &  0       &   1      &  15      & NA       & 적음     & 1194    \\\\\n",
       "\t 동대문서 &  5       &  5       & 13       & 13       & 173      & 146      & 1981     & 814      & 2548     & 2227     &  1.60    &  0       &   0      &  27      & NA       & 보통     & 2548    \\\\\n",
       "\t 마포서   &  8       &  8       & 14       & 10       & 294      & 247      & 2555     & 813      & 2983     & 2519     &  1.00    &  0       &   4      &  47      & NA       & 많음     & 2983    \\\\\n",
       "\t 영등포서 & 14       & 12       & 22       & 20       & 295      & 183      & 2964     & 978      & 3572     & 2961     &  1.20    &  2       &   2      & 112      & NA       & 많음     & 3572    \\\\\n",
       "\t 성동서   &  4       &  4       &  9       &  8       & 126      & 119      & 1607     & 597      & 1612     & 1395     &  1.36    &  0       &   1      &   7      & NA       & 보통     & 1612    \\\\\n",
       "\t 동작서   &  5       &  5       &  9       &  5       & 285      & 139      & 1865     & 661      & 1910     & 1587     &  1.31    &  0       &   4      & 146      & NA       & 보통     & 1910    \\\\\n",
       "\t 광진서   &  4       &  4       & 14       & 26       & 240      & 220      & 3026     & 1277     & 2625     & 2180     &  0.12    &  0       & -12      &  20      & NA       & 보통     & 2625    \\\\\n",
       "\t 서부서   &  2       &  2       &  2       &  1       &  70      &  59      & 819      & 293      & 1192     & 1038     &  0.17    &  0       &   1      &  11      & NA       & 적음     & 1192    \\\\\n",
       "\t 강북서   &  7       &  8       & 14       & 13       & 153      & 126      & 1434     & 618      & 2649     & 2348     &  2.29    & -1       &   1      &  27      & NA       & 많음     & 2649    \\\\\n",
       "\t 금천서   &  3       &  4       &  6       &  6       & 151      & 122      & 1567     & 888      & 2054     & 1776     &  2.70    & -1       &   0      &  29      & NA       & 적음     & 2054    \\\\\n",
       "\t 중랑서   & 13       & 12       & 11       &  9       & 187      & 148      & 2135     & 829      & 2847     & 2407     &  1.44    &  1       &   2      &  39      & NA       & 많음     & 2847    \\\\\n",
       "\t 강남서   &  3       &  3       & 15       & 12       & 300      & 225      & 2411     & 984      & 2465     & 2146     &  1.41    &  0       &   3      &  75      & NA       & 적음     & 2465    \\\\\n",
       "\t 관악서   &  9       &  8       & 12       & 14       & 320      & 221      & 2706     & 827      & 3298     & 2642     &  1.04    &  1       &  -2      &  99      & NA       & 많음     & 3298    \\\\\n",
       "\t 강서서   &  7       &  8       & 13       & 13       & 262      & 191      & 2096     & 1260     & 3207     & 2718     &  0.12    & -1       &   0      &  71      & NA       & 많음     & 3207    \\\\\n",
       "\t 강동서   &  4       &  3       &  6       &  8       & 156      & 123      & 2366     & 789      & 2712     & 2248     &  1.00    &  1       &  -2      &  33      & NA       & 보통     & 2712    \\\\\n",
       "\t 종암서   &  3       &  3       &  3       &  3       &  64      &  53      & 832      & 332      & 1015     & 840      &  0.20    &  0       &   0      &  11      & NA       & 적음     & 1015    \\\\\n",
       "\t 구로서   &  8       &  6       & 15       & 11       & 281      & 164      & 2335     & 889      & 3007     & 2432     &  1.40    &  2       &   4      & 117      & NA       & 많음     & 3007    \\\\\n",
       "\t 서초서   &  7       &  4       &  8       &  5       & 334      & 193      & 1982     & 905      & 1852     & 1607     &  1.81    &  3       &   3      & 141      & NA       & 많음     & 1852    \\\\\n",
       "\t 양천서   &  3       &  5       &  6       &  3       & 120      & 105      & 1890     & 672      & 2509     & 2030     &  1.36    & -2       &   3      &  15      & NA       & 적음     & 2509    \\\\\n",
       "\t 송파서   & 11       & 10       & 13       & 10       & 220      & 178      & 3239     & 1129     & 3295     & 2786     &  0.04    &  1       &   3      &  42      & NA       & 많음     & 3295    \\\\\n",
       "\t 노원서   & 10       & 10       &  7       &  7       & 197      & 121      & 2193     & 801      & 2723     & 2329     &  1.16    &  0       &   0      &  76      & NA       & 많음     & 2723    \\\\\n",
       "\t 방배서   &  1       &  2       &  1       &  1       &  59      &  56      & 653      & 186      & 547      & 491      &  0.14    & -1       &   0      &   3      & NA       & 적음     &  547    \\\\\n",
       "\t 은평서   &  1       &  1       &  7       &  5       &  96      &  82      & 1095     & 418      & 1461     & 1268     &  3.33    &  0       &   2      &  14      & NA       & 적음     & 1461    \\\\\n",
       "\t 도봉서   &  3       &  3       &  9       & 10       & 102      & 106      & 1063     & 478      & 1487     & 1303     & 13.00    &  0       &  -1      &  -4      & NA       & 적음     & 1487    \\\\\n",
       "\t 수서서   & 10       &  7       &  6       &  6       & 149      & 124      & 1439     & 666      & 1819     & 1559     &  2.25    &  3       &   0      &  25      & NA       & 많음     & 1819    \\\\\n",
       "\\end{tabular}\n"
      ],
      "text/markdown": [
       "\n",
       "| 관서명 | 살인.발생 | 살인.검거 | 강도.발생 | 강도.검거 | 강간.발생 | 강간.검거 | 절도.발생 | 절도.검거 | 폭력.발생 | 폭력.검거 | 절도검거율 | 살인차이 | 강도차이 | 강간차이 | 절도차이 | 살인발생결과 | 살인폭력평균 |\n",
       "|---|---|---|---|---|---|---|---|---|---|---|---|---|---|---|---|---|---|\n",
       "| 중부서   |  2       |  2       |  3       |  2       | 105      |  65      | 1395     | 477      | 1355     | 1170     |  2.00    |  0       |   1      |  40      | NA       | 적음     | 1355     |\n",
       "| 종로서   |  3       |  3       |  6       |  5       | 115      |  98      | 1070     | 413      | 1278     | 1070     |  4.50    |  0       |   1      |  17      | NA       | 적음     | 1278     |\n",
       "| 남대문서 |  1       |  0       |  6       |  4       |  65      |  46      | 1153     | 382      | 869      | 794      |  1.40    |  1       |   2      |  19      | NA       | 적음     |  869     |\n",
       "| 서대문서 |  2       |  2       |  5       |  4       | 154      | 124      | 1812     | 738      | 2056     | 1711     |  1.67    |  0       |   1      |  30      | NA       | 적음     | 2056     |\n",
       "| 혜화서   |  3       |  2       |  5       |  4       |  96      |  63      | 1114     | 424      | 1015     | 861      |  2.75    |  1       |   1      |  33      | NA       | 적음     | 1015     |\n",
       "| 용산서   |  5       |  5       | 14       | 14       | 194      | 173      | 1557     | 587      | 2050     | 1704     |  1.56    |  0       |   0      |  21      | NA       | 보통     | 2050     |\n",
       "| 성북서   |  2       |  2       |  2       |  1       |  86      |  71      | 953      | 409      | 1194     | 1015     |  0.26    |  0       |   1      |  15      | NA       | 적음     | 1194     |\n",
       "| 동대문서 |  5       |  5       | 13       | 13       | 173      | 146      | 1981     | 814      | 2548     | 2227     |  1.60    |  0       |   0      |  27      | NA       | 보통     | 2548     |\n",
       "| 마포서   |  8       |  8       | 14       | 10       | 294      | 247      | 2555     | 813      | 2983     | 2519     |  1.00    |  0       |   4      |  47      | NA       | 많음     | 2983     |\n",
       "| 영등포서 | 14       | 12       | 22       | 20       | 295      | 183      | 2964     | 978      | 3572     | 2961     |  1.20    |  2       |   2      | 112      | NA       | 많음     | 3572     |\n",
       "| 성동서   |  4       |  4       |  9       |  8       | 126      | 119      | 1607     | 597      | 1612     | 1395     |  1.36    |  0       |   1      |   7      | NA       | 보통     | 1612     |\n",
       "| 동작서   |  5       |  5       |  9       |  5       | 285      | 139      | 1865     | 661      | 1910     | 1587     |  1.31    |  0       |   4      | 146      | NA       | 보통     | 1910     |\n",
       "| 광진서   |  4       |  4       | 14       | 26       | 240      | 220      | 3026     | 1277     | 2625     | 2180     |  0.12    |  0       | -12      |  20      | NA       | 보통     | 2625     |\n",
       "| 서부서   |  2       |  2       |  2       |  1       |  70      |  59      | 819      | 293      | 1192     | 1038     |  0.17    |  0       |   1      |  11      | NA       | 적음     | 1192     |\n",
       "| 강북서   |  7       |  8       | 14       | 13       | 153      | 126      | 1434     | 618      | 2649     | 2348     |  2.29    | -1       |   1      |  27      | NA       | 많음     | 2649     |\n",
       "| 금천서   |  3       |  4       |  6       |  6       | 151      | 122      | 1567     | 888      | 2054     | 1776     |  2.70    | -1       |   0      |  29      | NA       | 적음     | 2054     |\n",
       "| 중랑서   | 13       | 12       | 11       |  9       | 187      | 148      | 2135     | 829      | 2847     | 2407     |  1.44    |  1       |   2      |  39      | NA       | 많음     | 2847     |\n",
       "| 강남서   |  3       |  3       | 15       | 12       | 300      | 225      | 2411     | 984      | 2465     | 2146     |  1.41    |  0       |   3      |  75      | NA       | 적음     | 2465     |\n",
       "| 관악서   |  9       |  8       | 12       | 14       | 320      | 221      | 2706     | 827      | 3298     | 2642     |  1.04    |  1       |  -2      |  99      | NA       | 많음     | 3298     |\n",
       "| 강서서   |  7       |  8       | 13       | 13       | 262      | 191      | 2096     | 1260     | 3207     | 2718     |  0.12    | -1       |   0      |  71      | NA       | 많음     | 3207     |\n",
       "| 강동서   |  4       |  3       |  6       |  8       | 156      | 123      | 2366     | 789      | 2712     | 2248     |  1.00    |  1       |  -2      |  33      | NA       | 보통     | 2712     |\n",
       "| 종암서   |  3       |  3       |  3       |  3       |  64      |  53      | 832      | 332      | 1015     | 840      |  0.20    |  0       |   0      |  11      | NA       | 적음     | 1015     |\n",
       "| 구로서   |  8       |  6       | 15       | 11       | 281      | 164      | 2335     | 889      | 3007     | 2432     |  1.40    |  2       |   4      | 117      | NA       | 많음     | 3007     |\n",
       "| 서초서   |  7       |  4       |  8       |  5       | 334      | 193      | 1982     | 905      | 1852     | 1607     |  1.81    |  3       |   3      | 141      | NA       | 많음     | 1852     |\n",
       "| 양천서   |  3       |  5       |  6       |  3       | 120      | 105      | 1890     | 672      | 2509     | 2030     |  1.36    | -2       |   3      |  15      | NA       | 적음     | 2509     |\n",
       "| 송파서   | 11       | 10       | 13       | 10       | 220      | 178      | 3239     | 1129     | 3295     | 2786     |  0.04    |  1       |   3      |  42      | NA       | 많음     | 3295     |\n",
       "| 노원서   | 10       | 10       |  7       |  7       | 197      | 121      | 2193     | 801      | 2723     | 2329     |  1.16    |  0       |   0      |  76      | NA       | 많음     | 2723     |\n",
       "| 방배서   |  1       |  2       |  1       |  1       |  59      |  56      | 653      | 186      | 547      | 491      |  0.14    | -1       |   0      |   3      | NA       | 적음     |  547     |\n",
       "| 은평서   |  1       |  1       |  7       |  5       |  96      |  82      | 1095     | 418      | 1461     | 1268     |  3.33    |  0       |   2      |  14      | NA       | 적음     | 1461     |\n",
       "| 도봉서   |  3       |  3       |  9       | 10       | 102      | 106      | 1063     | 478      | 1487     | 1303     | 13.00    |  0       |  -1      |  -4      | NA       | 적음     | 1487     |\n",
       "| 수서서   | 10       |  7       |  6       |  6       | 149      | 124      | 1439     | 666      | 1819     | 1559     |  2.25    |  3       |   0      |  25      | NA       | 많음     | 1819     |\n",
       "\n"
      ],
      "text/plain": [
       "   관서명   살인.발생 살인.검거 강도.발생 강도.검거 강간.발생 강간.검거\n",
       "1  중부서    2         2         3         2        105        65      \n",
       "2  종로서    3         3         6         5        115        98      \n",
       "3  남대문서  1         0         6         4         65        46      \n",
       "4  서대문서  2         2         5         4        154       124      \n",
       "5  혜화서    3         2         5         4         96        63      \n",
       "6  용산서    5         5        14        14        194       173      \n",
       "7  성북서    2         2         2         1         86        71      \n",
       "8  동대문서  5         5        13        13        173       146      \n",
       "9  마포서    8         8        14        10        294       247      \n",
       "10 영등포서 14        12        22        20        295       183      \n",
       "11 성동서    4         4         9         8        126       119      \n",
       "12 동작서    5         5         9         5        285       139      \n",
       "13 광진서    4         4        14        26        240       220      \n",
       "14 서부서    2         2         2         1         70        59      \n",
       "15 강북서    7         8        14        13        153       126      \n",
       "16 금천서    3         4         6         6        151       122      \n",
       "17 중랑서   13        12        11         9        187       148      \n",
       "18 강남서    3         3        15        12        300       225      \n",
       "19 관악서    9         8        12        14        320       221      \n",
       "20 강서서    7         8        13        13        262       191      \n",
       "21 강동서    4         3         6         8        156       123      \n",
       "22 종암서    3         3         3         3         64        53      \n",
       "23 구로서    8         6        15        11        281       164      \n",
       "24 서초서    7         4         8         5        334       193      \n",
       "25 양천서    3         5         6         3        120       105      \n",
       "26 송파서   11        10        13        10        220       178      \n",
       "27 노원서   10        10         7         7        197       121      \n",
       "28 방배서    1         2         1         1         59        56      \n",
       "29 은평서    1         1         7         5         96        82      \n",
       "30 도봉서    3         3         9        10        102       106      \n",
       "31 수서서   10         7         6         6        149       124      \n",
       "   절도.발생 절도.검거 폭력.발생 폭력.검거 절도검거율 살인차이 강도차이\n",
       "1  1395      477       1355      1170       2.00       0         1     \n",
       "2  1070      413       1278      1070       4.50       0         1     \n",
       "3  1153      382       869       794        1.40       1         2     \n",
       "4  1812      738       2056      1711       1.67       0         1     \n",
       "5  1114      424       1015      861        2.75       1         1     \n",
       "6  1557      587       2050      1704       1.56       0         0     \n",
       "7  953       409       1194      1015       0.26       0         1     \n",
       "8  1981      814       2548      2227       1.60       0         0     \n",
       "9  2555      813       2983      2519       1.00       0         4     \n",
       "10 2964      978       3572      2961       1.20       2         2     \n",
       "11 1607      597       1612      1395       1.36       0         1     \n",
       "12 1865      661       1910      1587       1.31       0         4     \n",
       "13 3026      1277      2625      2180       0.12       0       -12     \n",
       "14 819       293       1192      1038       0.17       0         1     \n",
       "15 1434      618       2649      2348       2.29      -1         1     \n",
       "16 1567      888       2054      1776       2.70      -1         0     \n",
       "17 2135      829       2847      2407       1.44       1         2     \n",
       "18 2411      984       2465      2146       1.41       0         3     \n",
       "19 2706      827       3298      2642       1.04       1        -2     \n",
       "20 2096      1260      3207      2718       0.12      -1         0     \n",
       "21 2366      789       2712      2248       1.00       1        -2     \n",
       "22 832       332       1015      840        0.20       0         0     \n",
       "23 2335      889       3007      2432       1.40       2         4     \n",
       "24 1982      905       1852      1607       1.81       3         3     \n",
       "25 1890      672       2509      2030       1.36      -2         3     \n",
       "26 3239      1129      3295      2786       0.04       1         3     \n",
       "27 2193      801       2723      2329       1.16       0         0     \n",
       "28 653       186       547       491        0.14      -1         0     \n",
       "29 1095      418       1461      1268       3.33       0         2     \n",
       "30 1063      478       1487      1303      13.00       0        -1     \n",
       "31 1439      666       1819      1559       2.25       3         0     \n",
       "   강간차이 절도차이 살인발생결과 살인폭력평균\n",
       "1   40      NA       적음         1355        \n",
       "2   17      NA       적음         1278        \n",
       "3   19      NA       적음          869        \n",
       "4   30      NA       적음         2056        \n",
       "5   33      NA       적음         1015        \n",
       "6   21      NA       보통         2050        \n",
       "7   15      NA       적음         1194        \n",
       "8   27      NA       보통         2548        \n",
       "9   47      NA       많음         2983        \n",
       "10 112      NA       많음         3572        \n",
       "11   7      NA       보통         1612        \n",
       "12 146      NA       보통         1910        \n",
       "13  20      NA       보통         2625        \n",
       "14  11      NA       적음         1192        \n",
       "15  27      NA       많음         2649        \n",
       "16  29      NA       적음         2054        \n",
       "17  39      NA       많음         2847        \n",
       "18  75      NA       적음         2465        \n",
       "19  99      NA       많음         3298        \n",
       "20  71      NA       많음         3207        \n",
       "21  33      NA       보통         2712        \n",
       "22  11      NA       적음         1015        \n",
       "23 117      NA       많음         3007        \n",
       "24 141      NA       많음         1852        \n",
       "25  15      NA       적음         2509        \n",
       "26  42      NA       많음         3295        \n",
       "27  76      NA       많음         2723        \n",
       "28   3      NA       적음          547        \n",
       "29  14      NA       적음         1461        \n",
       "30  -4      NA       적음         1487        \n",
       "31  25      NA       많음         1819        "
      ]
     },
     "metadata": {},
     "output_type": "display_data"
    }
   ],
   "source": [
    "# 6. 살인 발생과 폭력 발생의 평균(살인평균폭격)순으로 정렬 하시요. 관서명 살인폭력 평균\n",
    "data['살인폭력평균'] = 0\n",
    "for (i in 1:nrow(data)){\n",
    "     data$'살인폭력평균'[i] = (as.numeric(data$'살인.발생'[i]) + as.numeric(data$'폭력.발생'[i])) / 2\n",
    "}\n",
    "data"
   ]
  },
  {
   "cell_type": "code",
   "execution_count": 435,
   "id": "eff0c709",
   "metadata": {
    "scrolled": true
   },
   "outputs": [
    {
     "data": {
      "text/html": [
       "<table>\n",
       "<thead><tr><th></th><th scope=col>관서명</th><th scope=col>살인폭력평균</th></tr></thead>\n",
       "<tbody>\n",
       "\t<tr><th scope=row>28</th><td>방배서  </td><td> 547    </td></tr>\n",
       "\t<tr><th scope=row>3</th><td>남대문서</td><td> 869    </td></tr>\n",
       "\t<tr><th scope=row>5</th><td>혜화서  </td><td>1015    </td></tr>\n",
       "\t<tr><th scope=row>22</th><td>종암서  </td><td>1015    </td></tr>\n",
       "\t<tr><th scope=row>14</th><td>서부서  </td><td>1192    </td></tr>\n",
       "\t<tr><th scope=row>7</th><td>성북서  </td><td>1194    </td></tr>\n",
       "\t<tr><th scope=row>2</th><td>종로서  </td><td>1278    </td></tr>\n",
       "\t<tr><th scope=row>1</th><td>중부서  </td><td>1355    </td></tr>\n",
       "\t<tr><th scope=row>29</th><td>은평서  </td><td>1461    </td></tr>\n",
       "\t<tr><th scope=row>30</th><td>도봉서  </td><td>1487    </td></tr>\n",
       "\t<tr><th scope=row>11</th><td>성동서  </td><td>1612    </td></tr>\n",
       "\t<tr><th scope=row>31</th><td>수서서  </td><td>1819    </td></tr>\n",
       "\t<tr><th scope=row>24</th><td>서초서  </td><td>1852    </td></tr>\n",
       "\t<tr><th scope=row>12</th><td>동작서  </td><td>1910    </td></tr>\n",
       "\t<tr><th scope=row>6</th><td>용산서  </td><td>2050    </td></tr>\n",
       "\t<tr><th scope=row>16</th><td>금천서  </td><td>2054    </td></tr>\n",
       "\t<tr><th scope=row>4</th><td>서대문서</td><td>2056    </td></tr>\n",
       "\t<tr><th scope=row>18</th><td>강남서  </td><td>2465    </td></tr>\n",
       "\t<tr><th scope=row>25</th><td>양천서  </td><td>2509    </td></tr>\n",
       "\t<tr><th scope=row>8</th><td>동대문서</td><td>2548    </td></tr>\n",
       "\t<tr><th scope=row>13</th><td>광진서  </td><td>2625    </td></tr>\n",
       "\t<tr><th scope=row>15</th><td>강북서  </td><td>2649    </td></tr>\n",
       "\t<tr><th scope=row>21</th><td>강동서  </td><td>2712    </td></tr>\n",
       "\t<tr><th scope=row>27</th><td>노원서  </td><td>2723    </td></tr>\n",
       "\t<tr><th scope=row>17</th><td>중랑서  </td><td>2847    </td></tr>\n",
       "\t<tr><th scope=row>9</th><td>마포서  </td><td>2983    </td></tr>\n",
       "\t<tr><th scope=row>23</th><td>구로서  </td><td>3007    </td></tr>\n",
       "\t<tr><th scope=row>20</th><td>강서서  </td><td>3207    </td></tr>\n",
       "\t<tr><th scope=row>26</th><td>송파서  </td><td>3295    </td></tr>\n",
       "\t<tr><th scope=row>19</th><td>관악서  </td><td>3298    </td></tr>\n",
       "\t<tr><th scope=row>10</th><td>영등포서</td><td>3572    </td></tr>\n",
       "</tbody>\n",
       "</table>\n"
      ],
      "text/latex": [
       "\\begin{tabular}{r|ll}\n",
       "  & 관서명 & 살인폭력평균\\\\\n",
       "\\hline\n",
       "\t28 & 방배서   &  547    \\\\\n",
       "\t3 & 남대문서 &  869    \\\\\n",
       "\t5 & 혜화서   & 1015    \\\\\n",
       "\t22 & 종암서   & 1015    \\\\\n",
       "\t14 & 서부서   & 1192    \\\\\n",
       "\t7 & 성북서   & 1194    \\\\\n",
       "\t2 & 종로서   & 1278    \\\\\n",
       "\t1 & 중부서   & 1355    \\\\\n",
       "\t29 & 은평서   & 1461    \\\\\n",
       "\t30 & 도봉서   & 1487    \\\\\n",
       "\t11 & 성동서   & 1612    \\\\\n",
       "\t31 & 수서서   & 1819    \\\\\n",
       "\t24 & 서초서   & 1852    \\\\\n",
       "\t12 & 동작서   & 1910    \\\\\n",
       "\t6 & 용산서   & 2050    \\\\\n",
       "\t16 & 금천서   & 2054    \\\\\n",
       "\t4 & 서대문서 & 2056    \\\\\n",
       "\t18 & 강남서   & 2465    \\\\\n",
       "\t25 & 양천서   & 2509    \\\\\n",
       "\t8 & 동대문서 & 2548    \\\\\n",
       "\t13 & 광진서   & 2625    \\\\\n",
       "\t15 & 강북서   & 2649    \\\\\n",
       "\t21 & 강동서   & 2712    \\\\\n",
       "\t27 & 노원서   & 2723    \\\\\n",
       "\t17 & 중랑서   & 2847    \\\\\n",
       "\t9 & 마포서   & 2983    \\\\\n",
       "\t23 & 구로서   & 3007    \\\\\n",
       "\t20 & 강서서   & 3207    \\\\\n",
       "\t26 & 송파서   & 3295    \\\\\n",
       "\t19 & 관악서   & 3298    \\\\\n",
       "\t10 & 영등포서 & 3572    \\\\\n",
       "\\end{tabular}\n"
      ],
      "text/markdown": [
       "\n",
       "| <!--/--> | 관서명 | 살인폭력평균 |\n",
       "|---|---|---|\n",
       "| 28 | 방배서   |  547     |\n",
       "| 3 | 남대문서 |  869     |\n",
       "| 5 | 혜화서   | 1015     |\n",
       "| 22 | 종암서   | 1015     |\n",
       "| 14 | 서부서   | 1192     |\n",
       "| 7 | 성북서   | 1194     |\n",
       "| 2 | 종로서   | 1278     |\n",
       "| 1 | 중부서   | 1355     |\n",
       "| 29 | 은평서   | 1461     |\n",
       "| 30 | 도봉서   | 1487     |\n",
       "| 11 | 성동서   | 1612     |\n",
       "| 31 | 수서서   | 1819     |\n",
       "| 24 | 서초서   | 1852     |\n",
       "| 12 | 동작서   | 1910     |\n",
       "| 6 | 용산서   | 2050     |\n",
       "| 16 | 금천서   | 2054     |\n",
       "| 4 | 서대문서 | 2056     |\n",
       "| 18 | 강남서   | 2465     |\n",
       "| 25 | 양천서   | 2509     |\n",
       "| 8 | 동대문서 | 2548     |\n",
       "| 13 | 광진서   | 2625     |\n",
       "| 15 | 강북서   | 2649     |\n",
       "| 21 | 강동서   | 2712     |\n",
       "| 27 | 노원서   | 2723     |\n",
       "| 17 | 중랑서   | 2847     |\n",
       "| 9 | 마포서   | 2983     |\n",
       "| 23 | 구로서   | 3007     |\n",
       "| 20 | 강서서   | 3207     |\n",
       "| 26 | 송파서   | 3295     |\n",
       "| 19 | 관악서   | 3298     |\n",
       "| 10 | 영등포서 | 3572     |\n",
       "\n"
      ],
      "text/plain": [
       "   관서명   살인폭력평균\n",
       "28 방배서    547        \n",
       "3  남대문서  869        \n",
       "5  혜화서   1015        \n",
       "22 종암서   1015        \n",
       "14 서부서   1192        \n",
       "7  성북서   1194        \n",
       "2  종로서   1278        \n",
       "1  중부서   1355        \n",
       "29 은평서   1461        \n",
       "30 도봉서   1487        \n",
       "11 성동서   1612        \n",
       "31 수서서   1819        \n",
       "24 서초서   1852        \n",
       "12 동작서   1910        \n",
       "6  용산서   2050        \n",
       "16 금천서   2054        \n",
       "4  서대문서 2056        \n",
       "18 강남서   2465        \n",
       "25 양천서   2509        \n",
       "8  동대문서 2548        \n",
       "13 광진서   2625        \n",
       "15 강북서   2649        \n",
       "21 강동서   2712        \n",
       "27 노원서   2723        \n",
       "17 중랑서   2847        \n",
       "9  마포서   2983        \n",
       "23 구로서   3007        \n",
       "20 강서서   3207        \n",
       "26 송파서   3295        \n",
       "19 관악서   3298        \n",
       "10 영등포서 3572        "
      ]
     },
     "metadata": {},
     "output_type": "display_data"
    }
   ],
   "source": [
    "data[order(data$살인폭력평균),c('관서명','살인폭력평균')]"
   ]
  },
  {
   "cell_type": "code",
   "execution_count": 248,
   "id": "03c2f80e",
   "metadata": {},
   "outputs": [
    {
     "data": {
      "text/html": [
       "<table>\n",
       "<thead><tr><th></th><th scope=col>관서명</th><th scope=col>살인차이</th></tr></thead>\n",
       "<tbody>\n",
       "\t<tr><th scope=row>24</th><td>서초서</td><td>3     </td></tr>\n",
       "\t<tr><th scope=row>31</th><td>수서서</td><td>3     </td></tr>\n",
       "</tbody>\n",
       "</table>\n"
      ],
      "text/latex": [
       "\\begin{tabular}{r|ll}\n",
       "  & 관서명 & 살인차이\\\\\n",
       "\\hline\n",
       "\t24 & 서초서 & 3     \\\\\n",
       "\t31 & 수서서 & 3     \\\\\n",
       "\\end{tabular}\n"
      ],
      "text/markdown": [
       "\n",
       "| <!--/--> | 관서명 | 살인차이 |\n",
       "|---|---|---|\n",
       "| 24 | 서초서 | 3      |\n",
       "| 31 | 수서서 | 3      |\n",
       "\n"
      ],
      "text/plain": [
       "   관서명 살인차이\n",
       "24 서초서 3       \n",
       "31 수서서 3       "
      ]
     },
     "metadata": {},
     "output_type": "display_data"
    }
   ],
   "source": [
    "# 7. 모든컬럼 발생과 검거의 차이가 가장높은 관서명과 수를 구하시요\n",
    "data['살인차이'] = as.matrix(data['살인.발생']) - as.matrix(data['살인.검거'])\n",
    "data[data['살인차이'] == max(data['살인차이']),c('관서명','살인차이')]"
   ]
  },
  {
   "cell_type": "code",
   "execution_count": 249,
   "id": "954ec8c0",
   "metadata": {},
   "outputs": [
    {
     "data": {
      "text/html": [
       "<table>\n",
       "<thead><tr><th></th><th scope=col>관서명</th><th scope=col>강도차이</th></tr></thead>\n",
       "<tbody>\n",
       "\t<tr><th scope=row>9</th><td>마포서</td><td>4     </td></tr>\n",
       "\t<tr><th scope=row>12</th><td>동작서</td><td>4     </td></tr>\n",
       "\t<tr><th scope=row>23</th><td>구로서</td><td>4     </td></tr>\n",
       "</tbody>\n",
       "</table>\n"
      ],
      "text/latex": [
       "\\begin{tabular}{r|ll}\n",
       "  & 관서명 & 강도차이\\\\\n",
       "\\hline\n",
       "\t9 & 마포서 & 4     \\\\\n",
       "\t12 & 동작서 & 4     \\\\\n",
       "\t23 & 구로서 & 4     \\\\\n",
       "\\end{tabular}\n"
      ],
      "text/markdown": [
       "\n",
       "| <!--/--> | 관서명 | 강도차이 |\n",
       "|---|---|---|\n",
       "| 9 | 마포서 | 4      |\n",
       "| 12 | 동작서 | 4      |\n",
       "| 23 | 구로서 | 4      |\n",
       "\n"
      ],
      "text/plain": [
       "   관서명 강도차이\n",
       "9  마포서 4       \n",
       "12 동작서 4       \n",
       "23 구로서 4       "
      ]
     },
     "metadata": {},
     "output_type": "display_data"
    }
   ],
   "source": [
    "data['강도차이'] = as.matrix(data['강도.발생']) - as.matrix(data['강도.검거'])\n",
    "data[data['강도차이'] == max(data['강도차이']),c('관서명','강도차이')]"
   ]
  },
  {
   "cell_type": "code",
   "execution_count": 250,
   "id": "ec95fedd",
   "metadata": {},
   "outputs": [
    {
     "data": {
      "text/html": [
       "<table>\n",
       "<thead><tr><th></th><th scope=col>관서명</th><th scope=col>강간차이</th></tr></thead>\n",
       "<tbody>\n",
       "\t<tr><th scope=row>12</th><td>동작서</td><td>146   </td></tr>\n",
       "</tbody>\n",
       "</table>\n"
      ],
      "text/latex": [
       "\\begin{tabular}{r|ll}\n",
       "  & 관서명 & 강간차이\\\\\n",
       "\\hline\n",
       "\t12 & 동작서 & 146   \\\\\n",
       "\\end{tabular}\n"
      ],
      "text/markdown": [
       "\n",
       "| <!--/--> | 관서명 | 강간차이 |\n",
       "|---|---|---|\n",
       "| 12 | 동작서 | 146    |\n",
       "\n"
      ],
      "text/plain": [
       "   관서명 강간차이\n",
       "12 동작서 146     "
      ]
     },
     "metadata": {},
     "output_type": "display_data"
    }
   ],
   "source": [
    "data['강간차이'] = as.matrix(data['강간.발생']) - as.matrix(data['강간.검거'])\n",
    "data[data['강간차이'] == max(data['강간차이']),c('관서명','강간차이')]"
   ]
  },
  {
   "cell_type": "code",
   "execution_count": 445,
   "id": "ab8ff988",
   "metadata": {},
   "outputs": [
    {
     "ename": "ERROR",
     "evalue": "Error in as.matrix(data[\"절도.발생\"]) - as.matrix(data[\"절도.검거\"]): 이항연산자에 수치가 아닌 인수입니다\n",
     "output_type": "error",
     "traceback": [
      "Error in as.matrix(data[\"절도.발생\"]) - as.matrix(data[\"절도.검거\"]): 이항연산자에 수치가 아닌 인수입니다\nTraceback:\n"
     ]
    }
   ],
   "source": [
    "data['절도차이'] = as.matrix(data['절도.발생']) - as.matrix(data['절도.검거'])\n",
    "data[data['절도차이'] == max(data['절도차이']),c('관서명','절도차이')]"
   ]
  },
  {
   "cell_type": "code",
   "execution_count": 432,
   "id": "ecb46c77",
   "metadata": {},
   "outputs": [
    {
     "ename": "ERROR",
     "evalue": "Error in as.matrix(data[\"폭력.발생\"]) - as.matrix(data[\"폭력.검거\"]): 이항연산자에 수치가 아닌 인수입니다\n",
     "output_type": "error",
     "traceback": [
      "Error in as.matrix(data[\"폭력.발생\"]) - as.matrix(data[\"폭력.검거\"]): 이항연산자에 수치가 아닌 인수입니다\nTraceback:\n"
     ]
    }
   ],
   "source": [
    "data['폭력차이'] = as.matrix(data['폭력.발생']) - as.matrix(data['폭력.검거'])\n",
    "data[data['폭력차이'] == max(data['폭력차이']),c('관서명','폭력차이')]"
   ]
  },
  {
   "cell_type": "code",
   "execution_count": 464,
   "id": "537fbeab",
   "metadata": {
    "scrolled": true
   },
   "outputs": [
    {
     "data": {
      "text/html": [
       "<table>\n",
       "<thead><tr><th scope=col>관서명</th><th scope=col>살인.검거</th><th scope=col>강도.검거</th><th scope=col>강간.검거</th><th scope=col>절도.검거</th><th scope=col>폭력.검거</th><th scope=col>살인차이</th><th scope=col>강간차이</th><th scope=col>살인발생결과</th></tr></thead>\n",
       "<tbody>\n",
       "\t<tr><td>중부서  </td><td> 2      </td><td> 2      </td><td> 65     </td><td>477     </td><td>1170    </td><td> 0      </td><td> 40     </td><td>적음    </td></tr>\n",
       "\t<tr><td>종로서  </td><td> 3      </td><td> 5      </td><td> 98     </td><td>413     </td><td>1070    </td><td> 0      </td><td> 17     </td><td>적음    </td></tr>\n",
       "\t<tr><td>남대문서</td><td> 0      </td><td> 4      </td><td> 46     </td><td>382     </td><td>794     </td><td> 1      </td><td> 19     </td><td>적음    </td></tr>\n",
       "\t<tr><td>서대문서</td><td> 2      </td><td> 4      </td><td>124     </td><td>738     </td><td>1711    </td><td> 0      </td><td> 30     </td><td>적음    </td></tr>\n",
       "\t<tr><td>혜화서  </td><td> 2      </td><td> 4      </td><td> 63     </td><td>424     </td><td>861     </td><td> 1      </td><td> 33     </td><td>적음    </td></tr>\n",
       "\t<tr><td>용산서  </td><td> 5      </td><td>14      </td><td>173     </td><td>587     </td><td>1704    </td><td> 0      </td><td> 21     </td><td>보통    </td></tr>\n",
       "\t<tr><td>성북서  </td><td> 2      </td><td> 1      </td><td> 71     </td><td>409     </td><td>1015    </td><td> 0      </td><td> 15     </td><td>적음    </td></tr>\n",
       "\t<tr><td>동대문서</td><td> 5      </td><td>13      </td><td>146     </td><td>814     </td><td>2227    </td><td> 0      </td><td> 27     </td><td>보통    </td></tr>\n",
       "\t<tr><td>마포서  </td><td> 8      </td><td>10      </td><td>247     </td><td>813     </td><td>2519    </td><td> 0      </td><td> 47     </td><td>많음    </td></tr>\n",
       "\t<tr><td>영등포서</td><td>12      </td><td>20      </td><td>183     </td><td>978     </td><td>2961    </td><td> 2      </td><td>112     </td><td>많음    </td></tr>\n",
       "\t<tr><td>성동서  </td><td> 4      </td><td> 8      </td><td>119     </td><td>597     </td><td>1395    </td><td> 0      </td><td>  7     </td><td>보통    </td></tr>\n",
       "\t<tr><td>동작서  </td><td> 5      </td><td> 5      </td><td>139     </td><td>661     </td><td>1587    </td><td> 0      </td><td>146     </td><td>보통    </td></tr>\n",
       "\t<tr><td>광진서  </td><td> 4      </td><td>26      </td><td>220     </td><td>1277    </td><td>2180    </td><td> 0      </td><td> 20     </td><td>보통    </td></tr>\n",
       "\t<tr><td>서부서  </td><td> 2      </td><td> 1      </td><td> 59     </td><td>293     </td><td>1038    </td><td> 0      </td><td> 11     </td><td>적음    </td></tr>\n",
       "\t<tr><td>강북서  </td><td> 8      </td><td>13      </td><td>126     </td><td>618     </td><td>2348    </td><td>-1      </td><td> 27     </td><td>많음    </td></tr>\n",
       "\t<tr><td>금천서  </td><td> 4      </td><td> 6      </td><td>122     </td><td>888     </td><td>1776    </td><td>-1      </td><td> 29     </td><td>적음    </td></tr>\n",
       "\t<tr><td>중랑서  </td><td>12      </td><td> 9      </td><td>148     </td><td>829     </td><td>2407    </td><td> 1      </td><td> 39     </td><td>많음    </td></tr>\n",
       "\t<tr><td>강남서  </td><td> 3      </td><td>12      </td><td>225     </td><td>984     </td><td>2146    </td><td> 0      </td><td> 75     </td><td>적음    </td></tr>\n",
       "\t<tr><td>관악서  </td><td> 8      </td><td>14      </td><td>221     </td><td>827     </td><td>2642    </td><td> 1      </td><td> 99     </td><td>많음    </td></tr>\n",
       "\t<tr><td>강서서  </td><td> 8      </td><td>13      </td><td>191     </td><td>1260    </td><td>2718    </td><td>-1      </td><td> 71     </td><td>많음    </td></tr>\n",
       "\t<tr><td>강동서  </td><td> 3      </td><td> 8      </td><td>123     </td><td>789     </td><td>2248    </td><td> 1      </td><td> 33     </td><td>보통    </td></tr>\n",
       "\t<tr><td>종암서  </td><td> 3      </td><td> 3      </td><td> 53     </td><td>332     </td><td>840     </td><td> 0      </td><td> 11     </td><td>적음    </td></tr>\n",
       "\t<tr><td>구로서  </td><td> 6      </td><td>11      </td><td>164     </td><td>889     </td><td>2432    </td><td> 2      </td><td>117     </td><td>많음    </td></tr>\n",
       "\t<tr><td>서초서  </td><td> 4      </td><td> 5      </td><td>193     </td><td>905     </td><td>1607    </td><td> 3      </td><td>141     </td><td>많음    </td></tr>\n",
       "\t<tr><td>양천서  </td><td> 5      </td><td> 3      </td><td>105     </td><td>672     </td><td>2030    </td><td>-2      </td><td> 15     </td><td>적음    </td></tr>\n",
       "\t<tr><td>송파서  </td><td>10      </td><td>10      </td><td>178     </td><td>1129    </td><td>2786    </td><td> 1      </td><td> 42     </td><td>많음    </td></tr>\n",
       "\t<tr><td>노원서  </td><td>10      </td><td> 7      </td><td>121     </td><td>801     </td><td>2329    </td><td> 0      </td><td> 76     </td><td>많음    </td></tr>\n",
       "\t<tr><td>방배서  </td><td> 2      </td><td> 1      </td><td> 56     </td><td>186     </td><td>491     </td><td>-1      </td><td>  3     </td><td>적음    </td></tr>\n",
       "\t<tr><td>은평서  </td><td> 1      </td><td> 5      </td><td> 82     </td><td>418     </td><td>1268    </td><td> 0      </td><td> 14     </td><td>적음    </td></tr>\n",
       "\t<tr><td>도봉서  </td><td> 3      </td><td>10      </td><td>106     </td><td>478     </td><td>1303    </td><td> 0      </td><td> -4     </td><td>적음    </td></tr>\n",
       "\t<tr><td>수서서  </td><td> 7      </td><td> 6      </td><td>124     </td><td>666     </td><td>1559    </td><td> 3      </td><td> 25     </td><td>많음    </td></tr>\n",
       "</tbody>\n",
       "</table>\n"
      ],
      "text/latex": [
       "\\begin{tabular}{r|lllllllll}\n",
       " 관서명 & 살인.검거 & 강도.검거 & 강간.검거 & 절도.검거 & 폭력.검거 & 살인차이 & 강간차이 & 살인발생결과\\\\\n",
       "\\hline\n",
       "\t 중부서   &  2       &  2       &  65      & 477      & 1170     &  0       &  40      & 적음    \\\\\n",
       "\t 종로서   &  3       &  5       &  98      & 413      & 1070     &  0       &  17      & 적음    \\\\\n",
       "\t 남대문서 &  0       &  4       &  46      & 382      & 794      &  1       &  19      & 적음    \\\\\n",
       "\t 서대문서 &  2       &  4       & 124      & 738      & 1711     &  0       &  30      & 적음    \\\\\n",
       "\t 혜화서   &  2       &  4       &  63      & 424      & 861      &  1       &  33      & 적음    \\\\\n",
       "\t 용산서   &  5       & 14       & 173      & 587      & 1704     &  0       &  21      & 보통    \\\\\n",
       "\t 성북서   &  2       &  1       &  71      & 409      & 1015     &  0       &  15      & 적음    \\\\\n",
       "\t 동대문서 &  5       & 13       & 146      & 814      & 2227     &  0       &  27      & 보통    \\\\\n",
       "\t 마포서   &  8       & 10       & 247      & 813      & 2519     &  0       &  47      & 많음    \\\\\n",
       "\t 영등포서 & 12       & 20       & 183      & 978      & 2961     &  2       & 112      & 많음    \\\\\n",
       "\t 성동서   &  4       &  8       & 119      & 597      & 1395     &  0       &   7      & 보통    \\\\\n",
       "\t 동작서   &  5       &  5       & 139      & 661      & 1587     &  0       & 146      & 보통    \\\\\n",
       "\t 광진서   &  4       & 26       & 220      & 1277     & 2180     &  0       &  20      & 보통    \\\\\n",
       "\t 서부서   &  2       &  1       &  59      & 293      & 1038     &  0       &  11      & 적음    \\\\\n",
       "\t 강북서   &  8       & 13       & 126      & 618      & 2348     & -1       &  27      & 많음    \\\\\n",
       "\t 금천서   &  4       &  6       & 122      & 888      & 1776     & -1       &  29      & 적음    \\\\\n",
       "\t 중랑서   & 12       &  9       & 148      & 829      & 2407     &  1       &  39      & 많음    \\\\\n",
       "\t 강남서   &  3       & 12       & 225      & 984      & 2146     &  0       &  75      & 적음    \\\\\n",
       "\t 관악서   &  8       & 14       & 221      & 827      & 2642     &  1       &  99      & 많음    \\\\\n",
       "\t 강서서   &  8       & 13       & 191      & 1260     & 2718     & -1       &  71      & 많음    \\\\\n",
       "\t 강동서   &  3       &  8       & 123      & 789      & 2248     &  1       &  33      & 보통    \\\\\n",
       "\t 종암서   &  3       &  3       &  53      & 332      & 840      &  0       &  11      & 적음    \\\\\n",
       "\t 구로서   &  6       & 11       & 164      & 889      & 2432     &  2       & 117      & 많음    \\\\\n",
       "\t 서초서   &  4       &  5       & 193      & 905      & 1607     &  3       & 141      & 많음    \\\\\n",
       "\t 양천서   &  5       &  3       & 105      & 672      & 2030     & -2       &  15      & 적음    \\\\\n",
       "\t 송파서   & 10       & 10       & 178      & 1129     & 2786     &  1       &  42      & 많음    \\\\\n",
       "\t 노원서   & 10       &  7       & 121      & 801      & 2329     &  0       &  76      & 많음    \\\\\n",
       "\t 방배서   &  2       &  1       &  56      & 186      & 491      & -1       &   3      & 적음    \\\\\n",
       "\t 은평서   &  1       &  5       &  82      & 418      & 1268     &  0       &  14      & 적음    \\\\\n",
       "\t 도봉서   &  3       & 10       & 106      & 478      & 1303     &  0       &  -4      & 적음    \\\\\n",
       "\t 수서서   &  7       &  6       & 124      & 666      & 1559     &  3       &  25      & 많음    \\\\\n",
       "\\end{tabular}\n"
      ],
      "text/markdown": [
       "\n",
       "| 관서명 | 살인.검거 | 강도.검거 | 강간.검거 | 절도.검거 | 폭력.검거 | 살인차이 | 강간차이 | 살인발생결과 |\n",
       "|---|---|---|---|---|---|---|---|---|\n",
       "| 중부서   |  2       |  2       |  65      | 477      | 1170     |  0       |  40      | 적음     |\n",
       "| 종로서   |  3       |  5       |  98      | 413      | 1070     |  0       |  17      | 적음     |\n",
       "| 남대문서 |  0       |  4       |  46      | 382      | 794      |  1       |  19      | 적음     |\n",
       "| 서대문서 |  2       |  4       | 124      | 738      | 1711     |  0       |  30      | 적음     |\n",
       "| 혜화서   |  2       |  4       |  63      | 424      | 861      |  1       |  33      | 적음     |\n",
       "| 용산서   |  5       | 14       | 173      | 587      | 1704     |  0       |  21      | 보통     |\n",
       "| 성북서   |  2       |  1       |  71      | 409      | 1015     |  0       |  15      | 적음     |\n",
       "| 동대문서 |  5       | 13       | 146      | 814      | 2227     |  0       |  27      | 보통     |\n",
       "| 마포서   |  8       | 10       | 247      | 813      | 2519     |  0       |  47      | 많음     |\n",
       "| 영등포서 | 12       | 20       | 183      | 978      | 2961     |  2       | 112      | 많음     |\n",
       "| 성동서   |  4       |  8       | 119      | 597      | 1395     |  0       |   7      | 보통     |\n",
       "| 동작서   |  5       |  5       | 139      | 661      | 1587     |  0       | 146      | 보통     |\n",
       "| 광진서   |  4       | 26       | 220      | 1277     | 2180     |  0       |  20      | 보통     |\n",
       "| 서부서   |  2       |  1       |  59      | 293      | 1038     |  0       |  11      | 적음     |\n",
       "| 강북서   |  8       | 13       | 126      | 618      | 2348     | -1       |  27      | 많음     |\n",
       "| 금천서   |  4       |  6       | 122      | 888      | 1776     | -1       |  29      | 적음     |\n",
       "| 중랑서   | 12       |  9       | 148      | 829      | 2407     |  1       |  39      | 많음     |\n",
       "| 강남서   |  3       | 12       | 225      | 984      | 2146     |  0       |  75      | 적음     |\n",
       "| 관악서   |  8       | 14       | 221      | 827      | 2642     |  1       |  99      | 많음     |\n",
       "| 강서서   |  8       | 13       | 191      | 1260     | 2718     | -1       |  71      | 많음     |\n",
       "| 강동서   |  3       |  8       | 123      | 789      | 2248     |  1       |  33      | 보통     |\n",
       "| 종암서   |  3       |  3       |  53      | 332      | 840      |  0       |  11      | 적음     |\n",
       "| 구로서   |  6       | 11       | 164      | 889      | 2432     |  2       | 117      | 많음     |\n",
       "| 서초서   |  4       |  5       | 193      | 905      | 1607     |  3       | 141      | 많음     |\n",
       "| 양천서   |  5       |  3       | 105      | 672      | 2030     | -2       |  15      | 적음     |\n",
       "| 송파서   | 10       | 10       | 178      | 1129     | 2786     |  1       |  42      | 많음     |\n",
       "| 노원서   | 10       |  7       | 121      | 801      | 2329     |  0       |  76      | 많음     |\n",
       "| 방배서   |  2       |  1       |  56      | 186      | 491      | -1       |   3      | 적음     |\n",
       "| 은평서   |  1       |  5       |  82      | 418      | 1268     |  0       |  14      | 적음     |\n",
       "| 도봉서   |  3       | 10       | 106      | 478      | 1303     |  0       |  -4      | 적음     |\n",
       "| 수서서   |  7       |  6       | 124      | 666      | 1559     |  3       |  25      | 많음     |\n",
       "\n"
      ],
      "text/plain": [
       "   관서명   살인.검거 강도.검거 강간.검거 절도.검거 폭력.검거 살인차이 강간차이\n",
       "1  중부서    2         2         65       477       1170       0        40     \n",
       "2  종로서    3         5         98       413       1070       0        17     \n",
       "3  남대문서  0         4         46       382       794        1        19     \n",
       "4  서대문서  2         4        124       738       1711       0        30     \n",
       "5  혜화서    2         4         63       424       861        1        33     \n",
       "6  용산서    5        14        173       587       1704       0        21     \n",
       "7  성북서    2         1         71       409       1015       0        15     \n",
       "8  동대문서  5        13        146       814       2227       0        27     \n",
       "9  마포서    8        10        247       813       2519       0        47     \n",
       "10 영등포서 12        20        183       978       2961       2       112     \n",
       "11 성동서    4         8        119       597       1395       0         7     \n",
       "12 동작서    5         5        139       661       1587       0       146     \n",
       "13 광진서    4        26        220       1277      2180       0        20     \n",
       "14 서부서    2         1         59       293       1038       0        11     \n",
       "15 강북서    8        13        126       618       2348      -1        27     \n",
       "16 금천서    4         6        122       888       1776      -1        29     \n",
       "17 중랑서   12         9        148       829       2407       1        39     \n",
       "18 강남서    3        12        225       984       2146       0        75     \n",
       "19 관악서    8        14        221       827       2642       1        99     \n",
       "20 강서서    8        13        191       1260      2718      -1        71     \n",
       "21 강동서    3         8        123       789       2248       1        33     \n",
       "22 종암서    3         3         53       332       840        0        11     \n",
       "23 구로서    6        11        164       889       2432       2       117     \n",
       "24 서초서    4         5        193       905       1607       3       141     \n",
       "25 양천서    5         3        105       672       2030      -2        15     \n",
       "26 송파서   10        10        178       1129      2786       1        42     \n",
       "27 노원서   10         7        121       801       2329       0        76     \n",
       "28 방배서    2         1         56       186       491       -1         3     \n",
       "29 은평서    1         5         82       418       1268       0        14     \n",
       "30 도봉서    3        10        106       478       1303       0        -4     \n",
       "31 수서서    7         6        124       666       1559       3        25     \n",
       "   살인발생결과\n",
       "1  적음        \n",
       "2  적음        \n",
       "3  적음        \n",
       "4  적음        \n",
       "5  적음        \n",
       "6  보통        \n",
       "7  적음        \n",
       "8  보통        \n",
       "9  많음        \n",
       "10 많음        \n",
       "11 보통        \n",
       "12 보통        \n",
       "13 보통        \n",
       "14 적음        \n",
       "15 많음        \n",
       "16 적음        \n",
       "17 많음        \n",
       "18 적음        \n",
       "19 많음        \n",
       "20 많음        \n",
       "21 보통        \n",
       "22 적음        \n",
       "23 많음        \n",
       "24 많음        \n",
       "25 적음        \n",
       "26 많음        \n",
       "27 많음        \n",
       "28 적음        \n",
       "29 적음        \n",
       "30 적음        \n",
       "31 많음        "
      ]
     },
     "metadata": {},
     "output_type": "display_data"
    }
   ],
   "source": [
    "# 다른방법\n",
    "data[ seq(1, ncol(data), 2)]"
   ]
  },
  {
   "cell_type": "code",
   "execution_count": 367,
   "id": "e1d6caad",
   "metadata": {
    "scrolled": false
   },
   "outputs": [
    {
     "data": {
      "image/png": "[encoded data removed]",
      "text/plain": [
       "plot without title"
      ]
     },
     "metadata": {},
     "output_type": "display_data"
    }
   ],
   "source": [
    "# 8. (5번에서 만든)정도의 비율을 파이차트로 그리시요\n",
    "pie(table(data$'살인발생결과'))"
   ]
  },
  {
   "cell_type": "code",
   "execution_count": 231,
   "id": "ea703c9f",
   "metadata": {},
   "outputs": [
    {
     "data": {
      "text/html": [
       "<table>\n",
       "<thead><tr><th></th><th scope=col>관서명</th><th scope=col>살인.발생</th><th scope=col>살인.검거</th><th scope=col>폭력.발생</th><th scope=col>폭력.검거</th></tr></thead>\n",
       "<tbody>\n",
       "\t<tr><th scope=row>15</th><td>강북서</td><td>7     </td><td>8     </td><td>2,649 </td><td>2,348 </td></tr>\n",
       "\t<tr><th scope=row>18</th><td>강남서</td><td>3     </td><td>3     </td><td>2,465 </td><td>2,146 </td></tr>\n",
       "\t<tr><th scope=row>20</th><td>강서서</td><td>7     </td><td>8     </td><td>3,207 </td><td>2,718 </td></tr>\n",
       "\t<tr><th scope=row>21</th><td>강동서</td><td>4     </td><td>3     </td><td>2,712 </td><td>2,248 </td></tr>\n",
       "</tbody>\n",
       "</table>\n"
      ],
      "text/latex": [
       "\\begin{tabular}{r|lllll}\n",
       "  & 관서명 & 살인.발생 & 살인.검거 & 폭력.발생 & 폭력.검거\\\\\n",
       "\\hline\n",
       "\t15 & 강북서 & 7      & 8      & 2,649  & 2,348 \\\\\n",
       "\t18 & 강남서 & 3      & 3      & 2,465  & 2,146 \\\\\n",
       "\t20 & 강서서 & 7      & 8      & 3,207  & 2,718 \\\\\n",
       "\t21 & 강동서 & 4      & 3      & 2,712  & 2,248 \\\\\n",
       "\\end{tabular}\n"
      ],
      "text/markdown": [
       "\n",
       "| <!--/--> | 관서명 | 살인.발생 | 살인.검거 | 폭력.발생 | 폭력.검거 |\n",
       "|---|---|---|---|---|---|\n",
       "| 15 | 강북서 | 7      | 8      | 2,649  | 2,348  |\n",
       "| 18 | 강남서 | 3      | 3      | 2,465  | 2,146  |\n",
       "| 20 | 강서서 | 7      | 8      | 3,207  | 2,718  |\n",
       "| 21 | 강동서 | 4      | 3      | 2,712  | 2,248  |\n",
       "\n"
      ],
      "text/plain": [
       "   관서명 살인.발생 살인.검거 폭력.발생 폭력.검거\n",
       "15 강북서 7         8         2,649     2,348    \n",
       "18 강남서 3         3         2,465     2,146    \n",
       "20 강서서 7         8         3,207     2,718    \n",
       "21 강동서 4         3         2,712     2,248    "
      ]
     },
     "metadata": {},
     "output_type": "display_data"
    }
   ],
   "source": [
    "# 9. 관서명에 '강' 글자가 있는 데이터를 구하시요( 관서명 살인발생 살인 검거 폭력발생 폭력검거)\n",
    "data[grep(\"강\", data$관서명), c('관서명','살인.발생','살인.검거','폭력.발생','폭력.검거')]"
   ]
  },
  {
   "cell_type": "code",
   "execution_count": 450,
   "id": "603a6c38",
   "metadata": {},
   "outputs": [
    {
     "data": {
      "text/html": [
       "<table>\n",
       "<thead><tr><th></th><th scope=col>관서명</th><th scope=col>절도.발생</th><th scope=col>절도.검거</th><th scope=col>절도검거율</th></tr></thead>\n",
       "<tbody>\n",
       "\t<tr><th scope=row>4</th><td>서대문서</td><td>1812    </td><td>738     </td><td>0.29    </td></tr>\n",
       "\t<tr><th scope=row>7</th><td>성북서  </td><td>953     </td><td>409     </td><td>0.30    </td></tr>\n",
       "\t<tr><th scope=row>8</th><td>동대문서</td><td>1981    </td><td>814     </td><td>0.29    </td></tr>\n",
       "\t<tr><th scope=row>13</th><td>광진서  </td><td>3026    </td><td>1277    </td><td>0.30    </td></tr>\n",
       "\t<tr><th scope=row>15</th><td>강북서  </td><td>1434    </td><td>618     </td><td>0.30    </td></tr>\n",
       "\t<tr><th scope=row>16</th><td>금천서  </td><td>1567    </td><td>888     </td><td>0.36    </td></tr>\n",
       "\t<tr><th scope=row>18</th><td>강남서  </td><td>2411    </td><td>984     </td><td>0.29    </td></tr>\n",
       "\t<tr><th scope=row>20</th><td>강서서  </td><td>2096    </td><td>1260    </td><td>0.38    </td></tr>\n",
       "\t<tr><th scope=row>22</th><td>종암서  </td><td>832     </td><td>332     </td><td>0.29    </td></tr>\n",
       "\t<tr><th scope=row>24</th><td>서초서  </td><td>1982    </td><td>905     </td><td>0.31    </td></tr>\n",
       "\t<tr><th scope=row>30</th><td>도봉서  </td><td>1063    </td><td>478     </td><td>0.31    </td></tr>\n",
       "\t<tr><th scope=row>31</th><td>수서서  </td><td>1439    </td><td>666     </td><td>0.32    </td></tr>\n",
       "</tbody>\n",
       "</table>\n"
      ],
      "text/latex": [
       "\\begin{tabular}{r|llll}\n",
       "  & 관서명 & 절도.발생 & 절도.검거 & 절도검거율\\\\\n",
       "\\hline\n",
       "\t4 & 서대문서 & 1812     & 738      & 0.29    \\\\\n",
       "\t7 & 성북서   & 953      & 409      & 0.30    \\\\\n",
       "\t8 & 동대문서 & 1981     & 814      & 0.29    \\\\\n",
       "\t13 & 광진서   & 3026     & 1277     & 0.30    \\\\\n",
       "\t15 & 강북서   & 1434     & 618      & 0.30    \\\\\n",
       "\t16 & 금천서   & 1567     & 888      & 0.36    \\\\\n",
       "\t18 & 강남서   & 2411     & 984      & 0.29    \\\\\n",
       "\t20 & 강서서   & 2096     & 1260     & 0.38    \\\\\n",
       "\t22 & 종암서   & 832      & 332      & 0.29    \\\\\n",
       "\t24 & 서초서   & 1982     & 905      & 0.31    \\\\\n",
       "\t30 & 도봉서   & 1063     & 478      & 0.31    \\\\\n",
       "\t31 & 수서서   & 1439     & 666      & 0.32    \\\\\n",
       "\\end{tabular}\n"
      ],
      "text/markdown": [
       "\n",
       "| <!--/--> | 관서명 | 절도.발생 | 절도.검거 | 절도검거율 |\n",
       "|---|---|---|---|---|\n",
       "| 4 | 서대문서 | 1812     | 738      | 0.29     |\n",
       "| 7 | 성북서   | 953      | 409      | 0.30     |\n",
       "| 8 | 동대문서 | 1981     | 814      | 0.29     |\n",
       "| 13 | 광진서   | 3026     | 1277     | 0.30     |\n",
       "| 15 | 강북서   | 1434     | 618      | 0.30     |\n",
       "| 16 | 금천서   | 1567     | 888      | 0.36     |\n",
       "| 18 | 강남서   | 2411     | 984      | 0.29     |\n",
       "| 20 | 강서서   | 2096     | 1260     | 0.38     |\n",
       "| 22 | 종암서   | 832      | 332      | 0.29     |\n",
       "| 24 | 서초서   | 1982     | 905      | 0.31     |\n",
       "| 30 | 도봉서   | 1063     | 478      | 0.31     |\n",
       "| 31 | 수서서   | 1439     | 666      | 0.32     |\n",
       "\n"
      ],
      "text/plain": [
       "   관서명   절도.발생 절도.검거 절도검거율\n",
       "4  서대문서 1812      738       0.29      \n",
       "7  성북서   953       409       0.30      \n",
       "8  동대문서 1981      814       0.29      \n",
       "13 광진서   3026      1277      0.30      \n",
       "15 강북서   1434      618       0.30      \n",
       "16 금천서   1567      888       0.36      \n",
       "18 강남서   2411      984       0.29      \n",
       "20 강서서   2096      1260      0.38      \n",
       "22 종암서   832       332       0.29      \n",
       "24 서초서   1982      905       0.31      \n",
       "30 도봉서   1063      478       0.31      \n",
       "31 수서서   1439      666       0.32      "
      ]
     },
     "metadata": {},
     "output_type": "display_data"
    }
   ],
   "source": [
    "# 10. 절도검거율이 평균 보다 높은 관서명, 절도발생, 절도검거, 절도 검거율\n",
    "data[data$절도검거율 > mean(data$절도검거율),c('관서명','절도.발생','절도.검거','절도검거율')]"
   ]
  },
  {
   "cell_type": "code",
   "execution_count": 459,
   "id": "7d3ed72d",
   "metadata": {
    "scrolled": true
   },
   "outputs": [
    {
     "data": {
      "text/html": [
       "<table>\n",
       "<thead><tr><th scope=col>절도검거율</th><th scope=col>살인차이</th><th scope=col>강도차이</th><th scope=col>강간차이</th><th scope=col>절도차이</th><th scope=col>살인발생결과</th><th scope=col>살인폭력평균</th></tr></thead>\n",
       "<tbody>\n",
       "\t<tr><td>0.25</td><td> 0  </td><td>  1 </td><td> 40 </td><td>NA  </td><td>적음</td><td>1355</td></tr>\n",
       "\t<tr><td>0.28</td><td> 0  </td><td>  1 </td><td> 17 </td><td>NA  </td><td>적음</td><td>1278</td></tr>\n",
       "\t<tr><td>0.25</td><td> 1  </td><td>  2 </td><td> 19 </td><td>NA  </td><td>적음</td><td> 869</td></tr>\n",
       "\t<tr><td>0.29</td><td> 0  </td><td>  1 </td><td> 30 </td><td>NA  </td><td>적음</td><td>2056</td></tr>\n",
       "\t<tr><td>0.28</td><td> 1  </td><td>  1 </td><td> 33 </td><td>NA  </td><td>적음</td><td>1015</td></tr>\n",
       "\t<tr><td>0.27</td><td> 0  </td><td>  0 </td><td> 21 </td><td>NA  </td><td>보통</td><td>2050</td></tr>\n",
       "\t<tr><td>0.30</td><td> 0  </td><td>  1 </td><td> 15 </td><td>NA  </td><td>적음</td><td>1194</td></tr>\n",
       "\t<tr><td>0.29</td><td> 0  </td><td>  0 </td><td> 27 </td><td>NA  </td><td>보통</td><td>2548</td></tr>\n",
       "\t<tr><td>0.24</td><td> 0  </td><td>  4 </td><td> 47 </td><td>NA  </td><td>많음</td><td>2983</td></tr>\n",
       "\t<tr><td>0.25</td><td> 2  </td><td>  2 </td><td>112 </td><td>NA  </td><td>많음</td><td>3572</td></tr>\n",
       "\t<tr><td>0.27</td><td> 0  </td><td>  1 </td><td>  7 </td><td>NA  </td><td>보통</td><td>1612</td></tr>\n",
       "\t<tr><td>0.26</td><td> 0  </td><td>  4 </td><td>146 </td><td>NA  </td><td>보통</td><td>1910</td></tr>\n",
       "\t<tr><td>0.30</td><td> 0  </td><td>-12 </td><td> 20 </td><td>NA  </td><td>보통</td><td>2625</td></tr>\n",
       "\t<tr><td>0.26</td><td> 0  </td><td>  1 </td><td> 11 </td><td>NA  </td><td>적음</td><td>1192</td></tr>\n",
       "\t<tr><td>0.30</td><td>-1  </td><td>  1 </td><td> 27 </td><td>NA  </td><td>많음</td><td>2649</td></tr>\n",
       "\t<tr><td>0.36</td><td>-1  </td><td>  0 </td><td> 29 </td><td>NA  </td><td>적음</td><td>2054</td></tr>\n",
       "\t<tr><td>0.28</td><td> 1  </td><td>  2 </td><td> 39 </td><td>NA  </td><td>많음</td><td>2847</td></tr>\n",
       "\t<tr><td>0.29</td><td> 0  </td><td>  3 </td><td> 75 </td><td>NA  </td><td>적음</td><td>2465</td></tr>\n",
       "\t<tr><td>0.23</td><td> 1  </td><td> -2 </td><td> 99 </td><td>NA  </td><td>많음</td><td>3298</td></tr>\n",
       "\t<tr><td>0.38</td><td>-1  </td><td>  0 </td><td> 71 </td><td>NA  </td><td>많음</td><td>3207</td></tr>\n",
       "\t<tr><td>0.25</td><td> 1  </td><td> -2 </td><td> 33 </td><td>NA  </td><td>보통</td><td>2712</td></tr>\n",
       "\t<tr><td>0.29</td><td> 0  </td><td>  0 </td><td> 11 </td><td>NA  </td><td>적음</td><td>1015</td></tr>\n",
       "\t<tr><td>0.28</td><td> 2  </td><td>  4 </td><td>117 </td><td>NA  </td><td>많음</td><td>3007</td></tr>\n",
       "\t<tr><td>0.31</td><td> 3  </td><td>  3 </td><td>141 </td><td>NA  </td><td>많음</td><td>1852</td></tr>\n",
       "\t<tr><td>0.26</td><td>-2  </td><td>  3 </td><td> 15 </td><td>NA  </td><td>적음</td><td>2509</td></tr>\n",
       "\t<tr><td>0.26</td><td> 1  </td><td>  3 </td><td> 42 </td><td>NA  </td><td>많음</td><td>3295</td></tr>\n",
       "\t<tr><td>0.27</td><td> 0  </td><td>  0 </td><td> 76 </td><td>NA  </td><td>많음</td><td>2723</td></tr>\n",
       "\t<tr><td>0.22</td><td>-1  </td><td>  0 </td><td>  3 </td><td>NA  </td><td>적음</td><td> 547</td></tr>\n",
       "\t<tr><td>0.28</td><td> 0  </td><td>  2 </td><td> 14 </td><td>NA  </td><td>적음</td><td>1461</td></tr>\n",
       "\t<tr><td>0.31</td><td> 0  </td><td> -1 </td><td> -4 </td><td>NA  </td><td>적음</td><td>1487</td></tr>\n",
       "\t<tr><td>0.32</td><td> 3  </td><td>  0 </td><td> 25 </td><td>NA  </td><td>많음</td><td>1819</td></tr>\n",
       "</tbody>\n",
       "</table>\n"
      ],
      "text/latex": [
       "\\begin{tabular}{r|lllllll}\n",
       " 절도검거율 & 살인차이 & 강도차이 & 강간차이 & 절도차이 & 살인발생결과 & 살인폭력평균\\\\\n",
       "\\hline\n",
       "\t 0.25 &  0   &   1  &  40  & NA   & 적음 & 1355\\\\\n",
       "\t 0.28 &  0   &   1  &  17  & NA   & 적음 & 1278\\\\\n",
       "\t 0.25 &  1   &   2  &  19  & NA   & 적음 &  869\\\\\n",
       "\t 0.29 &  0   &   1  &  30  & NA   & 적음 & 2056\\\\\n",
       "\t 0.28 &  1   &   1  &  33  & NA   & 적음 & 1015\\\\\n",
       "\t 0.27 &  0   &   0  &  21  & NA   & 보통 & 2050\\\\\n",
       "\t 0.30 &  0   &   1  &  15  & NA   & 적음 & 1194\\\\\n",
       "\t 0.29 &  0   &   0  &  27  & NA   & 보통 & 2548\\\\\n",
       "\t 0.24 &  0   &   4  &  47  & NA   & 많음 & 2983\\\\\n",
       "\t 0.25 &  2   &   2  & 112  & NA   & 많음 & 3572\\\\\n",
       "\t 0.27 &  0   &   1  &   7  & NA   & 보통 & 1612\\\\\n",
       "\t 0.26 &  0   &   4  & 146  & NA   & 보통 & 1910\\\\\n",
       "\t 0.30 &  0   & -12  &  20  & NA   & 보통 & 2625\\\\\n",
       "\t 0.26 &  0   &   1  &  11  & NA   & 적음 & 1192\\\\\n",
       "\t 0.30 & -1   &   1  &  27  & NA   & 많음 & 2649\\\\\n",
       "\t 0.36 & -1   &   0  &  29  & NA   & 적음 & 2054\\\\\n",
       "\t 0.28 &  1   &   2  &  39  & NA   & 많음 & 2847\\\\\n",
       "\t 0.29 &  0   &   3  &  75  & NA   & 적음 & 2465\\\\\n",
       "\t 0.23 &  1   &  -2  &  99  & NA   & 많음 & 3298\\\\\n",
       "\t 0.38 & -1   &   0  &  71  & NA   & 많음 & 3207\\\\\n",
       "\t 0.25 &  1   &  -2  &  33  & NA   & 보통 & 2712\\\\\n",
       "\t 0.29 &  0   &   0  &  11  & NA   & 적음 & 1015\\\\\n",
       "\t 0.28 &  2   &   4  & 117  & NA   & 많음 & 3007\\\\\n",
       "\t 0.31 &  3   &   3  & 141  & NA   & 많음 & 1852\\\\\n",
       "\t 0.26 & -2   &   3  &  15  & NA   & 적음 & 2509\\\\\n",
       "\t 0.26 &  1   &   3  &  42  & NA   & 많음 & 3295\\\\\n",
       "\t 0.27 &  0   &   0  &  76  & NA   & 많음 & 2723\\\\\n",
       "\t 0.22 & -1   &   0  &   3  & NA   & 적음 &  547\\\\\n",
       "\t 0.28 &  0   &   2  &  14  & NA   & 적음 & 1461\\\\\n",
       "\t 0.31 &  0   &  -1  &  -4  & NA   & 적음 & 1487\\\\\n",
       "\t 0.32 &  3   &   0  &  25  & NA   & 많음 & 1819\\\\\n",
       "\\end{tabular}\n"
      ],
      "text/markdown": [
       "\n",
       "| 절도검거율 | 살인차이 | 강도차이 | 강간차이 | 절도차이 | 살인발생결과 | 살인폭력평균 |\n",
       "|---|---|---|---|---|---|---|\n",
       "| 0.25 |  0   |   1  |  40  | NA   | 적음 | 1355 |\n",
       "| 0.28 |  0   |   1  |  17  | NA   | 적음 | 1278 |\n",
       "| 0.25 |  1   |   2  |  19  | NA   | 적음 |  869 |\n",
       "| 0.29 |  0   |   1  |  30  | NA   | 적음 | 2056 |\n",
       "| 0.28 |  1   |   1  |  33  | NA   | 적음 | 1015 |\n",
       "| 0.27 |  0   |   0  |  21  | NA   | 보통 | 2050 |\n",
       "| 0.30 |  0   |   1  |  15  | NA   | 적음 | 1194 |\n",
       "| 0.29 |  0   |   0  |  27  | NA   | 보통 | 2548 |\n",
       "| 0.24 |  0   |   4  |  47  | NA   | 많음 | 2983 |\n",
       "| 0.25 |  2   |   2  | 112  | NA   | 많음 | 3572 |\n",
       "| 0.27 |  0   |   1  |   7  | NA   | 보통 | 1612 |\n",
       "| 0.26 |  0   |   4  | 146  | NA   | 보통 | 1910 |\n",
       "| 0.30 |  0   | -12  |  20  | NA   | 보통 | 2625 |\n",
       "| 0.26 |  0   |   1  |  11  | NA   | 적음 | 1192 |\n",
       "| 0.30 | -1   |   1  |  27  | NA   | 많음 | 2649 |\n",
       "| 0.36 | -1   |   0  |  29  | NA   | 적음 | 2054 |\n",
       "| 0.28 |  1   |   2  |  39  | NA   | 많음 | 2847 |\n",
       "| 0.29 |  0   |   3  |  75  | NA   | 적음 | 2465 |\n",
       "| 0.23 |  1   |  -2  |  99  | NA   | 많음 | 3298 |\n",
       "| 0.38 | -1   |   0  |  71  | NA   | 많음 | 3207 |\n",
       "| 0.25 |  1   |  -2  |  33  | NA   | 보통 | 2712 |\n",
       "| 0.29 |  0   |   0  |  11  | NA   | 적음 | 1015 |\n",
       "| 0.28 |  2   |   4  | 117  | NA   | 많음 | 3007 |\n",
       "| 0.31 |  3   |   3  | 141  | NA   | 많음 | 1852 |\n",
       "| 0.26 | -2   |   3  |  15  | NA   | 적음 | 2509 |\n",
       "| 0.26 |  1   |   3  |  42  | NA   | 많음 | 3295 |\n",
       "| 0.27 |  0   |   0  |  76  | NA   | 많음 | 2723 |\n",
       "| 0.22 | -1   |   0  |   3  | NA   | 적음 |  547 |\n",
       "| 0.28 |  0   |   2  |  14  | NA   | 적음 | 1461 |\n",
       "| 0.31 |  0   |  -1  |  -4  | NA   | 적음 | 1487 |\n",
       "| 0.32 |  3   |   0  |  25  | NA   | 많음 | 1819 |\n",
       "\n"
      ],
      "text/plain": [
       "   절도검거율 살인차이 강도차이 강간차이 절도차이 살인발생결과 살인폭력평균\n",
       "1  0.25        0         1       40      NA       적음         1355        \n",
       "2  0.28        0         1       17      NA       적음         1278        \n",
       "3  0.25        1         2       19      NA       적음          869        \n",
       "4  0.29        0         1       30      NA       적음         2056        \n",
       "5  0.28        1         1       33      NA       적음         1015        \n",
       "6  0.27        0         0       21      NA       보통         2050        \n",
       "7  0.30        0         1       15      NA       적음         1194        \n",
       "8  0.29        0         0       27      NA       보통         2548        \n",
       "9  0.24        0         4       47      NA       많음         2983        \n",
       "10 0.25        2         2      112      NA       많음         3572        \n",
       "11 0.27        0         1        7      NA       보통         1612        \n",
       "12 0.26        0         4      146      NA       보통         1910        \n",
       "13 0.30        0       -12       20      NA       보통         2625        \n",
       "14 0.26        0         1       11      NA       적음         1192        \n",
       "15 0.30       -1         1       27      NA       많음         2649        \n",
       "16 0.36       -1         0       29      NA       적음         2054        \n",
       "17 0.28        1         2       39      NA       많음         2847        \n",
       "18 0.29        0         3       75      NA       적음         2465        \n",
       "19 0.23        1        -2       99      NA       많음         3298        \n",
       "20 0.38       -1         0       71      NA       많음         3207        \n",
       "21 0.25        1        -2       33      NA       보통         2712        \n",
       "22 0.29        0         0       11      NA       적음         1015        \n",
       "23 0.28        2         4      117      NA       많음         3007        \n",
       "24 0.31        3         3      141      NA       많음         1852        \n",
       "25 0.26       -2         3       15      NA       적음         2509        \n",
       "26 0.26        1         3       42      NA       많음         3295        \n",
       "27 0.27        0         0       76      NA       많음         2723        \n",
       "28 0.22       -1         0        3      NA       적음          547        \n",
       "29 0.28        0         2       14      NA       적음         1461        \n",
       "30 0.31        0        -1       -4      NA       적음         1487        \n",
       "31 0.32        3         0       25      NA       많음         1819        "
      ]
     },
     "metadata": {},
     "output_type": "display_data"
    },
    {
     "data": {
      "text/html": [
       "<table>\n",
       "<thead><tr><th scope=col>관서명</th><th scope=col>살인.발생</th><th scope=col>살인.검거</th><th scope=col>강도.발생</th><th scope=col>강도.검거</th><th scope=col>강간.발생</th><th scope=col>강간.검거</th><th scope=col>절도.발생</th><th scope=col>절도.검거</th><th scope=col>폭력.발생</th><th scope=col>폭력.검거</th></tr></thead>\n",
       "<tbody>\n",
       "\t<tr><td>중부서  </td><td> 2      </td><td> 2      </td><td> 3      </td><td> 2      </td><td>105     </td><td> 65     </td><td>1395    </td><td> 477    </td><td>1355    </td><td>1170    </td></tr>\n",
       "\t<tr><td>종로서  </td><td> 3      </td><td> 3      </td><td> 6      </td><td> 5      </td><td>115     </td><td> 98     </td><td>1070    </td><td> 413    </td><td>1278    </td><td>1070    </td></tr>\n",
       "\t<tr><td>남대문서</td><td> 1      </td><td> 0      </td><td> 6      </td><td> 4      </td><td> 65     </td><td> 46     </td><td>1153    </td><td> 382    </td><td> 869    </td><td> 794    </td></tr>\n",
       "\t<tr><td>서대문서</td><td> 2      </td><td> 2      </td><td> 5      </td><td> 4      </td><td>154     </td><td>124     </td><td>1812    </td><td> 738    </td><td>2056    </td><td>1711    </td></tr>\n",
       "\t<tr><td>혜화서  </td><td> 3      </td><td> 2      </td><td> 5      </td><td> 4      </td><td> 96     </td><td> 63     </td><td>1114    </td><td> 424    </td><td>1015    </td><td> 861    </td></tr>\n",
       "\t<tr><td>용산서  </td><td> 5      </td><td> 5      </td><td>14      </td><td>14      </td><td>194     </td><td>173     </td><td>1557    </td><td> 587    </td><td>2050    </td><td>1704    </td></tr>\n",
       "\t<tr><td>성북서  </td><td> 2      </td><td> 2      </td><td> 2      </td><td> 1      </td><td> 86     </td><td> 71     </td><td> 953    </td><td> 409    </td><td>1194    </td><td>1015    </td></tr>\n",
       "\t<tr><td>동대문서</td><td> 5      </td><td> 5      </td><td>13      </td><td>13      </td><td>173     </td><td>146     </td><td>1981    </td><td> 814    </td><td>2548    </td><td>2227    </td></tr>\n",
       "\t<tr><td>마포서  </td><td> 8      </td><td> 8      </td><td>14      </td><td>10      </td><td>294     </td><td>247     </td><td>2555    </td><td> 813    </td><td>2983    </td><td>2519    </td></tr>\n",
       "\t<tr><td>영등포서</td><td>14      </td><td>12      </td><td>22      </td><td>20      </td><td>295     </td><td>183     </td><td>2964    </td><td> 978    </td><td>3572    </td><td>2961    </td></tr>\n",
       "\t<tr><td>성동서  </td><td> 4      </td><td> 4      </td><td> 9      </td><td> 8      </td><td>126     </td><td>119     </td><td>1607    </td><td> 597    </td><td>1612    </td><td>1395    </td></tr>\n",
       "\t<tr><td>동작서  </td><td> 5      </td><td> 5      </td><td> 9      </td><td> 5      </td><td>285     </td><td>139     </td><td>1865    </td><td> 661    </td><td>1910    </td><td>1587    </td></tr>\n",
       "\t<tr><td>광진서  </td><td> 4      </td><td> 4      </td><td>14      </td><td>26      </td><td>240     </td><td>220     </td><td>3026    </td><td>1277    </td><td>2625    </td><td>2180    </td></tr>\n",
       "\t<tr><td>서부서  </td><td> 2      </td><td> 2      </td><td> 2      </td><td> 1      </td><td> 70     </td><td> 59     </td><td> 819    </td><td> 293    </td><td>1192    </td><td>1038    </td></tr>\n",
       "\t<tr><td>강북서  </td><td> 7      </td><td> 8      </td><td>14      </td><td>13      </td><td>153     </td><td>126     </td><td>1434    </td><td> 618    </td><td>2649    </td><td>2348    </td></tr>\n",
       "\t<tr><td>금천서  </td><td> 3      </td><td> 4      </td><td> 6      </td><td> 6      </td><td>151     </td><td>122     </td><td>1567    </td><td> 888    </td><td>2054    </td><td>1776    </td></tr>\n",
       "\t<tr><td>중랑서  </td><td>13      </td><td>12      </td><td>11      </td><td> 9      </td><td>187     </td><td>148     </td><td>2135    </td><td> 829    </td><td>2847    </td><td>2407    </td></tr>\n",
       "\t<tr><td>강남서  </td><td> 3      </td><td> 3      </td><td>15      </td><td>12      </td><td>300     </td><td>225     </td><td>2411    </td><td> 984    </td><td>2465    </td><td>2146    </td></tr>\n",
       "\t<tr><td>관악서  </td><td> 9      </td><td> 8      </td><td>12      </td><td>14      </td><td>320     </td><td>221     </td><td>2706    </td><td> 827    </td><td>3298    </td><td>2642    </td></tr>\n",
       "\t<tr><td>강서서  </td><td> 7      </td><td> 8      </td><td>13      </td><td>13      </td><td>262     </td><td>191     </td><td>2096    </td><td>1260    </td><td>3207    </td><td>2718    </td></tr>\n",
       "\t<tr><td>강동서  </td><td> 4      </td><td> 3      </td><td> 6      </td><td> 8      </td><td>156     </td><td>123     </td><td>2366    </td><td> 789    </td><td>2712    </td><td>2248    </td></tr>\n",
       "\t<tr><td>종암서  </td><td> 3      </td><td> 3      </td><td> 3      </td><td> 3      </td><td> 64     </td><td> 53     </td><td> 832    </td><td> 332    </td><td>1015    </td><td> 840    </td></tr>\n",
       "\t<tr><td>구로서  </td><td> 8      </td><td> 6      </td><td>15      </td><td>11      </td><td>281     </td><td>164     </td><td>2335    </td><td> 889    </td><td>3007    </td><td>2432    </td></tr>\n",
       "\t<tr><td>서초서  </td><td> 7      </td><td> 4      </td><td> 8      </td><td> 5      </td><td>334     </td><td>193     </td><td>1982    </td><td> 905    </td><td>1852    </td><td>1607    </td></tr>\n",
       "\t<tr><td>양천서  </td><td> 3      </td><td> 5      </td><td> 6      </td><td> 3      </td><td>120     </td><td>105     </td><td>1890    </td><td> 672    </td><td>2509    </td><td>2030    </td></tr>\n",
       "\t<tr><td>송파서  </td><td>11      </td><td>10      </td><td>13      </td><td>10      </td><td>220     </td><td>178     </td><td>3239    </td><td>1129    </td><td>3295    </td><td>2786    </td></tr>\n",
       "\t<tr><td>노원서  </td><td>10      </td><td>10      </td><td> 7      </td><td> 7      </td><td>197     </td><td>121     </td><td>2193    </td><td> 801    </td><td>2723    </td><td>2329    </td></tr>\n",
       "\t<tr><td>방배서  </td><td> 1      </td><td> 2      </td><td> 1      </td><td> 1      </td><td> 59     </td><td> 56     </td><td> 653    </td><td> 186    </td><td> 547    </td><td> 491    </td></tr>\n",
       "\t<tr><td>은평서  </td><td> 1      </td><td> 1      </td><td> 7      </td><td> 5      </td><td> 96     </td><td> 82     </td><td>1095    </td><td> 418    </td><td>1461    </td><td>1268    </td></tr>\n",
       "\t<tr><td>도봉서  </td><td> 3      </td><td> 3      </td><td> 9      </td><td>10      </td><td>102     </td><td>106     </td><td>1063    </td><td> 478    </td><td>1487    </td><td>1303    </td></tr>\n",
       "\t<tr><td>수서서  </td><td>10      </td><td> 7      </td><td> 6      </td><td> 6      </td><td>149     </td><td>124     </td><td>1439    </td><td> 666    </td><td>1819    </td><td>1559    </td></tr>\n",
       "</tbody>\n",
       "</table>\n"
      ],
      "text/latex": [
       "\\begin{tabular}{r|lllllllllll}\n",
       " 관서명 & 살인.발생 & 살인.검거 & 강도.발생 & 강도.검거 & 강간.발생 & 강간.검거 & 절도.발생 & 절도.검거 & 폭력.발생 & 폭력.검거\\\\\n",
       "\\hline\n",
       "\t 중부서   &  2       &  2       &  3       &  2       & 105      &  65      & 1395     &  477     & 1355     & 1170    \\\\\n",
       "\t 종로서   &  3       &  3       &  6       &  5       & 115      &  98      & 1070     &  413     & 1278     & 1070    \\\\\n",
       "\t 남대문서 &  1       &  0       &  6       &  4       &  65      &  46      & 1153     &  382     &  869     &  794    \\\\\n",
       "\t 서대문서 &  2       &  2       &  5       &  4       & 154      & 124      & 1812     &  738     & 2056     & 1711    \\\\\n",
       "\t 혜화서   &  3       &  2       &  5       &  4       &  96      &  63      & 1114     &  424     & 1015     &  861    \\\\\n",
       "\t 용산서   &  5       &  5       & 14       & 14       & 194      & 173      & 1557     &  587     & 2050     & 1704    \\\\\n",
       "\t 성북서   &  2       &  2       &  2       &  1       &  86      &  71      &  953     &  409     & 1194     & 1015    \\\\\n",
       "\t 동대문서 &  5       &  5       & 13       & 13       & 173      & 146      & 1981     &  814     & 2548     & 2227    \\\\\n",
       "\t 마포서   &  8       &  8       & 14       & 10       & 294      & 247      & 2555     &  813     & 2983     & 2519    \\\\\n",
       "\t 영등포서 & 14       & 12       & 22       & 20       & 295      & 183      & 2964     &  978     & 3572     & 2961    \\\\\n",
       "\t 성동서   &  4       &  4       &  9       &  8       & 126      & 119      & 1607     &  597     & 1612     & 1395    \\\\\n",
       "\t 동작서   &  5       &  5       &  9       &  5       & 285      & 139      & 1865     &  661     & 1910     & 1587    \\\\\n",
       "\t 광진서   &  4       &  4       & 14       & 26       & 240      & 220      & 3026     & 1277     & 2625     & 2180    \\\\\n",
       "\t 서부서   &  2       &  2       &  2       &  1       &  70      &  59      &  819     &  293     & 1192     & 1038    \\\\\n",
       "\t 강북서   &  7       &  8       & 14       & 13       & 153      & 126      & 1434     &  618     & 2649     & 2348    \\\\\n",
       "\t 금천서   &  3       &  4       &  6       &  6       & 151      & 122      & 1567     &  888     & 2054     & 1776    \\\\\n",
       "\t 중랑서   & 13       & 12       & 11       &  9       & 187      & 148      & 2135     &  829     & 2847     & 2407    \\\\\n",
       "\t 강남서   &  3       &  3       & 15       & 12       & 300      & 225      & 2411     &  984     & 2465     & 2146    \\\\\n",
       "\t 관악서   &  9       &  8       & 12       & 14       & 320      & 221      & 2706     &  827     & 3298     & 2642    \\\\\n",
       "\t 강서서   &  7       &  8       & 13       & 13       & 262      & 191      & 2096     & 1260     & 3207     & 2718    \\\\\n",
       "\t 강동서   &  4       &  3       &  6       &  8       & 156      & 123      & 2366     &  789     & 2712     & 2248    \\\\\n",
       "\t 종암서   &  3       &  3       &  3       &  3       &  64      &  53      &  832     &  332     & 1015     &  840    \\\\\n",
       "\t 구로서   &  8       &  6       & 15       & 11       & 281      & 164      & 2335     &  889     & 3007     & 2432    \\\\\n",
       "\t 서초서   &  7       &  4       &  8       &  5       & 334      & 193      & 1982     &  905     & 1852     & 1607    \\\\\n",
       "\t 양천서   &  3       &  5       &  6       &  3       & 120      & 105      & 1890     &  672     & 2509     & 2030    \\\\\n",
       "\t 송파서   & 11       & 10       & 13       & 10       & 220      & 178      & 3239     & 1129     & 3295     & 2786    \\\\\n",
       "\t 노원서   & 10       & 10       &  7       &  7       & 197      & 121      & 2193     &  801     & 2723     & 2329    \\\\\n",
       "\t 방배서   &  1       &  2       &  1       &  1       &  59      &  56      &  653     &  186     &  547     &  491    \\\\\n",
       "\t 은평서   &  1       &  1       &  7       &  5       &  96      &  82      & 1095     &  418     & 1461     & 1268    \\\\\n",
       "\t 도봉서   &  3       &  3       &  9       & 10       & 102      & 106      & 1063     &  478     & 1487     & 1303    \\\\\n",
       "\t 수서서   & 10       &  7       &  6       &  6       & 149      & 124      & 1439     &  666     & 1819     & 1559    \\\\\n",
       "\\end{tabular}\n"
      ],
      "text/markdown": [
       "\n",
       "| 관서명 | 살인.발생 | 살인.검거 | 강도.발생 | 강도.검거 | 강간.발생 | 강간.검거 | 절도.발생 | 절도.검거 | 폭력.발생 | 폭력.검거 |\n",
       "|---|---|---|---|---|---|---|---|---|---|---|\n",
       "| 중부서   |  2       |  2       |  3       |  2       | 105      |  65      | 1395     |  477     | 1355     | 1170     |\n",
       "| 종로서   |  3       |  3       |  6       |  5       | 115      |  98      | 1070     |  413     | 1278     | 1070     |\n",
       "| 남대문서 |  1       |  0       |  6       |  4       |  65      |  46      | 1153     |  382     |  869     |  794     |\n",
       "| 서대문서 |  2       |  2       |  5       |  4       | 154      | 124      | 1812     |  738     | 2056     | 1711     |\n",
       "| 혜화서   |  3       |  2       |  5       |  4       |  96      |  63      | 1114     |  424     | 1015     |  861     |\n",
       "| 용산서   |  5       |  5       | 14       | 14       | 194      | 173      | 1557     |  587     | 2050     | 1704     |\n",
       "| 성북서   |  2       |  2       |  2       |  1       |  86      |  71      |  953     |  409     | 1194     | 1015     |\n",
       "| 동대문서 |  5       |  5       | 13       | 13       | 173      | 146      | 1981     |  814     | 2548     | 2227     |\n",
       "| 마포서   |  8       |  8       | 14       | 10       | 294      | 247      | 2555     |  813     | 2983     | 2519     |\n",
       "| 영등포서 | 14       | 12       | 22       | 20       | 295      | 183      | 2964     |  978     | 3572     | 2961     |\n",
       "| 성동서   |  4       |  4       |  9       |  8       | 126      | 119      | 1607     |  597     | 1612     | 1395     |\n",
       "| 동작서   |  5       |  5       |  9       |  5       | 285      | 139      | 1865     |  661     | 1910     | 1587     |\n",
       "| 광진서   |  4       |  4       | 14       | 26       | 240      | 220      | 3026     | 1277     | 2625     | 2180     |\n",
       "| 서부서   |  2       |  2       |  2       |  1       |  70      |  59      |  819     |  293     | 1192     | 1038     |\n",
       "| 강북서   |  7       |  8       | 14       | 13       | 153      | 126      | 1434     |  618     | 2649     | 2348     |\n",
       "| 금천서   |  3       |  4       |  6       |  6       | 151      | 122      | 1567     |  888     | 2054     | 1776     |\n",
       "| 중랑서   | 13       | 12       | 11       |  9       | 187      | 148      | 2135     |  829     | 2847     | 2407     |\n",
       "| 강남서   |  3       |  3       | 15       | 12       | 300      | 225      | 2411     |  984     | 2465     | 2146     |\n",
       "| 관악서   |  9       |  8       | 12       | 14       | 320      | 221      | 2706     |  827     | 3298     | 2642     |\n",
       "| 강서서   |  7       |  8       | 13       | 13       | 262      | 191      | 2096     | 1260     | 3207     | 2718     |\n",
       "| 강동서   |  4       |  3       |  6       |  8       | 156      | 123      | 2366     |  789     | 2712     | 2248     |\n",
       "| 종암서   |  3       |  3       |  3       |  3       |  64      |  53      |  832     |  332     | 1015     |  840     |\n",
       "| 구로서   |  8       |  6       | 15       | 11       | 281      | 164      | 2335     |  889     | 3007     | 2432     |\n",
       "| 서초서   |  7       |  4       |  8       |  5       | 334      | 193      | 1982     |  905     | 1852     | 1607     |\n",
       "| 양천서   |  3       |  5       |  6       |  3       | 120      | 105      | 1890     |  672     | 2509     | 2030     |\n",
       "| 송파서   | 11       | 10       | 13       | 10       | 220      | 178      | 3239     | 1129     | 3295     | 2786     |\n",
       "| 노원서   | 10       | 10       |  7       |  7       | 197      | 121      | 2193     |  801     | 2723     | 2329     |\n",
       "| 방배서   |  1       |  2       |  1       |  1       |  59      |  56      |  653     |  186     |  547     |  491     |\n",
       "| 은평서   |  1       |  1       |  7       |  5       |  96      |  82      | 1095     |  418     | 1461     | 1268     |\n",
       "| 도봉서   |  3       |  3       |  9       | 10       | 102      | 106      | 1063     |  478     | 1487     | 1303     |\n",
       "| 수서서   | 10       |  7       |  6       |  6       | 149      | 124      | 1439     |  666     | 1819     | 1559     |\n",
       "\n"
      ],
      "text/plain": [
       "   관서명   살인.발생 살인.검거 강도.발생 강도.검거 강간.발생 강간.검거\n",
       "1  중부서    2         2         3         2        105        65      \n",
       "2  종로서    3         3         6         5        115        98      \n",
       "3  남대문서  1         0         6         4         65        46      \n",
       "4  서대문서  2         2         5         4        154       124      \n",
       "5  혜화서    3         2         5         4         96        63      \n",
       "6  용산서    5         5        14        14        194       173      \n",
       "7  성북서    2         2         2         1         86        71      \n",
       "8  동대문서  5         5        13        13        173       146      \n",
       "9  마포서    8         8        14        10        294       247      \n",
       "10 영등포서 14        12        22        20        295       183      \n",
       "11 성동서    4         4         9         8        126       119      \n",
       "12 동작서    5         5         9         5        285       139      \n",
       "13 광진서    4         4        14        26        240       220      \n",
       "14 서부서    2         2         2         1         70        59      \n",
       "15 강북서    7         8        14        13        153       126      \n",
       "16 금천서    3         4         6         6        151       122      \n",
       "17 중랑서   13        12        11         9        187       148      \n",
       "18 강남서    3         3        15        12        300       225      \n",
       "19 관악서    9         8        12        14        320       221      \n",
       "20 강서서    7         8        13        13        262       191      \n",
       "21 강동서    4         3         6         8        156       123      \n",
       "22 종암서    3         3         3         3         64        53      \n",
       "23 구로서    8         6        15        11        281       164      \n",
       "24 서초서    7         4         8         5        334       193      \n",
       "25 양천서    3         5         6         3        120       105      \n",
       "26 송파서   11        10        13        10        220       178      \n",
       "27 노원서   10        10         7         7        197       121      \n",
       "28 방배서    1         2         1         1         59        56      \n",
       "29 은평서    1         1         7         5         96        82      \n",
       "30 도봉서    3         3         9        10        102       106      \n",
       "31 수서서   10         7         6         6        149       124      \n",
       "   절도.발생 절도.검거 폭력.발생 폭력.검거\n",
       "1  1395       477      1355      1170     \n",
       "2  1070       413      1278      1070     \n",
       "3  1153       382       869       794     \n",
       "4  1812       738      2056      1711     \n",
       "5  1114       424      1015       861     \n",
       "6  1557       587      2050      1704     \n",
       "7   953       409      1194      1015     \n",
       "8  1981       814      2548      2227     \n",
       "9  2555       813      2983      2519     \n",
       "10 2964       978      3572      2961     \n",
       "11 1607       597      1612      1395     \n",
       "12 1865       661      1910      1587     \n",
       "13 3026      1277      2625      2180     \n",
       "14  819       293      1192      1038     \n",
       "15 1434       618      2649      2348     \n",
       "16 1567       888      2054      1776     \n",
       "17 2135       829      2847      2407     \n",
       "18 2411       984      2465      2146     \n",
       "19 2706       827      3298      2642     \n",
       "20 2096      1260      3207      2718     \n",
       "21 2366       789      2712      2248     \n",
       "22  832       332      1015       840     \n",
       "23 2335       889      3007      2432     \n",
       "24 1982       905      1852      1607     \n",
       "25 1890       672      2509      2030     \n",
       "26 3239      1129      3295      2786     \n",
       "27 2193       801      2723      2329     \n",
       "28  653       186       547       491     \n",
       "29 1095       418      1461      1268     \n",
       "30 1063       478      1487      1303     \n",
       "31 1439       666      1819      1559     "
      ]
     },
     "metadata": {},
     "output_type": "display_data"
    }
   ],
   "source": [
    "# 11. 생성한 dataframe과 기존의 dataframe을 분리해서 각각의 변수로 받기\n",
    "new_frame = data[12:length(data)]\n",
    "new_frame\n",
    "old_frame = data[1:11]\n",
    "old_frame\n",
    "\n"
   ]
  },
  {
   "cell_type": "code",
   "execution_count": 455,
   "id": "d02d772f",
   "metadata": {},
   "outputs": [
    {
     "data": {
      "image/png": "[encoded data removed]",
      "text/plain": [
       "plot without title"
      ]
     },
     "metadata": {},
     "output_type": "display_data"
    }
   ],
   "source": [
    "#12\n",
    "a = subset(data, select=c(\"살인.발생\", \"살인.검거\", \n",
    "                      '강도.발생', '강도.검거', \n",
    "                      '강간.발생', '강간.검거', \n",
    "                      '절도.발생', '절도.검거', \n",
    "                      '폭력.발생', '폭력.검거' ))\n",
    "data$살인.발생 = as.integer(data$살인.발생)\n",
    "data$살인.검거 = as.integer(data$살인.검거)\n",
    "data$강도.발생 = as.integer(data$강도.발생)\n",
    "data$강도.검거 = as.integer(data$강도.검거)\n",
    "data$강간.발생 = as.integer(data$강간.발생)\n",
    "data$강간.검거 = as.integer(data$강간.검거)\n",
    "data$절도.발생 = as.integer(data$절도.발생)\n",
    "data$절도.검거 = as.integer(data$절도.검거)\n",
    "data$폭력.발생 = as.integer(data$폭력.발생)\n",
    "data$폭력.검거 = as.integer(data$폭력.검거)\n",
    "v=c()\n",
    "coln = colnames(a)\n",
    "for (i in 1:length(a)){\n",
    "    v=append(v,(colSums(a)[i]/sum(colSums(a))*100))\n",
    "    \n",
    "}\n",
    "pie(v)\n"
   ]
  },
  {
   "cell_type": "code",
   "execution_count": null,
   "id": "2d06b254",
   "metadata": {},
   "outputs": [],
   "source": []
  },
  {
   "cell_type": "code",
   "execution_count": null,
   "id": "0d983b54",
   "metadata": {},
   "outputs": [],
   "source": []
  },
  {
   "cell_type": "code",
   "execution_count": null,
   "id": "4d1e7940",
   "metadata": {},
   "outputs": [],
   "source": []
  },
  {
   "cell_type": "code",
   "execution_count": null,
   "id": "c8d553e5",
   "metadata": {},
   "outputs": [],
   "source": []
  },
  {
   "cell_type": "code",
   "execution_count": null,
   "id": "6839704d",
   "metadata": {},
   "outputs": [],
   "source": []
  }
 ],
 "metadata": {
  "kernelspec": {
   "display_name": "R",
   "language": "R",
   "name": "ir"
  },
  "language_info": {
   "codemirror_mode": "r",
   "file_extension": ".r",
   "mimetype": "text/x-r-source",
   "name": "R",
   "pygments_lexer": "r",
   "version": "3.6.1"
  },
  "toc": {
   "base_numbering": 1,
   "nav_menu": {},
   "number_sections": true,
   "sideBar": true,
   "skip_h1_title": false,
   "title_cell": "Table of Contents",
   "title_sidebar": "Contents",
   "toc_cell": false,
   "toc_position": {},
   "toc_section_display": true,
   "toc_window_display": true
  },
  "varInspector": {
   "cols": {
    "lenName": 16,
    "lenType": 16,
    "lenVar": 40
   },
   "kernels_config": {
    "python": {
     "delete_cmd_postfix": "",
     "delete_cmd_prefix": "del ",
     "library": "var_list.py",
     "varRefreshCmd": "print(var_dic_list())"
    },
    "r": {
     "delete_cmd_postfix": ") ",
     "delete_cmd_prefix": "rm(",
     "library": "var_list.r",
     "varRefreshCmd": "cat(var_dic_list()) "
    }
   },
   "types_to_exclude": [
    "module",
    "function",
    "builtin_function_or_method",
    "instance",
    "_Feature"
   ],
   "window_display": false
  }
 },
 "nbformat": 4,
 "nbformat_minor": 5
}
