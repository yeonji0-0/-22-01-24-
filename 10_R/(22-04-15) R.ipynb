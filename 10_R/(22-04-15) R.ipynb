{
 "cells": [
  {
   "cell_type": "code",
   "execution_count": 1,
   "id": "ed3c1e74",
   "metadata": {},
   "outputs": [
    {
     "name": "stderr",
     "output_type": "stream",
     "text": [
      "Warning message:\n",
      "\"package 'magrittr' was built under R version 3.6.3\"\n",
      "Attaching package: 'dplyr'\n",
      "\n",
      "The following objects are masked from 'package:stats':\n",
      "\n",
      "    filter, lag\n",
      "\n",
      "The following objects are masked from 'package:base':\n",
      "\n",
      "    intersect, setdiff, setequal, union\n",
      "\n"
     ]
    }
   ],
   "source": [
    "library(magrittr)\n",
    "library(dplyr)"
   ]
  },
  {
   "cell_type": "code",
   "execution_count": 3,
   "id": "12438cd6",
   "metadata": {},
   "outputs": [
    {
     "data": {
      "text/html": [
       "<table>\n",
       "<thead><tr><th scope=col>학년</th><th scope=col>과목</th><th scope=col>결과</th><th scope=col>중간</th><th scope=col>기말</th></tr></thead>\n",
       "<tbody>\n",
       "\t<tr><td>1학년</td><td>국어 </td><td>좋음 </td><td>80   </td><td>90   </td></tr>\n",
       "\t<tr><td>1학년</td><td>국어 </td><td> 나쁨</td><td>50   </td><td>40   </td></tr>\n",
       "\t<tr><td>1학년</td><td>국어 </td><td> 나쁨</td><td>20   </td><td>50   </td></tr>\n",
       "\t<tr><td>1학년</td><td>수학 </td><td>좋음 </td><td>83   </td><td>95   </td></tr>\n",
       "\t<tr><td>1학년</td><td>수학 </td><td>좋음 </td><td>93   </td><td>86   </td></tr>\n",
       "\t<tr><td>2학년</td><td>국어 </td><td> 나쁨</td><td>44   </td><td>65   </td></tr>\n",
       "\t<tr><td>2학년</td><td>국어 </td><td>좋음 </td><td>95   </td><td>98   </td></tr>\n",
       "\t<tr><td>2학년</td><td>수학 </td><td>좋음 </td><td>96   </td><td>99   </td></tr>\n",
       "\t<tr><td>2학년</td><td>수학 </td><td> 나쁨</td><td>57   </td><td>69   </td></tr>\n",
       "</tbody>\n",
       "</table>\n"
      ],
      "text/latex": [
       "\\begin{tabular}{r|lllll}\n",
       " 학년 & 과목 & 결과 & 중간 & 기말\\\\\n",
       "\\hline\n",
       "\t 1학년 & 국어  & 좋음  & 80    & 90   \\\\\n",
       "\t 1학년 & 국어  &  나쁨 & 50    & 40   \\\\\n",
       "\t 1학년 & 국어  &  나쁨 & 20    & 50   \\\\\n",
       "\t 1학년 & 수학  & 좋음  & 83    & 95   \\\\\n",
       "\t 1학년 & 수학  & 좋음  & 93    & 86   \\\\\n",
       "\t 2학년 & 국어  &  나쁨 & 44    & 65   \\\\\n",
       "\t 2학년 & 국어  & 좋음  & 95    & 98   \\\\\n",
       "\t 2학년 & 수학  & 좋음  & 96    & 99   \\\\\n",
       "\t 2학년 & 수학  &  나쁨 & 57    & 69   \\\\\n",
       "\\end{tabular}\n"
      ],
      "text/markdown": [
       "\n",
       "| 학년 | 과목 | 결과 | 중간 | 기말 |\n",
       "|---|---|---|---|---|\n",
       "| 1학년 | 국어  | 좋음  | 80    | 90    |\n",
       "| 1학년 | 국어  |  나쁨 | 50    | 40    |\n",
       "| 1학년 | 국어  |  나쁨 | 20    | 50    |\n",
       "| 1학년 | 수학  | 좋음  | 83    | 95    |\n",
       "| 1학년 | 수학  | 좋음  | 93    | 86    |\n",
       "| 2학년 | 국어  |  나쁨 | 44    | 65    |\n",
       "| 2학년 | 국어  | 좋음  | 95    | 98    |\n",
       "| 2학년 | 수학  | 좋음  | 96    | 99    |\n",
       "| 2학년 | 수학  |  나쁨 | 57    | 69    |\n",
       "\n"
      ],
      "text/plain": [
       "  학년  과목 결과  중간 기말\n",
       "1 1학년 국어 좋음  80   90  \n",
       "2 1학년 국어  나쁨 50   40  \n",
       "3 1학년 국어  나쁨 20   50  \n",
       "4 1학년 수학 좋음  83   95  \n",
       "5 1학년 수학 좋음  93   86  \n",
       "6 2학년 국어  나쁨 44   65  \n",
       "7 2학년 국어 좋음  95   98  \n",
       "8 2학년 수학 좋음  96   99  \n",
       "9 2학년 수학  나쁨 57   69  "
      ]
     },
     "metadata": {},
     "output_type": "display_data"
    }
   ],
   "source": [
    "gradeDF = read.csv(\"C:/R/data/grade.csv\", fileEncoding = 'UTF-8')\n",
    "gradeDF"
   ]
  },
  {
   "cell_type": "markdown",
   "id": "f647349c",
   "metadata": {},
   "source": [
    "# aggregate join"
   ]
  },
  {
   "cell_type": "code",
   "execution_count": 4,
   "id": "2a8963dd",
   "metadata": {},
   "outputs": [],
   "source": [
    "?aggregate"
   ]
  },
  {
   "cell_type": "code",
   "execution_count": 15,
   "id": "f322e89d",
   "metadata": {},
   "outputs": [
    {
     "data": {
      "text/html": [
       "<table>\n",
       "<thead><tr><th scope=col>학년</th><th scope=col>중간</th></tr></thead>\n",
       "<tbody>\n",
       "\t<tr><td>1학년</td><td>65.2 </td></tr>\n",
       "\t<tr><td>2학년</td><td>73.0 </td></tr>\n",
       "</tbody>\n",
       "</table>\n"
      ],
      "text/latex": [
       "\\begin{tabular}{r|ll}\n",
       " 학년 & 중간\\\\\n",
       "\\hline\n",
       "\t 1학년 & 65.2 \\\\\n",
       "\t 2학년 & 73.0 \\\\\n",
       "\\end{tabular}\n"
      ],
      "text/markdown": [
       "\n",
       "| 학년 | 중간 |\n",
       "|---|---|\n",
       "| 1학년 | 65.2  |\n",
       "| 2학년 | 73.0  |\n",
       "\n"
      ],
      "text/plain": [
       "  학년  중간\n",
       "1 1학년 65.2\n",
       "2 2학년 73.0"
      ]
     },
     "metadata": {},
     "output_type": "display_data"
    }
   ],
   "source": [
    "aggregate(중간 ~ 학년 ,gradeDF, mean)"
   ]
  },
  {
   "cell_type": "code",
   "execution_count": 7,
   "id": "5c2580f3",
   "metadata": {},
   "outputs": [],
   "source": [
    "fn = function(v)\n",
    "    {\n",
    "    cat(v, fill=T)\n",
    "    cat('=========', fill=T)\n",
    "    return (mean(v))\n",
    "}"
   ]
  },
  {
   "cell_type": "code",
   "execution_count": 8,
   "id": "57e459eb",
   "metadata": {},
   "outputs": [
    {
     "name": "stdout",
     "output_type": "stream",
     "text": [
      "80 50 20 83 93\n",
      "=========\n",
      "44 95 96 57\n",
      "=========\n"
     ]
    },
    {
     "data": {
      "text/html": [
       "<table>\n",
       "<thead><tr><th scope=col>학년</th><th scope=col>중간</th></tr></thead>\n",
       "<tbody>\n",
       "\t<tr><td>1학년</td><td>65.2 </td></tr>\n",
       "\t<tr><td>2학년</td><td>73.0 </td></tr>\n",
       "</tbody>\n",
       "</table>\n"
      ],
      "text/latex": [
       "\\begin{tabular}{r|ll}\n",
       " 학년 & 중간\\\\\n",
       "\\hline\n",
       "\t 1학년 & 65.2 \\\\\n",
       "\t 2학년 & 73.0 \\\\\n",
       "\\end{tabular}\n"
      ],
      "text/markdown": [
       "\n",
       "| 학년 | 중간 |\n",
       "|---|---|\n",
       "| 1학년 | 65.2  |\n",
       "| 2학년 | 73.0  |\n",
       "\n"
      ],
      "text/plain": [
       "  학년  중간\n",
       "1 1학년 65.2\n",
       "2 2학년 73.0"
      ]
     },
     "metadata": {},
     "output_type": "display_data"
    }
   ],
   "source": [
    "aggregate(중간 ~ 학년, gradeDF, fn)"
   ]
  },
  {
   "cell_type": "code",
   "execution_count": 16,
   "id": "efcb11e4",
   "metadata": {},
   "outputs": [
    {
     "data": {
      "text/html": [
       "<table>\n",
       "<thead><tr><th scope=col>학년</th><th scope=col>중간</th></tr></thead>\n",
       "<tbody>\n",
       "\t<tr><td>1학년 </td><td>불합격</td></tr>\n",
       "\t<tr><td>2학년 </td><td>합격  </td></tr>\n",
       "</tbody>\n",
       "</table>\n"
      ],
      "text/latex": [
       "\\begin{tabular}{r|ll}\n",
       " 학년 & 중간\\\\\n",
       "\\hline\n",
       "\t 1학년  & 불합격\\\\\n",
       "\t 2학년  & 합격  \\\\\n",
       "\\end{tabular}\n"
      ],
      "text/markdown": [
       "\n",
       "| 학년 | 중간 |\n",
       "|---|---|\n",
       "| 1학년  | 불합격 |\n",
       "| 2학년  | 합격   |\n",
       "\n"
      ],
      "text/plain": [
       "  학년  중간  \n",
       "1 1학년 불합격\n",
       "2 2학년 합격  "
      ]
     },
     "metadata": {},
     "output_type": "display_data"
    }
   ],
   "source": [
    "# 학년별 평균이 70점 이상이면 합격 아니면 불합격으로 표시하시오\n",
    "aggregate(중간 ~ 학년, gradeDF, function(v) ifelse ( mean(v) > 70, '합격', '불합격') )"
   ]
  },
  {
   "cell_type": "code",
   "execution_count": 18,
   "id": "4954e6d8",
   "metadata": {},
   "outputs": [
    {
     "data": {
      "text/html": [
       "<table>\n",
       "<thead><tr><th scope=col>학년</th><th scope=col>중간</th><th scope=col>기말</th></tr></thead>\n",
       "<tbody>\n",
       "\t<tr><td>1학년</td><td>65.2 </td><td>72.20</td></tr>\n",
       "\t<tr><td>2학년</td><td>73.0 </td><td>82.75</td></tr>\n",
       "</tbody>\n",
       "</table>\n"
      ],
      "text/latex": [
       "\\begin{tabular}{r|lll}\n",
       " 학년 & 중간 & 기말\\\\\n",
       "\\hline\n",
       "\t 1학년 & 65.2  & 72.20\\\\\n",
       "\t 2학년 & 73.0  & 82.75\\\\\n",
       "\\end{tabular}\n"
      ],
      "text/markdown": [
       "\n",
       "| 학년 | 중간 | 기말 |\n",
       "|---|---|---|\n",
       "| 1학년 | 65.2  | 72.20 |\n",
       "| 2학년 | 73.0  | 82.75 |\n",
       "\n"
      ],
      "text/plain": [
       "  학년  중간 기말 \n",
       "1 1학년 65.2 72.20\n",
       "2 2학년 73.0 82.75"
      ]
     },
     "metadata": {},
     "output_type": "display_data"
    }
   ],
   "source": [
    "aggregate( cbind(중간, 기말) ~ 학년, gradeDF, mean)"
   ]
  },
  {
   "cell_type": "code",
   "execution_count": 19,
   "id": "77946864",
   "metadata": {},
   "outputs": [
    {
     "name": "stdout",
     "output_type": "stream",
     "text": [
      "80 50 20 83 93\n",
      "=========\n",
      "44 95 96 57\n",
      "=========\n",
      "90 40 50 95 86\n",
      "=========\n",
      "65 98 99 69\n",
      "=========\n"
     ]
    },
    {
     "data": {
      "text/html": [
       "<table>\n",
       "<thead><tr><th scope=col>학년</th><th scope=col>중간</th><th scope=col>기말</th></tr></thead>\n",
       "<tbody>\n",
       "\t<tr><td>1학년</td><td>65.2 </td><td>72.20</td></tr>\n",
       "\t<tr><td>2학년</td><td>73.0 </td><td>82.75</td></tr>\n",
       "</tbody>\n",
       "</table>\n"
      ],
      "text/latex": [
       "\\begin{tabular}{r|lll}\n",
       " 학년 & 중간 & 기말\\\\\n",
       "\\hline\n",
       "\t 1학년 & 65.2  & 72.20\\\\\n",
       "\t 2학년 & 73.0  & 82.75\\\\\n",
       "\\end{tabular}\n"
      ],
      "text/markdown": [
       "\n",
       "| 학년 | 중간 | 기말 |\n",
       "|---|---|---|\n",
       "| 1학년 | 65.2  | 72.20 |\n",
       "| 2학년 | 73.0  | 82.75 |\n",
       "\n"
      ],
      "text/plain": [
       "  학년  중간 기말 \n",
       "1 1학년 65.2 72.20\n",
       "2 2학년 73.0 82.75"
      ]
     },
     "metadata": {},
     "output_type": "display_data"
    }
   ],
   "source": [
    "aggregate( cbind(중간, 기말) ~ 학년, gradeDF, fn)"
   ]
  },
  {
   "cell_type": "code",
   "execution_count": 20,
   "id": "b85a0da9",
   "metadata": {},
   "outputs": [
    {
     "data": {
      "text/html": [
       "<table>\n",
       "<thead><tr><th scope=col>학년</th><th scope=col>중간</th><th scope=col>기말</th></tr></thead>\n",
       "<tbody>\n",
       "\t<tr><td>1학년 </td><td>불합격</td><td>합격  </td></tr>\n",
       "\t<tr><td>2학년 </td><td>합격  </td><td>합격  </td></tr>\n",
       "</tbody>\n",
       "</table>\n"
      ],
      "text/latex": [
       "\\begin{tabular}{r|lll}\n",
       " 학년 & 중간 & 기말\\\\\n",
       "\\hline\n",
       "\t 1학년  & 불합격 & 합격  \\\\\n",
       "\t 2학년  & 합격   & 합격  \\\\\n",
       "\\end{tabular}\n"
      ],
      "text/markdown": [
       "\n",
       "| 학년 | 중간 | 기말 |\n",
       "|---|---|---|\n",
       "| 1학년  | 불합격 | 합격   |\n",
       "| 2학년  | 합격   | 합격   |\n",
       "\n"
      ],
      "text/plain": [
       "  학년  중간   기말\n",
       "1 1학년 불합격 합격\n",
       "2 2학년 합격   합격"
      ]
     },
     "metadata": {},
     "output_type": "display_data"
    }
   ],
   "source": [
    "aggregate(cbind(중간, 기말) ~ 학년, gradeDF, function(v) ifelse ( mean(v) > 70, '합격', '불합격') )"
   ]
  },
  {
   "cell_type": "code",
   "execution_count": 21,
   "id": "63c1e4ad",
   "metadata": {},
   "outputs": [
    {
     "data": {
      "text/html": [
       "<table>\n",
       "<thead><tr><th scope=col>학년</th><th scope=col>과목</th><th scope=col>중간</th></tr></thead>\n",
       "<tbody>\n",
       "\t<tr><td>1학년</td><td>국어 </td><td>50.0 </td></tr>\n",
       "\t<tr><td>2학년</td><td>국어 </td><td>69.5 </td></tr>\n",
       "\t<tr><td>1학년</td><td>수학 </td><td>88.0 </td></tr>\n",
       "\t<tr><td>2학년</td><td>수학 </td><td>76.5 </td></tr>\n",
       "</tbody>\n",
       "</table>\n"
      ],
      "text/latex": [
       "\\begin{tabular}{r|lll}\n",
       " 학년 & 과목 & 중간\\\\\n",
       "\\hline\n",
       "\t 1학년 & 국어  & 50.0 \\\\\n",
       "\t 2학년 & 국어  & 69.5 \\\\\n",
       "\t 1학년 & 수학  & 88.0 \\\\\n",
       "\t 2학년 & 수학  & 76.5 \\\\\n",
       "\\end{tabular}\n"
      ],
      "text/markdown": [
       "\n",
       "| 학년 | 과목 | 중간 |\n",
       "|---|---|---|\n",
       "| 1학년 | 국어  | 50.0  |\n",
       "| 2학년 | 국어  | 69.5  |\n",
       "| 1학년 | 수학  | 88.0  |\n",
       "| 2학년 | 수학  | 76.5  |\n",
       "\n"
      ],
      "text/plain": [
       "  학년  과목 중간\n",
       "1 1학년 국어 50.0\n",
       "2 2학년 국어 69.5\n",
       "3 1학년 수학 88.0\n",
       "4 2학년 수학 76.5"
      ]
     },
     "metadata": {},
     "output_type": "display_data"
    }
   ],
   "source": [
    "## 학년 및 과목별 중간고사 평균을 구하시오\n",
    "aggregate( 중간 ~ 학년 + 과목, gradeDF, mean)"
   ]
  },
  {
   "cell_type": "code",
   "execution_count": 24,
   "id": "8c57f29a",
   "metadata": {},
   "outputs": [
    {
     "data": {
      "text/html": [
       "<table>\n",
       "<thead><tr><th scope=col>학년</th><th scope=col>과목</th><th scope=col>중간</th><th scope=col>기말</th></tr></thead>\n",
       "<tbody>\n",
       "\t<tr><td>1학년</td><td>국어 </td><td>50.0 </td><td>60.0 </td></tr>\n",
       "\t<tr><td>2학년</td><td>국어 </td><td>69.5 </td><td>81.5 </td></tr>\n",
       "\t<tr><td>1학년</td><td>수학 </td><td>88.0 </td><td>90.5 </td></tr>\n",
       "\t<tr><td>2학년</td><td>수학 </td><td>76.5 </td><td>84.0 </td></tr>\n",
       "</tbody>\n",
       "</table>\n"
      ],
      "text/latex": [
       "\\begin{tabular}{r|llll}\n",
       " 학년 & 과목 & 중간 & 기말\\\\\n",
       "\\hline\n",
       "\t 1학년 & 국어  & 50.0  & 60.0 \\\\\n",
       "\t 2학년 & 국어  & 69.5  & 81.5 \\\\\n",
       "\t 1학년 & 수학  & 88.0  & 90.5 \\\\\n",
       "\t 2학년 & 수학  & 76.5  & 84.0 \\\\\n",
       "\\end{tabular}\n"
      ],
      "text/markdown": [
       "\n",
       "| 학년 | 과목 | 중간 | 기말 |\n",
       "|---|---|---|---|\n",
       "| 1학년 | 국어  | 50.0  | 60.0  |\n",
       "| 2학년 | 국어  | 69.5  | 81.5  |\n",
       "| 1학년 | 수학  | 88.0  | 90.5  |\n",
       "| 2학년 | 수학  | 76.5  | 84.0  |\n",
       "\n"
      ],
      "text/plain": [
       "  학년  과목 중간 기말\n",
       "1 1학년 국어 50.0 60.0\n",
       "2 2학년 국어 69.5 81.5\n",
       "3 1학년 수학 88.0 90.5\n",
       "4 2학년 수학 76.5 84.0"
      ]
     },
     "metadata": {},
     "output_type": "display_data"
    }
   ],
   "source": [
    "aggregate( cbind(중간,기말)~학년+과목  ,gradeDF, mean )"
   ]
  },
  {
   "cell_type": "code",
   "execution_count": null,
   "id": "d360a076",
   "metadata": {},
   "outputs": [],
   "source": []
  },
  {
   "cell_type": "markdown",
   "id": "fa7e143f",
   "metadata": {},
   "source": [
    "# 지도"
   ]
  },
  {
   "cell_type": "code",
   "execution_count": 2,
   "id": "1b99817d",
   "metadata": {},
   "outputs": [
    {
     "name": "stdout",
     "output_type": "stream",
     "text": [
      "\n",
      "  There is a binary version available but the source version is later:\n",
      "        binary source needs_compilation\n",
      "ggplot2  3.3.3  3.3.5             FALSE\n",
      "\n"
     ]
    },
    {
     "name": "stderr",
     "output_type": "stream",
     "text": [
      "installing the source package 'ggplot2'\n",
      "\n"
     ]
    }
   ],
   "source": [
    "install.packages('ggplot2')"
   ]
  },
  {
   "cell_type": "code",
   "execution_count": 1,
   "id": "c8b148a5",
   "metadata": {},
   "outputs": [
    {
     "ename": "ERROR",
     "evalue": "Error in library(\"ggplot2\"): there is no package called 'ggplot2'\n",
     "output_type": "error",
     "traceback": [
      "Error in library(\"ggplot2\"): there is no package called 'ggplot2'\nTraceback:\n",
      "1. library(\"ggplot2\")"
     ]
    }
   ],
   "source": [
    "library('ggplot2')"
   ]
  },
  {
   "cell_type": "code",
   "execution_count": 26,
   "id": "6310ce51",
   "metadata": {},
   "outputs": [
    {
     "name": "stderr",
     "output_type": "stream",
     "text": [
      "also installing the dependencies 'terra', 'viridisLite', 'gridExtra', 'crosstalk', 'htmlwidgets', 'png', 'raster', 'sp', 'viridis', 'leaflet.providers'\n",
      "\n"
     ]
    },
    {
     "name": "stdout",
     "output_type": "stream",
     "text": [
      "\n",
      "  There are binary versions available but the source versions are later:\n",
      "             binary source needs_compilation\n",
      "terra         1.2-5 1.5-21              TRUE\n",
      "crosstalk     1.1.1  1.2.0             FALSE\n",
      "htmlwidgets   1.5.3  1.5.4             FALSE\n",
      "raster       3.4-10 3.5-15              TRUE\n",
      "sp            1.4-5  1.4-6              TRUE\n",
      "viridis       0.6.1  0.6.2             FALSE\n",
      "leaflet     2.0.4.1  2.1.1             FALSE\n",
      "\n",
      "package 'viridisLite' successfully unpacked and MD5 sums checked\n",
      "package 'gridExtra' successfully unpacked and MD5 sums checked\n",
      "package 'png' successfully unpacked and MD5 sums checked\n",
      "package 'leaflet.providers' successfully unpacked and MD5 sums checked\n",
      "\n",
      "The downloaded binary packages are in\n",
      "\tC:\\tmp\\Rtmpg7mujY\\downloaded_packages\n"
     ]
    },
    {
     "name": "stderr",
     "output_type": "stream",
     "text": [
      "installing the source packages 'terra', 'crosstalk', 'htmlwidgets', 'raster', 'sp', 'viridis', 'leaflet'\n",
      "\n",
      "Warning message in install.packages(\"leaflet\"):\n",
      "\"installation of package 'terra' had non-zero exit status\"Warning message in install.packages(\"leaflet\"):\n",
      "\"installation of package 'sp' had non-zero exit status\"Warning message in install.packages(\"leaflet\"):\n",
      "\"installation of package 'viridis' had non-zero exit status\"Warning message in install.packages(\"leaflet\"):\n",
      "\"installation of package 'raster' had non-zero exit status\"Warning message in install.packages(\"leaflet\"):\n",
      "\"installation of package 'leaflet' had non-zero exit status\""
     ]
    }
   ],
   "source": [
    "install.packages('leaflet')"
   ]
  },
  {
   "cell_type": "code",
   "execution_count": 27,
   "id": "c33af5ca",
   "metadata": {},
   "outputs": [
    {
     "ename": "ERROR",
     "evalue": "Error in library(leaflet): there is no package called 'leaflet'\n",
     "output_type": "error",
     "traceback": [
      "Error in library(leaflet): there is no package called 'leaflet'\nTraceback:\n",
      "1. library(leaflet)"
     ]
    }
   ],
   "source": [
    "library(leaflet)"
   ]
  },
  {
   "cell_type": "code",
   "execution_count": null,
   "id": "e27650c8",
   "metadata": {},
   "outputs": [],
   "source": [
    "?leaflet"
   ]
  },
  {
   "cell_type": "code",
   "execution_count": null,
   "id": "65aede6d",
   "metadata": {},
   "outputs": [],
   "source": [
    "map = leaflet()"
   ]
  },
  {
   "cell_type": "code",
   "execution_count": null,
   "id": "08a4b405",
   "metadata": {},
   "outputs": [],
   "source": []
  }
 ],
 "metadata": {
  "kernelspec": {
   "display_name": "R",
   "language": "R",
   "name": "ir"
  },
  "language_info": {
   "codemirror_mode": "r",
   "file_extension": ".r",
   "mimetype": "text/x-r-source",
   "name": "R",
   "pygments_lexer": "r",
   "version": "3.6.1"
  }
 },
 "nbformat": 4,
 "nbformat_minor": 5
}
