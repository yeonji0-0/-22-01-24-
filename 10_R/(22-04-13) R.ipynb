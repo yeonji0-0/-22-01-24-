{
 "cells": [
  {
   "cell_type": "code",
   "execution_count": 2,
   "id": "3fa08d9e",
   "metadata": {},
   "outputs": [
    {
     "data": {
      "text/html": [
       "<ol class=list-inline>\n",
       "\t<li>10</li>\n",
       "\t<li>20</li>\n",
       "\t<li>30</li>\n",
       "\t<li>40</li>\n",
       "\t<li>50</li>\n",
       "\t<li>60</li>\n",
       "\t<li>70</li>\n",
       "</ol>\n"
      ],
      "text/latex": [
       "\\begin{enumerate*}\n",
       "\\item 10\n",
       "\\item 20\n",
       "\\item 30\n",
       "\\item 40\n",
       "\\item 50\n",
       "\\item 60\n",
       "\\item 70\n",
       "\\end{enumerate*}\n"
      ],
      "text/markdown": [
       "1. 10\n",
       "2. 20\n",
       "3. 30\n",
       "4. 40\n",
       "5. 50\n",
       "6. 60\n",
       "7. 70\n",
       "\n",
       "\n"
      ],
      "text/plain": [
       "[1] 10 20 30 40 50 60 70"
      ]
     },
     "metadata": {},
     "output_type": "display_data"
    }
   ],
   "source": [
    "t = c(10, 20, 30, 40, 50, 60, 70)\n",
    "t"
   ]
  },
  {
   "cell_type": "code",
   "execution_count": 3,
   "id": "4b85ed6a",
   "metadata": {},
   "outputs": [],
   "source": [
    "fn = function(v)\n",
    "    {\n",
    "     if (v >= 30)\n",
    "         return(v+2)\n",
    "    else\n",
    "        return(v+5)\n",
    "    # return ( ifelse ( v >= 30, v+2, v+5)) 한 번에 쓰기\n",
    "}"
   ]
  },
  {
   "cell_type": "code",
   "execution_count": 4,
   "id": "fb8de268",
   "metadata": {},
   "outputs": [
    {
     "data": {
      "text/html": [
       "<ol class=list-inline>\n",
       "\t<li>15</li>\n",
       "\t<li>25</li>\n",
       "\t<li>32</li>\n",
       "\t<li>42</li>\n",
       "\t<li>52</li>\n",
       "\t<li>62</li>\n",
       "\t<li>72</li>\n",
       "</ol>\n"
      ],
      "text/latex": [
       "\\begin{enumerate*}\n",
       "\\item 15\n",
       "\\item 25\n",
       "\\item 32\n",
       "\\item 42\n",
       "\\item 52\n",
       "\\item 62\n",
       "\\item 72\n",
       "\\end{enumerate*}\n"
      ],
      "text/markdown": [
       "1. 15\n",
       "2. 25\n",
       "3. 32\n",
       "4. 42\n",
       "5. 52\n",
       "6. 62\n",
       "7. 72\n",
       "\n",
       "\n"
      ],
      "text/plain": [
       "[1] 15 25 32 42 52 62 72"
      ]
     },
     "metadata": {},
     "output_type": "display_data"
    }
   ],
   "source": [
    "sapply( t, fn)"
   ]
  },
  {
   "cell_type": "code",
   "execution_count": 9,
   "id": "d5c1e58b",
   "metadata": {},
   "outputs": [
    {
     "data": {
      "text/html": [
       "<ol class=list-inline>\n",
       "\t<li>15</li>\n",
       "\t<li>25</li>\n",
       "\t<li>32</li>\n",
       "\t<li>42</li>\n",
       "\t<li>52</li>\n",
       "\t<li>62</li>\n",
       "\t<li>72</li>\n",
       "</ol>\n"
      ],
      "text/latex": [
       "\\begin{enumerate*}\n",
       "\\item 15\n",
       "\\item 25\n",
       "\\item 32\n",
       "\\item 42\n",
       "\\item 52\n",
       "\\item 62\n",
       "\\item 72\n",
       "\\end{enumerate*}\n"
      ],
      "text/markdown": [
       "1. 15\n",
       "2. 25\n",
       "3. 32\n",
       "4. 42\n",
       "5. 52\n",
       "6. 62\n",
       "7. 72\n",
       "\n",
       "\n"
      ],
      "text/plain": [
       "[1] 15 25 32 42 52 62 72"
      ]
     },
     "metadata": {},
     "output_type": "display_data"
    }
   ],
   "source": [
    "# python : sr.apply( lambda v : v+2 if v >= 30 else v + 5)\n",
    "sapply ( t, function(v) ifelse(v >= 30, v+2, v+5) )"
   ]
  },
  {
   "cell_type": "code",
   "execution_count": 16,
   "id": "d714c63d",
   "metadata": {},
   "outputs": [
    {
     "data": {
      "text/html": [
       "<ol class=list-inline>\n",
       "\t<li>'불합격'</li>\n",
       "\t<li>'불합격'</li>\n",
       "\t<li>'합격'</li>\n",
       "\t<li>'합격'</li>\n",
       "\t<li>'합격'</li>\n",
       "\t<li>'합격'</li>\n",
       "\t<li>'합격'</li>\n",
       "</ol>\n"
      ],
      "text/latex": [
       "\\begin{enumerate*}\n",
       "\\item '불합격'\n",
       "\\item '불합격'\n",
       "\\item '합격'\n",
       "\\item '합격'\n",
       "\\item '합격'\n",
       "\\item '합격'\n",
       "\\item '합격'\n",
       "\\end{enumerate*}\n"
      ],
      "text/markdown": [
       "1. '불합격'\n",
       "2. '불합격'\n",
       "3. '합격'\n",
       "4. '합격'\n",
       "5. '합격'\n",
       "6. '합격'\n",
       "7. '합격'\n",
       "\n",
       "\n"
      ],
      "text/plain": [
       "[1] \"불합격\" \"불합격\" \"합격\"   \"합격\"   \"합격\"   \"합격\"   \"합격\"  "
      ]
     },
     "metadata": {},
     "output_type": "display_data"
    }
   ],
   "source": [
    "## 50점 이상이면 합격 아니면 불합격으로 출력하시오\n",
    "sapply ( t, function(v) ifelse(v >= 30, '합격', '불합격') )"
   ]
  },
  {
   "cell_type": "code",
   "execution_count": 17,
   "id": "025f1ea6",
   "metadata": {},
   "outputs": [
    {
     "data": {
      "text/html": [
       "<ol class=list-inline>\n",
       "\t<li>90</li>\n",
       "\t<li>90</li>\n",
       "\t<li>55</li>\n",
       "\t<li>60</li>\n",
       "\t<li>76</li>\n",
       "\t<li>80</li>\n",
       "\t<li>76</li>\n",
       "\t<li>88</li>\n",
       "\t<li>30</li>\n",
       "\t<li>25</li>\n",
       "</ol>\n"
      ],
      "text/latex": [
       "\\begin{enumerate*}\n",
       "\\item 90\n",
       "\\item 90\n",
       "\\item 55\n",
       "\\item 60\n",
       "\\item 76\n",
       "\\item 80\n",
       "\\item 76\n",
       "\\item 88\n",
       "\\item 30\n",
       "\\item 25\n",
       "\\end{enumerate*}\n"
      ],
      "text/markdown": [
       "1. 90\n",
       "2. 90\n",
       "3. 55\n",
       "4. 60\n",
       "5. 76\n",
       "6. 80\n",
       "7. 76\n",
       "8. 88\n",
       "9. 30\n",
       "10. 25\n",
       "\n",
       "\n"
      ],
      "text/plain": [
       " [1] 90 90 55 60 76 80 76 88 30 25"
      ]
     },
     "metadata": {},
     "output_type": "display_data"
    }
   ],
   "source": [
    "kor = c(90,90,55,60,76,80,76,88,30,25)\n",
    "kor"
   ]
  },
  {
   "cell_type": "code",
   "execution_count": 18,
   "id": "8d1f89f8",
   "metadata": {},
   "outputs": [
    {
     "data": {
      "text/html": [
       "90"
      ],
      "text/latex": [
       "90"
      ],
      "text/markdown": [
       "90"
      ],
      "text/plain": [
       "[1] 90"
      ]
     },
     "metadata": {},
     "output_type": "display_data"
    }
   ],
   "source": [
    "# 1. 국어점수가 가장큰값을 구하시요\n",
    "max(kor)"
   ]
  },
  {
   "cell_type": "code",
   "execution_count": 25,
   "id": "33952749",
   "metadata": {},
   "outputs": [
    {
     "ename": "ERROR",
     "evalue": "Error in parse(text = x, srcfile = src): <text>:1:4: 예상하지 못한 기호(symbol)입니다.\n1: 2. 국어점수가\n       ^\n",
     "output_type": "error",
     "traceback": [
      "Error in parse(text = x, srcfile = src): <text>:1:4: 예상하지 못한 기호(symbol)입니다.\n1: 2. 국어점수가\n       ^\nTraceback:\n"
     ]
    }
   ],
   "source": [
    "2. 국어점수가 80점이상인 값을 구하시요\n",
    "kor[(kor>=80)]\n"
   ]
  },
  {
   "cell_type": "code",
   "execution_count": null,
   "id": "61d17a5c",
   "metadata": {},
   "outputs": [],
   "source": [
    "3. 국어 점수가 50점이상 80점이하인\n",
    "값을 구하시요\n"
   ]
  },
  {
   "cell_type": "code",
   "execution_count": null,
   "id": "b934c6ac",
   "metadata": {},
   "outputs": [],
   "source": [
    "4. 국어점수의 평균을 구하시요\n"
   ]
  },
  {
   "cell_type": "code",
   "execution_count": null,
   "id": "9d3337ef",
   "metadata": {},
   "outputs": [],
   "source": [
    "5. 국어점수의 총합을 구하시요\n"
   ]
  },
  {
   "cell_type": "code",
   "execution_count": null,
   "id": "b19bd798",
   "metadata": {},
   "outputs": [],
   "source": [
    "6. 국어점수의 표준편차를 구하시요\n"
   ]
  },
  {
   "cell_type": "code",
   "execution_count": null,
   "id": "6ba9c959",
   "metadata": {},
   "outputs": [],
   "source": [
    "7. 국어점수가 40점이하인 데이터를 삭제하시요\n"
   ]
  },
  {
   "cell_type": "code",
   "execution_count": null,
   "id": "40a472c4",
   "metadata": {},
   "outputs": [],
   "source": [
    "8. 국어점수가 50점이상인 데이터에 가산점 10%를 \n",
    "미만인경우는 20%를 부여하시요"
   ]
  },
  {
   "cell_type": "code",
   "execution_count": null,
   "id": "80984f58",
   "metadata": {},
   "outputs": [],
   "source": []
  },
  {
   "cell_type": "code",
   "execution_count": 26,
   "id": "c71ec826",
   "metadata": {},
   "outputs": [],
   "source": [
    "v <- c(1, 3, 6, 4, 9)"
   ]
  },
  {
   "cell_type": "code",
   "execution_count": 29,
   "id": "80a15e8c",
   "metadata": {},
   "outputs": [],
   "source": [
    "library('repr')"
   ]
  },
  {
   "cell_type": "code",
   "execution_count": 30,
   "id": "26a4725a",
   "metadata": {},
   "outputs": [],
   "source": [
    "options(repr.plot.width =4, repr.plot.height=5)"
   ]
  },
  {
   "cell_type": "code",
   "execution_count": 27,
   "id": "9af09408",
   "metadata": {},
   "outputs": [],
   "source": [
    "?plot"
   ]
  },
  {
   "cell_type": "code",
   "execution_count": 32,
   "id": "ed44976e",
   "metadata": {},
   "outputs": [
    {
     "data": {
      "image/png": "[encoded data removed]",
      "text/plain": [
       "plot without title"
      ]
     },
     "metadata": {},
     "output_type": "display_data"
    }
   ],
   "source": [
    "plot(v, type = 'l')"
   ]
  },
  {
   "cell_type": "code",
   "execution_count": 33,
   "id": "43982dbd",
   "metadata": {},
   "outputs": [
    {
     "data": {
      "image/png": "[encoded data removed]",
      "text/plain": [
       "plot without title"
      ]
     },
     "metadata": {},
     "output_type": "display_data"
    }
   ],
   "source": [
    "plot(v, type = 'o')"
   ]
  },
  {
   "cell_type": "code",
   "execution_count": 40,
   "id": "f860ad3a",
   "metadata": {},
   "outputs": [
    {
     "data": {
      "image/png": "[encoded data removed]",
      "text/plain": [
       "Plot with title \"grade\""
      ]
     },
     "metadata": {},
     "output_type": "display_data"
    }
   ],
   "source": [
    "plot(v, type = 'o', col = \"pink\", lwd = 5, xlab = 'x축', ylab='y축')\n",
    "title(main='grade', font.main = 10, col.main = \"purple\")"
   ]
  },
  {
   "cell_type": "code",
   "execution_count": null,
   "id": "4e04529b",
   "metadata": {},
   "outputs": [],
   "source": []
  },
  {
   "cell_type": "code",
   "execution_count": 42,
   "id": "d426deaa",
   "metadata": {},
   "outputs": [],
   "source": [
    "?barplot"
   ]
  },
  {
   "cell_type": "code",
   "execution_count": 49,
   "id": "44e407db",
   "metadata": {},
   "outputs": [
    {
     "data": {
      "image/png": "[encoded data removed]",
      "text/plain": [
       "Plot with title \"메인\""
      ]
     },
     "metadata": {},
     "output_type": "display_data"
    }
   ],
   "source": [
    "barplot(v, names.arg=c('a','b','c','d','e'), main=\"메인\", xlab='x축', ylab='y축', ylim=c(0,10))"
   ]
  },
  {
   "cell_type": "code",
   "execution_count": null,
   "id": "6e710eeb",
   "metadata": {},
   "outputs": [],
   "source": []
  },
  {
   "cell_type": "code",
   "execution_count": 47,
   "id": "1cf632be",
   "metadata": {},
   "outputs": [],
   "source": [
    "?pie"
   ]
  },
  {
   "cell_type": "code",
   "execution_count": 50,
   "id": "43716ea8",
   "metadata": {},
   "outputs": [
    {
     "data": {
      "image/png": "[encoded data removed]",
      "text/plain": [
       "plot without title"
      ]
     },
     "metadata": {},
     "output_type": "display_data"
    }
   ],
   "source": [
    "pie(v, labels = c('a','b','c','d','e'))"
   ]
  },
  {
   "cell_type": "code",
   "execution_count": null,
   "id": "c25df3db",
   "metadata": {},
   "outputs": [],
   "source": []
  },
  {
   "cell_type": "code",
   "execution_count": null,
   "id": "436a952f",
   "metadata": {},
   "outputs": [],
   "source": [
    "?boxplot"
   ]
  },
  {
   "cell_type": "code",
   "execution_count": 51,
   "id": "0d9e5d36",
   "metadata": {},
   "outputs": [
    {
     "data": {
      "image/png": "[encoded data removed]",
      "text/plain": [
       "plot without title"
      ]
     },
     "metadata": {},
     "output_type": "display_data"
    }
   ],
   "source": [
    "boxplot(v)"
   ]
  },
  {
   "cell_type": "code",
   "execution_count": null,
   "id": "17859af9",
   "metadata": {},
   "outputs": [],
   "source": []
  },
  {
   "cell_type": "code",
   "execution_count": null,
   "id": "1f439626",
   "metadata": {},
   "outputs": [],
   "source": [
    "?par"
   ]
  },
  {
   "cell_type": "code",
   "execution_count": 52,
   "id": "4f8da092",
   "metadata": {},
   "outputs": [
    {
     "data": {
      "image/png": "[encoded data removed]",
      "text/plain": [
       "Plot with title \"메인\""
      ]
     },
     "metadata": {},
     "output_type": "display_data"
    }
   ],
   "source": [
    "par(mfcol=c(2,2))\n",
    "plot(v, type='o',col = \"red\",lwd = 5, xlab='x축', ylab='y축')\n",
    "barplot(v, names.arg=c('a','b','c','d','e'), main='메인', xlab='x축',\n",
    "        ylab='y축', ylim=c(0,10) )\n",
    "pie( v ,labels = c('a','b','c','d','e'))\n"
   ]
  },
  {
   "cell_type": "code",
   "execution_count": null,
   "id": "d418545e",
   "metadata": {},
   "outputs": [],
   "source": []
  },
  {
   "cell_type": "markdown",
   "id": "086ab875",
   "metadata": {},
   "source": [
    "# 팩터\n",
    "* 벡터의 특수한 형태\n",
    "* 범주형데이터\n",
    "* 소형, 중형, 대형\n",
    "* 레벨을 원소로 하는 벡터"
   ]
  },
  {
   "cell_type": "code",
   "execution_count": 53,
   "id": "a5cc5049",
   "metadata": {},
   "outputs": [
    {
     "data": {
      "text/html": [
       "<ol class=list-inline>\n",
       "\t<li>'사과'</li>\n",
       "\t<li>'복숭아'</li>\n",
       "\t<li>'사과'</li>\n",
       "\t<li>'오렌지'</li>\n",
       "\t<li>'사과'</li>\n",
       "\t<li>'오렌지'</li>\n",
       "\t<li>'복숭아'</li>\n",
       "</ol>\n"
      ],
      "text/latex": [
       "\\begin{enumerate*}\n",
       "\\item '사과'\n",
       "\\item '복숭아'\n",
       "\\item '사과'\n",
       "\\item '오렌지'\n",
       "\\item '사과'\n",
       "\\item '오렌지'\n",
       "\\item '복숭아'\n",
       "\\end{enumerate*}\n"
      ],
      "text/markdown": [
       "1. '사과'\n",
       "2. '복숭아'\n",
       "3. '사과'\n",
       "4. '오렌지'\n",
       "5. '사과'\n",
       "6. '오렌지'\n",
       "7. '복숭아'\n",
       "\n",
       "\n"
      ],
      "text/plain": [
       "[1] \"사과\"   \"복숭아\" \"사과\"   \"오렌지\" \"사과\"   \"오렌지\" \"복숭아\""
      ]
     },
     "metadata": {},
     "output_type": "display_data"
    }
   ],
   "source": [
    "v_character <- c(\"사과\", \"복숭아\", \"사과\", \"오렌지\", \"사과\", \"오렌지\", \"복숭아\")\n",
    "v_character"
   ]
  },
  {
   "cell_type": "code",
   "execution_count": 54,
   "id": "339d7075",
   "metadata": {},
   "outputs": [],
   "source": [
    "?factor"
   ]
  },
  {
   "cell_type": "code",
   "execution_count": 57,
   "id": "0663a4c4",
   "metadata": {},
   "outputs": [
    {
     "data": {
      "text/html": [
       "<ol class=list-inline>\n",
       "\t<li>사과</li>\n",
       "\t<li>복숭아</li>\n",
       "\t<li>사과</li>\n",
       "\t<li>오렌지</li>\n",
       "\t<li>사과</li>\n",
       "\t<li>오렌지</li>\n",
       "\t<li>복숭아</li>\n",
       "</ol>\n",
       "\n",
       "<details>\n",
       "\t<summary style=display:list-item;cursor:pointer>\n",
       "\t\t<strong>Levels</strong>:\n",
       "\t</summary>\n",
       "\t<ol class=list-inline>\n",
       "\t\t<li>'복숭아'</li>\n",
       "\t\t<li>'사과'</li>\n",
       "\t\t<li>'오렌지'</li>\n",
       "\t</ol>\n",
       "</details>"
      ],
      "text/latex": [
       "\\begin{enumerate*}\n",
       "\\item 사과\n",
       "\\item 복숭아\n",
       "\\item 사과\n",
       "\\item 오렌지\n",
       "\\item 사과\n",
       "\\item 오렌지\n",
       "\\item 복숭아\n",
       "\\end{enumerate*}\n",
       "\n",
       "\\emph{Levels}: \\begin{enumerate*}\n",
       "\\item '복숭아'\n",
       "\\item '사과'\n",
       "\\item '오렌지'\n",
       "\\end{enumerate*}\n"
      ],
      "text/markdown": [
       "1. 사과\n",
       "2. 복숭아\n",
       "3. 사과\n",
       "4. 오렌지\n",
       "5. 사과\n",
       "6. 오렌지\n",
       "7. 복숭아\n",
       "\n",
       "\n",
       "\n",
       "**Levels**: 1. '복숭아'\n",
       "2. '사과'\n",
       "3. '오렌지'\n",
       "\n",
       "\n"
      ],
      "text/plain": [
       "[1] 사과   복숭아 사과   오렌지 사과   오렌지 복숭아\n",
       "Levels: 복숭아 사과 오렌지"
      ]
     },
     "metadata": {},
     "output_type": "display_data"
    }
   ],
   "source": [
    "v_factor = factor(v_character)\n",
    "v_factor"
   ]
  },
  {
   "cell_type": "code",
   "execution_count": 58,
   "id": "af37b52e",
   "metadata": {},
   "outputs": [
    {
     "data": {
      "text/html": [
       "<ol class=list-inline>\n",
       "\t<li>사과</li>\n",
       "\t<li>복숭아</li>\n",
       "\t<li>사과</li>\n",
       "\t<li>&lt;NA&gt;</li>\n",
       "\t<li>사과</li>\n",
       "\t<li>&lt;NA&gt;</li>\n",
       "\t<li>복숭아</li>\n",
       "</ol>\n",
       "\n",
       "<details>\n",
       "\t<summary style=display:list-item;cursor:pointer>\n",
       "\t\t<strong>Levels</strong>:\n",
       "\t</summary>\n",
       "\t<ol class=list-inline>\n",
       "\t\t<li>'사과'</li>\n",
       "\t\t<li>'복숭아'</li>\n",
       "\t</ol>\n",
       "</details>"
      ],
      "text/latex": [
       "\\begin{enumerate*}\n",
       "\\item 사과\n",
       "\\item 복숭아\n",
       "\\item 사과\n",
       "\\item <NA>\n",
       "\\item 사과\n",
       "\\item <NA>\n",
       "\\item 복숭아\n",
       "\\end{enumerate*}\n",
       "\n",
       "\\emph{Levels}: \\begin{enumerate*}\n",
       "\\item '사과'\n",
       "\\item '복숭아'\n",
       "\\end{enumerate*}\n"
      ],
      "text/markdown": [
       "1. 사과\n",
       "2. 복숭아\n",
       "3. 사과\n",
       "4. &lt;NA&gt;\n",
       "5. 사과\n",
       "6. &lt;NA&gt;\n",
       "7. 복숭아\n",
       "\n",
       "\n",
       "\n",
       "**Levels**: 1. '사과'\n",
       "2. '복숭아'\n",
       "\n",
       "\n"
      ],
      "text/plain": [
       "[1] 사과   복숭아 사과   <NA>   사과   <NA>   복숭아\n",
       "Levels: 사과 복숭아"
      ]
     },
     "metadata": {},
     "output_type": "display_data"
    }
   ],
   "source": [
    "v_factor = factor(v_character, levels = c('사과', '복숭아'))\n",
    "v_factor"
   ]
  },
  {
   "cell_type": "code",
   "execution_count": 59,
   "id": "45216af2",
   "metadata": {},
   "outputs": [],
   "source": [
    "myday = c('월','화','화','수','금','목')"
   ]
  },
  {
   "cell_type": "code",
   "execution_count": 61,
   "id": "1931e6be",
   "metadata": {},
   "outputs": [
    {
     "data": {
      "text/html": [
       "<ol class=list-inline>\n",
       "\t<li>월</li>\n",
       "\t<li>화</li>\n",
       "\t<li>화</li>\n",
       "\t<li>수</li>\n",
       "\t<li>금</li>\n",
       "\t<li>목</li>\n",
       "</ol>\n",
       "\n",
       "<details>\n",
       "\t<summary style=display:list-item;cursor:pointer>\n",
       "\t\t<strong>Levels</strong>:\n",
       "\t</summary>\n",
       "\t<ol class=list-inline>\n",
       "\t\t<li>'월'</li>\n",
       "\t\t<li>'화'</li>\n",
       "\t\t<li>'수'</li>\n",
       "\t\t<li>'목'</li>\n",
       "\t\t<li>'금'</li>\n",
       "\t\t<li>'토'</li>\n",
       "\t\t<li>'일'</li>\n",
       "\t</ol>\n",
       "</details>"
      ],
      "text/latex": [
       "\\begin{enumerate*}\n",
       "\\item 월\n",
       "\\item 화\n",
       "\\item 화\n",
       "\\item 수\n",
       "\\item 금\n",
       "\\item 목\n",
       "\\end{enumerate*}\n",
       "\n",
       "\\emph{Levels}: \\begin{enumerate*}\n",
       "\\item '월'\n",
       "\\item '화'\n",
       "\\item '수'\n",
       "\\item '목'\n",
       "\\item '금'\n",
       "\\item '토'\n",
       "\\item '일'\n",
       "\\end{enumerate*}\n"
      ],
      "text/markdown": [
       "1. 월\n",
       "2. 화\n",
       "3. 화\n",
       "4. 수\n",
       "5. 금\n",
       "6. 목\n",
       "\n",
       "\n",
       "\n",
       "**Levels**: 1. '월'\n",
       "2. '화'\n",
       "3. '수'\n",
       "4. '목'\n",
       "5. '금'\n",
       "6. '토'\n",
       "7. '일'\n",
       "\n",
       "\n"
      ],
      "text/plain": [
       "[1] 월 화 화 수 금 목\n",
       "Levels: 월 화 수 목 금 토 일"
      ]
     },
     "metadata": {},
     "output_type": "display_data"
    }
   ],
   "source": [
    "v_factor = factor(myday, levels =c('월','화','수','목','금','토','일') )\n",
    "v_factor"
   ]
  },
  {
   "cell_type": "code",
   "execution_count": 62,
   "id": "5c94f988",
   "metadata": {},
   "outputs": [
    {
     "data": {
      "text/html": [
       "월\n",
       "<details>\n",
       "\t<summary style=display:list-item;cursor:pointer>\n",
       "\t\t<strong>Levels</strong>:\n",
       "\t</summary>\n",
       "\t<ol class=list-inline>\n",
       "\t\t<li>'월'</li>\n",
       "\t\t<li>'화'</li>\n",
       "\t\t<li>'수'</li>\n",
       "\t\t<li>'목'</li>\n",
       "\t\t<li>'금'</li>\n",
       "\t\t<li>'토'</li>\n",
       "\t\t<li>'일'</li>\n",
       "\t</ol>\n",
       "</details>"
      ],
      "text/latex": [
       "월\n",
       "\\emph{Levels}: \\begin{enumerate*}\n",
       "\\item '월'\n",
       "\\item '화'\n",
       "\\item '수'\n",
       "\\item '목'\n",
       "\\item '금'\n",
       "\\item '토'\n",
       "\\item '일'\n",
       "\\end{enumerate*}\n"
      ],
      "text/markdown": [
       "월\n",
       "**Levels**: 1. '월'\n",
       "2. '화'\n",
       "3. '수'\n",
       "4. '목'\n",
       "5. '금'\n",
       "6. '토'\n",
       "7. '일'\n",
       "\n",
       "\n"
      ],
      "text/plain": [
       "[1] 월\n",
       "Levels: 월 화 수 목 금 토 일"
      ]
     },
     "metadata": {},
     "output_type": "display_data"
    }
   ],
   "source": [
    "v_factor[1]"
   ]
  },
  {
   "cell_type": "code",
   "execution_count": 63,
   "id": "8f62545e",
   "metadata": {},
   "outputs": [
    {
     "data": {
      "text/html": [
       "7"
      ],
      "text/latex": [
       "7"
      ],
      "text/markdown": [
       "7"
      ],
      "text/plain": [
       "[1] 7"
      ]
     },
     "metadata": {},
     "output_type": "display_data"
    }
   ],
   "source": [
    "nlevels(v_factor)"
   ]
  },
  {
   "cell_type": "code",
   "execution_count": 64,
   "id": "0e25611d",
   "metadata": {},
   "outputs": [
    {
     "data": {
      "text/html": [
       "<ol class=list-inline>\n",
       "\t<li>'월'</li>\n",
       "\t<li>'화'</li>\n",
       "\t<li>'수'</li>\n",
       "\t<li>'목'</li>\n",
       "\t<li>'금'</li>\n",
       "\t<li>'토'</li>\n",
       "\t<li>'일'</li>\n",
       "</ol>\n"
      ],
      "text/latex": [
       "\\begin{enumerate*}\n",
       "\\item '월'\n",
       "\\item '화'\n",
       "\\item '수'\n",
       "\\item '목'\n",
       "\\item '금'\n",
       "\\item '토'\n",
       "\\item '일'\n",
       "\\end{enumerate*}\n"
      ],
      "text/markdown": [
       "1. '월'\n",
       "2. '화'\n",
       "3. '수'\n",
       "4. '목'\n",
       "5. '금'\n",
       "6. '토'\n",
       "7. '일'\n",
       "\n",
       "\n"
      ],
      "text/plain": [
       "[1] \"월\" \"화\" \"수\" \"목\" \"금\" \"토\" \"일\""
      ]
     },
     "metadata": {},
     "output_type": "display_data"
    }
   ],
   "source": [
    "levels(v_factor)"
   ]
  },
  {
   "cell_type": "code",
   "execution_count": null,
   "id": "87492db5",
   "metadata": {},
   "outputs": [],
   "source": [
    "### 리스트\n",
    "- 벡터,행열: 같은 유형의 데이터 만 허용됨\n",
    "- 리스트는 다른유형의 데이터도 가능\n",
    "- 기초통계처리는 벡터만 가능 리스트는 않됨\n"
   ]
  },
  {
   "cell_type": "code",
   "execution_count": null,
   "id": "6d708d30",
   "metadata": {},
   "outputs": [],
   "source": [
    "myList = list( c(11,22,33,44),400, 200,300)\n",
    "myList\n",
    "print( myList )\n"
   ]
  },
  {
   "cell_type": "code",
   "execution_count": null,
   "id": "c8f55281",
   "metadata": {},
   "outputs": [],
   "source": [
    "s = c('abc def','ghi jkl')\n",
    "result = strsplit(s, split=' ')\n",
    "print( result)\n"
   ]
  },
  {
   "cell_type": "code",
   "execution_count": null,
   "id": "0ed76c73",
   "metadata": {},
   "outputs": [],
   "source": [
    "myList = list()\n",
    "myList[[1]] = c(11,22,33)\n",
    "myList[[2]] = 200\n",
    "myList[[3]] = c('abc','def')\n",
    "print( myList )\n"
   ]
  },
  {
   "cell_type": "code",
   "execution_count": null,
   "id": "e3ff9005",
   "metadata": {},
   "outputs": [],
   "source": [
    "v2 = 1:12\n",
    "# m = matrix(v2, 3,4)\n",
    "m = matrix(v2, nrow=3,ncol=4) # 컬럼의 타입이 동일\n",
    "print(m)\n",
    "m1 = matrix(v2, nrow=3,ncol=4, byrow=TRUE ) # 컬럼의 타입이 동일\n",
    "print(m1)\n"
   ]
  },
  {
   "cell_type": "code",
   "execution_count": null,
   "id": "a5f5cfb6",
   "metadata": {},
   "outputs": [],
   "source": [
    "m[2:3,c(1)]\n"
   ]
  },
  {
   "cell_type": "code",
   "execution_count": null,
   "id": "4beafe7c",
   "metadata": {},
   "outputs": [],
   "source": [
    "m[c(2,3),c(1,3)]\n"
   ]
  },
  {
   "cell_type": "code",
   "execution_count": null,
   "id": "e9174220",
   "metadata": {},
   "outputs": [],
   "source": [
    "m[, 2:ncol(m)]\n"
   ]
  },
  {
   "cell_type": "code",
   "execution_count": null,
   "id": "cee3f9ba",
   "metadata": {},
   "outputs": [],
   "source": [
    "m[,-ncol(m)]\n",
    "m[,ncol(m)]\n"
   ]
  },
  {
   "cell_type": "code",
   "execution_count": null,
   "id": "baf64e5f",
   "metadata": {},
   "outputs": [],
   "source": [
    "n=3\n",
    "for( i in 1:n)\n",
    "{\n",
    "    j=0\n",
    "    while(j<n-i){\n",
    "        cat(' ')\n",
    "        j = j + 1\n",
    "    }\n",
    "    k=0\n",
    "    while( k<n-j)\n",
    "    {\n",
    "        cat('*')\n",
    "        k = k +1\n",
    "    }\n",
    "    cat(fill=T)\n",
    "}\n"
   ]
  },
  {
   "cell_type": "code",
   "execution_count": null,
   "id": "5478e5a9",
   "metadata": {},
   "outputs": [],
   "source": [
    "n=3\n",
    "for( i in 1:n)\n",
    "{\n",
    "    j=0\n",
    "    while(j<n-i){\n",
    "        cat(' ')\n",
    "        j = j + 1\n",
    "    }\n",
    "    k=0\n",
    "    while( k<n-j)\n",
    "    {\n",
    "        cat('* ')\n",
    "        k = k +1\n",
    "    }\n",
    "    cat(fill=T)\n",
    "}\n"
   ]
  },
  {
   "cell_type": "code",
   "execution_count": null,
   "id": "322f34e0",
   "metadata": {},
   "outputs": [],
   "source": []
  },
  {
   "cell_type": "code",
   "execution_count": null,
   "id": "da68c37a",
   "metadata": {},
   "outputs": [],
   "source": []
  },
  {
   "cell_type": "code",
   "execution_count": null,
   "id": "2f94529b",
   "metadata": {},
   "outputs": [],
   "source": []
  },
  {
   "cell_type": "markdown",
   "id": "fdfb58ef",
   "metadata": {},
   "source": [
    "### 과제3"
   ]
  },
  {
   "cell_type": "code",
   "execution_count": 82,
   "id": "f244e93d",
   "metadata": {},
   "outputs": [
    {
     "data": {
      "text/html": [
       "<dl class=dl-horizontal>\n",
       "\t<dt>홍길동</dt>\n",
       "\t\t<dd>90</dd>\n",
       "\t<dt>이순신</dt>\n",
       "\t\t<dd>90</dd>\n",
       "\t<dt>임꺽정</dt>\n",
       "\t\t<dd>55</dd>\n",
       "\t<dt>정난정</dt>\n",
       "\t\t<dd>60</dd>\n",
       "\t<dt>이이</dt>\n",
       "\t\t<dd>76</dd>\n",
       "\t<dt>이황</dt>\n",
       "\t\t<dd>80</dd>\n",
       "\t<dt>정도전</dt>\n",
       "\t\t<dd>76</dd>\n",
       "\t<dt>김철수</dt>\n",
       "\t\t<dd>88</dd>\n",
       "\t<dt>홍이</dt>\n",
       "\t\t<dd>30</dd>\n",
       "\t<dt>김세종</dt>\n",
       "\t\t<dd>25</dd>\n",
       "</dl>\n"
      ],
      "text/latex": [
       "\\begin{description*}\n",
       "\\item[홍길동] 90\n",
       "\\item[이순신] 90\n",
       "\\item[임꺽정] 55\n",
       "\\item[정난정] 60\n",
       "\\item[이이] 76\n",
       "\\item[이황] 80\n",
       "\\item[정도전] 76\n",
       "\\item[김철수] 88\n",
       "\\item[홍이] 30\n",
       "\\item[김세종] 25\n",
       "\\end{description*}\n"
      ],
      "text/markdown": [
       "홍길동\n",
       ":   90이순신\n",
       ":   90임꺽정\n",
       ":   55정난정\n",
       ":   60이이\n",
       ":   76이황\n",
       ":   80정도전\n",
       ":   76김철수\n",
       ":   88홍이\n",
       ":   30김세종\n",
       ":   25\n",
       "\n"
      ],
      "text/plain": [
       "홍길동 이순신 임꺽정 정난정   이이   이황 정도전 김철수   홍이 김세종 \n",
       "    90     90     55     60     76     80     76     88     30     25 "
      ]
     },
     "metadata": {},
     "output_type": "display_data"
    }
   ],
   "source": [
    "v = c(\"홍길동\"=90,이순신=90,임꺽정=55,정난정=60,이이=76,이황=80,\n",
    "정도전=76,김철수=88, 홍이=30, 김세종=25)\n",
    "v"
   ]
  },
  {
   "cell_type": "code",
   "execution_count": null,
   "id": "cffda0ab",
   "metadata": {},
   "outputs": [],
   "source": [
    "1. 이름순으로 정렬하시요"
   ]
  },
  {
   "cell_type": "code",
   "execution_count": 180,
   "id": "b9013bd5",
   "metadata": {},
   "outputs": [
    {
     "data": {
      "text/html": [
       "<dl class=dl-horizontal>\n",
       "\t<dt>김세종</dt>\n",
       "\t\t<dd>25</dd>\n",
       "\t<dt>김철수</dt>\n",
       "\t\t<dd>88</dd>\n",
       "\t<dt>이순신</dt>\n",
       "\t\t<dd>90</dd>\n",
       "\t<dt>이이</dt>\n",
       "\t\t<dd>76</dd>\n",
       "\t<dt>이황</dt>\n",
       "\t\t<dd>80</dd>\n",
       "\t<dt>임꺽정</dt>\n",
       "\t\t<dd>55</dd>\n",
       "\t<dt>정난정</dt>\n",
       "\t\t<dd>60</dd>\n",
       "\t<dt>정도전</dt>\n",
       "\t\t<dd>76</dd>\n",
       "\t<dt>홍길동</dt>\n",
       "\t\t<dd>90</dd>\n",
       "\t<dt>홍이</dt>\n",
       "\t\t<dd>30</dd>\n",
       "</dl>\n"
      ],
      "text/latex": [
       "\\begin{description*}\n",
       "\\item[김세종] 25\n",
       "\\item[김철수] 88\n",
       "\\item[이순신] 90\n",
       "\\item[이이] 76\n",
       "\\item[이황] 80\n",
       "\\item[임꺽정] 55\n",
       "\\item[정난정] 60\n",
       "\\item[정도전] 76\n",
       "\\item[홍길동] 90\n",
       "\\item[홍이] 30\n",
       "\\end{description*}\n"
      ],
      "text/markdown": [
       "김세종\n",
       ":   25김철수\n",
       ":   88이순신\n",
       ":   90이이\n",
       ":   76이황\n",
       ":   80임꺽정\n",
       ":   55정난정\n",
       ":   60정도전\n",
       ":   76홍길동\n",
       ":   90홍이\n",
       ":   30\n",
       "\n"
      ],
      "text/plain": [
       "김세종 김철수 이순신   이이   이황 임꺽정 정난정 정도전 홍길동   홍이 \n",
       "    25     88     90     76     80     55     60     76     90     30 "
      ]
     },
     "metadata": {},
     "output_type": "display_data"
    }
   ],
   "source": [
    "v[sort(names(v))]"
   ]
  },
  {
   "cell_type": "code",
   "execution_count": null,
   "id": "538a1862",
   "metadata": {},
   "outputs": [],
   "source": [
    "2. 키보드로 입력받아 검색된 이름의 점수를 구하시요\n",
    "이름:홍길동\n",
    "70"
   ]
  },
  {
   "cell_type": "code",
   "execution_count": 128,
   "id": "1d67a5ef",
   "metadata": {},
   "outputs": [
    {
     "name": "stdout",
     "output_type": "stream",
     "text": [
      "이름 : 홍길동\n"
     ]
    }
   ],
   "source": [
    "name <- readline(\"이름 : \")"
   ]
  },
  {
   "cell_type": "code",
   "execution_count": 136,
   "id": "607342e2",
   "metadata": {},
   "outputs": [
    {
     "data": {
      "text/html": [
       "<strong>홍길동:</strong> 90"
      ],
      "text/latex": [
       "\\textbf{홍길동:} 90"
      ],
      "text/markdown": [
       "**홍길동:** 90"
      ],
      "text/plain": [
       "홍길동 \n",
       "    90 "
      ]
     },
     "metadata": {},
     "output_type": "display_data"
    }
   ],
   "source": [
    "v[name]"
   ]
  },
  {
   "cell_type": "code",
   "execution_count": null,
   "id": "98ac4be8",
   "metadata": {},
   "outputs": [],
   "source": [
    "3. 데이터를 다음과 같이 출력하시요\n",
    "(0~59:F , 60~69:D, 70~79:C, 80~89:B, 90~100:A\n",
    "------------------------\n",
    "    이름    국어   학점\n",
    "------------------------\n",
    "    홍길동  70\t C\n",
    "    ...\n",
    "    김철수3 25     F"
   ]
  },
  {
   "cell_type": "code",
   "execution_count": 160,
   "id": "e0eb8c4f",
   "metadata": {},
   "outputs": [
    {
     "name": "stdout",
     "output_type": "stream",
     "text": [
      "------------------ \n",
      "이름  국어  학점 \n",
      "------------------ \n",
      "홍길동 90 A \n",
      "이순신 90 A \n",
      "임꺽정 55 F \n",
      "정난정 60 D \n",
      "이이 76 C \n",
      "이황 80 B \n",
      "정도전 76 C \n",
      "김철수 88 B \n",
      "홍이 30 F \n",
      "김세종 25 F \n"
     ]
    }
   ],
   "source": [
    "cat(\"------------------\",'\\n')\n",
    "cat(\"이름  국어  학점\",'\\n')\n",
    "cat(\"------------------\",'\\n')\n",
    "for (i in 1:length(v)) {\n",
    "    if(v[i] < 60){\n",
    "        cat(names(v[i]), v[i], \"F\", '\\n')\n",
    "    }else if(v[i] < 70) {\n",
    "        cat(names(v[i]), v[i], \"D\", '\\n' )\n",
    "    }else if(v[i] < 80){\n",
    "        cat(names(v[i]), v[i], \"C\", '\\n')\n",
    "    }else if(v[i] < 90){\n",
    "        cat(names(v[i]), v[i], \"B\", '\\n')\n",
    "    }else {\n",
    "        cat(names(v[i]), v[i], \"A\", '\\n')\n",
    "    }\n",
    "        \n",
    "}"
   ]
  },
  {
   "cell_type": "code",
   "execution_count": 217,
   "id": "ac7f6f5d",
   "metadata": {},
   "outputs": [
    {
     "name": "stdout",
     "output_type": "stream",
     "text": [
      "-------------------- \n",
      "이름   국어    학점 \n",
      "-------------------- \n",
      "홍길동\t90\tA\n",
      "이순신\t90\tA\n",
      "임꺽정\t55\tF\n",
      "정난정\t60\tD\n",
      "이이\t76\tC\n",
      "이황\t80\tB\n",
      "정도전\t76\tC\n",
      "김철수\t88\tB\n",
      "홍이\t30\tF\n",
      "김세종\t25\tF\n"
     ]
    }
   ],
   "source": [
    "# 다른 방식\n",
    "v_1 = cut(v, c(-1,59,69,79,89,100), labels = c('F','D','C','B','A'))\n",
    "cat(\"--------------------\",'\\n')\n",
    "cat(\"이름   국어    학점\",'\\n')\n",
    "cat(\"--------------------\",'\\n')\n",
    "for ( n in paste( names(v), v, v_1, sep = '\\t') ){\n",
    "    cat(n, fill = T)\n",
    "}"
   ]
  },
  {
   "cell_type": "code",
   "execution_count": null,
   "id": "22fcd9ed",
   "metadata": {},
   "outputs": [],
   "source": [
    "4. 국어 점수 100점이하는 가산점10를 부여하고\n",
    "   국어 점수 70점이하는 가산점20를 부여하고\n",
    "   국어 점수 50점이하는 가산점30를 부여하시요"
   ]
  },
  {
   "cell_type": "code",
   "execution_count": 101,
   "id": "ee0bdd2d",
   "metadata": {},
   "outputs": [],
   "source": [
    "fn = function(v)\n",
    "    {\n",
    "     if(v <= 50){\n",
    "         return(v+30)\n",
    "     }else if(v <= 70){\n",
    "          return(v+20)}\n",
    "         else{\n",
    "           return(v+10) }\n",
    "        \n",
    "}"
   ]
  },
  {
   "cell_type": "code",
   "execution_count": 102,
   "id": "c9767a35",
   "metadata": {},
   "outputs": [
    {
     "data": {
      "text/html": [
       "<dl class=dl-horizontal>\n",
       "\t<dt>홍길동</dt>\n",
       "\t\t<dd>100</dd>\n",
       "\t<dt>이순신</dt>\n",
       "\t\t<dd>100</dd>\n",
       "\t<dt>임꺽정</dt>\n",
       "\t\t<dd>75</dd>\n",
       "\t<dt>정난정</dt>\n",
       "\t\t<dd>80</dd>\n",
       "\t<dt>이이</dt>\n",
       "\t\t<dd>86</dd>\n",
       "\t<dt>이황</dt>\n",
       "\t\t<dd>90</dd>\n",
       "\t<dt>정도전</dt>\n",
       "\t\t<dd>86</dd>\n",
       "\t<dt>김철수</dt>\n",
       "\t\t<dd>98</dd>\n",
       "\t<dt>홍이</dt>\n",
       "\t\t<dd>60</dd>\n",
       "\t<dt>김세종</dt>\n",
       "\t\t<dd>55</dd>\n",
       "</dl>\n"
      ],
      "text/latex": [
       "\\begin{description*}\n",
       "\\item[홍길동] 100\n",
       "\\item[이순신] 100\n",
       "\\item[임꺽정] 75\n",
       "\\item[정난정] 80\n",
       "\\item[이이] 86\n",
       "\\item[이황] 90\n",
       "\\item[정도전] 86\n",
       "\\item[김철수] 98\n",
       "\\item[홍이] 60\n",
       "\\item[김세종] 55\n",
       "\\end{description*}\n"
      ],
      "text/markdown": [
       "홍길동\n",
       ":   100이순신\n",
       ":   100임꺽정\n",
       ":   75정난정\n",
       ":   80이이\n",
       ":   86이황\n",
       ":   90정도전\n",
       ":   86김철수\n",
       ":   98홍이\n",
       ":   60김세종\n",
       ":   55\n",
       "\n"
      ],
      "text/plain": [
       "홍길동 이순신 임꺽정 정난정   이이   이황 정도전 김철수   홍이 김세종 \n",
       "   100    100     75     80     86     90     86     98     60     55 "
      ]
     },
     "metadata": {},
     "output_type": "display_data"
    }
   ],
   "source": [
    "sapply(v, fn)"
   ]
  },
  {
   "cell_type": "code",
   "execution_count": null,
   "id": "01a5da0b",
   "metadata": {},
   "outputs": [],
   "source": [
    "5. 국어점수 25%~75% 사이에 해당하는 값을 구하시요"
   ]
  },
  {
   "cell_type": "code",
   "execution_count": 219,
   "id": "3c38f572",
   "metadata": {},
   "outputs": [
    {
     "data": {
      "text/html": [
       "<dl class=dl-horizontal>\n",
       "\t<dt>정난정</dt>\n",
       "\t\t<dd>60</dd>\n",
       "\t<dt>이이</dt>\n",
       "\t\t<dd>76</dd>\n",
       "\t<dt>이황</dt>\n",
       "\t\t<dd>80</dd>\n",
       "\t<dt>정도전</dt>\n",
       "\t\t<dd>76</dd>\n",
       "</dl>\n"
      ],
      "text/latex": [
       "\\begin{description*}\n",
       "\\item[정난정] 60\n",
       "\\item[이이] 76\n",
       "\\item[이황] 80\n",
       "\\item[정도전] 76\n",
       "\\end{description*}\n"
      ],
      "text/markdown": [
       "정난정\n",
       ":   60이이\n",
       ":   76이황\n",
       ":   80정도전\n",
       ":   76\n",
       "\n"
      ],
      "text/plain": [
       "정난정   이이   이황 정도전 \n",
       "    60     76     80     76 "
      ]
     },
     "metadata": {},
     "output_type": "display_data"
    }
   ],
   "source": [
    "q = quantile(v, c(0.25,0.75))\n",
    "v[(q[[1]]<=v) & (q[[2]]>=v)]"
   ]
  },
  {
   "cell_type": "code",
   "execution_count": 220,
   "id": "5af51c7e",
   "metadata": {},
   "outputs": [
    {
     "data": {
      "text/html": [
       "<strong>25%:</strong> 56.25"
      ],
      "text/latex": [
       "\\textbf{25\\textbackslash{}\\%:} 56.25"
      ],
      "text/markdown": [
       "**25%:** 56.25"
      ],
      "text/plain": [
       "  25% \n",
       "56.25 "
      ]
     },
     "metadata": {},
     "output_type": "display_data"
    }
   ],
   "source": [
    "q['25%']"
   ]
  },
  {
   "cell_type": "code",
   "execution_count": null,
   "id": "af6bac85",
   "metadata": {},
   "outputs": [],
   "source": [
    "6. 각 국어점수에 대한 개수를 구하시요."
   ]
  },
  {
   "cell_type": "code",
   "execution_count": 164,
   "id": "eaa71b76",
   "metadata": {},
   "outputs": [
    {
     "data": {
      "text/plain": [
       "v\n",
       "25 30 55 60 76 80 88 90 \n",
       " 1  1  1  1  2  1  1  2 "
      ]
     },
     "metadata": {},
     "output_type": "display_data"
    }
   ],
   "source": [
    "table(v)"
   ]
  },
  {
   "cell_type": "code",
   "execution_count": null,
   "id": "a27611c8",
   "metadata": {},
   "outputs": [],
   "source": [
    "7. 국어 점수를 10(0~100점)개로 분할한 경우 각 점수별 도수를 구하고 도수분포표를 그리시요"
   ]
  },
  {
   "cell_type": "code",
   "execution_count": 223,
   "id": "f6089145",
   "metadata": {},
   "outputs": [
    {
     "data": {
      "text/plain": [
       "\n",
       "  (0,10]  (10,20]  (20,30]  (30,40]  (40,50]  (50,60]  (60,70]  (70,80] \n",
       "       0        0        2        0        0        2        0        3 \n",
       " (80,90] (90,100] \n",
       "       3        0 "
      ]
     },
     "metadata": {},
     "output_type": "display_data"
    }
   ],
   "source": [
    "table(cut(v,seq(0, 100, 10)))"
   ]
  },
  {
   "cell_type": "code",
   "execution_count": 225,
   "id": "e6bbb07b",
   "metadata": {},
   "outputs": [
    {
     "data": {
      "image/png": "[encoded data removed]",
      "text/plain": [
       "Plot with title \"도수분포표\""
      ]
     },
     "metadata": {},
     "output_type": "display_data"
    }
   ],
   "source": [
    "hist(v, col = \"lightyellow\", breaks = seq(0, 100, 10) ,main = \"도수분포표\")"
   ]
  },
  {
   "cell_type": "code",
   "execution_count": null,
   "id": "09be4f0b",
   "metadata": {},
   "outputs": [],
   "source": [
    "8. 국어점수 50점이하 점수에 대한 파이차트로 그리시요"
   ]
  },
  {
   "cell_type": "code",
   "execution_count": 114,
   "id": "12145a8c",
   "metadata": {},
   "outputs": [
    {
     "data": {
      "image/png": "[encoded data removed]",
      "text/plain": [
       "plot without title"
      ]
     },
     "metadata": {},
     "output_type": "display_data"
    }
   ],
   "source": [
    "pie(v[v<=50])"
   ]
  },
  {
   "cell_type": "code",
   "execution_count": null,
   "id": "bdaf3fa0",
   "metadata": {},
   "outputs": [],
   "source": [
    "9. 아래처럼 출력하시요( 성과 이름이 분리된 시리즈를 구하고 zip 을이용하여 구하시요 )\n",
    "------------------------\n",
    "  성     이름    국어\n",
    "------------------------\n",
    "  홍     길동    70\n",
    "    ...\n",
    "  김\t    철수3   25  "
   ]
  },
  {
   "cell_type": "code",
   "execution_count": 207,
   "id": "021e97b9",
   "metadata": {},
   "outputs": [
    {
     "name": "stdout",
     "output_type": "stream",
     "text": [
      "------------- \n",
      "성 이름 국어  \n",
      "------------- \n",
      "홍 길동 90 \n",
      "이 순신 90 \n",
      "임 꺽정 55 \n",
      "정 난정 60 \n",
      "이 이 76 \n",
      "이 황 80 \n",
      "정 도전 76 \n",
      "김 철수 88 \n",
      "홍 이 30 \n",
      "김 세종 25 \n"
     ]
    }
   ],
   "source": [
    "a = names(v)\n",
    "name = strsplit(a, split=\"\")\n",
    "cat(\"-------------\",'\\n')\n",
    "cat(\"성 이름 국어 \",'\\n')\n",
    "cat(\"-------------\",'\\n')\n",
    "for (i in 1:length(v)) {\n",
    "    if (is.na(name[[i]][3]) == \"FALSE\" ){\n",
    "       cat(name[[i]][1] , paste(name[[i]][2],name[[i]][3],sep=\"\") , v[i] ,\"\\n\")}\n",
    "    else {\n",
    "       cat(name[[i]][1] ,name[[i]][2] , v[i] ,\"\\n\") \n",
    "    }\n",
    "    }"
   ]
  },
  {
   "cell_type": "code",
   "execution_count": 230,
   "id": "a3ba8b28",
   "metadata": {},
   "outputs": [
    {
     "name": "stdout",
     "output_type": "stream",
     "text": [
      "------------- \n",
      "성 이름 국어  \n",
      "------------- \n",
      "홍 길동 90 \n",
      "이 순신 90 \n",
      "임 꺽정 55 \n",
      "정 난정 60 \n",
      "이 이 76 \n",
      "이 황 80 \n",
      "정 도전 76 \n",
      "김 철수 88 \n",
      "홍 이 30 \n",
      "김 세종 25 \n"
     ]
    }
   ],
   "source": [
    "# 다른 방식\n",
    "cat(\"-------------\",'\\n')\n",
    "cat(\"성 이름 국어 \",'\\n')\n",
    "cat(\"-------------\",'\\n')\n",
    "for (i in 1:length(v)) {\n",
    "    cat (substr(names(v[i]),1,1), substring(names(v[i]),2),  v[i] ,\"\\n\")\n",
    "    }"
   ]
  },
  {
   "cell_type": "code",
   "execution_count": null,
   "id": "dd18755c",
   "metadata": {},
   "outputs": [],
   "source": [
    "10. 국어점수중 50점이하와 아니것의 비율을 구하시요."
   ]
  },
  {
   "cell_type": "code",
   "execution_count": 176,
   "id": "81f45f2e",
   "metadata": {},
   "outputs": [
    {
     "data": {
      "text/html": [
       "0.2"
      ],
      "text/latex": [
       "0.2"
      ],
      "text/markdown": [
       "0.2"
      ],
      "text/plain": [
       "[1] 0.2"
      ]
     },
     "metadata": {},
     "output_type": "display_data"
    },
    {
     "data": {
      "text/html": [
       "0.8"
      ],
      "text/latex": [
       "0.8"
      ],
      "text/markdown": [
       "0.8"
      ],
      "text/plain": [
       "[1] 0.8"
      ]
     },
     "metadata": {},
     "output_type": "display_data"
    }
   ],
   "source": [
    "length(v[v<=50])/length(v)\n",
    "length(v[v>50])/length(v)"
   ]
  }
 ],
 "metadata": {
  "kernelspec": {
   "display_name": "R",
   "language": "R",
   "name": "ir"
  },
  "language_info": {
   "codemirror_mode": "r",
   "file_extension": ".r",
   "mimetype": "text/x-r-source",
   "name": "R",
   "pygments_lexer": "r",
   "version": "3.6.1"
  }
 },
 "nbformat": 4,
 "nbformat_minor": 5
}
