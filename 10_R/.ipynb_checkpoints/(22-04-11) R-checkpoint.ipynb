{
 "cells": [
  {
   "cell_type": "markdown",
   "id": "8b4e4e6b",
   "metadata": {},
   "source": [
    "# 01 Data type"
   ]
  },
  {
   "cell_type": "markdown",
   "id": "de52a874",
   "metadata": {},
   "source": [
    "### 변수명 규칙\n",
    " - a-z, A-Z, _, . ,한글\n",
    " - 첫째, 변수명은 특수문자 중 '.'(마침표) 와 '_'(언더바), 영어, 숫자만 사용가능.\n",
    " - 둘째, 변수명은 숫자나 '_'(언더바)로 시작할 수 없습니다. \n",
    " - 변수명은 영어와 마침표로만 시작가능.\n",
    " - 셋째, 변수명이 '.'(마침표)로 시작하면 바로 뒤엔 영어가 와야 된다."
   ]
  },
  {
   "cell_type": "code",
   "execution_count": 1,
   "id": "be5f8409",
   "metadata": {},
   "outputs": [
    {
     "name": "stdout",
     "output_type": "stream",
     "text": [
      "[1] \"hello\"\n"
     ]
    }
   ],
   "source": [
    "print(\"hello\")"
   ]
  },
  {
   "cell_type": "code",
   "execution_count": 2,
   "id": "55ada888",
   "metadata": {},
   "outputs": [
    {
     "name": "stdout",
     "output_type": "stream",
     "text": [
      "[1] 10\n"
     ]
    }
   ],
   "source": [
    "한글 = 10\n",
    "print(한글)"
   ]
  },
  {
   "cell_type": "code",
   "execution_count": 3,
   "id": "922b5950",
   "metadata": {},
   "outputs": [
    {
     "ename": "ERROR",
     "evalue": "Error in parse(text = x, srcfile = src): <text>:1:3: 예상하지 못한 기호(symbol)입니다.\n1: 10abc\n      ^\n",
     "output_type": "error",
     "traceback": [
      "Error in parse(text = x, srcfile = src): <text>:1:3: 예상하지 못한 기호(symbol)입니다.\n1: 10abc\n      ^\nTraceback:\n"
     ]
    }
   ],
   "source": [
    "10abc = 20 \n",
    "_acd = 30  # 에러남"
   ]
  },
  {
   "cell_type": "code",
   "execution_count": 4,
   "id": "d319ef3c",
   "metadata": {},
   "outputs": [
    {
     "name": "stdout",
     "output_type": "stream",
     "text": [
      "[1] 40\n"
     ]
    }
   ],
   "source": [
    ".avc = 40\n",
    "print(.avc)"
   ]
  },
  {
   "cell_type": "code",
   "execution_count": 5,
   "id": "d930ebbf",
   "metadata": {},
   "outputs": [
    {
     "ename": "ERROR",
     "evalue": "Error in parse(text = x, srcfile = src): <text>:1:4: 예상하지 못한 기호(symbol)입니다.\n1: .12abc\n       ^\n",
     "output_type": "error",
     "traceback": [
      "Error in parse(text = x, srcfile = src): <text>:1:4: 예상하지 못한 기호(symbol)입니다.\n1: .12abc\n       ^\nTraceback:\n"
     ]
    }
   ],
   "source": [
    ".12abc = 40 # 앞에 .도 에러남"
   ]
  },
  {
   "cell_type": "code",
   "execution_count": 6,
   "id": "a9778ad6",
   "metadata": {},
   "outputs": [],
   "source": [
    "abc.def = 50"
   ]
  },
  {
   "cell_type": "code",
   "execution_count": 7,
   "id": "646a72e1",
   "metadata": {},
   "outputs": [
    {
     "name": "stdout",
     "output_type": "stream",
     "text": [
      "[1] 100\n"
     ]
    }
   ],
   "source": [
    "abc <- 100 # a=100\n",
    "print(abc)"
   ]
  },
  {
   "cell_type": "markdown",
   "id": "3f92c0f8",
   "metadata": {},
   "source": [
    "### R에서 사용되는 데이터 타입에는 \n",
    " - Numeric(숫자), \n",
    " - integer(정수)\n",
    " - 복소수\n",
    " - 함수타입\n",
    " - Character(문자), \n",
    " - Logical(논리), \n",
    " - Date/Time(시간)\n",
    " - vector\n",
    " - list\n",
    " - array\n",
    " - dataframe"
   ]
  },
  {
   "cell_type": "code",
   "execution_count": 8,
   "id": "9ceca17c",
   "metadata": {},
   "outputs": [
    {
     "name": "stdout",
     "output_type": "stream",
     "text": [
      "[1] 10\n",
      "[1] 3.14\n",
      "[1] 20\n",
      "[1] \"double\"\n",
      "[1] \"numeric\"\n",
      " num 10\n",
      "NULL\n",
      "[1] \"double\"\n",
      "[1] \"numeric\"\n",
      " num 3.14\n",
      "NULL\n",
      "[1] \"integer\"\n",
      "[1] \"integer\"\n",
      " int 20\n",
      "NULL\n"
     ]
    }
   ],
   "source": [
    "a= 10\n",
    "b = 3.14\n",
    "c = 20L\n",
    "print(a)\n",
    "print(b)\n",
    "print(c)\n",
    "print( typeof(a)) # 타입\n",
    "print( class(a)) # 분류\n",
    "print( str(a)) # 분류 상세정보\n",
    "print( typeof(b)) # 타입\n",
    "print( class(b)) # 분류\n",
    "print( str(b)) # 분류 상세정보\n",
    "print( typeof(c)) # 타입\n",
    "print( class(c)) # 분류\n",
    "print( str(c)) # 분류 상세정보"
   ]
  },
  {
   "cell_type": "code",
   "execution_count": 9,
   "id": "416869fd",
   "metadata": {},
   "outputs": [
    {
     "name": "stdout",
     "output_type": "stream",
     "text": [
      "[1] 3+4i\n",
      "[1] \"complex\"\n",
      "[1] \"complex\"\n"
     ]
    }
   ],
   "source": [
    "d = 3 + 4i\n",
    "print(d)\n",
    "print( typeof(d)) # 타입\n",
    "print( class(d)) # 분류\n"
   ]
  },
  {
   "cell_type": "code",
   "execution_count": 10,
   "id": "0964bcd0",
   "metadata": {},
   "outputs": [
    {
     "name": "stdout",
     "output_type": "stream",
     "text": [
      "[1] TRUE\n",
      "[1] \"logical\"\n",
      "[1] \"logical\"\n"
     ]
    }
   ],
   "source": [
    "e = TRUE # TRuE( T ) FALSE (F)\n",
    "print(e)\n",
    "print( typeof(e)) # 타입\n",
    "print( class(e)) # 분류"
   ]
  },
  {
   "cell_type": "code",
   "execution_count": 11,
   "id": "4dbfac1d",
   "metadata": {},
   "outputs": [
    {
     "name": "stdout",
     "output_type": "stream",
     "text": [
      "function(){\n",
      "  print(\"hello\")\n",
      "}\n",
      "[1] \"closure\"\n",
      "[1] \"function\"\n",
      "[1] \"hello\"\n"
     ]
    }
   ],
   "source": [
    "fn = function(){\n",
    "  print(\"hello\")\n",
    "}\n",
    "print(fn)\n",
    "print( typeof(fn)) # 타입\n",
    "print( class(fn)) # 분류\n",
    "fn()"
   ]
  },
  {
   "cell_type": "code",
   "execution_count": null,
   "id": "6e68d207",
   "metadata": {},
   "outputs": [],
   "source": [
    "# function fn1(){ # error\n",
    "#   print(\"korean\")\n",
    "# }"
   ]
  },
  {
   "cell_type": "code",
   "execution_count": 12,
   "id": "408e11cb",
   "metadata": {},
   "outputs": [
    {
     "name": "stdout",
     "output_type": "stream",
     "text": [
      "[1] \"abc\"\n",
      "[1] \"character\"\n",
      "[1] \"character\"\n",
      "[1] \"abc\"\n",
      "[1] \"character\"\n",
      "[1] \"character\"\n"
     ]
    }
   ],
   "source": [
    "s1 = 'abc'\n",
    "s2 = \"abc\"\n",
    "print(s1)\n",
    "print( typeof(s1)) # 타입\n",
    "print( class(s1)) # 분류\n",
    "print(s2)\n",
    "print( typeof(s2)) # 타입\n",
    "print( class(s2)) # 분류"
   ]
  },
  {
   "cell_type": "code",
   "execution_count": 13,
   "id": "987aeacd",
   "metadata": {},
   "outputs": [
    {
     "name": "stdout",
     "output_type": "stream",
     "text": [
      "[1] \"2020-11-12\"\n"
     ]
    }
   ],
   "source": [
    "## as.xxx (형 변환 함수)\n",
    "t = \"2020-11-12\"\n",
    "print(t)"
   ]
  },
  {
   "cell_type": "code",
   "execution_count": 14,
   "id": "12080f83",
   "metadata": {},
   "outputs": [
    {
     "name": "stdout",
     "output_type": "stream",
     "text": [
      "[1] \"2020-11-12\"\n",
      "[1] \"double\"\n",
      "[1] \"Date\"\n"
     ]
    }
   ],
   "source": [
    "t = as.Date(\"2020-11-12\")\n",
    "print(t)\n",
    "print( typeof(t)) # 타입\n",
    "print( class(t)) # 분류"
   ]
  },
  {
   "cell_type": "code",
   "execution_count": 15,
   "id": "5fd343b8",
   "metadata": {},
   "outputs": [
    {
     "name": "stdout",
     "output_type": "stream",
     "text": [
      "[1] 10 20 30\n",
      "[1] \"double\"\n",
      "[1] \"numeric\"\n",
      " num [1:3] 10 20 30\n"
     ]
    }
   ],
   "source": [
    "### 복합데이터 (1차원 2차원 3차원 이상)\n",
    "v = c(10, 20, 30) # vector 타입(1차원) - 하나의 type으로만 구성\n",
    "print(v)\n",
    "print( typeof(v)) # 타입\n",
    "print( class(v)) # 분류\n",
    "str(v)"
   ]
  },
  {
   "cell_type": "code",
   "execution_count": 16,
   "id": "f1902d49",
   "metadata": {},
   "outputs": [
    {
     "name": "stdout",
     "output_type": "stream",
     "text": [
      "[1] 10 20 30 40\n",
      "[1] \"double\"\n",
      "[1] \"numeric\"\n",
      " num [1:4] 10 20 30 40\n"
     ]
    }
   ],
   "source": [
    "v = c(10, 20, 30,40L) # vector 타입\n",
    "print(v)\n",
    "print( typeof(v)) # 타입\n",
    "print( class(v)) # 분류\n",
    "str(v)"
   ]
  },
  {
   "cell_type": "code",
   "execution_count": 17,
   "id": "4b046b95",
   "metadata": {},
   "outputs": [
    {
     "name": "stdout",
     "output_type": "stream",
     "text": [
      "[1] \"10\"  \"20\"  \"30\"  \"40\"  \"abc\"\n",
      "[1] \"character\"\n",
      "[1] \"character\"\n",
      " chr [1:5] \"10\" \"20\" \"30\" \"40\" \"abc\"\n"
     ]
    }
   ],
   "source": [
    "v = c(10, 20, 30,40L, \"abc\") # vector 타입\n",
    "print(v)\n",
    "print( typeof(v)) # 타입\n",
    "print( class(v)) # 분류\n",
    "str(v)"
   ]
  },
  {
   "cell_type": "code",
   "execution_count": 18,
   "id": "aba8a4cc",
   "metadata": {},
   "outputs": [
    {
     "name": "stdout",
     "output_type": "stream",
     "text": [
      "[[1]]\n",
      "[1] 10\n",
      "\n",
      "[[2]]\n",
      "[1] 20\n",
      "\n",
      "[[3]]\n",
      "[1] 30\n",
      "\n",
      "[1] \"list\"\n",
      "[1] \"list\"\n",
      "List of 3\n",
      " $ : num 10\n",
      " $ : num 20\n",
      " $ : num 30\n"
     ]
    }
   ],
   "source": [
    "myL = list( 10,20,30)\n",
    "print(myL)\n",
    "print( typeof(myL)) # 타입\n",
    "print( class(myL)) # 분류\n",
    "str(myL)"
   ]
  },
  {
   "cell_type": "code",
   "execution_count": 19,
   "id": "564a9294",
   "metadata": {},
   "outputs": [
    {
     "name": "stdout",
     "output_type": "stream",
     "text": [
      "[[1]]\n",
      "[1] 10\n",
      "\n",
      "[[2]]\n",
      "[1] 20\n",
      "\n",
      "[[3]]\n",
      "[1] 30\n",
      "\n",
      "[[4]]\n",
      "[1] \"abc\"\n",
      "\n",
      "[1] \"list\"\n",
      "[1] \"list\"\n",
      "List of 4\n",
      " $ : num 10\n",
      " $ : num 20\n",
      " $ : num 30\n",
      " $ : chr \"abc\"\n"
     ]
    }
   ],
   "source": [
    "myL = list( 10,20,30, \"abc\") # 1차원 여러개의 type으로만 구성\n",
    "print(myL)\n",
    "print( typeof(myL)) # 타입\n",
    "print( class(myL)) # 분류\n",
    "str(myL)"
   ]
  },
  {
   "cell_type": "code",
   "execution_count": 20,
   "id": "f9add5a0",
   "metadata": {},
   "outputs": [
    {
     "name": "stdout",
     "output_type": "stream",
     "text": [
      "$a\n",
      "[1] 10\n",
      "\n",
      "$b\n",
      "[1] 20\n",
      "\n",
      "$c\n",
      "[1] 30\n",
      "\n"
     ]
    }
   ],
   "source": [
    "myL1 = list( a=10, b=20, c=30)\n",
    "print( myL1 )"
   ]
  },
  {
   "cell_type": "code",
   "execution_count": 21,
   "id": "8910bf12",
   "metadata": {},
   "outputs": [
    {
     "name": "stdout",
     "output_type": "stream",
     "text": [
      "[1] 1 2 3 4 5\n"
     ]
    }
   ],
   "source": [
    "v1 = 1:5 # c( 1,2,3,4,5) - sequence 문법 # 1:5:2 (x)\n",
    "print(v1)"
   ]
  },
  {
   "cell_type": "code",
   "execution_count": 22,
   "id": "eb89c818",
   "metadata": {},
   "outputs": [
    {
     "name": "stdout",
     "output_type": "stream",
     "text": [
      " [1]  1  2  3  4  5  6  7  8  9 10 11 12\n"
     ]
    }
   ],
   "source": [
    "v2 = 1:12\n",
    "print(v2)"
   ]
  },
  {
   "cell_type": "code",
   "execution_count": null,
   "id": "c031b025",
   "metadata": {},
   "outputs": [],
   "source": [
    "?matrix"
   ]
  },
  {
   "cell_type": "code",
   "execution_count": 23,
   "id": "6141189f",
   "metadata": {},
   "outputs": [
    {
     "name": "stdout",
     "output_type": "stream",
     "text": [
      "     [,1] [,2] [,3] [,4]\n",
      "[1,]    1    4    7   10\n",
      "[2,]    2    5    8   11\n",
      "[3,]    3    6    9   12\n"
     ]
    }
   ],
   "source": [
    "# m = matrix(v2, 3, 4)\n",
    "m = matrix( v2, nrow=3,ncol=4) # 컬럼의 타입이 동일\n",
    "print(m)"
   ]
  },
  {
   "cell_type": "code",
   "execution_count": 24,
   "id": "994e4ef8",
   "metadata": {},
   "outputs": [
    {
     "name": "stdout",
     "output_type": "stream",
     "text": [
      "     [,1] [,2] [,3] [,4]\n",
      "[1,]    1    2    3    4\n",
      "[2,]    5    6    7    8\n",
      "[3,]    9   10   11   12\n"
     ]
    },
    {
     "ename": "ERROR",
     "evalue": "Error in View(m1): 'View()' not yet supported in the Jupyter R kernel\n",
     "output_type": "error",
     "traceback": [
      "Error in View(m1): 'View()' not yet supported in the Jupyter R kernel\nTraceback:\n",
      "1. View(m1)",
      "2. stop(sQuote(\"View()\"), \" not yet supported in the Jupyter R kernel\")"
     ]
    }
   ],
   "source": [
    "m1 = matrix( v2, nrow=3,ncol=4, byrow = TRUE) # 컬럼의 타입이 동일\n",
    "print(m1)\n",
    "View(m1)"
   ]
  },
  {
   "cell_type": "code",
   "execution_count": null,
   "id": "ec8866cf",
   "metadata": {},
   "outputs": [],
   "source": [
    "?data.frame"
   ]
  },
  {
   "cell_type": "code",
   "execution_count": 25,
   "id": "bbee01b8",
   "metadata": {},
   "outputs": [
    {
     "name": "stdout",
     "output_type": "stream",
     "text": [
      "[1] \"data.frame\"\n",
      "    ID Score\n",
      "1 1001    90\n",
      "2 1002    80\n",
      "3 1003    70\n"
     ]
    },
    {
     "ename": "ERROR",
     "evalue": "Error in View(df): 'View()' not yet supported in the Jupyter R kernel\n",
     "output_type": "error",
     "traceback": [
      "Error in View(df): 'View()' not yet supported in the Jupyter R kernel\nTraceback:\n",
      "1. View(df)",
      "2. stop(sQuote(\"View()\"), \" not yet supported in the Jupyter R kernel\")"
     ]
    }
   ],
   "source": [
    "df = data.frame(ID = c(\"1001\",\"1002\",\"1003\"), Score = c(90,80,70))\n",
    "print(class(df))\n",
    "print(df)\n",
    "View(df)"
   ]
  },
  {
   "cell_type": "code",
   "execution_count": 26,
   "id": "e9b95446",
   "metadata": {},
   "outputs": [
    {
     "name": "stdout",
     "output_type": "stream",
     "text": [
      "[1] \"data.frame\"\n",
      "       ID Score\n",
      "kim  1001    90\n",
      "hong 1002    80\n",
      "lee  1003    70\n"
     ]
    },
    {
     "ename": "ERROR",
     "evalue": "Error in View(df): 'View()' not yet supported in the Jupyter R kernel\n",
     "output_type": "error",
     "traceback": [
      "Error in View(df): 'View()' not yet supported in the Jupyter R kernel\nTraceback:\n",
      "1. View(df)",
      "2. stop(sQuote(\"View()\"), \" not yet supported in the Jupyter R kernel\")"
     ]
    }
   ],
   "source": [
    "df = data.frame(ID= c('1001','1002','1003'), Score=c(90,80,70),\n",
    "                row.names =c('kim','hong','lee'))\n",
    "print( class(df))\n",
    "print( df )\n",
    "View(df)"
   ]
  },
  {
   "cell_type": "code",
   "execution_count": null,
   "id": "c16b9967",
   "metadata": {},
   "outputs": [],
   "source": [
    "?array"
   ]
  },
  {
   "cell_type": "code",
   "execution_count": 27,
   "id": "8c94de3b",
   "metadata": {},
   "outputs": [
    {
     "name": "stdout",
     "output_type": "stream",
     "text": [
      ", , 1\n",
      "\n",
      "     [,1] [,2]\n",
      "[1,]    1    3\n",
      "[2,]    2    4\n",
      "\n",
      ", , 2\n",
      "\n",
      "     [,1] [,2]\n",
      "[1,]    1    3\n",
      "[2,]    2    4\n",
      "\n",
      ", , 3\n",
      "\n",
      "     [,1] [,2]\n",
      "[1,]    1    3\n",
      "[2,]    2    4\n",
      "\n"
     ]
    }
   ],
   "source": [
    "arr = array( c(1,2,3,4), dim = c(2,2,3) ) # 행 열 면\n",
    "print(arr)"
   ]
  },
  {
   "cell_type": "code",
   "execution_count": null,
   "id": "84ba25ff",
   "metadata": {},
   "outputs": [],
   "source": [
    "?factor"
   ]
  },
  {
   "cell_type": "code",
   "execution_count": 28,
   "id": "0ac81c85",
   "metadata": {},
   "outputs": [
    {
     "name": "stdout",
     "output_type": "stream",
     "text": [
      "[1] m f f m\n",
      "Levels: f m\n",
      "[1] \"factor\"\n"
     ]
    }
   ],
   "source": [
    "f = factor( c(\"m\",\"f\",\"f\",\"m\"))\n",
    "print(f)\n",
    "print(class(f))"
   ]
  },
  {
   "cell_type": "markdown",
   "id": "36b4bd32",
   "metadata": {},
   "source": [
    "# 02 ooperator"
   ]
  },
  {
   "cell_type": "markdown",
   "id": "2a83f49b",
   "metadata": {},
   "source": [
    "## 산술연산자\n",
    " 1. **,^ : 지수연산자\n",
    " 2. *, /, %%, %/%\n",
    " 3. +, -\n",
    " 결합도 좌-> 우"
   ]
  },
  {
   "cell_type": "code",
   "execution_count": 30,
   "id": "1b2454e9",
   "metadata": {},
   "outputs": [
    {
     "name": "stdout",
     "output_type": "stream",
     "text": [
      "[1] 12167\n"
     ]
    }
   ],
   "source": [
    "a = 23\n",
    "rst = a**3 # a^3\n",
    "print(rst)"
   ]
  },
  {
   "cell_type": "code",
   "execution_count": 31,
   "id": "92d02f9b",
   "metadata": {},
   "outputs": [
    {
     "name": "stdout",
     "output_type": "stream",
     "text": [
      "[1] 69\n"
     ]
    }
   ],
   "source": [
    "a = 23\n",
    "rst = a*3\n",
    "print(rst)"
   ]
  },
  {
   "cell_type": "code",
   "execution_count": 32,
   "id": "40d98988",
   "metadata": {},
   "outputs": [
    {
     "name": "stdout",
     "output_type": "stream",
     "text": [
      "[1] 11.5\n"
     ]
    }
   ],
   "source": [
    "rst = a/2\n",
    "print(rst)"
   ]
  },
  {
   "cell_type": "code",
   "execution_count": 33,
   "id": "7e70ed40",
   "metadata": {},
   "outputs": [
    {
     "name": "stdout",
     "output_type": "stream",
     "text": [
      "[1] 1\n"
     ]
    }
   ],
   "source": [
    "rst = a%%2 # 나머지 연산자\n",
    "print(rst)"
   ]
  },
  {
   "cell_type": "code",
   "execution_count": 34,
   "id": "01583749",
   "metadata": {},
   "outputs": [
    {
     "name": "stdout",
     "output_type": "stream",
     "text": [
      "[1] 11\n"
     ]
    }
   ],
   "source": [
    "rst = a%/%2 # 몫 연산자\n",
    "print(rst)"
   ]
  },
  {
   "cell_type": "code",
   "execution_count": 35,
   "id": "b4d53a0c",
   "metadata": {},
   "outputs": [
    {
     "name": "stdout",
     "output_type": "stream",
     "text": [
      "[1] 14\n"
     ]
    }
   ],
   "source": [
    "rst <- 3*2^2 + 3 - 1\n",
    "print(rst)"
   ]
  },
  {
   "cell_type": "code",
   "execution_count": 36,
   "id": "fd7e2ec7",
   "metadata": {},
   "outputs": [
    {
     "name": "stdout",
     "output_type": "stream",
     "text": [
      "[1] 78.53982\n"
     ]
    }
   ],
   "source": [
    "# 반지름이 5인경우 원의 면적을 구하시오(3.14 내장변수 pi)\n",
    "r = 5\n",
    "Area = r^2*pi\n",
    "print(Area)"
   ]
  },
  {
   "cell_type": "code",
   "execution_count": 37,
   "id": "926a216b",
   "metadata": {},
   "outputs": [
    {
     "name": "stdout",
     "output_type": "stream",
     "text": [
      "[1] TRUE\n"
     ]
    }
   ],
   "source": [
    "## 관계연산자: < , > , ==, <=, >=, !=\n",
    "a = 5\n",
    "rst = a > 0\n",
    "rst = a >= 0\n",
    "rst = a < 0\n",
    "rst = a <= 0\n",
    "rst = a == 0\n",
    "rst = a != 0\n",
    "print( rst )"
   ]
  },
  {
   "cell_type": "markdown",
   "id": "fea6c6ab",
   "metadata": {},
   "source": [
    "* 우선순위 : 산술 - 관계 - 논리                                                                    \n",
    "* 논리연산자 &&, & , ||, |, !\n",
    "* &&, & (모두 TRUE TRUE)"
   ]
  },
  {
   "cell_type": "code",
   "execution_count": 39,
   "id": "8d69f817",
   "metadata": {},
   "outputs": [
    {
     "name": "stdout",
     "output_type": "stream",
     "text": [
      "[1] FALSE\n"
     ]
    }
   ],
   "source": [
    "a = 5\n",
    "rst = a>0 && a == 0\n",
    "print(rst)"
   ]
  },
  {
   "cell_type": "code",
   "execution_count": 40,
   "id": "ea355faf",
   "metadata": {},
   "outputs": [
    {
     "name": "stdout",
     "output_type": "stream",
     "text": [
      "[1] FALSE\n"
     ]
    }
   ],
   "source": [
    "a = 5\n",
    "rst = a>0 & a == 0\n",
    "print(rst)"
   ]
  },
  {
   "cell_type": "code",
   "execution_count": 41,
   "id": "daab6e29",
   "metadata": {},
   "outputs": [
    {
     "name": "stdout",
     "output_type": "stream",
     "text": [
      "[1] 1\n"
     ]
    }
   ],
   "source": [
    "v = c(1,2,3)\n",
    "print(v[1])"
   ]
  },
  {
   "cell_type": "code",
   "execution_count": 42,
   "id": "87aee977",
   "metadata": {},
   "outputs": [
    {
     "name": "stdout",
     "output_type": "stream",
     "text": [
      "[1] TRUE TRUE TRUE\n"
     ]
    }
   ],
   "source": [
    "rst = c(1,2,3) & c(3,4,5)\n",
    "print(rst)"
   ]
  },
  {
   "cell_type": "code",
   "execution_count": 43,
   "id": "0f2b0893",
   "metadata": {},
   "outputs": [
    {
     "name": "stdout",
     "output_type": "stream",
     "text": [
      "[1]  TRUE FALSE FALSE\n"
     ]
    }
   ],
   "source": [
    "rst = c(T,T,F) & c(T,F,T) # 모든 인덱스에 대해서\n",
    "print(rst)"
   ]
  },
  {
   "cell_type": "code",
   "execution_count": 44,
   "id": "6c3a7c91",
   "metadata": {},
   "outputs": [
    {
     "name": "stdout",
     "output_type": "stream",
     "text": [
      "[1] TRUE\n"
     ]
    }
   ],
   "source": [
    "rst = c(T,T,F) && c(T,F,T) # 1번째 인덱스만\n",
    "print(rst)"
   ]
  },
  {
   "cell_type": "code",
   "execution_count": 45,
   "id": "19c06866",
   "metadata": {},
   "outputs": [
    {
     "name": "stdout",
     "output_type": "stream",
     "text": [
      "[1] TRUE\n"
     ]
    }
   ],
   "source": [
    "## ||, | (모두 FALSE FALSE)\n",
    "rst = a > 0 || a == 0\n",
    "print(rst)"
   ]
  },
  {
   "cell_type": "code",
   "execution_count": 46,
   "id": "85d193be",
   "metadata": {},
   "outputs": [
    {
     "name": "stdout",
     "output_type": "stream",
     "text": [
      "[1] TRUE\n"
     ]
    }
   ],
   "source": [
    "rst = a > 0 | a == 0\n",
    "print(rst)"
   ]
  },
  {
   "cell_type": "code",
   "execution_count": 48,
   "id": "295a3156",
   "metadata": {},
   "outputs": [
    {
     "name": "stdout",
     "output_type": "stream",
     "text": [
      "[1] TRUE\n"
     ]
    }
   ],
   "source": [
    "rst = !a<0\n",
    "print(rst)"
   ]
  },
  {
   "cell_type": "code",
   "execution_count": 49,
   "id": "777edbfd",
   "metadata": {},
   "outputs": [
    {
     "name": "stdout",
     "output_type": "stream",
     "text": [
      "[1] TRUE\n",
      "[1] TRUE TRUE\n",
      "[1]  TRUE FALSE\n"
     ]
    }
   ],
   "source": [
    "# 논리 복합데이터 %in%\n",
    "print( 20 %in% c(10,20,30))\n",
    "print( c(20, 30) %in% c(10,20,30))\n",
    "print( c(20, 100) %in% c(10,20,30))"
   ]
  },
  {
   "cell_type": "code",
   "execution_count": 50,
   "id": "2f329008",
   "metadata": {},
   "outputs": [
    {
     "name": "stdout",
     "output_type": "stream",
     "text": [
      "[1] 8\n"
     ]
    }
   ],
   "source": [
    "# 연산자 생성 \"%any%\"\n",
    "\"%s%\" <- function(x, y) {\n",
    "  return(x^2*2)\n",
    "}\n",
    "print(2%s%3)"
   ]
  },
  {
   "cell_type": "code",
   "execution_count": 51,
   "id": "72464207",
   "metadata": {},
   "outputs": [
    {
     "name": "stdout",
     "output_type": "stream",
     "text": [
      "[1] 100\n"
     ]
    }
   ],
   "source": [
    "# 3항 연산자  python : 10 if a>0 else 20\n",
    "a = 20\n",
    "rst = ifelse(a>0, 100, 200)\n",
    "print(rst)"
   ]
  },
  {
   "cell_type": "code",
   "execution_count": null,
   "id": "94692c24",
   "metadata": {},
   "outputs": [],
   "source": [
    "?ifelse"
   ]
  },
  {
   "cell_type": "code",
   "execution_count": 52,
   "id": "9f0abeb2",
   "metadata": {},
   "outputs": [
    {
     "name": "stdout",
     "output_type": "stream",
     "text": [
      "[1] 200\n"
     ]
    }
   ],
   "source": [
    "a = -20\n",
    "rst = ifelse(a>0, 100, 200)\n",
    "print(rst)"
   ]
  },
  {
   "cell_type": "markdown",
   "id": "e715758c",
   "metadata": {},
   "source": [
    "# 03 typeconv"
   ]
  },
  {
   "cell_type": "code",
   "execution_count": null,
   "id": "03fd5b00",
   "metadata": {},
   "outputs": [],
   "source": [
    "## as.xxxx() 형변환 함수.."
   ]
  },
  {
   "cell_type": "code",
   "execution_count": 53,
   "id": "8ce75688",
   "metadata": {},
   "outputs": [
    {
     "name": "stdout",
     "output_type": "stream",
     "text": [
      "[1] 100\n"
     ]
    }
   ],
   "source": [
    "s = \"100\"\n",
    "n = as.numeric(s)\n",
    "print(n)"
   ]
  },
  {
   "cell_type": "code",
   "execution_count": 54,
   "id": "b791a5fb",
   "metadata": {},
   "outputs": [
    {
     "name": "stdout",
     "output_type": "stream",
     "text": [
      "[1] 3.14\n"
     ]
    }
   ],
   "source": [
    "s = \"3.14\"\n",
    "f = as.numeric(s)\n",
    "print(f)"
   ]
  },
  {
   "cell_type": "code",
   "execution_count": 55,
   "id": "8a952358",
   "metadata": {},
   "outputs": [
    {
     "name": "stdout",
     "output_type": "stream",
     "text": [
      "[1] 3\n"
     ]
    }
   ],
   "source": [
    "n = as.integer(s)\n",
    "print(n)"
   ]
  },
  {
   "cell_type": "code",
   "execution_count": 56,
   "id": "abf62bcd",
   "metadata": {},
   "outputs": [
    {
     "name": "stdout",
     "output_type": "stream",
     "text": [
      "[1] \"100\"\n"
     ]
    }
   ],
   "source": [
    "a = 100\n",
    "s = as.character(a)\n",
    "print(s)"
   ]
  },
  {
   "cell_type": "code",
   "execution_count": 57,
   "id": "7f6298c0",
   "metadata": {},
   "outputs": [
    {
     "name": "stdout",
     "output_type": "stream",
     "text": [
      "[1] TRUE\n"
     ]
    }
   ],
   "source": [
    "a= 10\n",
    "my = as.logical(a)\n",
    "print(my)"
   ]
  },
  {
   "cell_type": "code",
   "execution_count": 58,
   "id": "a7674fc4",
   "metadata": {},
   "outputs": [
    {
     "name": "stdout",
     "output_type": "stream",
     "text": [
      "[1] TRUE\n"
     ]
    }
   ],
   "source": [
    "a= 3.14 # 0 이면 FALSE, 0이 아닌 numeric은 TRUE\n",
    "my = as.logical(a)\n",
    "print(my)"
   ]
  },
  {
   "cell_type": "code",
   "execution_count": 59,
   "id": "b43b4776",
   "metadata": {},
   "outputs": [
    {
     "name": "stdout",
     "output_type": "stream",
     "text": [
      "[1] NA\n"
     ]
    }
   ],
   "source": [
    "a= \"abc\" # 문자열 x\n",
    "my = as.logical(a)\n",
    "print(my)"
   ]
  },
  {
   "cell_type": "markdown",
   "id": "096fb3a1",
   "metadata": {},
   "source": [
    "# 04 printcat"
   ]
  },
  {
   "cell_type": "code",
   "execution_count": 60,
   "id": "f477a811",
   "metadata": {},
   "outputs": [
    {
     "name": "stdout",
     "output_type": "stream",
     "text": [
      "[1] 10\n"
     ]
    }
   ],
   "source": [
    "print(10)"
   ]
  },
  {
   "cell_type": "code",
   "execution_count": 61,
   "id": "caf5df6a",
   "metadata": {},
   "outputs": [
    {
     "name": "stdout",
     "output_type": "stream",
     "text": [
      "[1] 10\n"
     ]
    }
   ],
   "source": [
    "print(10, 20)"
   ]
  },
  {
   "cell_type": "code",
   "execution_count": 62,
   "id": "0bb3843d",
   "metadata": {},
   "outputs": [
    {
     "name": "stdout",
     "output_type": "stream",
     "text": [
      "10"
     ]
    }
   ],
   "source": [
    "cat(10)"
   ]
  },
  {
   "cell_type": "code",
   "execution_count": null,
   "id": "d8d51413",
   "metadata": {},
   "outputs": [],
   "source": [
    "?cat"
   ]
  },
  {
   "cell_type": "code",
   "execution_count": 63,
   "id": "d8c253ea",
   "metadata": {},
   "outputs": [
    {
     "name": "stdout",
     "output_type": "stream",
     "text": [
      "10-20\n"
     ]
    }
   ],
   "source": [
    "cat(10, 20, sep = \"-\", fill=T) # fill=T 면 칸을 띄워서"
   ]
  },
  {
   "cell_type": "code",
   "execution_count": 64,
   "id": "b92f5aae",
   "metadata": {},
   "outputs": [
    {
     "name": "stdout",
     "output_type": "stream",
     "text": [
      "100"
     ]
    }
   ],
   "source": [
    "cat(100)"
   ]
  },
  {
   "cell_type": "code",
   "execution_count": null,
   "id": "19ba16e9",
   "metadata": {},
   "outputs": [],
   "source": [
    "?readline"
   ]
  },
  {
   "cell_type": "code",
   "execution_count": 65,
   "id": "312f5251",
   "metadata": {},
   "outputs": [
    {
     "name": "stdout",
     "output_type": "stream",
     "text": [
      "점수입력:85\n",
      "85 character"
     ]
    }
   ],
   "source": [
    "n = readline(\"점수입력:\")\n",
    "cat(n , typeof(n))"
   ]
  },
  {
   "cell_type": "markdown",
   "id": "c8b39192",
   "metadata": {},
   "source": [
    "## 과제 1"
   ]
  },
  {
   "cell_type": "code",
   "execution_count": 66,
   "id": "996c5556",
   "metadata": {},
   "outputs": [
    {
     "name": "stdout",
     "output_type": "stream",
     "text": [
      "키를 입력하시오:179\n",
      "몸무게를 입력하시오:73\n",
      "[1] \"정상\"\n"
     ]
    }
   ],
   "source": [
    "# 1. 키와 몸무게를 입력받아 비만도를 구하고 결과를 출력하시요(함수를 만드시요)\n",
    "# 표준체중(kg)=(신장(cm)-100)×0.85\n",
    "# 비만도(%)=현재체중/표준체중×100\n",
    "# 비만도가90%이하\n",
    "# 저체중,\n",
    "# 90초과~110%\n",
    "# 정상,\n",
    "# 110초과~120%\n",
    "# 과체중,\n",
    "# 120%초과 \n",
    "# 비만 \n",
    "\n",
    "height = as.integer(readline(\"키를 입력하시오:\"))\n",
    "weight = as.integer(readline(\"몸무게를 입력하시오:\"))\n",
    "std_weight = (height - 100)*0.85\n",
    "big = weight/std_weight*100\n",
    "if (big <= 90) {\n",
    "  print(\"저체중\")\n",
    "}else if (big > 90 & big <= 110){\n",
    "  print(\"정상\")\n",
    "}else if (big >110 & big <= 120){\n",
    "  print(\"과체중\")\n",
    "}else{\n",
    "  print(\"비만\")\n",
    "}"
   ]
  },
  {
   "cell_type": "code",
   "execution_count": 67,
   "id": "d46b28b8",
   "metadata": {},
   "outputs": [
    {
     "name": "stdout",
     "output_type": "stream",
     "text": [
      "연도 입력:2015\n",
      "[1] \"윤년아님\"\n"
     ]
    }
   ],
   "source": [
    "# 2. 년도 입력받아\n",
    "# 1) 윤년여부를 출력하는 함수를 만드시요\n",
    "# 윤년의 조건\n",
    "# 1-1) 4로 나눠 떨어지지만 100으로 나눠 떨어지지 않아야 한다 또는\n",
    "# 1-2) 400 으로 나눠 떨어지면 윤년임\n",
    "# 2) 나이를 출력하는 함수를 만드시요\n",
    "# 3) 띠(12지신)를 출력하는 함수를 만드시요\n",
    "\n",
    "year = as.integer(readline(\"연도 입력:\"))\n",
    "result = ifelse( year %% 4 == 0 & year %% 100 != 0 | year %% 400 == 0,'윤년','윤년아님')\n",
    "print( result)"
   ]
  },
  {
   "cell_type": "code",
   "execution_count": 68,
   "id": "be470055",
   "metadata": {},
   "outputs": [
    {
     "name": "stdout",
     "output_type": "stream",
     "text": [
      "[1] 8\n",
      "[1] \"양띠\"\n"
     ]
    }
   ],
   "source": [
    "age = 2022-year+1\n",
    "print(age)\n",
    "\n",
    "thi = switch (as.character(year %% 12),\n",
    "  '0'=\"잔나비띠\",'1'=\"닭띠\",'2'=\"개띠\",'3'=\"돼지띠\",'4'=\"쥐띠\",'5'=\"소띠\",'6'=\"범띠\",'7'=\"토끼띠\",'8'=\"용띠\",'9'=\"뱀띠\",'10'=\"말띠\",'11'=\"양띠\")\n",
    "print(thi)"
   ]
  },
  {
   "cell_type": "code",
   "execution_count": 69,
   "id": "35f056bd",
   "metadata": {},
   "outputs": [
    {
     "name": "stdout",
     "output_type": "stream",
     "text": [
      "입력:95\n",
      "[1] \"A\"\n"
     ]
    }
   ],
   "source": [
    "# 3.  하나의 점수를 입력받아 (switch 문을 이용하시요)\n",
    "# 90~100 'A'\n",
    "# 80~89 'B'\n",
    "# 70~79 'C'\n",
    "# 60~69 'D'\n",
    "# 나머지 'F'\n",
    "x = as.integer(readline(\"입력:\"))\n",
    "b = switch (as.character(x %/% 10), '10' = \"A\", '9' = \"A\",  \"8\" = \"B\", '7' =\"C\", '6' =\"D\", \"F\")\n",
    "print(b)"
   ]
  },
  {
   "cell_type": "code",
   "execution_count": 70,
   "id": "9b71aa30",
   "metadata": {},
   "outputs": [
    {
     "name": "stdout",
     "output_type": "stream",
     "text": [
      "마일로 변환:45\n",
      "[1] 27.96165\n"
     ]
    }
   ],
   "source": [
    "# 4. km 를 입력받아 마일로 변환하시요\n",
    "km = as.integer(readline(\"마일로 변환:\"))\n",
    "mile = km*0.62137\n",
    "print(mile)"
   ]
  },
  {
   "cell_type": "code",
   "execution_count": 71,
   "id": "cdd970b4",
   "metadata": {},
   "outputs": [
    {
     "name": "stdout",
     "output_type": "stream",
     "text": [
      "화씨:42\n",
      "[1] 5.555556\n"
     ]
    }
   ],
   "source": [
    "# 5. 화씨 를 입력받아 도로 변환하시요\n",
    "FF = as.integer(readline(\"화씨:\"))\n",
    "c = (FF-32)/1.8\n",
    "print(c)"
   ]
  },
  {
   "cell_type": "code",
   "execution_count": null,
   "id": "9193ad18",
   "metadata": {},
   "outputs": [],
   "source": [
    "# 6. 2개의 정수를 입력받아 절대값의 합을 구하시요 ( 반드시 로직으로 구현)\n",
    "a = as.integer(readline(\"입력:\"))\n",
    "b = as.integer(readline(\"입력:\"))\n",
    "a = ifelse( a<0, -1*a, a)\n",
    "b = ifelse( b<0, -b, b)\n",
    "print(a+b)"
   ]
  },
  {
   "cell_type": "code",
   "execution_count": null,
   "id": "158b15f6",
   "metadata": {},
   "outputs": [],
   "source": [
    "# 7. 반지름과 높이를 입력받아 원기둥의 부피와 원뿔의 부피를 구하시요.\n",
    "r = as.integer(readline(\"입력:\"))\n",
    "h = as.integer(readline(\"입력:\"))\n",
    "V = pi*r^2*h\n",
    "CV = V/3\n",
    "cat(V,CV)"
   ]
  },
  {
   "cell_type": "code",
   "execution_count": null,
   "id": "308325a1",
   "metadata": {},
   "outputs": [],
   "source": []
  }
 ],
 "metadata": {
  "kernelspec": {
   "display_name": "R",
   "language": "R",
   "name": "ir"
  },
  "language_info": {
   "codemirror_mode": "r",
   "file_extension": ".r",
   "mimetype": "text/x-r-source",
   "name": "R",
   "pygments_lexer": "r",
   "version": "3.6.1"
  }
 },
 "nbformat": 4,
 "nbformat_minor": 5
}
