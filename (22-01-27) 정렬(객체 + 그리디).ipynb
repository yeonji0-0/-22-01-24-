{
 "cells": [
  {
   "cell_type": "markdown",
   "id": "40df6cee",
   "metadata": {},
   "source": [
    ">파이썬에서 여러개의 값을 다루는 타입:  여러개 존재\n",
    "  > * 리스트(튜플), 딕션어리: 데이터쪽 --> 이 타입들은 중복된 값들도 기본적 허용! \n",
    "  > * set: 코딩테스트에서는 알아는 두어야..  --> 수학적으로 집합처럼 중복된 값 허용X, 문제를 집합으로 접근할 때 교집합, 합집합"
   ]
  },
  {
   "cell_type": "markdown",
   "id": "c2ee0356",
   "metadata": {},
   "source": [
    "#리스트에서 정렬"
   ]
  },
  {
   "cell_type": "code",
   "execution_count": 4,
   "id": "2978a4f5",
   "metadata": {},
   "outputs": [
    {
     "data": {
      "text/plain": [
       "[10, 79, 8, 22, 15]"
      ]
     },
     "execution_count": 4,
     "metadata": {},
     "output_type": "execute_result"
    }
   ],
   "source": [
    "num_list = [15, 22, 8 ,79, 10]\n",
    "num_list.reverse()\n",
    "num_list"
   ]
  },
  {
   "cell_type": "code",
   "execution_count": 5,
   "id": "6e135feb",
   "metadata": {},
   "outputs": [
    {
     "data": {
      "text/plain": [
       "[8, 10, 15, 22, 79]"
      ]
     },
     "execution_count": 5,
     "metadata": {},
     "output_type": "execute_result"
    }
   ],
   "source": [
    "num_list = [15, 22, 8 ,79, 10]\n",
    "num_list.sort()   #오름차순\n",
    "num_list"
   ]
  },
  {
   "cell_type": "code",
   "execution_count": 9,
   "id": "fa855310",
   "metadata": {},
   "outputs": [
    {
     "data": {
      "text/plain": [
       "[79, 22, 15, 10, 8]"
      ]
     },
     "execution_count": 9,
     "metadata": {},
     "output_type": "execute_result"
    }
   ],
   "source": [
    "num_list = [15, 22, 8 ,79, 10]\n",
    "num_list.sort(reverse=True)  #내림차순\n",
    "num_list"
   ]
  },
  {
   "cell_type": "code",
   "execution_count": 13,
   "id": "ccb44dd4",
   "metadata": {},
   "outputs": [
    {
     "name": "stdout",
     "output_type": "stream",
     "text": [
      "[15, 22, 8, 79, 10]\n",
      "[8, 10, 15, 22, 79]\n"
     ]
    },
    {
     "data": {
      "text/plain": [
       "[8, 10, 15, 22, 79]"
      ]
     },
     "execution_count": 13,
     "metadata": {},
     "output_type": "execute_result"
    }
   ],
   "source": [
    "#파이썬의 sorted 함수가 있음! 리스트의 메서드 아님\n",
    "#len(리스트) sorted(리스트)\n",
    "#    리스트.sort( ) vs sorted(리스트)\n",
    "# -> 리스트가 변경, 리스트 안 변경     / 기능적으로는 동일\n",
    "num_list = [15, 22, 8 ,79, 10]\n",
    "new_list = sorted(num_list)\n",
    "print(num_list)\n",
    "print(new_list)\n",
    "sorted(num_list)"
   ]
  },
  {
   "cell_type": "code",
   "execution_count": 14,
   "id": "e04eac5a",
   "metadata": {},
   "outputs": [],
   "source": [
    "#정렬에 대한 기준이 대표적으로 숫자의크기는 알겠는데,\n",
    "#내가 원하는 기준대로 하면 안 될까?\n",
    "# ---> 코딩테스트 사이트상 정렬 파트"
   ]
  },
  {
   "cell_type": "code",
   "execution_count": 16,
   "id": "469a1a98",
   "metadata": {},
   "outputs": [
    {
     "data": {
      "text/plain": [
       "['좋은 하루', 'good mornig', '굿모닝', 'nice day']"
      ]
     },
     "execution_count": 16,
     "metadata": {},
     "output_type": "execute_result"
    }
   ],
   "source": [
    "str_list = [\"좋은 하루\", \"good mornig\",\"굿모닝\",\"nice day\"]\n",
    "str_list"
   ]
  },
  {
   "cell_type": "code",
   "execution_count": 18,
   "id": "1d6bde1a",
   "metadata": {},
   "outputs": [
    {
     "data": {
      "text/plain": [
       "['good mornig', 'nice day', '굿모닝', '좋은 하루']"
      ]
     },
     "execution_count": 18,
     "metadata": {},
     "output_type": "execute_result"
    }
   ],
   "source": [
    "sorted(str_list)"
   ]
  },
  {
   "cell_type": "code",
   "execution_count": 20,
   "id": "e85cf1ec",
   "metadata": {},
   "outputs": [
    {
     "data": {
      "text/plain": [
       "['nice day', 'good mornig', '굿모닝', '좋은 하루']"
      ]
     },
     "execution_count": 20,
     "metadata": {},
     "output_type": "execute_result"
    }
   ],
   "source": [
    "#정렬의 기준으로 내가 원하는 대로\n",
    "#질문) 특이하게 2번째 글자를 기준으로 정렬을 하고 싶음\n",
    "#은, o, 모 , i , -> nicedat, good_,굿모닝, 좋은\n",
    "sorted(str_list, key = lambda x : x[1])"
   ]
  },
  {
   "cell_type": "code",
   "execution_count": 24,
   "id": "d0d815fa",
   "metadata": {},
   "outputs": [
    {
     "data": {
      "text/plain": [
       "['굿모닝', '좋은 하루', 'nice day', 'good mornig']"
      ]
     },
     "execution_count": 24,
     "metadata": {},
     "output_type": "execute_result"
    }
   ],
   "source": [
    "#글자의 개수를 중심으로 정렬\n",
    "sorted(str_list, key = lambda x : len(x))"
   ]
  },
  {
   "cell_type": "code",
   "execution_count": 26,
   "id": "80a48070",
   "metadata": {},
   "outputs": [
    {
     "data": {
      "text/plain": [
       "['good mornig', 'nice day', '좋은 하루', '굿모닝']"
      ]
     },
     "execution_count": 26,
     "metadata": {},
     "output_type": "execute_result"
    }
   ],
   "source": [
    "sorted(str_list, key = lambda x : len(x), reverse = True)"
   ]
  },
  {
   "cell_type": "code",
   "execution_count": 28,
   "id": "d935dd0e",
   "metadata": {},
   "outputs": [
    {
     "data": {
      "text/plain": [
       "['good mornig', 'nice day', '좋은 하루', '굿모닝']"
      ]
     },
     "execution_count": 28,
     "metadata": {},
     "output_type": "execute_result"
    }
   ],
   "source": [
    "sorted(str_list, key = lambda x : -len(x))"
   ]
  },
  {
   "cell_type": "code",
   "execution_count": 44,
   "id": "06b41d1e",
   "metadata": {},
   "outputs": [
    {
     "data": {
      "text/plain": [
       "[('A', 0),\n",
       " ('B', 5),\n",
       " ('AA', 3),\n",
       " ('C', 5),\n",
       " ('B', 1),\n",
       " ('z', 5),\n",
       " ('D', 3),\n",
       " ('E', 5)]"
      ]
     },
     "execution_count": 44,
     "metadata": {},
     "output_type": "execute_result"
    }
   ],
   "source": [
    "#내가 원하는 기준에 대해서 작성하는 가장 대표적인 예\n",
    "#예) 이름, 수학성적에 대한 5명의 자료가 있을 때,\n",
    "zumsu_list = [(\"A\",0), (\"B\",5),(\"AA\",3),(\"C\",5),(\"B\",1),(\"z\",5),(\"D\",3),(\"E\",5)]\n",
    "zumsu_list"
   ]
  },
  {
   "cell_type": "code",
   "execution_count": 45,
   "id": "7dad0dad",
   "metadata": {},
   "outputs": [
    {
     "data": {
      "text/plain": [
       "[('A', 0),\n",
       " ('AA', 3),\n",
       " ('B', 1),\n",
       " ('B', 5),\n",
       " ('C', 5),\n",
       " ('D', 3),\n",
       " ('E', 5),\n",
       " ('z', 5)]"
      ]
     },
     "execution_count": 45,
     "metadata": {},
     "output_type": "execute_result"
    }
   ],
   "source": [
    "sorted(zumsu_list) #첫번째 기준 같으면 두번째 기준으로 정렬 (디폴트 오른차순)  --> 사전처럼 "
   ]
  },
  {
   "cell_type": "code",
   "execution_count": 47,
   "id": "4334a850",
   "metadata": {},
   "outputs": [
    {
     "data": {
      "text/plain": [
       "[('A', 0),\n",
       " ('AA', 3),\n",
       " ('B', 5),\n",
       " ('B', 1),\n",
       " ('C', 5),\n",
       " ('D', 3),\n",
       " ('E', 5),\n",
       " ('z', 5)]"
      ]
     },
     "execution_count": 47,
     "metadata": {},
     "output_type": "execute_result"
    }
   ],
   "source": [
    "#1) 위의 경우에서 이름을 중심으로 정렬 : key\n",
    "sorted(zumsu_list, key = lambda x : x[0])  #첫번째 기준만 신경씀 나머지는 관심 없음 --> 첫번째 기준 같으면 수집한 데이터 기준으로 적음"
   ]
  },
  {
   "cell_type": "code",
   "execution_count": 48,
   "id": "2b0efbc1",
   "metadata": {},
   "outputs": [
    {
     "data": {
      "text/plain": [
       "[('A', 0),\n",
       " ('B', 1),\n",
       " ('AA', 3),\n",
       " ('D', 3),\n",
       " ('B', 5),\n",
       " ('C', 5),\n",
       " ('z', 5),\n",
       " ('E', 5)]"
      ]
     },
     "execution_count": 48,
     "metadata": {},
     "output_type": "execute_result"
    }
   ],
   "source": [
    "#2) 이름이 아니라 성적 순서대로 보고자 한다면\n",
    "sorted(zumsu_list, key = lambda x : x[1])"
   ]
  },
  {
   "cell_type": "code",
   "execution_count": 51,
   "id": "cc50d525",
   "metadata": {},
   "outputs": [
    {
     "data": {
      "text/plain": [
       "[('B', 5),\n",
       " ('C', 5),\n",
       " ('z', 5),\n",
       " ('E', 5),\n",
       " ('AA', 3),\n",
       " ('D', 3),\n",
       " ('B', 1),\n",
       " ('A', 0)]"
      ]
     },
     "execution_count": 51,
     "metadata": {},
     "output_type": "execute_result"
    }
   ],
   "source": [
    "sorted(zumsu_list, key = lambda x : x[1], reverse = True)"
   ]
  },
  {
   "cell_type": "code",
   "execution_count": 50,
   "id": "f220c13f",
   "metadata": {},
   "outputs": [
    {
     "data": {
      "text/plain": [
       "[('A', 0),\n",
       " ('AA', 3),\n",
       " ('B', 5),\n",
       " ('B', 1),\n",
       " ('C', 5),\n",
       " ('D', 3),\n",
       " ('E', 5),\n",
       " ('z', 5)]"
      ]
     },
     "execution_count": 50,
     "metadata": {},
     "output_type": "execute_result"
    }
   ],
   "source": [
    "sorted(zumsu_list, key = lambda x : ( x[0], -x[1]))"
   ]
  },
  {
   "cell_type": "code",
   "execution_count": 58,
   "id": "b223ef99",
   "metadata": {},
   "outputs": [
    {
     "data": {
      "text/plain": [
       "[('B', 5),\n",
       " ('C', 5),\n",
       " ('E', 5),\n",
       " ('z', 5),\n",
       " ('AA', 3),\n",
       " ('D', 3),\n",
       " ('B', 1),\n",
       " ('A', 0)]"
      ]
     },
     "execution_count": 58,
     "metadata": {},
     "output_type": "execute_result"
    }
   ],
   "source": [
    "#위의 데이터에서 정렬 기준이 1. 성적이 높은순 (내림차순)\n",
    "#혹시 성적이 같으면 이름은 알파벳순 (오름차순)\n",
    "\n",
    "#reverse옵션은 전체에 해당\n",
    "#정렬기준마다 오름/내림은 +,-로 처리\n",
    "sorted(zumsu_list, key = lambda x : ( -x[1],x[0]))"
   ]
  },
  {
   "cell_type": "code",
   "execution_count": 59,
   "id": "f6f546ab",
   "metadata": {},
   "outputs": [],
   "source": [
    "#리스트와 딕션어리에서 종합적인 정보를 가지고 돌릴\n",
    "#리스트) 어디에(위치: 정수), 뭐 있어요?\n",
    "a = [\"a\",\"b\",\"c\",\"d\"]"
   ]
  },
  {
   "cell_type": "code",
   "execution_count": 60,
   "id": "8f219cd8",
   "metadata": {},
   "outputs": [
    {
     "data": {
      "text/plain": [
       "'b'"
      ]
     },
     "execution_count": 60,
     "metadata": {},
     "output_type": "execute_result"
    }
   ],
   "source": [
    "#리스트에서 위치로 값을 찾을 때 : 정수 인덱스 -> 슬라이싱으로 찾을 때\n",
    "a[1]"
   ]
  },
  {
   "cell_type": "code",
   "execution_count": 61,
   "id": "03c2e9c4",
   "metadata": {},
   "outputs": [
    {
     "data": {
      "text/plain": [
       "1"
      ]
     },
     "execution_count": 61,
     "metadata": {},
     "output_type": "execute_result"
    }
   ],
   "source": [
    "#리스트에서 값으로 위치 : index\n",
    "a.index(\"b\")"
   ]
  },
  {
   "cell_type": "code",
   "execution_count": 63,
   "id": "7237bae8",
   "metadata": {},
   "outputs": [
    {
     "name": "stdout",
     "output_type": "stream",
     "text": [
      "(0, 'a')\n",
      "(1, 'b')\n",
      "(2, 'c')\n",
      "(3, 'd')\n"
     ]
    }
   ],
   "source": [
    "for i in enumerate(a):\n",
    "    print(i)"
   ]
  },
  {
   "cell_type": "code",
   "execution_count": 66,
   "id": "6c6c92bf",
   "metadata": {},
   "outputs": [
    {
     "name": "stdout",
     "output_type": "stream",
     "text": [
      "0\n",
      "a\n",
      "-----\n",
      "1\n",
      "b\n",
      "-----\n",
      "2\n",
      "c\n",
      "-----\n",
      "3\n",
      "d\n",
      "-----\n"
     ]
    }
   ],
   "source": [
    "for i,v in enumerate(a):\n",
    "    print(i)\n",
    "    print(v)\n",
    "    print(\"-\"*5)"
   ]
  },
  {
   "cell_type": "code",
   "execution_count": 67,
   "id": "b8818914",
   "metadata": {},
   "outputs": [],
   "source": [
    "#딕션어리는 키값, 벨류값 ->  .keys()  .values()  [키]\n",
    "#동시에 .items()"
   ]
  },
  {
   "cell_type": "code",
   "execution_count": 68,
   "id": "c70991be",
   "metadata": {},
   "outputs": [
    {
     "name": "stdout",
     "output_type": "stream",
     "text": [
      "('a', 100)\n",
      "('b', 200)\n",
      "('c', 300)\n"
     ]
    }
   ],
   "source": [
    "d = {\"a\":100, \"b\":200, \"c\":300}\n",
    "for i in d.items():\n",
    "    print(i)"
   ]
  },
  {
   "cell_type": "code",
   "execution_count": 70,
   "id": "b1cf8d7c",
   "metadata": {},
   "outputs": [
    {
     "name": "stdout",
     "output_type": "stream",
     "text": [
      "a\n",
      "100\n",
      "-----\n",
      "b\n",
      "200\n",
      "-----\n",
      "c\n",
      "300\n",
      "-----\n"
     ]
    }
   ],
   "source": [
    "for k,v in d.items():\n",
    "    print(k)\n",
    "    print(v)\n",
    "    print(\"-\"*5)"
   ]
  },
  {
   "cell_type": "markdown",
   "id": "d9258827",
   "metadata": {},
   "source": [
    "##그리디 (Greedy)"
   ]
  },
  {
   "cell_type": "code",
   "execution_count": 90,
   "id": "05848b19",
   "metadata": {},
   "outputs": [
    {
     "name": "stdout",
     "output_type": "stream",
     "text": [
      "[1, 50, 100, 500]\n",
      "[500, 100, 50, 1]\n",
      "31\n"
     ]
    }
   ],
   "source": [
    "#예제 동전 문제\n",
    "\n",
    "#문제 상황에 대한 변수 및 초기화\n",
    "cost = 4720\n",
    "coin_type = [1, 50, 100, 500]\n",
    "\n",
    "\n",
    "#문제에 의해 필요한 카운팅 변수\n",
    "count = 0\n",
    "\n",
    "#coin_type을 돌아가면서, 몫을 계산해서 누적\n",
    "###잠시 큰 동전부터 해야하니 순서 정리\n",
    "print(coin_type)\n",
    "coin_type.sort(reverse = True)\n",
    "print(coin_type)\n",
    "for coin in coin_type:\n",
    "    r = cost // coin\n",
    "    count += r\n",
    "    cost %= coin #cost = cost % coin\n",
    "print(count)"
   ]
  },
  {
   "cell_type": "code",
   "execution_count": null,
   "id": "55fad52c",
   "metadata": {},
   "outputs": [],
   "source": [
    "#M번 더하기 문제"
   ]
  },
  {
   "cell_type": "code",
   "execution_count": 94,
   "id": "0425d904",
   "metadata": {},
   "outputs": [
    {
     "name": "stdout",
     "output_type": "stream",
     "text": [
      "2개의 수를 공란으로 입력하세요2 5\n",
      "25\n",
      "7\n"
     ]
    },
    {
     "data": {
      "text/plain": [
       "11"
      ]
     },
     "execution_count": 94,
     "metadata": {},
     "output_type": "execute_result"
    }
   ],
   "source": [
    "##잠시 입력 처리 map\n",
    "### 두 개의 수를 입력받아서 더하려고 한다\n",
    "a,b = input(\"2개의 수를 공란으로 입력하세요\").split(\" \")   #구분하기 .split() 디폴트값 공란으로 구분\n",
    "print(a+b)\n",
    "\n",
    "#형 변환\n",
    "a = int(a)\n",
    "b = int(b)\n",
    "print(a + b)\n",
    "\n",
    "#map\n",
    "def add_one(n):\n",
    "    return n +1\n",
    "add_one(10)\n",
    "\n"
   ]
  },
  {
   "cell_type": "code",
   "execution_count": 96,
   "id": "dcfc9757",
   "metadata": {},
   "outputs": [
    {
     "data": {
      "text/plain": [
       "[2, 4, 6, 8, 10, 12, 3435, 4344, 3435]"
      ]
     },
     "execution_count": 96,
     "metadata": {},
     "output_type": "execute_result"
    }
   ],
   "source": [
    "[ 1,3, 5, 7, 9,11,3434,4343,3434]\n",
    "#-> 2,4,6, 8, 10~~~~ : a+1\n",
    "# -> for, 리스트 컴프리핸선..\n",
    "# -> map\n",
    "\n",
    "a = map(add_one, [1, 3, 5, 7, 9, 11, 3434, 4343, 3434])\n",
    "a = list(a)\n",
    "a\n",
    "b = [1, 3, 5, 7, 9, 11, 3434, 4343, 3434]\n",
    "[x+1 for x in b]"
   ]
  },
  {
   "cell_type": "code",
   "execution_count": null,
   "id": "e484d3f1",
   "metadata": {},
   "outputs": [],
   "source": [
    "# 더하기 문제에 적용해보자->입력단에 수정..\n",
    "a,b = map(int,input(\"2개의 수를 공란으로 입력하세요\").split(\" \"))\n",
    "print(a+b)"
   ]
  },
  {
   "cell_type": "code",
   "execution_count": null,
   "id": "0b2b083e",
   "metadata": {},
   "outputs": [],
   "source": [
    "#위의 결과를 리스트 컴프리핸션으로?\n",
    "a,b = [int(x) for x in input(\"2개의 수를 공란으로 입력하세요.\")]\n",
    "print(a+b)"
   ]
  },
  {
   "cell_type": "code",
   "execution_count": 106,
   "id": "3b1d5ef3",
   "metadata": {},
   "outputs": [
    {
     "name": "stdout",
     "output_type": "stream",
     "text": [
      "N M K 값 입력(공란)5 8 3\n",
      "N개 수 입력: 공란2 4 5 4 6\n",
      "5 8 3 [2, 4, 5, 4, 6]\n"
     ]
    }
   ],
   "source": [
    "#입력단 설계\n",
    "n, m, k = map(int, input(\"N M K 값 입력(공란)\").split(\" \"))\n",
    "data = list(map(int,input(\"N개 수 입력: 공란\").split(\" \")))\n",
    "print(n, m, k, data)"
   ]
  },
  {
   "cell_type": "code",
   "execution_count": 108,
   "id": "050ebc1d",
   "metadata": {},
   "outputs": [
    {
     "name": "stdout",
     "output_type": "stream",
     "text": [
      "6\n",
      "5\n"
     ]
    }
   ],
   "source": [
    "#주어진 data에서 first, second를 찾기 -> 정렬\n",
    "data.sort() #작은 값-> 큰 값-> 가장 큰 값은 맨뒤\n",
    "first = data[-1]\n",
    "second = data[-2]\n",
    "print(first)\n",
    "print(second)\n",
    "#큰 값을 앞으로 정렬하면..\n",
    "#data.sort(reserve=True)\n",
    "#first = data[0]\n",
    "#second = data[1]"
   ]
  },
  {
   "cell_type": "code",
   "execution_count": 111,
   "id": "5820d4bd",
   "metadata": {},
   "outputs": [
    {
     "name": "stdout",
     "output_type": "stream",
     "text": [
      "0\n"
     ]
    }
   ],
   "source": [
    "#가장 큰 틀은 M개의 수를 더하는 과정 : M번 돌리면서 + \n",
    "# -> k개씩 끊어서...\n",
    "#수업상 while, for 둘 다 이야기하려고 혼용해서 사용\n",
    "\n",
    "result = 0 # 더하는 값을 누적하기!!!\n",
    "while True: #m번만 돌리고 나갈려니  m의 값을 1씩 줄이  --> 몇 번할지  모를 때 좋음 \n",
    "    #1) 가장 큰 수 k번 더하기\n",
    "    for _ in range(k): # 단순 k번 돌리기용\n",
    "        #전체 m번 더하는거 끝났니?\n",
    "        if m == 0:    \n",
    "            break\n",
    "        else: # 전체 더해야 하는 경우 남은 것들\n",
    "            result += first\n",
    "     #2) 쉬어가기 second 1개 더하기\n",
    "    if m == 0:\n",
    "        break\n",
    "    else:\n",
    "        result += second\n",
    "        m -= 1\n",
    "print(result)   "
   ]
  },
  {
   "cell_type": "code",
   "execution_count": 112,
   "id": "cd4e0bfe",
   "metadata": {},
   "outputs": [],
   "source": [
    "#수 더하는 문제를 산수 문제로 보자~"
   ]
  },
  {
   "cell_type": "code",
   "execution_count": 116,
   "id": "1f11afc6",
   "metadata": {},
   "outputs": [
    {
     "name": "stdout",
     "output_type": "stream",
     "text": [
      "N M K 값 입력(공란)5 8 3\n",
      "N개 수 입력:공란2 4 5 4 6\n",
      "5 8 3 [2, 4, 5, 4, 6]\n"
     ]
    }
   ],
   "source": [
    "# 입력단 설계\n",
    "n, m, k = map(int,input(\"N M K 값 입력(공란)\").split(\" \"))\n",
    "data = list(map(int, input(\"N개 수 입력:공란\").split()))\n",
    "print(n,m,k, data)"
   ]
  },
  {
   "cell_type": "code",
   "execution_count": 117,
   "id": "03fa29be",
   "metadata": {},
   "outputs": [
    {
     "name": "stdout",
     "output_type": "stream",
     "text": [
      "6\n",
      "5\n"
     ]
    }
   ],
   "source": [
    "# 주어진 data에서 first, second를 찾기 -> 정렬!!!\n",
    "data.sort() # 작은 값->큰값 -> 가장 큰 값은 맨뒤,\n",
    "first = data[-1]\n",
    "second = data[-2]\n",
    "print(first)\n",
    "print(second)\n",
    "# 큰 값을 앞으로 정렬하면..\n",
    "# data.sort(reverse=True)\n",
    "# first = data[0]\n",
    "# second = data[1]"
   ]
  },
  {
   "cell_type": "code",
   "execution_count": 118,
   "id": "046e5fb1",
   "metadata": {},
   "outputs": [
    {
     "name": "stdout",
     "output_type": "stream",
     "text": [
      "46\n"
     ]
    }
   ],
   "source": [
    "#덩어리를 중심으로 바라보고 M개의 수 중에서 \n",
    "#first는 몇 개 있고, second는 몇 개 있는지 산수해서\n",
    "\n",
    "#합을 처리할 변수 & 초기화\n",
    "result = 0\n",
    "\n",
    "#first가 총 더해지는 수\n",
    "count_first = (m //(k+1)) * k\n",
    "count_first += (m % (k+1))\n",
    "\n",
    "#second가 총 더해지는 수\n",
    "# 방법 1) 덩어리 개수로 보면\n",
    "#count_second = m // (k+1)\n",
    "# 방법 2) 전체 m - first수 빼기\n",
    "count_second = m - count_first\n",
    "\n",
    "#총 합에 대한 계산도 first, second 나눠서\n",
    "result += count_first * first\n",
    "result += count_second * second\n",
    "\n",
    "print(result)"
   ]
  },
  {
   "cell_type": "markdown",
   "id": "c045c986",
   "metadata": {},
   "source": [
    "#정렬"
   ]
  },
  {
   "cell_type": "code",
   "execution_count": 98,
   "id": "859ccc55",
   "metadata": {},
   "outputs": [
    {
     "name": "stdout",
     "output_type": "stream",
     "text": [
      "[3, 10]\n",
      "--------\n",
      "[10, 3]\n"
     ]
    }
   ],
   "source": [
    "##swap관련\n",
    "arr = [3,10]\n",
    "print(arr)\n",
    "print(\"--------\")\n",
    "temp = arr[0]\n",
    "arr[0] = arr[1]\n",
    "arr[1] = temp\n",
    "print(arr)"
   ]
  },
  {
   "cell_type": "code",
   "execution_count": 99,
   "id": "9e93c2be",
   "metadata": {},
   "outputs": [
    {
     "name": "stdout",
     "output_type": "stream",
     "text": [
      "[10, 3]\n"
     ]
    }
   ],
   "source": [
    "arr = [3,10]\n",
    "arr[0], arr[1] = arr[1], arr[0] #swap\n",
    "print(arr)"
   ]
  },
  {
   "cell_type": "code",
   "execution_count": 100,
   "id": "83e59e0a",
   "metadata": {},
   "outputs": [
    {
     "data": {
      "text/plain": [
       "[20, 12, 10, 15, 2]"
      ]
     },
     "execution_count": 100,
     "metadata": {},
     "output_type": "execute_result"
    }
   ],
   "source": [
    "##선택 정렬 \n",
    "arr = [20, 12, 10, 15, 2]\n",
    "arr"
   ]
  },
  {
   "cell_type": "code",
   "execution_count": 101,
   "id": "3b2c7471",
   "metadata": {},
   "outputs": [],
   "source": [
    "# 0 번째 단계: 5개중에서 제일 작은 것 뽑자\n",
    "            #5개 중 제일 앞(0번째)이 작다고 가정 (1등 기록지에 시작점 기록)\n",
    "                #그 다음부터 (1번째) ~~ 맨 마지막까지 가면서\n",
    "                #지금 위치의 값 vs 지금까지 제일 작다는 값 비교\n",
    "                    #비교했을 때.. 더 작은 친구가 나오면... : if\n",
    "                    # -> 1등 기록지에 업데이트..\n",
    "            #남은 뒤에까지 다 훝고 비교가 끝나면\n",
    "            #이제 제일 작은 친구를 0번째에다가 swap\n",
    "# 1 번째 단계: 남은 4개중에서 제일 작은 것 뽑자\n",
    "            #4개 중 제일 앞(1번째)이 작다고 가정 (1등 기록지에 시작점 기록)\n",
    "                #그 다음부터 (1+1번째) ~~ 맨 마지막까지 가면서\n",
    "                #지금 위치의 값 vs 지금까지 제일 작다는 값 비교\n",
    "                    #비교했을 때.. 더 작은 친구가 나오면... : if\n",
    "                    # -> 1등 기록지에 업데이트..\n",
    "            #남은 뒤에까지 다 훝고 비교가 끝나면\n",
    "            #이제 제일 작은 친구를 0번째에다가 swap\n",
    "# 2 번째 단계: 남은 3개중에서 제일 작은 것 뽑자\n",
    "      #-----> 3개 중 제일 앞(2번째)이 작다고 가정\n",
    "# 3 번째 단계: 남은 2개중에서 제일 작은 것 뽑자\n",
    "# 4 번째 단계: 남은 1개중에서 제일 작은 것 뽑자"
   ]
  },
  {
   "cell_type": "code",
   "execution_count": 104,
   "id": "bd55a888",
   "metadata": {},
   "outputs": [
    {
     "name": "stdout",
     "output_type": "stream",
     "text": [
      "[2, 2, 10, 12, 15]\n"
     ]
    }
   ],
   "source": [
    "for step in range(len(arr)):\n",
    "    #step에서 제일 작은 친구 위치 적을 기록지\n",
    "    min_step = step\n",
    "    for i in range(step+1, len(arr)):\n",
    "        if arr[i] < arr[min_step]:\n",
    "            min_step = i\n",
    "        else:\n",
    "            pass\n",
    "    #지금 단계에서 제일 작은 친구를 찾았으면 -> swap\n",
    "    arr[step], arr[min_step] = arr[min_step], arr[step]\n",
    "print(arr)    "
   ]
  },
  {
   "cell_type": "code",
   "execution_count": 119,
   "id": "1ad56138",
   "metadata": {},
   "outputs": [],
   "source": [
    "##삽입 정렬\n",
    "#-0 step #9 정리 끝\n",
    "#1 step #9, 5 -> 9하고 5 비교 -> 5가 작ㅇ으면 둘이 swap\n",
    "#1 step #5, 9, 1 -> 9하고 1 비교 -> 1과 9 swap : 5, 1, 9\n",
    "#           5하고 1 비교 -> 1과 5 swap : 1, 5, 9\n",
    "#1 5 9 (4) -> 9하고 4비교 -> 4와 9 swap : 1, 5, 4, 9\n",
    "#             5하고 4비교 -> 4와 5 swap : 1, 3, 5, 9\n",
    "#             1하고 4비교 -> stop       : 1, 4, 5, 9 end\n",
    "#1 4 5 9 (3) -> 9하고 3비교 -> 3하고 9 swap : 1, 4, 5, 3, 9\n",
    "#               5하고 3비교 -> 3하고 5 swap : 1, 4, 3, 5, 9\n",
    "#               4하고 3비교 -> 1 3 4 5 8\n",
    "                1하고 3비교 ->크네.. stop\n",
    "    "
   ]
  },
  {
   "cell_type": "code",
   "execution_count": 122,
   "id": "80bfc8a5",
   "metadata": {},
   "outputs": [
    {
     "name": "stdout",
     "output_type": "stream",
     "text": [
      "[1, 3, 4, 5, 9]\n"
     ]
    }
   ],
   "source": [
    "#i를 0이 아니라 1까지만 보내는 이유 \n",
    "#비교 : (i-1) vs (i)비교하니\n",
    "#맨 앞까지 비교하려면 i = 1    (0위치 vs 1 위치)\n",
    "arr = [9, 5, 1, 4, 3]\n",
    "for step in range(1, len(arr)):\n",
    "    for i in range(step, 0 ,-1):  #앞으로 전진\n",
    "        if arr[i-1] > arr[i]:\n",
    "            arr[i], arr[i-1] = arr[i-1], arr[i]\n",
    "print(arr)\n",
    "      "
   ]
  },
  {
   "cell_type": "code",
   "execution_count": 125,
   "id": "523c8724",
   "metadata": {},
   "outputs": [
    {
     "name": "stdout",
     "output_type": "stream",
     "text": [
      "[-2, 45, 0, 11, -9]\n"
     ]
    }
   ],
   "source": [
    "##버블 정렬\n",
    "arr = [-2, 45, 0 , 11, -9]\n",
    "print(arr)"
   ]
  },
  {
   "cell_type": "code",
   "execution_count": 126,
   "id": "4effc2b7",
   "metadata": {},
   "outputs": [
    {
     "name": "stdout",
     "output_type": "stream",
     "text": [
      "[-9, -2, 0, 11, 45]\n"
     ]
    }
   ],
   "source": [
    "#원소의 개수만큼 돌리자\n",
    "for step in range(len(arr)):\n",
    "    #2개씩 언제까지 돌릴꺼냐? 맨끝보다 -1까지\n",
    "    for i in range(0, len(arr)-1-step):\n",
    "        if arr[i] > arr[i+1]: #앞이 더 크면\n",
    "            arr[i], arr[i+1] = arr[i+1], arr[i]\n",
    "print(arr)\n"
   ]
  },
  {
   "cell_type": "markdown",
   "id": "8bc14541",
   "metadata": {},
   "source": [
    "#정렬 실제 문제"
   ]
  },
  {
   "cell_type": "code",
   "execution_count": 133,
   "id": "57da3854",
   "metadata": {},
   "outputs": [
    {
     "name": "stdout",
     "output_type": "stream",
     "text": [
      "몇 명의 학생의 이름과 성적, 공란2\n",
      "1번째 학생 이름 성적,공란홍길동 95\n",
      "2번째 학생 이름 성적,공란이순신 78\n"
     ]
    },
    {
     "data": {
      "text/plain": [
       "[('홍길동', 95), ('이순신', 78)]"
      ]
     },
     "execution_count": 133,
     "metadata": {},
     "output_type": "execute_result"
    }
   ],
   "source": [
    "#성적 순 이름 출력 문제\n",
    "#일단 기본 아이디어는 : [ (이름,성적), (이름,성적)...]\n",
    "#--> 입력을 이런식으로 처리하면 , 했던 sort/ key/ lambda\n",
    "\n",
    "#입력받은 학생 수 \n",
    "n = int(input(\"몇 명의 학생의 이름과 성적, 공란\"))\n",
    "#(학생들의 이름, 성적) 묶어서 1개의 값으로 수집하겠음\n",
    "data = []\n",
    "for i in range(n):\n",
    "    input_data = input(\"{0}번째 학생 이름 성적,공란\".format(i+1)).split()\n",
    "    data.append( (input_data[0], int(input_data[1]))  )\n",
    "data"
   ]
  },
  {
   "cell_type": "code",
   "execution_count": 136,
   "id": "a3aaa9db",
   "metadata": {},
   "outputs": [
    {
     "name": "stdout",
     "output_type": "stream",
     "text": [
      "이순신 홍길동 이순신 홍길동 "
     ]
    }
   ],
   "source": [
    "#내가 원하는 대로 정렬 : key, lambda\n",
    "data.sort(key = lambda x : x [1])\n",
    "data\n",
    "\n",
    "#정렬된 결과 출력\n",
    "for std in data:\n",
    "    print(std[0], end=\" \")\n",
    "    \n",
    "#다른 방식\n",
    "for name, zumsu in data:\n",
    "    print(name, end=\" \")"
   ]
  },
  {
   "cell_type": "code",
   "execution_count": 135,
   "id": "7e5f2c9c",
   "metadata": {},
   "outputs": [
    {
     "name": "stdout",
     "output_type": "stream",
     "text": [
      "1등 : 이순신\n",
      "2등 : 홍길동\n"
     ]
    }
   ],
   "source": [
    "#출력을 등수와 이름을 출력\n",
    "for idx, std in enumerate(data):\n",
    "    print(str(idx+1) + \"등 : \" + std[0])"
   ]
  }
 ],
 "metadata": {
  "kernelspec": {
   "display_name": "Python 3 (ipykernel)",
   "language": "python",
   "name": "python3"
  },
  "language_info": {
   "codemirror_mode": {
    "name": "ipython",
    "version": 3
   },
   "file_extension": ".py",
   "mimetype": "text/x-python",
   "name": "python",
   "nbconvert_exporter": "python",
   "pygments_lexer": "ipython3",
   "version": "3.9.7"
  }
 },
 "nbformat": 4,
 "nbformat_minor": 5
}
