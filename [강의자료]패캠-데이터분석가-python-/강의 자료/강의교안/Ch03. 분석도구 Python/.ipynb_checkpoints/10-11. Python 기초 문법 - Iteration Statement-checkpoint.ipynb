{
 "cells": [
  {
   "cell_type": "markdown",
   "metadata": {},
   "source": [
    "## Control Statement : Iteration Statement(While, For)"
   ]
  },
  {
   "cell_type": "markdown",
   "metadata": {},
   "source": [
    "## 3.2 Iterative Statement (반복문)"
   ]
  },
  {
   "cell_type": "markdown",
   "metadata": {},
   "source": [
    "- 프로그램에서 가장 중요한 반복이다.\n",
    "> 반복이 왜 중요할까?? ---> 컴퓨터가 제일 잘하는 것은 노가다!! --> 컴퓨터는 단순 작업의 반복에 최적화된 기계.\n",
    "\n",
    "- 프로그램의 기본적인 역할인 노가다를 담당한다. 비슷한 작업을 반복한다.\n",
    "> 어떤 작업을 반복하게 할 것인가? --> 주어진 일을 반복 가능한 형태로 바꿔주어야 한다.\n",
    "\n",
    "- 파이썬에서는 while, for 2가지의 statement를 제공한다."
   ]
  },
  {
   "cell_type": "markdown",
   "metadata": {},
   "source": [
    "### 3.2.1 While statement"
   ]
  },
  {
   "cell_type": "markdown",
   "metadata": {},
   "source": [
    "- while문은 **조건을 만족할 때 까지 반복**한다.\n",
    "\n",
    "\n",
    "- while (조건):\n",
    "       <statement1>\n",
    "       <statement2>\n",
    "       <statement3>\n",
    "           \n",
    "- 조건이 만족하는 동안(while) statement1, 2, 3을 반복한다."
   ]
  },
  {
   "cell_type": "markdown",
   "metadata": {},
   "source": [
    "#### 구구단을 통해 연습해봅시다!"
   ]
  },
  {
   "cell_type": "code",
   "execution_count": 1,
   "metadata": {},
   "outputs": [
    {
     "name": "stdout",
     "output_type": "stream",
     "text": [
      "2 x 1 = 2\n",
      "2 x 2 = 4\n",
      "2 x 3 = 6\n",
      "2 x 4 = 8\n",
      "2 x 5 = 10\n",
      "2 x 6 = 12\n",
      "2 x 7 = 14\n",
      "2 x 8 = 16\n",
      "2 x 9 = 18\n"
     ]
    }
   ],
   "source": [
    "# 2단을 while문으로 구현해봅시다.\n",
    "number = 1\n",
    "while number < 10:\n",
    "    print(\"2 x %d = %d\" % (number, 2*number)) #number가 1부터 9까지 반복\n",
    "    number = number + 1 # number += 1\n"
   ]
  },
  {
   "cell_type": "markdown",
   "metadata": {},
   "source": [
    "#### 실제 자판기 기계는 돈을 한번 넣고 종료되지 않는다. 자판기 기계(프로그램)이 종료되는 경우는 커피가 다 떨어졌을 때이다.\n",
    "\n",
    "> Q. 커피가 다 질때까지 자판기 프로그램을 반복하면서 실행한 뒤, 돈을 입력받아서 커피를 주는 프로그램을 작성해보자."
   ]
  },
  {
   "cell_type": "code",
   "execution_count": 2,
   "metadata": {},
   "outputs": [
    {
     "name": "stdout",
     "output_type": "stream",
     "text": [
      "금액을 입력해주세요 : 500\n",
      "coffee\n",
      "200원을 돌려줍니다.\n",
      "금액을 입력해주세요 : 455\n",
      "coffee\n",
      "155원을 돌려줍니다.\n",
      "금액을 입력해주세요 : 20\n",
      "20원을 돌려줍니다.\n",
      "금액을 입력해주세요 : 800\n",
      "coffee\n",
      "500원을 돌려줍니다.\n",
      "금액을 입력해주세요 : 655\n",
      "coffee\n",
      "355원을 돌려줍니다.\n",
      "금액을 입력해주세요 : 566\n",
      "coffee\n",
      "266원을 돌려줍니다.\n",
      "커피가 모두 소진되었으니, 관리자에게 문의해주세요.\n"
     ]
    }
   ],
   "source": [
    "# 자판기의 커피 수량\n",
    "coffee = 5\n",
    "\n",
    "# 커피가 남아있는 동안 작동!\n",
    "while coffee > 0:\n",
    "\n",
    "    # 실제로는 자판기를 통해서 넣은 금액.\n",
    "    money = int(input(\"금액을 입력해주세요 : \"))\n",
    "    \n",
    "    if money == 300:\n",
    "        # 실제로 이 파트는 자판기에서 커피를 뽑는 명령으로 대체된다.\n",
    "        prinf(\"coffee\")\n",
    "        # 이제 커피를 하나씩 줄인다.\n",
    "        coffee -= 1\n",
    "\n",
    "    elif money < 300:\n",
    "        # 실제로 이 파트는 돈을 반환한다.\n",
    "        print(\"%d원을 돌려줍니다.\" % money)\n",
    "        \n",
    "     \n",
    "    else: # or elif money > 300:\n",
    "        # 커피를 뽑아주고\n",
    "        print(\"coffee\")\n",
    "       # 이제 커피를 하나씩 줄인다.\n",
    "        coffee -= 1\n",
    "        # 거스름돈을 돌려준다.\n",
    "        print(\"%d원을 돌려줍니다.\" % (money-300))\n",
    "        # 거스름돈을 돌려준다.\n",
    "        \n",
    "    # 커피가 다 떨어진 경우 알려야한다.\n",
    "print(\"커피가 모두 소진되었으니, 관리자에게 문의해주세요.\")"
   ]
  },
  {
   "cell_type": "markdown",
   "metadata": {},
   "source": [
    "### 3.2.2 for statement"
   ]
  },
  {
   "cell_type": "markdown",
   "metadata": {},
   "source": [
    "- while문은 조건이 만족하는 동안 반복을 수행했지만, for문은 지정 횟수동안 반복을 수행한다.\n",
    "> 여기서 지정된 횟수라는 것은 반복 대상의 크기가 된다.\n",
    "\n",
    "\n",
    "- 보통 iteratable object(반복 가능한 객체)를 대상으로 수행되며, 연속형 데이터 타입 변수들이 여기에 해당된다.\n",
    "> List, Tuple, string, ...\n",
    "\n",
    "\n",
    "- for 변수 in 리스트(튜플, 문자열, iterator):\n",
    "      <statement1>\n",
    "      <statement2>\n",
    "      <statement3>\n",
    "          \n",
    "- 리스트(나 반복가능한 변수들)의 모든 원소를 (자동으로 끝까지) 반복한다."
   ]
  },
  {
   "cell_type": "code",
   "execution_count": 3,
   "metadata": {},
   "outputs": [
    {
     "name": "stdout",
     "output_type": "stream",
     "text": [
      "1\n",
      "2\n",
      "3\n"
     ]
    }
   ],
   "source": [
    "# 원소가 1, 2, 3인 리스트의 원소를 하나하나 출력하는 반복문을 만든다.\n",
    "L = [1, 2, 3]\n",
    "for i in L:\n",
    "    print(i)"
   ]
  },
  {
   "cell_type": "markdown",
   "metadata": {},
   "source": [
    "#### 6개의 커피 음료가 담긴 리스트가 있다. 카페에 있는 모든 음료를 출력해보자!"
   ]
  },
  {
   "cell_type": "code",
   "execution_count": 7,
   "metadata": {},
   "outputs": [
    {
     "name": "stdout",
     "output_type": "stream",
     "text": [
      "아메리카노\n",
      "카페라떼\n",
      "카페모카\n",
      "바닐라라떼\n",
      "핸드드립\n",
      "콜드브루\n"
     ]
    }
   ],
   "source": [
    "coffees = ['아메리카노', '카페라떼', '카페모카', '바닐라라떼', '핸드드립', '콜드브루']\n",
    "for coffee in coffees:\n",
    "    print(coffee)"
   ]
  },
  {
   "cell_type": "markdown",
   "metadata": {},
   "source": [
    "#### for문의 단짝 range() 함수"
   ]
  },
  {
   "cell_type": "markdown",
   "metadata": {},
   "source": [
    "- for문은 특정 횟수동안 반복을 하기 때문에, 횟수를 자동으로 만들어주는 기능이 있으면 좋다.\n",
    "\n",
    "- 파이썬에서 기본적으로 제공하는 range 함수는 특정 숫자 범위내의 값들을 자동으로 생성해주는 함수이다.\n",
    "\n",
    "\n",
    "e.g. range(1, 5)는 1, 2, 3, 4를 차례대로 생성해준다. (5는 범위에서 제외된다. 즉, 마지막 숫자는 제외된다. 1 <= x < 5)"
   ]
  },
  {
   "cell_type": "code",
   "execution_count": 8,
   "metadata": {},
   "outputs": [
    {
     "name": "stdout",
     "output_type": "stream",
     "text": [
      "1\n",
      "2\n",
      "3\n",
      "4\n"
     ]
    }
   ],
   "source": [
    "# range 함수를 이용해 1부터 4까지 출력하는 프로그램을 작성해보자. for문을 이용해서!\n",
    "for i in range(1,5):\n",
    "    print(i)"
   ]
  },
  {
   "cell_type": "markdown",
   "metadata": {},
   "source": [
    "#### 6개의 커피 음료와 음료의 가격이 담긴 리스트가 있다. 가지고 있는 돈이 5,000원일 때 먹을 수 있는 모든 음료를 찾아보자!"
   ]
  },
  {
   "cell_type": "code",
   "execution_count": 11,
   "metadata": {},
   "outputs": [
    {
     "name": "stdout",
     "output_type": "stream",
     "text": [
      "아메리카노\n",
      "카페라떼\n",
      "카페모카\n",
      "콜드브루\n"
     ]
    }
   ],
   "source": [
    "coffees = ['아메리카노', '카페라떼', '카페모카', '바닐라라떼', '핸드드립', '콜드브루']\n",
    "prices = [4100, 4600, 4600, 5100, 6000, 5000]\n",
    "\n",
    "for i in range(len(coffees)):\n",
    "    if prices[i] <= 5000:\n",
    "        print(coffees[i])\n",
    "    \n"
   ]
  },
  {
   "cell_type": "markdown",
   "metadata": {},
   "source": [
    "#### RE : 6개의 커피 음료와 음료의 가격이 담긴 리스트가 있다. 오늘은 할인 행사를 하여 모든 음료가 500원 할인 되었다!\n",
    "\n",
    "#### 가지고 있는 돈이 5,000원일 때 먹을 수 있는 모든 음료를 찾아보자!"
   ]
  },
  {
   "cell_type": "code",
   "execution_count": 14,
   "metadata": {},
   "outputs": [
    {
     "name": "stdout",
     "output_type": "stream",
     "text": [
      "아메리카노\n",
      "카페라떼\n",
      "카페모카\n",
      "바닐라라떼\n",
      "콜드브루\n"
     ]
    }
   ],
   "source": [
    "coffees = ['아메리카노', '카페라떼', '카페모카', '바닐라라떼', '핸드드립', '콜드브루']\n",
    "prices = [4100, 4600, 4600, 5100, 6000, 5000]\n",
    "\n",
    "#방법 1)\n",
    "for i in range(len(coffees)):\n",
    "    if prices[i] <= 5500:\n",
    "        print(coffees[i])\n",
    "        \n",
    "#방법 2)\n",
    "for i in range(len(coffees)):\n",
    "    if prices[i]- 500 <= 5000:\n",
    "        print(coffees[i])\n",
    "    \n",
    "#방법 3)\n",
    "print(prices)\n",
    "for i in range(len(prices)):\n",
    "     prices[i] = prices[i] - 500\n",
    "print(prices)\n",
    "for i in range(len(prices)):\n",
    "     if prices[i] <= 5000:\n",
    "            print(coffees[i])"
   ]
  },
  {
   "cell_type": "markdown",
   "metadata": {},
   "source": [
    "#### 반복문을 제어하는 break, continue"
   ]
  },
  {
   "cell_type": "markdown",
   "metadata": {},
   "source": [
    "- 만약 반복문을 수행하다가 더 이상 반복이 필요없는 경우에는 어떻게 해야할까?\n",
    "\n",
    "> **break statement**\n",
    "\n",
    "- 만약 반복문을 수행하다가 특정 조건에만 건너뛰고 싶은 경우에는 어떻게 해야할까?\n",
    "\n",
    "> **continue statement**"
   ]
  },
  {
   "cell_type": "markdown",
   "metadata": {},
   "source": [
    "#### RE : 실제 자판기 기계는 돈을 한번 넣고 종료되지 않는다. 자판기 기계(프로그램)이 종료되는 경우는 커피가 다 떨어졌을 때이다.\n",
    "\n",
    "> Q. 커피가 다 떨어질 때 까지 자판기 프로그램을 반복하면서 실행한 뒤, 돈을 입력받아서 커피를 주는 프로그램을 작성해보자."
   ]
  },
  {
   "cell_type": "code",
   "execution_count": 15,
   "metadata": {},
   "outputs": [
    {
     "name": "stdout",
     "output_type": "stream",
     "text": [
      "금액을 입력하세요.500\n",
      "Coffee\n",
      "200원을 반환합니다.\n",
      "금액을 입력하세요.500\n",
      "Coffee\n",
      "200원을 반환합니다.\n",
      "금액을 입력하세요.500\n",
      "Coffee\n",
      "200원을 반환합니다.\n",
      "금액을 입력하세요.500\n",
      "Coffee\n",
      "200원을 반환합니다.\n",
      "금액을 입력하세요.500\n",
      "Coffee\n",
      "200원을 반환합니다.\n",
      "커피가 모두 소진되었으니, 관리자에게 문의해주세요.\n"
     ]
    }
   ],
   "source": [
    "# 자판기의 커피 수량\n",
    "coffee = 5\n",
    "\n",
    "# 일단 작동! infinite loop 무한 루프\n",
    "while True:\n",
    "\n",
    "    # 실제로는 자판기를 통해서 넣은 금액.\n",
    "    money = int(input(\"금액을 입력하세요.\"))\n",
    "    if money == -1:\n",
    "        print(\"운행을 종료합니다.\")\n",
    "        break\n",
    "\n",
    "    \n",
    "    if money == 300:\n",
    "        # 실제로 이 파트는 자판기에서 커피를 뽑는 명령으로 대체된다.\n",
    "        print(\"Coffee\")\n",
    "        # 이제 커피를 하나씩 줄인다.\n",
    "        coffee = coffee - 1\n",
    "\n",
    "    elif money < 300:\n",
    "        # 실제로 이 파트는 돈을 반환한다.\n",
    "        print(\"%d원을 반환합니다.\" % money)\n",
    "     \n",
    "    else: # or elif money > 300:\n",
    "        print(\"Coffee\")\n",
    "        # 커피를 뽑아주고\n",
    "        coffee = coffee - 1\n",
    "        # 이제 커피를 하나씩 줄인다.\n",
    "        print(\"%d원을 반환합니다.\" % (money-300))\n",
    "        # 거스름돈을 돌려준다.\n",
    "        \n",
    "        \n",
    "    # 커피가 다 떨어진 경우 알려야한다.\n",
    "    if coffee == 0:\n",
    "        print(\"커피가 모두 소진되었으니, 관리자에게 문의해주세요.\")\n",
    "        break"
   ]
  },
  {
   "cell_type": "markdown",
   "metadata": {},
   "source": [
    "#### RE : 실제 자판기 기계는 돈을 한번 넣고 종료되지 않는다. 자판기 기계(프로그램)이 종료되는 경우는 커피가 다 떨어졌을 때이다.\n",
    "\n",
    "> Q. 커피가 다 떨어질 때 까지 자판기 프로그램을 반복하면서 실행한 뒤, 돈을 입력받아서 커피를 주는 프로그램을 작성해보자.\n",
    "\n",
    "> 이번에는 돈이 모자랄 때는, 추가로 돈을 입력받아 300원을 넘는 경우에 커피를 뽑아주는 프로그램을 작성해보자."
   ]
  },
  {
   "cell_type": "code",
   "execution_count": 17,
   "metadata": {},
   "outputs": [
    {
     "name": "stdout",
     "output_type": "stream",
     "text": [
      "금액을 입력해주세요 : 300\n"
     ]
    },
    {
     "ename": "NameError",
     "evalue": "name 'extra_money' is not defined",
     "output_type": "error",
     "traceback": [
      "\u001b[1;31m---------------------------------------------------------------------------\u001b[0m",
      "\u001b[1;31mNameError\u001b[0m                                 Traceback (most recent call last)",
      "\u001b[1;32m~\\AppData\\Local\\Temp/ipykernel_94932/1345425839.py\u001b[0m in \u001b[0;36m<module>\u001b[1;34m\u001b[0m\n\u001b[0;32m     10\u001b[0m     \u001b[0mmoney\u001b[0m \u001b[1;33m=\u001b[0m \u001b[0mint\u001b[0m\u001b[1;33m(\u001b[0m\u001b[0minput\u001b[0m\u001b[1;33m(\u001b[0m\u001b[1;34m\"금액을 입력해주세요 : \"\u001b[0m\u001b[1;33m)\u001b[0m\u001b[1;33m)\u001b[0m\u001b[1;33m\u001b[0m\u001b[1;33m\u001b[0m\u001b[0m\n\u001b[0;32m     11\u001b[0m     \u001b[1;31m# 매번 저장된 돈과 들어온 돈을 합산하여 생각합니다.\u001b[0m\u001b[1;33m\u001b[0m\u001b[1;33m\u001b[0m\u001b[0m\n\u001b[1;32m---> 12\u001b[1;33m     \u001b[0mmoney\u001b[0m \u001b[1;33m=\u001b[0m \u001b[0mmoney\u001b[0m \u001b[1;33m+\u001b[0m \u001b[0mextra_money\u001b[0m\u001b[1;33m\u001b[0m\u001b[1;33m\u001b[0m\u001b[0m\n\u001b[0m\u001b[0;32m     13\u001b[0m \u001b[1;33m\u001b[0m\u001b[0m\n\u001b[0;32m     14\u001b[0m \u001b[1;33m\u001b[0m\u001b[0m\n",
      "\u001b[1;31mNameError\u001b[0m: name 'extra_money' is not defined"
     ]
    }
   ],
   "source": [
    "# 자판기의 커피 수량\n",
    "coffee = 5\n",
    "# 거스름돈 보관\n",
    "\n",
    "\n",
    "# 일단 작동!\n",
    "while coffee > 0:\n",
    "\n",
    "    # 실제로는 자판기를 통해서 넣은 금액.\n",
    "    money = int(input(\"금액을 입력해주세요 : \"))\n",
    "    # 매번 저장된 돈과 들어온 돈을 합산하여 생각합니다.\n",
    "    money = money + extra_money\n",
    "\n",
    "    \n",
    "    if money == 300:\n",
    "        # 실제로 이 파트는 자판기에서 커피를 뽑는 명령으로 대체된다.\n",
    "        print(\"Coffee\")\n",
    "        # 이제 커피를 하나씩 줄인다.\n",
    "        coffee = coffee - 1\n",
    "\n",
    "    elif money < 300:\n",
    "        # 돈을 더 받자.\n",
    "        print(\"돈이 모자랍니다. 추가로 금액을 입력해주세요.\")\n",
    "        extra_money = money\n",
    "        continue \n",
    "        \n",
    "    else: # or elif money > 300:\n",
    "        print(\"Coffee\")\n",
    "        # 커피를 뽑아주고\n",
    "        coffee = coffee - 1\n",
    "        # 이제 커피를 하나씩 줄인다.\n",
    "        print(\"%d원을 반환합니다.\" % (money-300))\n",
    "        # 거스름돈을 돌려준다.\n",
    "\n",
    "    # 정산\n",
    "    extra_monet = 0\n",
    "        \n",
    "    # 커피가 다 떨어진 경우 알려야한다.\n",
    "print(\"커피가 모두 소진되었으니, 관리자에게 문의해주세요.\")"
   ]
  },
  {
   "cell_type": "markdown",
   "metadata": {},
   "source": [
    "#### 전설의 구구단 구현. nested loop를 연습해보자!"
   ]
  },
  {
   "cell_type": "code",
   "execution_count": 18,
   "metadata": {},
   "outputs": [
    {
     "name": "stdout",
     "output_type": "stream",
     "text": [
      "2 x 1 = 2\n",
      "2 x 2 = 4\n",
      "2 x 3 = 6\n",
      "2 x 4 = 8\n",
      "2 x 5 = 10\n",
      "2 x 6 = 12\n",
      "2 x 7 = 14\n",
      "2 x 8 = 16\n",
      "2 x 9 = 18\n"
     ]
    }
   ],
   "source": [
    "# nested loop를 이용하여 구구단을 구현합시다. \n",
    "for i in range(1,10):\n",
    "    print(\"2 x %d = %d\" %(i, 2*i))"
   ]
  },
  {
   "cell_type": "code",
   "execution_count": 19,
   "metadata": {},
   "outputs": [
    {
     "name": "stdout",
     "output_type": "stream",
     "text": [
      "----------\n",
      "2 x 1 = 2\n",
      "2 x 2 = 4\n",
      "2 x 3 = 6\n",
      "2 x 4 = 8\n",
      "2 x 5 = 10\n",
      "2 x 6 = 12\n",
      "2 x 7 = 14\n",
      "2 x 8 = 16\n",
      "2 x 9 = 18\n",
      "----------\n",
      "3 x 1 = 2\n",
      "3 x 2 = 4\n",
      "3 x 3 = 6\n",
      "3 x 4 = 8\n",
      "3 x 5 = 10\n",
      "3 x 6 = 12\n",
      "3 x 7 = 14\n",
      "3 x 8 = 16\n",
      "3 x 9 = 18\n",
      "----------\n",
      "4 x 1 = 2\n",
      "4 x 2 = 4\n",
      "4 x 3 = 6\n",
      "4 x 4 = 8\n",
      "4 x 5 = 10\n",
      "4 x 6 = 12\n",
      "4 x 7 = 14\n",
      "4 x 8 = 16\n",
      "4 x 9 = 18\n",
      "----------\n",
      "5 x 1 = 2\n",
      "5 x 2 = 4\n",
      "5 x 3 = 6\n",
      "5 x 4 = 8\n",
      "5 x 5 = 10\n",
      "5 x 6 = 12\n",
      "5 x 7 = 14\n",
      "5 x 8 = 16\n",
      "5 x 9 = 18\n",
      "----------\n",
      "6 x 1 = 2\n",
      "6 x 2 = 4\n",
      "6 x 3 = 6\n",
      "6 x 4 = 8\n",
      "6 x 5 = 10\n",
      "6 x 6 = 12\n",
      "6 x 7 = 14\n",
      "6 x 8 = 16\n",
      "6 x 9 = 18\n",
      "----------\n",
      "7 x 1 = 2\n",
      "7 x 2 = 4\n",
      "7 x 3 = 6\n",
      "7 x 4 = 8\n",
      "7 x 5 = 10\n",
      "7 x 6 = 12\n",
      "7 x 7 = 14\n",
      "7 x 8 = 16\n",
      "7 x 9 = 18\n",
      "----------\n",
      "8 x 1 = 2\n",
      "8 x 2 = 4\n",
      "8 x 3 = 6\n",
      "8 x 4 = 8\n",
      "8 x 5 = 10\n",
      "8 x 6 = 12\n",
      "8 x 7 = 14\n",
      "8 x 8 = 16\n",
      "8 x 9 = 18\n",
      "----------\n",
      "9 x 1 = 2\n",
      "9 x 2 = 4\n",
      "9 x 3 = 6\n",
      "9 x 4 = 8\n",
      "9 x 5 = 10\n",
      "9 x 6 = 12\n",
      "9 x 7 = 14\n",
      "9 x 8 = 16\n",
      "9 x 9 = 18\n"
     ]
    }
   ],
   "source": [
    "for dan in range(2, 10):\n",
    "    print(\"-\" * 10)\n",
    "    for i in range(1,10):\n",
    "        print(\"%d x %d = %d\" %(dan,i, 2*i))"
   ]
  }
 ],
 "metadata": {
  "kernelspec": {
   "display_name": "Python 3 (ipykernel)",
   "language": "python",
   "name": "python3"
  },
  "language_info": {
   "codemirror_mode": {
    "name": "ipython",
    "version": 3
   },
   "file_extension": ".py",
   "mimetype": "text/x-python",
   "name": "python",
   "nbconvert_exporter": "python",
   "pygments_lexer": "ipython3",
   "version": "3.9.7"
  }
 },
 "nbformat": 4,
 "nbformat_minor": 2
}
