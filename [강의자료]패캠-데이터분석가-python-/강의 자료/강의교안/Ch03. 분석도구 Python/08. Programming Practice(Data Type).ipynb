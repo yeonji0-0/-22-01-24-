{
 "cells": [
  {
   "cell_type": "markdown",
   "metadata": {
    "id": "40TSenF98KYO"
   },
   "source": [
    "## 문제 1.  학점계산기\n",
    "\n",
    "- 영희는 1학기 중간고사의 학점을 알고 싶다.\n",
    "- 영희가 중간고사 때 수강한 과목과 학점은 다음과 같다.\n",
    "\n",
    "| 글쓰기(3) | 미적분학I(3) | 영문법특강(2) | 컴퓨팅사고력(3) |\n",
    "| --- | --- | --- | --- |\n",
    "| A | C | B+ | A+ |\n",
    "\n",
    "- 과목이름 옆 괄호에 있는 숫자는 학점 수이고, 4.5만점 기준으로 성적이 계산된다.\n",
    "> e.g. <b>A+ : 4.5,   A : 4.0,   B+ : 3.5,   B : 3.0,   C+ : 2.5,   C : 2.0,   F : 0</b>\n",
    "\n",
    "- 계산 공식은 다음과 같다.\n",
    "> (3 x A + 3 x C + 2 x B+ + 3 x A+) / (3+3+2+3) = (3 x 4.5 + 3 x 2.0 + 2 x 3.5 + 3 x 4.0) / 11"
   ]
  },
  {
   "cell_type": "code",
   "execution_count": 5,
   "metadata": {
    "colab": {
     "base_uri": "https://localhost:8080/"
    },
    "executionInfo": {
     "elapsed": 982,
     "status": "ok",
     "timestamp": 1611193473413,
     "user": {
      "displayName": "김용담",
      "photoUrl": "https://lh3.googleusercontent.com/a-/AOh14GhcMg-SIyaynrayukkEBNN1b6rWweb-FXMnH7MT_xI=s64",
      "userId": "17630601608777393913"
     },
     "user_tz": -540
    },
    "id": "bOVhYEIF8KYQ",
    "outputId": "6f0ca1eb-4077-4277-b354-da67506a1ff4"
   },
   "outputs": [
    {
     "ename": "SyntaxError",
     "evalue": "invalid syntax (Temp/ipykernel_87844/2796488328.py, line 2)",
     "output_type": "error",
     "traceback": [
      "\u001b[1;36m  File \u001b[1;32m\"C:\\Users\\MEDICI\\AppData\\Local\\Temp/ipykernel_87844/2796488328.py\"\u001b[1;36m, line \u001b[1;32m2\u001b[0m\n\u001b[1;33m    a = (3 x 4.0 + 3 x 2.0 + 2 x 3.5 + 3 x 4.5) / (3+3+2+3)\u001b[0m\n\u001b[1;37m           ^\u001b[0m\n\u001b[1;31mSyntaxError\u001b[0m\u001b[1;31m:\u001b[0m invalid syntax\n"
     ]
    }
   ],
   "source": [
    "# 문제1의 코드를 작성하세요.\n",
    "a = (3 x 4.0 + 3 x 2.0 + 2 x 3.5 + 3 x 4.5) / (3+3+2+3) \n",
    "a"
   ]
  },
  {
   "cell_type": "markdown",
   "metadata": {
    "id": "igzFvEnV8KYQ"
   },
   "source": [
    "## 문제2. 십의 자리 구하기\n",
    "\n",
    "* 숫자 하나를 입력받는다. (단, 입력하는 숫자는 무조건 두 자리 이상의 자연수)\n",
    "* 입력 받은 숫자의 십의 자리 숫자를 출력한다."
   ]
  },
  {
   "cell_type": "code",
   "execution_count": 14,
   "metadata": {
    "colab": {
     "base_uri": "https://localhost:8080/"
    },
    "executionInfo": {
     "elapsed": 7184,
     "status": "ok",
     "timestamp": 1611194015909,
     "user": {
      "displayName": "김용담",
      "photoUrl": "https://lh3.googleusercontent.com/a-/AOh14GhcMg-SIyaynrayukkEBNN1b6rWweb-FXMnH7MT_xI=s64",
      "userId": "17630601608777393913"
     },
     "user_tz": -540
    },
    "id": "D8OeniNo8KYQ",
    "outputId": "efb570e1-0c36-4322-a693-14ff91538a5c"
   },
   "outputs": [
    {
     "name": "stdout",
     "output_type": "stream",
     "text": [
      "두 자리 이상의 자연수를 입력하세요5\n",
      "다시 입력해주세요\n"
     ]
    }
   ],
   "source": [
    "# 문제2의 코드를 작성하세요.\n",
    "a = input(\"두 자리 이상의 자연수를 입력하세요\")\n",
    "if int(a) < 10:\n",
    "    print(\"다시 입력해주세요\")\n",
    "else:\n",
    "    print(a[0])"
   ]
  },
  {
   "cell_type": "code",
   "execution_count": 15,
   "metadata": {},
   "outputs": [
    {
     "name": "stdout",
     "output_type": "stream",
     "text": [
      "숫자를 입력해주세요 :156498651\n"
     ]
    },
    {
     "data": {
      "text/plain": [
       "5"
      ]
     },
     "execution_count": 15,
     "metadata": {},
     "output_type": "execute_result"
    }
   ],
   "source": [
    "number = int(input(\"숫자를 입력해주세요 :\"))\n",
    "number % 100 // 10"
   ]
  },
  {
   "cell_type": "markdown",
   "metadata": {
    "id": "KvdFleK39uQt"
   },
   "source": [
    "## 문제3. 학습 결과 출력하기\n",
    "- 머신러닝에서는 모델이 학습을 하게 되면, 학습에 주어진 인자들을 가지고 어떤 결과가 나왔는지 출력을 하게 됩니다.\n",
    "\n",
    "- 주어진 인자를 해당 하는 자리에 위치하는 출력문을 작성해보세요.\n",
    "(각 용어의 의미는 현재 중요하지 않습니다.)\n",
    "\n",
    "\n",
    "- 다음은 출력문의 예시입니다.\n",
    "\n",
    "\n",
    "\"ResNet44 모델로 10 epoch를 돌려 학습시킨 결과는 학습 정확도 : 0.85, 검증 정확도 : 0.83, 테스트 정확도 : 0.76으로 나왔습니다\"\n",
    "\n",
    "\"U-Net 모델로 10000 epoch를 돌려 학습시킨 결과는 학습 정확도 0.87, 검증 정확도 : 0.5, 테스트 정확도 : 0.43으로 나왔습니다.\"\n"
   ]
  },
  {
   "cell_type": "code",
   "execution_count": 66,
   "metadata": {
    "colab": {
     "base_uri": "https://localhost:8080/"
    },
    "executionInfo": {
     "elapsed": 765,
     "status": "ok",
     "timestamp": 1611194877661,
     "user": {
      "displayName": "김용담",
      "photoUrl": "https://lh3.googleusercontent.com/a-/AOh14GhcMg-SIyaynrayukkEBNN1b6rWweb-FXMnH7MT_xI=s64",
      "userId": "17630601608777393913"
     },
     "user_tz": -540
    },
    "id": "Z1ilm1gW9tgA",
    "outputId": "afe79765-8543-40db-8102-797978deda6f"
   },
   "outputs": [
    {
     "ename": "NameError",
     "evalue": "name 'model' is not defined",
     "output_type": "error",
     "traceback": [
      "\u001b[1;31m---------------------------------------------------------------------------\u001b[0m",
      "\u001b[1;31mNameError\u001b[0m                                 Traceback (most recent call last)",
      "\u001b[1;32m~\\AppData\\Local\\Temp/ipykernel_87844/1198488559.py\u001b[0m in \u001b[0;36m<module>\u001b[1;34m\u001b[0m\n\u001b[0;32m      7\u001b[0m \u001b[1;31m# 가능하면 배웠던 3가지 케이스를 모두 사용해보세요;.\u001b[0m\u001b[1;33m\u001b[0m\u001b[1;33m\u001b[0m\u001b[0m\n\u001b[0;32m      8\u001b[0m \u001b[1;31m# case1 %\u001b[0m\u001b[1;33m\u001b[0m\u001b[1;33m\u001b[0m\u001b[0m\n\u001b[1;32m----> 9\u001b[1;33m \u001b[0mprint\u001b[0m\u001b[1;33m(\u001b[0m\u001b[0mmodel\u001b[0m\u001b[1;33m,\u001b[0m\u001b[1;34m\"모델로\"\u001b[0m\u001b[1;33m,\u001b[0m\u001b[0mepoch\u001b[0m\u001b[1;33m,\u001b[0m\u001b[1;34m\"epoch를 돌려 학습시킨 결과는 학습 정확도 :\"\u001b[0m\u001b[1;33m,\u001b[0m \u001b[0mtrain_accuracy\u001b[0m\u001b[1;33m,\u001b[0m\u001b[1;34m\"검증 정확도 :\"\u001b[0m\u001b[1;33m,\u001b[0m\u001b[0mval_accuracy\u001b[0m\u001b[1;33m,\u001b[0m \u001b[1;34m\"테스트 정확도 :\"\u001b[0m\u001b[1;33m,\u001b[0m \u001b[0mtest_accuracy\u001b[0m\u001b[1;33m,\u001b[0m \u001b[1;34m\"으로 나왔습니다\"\u001b[0m\u001b[1;33m)\u001b[0m\u001b[1;33m\u001b[0m\u001b[1;33m\u001b[0m\u001b[0m\n\u001b[0m\u001b[0;32m     10\u001b[0m \u001b[1;31m# case2\u001b[0m\u001b[1;33m\u001b[0m\u001b[1;33m\u001b[0m\u001b[0m\n\u001b[0;32m     11\u001b[0m \u001b[1;34m\"{ } 모델로 {} epoch를 돌려 학습시킨 결과는 학습 정확도 : { }, 검증 정확도 : { }, 테스트 정확도 : { }으로 나왔습니다\"\u001b[0m\u001b[1;33m.\u001b[0m \u001b[0mformat\u001b[0m\u001b[1;33m(\u001b[0m\u001b[0mmodel_name\u001b[0m\u001b[1;33m,\u001b[0m\u001b[0mepoch\u001b[0m\u001b[1;33m,\u001b[0m\u001b[0mtrain_accuracy\u001b[0m\u001b[1;33m,\u001b[0m\u001b[0mval_accuracy\u001b[0m\u001b[1;33m,\u001b[0m\u001b[0mtest_accuracy\u001b[0m\u001b[1;33m)\u001b[0m\u001b[1;33m\u001b[0m\u001b[1;33m\u001b[0m\u001b[0m\n",
      "\u001b[1;31mNameError\u001b[0m: name 'model' is not defined"
     ]
    }
   ],
   "source": [
    "# 다음 주어진 변수를 활용하여 문제3의 코드를 작성하세요.\n",
    "epoch = 10\n",
    "train_accuracy = 0.85; val_accuracy = 0.83; test_accuracy = 0.76\n",
    "model_name = \"ResNet44\"\n",
    "\n",
    "\n",
    "# 가능하면 배웠던 3가지 케이스를 모두 사용해보세요;.\n",
    "# case1 %\n",
    "print(model,\"모델로\",epoch,\"epoch를 돌려 학습시킨 결과는 학습 정확도 :\", train_accuracy,\"검증 정확도 :\",val_accuracy, \"테스트 정확도 :\", test_accuracy, \"으로 나왔습니다\")\n",
    "# case2\n",
    "\"{ } 모델로 {} epoch를 돌려 학습시킨 결과는 학습 정확도 : { }, 검증 정확도 : { }, 테스트 정확도 : { }으로 나왔습니다\". format(model_name,epoch,train_accuracy,val_accuracy,test_accuracy)\n",
    "# case3\n"
   ]
  },
  {
   "cell_type": "code",
   "execution_count": null,
   "metadata": {},
   "outputs": [],
   "source": []
  },
  {
   "cell_type": "markdown",
   "metadata": {
    "id": "vSXP8EAx8KYS"
   },
   "source": [
    "## 문제4. 주민등록번호 가리기\n",
    "\n",
    "* 주민등록번호가 하나 주어집니다.\n",
    "* 요즘은 보안이 생명입니다. 뒤에 6자리를 *로 만들어서 소중한 정보를 지키세요!"
   ]
  },
  {
   "cell_type": "code",
   "execution_count": 32,
   "metadata": {
    "colab": {
     "base_uri": "https://localhost:8080/",
     "height": 35
    },
    "executionInfo": {
     "elapsed": 573,
     "status": "ok",
     "timestamp": 1611196302148,
     "user": {
      "displayName": "김용담",
      "photoUrl": "https://lh3.googleusercontent.com/a-/AOh14GhcMg-SIyaynrayukkEBNN1b6rWweb-FXMnH7MT_xI=s64",
      "userId": "17630601608777393913"
     },
     "user_tz": -540
    },
    "id": "F8O811Df8KYS",
    "outputId": "5ea2026a-97b0-4b99-c6c3-5ad6205709c6"
   },
   "outputs": [
    {
     "ename": "SyntaxError",
     "evalue": "invalid syntax (Temp/ipykernel_87844/2994473738.py, line 7)",
     "output_type": "error",
     "traceback": [
      "\u001b[1;36m  File \u001b[1;32m\"C:\\Users\\MEDICI\\AppData\\Local\\Temp/ipykernel_87844/2994473738.py\"\u001b[1;36m, line \u001b[1;32m7\u001b[0m\n\u001b[1;33m    oldman_id[-6:-1] = *\u001b[0m\n\u001b[1;37m                         ^\u001b[0m\n\u001b[1;31mSyntaxError\u001b[0m\u001b[1;31m:\u001b[0m invalid syntax\n"
     ]
    }
   ],
   "source": [
    "# 문제4의 코드를 작성하세요. 밑의 4가지중 아무거나 사용하시면 됩니다.\n",
    "oldman_id = \"911210-1234567\"\n",
    "oldwoman_id = \"900101-2111111\"\n",
    "youngman_id = \"200112-3111111\"\n",
    "youngwoman_id = \"200112-4123987\"\n",
    "\n",
    "oldman_id[-6:-1] = * \n"
   ]
  },
  {
   "cell_type": "markdown",
   "metadata": {
    "id": "s9SaqFnX_Y_3"
   },
   "source": [
    "## 문제 5. 호텔 예약 관리하기\n",
    "\n",
    "- \"book\" 리스트에는 고객들이 예약한 방 번호가 순차적으로 기록됩니다.\n",
    "\n",
    "- 만약에 고객이 예약을 취소한 경우에 해당 방 번호는 리스트에서 제거됩니다.\n",
    "\n",
    "- 현재 예약된 방 번호는 [103, 205, 405] 입니다.\n",
    "\n",
    "- 어제 새롭게 예약된 방 번호가 107, 203, 304, 507 일 때의 예약 목록을 출력하는 코드를 작성해보세요.\n",
    "\n",
    "- 오늘 205호, 304호를 예약한 손님이 예약을 취소하였을 때의 예약 목록을 출력하는 코드를 작성해보세요."
   ]
  },
  {
   "cell_type": "code",
   "execution_count": 47,
   "metadata": {
    "colab": {
     "base_uri": "https://localhost:8080/"
    },
    "executionInfo": {
     "elapsed": 697,
     "status": "ok",
     "timestamp": 1611196708605,
     "user": {
      "displayName": "김용담",
      "photoUrl": "https://lh3.googleusercontent.com/a-/AOh14GhcMg-SIyaynrayukkEBNN1b6rWweb-FXMnH7MT_xI=s64",
      "userId": "17630601608777393913"
     },
     "user_tz": -540
    },
    "id": "zlLCHp2M_ZKg",
    "outputId": "36507f23-8da1-4675-e7c5-63e1f7557e8e"
   },
   "outputs": [
    {
     "name": "stdout",
     "output_type": "stream",
     "text": [
      "[107, 203, 304, 507]\n"
     ]
    }
   ],
   "source": [
    "book = [103, 205, 405]\n",
    "yes = [107, 203, 304, 507]\n",
    "# 어제 예약목록 출력\n",
    "print(yes)\n"
   ]
  },
  {
   "cell_type": "code",
   "execution_count": 57,
   "metadata": {},
   "outputs": [
    {
     "data": {
      "text/plain": [
       "[103, 405, 107, 203, 507, 107, 203, 304, 507]"
      ]
     },
     "execution_count": 57,
     "metadata": {},
     "output_type": "execute_result"
    }
   ],
   "source": [
    "# 오늘 예약목록 출력\n",
    "book.extend(yes)\n",
    "book"
   ]
  },
  {
   "cell_type": "code",
   "execution_count": 58,
   "metadata": {},
   "outputs": [
    {
     "ename": "ValueError",
     "evalue": "list.remove(x): x not in list",
     "output_type": "error",
     "traceback": [
      "\u001b[1;31m---------------------------------------------------------------------------\u001b[0m",
      "\u001b[1;31mValueError\u001b[0m                                Traceback (most recent call last)",
      "\u001b[1;32m~\\AppData\\Local\\Temp/ipykernel_87844/1470968659.py\u001b[0m in \u001b[0;36m<module>\u001b[1;34m\u001b[0m\n\u001b[1;32m----> 1\u001b[1;33m \u001b[0mbook\u001b[0m\u001b[1;33m.\u001b[0m\u001b[0mremove\u001b[0m\u001b[1;33m(\u001b[0m\u001b[1;36m205\u001b[0m\u001b[1;33m)\u001b[0m\u001b[1;33m\u001b[0m\u001b[1;33m\u001b[0m\u001b[0m\n\u001b[0m\u001b[0;32m      2\u001b[0m \u001b[0mbook\u001b[0m\u001b[1;33m\u001b[0m\u001b[1;33m\u001b[0m\u001b[0m\n",
      "\u001b[1;31mValueError\u001b[0m: list.remove(x): x not in list"
     ]
    }
   ],
   "source": [
    "book.remove(205)\n",
    "book"
   ]
  },
  {
   "cell_type": "code",
   "execution_count": 54,
   "metadata": {},
   "outputs": [
    {
     "data": {
      "text/plain": [
       "[103, 405, 107, 203, 507]"
      ]
     },
     "execution_count": 54,
     "metadata": {},
     "output_type": "execute_result"
    }
   ],
   "source": [
    "book.remove(304)\n",
    "book"
   ]
  },
  {
   "cell_type": "markdown",
   "metadata": {
    "id": "Bz-9vn3n8KYS"
   },
   "source": [
    "## 문제6. 키 순으로 줄세우기\n",
    "\n",
    "* 어떤 학급의 아이 5명의 키에 대한 정보가 주어집니다.\n",
    "* 이를 키가 작은 순서부터 큰 순서로 정렬하여 출력해주세요."
   ]
  },
  {
   "cell_type": "code",
   "execution_count": 64,
   "metadata": {
    "colab": {
     "base_uri": "https://localhost:8080/"
    },
    "executionInfo": {
     "elapsed": 694,
     "status": "ok",
     "timestamp": 1611197060724,
     "user": {
      "displayName": "김용담",
      "photoUrl": "https://lh3.googleusercontent.com/a-/AOh14GhcMg-SIyaynrayukkEBNN1b6rWweb-FXMnH7MT_xI=s64",
      "userId": "17630601608777393913"
     },
     "user_tz": -540
    },
    "id": "zXwpJz2G8KYT",
    "outputId": "6b57ffb4-cddc-4ca4-e350-07d4646b5521"
   },
   "outputs": [
    {
     "ename": "TypeError",
     "evalue": "'recerse' is an invalid keyword argument for sort()",
     "output_type": "error",
     "traceback": [
      "\u001b[1;31m---------------------------------------------------------------------------\u001b[0m",
      "\u001b[1;31mTypeError\u001b[0m                                 Traceback (most recent call last)",
      "\u001b[1;32m~\\AppData\\Local\\Temp/ipykernel_87844/3971350340.py\u001b[0m in \u001b[0;36m<module>\u001b[1;34m\u001b[0m\n\u001b[0;32m      1\u001b[0m \u001b[1;31m# 문제6의 코드를 작성하세요.\u001b[0m\u001b[1;33m\u001b[0m\u001b[1;33m\u001b[0m\u001b[0m\n\u001b[0;32m      2\u001b[0m \u001b[0mheights\u001b[0m \u001b[1;33m=\u001b[0m \u001b[1;33m[\u001b[0m\u001b[1;36m175.3\u001b[0m\u001b[1;33m,\u001b[0m \u001b[1;36m146\u001b[0m\u001b[1;33m,\u001b[0m \u001b[1;36m184\u001b[0m\u001b[1;33m,\u001b[0m \u001b[1;36m160\u001b[0m\u001b[1;33m,\u001b[0m \u001b[1;36m167\u001b[0m\u001b[1;33m]\u001b[0m\u001b[1;33m\u001b[0m\u001b[1;33m\u001b[0m\u001b[0m\n\u001b[1;32m----> 3\u001b[1;33m \u001b[0mheights\u001b[0m\u001b[1;33m.\u001b[0m\u001b[0msort\u001b[0m\u001b[1;33m(\u001b[0m\u001b[0mrecerse\u001b[0m\u001b[1;33m=\u001b[0m \u001b[1;32mFalse\u001b[0m\u001b[1;33m)\u001b[0m\u001b[1;33m\u001b[0m\u001b[1;33m\u001b[0m\u001b[0m\n\u001b[0m",
      "\u001b[1;31mTypeError\u001b[0m: 'recerse' is an invalid keyword argument for sort()"
     ]
    }
   ],
   "source": [
    "# 문제6의 코드를 작성하세요.\n",
    "heights = [175.3, 146, 184, 160, 167]\n",
    "heights.sort(recerse= False)"
   ]
  },
  {
   "cell_type": "markdown",
   "metadata": {
    "id": "5r6ZqK4uAv9d"
   },
   "source": [
    "## 문제7. 데이터 일부만 출력하기\n",
    "\n",
    "\n",
    "- 현재 가지고 있는 텍스트 파일을 리스트로 읽어왔습니다. 읽어와 보니 데이터가 너무 많은 상황입니다.\n",
    "\n",
    "\n",
    "- 데이터에 대한 전반적인 형태를 파악하고 싶어, 일부만 출력하고 싶은 상황입니다.\n",
    "\n",
    "- 7-1. 현재 주어진 리스트에서 앞에서부터 3개만 출력하는 코드를 작성하세요.\n",
    "\n",
    "- 7-2. 현재 주어진 리스트에서 중간 100번째 텍스트부터 110번째 텍스트까지 출력하는 코드를 작성하세요.\n",
    "\n",
    "\n",
    "FILE : https://drive.google.com/file/d/1sgodk1PlJCt9NXgC1Lku8jY-K1TGd-ij/view?usp=sharing"
   ]
  },
  {
   "cell_type": "code",
   "execution_count": 67,
   "metadata": {
    "executionInfo": {
     "elapsed": 956,
     "status": "ok",
     "timestamp": 1611208123717,
     "user": {
      "displayName": "김용담",
      "photoUrl": "https://lh3.googleusercontent.com/a-/AOh14GhcMg-SIyaynrayukkEBNN1b6rWweb-FXMnH7MT_xI=s64",
      "userId": "17630601608777393913"
     },
     "user_tz": -540
    },
    "id": "Rz5bBxfbAwFn"
   },
   "outputs": [
    {
     "ename": "UnicodeDecodeError",
     "evalue": "'cp949' codec can't decode byte 0xbf in position 2: illegal multibyte sequence",
     "output_type": "error",
     "traceback": [
      "\u001b[1;31m---------------------------------------------------------------------------\u001b[0m",
      "\u001b[1;31mUnicodeDecodeError\u001b[0m                        Traceback (most recent call last)",
      "\u001b[1;32m~\\AppData\\Local\\Temp/ipykernel_87844/2536102507.py\u001b[0m in \u001b[0;36m<module>\u001b[1;34m\u001b[0m\n\u001b[0;32m      4\u001b[0m \u001b[1;32mwith\u001b[0m \u001b[0mopen\u001b[0m\u001b[1;33m(\u001b[0m\u001b[1;34m\"data/contents_text_파이썬.txt\"\u001b[0m\u001b[1;33m)\u001b[0m \u001b[1;32mas\u001b[0m \u001b[0mf\u001b[0m\u001b[1;33m:\u001b[0m\u001b[1;33m\u001b[0m\u001b[1;33m\u001b[0m\u001b[0m\n\u001b[0;32m      5\u001b[0m     \u001b[1;31m#data = f.readlines()\u001b[0m\u001b[1;33m\u001b[0m\u001b[1;33m\u001b[0m\u001b[0m\n\u001b[1;32m----> 6\u001b[1;33m     \u001b[0mdata\u001b[0m \u001b[1;33m=\u001b[0m \u001b[1;33m[\u001b[0m\u001b[0mx\u001b[0m\u001b[1;33m.\u001b[0m\u001b[0mstrip\u001b[0m\u001b[1;33m(\u001b[0m\u001b[1;33m)\u001b[0m \u001b[1;32mfor\u001b[0m \u001b[0mx\u001b[0m \u001b[1;32min\u001b[0m \u001b[0mf\u001b[0m\u001b[1;33m]\u001b[0m \u001b[1;31m# 불러온 리스트.\u001b[0m\u001b[1;33m\u001b[0m\u001b[1;33m\u001b[0m\u001b[0m\n\u001b[0m\u001b[0;32m      7\u001b[0m \u001b[1;33m\u001b[0m\u001b[0m\n\u001b[0;32m      8\u001b[0m \u001b[1;31m# 7-1 코드를 작성해주세요.\u001b[0m\u001b[1;33m\u001b[0m\u001b[1;33m\u001b[0m\u001b[0m\n",
      "\u001b[1;32m~\\AppData\\Local\\Temp/ipykernel_87844/2536102507.py\u001b[0m in \u001b[0;36m<listcomp>\u001b[1;34m(.0)\u001b[0m\n\u001b[0;32m      4\u001b[0m \u001b[1;32mwith\u001b[0m \u001b[0mopen\u001b[0m\u001b[1;33m(\u001b[0m\u001b[1;34m\"data/contents_text_파이썬.txt\"\u001b[0m\u001b[1;33m)\u001b[0m \u001b[1;32mas\u001b[0m \u001b[0mf\u001b[0m\u001b[1;33m:\u001b[0m\u001b[1;33m\u001b[0m\u001b[1;33m\u001b[0m\u001b[0m\n\u001b[0;32m      5\u001b[0m     \u001b[1;31m#data = f.readlines()\u001b[0m\u001b[1;33m\u001b[0m\u001b[1;33m\u001b[0m\u001b[0m\n\u001b[1;32m----> 6\u001b[1;33m     \u001b[0mdata\u001b[0m \u001b[1;33m=\u001b[0m \u001b[1;33m[\u001b[0m\u001b[0mx\u001b[0m\u001b[1;33m.\u001b[0m\u001b[0mstrip\u001b[0m\u001b[1;33m(\u001b[0m\u001b[1;33m)\u001b[0m \u001b[1;32mfor\u001b[0m \u001b[0mx\u001b[0m \u001b[1;32min\u001b[0m \u001b[0mf\u001b[0m\u001b[1;33m]\u001b[0m \u001b[1;31m# 불러온 리스트.\u001b[0m\u001b[1;33m\u001b[0m\u001b[1;33m\u001b[0m\u001b[0m\n\u001b[0m\u001b[0;32m      7\u001b[0m \u001b[1;33m\u001b[0m\u001b[0m\n\u001b[0;32m      8\u001b[0m \u001b[1;31m# 7-1 코드를 작성해주세요.\u001b[0m\u001b[1;33m\u001b[0m\u001b[1;33m\u001b[0m\u001b[0m\n",
      "\u001b[1;31mUnicodeDecodeError\u001b[0m: 'cp949' codec can't decode byte 0xbf in position 2: illegal multibyte sequence"
     ]
    }
   ],
   "source": [
    "# mount를 완료한 이후에 실행해주세요.\n",
    "from pprint import pprint\n",
    "\n",
    "with open(\"data/contents_text_파이썬.txt\") as f:\n",
    "    #data = f.readlines()\n",
    "    data = [x.strip() for x in f] # 불러온 리스트.\n",
    "\n",
    "# 7-1 코드를 작성해주세요.\n",
    "data[:2]\n",
    "# 7-2 코드를 작성해주세요.\n",
    "data[99:109]"
   ]
  },
  {
   "cell_type": "markdown",
   "metadata": {
    "id": "MAcPqiy0FoUA"
   },
   "source": [
    "## 문제8. 데이터 얼리기\n",
    "\n",
    "- 문제7에서 사용한 데이터셋을 불러온 뒤에, 더 이상 수정하지 않을 생각입니다.\n",
    "\n",
    "- 불러온 데이터의 수정을 시도하려 할 때, 수행되지 못하게 데이터를 바꿔보세요."
   ]
  },
  {
   "cell_type": "code",
   "execution_count": null,
   "metadata": {
    "id": "sJ8hqWynFod6"
   },
   "outputs": [],
   "source": [
    "# 문제8의 코드를 작성하세요.\n",
    "a = 3\n",
    "튜플로 \n"
   ]
  },
  {
   "cell_type": "markdown",
   "metadata": {
    "id": "qBL_9ODbGATl"
   },
   "source": [
    "## 문제9. 단어 종류 파악하기\n",
    "\n",
    "- 문제7에서 사용한 데이터의 첫번째 텍스트에 등장한 단어 정보가 궁금합니다.\n",
    "\n",
    "- 등장한 모든 단어의 개수를 출력하고, 등장한 단어가 몇 종류인지도 출력하는 코드를 작성하세요."
   ]
  },
  {
   "cell_type": "code",
   "execution_count": null,
   "metadata": {
    "id": "qHy40Rx5GAbp"
   },
   "outputs": [],
   "source": [
    "# 문제9의 코드를 작성하세요.\n"
   ]
  },
  {
   "cell_type": "markdown",
   "metadata": {
    "id": "dP8wJZBy8KYT"
   },
   "source": [
    "## 문제10. codebook 만들기\n",
    "\n",
    "* 다음 표와 같이 주어진 문자열을 숫자로 바꾸는 암호화를 진행하려고 합니다.\n",
    "* 암호화를 할 수 있는 codebook을 만들어봅시다!\n",
    "\n",
    "| string | code |\n",
    "| --- | --- |\n",
    "| \"John\" | 0011 |\n",
    "| \"Maria\" | 1234 |\n",
    "| \"Steve\" | 0000 |\n",
    "| \"Kim\" | 9999 |\n",
    "| \"XXX\" | 1004 |\n",
    "\n",
    "> Q. 어떤 자료형을 사용해야 할까요?\n",
    "\n",
    "> A. dictionary"
   ]
  },
  {
   "cell_type": "code",
   "execution_count": 70,
   "metadata": {
    "id": "RUSMChV_8KYT"
   },
   "outputs": [
    {
     "ename": "AttributeError",
     "evalue": "'str' object has no attribute 'plit'",
     "output_type": "error",
     "traceback": [
      "\u001b[1;31m---------------------------------------------------------------------------\u001b[0m",
      "\u001b[1;31mAttributeError\u001b[0m                            Traceback (most recent call last)",
      "\u001b[1;32m~\\AppData\\Local\\Temp/ipykernel_87844/2712378972.py\u001b[0m in \u001b[0;36m<module>\u001b[1;34m\u001b[0m\n\u001b[0;32m      3\u001b[0m \u001b[1;31m# (OPTIONAL) 실제 문자가 주어졌을 때, codebook을 사용하여 숫자로 바꿀 수 있을까요?\u001b[0m\u001b[1;33m\u001b[0m\u001b[1;33m\u001b[0m\u001b[0m\n\u001b[0;32m      4\u001b[0m \u001b[0ms\u001b[0m \u001b[1;33m=\u001b[0m \u001b[1;34m\"John is killed by XXX\"\u001b[0m\u001b[1;33m\u001b[0m\u001b[1;33m\u001b[0m\u001b[0m\n\u001b[1;32m----> 5\u001b[1;33m \u001b[0ms\u001b[0m\u001b[1;33m.\u001b[0m\u001b[0mreplace\u001b[0m\u001b[1;33m(\u001b[0m\u001b[1;34m\"John\"\u001b[0m\u001b[1;33m,\u001b[0m\u001b[0mcodebook\u001b[0m\u001b[1;33m[\u001b[0m\u001b[0ms\u001b[0m\u001b[1;33m.\u001b[0m\u001b[0mplit\u001b[0m\u001b[1;33m(\u001b[0m\u001b[1;33m)\u001b[0m\u001b[1;33m[\u001b[0m\u001b[1;36m0\u001b[0m\u001b[1;33m]\u001b[0m\u001b[1;33m]\u001b[0m\u001b[1;33m)\u001b[0m\u001b[1;33m\u001b[0m\u001b[1;33m\u001b[0m\u001b[0m\n\u001b[0m\u001b[0;32m      6\u001b[0m \u001b[0ms\u001b[0m\u001b[1;33m.\u001b[0m\u001b[0mreplace\u001b[0m\u001b[1;33m(\u001b[0m\u001b[1;34m\"XXX\"\u001b[0m\u001b[1;33m,\u001b[0m \u001b[0mcodebook\u001b[0m\u001b[1;33m[\u001b[0m\u001b[0ms\u001b[0m\u001b[1;33m.\u001b[0m\u001b[0msplit\u001b[0m\u001b[1;33m(\u001b[0m\u001b[1;33m)\u001b[0m\u001b[1;33m[\u001b[0m\u001b[1;33m-\u001b[0m\u001b[1;36m1\u001b[0m\u001b[1;33m]\u001b[0m\u001b[1;33m[\u001b[0m\u001b[1;33m:\u001b[0m\u001b[1;33m-\u001b[0m\u001b[1;36m1\u001b[0m\u001b[1;33m]\u001b[0m\u001b[1;33m]\u001b[0m\u001b[1;33m)\u001b[0m\u001b[1;33m\u001b[0m\u001b[1;33m\u001b[0m\u001b[0m\n",
      "\u001b[1;31mAttributeError\u001b[0m: 'str' object has no attribute 'plit'"
     ]
    }
   ],
   "source": [
    "# 문제10의 코드를 작성하세요.\n",
    "codebook = {\"John\":\"0011\",\"Maria\":\"1234\",\"Steve\":\"0000\",\"Kim\":\"9999\",\"XXX\":\"1004\"}\n",
    "# (OPTIONAL) 실제 문자가 주어졌을 때, codebook을 사용하여 숫자로 바꿀 수 있을까요?\n",
    "s = \"John is killed by XXX\"\n",
    "s.replace(\"John\",codebook[s.plit()[0]])\n",
    "s.replace(\"XXX\", codebook[s.split()[-1][:-1]])"
   ]
  },
  {
   "cell_type": "markdown",
   "metadata": {
    "id": "VTA96DTUIjE9"
   },
   "source": [
    "## 문제11. 도서 관리하기\n",
    "\n",
    "- 도서관에서 도서 관련 정보를 프로그램에 저장하려고 합니다.\n",
    "\n",
    "\n",
    "- 도서와 관련된 정보는 \"책 제목 / 도서번호 / 도서분류\" 가 있습니다.\n",
    "\n",
    "\n",
    "- 현재 도서는 총 5권이 있습니다. 5권에 해당하는 도서 정보는 다음과 같습니다. (실제 존재하는 도서가 아닌 예제를 위한 가상의 도서입니다)\n",
    "\n",
    "<br>\n",
    "\n",
    "\"기초 파이썬 프로그래밍 | 0011 |프로그래밍/IT\"\n",
    "\n",
    "\"한 번에 배우는 데이터 분석 | 1234 |프로그래밍/IT\"\n",
    "\n",
    "\"40세에 돌아본 인생 | 3014 | 인문교양\"\n",
    "\n",
    "\"집밥 101 | 9744 | 요리\"\n",
    "\n",
    "\"300일로 끝내는 나홀로 세계여행 | 8861 | 여행\"\n",
    "<br>\n",
    "\n",
    "\n",
    "- 다음 두 가지 방식으로 데이터를 관리해보려고 합니다. 각 방식대로 프로그램을 작성해보고 차이점에 대해 생각해보세요.\n",
    "\n",
    "<br>\n",
    "\n",
    "- 11-1. 리스트로 관리하기\n",
    "\n",
    "> 도서이름들을 관리하는 name_list\n",
    "\n",
    "> 도서번호들을 관리하는 number_list\n",
    "\n",
    "> 도서분류들은 관리하는 category_list\n",
    "<br>\n",
    "\n",
    "- 11-2. 사전으로 관리하기\n",
    "\n",
    "> 0, 1, 2, 3, 4를 key로 하고 value는 각 도서정보(사전)인 사전을 만든다.\n",
    "\n",
    "> 각 도서정보는 \"name\", \"number\", \"category\"를 key로 하고 value는 각 도서의 해당하는 정보를 적는다."
   ]
  },
  {
   "cell_type": "code",
   "execution_count": null,
   "metadata": {
    "id": "OGozQlwM8KYT"
   },
   "outputs": [],
   "source": [
    "# 11-1에 대한 코드를 작성하세요.\n",
    "\n",
    "# 11-2에 대한 코드를 작성하세요.\n",
    "\n",
    "\n",
    "# (OPTIONAL) Q. 만약에 도서번호가 1234인 도서를 찾으려면 어떻게 해야할지, 11-1과 11-2의 자료구조를 기준으로 코드를 작성해보세요.\n",
    "\n",
    "# (OPTIONAL) Q. 만약에 도서분류가 프로그래밍/IT인 도서를 찾으려면 어떻게 해야할지, 11-1과 11-2의 자료구조를 기준으로 코드를 작성해보세요."
   ]
  }
 ],
 "metadata": {
  "colab": {
   "collapsed_sections": [],
   "name": "02. Programming Practice(Data Type).ipynb",
   "provenance": []
  },
  "kernelspec": {
   "display_name": "Python 3 (ipykernel)",
   "language": "python",
   "name": "python3"
  },
  "language_info": {
   "codemirror_mode": {
    "name": "ipython",
    "version": 3
   },
   "file_extension": ".py",
   "mimetype": "text/x-python",
   "name": "python",
   "nbconvert_exporter": "python",
   "pygments_lexer": "ipython3",
   "version": "3.9.7"
  }
 },
 "nbformat": 4,
 "nbformat_minor": 1
}
