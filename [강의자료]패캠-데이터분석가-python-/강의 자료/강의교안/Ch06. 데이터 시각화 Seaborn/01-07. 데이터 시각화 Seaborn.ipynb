{
 "cells": [
  {
   "cell_type": "markdown",
   "id": "bibliographic-numbers",
   "metadata": {},
   "source": [
    "![seaborn](../images/seaborn/seaborn_main.png)"
   ]
  },
  {
   "cell_type": "markdown",
   "id": "proud-submission",
   "metadata": {},
   "source": [
    "## Seaborn이란?\n",
    "\n",
    "\n",
    "- matplotlib을 기본으로 다양한 시각화 기법을 제공하는 라이브러리.\n",
    "\n",
    "\n",
    "- 엄청나게 화려한 시각화 기법들을 제공하며, 기본적으로 이쁩니다.\n",
    ">  histplot, kdeplot, jointplot, Facetgrid, ...\n",
    "\n",
    "\n",
    "- pandas DataFrame과 매우 호환이 잘 됩니다.\n",
    "\n",
    "  >  e.g. sns.xxxplot(data=df)    **<--- 기본세팅!**"
   ]
  },
  {
   "cell_type": "code",
   "execution_count": null,
   "id": "ongoing-mystery",
   "metadata": {},
   "outputs": [],
   "source": [
    "# 라이브러리와 데이터를 불러오고, 시각화를 위한 세팅을 합니다.\n"
   ]
  },
  {
   "cell_type": "markdown",
   "id": "engaged-surrey",
   "metadata": {},
   "source": [
    "### Histplot \n",
    "\n",
    "- 가장 기본적으로 사용되는 히스토그램을 출력하는 plot.\n",
    "\n",
    "\n",
    "- 전체 데이터를 특정 구간별 정보를 확인할 때 사용합니다."
   ]
  },
  {
   "cell_type": "code",
   "execution_count": null,
   "id": "through-newark",
   "metadata": {},
   "outputs": [],
   "source": [
    "# penguin 데이터에 histplot을 출력합니다.\n"
   ]
  },
  {
   "cell_type": "markdown",
   "id": "entertaining-committee",
   "metadata": {},
   "source": [
    "### Displot \n",
    "\n",
    "- distribution들을 여러 subplot들로 나눠서 출력해주는 plot.\n",
    "\n",
    "\n",
    "- displot에 kind를 변경하는 것으로, histplot, kdeplot, ecdfplot 모두 출력이 가능합니다.\n",
    "\n",
    "e.g. displot(kind=\"hist\")"
   ]
  },
  {
   "cell_type": "code",
   "execution_count": null,
   "id": "entertaining-category",
   "metadata": {},
   "outputs": [],
   "source": [
    "# penguin 데이터에 displot을 출력합니다.\n"
   ]
  },
  {
   "cell_type": "markdown",
   "id": "dramatic-detroit",
   "metadata": {},
   "source": [
    "### Barplot\n",
    "\n",
    "- 어떤 데이터에 대한 값의 크기를 막대로 보여주는 plot. (a.k.a. 막대그래프)\n",
    "\n",
    "\n",
    "- 가로 / 세로 두 가지로 모두 출력 가능합니다.\n",
    "\n",
    "\n",
    "- 히스토그램과는 다릅니다!"
   ]
  },
  {
   "cell_type": "code",
   "execution_count": null,
   "id": "interim-argentina",
   "metadata": {},
   "outputs": [],
   "source": [
    "# penguin 데이터에 barplot을 출력합니다.\n"
   ]
  },
  {
   "cell_type": "markdown",
   "id": "incomplete-hobby",
   "metadata": {},
   "source": [
    "### Countplot\n",
    "\n",
    "- 범주형 속성을 가지는 데이터들의 histogram을 보여주는 plot.\n",
    "\n",
    "\n",
    "\n",
    "- 종류별 count를 보여주는 방법입니다."
   ]
  },
  {
   "cell_type": "code",
   "execution_count": null,
   "id": "extra-january",
   "metadata": {},
   "outputs": [],
   "source": [
    "# penguin 데이터에 countplot을 출력합니다.\n"
   ]
  },
  {
   "cell_type": "markdown",
   "id": "handled-replacement",
   "metadata": {},
   "source": [
    "### Boxplot\n",
    "\n",
    "\n",
    "- 데이터의 각 종류별로 사분위 수(quantile)를 표시하는 plot.\n",
    "\n",
    "\n",
    "- 특정 데이터의 전체적인 분포를 확인하기 좋은 시각화 기법입니다.\n",
    "\n",
    "\n",
    "- box와 전체 range의 그림을 통해 outlier를 찾기 쉽습니다. (IQR : Inter-Quantile Range)"
   ]
  },
  {
   "cell_type": "code",
   "execution_count": null,
   "id": "radical-federation",
   "metadata": {},
   "outputs": [],
   "source": [
    "# penguin 데이터에 boxplot을 출력합니다.\n"
   ]
  },
  {
   "cell_type": "markdown",
   "id": "protected-newark",
   "metadata": {},
   "source": [
    "### Violinplot \n",
    "\n",
    "- 데이터에 대한 분포 자체를 보여주는 plot.\n",
    "\n",
    "\n",
    "- boxplot과 비슷하지만, 전체 분포에 대한 그림을 보여준다는 점에서 boxplot과 다릅니다.\n",
    "\n",
    "\n",
    "- 보통 boxplot과 함께 표시하면, 평균 근처에 데이터가 얼마나 있는지(boxplot) 전체적으로 어떻게 퍼져있는지(violinplot) 모두 확인이 가능합니다."
   ]
  },
  {
   "cell_type": "code",
   "execution_count": null,
   "id": "thick-baseline",
   "metadata": {},
   "outputs": [],
   "source": [
    "# penguin 데이터에 violinplot을 출력합니다.\n"
   ]
  },
  {
   "cell_type": "markdown",
   "id": "educational-welcome",
   "metadata": {},
   "source": [
    "### Lineplot\n",
    "\n",
    "- 특정 데이터를 x, y로 표시하여 관계를 확인할 수 있는 plot. (선 그래프)\n",
    "\n",
    "\n",
    "- 수치형 지표들 간의 경향을 파악할 때 많이 사용합니다."
   ]
  },
  {
   "cell_type": "code",
   "execution_count": null,
   "id": "stunning-challenge",
   "metadata": {},
   "outputs": [],
   "source": [
    "# penguin 데이터에 lineplot을 출력합니다.\n"
   ]
  },
  {
   "cell_type": "markdown",
   "id": "electoral-plaza",
   "metadata": {},
   "source": [
    "### Pointplot\n",
    "\n",
    "- 특정 수치 데이터를 error bar와 함께 출력해주는 plot.\n",
    "\n",
    "\n",
    "\n",
    "- 수치 데이터를 다양한 각도에서 한 번에 바라보고 싶을 때 사용합니다.\n",
    "\n",
    "\n",
    "- 데이터와 error bar를 한 번에 찍어주기 때문에, 살펴보고 싶은 특정 지표들만 사용하는 것이 좋습니다."
   ]
  },
  {
   "cell_type": "code",
   "execution_count": null,
   "id": "surprised-drunk",
   "metadata": {},
   "outputs": [],
   "source": [
    "# penguin 데이터에 pointplot을 출력합니다.\n"
   ]
  },
  {
   "cell_type": "markdown",
   "id": "clean-valentine",
   "metadata": {},
   "source": [
    "### Scatterplot\n",
    "\n",
    "- lineplot과 비슷하게 x, y에 대한 전체적인 분포를 확인하는 plot.\n",
    "\n",
    "\n",
    "- lineplot은 경향성에 초점을 둔다면, scatterplot은 데이터 그 자체가 퍼져있는 모양에 중점을 둡니다."
   ]
  },
  {
   "cell_type": "code",
   "execution_count": null,
   "id": "alive-macintosh",
   "metadata": {},
   "outputs": [],
   "source": [
    "# penguin 데이터에 scatterplot을 출력합니다.\n"
   ]
  },
  {
   "cell_type": "markdown",
   "id": "delayed-antigua",
   "metadata": {},
   "source": [
    "### Pairplot\n",
    "\n",
    "\n",
    "- 주어진 데이터의 각 feature들 사이의 관계를 표시하는 Plot.\n",
    "\n",
    "\n",
    "- scatterplot, FacetGrid, kdeplot을 이용하여 feature간의 관계를 잘 보여줍니다.\n",
    "\n",
    "\n",
    "- 각 feature에 대해 계산된 모든 결과를 보여주기 때문에, feature가 많은 경우 사용하기 적합하지 않습니다."
   ]
  },
  {
   "cell_type": "code",
   "execution_count": null,
   "id": "opening-treaty",
   "metadata": {},
   "outputs": [],
   "source": [
    "# penguin 데이터에 pairplot을 출력합니다.\n"
   ]
  },
  {
   "cell_type": "markdown",
   "id": "consolidated-leave",
   "metadata": {},
   "source": [
    "### Heatmap\n",
    "\n",
    "- 정사각형 그림에 데이터에 대한 정도 차이를 색 차이로 보여주는 plot.\n",
    "\n",
    "\n",
    "- 말 그대로 heatmap이기 때문에, 열화상카메라로 사물을 찍은 것처럼 정보의 차이를 보여줍니다.\n",
    "\n",
    "\n",
    "- pairplot과 비슷하게 feature간 관계를 시각화할 때 많이 사용합니다."
   ]
  },
  {
   "cell_type": "code",
   "execution_count": null,
   "id": "complimentary-vegetation",
   "metadata": {},
   "outputs": [],
   "source": [
    "# 각 feature간 상관관계를 파악하기 위해 Correlation matrix를 만듭니다.\n"
   ]
  },
  {
   "cell_type": "code",
   "execution_count": null,
   "id": "charming-essay",
   "metadata": {},
   "outputs": [],
   "source": [
    "# penguin 데이터에 heatmap을 출력합니다.\n"
   ]
  },
  {
   "cell_type": "code",
   "execution_count": null,
   "id": "continued-bosnia",
   "metadata": {},
   "outputs": [],
   "source": []
  }
 ],
 "metadata": {
  "kernelspec": {
   "display_name": "Python 3",
   "language": "python",
   "name": "python3"
  },
  "language_info": {
   "codemirror_mode": {
    "name": "ipython",
    "version": 3
   },
   "file_extension": ".py",
   "mimetype": "text/x-python",
   "name": "python",
   "nbconvert_exporter": "python",
   "pygments_lexer": "ipython3",
   "version": "3.8.8"
  }
 },
 "nbformat": 4,
 "nbformat_minor": 5
}
