{
 "cells": [
  {
   "cell_type": "markdown",
   "metadata": {},
   "source": [
    "### 필요한 라이브러리 불러오기"
   ]
  },
  {
   "cell_type": "code",
   "execution_count": null,
   "metadata": {},
   "outputs": [],
   "source": []
  },
  {
   "cell_type": "markdown",
   "metadata": {},
   "source": [
    "### Kaggle Survey 데이터 불러오기 "
   ]
  },
  {
   "cell_type": "code",
   "execution_count": null,
   "metadata": {},
   "outputs": [],
   "source": [
    "data = "
   ]
  },
  {
   "cell_type": "markdown",
   "metadata": {},
   "source": [
    "### 데이터 전처리\n",
    "\n",
    "- 교육상태와 관련이 있는 column들을 고릅니다.\n",
    "\n",
    "- Data Science 실무 경력과 관련된 column들을 고릅니다."
   ]
  },
  {
   "cell_type": "code",
   "execution_count": null,
   "metadata": {},
   "outputs": [],
   "source": [
    "# edu_column\n",
    "# ds_column\n"
   ]
  },
  {
   "cell_type": "code",
   "execution_count": null,
   "metadata": {},
   "outputs": [],
   "source": [
    "# null이 아닌 row만\n"
   ]
  },
  {
   "cell_type": "code",
   "execution_count": null,
   "metadata": {
    "scrolled": false
   },
   "outputs": [],
   "source": [
    "# 결측치 제거\n"
   ]
  },
  {
   "cell_type": "markdown",
   "metadata": {},
   "source": [
    "## 교육수준과 관련된 EDA\n",
    "\n",
    "- EDA에서는 다음과 같은 항목을 살펴봅니다.\n",
    "\n",
    "> 기본적인 빈도 분석\n",
    "\n",
    "> 히스토그램\n",
    "\n",
    "> Pie chart와 같은 plotting 기법들"
   ]
  },
  {
   "cell_type": "markdown",
   "metadata": {},
   "source": [
    "### Q4 column\n",
    "\n",
    "**\"What is the highest level of formal education that you have attained or plan to attain with the next 2 years?\"**\n",
    "\n",
    "- 기본적인 matplotlib(pyplot)을 이용하여 시각화를 해봅니다."
   ]
  },
  {
   "cell_type": "code",
   "execution_count": null,
   "metadata": {},
   "outputs": [],
   "source": [
    "Q4 = "
   ]
  },
  {
   "cell_type": "code",
   "execution_count": null,
   "metadata": {},
   "outputs": [],
   "source": [
    "# plt.hist\n",
    "plt.figure(figsize=(16, 16))\n",
    "plt.title(\"Histogram of Q4 column\")\n",
    "\n",
    "plt.show()"
   ]
  },
  {
   "cell_type": "code",
   "execution_count": null,
   "metadata": {},
   "outputs": [],
   "source": [
    "plt.figure(figsize=(16, 16))\n",
    "plt.pie(Q4.value_counts(),\n",
    "       labels=Q4.value_counts().index,\n",
    "       autopct='%d%%',\n",
    "       startangle=90,\n",
    "       textprops={'fontsize':12})\n",
    "plt.axis('equal')\n",
    "plt.title(\"Pie chart for Q4 column\", fontsize=16)"
   ]
  },
  {
   "cell_type": "markdown",
   "metadata": {},
   "source": [
    "### Q6 column \n",
    "**For how many years have you been writing code and/or programming?**"
   ]
  },
  {
   "cell_type": "code",
   "execution_count": null,
   "metadata": {},
   "outputs": [],
   "source": [
    "Q6 = "
   ]
  },
  {
   "cell_type": "code",
   "execution_count": null,
   "metadata": {},
   "outputs": [],
   "source": [
    "plt.figure(figsize=(12, 16))\n",
    "# plt.hist\n",
    "\n",
    "plt.xticks(rotation='vertical')\n",
    "plt.title(\"Histogram for Q6 column\")\n",
    "plt.show()"
   ]
  },
  {
   "cell_type": "code",
   "execution_count": null,
   "metadata": {},
   "outputs": [],
   "source": [
    "plt.figure(figsize=(24, 24))\n",
    "plt.pie(Q6.value_counts(),\n",
    "       labels=Q6.value_counts().index,\n",
    "       autopct='%d%%',\n",
    "       textprops={'fontsize':24})\n",
    "plt.axis('equal')\n",
    "plt.title(\"Pie chart for Q6 column\", fontsize=48)"
   ]
  },
  {
   "cell_type": "markdown",
   "metadata": {},
   "source": [
    "### Q15 column\n",
    "\n",
    "**For how many years have you used machine learning methods?**\n",
    "\n",
    "- seaborn을 이용해서 시각화를 해봅니다."
   ]
  },
  {
   "cell_type": "code",
   "execution_count": null,
   "metadata": {},
   "outputs": [],
   "source": [
    "Q15 = "
   ]
  },
  {
   "cell_type": "code",
   "execution_count": null,
   "metadata": {},
   "outputs": [],
   "source": [
    "# countplot을 사용해봅니다\n"
   ]
  },
  {
   "cell_type": "code",
   "execution_count": null,
   "metadata": {},
   "outputs": [],
   "source": [
    "plt.figure(figsize=(8,8))\n",
    "plt.pie(Q15.value_counts(),\n",
    "       labels=Q15.value_counts().index,\n",
    "       autopct='%d%%',\n",
    "        colors=sns.color_palette('hls',len(Q15.value_counts().index)),\n",
    "       textprops={'fontsize':12})\n",
    "plt.axis('equal')\n",
    "plt.title(\"Pie chart for Q15 column\", fontsize=16, pad=50)\n",
    "plt.show()"
   ]
  },
  {
   "cell_type": "markdown",
   "metadata": {},
   "source": [
    "## 직업과 관련된 EDA\n",
    "\n",
    "- EDA에서는 다음과 같은 항목을 살펴봅니다.\n",
    "\n",
    "> 기본적인 빈도 분석\n",
    "\n",
    "> 히스토그램\n",
    "\n",
    "> Pie chart와 같은 plotting 기법들"
   ]
  },
  {
   "cell_type": "markdown",
   "metadata": {},
   "source": [
    "### Q5 column\n",
    "\n",
    "**Select the title most similar to your current role**\n",
    "\n",
    "- 기본적인 matplotlib(pyplot)을 이용하여 시각화를 해봅니다."
   ]
  },
  {
   "cell_type": "code",
   "execution_count": null,
   "metadata": {},
   "outputs": [],
   "source": [
    "Q5 = "
   ]
  },
  {
   "cell_type": "code",
   "execution_count": null,
   "metadata": {},
   "outputs": [],
   "source": [
    "plt.figure(figsize=(12, 12))\n",
    "plt.hist(Q5)\n",
    "plt.xticks(rotation='vertical')\n",
    "plt.title(\"Histogram for Q5 column\")\n",
    "plt.show()"
   ]
  },
  {
   "cell_type": "code",
   "execution_count": null,
   "metadata": {},
   "outputs": [],
   "source": [
    "plt.figure(figsize=(16, 16))\n",
    "plt.pie(Q5.value_counts(),\n",
    "       labels=Q5.value_counts().index,\n",
    "       autopct='%d%%',\n",
    "       textprops={'fontsize':24})\n",
    "plt.axis('equal')\n",
    "plt.title(\"Pie chart for Q5 column\", fontsize=48, pad=50)\n",
    "plt.show()"
   ]
  },
  {
   "cell_type": "markdown",
   "metadata": {},
   "source": [
    "### Q20 column\n",
    "\n",
    "**What is the size of the compnay where are employed?**\n",
    "- seaborn을 이용해서 시각화를 해봅니다."
   ]
  },
  {
   "cell_type": "code",
   "execution_count": null,
   "metadata": {},
   "outputs": [],
   "source": [
    "Q20 = "
   ]
  },
  {
   "cell_type": "code",
   "execution_count": null,
   "metadata": {},
   "outputs": [],
   "source": [
    "# sns.countplot을 사용해봅시다.\n",
    "\n",
    "plt.show()"
   ]
  },
  {
   "cell_type": "code",
   "execution_count": null,
   "metadata": {},
   "outputs": [],
   "source": [
    "plt.figure(figsize=(8,8))\n",
    "plt.pie(Q20.value_counts(),\n",
    "       labels=Q20.value_counts().index,\n",
    "       autopct='%d%%',\n",
    "        colors=sns.color_palette('hls',len(Q20.value_counts().index)),\n",
    "       textprops={'fontsize':16})\n",
    "plt.axis('equal')\n",
    "plt.title(\"Pie chart for Q20 column\", fontsize=32, pad=50)\n",
    "plt.show()"
   ]
  },
  {
   "cell_type": "markdown",
   "metadata": {},
   "source": [
    "### Q22 column\n",
    "\n",
    "**Does your current employer incorporate machine learning methods into their business?**\n",
    "- seaborn을 이용해서 시각화를 해봅니다."
   ]
  },
  {
   "cell_type": "code",
   "execution_count": null,
   "metadata": {},
   "outputs": [],
   "source": [
    "Q22 = "
   ]
  },
  {
   "cell_type": "code",
   "execution_count": null,
   "metadata": {},
   "outputs": [],
   "source": [
    "plt.figure(figsize=(12, 16))\n",
    "# To-Do\n",
    "plt.show()"
   ]
  },
  {
   "cell_type": "code",
   "execution_count": null,
   "metadata": {},
   "outputs": [],
   "source": [
    "plt.figure(figsize=(12, 12))\n",
    "plt.pie(Q22.value_counts(),\n",
    "       labels=Q22.value_counts().index,\n",
    "       autopct='%.2f%%',\n",
    "        colors=sns.color_palette('hls',len(Q22.value_counts().index)),\n",
    "       textprops={'fontsize':12})\n",
    "plt.axis('equal')\n",
    "plt.title(\"Pie chart for Q22 column\", fontsize=32, pad=50)\n",
    "plt.show()"
   ]
  },
  {
   "cell_type": "code",
   "execution_count": null,
   "metadata": {},
   "outputs": [],
   "source": []
  }
 ],
 "metadata": {
  "kernelspec": {
   "display_name": "Python 3",
   "language": "python",
   "name": "python3"
  },
  "language_info": {
   "codemirror_mode": {
    "name": "ipython",
    "version": 3
   },
   "file_extension": ".py",
   "mimetype": "text/x-python",
   "name": "python",
   "nbconvert_exporter": "python",
   "pygments_lexer": "ipython3",
   "version": "3.8.8"
  }
 },
 "nbformat": 4,
 "nbformat_minor": 4
}
