{
 "cells": [
  {
   "cell_type": "markdown",
   "metadata": {},
   "source": [
    "# 실행 가능성 확인하기"
   ]
  },
  {
   "cell_type": "code",
   "execution_count": 1,
   "metadata": {},
   "outputs": [],
   "source": [
    "import glob\n",
    "import os\n",
    "import tensorflow as tf\n",
    "import cv2\n",
    "from tensorflow.keras.layers import Conv2D, MaxPool2D, Flatten, Dense\n",
    "from tensorflow.keras.models import Sequential"
   ]
  },
  {
   "cell_type": "markdown",
   "metadata": {},
   "source": [
    "## 하이퍼파라미터"
   ]
  },
  {
   "cell_type": "code",
   "execution_count": 2,
   "metadata": {},
   "outputs": [],
   "source": [
    "EPOCHS = 10\n",
    "\n",
    "DATASET_PATH = 'dataset/2/'\n",
    "DATASET_OK_PATTERN = DATASET_PATH + 'OK/*.png'\n",
    "DATASET_FAIL_PATTERN = DATASET_PATH + 'FAIL/*.png'\n",
    "\n",
    "RESULT_SAVE_PATH = 'results/'"
   ]
  },
  {
   "cell_type": "markdown",
   "metadata": {},
   "source": [
    "## 단순한 모델 설정"
   ]
  },
  {
   "cell_type": "code",
   "execution_count": 17,
   "metadata": {},
   "outputs": [],
   "source": [
    "def Model():\n",
    "    return Sequential([Conv2D(32, (3, 3), activation='relu', input_shape=(256, 256, 1)), #tensorflow 버전업으로 코드 변경\n",
    "                       MaxPool2D(),\n",
    "                       Conv2D(64, (3, 3), activation='relu'),\n",
    "                       MaxPool2D(),\n",
    "                       Conv2D(128, (3, 3), activation='relu'),\n",
    "                       MaxPool2D(),\n",
    "                       Conv2D(256, (3, 3), activation='relu'),\n",
    "                       MaxPool2D(),\n",
    "                       Flatten(),\n",
    "                       Dense(1, activation='sigmoid')])"
   ]
  },
  {
   "cell_type": "markdown",
   "metadata": {},
   "source": [
    "## 데이터셋 불러오기"
   ]
  },
  {
   "cell_type": "code",
   "execution_count": 18,
   "metadata": {},
   "outputs": [],
   "source": [
    "def preprocess(file_name):\n",
    "    img = tf.io.read_file(file_name)\n",
    "    img = tf.image.decode_png(img, channels=1) #tensorflow 버전업으로 코드 변경\n",
    "    return tf.image.convert_image_dtype(img, tf.float32)"
   ]
  },
  {
   "cell_type": "code",
   "execution_count": 19,
   "metadata": {},
   "outputs": [],
   "source": [
    "ok_list = glob.glob(DATASET_OK_PATTERN)\n",
    "ds_ok = tf.data.Dataset.list_files(ok_list)\n",
    "ds_ok_label = tf.data.Dataset.from_tensor_slices([0] * len(ok_list))\n",
    "\n",
    "ds_ok = ds_ok.map(preprocess)\n",
    "ds_ok = tf.data.Dataset.zip((ds_ok, ds_ok_label))\n",
    "\n",
    "fail_list = glob.glob(DATASET_FAIL_PATTERN)\n",
    "ds_fail = tf.data.Dataset.list_files(fail_list)\n",
    "ds_fail_label = tf.data.Dataset.from_tensor_slices([1] * len(fail_list))\n",
    "\n",
    "ds_fail = ds_fail.map(preprocess)\n",
    "ds_fail = tf.data.Dataset.zip((ds_fail, ds_fail_label))\n",
    "\n",
    "ds = tf.data.Dataset.concatenate(ds_ok, ds_fail)"
   ]
  },
  {
   "cell_type": "markdown",
   "metadata": {},
   "source": [
    "## Train, Valid 데이터셋 나누기"
   ]
  },
  {
   "cell_type": "code",
   "execution_count": 20,
   "metadata": {},
   "outputs": [],
   "source": [
    "ds_size = len(ok_list) + len(fail_list)\n",
    "train_size = int(ds_size * 0.7)\n",
    "\n",
    "ds = ds.shuffle(ds_size)\n",
    "ds_train = ds.take(train_size).shuffle(1024, reshuffle_each_iteration=True).batch(32)\n",
    "ds_valid = ds.skip(train_size).batch(32)"
   ]
  },
  {
   "cell_type": "markdown",
   "metadata": {},
   "source": [
    "## 모델 생성 및 학습"
   ]
  },
  {
   "cell_type": "code",
   "execution_count": 21,
   "metadata": {
    "scrolled": true
   },
   "outputs": [],
   "source": [
    "model = Model()\n",
    "model.compile(optimizer='adam',\n",
    "              loss='binary_crossentropy',\n",
    "              metrics=['accuracy'])"
   ]
  },
  {
   "cell_type": "code",
   "execution_count": 22,
   "metadata": {
    "scrolled": true
   },
   "outputs": [
    {
     "name": "stdout",
     "output_type": "stream",
     "text": [
      "Epoch 1/10\n",
      "21/21 [==============================] - 33s 2s/step - loss: 0.4329 - accuracy: 0.8744 - val_loss: 0.4156 - val_accuracy: 0.8521\n",
      "Epoch 2/10\n",
      "21/21 [==============================] - 30s 1s/step - loss: 0.3786 - accuracy: 0.8669 - val_loss: 0.3198 - val_accuracy: 0.8908\n",
      "Epoch 3/10\n",
      "21/21 [==============================] - 30s 1s/step - loss: 0.3963 - accuracy: 0.8714 - val_loss: 0.3016 - val_accuracy: 0.9049\n",
      "Epoch 4/10\n",
      "21/21 [==============================] - 35s 2s/step - loss: 0.3375 - accuracy: 0.8820 - val_loss: 0.3599 - val_accuracy: 0.8521\n",
      "Epoch 5/10\n",
      "21/21 [==============================] - 34s 2s/step - loss: 0.3446 - accuracy: 0.8744 - val_loss: 0.4015 - val_accuracy: 0.8873\n",
      "Epoch 6/10\n",
      "21/21 [==============================] - 34s 2s/step - loss: 0.3644 - accuracy: 0.8835 - val_loss: 0.4414 - val_accuracy: 0.8380\n",
      "Epoch 7/10\n",
      "21/21 [==============================] - 33s 2s/step - loss: 0.3632 - accuracy: 0.8805 - val_loss: 0.3497 - val_accuracy: 0.8732\n",
      "Epoch 8/10\n",
      "21/21 [==============================] - 33s 2s/step - loss: 0.3744 - accuracy: 0.8699 - val_loss: 0.3356 - val_accuracy: 0.8521\n",
      "Epoch 9/10\n",
      "21/21 [==============================] - 33s 2s/step - loss: 0.3471 - accuracy: 0.8744 - val_loss: 0.3374 - val_accuracy: 0.8873\n",
      "Epoch 10/10\n",
      "21/21 [==============================] - 33s 2s/step - loss: 0.3361 - accuracy: 0.8805 - val_loss: 0.3115 - val_accuracy: 0.8944\n"
     ]
    },
    {
     "data": {
      "text/plain": [
       "<tensorflow.python.keras.callbacks.History at 0x7fb0471635d0>"
      ]
     },
     "execution_count": 22,
     "metadata": {},
     "output_type": "execute_result"
    }
   ],
   "source": [
    "model.fit(ds_train, validation_data=ds_valid, epochs=EPOCHS)"
   ]
  },
  {
   "cell_type": "markdown",
   "metadata": {},
   "source": [
    "## 결과를 이미지로 저장"
   ]
  },
  {
   "cell_type": "code",
   "execution_count": 23,
   "metadata": {
    "scrolled": true
   },
   "outputs": [],
   "source": [
    "def mkdir(path):\n",
    "    if os.path.exists(path) is False:\n",
    "        os.mkdir(path)\n",
    "\n",
    "mkdir(RESULT_SAVE_PATH)\n",
    "mkdir(RESULT_SAVE_PATH + '/TP')\n",
    "mkdir(RESULT_SAVE_PATH + '/TN')\n",
    "mkdir(RESULT_SAVE_PATH + '/FP')\n",
    "mkdir(RESULT_SAVE_PATH + '/FN')\n",
    "\n",
    "index = 0\n",
    "for imgs, labels in ds_valid:\n",
    "    preds = model.predict(imgs)\n",
    "    for idx in range(imgs.shape[0]):\n",
    "        gt = labels[idx].numpy()\n",
    "        y = preds[idx]\n",
    "        \n",
    "        if gt == 1 and y > 0.5:\n",
    "            path = RESULT_SAVE_PATH + '/TP'\n",
    "        elif gt == 1 and y <= 0.5:\n",
    "            path = RESULT_SAVE_PATH + '/FN'\n",
    "        elif gt == 0 and y > 0.5:\n",
    "            path = RESULT_SAVE_PATH + '/FP'\n",
    "        else:\n",
    "            path = RESULT_SAVE_PATH + '/TN'\n",
    "            \n",
    "        cv2.imwrite(path + '/%.4f_%04d.png' % (y, index), imgs[idx].numpy() * 255)\n",
    "        index +=1"
   ]
  },
  {
   "cell_type": "code",
   "execution_count": null,
   "metadata": {},
   "outputs": [],
   "source": []
  }
 ],
 "metadata": {
  "kernelspec": {
   "display_name": "Python 3",
   "language": "python",
   "name": "python3"
  },
  "language_info": {
   "codemirror_mode": {
    "name": "ipython",
    "version": 3
   },
   "file_extension": ".py",
   "mimetype": "text/x-python",
   "name": "python",
   "nbconvert_exporter": "python",
   "pygments_lexer": "ipython3",
   "version": "3.7.7"
  }
 },
 "nbformat": 4,
 "nbformat_minor": 4
}
