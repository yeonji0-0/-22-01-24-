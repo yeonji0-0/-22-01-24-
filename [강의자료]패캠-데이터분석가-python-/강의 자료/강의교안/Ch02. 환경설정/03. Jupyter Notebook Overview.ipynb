{
 "cells": [
  {
   "cell_type": "markdown",
   "metadata": {},
   "source": [
    "# 0. 시작하며"
   ]
  },
  {
   "cell_type": "code",
   "execution_count": null,
   "metadata": {},
   "outputs": [],
   "source": [
    "# 프로그래밍을 시작하면서 Hello World를 출력해야합니다.\n",
    "print(\"Hello World\")"
   ]
  },
  {
   "cell_type": "markdown",
   "metadata": {},
   "source": [
    "# 1. Jupyter Notebook 익혀보기 "
   ]
  },
  {
   "cell_type": "markdown",
   "metadata": {},
   "source": [
    "- jupyter notebook은 web browser(Chrome, firefox 등)에서 작동하는 파이썬을 interactive하게 다룰 수 있는 툴입니다. cell로 구성되어 있으며, cell은 크게 글이나 그림을 적을 수 있는 markdown cell과 파이썬 코드를 적을 수 있는 code cell로 나누어져 있습니다."
   ]
  },
  {
   "cell_type": "code",
   "execution_count": null,
   "metadata": {},
   "outputs": [],
   "source": [
    "1+1"
   ]
  },
  {
   "cell_type": "markdown",
   "metadata": {},
   "source": [
    "## 1.1 Markdown 작성해보기 "
   ]
  },
  {
   "cell_type": "markdown",
   "metadata": {},
   "source": [
    "- jupyter notebook에서 cell을 누르고, <kbd>m</kbd>키를 누르면 markdown cell로 바뀌게 됩니다. 그러면 지금처럼 자유롭게 편집을 할 수 있으며, 편집모드에 들어갈땐 <kbd>Enter</kbd>를 누르고, 완료가 되면 <kbd>Shift</kbd> + <kbd>Enter</kbd>를 눌러 실행합니다."
   ]
  },
  {
   "cell_type": "markdown",
   "metadata": {},
   "source": [
    "## 1.2 Jupyter Notebook 단축키 "
   ]
  },
  {
   "cell_type": "markdown",
   "metadata": {},
   "source": [
    "<kbd>m</kbd>: 현재 cell을 markdown cell로 바꿉니다."
   ]
  },
  {
   "cell_type": "markdown",
   "metadata": {},
   "source": [
    "<kbd>D</kbd>+<kbd>D</kbd>: 현재 cell을 삭제합니다."
   ]
  },
  {
   "cell_type": "markdown",
   "metadata": {},
   "source": [
    "<kbd>o</kbd>: 현재의 cell의 실행결과를 on/off 합니다."
   ]
  },
  {
   "cell_type": "markdown",
   "metadata": {},
   "source": [
    "<kbd>Shift</kbd>+<kbd>Arrow up/Arrow down</kbd>: 화살표를 통해 현재 cell을 포함한 여러 cell을 선택합니다."
   ]
  },
  {
   "cell_type": "markdown",
   "metadata": {},
   "source": [
    "<kbd>Shift</kbd>+<kbd>Tab</kbd>: [press these two buttons at the same time, once] 함수에 대한 설명이 나옵니다."
   ]
  },
  {
   "cell_type": "markdown",
   "metadata": {},
   "source": [
    "# <kbd>1</kbd> : H1\n",
    "\n",
    "## <kbd>2</kbd> : H2\n",
    "\n",
    "### <kbd>3</kbd> : H3\n",
    "\n",
    "#### <kbd>4</kbd> : H4"
   ]
  },
  {
   "cell_type": "markdown",
   "metadata": {},
   "source": [
    "> 실습:\n",
    "- markdown cell을 하나 만들어, 좋아하는 문구 하나씩 작성해 봅니다."
   ]
  },
  {
   "cell_type": "markdown",
   "metadata": {},
   "source": [
    "## 1.3 Code 작성 및 Interactive Python "
   ]
  },
  {
   "cell_type": "code",
   "execution_count": null,
   "metadata": {},
   "outputs": [],
   "source": [
    "# 그래프 작성을 위한 라이브러리를 불러옵니다.\n",
    "import matplotlib.pyplot as plt\n",
    "# 이미지 입출력을 위한 라이브러리를 불러옵니다.\n",
    "from PIL import Image"
   ]
  },
  {
   "cell_type": "code",
   "execution_count": null,
   "metadata": {},
   "outputs": [],
   "source": [
    "plt.plot([1, 4, 16, 64])\n",
    "plt.show()"
   ]
  },
  {
   "cell_type": "code",
   "execution_count": null,
   "metadata": {},
   "outputs": [],
   "source": [
    "Image.open('../images/python/cat_example.jpg')"
   ]
  },
  {
   "cell_type": "code",
   "execution_count": null,
   "metadata": {},
   "outputs": [],
   "source": []
  }
 ],
 "metadata": {
  "kernelspec": {
   "display_name": "Python 3",
   "language": "python",
   "name": "python3"
  },
  "language_info": {
   "codemirror_mode": {
    "name": "ipython",
    "version": 3
   },
   "file_extension": ".py",
   "mimetype": "text/x-python",
   "name": "python",
   "nbconvert_exporter": "python",
   "pygments_lexer": "ipython3",
   "version": "3.8.8"
  }
 },
 "nbformat": 4,
 "nbformat_minor": 2
}
