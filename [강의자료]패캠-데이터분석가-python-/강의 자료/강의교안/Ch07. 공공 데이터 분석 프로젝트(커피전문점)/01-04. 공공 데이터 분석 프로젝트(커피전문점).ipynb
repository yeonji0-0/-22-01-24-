{
 "cells": [
  {
   "cell_type": "markdown",
   "metadata": {},
   "source": [
    "## 공공데이터를 이용한 카페 상권분석(2020 Ver.)\n",
    "\n",
    "\n",
    "**들어가며**\n",
    "\n",
    "- 공공데이터를 통해 대한민국을 이해해봅시다(?).\n",
    "- 공공데이터포털(data.go.kr)에 다양한 데이터가 공개되어 있습니다.\n",
    "- 그 중에 카페(라는 업종분류)들에 대해서 현황을 조사하려고 합니다.\n",
    "\n",
    "**명세사항**\n",
    "1. 전국 카페 데이터를 모두 수집해야합니다.\n",
    "2. 지역별 or 브랜드별 점포 현황을 확인합니다.\n",
    "3. 분석 결과를 시각화합니다. \n",
    "\n",
    "\n",
    "\n",
    "[데이터] https://www.data.go.kr/data/15012005/fileData.do"
   ]
  },
  {
   "cell_type": "code",
   "execution_count": null,
   "metadata": {},
   "outputs": [],
   "source": [
    "# 라이브러리를 불러옵니다.\n"
   ]
  },
  {
   "cell_type": "markdown",
   "metadata": {},
   "source": [
    "## 1. 데이터 불러오기"
   ]
  },
  {
   "cell_type": "code",
   "execution_count": null,
   "metadata": {
    "scrolled": false
   },
   "outputs": [],
   "source": [
    "# 다운로드 받은 데이터중 일부를 열어봅니다.\n"
   ]
  },
  {
   "cell_type": "code",
   "execution_count": null,
   "metadata": {},
   "outputs": [],
   "source": [
    "# data 폴더에 있는 모든 csv 파일을 읽어오기 위해 glob을 사용합니다.\n",
    "\n",
    "\n",
    "# csv 목록 불러오기\n",
    "\n",
    "# 모든 csv 병합하기\n",
    "\n",
    "# reset index\n"
   ]
  },
  {
   "cell_type": "code",
   "execution_count": null,
   "metadata": {},
   "outputs": [],
   "source": [
    "# 분석에 필요한 column을 고릅니다. ## 자유롭게 하셔도 상관없습니다.\n"
   ]
  },
  {
   "cell_type": "code",
   "execution_count": null,
   "metadata": {},
   "outputs": [],
   "source": [
    "# 메모리 낭비를 막기 위해 필요없는 변수는 제거합니다.\n"
   ]
  },
  {
   "cell_type": "markdown",
   "metadata": {},
   "source": [
    "## 2. 데이터 구경하기"
   ]
  },
  {
   "cell_type": "markdown",
   "metadata": {},
   "source": [
    "#### 전국 커피 전문점 "
   ]
  },
  {
   "cell_type": "code",
   "execution_count": null,
   "metadata": {},
   "outputs": [],
   "source": [
    "# 카페만 뽑아냅니다.\n",
    "df_coffee = \n",
    "# index를 다시 세팅합니다.\n",
    "\n",
    "print(\"전국 커피 전문점 점포 수 : \", len(df_coffee))\n",
    "df_coffee.head()"
   ]
  },
  {
   "cell_type": "markdown",
   "metadata": {},
   "source": [
    "#### 서울내 커피 전문점 "
   ]
  },
  {
   "cell_type": "code",
   "execution_count": null,
   "metadata": {},
   "outputs": [],
   "source": [
    "# 카페 중에 \"서울\"에 위치하고 있는 점포만 뽑아냅니다.\n",
    "df_seoul_coffee = \n",
    "df_seoul_coffee.index = range(len(df_seoul_coffee))\n",
    "print('서울시 내 커피 전문점 점포 수 :', len(df_seoul_coffee))\n",
    "df_seoul_coffee.head()"
   ]
  },
  {
   "cell_type": "markdown",
   "metadata": {},
   "source": [
    "#### 전국 스타벅스"
   ]
  },
  {
   "cell_type": "code",
   "execution_count": null,
   "metadata": {},
   "outputs": [],
   "source": [
    "# 이번엔 전국에 있는 스타벅스를 뽑아냅니다.\n",
    "df_starbucks = \n",
    "df_starbucks.index = range(len(df_starbucks))\n",
    "print('전국 스타벅스 점포 수 :', len(df_starbucks))\n",
    "df_starbucks.head()"
   ]
  },
  {
   "cell_type": "markdown",
   "metadata": {},
   "source": [
    "#### 서울 스타벅스"
   ]
  },
  {
   "cell_type": "code",
   "execution_count": null,
   "metadata": {},
   "outputs": [],
   "source": [
    "# 이번엔 서울에 있는 스타벅스를 뽑아냅니다.\n",
    "df_seoul_starbucks = \n",
    "df_seoul_starbucks.index = range(len(df_seoul_starbucks))\n",
    "print('서울시 내 스타벅스 점포 수 :', len(df_seoul_starbucks))\n",
    "df_seoul_starbucks.head()"
   ]
  },
  {
   "cell_type": "markdown",
   "metadata": {},
   "source": [
    "#### 전국 이디야"
   ]
  },
  {
   "cell_type": "code",
   "execution_count": null,
   "metadata": {},
   "outputs": [],
   "source": []
  },
  {
   "cell_type": "markdown",
   "metadata": {},
   "source": [
    "#### 서울 이디야"
   ]
  },
  {
   "cell_type": "code",
   "execution_count": null,
   "metadata": {},
   "outputs": [],
   "source": []
  },
  {
   "cell_type": "markdown",
   "metadata": {},
   "source": [
    "#### 전국 커피빈 "
   ]
  },
  {
   "cell_type": "code",
   "execution_count": null,
   "metadata": {},
   "outputs": [],
   "source": []
  },
  {
   "cell_type": "markdown",
   "metadata": {},
   "source": [
    "#### 서울 커피빈 "
   ]
  },
  {
   "cell_type": "code",
   "execution_count": null,
   "metadata": {},
   "outputs": [],
   "source": []
  },
  {
   "cell_type": "markdown",
   "metadata": {},
   "source": [
    "#### 전국 투썸 "
   ]
  },
  {
   "cell_type": "code",
   "execution_count": null,
   "metadata": {},
   "outputs": [],
   "source": []
  },
  {
   "cell_type": "markdown",
   "metadata": {},
   "source": [
    "#### 서울 투썸 "
   ]
  },
  {
   "cell_type": "code",
   "execution_count": null,
   "metadata": {},
   "outputs": [],
   "source": []
  },
  {
   "cell_type": "markdown",
   "metadata": {},
   "source": [
    "#### 전국 빽다방 "
   ]
  },
  {
   "cell_type": "code",
   "execution_count": null,
   "metadata": {},
   "outputs": [],
   "source": []
  },
  {
   "cell_type": "markdown",
   "metadata": {},
   "source": [
    "#### 서울 빽다방 "
   ]
  },
  {
   "cell_type": "code",
   "execution_count": null,
   "metadata": {},
   "outputs": [],
   "source": []
  },
  {
   "cell_type": "markdown",
   "metadata": {},
   "source": [
    "#### 전국 할리스 "
   ]
  },
  {
   "cell_type": "code",
   "execution_count": null,
   "metadata": {},
   "outputs": [],
   "source": []
  },
  {
   "cell_type": "markdown",
   "metadata": {},
   "source": [
    "#### 서울 할리스 "
   ]
  },
  {
   "cell_type": "code",
   "execution_count": null,
   "metadata": {},
   "outputs": [],
   "source": []
  },
  {
   "cell_type": "markdown",
   "metadata": {},
   "source": [
    "#### 전국 메가커피"
   ]
  },
  {
   "cell_type": "code",
   "execution_count": null,
   "metadata": {},
   "outputs": [],
   "source": []
  },
  {
   "cell_type": "markdown",
   "metadata": {},
   "source": [
    "#### 서울 메가커피 "
   ]
  },
  {
   "cell_type": "code",
   "execution_count": null,
   "metadata": {},
   "outputs": [],
   "source": []
  },
  {
   "cell_type": "markdown",
   "metadata": {},
   "source": [
    "## 3. 커피전문점 별 비율 비교하기 (주요 브랜드 위주로)"
   ]
  },
  {
   "cell_type": "markdown",
   "metadata": {},
   "source": [
    "**2020년 12월 기준 커피전문점 평판 순위**\n",
    "\n",
    "\n",
    "(source : https://www.futurekorea.co.kr/news/articleView.html?idxno=125637)"
   ]
  },
  {
   "cell_type": "markdown",
   "metadata": {},
   "source": [
    "1. 스타벅스\n",
    "2. 투썸플레이스\n",
    "3. 이디야\n",
    "4. 메가커피\n",
    "5. 커피빈"
   ]
  },
  {
   "cell_type": "markdown",
   "metadata": {},
   "source": [
    "**변수**\n",
    "\n",
    "- 전체 점포 : data\n",
    "- 전체/서울 커피전문점 : df_coffee / df_seoul_starbucks\n",
    "\n",
    "\n",
    "\n",
    "- 전체/서울 스타벅스 : df_starbucks / df_seoul_starbucks\n",
    "- 전체/서울 이디야 : df_ediya / df_seoul_ediya\n",
    "- 전체/서울 커피빈 : df_coffeebean / df_seoul_coffeebean\n",
    "- 전체/서울 투썸플레이스 : df_2some / df_seoul_2some\n",
    "- 전체/서울 빽다방 : df_bbaek / df_seoul_bbaek\n",
    "- 전체/서울 할리스 : df_hollys / df_seoul_hollys\n",
    "- 전체/서울 메가커피 : df_mega / df_seoul_mega"
   ]
  },
  {
   "cell_type": "markdown",
   "metadata": {},
   "source": [
    "### 1) 전체 커피전문점 내 주요 커피브랜드 입점 비율 "
   ]
  },
  {
   "cell_type": "code",
   "execution_count": null,
   "metadata": {},
   "outputs": [],
   "source": [
    "print(\"**** 전국 커피전문점중 주요 5대 커피브랜드 입점 비율 ****\")\n",
    "print(\"주요 5대 커피브랜드 전국 입점 비율 : %.3f%%\")\n",
    "print(\"1. 스타벅스 : %.3f%%\" % )\n",
    "print(\"2. 투썸플레이스 : %.3f%%\" % )\n",
    "print(\"3. 이디야 : %.3f%%\" % )\n",
    "print(\"4. 메가커피 : %.3f%%\" % )\n",
    "print(\"5. 커피빈 : %.3f%%\" % )"
   ]
  },
  {
   "cell_type": "markdown",
   "metadata": {},
   "source": [
    "### 2) 서울 커피전문점 내 주요 커피브랜드 입점 비율 "
   ]
  },
  {
   "cell_type": "code",
   "execution_count": null,
   "metadata": {},
   "outputs": [],
   "source": [
    "print(\"스타벅스 : %.3f%%\" % )\n",
    "print(\"이디야 : %.3f%%\" % )\n",
    "print(\"커피빈 : %.3f%%\" % )\n",
    "print(\"투썸플레이스 : %.3f%%\" % )\n",
    "print(\"빽다방 : %.3f%%\" % )\n",
    "print(\"할리스 : %.3f%%\" % )\n",
    "print(\"메가커피 : %.3f%%\" % )"
   ]
  },
  {
   "cell_type": "markdown",
   "metadata": {},
   "source": [
    "### 3) 각 커피브랜드별 서울 입점 비율 "
   ]
  },
  {
   "cell_type": "code",
   "execution_count": null,
   "metadata": {},
   "outputs": [],
   "source": [
    "print(\"**** 주요 5대 커피브랜드별 서울 입점 비율 ****\")\n",
    "print(\"1. 스타벅스 : %.3f%%\" % )\n",
    "print(\"2. 투썸플레이스 : %.3f%%\" % )\n",
    "print(\"3. 이디야 : %.3f%%\" % )\n",
    "print(\"4. 메가커피 : %.3f%%\" % )\n",
    "print(\"5. 커피빈 : %.3f%%\" % )"
   ]
  },
  {
   "cell_type": "code",
   "execution_count": null,
   "metadata": {
    "scrolled": false
   },
   "outputs": [],
   "source": [
    "# 각 구별로 스타벅스가 얼마나 있는지 확인합니다.\n",
    "starbucks_gu = df_seoul_starbucks.groupby('시군구명')['상호명'].count().to_frame().sort_values(by='상호명', ascending=False)\n",
    "starbucks_gu = starbucks_gu.reset_index()\n",
    "starbucks_gu = starbucks_gu.set_index('시군구명')\n",
    "starbucks_gu"
   ]
  },
  {
   "cell_type": "code",
   "execution_count": null,
   "metadata": {},
   "outputs": [],
   "source": [
    "# 시각화를 위한 라이브러리를 불러옵니다.\n",
    "import seaborn as sns\n",
    "import matplotlib.pyplot as plt\n",
    "import platform\n",
    "\n",
    "from matplotlib import font_manager, rc\n",
    "%matplotlib inline"
   ]
  },
  {
   "cell_type": "code",
   "execution_count": null,
   "metadata": {},
   "outputs": [],
   "source": [
    "#### Windows10 사용자는 해당 코드가 필요없습니다!\n",
    "\n",
    "# macos에서 사용가능한 한글 글꼴 확인 코드\n",
    "[f.name for f in font_manager.fontManager.ttflist if 'Neo' in f.name]"
   ]
  },
  {
   "cell_type": "code",
   "execution_count": null,
   "metadata": {},
   "outputs": [],
   "source": [
    "## 운영체제별 글꼴 세팅\n",
    "\n",
    "path = \"c:/Windows/Fonts/malgun.ttf\"\n",
    "if platform.system() == 'Darwin':\n",
    "    font_name = 'Apple SD Gothic Neo'\n",
    "    rc('font', family='Apple SD Gothic Neo')\n",
    "elif platform.system() == 'Windows':\n",
    "    font_name = font_manager.FontProperties(fname=path).get_name()\n",
    "    rc('font', family=font_name)\n",
    "else:\n",
    "    font_name = font_manager.FontProperties(fname=\"/usr/share/fonts/nanumfont/NanumGothic.ttf\")\n",
    "    rc('font', family=\"NanumGothic\")"
   ]
  },
  {
   "cell_type": "code",
   "execution_count": null,
   "metadata": {},
   "outputs": [],
   "source": [
    "# 주요 5대 커피브랜드 서울 입점 비율을 시각화합니다.\n"
   ]
  },
  {
   "cell_type": "markdown",
   "metadata": {},
   "source": [
    "### (Challenge) More Prettier!"
   ]
  },
  {
   "cell_type": "code",
   "execution_count": null,
   "metadata": {},
   "outputs": [],
   "source": [
    "# 위의 barplot을 seaborn을 이용하여 더욱 멋지게 시각화해보세요!"
   ]
  }
 ],
 "metadata": {
  "kernelspec": {
   "display_name": "Python 3",
   "language": "python",
   "name": "python3"
  },
  "language_info": {
   "codemirror_mode": {
    "name": "ipython",
    "version": 3
   },
   "file_extension": ".py",
   "mimetype": "text/x-python",
   "name": "python",
   "nbconvert_exporter": "python",
   "pygments_lexer": "ipython3",
   "version": "3.8.8"
  }
 },
 "nbformat": 4,
 "nbformat_minor": 4
}
