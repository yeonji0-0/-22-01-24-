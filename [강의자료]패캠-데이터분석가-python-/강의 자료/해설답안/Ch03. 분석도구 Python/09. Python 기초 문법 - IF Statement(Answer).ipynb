{
 "cells": [
  {
   "cell_type": "markdown",
   "metadata": {},
   "source": [
    "## Control Statement : Conditional Statement (IF)"
   ]
  },
  {
   "cell_type": "markdown",
   "metadata": {},
   "source": [
    "![control_statement](../images/python/what_is_lunch.png)\n",
    "\n",
    "Source : http://m.newsway.co.kr/news/view?tp=1&ud=2019111308195810833"
   ]
  },
  {
   "cell_type": "markdown",
   "metadata": {},
   "source": [
    "![control_statement](../images/python/lunch_menu.png)\n",
    "\n",
    "Source : https://derek1232.tistory.com/28"
   ]
  },
  {
   "cell_type": "markdown",
   "metadata": {},
   "source": [
    "## Control statement란?\n",
    "\n",
    "- 프로그램의 흐름을 제어하는 명령어를 말한다.\n",
    "> 프로그램의 흐름 = 컴퓨터가 어떤 일을 해야하는지에 대한 과정.\n",
    "\n",
    "- 조건과 반복에 따라서 프로그램의 진행 과정이 바뀌게 된다.\n",
    "> 프로그램은 조건과 반복의 나열이다.\n",
    "\n",
    "- 조건(Conditional Statement)로는 if문이 있다.\n",
    "> if, elif, else\n",
    "\n",
    "\n",
    "- 반복(Iterative Statement)로는 while, for문이 있다.\n",
    "> while, for\n",
    "\n",
    "- 사실상 프로그래밍이란 데이터를 사용자가 원하는대로 제어하여 원하는 결과를 내는 과정을 얘기한다."
   ]
  },
  {
   "cell_type": "markdown",
   "metadata": {},
   "source": [
    "## 3.1 If statement (조건문)"
   ]
  },
  {
   "cell_type": "markdown",
   "metadata": {},
   "source": [
    "- 프로그램에서 가장 중요한 조건 판단이다.\n",
    "\n",
    "\n",
    "- 모든 프로그램은 조건을 판단하여 다음 진행 과정을 결정한다.\n",
    "\n",
    "\n",
    "- 파이썬은 if, elif, else 구문을 이용하여 조건을 사용할 수 있다."
   ]
  },
  {
   "cell_type": "markdown",
   "metadata": {},
   "source": [
    "> 간단한 예시를 생각해보자. **자판기에 들어갈 프로그램을 만들어야 한다.** 자판기에 입력된 돈이 300원이면 커피를 주고, 300원보다 적은 경우엔 돈을 그냥 돌려주고, 300원보다 많은 경우에는 커피와 함께 거스름돈을 주어야 한다. 이를 어떻게 구현할 수 있을까?"
   ]
  },
  {
   "cell_type": "markdown",
   "metadata": {},
   "source": [
    "- 파이썬에서 if문을 사용하는 방법"
   ]
  },
  {
   "cell_type": "code",
   "execution_count": 4,
   "metadata": {},
   "outputs": [
    {
     "name": "stdout",
     "output_type": "stream",
     "text": [
      "True\n",
      "False\n"
     ]
    }
   ],
   "source": [
    "a = 5\n",
    "# a가 5인데, a가 5와 같으면, True를 출력하고 싶다.\n",
    "if a == 5:\n",
    "    print(\"True\")\n",
    "print(\"False\")"
   ]
  },
  {
   "cell_type": "markdown",
   "metadata": {},
   "source": [
    "> 조건문을 사용하기 위해선, 비교연산과 논리연산을 알아야 한다."
   ]
  },
  {
   "cell_type": "code",
   "execution_count": null,
   "metadata": {},
   "outputs": [],
   "source": [
    "# 같다, 다르다, 크다, 작다, 크거나 같다, 작거나 같다\n",
    "a == b, a != b, a > b, a < b, a >= b, a <= b # 비교 연산"
   ]
  },
  {
   "cell_type": "code",
   "execution_count": null,
   "metadata": {},
   "outputs": [],
   "source": [
    "# A and B\n",
    "a and b # a와 b가 둘다 만족\n",
    "# A or B\n",
    "a or b # a와 b 중에 하나 이상 만족\n",
    "# not A\n",
    "not a # a가 아닌 것."
   ]
  },
  {
   "cell_type": "markdown",
   "metadata": {},
   "source": [
    "> 비교연산과 논리연산의 공통점은 결과가 참(True) 또는 거짓(False)라는 것이다."
   ]
  },
  {
   "cell_type": "markdown",
   "metadata": {},
   "source": [
    "#### 자판기를 만들어보자."
   ]
  },
  {
   "cell_type": "markdown",
   "metadata": {},
   "source": [
    "> *REMIND*\n",
    "\n",
    "> **자판기에 들어갈 프로그램을 만들어야 한다.** 자판기에 입력된 돈이 300원이면 커피를 주고, 300원보다 적은 경우엔 돈을 그냥 돌려주고, 300원보다 많은 경우에는 커피와 함께 거스름돈을 주어야 한다. 이를 어떻게 구현할 수 있을까?"
   ]
  },
  {
   "cell_type": "code",
   "execution_count": 5,
   "metadata": {},
   "outputs": [
    {
     "name": "stdout",
     "output_type": "stream",
     "text": [
      "Coffee\n"
     ]
    }
   ],
   "source": [
    "money = 300\n",
    "# 돈이 300원인데, 돈이 300원이랑 같으면 coffee를 준다.\n",
    "if money == 300:\n",
    "    print(\"Coffee\")"
   ]
  },
  {
   "cell_type": "code",
   "execution_count": 6,
   "metadata": {},
   "outputs": [
    {
     "name": "stdout",
     "output_type": "stream",
     "text": [
      "200원을 돌려줍니다.\n"
     ]
    }
   ],
   "source": [
    "money = 200\n",
    "# 돈이 200원 있다. 그러면 어떻게 해야할까?\n",
    "if money < 300:\n",
    "    print(\"%d원을 돌려줍니다.\" % money)"
   ]
  },
  {
   "cell_type": "code",
   "execution_count": 7,
   "metadata": {},
   "outputs": [
    {
     "name": "stdout",
     "output_type": "stream",
     "text": [
      "Coffee\n",
      "700원을 돌려줍니다.\n"
     ]
    }
   ],
   "source": [
    "money = 1000\n",
    "# 돈이 1000원이 있는 경우에는?\n",
    "if money > 300:\n",
    "    print(\"Coffee\")\n",
    "    print(\"%d원을 돌려줍니다.\" % (money - 300))"
   ]
  },
  {
   "cell_type": "markdown",
   "metadata": {},
   "source": [
    "#### 자판기 코드 다시 생각해보기\n",
    "\n",
    "> if문에는 if가 아닌 경우에 해당하는 조건을 체크할 수 있는 elif(else if) 구문이 있다.\n",
    "\n",
    "> 모든 if, elif 조건에 체크되지 않는 나머지 경우를 처리하는 else 구문도 있다.\n",
    "\n",
    "**이를 자판기 예제에 다시 적용해보자.**"
   ]
  },
  {
   "cell_type": "code",
   "execution_count": 12,
   "metadata": {},
   "outputs": [
    {
     "name": "stdout",
     "output_type": "stream",
     "text": [
      "Coffee\n",
      "400원을 돌려줍니다.\n"
     ]
    }
   ],
   "source": [
    "money = 700\n",
    "# 돈이 300원인데, 돈이 300원이랑 같으면 coffee를 준다.\n",
    "if money == 300:\n",
    "    print(\"Coffee\")\n",
    "elif money < 300:\n",
    "    print(\"%d원을 돌려줍니다.\" % money)\n",
    "else:\n",
    "    print(\"Coffee\")\n",
    "    print(\"%d원을 돌려줍니다.\" % (money - 300))"
   ]
  },
  {
   "cell_type": "markdown",
   "metadata": {},
   "source": [
    "#### if-elif-else 말고 nested 구조를 이용해 작성해보자. "
   ]
  },
  {
   "cell_type": "code",
   "execution_count": 15,
   "metadata": {},
   "outputs": [
    {
     "name": "stdout",
     "output_type": "stream",
     "text": [
      "150원을 돌려줍니다.\n"
     ]
    }
   ],
   "source": [
    "money = 150\n",
    "if money == 300:\n",
    "    print(\"Coffee\")\n",
    "else:\n",
    "    if money < 300:\n",
    "        print(\"%d원을 돌려줍니다.\" % money)\n",
    "    else:\n",
    "        print(\"Coffee\")\n",
    "        print(\"%d원을 돌려줍니다.\" % (money - 300))"
   ]
  },
  {
   "cell_type": "markdown",
   "metadata": {},
   "source": [
    " "
   ]
  },
  {
   "cell_type": "markdown",
   "metadata": {},
   "source": [
    " "
   ]
  },
  {
   "cell_type": "markdown",
   "metadata": {},
   "source": [
    " "
   ]
  }
 ],
 "metadata": {
  "kernelspec": {
   "display_name": "Python 3",
   "language": "python",
   "name": "python3"
  },
  "language_info": {
   "codemirror_mode": {
    "name": "ipython",
    "version": 3
   },
   "file_extension": ".py",
   "mimetype": "text/x-python",
   "name": "python",
   "nbconvert_exporter": "python",
   "pygments_lexer": "ipython3",
   "version": "3.8.3"
  }
 },
 "nbformat": 4,
 "nbformat_minor": 2
}
