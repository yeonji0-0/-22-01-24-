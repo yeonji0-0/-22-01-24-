{
 "cells": [
  {
   "cell_type": "markdown",
   "metadata": {
    "id": "evofhUlSyF0I"
   },
   "source": [
    "# 3-13. Function"
   ]
  },
  {
   "cell_type": "markdown",
   "metadata": {
    "id": "xniOaEG2yF0O"
   },
   "source": [
    "![function](https://drive.google.com/uc?id=1cWvEs5dPVmqD1V7cAyUuI50iHsOpbNAk)"
   ]
  },
  {
   "cell_type": "markdown",
   "metadata": {
    "id": "asH4-Ll7yF0P"
   },
   "source": [
    "## Function이란?\n",
    "\n",
    "**수학적인 의미의 함수와 개념은 비슷하지만 역할이 다르다.**\n",
    "\n",
    "\n",
    "- input이 들어와서 output이 정해진 규칙에 따라 나온다는 개념은 같지만, 프로그램에서의 하나의 함수는 **하나의 기능**을 나타낸다.\n",
    "> 하나의 기능 : 입력받은 2개의 숫자를 더한다, 들어온 텍스트를 정제한다, 받은 이미지를 greyscale로 변경한다..\n",
    "\n",
    "\n",
    "- 정확하게 함수는 특정 기능을 구현한 **코드 묶음**이다.\n",
    "> 하나의 기능을 구현하기 위한 코드들을 함수라고 부른다.\n",
    "\n",
    "\n",
    "- def 함수이름(param1, param2, ... ):\n",
    "        <statement1>\n",
    "        <statement2>\n",
    "      return\n",
    "\n",
    "\n",
    "- 함수를 쓰는 이유는 **재사용성** 때문이다."
   ]
  },
  {
   "cell_type": "markdown",
   "metadata": {
    "id": "sh1ZNG2GyF0P"
   },
   "source": [
    "> 함수를 사용하는 가장 중요한 이유는 재사용성 때문이다. Reusability라고 하며, ***똑같은 구조의 코드가 반복되는 것을 피하기 위해 사용***된다. 똑같은 구조의 코드는 보통 한 가지의 기능 단위로 묶이게 되며, 이 기능 단위를 코드로 묶어서 함수로 만든다."
   ]
  },
  {
   "cell_type": "markdown",
   "metadata": {
    "id": "8fPSbSXzyF0Q"
   },
   "source": [
    "## Python Function Definition"
   ]
  },
  {
   "cell_type": "code",
   "execution_count": 2,
   "metadata": {
    "id": "tB-3gkTGyF0Q"
   },
   "outputs": [
    {
     "data": {
      "text/plain": [
       "21"
      ]
     },
     "execution_count": 2,
     "metadata": {},
     "output_type": "execute_result"
    }
   ],
   "source": [
    "def add(a, b):\n",
    "    # 입력받은 a, b를 더한 값을 돌려주는 함수.\n",
    "    c = a + b\n",
    "    return c\n",
    "\n",
    "add(10, 11)"
   ]
  },
  {
   "cell_type": "markdown",
   "metadata": {
    "id": "gY3l8oWLyF0R"
   },
   "source": [
    "- 정확한 용어 구분은 중요하지만, 보통은 parameter라고 총칭한다. 크게 중요하진 않다."
   ]
  },
  {
   "cell_type": "markdown",
   "metadata": {
    "id": "8yTnxs3ByF0R"
   },
   "source": [
    "#### 기억해야 할 것은, input --- (Function) ----> output 의 구조이며, 이 때 어떤 input parameter가 들어가서, 어떤 ouput parameter가 나오는지 주목해야한다."
   ]
  },
  {
   "cell_type": "markdown",
   "metadata": {
    "id": "cMW-5h7OyF0R"
   },
   "source": [
    "#### 연습삼아, 사칙연산을 모두 함수로 만들어보자."
   ]
  },
  {
   "cell_type": "code",
   "execution_count": 7,
   "metadata": {
    "id": "BGO2MfZbyF0S"
   },
   "outputs": [],
   "source": [
    "def sub(a, b):\n",
    "    c = a - b\n",
    "    return c\n",
    "\n",
    "def mul(a, b):\n",
    "    return a * b\n",
    "\n",
    "def div(a, b):\n",
    "    if b == 0:\n",
    "        return 0\n",
    "    return a / b"
   ]
  },
  {
   "cell_type": "code",
   "execution_count": 8,
   "metadata": {
    "id": "zovF1fZTyF0S"
   },
   "outputs": [
    {
     "name": "stdout",
     "output_type": "stream",
     "text": [
      "Sub :  10\n",
      "Mul :  0\n",
      "Div :  0\n"
     ]
    }
   ],
   "source": [
    "a = 10\n",
    "b = 0\n",
    "print(\"Sub : \", sub(a, b))\n",
    "print(\"Mul : \", mul(a, b))\n",
    "print(\"Div : \", div(a, b))"
   ]
  },
  {
   "cell_type": "markdown",
   "metadata": {
    "id": "e1-9IBVW4k65"
   },
   "source": [
    "### 함수 정의의 다양한 형태를 연습해보자!"
   ]
  },
  {
   "cell_type": "markdown",
   "metadata": {
    "id": "Qz8sWqk94su9"
   },
   "source": [
    "#### 1. 가장 흔하게 사용되는 경우 -> 함수 parameter와 return이 모두 존재하는 경우."
   ]
  },
  {
   "cell_type": "code",
   "execution_count": null,
   "metadata": {
    "id": "lD9J7z5H4g9C"
   },
   "outputs": [],
   "source": [
    "def add(a, b):\n",
    "    return a + b\n",
    "\n",
    "def get_loss(model, metric):\n",
    "    ...\n",
    "    ...\n",
    "    ...\n",
    "    return model.predict(result, metric=[metric])"
   ]
  },
  {
   "cell_type": "markdown",
   "metadata": {
    "id": "m9OcUVVw41z_"
   },
   "source": [
    "#### 2. 함수 parameter는 없고 return이 존재하는 경우."
   ]
  },
  {
   "cell_type": "code",
   "execution_count": null,
   "metadata": {
    "id": "iXFA9fXX465J"
   },
   "outputs": [],
   "source": [
    "def get_data():\n",
    "    data = pd.read_csv(\"test.csv\")\n",
    "    return data"
   ]
  },
  {
   "cell_type": "markdown",
   "metadata": {
    "id": "6qJLyvYx46gF"
   },
   "source": [
    "#### 3. 함수 parameter는 있는데 return이 없는 경우."
   ]
  },
  {
   "cell_type": "code",
   "execution_count": null,
   "metadata": {
    "id": "64MV2yDF4-jA"
   },
   "outputs": [],
   "source": [
    "def print_name(name):\n",
    "    print(name)\n",
    "    \n",
    "def save_data(path, data):\n",
    "    data.to_csv(path)"
   ]
  },
  {
   "cell_type": "markdown",
   "metadata": {
    "id": "aaePVAX_4_Ku"
   },
   "source": [
    "#### 4. 함수 parameter도 없고 return도 없는 경우."
   ]
  },
  {
   "cell_type": "code",
   "execution_count": null,
   "metadata": {
    "id": "vyihU5Zw5CJL"
   },
   "outputs": [],
   "source": [
    "def say_hi():\n",
    "    print(\"Hi!\")\n",
    "    \n",
    "def save_txt():\n",
    "    with open(\"test.txt\", 'w') as f:\n",
    "        f.write(txt)"
   ]
  },
  {
   "cell_type": "markdown",
   "metadata": {
    "id": "lqCawSAlyF0S"
   },
   "source": [
    "#### Q. 만약에 함수의 입력 parameter의 개수를 모를땐 어떻게 해야할까?"
   ]
  },
  {
   "cell_type": "code",
   "execution_count": 14,
   "metadata": {
    "id": "yFsI7D5fyF0S"
   },
   "outputs": [
    {
     "data": {
      "text/plain": [
       "6"
      ]
     },
     "execution_count": 14,
     "metadata": {},
     "output_type": "execute_result"
    }
   ],
   "source": [
    "def add_many(*args): # *(asterisk)를 앞에 붙이는 것으로 여러개의 parameter를 받아서 tuple로 변환하여 준다.   \n",
    "    #print(args, type(args))\n",
    "    total = 0\n",
    "    for num in args:\n",
    "        total += num\n",
    "\n",
    "    return total\n",
    "    \n",
    "add_many(1, 2, 3)"
   ]
  },
  {
   "cell_type": "markdown",
   "metadata": {
    "id": "S9rEciM-yF0T"
   },
   "source": [
    "#### Q. 만약에 parameter가 너무 많아서 몇 개만 입력 parameter로 넣고 싶을 땐 어떻게 해야할까?\n",
    "\n",
    "> 아래는 scikit-learn 라이브러리에 있는 logistic regression 모델의 __init__ 함수 코드이다.\n",
    "\n",
    "> parameter가 너무 많아서, 다 외울수도 없다. 이럴 땐 default parameter를 지정해놓고, 필요한 parameter만 입력받는다.\n",
    "\n",
    "\n",
    "-- 이렇게 정의되는 함수의 parameter를 **keyword parameter** 라고 한다."
   ]
  },
  {
   "cell_type": "code",
   "execution_count": 19,
   "metadata": {},
   "outputs": [
    {
     "data": {
      "text/plain": [
       "15"
      ]
     },
     "execution_count": 19,
     "metadata": {},
     "output_type": "execute_result"
    }
   ],
   "source": [
    "def default_add10(a, b=10):\n",
    "    return a + b\n",
    "\n",
    "default_add10(5)"
   ]
  },
  {
   "cell_type": "markdown",
   "metadata": {
    "id": "ovM9tNK_yF0T"
   },
   "source": [
    "![linear_regression](https://drive.google.com/uc?id=1zSGj9LN7ArY19vgtsiiDawfxSQY8uUxD)"
   ]
  },
  {
   "cell_type": "markdown",
   "metadata": {
    "id": "h7Z72wjwyF0T"
   },
   "source": [
    "#### Q. 코드를 작성할 때, 언제 이 부분은 함수로 구현해야겠다 라고 판단할 수 있을까?\n",
    "\n",
    "***A. 똑같은 코드가 2번 이상 반복될 때.***"
   ]
  },
  {
   "cell_type": "markdown",
   "metadata": {
    "id": "_IreDkFq8Qmm"
   },
   "source": [
    "### 파라미터에 대해 조금 더 알아봅시다!\n",
    "\n",
    "- 함수에서 사용되는 변수들에게는 효력 범위와 수명이 있습니다.\n",
    "> 효력 범위 : range, 수명 : lifetime"
   ]
  },
  {
   "cell_type": "markdown",
   "metadata": {
    "id": "w9x7d_Ka8T13"
   },
   "source": [
    "Q. 만약에 함수의 파라미터 변수 이름과, 함수를 호출하는 argument의 이름이 같은 경우에 어떻게 될까?"
   ]
  },
  {
   "cell_type": "code",
   "execution_count": 23,
   "metadata": {
    "id": "UwgEw1Bd8ljQ"
   },
   "outputs": [
    {
     "name": "stdout",
     "output_type": "stream",
     "text": [
      "in function:  lee\n",
      "kim\n"
     ]
    }
   ],
   "source": [
    "def change_name(name):\n",
    "    # local variable, 지역 변수\n",
    "    name = \"lee\" # local\n",
    "    print(\"in function: \", name)\n",
    "\n",
    "    #return name\n",
    "\n",
    "name = \"kim\" # global\n",
    "#name = change_name(name)\n",
    "change_name(name)\n",
    "print(name)"
   ]
  },
  {
   "cell_type": "markdown",
   "metadata": {
    "id": "3Zv4U8eX6TcF"
   },
   "source": [
    "### Lambda 함수를 사용해보자!\n",
    "> Lambda Expression\n",
    "\n",
    "\n",
    "- 굉장히 간단한 함수가 있는 경우, 한 줄짜리 함수로 간편하게 사용할 수 있다.\n",
    "> inline function, def라고 하는 명령어 없이 간단하게 정의해서 사용할 수 있다.\n",
    "\n",
    "- 이런 함수를 Lambda 함수라고 하며, lambda 함수와 반복문을 통해 함수의 정의없이 다양한 프로그래밍이 가능하다."
   ]
  },
  {
   "cell_type": "code",
   "execution_count": 25,
   "metadata": {
    "id": "FmRItf0AyF0T"
   },
   "outputs": [
    {
     "name": "stdout",
     "output_type": "stream",
     "text": [
      "8\n",
      "8\n"
     ]
    }
   ],
   "source": [
    "def add(a, b):\n",
    "    return a+b\n",
    "\n",
    "def return_length(s):\n",
    "    return len(s)\n",
    "\n",
    "# lambda 함수로 바꾸면?\n",
    "f = lambda a, b: a+b # a, b는 input parameter들, a+b는 return되는 output parameter.\n",
    "print(add(3, 5))\n",
    "print(f(3, 5))"
   ]
  },
  {
   "cell_type": "markdown",
   "metadata": {
    "id": "T0HEotn27r2q"
   },
   "source": [
    "Q. 아래 리스트의 원소들을 원소들의 길이에 따라 정렬하고 싶은 경우엔 어떻게 해야할까?"
   ]
  },
  {
   "cell_type": "code",
   "execution_count": 27,
   "metadata": {
    "id": "6sjA5fGS7Mnt"
   },
   "outputs": [
    {
     "data": {
      "text/plain": [
       "['kim', 'yoon', 'jeong', 'jessica']"
      ]
     },
     "execution_count": 27,
     "metadata": {},
     "output_type": "execute_result"
    }
   ],
   "source": [
    "strings = ['yoon', 'kim', 'jessica', 'jeong']\n",
    "#strings.sort() # alphabetical order로 정렬됩니다. 사전순 정렬.\n",
    "strings.sort(key=lambda s:len(s))\n",
    "strings"
   ]
  },
  {
   "cell_type": "markdown",
   "metadata": {
    "id": "GvCZhie08EHf"
   },
   "source": [
    "### 파이썬에 이미 정의되어 있는 함수들을 사용해보자!"
   ]
  },
  {
   "cell_type": "code",
   "execution_count": 31,
   "metadata": {
    "id": "ET9pXhE98ILc"
   },
   "outputs": [
    {
     "name": "stdout",
     "output_type": "stream",
     "text": [
      "3\n",
      "4\n",
      "3\n",
      "0.8414709848078965\n",
      "0.5403023058681398\n"
     ]
    }
   ],
   "source": [
    "# 수학 계산을 해봅시다.\n",
    "import math\n",
    "# 절대값, 올림, 내림\n",
    "print(abs(-3))\n",
    "print(math.ceil(3.5))\n",
    "print(math.floor(3.3))\n",
    "# sin, cos\n",
    "print(math.sin(1))\n",
    "print(math.cos(1))"
   ]
  },
  {
   "cell_type": "code",
   "execution_count": 32,
   "metadata": {
    "id": "81O3IP-v9OK-"
   },
   "outputs": [
    {
     "data": {
      "text/plain": [
       "[25, 5, 42, 8, 14, 11, 20]"
      ]
     },
     "execution_count": 32,
     "metadata": {},
     "output_type": "execute_result"
    }
   ],
   "source": [
    "# 복권 숫자를 만들어봅시다.\n",
    "import random\n",
    "random.sample(range(1, 46), 7)"
   ]
  },
  {
   "cell_type": "code",
   "execution_count": 37,
   "metadata": {
    "id": "OEN5T0gj9T4l"
   },
   "outputs": [
    {
     "data": {
      "text/plain": [
       "OrderedDict([('z', 26), ('a', 1), ('c', 3), ('d', 5), ('j', 14), ('b', 2)])"
      ]
     },
     "execution_count": 37,
     "metadata": {},
     "output_type": "execute_result"
    }
   ],
   "source": [
    "# 다양한 사전들을 써봅시다.\n",
    "from collections import defaultdict\n",
    "from collections import OrderedDict\n",
    "\n",
    "D = defaultdict(int)\n",
    "D2 = OrderedDict()\n",
    "D2['z'] = 26\n",
    "D2['a'] = 1\n",
    "D2['c'] = 3\n",
    "D2['d'] = 5\n",
    "D2['j'] = 14\n",
    "D2['b'] = 2\n",
    "D2"
   ]
  },
  {
   "cell_type": "code",
   "execution_count": null,
   "metadata": {},
   "outputs": [],
   "source": []
  }
 ],
 "metadata": {
  "colab": {
   "collapsed_sections": [],
   "name": "06. Function 기초.ipynb",
   "provenance": []
  },
  "kernelspec": {
   "display_name": "Python 3",
   "language": "python",
   "name": "python3"
  },
  "language_info": {
   "codemirror_mode": {
    "name": "ipython",
    "version": 3
   },
   "file_extension": ".py",
   "mimetype": "text/x-python",
   "name": "python",
   "nbconvert_exporter": "python",
   "pygments_lexer": "ipython3",
   "version": "3.8.2"
  }
 },
 "nbformat": 4,
 "nbformat_minor": 1
}
