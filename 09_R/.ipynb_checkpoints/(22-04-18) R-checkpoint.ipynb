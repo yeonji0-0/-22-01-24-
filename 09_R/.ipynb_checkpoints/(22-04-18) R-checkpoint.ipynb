{
 "cells": [
  {
   "cell_type": "markdown",
   "id": "e46bdda4",
   "metadata": {},
   "source": [
    "# html"
   ]
  },
  {
   "cell_type": "code",
   "execution_count": 10,
   "id": "d42695d0",
   "metadata": {
    "ExecuteTime": {
     "end_time": "2022-04-18T04:46:29.318961Z",
     "start_time": "2022-04-18T04:46:17.644Z"
    }
   },
   "outputs": [
    {
     "name": "stdout",
     "output_type": "stream",
     "text": [
      "\n",
      "  There is a binary version available but the source version is later:\n",
      "      binary source needs_compilation\n",
      "rvest  1.0.0  1.0.2             FALSE\n",
      "\n"
     ]
    },
    {
     "name": "stderr",
     "output_type": "stream",
     "text": [
      "installing the source package 'rvest'\n",
      "\n"
     ]
    },
    {
     "name": "stdout",
     "output_type": "stream",
     "text": [
      "\n",
      "  There is a binary version available but the source version is later:\n",
      "         binary source needs_compilation\n",
      "magrittr  2.0.1  2.0.3              TRUE\n",
      "\n",
      "  Binaries will be installed\n",
      "package 'magrittr' successfully unpacked and MD5 sums checked\n"
     ]
    },
    {
     "name": "stderr",
     "output_type": "stream",
     "text": [
      "Warning message:\n",
      "\"cannot remove prior installation of package 'magrittr'\"Warning message in file.copy(savedcopy, lib, recursive = TRUE):\n",
      "\"C:\\Users\\MEDICI\\Anaconda3\\Lib\\R\\library\\00LOCK\\magrittr\\libs\\x64\\magrittr.dll를 C:\\Users\\MEDICI\\Anaconda3\\Lib\\R\\library\\magrittr\\libs\\x64\\magrittr.dll로 복사하는데 문제가 발생했습니다: Permission denied\"Warning message:\n",
      "\"restored 'magrittr'\""
     ]
    },
    {
     "name": "stdout",
     "output_type": "stream",
     "text": [
      "\n",
      "The downloaded binary packages are in\n",
      "\tC:\\Users\\MEDICI\\AppData\\Local\\Temp\\RtmpmU38KG\\downloaded_packages\n"
     ]
    }
   ],
   "source": [
    "install.packages('rvest')\n",
    "install.packages('magrittr')"
   ]
  },
  {
   "cell_type": "code",
   "execution_count": 11,
   "id": "0635b613",
   "metadata": {
    "ExecuteTime": {
     "end_time": "2022-04-18T04:46:33.902447Z",
     "start_time": "2022-04-18T04:46:33.775Z"
    }
   },
   "outputs": [
    {
     "name": "stderr",
     "output_type": "stream",
     "text": [
      "Loading required package: rvest\n",
      "Warning message:\n",
      "\"package 'magrittr' was built under R version 3.6.3\""
     ]
    }
   ],
   "source": [
    "require(rvest)\n",
    "library('magrittr')"
   ]
  },
  {
   "cell_type": "code",
   "execution_count": 7,
   "id": "99f4632d",
   "metadata": {},
   "outputs": [],
   "source": [
    "?read_html"
   ]
  },
  {
   "cell_type": "code",
   "execution_count": 8,
   "id": "0b106564",
   "metadata": {},
   "outputs": [
    {
     "data": {
      "text/plain": [
       "{html_document}\n",
       "<html>\n",
       "[1] <body>\\r\\n\\t<h1>테스트1</h1>\\r\\n\\t<h1 class=\"my\">테스트2</h1>\\r\\n\\t<h1 id=\"myh2 ..."
      ]
     },
     "metadata": {},
     "output_type": "display_data"
    }
   ],
   "source": [
    "html = read_html('10_data/a.html',encoding = \"utf-8\")\n",
    "html"
   ]
  },
  {
   "cell_type": "code",
   "execution_count": 10,
   "id": "0327b6e2",
   "metadata": {},
   "outputs": [
    {
     "ename": "ERROR",
     "evalue": "Error in UseMethod(\"open\"): 클래스 \"character\"의 객체에 적용된 'open'에 사용할수 있는 메소드가 없습니다\n",
     "output_type": "error",
     "traceback": [
      "Error in UseMethod(\"open\"): 클래스 \"character\"의 객체에 적용된 'open'에 사용할수 있는 메소드가 없습니다\nTraceback:\n",
      "1. open(\"10_data/a.html\", encoding = \"utf-8\")"
     ]
    }
   ],
   "source": []
  },
  {
   "cell_type": "markdown",
   "id": "f5d9304a",
   "metadata": {},
   "source": [
    "## 태그 선택자(엘리먼트)\n",
    "https://oscarotero.com/jquery/"
   ]
  },
  {
   "cell_type": "code",
   "execution_count": null,
   "id": "771e1895",
   "metadata": {},
   "outputs": [],
   "source": [
    "# html_node( html, 'selector') 첫번째 것\n",
    "# html_nodes( html, 'selector') 첫번째 것"
   ]
  },
  {
   "cell_type": "code",
   "execution_count": null,
   "id": "b4e74331",
   "metadata": {},
   "outputs": [],
   "source": [
    "<html>\n",
    "\n",
    "<body>\n",
    "\t<h1>테스트1</h1>\n",
    "\t<h1 class=\"my\">테스트2</h1>\n",
    "\t<h1 id=\"myh2\">테스트3</h1>\n",
    "\t<h2>테스트3-1</h2>\n",
    "\t<div id=\"mydiv\">\n",
    "\t\t<span class=\"my\">테스트4</span>\n",
    "\t\t<div><span>테스트5</span></div>\n",
    "\t</div>\n",
    "\t<ul class=\"fruit\">\n",
    "\t\t<li>사과</li>\n",
    "\t\t<li>딸기</li>\n",
    "\t\t<li>포도</li>\n",
    "\t</ul>\n",
    "\t<ul class=\"biz\">\n",
    "\t\t<li>회사1</li>\n",
    "\t\t<li>회사2</li>\n",
    "\t\t<li>회사3</li>\n",
    "\t</ul>\n",
    "\t<img src=\"a.jpg\"><br>\n",
    "\t<img src=\"b.jpg\">\n",
    "</body>\n",
    "</html>\n"
   ]
  },
  {
   "cell_type": "code",
   "execution_count": 9,
   "id": "92cd0698",
   "metadata": {},
   "outputs": [
    {
     "data": {
      "text/plain": [
       "{xml_nodeset (3)}\n",
       "[1] <h1>테스트1</h1>\n",
       "[2] <h1 class=\"my\">테스트2</h1>\n",
       "[3] <h1 id=\"myh2\">테스트3</h1>"
      ]
     },
     "metadata": {},
     "output_type": "display_data"
    }
   ],
   "source": [
    "html_nodes(html, 'h1')"
   ]
  },
  {
   "cell_type": "code",
   "execution_count": 12,
   "id": "09448917",
   "metadata": {},
   "outputs": [
    {
     "data": {
      "text/plain": [
       "{xml_nodeset (4)}\n",
       "[1] <h1>테스트1</h1>\n",
       "[2] <h1 class=\"my\">테스트2</h1>\n",
       "[3] <h1 id=\"myh2\">테스트3</h1>\n",
       "[4] <h2>테스트3-1</h2>"
      ]
     },
     "metadata": {},
     "output_type": "display_data"
    }
   ],
   "source": [
    "html_nodes(html, 'h1,h2') # ,는 or 의미"
   ]
  },
  {
   "cell_type": "code",
   "execution_count": 13,
   "id": "201df57b",
   "metadata": {},
   "outputs": [
    {
     "name": "stdout",
     "output_type": "stream",
     "text": [
      "테스트1\n",
      "테스트2\n",
      "테스트3\n",
      "테스트3-1\n"
     ]
    }
   ],
   "source": [
    "for( h in html_nodes(html, 'h1,h2'))\n",
    "    {\n",
    "        cat(html_text(h), fill = T)\n",
    "}"
   ]
  },
  {
   "cell_type": "markdown",
   "id": "e9743b7d",
   "metadata": {},
   "source": [
    "### id선택자(#) : 아이디 속성의 값"
   ]
  },
  {
   "cell_type": "code",
   "execution_count": 15,
   "id": "b25b12db",
   "metadata": {},
   "outputs": [
    {
     "data": {
      "text/plain": [
       "{xml_nodeset (1)}\n",
       "[1] <h1 id=\"myh2\">테스트3</h1>"
      ]
     },
     "metadata": {},
     "output_type": "display_data"
    }
   ],
   "source": [
    "html_nodes(html, '#myh2')"
   ]
  },
  {
   "cell_type": "markdown",
   "id": "e75c3ff9",
   "metadata": {},
   "source": [
    "### 클래스선택자(.) : 클래스 속성의 값"
   ]
  },
  {
   "cell_type": "code",
   "execution_count": 16,
   "id": "4daa3d30",
   "metadata": {},
   "outputs": [
    {
     "data": {
      "text/plain": [
       "{xml_nodeset (2)}\n",
       "[1] <h1 class=\"my\">테스트2</h1>\n",
       "[2] <span class=\"my\">테스트4</span>"
      ]
     },
     "metadata": {},
     "output_type": "display_data"
    }
   ],
   "source": [
    "html_nodes(html, '.my')"
   ]
  },
  {
   "cell_type": "code",
   "execution_count": 17,
   "id": "f503d576",
   "metadata": {},
   "outputs": [
    {
     "data": {
      "text/plain": [
       "{xml_nodeset (1)}\n",
       "[1] <h1 class=\"my\">테스트2</h1>"
      ]
     },
     "metadata": {},
     "output_type": "display_data"
    }
   ],
   "source": [
    "html_nodes(html, 'h1.my')"
   ]
  },
  {
   "cell_type": "code",
   "execution_count": 18,
   "id": "587ed50f",
   "metadata": {},
   "outputs": [
    {
     "data": {
      "text/plain": [
       "{xml_nodeset (4)}\n",
       "[1] <h1>테스트1</h1>\n",
       "[2] <h1 class=\"my\">테스트2</h1>\n",
       "[3] <h1 id=\"myh2\">테스트3</h1>\n",
       "[4] <span class=\"my\">테스트4</span>"
      ]
     },
     "metadata": {},
     "output_type": "display_data"
    }
   ],
   "source": [
    "html_nodes(html, 'h1,.my')"
   ]
  },
  {
   "cell_type": "markdown",
   "id": "23a619b0",
   "metadata": {},
   "source": [
    "### 속성선택자([])"
   ]
  },
  {
   "cell_type": "code",
   "execution_count": 19,
   "id": "734cf4a4",
   "metadata": {},
   "outputs": [
    {
     "data": {
      "text/plain": [
       "{xml_nodeset (2)}\n",
       "[1] <img src=\"a.jpg\">\n",
       "[2] <img src=\"b.jpg\">"
      ]
     },
     "metadata": {},
     "output_type": "display_data"
    }
   ],
   "source": [
    "html_nodes(html, '[src]')"
   ]
  },
  {
   "cell_type": "code",
   "execution_count": 21,
   "id": "847e57c9",
   "metadata": {},
   "outputs": [
    {
     "name": "stdout",
     "output_type": "stream",
     "text": [
      "[1] \"a.jpg\"\n",
      "[1] \"b.jpg\"\n"
     ]
    }
   ],
   "source": [
    "for (n in html_nodes(html, '[src]'))\n",
    "{\n",
    "    print( html_attr(n,'src') )\n",
    "}"
   ]
  },
  {
   "cell_type": "code",
   "execution_count": 23,
   "id": "313aa649",
   "metadata": {},
   "outputs": [
    {
     "data": {
      "text/plain": [
       "{xml_nodeset (1)}\n",
       "[1] <img src=\"a.jpg\">"
      ]
     },
     "metadata": {},
     "output_type": "display_data"
    }
   ],
   "source": [
    "html_nodes(html, '[src=\"a.jpg\"]')"
   ]
  },
  {
   "cell_type": "code",
   "execution_count": 24,
   "id": "56557eef",
   "metadata": {},
   "outputs": [
    {
     "data": {
      "text/plain": [
       "{xml_nodeset (2)}\n",
       "[1] <img src=\"a.jpg\">\n",
       "[2] <img src=\"b.jpg\">"
      ]
     },
     "metadata": {},
     "output_type": "display_data"
    }
   ],
   "source": [
    "html_nodes(html, '[src*=\"jpg\"]')"
   ]
  },
  {
   "cell_type": "markdown",
   "id": "98d1b140",
   "metadata": {},
   "source": [
    "### 자식선택자(>)"
   ]
  },
  {
   "cell_type": "code",
   "execution_count": 26,
   "id": "7f5b8f77",
   "metadata": {},
   "outputs": [
    {
     "data": {
      "text/plain": [
       "{xml_nodeset (1)}\n",
       "[1] <span class=\"my\">테스트4</span>"
      ]
     },
     "metadata": {},
     "output_type": "display_data"
    }
   ],
   "source": [
    "html_nodes(html, '#mydiv > span')"
   ]
  },
  {
   "cell_type": "code",
   "execution_count": 29,
   "id": "b13347e8",
   "metadata": {},
   "outputs": [
    {
     "data": {
      "text/plain": [
       "{xml_nodeset (3)}\n",
       "[1] <li>사과</li>\n",
       "[2] <li>딸기</li>\n",
       "[3] <li>포도</li>"
      ]
     },
     "metadata": {},
     "output_type": "display_data"
    }
   ],
   "source": [
    "html_nodes(html, '.fruit > li')"
   ]
  },
  {
   "cell_type": "markdown",
   "id": "32e96248",
   "metadata": {},
   "source": [
    "### 후손선택자( 공백)"
   ]
  },
  {
   "cell_type": "code",
   "execution_count": 27,
   "id": "e017a3e0",
   "metadata": {},
   "outputs": [
    {
     "data": {
      "text/plain": [
       "{xml_nodeset (2)}\n",
       "[1] <span class=\"my\">테스트4</span>\n",
       "[2] <span>테스트5</span>"
      ]
     },
     "metadata": {},
     "output_type": "display_data"
    }
   ],
   "source": [
    "html_nodes(html, '#mydiv span')"
   ]
  },
  {
   "cell_type": "markdown",
   "id": "2810418c",
   "metadata": {},
   "source": [
    "### 형제선택자"
   ]
  },
  {
   "cell_type": "code",
   "execution_count": 30,
   "id": "e4cc45dd",
   "metadata": {},
   "outputs": [
    {
     "data": {
      "text/plain": [
       "{xml_nodeset (1)}\n",
       "[1] <ul class=\"biz\">\\n<li>회사1</li>\\r\\n\\t\\t<li>회사2</li>\\r\\n\\t\\t<li>회사3</li>\\r\\ ..."
      ]
     },
     "metadata": {},
     "output_type": "display_data"
    }
   ],
   "source": [
    "html_nodes(html, '.fruit + ul') # 오른쪽 형제 첫번째 것"
   ]
  },
  {
   "cell_type": "code",
   "execution_count": 31,
   "id": "fcfaeed9",
   "metadata": {},
   "outputs": [
    {
     "data": {
      "text/plain": [
       "{xml_nodeset (1)}\n",
       "[1] <ul class=\"biz\">\\n<li>회사1</li>\\r\\n\\t\\t<li>회사2</li>\\r\\n\\t\\t<li>회사3</li>\\r\\ ..."
      ]
     },
     "metadata": {},
     "output_type": "display_data"
    }
   ],
   "source": [
    "html_nodes(html, '.fruit ~ ul') # 오른쪽 형제 전부 다 "
   ]
  },
  {
   "cell_type": "markdown",
   "id": "10170c1a",
   "metadata": {},
   "source": [
    "### 수도선택자(':정의된 이름')"
   ]
  },
  {
   "cell_type": "code",
   "execution_count": 33,
   "id": "921bb64e",
   "metadata": {},
   "outputs": [
    {
     "data": {
      "text/plain": [
       "{xml_nodeset (2)}\n",
       "[1] <li>사과</li>\n",
       "[2] <li>회사1</li>"
      ]
     },
     "metadata": {},
     "output_type": "display_data"
    }
   ],
   "source": [
    "html_nodes(html,'li:first-child')"
   ]
  },
  {
   "cell_type": "code",
   "execution_count": 34,
   "id": "1a6eceb0",
   "metadata": {},
   "outputs": [
    {
     "data": {
      "text/plain": [
       "{xml_nodeset (2)}\n",
       "[1] <li>포도</li>\n",
       "[2] <li>회사3</li>"
      ]
     },
     "metadata": {},
     "output_type": "display_data"
    }
   ],
   "source": [
    "html_nodes(html,'li:last-child')"
   ]
  },
  {
   "cell_type": "code",
   "execution_count": 37,
   "id": "60e796c1",
   "metadata": {},
   "outputs": [
    {
     "data": {
      "text/plain": [
       "{xml_nodeset (1)}\n",
       "[1] <li>사과</li>"
      ]
     },
     "metadata": {},
     "output_type": "display_data"
    }
   ],
   "source": [
    "html_nodes(html, '.fruit > li:nth-child(1)')"
   ]
  },
  {
   "cell_type": "code",
   "execution_count": 38,
   "id": "25409f41",
   "metadata": {},
   "outputs": [
    {
     "data": {
      "text/plain": [
       "{xml_nodeset (1)}\n",
       "[1] <li>딸기</li>"
      ]
     },
     "metadata": {},
     "output_type": "display_data"
    }
   ],
   "source": [
    "html_nodes(html, '.fruit > li:nth-child(2)')"
   ]
  },
  {
   "cell_type": "code",
   "execution_count": 36,
   "id": "56ad6aff",
   "metadata": {},
   "outputs": [
    {
     "data": {
      "text/plain": [
       "{xml_nodeset (1)}\n",
       "[1] <li>딸기</li>"
      ]
     },
     "metadata": {},
     "output_type": "display_data"
    }
   ],
   "source": [
    "html_nodes(html, '.fruit > li:nth-child(2n)') # 2n은 짝수 번호만 2, 4, 6, ..."
   ]
  },
  {
   "cell_type": "markdown",
   "id": "ec034000",
   "metadata": {},
   "source": [
    "## 맛집데이터 파싱"
   ]
  },
  {
   "cell_type": "code",
   "execution_count": 39,
   "id": "65fa3c31",
   "metadata": {},
   "outputs": [
    {
     "data": {
      "text/plain": [
       "{html_document}\n",
       "<html xmlns=\"http://www.w3.org/1999/xhtml\">\n",
       "[1] <head>\\n<title>맛집TOP1000 - 매일매일 맛있게 메뉴판닷컴</title>\\n<meta http-equiv=\"Cont ...\n",
       "[2] <body>\\r\\n<div class=\"Wrapper\">\\r\\n\\t\\r\\n<table width=\"980\" border=\"0\" al ..."
      ]
     },
     "metadata": {},
     "output_type": "display_data"
    }
   ],
   "source": [
    "url = 'https://www.menupan.com/restaurant/bestrest/bestrest.asp?pt=rt&areacode=ss201'\n",
    "html = read_html(url, encoding = \"euc-kr\") # 데이터 많으면 인코딩 cp949\n",
    "html"
   ]
  },
  {
   "cell_type": "code",
   "execution_count": 42,
   "id": "46a420bd",
   "metadata": {},
   "outputs": [
    {
     "name": "stdout",
     "output_type": "stream",
     "text": [
      "훌리오(JULIO) 강남역점\n",
      "서초버드나무집\n",
      "갓덴스시 강남점\n",
      "잇푸도(IPPUDO) 강남점\n",
      "참설농탕\n",
      "아카사카\n",
      "화기애애\n",
      "진상 서초본점\n",
      "도모다찌\n",
      "평가옥 반포점\n",
      "잉클링(inkling)\n",
      "런드리피자(LAUNDRY PIZZA)\n",
      "우동명가 기리야마 본진\n",
      "강남교자\n",
      "빌리엔젤 강남역점\n",
      "스노우볼 강남역점\n",
      "아소산겐안\n",
      "오징어광장 강남점\n",
      "감성캠핑맥주창고\n",
      "빈스플(Beansple)\n",
      "악바리\n",
      "한도니\n",
      "투브라더스\n",
      "아란치오(Arancio)\n",
      "산쪼메 강남역점\n"
     ]
    }
   ],
   "source": [
    "for ( a in html_nodes(html, '.restName > a') ){\n",
    "    cat(html_text(a) , fill = T)\n",
    "}"
   ]
  },
  {
   "cell_type": "code",
   "execution_count": 51,
   "id": "44a518d9",
   "metadata": {},
   "outputs": [
    {
     "name": "stdout",
     "output_type": "stream",
     "text": [
      "1\n",
      "2\n",
      "3\n",
      "4\n",
      "5\n",
      "6\n",
      "7\n",
      "8\n",
      "9\n",
      "10\n",
      "11\n",
      "12\n",
      "13\n",
      "14\n",
      "15\n",
      "16\n",
      "17\n",
      "18\n",
      "19\n",
      "20\n",
      "21\n",
      "22\n",
      "23\n",
      "24\n",
      "25\n"
     ]
    }
   ],
   "source": [
    "# 순위 \n",
    "for ( a in html_nodes(html, '.numTop,.rankNum') ){\n",
    "    cat(html_text(a) , fill = T)\n",
    "}"
   ]
  },
  {
   "cell_type": "code",
   "execution_count": 52,
   "id": "abe600e8",
   "metadata": {},
   "outputs": [
    {
     "name": "stdout",
     "output_type": "stream",
     "text": [
      "기타/세계\n",
      "한식\n",
      "일식\n",
      "일식\n",
      "한식\n",
      "일식\n",
      "한식\n",
      "일식\n",
      "일식\n",
      "한식\n",
      "카페/주점\n",
      "패스트푸드\n",
      "일식\n",
      "한식\n",
      "카페/주점\n",
      "카페/주점\n",
      "일식\n",
      "한식\n",
      "카페/주점\n",
      "카페/주점\n",
      "카페/주점\n",
      "한식\n",
      "패스트푸드\n",
      "양식\n",
      "일식\n"
     ]
    }
   ],
   "source": [
    "# 업종\n",
    "for ( a in html_nodes(html, '.listType') ){\n",
    "    cat(html_text(a) , fill = T)\n",
    "}"
   ]
  },
  {
   "cell_type": "code",
   "execution_count": 53,
   "id": "af1f3c44",
   "metadata": {},
   "outputs": [
    {
     "name": "stdout",
     "output_type": "stream",
     "text": [
      "강남구 역삼동\n",
      "서초구 서초동\n",
      "강남구 역삼동\n",
      "강남구 역삼동\n",
      "서초구 서초동\n",
      "서초구 서초동\n",
      "강남구 역삼동\n",
      "서초구 서초동\n",
      "강남구 역삼동\n",
      "서초구 반포동\n",
      "송파구 가락동\n",
      "강남구 역삼동\n",
      "강남구 역삼동\n",
      "서초구 서초동\n",
      "강남구 역삼동\n",
      "강남구 역삼동\n",
      "서초구 서초동\n",
      "강남구 역삼동\n",
      "강남구 역삼동\n",
      "강남구 역삼동\n",
      "서초구 서초동\n",
      "강남구 역삼동\n",
      "강남구 역삼1동\n",
      "강남구 역삼1동\n",
      "강남구 역삼동\n"
     ]
    }
   ],
   "source": [
    "# 지역\n",
    "for ( a in html_nodes(html, '.listArea ') ){\n",
    "    cat(html_text(a) , fill = T)\n",
    "}"
   ]
  },
  {
   "cell_type": "code",
   "execution_count": 21,
   "id": "37b8ce01",
   "metadata": {
    "ExecuteTime": {
     "end_time": "2022-04-18T04:48:35.248404Z",
     "start_time": "2022-04-18T04:48:35.227Z"
    }
   },
   "outputs": [
    {
     "ename": "ERROR",
     "evalue": "Error in html_elements(...): 객체 'html'를 찾을 수 없습니다\n",
     "output_type": "error",
     "traceback": [
      "Error in html_elements(...): 객체 'html'를 찾을 수 없습니다\nTraceback:\n",
      "1. html_text(html_nodes(html, \".numTop,.rankNum\"))",
      "2. xml_text(x, trim = trim)",
      "3. html_nodes(html, \".numTop,.rankNum\")",
      "4. html_elements(...)"
     ]
    }
   ],
   "source": [
    "순위 = html_text(html_nodes(html,'.numTop,.rankNum'))\n",
    "업종 = html_text(html_nodes(html,'.listType'))\n",
    "지역 = html_text(html_nodes(html,'.listArea'))\n",
    "df = data.frame(순위, 업종,지역)\n",
    "df"
   ]
  },
  {
   "cell_type": "markdown",
   "id": "7a5977ad",
   "metadata": {},
   "source": [
    "# ggplot2"
   ]
  },
  {
   "cell_type": "code",
   "execution_count": 57,
   "id": "b15eefea",
   "metadata": {},
   "outputs": [
    {
     "name": "stderr",
     "output_type": "stream",
     "text": [
      "also installing the dependency 'isoband'\n",
      "\n"
     ]
    },
    {
     "name": "stdout",
     "output_type": "stream",
     "text": [
      "\n",
      "  There are binary versions available but the source versions are later:\n",
      "        binary source needs_compilation\n",
      "isoband  0.2.4  0.2.5              TRUE\n",
      "ggplot2  3.3.3  3.3.5             FALSE\n",
      "\n",
      "  Binaries will be installed\n",
      "package 'isoband' successfully unpacked and MD5 sums checked\n",
      "\n",
      "The downloaded binary packages are in\n",
      "\tC:\\Users\\MEDICI\\AppData\\Local\\Temp\\RtmpcBT5m0\\downloaded_packages\n"
     ]
    },
    {
     "name": "stderr",
     "output_type": "stream",
     "text": [
      "installing the source package 'ggplot2'\n",
      "\n"
     ]
    }
   ],
   "source": [
    "install.packages('ggplot2')"
   ]
  },
  {
   "cell_type": "code",
   "execution_count": 2,
   "id": "f0acda30",
   "metadata": {
    "ExecuteTime": {
     "end_time": "2022-04-18T04:45:39.388753Z",
     "start_time": "2022-04-18T04:45:39.127Z"
    }
   },
   "outputs": [],
   "source": [
    "library(ggplot2)"
   ]
  },
  {
   "cell_type": "code",
   "execution_count": null,
   "id": "11a9457d",
   "metadata": {},
   "outputs": [],
   "source": [
    "# ggplot2 cheatsheet 검색해서 보기"
   ]
  },
  {
   "cell_type": "code",
   "execution_count": 59,
   "id": "fdcf04c4",
   "metadata": {},
   "outputs": [
    {
     "data": {
      "text/html": [
       "<table>\n",
       "<thead><tr><th scope=col>speed</th><th scope=col>dist</th></tr></thead>\n",
       "<tbody>\n",
       "\t<tr><td> 4 </td><td>  2</td></tr>\n",
       "\t<tr><td> 4 </td><td> 10</td></tr>\n",
       "\t<tr><td> 7 </td><td>  4</td></tr>\n",
       "\t<tr><td> 7 </td><td> 22</td></tr>\n",
       "\t<tr><td> 8 </td><td> 16</td></tr>\n",
       "\t<tr><td> 9 </td><td> 10</td></tr>\n",
       "\t<tr><td>10 </td><td> 18</td></tr>\n",
       "\t<tr><td>10 </td><td> 26</td></tr>\n",
       "\t<tr><td>10 </td><td> 34</td></tr>\n",
       "\t<tr><td>11 </td><td> 17</td></tr>\n",
       "\t<tr><td>11 </td><td> 28</td></tr>\n",
       "\t<tr><td>12 </td><td> 14</td></tr>\n",
       "\t<tr><td>12 </td><td> 20</td></tr>\n",
       "\t<tr><td>12 </td><td> 24</td></tr>\n",
       "\t<tr><td>12 </td><td> 28</td></tr>\n",
       "\t<tr><td>13 </td><td> 26</td></tr>\n",
       "\t<tr><td>13 </td><td> 34</td></tr>\n",
       "\t<tr><td>13 </td><td> 34</td></tr>\n",
       "\t<tr><td>13 </td><td> 46</td></tr>\n",
       "\t<tr><td>14 </td><td> 26</td></tr>\n",
       "\t<tr><td>14 </td><td> 36</td></tr>\n",
       "\t<tr><td>14 </td><td> 60</td></tr>\n",
       "\t<tr><td>14 </td><td> 80</td></tr>\n",
       "\t<tr><td>15 </td><td> 20</td></tr>\n",
       "\t<tr><td>15 </td><td> 26</td></tr>\n",
       "\t<tr><td>15 </td><td> 54</td></tr>\n",
       "\t<tr><td>16 </td><td> 32</td></tr>\n",
       "\t<tr><td>16 </td><td> 40</td></tr>\n",
       "\t<tr><td>17 </td><td> 32</td></tr>\n",
       "\t<tr><td>17 </td><td> 40</td></tr>\n",
       "\t<tr><td>17 </td><td> 50</td></tr>\n",
       "\t<tr><td>18 </td><td> 42</td></tr>\n",
       "\t<tr><td>18 </td><td> 56</td></tr>\n",
       "\t<tr><td>18 </td><td> 76</td></tr>\n",
       "\t<tr><td>18 </td><td> 84</td></tr>\n",
       "\t<tr><td>19 </td><td> 36</td></tr>\n",
       "\t<tr><td>19 </td><td> 46</td></tr>\n",
       "\t<tr><td>19 </td><td> 68</td></tr>\n",
       "\t<tr><td>20 </td><td> 32</td></tr>\n",
       "\t<tr><td>20 </td><td> 48</td></tr>\n",
       "\t<tr><td>20 </td><td> 52</td></tr>\n",
       "\t<tr><td>20 </td><td> 56</td></tr>\n",
       "\t<tr><td>20 </td><td> 64</td></tr>\n",
       "\t<tr><td>22 </td><td> 66</td></tr>\n",
       "\t<tr><td>23 </td><td> 54</td></tr>\n",
       "\t<tr><td>24 </td><td> 70</td></tr>\n",
       "\t<tr><td>24 </td><td> 92</td></tr>\n",
       "\t<tr><td>24 </td><td> 93</td></tr>\n",
       "\t<tr><td>24 </td><td>120</td></tr>\n",
       "\t<tr><td>25 </td><td> 85</td></tr>\n",
       "</tbody>\n",
       "</table>\n"
      ],
      "text/latex": [
       "\\begin{tabular}{r|ll}\n",
       " speed & dist\\\\\n",
       "\\hline\n",
       "\t  4  &   2\\\\\n",
       "\t  4  &  10\\\\\n",
       "\t  7  &   4\\\\\n",
       "\t  7  &  22\\\\\n",
       "\t  8  &  16\\\\\n",
       "\t  9  &  10\\\\\n",
       "\t 10  &  18\\\\\n",
       "\t 10  &  26\\\\\n",
       "\t 10  &  34\\\\\n",
       "\t 11  &  17\\\\\n",
       "\t 11  &  28\\\\\n",
       "\t 12  &  14\\\\\n",
       "\t 12  &  20\\\\\n",
       "\t 12  &  24\\\\\n",
       "\t 12  &  28\\\\\n",
       "\t 13  &  26\\\\\n",
       "\t 13  &  34\\\\\n",
       "\t 13  &  34\\\\\n",
       "\t 13  &  46\\\\\n",
       "\t 14  &  26\\\\\n",
       "\t 14  &  36\\\\\n",
       "\t 14  &  60\\\\\n",
       "\t 14  &  80\\\\\n",
       "\t 15  &  20\\\\\n",
       "\t 15  &  26\\\\\n",
       "\t 15  &  54\\\\\n",
       "\t 16  &  32\\\\\n",
       "\t 16  &  40\\\\\n",
       "\t 17  &  32\\\\\n",
       "\t 17  &  40\\\\\n",
       "\t 17  &  50\\\\\n",
       "\t 18  &  42\\\\\n",
       "\t 18  &  56\\\\\n",
       "\t 18  &  76\\\\\n",
       "\t 18  &  84\\\\\n",
       "\t 19  &  36\\\\\n",
       "\t 19  &  46\\\\\n",
       "\t 19  &  68\\\\\n",
       "\t 20  &  32\\\\\n",
       "\t 20  &  48\\\\\n",
       "\t 20  &  52\\\\\n",
       "\t 20  &  56\\\\\n",
       "\t 20  &  64\\\\\n",
       "\t 22  &  66\\\\\n",
       "\t 23  &  54\\\\\n",
       "\t 24  &  70\\\\\n",
       "\t 24  &  92\\\\\n",
       "\t 24  &  93\\\\\n",
       "\t 24  & 120\\\\\n",
       "\t 25  &  85\\\\\n",
       "\\end{tabular}\n"
      ],
      "text/markdown": [
       "\n",
       "| speed | dist |\n",
       "|---|---|\n",
       "|  4  |   2 |\n",
       "|  4  |  10 |\n",
       "|  7  |   4 |\n",
       "|  7  |  22 |\n",
       "|  8  |  16 |\n",
       "|  9  |  10 |\n",
       "| 10  |  18 |\n",
       "| 10  |  26 |\n",
       "| 10  |  34 |\n",
       "| 11  |  17 |\n",
       "| 11  |  28 |\n",
       "| 12  |  14 |\n",
       "| 12  |  20 |\n",
       "| 12  |  24 |\n",
       "| 12  |  28 |\n",
       "| 13  |  26 |\n",
       "| 13  |  34 |\n",
       "| 13  |  34 |\n",
       "| 13  |  46 |\n",
       "| 14  |  26 |\n",
       "| 14  |  36 |\n",
       "| 14  |  60 |\n",
       "| 14  |  80 |\n",
       "| 15  |  20 |\n",
       "| 15  |  26 |\n",
       "| 15  |  54 |\n",
       "| 16  |  32 |\n",
       "| 16  |  40 |\n",
       "| 17  |  32 |\n",
       "| 17  |  40 |\n",
       "| 17  |  50 |\n",
       "| 18  |  42 |\n",
       "| 18  |  56 |\n",
       "| 18  |  76 |\n",
       "| 18  |  84 |\n",
       "| 19  |  36 |\n",
       "| 19  |  46 |\n",
       "| 19  |  68 |\n",
       "| 20  |  32 |\n",
       "| 20  |  48 |\n",
       "| 20  |  52 |\n",
       "| 20  |  56 |\n",
       "| 20  |  64 |\n",
       "| 22  |  66 |\n",
       "| 23  |  54 |\n",
       "| 24  |  70 |\n",
       "| 24  |  92 |\n",
       "| 24  |  93 |\n",
       "| 24  | 120 |\n",
       "| 25  |  85 |\n",
       "\n"
      ],
      "text/plain": [
       "   speed dist\n",
       "1   4      2 \n",
       "2   4     10 \n",
       "3   7      4 \n",
       "4   7     22 \n",
       "5   8     16 \n",
       "6   9     10 \n",
       "7  10     18 \n",
       "8  10     26 \n",
       "9  10     34 \n",
       "10 11     17 \n",
       "11 11     28 \n",
       "12 12     14 \n",
       "13 12     20 \n",
       "14 12     24 \n",
       "15 12     28 \n",
       "16 13     26 \n",
       "17 13     34 \n",
       "18 13     34 \n",
       "19 13     46 \n",
       "20 14     26 \n",
       "21 14     36 \n",
       "22 14     60 \n",
       "23 14     80 \n",
       "24 15     20 \n",
       "25 15     26 \n",
       "26 15     54 \n",
       "27 16     32 \n",
       "28 16     40 \n",
       "29 17     32 \n",
       "30 17     40 \n",
       "31 17     50 \n",
       "32 18     42 \n",
       "33 18     56 \n",
       "34 18     76 \n",
       "35 18     84 \n",
       "36 19     36 \n",
       "37 19     46 \n",
       "38 19     68 \n",
       "39 20     32 \n",
       "40 20     48 \n",
       "41 20     52 \n",
       "42 20     56 \n",
       "43 20     64 \n",
       "44 22     66 \n",
       "45 23     54 \n",
       "46 24     70 \n",
       "47 24     92 \n",
       "48 24     93 \n",
       "49 24    120 \n",
       "50 25     85 "
      ]
     },
     "metadata": {},
     "output_type": "display_data"
    }
   ],
   "source": [
    "cars"
   ]
  },
  {
   "cell_type": "code",
   "execution_count": 62,
   "id": "8a57da12",
   "metadata": {},
   "outputs": [],
   "source": [
    "options(repr.plot.width=6, repr.plot.height=5)"
   ]
  },
  {
   "cell_type": "code",
   "execution_count": 64,
   "id": "65e35c12",
   "metadata": {},
   "outputs": [
    {
     "data": {
      "image/png": "[encoded data removed]",
      "text/plain": [
       "plot without title"
      ]
     },
     "metadata": {},
     "output_type": "display_data"
    }
   ],
   "source": [
    "ggplot(cars, aes(x=dist, y=speed)) # 차트대상 영역(윈도우)"
   ]
  },
  {
   "cell_type": "code",
   "execution_count": 63,
   "id": "ae43a2e2",
   "metadata": {},
   "outputs": [
    {
     "data": {
      "image/png": "[encoded data removed]",
      "text/plain": [
       "plot without title"
      ]
     },
     "metadata": {},
     "output_type": "display_data"
    }
   ],
   "source": [
    "ggplot(cars, aes(x=dist, y=speed)) + geom_point()"
   ]
  },
  {
   "cell_type": "code",
   "execution_count": null,
   "id": "669a84c9",
   "metadata": {},
   "outputs": [],
   "source": [
    "?geom_point"
   ]
  },
  {
   "cell_type": "markdown",
   "id": "5af81c73",
   "metadata": {},
   "source": [
    "<img src='http://www.sthda.com/sthda/RDoc/images/points-symbols.png'>\n"
   ]
  },
  {
   "cell_type": "code",
   "execution_count": 75,
   "id": "671734cd",
   "metadata": {},
   "outputs": [
    {
     "data": {
      "image/png": "[encoded data removed]",
      "text/plain": [
       "plot without title"
      ]
     },
     "metadata": {},
     "output_type": "display_data"
    }
   ],
   "source": [
    "ggplot(cars, aes(x=dist, y=speed)) + geom_point(shape = 23, fill = 'skyblue', col = 'orange', size =3)"
   ]
  },
  {
   "cell_type": "code",
   "execution_count": 84,
   "id": "fb1ab889",
   "metadata": {},
   "outputs": [
    {
     "data": {
      "image/png": "[encoded data removed]",
      "text/plain": [
       "plot without title"
      ]
     },
     "metadata": {},
     "output_type": "display_data"
    }
   ],
   "source": [
    "ggplot(cars, aes(x = dist, y = speed)) +\n",
    "  geom_point(size = 3, color = \"yellow\") +  \n",
    "  geom_text( aes(label=speed), color = 'blue', size = 2.5, vjust = 1.6) +\n",
    " labs(x='제동 거리', y='자동차 속도',title = '자동차') +\n",
    " ggtitle('자동차속도제동거리', subtitle=\"(자동차속도/제동거리)\")"
   ]
  },
  {
   "cell_type": "code",
   "execution_count": 86,
   "id": "9f5fe84e",
   "metadata": {},
   "outputs": [
    {
     "data": {
      "image/png": "[encoded data removed]",
      "text/plain": [
       "plot without title"
      ]
     },
     "metadata": {},
     "output_type": "display_data"
    }
   ],
   "source": [
    "ggplot(cars, aes(x = dist, y = speed)) +\n",
    "   geom_point(size = 3, color = \"red\") +\n",
    "  geom_line() +\n",
    " ggtitle('자동차속도제동거리', subtitle=\"(자동차속도/제동거리)\")"
   ]
  },
  {
   "cell_type": "code",
   "execution_count": 95,
   "id": "b78efe1a",
   "metadata": {},
   "outputs": [
    {
     "data": {
      "image/png": "[encoded data removed]",
      "text/plain": [
       "plot without title"
      ]
     },
     "metadata": {},
     "output_type": "display_data"
    }
   ],
   "source": [
    "ggplot(cars, aes(x = dist, y = speed)) +\n",
    "  geom_line(color = 'blue', size =1, linetype = 5) "
   ]
  },
  {
   "cell_type": "code",
   "execution_count": 87,
   "id": "e1843e70",
   "metadata": {},
   "outputs": [
    {
     "name": "stderr",
     "output_type": "stream",
     "text": [
      "`geom_smooth()` using formula 'y ~ x'\n"
     ]
    },
    {
     "data": {
      "image/png": "[encoded data removed]",
      "text/plain": [
       "plot without title"
      ]
     },
     "metadata": {},
     "output_type": "display_data"
    }
   ],
   "source": [
    "ggplot(cars, aes(x = dist, y = speed)) +\n",
    "   geom_point(size = 3, color = \"red\") +\n",
    "   geom_smooth(method = lm) # 선형회귀(추세선)"
   ]
  },
  {
   "cell_type": "code",
   "execution_count": 89,
   "id": "32435775",
   "metadata": {},
   "outputs": [
    {
     "name": "stderr",
     "output_type": "stream",
     "text": [
      "`geom_smooth()` using formula 'y ~ x'\n"
     ]
    },
    {
     "data": {
      "image/png": "[encoded data removed]",
      "text/plain": [
       "plot without title"
      ]
     },
     "metadata": {},
     "output_type": "display_data"
    }
   ],
   "source": [
    "ggplot(cars, aes(x = dist, y = speed)) +\n",
    "   geom_point(size = 3, color = \"red\") +\n",
    "   geom_smooth(method = lm, se = F) # se = F 추세폭 없애기"
   ]
  },
  {
   "cell_type": "code",
   "execution_count": 22,
   "id": "ab77222e",
   "metadata": {
    "ExecuteTime": {
     "end_time": "2022-04-18T04:48:40.844805Z",
     "start_time": "2022-04-18T04:48:40.813Z"
    }
   },
   "outputs": [
    {
     "data": {
      "text/html": [
       "<table>\n",
       "<thead><tr><th scope=col>specie</th><th scope=col>condition</th><th scope=col>value</th></tr></thead>\n",
       "<tbody>\n",
       "\t<tr><td>sorgho    </td><td>normal    </td><td>29.3249187</td></tr>\n",
       "\t<tr><td>sorgho    </td><td>stress    </td><td> 0.7869034</td></tr>\n",
       "\t<tr><td>poacee    </td><td>Nitrogen  </td><td>11.1290861</td></tr>\n",
       "\t<tr><td>poacee    </td><td>normal    </td><td>17.8306960</td></tr>\n",
       "\t<tr><td>poacee    </td><td>stress    </td><td>27.4262024</td></tr>\n",
       "\t<tr><td>banana    </td><td>Nitrogen  </td><td>14.9723359</td></tr>\n",
       "\t<tr><td>banana    </td><td>normal    </td><td> 5.0842174</td></tr>\n",
       "\t<tr><td>banana    </td><td>stress    </td><td> 3.3054079</td></tr>\n",
       "\t<tr><td>banana    </td><td>Nitrogen  </td><td>42.5309444</td></tr>\n",
       "\t<tr><td>triticum  </td><td>normal    </td><td> 5.8324200</td></tr>\n",
       "\t<tr><td>triticum  </td><td>stress    </td><td> 6.1657527</td></tr>\n",
       "\t<tr><td>triticum  </td><td>Nitrogen  </td><td> 2.2549423</td></tr>\n",
       "</tbody>\n",
       "</table>\n"
      ],
      "text/latex": [
       "\\begin{tabular}{r|lll}\n",
       " specie & condition & value\\\\\n",
       "\\hline\n",
       "\t sorgho     & normal     & 29.3249187\\\\\n",
       "\t sorgho     & stress     &  0.7869034\\\\\n",
       "\t poacee     & Nitrogen   & 11.1290861\\\\\n",
       "\t poacee     & normal     & 17.8306960\\\\\n",
       "\t poacee     & stress     & 27.4262024\\\\\n",
       "\t banana     & Nitrogen   & 14.9723359\\\\\n",
       "\t banana     & normal     &  5.0842174\\\\\n",
       "\t banana     & stress     &  3.3054079\\\\\n",
       "\t banana     & Nitrogen   & 42.5309444\\\\\n",
       "\t triticum   & normal     &  5.8324200\\\\\n",
       "\t triticum   & stress     &  6.1657527\\\\\n",
       "\t triticum   & Nitrogen   &  2.2549423\\\\\n",
       "\\end{tabular}\n"
      ],
      "text/markdown": [
       "\n",
       "| specie | condition | value |\n",
       "|---|---|---|\n",
       "| sorgho     | normal     | 29.3249187 |\n",
       "| sorgho     | stress     |  0.7869034 |\n",
       "| poacee     | Nitrogen   | 11.1290861 |\n",
       "| poacee     | normal     | 17.8306960 |\n",
       "| poacee     | stress     | 27.4262024 |\n",
       "| banana     | Nitrogen   | 14.9723359 |\n",
       "| banana     | normal     |  5.0842174 |\n",
       "| banana     | stress     |  3.3054079 |\n",
       "| banana     | Nitrogen   | 42.5309444 |\n",
       "| triticum   | normal     |  5.8324200 |\n",
       "| triticum   | stress     |  6.1657527 |\n",
       "| triticum   | Nitrogen   |  2.2549423 |\n",
       "\n"
      ],
      "text/plain": [
       "   specie   condition value     \n",
       "1  sorgho   normal    29.3249187\n",
       "2  sorgho   stress     0.7869034\n",
       "3  poacee   Nitrogen  11.1290861\n",
       "4  poacee   normal    17.8306960\n",
       "5  poacee   stress    27.4262024\n",
       "6  banana   Nitrogen  14.9723359\n",
       "7  banana   normal     5.0842174\n",
       "8  banana   stress     3.3054079\n",
       "9  banana   Nitrogen  42.5309444\n",
       "10 triticum normal     5.8324200\n",
       "11 triticum stress     6.1657527\n",
       "12 triticum Nitrogen   2.2549423"
      ]
     },
     "metadata": {},
     "output_type": "display_data"
    }
   ],
   "source": [
    "specie=c( rep(\"sorgho\" , 2) ,\n",
    "         rep(\"poacee\" , 3) , \n",
    "         rep(\"banana\" , 4) , \n",
    "         rep(\"triticum\" , 3)  )\n",
    "condition= rep(c(\"normal\" , \"stress\" , \"Nitrogen\") , 4)\n",
    "value= abs(rnorm(12 , 0 , 15))\n",
    "df=data.frame(specie,condition,value)\n",
    "df"
   ]
  },
  {
   "cell_type": "code",
   "execution_count": 102,
   "id": "b918aa8c",
   "metadata": {},
   "outputs": [
    {
     "data": {
      "image/png": "[encoded data removed]",
      "text/plain": [
       "plot without title"
      ]
     },
     "metadata": {},
     "output_type": "display_data"
    }
   ],
   "source": [
    "# 컬럼의 개수를 바차트로 나타내기\n",
    "ggplot(df, aes(x = specie) ) +\n",
    "geom_bar(width = 0.5, color = 'pink', fill = 'lightyellow') # stat = 'count' 가 디폴트값 "
   ]
  },
  {
   "cell_type": "code",
   "execution_count": 103,
   "id": "daee6ff6",
   "metadata": {},
   "outputs": [
    {
     "data": {
      "image/png": "[encoded data removed]",
      "text/plain": [
       "plot without title"
      ]
     },
     "metadata": {},
     "output_type": "display_data"
    }
   ],
   "source": [
    "ggplot(df, aes(x = specie) ) +\n",
    "geom_bar(width = 0.5, color = 'pink', fill = 'lightyellow') +\n",
    "coord_flip() # 수평으로 보이기"
   ]
  },
  {
   "cell_type": "code",
   "execution_count": 113,
   "id": "c7a38593",
   "metadata": {},
   "outputs": [
    {
     "data": {
      "image/png": "[encoded data removed]",
      "text/plain": [
       "plot without title"
      ]
     },
     "metadata": {},
     "output_type": "display_data"
    }
   ],
   "source": [
    "ggplot(df, aes(x = specie, y = value, fill = value) ) +\n",
    "geom_bar( stat='identity')"
   ]
  },
  {
   "cell_type": "code",
   "execution_count": 19,
   "id": "b39a9912",
   "metadata": {
    "ExecuteTime": {
     "end_time": "2022-04-18T04:48:17.742913Z",
     "start_time": "2022-04-18T04:48:17.724Z"
    }
   },
   "outputs": [],
   "source": [
    "library(dplyr)"
   ]
  },
  {
   "cell_type": "code",
   "execution_count": 116,
   "id": "7668c485",
   "metadata": {},
   "outputs": [
    {
     "data": {
      "image/png": "[encoded data removed]",
      "text/plain": [
       "plot without title"
      ]
     },
     "metadata": {},
     "output_type": "display_data"
    }
   ],
   "source": [
    "ggplot(df, aes(x = specie, y = value, fill = condition) ) +\n",
    "geom_bar( stat='identity')"
   ]
  },
  {
   "cell_type": "code",
   "execution_count": 117,
   "id": "ffba067c",
   "metadata": {},
   "outputs": [
    {
     "data": {
      "text/html": [
       "<table>\n",
       "<thead><tr><th scope=col>specie</th><th scope=col>condition</th><th scope=col>value</th></tr></thead>\n",
       "<tbody>\n",
       "\t<tr><td>banana   </td><td>Nitrogen </td><td>54.645723</td></tr>\n",
       "\t<tr><td>poacee   </td><td>Nitrogen </td><td>12.952209</td></tr>\n",
       "\t<tr><td>triticum </td><td>Nitrogen </td><td>10.657586</td></tr>\n",
       "\t<tr><td>banana   </td><td>normal   </td><td> 1.262364</td></tr>\n",
       "\t<tr><td>poacee   </td><td>normal   </td><td>10.851971</td></tr>\n",
       "\t<tr><td>sorgho   </td><td>normal   </td><td> 9.723197</td></tr>\n",
       "\t<tr><td>triticum </td><td>normal   </td><td> 4.001443</td></tr>\n",
       "\t<tr><td>banana   </td><td>stress   </td><td>12.475587</td></tr>\n",
       "\t<tr><td>poacee   </td><td>stress   </td><td>16.531622</td></tr>\n",
       "\t<tr><td>sorgho   </td><td>stress   </td><td> 5.710524</td></tr>\n",
       "\t<tr><td>triticum </td><td>stress   </td><td>18.533492</td></tr>\n",
       "</tbody>\n",
       "</table>\n"
      ],
      "text/latex": [
       "\\begin{tabular}{r|lll}\n",
       " specie & condition & value\\\\\n",
       "\\hline\n",
       "\t banana    & Nitrogen  & 54.645723\\\\\n",
       "\t poacee    & Nitrogen  & 12.952209\\\\\n",
       "\t triticum  & Nitrogen  & 10.657586\\\\\n",
       "\t banana    & normal    &  1.262364\\\\\n",
       "\t poacee    & normal    & 10.851971\\\\\n",
       "\t sorgho    & normal    &  9.723197\\\\\n",
       "\t triticum  & normal    &  4.001443\\\\\n",
       "\t banana    & stress    & 12.475587\\\\\n",
       "\t poacee    & stress    & 16.531622\\\\\n",
       "\t sorgho    & stress    &  5.710524\\\\\n",
       "\t triticum  & stress    & 18.533492\\\\\n",
       "\\end{tabular}\n"
      ],
      "text/markdown": [
       "\n",
       "| specie | condition | value |\n",
       "|---|---|---|\n",
       "| banana    | Nitrogen  | 54.645723 |\n",
       "| poacee    | Nitrogen  | 12.952209 |\n",
       "| triticum  | Nitrogen  | 10.657586 |\n",
       "| banana    | normal    |  1.262364 |\n",
       "| poacee    | normal    | 10.851971 |\n",
       "| sorgho    | normal    |  9.723197 |\n",
       "| triticum  | normal    |  4.001443 |\n",
       "| banana    | stress    | 12.475587 |\n",
       "| poacee    | stress    | 16.531622 |\n",
       "| sorgho    | stress    |  5.710524 |\n",
       "| triticum  | stress    | 18.533492 |\n",
       "\n"
      ],
      "text/plain": [
       "   specie   condition value    \n",
       "1  banana   Nitrogen  54.645723\n",
       "2  poacee   Nitrogen  12.952209\n",
       "3  triticum Nitrogen  10.657586\n",
       "4  banana   normal     1.262364\n",
       "5  poacee   normal    10.851971\n",
       "6  sorgho   normal     9.723197\n",
       "7  triticum normal     4.001443\n",
       "8  banana   stress    12.475587\n",
       "9  poacee   stress    16.531622\n",
       "10 sorgho   stress     5.710524\n",
       "11 triticum stress    18.533492"
      ]
     },
     "metadata": {},
     "output_type": "display_data"
    }
   ],
   "source": [
    "aggregate(value~specie+condition,df, sum)"
   ]
  },
  {
   "cell_type": "code",
   "execution_count": 120,
   "id": "43a13974",
   "metadata": {},
   "outputs": [
    {
     "data": {
      "text/html": [
       "<table>\n",
       "<thead><tr><th scope=col>specie</th><th scope=col>condition</th><th scope=col>value</th></tr></thead>\n",
       "<tbody>\n",
       "\t<tr><td>banana   </td><td>Nitrogen </td><td>54.645723</td></tr>\n",
       "\t<tr><td>banana   </td><td>normal   </td><td> 1.262364</td></tr>\n",
       "\t<tr><td>banana   </td><td>stress   </td><td>12.475587</td></tr>\n",
       "\t<tr><td>poacee   </td><td>Nitrogen </td><td>12.952209</td></tr>\n",
       "\t<tr><td>poacee   </td><td>normal   </td><td>10.851971</td></tr>\n",
       "\t<tr><td>poacee   </td><td>stress   </td><td>16.531622</td></tr>\n",
       "\t<tr><td>sorgho   </td><td>normal   </td><td> 9.723197</td></tr>\n",
       "\t<tr><td>sorgho   </td><td>stress   </td><td> 5.710524</td></tr>\n",
       "\t<tr><td>triticum </td><td>Nitrogen </td><td>10.657586</td></tr>\n",
       "\t<tr><td>triticum </td><td>normal   </td><td> 4.001443</td></tr>\n",
       "\t<tr><td>triticum </td><td>stress   </td><td>18.533492</td></tr>\n",
       "</tbody>\n",
       "</table>\n"
      ],
      "text/latex": [
       "\\begin{tabular}{r|lll}\n",
       " specie & condition & value\\\\\n",
       "\\hline\n",
       "\t banana    & Nitrogen  & 54.645723\\\\\n",
       "\t banana    & normal    &  1.262364\\\\\n",
       "\t banana    & stress    & 12.475587\\\\\n",
       "\t poacee    & Nitrogen  & 12.952209\\\\\n",
       "\t poacee    & normal    & 10.851971\\\\\n",
       "\t poacee    & stress    & 16.531622\\\\\n",
       "\t sorgho    & normal    &  9.723197\\\\\n",
       "\t sorgho    & stress    &  5.710524\\\\\n",
       "\t triticum  & Nitrogen  & 10.657586\\\\\n",
       "\t triticum  & normal    &  4.001443\\\\\n",
       "\t triticum  & stress    & 18.533492\\\\\n",
       "\\end{tabular}\n"
      ],
      "text/markdown": [
       "\n",
       "| specie | condition | value |\n",
       "|---|---|---|\n",
       "| banana    | Nitrogen  | 54.645723 |\n",
       "| banana    | normal    |  1.262364 |\n",
       "| banana    | stress    | 12.475587 |\n",
       "| poacee    | Nitrogen  | 12.952209 |\n",
       "| poacee    | normal    | 10.851971 |\n",
       "| poacee    | stress    | 16.531622 |\n",
       "| sorgho    | normal    |  9.723197 |\n",
       "| sorgho    | stress    |  5.710524 |\n",
       "| triticum  | Nitrogen  | 10.657586 |\n",
       "| triticum  | normal    |  4.001443 |\n",
       "| triticum  | stress    | 18.533492 |\n",
       "\n"
      ],
      "text/plain": [
       "   specie   condition value    \n",
       "1  banana   Nitrogen  54.645723\n",
       "2  banana   normal     1.262364\n",
       "3  banana   stress    12.475587\n",
       "4  poacee   Nitrogen  12.952209\n",
       "5  poacee   normal    10.851971\n",
       "6  poacee   stress    16.531622\n",
       "7  sorgho   normal     9.723197\n",
       "8  sorgho   stress     5.710524\n",
       "9  triticum Nitrogen  10.657586\n",
       "10 triticum normal     4.001443\n",
       "11 triticum stress    18.533492"
      ]
     },
     "metadata": {},
     "output_type": "display_data"
    }
   ],
   "source": [
    "arrange(aggregate(value~specie+condition,df, sum),specie)"
   ]
  },
  {
   "cell_type": "code",
   "execution_count": 123,
   "id": "b8c56386",
   "metadata": {},
   "outputs": [
    {
     "data": {
      "image/png": "[encoded data removed]",
      "text/plain": [
       "plot without title"
      ]
     },
     "metadata": {},
     "output_type": "display_data"
    }
   ],
   "source": [
    "ggplot(df, aes( y=value, x=specie, fill=condition) ) +\n",
    "geom_bar( stat=\"identity\")+\n",
    "geom_text( aes(label=round(value,2) ), position = position_stack(vjust = 0.5) )"
   ]
  },
  {
   "cell_type": "code",
   "execution_count": 23,
   "id": "67fe5819",
   "metadata": {
    "ExecuteTime": {
     "end_time": "2022-04-18T04:48:47.573980Z",
     "start_time": "2022-04-18T04:48:47.544Z"
    }
   },
   "outputs": [
    {
     "data": {
      "text/html": [
       "<table>\n",
       "<thead><tr><th scope=col>specie</th><th scope=col>condition</th><th scope=col>value</th></tr></thead>\n",
       "<tbody>\n",
       "\t<tr><td>banana    </td><td>Nitrogen  </td><td>57.5032803</td></tr>\n",
       "\t<tr><td>banana    </td><td>normal    </td><td> 5.0842174</td></tr>\n",
       "\t<tr><td>banana    </td><td>stress    </td><td> 3.3054079</td></tr>\n",
       "\t<tr><td>poacee    </td><td>Nitrogen  </td><td>11.1290861</td></tr>\n",
       "\t<tr><td>poacee    </td><td>normal    </td><td>17.8306960</td></tr>\n",
       "\t<tr><td>poacee    </td><td>stress    </td><td>27.4262024</td></tr>\n",
       "\t<tr><td>sorgho    </td><td>normal    </td><td>29.3249187</td></tr>\n",
       "\t<tr><td>sorgho    </td><td>stress    </td><td> 0.7869034</td></tr>\n",
       "\t<tr><td>triticum  </td><td>Nitrogen  </td><td> 2.2549423</td></tr>\n",
       "\t<tr><td>triticum  </td><td>normal    </td><td> 5.8324200</td></tr>\n",
       "\t<tr><td>triticum  </td><td>stress    </td><td> 6.1657527</td></tr>\n",
       "</tbody>\n",
       "</table>\n"
      ],
      "text/latex": [
       "\\begin{tabular}{r|lll}\n",
       " specie & condition & value\\\\\n",
       "\\hline\n",
       "\t banana     & Nitrogen   & 57.5032803\\\\\n",
       "\t banana     & normal     &  5.0842174\\\\\n",
       "\t banana     & stress     &  3.3054079\\\\\n",
       "\t poacee     & Nitrogen   & 11.1290861\\\\\n",
       "\t poacee     & normal     & 17.8306960\\\\\n",
       "\t poacee     & stress     & 27.4262024\\\\\n",
       "\t sorgho     & normal     & 29.3249187\\\\\n",
       "\t sorgho     & stress     &  0.7869034\\\\\n",
       "\t triticum   & Nitrogen   &  2.2549423\\\\\n",
       "\t triticum   & normal     &  5.8324200\\\\\n",
       "\t triticum   & stress     &  6.1657527\\\\\n",
       "\\end{tabular}\n"
      ],
      "text/markdown": [
       "\n",
       "| specie | condition | value |\n",
       "|---|---|---|\n",
       "| banana     | Nitrogen   | 57.5032803 |\n",
       "| banana     | normal     |  5.0842174 |\n",
       "| banana     | stress     |  3.3054079 |\n",
       "| poacee     | Nitrogen   | 11.1290861 |\n",
       "| poacee     | normal     | 17.8306960 |\n",
       "| poacee     | stress     | 27.4262024 |\n",
       "| sorgho     | normal     | 29.3249187 |\n",
       "| sorgho     | stress     |  0.7869034 |\n",
       "| triticum   | Nitrogen   |  2.2549423 |\n",
       "| triticum   | normal     |  5.8324200 |\n",
       "| triticum   | stress     |  6.1657527 |\n",
       "\n"
      ],
      "text/plain": [
       "   specie   condition value     \n",
       "1  banana   Nitrogen  57.5032803\n",
       "2  banana   normal     5.0842174\n",
       "3  banana   stress     3.3054079\n",
       "4  poacee   Nitrogen  11.1290861\n",
       "5  poacee   normal    17.8306960\n",
       "6  poacee   stress    27.4262024\n",
       "7  sorgho   normal    29.3249187\n",
       "8  sorgho   stress     0.7869034\n",
       "9  triticum Nitrogen   2.2549423\n",
       "10 triticum normal     5.8324200\n",
       "11 triticum stress     6.1657527"
      ]
     },
     "metadata": {},
     "output_type": "display_data"
    }
   ],
   "source": [
    "tt = arrange(aggregate(value~specie+condition,df, sum),specie)\n",
    "tt"
   ]
  },
  {
   "cell_type": "code",
   "execution_count": 125,
   "id": "4d06f2d8",
   "metadata": {},
   "outputs": [
    {
     "data": {
      "image/png": "[encoded data removed]",
      "text/plain": [
       "plot without title"
      ]
     },
     "metadata": {},
     "output_type": "display_data"
    }
   ],
   "source": [
    "ggplot(tt, aes( y=value, x=specie, fill=condition) ) +\n",
    "geom_bar( stat=\"identity\")+\n",
    "geom_text( aes(label=round(value,2) ), position = position_stack(vjust = 0.5) )"
   ]
  },
  {
   "cell_type": "code",
   "execution_count": 24,
   "id": "a52d9a95",
   "metadata": {
    "ExecuteTime": {
     "end_time": "2022-04-18T04:48:50.575975Z",
     "start_time": "2022-04-18T04:48:50.293Z"
    }
   },
   "outputs": [
    {
     "data": {
      "image/png": "[encoded data removed]",
      "text/plain": [
       "plot without title"
      ]
     },
     "metadata": {},
     "output_type": "display_data"
    }
   ],
   "source": [
    "ggplot(tt, aes( y=value, x=specie, fill=condition) ) +\n",
    "geom_bar(position='dodge', stat=\"identity\")\n"
   ]
  },
  {
   "cell_type": "code",
   "execution_count": 26,
   "id": "6af5d90e",
   "metadata": {
    "ExecuteTime": {
     "end_time": "2022-04-18T04:49:13.140448Z",
     "start_time": "2022-04-18T04:49:12.841Z"
    }
   },
   "outputs": [
    {
     "data": {
      "image/png": "[encoded data removed]",
      "text/plain": [
       "plot without title"
      ]
     },
     "metadata": {},
     "output_type": "display_data"
    }
   ],
   "source": [
    "ggplot(tt, aes( y=value, x=specie, fill=condition) ) +\n",
    "geom_bar(position='dodge', stat=\"identity\")+\n",
    "geom_text( aes( label=round(value,2) ),\n",
    "position = position_dodge( width=1), vjust =0.5 )\n"
   ]
  },
  {
   "cell_type": "code",
   "execution_count": 28,
   "id": "64349b31",
   "metadata": {
    "ExecuteTime": {
     "end_time": "2022-04-18T04:49:27.323509Z",
     "start_time": "2022-04-18T04:49:27.070Z"
    }
   },
   "outputs": [
    {
     "data": {
      "image/png": "[encoded data removed]",
      "text/plain": [
       "plot without title"
      ]
     },
     "metadata": {},
     "output_type": "display_data"
    }
   ],
   "source": [
    "ggplot(tt, aes( y=value, x=specie, fill=condition) ) +\n",
    "geom_bar(position='dodge', stat=\"identity\")+\n",
    "geom_text( aes( label=round(value,2) ),\n",
    "          position = position_dodge( width=1), vjust =-0.5 )\n"
   ]
  },
  {
   "cell_type": "code",
   "execution_count": 29,
   "id": "55c9bed7",
   "metadata": {
    "ExecuteTime": {
     "end_time": "2022-04-18T04:50:08.324597Z",
     "start_time": "2022-04-18T04:50:08.157Z"
    }
   },
   "outputs": [
    {
     "data": {
      "image/png": "[encoded data removed]",
      "text/plain": [
       "plot without title"
      ]
     },
     "metadata": {},
     "output_type": "display_data"
    }
   ],
   "source": [
    "ggplot(df, aes(x = specie))+ geom_bar(stat=\"count\")"
   ]
  },
  {
   "cell_type": "code",
   "execution_count": null,
   "id": "ac4784e9",
   "metadata": {},
   "outputs": [],
   "source": [
    "## stat : countm identity, bin"
   ]
  },
  {
   "cell_type": "code",
   "execution_count": 30,
   "id": "a2f6a530",
   "metadata": {
    "ExecuteTime": {
     "end_time": "2022-04-18T04:51:58.427371Z",
     "start_time": "2022-04-18T04:51:58.250Z"
    }
   },
   "outputs": [
    {
     "data": {
      "image/png": "[encoded data removed]",
      "text/plain": [
       "plot without title"
      ]
     },
     "metadata": {},
     "output_type": "display_data"
    }
   ],
   "source": [
    "# histogram\n",
    "ggplot(df,aes(x = value)) + geom_bar(stat = \"bin\", bins = 5)"
   ]
  },
  {
   "cell_type": "code",
   "execution_count": 31,
   "id": "6d5a8c5c",
   "metadata": {
    "ExecuteTime": {
     "end_time": "2022-04-18T04:53:42.284133Z",
     "start_time": "2022-04-18T04:53:42.256Z"
    }
   },
   "outputs": [
    {
     "data": {
      "text/html": [
       "<ol class=list-inline>\n",
       "\t<li>(9.94,30]</li>\n",
       "\t<li>(9.94,30]</li>\n",
       "\t<li>(9.94,30]</li>\n",
       "\t<li>(30,50]</li>\n",
       "\t<li>(30,50]</li>\n",
       "\t<li>(50,70.1]</li>\n",
       "\t<li>(50,70.1]</li>\n",
       "</ol>\n",
       "\n",
       "<details>\n",
       "\t<summary style=display:list-item;cursor:pointer>\n",
       "\t\t<strong>Levels</strong>:\n",
       "\t</summary>\n",
       "\t<ol class=list-inline>\n",
       "\t\t<li>'(9.94,30]'</li>\n",
       "\t\t<li>'(30,50]'</li>\n",
       "\t\t<li>'(50,70.1]'</li>\n",
       "\t</ol>\n",
       "</details>"
      ],
      "text/latex": [
       "\\begin{enumerate*}\n",
       "\\item (9.94,30{]}\n",
       "\\item (9.94,30{]}\n",
       "\\item (9.94,30{]}\n",
       "\\item (30,50{]}\n",
       "\\item (30,50{]}\n",
       "\\item (50,70.1{]}\n",
       "\\item (50,70.1{]}\n",
       "\\end{enumerate*}\n",
       "\n",
       "\\emph{Levels}: \\begin{enumerate*}\n",
       "\\item '(9.94,30{]}'\n",
       "\\item '(30,50{]}'\n",
       "\\item '(50,70.1{]}'\n",
       "\\end{enumerate*}\n"
      ],
      "text/markdown": [
       "1. (9.94,30]\n",
       "2. (9.94,30]\n",
       "3. (9.94,30]\n",
       "4. (30,50]\n",
       "5. (30,50]\n",
       "6. (50,70.1]\n",
       "7. (50,70.1]\n",
       "\n",
       "\n",
       "\n",
       "**Levels**: 1. '(9.94,30]'\n",
       "2. '(30,50]'\n",
       "3. '(50,70.1]'\n",
       "\n",
       "\n"
      ],
      "text/plain": [
       "[1] (9.94,30] (9.94,30] (9.94,30] (30,50]   (30,50]   (50,70.1] (50,70.1]\n",
       "Levels: (9.94,30] (30,50] (50,70.1]"
      ]
     },
     "metadata": {},
     "output_type": "display_data"
    },
    {
     "data": {
      "text/plain": [
       "tc\n",
       "(9.94,30]   (30,50] (50,70.1] \n",
       "        3         2         2 "
      ]
     },
     "metadata": {},
     "output_type": "display_data"
    }
   ],
   "source": [
    "t = c(10,20,30,40,50,60,70)\n",
    "#1계급(9.94,30] :9.94< c<=30\n",
    "# (30,50]: 30< c<= 50\n",
    "#(50,70.1]: 50< c<= 70.1\n",
    "tc = cut(t, 3)\n",
    "tc\n",
    "table(tc)"
   ]
  },
  {
   "cell_type": "code",
   "execution_count": 32,
   "id": "dfc1042f",
   "metadata": {
    "ExecuteTime": {
     "end_time": "2022-04-18T04:55:43.073884Z",
     "start_time": "2022-04-18T04:55:42.907Z"
    }
   },
   "outputs": [
    {
     "data": {
      "image/png": "[encoded data removed]",
      "text/plain": [
       "plot without title"
      ]
     },
     "metadata": {},
     "output_type": "display_data"
    }
   ],
   "source": [
    "ggplot(df,aes(x = value)) + geom_bar(stat = \"bin\", bins = 3)"
   ]
  },
  {
   "cell_type": "code",
   "execution_count": null,
   "id": "1938d039",
   "metadata": {},
   "outputs": [],
   "source": []
  }
 ],
 "metadata": {
  "kernelspec": {
   "display_name": "R",
   "language": "R",
   "name": "ir"
  },
  "language_info": {
   "codemirror_mode": "r",
   "file_extension": ".r",
   "mimetype": "text/x-r-source",
   "name": "R",
   "pygments_lexer": "r",
   "version": "3.6.1"
  },
  "toc": {
   "base_numbering": 1,
   "nav_menu": {},
   "number_sections": true,
   "sideBar": true,
   "skip_h1_title": false,
   "title_cell": "Table of Contents",
   "title_sidebar": "Contents",
   "toc_cell": false,
   "toc_position": {},
   "toc_section_display": true,
   "toc_window_display": false
  },
  "varInspector": {
   "cols": {
    "lenName": 16,
    "lenType": 16,
    "lenVar": 40
   },
   "kernels_config": {
    "python": {
     "delete_cmd_postfix": "",
     "delete_cmd_prefix": "del ",
     "library": "var_list.py",
     "varRefreshCmd": "print(var_dic_list())"
    },
    "r": {
     "delete_cmd_postfix": ") ",
     "delete_cmd_prefix": "rm(",
     "library": "var_list.r",
     "varRefreshCmd": "cat(var_dic_list()) "
    }
   },
   "types_to_exclude": [
    "module",
    "function",
    "builtin_function_or_method",
    "instance",
    "_Feature"
   ],
   "window_display": false
  }
 },
 "nbformat": 4,
 "nbformat_minor": 5
}
