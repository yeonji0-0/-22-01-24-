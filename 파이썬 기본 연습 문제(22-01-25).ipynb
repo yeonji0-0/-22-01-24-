{
 "cells": [
  {
   "cell_type": "markdown",
   "metadata": {},
   "source": [
    "# 기본 연습 문제"
   ]
  },
  {
   "cell_type": "markdown",
   "metadata": {},
   "source": [
    "* Q) 4400명의 사람이 모였는데, 이들을 대상으로 20명씩 조를 만들려고 한다. 이 때 생성되는 조의 수는 몇 개인가?"
   ]
  },
  {
   "cell_type": "code",
   "execution_count": null,
   "metadata": {},
   "outputs": [],
   "source": [
    "4400 // 20"
   ]
  },
  {
   "cell_type": "code",
   "execution_count": 10,
   "metadata": {},
   "outputs": [
    {
     "name": "stdout",
     "output_type": "stream",
     "text": [
      "4400 의 인원으로 20 명씩 그룹으로 지으면 220.0 조 생성됨\n"
     ]
    }
   ],
   "source": [
    "#변수 만들기에 대한 문제 + 그 변수들의 연산\n",
    "#변수 만들기 : 2개 -> 전체 인원, 조별 인원\n",
    "#내가 만든 변수를 가지고 해결하려는 문제의 관계 고민\n",
    "# -> 전체인원 / 조별 인원\n",
    "tot = 4400\n",
    "size = 20\n",
    "group_count = tot / size\n",
    "print(tot, \"의 인원으로\", size, \"명씩 그룹으로 지으면\", group_count, \"조 생성됨\")"
   ]
  },
  {
   "cell_type": "code",
   "execution_count": 11,
   "metadata": {},
   "outputs": [
    {
     "data": {
      "text/plain": [
       "'4400명을 대상으로20'"
      ]
     },
     "execution_count": 11,
     "metadata": {},
     "output_type": "execute_result"
    }
   ],
   "source": [
    "\"4400명을 대상으로\" + str(size)  #문자열로 바꿔서 표현"
   ]
  },
  {
   "cell_type": "code",
   "execution_count": 12,
   "metadata": {},
   "outputs": [
    {
     "data": {
      "text/plain": [
       "'4400명을 대상으로 20'"
      ]
     },
     "execution_count": 12,
     "metadata": {},
     "output_type": "execute_result"
    }
   ],
   "source": [
    "\"4400명을 대상으로 {}\". format(size) "
   ]
  },
  {
   "cell_type": "code",
   "execution_count": 16,
   "metadata": {},
   "outputs": [
    {
     "data": {
      "text/plain": [
       "'4400명을 대상으로 20명씩 그룳으로 나누면 220.0조가 생성된다.'"
      ]
     },
     "execution_count": 16,
     "metadata": {},
     "output_type": "execute_result"
    }
   ],
   "source": [
    "\"{}명을 대상으로 {}명씩 그룳으로 나누면 {}조가 생성된다.\".format(tot, size, group_count)"
   ]
  },
  {
   "cell_type": "code",
   "execution_count": 14,
   "metadata": {},
   "outputs": [
    {
     "data": {
      "text/plain": [
       "'4400명을 대상으로 220.0명씩 그룳으로 나누면 20조가 생성된다.'"
      ]
     },
     "execution_count": 14,
     "metadata": {},
     "output_type": "execute_result"
    }
   ],
   "source": [
    "\"{0}명을 대상으로 {2}명씩 그룳으로 나누면 {1}조가 생성된다.\".format(tot, size, group_count)  #파이썬 기준 숫자로 0부터 시작"
   ]
  },
  {
   "cell_type": "markdown",
   "metadata": {},
   "source": [
    "* Q) 4400명의 사람이 모였는데, 이들을 대상으로 30명씩 조를 만들려고 한다. 이 떄 생성되는 조의 수와 조에 편성이 안 되는 사람의 수는?"
   ]
  },
  {
   "cell_type": "code",
   "execution_count": null,
   "metadata": {},
   "outputs": [],
   "source": [
    "4400 // 30\n",
    "4400 % 30"
   ]
  },
  {
   "cell_type": "code",
   "execution_count": 2,
   "metadata": {},
   "outputs": [
    {
     "name": "stdout",
     "output_type": "stream",
     "text": [
      "조의 수는 146, 남는 인원은20\n"
     ]
    }
   ],
   "source": [
    "#문제에서 변수 설정 : 전체 인원 4400명, 조별 인원 30명\n",
    "#구하려는 1) 조의 수 : (몫 -> //연산자) 전체 인원 // 조별 인원\n",
    "#구하려는 2) 조 편성 안되는 인원 : (나머지 -> %연산자) 전체 인원 % 조별 인원\n",
    "tot = 4400\n",
    "size = 30\n",
    "group_num = tot // size\n",
    "group_nam = tot % size\n",
    "print(\"조의 수는 {0}, 남는 인원은{1}\".format(group_num, group_nam))"
   ]
  },
  {
   "cell_type": "markdown",
   "metadata": {},
   "source": [
    "* Q)  국어 80점, 수학 55점, 영어 75점, 사회 80점 --> 이 사람의 평균을 구하는 코드를 작성하시오"
   ]
  },
  {
   "cell_type": "code",
   "execution_count": 23,
   "metadata": {
    "scrolled": true
   },
   "outputs": [
    {
     "name": "stdout",
     "output_type": "stream",
     "text": [
      "평균 : 72.5\n"
     ]
    }
   ],
   "source": [
    "##(80+55+75+80)/4\n",
    "#방법 1) 그냥 각 과목별로 변수 만들어서\n",
    "korean = 80\n",
    "math = 55\n",
    "english = 75\n",
    "social = 80\n",
    "\n",
    "avg_score = (korean + math + english + social)/4\n",
    "print(\"평균 : {}\".format(avg_score))"
   ]
  },
  {
   "cell_type": "code",
   "execution_count": 27,
   "metadata": {},
   "outputs": [
    {
     "name": "stdout",
     "output_type": "stream",
     "text": [
      "평균 점수 : 72.5\n"
     ]
    }
   ],
   "source": [
    "#방법 2) 점수들 -> 리스트로 \n",
    "zumsums = [80, 55, 75, 80]\n",
    "print(\"평균 점수 :\", sum(zumsums) / len(zumsums))"
   ]
  },
  {
   "cell_type": "code",
   "execution_count": 29,
   "metadata": {},
   "outputs": [
    {
     "data": {
      "text/plain": [
       "72.5"
      ]
     },
     "execution_count": 29,
     "metadata": {},
     "output_type": "execute_result"
    }
   ],
   "source": [
    "#방법 3) 그외 기타 등등...\n",
    "#기본 파이썬에는 mean 함수 없음\n",
    "import numpy as np\n",
    "np.mean(zumsums)"
   ]
  },
  {
   "cell_type": "code",
   "execution_count": null,
   "metadata": {},
   "outputs": [],
   "source": [
    "#또 다른 방법 : 구조적으로 우리가 앞으로 많이 쓸 구조\n",
    "#리스트의 값을 돌려가면서 구현해보자 -> for\n",
    "zumsums = [80, 55, 75, 80]\n",
    "#내가 필요에 의해서 만든 변수들이 과정을 통해서 변하면 초기값 설정 중요!!\n",
    "tot = 0\n",
    "ont = 0\n",
    "#좀 자체적으로 돌리기\n",
    "for zumsum in zumsums:\n",
    "    tot += zumsu   #tot  = tot + zumsum 풀어쓰면 이렇게 쓰임 빨리 쓰기 위해는 왼쪽꺼로 쓰기\n",
    "    ont += 1       #ont = ont + 1\n",
    "avg = tot / ont\n",
    "print(avg)"
   ]
  },
  {
   "cell_type": "markdown",
   "metadata": {},
   "source": [
    "* Q)  국어 80점, 수학 55점, 영어 75점, 사회 80점 --> 이 사람의 평균을 구하는 코드를 작성하시오   \n",
    "(단, 이번에는 input을 활용하여 입력받는 점수를 바탕으로 평균을 구하세요!)"
   ]
  },
  {
   "cell_type": "code",
   "execution_count": 31,
   "metadata": {},
   "outputs": [
    {
     "name": "stdout",
     "output_type": "stream",
     "text": [
      "성적을 입력하세요80\n"
     ]
    },
    {
     "data": {
      "text/plain": [
       "110"
      ]
     },
     "execution_count": 31,
     "metadata": {},
     "output_type": "execute_result"
    }
   ],
   "source": [
    "##a = input(\"한국어 점수를 입력하세요!!!\")\n",
    "##b = input(\"수학 점수를 입력하세요!!!\")\n",
    "##c = input(\"영어 점수를 입력하세요!!!\")\n",
    "##d = input(\"사회 점수를 입력하세요!!!\")\n",
    "##s = (a+b+c+d)/4\n",
    "##print(\"4과목 평균 점수 :\", s )\n",
    "#input 함수 이해\n",
    "a = input(\"성적을 입력하세요\")\n",
    "int(a) + 30"
   ]
  },
  {
   "cell_type": "code",
   "execution_count": 34,
   "metadata": {},
   "outputs": [
    {
     "name": "stdout",
     "output_type": "stream",
     "text": [
      "한국어 점수를 입력하세요80\n",
      "수학 점수를 입력하세요55\n",
      "영어 점수를 입력하세요75\n",
      "사회 점수를 입력하세요80\n",
      "평균 : 72.5\n"
     ]
    }
   ],
   "source": [
    "korean = int(input(\"한국어 점수를 입력하세요\"))  #input은 문자로 받기 때문에 계산하려면 숫자로 강제적으로 변환 필요\n",
    "math = int(input(\"수학 점수를 입력하세요\"))\n",
    "english = int(input(\"영어 점수를 입력하세요\"))\n",
    "social = int(input(\"사회 점수를 입력하세요\"))\n",
    "\n",
    "avg_score = (korean + math + english + social)/4\n",
    "print(\"평균 : {}\".format(avg_score))"
   ]
  },
  {
   "cell_type": "code",
   "execution_count": 35,
   "metadata": {},
   "outputs": [
    {
     "name": "stdout",
     "output_type": "stream",
     "text": [
      "한국어 점수를 입력하세요80\n",
      "수학 점수를 입력하세요55\n",
      "영어 점수를 입력하세요75\n",
      "사회 점수를 입력하세요80\n",
      "평균 점수 : 72.5\n"
     ]
    }
   ],
   "source": [
    "zumsums = []\n",
    "zumsums.append(int(input(\"한국어 점수를 입력하세요\")))\n",
    "zumsums.append(int(input(\"수학 점수를 입력하세요\")))\n",
    "zumsums.append(int(input(\"영어 점수를 입력하세요\")))\n",
    "zumsums.append(int(input(\"사회 점수를 입력하세요\")))\n",
    "\n",
    "print(\"평균 점수 :\", sum(zumsums) / len(zumsums))"
   ]
  },
  {
   "cell_type": "code",
   "execution_count": 40,
   "metadata": {},
   "outputs": [
    {
     "name": "stdout",
     "output_type": "stream",
     "text": [
      "국어성적을 입력하세요85\n",
      "수학성적을 입력하세요75\n",
      "과학성적을 입력하세요95\n",
      "사회성적을 입력하세요77\n",
      "영어성적을 입력하세요86\n",
      "음악성적을 입력하세요85\n",
      "미술성적을 입력하세요68\n",
      "체육성적을 입력하세요89\n",
      "평균 점수 : 82.5\n"
     ]
    }
   ],
   "source": [
    "#번외로 우리가 국어, 수학, 과학, 사회,, 영어, 음악, 미술, 체육\n",
    "subjects = [\"국어\",\"수학\",\"과학\",\"사회\",\"영어\",\"음악\",\"미술\",\"체육\"]\n",
    "zumsums = []\n",
    "\n",
    "for subject in subjects:\n",
    "    txt = subject + \"성적을 입력하세요\"\n",
    "    zumsums.append(int(input(txt)))\n",
    "print(\"평균 점수 :\", sum(zumsums) / len(zumsums))"
   ]
  },
  {
   "cell_type": "markdown",
   "metadata": {},
   "source": [
    "* Q) 주어진 수가 홀수인지, 아니면 짝수인지 판별할 수 있는 방법을 제시하여라."
   ]
  },
  {
   "cell_type": "code",
   "execution_count": 42,
   "metadata": {},
   "outputs": [
    {
     "name": "stdout",
     "output_type": "stream",
     "text": [
      "홀짝을 판단하고자 하는 수를 입력하세요57\n",
      "홀수입니다.\n"
     ]
    }
   ],
   "source": [
    "num = int(input(\"홀짝을 판단하고자 하는 수를 입력하세요\"))\n",
    "if num % 2 == 0:\n",
    "    print(\"짝수입니다.\")\n",
    "##else:\n",
    "##    print(\"FALSE\")\n",
    "elif num % 2 == 1:\n",
    "    print(\"홀수입니다.\")\n",
    "else:\n",
    "    print(\"입력한 수를 점검하세요.\")"
   ]
  },
  {
   "cell_type": "markdown",
   "metadata": {},
   "source": [
    "* Q) 주어진 수가 홀수인지, 아니면 짝수인지 판별할 수 있는 방법을 함수로 만들어보세요~ -> 바로 위의 문제에 대해서 함수로 만들어 보라는 의미임!"
   ]
  },
  {
   "cell_type": "code",
   "execution_count": 16,
   "metadata": {
    "scrolled": true
   },
   "outputs": [
    {
     "data": {
      "text/plain": [
       "'짝수입니다'"
      ]
     },
     "execution_count": 16,
     "metadata": {},
     "output_type": "execute_result"
    }
   ],
   "source": [
    "def num_fun(*args):    #args는 리스트로 받는 것이기 때문에 인덱스로 하나의 값만이라고 표현해 주어야 돌아가게 됨\n",
    "    if args[0] % 2 ==0:\n",
    "        return(\"짝수입니다\")\n",
    "    elif args[0] % 2 ==1:\n",
    "        return(\"홀수입니다\")\n",
    "    else:\n",
    "        return(\"입력한 수를 확인하세요\")\n",
    "num_fun(22)"
   ]
  },
  {
   "cell_type": "code",
   "execution_count": 18,
   "metadata": {},
   "outputs": [
    {
     "data": {
      "text/plain": [
       "'짝수입니다.'"
      ]
     },
     "execution_count": 18,
     "metadata": {},
     "output_type": "execute_result"
    }
   ],
   "source": [
    "#함수 : 입력 : 숫자 1개  / 출력 : 입력 숫자에 대한 홀/짝 결과에 대한 문자열로 알려주겠다.\n",
    "def check_eo(num):\n",
    "    if num % 2 == 0:\n",
    "        return \"짝수입니다.\"  #출력을 뽑아내기 위해서는 return사용\n",
    "    elif num % 2 == 1:\n",
    "        return \"홀수입니다.\"\n",
    "    else:\n",
    "        return \"입력한 수를 확인하세요\"\n",
    "\n",
    "check_eo(88)"
   ]
  },
  {
   "cell_type": "markdown",
   "metadata": {},
   "source": [
    "* Q) a = [1, 2, 3, 4,5]라는 리스트를 만들고, 여기에다가 append, insert를 활용하여 a= [1,2,\"hello\",4,5,\"Hi\",\"Monday\"]를 만들어라"
   ]
  },
  {
   "cell_type": "code",
   "execution_count": 12,
   "metadata": {},
   "outputs": [
    {
     "data": {
      "text/plain": [
       "[1, 2, 'Hello', 3, 4, 5, 'Hi', 'Monday']"
      ]
     },
     "execution_count": 12,
     "metadata": {},
     "output_type": "execute_result"
    }
   ],
   "source": [
    "a = [1, 2, 3, 4,5]\n",
    "a.append('Hi')\n",
    "a.append('Monday')\n",
    "a.insert(2, 'Hello')\n",
    "a"
   ]
  },
  {
   "cell_type": "code",
   "execution_count": 25,
   "metadata": {},
   "outputs": [
    {
     "data": {
      "text/plain": [
       "[1, 2, 3, 4, 5, 'Hi', 'Monday']"
      ]
     },
     "execution_count": 25,
     "metadata": {},
     "output_type": "execute_result"
    }
   ],
   "source": [
    "a = [1, 2, 3, 4,5]\n",
    "# a.append([\"HI\",\"Monday\"]) 이렇게 되명 [ ] 묶여서 들어가게 됨\n",
    "a.extend([\"Hi\",\"Monday\"]) #확장\n",
    "a"
   ]
  },
  {
   "cell_type": "code",
   "execution_count": 27,
   "metadata": {},
   "outputs": [
    {
     "data": {
      "text/plain": [
       "[1, 2, 3, 4, 5, 'Hi', 'Mondday']"
      ]
     },
     "execution_count": 27,
     "metadata": {},
     "output_type": "execute_result"
    }
   ],
   "source": [
    "a = [1, 2, 3, 4,5]\n",
    "a + [\"Hi\",\"Mondday\"]  #원하는데로 보이지만 a에 업데이트 되지 않음"
   ]
  },
  {
   "cell_type": "markdown",
   "metadata": {},
   "source": [
    "* Q) 10을 2로 나눈 몫하고 210을 3으로 나눈 몫하고 같은지 비교하시오!"
   ]
  },
  {
   "cell_type": "code",
   "execution_count": 13,
   "metadata": {},
   "outputs": [
    {
     "name": "stdout",
     "output_type": "stream",
     "text": [
      "FALSE\n"
     ]
    }
   ],
   "source": [
    "a = 10 // 2\n",
    "b = 210 // 3\n",
    "if a == b:\n",
    "    print(\"TRUE\")\n",
    "else:\n",
    "    print(\"FALSE\")"
   ]
  },
  {
   "cell_type": "code",
   "execution_count": 53,
   "metadata": {},
   "outputs": [
    {
     "data": {
      "text/plain": [
       "False"
      ]
     },
     "execution_count": 53,
     "metadata": {},
     "output_type": "execute_result"
    }
   ],
   "source": [
    "#비교 연산자 + 산술 연산자\n",
    "(10 // 2) == (210 // 3)"
   ]
  },
  {
   "cell_type": "code",
   "execution_count": 54,
   "metadata": {},
   "outputs": [
    {
     "data": {
      "text/plain": [
       "True"
      ]
     },
     "execution_count": 54,
     "metadata": {},
     "output_type": "execute_result"
    }
   ],
   "source": [
    "(10 // 2) != (210 // 3)"
   ]
  },
  {
   "cell_type": "markdown",
   "metadata": {},
   "source": [
    "* Q) 12345를 4로 나눈 나머지하고, 54321을 2로 나눈 나머지하고 비교하시오!!!"
   ]
  },
  {
   "cell_type": "code",
   "execution_count": 33,
   "metadata": {},
   "outputs": [
    {
     "name": "stdout",
     "output_type": "stream",
     "text": [
      "TRUE\n"
     ]
    }
   ],
   "source": [
    "c = 12345 % 4\n",
    "d = 54321 % 2\n",
    "if c == d:\n",
    "    print(\"TRUE\")\n",
    "else:\n",
    "    print(\"FALSE\")"
   ]
  },
  {
   "cell_type": "code",
   "execution_count": 55,
   "metadata": {},
   "outputs": [
    {
     "data": {
      "text/plain": [
       "True"
      ]
     },
     "execution_count": 55,
     "metadata": {},
     "output_type": "execute_result"
    }
   ],
   "source": [
    "(12345 % 4) == (54321 % 2)"
   ]
  },
  {
   "cell_type": "markdown",
   "metadata": {},
   "source": [
    "* a = [1, 2, 3, ['aa', 'bb', 'cc', ['hello', 'hi', 'hahaha']]] 에서 i를 접근해보세요. 정수 인덱스를 활용해서.."
   ]
  },
  {
   "cell_type": "code",
   "execution_count": 58,
   "metadata": {},
   "outputs": [
    {
     "name": "stdout",
     "output_type": "stream",
     "text": [
      "[1, 2, 3, ['aa', 'bb', 'cc', ['hello', 'hi', 'hahaha']]]\n",
      "i\n"
     ]
    }
   ],
   "source": [
    "a = [1, 2, 3, ['aa', 'bb', 'cc', ['hello', 'hi', 'hahaha']]]\n",
    "print(a)\n",
    "print(a[3][3][1][1]) \n",
    "#중요한 사항은 바로 위의 값을 작성하는 것이 아니라 순차적으로 하나씩 찾아가면서 원하는 정보까지 도달하는 것\n",
    "#직접 하나씩 찾아가는 것이 중요! json 정보 수집할 때!"
   ]
  },
  {
   "cell_type": "markdown",
   "metadata": {},
   "source": [
    "* Q) a = [\"a\",\"b\",\"c\",\"d\",\"e\",\"f\",\"g\",\"h\",\"i\",\"j\",\"k\",1,2,3,4,5]  \n",
    "1) :를 사용하여 a의 모든 값을  출력하세요  \n",
    "2) :를 사용하여 a의 처음부터 5번째 까지 값을 출력하세요.  \n",
    "3) :를 사용하여 a의 4번째부터 끝까지 값을 출력하세요.  \n",
    "4) :를 사용하여 a의 2번째부터 6번째까지 값을 출력하세요.  \n",
    "5) :를 사용하여 a의 홀수번째 위치한 값들을 출력하세요.  \n",
    "6) :를 사용하여 a의 1,4,7,10번째 위치한 값들을 출력하세요!!\n"
   ]
  },
  {
   "cell_type": "code",
   "execution_count": 46,
   "metadata": {},
   "outputs": [
    {
     "name": "stdout",
     "output_type": "stream",
     "text": [
      "['a', 'b', 'c', 'd', 'e', 'f', 'g', 'h', 'i', 'j', 'k', 1, 2, 3, 4, 5]\n",
      "['a', 'b', 'c', 'd']\n",
      "['d', 'e', 'f', 'g', 'h', 'i', 'j', 'k', 1, 2, 3, 4]\n",
      "['b', 'c', 'd', 'e']\n",
      "['a', 'c', 'e', 'g', 'i', 'k', 2, 4]\n",
      "['a', 'd', 'g', 'j']\n"
     ]
    }
   ],
   "source": [
    "a = [\"a\",\"b\",\"c\",\"d\",\"e\",\"f\",\"g\",\"h\",\"i\",\"j\",\"k\",1,2,3,4,5]\n",
    "print(a[ : ])\n",
    "print(a[0:4])\n",
    "print(a[3:len(a)-1])\n",
    "print(a[1:5])\n",
    "print(a[::2])\n",
    "print(a[0:10:3])"
   ]
  },
  {
   "cell_type": "code",
   "execution_count": null,
   "metadata": {},
   "outputs": [],
   "source": [
    "#슬라이싱 -> '인덱스'에서 여러개의 값을 연속될 때(슬라이딩도어 생각)\n",
    "#인덱스 자리에 들어가게 되고[시작점:끝점:간격]\n",
    "#생략이 되면 시작점은 처음, 끝점은 맨끝, 간격은 1로 기본값이 되어있음\n",
    "#참고) range(시작점, 끝점(빠지고),간격) -> 내가 필요한 수를 규칙을 통해서 생성할 때 -> 반복문 for과 같이 주로 사용"
   ]
  },
  {
   "cell_type": "code",
   "execution_count": 59,
   "metadata": {},
   "outputs": [
    {
     "name": "stdout",
     "output_type": "stream",
     "text": [
      "['a', 'b', 'c', 'd', 'e', 'f', 'g', 'h', 'i', 'j', 'k', 1, 2, 3, 4, 5]\n",
      "['a', 'b', 'c', 'd', 'e', 'f', 'g', 'h', 'i', 'j', 'k', 1, 2, 3, 4, 5]\n",
      "['e', 'f', 'g', 'h', 'i', 'j', 'k', 1, 2, 3, 4, 5]\n",
      "['b', 'c', 'd', 'e', 'f']\n",
      "['a', 'c', 'e', 'g', 'i', 'k', 2, 4]\n",
      "['a', 'd', 'g', 'j']\n"
     ]
    }
   ],
   "source": [
    "a = [\"a\",\"b\",\"c\",\"d\",\"e\",\"f\",\"g\",\"h\",\"i\",\"j\",\"k\",1,2,3,4,5]\n",
    "print(a[:])\n",
    "print(a[:len(a)])\n",
    "print(a[4:])\n",
    "print(a[1:6])\n",
    "print(a[::2])\n",
    "print(a[:11:3]) #이 문제에서는 간격에 대해서 잘 사용하는 것이 중요"
   ]
  },
  {
   "cell_type": "markdown",
   "metadata": {},
   "source": [
    "* Q) a = {\"A\":90, \"B\":80,\"C\":70 } 이 중에서 \"B\"의 점수를 출력해보세요!"
   ]
  },
  {
   "cell_type": "code",
   "execution_count": 48,
   "metadata": {},
   "outputs": [
    {
     "data": {
      "text/plain": [
       "80"
      ]
     },
     "execution_count": 48,
     "metadata": {},
     "output_type": "execute_result"
    }
   ],
   "source": [
    "a = {\"A\":90, \"B\":80,\"C\":70 }\n",
    "a[\"B\"] #key값을 적어줘야함 (정확하게 대소문자, 공백까지 key값과 동일하게 적어야함)"
   ]
  },
  {
   "cell_type": "markdown",
   "metadata": {},
   "source": [
    "Q) a = {\"A\":30, \"B\":50, \"C\":10,\"D\":43, \"E\":85, \"F\":76,\"G\":32} 이 중에서 최고점과 최저점을 찾으세요!!!"
   ]
  },
  {
   "cell_type": "code",
   "execution_count": 3,
   "metadata": {},
   "outputs": [
    {
     "name": "stdout",
     "output_type": "stream",
     "text": [
      "10\n",
      "85\n"
     ]
    }
   ],
   "source": [
    "a = {\"A\":30, \"B\":50, \"C\":10,\"D\":43, \"E\":85, \"F\":76,\"G\":32}\n",
    "b = a.values()\n",
    "print(max(b))\n",
    "print(min(b))"
   ]
  },
  {
   "cell_type": "code",
   "execution_count": 60,
   "metadata": {},
   "outputs": [
    {
     "name": "stdout",
     "output_type": "stream",
     "text": [
      "10\n",
      "85\n"
     ]
    }
   ],
   "source": [
    "a = {\"A\":30, \"B\":50, \"C\":10,\"D\":43, \"E\":85, \"F\":76,\"G\":32}\n",
    "a.keys()\n",
    "a.values()\n",
    "print(min(a.values()))\n",
    "print(max(a.values()))"
   ]
  },
  {
   "cell_type": "markdown",
   "metadata": {},
   "source": [
    "Q) a = {\"A\":30, \"B\":50, \"C\":10,\"D\":43, \"E\":85, \"F\":76,\"G\":32} 이 중에서 최고점과 최저점이 누구인지 찾으세요!!!"
   ]
  },
  {
   "cell_type": "code",
   "execution_count": 5,
   "metadata": {},
   "outputs": [
    {
     "name": "stdout",
     "output_type": "stream",
     "text": [
      "최고점 :  E\n",
      "최저점 :  C\n"
     ]
    }
   ],
   "source": [
    "a = {\"A\":30, \"B\":50, \"C\":10,\"D\":43, \"E\":85, \"F\":76,\"G\":32}\n",
    "a.keys()\n",
    "b = max(a.values())\n",
    "c = min(a.values())\n",
    "for i in a.keys\n",
    "    if a[i] == b:\n",
    "        return \"최고점 : \" ,i\n",
    "    if a[i] == c:\n",
    "        return \"최저점 : \", i"
   ]
  },
  {
   "cell_type": "code",
   "execution_count": 65,
   "metadata": {},
   "outputs": [
    {
     "data": {
      "text/plain": [
       "dict_items([('A', 30), ('B', 50), ('C', 10), ('D', 43), ('E', 85), ('F', 76), ('G', 32)])"
      ]
     },
     "execution_count": 65,
     "metadata": {},
     "output_type": "execute_result"
    }
   ],
   "source": [
    "a.items() #key와 value로 묶기"
   ]
  },
  {
   "cell_type": "code",
   "execution_count": 66,
   "metadata": {},
   "outputs": [
    {
     "name": "stdout",
     "output_type": "stream",
     "text": [
      "A\n",
      "B\n",
      "C\n",
      "D\n",
      "E\n",
      "F\n",
      "G\n"
     ]
    }
   ],
   "source": [
    "for i in a.keys(): #for i in a:랑 같음\n",
    "    print(i)"
   ]
  },
  {
   "cell_type": "code",
   "execution_count": 68,
   "metadata": {},
   "outputs": [
    {
     "name": "stdout",
     "output_type": "stream",
     "text": [
      "('A', 30)\n",
      "('B', 50)\n",
      "('C', 10)\n",
      "('D', 43)\n",
      "('E', 85)\n",
      "('F', 76)\n",
      "('G', 32)\n"
     ]
    }
   ],
   "source": [
    "for i in a.items(): \n",
    "    print(i)"
   ]
  },
  {
   "cell_type": "code",
   "execution_count": 70,
   "metadata": {},
   "outputs": [
    {
     "name": "stdout",
     "output_type": "stream",
     "text": [
      "('A', 30)\n",
      "key: A\n",
      "value: 30\n",
      "----------\n",
      "('B', 50)\n",
      "key: B\n",
      "value: 50\n",
      "----------\n",
      "('C', 10)\n",
      "key: C\n",
      "value: 10\n",
      "----------\n",
      "('D', 43)\n",
      "key: D\n",
      "value: 43\n",
      "----------\n",
      "('E', 85)\n",
      "key: E\n",
      "value: 85\n",
      "----------\n",
      "('F', 76)\n",
      "key: F\n",
      "value: 76\n",
      "----------\n",
      "('G', 32)\n",
      "key: G\n",
      "value: 32\n",
      "----------\n"
     ]
    }
   ],
   "source": [
    "for i in a.items(): \n",
    "    print(i)\n",
    "    print(\"key:\",i[0] )\n",
    "    print(\"value:\",i[1] )\n",
    "    print(\"--\" *5)"
   ]
  },
  {
   "cell_type": "code",
   "execution_count": 72,
   "metadata": {},
   "outputs": [
    {
     "name": "stdout",
     "output_type": "stream",
     "text": [
      "A\n",
      "30\n",
      "-----\n",
      "B\n",
      "50\n",
      "-----\n",
      "C\n",
      "10\n",
      "-----\n",
      "D\n",
      "43\n",
      "-----\n",
      "E\n",
      "85\n",
      "-----\n",
      "F\n",
      "76\n",
      "-----\n",
      "G\n",
      "32\n",
      "-----\n"
     ]
    }
   ],
   "source": [
    "for k,v in a.items():   #for문의 변수의 여러개  -> 중요!\n",
    "    print(k)\n",
    "    print(v)\n",
    "    print(\"-----\")"
   ]
  },
  {
   "cell_type": "code",
   "execution_count": 75,
   "metadata": {},
   "outputs": [
    {
     "name": "stdout",
     "output_type": "stream",
     "text": [
      "최소점 학생 : C\n",
      "최대점 학생 : E\n"
     ]
    }
   ],
   "source": [
    "#주어진 값들에서 최소값, 최대값을 찾기\n",
    "min_val = min(a.values())\n",
    "max_val = max(a.values())\n",
    "\n",
    "for name,score in a.items():   \n",
    "    if score == min_val:\n",
    "        print(\"최소점 학생 :\", name)\n",
    "    elif score == max_val:\n",
    "        print(\"최대점 학생 :\", name)\n",
    "    else:\n",
    "        pass\n"
   ]
  },
  {
   "cell_type": "code",
   "execution_count": 77,
   "metadata": {},
   "outputs": [
    {
     "name": "stdout",
     "output_type": "stream",
     "text": [
      "최소점 학생 : C\n",
      "최대점 학생 : E\n"
     ]
    }
   ],
   "source": [
    "min_val = min(a.values())\n",
    "max_val = max(a.values())\n",
    "\n",
    "for person in a.items(): #변수 하나만 받으면 안에 두 개 의 값이 들어있음\n",
    "    if person[1] == min_val:\n",
    "        print(\"최소점 학생 :\", person[0])\n",
    "    elif person[1] == max_val:\n",
    "        print(\"최대점 학생 :\", person[0])\n",
    "    else:\n",
    "        pass\n"
   ]
  },
  {
   "cell_type": "markdown",
   "metadata": {},
   "source": [
    "*Q) 1부터 20까지 모든 수를 출력하는 프로그램을 만드세요(for/range)"
   ]
  },
  {
   "cell_type": "code",
   "execution_count": 80,
   "metadata": {},
   "outputs": [
    {
     "name": "stdout",
     "output_type": "stream",
     "text": [
      "1\n",
      "2\n",
      "3\n",
      "4\n",
      "5\n",
      "6\n",
      "7\n",
      "8\n",
      "9\n",
      "10\n",
      "11\n",
      "12\n",
      "13\n",
      "14\n",
      "15\n",
      "16\n",
      "17\n",
      "18\n",
      "19\n",
      "20\n"
     ]
    }
   ],
   "source": [
    "for i in range(1,21):\n",
    "    print(i)"
   ]
  },
  {
   "cell_type": "code",
   "execution_count": null,
   "metadata": {},
   "outputs": [],
   "source": [
    "#중요한 부분 : 우리가 필요한 것들이 숫자라면 range함수를 이용해서 만들고\n",
    "#----> 거리에 덧붙여서 이것들을 돌려가면서 사용하려면 ..for와 함께\n",
    "#여기서 우리가 필요한 것은 1~20까지 숫자가 필요 -> range(단, 시작점이 0이 아님)\n",
    "#그 숫자들을 가지고 나는 할 것은 출력을 하는 것임\n",
    "#--> 한번에가 아니라 그 숫자들을 하나씩 사용하면서 출력\n",
    "for i in range(1,21,1)\n",
    "   print(i)"
   ]
  },
  {
   "cell_type": "markdown",
   "metadata": {},
   "source": [
    "* Q) \"hello_1\", \"hello_2\", ..., \"hello_20\"까지 출력하는 프로그램을 만드세요(for 사용)"
   ]
  },
  {
   "cell_type": "code",
   "execution_count": 84,
   "metadata": {},
   "outputs": [
    {
     "name": "stdout",
     "output_type": "stream",
     "text": [
      "hello_ 1\n",
      "hello_ 2\n",
      "hello_ 3\n",
      "hello_ 4\n",
      "hello_ 5\n",
      "hello_ 6\n",
      "hello_ 7\n",
      "hello_ 8\n",
      "hello_ 9\n",
      "hello_ 10\n",
      "hello_ 11\n",
      "hello_ 12\n",
      "hello_ 13\n",
      "hello_ 14\n",
      "hello_ 15\n",
      "hello_ 16\n",
      "hello_ 17\n",
      "hello_ 18\n",
      "hello_ 19\n",
      "hello_ 20\n"
     ]
    }
   ],
   "source": [
    "for i in range(1,21):\n",
    "    print(\"hello_\",i)"
   ]
  },
  {
   "cell_type": "code",
   "execution_count": 105,
   "metadata": {},
   "outputs": [
    {
     "name": "stdout",
     "output_type": "stream",
     "text": [
      "hello_1\n",
      "hello_2\n",
      "hello_3\n",
      "hello_4\n",
      "hello_5\n",
      "hello_6\n",
      "hello_7\n",
      "hello_8\n",
      "hello_9\n",
      "hello_10\n",
      "hello_11\n",
      "hello_12\n",
      "hello_13\n",
      "hello_14\n",
      "hello_15\n",
      "hello_16\n",
      "hello_17\n",
      "hello_18\n",
      "hello_19\n",
      "hello_20\n"
     ]
    }
   ],
   "source": [
    "for i in range(1, 21, 1):\n",
    "    temp = \"hello_\"+str(i)\n",
    "    print(temp)"
   ]
  },
  {
   "cell_type": "code",
   "execution_count": null,
   "metadata": {},
   "outputs": [],
   "source": [
    "#반복문의 또 다른 종류 : while문  -> 종료 조건 설계하였는지 체크\n",
    "while 조건이 참일 때 까지:  (*꼭 언제 굴레에소 나갈지 종료 조건에 대한 설정!)\n",
    "    무엇을 수행할지 기록! \n",
    "#반복문 : for vs while\n",
    "for : 딱 정해진 값들만 돌린다\n",
    "while : 조건이 만족할 때까지 죽어라 돌린다 -> 그러므로 빠져나갈 부분 설계 필요"
   ]
  },
  {
   "cell_type": "code",
   "execution_count": 107,
   "metadata": {},
   "outputs": [
    {
     "name": "stdout",
     "output_type": "stream",
     "text": [
      "1\n",
      "2\n",
      "3\n",
      "4\n",
      "5\n",
      "6\n",
      "7\n",
      "8\n",
      "9\n",
      "10\n",
      "11\n",
      "12\n",
      "13\n",
      "14\n",
      "15\n",
      "16\n",
      "17\n",
      "18\n",
      "19\n",
      "20\n"
     ]
    }
   ],
   "source": [
    "i = 1 \n",
    "while i < 21: #i 값이 21보다 작을 때까지 무한히 돌자 아니면 종료\n",
    "    print(i)\n",
    "    i = i + 1\n",
    "   \n"
   ]
  },
  {
   "cell_type": "code",
   "execution_count": 108,
   "metadata": {},
   "outputs": [
    {
     "name": "stdout",
     "output_type": "stream",
     "text": [
      "1\n",
      "2\n",
      "3\n",
      "4\n",
      "5\n",
      "6\n",
      "7\n",
      "8\n",
      "9\n",
      "10\n",
      "11\n",
      "12\n",
      "13\n",
      "14\n",
      "15\n",
      "16\n",
      "17\n",
      "18\n",
      "19\n",
      "20\n"
     ]
    }
   ],
   "source": [
    "i = 20\n",
    "while i >0:\n",
    "    print(21-i)\n",
    "    i = i - 1"
   ]
  },
  {
   "cell_type": "markdown",
   "metadata": {},
   "source": [
    "* Q) a = [\"one\",\"two\",\"three\",\"four\"] 과 for문을 이용하여\n",
    "b = ['one1', 'two2', 'three3', 'four4']을 만드세요.  \n",
    "1) for& range 방법   \n",
    "2) for & a 바로 방법   \n",
    "2가지 방식으로 하세요!!!\n"
   ]
  },
  {
   "cell_type": "code",
   "execution_count": 104,
   "metadata": {},
   "outputs": [
    {
     "name": "stdout",
     "output_type": "stream",
     "text": [
      "one 1\n",
      "two 2\n",
      "three 3\n",
      "four 4\n"
     ]
    },
    {
     "ename": "IndexError",
     "evalue": "list index out of range",
     "output_type": "error",
     "traceback": [
      "\u001b[1;31m---------------------------------------------------------------------------\u001b[0m",
      "\u001b[1;31mIndexError\u001b[0m                                Traceback (most recent call last)",
      "\u001b[1;32m~\\AppData\\Local\\Temp/ipykernel_8336/3508918239.py\u001b[0m in \u001b[0;36m<module>\u001b[1;34m\u001b[0m\n\u001b[0;32m      1\u001b[0m \u001b[0ma\u001b[0m \u001b[1;33m=\u001b[0m \u001b[1;33m[\u001b[0m\u001b[1;34m\"one\"\u001b[0m\u001b[1;33m,\u001b[0m\u001b[1;34m\"two\"\u001b[0m\u001b[1;33m,\u001b[0m\u001b[1;34m\"three\"\u001b[0m\u001b[1;33m,\u001b[0m\u001b[1;34m\"four\"\u001b[0m\u001b[1;33m]\u001b[0m\u001b[1;33m\u001b[0m\u001b[1;33m\u001b[0m\u001b[0m\n\u001b[0;32m      2\u001b[0m \u001b[1;32mfor\u001b[0m \u001b[0mi\u001b[0m \u001b[1;32min\u001b[0m \u001b[0mrange\u001b[0m\u001b[1;33m(\u001b[0m\u001b[1;36m0\u001b[0m\u001b[1;33m,\u001b[0m\u001b[1;36m5\u001b[0m\u001b[1;33m)\u001b[0m\u001b[1;33m:\u001b[0m\u001b[1;33m\u001b[0m\u001b[1;33m\u001b[0m\u001b[0m\n\u001b[1;32m----> 3\u001b[1;33m      \u001b[0mprint\u001b[0m\u001b[1;33m(\u001b[0m\u001b[0ma\u001b[0m\u001b[1;33m[\u001b[0m\u001b[0mi\u001b[0m\u001b[1;33m]\u001b[0m\u001b[1;33m,\u001b[0m\u001b[0mi\u001b[0m\u001b[1;33m+\u001b[0m\u001b[1;36m1\u001b[0m\u001b[1;33m)\u001b[0m\u001b[1;33m\u001b[0m\u001b[1;33m\u001b[0m\u001b[0m\n\u001b[0m",
      "\u001b[1;31mIndexError\u001b[0m: list index out of range"
     ]
    }
   ],
   "source": [
    "a = [\"one\",\"two\",\"three\",\"four\"]\n",
    "for i in range(0,5):\n",
    "     print(a[i],i+1)\n",
    "b = "
   ]
  },
  {
   "cell_type": "code",
   "execution_count": 112,
   "metadata": {},
   "outputs": [
    {
     "data": {
      "text/plain": [
       "['one1', 'two2', 'three3', 'four4']"
      ]
     },
     "execution_count": 112,
     "metadata": {},
     "output_type": "execute_result"
    }
   ],
   "source": [
    "a = [\"one\",\"two\",\"three\",\"four\"]\n",
    "b = []\n",
    "for i in range(1,5,1):\n",
    "    temp = a[i-1]+str(i)\n",
    "    b.append(temp)\n",
    "b"
   ]
  },
  {
   "cell_type": "code",
   "execution_count": 114,
   "metadata": {},
   "outputs": [
    {
     "data": {
      "text/plain": [
       "['one1', 'two2', 'three3', 'four4']"
      ]
     },
     "execution_count": 114,
     "metadata": {},
     "output_type": "execute_result"
    }
   ],
   "source": [
    "b = []\n",
    "for i in range(0,len(a)):\n",
    "    temp = a[i] + str(i+1)\n",
    "    b.append(temp)\n",
    "b"
   ]
  },
  {
   "cell_type": "code",
   "execution_count": 116,
   "metadata": {},
   "outputs": [
    {
     "name": "stdout",
     "output_type": "stream",
     "text": [
      "one\n",
      "two\n",
      "three\n",
      "four\n"
     ]
    }
   ],
   "source": [
    "for i in a:\n",
    "    print(i)"
   ]
  },
  {
   "cell_type": "code",
   "execution_count": 117,
   "metadata": {},
   "outputs": [
    {
     "data": {
      "text/plain": [
       "['one1', 'two2', 'three3', 'four4']"
      ]
     },
     "execution_count": 117,
     "metadata": {},
     "output_type": "execute_result"
    }
   ],
   "source": [
    "num = 1\n",
    "b =[]\n",
    "for i in a:\n",
    "    temp = i + str(num)\n",
    "    b.append(temp)\n",
    "    num += 1\n",
    "b"
   ]
  },
  {
   "cell_type": "markdown",
   "metadata": {},
   "source": [
    "* Q) 1번/2번 학생의 시험 점수를 리스트로 만들고, 이에 대한 평균을 구하시오.  \n",
    "예: a = [10,20,30,40], b=[50,20,10,13]에 대해서, 각기 평균을 구하시오!   \n",
    "단, 시험 점수가 변동이 생길 수 있고, 시험 과목도 변동이 생길 수 있으니 a/b 중심으로 코드를 구현하세요!"
   ]
  },
  {
   "cell_type": "code",
   "execution_count": 14,
   "metadata": {},
   "outputs": [
    {
     "name": "stdout",
     "output_type": "stream",
     "text": [
      "46.0\n",
      "46.0\n"
     ]
    }
   ],
   "source": []
  },
  {
   "cell_type": "markdown",
   "metadata": {},
   "source": [
    "* Q)  a = [\"Life\", \"is\",\"too\", \"short\", \"you\",\"need\",\"python\"] a 리스트를 화룡해서 yoo too 출력해보기!!!"
   ]
  },
  {
   "cell_type": "code",
   "execution_count": 119,
   "metadata": {},
   "outputs": [
    {
     "name": "stdout",
     "output_type": "stream",
     "text": [
      "you too\n"
     ]
    }
   ],
   "source": [
    "a = [\"Life\", \"is\",\"too\", \"short\", \"you\",\"need\",\"python\"] \n",
    "print(a[4],a[2])"
   ]
  },
  {
   "cell_type": "code",
   "execution_count": 128,
   "metadata": {},
   "outputs": [
    {
     "data": {
      "text/plain": [
       "'you too'"
      ]
     },
     "execution_count": 128,
     "metadata": {},
     "output_type": "execute_result"
    }
   ],
   "source": [
    "a = [\"Life\", \"is\",\"too\", \"short\", \"you\",\"need\",\"python\"] \n",
    "temp = a[4]+\" \"+a[2]\n",
    "temp"
   ]
  },
  {
   "cell_type": "markdown",
   "metadata": {},
   "source": [
    "* Q) [\"Life\", \"is\", \"too\",\"short\"]라는 리스트를 활용해서 Life is too short 이라는 문장 만들기!!!"
   ]
  },
  {
   "cell_type": "code",
   "execution_count": 123,
   "metadata": {},
   "outputs": [
    {
     "name": "stdout",
     "output_type": "stream",
     "text": [
      "Life is too short\n"
     ]
    }
   ],
   "source": [
    "a = [\"Life\", \"is\", \"too\",\"short\"]\n",
    "print(a[0],a[1],a[2],a[3])"
   ]
  },
  {
   "cell_type": "code",
   "execution_count": 129,
   "metadata": {},
   "outputs": [
    {
     "name": "stdout",
     "output_type": "stream",
     "text": [
      "Life  is  too  short\n"
     ]
    }
   ],
   "source": [
    "a = [\"Life\", \"is\", \"too\",\"short\"]\n",
    "result = \"  \".join(a)\n",
    "print(result)"
   ]
  },
  {
   "cell_type": "markdown",
   "metadata": {},
   "source": [
    "* Q)  a = [1,2,3,4,5,6] 이 리스트의 원소의 갯수는?"
   ]
  },
  {
   "cell_type": "code",
   "execution_count": 125,
   "metadata": {},
   "outputs": [
    {
     "data": {
      "text/plain": [
       "6"
      ]
     },
     "execution_count": 125,
     "metadata": {},
     "output_type": "execute_result"
    }
   ],
   "source": [
    "a = [1,2,3,4,5,6] \n",
    "len(a)"
   ]
  },
  {
   "cell_type": "markdown",
   "metadata": {},
   "source": [
    "* Q) a [ 1,2,3,4,5]라는 리스트를 [1,3,5]로 만들기!!!"
   ]
  },
  {
   "cell_type": "code",
   "execution_count": 139,
   "metadata": {},
   "outputs": [
    {
     "data": {
      "text/plain": [
       "[1, 3, 4, 5]"
      ]
     },
     "execution_count": 139,
     "metadata": {},
     "output_type": "execute_result"
    }
   ],
   "source": [
    "a = [ 1,2,3,4,5]\n",
    "a.pop(1)\n",
    "a"
   ]
  },
  {
   "cell_type": "code",
   "execution_count": 140,
   "metadata": {},
   "outputs": [
    {
     "data": {
      "text/plain": [
       "[1, 3, 5]"
      ]
     },
     "execution_count": 140,
     "metadata": {},
     "output_type": "execute_result"
    }
   ],
   "source": [
    "a.pop(2) #pop으로 뽑으면 인덱스 흔들리므로 조심하기\n",
    "a"
   ]
  },
  {
   "cell_type": "code",
   "execution_count": 142,
   "metadata": {},
   "outputs": [
    {
     "data": {
      "text/plain": [
       "[1, 2, 3, 5]"
      ]
     },
     "execution_count": 142,
     "metadata": {},
     "output_type": "execute_result"
    }
   ],
   "source": [
    "a = [ 1,2,3,4,5]\n",
    "a.remove(4) #값을 중심으로 지우는데, 동일하 값이 여러개면 그 중 앞에 1개만 삭제\n",
    "a"
   ]
  },
  {
   "cell_type": "markdown",
   "metadata": {},
   "source": [
    "Q) a=[100,200,300,400,500] 리스트에 있는 모든 원소에 다 10을 더해서 \n",
    "   b=[110,210,310,410,510]로 만들어보세요"
   ]
  },
  {
   "cell_type": "code",
   "execution_count": 148,
   "metadata": {},
   "outputs": [
    {
     "data": {
      "text/plain": [
       "[110, 210, 310, 410, 510]"
      ]
     },
     "execution_count": 148,
     "metadata": {},
     "output_type": "execute_result"
    }
   ],
   "source": [
    "a=[100,200,300,400,500]\n",
    "b =[]\n",
    "for i in a:\n",
    "    temp = i + 10\n",
    "    b.append(temp)\n",
    "b"
   ]
  },
  {
   "cell_type": "code",
   "execution_count": 154,
   "metadata": {},
   "outputs": [
    {
     "ename": "TypeError",
     "evalue": "can only concatenate list (not \"int\") to list",
     "output_type": "error",
     "traceback": [
      "\u001b[1;31m---------------------------------------------------------------------------\u001b[0m",
      "\u001b[1;31mTypeError\u001b[0m                                 Traceback (most recent call last)",
      "\u001b[1;32m~\\AppData\\Local\\Temp/ipykernel_8336/1700680849.py\u001b[0m in \u001b[0;36m<module>\u001b[1;34m\u001b[0m\n\u001b[0;32m      1\u001b[0m \u001b[0ma\u001b[0m\u001b[1;33m=\u001b[0m\u001b[1;33m[\u001b[0m\u001b[1;36m100\u001b[0m\u001b[1;33m,\u001b[0m\u001b[1;36m200\u001b[0m\u001b[1;33m,\u001b[0m\u001b[1;36m300\u001b[0m\u001b[1;33m,\u001b[0m\u001b[1;36m400\u001b[0m\u001b[1;33m,\u001b[0m\u001b[1;36m500\u001b[0m\u001b[1;33m]\u001b[0m\u001b[1;33m\u001b[0m\u001b[1;33m\u001b[0m\u001b[0m\n\u001b[1;32m----> 2\u001b[1;33m \u001b[0mb\u001b[0m \u001b[1;33m=\u001b[0m \u001b[0ma\u001b[0m \u001b[1;33m+\u001b[0m \u001b[1;36m10\u001b[0m\u001b[1;33m\u001b[0m\u001b[1;33m\u001b[0m\u001b[0m\n\u001b[0m",
      "\u001b[1;31mTypeError\u001b[0m: can only concatenate list (not \"int\") to list"
     ]
    }
   ],
   "source": [
    "a=[100,200,300,400,500]\n",
    "b = a + 10"
   ]
  },
  {
   "cell_type": "code",
   "execution_count": 151,
   "metadata": {},
   "outputs": [
    {
     "data": {
      "text/plain": [
       "[100, 200, 300, 400, 500]"
      ]
     },
     "execution_count": 151,
     "metadata": {},
     "output_type": "execute_result"
    }
   ],
   "source": [
    "a=[100,200,300,400,500]\n",
    "[i for i in a]  #a까지 돌리고 모으기"
   ]
  },
  {
   "cell_type": "code",
   "execution_count": 152,
   "metadata": {},
   "outputs": [
    {
     "data": {
      "text/plain": [
       "[110, 210, 310, 410, 510]"
      ]
     },
     "execution_count": 152,
     "metadata": {},
     "output_type": "execute_result"
    }
   ],
   "source": [
    "a=[100,200,300,400,500]\n",
    "[i+10 for i in a]  "
   ]
  },
  {
   "cell_type": "code",
   "execution_count": 153,
   "metadata": {},
   "outputs": [
    {
     "data": {
      "text/plain": [
       "array([11, 12, 13, 14, 15])"
      ]
     },
     "execution_count": 153,
     "metadata": {},
     "output_type": "execute_result"
    }
   ],
   "source": [
    "import numpy as np\n",
    "a = np.array([1,2,3,4,5])\n",
    "b = a + 10\n",
    "b"
   ]
  },
  {
   "cell_type": "markdown",
   "metadata": {},
   "source": [
    "a가 a=[100,200,300,400,500] : 원래는 수가 랜덤으로, 중복가능, 엄청 많이 있다고\n",
    "    a의 원소 값이 200과 400이 아닌 값들에 대해서만 찾아서 +10을 하세요"
   ]
  },
  {
   "cell_type": "code",
   "execution_count": 156,
   "metadata": {},
   "outputs": [
    {
     "data": {
      "text/plain": [
       "[110, 310, 510]"
      ]
     },
     "execution_count": 156,
     "metadata": {},
     "output_type": "execute_result"
    }
   ],
   "source": [
    "a = [100,200,300,400,500]\n",
    "b = []\n",
    "# i != 200 or i != 400보다는 아래 조건문 이용하는 것이 더 바람직\n",
    "for i in a:\n",
    "    if i not in [200,400]:  # i의 값이 리스트 안의 200,400에 없다면\n",
    "        b.append(i + 10)\n",
    "    else:\n",
    "        pass\n",
    "b"
   ]
  },
  {
   "cell_type": "code",
   "execution_count": 159,
   "metadata": {},
   "outputs": [
    {
     "data": {
      "text/plain": [
       "[110, 310, 510]"
      ]
     },
     "execution_count": 159,
     "metadata": {},
     "output_type": "execute_result"
    }
   ],
   "source": [
    "a = [100,200,300,400,500]\n",
    "[i+10 for i in a if i not in [200,400]]  #구조 외워두기!"
   ]
  },
  {
   "cell_type": "markdown",
   "metadata": {},
   "source": [
    "* Q) a = 10 양수, 음수, 0인지 판단을 하고 싶다!! --> 완성 후에는 input을 활용하여 하는 것으로 추가 구현"
   ]
  },
  {
   "cell_type": "code",
   "execution_count": 168,
   "metadata": {},
   "outputs": [
    {
     "name": "stdout",
     "output_type": "stream",
     "text": [
      "0,양수,음수 판단할 수를 입력해주세요5\n",
      "5는 양수이다\n"
     ]
    }
   ],
   "source": [
    "num = int(input(\"0,양수,음수 판단할 수를 입력해주세요\"))\n",
    "if num == 0:\n",
    "    print(str(num)+\"는 0이다\")\n",
    "elif num > 0:\n",
    "    print(str(num)+\"는 양수이다\")\n",
    "else:\n",
    "    print(str(num)+\"는 음수이다\")"
   ]
  },
  {
   "cell_type": "markdown",
   "metadata": {},
   "source": [
    "* Q1) 입력받은 양의 정수(자연수) 홀수/짝수인지 판단을 하고, 그 결과를 출력해주세요!!"
   ]
  },
  {
   "cell_type": "code",
   "execution_count": 27,
   "metadata": {},
   "outputs": [
    {
     "name": "stdout",
     "output_type": "stream",
     "text": [
      "홀짝을 판단하고자 하는 수를 입력하세요!!!-3\n",
      "이상해요1!!!!\n"
     ]
    }
   ],
   "source": []
  },
  {
   "cell_type": "markdown",
   "metadata": {},
   "source": [
    "* Q) * Q2) A라는 사람이 5000원의 돈을 가지고 있고, 카드는 없다.  \n",
    "A의 상태는   \n",
    "money = 5000  \n",
    "card = False  \n",
    "이 사람이 목적지까지 택시를 타고 가려고 한다.\n",
    "목적지까지 가기 위해서는 카드를 소유하고 있거나, 4000원 이상의 현금을 가지고 있어야 한다.\n",
    "A 는 이 목적지까지 갈 수 있는지 판단해보세요!!!"
   ]
  },
  {
   "cell_type": "code",
   "execution_count": 29,
   "metadata": {},
   "outputs": [
    {
     "name": "stdout",
     "output_type": "stream",
     "text": [
      "갈 수 있다!!!!\n"
     ]
    }
   ],
   "source": []
  },
  {
   "cell_type": "markdown",
   "metadata": {},
   "source": [
    "* Q) 입력을 받은 자연수에 대해서 몇 자리 수인지 판단하세요!!!(최대 9999까지)"
   ]
  },
  {
   "cell_type": "code",
   "execution_count": 7,
   "metadata": {},
   "outputs": [
    {
     "name": "stdout",
     "output_type": "stream",
     "text": [
      "세자리수\n"
     ]
    }
   ],
   "source": []
  },
  {
   "cell_type": "markdown",
   "metadata": {},
   "source": [
    "* Q) a = 10, b = 20을 가지고, a=20, b=10이라고 서로 수를 바꾸는 프로그램을 작성하시오!!!"
   ]
  },
  {
   "cell_type": "code",
   "execution_count": 35,
   "metadata": {},
   "outputs": [
    {
     "name": "stdout",
     "output_type": "stream",
     "text": [
      "처음 입력20\n",
      "두번째 입력30\n",
      "변화된 a값: 30\n",
      "변화된 b값: 20\n"
     ]
    }
   ],
   "source": []
  },
  {
   "cell_type": "markdown",
   "metadata": {},
   "source": [
    "* Q) kg에 대한 값을 g으로 변환하는 프로그램을 작성하시오(예:1.2kg => 1200g)"
   ]
  },
  {
   "cell_type": "code",
   "execution_count": 38,
   "metadata": {},
   "outputs": [
    {
     "name": "stdout",
     "output_type": "stream",
     "text": [
      "입력하세요[kg]!!!1.2\n",
      "1200.0\n"
     ]
    }
   ],
   "source": []
  },
  {
   "cell_type": "markdown",
   "metadata": {},
   "source": [
    "* Q) g에 대한 값을 kg으로 변환하는 프로그램을 작성하시오!(예:1200g ==> 1.2kg)"
   ]
  },
  {
   "cell_type": "code",
   "execution_count": 39,
   "metadata": {},
   "outputs": [
    {
     "name": "stdout",
     "output_type": "stream",
     "text": [
      "입력하세요[g]!!!1234\n",
      "1.234\n"
     ]
    }
   ],
   "source": []
  },
  {
   "cell_type": "markdown",
   "metadata": {},
   "source": [
    "* Q)  3개의 수에 대해서, 가장 큰 수를 찾는 프로그램을 작성하시오!!!\n",
    "(예를 들면, 10, 20, 17이라는 3개의 수가 있다고 하면, 이 중에서 제일 큰 수 20을 찾는 프로그램)"
   ]
  },
  {
   "cell_type": "code",
   "execution_count": 1,
   "metadata": {},
   "outputs": [
    {
     "name": "stdout",
     "output_type": "stream",
     "text": [
      "20\n"
     ]
    }
   ],
   "source": []
  },
  {
   "cell_type": "markdown",
   "metadata": {},
   "source": [
    "* Q) 1부터 100까지 합!!!!"
   ]
  },
  {
   "cell_type": "code",
   "execution_count": 42,
   "metadata": {},
   "outputs": [
    {
     "name": "stdout",
     "output_type": "stream",
     "text": [
      "5050\n"
     ]
    }
   ],
   "source": []
  },
  {
   "cell_type": "markdown",
   "metadata": {},
   "source": [
    "* Q) 1부터 100까지 곱!!"
   ]
  },
  {
   "cell_type": "code",
   "execution_count": 43,
   "metadata": {},
   "outputs": [
    {
     "name": "stdout",
     "output_type": "stream",
     "text": [
      "93326215443944152681699238856266700490715968264381621468592963895217599993229915608941463976156518286253697920827223758251185210916864000000000000000000000000\n"
     ]
    }
   ],
   "source": []
  },
  {
   "cell_type": "markdown",
   "metadata": {},
   "source": [
    "* Q) 시험 성적 점수 [90, 80,35,24,65,74,93]  \n",
    "시험 통과가 60점 이상이라고 할 때,\n",
    "몇 번째 학생이 통과했는지 알려주세요!!!!!"
   ]
  },
  {
   "cell_type": "code",
   "execution_count": 169,
   "metadata": {},
   "outputs": [
    {
     "data": {
      "text/plain": [
       "5"
      ]
     },
     "execution_count": 169,
     "metadata": {},
     "output_type": "execute_result"
    }
   ],
   "source": [
    "#방법1)\n",
    "#기존 방식\n",
    "#학생의 점수들을 돌아가면서 :for\n",
    "#---> 점수가 60점 이상인지 아닌지 판단: if\n",
    "#-----> 60점 이상이면.. : counting -> counting용 변수 필요\n",
    "score =  [90, 80,35,24,65,74,93]\n",
    "score_num = []\n",
    "for i in score:\n",
    "    if i > 60:\n",
    "        score_num.append(i)\n",
    "    else:\n",
    "        pass\n",
    "len(score_num)        "
   ]
  },
  {
   "cell_type": "code",
   "execution_count": 176,
   "metadata": {},
   "outputs": [
    {
     "name": "stdout",
     "output_type": "stream",
     "text": [
      "5\n"
     ]
    }
   ],
   "source": [
    "cnt = 0 #카운팅용으로 사용\n",
    "zumsus =  [90, 80,35,24,65,74,93]\n",
    "for zum in zumsus:\n",
    "    if zum >= 60:\n",
    "        cnt += 1 # cnt = cnt + 1\n",
    "    else:\n",
    "        pass\n",
    "print(cnt)"
   ]
  },
  {
   "cell_type": "code",
   "execution_count": 171,
   "metadata": {},
   "outputs": [
    {
     "data": {
      "text/plain": [
       "5"
      ]
     },
     "execution_count": 171,
     "metadata": {},
     "output_type": "execute_result"
    }
   ],
   "source": [
    "#방법2)\n",
    "#리스트 컴프리핸션\n",
    "#-> 점수들에 대해서 60점 이상인 것들만 모으자  : comprehenstion\n",
    "#-> 몇 개 모였지? : len\n",
    "score =  [90, 80,35,24,65,74,93]\n",
    "len([i for i in score if i > 60 ])"
   ]
  },
  {
   "cell_type": "code",
   "execution_count": null,
   "metadata": {},
   "outputs": [],
   "source": [
    "[i for i in zumsus if i >= 60]"
   ]
  },
  {
   "cell_type": "markdown",
   "metadata": {},
   "source": [
    "* Q) [\"A\",\"B\",\"A\",\"O\",\"AB\",\"AB\",\"O\",\"A\",\"B\",\"AB\"] 이러한 혈핵형을 가지고 있을 때, for문을 이용해서 각 혈핵형별로 몇 명인지 총 인원을 구하세요!!!!"
   ]
  },
  {
   "cell_type": "code",
   "execution_count": 188,
   "metadata": {},
   "outputs": [
    {
     "name": "stdout",
     "output_type": "stream",
     "text": [
      "A형은 3명, B형은 2명, AB형은 3명, O형은 2명 입니다\n"
     ]
    }
   ],
   "source": [
    "a = [\"A\",\"B\",\"A\",\"O\",\"AB\",\"AB\",\"O\",\"A\",\"B\",\"AB\"]\n",
    "A = 0\n",
    "B = 0\n",
    "AB = 0\n",
    "O = 0\n",
    "for i in a:\n",
    "        if i == \"A\":\n",
    "             A += 1\n",
    "        elif i == \"B\":\n",
    "             B += 1\n",
    "        elif i == \"AB\":\n",
    "             AB += 1\n",
    "        elif i == \"O\":\n",
    "             O += 1\n",
    "        else:\n",
    "            print(\"잘못입력하셨습니다\")\n",
    "print(\"A형은\",str(A)+\"명, B형은\",str(B)+\"명, AB형은\",str(AB)+\"명, O형은\",str(O)+\"명 입니다\")"
   ]
  },
  {
   "cell_type": "code",
   "execution_count": 190,
   "metadata": {},
   "outputs": [
    {
     "name": "stdout",
     "output_type": "stream",
     "text": [
      "A형: 3\n",
      "B형: 0\n",
      "AB형: 7\n",
      "O형: 0\n"
     ]
    }
   ],
   "source": [
    "#방법1) 그냥 하기\n",
    "blood_data = [\"A\",\"B\",\"A\",\"O\",\"AB\",\"AB\",\"O\",\"A\",\"B\",\"AB\"]\n",
    "cnt_a = 0\n",
    "cnt_b = 0\n",
    "cnt_ab = 0\n",
    "cnt_o = 0\n",
    "\n",
    "for blood in blood_data:\n",
    "    if blood == \"A\":\n",
    "        cnt_a += 1\n",
    "    elif i == \"B\":\n",
    "        cnt_b += 1\n",
    "    elif i == \"AB\":\n",
    "        cnt_ab += 1\n",
    "    elif i == \"O\":\n",
    "        cnt_o += 1    \n",
    "print(\"A형:\",cnt_a)\n",
    "print(\"B형:\",cnt_b)\n",
    "print(\"AB형:\",cnt_ab)\n",
    "print(\"O형:\",cnt_o)"
   ]
  },
  {
   "cell_type": "code",
   "execution_count": 197,
   "metadata": {},
   "outputs": [
    {
     "data": {
      "text/plain": [
       "[3, 2, 3, 2]"
      ]
     },
     "execution_count": 197,
     "metadata": {},
     "output_type": "execute_result"
    }
   ],
   "source": [
    "#방법1 수정하기  -----> *많이 사용하는 구조*\n",
    "blood_data = [\"A\",\"B\",\"A\",\"O\",\"AB\",\"AB\",\"O\",\"A\",\"B\",\"AB\"]\n",
    "blood_types = [\"A\",\"B\",\"AB\",\"O\"]\n",
    "blood_counts = [0, 0, 0, 0]\n",
    "for blood in blood_data:\n",
    "    for i in range(len(blood_types)):\n",
    "        if blood == blood_types[i]:\n",
    "            blood_counts[i] = blood_counts[i] + 1\n",
    "        else:\n",
    "            pass\n",
    "blood_counts\n",
    "    "
   ]
  },
  {
   "cell_type": "code",
   "execution_count": 198,
   "metadata": {},
   "outputs": [
    {
     "name": "stdout",
     "output_type": "stream",
     "text": [
      "A 0\n",
      "B 0\n",
      "AB 0\n",
      "O 0\n"
     ]
    }
   ],
   "source": [
    "#컴프리핸션이 반복되어 나타나므로 for이용해서 다시 표현하기\n",
    "blood_data = [\"A\",\"B\",\"A\",\"O\",\"AB\",\"AB\",\"O\",\"A\",\"B\",\"AB\"]\n",
    "b_types =  [\"A\",\"B\",\"AB\",\"O\"]\n",
    "for b_type in b_types:\n",
    "    print(b_type, len([blood for blood in blood_data if blood == \"b_type\"]))"
   ]
  },
  {
   "cell_type": "markdown",
   "metadata": {},
   "source": [
    "* Q) [1,2,3,4,5,6,7,8,9,10,11,12] 중에서 홀수만 골라서  \n",
    "3을 곱하는 결과를 나타내시오!!!!"
   ]
  },
  {
   "cell_type": "code",
   "execution_count": 208,
   "metadata": {},
   "outputs": [
    {
     "name": "stdout",
     "output_type": "stream",
     "text": [
      "3\n",
      "9\n",
      "15\n",
      "21\n",
      "27\n",
      "33\n"
     ]
    }
   ],
   "source": [
    "#방법 1-1) 그냥 하는 방법 : for , if -> range 이용해서\n",
    "a = [1,2,3,4,5,6,7,8,9,10,11,12] \n",
    "for i in range(len(a)):\n",
    "    if i % 2 == 1:\n",
    "        temp = i *3\n",
    "        print(temp)\n",
    "    else:\n",
    "        pass\n",
    "        "
   ]
  },
  {
   "cell_type": "code",
   "execution_count": 217,
   "metadata": {},
   "outputs": [
    {
     "data": {
      "text/plain": [
       "[3, 9, 15, 21, 27, 33]"
      ]
     },
     "execution_count": 217,
     "metadata": {},
     "output_type": "execute_result"
    }
   ],
   "source": [
    "a = [1,2,3,4,5,6,7,8,9,10,11,12] \n",
    "b = []\n",
    "for i in range(len(a)):\n",
    "    if a[i] % 2 == 1:\n",
    "        b.append(a[i]*3)\n",
    "b"
   ]
  },
  {
   "cell_type": "code",
   "execution_count": 209,
   "metadata": {},
   "outputs": [
    {
     "name": "stdout",
     "output_type": "stream",
     "text": [
      "3\n",
      "9\n",
      "15\n",
      "21\n",
      "27\n",
      "33\n"
     ]
    }
   ],
   "source": [
    "#방법 1-2) 그냥 하는 방법 : for , if -> 값으로\n",
    "a = [1,2,3,4,5,6,7,8,9,10,11,12] \n",
    "for i in a:\n",
    "    if i % 2 == 1:\n",
    "        temp = i *3\n",
    "        print(temp)\n",
    "    else:\n",
    "        pass"
   ]
  },
  {
   "cell_type": "code",
   "execution_count": null,
   "metadata": {},
   "outputs": [],
   "source": [
    "a = [1,2,3,4,5,6,7,8,9,10,11,12] \n",
    "b = []\n",
    "for i in a:\n",
    "    if i % 2 == 1:\n",
    "        b.append(a[i]*3)\n",
    "b"
   ]
  },
  {
   "cell_type": "code",
   "execution_count": 205,
   "metadata": {},
   "outputs": [
    {
     "data": {
      "text/plain": [
       "[3, 9, 15, 21, 27, 33]"
      ]
     },
     "execution_count": 205,
     "metadata": {},
     "output_type": "execute_result"
    }
   ],
   "source": [
    "#방법2)리스트 컴프리핸션 이용\n",
    "a = [1,2,3,4,5,6,7,8,9,10,11,12] \n",
    "b = [i*3 for i in a if i % 2 == 1]\n",
    "b"
   ]
  },
  {
   "cell_type": "code",
   "execution_count": null,
   "metadata": {},
   "outputs": [],
   "source": [
    "[i*3 for i in a if i % 2 == 1]"
   ]
  },
  {
   "cell_type": "markdown",
   "metadata": {},
   "source": [
    "* Q) 구구단 2단, 3단, ..., 19단까지 결과를 출력하세요!!!"
   ]
  },
  {
   "cell_type": "code",
   "execution_count": 218,
   "metadata": {},
   "outputs": [
    {
     "name": "stdout",
     "output_type": "stream",
     "text": [
      "2 * 1 = 2\n",
      "2 * 2 = 4\n",
      "2 * 3 = 6\n",
      "2 * 4 = 8\n",
      "2 * 5 = 10\n",
      "2 * 6 = 12\n",
      "2 * 7 = 14\n",
      "2 * 8 = 16\n",
      "2 * 9 = 18\n",
      "----------\n",
      "3 * 1 = 3\n",
      "3 * 2 = 6\n",
      "3 * 3 = 9\n",
      "3 * 4 = 12\n",
      "3 * 5 = 15\n",
      "3 * 6 = 18\n",
      "3 * 7 = 21\n",
      "3 * 8 = 24\n",
      "3 * 9 = 27\n",
      "----------\n",
      "4 * 1 = 4\n",
      "4 * 2 = 8\n",
      "4 * 3 = 12\n",
      "4 * 4 = 16\n",
      "4 * 5 = 20\n",
      "4 * 6 = 24\n",
      "4 * 7 = 28\n",
      "4 * 8 = 32\n",
      "4 * 9 = 36\n",
      "----------\n",
      "5 * 1 = 5\n",
      "5 * 2 = 10\n",
      "5 * 3 = 15\n",
      "5 * 4 = 20\n",
      "5 * 5 = 25\n",
      "5 * 6 = 30\n",
      "5 * 7 = 35\n",
      "5 * 8 = 40\n",
      "5 * 9 = 45\n",
      "----------\n",
      "6 * 1 = 6\n",
      "6 * 2 = 12\n",
      "6 * 3 = 18\n",
      "6 * 4 = 24\n",
      "6 * 5 = 30\n",
      "6 * 6 = 36\n",
      "6 * 7 = 42\n",
      "6 * 8 = 48\n",
      "6 * 9 = 54\n",
      "----------\n",
      "7 * 1 = 7\n",
      "7 * 2 = 14\n",
      "7 * 3 = 21\n",
      "7 * 4 = 28\n",
      "7 * 5 = 35\n",
      "7 * 6 = 42\n",
      "7 * 7 = 49\n",
      "7 * 8 = 56\n",
      "7 * 9 = 63\n",
      "----------\n",
      "8 * 1 = 8\n",
      "8 * 2 = 16\n",
      "8 * 3 = 24\n",
      "8 * 4 = 32\n",
      "8 * 5 = 40\n",
      "8 * 6 = 48\n",
      "8 * 7 = 56\n",
      "8 * 8 = 64\n",
      "8 * 9 = 72\n",
      "----------\n",
      "9 * 1 = 9\n",
      "9 * 2 = 18\n",
      "9 * 3 = 27\n",
      "9 * 4 = 36\n",
      "9 * 5 = 45\n",
      "9 * 6 = 54\n",
      "9 * 7 = 63\n",
      "9 * 8 = 72\n",
      "9 * 9 = 81\n",
      "----------\n"
     ]
    }
   ],
   "source": [
    "for i in range(2,10):\n",
    "    for num in range(1,10):\n",
    "        temp = i * num\n",
    "        print(i, \"*\", num ,\"=\",temp)\n",
    "    print(\"-\"*10)"
   ]
  },
  {
   "cell_type": "code",
   "execution_count": null,
   "metadata": {},
   "outputs": [],
   "source": [
    "for first in range(2,20,1):\n",
    "    for second in range(1,10,1):\n",
    "        print(first,\"X\",second)"
   ]
  },
  {
   "cell_type": "markdown",
   "metadata": {},
   "source": [
    "* Q) 100 까지 소수를 모두 찾아보세요!!!!"
   ]
  },
  {
   "cell_type": "code",
   "execution_count": 221,
   "metadata": {},
   "outputs": [
    {
     "data": {
      "text/plain": [
       "[1,\n",
       " 1,\n",
       " 1,\n",
       " 1,\n",
       " 1,\n",
       " 1,\n",
       " 1,\n",
       " 1,\n",
       " 1,\n",
       " 1,\n",
       " 1,\n",
       " 1,\n",
       " 1,\n",
       " 1,\n",
       " 1,\n",
       " 1,\n",
       " 1,\n",
       " 1,\n",
       " 1,\n",
       " 1,\n",
       " 1,\n",
       " 1,\n",
       " 1,\n",
       " 1,\n",
       " 1,\n",
       " 1,\n",
       " 1,\n",
       " 1,\n",
       " 1,\n",
       " 1,\n",
       " 1,\n",
       " 1,\n",
       " 1,\n",
       " 1,\n",
       " 1,\n",
       " 1,\n",
       " 1,\n",
       " 1,\n",
       " 1,\n",
       " 1,\n",
       " 1,\n",
       " 1,\n",
       " 1,\n",
       " 1,\n",
       " 1,\n",
       " 1,\n",
       " 1,\n",
       " 1,\n",
       " 1,\n",
       " 1,\n",
       " 1,\n",
       " 1,\n",
       " 1,\n",
       " 1,\n",
       " 1,\n",
       " 1,\n",
       " 1,\n",
       " 1,\n",
       " 1,\n",
       " 1,\n",
       " 1,\n",
       " 1,\n",
       " 1,\n",
       " 1,\n",
       " 1,\n",
       " 1,\n",
       " 1,\n",
       " 1,\n",
       " 1,\n",
       " 1,\n",
       " 1,\n",
       " 1,\n",
       " 1,\n",
       " 1,\n",
       " 1,\n",
       " 1,\n",
       " 1,\n",
       " 1,\n",
       " 1,\n",
       " 1,\n",
       " 1,\n",
       " 1,\n",
       " 1,\n",
       " 1,\n",
       " 1,\n",
       " 1,\n",
       " 1,\n",
       " 1,\n",
       " 1,\n",
       " 1,\n",
       " 1,\n",
       " 1,\n",
       " 1,\n",
       " 1,\n",
       " 1,\n",
       " 1,\n",
       " 1,\n",
       " 1,\n",
       " 1,\n",
       " 2,\n",
       " 2,\n",
       " 2,\n",
       " 2,\n",
       " 2,\n",
       " 2,\n",
       " 2,\n",
       " 2,\n",
       " 2,\n",
       " 2,\n",
       " 2,\n",
       " 2,\n",
       " 2,\n",
       " 2,\n",
       " 2,\n",
       " 2,\n",
       " 2,\n",
       " 2,\n",
       " 2,\n",
       " 2,\n",
       " 2,\n",
       " 2,\n",
       " 2,\n",
       " 2,\n",
       " 2,\n",
       " 2,\n",
       " 2,\n",
       " 2,\n",
       " 2,\n",
       " 2,\n",
       " 2,\n",
       " 2,\n",
       " 2,\n",
       " 2,\n",
       " 2,\n",
       " 2,\n",
       " 2,\n",
       " 2,\n",
       " 2,\n",
       " 2,\n",
       " 2,\n",
       " 2,\n",
       " 2,\n",
       " 2,\n",
       " 2,\n",
       " 2,\n",
       " 2,\n",
       " 2,\n",
       " 2,\n",
       " 2,\n",
       " 2,\n",
       " 2,\n",
       " 2,\n",
       " 2,\n",
       " 2,\n",
       " 2,\n",
       " 2,\n",
       " 2,\n",
       " 2,\n",
       " 2,\n",
       " 2,\n",
       " 2,\n",
       " 2,\n",
       " 2,\n",
       " 2,\n",
       " 2,\n",
       " 2,\n",
       " 2,\n",
       " 2,\n",
       " 2,\n",
       " 2,\n",
       " 2,\n",
       " 2,\n",
       " 2,\n",
       " 2,\n",
       " 2,\n",
       " 2,\n",
       " 2,\n",
       " 2,\n",
       " 2,\n",
       " 2,\n",
       " 2,\n",
       " 2,\n",
       " 2,\n",
       " 2,\n",
       " 2,\n",
       " 2,\n",
       " 2,\n",
       " 2,\n",
       " 2,\n",
       " 2,\n",
       " 2,\n",
       " 2,\n",
       " 2,\n",
       " 2,\n",
       " 2,\n",
       " 2,\n",
       " 2,\n",
       " 3,\n",
       " 3,\n",
       " 3,\n",
       " 3,\n",
       " 3,\n",
       " 3,\n",
       " 3,\n",
       " 3,\n",
       " 3,\n",
       " 3,\n",
       " 3,\n",
       " 3,\n",
       " 3,\n",
       " 3,\n",
       " 3,\n",
       " 3,\n",
       " 3,\n",
       " 3,\n",
       " 3,\n",
       " 3,\n",
       " 3,\n",
       " 3,\n",
       " 3,\n",
       " 3,\n",
       " 3,\n",
       " 3,\n",
       " 3,\n",
       " 3,\n",
       " 3,\n",
       " 3,\n",
       " 3,\n",
       " 3,\n",
       " 3,\n",
       " 3,\n",
       " 3,\n",
       " 3,\n",
       " 3,\n",
       " 3,\n",
       " 3,\n",
       " 3,\n",
       " 3,\n",
       " 3,\n",
       " 3,\n",
       " 3,\n",
       " 3,\n",
       " 3,\n",
       " 3,\n",
       " 3,\n",
       " 3,\n",
       " 3,\n",
       " 3,\n",
       " 3,\n",
       " 3,\n",
       " 3,\n",
       " 3,\n",
       " 3,\n",
       " 3,\n",
       " 3,\n",
       " 3,\n",
       " 3,\n",
       " 3,\n",
       " 3,\n",
       " 3,\n",
       " 3,\n",
       " 3,\n",
       " 3,\n",
       " 3,\n",
       " 3,\n",
       " 3,\n",
       " 3,\n",
       " 3,\n",
       " 3,\n",
       " 3,\n",
       " 3,\n",
       " 3,\n",
       " 3,\n",
       " 3,\n",
       " 3,\n",
       " 3,\n",
       " 3,\n",
       " 3,\n",
       " 3,\n",
       " 3,\n",
       " 3,\n",
       " 3,\n",
       " 3,\n",
       " 3,\n",
       " 3,\n",
       " 3,\n",
       " 3,\n",
       " 3,\n",
       " 3,\n",
       " 3,\n",
       " 3,\n",
       " 3,\n",
       " 3,\n",
       " 3,\n",
       " 3,\n",
       " 4,\n",
       " 4,\n",
       " 4,\n",
       " 4,\n",
       " 4,\n",
       " 4,\n",
       " 4,\n",
       " 4,\n",
       " 4,\n",
       " 4,\n",
       " 4,\n",
       " 4,\n",
       " 4,\n",
       " 4,\n",
       " 4,\n",
       " 4,\n",
       " 4,\n",
       " 4,\n",
       " 4,\n",
       " 4,\n",
       " 4,\n",
       " 4,\n",
       " 4,\n",
       " 4,\n",
       " 4,\n",
       " 4,\n",
       " 4,\n",
       " 4,\n",
       " 4,\n",
       " 4,\n",
       " 4,\n",
       " 4,\n",
       " 4,\n",
       " 4,\n",
       " 4,\n",
       " 4,\n",
       " 4,\n",
       " 4,\n",
       " 4,\n",
       " 4,\n",
       " 4,\n",
       " 4,\n",
       " 4,\n",
       " 4,\n",
       " 4,\n",
       " 4,\n",
       " 4,\n",
       " 4,\n",
       " 4,\n",
       " 4,\n",
       " 4,\n",
       " 4,\n",
       " 4,\n",
       " 4,\n",
       " 4,\n",
       " 4,\n",
       " 4,\n",
       " 4,\n",
       " 4,\n",
       " 4,\n",
       " 4,\n",
       " 4,\n",
       " 4,\n",
       " 4,\n",
       " 4,\n",
       " 4,\n",
       " 4,\n",
       " 4,\n",
       " 4,\n",
       " 4,\n",
       " 4,\n",
       " 4,\n",
       " 4,\n",
       " 4,\n",
       " 4,\n",
       " 4,\n",
       " 4,\n",
       " 4,\n",
       " 4,\n",
       " 4,\n",
       " 4,\n",
       " 4,\n",
       " 4,\n",
       " 4,\n",
       " 4,\n",
       " 4,\n",
       " 4,\n",
       " 4,\n",
       " 4,\n",
       " 4,\n",
       " 4,\n",
       " 4,\n",
       " 4,\n",
       " 4,\n",
       " 4,\n",
       " 4,\n",
       " 4,\n",
       " 5,\n",
       " 5,\n",
       " 5,\n",
       " 5,\n",
       " 5,\n",
       " 5,\n",
       " 5,\n",
       " 5,\n",
       " 5,\n",
       " 5,\n",
       " 5,\n",
       " 5,\n",
       " 5,\n",
       " 5,\n",
       " 5,\n",
       " 5,\n",
       " 5,\n",
       " 5,\n",
       " 5,\n",
       " 5,\n",
       " 5,\n",
       " 5,\n",
       " 5,\n",
       " 5,\n",
       " 5,\n",
       " 5,\n",
       " 5,\n",
       " 5,\n",
       " 5,\n",
       " 5,\n",
       " 5,\n",
       " 5,\n",
       " 5,\n",
       " 5,\n",
       " 5,\n",
       " 5,\n",
       " 5,\n",
       " 5,\n",
       " 5,\n",
       " 5,\n",
       " 5,\n",
       " 5,\n",
       " 5,\n",
       " 5,\n",
       " 5,\n",
       " 5,\n",
       " 5,\n",
       " 5,\n",
       " 5,\n",
       " 5,\n",
       " 5,\n",
       " 5,\n",
       " 5,\n",
       " 5,\n",
       " 5,\n",
       " 5,\n",
       " 5,\n",
       " 5,\n",
       " 5,\n",
       " 5,\n",
       " 5,\n",
       " 5,\n",
       " 5,\n",
       " 5,\n",
       " 5,\n",
       " 5,\n",
       " 5,\n",
       " 5,\n",
       " 5,\n",
       " 5,\n",
       " 5,\n",
       " 5,\n",
       " 5,\n",
       " 5,\n",
       " 5,\n",
       " 5,\n",
       " 5,\n",
       " 5,\n",
       " 5,\n",
       " 5,\n",
       " 5,\n",
       " 5,\n",
       " 5,\n",
       " 5,\n",
       " 5,\n",
       " 5,\n",
       " 5,\n",
       " 5,\n",
       " 5,\n",
       " 5,\n",
       " 5,\n",
       " 5,\n",
       " 5,\n",
       " 5,\n",
       " 5,\n",
       " 5,\n",
       " 5,\n",
       " 5,\n",
       " 6,\n",
       " 6,\n",
       " 6,\n",
       " 6,\n",
       " 6,\n",
       " 6,\n",
       " 6,\n",
       " 6,\n",
       " 6,\n",
       " 6,\n",
       " 6,\n",
       " 6,\n",
       " 6,\n",
       " 6,\n",
       " 6,\n",
       " 6,\n",
       " 6,\n",
       " 6,\n",
       " 6,\n",
       " 6,\n",
       " 6,\n",
       " 6,\n",
       " 6,\n",
       " 6,\n",
       " 6,\n",
       " 6,\n",
       " 6,\n",
       " 6,\n",
       " 6,\n",
       " 6,\n",
       " 6,\n",
       " 6,\n",
       " 6,\n",
       " 6,\n",
       " 6,\n",
       " 6,\n",
       " 6,\n",
       " 6,\n",
       " 6,\n",
       " 6,\n",
       " 6,\n",
       " 6,\n",
       " 6,\n",
       " 6,\n",
       " 6,\n",
       " 6,\n",
       " 6,\n",
       " 6,\n",
       " 6,\n",
       " 6,\n",
       " 6,\n",
       " 6,\n",
       " 6,\n",
       " 6,\n",
       " 6,\n",
       " 6,\n",
       " 6,\n",
       " 6,\n",
       " 6,\n",
       " 6,\n",
       " 6,\n",
       " 6,\n",
       " 6,\n",
       " 6,\n",
       " 6,\n",
       " 6,\n",
       " 6,\n",
       " 6,\n",
       " 6,\n",
       " 6,\n",
       " 6,\n",
       " 6,\n",
       " 6,\n",
       " 6,\n",
       " 6,\n",
       " 6,\n",
       " 6,\n",
       " 6,\n",
       " 6,\n",
       " 6,\n",
       " 6,\n",
       " 6,\n",
       " 6,\n",
       " 6,\n",
       " 6,\n",
       " 6,\n",
       " 6,\n",
       " 6,\n",
       " 6,\n",
       " 6,\n",
       " 6,\n",
       " 6,\n",
       " 6,\n",
       " 6,\n",
       " 6,\n",
       " 6,\n",
       " 7,\n",
       " 7,\n",
       " 7,\n",
       " 7,\n",
       " 7,\n",
       " 7,\n",
       " 7,\n",
       " 7,\n",
       " 7,\n",
       " 7,\n",
       " 7,\n",
       " 7,\n",
       " 7,\n",
       " 7,\n",
       " 7,\n",
       " 7,\n",
       " 7,\n",
       " 7,\n",
       " 7,\n",
       " 7,\n",
       " 7,\n",
       " 7,\n",
       " 7,\n",
       " 7,\n",
       " 7,\n",
       " 7,\n",
       " 7,\n",
       " 7,\n",
       " 7,\n",
       " 7,\n",
       " 7,\n",
       " 7,\n",
       " 7,\n",
       " 7,\n",
       " 7,\n",
       " 7,\n",
       " 7,\n",
       " 7,\n",
       " 7,\n",
       " 7,\n",
       " 7,\n",
       " 7,\n",
       " 7,\n",
       " 7,\n",
       " 7,\n",
       " 7,\n",
       " 7,\n",
       " 7,\n",
       " 7,\n",
       " 7,\n",
       " 7,\n",
       " 7,\n",
       " 7,\n",
       " 7,\n",
       " 7,\n",
       " 7,\n",
       " 7,\n",
       " 7,\n",
       " 7,\n",
       " 7,\n",
       " 7,\n",
       " 7,\n",
       " 7,\n",
       " 7,\n",
       " 7,\n",
       " 7,\n",
       " 7,\n",
       " 7,\n",
       " 7,\n",
       " 7,\n",
       " 7,\n",
       " 7,\n",
       " 7,\n",
       " 7,\n",
       " 7,\n",
       " 7,\n",
       " 7,\n",
       " 7,\n",
       " 7,\n",
       " 7,\n",
       " 7,\n",
       " 7,\n",
       " 7,\n",
       " 7,\n",
       " 7,\n",
       " 7,\n",
       " 7,\n",
       " 7,\n",
       " 7,\n",
       " 7,\n",
       " 7,\n",
       " 7,\n",
       " 7,\n",
       " 7,\n",
       " 7,\n",
       " 7,\n",
       " 7,\n",
       " 7,\n",
       " 8,\n",
       " 8,\n",
       " 8,\n",
       " 8,\n",
       " 8,\n",
       " 8,\n",
       " 8,\n",
       " 8,\n",
       " 8,\n",
       " 8,\n",
       " 8,\n",
       " 8,\n",
       " 8,\n",
       " 8,\n",
       " 8,\n",
       " 8,\n",
       " 8,\n",
       " 8,\n",
       " 8,\n",
       " 8,\n",
       " 8,\n",
       " 8,\n",
       " 8,\n",
       " 8,\n",
       " 8,\n",
       " 8,\n",
       " 8,\n",
       " 8,\n",
       " 8,\n",
       " 8,\n",
       " 8,\n",
       " 8,\n",
       " 8,\n",
       " 8,\n",
       " 8,\n",
       " 8,\n",
       " 8,\n",
       " 8,\n",
       " 8,\n",
       " 8,\n",
       " 8,\n",
       " 8,\n",
       " 8,\n",
       " 8,\n",
       " 8,\n",
       " 8,\n",
       " 8,\n",
       " 8,\n",
       " 8,\n",
       " 8,\n",
       " 8,\n",
       " 8,\n",
       " 8,\n",
       " 8,\n",
       " 8,\n",
       " 8,\n",
       " 8,\n",
       " 8,\n",
       " 8,\n",
       " 8,\n",
       " 8,\n",
       " 8,\n",
       " 8,\n",
       " 8,\n",
       " 8,\n",
       " 8,\n",
       " 8,\n",
       " 8,\n",
       " 8,\n",
       " 8,\n",
       " 8,\n",
       " 8,\n",
       " 8,\n",
       " 8,\n",
       " 8,\n",
       " 8,\n",
       " 8,\n",
       " 8,\n",
       " 8,\n",
       " 8,\n",
       " 8,\n",
       " 8,\n",
       " 8,\n",
       " 8,\n",
       " 8,\n",
       " 8,\n",
       " 8,\n",
       " 8,\n",
       " 8,\n",
       " 8,\n",
       " 8,\n",
       " 8,\n",
       " 8,\n",
       " 8,\n",
       " 8,\n",
       " 8,\n",
       " 9,\n",
       " 9,\n",
       " 9,\n",
       " 9,\n",
       " 9,\n",
       " 9,\n",
       " 9,\n",
       " 9,\n",
       " 9,\n",
       " 9,\n",
       " 9,\n",
       " 9,\n",
       " 9,\n",
       " 9,\n",
       " 9,\n",
       " 9,\n",
       " 9,\n",
       " 9,\n",
       " 9,\n",
       " 9,\n",
       " 9,\n",
       " 9,\n",
       " 9,\n",
       " 9,\n",
       " 9,\n",
       " 9,\n",
       " 9,\n",
       " 9,\n",
       " 9,\n",
       " 9,\n",
       " 9,\n",
       " 9,\n",
       " 9,\n",
       " 9,\n",
       " 9,\n",
       " 9,\n",
       " 9,\n",
       " 9,\n",
       " 9,\n",
       " 9,\n",
       " 9,\n",
       " 9,\n",
       " 9,\n",
       " 9,\n",
       " 9,\n",
       " 9,\n",
       " 9,\n",
       " 9,\n",
       " 9,\n",
       " 9,\n",
       " 9,\n",
       " 9,\n",
       " 9,\n",
       " 9,\n",
       " 9,\n",
       " 9,\n",
       " 9,\n",
       " 9,\n",
       " 9,\n",
       " 9,\n",
       " 9,\n",
       " 9,\n",
       " 9,\n",
       " 9,\n",
       " 9,\n",
       " 9,\n",
       " 9,\n",
       " 9,\n",
       " 9,\n",
       " 9,\n",
       " 9,\n",
       " 9,\n",
       " 9,\n",
       " 9,\n",
       " 9,\n",
       " 9,\n",
       " 9,\n",
       " 9,\n",
       " 9,\n",
       " 9,\n",
       " 9,\n",
       " 9,\n",
       " 9,\n",
       " 9,\n",
       " 9,\n",
       " 9,\n",
       " 9,\n",
       " 9,\n",
       " 9,\n",
       " 9,\n",
       " 9,\n",
       " 9,\n",
       " 9,\n",
       " 9,\n",
       " 9,\n",
       " 9,\n",
       " 9,\n",
       " 10,\n",
       " 10,\n",
       " 10,\n",
       " 10,\n",
       " 10,\n",
       " 10,\n",
       " 10,\n",
       " 10,\n",
       " 10,\n",
       " 10,\n",
       " 10,\n",
       " 10,\n",
       " 10,\n",
       " 10,\n",
       " 10,\n",
       " 10,\n",
       " 10,\n",
       " 10,\n",
       " 10,\n",
       " 10,\n",
       " 10,\n",
       " 10,\n",
       " 10,\n",
       " 10,\n",
       " 10,\n",
       " 10,\n",
       " 10,\n",
       " 10,\n",
       " 10,\n",
       " 10,\n",
       " 10,\n",
       " 10,\n",
       " 10,\n",
       " 10,\n",
       " 10,\n",
       " 10,\n",
       " 10,\n",
       " 10,\n",
       " 10,\n",
       " 10,\n",
       " 10,\n",
       " 10,\n",
       " 10,\n",
       " 10,\n",
       " 10,\n",
       " 10,\n",
       " 10,\n",
       " 10,\n",
       " 10,\n",
       " 10,\n",
       " 10,\n",
       " 10,\n",
       " 10,\n",
       " 10,\n",
       " 10,\n",
       " 10,\n",
       " 10,\n",
       " 10,\n",
       " 10,\n",
       " 10,\n",
       " 10,\n",
       " 10,\n",
       " 10,\n",
       " 10,\n",
       " 10,\n",
       " 10,\n",
       " 10,\n",
       " 10,\n",
       " 10,\n",
       " 10,\n",
       " 10,\n",
       " 10,\n",
       " 10,\n",
       " 10,\n",
       " 10,\n",
       " 10,\n",
       " 10,\n",
       " 10,\n",
       " 10,\n",
       " 10,\n",
       " 10,\n",
       " 10,\n",
       " 10,\n",
       " 10,\n",
       " 10,\n",
       " 10,\n",
       " 10,\n",
       " 10,\n",
       " 10,\n",
       " 10,\n",
       " 10,\n",
       " 10,\n",
       " 10,\n",
       " 10,\n",
       " 10,\n",
       " 10,\n",
       " 11,\n",
       " 11,\n",
       " 11,\n",
       " 11,\n",
       " 11,\n",
       " 11,\n",
       " 11,\n",
       " 11,\n",
       " 11,\n",
       " 11,\n",
       " 11,\n",
       " 11,\n",
       " 11,\n",
       " 11,\n",
       " 11,\n",
       " 11,\n",
       " 11,\n",
       " 11,\n",
       " 11,\n",
       " 11,\n",
       " 11,\n",
       " 11,\n",
       " 11,\n",
       " 11,\n",
       " 11,\n",
       " 11,\n",
       " 11,\n",
       " ...]"
      ]
     },
     "execution_count": 221,
     "metadata": {},
     "output_type": "execute_result"
    }
   ],
   "source": [
    "     \n",
    "        "
   ]
  },
  {
   "cell_type": "markdown",
   "metadata": {},
   "source": [
    "* Q) 두 수 54, 24의 최대공약수, 공약수를 구해보세요!!!"
   ]
  },
  {
   "cell_type": "code",
   "execution_count": 9,
   "metadata": {},
   "outputs": [
    {
     "name": "stdout",
     "output_type": "stream",
     "text": [
      "첫번째 수를 입력하세요 : 54\n",
      "두번째 수를 입력하세요 : 24\n",
      "54와 24의 공약수는 [1, 2, 3, 6]\n",
      "6\n"
     ]
    }
   ],
   "source": []
  },
  {
   "cell_type": "markdown",
   "metadata": {},
   "source": [
    "*Q) @@@@@ 을 출력하세요!!!"
   ]
  },
  {
   "cell_type": "code",
   "execution_count": 223,
   "metadata": {},
   "outputs": [
    {
     "data": {
      "text/plain": [
       "'@@@@@'"
      ]
     },
     "execution_count": 223,
     "metadata": {},
     "output_type": "execute_result"
    }
   ],
   "source": [
    "'@'+'@'+'@'+'@'+'@'"
   ]
  },
  {
   "cell_type": "code",
   "execution_count": 226,
   "metadata": {},
   "outputs": [
    {
     "data": {
      "text/plain": [
       "'@@@@@'"
      ]
     },
     "execution_count": 226,
     "metadata": {},
     "output_type": "execute_result"
    }
   ],
   "source": [
    "'@'*5"
   ]
  },
  {
   "cell_type": "code",
   "execution_count": 234,
   "metadata": {},
   "outputs": [
    {
     "name": "stdout",
     "output_type": "stream",
     "text": [
      "@@@@@"
     ]
    }
   ],
   "source": [
    "for i in range(5):\n",
    "    print(\"@\", end = \"\")  #end = \"\\n\" 디폴트값"
   ]
  },
  {
   "cell_type": "code",
   "execution_count": 233,
   "metadata": {},
   "outputs": [
    {
     "name": "stdout",
     "output_type": "stream",
     "text": [
      "@@@@@"
     ]
    }
   ],
   "source": [
    "for _ in range(5): #단순 반복용일때 _ 로 씀\n",
    "     print(\"@\", end = \"\")"
   ]
  },
  {
   "cell_type": "markdown",
   "metadata": {},
   "source": [
    "* Q)   \n",
    "@@@@@  \n",
    "@@@@@  \n",
    "@@@@@  \n",
    "@@@@@  "
   ]
  },
  {
   "cell_type": "code",
   "execution_count": 239,
   "metadata": {},
   "outputs": [
    {
     "name": "stdout",
     "output_type": "stream",
     "text": [
      "@@@@@@\n",
      "@@@@@@\n",
      "@@@@@@\n",
      "@@@@@@\n"
     ]
    }
   ],
   "source": [
    "for _ in range(4):\n",
    "    for _ in range(5):\n",
    "        print(\"@\", end=\"\")\n",
    "    print(\"@\")"
   ]
  },
  {
   "cell_type": "code",
   "execution_count": 240,
   "metadata": {},
   "outputs": [
    {
     "name": "stdout",
     "output_type": "stream",
     "text": [
      "@@@@@\n",
      "@@@@@\n",
      "@@@@@\n",
      "@@@@@\n"
     ]
    }
   ],
   "source": [
    "for _ in range(4):\n",
    "    for _ in range(5):\n",
    "        print(\"@\", end=\"\")\n",
    "    print(\"\") #1개의 가로줄을 다 하면 다음줄로 바꿔주기"
   ]
  },
  {
   "cell_type": "code",
   "execution_count": 238,
   "metadata": {},
   "outputs": [
    {
     "name": "stdout",
     "output_type": "stream",
     "text": [
      "@@@@@\n",
      "@@@@@\n",
      "@@@@@\n",
      "@@@@@\n"
     ]
    }
   ],
   "source": [
    "for _ in range(4):\n",
    "  print(\"@\"*5)"
   ]
  },
  {
   "cell_type": "code",
   "execution_count": 57,
   "metadata": {},
   "outputs": [
    {
     "name": "stdout",
     "output_type": "stream",
     "text": [
      "@\n",
      "@@\n",
      "@@@\n",
      "@@@@\n",
      "@@@@@\n"
     ]
    }
   ],
   "source": []
  },
  {
   "cell_type": "markdown",
   "metadata": {},
   "source": [
    "* Q) 위의 그림을 만드세요"
   ]
  },
  {
   "cell_type": "code",
   "execution_count": 244,
   "metadata": {},
   "outputs": [
    {
     "name": "stdout",
     "output_type": "stream",
     "text": [
      "@\n",
      "@@\n",
      "@@@\n",
      "@@@@\n",
      "@@@@@\n",
      "\n"
     ]
    }
   ],
   "source": [
    "for i in range(1,6):\n",
    "    print(\"@\"*i)\n",
    "print(\"\")"
   ]
  },
  {
   "cell_type": "code",
   "execution_count": 60,
   "metadata": {},
   "outputs": [
    {
     "name": "stdout",
     "output_type": "stream",
     "text": [
      "@@@@@\n",
      " @@@@\n",
      "  @@@\n",
      "   @@\n",
      "    @\n"
     ]
    }
   ],
   "source": []
  },
  {
   "cell_type": "markdown",
   "metadata": {},
   "source": [
    "* Q) 위의 그림을 만드세요!!!"
   ]
  },
  {
   "cell_type": "code",
   "execution_count": 247,
   "metadata": {},
   "outputs": [
    {
     "name": "stdout",
     "output_type": "stream",
     "text": [
      "@@@@@\n",
      "@@@@\n",
      "@@@\n",
      "@@\n",
      "@\n",
      "\n"
     ]
    }
   ],
   "source": [
    "for i in range(1,6):\n",
    "    temp = 6 - i\n",
    "    print(\"@\"*temp)\n",
    "print(\"\")"
   ]
  },
  {
   "cell_type": "code",
   "execution_count": 248,
   "metadata": {},
   "outputs": [
    {
     "name": "stdout",
     "output_type": "stream",
     "text": [
      "@@@@@\n",
      " @@@@\n",
      "  @@@\n",
      "   @@\n",
      "    @\n"
     ]
    }
   ],
   "source": [
    "#대상이 크게 2종류: \" \" 와 \"@\"\n",
    "print(\" \"*0 + \"@\"*5)\n",
    "print(\" \"*1 + \"@\"*4)\n",
    "print(\" \"*2 + \"@\"*3)\n",
    "print(\" \"*3 + \"@\"*2)\n",
    "print(\" \"*4 + \"@\"*1)"
   ]
  },
  {
   "cell_type": "code",
   "execution_count": 249,
   "metadata": {},
   "outputs": [
    {
     "name": "stdout",
     "output_type": "stream",
     "text": [
      "@@@@@\n",
      " @@@@\n",
      "  @@@\n",
      "   @@\n",
      "    @\n",
      "\n"
     ]
    }
   ],
   "source": [
    "#\" \"의 수를 i라고 하면\n",
    "for i in range(5):\n",
    "    print(\" \"*i + \"@\"*(5-i))\n",
    "print(\"\")"
   ]
  },
  {
   "cell_type": "code",
   "execution_count": 62,
   "metadata": {},
   "outputs": [
    {
     "name": "stdout",
     "output_type": "stream",
     "text": [
      "    @\n",
      "   @@@\n",
      "  @@@@@\n",
      " @@@@@@@\n",
      "@@@@@@@@@\n"
     ]
    }
   ],
   "source": []
  },
  {
   "cell_type": "markdown",
   "metadata": {},
   "source": [
    "* Q) 위의 그림을 만드세요!"
   ]
  },
  {
   "cell_type": "code",
   "execution_count": 10,
   "metadata": {},
   "outputs": [
    {
     "name": "stdout",
     "output_type": "stream",
     "text": [
      "    @\n",
      "   @@@\n",
      "  @@@@@\n",
      " @@@@@@@\n",
      "@@@@@@@@@\n",
      "\n"
     ]
    }
   ],
   "source": [
    "for i in range(5):\n",
    "    print(\" \"*(4-i) + \"@\"*(2*i+1))\n",
    "print(\"\")"
   ]
  },
  {
   "cell_type": "code",
   "execution_count": 12,
   "metadata": {},
   "outputs": [
    {
     "name": "stdout",
     "output_type": "stream",
     "text": [
      "     @\n",
      "    @@@\n",
      "   @@@@@\n",
      "  @@@@@@@\n",
      " @@@@@@@@@\n"
     ]
    }
   ],
   "source": [
    "#일단 1줄 씩 찍어보기: 종류는 \" \", \"@\"\n",
    "print(\" \"*4, \"@\"*1)\n",
    "print(\" \"*3, \"@\"*3)\n",
    "print(\" \"*2, \"@\"*5)\n",
    "print(\" \"*1, \"@\"*7)\n",
    "print(\" \"*0, \"@\"*9)"
   ]
  },
  {
   "cell_type": "code",
   "execution_count": null,
   "metadata": {},
   "outputs": [],
   "source": [
    "#규칙 관점1)\n",
    "for i in range(4, -1, -1):\n",
    "print(\" \"*i + \"@\"*( 2 * (4-i) + 1))  # i : 4, 3, 2, 1, 0\n",
    "\n",
    "#규칙 관점2)\n",
    "for i in range(5):\n",
    "print(\" \"* (4-i) + \"@\"* (2 * i + 1)) #i : 0, 1, 2, 3, 4"
   ]
  },
  {
   "cell_type": "code",
   "execution_count": 64,
   "metadata": {},
   "outputs": [
    {
     "name": "stdout",
     "output_type": "stream",
     "text": [
      "@@@@@@@@@\n",
      " @@@@@@@\n",
      "  @@@@@\n",
      "   @@@\n",
      "    @\n"
     ]
    }
   ],
   "source": []
  },
  {
   "cell_type": "markdown",
   "metadata": {},
   "source": [
    "* Q) 위의 그림을 만드세요"
   ]
  },
  {
   "cell_type": "code",
   "execution_count": 14,
   "metadata": {},
   "outputs": [
    {
     "name": "stdout",
     "output_type": "stream",
     "text": [
      "@@@@@@@@@\n",
      " @@@@@@@\n",
      "  @@@@@\n",
      "   @@@\n",
      "    @\n",
      "\n"
     ]
    }
   ],
   "source": [
    "for i in range(5):\n",
    "    print( \" \"*i + \"@\"*(2*(4-i)+1))\n",
    "print(\"\")"
   ]
  },
  {
   "cell_type": "code",
   "execution_count": 18,
   "metadata": {},
   "outputs": [
    {
     "name": "stdout",
     "output_type": "stream",
     "text": [
      "@@@@@@@@@\n",
      " @@@@@@@\n",
      "  @@@@@\n",
      "   @@@\n",
      "    @\n"
     ]
    }
   ],
   "source": [
    "#일단 직점 해보자 : \"@\", \" \"\n",
    "print(\" \"*0 + \"@\"*9)\n",
    "print(\" \"*1 + \"@\"*7)\n",
    "print(\" \"*2 + \"@\"*5)\n",
    "print(\" \"*3 + \"@\"*3)\n",
    "print(\" \"*4 + \"@\"*1)"
   ]
  },
  {
   "cell_type": "code",
   "execution_count": 19,
   "metadata": {},
   "outputs": [
    {
     "name": "stdout",
     "output_type": "stream",
     "text": [
      "@@@@@@@@@\n",
      " @@@@@@@\n",
      "  @@@@@\n",
      "   @@@\n",
      "    @\n"
     ]
    }
   ],
   "source": [
    "#i : 0 ~ 4\n",
    "for i in range(5):\n",
    "    print( \" \"*i + \"@\"*(2*(4-i)+1))"
   ]
  },
  {
   "cell_type": "code",
   "execution_count": 265,
   "metadata": {},
   "outputs": [
    {
     "name": "stdout",
     "output_type": "stream",
     "text": [
      "1\n",
      "22\n",
      "333\n",
      "4444\n",
      "55555\n",
      "666666\n",
      "7777777\n",
      "88888888\n",
      "999999999\n"
     ]
    }
   ],
   "source": []
  },
  {
   "cell_type": "markdown",
   "metadata": {},
   "source": [
    "* 위와 같은 결과를 만드세요"
   ]
  },
  {
   "cell_type": "code",
   "execution_count": 264,
   "metadata": {
    "scrolled": true
   },
   "outputs": [
    {
     "name": "stdout",
     "output_type": "stream",
     "text": [
      "i\n",
      "ii\n",
      "iii\n",
      "iiii\n",
      "iiiii\n",
      "iiiiii\n",
      "iiiiiii\n",
      "iiiiiiii\n",
      "iiiiiiiii\n",
      "\n"
     ]
    }
   ],
   "source": [
    "for i in range(1,10):\n",
    "    print(\"i\" * i)\n",
    "print(\"\")"
   ]
  },
  {
   "cell_type": "code",
   "execution_count": 262,
   "metadata": {},
   "outputs": [
    {
     "name": "stdout",
     "output_type": "stream",
     "text": [
      "1\n",
      "22\n",
      "333\n",
      "4444\n",
      "55555\n",
      "666666\n",
      "7777777\n",
      "88888888\n",
      "999999999\n"
     ]
    }
   ],
   "source": [
    "print(\"1\"*1)\n",
    "print(\"2\"*2)\n",
    "print(\"3\"*3)\n",
    "print(\"4\"*4)\n",
    "print(\"5\"*5)\n",
    "print(\"6\"*6)\n",
    "print(\"7\"*7)\n",
    "print(\"8\"*8)\n",
    "print(\"9\"*9)"
   ]
  },
  {
   "cell_type": "code",
   "execution_count": 263,
   "metadata": {},
   "outputs": [
    {
     "name": "stdout",
     "output_type": "stream",
     "text": [
      "1\n",
      "22\n",
      "333\n",
      "4444\n",
      "55555\n",
      "666666\n",
      "7777777\n",
      "88888888\n",
      "999999999\n"
     ]
    }
   ],
   "source": [
    "for i in range(1,10):\n",
    "    print(str(i) * i)\n"
   ]
  },
  {
   "cell_type": "markdown",
   "metadata": {},
   "source": [
    "* Q) 학생의 점수을 입력을 받아서, 그 점수에 해당하는 학점을 출력을 하고, 그 학점이 A는 \"참 잘했습니다\", B는 \"잘 했습니다.\", C는 \"좀 더 노력하세요\", D는 \"재수강을 권장합니다\", F는 \"꼭 다시 들으세요!!!\"로 판별해주기.  \n",
    "단, F: 40점 미만, D:40점 이상~60점 미만, C : 60이상~80점 미만, B:80이상~90점 미만, A:90점 이상 이상"
   ]
  },
  {
   "cell_type": "code",
   "execution_count": null,
   "metadata": {},
   "outputs": [],
   "source": []
  },
  {
   "cell_type": "markdown",
   "metadata": {},
   "source": [
    "* 한 점을 구성하는 (x,y)의 좌표를 입력받고, 이 점이 (50,40), (50,80), (100,40), (100,80)을 꼭지점으로 하는 사각형 안에 있는지 판단하세요!!!"
   ]
  },
  {
   "cell_type": "code",
   "execution_count": 31,
   "metadata": {},
   "outputs": [
    {
     "name": "stdout",
     "output_type": "stream",
     "text": [
      "x의 값을 입력하세요10\n",
      "y의 값을 입력하세요22\n",
      "사각형 밖에 있습니다\n"
     ]
    }
   ],
   "source": [
    "x = int(input(\"x의 값을 입력하세요\"))\n",
    "y = int(input(\"y의 값을 입력하세요\"))\n",
    "\n",
    "if (50 <  x < 100) & (40 <  y < 80):\n",
    "    print(\"사각형 안에 있습니다\")\n",
    "else:\n",
    "    print(\"사각형 밖에 있습니다\")"
   ]
  },
  {
   "cell_type": "code",
   "execution_count": 51,
   "metadata": {},
   "outputs": [
    {
     "name": "stdout",
     "output_type": "stream",
     "text": [
      "x의 값을 입력하세요10\n",
      "y의 값을 입력하세요22\n",
      "사각형 밖에 있습니다\n"
     ]
    }
   ],
   "source": [
    "x = int(input(\"x의 값을 입력하세요\"))\n",
    "y = int(input(\"y의 값을 입력하세요\"))\n",
    "\n",
    "if ( 100 >  x and 50 <  x) and (80 >  y and y > 40):\n",
    "    print(\"사각형 안에 있습니다\")\n",
    "else:\n",
    "    print(\"사각형 밖에 있습니다\")"
   ]
  },
  {
   "cell_type": "code",
   "execution_count": null,
   "metadata": {},
   "outputs": [],
   "source": [
    "#파이썬에서 논리적인 and연산의 FM: and, 간략 &(경우에 따라서 이 표현이 안될 때 있음)"
   ]
  },
  {
   "cell_type": "markdown",
   "metadata": {},
   "source": [
    "* Q) 입력한 수의 각 자리수를 더하는 프로그램을 작성하시오.  \n",
    "예 : 12345--> 1+2+3+4+5=15"
   ]
  },
  {
   "cell_type": "code",
   "execution_count": 44,
   "metadata": {},
   "outputs": [
    {
     "name": "stdout",
     "output_type": "stream",
     "text": [
      "수를 입력해주세요12345\n"
     ]
    },
    {
     "ename": "TypeError",
     "evalue": "can only concatenate str (not \"int\") to str",
     "output_type": "error",
     "traceback": [
      "\u001b[1;31m---------------------------------------------------------------------------\u001b[0m",
      "\u001b[1;31mTypeError\u001b[0m                                 Traceback (most recent call last)",
      "\u001b[1;32m~\\AppData\\Local\\Temp/ipykernel_100508/3797205541.py\u001b[0m in \u001b[0;36m<module>\u001b[1;34m\u001b[0m\n\u001b[0;32m      1\u001b[0m \u001b[0ma\u001b[0m \u001b[1;33m=\u001b[0m \u001b[0minput\u001b[0m\u001b[1;33m(\u001b[0m\u001b[1;34m\"수를 입력해주세요\"\u001b[0m\u001b[1;33m)\u001b[0m\u001b[1;33m\u001b[0m\u001b[1;33m\u001b[0m\u001b[0m\n\u001b[0;32m      2\u001b[0m \u001b[1;32mfor\u001b[0m \u001b[0mi\u001b[0m \u001b[1;32min\u001b[0m \u001b[0mrange\u001b[0m\u001b[1;33m(\u001b[0m\u001b[0mlen\u001b[0m\u001b[1;33m(\u001b[0m\u001b[0ma\u001b[0m\u001b[1;33m)\u001b[0m\u001b[1;33m)\u001b[0m\u001b[1;33m:\u001b[0m\u001b[1;33m\u001b[0m\u001b[1;33m\u001b[0m\u001b[0m\n\u001b[1;32m----> 3\u001b[1;33m     \u001b[0ma\u001b[0m\u001b[1;33m[\u001b[0m\u001b[0mi\u001b[0m\u001b[1;33m]\u001b[0m \u001b[1;33m+=\u001b[0m \u001b[1;36m1\u001b[0m\u001b[1;33m\u001b[0m\u001b[1;33m\u001b[0m\u001b[0m\n\u001b[0m\u001b[0;32m      4\u001b[0m \u001b[0mint\u001b[0m\u001b[1;33m(\u001b[0m\u001b[0ma\u001b[0m\u001b[1;33m)\u001b[0m\u001b[1;33m\u001b[0m\u001b[1;33m\u001b[0m\u001b[0m\n",
      "\u001b[1;31mTypeError\u001b[0m: can only concatenate str (not \"int\") to str"
     ]
    }
   ],
   "source": [
    "\n"
   ]
  },
  {
   "cell_type": "markdown",
   "metadata": {},
   "source": [
    "* Q) a,b,c가 자연수 일때, a + b + c = 100을 만족하는 중복되지 않는 세 자연수의 개수를 구하는 프로그램을 작성하시오. 예를 들어서(30,40,30)은 (40,30,30)과 같은 경우라고 한다!!!!"
   ]
  },
  {
   "cell_type": "code",
   "execution_count": 4,
   "metadata": {},
   "outputs": [
    {
     "name": "stdout",
     "output_type": "stream",
     "text": [
      "833\n"
     ]
    }
   ],
   "source": []
  },
  {
   "cell_type": "markdown",
   "metadata": {},
   "source": [
    "* Q) 1부터 100까지의 나열 할 때 1~9까지 숫자는 각각 몇 번 나타나는지를 세어 보세요!!!"
   ]
  },
  {
   "cell_type": "code",
   "execution_count": 21,
   "metadata": {},
   "outputs": [
    {
     "name": "stdout",
     "output_type": "stream",
     "text": [
      "0 : 11\n",
      "1 : 21\n",
      "2 : 20\n",
      "3 : 20\n",
      "4 : 20\n",
      "5 : 20\n",
      "6 : 20\n",
      "7 : 20\n",
      "8 : 20\n",
      "9 : 20\n"
     ]
    }
   ],
   "source": []
  },
  {
   "cell_type": "markdown",
   "metadata": {},
   "source": [
    "* Q) a = [20,55,67,82,45,33,90,87,100,25]점수일 때, 50점 이상인 점수들의 합!!!!!   \n",
    "방법 1 : for/ range사용,  \n",
    "방법 2 : for/ 직접 값 사용,  \n",
    "방법 3 : while사용"
   ]
  },
  {
   "cell_type": "code",
   "execution_count": 23,
   "metadata": {},
   "outputs": [
    {
     "name": "stdout",
     "output_type": "stream",
     "text": [
      "481\n"
     ]
    }
   ],
   "source": []
  },
  {
   "cell_type": "code",
   "execution_count": null,
   "metadata": {},
   "outputs": [],
   "source": []
  },
  {
   "cell_type": "markdown",
   "metadata": {},
   "source": [
    "* Q) 1부터 100까지 3의 배수들의 합!!!!! for"
   ]
  },
  {
   "cell_type": "code",
   "execution_count": null,
   "metadata": {},
   "outputs": [],
   "source": []
  },
  {
   "cell_type": "markdown",
   "metadata": {},
   "source": [
    "* Q)1부터 100까지 3의 배수들의 합!!!!! while"
   ]
  },
  {
   "cell_type": "code",
   "execution_count": null,
   "metadata": {},
   "outputs": [],
   "source": []
  },
  {
   "cell_type": "markdown",
   "metadata": {},
   "source": [
    "* 야구 게임 : 1S 1B 1O에 대한 것을 만들어 보시오. 다만 처음에 하기 위해서는 random으로 시작을 해야함!!! -> 단, 처음에 지정하는 3개의 숫자는 동일하지 않음!!!3개의 수는 서로 다 다르다!"
   ]
  },
  {
   "cell_type": "code",
   "execution_count": 4,
   "metadata": {},
   "outputs": [
    {
     "name": "stdout",
     "output_type": "stream",
     "text": [
      "9 7 8\n",
      "첫번째 숫자를 입력하세요: 9\n",
      "두번째 숫자를 입력하세요: 7\n",
      "세번째 숫자를 입력하세요: 1\n",
      "Ball: 0 Strike: 2\n",
      "9 7 8\n",
      "첫번째 숫자를 입력하세요: 9\n",
      "두번째 숫자를 입력하세요: 8\n",
      "세번째 숫자를 입력하세요: 7\n",
      "Ball: 2 Strike: 1\n",
      "9 7 8\n",
      "첫번째 숫자를 입력하세요: 9\n",
      "두번째 숫자를 입력하세요: 7\n",
      "세번째 숫자를 입력하세요: 8\n",
      "Game End\n"
     ]
    }
   ],
   "source": [
    "from random import randint\n",
    "\n"
   ]
  },
  {
   "cell_type": "markdown",
   "metadata": {},
   "source": [
    "* Q)숫자 up/down으로 1~100까지 수 중에서 알아 맞추기!!! random이용!!!"
   ]
  },
  {
   "cell_type": "code",
   "execution_count": 4,
   "metadata": {},
   "outputs": [
    {
     "name": "stdout",
     "output_type": "stream",
     "text": [
      "1~100 숫자 Up & Down 게임을 시작합니다 !!!\n",
      "---------------------------\n",
      "1 ~ 100 사이의 숫자를 입력하세요 : 30\n",
      "Down\n",
      "1 ~ 100 사이의 숫자를 입력하세요 : 155\n",
      "Down\n",
      "1 ~ 100 사이의 숫자를 입력하세요 : 15\n",
      "Down\n",
      "1 ~ 100 사이의 숫자를 입력하세요 : 8\n",
      "Down\n",
      "1 ~ 100 사이의 숫자를 입력하세요 : 4\n",
      "Down\n",
      "1 ~ 100 사이의 숫자를 입력하세요 : 2\n",
      "---------------------------\n",
      "6 번 만에 정답을 맞추셨습니다.\n"
     ]
    }
   ],
   "source": [
    "import random\n",
    "\n"
   ]
  },
  {
   "cell_type": "markdown",
   "metadata": {},
   "source": [
    "* Q) 1부터 입력받은 수까지 \"합의 제곱\"의 결과와 \"제곱의 합\"과의 차이를 구하시오!!!    \n",
    "합의 제곱 : 1^2 + 2^2 + ... + 10^2 = 385   \n",
    "제곱의 합 : (1+2+3..+10)^2 = 3025"
   ]
  },
  {
   "cell_type": "code",
   "execution_count": 6,
   "metadata": {},
   "outputs": [
    {
     "name": "stdout",
     "output_type": "stream",
     "text": [
      "입력하세요!!!10\n",
      "2640\n"
     ]
    }
   ],
   "source": []
  },
  {
   "cell_type": "markdown",
   "metadata": {},
   "source": [
    "* Q)  핸드폰 번호 뒤에 4자리만 남기고, 앞의 7자리에 대한 것을 *로 지워보세요!!! (함수 만들어서!!!)"
   ]
  },
  {
   "cell_type": "code",
   "execution_count": 1,
   "metadata": {},
   "outputs": [],
   "source": []
  },
  {
   "cell_type": "code",
   "execution_count": 2,
   "metadata": {},
   "outputs": [
    {
     "data": {
      "text/plain": [
       "'*********5678'"
      ]
     },
     "execution_count": 2,
     "metadata": {},
     "output_type": "execute_result"
    }
   ],
   "source": [
    "encryfunc(\"010-1234-5678\")"
   ]
  },
  {
   "cell_type": "code",
   "execution_count": null,
   "metadata": {},
   "outputs": [],
   "source": []
  },
  {
   "cell_type": "code",
   "execution_count": null,
   "metadata": {},
   "outputs": [],
   "source": []
  },
  {
   "cell_type": "code",
   "execution_count": null,
   "metadata": {},
   "outputs": [],
   "source": []
  }
 ],
 "metadata": {
  "kernelspec": {
   "display_name": "Python 3 (ipykernel)",
   "language": "python",
   "name": "python3"
  },
  "language_info": {
   "codemirror_mode": {
    "name": "ipython",
    "version": 3
   },
   "file_extension": ".py",
   "mimetype": "text/x-python",
   "name": "python",
   "nbconvert_exporter": "python",
   "pygments_lexer": "ipython3",
   "version": "3.9.7"
  },
  "toc": {
   "base_numbering": 1,
   "nav_menu": {},
   "number_sections": true,
   "sideBar": true,
   "skip_h1_title": false,
   "title_cell": "Table of Contents",
   "title_sidebar": "Contents",
   "toc_cell": false,
   "toc_position": {},
   "toc_section_display": true,
   "toc_window_display": false
  },
  "varInspector": {
   "cols": {
    "lenName": 16,
    "lenType": 16,
    "lenVar": 40
   },
   "kernels_config": {
    "python": {
     "delete_cmd_postfix": "",
     "delete_cmd_prefix": "del ",
     "library": "var_list.py",
     "varRefreshCmd": "print(var_dic_list())"
    },
    "r": {
     "delete_cmd_postfix": ") ",
     "delete_cmd_prefix": "rm(",
     "library": "var_list.r",
     "varRefreshCmd": "cat(var_dic_list()) "
    }
   },
   "types_to_exclude": [
    "module",
    "function",
    "builtin_function_or_method",
    "instance",
    "_Feature"
   ],
   "window_display": false
  },
  "widgets": {
   "state": {},
   "version": "1.1.2"
  }
 },
 "nbformat": 4,
 "nbformat_minor": 2
}
