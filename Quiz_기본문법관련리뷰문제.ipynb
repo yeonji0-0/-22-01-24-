{
  "cells": [
    {
      "cell_type": "markdown",
      "metadata": {
        "id": "view-in-github",
        "colab_type": "text"
      },
      "source": [
        "<a href=\"https://colab.research.google.com/github/yeonji0-0/Python-codes/blob/main/Quiz_%EA%B8%B0%EB%B3%B8%EB%AC%B8%EB%B2%95%EA%B4%80%EB%A0%A8%EB%A6%AC%EB%B7%B0%EB%AC%B8%EC%A0%9C.ipynb\" target=\"_parent\"><img src=\"https://colab.research.google.com/assets/colab-badge.svg\" alt=\"Open In Colab\"/></a>"
      ]
    },
    {
      "cell_type": "markdown",
      "id": "11776cbd",
      "metadata": {
        "id": "11776cbd"
      },
      "source": [
        "Q1.\n",
        "[1,2,3,4,5,6,7,8,9,10,11,12] 중에서 짝수만 골라서\n",
        "10 을 곱하는 결과를 나타내시오!!!!"
      ]
    },
    {
      "cell_type": "code",
      "execution_count": null,
      "id": "9375b3ca",
      "metadata": {
        "colab": {
          "base_uri": "https://localhost:8080/"
        },
        "id": "9375b3ca",
        "outputId": "0ffa0d83-4c07-411e-a5e7-97f487bcec5b"
      },
      "outputs": [
        {
          "output_type": "execute_result",
          "data": {
            "text/plain": [
              "[20, 40, 60, 80, 100, 120]"
            ]
          },
          "metadata": {},
          "execution_count": 1
        }
      ],
      "source": [
        "a = [1,2,3,4,5,6,7,8,9,10,11,12]\n",
        "[i*10 for i in a if i % 2 == 0]"
      ]
    },
    {
      "cell_type": "markdown",
      "id": "89f3533d",
      "metadata": {
        "id": "89f3533d"
      },
      "source": [
        "Q2.\n",
        "\n",
        "a = {\"AA\":27, \"BB\":34, \"CC\":45,\"D\":77, \"E\":56, \"F\":31,\"G\":16} 이 중에서 최고점과 최저점이 누구인지 찾으세요!!!"
      ]
    },
    {
      "cell_type": "code",
      "execution_count": null,
      "id": "f77d723f",
      "metadata": {
        "colab": {
          "base_uri": "https://localhost:8080/"
        },
        "id": "f77d723f",
        "outputId": "867cbff6-9911-4b0e-bdc0-62a6dc17fff0"
      },
      "outputs": [
        {
          "output_type": "execute_result",
          "data": {
            "text/plain": [
              "<function dict.values>"
            ]
          },
          "metadata": {},
          "execution_count": 25
        }
      ],
      "source": [
        "a = {\"AA\":27, \"BB\":34, \"CC\":45,\"D\":77, \"E\":56, \"F\":31,\"G\":16}\n",
        "min_score = min(a.values)\n",
        "max_score = max(a.values)\n",
        "for name,score in a:\n",
        "  if score == min_score:\n",
        "    print(\"최저점 :\", name)\n",
        "  elif score == max_name:\n",
        "    print(\"최고점 :\", name)\n",
        "  else:\n",
        "    pass"
      ]
    },
    {
      "cell_type": "code",
      "source": [
        "#답\n",
        "a = {\"AA\":27, \"BB\":34, \"CC\":45,\"D\":77, \"E\":56, \"F\":31,\"G\":16}\n",
        "min_score = min(a.values())\n",
        "max_score = max(a.values())\n",
        "for name, score in a.items():\n",
        "  if score == min_score:\n",
        "    print(\"최저점 :\", name)\n",
        "  elif score == max_score:\n",
        "    print(\"최고점 :\", name)\n",
        "  else:\n",
        "    pass"
      ],
      "metadata": {
        "colab": {
          "base_uri": "https://localhost:8080/"
        },
        "id": "2JOt2BIalOEF",
        "outputId": "cf661442-87f2-43db-a4b0-873ee8903eac"
      },
      "id": "2JOt2BIalOEF",
      "execution_count": null,
      "outputs": [
        {
          "output_type": "stream",
          "name": "stdout",
          "text": [
            "최고점 : D\n",
            "최저점 : G\n"
          ]
        }
      ]
    },
    {
      "cell_type": "markdown",
      "id": "88c565d2",
      "metadata": {
        "id": "88c565d2"
      },
      "source": [
        "Q3.\n",
        "\n",
        "[\"A\",\"A\",\"AB\",\"B\",\"O\",\"O\",\"B\",\"A\",\"O\",\"AB\",\"AB\",\"O\",\"A\",\"B\",\"AB\"] 이러한 혈핵형을 가지고 있을 때, for문을 이용해서 각 혈핵형별로 몇 명인지 총 인원을 구하세요!!!!"
      ]
    },
    {
      "cell_type": "code",
      "source": [
        "a = [\"A\",\"A\",\"AB\",\"B\",\"O\",\"O\",\"B\",\"A\",\"O\",\"AB\",\"AB\",\"O\",\"A\",\"B\",\"AB\"]\n",
        "A = 0\n",
        "B = 0\n",
        "O = 0\n",
        "AB = 0\n",
        "for i in a:\n",
        "  if i == \"A\":\n",
        "    A += 1\n",
        "  elif i == \"B\":\n",
        "    B += 1\n",
        "  elif i == \"O\":\n",
        "    O += 1\n",
        "  else:\n",
        "    AB += 1\n",
        "\n",
        "print(\"A형 : {}, B형 : {}, O형 : {}, AB : {} \".format(A,B,O,AB))"
      ],
      "metadata": {
        "id": "77rxo4ccf44n",
        "outputId": "af2deb81-9100-4a22-d0e8-ffa6a7c8ee67",
        "colab": {
          "base_uri": "https://localhost:8080/"
        }
      },
      "id": "77rxo4ccf44n",
      "execution_count": null,
      "outputs": [
        {
          "output_type": "stream",
          "name": "stdout",
          "text": [
            "A형 : 4, B형 : 3, O형 : 4, AB : 4 \n"
          ]
        }
      ]
    },
    {
      "cell_type": "code",
      "source": [
        "#다른 방식\n",
        "blood_data = [\"A\",\"A\",\"AB\",\"B\",\"O\",\"O\",\"B\",\"A\",\"O\",\"AB\",\"AB\",\"O\",\"A\",\"B\",\"AB\"]\n",
        "blood_types = [\"A\",\"B\",\"O\",\"AB\"]\n",
        "#blood_data에서 \"A\"값과 같은 것들만 찾아서 몇 개인지 -> 리스트컴프리핸션\n",
        "for b_type in blood_types:\n",
        "  print(b_type ,len( [ person for person in blood_data if person == b_type]))"
      ],
      "metadata": {
        "colab": {
          "base_uri": "https://localhost:8080/"
        },
        "id": "tauL9MY-lexe",
        "outputId": "7ebdc20e-e845-4d5b-fb17-4a5299d1b5a3"
      },
      "id": "tauL9MY-lexe",
      "execution_count": null,
      "outputs": [
        {
          "output_type": "stream",
          "name": "stdout",
          "text": [
            "A 4\n",
            "B 3\n",
            "O 4\n",
            "AB 4\n"
          ]
        }
      ]
    },
    {
      "cell_type": "markdown",
      "id": "91be04b0",
      "metadata": {
        "id": "91be04b0"
      },
      "source": [
        "Q4. \n",
        "\n",
        "구구단 11단 ~ 19단까지 결과를 출력하세요!!! (단, 출력 양식은 11 X 2 = 22 이런 식)"
      ]
    },
    {
      "cell_type": "code",
      "execution_count": null,
      "id": "15503156",
      "metadata": {
        "colab": {
          "base_uri": "https://localhost:8080/"
        },
        "id": "15503156",
        "outputId": "78a90db9-89ed-4b13-8f4c-a5ca40fa4dd8"
      },
      "outputs": [
        {
          "output_type": "stream",
          "name": "stdout",
          "text": [
            "11 * 1 = 11\n",
            "11 * 2 = 22\n",
            "11 * 3 = 33\n",
            "11 * 4 = 44\n",
            "11 * 5 = 55\n",
            "11 * 6 = 66\n",
            "11 * 7 = 77\n",
            "11 * 8 = 88\n",
            "11 * 9 = 99\n",
            "-----\n",
            "12 * 1 = 12\n",
            "12 * 2 = 24\n",
            "12 * 3 = 36\n",
            "12 * 4 = 48\n",
            "12 * 5 = 60\n",
            "12 * 6 = 72\n",
            "12 * 7 = 84\n",
            "12 * 8 = 96\n",
            "12 * 9 = 108\n",
            "-----\n",
            "13 * 1 = 13\n",
            "13 * 2 = 26\n",
            "13 * 3 = 39\n",
            "13 * 4 = 52\n",
            "13 * 5 = 65\n",
            "13 * 6 = 78\n",
            "13 * 7 = 91\n",
            "13 * 8 = 104\n",
            "13 * 9 = 117\n",
            "-----\n",
            "14 * 1 = 14\n",
            "14 * 2 = 28\n",
            "14 * 3 = 42\n",
            "14 * 4 = 56\n",
            "14 * 5 = 70\n",
            "14 * 6 = 84\n",
            "14 * 7 = 98\n",
            "14 * 8 = 112\n",
            "14 * 9 = 126\n",
            "-----\n",
            "15 * 1 = 15\n",
            "15 * 2 = 30\n",
            "15 * 3 = 45\n",
            "15 * 4 = 60\n",
            "15 * 5 = 75\n",
            "15 * 6 = 90\n",
            "15 * 7 = 105\n",
            "15 * 8 = 120\n",
            "15 * 9 = 135\n",
            "-----\n",
            "16 * 1 = 16\n",
            "16 * 2 = 32\n",
            "16 * 3 = 48\n",
            "16 * 4 = 64\n",
            "16 * 5 = 80\n",
            "16 * 6 = 96\n",
            "16 * 7 = 112\n",
            "16 * 8 = 128\n",
            "16 * 9 = 144\n",
            "-----\n",
            "17 * 1 = 17\n",
            "17 * 2 = 34\n",
            "17 * 3 = 51\n",
            "17 * 4 = 68\n",
            "17 * 5 = 85\n",
            "17 * 6 = 102\n",
            "17 * 7 = 119\n",
            "17 * 8 = 136\n",
            "17 * 9 = 153\n",
            "-----\n",
            "18 * 1 = 18\n",
            "18 * 2 = 36\n",
            "18 * 3 = 54\n",
            "18 * 4 = 72\n",
            "18 * 5 = 90\n",
            "18 * 6 = 108\n",
            "18 * 7 = 126\n",
            "18 * 8 = 144\n",
            "18 * 9 = 162\n",
            "-----\n",
            "19 * 1 = 19\n",
            "19 * 2 = 38\n",
            "19 * 3 = 57\n",
            "19 * 4 = 76\n",
            "19 * 5 = 95\n",
            "19 * 6 = 114\n",
            "19 * 7 = 133\n",
            "19 * 8 = 152\n",
            "19 * 9 = 171\n",
            "-----\n"
          ]
        }
      ],
      "source": [
        "for i in range(11,20):\n",
        "  for num in range(1,10):\n",
        "    gugu = i * num\n",
        "    print(i, \"*\", num ,\"=\", gugu)\n",
        "  print(\"-\"*5)"
      ]
    },
    {
      "cell_type": "markdown",
      "id": "9f3b2830",
      "metadata": {
        "id": "9f3b2830"
      },
      "source": [
        "Q5. \n",
        "\n",
        "100 까지 수들 중에서 7의 배수들만 출력하세요!"
      ]
    },
    {
      "cell_type": "code",
      "execution_count": null,
      "id": "05c8f92f",
      "metadata": {
        "colab": {
          "base_uri": "https://localhost:8080/"
        },
        "id": "05c8f92f",
        "outputId": "a20eb91c-c082-4739-b587-64336000317b"
      },
      "outputs": [
        {
          "output_type": "stream",
          "name": "stdout",
          "text": [
            "7\n",
            "14\n",
            "21\n",
            "28\n",
            "35\n",
            "42\n",
            "49\n",
            "56\n",
            "63\n",
            "70\n",
            "77\n",
            "84\n",
            "91\n",
            "98\n"
          ]
        }
      ],
      "source": [
        "for i in range(1,101):\n",
        "  if i % 7 == 0:\n",
        "    print(i)\n",
        "  \n"
      ]
    },
    {
      "cell_type": "code",
      "source": [
        "#다른 방식\n",
        "#리스트 컴프리핸션\n",
        "[i for i in range(1,101) if i  % 7 == 0]"
      ],
      "metadata": {
        "colab": {
          "base_uri": "https://localhost:8080/"
        },
        "id": "DOlhkjRBnGlF",
        "outputId": "738de9e4-bdca-4494-cfee-1e444e25a9bb"
      },
      "id": "DOlhkjRBnGlF",
      "execution_count": null,
      "outputs": [
        {
          "output_type": "execute_result",
          "data": {
            "text/plain": [
              "[7, 14, 21, 28, 35, 42, 49, 56, 63, 70, 77, 84, 91, 98]"
            ]
          },
          "metadata": {},
          "execution_count": 7
        }
      ]
    },
    {
      "cell_type": "markdown",
      "id": "b005bdea",
      "metadata": {
        "id": "b005bdea"
      },
      "source": [
        "Q6. 아래와 같은 그림을 출력하세요  \n",
        "\n",
        "1<br/>\n",
        "22  \n",
        "333  \n",
        "4444  \n",
        "55555  \n",
        "666666"
      ]
    },
    {
      "cell_type": "code",
      "execution_count": null,
      "id": "62572574",
      "metadata": {
        "colab": {
          "base_uri": "https://localhost:8080/"
        },
        "id": "62572574",
        "outputId": "d9bdb7ce-8c1e-41bd-819d-e7e70973e1e8"
      },
      "outputs": [
        {
          "output_type": "stream",
          "name": "stdout",
          "text": [
            "1\n",
            "22\n",
            "333\n",
            "4444\n",
            "55555\n",
            "666666\n"
          ]
        }
      ],
      "source": [
        "for i in range(1,7):\n",
        "  print(str(i)*i)\n"
      ]
    },
    {
      "cell_type": "markdown",
      "id": "a63d459f",
      "metadata": {
        "id": "a63d459f"
      },
      "source": [
        "Q7.아래와 같은 그림을 만드세요 <br>\n",
        "@<br>\n",
        "@@<br>\n",
        "@@@<br>\n",
        "@@@@<br>\n",
        "@@@@@<br>"
      ]
    },
    {
      "cell_type": "code",
      "execution_count": null,
      "id": "9cd03444",
      "metadata": {
        "colab": {
          "base_uri": "https://localhost:8080/"
        },
        "id": "9cd03444",
        "outputId": "fd5981ee-881f-46a5-82bf-edaac1f5c6fd"
      },
      "outputs": [
        {
          "output_type": "stream",
          "name": "stdout",
          "text": [
            "@\n",
            "@@\n",
            "@@@\n",
            "@@@@\n",
            "@@@@@\n"
          ]
        }
      ],
      "source": [
        "for i in range(1,6):\n",
        "  print(\"@\"*i)"
      ]
    },
    {
      "cell_type": "code",
      "source": [
        "print(\"@\",end=\"X\") # 기본 end -> \\n 줄바꿈 "
      ],
      "metadata": {
        "colab": {
          "base_uri": "https://localhost:8080/"
        },
        "id": "aKnlUjeMn8BP",
        "outputId": "f4df3474-1882-4862-8b95-4976a792b5ba"
      },
      "id": "aKnlUjeMn8BP",
      "execution_count": null,
      "outputs": [
        {
          "output_type": "stream",
          "name": "stdout",
          "text": [
            "@X"
          ]
        }
      ]
    },
    {
      "cell_type": "markdown",
      "id": "000e9a8f",
      "metadata": {
        "id": "000e9a8f"
      },
      "source": [
        "Q8. 입력한 수의 각 자리수를 더하는 프로그램을 작성하시오.<br>\n",
        "예 : 12345--> 1+2+3+4+5=15"
      ]
    },
    {
      "cell_type": "code",
      "execution_count": null,
      "id": "08bad7ee",
      "metadata": {
        "colab": {
          "base_uri": "https://localhost:8080/"
        },
        "id": "08bad7ee",
        "outputId": "2a96731e-7274-48c3-95e9-fe372056e301"
      },
      "outputs": [
        {
          "name": "stdout",
          "output_type": "stream",
          "text": [
            "숫자를 입력하세요1234\n"
          ]
        },
        {
          "output_type": "execute_result",
          "data": {
            "text/plain": [
              "10"
            ]
          },
          "metadata": {},
          "execution_count": 37
        }
      ],
      "source": [
        "a = input(\"숫자를 입력하세요\")\n",
        "b = 0\n",
        "for i in range(len(a)):\n",
        "  b += int(a[i])\n",
        "\n",
        "b   "
      ]
    },
    {
      "cell_type": "code",
      "source": [
        "#다른 방식\n",
        "#문자열을 for문을 하면, 개별 문자별로 어쩌고 저쩌고~\n",
        "#파이썬의for문을 문자열을 대상으로 하면, 개별 분자들을 돌려주는 역할\n",
        "num = input(\"수를 입력하세요\")\n",
        "sum([ int(i) for i in num ])"
      ],
      "metadata": {
        "colab": {
          "base_uri": "https://localhost:8080/"
        },
        "id": "Gus5A9EeoJl_",
        "outputId": "2822a047-cbeb-489c-f1d3-80c4bd7211a8"
      },
      "id": "Gus5A9EeoJl_",
      "execution_count": null,
      "outputs": [
        {
          "name": "stdout",
          "output_type": "stream",
          "text": [
            "수를 입력하세요1234\n"
          ]
        },
        {
          "output_type": "execute_result",
          "data": {
            "text/plain": [
              "10"
            ]
          },
          "metadata": {},
          "execution_count": 10
        }
      ]
    },
    {
      "cell_type": "markdown",
      "id": "6468ebb6",
      "metadata": {
        "id": "6468ebb6"
      },
      "source": [
        "Q9.\n",
        "\n",
        "1부터 100까지의 나열 할 때 1~9까지 숫자는 각각 몇 번 나타나는지를 세어 보세요!!!"
      ]
    },
    {
      "cell_type": "code",
      "source": [
        "a = list(range(1,101))\n",
        "for i in len(a):\n",
        "  for j in len(a[i]):\n",
        "    if a[i][j] = "
      ],
      "metadata": {
        "id": "CV8laSDGuyny"
      },
      "id": "CV8laSDGuyny",
      "execution_count": null,
      "outputs": []
    },
    {
      "cell_type": "code",
      "source": [
        "#답\n",
        "#리스트의 기능 : count\n",
        "#문자열 -> 문자들의 모여있는 것 -> 리스트\n",
        "numstr = \"\"\n",
        "#일단 1~100까지 숫자 만들기 -> range\n",
        "for i in range(1, 101):\n",
        "  numstr += str(i)\n",
        "#탐색에 필요한 숫자 0~ 9까지\n",
        "for j in range(0,10):\n",
        "  print(str(j), \":\", numstr.count(str(j)))"
      ],
      "metadata": {
        "colab": {
          "base_uri": "https://localhost:8080/"
        },
        "id": "5Hx3Mwzvo2lE",
        "outputId": "c3b4596a-1505-4818-c9bd-d58848e1d680"
      },
      "id": "5Hx3Mwzvo2lE",
      "execution_count": null,
      "outputs": [
        {
          "output_type": "stream",
          "name": "stdout",
          "text": [
            "0 : 11\n",
            "1 : 21\n",
            "2 : 20\n",
            "3 : 20\n",
            "4 : 20\n",
            "5 : 20\n",
            "6 : 20\n",
            "7 : 20\n",
            "8 : 20\n",
            "9 : 20\n"
          ]
        }
      ]
    },
    {
      "cell_type": "markdown",
      "id": "bffa9236",
      "metadata": {
        "id": "bffa9236"
      },
      "source": [
        "Q10.\n",
        "\n",
        "a = [20,55,67,82,45,33,90,87,100,25]점수일 때, 50점 이상인 점수들의 합!!!!!<br> \n",
        "방법 1 : for/ range사용<br>\n",
        "방법 2 : for/ 직접 값 사용<br>\n",
        "방법 3 : while사용<br>"
      ]
    },
    {
      "cell_type": "code",
      "execution_count": null,
      "id": "4d6a0281",
      "metadata": {
        "colab": {
          "base_uri": "https://localhost:8080/"
        },
        "id": "4d6a0281",
        "outputId": "c4384cac-0f81-4d93-abb2-e7bec99c40ef"
      },
      "outputs": [
        {
          "output_type": "execute_result",
          "data": {
            "text/plain": [
              "481"
            ]
          },
          "metadata": {},
          "execution_count": 42
        }
      ],
      "source": [
        "a = [20,55,67,82,45,33,90,87,100,25]\n",
        "b = []\n",
        "for i in a:\n",
        "    if i >= 50:\n",
        "      b.append(i)\n",
        "\n",
        "sum(b)\n",
        "    \n",
        "\n",
        "\n",
        "    \n"
      ]
    },
    {
      "cell_type": "code",
      "source": [
        "a = [20,55,67,82,45,33,90,87,100,25]\n",
        "b = []\n",
        "for i in range(len(a)):\n",
        "  if a[i] >= 50:\n",
        "    b.append(a[i])\n",
        "\n",
        "sum(b)"
      ],
      "metadata": {
        "id": "R5-EQIi9lrCC",
        "outputId": "5306e3c7-8776-4c59-afae-de5fbf4eedb5",
        "colab": {
          "base_uri": "https://localhost:8080/"
        }
      },
      "id": "R5-EQIi9lrCC",
      "execution_count": null,
      "outputs": [
        {
          "output_type": "execute_result",
          "data": {
            "text/plain": [
              "481"
            ]
          },
          "metadata": {},
          "execution_count": 47
        }
      ]
    },
    {
      "cell_type": "code",
      "source": [
        "#다른 방식\n",
        "result = 0\n",
        "for i in a:\n",
        "  if i >= 50:\n",
        "    result += i\n",
        "  else:\n",
        "    pass\n",
        "\n",
        "result"
      ],
      "metadata": {
        "colab": {
          "base_uri": "https://localhost:8080/"
        },
        "id": "mhzY4oFYqZHb",
        "outputId": "8fced076-32a9-44b0-a4aa-da6c5b621567"
      },
      "id": "mhzY4oFYqZHb",
      "execution_count": null,
      "outputs": [
        {
          "output_type": "execute_result",
          "data": {
            "text/plain": [
              "481"
            ]
          },
          "metadata": {},
          "execution_count": 15
        }
      ]
    },
    {
      "cell_type": "code",
      "source": [
        "#리스트컴프리핸션\n",
        "a = [20,55,67,82,45,33,90,87,100,25]\n",
        "sum([i for i in a if i>= 50])"
      ],
      "metadata": {
        "colab": {
          "base_uri": "https://localhost:8080/"
        },
        "id": "cgs6oYcYqEAG",
        "outputId": "4548a82e-d3d1-40b6-9b2a-ff4b95c45926"
      },
      "id": "cgs6oYcYqEAG",
      "execution_count": null,
      "outputs": [
        {
          "output_type": "execute_result",
          "data": {
            "text/plain": [
              "481"
            ]
          },
          "metadata": {},
          "execution_count": 14
        }
      ]
    },
    {
      "cell_type": "markdown",
      "id": "4b72e4ec",
      "metadata": {
        "id": "4b72e4ec"
      },
      "source": [
        "Q11.\n",
        "\n",
        "1부터 입력받은 수까지 \"홀수들의 합의 제곱\"의 결과와 \"짝수들의 제곱의 합\"과의 차이를 구하시오!!! <br>\n",
        "입력받은 수 : 5\n",
        "홀수들의 합의 제곱 : (1+3+5) ^ 2 = 81<br>\n",
        "짝수들의 제곱의 합 : (2^2 + 4^2) = 20<br>\n",
        "이 둘의 차임 : 81-20"
      ]
    },
    {
      "cell_type": "code",
      "execution_count": null,
      "id": "7816c879",
      "metadata": {
        "colab": {
          "base_uri": "https://localhost:8080/"
        },
        "id": "7816c879",
        "outputId": "69b6c0a0-b006-481e-a9e7-92e7c83849a7"
      },
      "outputs": [
        {
          "output_type": "stream",
          "name": "stdout",
          "text": [
            "숫자를 입력해주세요5\n",
            "-10\n"
          ]
        }
      ],
      "source": [
        "a = int(input(\"숫자를 입력해주세요\"))\n",
        "b = list(range(1,a))\n",
        "\n",
        "c = [x ** 2 for x in b if x % 2 == 1]\n",
        "d = [x ** 2 for x in b if x % 2 == 0]\n",
        "print(sum(c)-sum(d))"
      ]
    },
    {
      "cell_type": "code",
      "source": [
        "#답\n",
        "n = int(input(\"수를 입력하세요\"))\n",
        "odd = [i for i in range(1,n+1) if i % 2 == 1]\n",
        "even = [i** 2 for i in range(1,n+1) if i % 2 == 0]\n",
        "sum1 = sum(odd)**2\n",
        "sum2 = sum(even)\n",
        "print(abs(sum2-sum1))"
      ],
      "metadata": {
        "colab": {
          "base_uri": "https://localhost:8080/"
        },
        "id": "yw9j8bf4q6Ll",
        "outputId": "14a846ce-2dab-4c66-a6e6-2c41f8773d4d"
      },
      "id": "yw9j8bf4q6Ll",
      "execution_count": null,
      "outputs": [
        {
          "output_type": "stream",
          "name": "stdout",
          "text": [
            "수를 입력하세요5\n",
            "61\n"
          ]
        }
      ]
    },
    {
      "cell_type": "markdown",
      "id": "23c3adc4",
      "metadata": {
        "id": "23c3adc4"
      },
      "source": [
        "Q12.\n",
        "\n",
        "학생의 점수을 입력을 받아서, 그 점수에 해당하는 학점을 출력을 하고, <br>\n",
        "그 학점이 A는 \"참 잘했습니다\", <br>\n",
        "B는 \"잘 했습니다.\",<br>\n",
        "C는 \"좀 더 노력하세요\", <br>\n",
        "D는 \"재수강을 권장합니다\", <br>\n",
        "F는 \"꼭 다시 들으세요!!!\"로 판별해주기.<br><br>\n",
        "\n",
        "단, F: 30점 미만, D:30점 이상55점 미만, C : 55이상 85점 미만, B:85이상~90점 미만, A:90점 이상 이상"
      ]
    },
    {
      "cell_type": "code",
      "execution_count": null,
      "id": "9c495dbf",
      "metadata": {
        "colab": {
          "base_uri": "https://localhost:8080/"
        },
        "id": "9c495dbf",
        "outputId": "f367cb2f-6679-43d0-ee9a-d9c521da2374"
      },
      "outputs": [
        {
          "output_type": "stream",
          "name": "stdout",
          "text": [
            "점수를 입력하세요54\n",
            "재수강을 권장합니다.\n"
          ]
        }
      ],
      "source": [
        "score = int(input(\"점수를 입력하세요\"))\n",
        "if score >= 90:\n",
        "  print(\"참 잘했습니다.\")\n",
        "elif 85 <= score < 90:\n",
        "  print(\"잘했습니다.\")\n",
        "elif 55 <= score < 85:\n",
        "  print(\"좀 더 노력하세요.\")\n",
        "elif 30 <= score < 55:\n",
        "  print(\"재수강을 권장합니다.\")\n",
        "else:\n",
        "  print(\"꼭 다시 들으세요.\")"
      ]
    }
  ],
  "metadata": {
    "kernelspec": {
      "display_name": "Python 3 (ipykernel)",
      "language": "python",
      "name": "python3"
    },
    "language_info": {
      "codemirror_mode": {
        "name": "ipython",
        "version": 3
      },
      "file_extension": ".py",
      "mimetype": "text/x-python",
      "name": "python",
      "nbconvert_exporter": "python",
      "pygments_lexer": "ipython3",
      "version": "3.9.7"
    },
    "colab": {
      "name": "Quiz_20220204_기본문법관련리뷰문제.ipynb의 사본",
      "provenance": [],
      "include_colab_link": true
    }
  },
  "nbformat": 4,
  "nbformat_minor": 5
}