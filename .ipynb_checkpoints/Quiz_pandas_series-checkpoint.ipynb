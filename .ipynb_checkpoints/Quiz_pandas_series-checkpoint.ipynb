{
 "cells": [
  {
   "cell_type": "markdown",
   "id": "a8c329a2",
   "metadata": {},
   "source": [
    "# Pandas Series Review"
   ]
  },
  {
   "cell_type": "markdown",
   "id": "b0508250",
   "metadata": {},
   "source": [
    "## 01. pandas 패키지를 불러오세요"
   ]
  },
  {
   "cell_type": "code",
   "execution_count": 1,
   "id": "876257af",
   "metadata": {},
   "outputs": [],
   "source": [
    "import pandas as pd"
   ]
  },
  {
   "cell_type": "markdown",
   "id": "864c3af2",
   "metadata": {},
   "source": [
    "## 02. 다음과 같은 Series Data를 만드세요."
   ]
  },
  {
   "cell_type": "code",
   "execution_count": 42,
   "id": "3668bb05",
   "metadata": {},
   "outputs": [
    {
     "data": {
      "text/plain": [
       "2022-01-01    1000\n",
       "2022-01-02    2000\n",
       "2022-01-03    3000\n",
       "2022-01-04    2500\n",
       "2022-01-06    1400\n",
       "2022-01-07     300\n",
       "2022-01-09     500\n",
       "dtype: int64"
      ]
     },
     "execution_count": 42,
     "metadata": {},
     "output_type": "execute_result"
    }
   ],
   "source": [
    "data = pd.Series([1000,2000,3000,2500,1400,300,500], index = [\"2022-01-01\",\"2022-01-02\",\"2022-01-03\",\"2022-01-04\",\"2022-01-06\",\"2022-01-07\",\"2022-01-09\"])\n",
    "data"
   ]
  },
  {
   "cell_type": "markdown",
   "id": "4d098337",
   "metadata": {},
   "source": [
    "## 03. 02번에서 만든 데이터에서 3~5번째 데이터를 접근하세요 : 간략방법 & FM방법 모두 사용(정수 인덱스 기반)"
   ]
  },
  {
   "cell_type": "code",
   "execution_count": 10,
   "id": "921e72d0",
   "metadata": {},
   "outputs": [
    {
     "data": {
      "text/plain": [
       "2022-01-04    2500\n",
       "2022-01-06    1400\n",
       "2022-01-07     300\n",
       "dtype: int64"
      ]
     },
     "execution_count": 10,
     "metadata": {},
     "output_type": "execute_result"
    }
   ],
   "source": [
    "data[3:6]"
   ]
  },
  {
   "cell_type": "code",
   "execution_count": 11,
   "id": "bf4413ed",
   "metadata": {},
   "outputs": [
    {
     "data": {
      "text/plain": [
       "2022-01-04    2500\n",
       "2022-01-06    1400\n",
       "2022-01-07     300\n",
       "dtype: int64"
      ]
     },
     "execution_count": 11,
     "metadata": {},
     "output_type": "execute_result"
    }
   ],
   "source": [
    "data.iloc[3:6]"
   ]
  },
  {
   "cell_type": "markdown",
   "id": "86c65152",
   "metadata": {},
   "source": [
    "## 04. 02번에서 만든 데이터에서 2022년 1월 1일 데이터부터~ 2022년 1월 6일 데이터까지 연속된 날짜의 값들을 모두 접근하세요: 간략방법 & FM방법 모두(내가 만든 날짜 인덱스 기반)"
   ]
  },
  {
   "cell_type": "code",
   "execution_count": 12,
   "id": "8cbdc4e6",
   "metadata": {},
   "outputs": [
    {
     "data": {
      "text/plain": [
       "2022-01-01    1000\n",
       "2022-01-02    2000\n",
       "2022-01-03    3000\n",
       "2022-01-04    2500\n",
       "2022-01-06    1400\n",
       "dtype: int64"
      ]
     },
     "execution_count": 12,
     "metadata": {},
     "output_type": "execute_result"
    }
   ],
   "source": [
    "data[\"2022-01-01\":\"2022-01-06\"]"
   ]
  },
  {
   "cell_type": "code",
   "execution_count": 13,
   "id": "42178ff3",
   "metadata": {},
   "outputs": [
    {
     "data": {
      "text/plain": [
       "2022-01-01    1000\n",
       "2022-01-02    2000\n",
       "2022-01-03    3000\n",
       "2022-01-04    2500\n",
       "2022-01-06    1400\n",
       "dtype: int64"
      ]
     },
     "execution_count": 13,
     "metadata": {},
     "output_type": "execute_result"
    }
   ],
   "source": [
    "data.loc[\"2022-01-01\":\"2022-01-06\"]"
   ]
  },
  {
   "cell_type": "markdown",
   "id": "eb9e723f",
   "metadata": {},
   "source": [
    "## 05. 1월 6일에 대한 1개의 데이터에 접근하세요 : FM방법으로 ->  정수 인덱스, 내가 만든 날짜 인덱스 모두"
   ]
  },
  {
   "cell_type": "code",
   "execution_count": 14,
   "id": "12b76b80",
   "metadata": {},
   "outputs": [
    {
     "data": {
      "text/plain": [
       "1400"
      ]
     },
     "execution_count": 14,
     "metadata": {},
     "output_type": "execute_result"
    }
   ],
   "source": [
    "data.iat[4]"
   ]
  },
  {
   "cell_type": "code",
   "execution_count": 15,
   "id": "ddf27613",
   "metadata": {},
   "outputs": [
    {
     "data": {
      "text/plain": [
       "1400"
      ]
     },
     "execution_count": 15,
     "metadata": {},
     "output_type": "execute_result"
    }
   ],
   "source": [
    "data.at[\"2022-01-06\"]"
   ]
  },
  {
   "cell_type": "markdown",
   "id": "40b36657",
   "metadata": {},
   "source": [
    "## 06. \"2022-02-07\"에 대한 인덱스가 주어진 데이터게 있는지 확인해보세요~"
   ]
  },
  {
   "cell_type": "code",
   "execution_count": 19,
   "id": "53303cd0",
   "metadata": {},
   "outputs": [
    {
     "data": {
      "text/plain": [
       "array([False, False, False, False, False, False, False])"
      ]
     },
     "execution_count": 19,
     "metadata": {},
     "output_type": "execute_result"
    }
   ],
   "source": [
    "data.index == \"2022-02-07\""
   ]
  },
  {
   "cell_type": "markdown",
   "id": "637691c8",
   "metadata": {},
   "source": [
    "## 07. \"2022-02-07\"의 날짜 인덱스에 대해서, 아래와 같이 새로운 데이터를 만들어서 추가하세요~"
   ]
  },
  {
   "cell_type": "code",
   "execution_count": 21,
   "id": "991b3324",
   "metadata": {},
   "outputs": [
    {
     "data": {
      "text/plain": [
       "2022-01-01      1000\n",
       "2022-01-02      2000\n",
       "2022-01-03      3000\n",
       "2022-01-04      2500\n",
       "2022-01-06      1400\n",
       "2022-01-07       300\n",
       "2022-01-09       500\n",
       "2022-02-07    123456\n",
       "dtype: object"
      ]
     },
     "execution_count": 21,
     "metadata": {},
     "output_type": "execute_result"
    }
   ],
   "source": [
    "data[\"2022-02-07\"] = 123456\n",
    "data"
   ]
  },
  {
   "cell_type": "markdown",
   "id": "f3192978",
   "metadata": {},
   "source": [
    "## 08. 기존의 데이터에서 stock_price_Series, 주식 가격이 1000원 이하인 값들이 언제였고, 몇 일이었는지 찾아보세요~"
   ]
  },
  {
   "cell_type": "code",
   "execution_count": 49,
   "id": "47b435a0",
   "metadata": {},
   "outputs": [
    {
     "name": "stdout",
     "output_type": "stream",
     "text": [
      "2022-01-01\n",
      "2022-01-03\n"
     ]
    }
   ],
   "source": [
    "stock_price_DF = pd.DataFrame(\n",
    "                 data = [1000, 1030,990, 1050, 1100],\n",
    "                 index = [\"2022-01-01\",\"2022-01-02\",\"2022-01-03\",\"2022-01-04\",\"2022-01-5\"])\n",
    "for i in range(stock_price_DF.shape[0]):\n",
    "    if stock_price_DF.iat[i,0] <= 1000:\n",
    "        print(stock_price_DF.index[i])"
   ]
  },
  {
   "cell_type": "code",
   "execution_count": 50,
   "id": "cb95df58",
   "metadata": {},
   "outputs": [
    {
     "data": {
      "text/plain": [
       "2"
      ]
     },
     "execution_count": 50,
     "metadata": {},
     "output_type": "execute_result"
    }
   ],
   "source": [
    "cnt = 0\n",
    "for i in range(stock_price_DF.shape[0]):\n",
    "    if stock_price_DF.iat[i,0] <= 1000:\n",
    "        cnt  += 1\n",
    "cnt"
   ]
  },
  {
   "cell_type": "markdown",
   "id": "1d1ac3c8",
   "metadata": {},
   "source": [
    "## 09. 주어진 데이터에서 가장 높은 주식가격이 얼마이고, 그 날짜를 구하세요~"
   ]
  },
  {
   "cell_type": "code",
   "execution_count": 30,
   "id": "b1620b9a",
   "metadata": {},
   "outputs": [
    {
     "data": {
      "text/plain": [
       "3000"
      ]
     },
     "execution_count": 30,
     "metadata": {},
     "output_type": "execute_result"
    }
   ],
   "source": [
    "data.max()"
   ]
  },
  {
   "cell_type": "code",
   "execution_count": 55,
   "id": "98215429",
   "metadata": {},
   "outputs": [
    {
     "data": {
      "text/plain": [
       "['2022-01-03  3000']"
      ]
     },
     "execution_count": 55,
     "metadata": {},
     "output_type": "execute_result"
    }
   ],
   "source": [
    "stock_max = []\n",
    "for i in range(len(data)):\n",
    "    if data[i] == data.max():\n",
    "        temp = str(data.index[i]) + \"  \" + str(data[i])\n",
    "        stock_max.append(temp)\n",
    "stock_max              "
   ]
  },
  {
   "cell_type": "markdown",
   "id": "5657b5cf",
   "metadata": {},
   "source": [
    "## 10. 주어진 데이터에서 가장 낮은 주식가격은 얼마이고, 그 날짜가 언제인지 구하세요~"
   ]
  },
  {
   "cell_type": "code",
   "execution_count": 31,
   "id": "2f9ca8e1",
   "metadata": {},
   "outputs": [
    {
     "data": {
      "text/plain": [
       "300"
      ]
     },
     "execution_count": 31,
     "metadata": {},
     "output_type": "execute_result"
    }
   ],
   "source": [
    "data.min()"
   ]
  },
  {
   "cell_type": "code",
   "execution_count": 56,
   "id": "bffdad99",
   "metadata": {},
   "outputs": [
    {
     "data": {
      "text/plain": [
       "['2022-01-07  300']"
      ]
     },
     "execution_count": 56,
     "metadata": {},
     "output_type": "execute_result"
    }
   ],
   "source": [
    "stock_min = []\n",
    "for i in range(len(data)):\n",
    "    if data[i] == data.min():\n",
    "        temp = str(data.index[i]) + \"  \" + str(data[i])\n",
    "        stock_min.append(temp)\n",
    "stock_min "
   ]
  },
  {
   "cell_type": "code",
   "execution_count": null,
   "id": "1e468dfb",
   "metadata": {},
   "outputs": [],
   "source": []
  }
 ],
 "metadata": {
  "kernelspec": {
   "display_name": "Python 3 (ipykernel)",
   "language": "python",
   "name": "python3"
  },
  "language_info": {
   "codemirror_mode": {
    "name": "ipython",
    "version": 3
   },
   "file_extension": ".py",
   "mimetype": "text/x-python",
   "name": "python",
   "nbconvert_exporter": "python",
   "pygments_lexer": "ipython3",
   "version": "3.9.7"
  }
 },
 "nbformat": 4,
 "nbformat_minor": 5
}
