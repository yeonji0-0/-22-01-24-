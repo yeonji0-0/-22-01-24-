{
 "cells": [
  {
   "cell_type": "markdown",
   "id": "f02a21c6",
   "metadata": {},
   "source": [
    "# 진행상황"
   ]
  },
  {
   "cell_type": "markdown",
   "id": "87d4b146",
   "metadata": {},
   "source": [
    "* 데이터의 크기 확인<br>\n",
    "* 데이터의 수를 확인<br>\n",
    "* 각 리뷰에 대한 문자 길이 <br>\n",
    "* 많이 사용되는 단어 <br> \n",
    "* 타겟 : 긍/부정의 분포 <br>\n",
    "* 각 리뷰에 사용되는 단어의 수 <br>\n",
    "* 특수 문자, 대문자, 소문자 등에 대한 비율 -> 전처리;;;; <br>\n",
    "ref) https://www.kaggle.com/c/word2vec-nlp-tutorial/data"
   ]
  },
  {
   "cell_type": "code",
   "execution_count": 1,
   "id": "562c6a97",
   "metadata": {},
   "outputs": [],
   "source": [
    "import numpy as np\n",
    "import pandas as pd\n",
    "import seaborn as sns\n",
    "import matplotlib.pyplot as plt\n",
    "%matplotlib inline"
   ]
  },
  {
   "cell_type": "markdown",
   "id": "a47aa556",
   "metadata": {},
   "source": [
    "* 추가적으로 코드상으로 압축 관련된 파일을 처리하기 위한 부분"
   ]
  },
  {
   "cell_type": "code",
   "execution_count": 2,
   "id": "7ea52843",
   "metadata": {},
   "outputs": [],
   "source": [
    "import os # 운영체제 관련\n",
    "import zipfile # 압축 파일 처리 관련"
   ]
  },
  {
   "cell_type": "code",
   "execution_count": 3,
   "id": "0b3714f9",
   "metadata": {},
   "outputs": [],
   "source": [
    "# 압축을 풀려고 하는 파일이 있는 폴더 경로\n",
    "DATA_IN_PATH = \"07_data/data/\"\n",
    "# 압축을 풀고자 하는 파일 이름 리스트\n",
    "file_list = [\"labeledTrainData.tsv.zip\",\"testData.tsv.zip\",\"unlabeledTrainData.tsv.zip\"]\n",
    "\n",
    "for file in file_list:\n",
    "    zip_ref = zipfile.ZipFile(DATA_IN_PATH +file, \"r\" ) # 풀 압축 파일 경로\n",
    "    zip_ref.extractall(DATA_IN_PATH)  # 풀어서 어디에 둘지 폴더 경로\n",
    "    zip_ref.close()"
   ]
  },
  {
   "cell_type": "markdown",
   "id": "3fe79df2",
   "metadata": {},
   "source": [
    "* 데이터 불러와서 확인"
   ]
  },
  {
   "cell_type": "code",
   "execution_count": 4,
   "id": "89ee9995",
   "metadata": {},
   "outputs": [
    {
     "name": "stdout",
     "output_type": "stream",
     "text": [
      "labeledTrainData.tsv          33556378\n",
      "testData.tsv                  32724746\n",
      "unlabeledTrainData.tsv        67281491\n"
     ]
    }
   ],
   "source": [
    "for file in os.listdir(DATA_IN_PATH):\n",
    "    if \"tsv\" in file and \"zip\" not in file:\n",
    "        print(file.ljust(30) + str(os.path.getsize(DATA_IN_PATH+file)))"
   ]
  },
  {
   "cell_type": "markdown",
   "id": "1b1ce7b5",
   "metadata": {},
   "source": [
    "* DF로 tsv-> csv 동일한데, 구분자를 tab 사용을 합니다..read_csv( del=>)"
   ]
  },
  {
   "cell_type": "code",
   "execution_count": 5,
   "id": "841776a2",
   "metadata": {},
   "outputs": [
    {
     "data": {
      "text/html": [
       "<div>\n",
       "<style scoped>\n",
       "    .dataframe tbody tr th:only-of-type {\n",
       "        vertical-align: middle;\n",
       "    }\n",
       "\n",
       "    .dataframe tbody tr th {\n",
       "        vertical-align: top;\n",
       "    }\n",
       "\n",
       "    .dataframe thead th {\n",
       "        text-align: right;\n",
       "    }\n",
       "</style>\n",
       "<table border=\"1\" class=\"dataframe\">\n",
       "  <thead>\n",
       "    <tr style=\"text-align: right;\">\n",
       "      <th></th>\n",
       "      <th>id</th>\n",
       "      <th>sentiment</th>\n",
       "      <th>review</th>\n",
       "    </tr>\n",
       "  </thead>\n",
       "  <tbody>\n",
       "    <tr>\n",
       "      <th>0</th>\n",
       "      <td>\"5814_8\"</td>\n",
       "      <td>1</td>\n",
       "      <td>\"With all this stuff going down at the moment ...</td>\n",
       "    </tr>\n",
       "    <tr>\n",
       "      <th>1</th>\n",
       "      <td>\"2381_9\"</td>\n",
       "      <td>1</td>\n",
       "      <td>\"\\\"The Classic War of the Worlds\\\" by Timothy ...</td>\n",
       "    </tr>\n",
       "    <tr>\n",
       "      <th>2</th>\n",
       "      <td>\"7759_3\"</td>\n",
       "      <td>0</td>\n",
       "      <td>\"The film starts with a manager (Nicholas Bell...</td>\n",
       "    </tr>\n",
       "    <tr>\n",
       "      <th>3</th>\n",
       "      <td>\"3630_4\"</td>\n",
       "      <td>0</td>\n",
       "      <td>\"It must be assumed that those who praised thi...</td>\n",
       "    </tr>\n",
       "    <tr>\n",
       "      <th>4</th>\n",
       "      <td>\"9495_8\"</td>\n",
       "      <td>1</td>\n",
       "      <td>\"Superbly trashy and wondrously unpretentious ...</td>\n",
       "    </tr>\n",
       "  </tbody>\n",
       "</table>\n",
       "</div>"
      ],
      "text/plain": [
       "         id  sentiment                                             review\n",
       "0  \"5814_8\"          1  \"With all this stuff going down at the moment ...\n",
       "1  \"2381_9\"          1  \"\\\"The Classic War of the Worlds\\\" by Timothy ...\n",
       "2  \"7759_3\"          0  \"The film starts with a manager (Nicholas Bell...\n",
       "3  \"3630_4\"          0  \"It must be assumed that those who praised thi...\n",
       "4  \"9495_8\"          1  \"Superbly trashy and wondrously unpretentious ..."
      ]
     },
     "execution_count": 5,
     "metadata": {},
     "output_type": "execute_result"
    }
   ],
   "source": [
    "train_data = pd.read_csv(DATA_IN_PATH +\"labeledTrainData.tsv\", header =0, delimiter = \"\\t\", quoting=3)\n",
    "train_data.head()"
   ]
  },
  {
   "cell_type": "markdown",
   "id": "aa266f6f",
   "metadata": {},
   "source": [
    "* 데이터의  수"
   ]
  },
  {
   "cell_type": "code",
   "execution_count": 6,
   "id": "a4a11918",
   "metadata": {},
   "outputs": [
    {
     "data": {
      "text/plain": [
       "25000"
      ]
     },
     "execution_count": 6,
     "metadata": {},
     "output_type": "execute_result"
    }
   ],
   "source": [
    "len(train_data)"
   ]
  },
  {
   "cell_type": "markdown",
   "id": "2b766e8d",
   "metadata": {},
   "source": [
    "* 각 리뷰의 문자 길이에 대한 값을 찾아보세요~"
   ]
  },
  {
   "cell_type": "code",
   "execution_count": 7,
   "id": "ab7c1c84",
   "metadata": {},
   "outputs": [
    {
     "data": {
      "text/plain": [
       "'\"With all this stuff going down at the moment with MJ i\\'ve started listening to his music, watching the odd documentary here and there, watched The Wiz and watched Moonwalker again. Maybe i just want to get a certain insight into this guy who i thought was really cool in the eighties just to maybe make up my mind whether he is guilty or innocent. Moonwalker is part biography, part feature film which i remember going to see at the cinema when it was originally released. Some of it has subtle messages about MJ\\'s feeling towards the press and also the obvious message of drugs are bad m\\'kay.<br /><br />Visually impressive but of course this is all about Michael Jackson so unless you remotely like MJ in anyway then you are going to hate this and find it boring. Some may call MJ an egotist for consenting to the making of this movie BUT MJ and most of his fans would say that he made it for the fans which if true is really nice of him.<br /><br />The actual feature film bit when it finally starts is only on for 20 minutes or so excluding the Smooth Criminal sequence and Joe Pesci is convincing as a psychopathic all powerful drug lord. Why he wants MJ dead so bad is beyond me. Because MJ overheard his plans? Nah, Joe Pesci\\'s character ranted that he wanted people to know it is he who is supplying drugs etc so i dunno, maybe he just hates MJ\\'s music.<br /><br />Lots of cool things in this like MJ turning into a car and a robot and the whole Speed Demon sequence. Also, the director must have had the patience of a saint when it came to filming the kiddy Bad sequence as usually directors hate working with one kid let alone a whole bunch of them performing a complex dance scene.<br /><br />Bottom line, this movie is for people who like MJ on one level or another (which i think is most people). If not, then stay away. It does try and give off a wholesome message and ironically MJ\\'s bestest buddy in this movie is a girl! Michael Jackson is truly one of the most talented people ever to grace this planet but is he guilty? Well, with all the attention i\\'ve gave this subject....hmmm well i don\\'t know because people can be different behind closed doors, i know this for a fact. He is either an extremely nice but stupid guy or one of the most sickest liars. I hope he is not the latter.\"'"
      ]
     },
     "execution_count": 7,
     "metadata": {},
     "output_type": "execute_result"
    }
   ],
   "source": [
    "train_data[\"review\"][0]"
   ]
  },
  {
   "cell_type": "code",
   "execution_count": 11,
   "id": "d3b82c0f",
   "metadata": {},
   "outputs": [
    {
     "data": {
      "text/plain": [
       "0        2304\n",
       "1         948\n",
       "2        2451\n",
       "3        2247\n",
       "4        2233\n",
       "         ... \n",
       "24995     582\n",
       "24996     977\n",
       "24997     643\n",
       "24998    1143\n",
       "24999     944\n",
       "Name: review, Length: 25000, dtype: int64"
      ]
     },
     "execution_count": 11,
     "metadata": {},
     "output_type": "execute_result"
    }
   ],
   "source": [
    "train_length = train_data[\"review\"].apply(lambda x : len(x))\n",
    "train_length  # 리뷰마다 글의 길이 차이가 좀 있다"
   ]
  },
  {
   "cell_type": "markdown",
   "id": "53aa0d07",
   "metadata": {},
   "source": [
    "* 각 리뷰별 단어 수에 대한 그래프"
   ]
  },
  {
   "cell_type": "code",
   "execution_count": 12,
   "id": "82954869",
   "metadata": {},
   "outputs": [
    {
     "data": {
      "text/plain": [
       "Text(0, 0.5, 'Number of review')"
      ]
     },
     "execution_count": 12,
     "metadata": {},
     "output_type": "execute_result"
    },
    {
     "data": {
      "image/png": "[encoded data removed]",
      "text/plain": [
       "<Figure size 864x360 with 1 Axes>"
      ]
     },
     "metadata": {
      "needs_background": "light"
     },
     "output_type": "display_data"
    }
   ],
   "source": [
    "# 그래프에 대한 이미지 사이즈 선언\n",
    "# figsize: (가로, 세로) 형태의 튜플로 입력\n",
    "plt.figure(figsize=(12, 5))\n",
    "# 히스토그램 선언\n",
    "# bins: 히스토그램 값들에 대한 버켓 범위\n",
    "# range: x축 값의 범위\n",
    "# alpha: 그래프 색상 투명도\n",
    "# color: 그래프 색상\n",
    "# label: 그래프에 대한 라벨\n",
    "plt.hist(train_length, bins=200, alpha=0.5, color= 'r', label='word')\n",
    "plt.yscale('log', nonpositive='clip')\n",
    "# 그래프 제목\n",
    "plt.title('Log-Histogram of length of review')\n",
    "# 그래프 x 축 라벨\n",
    "plt.xlabel('Length of review')\n",
    "# 그래프 y 축 라벨\n",
    "plt.ylabel('Number of review')"
   ]
  },
  {
   "cell_type": "markdown",
   "id": "d4478967",
   "metadata": {},
   "source": [
    "-> 대부분의 리뷰가 거의 6000자 이하로 작성이 되고,,, 대다수가 리뷰를 1000~6000자 사이가 대부분인 것 같다"
   ]
  },
  {
   "cell_type": "markdown",
   "id": "37253066",
   "metadata": {},
   "source": [
    "-> 글자수가 8000, 10000자 이상인 것들은,,,이상치;;;;"
   ]
  },
  {
   "cell_type": "code",
   "execution_count": 14,
   "id": "bbad8c85",
   "metadata": {},
   "outputs": [
    {
     "name": "stdout",
     "output_type": "stream",
     "text": [
      "리뷰 최대 길이 값 : 13710\n",
      "리뷰 최소 길이 값 : 54\n",
      "리뷰 평균 길이 값 : 1329.71056\n",
      "리뷰 표준편차 길이 값 : 1005.2191407969154\n",
      "리뷰 중앙값 길이 값 : 983.0\n",
      "리뷰 사분위 25 길이 값 : 705.0\n",
      "리뷰 사분위 75 길이 값 : 1619.0\n"
     ]
    }
   ],
   "source": [
    "# 기본적인 용약 통계량들이 여기서도 적용이 가능\n",
    "print(\"리뷰 최대 길이 값 :\", np.max(train_length) )\n",
    "print(\"리뷰 최소 길이 값 :\", np.min(train_length) )\n",
    "print(\"리뷰 평균 길이 값 :\", np.mean(train_length) )\n",
    "print(\"리뷰 표준편차 길이 값 :\", np.std(train_length) )\n",
    "print(\"리뷰 중앙값 길이 값 :\", np.median(train_length) )\n",
    "print(\"리뷰 사분위 25 길이 값 :\", np.percentile(train_length, 25) )\n",
    "print(\"리뷰 사분위 75 길이 값 :\", np.percentile(train_length, 75) )"
   ]
  },
  {
   "cell_type": "code",
   "execution_count": 15,
   "id": "c4747213",
   "metadata": {},
   "outputs": [
    {
     "data": {
      "text/plain": [
       "<AxesSubplot:>"
      ]
     },
     "execution_count": 15,
     "metadata": {},
     "output_type": "execute_result"
    },
    {
     "data": {
      "image/png": "[encoded data removed]",
      "text/plain": [
       "<Figure size 432x288 with 1 Axes>"
      ]
     },
     "metadata": {
      "needs_background": "light"
     },
     "output_type": "display_data"
    }
   ],
   "source": [
    "sns.boxplot(data=train_length)"
   ]
  },
  {
   "cell_type": "markdown",
   "id": "63aa5af9",
   "metadata": {},
   "source": [
    "* 가장 많이 사용되는 단어는?"
   ]
  },
  {
   "cell_type": "code",
   "execution_count": null,
   "id": "5d9b55d8",
   "metadata": {},
   "outputs": [],
   "source": [
    "!conda install -c conda-forge wordcloud"
   ]
  },
  {
   "cell_type": "code",
   "execution_count": 16,
   "id": "ba56db3f",
   "metadata": {},
   "outputs": [],
   "source": [
    "from wordcloud import WordCloud"
   ]
  },
  {
   "cell_type": "code",
   "execution_count": 17,
   "id": "f23f649b",
   "metadata": {},
   "outputs": [
    {
     "data": {
      "text/plain": [
       "<matplotlib.image.AxesImage at 0x2646c6114c0>"
      ]
     },
     "execution_count": 17,
     "metadata": {},
     "output_type": "execute_result"
    },
    {
     "data": {
      "image/png": "[encoded data removed]",
      "text/plain": [
       "<Figure size 432x288 with 1 Axes>"
      ]
     },
     "metadata": {
      "needs_background": "light"
     },
     "output_type": "display_data"
    }
   ],
   "source": [
    "# wordcloud -> 기준 : 단어(간단하게 대략적으로 띄어쓰기로만 단어라고 간주)\n",
    "# 한글 할 때에는 꾸미기에 글꼴을 한글 지원 글꼴로 설정\n",
    "# 특정한 이미지에 워드클라우드\n",
    "cloud = WordCloud(width = 1000, height = 1000 #기타 등등 꾸미기 옵션\n",
    "                 ).generate(\" \".join(train_data[\"review\"]))\n",
    "plt.imshow(cloud)"
   ]
  },
  {
   "cell_type": "markdown",
   "id": "07e22d2f",
   "metadata": {},
   "source": [
    "-> br html상의 tag들이 텍스트 데이터 안에 많이 들어있겠구나ㅓ;;;; -> 지워야 겠다;;;"
   ]
  },
  {
   "cell_type": "markdown",
   "id": "db6875ef",
   "metadata": {},
   "source": [
    "* target : 긍정/부정"
   ]
  },
  {
   "cell_type": "code",
   "execution_count": 18,
   "id": "4610055e",
   "metadata": {},
   "outputs": [
    {
     "data": {
      "text/plain": [
       "<AxesSubplot:xlabel='sentiment', ylabel='count'>"
      ]
     },
     "execution_count": 18,
     "metadata": {},
     "output_type": "execute_result"
    },
    {
     "data": {
      "image/png": "[encoded data removed]",
      "text/plain": [
       "<Figure size 432x288 with 1 Axes>"
      ]
     },
     "metadata": {
      "needs_background": "light"
     },
     "output_type": "display_data"
    }
   ],
   "source": [
    "sns.countplot(data=train_data, x=\"sentiment\")"
   ]
  },
  {
   "cell_type": "code",
   "execution_count": 19,
   "id": "86eba3d6",
   "metadata": {},
   "outputs": [
    {
     "data": {
      "text/plain": [
       "1    0.5\n",
       "0    0.5\n",
       "Name: sentiment, dtype: float64"
      ]
     },
     "execution_count": 19,
     "metadata": {},
     "output_type": "execute_result"
    }
   ],
   "source": [
    "train_data[\"sentiment\"].value_counts(normalize = True)"
   ]
  },
  {
   "cell_type": "markdown",
   "id": "42f3506f",
   "metadata": {},
   "source": [
    "* 리뷰에 대한 단어수에 대한 것을 분포..."
   ]
  },
  {
   "cell_type": "code",
   "execution_count": 20,
   "id": "c860556c",
   "metadata": {},
   "outputs": [
    {
     "data": {
      "text/plain": [
       "0        433\n",
       "1        158\n",
       "2        378\n",
       "3        379\n",
       "4        367\n",
       "        ... \n",
       "24995     95\n",
       "24996    174\n",
       "24997    127\n",
       "24998    197\n",
       "24999    184\n",
       "Name: review, Length: 25000, dtype: int64"
      ]
     },
     "execution_count": 20,
     "metadata": {},
     "output_type": "execute_result"
    }
   ],
   "source": [
    "# 전에는 그냥 알파벳 숫자가 어떻게 되는지 봤고\n",
    "# 목적은 단어를 기준으로 몇 단어가 주로 리뷰에 사용되는지 체크\n",
    "# 간단히 : 공란을 기준으로 몇 개의 덩어리가 있는지 보겠다\n",
    "train_word_counts = train_data[\"review\"].apply(lambda x : len(x.split(\" \")))\n",
    "train_word_counts"
   ]
  },
  {
   "cell_type": "code",
   "execution_count": 21,
   "id": "cafe25c2",
   "metadata": {},
   "outputs": [
    {
     "data": {
      "text/plain": [
       "Text(0, 0.5, 'Number of reviews')"
      ]
     },
     "execution_count": 21,
     "metadata": {},
     "output_type": "execute_result"
    },
    {
     "data": {
      "image/png": "[encoded data removed]",
      "text/plain": [
       "<Figure size 1080x720 with 1 Axes>"
      ]
     },
     "metadata": {
      "needs_background": "light"
     },
     "output_type": "display_data"
    }
   ],
   "source": [
    "plt.figure(figsize=(15, 10))\n",
    "plt.hist(train_word_counts, bins=50, facecolor='r',label='train')\n",
    "plt.title('Log-Histogram of word count in review', fontsize=15)\n",
    "plt.yscale('log', nonpositive='clip')\n",
    "plt.legend()\n",
    "plt.xlabel('Number of words', fontsize=15)\n",
    "plt.ylabel('Number of reviews', fontsize=15)"
   ]
  },
  {
   "cell_type": "markdown",
   "id": "7dda93e8",
   "metadata": {},
   "source": [
    "-> 단어(띄어쓰기 기준으로 한 단어로 봤을 때)를 기준으로 볼 때 1000단어로 구성이 되어 있는 듯...200전후가 가장 많은 단어인듯.."
   ]
  },
  {
   "cell_type": "code",
   "execution_count": 22,
   "id": "6c9622ee",
   "metadata": {},
   "outputs": [
    {
     "name": "stdout",
     "output_type": "stream",
     "text": [
      "리뷰 최대 길이 값 : 2470\n",
      "리뷰 최소 길이 값 : 10\n",
      "리뷰 평균 길이 값 : 233.78624\n",
      "리뷰 표준편차 길이 값 : 173.74237015380743\n",
      "리뷰 중앙값 길이 값 : 174.0\n",
      "리뷰 사분위 25 길이 값 : 127.0\n",
      "리뷰 사분위 75 길이 값 : 284.0\n"
     ]
    }
   ],
   "source": [
    "print(\"리뷰 최대 길이 값 :\", np.max(train_word_counts) )\n",
    "print(\"리뷰 최소 길이 값 :\", np.min(train_word_counts) )\n",
    "print(\"리뷰 평균 길이 값 :\", np.mean(train_word_counts) )\n",
    "print(\"리뷰 표준편차 길이 값 :\", np.std(train_word_counts) )\n",
    "print(\"리뷰 중앙값 길이 값 :\", np.median(train_word_counts) )\n",
    "print(\"리뷰 사분위 25 길이 값 :\", np.percentile(train_word_counts, 25) )\n",
    "print(\"리뷰 사분위 75 길이 값 :\", np.percentile(train_word_counts, 75) )"
   ]
  },
  {
   "cell_type": "markdown",
   "id": "fa6e9a35",
   "metadata": {},
   "source": [
    "* 특수문자, 대소문자 비율"
   ]
  },
  {
   "cell_type": "code",
   "execution_count": 23,
   "id": "c56ae70f",
   "metadata": {},
   "outputs": [
    {
     "data": {
      "text/plain": [
       "0.29552"
      ]
     },
     "execution_count": 23,
     "metadata": {},
     "output_type": "execute_result"
    }
   ],
   "source": [
    "# 25000개의 리뷰를 받았는데, 이 리뷰에서 ?가 있는 리뷰는 몇 %일까요?\n",
    "qmarks = np.mean(train_data[\"review\"].apply(lambda x : \"?\" in x))\n",
    "qmarks"
   ]
  },
  {
   "cell_type": "code",
   "execution_count": 24,
   "id": "0b1e5840",
   "metadata": {},
   "outputs": [
    {
     "data": {
      "text/plain": [
       "0.99688"
      ]
     },
     "execution_count": 24,
     "metadata": {},
     "output_type": "execute_result"
    }
   ],
   "source": [
    "# 25000개의 리뷰를 받았는데, .표가 있는 리뷰는 몇 %?\n",
    "fullstop = np.mean(train_data[\"review\"].apply(lambda x : \".\" in x))\n",
    "fullstop"
   ]
  },
  {
   "cell_type": "code",
   "execution_count": 25,
   "id": "0048b652",
   "metadata": {},
   "outputs": [
    {
     "data": {
      "text/plain": [
       "'\"With all this stuff going down at the moment with MJ i\\'ve started listening to his music, watching the odd documentary here and there, watched The Wiz and watched Moonwalker again. Maybe i just want to get a certain insight into this guy who i thought was really cool in the eighties just to maybe make up my mind whether he is guilty or innocent. Moonwalker is part biography, part feature film which i remember going to see at the cinema when it was originally released. Some of it has subtle messages about MJ\\'s feeling towards the press and also the obvious message of drugs are bad m\\'kay.<br /><br />Visually impressive but of course this is all about Michael Jackson so unless you remotely like MJ in anyway then you are going to hate this and find it boring. Some may call MJ an egotist for consenting to the making of this movie BUT MJ and most of his fans would say that he made it for the fans which if true is really nice of him.<br /><br />The actual feature film bit when it finally starts is only on for 20 minutes or so excluding the Smooth Criminal sequence and Joe Pesci is convincing as a psychopathic all powerful drug lord. Why he wants MJ dead so bad is beyond me. Because MJ overheard his plans? Nah, Joe Pesci\\'s character ranted that he wanted people to know it is he who is supplying drugs etc so i dunno, maybe he just hates MJ\\'s music.<br /><br />Lots of cool things in this like MJ turning into a car and a robot and the whole Speed Demon sequence. Also, the director must have had the patience of a saint when it came to filming the kiddy Bad sequence as usually directors hate working with one kid let alone a whole bunch of them performing a complex dance scene.<br /><br />Bottom line, this movie is for people who like MJ on one level or another (which i think is most people). If not, then stay away. It does try and give off a wholesome message and ironically MJ\\'s bestest buddy in this movie is a girl! Michael Jackson is truly one of the most talented people ever to grace this planet but is he guilty? Well, with all the attention i\\'ve gave this subject....hmmm well i don\\'t know because people can be different behind closed doors, i know this for a fact. He is either an extremely nice but stupid guy or one of the most sickest liars. I hope he is not the latter.\"'"
      ]
     },
     "execution_count": 25,
     "metadata": {},
     "output_type": "execute_result"
    }
   ],
   "source": [
    "train_data[\"review\"][0]"
   ]
  },
  {
   "cell_type": "markdown",
   "id": "5361c33e",
   "metadata": {},
   "source": [
    "-> 특수문자가 있어서 뭔가 특수문자에 대한 처리 고민;;;;지울지..의미를 부여할지..<br>\n",
    "-> 대소문자가 섞여 있어서.....뭔가 통일을 해야겠다..."
   ]
  },
  {
   "cell_type": "markdown",
   "id": "e5ae06c1",
   "metadata": {},
   "source": [
    "* 데이터 전처리"
   ]
  },
  {
   "cell_type": "code",
   "execution_count": 25,
   "id": "b035a7b2",
   "metadata": {},
   "outputs": [],
   "source": [
    "import re\n",
    "import json # -> dict 처럼 key-value로 쉽게 처리...\n",
    "\n",
    "import pandas as pd\n",
    "import numpy as np\n",
    "\n",
    "# html 상의 tag --> BeautifulSoup -> 전처리 용으로 사용\n",
    "from bs4 import BeautifulSoup\n",
    "\n",
    "# 불필요한 단어들을 제거하는 stopwords -> nltk\n",
    "from nltk.corpus import stopwords\n",
    "\n",
    "# 문장을 단어와 하고 잘라주는데.. tf -> 수치화 하는데 사용\n",
    "from tensorflow.keras.preprocessing.sequence import pad_sequences\n",
    "from tensorflow.keras.preprocessing.text import Tokenizer\n"
   ]
  },
  {
   "cell_type": "code",
   "execution_count": 26,
   "id": "d40e46dc",
   "metadata": {},
   "outputs": [
    {
     "data": {
      "text/html": [
       "<div>\n",
       "<style scoped>\n",
       "    .dataframe tbody tr th:only-of-type {\n",
       "        vertical-align: middle;\n",
       "    }\n",
       "\n",
       "    .dataframe tbody tr th {\n",
       "        vertical-align: top;\n",
       "    }\n",
       "\n",
       "    .dataframe thead th {\n",
       "        text-align: right;\n",
       "    }\n",
       "</style>\n",
       "<table border=\"1\" class=\"dataframe\">\n",
       "  <thead>\n",
       "    <tr style=\"text-align: right;\">\n",
       "      <th></th>\n",
       "      <th>id</th>\n",
       "      <th>sentiment</th>\n",
       "      <th>review</th>\n",
       "    </tr>\n",
       "  </thead>\n",
       "  <tbody>\n",
       "    <tr>\n",
       "      <th>0</th>\n",
       "      <td>\"5814_8\"</td>\n",
       "      <td>1</td>\n",
       "      <td>\"With all this stuff going down at the moment ...</td>\n",
       "    </tr>\n",
       "    <tr>\n",
       "      <th>1</th>\n",
       "      <td>\"2381_9\"</td>\n",
       "      <td>1</td>\n",
       "      <td>\"\\\"The Classic War of the Worlds\\\" by Timothy ...</td>\n",
       "    </tr>\n",
       "    <tr>\n",
       "      <th>2</th>\n",
       "      <td>\"7759_3\"</td>\n",
       "      <td>0</td>\n",
       "      <td>\"The film starts with a manager (Nicholas Bell...</td>\n",
       "    </tr>\n",
       "    <tr>\n",
       "      <th>3</th>\n",
       "      <td>\"3630_4\"</td>\n",
       "      <td>0</td>\n",
       "      <td>\"It must be assumed that those who praised thi...</td>\n",
       "    </tr>\n",
       "    <tr>\n",
       "      <th>4</th>\n",
       "      <td>\"9495_8\"</td>\n",
       "      <td>1</td>\n",
       "      <td>\"Superbly trashy and wondrously unpretentious ...</td>\n",
       "    </tr>\n",
       "  </tbody>\n",
       "</table>\n",
       "</div>"
      ],
      "text/plain": [
       "         id  sentiment                                             review\n",
       "0  \"5814_8\"          1  \"With all this stuff going down at the moment ...\n",
       "1  \"2381_9\"          1  \"\\\"The Classic War of the Worlds\\\" by Timothy ...\n",
       "2  \"7759_3\"          0  \"The film starts with a manager (Nicholas Bell...\n",
       "3  \"3630_4\"          0  \"It must be assumed that those who praised thi...\n",
       "4  \"9495_8\"          1  \"Superbly trashy and wondrously unpretentious ..."
      ]
     },
     "execution_count": 26,
     "metadata": {},
     "output_type": "execute_result"
    }
   ],
   "source": [
    "# 데이터 다시 불러옴 -> 전처리를 할 계획을 세웠으니 이제 전처리를 하기 위해서..\n",
    "train_data = pd.read_csv(\"07_data/data/labeledTrainData.tsv\", header=0, delimiter=\"\\t\",quoting=3 )\n",
    "train_data.head()"
   ]
  },
  {
   "cell_type": "code",
   "execution_count": 27,
   "id": "cce09913",
   "metadata": {},
   "outputs": [
    {
     "data": {
      "text/plain": [
       "'\"With all this stuff going down at the moment with MJ i\\'ve started listening to his music, watching the odd documentary here and there, watched The Wiz and watched Moonwalker again. Maybe i just want to get a certain insight into this guy who i thought was really cool in the eighties just to maybe make up my mind whether he is guilty or innocent. Moonwalker is part biography, part feature film which i remember going to see at the cinema when it was originally released. Some of it has subtle messages about MJ\\'s feeling towards the press and also the obvious message of drugs are bad m\\'kay.<br /><br />Visually impressive but of course this is all about Michael Jackson so unless you remotely like MJ in anyway then you are going to hate this and find it boring. Some may call MJ an egotist for consenting to the making of this movie BUT MJ and most of his fans would say that he made it for the fans which if true is really nice of him.<br /><br />The actual feature film bit when it finally starts is only on for 20 minutes or so excluding the Smooth Criminal sequence and Joe Pesci is convincing as a psychopathic all powerful drug lord. Why he wants MJ dead so bad is beyond me. Because MJ overheard his plans? Nah, Joe Pesci\\'s character ranted that he wanted people to know it is he who is supplying drugs etc so i dunno, maybe he just hates MJ\\'s music.<br /><br />Lots of cool things in this like MJ turning into a car and a robot and the whole Speed Demon sequence. Also, the director must have had the patience of a saint when it came to filming the kiddy Bad sequence as usually directors hate working with one kid let alone a whole bunch of them performing a complex dance scene.<br /><br />Bottom line, this movie is for people who like MJ on one level or another (which i think is most people). If not, then stay away. It does try and give off a wholesome message and ironically MJ\\'s bestest buddy in this movie is a girl! Michael Jackson is truly one of the most talented people ever to grace this planet but is he guilty? Well, with all the attention i\\'ve gave this subject....hmmm well i don\\'t know because people can be different behind closed doors, i know this for a fact. He is either an extremely nice but stupid guy or one of the most sickest liars. I hope he is not the latter.\"'"
      ]
     },
     "execution_count": 27,
     "metadata": {},
     "output_type": "execute_result"
    }
   ],
   "source": [
    "train_data[\"review\"][0]"
   ]
  },
  {
   "cell_type": "markdown",
   "id": "fcde9cbc",
   "metadata": {},
   "source": [
    "* tag 값을 지워보자..."
   ]
  },
  {
   "cell_type": "code",
   "execution_count": 29,
   "id": "b461bb43",
   "metadata": {},
   "outputs": [
    {
     "data": {
      "text/plain": [
       "' With all this stuff going down at the moment with MJ i ve started listening to his music  watching the odd documentary here and there  watched The Wiz and watched Moonwalker again  Maybe i just want to get a certain insight into this guy who i thought was really cool in the eighties just to maybe make up my mind whether he is guilty or innocent  Moonwalker is part biography  part feature film which i remember going to see at the cinema when it was originally released  Some of it has subtle messages about MJ s feeling towards the press and also the obvious message of drugs are bad m kay Visually impressive but of course this is all about Michael Jackson so unless you remotely like MJ in anyway then you are going to hate this and find it boring  Some may call MJ an egotist for consenting to the making of this movie BUT MJ and most of his fans would say that he made it for the fans which if true is really nice of him The actual feature film bit when it finally starts is only on for    minutes or so excluding the Smooth Criminal sequence and Joe Pesci is convincing as a psychopathic all powerful drug lord  Why he wants MJ dead so bad is beyond me  Because MJ overheard his plans  Nah  Joe Pesci s character ranted that he wanted people to know it is he who is supplying drugs etc so i dunno  maybe he just hates MJ s music Lots of cool things in this like MJ turning into a car and a robot and the whole Speed Demon sequence  Also  the director must have had the patience of a saint when it came to filming the kiddy Bad sequence as usually directors hate working with one kid let alone a whole bunch of them performing a complex dance scene Bottom line  this movie is for people who like MJ on one level or another  which i think is most people   If not  then stay away  It does try and give off a wholesome message and ironically MJ s bestest buddy in this movie is a girl  Michael Jackson is truly one of the most talented people ever to grace this planet but is he guilty  Well  with all the attention i ve gave this subject    hmmm well i don t know because people can be different behind closed doors  i know this for a fact  He is either an extremely nice but stupid guy or one of the most sickest liars  I hope he is not the latter  '"
      ]
     },
     "execution_count": 29,
     "metadata": {},
     "output_type": "execute_result"
    }
   ],
   "source": [
    "# 정규식을 사용해서 지울 수도 있고\n",
    "# 여기서는 BeautifulSoup 사용해서 지우는 것으로 해보기\n",
    "temp = train_data[\"review\"][0]\n",
    "temp_text = BeautifulSoup(temp, \"html5lib\").get_text() # -> html 상의 태그 날리기\n",
    "# 그 다음으로 알파벳만 남기겠다 -> 정규식\n",
    "temp_text = re.sub(\"[^a-zA-Z]\",\" \", temp_text)\n",
    "temp_text"
   ]
  },
  {
   "cell_type": "markdown",
   "id": "bd89caee",
   "metadata": {},
   "source": [
    "* 샘플로 stop_words 처리"
   ]
  },
  {
   "cell_type": "code",
   "execution_count": 30,
   "id": "13734130",
   "metadata": {},
   "outputs": [
    {
     "name": "stderr",
     "output_type": "stream",
     "text": [
      "[nltk_data] Downloading package stopwords to\n",
      "[nltk_data]     C:\\Users\\MEDICI\\AppData\\Roaming\\nltk_data...\n",
      "[nltk_data]   Package stopwords is already up-to-date!\n"
     ]
    },
    {
     "data": {
      "text/plain": [
       "True"
      ]
     },
     "execution_count": 30,
     "metadata": {},
     "output_type": "execute_result"
    }
   ],
   "source": [
    "# 만약에 stopwords에 대해서 해당 자료가 머신에 없으면 수행해서 다운로드\n",
    "import nltk\n",
    "nltk.download('stopwords')"
   ]
  },
  {
   "cell_type": "code",
   "execution_count": 53,
   "id": "aa0f0439",
   "metadata": {},
   "outputs": [
    {
     "name": "stdout",
     "output_type": "stream",
     "text": [
      "['stuff', 'going', 'moment', 'mj', 'started', 'listening', 'music', 'watching', 'odd', 'documentary', 'watched', 'wiz', 'watched', 'moonwalker', 'maybe', 'want', 'get', 'certain', 'insight', 'guy', 'thought', 'really', 'cool', 'eighties', 'maybe', 'make', 'mind', 'whether', 'guilty', 'innocent', 'moonwalker', 'part', 'biography', 'part', 'feature', 'film', 'remember', 'going', 'see', 'cinema', 'originally', 'released', 'subtle', 'messages', 'mj', 'feeling', 'towards', 'press', 'also', 'obvious', 'message', 'drugs', 'bad', 'kay', 'visually', 'impressive', 'course', 'michael', 'jackson', 'unless', 'remotely', 'like', 'mj', 'anyway', 'going', 'hate', 'find', 'boring', 'may', 'call', 'mj', 'egotist', 'consenting', 'making', 'movie', 'mj', 'fans', 'would', 'say', 'made', 'fans', 'true', 'really', 'nice', 'actual', 'feature', 'film', 'bit', 'finally', 'starts', 'minutes', 'excluding', 'smooth', 'criminal', 'sequence', 'joe', 'pesci', 'convincing', 'psychopathic', 'powerful', 'drug', 'lord', 'wants', 'mj', 'dead', 'bad', 'beyond', 'mj', 'overheard', 'plans', 'nah', 'joe', 'pesci', 'character', 'ranted', 'wanted', 'people', 'know', 'supplying', 'drugs', 'etc', 'dunno', 'maybe', 'hates', 'mj', 'music', 'lots', 'cool', 'things', 'like', 'mj', 'turning', 'car', 'robot', 'whole', 'speed', 'demon', 'sequence', 'also', 'director', 'must', 'patience', 'saint', 'came', 'filming', 'kiddy', 'bad', 'sequence', 'usually', 'directors', 'hate', 'working', 'one', 'kid', 'let', 'alone', 'whole', 'bunch', 'performing', 'complex', 'dance', 'scene', 'bottom', 'line', 'movie', 'people', 'like', 'mj', 'one', 'level', 'another', 'think', 'people', 'stay', 'away', 'try', 'give', 'wholesome', 'message', 'ironically', 'mj', 'bestest', 'buddy', 'movie', 'girl', 'michael', 'jackson', 'truly', 'one', 'talented', 'people', 'ever', 'grace', 'planet', 'guilty', 'well', 'attention', 'gave', 'subject', 'hmmm', 'well', 'know', 'people', 'different', 'behind', 'closed', 'doors', 'know', 'fact', 'either', 'extremely', 'nice', 'stupid', 'guy', 'one', 'sickest', 'liars', 'hope', 'latter']\n"
     ]
    }
   ],
   "source": [
    "# 패키지에 있던 불용어 사전에 대한 리스트업\n",
    "stop_words = set(stopwords.words(\"english\"))\n",
    "# 문자들을 대소문자를 소문자로 통일\n",
    "temp_text = temp_text.lower()\n",
    "# 그냥 단순히 공란을 기준으로 단어라고 한다면\n",
    "words = temp_text.split() # 리스트 형식으로 리턴\n",
    "# words가 stop_words에 없으면 모아두겠다 -> 리스트 컴프리핸션으로 구현\n",
    "words = [ w for w in words if  w not in stop_words]\n",
    "print(words)"
   ]
  },
  {
   "cell_type": "code",
   "execution_count": 54,
   "id": "6b0e5bcd",
   "metadata": {},
   "outputs": [
    {
     "name": "stdout",
     "output_type": "stream",
     "text": [
      "stuff going moment mj started listening music watching odd documentary watched wiz watched moonwalker maybe want get certain insight guy thought really cool eighties maybe make mind whether guilty innocent moonwalker part biography part feature film remember going see cinema originally released subtle messages mj feeling towards press also obvious message drugs bad kay visually impressive course michael jackson unless remotely like mj anyway going hate find boring may call mj egotist consenting making movie mj fans would say made fans true really nice actual feature film bit finally starts minutes excluding smooth criminal sequence joe pesci convincing psychopathic powerful drug lord wants mj dead bad beyond mj overheard plans nah joe pesci character ranted wanted people know supplying drugs etc dunno maybe hates mj music lots cool things like mj turning car robot whole speed demon sequence also director must patience saint came filming kiddy bad sequence usually directors hate working one kid let alone whole bunch performing complex dance scene bottom line movie people like mj one level another think people stay away try give wholesome message ironically mj bestest buddy movie girl michael jackson truly one talented people ever grace planet guilty well attention gave subject hmmm well know people different behind closed doors know fact either extremely nice stupid guy one sickest liars hope latter\n"
     ]
    }
   ],
   "source": [
    "clean_review = \" \".join(words)\n",
    "print(clean_review)"
   ]
  },
  {
   "cell_type": "code",
   "execution_count": 35,
   "id": "211ff6ca",
   "metadata": {},
   "outputs": [],
   "source": [
    "# 전처리 함수를 만들기 -> stopwords에 대해서는 옵션으로\n",
    "# 입력 : 리뷰 + 파라미터 ( stopwords 처리를 할지 말지에 대한 : 기본은 안함)\n",
    "# 처리 : html 테그 제거, 특수문자 제거해서 알파벳만 남기고, 소문자화 ++ stopwords\n",
    "# 출력 : 단어리스틀로 리턴 X -> 문자열로 출력\n",
    "def preprocessing(review, remove_stopwords=False):\n",
    "    # 1. html 태그 정리\n",
    "    review_text = BeautifulSoup(review, \"html5lib\").get_text()\n",
    "    # 2. 특수문자 날리기\n",
    "    review_text = re.sub(\"[^a-zA-Z]\", \" \", review_text)\n",
    "    # 3. 소문자화 & 분리\n",
    "    words = review_text.lower().split()\n",
    "    # 4. 옵션 stopwor\n",
    "    if remove_stopwords:\n",
    "        stop_words = set(stopwords.words(\"english\"))\n",
    "        words = [w for w in words if w not in stop_words]\n",
    "        # 다시 이어서 붙여서 문자열로 나타내기\n",
    "        clean_review = \" \".join(words) # -> 붙용어 처리가 된 것들\n",
    "    else:\n",
    "        clean_review = \" \".join(words) # -> 붙용어 처리가 안 한 것들\n",
    "    return clean_review"
   ]
  },
  {
   "cell_type": "code",
   "execution_count": 37,
   "id": "a2fa6ba6",
   "metadata": {},
   "outputs": [
    {
     "data": {
      "text/plain": [
       "'stuff going moment mj started listening music watching odd documentary watched wiz watched moonwalker maybe want get certain insight guy thought really cool eighties maybe make mind whether guilty innocent moonwalker part biography part feature film remember going see cinema originally released subtle messages mj feeling towards press also obvious message drugs bad kay visually impressive course michael jackson unless remotely like mj anyway going hate find boring may call mj egotist consenting making movie mj fans would say made fans true really nice actual feature film bit finally starts minutes excluding smooth criminal sequence joe pesci convincing psychopathic powerful drug lord wants mj dead bad beyond mj overheard plans nah joe pesci character ranted wanted people know supplying drugs etc dunno maybe hates mj music lots cool things like mj turning car robot whole speed demon sequence also director must patience saint came filming kiddy bad sequence usually directors hate working one kid let alone whole bunch performing complex dance scene bottom line movie people like mj one level another think people stay away try give wholesome message ironically mj bestest buddy movie girl michael jackson truly one talented people ever grace planet guilty well attention gave subject hmmm well know people different behind closed doors know fact either extremely nice stupid guy one sickest liars hope latter'"
      ]
     },
     "execution_count": 37,
     "metadata": {},
     "output_type": "execute_result"
    }
   ],
   "source": [
    "# 데이터를 싹 처리하기\n",
    "clean_train_reviews = []\n",
    "for review in train_data[\"review\"]:\n",
    "    clean_train_reviews.append(preprocessing(review, remove_stopwords = True))\n",
    "clean_train_reviews[0]"
   ]
  },
  {
   "cell_type": "markdown",
   "id": "88106e9e",
   "metadata": {},
   "source": [
    "* 전처리 관련 함수 만들기..."
   ]
  },
  {
   "cell_type": "code",
   "execution_count": 38,
   "id": "45c7839c",
   "metadata": {},
   "outputs": [
    {
     "data": {
      "text/plain": [
       "'uk edition show rather less extravagant us version person concerned get new kitchen perhaps bedroom bathroom wonderfully grateful got us version show everything reality tv instead making improvements house occupants could afford entire house gets rebuilt know show trying show lousy welfare system exists us beg hard enough receive rather vulgar product placement takes place particularly sears also uncalled rsther turning one family deprived area potential millionaires would far better help community whole instead spending hundreds thousands dollars one home build something whole community perhaps place diy power tools borrowed returned along building materials everyone benefit want giving one person cause enormous resentment among rest local community still live run houses'"
      ]
     },
     "execution_count": 38,
     "metadata": {},
     "output_type": "execute_result"
    }
   ],
   "source": [
    "clean_train_reviews[100]"
   ]
  },
  {
   "cell_type": "markdown",
   "id": "4d3f827f",
   "metadata": {},
   "source": [
    "* DF에다가 처리를 해보자!!"
   ]
  },
  {
   "cell_type": "code",
   "execution_count": 39,
   "id": "c653d651",
   "metadata": {},
   "outputs": [
    {
     "data": {
      "text/html": [
       "<div>\n",
       "<style scoped>\n",
       "    .dataframe tbody tr th:only-of-type {\n",
       "        vertical-align: middle;\n",
       "    }\n",
       "\n",
       "    .dataframe tbody tr th {\n",
       "        vertical-align: top;\n",
       "    }\n",
       "\n",
       "    .dataframe thead th {\n",
       "        text-align: right;\n",
       "    }\n",
       "</style>\n",
       "<table border=\"1\" class=\"dataframe\">\n",
       "  <thead>\n",
       "    <tr style=\"text-align: right;\">\n",
       "      <th></th>\n",
       "      <th>review</th>\n",
       "      <th>sentiment</th>\n",
       "    </tr>\n",
       "  </thead>\n",
       "  <tbody>\n",
       "    <tr>\n",
       "      <th>0</th>\n",
       "      <td>stuff going moment mj started listening music ...</td>\n",
       "      <td>1</td>\n",
       "    </tr>\n",
       "    <tr>\n",
       "      <th>1</th>\n",
       "      <td>classic war worlds timothy hines entertaining ...</td>\n",
       "      <td>1</td>\n",
       "    </tr>\n",
       "    <tr>\n",
       "      <th>2</th>\n",
       "      <td>film starts manager nicholas bell giving welco...</td>\n",
       "      <td>0</td>\n",
       "    </tr>\n",
       "    <tr>\n",
       "      <th>3</th>\n",
       "      <td>must assumed praised film greatest filmed oper...</td>\n",
       "      <td>0</td>\n",
       "    </tr>\n",
       "    <tr>\n",
       "      <th>4</th>\n",
       "      <td>superbly trashy wondrously unpretentious explo...</td>\n",
       "      <td>1</td>\n",
       "    </tr>\n",
       "  </tbody>\n",
       "</table>\n",
       "</div>"
      ],
      "text/plain": [
       "                                              review  sentiment\n",
       "0  stuff going moment mj started listening music ...          1\n",
       "1  classic war worlds timothy hines entertaining ...          1\n",
       "2  film starts manager nicholas bell giving welco...          0\n",
       "3  must assumed praised film greatest filmed oper...          0\n",
       "4  superbly trashy wondrously unpretentious explo...          1"
      ]
     },
     "execution_count": 39,
     "metadata": {},
     "output_type": "execute_result"
    }
   ],
   "source": [
    "# 이렇게 전처리된 결과를 DF로 담아서 핸들링 하고자 한다\n",
    "clean_train_df = pd.DataFrame({\"review\":clean_train_reviews, \"sentiment\":train_data[\"sentiment\"]})\n",
    "clean_train_df.head()"
   ]
  },
  {
   "cell_type": "markdown",
   "id": "91751c10",
   "metadata": {},
   "source": [
    "* 이제 기본적으로 필요한 단어들만 모아둔 리뷰를 했는데, 이제는 이 비정형 데이터 리뷰를 정형데이터로 변환을 해야함!!! -> 편하게 하고자 keras 있는 전처리 함수들을 가지고 사용을 할 것임!!!!"
   ]
  },
  {
   "cell_type": "code",
   "execution_count": 46,
   "id": "1e7f137b",
   "metadata": {},
   "outputs": [],
   "source": [
    "# 쪼개야 할 것임.\n",
    "tokenizer = Tokenizer()\n",
    "# -> 어떤 단어를 몇 번째로 할지 : 단어별 숫자 할당에 대한 룰\n",
    "tokenizer.fit_on_texts(clean_train_reviews) \n",
    "# -> 단어별 할당된 숫자 규칙을 문자열에 적용해서 단어가 아니라 그 단어의 고유값들의 순서로 변환을 하는 것\n",
    "text_sequences = tokenizer.texts_to_sequences(clean_train_reviews)"
   ]
  },
  {
   "cell_type": "code",
   "execution_count": 42,
   "id": "142eb665",
   "metadata": {},
   "outputs": [
    {
     "data": {
      "text/plain": [
       "'stuff going moment mj started listening music watching odd documentary watched wiz watched moonwalker maybe want get certain insight guy thought really cool eighties maybe make mind whether guilty innocent moonwalker part biography part feature film remember going see cinema originally released subtle messages mj feeling towards press also obvious message drugs bad kay visually impressive course michael jackson unless remotely like mj anyway going hate find boring may call mj egotist consenting making movie mj fans would say made fans true really nice actual feature film bit finally starts minutes excluding smooth criminal sequence joe pesci convincing psychopathic powerful drug lord wants mj dead bad beyond mj overheard plans nah joe pesci character ranted wanted people know supplying drugs etc dunno maybe hates mj music lots cool things like mj turning car robot whole speed demon sequence also director must patience saint came filming kiddy bad sequence usually directors hate working one kid let alone whole bunch performing complex dance scene bottom line movie people like mj one level another think people stay away try give wholesome message ironically mj bestest buddy movie girl michael jackson truly one talented people ever grace planet guilty well attention gave subject hmmm well know people different behind closed doors know fact either extremely nice stupid guy one sickest liars hope latter'"
      ]
     },
     "execution_count": 42,
     "metadata": {},
     "output_type": "execute_result"
    }
   ],
   "source": [
    "clean_train_reviews[0]"
   ]
  },
  {
   "cell_type": "code",
   "execution_count": 47,
   "id": "f82dcf3b",
   "metadata": {},
   "outputs": [
    {
     "name": "stdout",
     "output_type": "stream",
     "text": [
      "[404, 70, 419, 8815, 506, 2456, 115, 54, 873, 516, 178, 18686, 178, 11242, 165, 78, 14, 662, 2457, 117, 92, 10, 499, 4074, 165, 22, 210, 581, 2333, 1194, 11242, 71, 4826, 71, 635, 2, 253, 70, 11, 302, 1663, 486, 1144, 3265, 8815, 411, 793, 3342, 17, 441, 600, 1500, 15, 4424, 1851, 998, 146, 342, 1442, 743, 2424, 4, 8815, 418, 70, 637, 69, 237, 94, 541, 8815, 26055, 26056, 120, 1, 8815, 323, 8, 47, 20, 323, 167, 10, 207, 633, 635, 2, 116, 291, 382, 121, 15535, 3315, 1501, 574, 734, 10013, 923, 11578, 822, 1239, 1408, 360, 8815, 221, 15, 576, 8815, 22224, 2274, 13426, 734, 10013, 27, 28606, 340, 16, 41, 18687, 1500, 388, 11243, 165, 3962, 8815, 115, 627, 499, 79, 4, 8815, 1430, 380, 2163, 114, 1919, 2503, 574, 17, 60, 100, 4875, 5100, 260, 1268, 26057, 15, 574, 493, 744, 637, 631, 3, 394, 164, 446, 114, 615, 3266, 1160, 684, 48, 1175, 224, 1, 16, 4, 8815, 3, 507, 62, 25, 16, 640, 133, 231, 95, 7426, 600, 3439, 8815, 37248, 1864, 1, 128, 342, 1442, 247, 3, 865, 16, 42, 1487, 997, 2333, 12, 549, 386, 717, 6920, 12, 41, 16, 158, 362, 4392, 3388, 41, 87, 225, 438, 207, 254, 117, 3, 18688, 18689, 316, 1356]\n"
     ]
    }
   ],
   "source": [
    "print(text_sequences[0])"
   ]
  },
  {
   "cell_type": "code",
   "execution_count": 48,
   "id": "bdfa992e",
   "metadata": {},
   "outputs": [
    {
     "name": "stdout",
     "output_type": "stream",
     "text": [
      "[232, 203, 3048, 3565, 7116, 317, 2, 405, 153, 19, 634, 10967, 11898, 8816, 1653, 1035, 3494, 232, 154, 314, 7116, 2701, 178, 2, 2349, 87, 1111, 582, 217, 2219, 149, 73, 160, 626, 1035, 2882, 194, 642, 3316, 3464, 3869, 154, 405, 180, 155, 158, 79, 1, 19718, 2177, 1251, 68, 6828, 170, 281, 811, 1, 532, 10968, 4, 2003, 16, 36, 881, 1251, 376, 634, 314, 7116, 159, 2564, 1653, 1035, 3494, 232, 511, 143, 317, 20, 623, 4628, 1251, 8974, 5471]\n"
     ]
    }
   ],
   "source": [
    "print(text_sequences[1])"
   ]
  },
  {
   "cell_type": "markdown",
   "id": "d57528c1",
   "metadata": {},
   "source": [
    "* 여기서 잠시;;;) "
   ]
  },
  {
   "cell_type": "code",
   "execution_count": 49,
   "id": "5ba05301",
   "metadata": {},
   "outputs": [
    {
     "data": {
      "text/plain": [
       "{'movie': 1,\n",
       " 'film': 2,\n",
       " 'one': 3,\n",
       " 'like': 4,\n",
       " 'good': 5,\n",
       " 'time': 6,\n",
       " 'even': 7,\n",
       " 'would': 8,\n",
       " 'story': 9,\n",
       " 'really': 10,\n",
       " 'see': 11,\n",
       " 'well': 12,\n",
       " 'much': 13,\n",
       " 'get': 14,\n",
       " 'bad': 15,\n",
       " 'people': 16,\n",
       " 'also': 17,\n",
       " 'first': 18,\n",
       " 'great': 19,\n",
       " 'made': 20,\n",
       " 'way': 21,\n",
       " 'make': 22,\n",
       " 'could': 23,\n",
       " 'movies': 24,\n",
       " 'think': 25,\n",
       " 'characters': 26,\n",
       " 'character': 27,\n",
       " 'watch': 28,\n",
       " 'two': 29,\n",
       " 'films': 30,\n",
       " 'seen': 31,\n",
       " 'many': 32,\n",
       " 'life': 33,\n",
       " 'plot': 34,\n",
       " 'acting': 35,\n",
       " 'never': 36,\n",
       " 'love': 37,\n",
       " 'little': 38,\n",
       " 'best': 39,\n",
       " 'show': 40,\n",
       " 'know': 41,\n",
       " 'ever': 42,\n",
       " 'man': 43,\n",
       " 'better': 44,\n",
       " 'end': 45,\n",
       " 'still': 46,\n",
       " 'say': 47,\n",
       " 'scene': 48,\n",
       " 'scenes': 49,\n",
       " 'go': 50,\n",
       " 'something': 51,\n",
       " 'back': 52,\n",
       " 'real': 53,\n",
       " 'watching': 54,\n",
       " 'though': 55,\n",
       " 'thing': 56,\n",
       " 'old': 57,\n",
       " 'years': 58,\n",
       " 'actors': 59,\n",
       " 'director': 60,\n",
       " 'work': 61,\n",
       " 'another': 62,\n",
       " 'new': 63,\n",
       " 'nothing': 64,\n",
       " 'funny': 65,\n",
       " 'actually': 66,\n",
       " 'makes': 67,\n",
       " 'look': 68,\n",
       " 'find': 69,\n",
       " 'going': 70,\n",
       " 'part': 71,\n",
       " 'lot': 72,\n",
       " 'every': 73,\n",
       " 'world': 74,\n",
       " 'cast': 75,\n",
       " 'us': 76,\n",
       " 'quite': 77,\n",
       " 'want': 78,\n",
       " 'things': 79,\n",
       " 'pretty': 80,\n",
       " 'young': 81,\n",
       " 'seems': 82,\n",
       " 'around': 83,\n",
       " 'horror': 84,\n",
       " 'got': 85,\n",
       " 'however': 86,\n",
       " 'fact': 87,\n",
       " 'take': 88,\n",
       " 'big': 89,\n",
       " 'enough': 90,\n",
       " 'long': 91,\n",
       " 'thought': 92,\n",
       " 'series': 93,\n",
       " 'may': 94,\n",
       " 'give': 95,\n",
       " 'original': 96,\n",
       " 'action': 97,\n",
       " 'right': 98,\n",
       " 'without': 99,\n",
       " 'must': 100,\n",
       " 'comedy': 101,\n",
       " 'always': 102,\n",
       " 'times': 103,\n",
       " 'point': 104,\n",
       " 'gets': 105,\n",
       " 'family': 106,\n",
       " 'come': 107,\n",
       " 'role': 108,\n",
       " 'saw': 109,\n",
       " 'almost': 110,\n",
       " 'interesting': 111,\n",
       " 'least': 112,\n",
       " 'done': 113,\n",
       " 'whole': 114,\n",
       " 'music': 115,\n",
       " 'bit': 116,\n",
       " 'guy': 117,\n",
       " 'script': 118,\n",
       " 'far': 119,\n",
       " 'making': 120,\n",
       " 'minutes': 121,\n",
       " 'feel': 122,\n",
       " 'anything': 123,\n",
       " 'last': 124,\n",
       " 'might': 125,\n",
       " 'since': 126,\n",
       " 'performance': 127,\n",
       " 'girl': 128,\n",
       " 'probably': 129,\n",
       " 'woman': 130,\n",
       " 'kind': 131,\n",
       " 'tv': 132,\n",
       " 'away': 133,\n",
       " 'yet': 134,\n",
       " 'day': 135,\n",
       " 'rather': 136,\n",
       " 'worst': 137,\n",
       " 'fun': 138,\n",
       " 'sure': 139,\n",
       " 'hard': 140,\n",
       " 'anyone': 141,\n",
       " 'played': 142,\n",
       " 'found': 143,\n",
       " 'although': 144,\n",
       " 'especially': 145,\n",
       " 'course': 146,\n",
       " 'believe': 147,\n",
       " 'screen': 148,\n",
       " 'comes': 149,\n",
       " 'looking': 150,\n",
       " 'trying': 151,\n",
       " 'set': 152,\n",
       " 'goes': 153,\n",
       " 'book': 154,\n",
       " 'looks': 155,\n",
       " 'place': 156,\n",
       " 'actor': 157,\n",
       " 'different': 158,\n",
       " 'put': 159,\n",
       " 'year': 160,\n",
       " 'money': 161,\n",
       " 'ending': 162,\n",
       " 'dvd': 163,\n",
       " 'let': 164,\n",
       " 'maybe': 165,\n",
       " 'someone': 166,\n",
       " 'true': 167,\n",
       " 'sense': 168,\n",
       " 'reason': 169,\n",
       " 'everything': 170,\n",
       " 'shows': 171,\n",
       " 'three': 172,\n",
       " 'worth': 173,\n",
       " 'job': 174,\n",
       " 'main': 175,\n",
       " 'together': 176,\n",
       " 'play': 177,\n",
       " 'watched': 178,\n",
       " 'american': 179,\n",
       " 'everyone': 180,\n",
       " 'plays': 181,\n",
       " 'john': 182,\n",
       " 'effects': 183,\n",
       " 'later': 184,\n",
       " 'audience': 185,\n",
       " 'said': 186,\n",
       " 'takes': 187,\n",
       " 'instead': 188,\n",
       " 'house': 189,\n",
       " 'beautiful': 190,\n",
       " 'seem': 191,\n",
       " 'night': 192,\n",
       " 'high': 193,\n",
       " 'version': 194,\n",
       " 'wife': 195,\n",
       " 'left': 196,\n",
       " 'father': 197,\n",
       " 'special': 198,\n",
       " 'seeing': 199,\n",
       " 'half': 200,\n",
       " 'star': 201,\n",
       " 'excellent': 202,\n",
       " 'war': 203,\n",
       " 'shot': 204,\n",
       " 'idea': 205,\n",
       " 'black': 206,\n",
       " 'nice': 207,\n",
       " 'less': 208,\n",
       " 'else': 209,\n",
       " 'mind': 210,\n",
       " 'simply': 211,\n",
       " 'read': 212,\n",
       " 'second': 213,\n",
       " 'fan': 214,\n",
       " 'men': 215,\n",
       " 'death': 216,\n",
       " 'hollywood': 217,\n",
       " 'poor': 218,\n",
       " 'help': 219,\n",
       " 'completely': 220,\n",
       " 'dead': 221,\n",
       " 'used': 222,\n",
       " 'home': 223,\n",
       " 'line': 224,\n",
       " 'either': 225,\n",
       " 'short': 226,\n",
       " 'top': 227,\n",
       " 'given': 228,\n",
       " 'kids': 229,\n",
       " 'budget': 230,\n",
       " 'try': 231,\n",
       " 'classic': 232,\n",
       " 'performances': 233,\n",
       " 'wrong': 234,\n",
       " 'women': 235,\n",
       " 'enjoy': 236,\n",
       " 'boring': 237,\n",
       " 'need': 238,\n",
       " 'rest': 239,\n",
       " 'use': 240,\n",
       " 'low': 241,\n",
       " 'production': 242,\n",
       " 'friends': 243,\n",
       " 'full': 244,\n",
       " 'camera': 245,\n",
       " 'along': 246,\n",
       " 'truly': 247,\n",
       " 'video': 248,\n",
       " 'awful': 249,\n",
       " 'couple': 250,\n",
       " 'tell': 251,\n",
       " 'next': 252,\n",
       " 'remember': 253,\n",
       " 'stupid': 254,\n",
       " 'start': 255,\n",
       " 'stars': 256,\n",
       " 'mean': 257,\n",
       " 'sex': 258,\n",
       " 'perhaps': 259,\n",
       " 'came': 260,\n",
       " 'recommend': 261,\n",
       " 'moments': 262,\n",
       " 'school': 263,\n",
       " 'episode': 264,\n",
       " 'wonderful': 265,\n",
       " 'small': 266,\n",
       " 'face': 267,\n",
       " 'understand': 268,\n",
       " 'terrible': 269,\n",
       " 'playing': 270,\n",
       " 'getting': 271,\n",
       " 'written': 272,\n",
       " 'early': 273,\n",
       " 'name': 274,\n",
       " 'often': 275,\n",
       " 'keep': 276,\n",
       " 'style': 277,\n",
       " 'perfect': 278,\n",
       " 'human': 279,\n",
       " 'person': 280,\n",
       " 'others': 281,\n",
       " 'definitely': 282,\n",
       " 'gives': 283,\n",
       " 'boy': 284,\n",
       " 'lost': 285,\n",
       " 'live': 286,\n",
       " 'lines': 287,\n",
       " 'become': 288,\n",
       " 'dialogue': 289,\n",
       " 'head': 290,\n",
       " 'finally': 291,\n",
       " 'piece': 292,\n",
       " 'yes': 293,\n",
       " 'case': 294,\n",
       " 'felt': 295,\n",
       " 'mother': 296,\n",
       " 'liked': 297,\n",
       " 'supposed': 298,\n",
       " 'children': 299,\n",
       " 'title': 300,\n",
       " 'white': 301,\n",
       " 'cinema': 302,\n",
       " 'absolutely': 303,\n",
       " 'picture': 304,\n",
       " 'sort': 305,\n",
       " 'worse': 306,\n",
       " 'went': 307,\n",
       " 'certainly': 308,\n",
       " 'entire': 309,\n",
       " 'waste': 310,\n",
       " 'killer': 311,\n",
       " 'problem': 312,\n",
       " 'oh': 313,\n",
       " 'mr': 314,\n",
       " 'evil': 315,\n",
       " 'hope': 316,\n",
       " 'entertaining': 317,\n",
       " 'friend': 318,\n",
       " 'overall': 319,\n",
       " 'called': 320,\n",
       " 'based': 321,\n",
       " 'loved': 322,\n",
       " 'fans': 323,\n",
       " 'several': 324,\n",
       " 'drama': 325,\n",
       " 'beginning': 326,\n",
       " 'lives': 327,\n",
       " 'care': 328,\n",
       " 'already': 329,\n",
       " 'dark': 330,\n",
       " 'becomes': 331,\n",
       " 'laugh': 332,\n",
       " 'example': 333,\n",
       " 'direction': 334,\n",
       " 'despite': 335,\n",
       " 'seemed': 336,\n",
       " 'throughout': 337,\n",
       " 'turn': 338,\n",
       " 'son': 339,\n",
       " 'wanted': 340,\n",
       " 'unfortunately': 341,\n",
       " 'michael': 342,\n",
       " 'history': 343,\n",
       " 'final': 344,\n",
       " 'heart': 345,\n",
       " 'fine': 346,\n",
       " 'sound': 347,\n",
       " 'b': 348,\n",
       " 'amazing': 349,\n",
       " 'child': 350,\n",
       " 'humor': 351,\n",
       " 'lead': 352,\n",
       " 'guess': 353,\n",
       " 'totally': 354,\n",
       " 'writing': 355,\n",
       " 'guys': 356,\n",
       " 'quality': 357,\n",
       " 'close': 358,\n",
       " 'art': 359,\n",
       " 'wants': 360,\n",
       " 'game': 361,\n",
       " 'behind': 362,\n",
       " 'town': 363,\n",
       " 'works': 364,\n",
       " 'side': 365,\n",
       " 'tries': 366,\n",
       " 'days': 367,\n",
       " 'past': 368,\n",
       " 'viewer': 369,\n",
       " 'able': 370,\n",
       " 'flick': 371,\n",
       " 'hand': 372,\n",
       " 'genre': 373,\n",
       " 'turns': 374,\n",
       " 'act': 375,\n",
       " 'enjoyed': 376,\n",
       " 'today': 377,\n",
       " 'kill': 378,\n",
       " 'favorite': 379,\n",
       " 'car': 380,\n",
       " 'soon': 381,\n",
       " 'starts': 382,\n",
       " 'actress': 383,\n",
       " 'run': 384,\n",
       " 'sometimes': 385,\n",
       " 'gave': 386,\n",
       " 'eyes': 387,\n",
       " 'etc': 388,\n",
       " 'girls': 389,\n",
       " 'late': 390,\n",
       " 'god': 391,\n",
       " 'directed': 392,\n",
       " 'horrible': 393,\n",
       " 'kid': 394,\n",
       " 'brilliant': 395,\n",
       " 'city': 396,\n",
       " 'parts': 397,\n",
       " 'hour': 398,\n",
       " 'blood': 399,\n",
       " 'self': 400,\n",
       " 'thinking': 401,\n",
       " 'stories': 402,\n",
       " 'expect': 403,\n",
       " 'stuff': 404,\n",
       " 'obviously': 405,\n",
       " 'decent': 406,\n",
       " 'voice': 407,\n",
       " 'writer': 408,\n",
       " 'fight': 409,\n",
       " 'highly': 410,\n",
       " 'feeling': 411,\n",
       " 'daughter': 412,\n",
       " 'slow': 413,\n",
       " 'except': 414,\n",
       " 'matter': 415,\n",
       " 'type': 416,\n",
       " 'age': 417,\n",
       " 'anyway': 418,\n",
       " 'moment': 419,\n",
       " 'roles': 420,\n",
       " 'heard': 421,\n",
       " 'killed': 422,\n",
       " 'says': 423,\n",
       " 'brother': 424,\n",
       " 'leave': 425,\n",
       " 'took': 426,\n",
       " 'police': 427,\n",
       " 'strong': 428,\n",
       " 'cannot': 429,\n",
       " 'violence': 430,\n",
       " 'hit': 431,\n",
       " 'stop': 432,\n",
       " 'happens': 433,\n",
       " 'known': 434,\n",
       " 'particularly': 435,\n",
       " 'happened': 436,\n",
       " 'involved': 437,\n",
       " 'extremely': 438,\n",
       " 'james': 439,\n",
       " 'chance': 440,\n",
       " 'obvious': 441,\n",
       " 'murder': 442,\n",
       " 'living': 443,\n",
       " 'told': 444,\n",
       " 'coming': 445,\n",
       " 'alone': 446,\n",
       " 'experience': 447,\n",
       " 'lack': 448,\n",
       " 'hero': 449,\n",
       " 'including': 450,\n",
       " 'attempt': 451,\n",
       " 'please': 452,\n",
       " 'happen': 453,\n",
       " 'crap': 454,\n",
       " 'gore': 455,\n",
       " 'wonder': 456,\n",
       " 'complete': 457,\n",
       " 'cut': 458,\n",
       " 'group': 459,\n",
       " 'interest': 460,\n",
       " 'ago': 461,\n",
       " 'none': 462,\n",
       " 'score': 463,\n",
       " 'husband': 464,\n",
       " 'hell': 465,\n",
       " 'david': 466,\n",
       " 'save': 467,\n",
       " 'simple': 468,\n",
       " 'ok': 469,\n",
       " 'looked': 470,\n",
       " 'song': 471,\n",
       " 'career': 472,\n",
       " 'number': 473,\n",
       " 'seriously': 474,\n",
       " 'king': 475,\n",
       " 'possible': 476,\n",
       " 'annoying': 477,\n",
       " 'sad': 478,\n",
       " 'exactly': 479,\n",
       " 'shown': 480,\n",
       " 'running': 481,\n",
       " 'musical': 482,\n",
       " 'serious': 483,\n",
       " 'scary': 484,\n",
       " 'reality': 485,\n",
       " 'released': 486,\n",
       " 'taken': 487,\n",
       " 'whose': 488,\n",
       " 'english': 489,\n",
       " 'ends': 490,\n",
       " 'cinematography': 491,\n",
       " 'hours': 492,\n",
       " 'usually': 493,\n",
       " 'opening': 494,\n",
       " 'jokes': 495,\n",
       " 'light': 496,\n",
       " 'hilarious': 497,\n",
       " 'body': 498,\n",
       " 'cool': 499,\n",
       " 'across': 500,\n",
       " 'relationship': 501,\n",
       " 'somewhat': 502,\n",
       " 'usual': 503,\n",
       " 'happy': 504,\n",
       " 'ridiculous': 505,\n",
       " 'started': 506,\n",
       " 'level': 507,\n",
       " 'view': 508,\n",
       " 'change': 509,\n",
       " 'opinion': 510,\n",
       " 'novel': 511,\n",
       " 'wish': 512,\n",
       " 'middle': 513,\n",
       " 'taking': 514,\n",
       " 'talking': 515,\n",
       " 'documentary': 516,\n",
       " 'ones': 517,\n",
       " 'robert': 518,\n",
       " 'order': 519,\n",
       " 'finds': 520,\n",
       " 'power': 521,\n",
       " 'shots': 522,\n",
       " 'saying': 523,\n",
       " 'room': 524,\n",
       " 'female': 525,\n",
       " 'huge': 526,\n",
       " 'mostly': 527,\n",
       " 'episodes': 528,\n",
       " 'country': 529,\n",
       " 'five': 530,\n",
       " 'talent': 531,\n",
       " 'important': 532,\n",
       " 'modern': 533,\n",
       " 'earth': 534,\n",
       " 'rating': 535,\n",
       " 'major': 536,\n",
       " 'strange': 537,\n",
       " 'word': 538,\n",
       " 'turned': 539,\n",
       " 'jack': 540,\n",
       " 'call': 541,\n",
       " 'single': 542,\n",
       " 'apparently': 543,\n",
       " 'disappointed': 544,\n",
       " 'four': 545,\n",
       " 'events': 546,\n",
       " 'due': 547,\n",
       " 'songs': 548,\n",
       " 'attention': 549,\n",
       " 'basically': 550,\n",
       " 'television': 551,\n",
       " 'comic': 552,\n",
       " 'knows': 553,\n",
       " 'future': 554,\n",
       " 'clearly': 555,\n",
       " 'supporting': 556,\n",
       " 'british': 557,\n",
       " 'non': 558,\n",
       " 'paul': 559,\n",
       " 'knew': 560,\n",
       " 'fast': 561,\n",
       " 'thriller': 562,\n",
       " 'class': 563,\n",
       " 'easily': 564,\n",
       " 'cheap': 565,\n",
       " 'silly': 566,\n",
       " 'problems': 567,\n",
       " 'words': 568,\n",
       " 'miss': 569,\n",
       " 'tells': 570,\n",
       " 'entertainment': 571,\n",
       " 'local': 572,\n",
       " 'rock': 573,\n",
       " 'sequence': 574,\n",
       " 'bring': 575,\n",
       " 'beyond': 576,\n",
       " 'straight': 577,\n",
       " 'george': 578,\n",
       " 'oscar': 579,\n",
       " 'upon': 580,\n",
       " 'whether': 581,\n",
       " 'predictable': 582,\n",
       " 'moving': 583,\n",
       " 'romantic': 584,\n",
       " 'sets': 585,\n",
       " 'similar': 586,\n",
       " 'falls': 587,\n",
       " 'mystery': 588,\n",
       " 'review': 589,\n",
       " 'eye': 590,\n",
       " 'lady': 591,\n",
       " 'richard': 592,\n",
       " 'talk': 593,\n",
       " 'enjoyable': 594,\n",
       " 'appears': 595,\n",
       " 'needs': 596,\n",
       " 'clich': 597,\n",
       " 'giving': 598,\n",
       " 'within': 599,\n",
       " 'message': 600,\n",
       " 'ten': 601,\n",
       " 'theater': 602,\n",
       " 'animation': 603,\n",
       " 'near': 604,\n",
       " 'team': 605,\n",
       " 'red': 606,\n",
       " 'sister': 607,\n",
       " 'sequel': 608,\n",
       " 'theme': 609,\n",
       " 'dull': 610,\n",
       " 'nearly': 611,\n",
       " 'stand': 612,\n",
       " 'points': 613,\n",
       " 'lee': 614,\n",
       " 'bunch': 615,\n",
       " 'mention': 616,\n",
       " 'feels': 617,\n",
       " 'add': 618,\n",
       " 'york': 619,\n",
       " 'release': 620,\n",
       " 'ways': 621,\n",
       " 'storyline': 622,\n",
       " 'easy': 623,\n",
       " 'using': 624,\n",
       " 'surprised': 625,\n",
       " 'e': 626,\n",
       " 'lots': 627,\n",
       " 'named': 628,\n",
       " 'fantastic': 629,\n",
       " 'begins': 630,\n",
       " 'working': 631,\n",
       " 'die': 632,\n",
       " 'actual': 633,\n",
       " 'effort': 634,\n",
       " 'feature': 635,\n",
       " 'tale': 636,\n",
       " 'hate': 637,\n",
       " 'french': 638,\n",
       " 'minute': 639,\n",
       " 'stay': 640,\n",
       " 'clear': 641,\n",
       " 'tom': 642,\n",
       " 'viewers': 643,\n",
       " 'follow': 644,\n",
       " 'elements': 645,\n",
       " 'among': 646,\n",
       " 'comments': 647,\n",
       " 'typical': 648,\n",
       " 'avoid': 649,\n",
       " 'showing': 650,\n",
       " 'editing': 651,\n",
       " 'tried': 652,\n",
       " 'season': 653,\n",
       " 'famous': 654,\n",
       " 'sorry': 655,\n",
       " 'peter': 656,\n",
       " 'fall': 657,\n",
       " 'dialog': 658,\n",
       " 'period': 659,\n",
       " 'form': 660,\n",
       " 'general': 661,\n",
       " 'certain': 662,\n",
       " 'soundtrack': 663,\n",
       " 'filmed': 664,\n",
       " 'buy': 665,\n",
       " 'parents': 666,\n",
       " 'check': 667,\n",
       " 'means': 668,\n",
       " 'weak': 669,\n",
       " 'material': 670,\n",
       " 'figure': 671,\n",
       " 'realistic': 672,\n",
       " 'doubt': 673,\n",
       " 'somehow': 674,\n",
       " 'crime': 675,\n",
       " 'space': 676,\n",
       " 'gone': 677,\n",
       " 'disney': 678,\n",
       " 'leads': 679,\n",
       " 'kept': 680,\n",
       " 'viewing': 681,\n",
       " 'greatest': 682,\n",
       " 'th': 683,\n",
       " 'dance': 684,\n",
       " 'lame': 685,\n",
       " 'zombie': 686,\n",
       " 'third': 687,\n",
       " 'suspense': 688,\n",
       " 'imagine': 689,\n",
       " 'brought': 690,\n",
       " 'atmosphere': 691,\n",
       " 'hear': 692,\n",
       " 'whatever': 693,\n",
       " 'particular': 694,\n",
       " 'de': 695,\n",
       " 'sequences': 696,\n",
       " 'america': 697,\n",
       " 'move': 698,\n",
       " 'indeed': 699,\n",
       " 'average': 700,\n",
       " 'eventually': 701,\n",
       " 'learn': 702,\n",
       " 'rent': 703,\n",
       " 'note': 704,\n",
       " 'wait': 705,\n",
       " 'deal': 706,\n",
       " 'reviews': 707,\n",
       " 'forget': 708,\n",
       " 'surprise': 709,\n",
       " 'japanese': 710,\n",
       " 'stage': 711,\n",
       " 'poorly': 712,\n",
       " 'premise': 713,\n",
       " 'nature': 714,\n",
       " 'believable': 715,\n",
       " 'sexual': 716,\n",
       " 'subject': 717,\n",
       " 'sit': 718,\n",
       " 'possibly': 719,\n",
       " 'okay': 720,\n",
       " 'decided': 721,\n",
       " 'expected': 722,\n",
       " 'imdb': 723,\n",
       " 'dr': 724,\n",
       " 'truth': 725,\n",
       " 'street': 726,\n",
       " 'free': 727,\n",
       " 'became': 728,\n",
       " 'difficult': 729,\n",
       " 'screenplay': 730,\n",
       " 'romance': 731,\n",
       " 'killing': 732,\n",
       " 'baby': 733,\n",
       " 'joe': 734,\n",
       " 'hot': 735,\n",
       " 'dog': 736,\n",
       " 'reading': 737,\n",
       " 'question': 738,\n",
       " 'needed': 739,\n",
       " 'leaves': 740,\n",
       " 'begin': 741,\n",
       " 'meets': 742,\n",
       " 'unless': 743,\n",
       " 'directors': 744,\n",
       " 'credits': 745,\n",
       " 'society': 746,\n",
       " 'superb': 747,\n",
       " 'shame': 748,\n",
       " 'otherwise': 749,\n",
       " 'write': 750,\n",
       " 'situation': 751,\n",
       " 'meet': 752,\n",
       " 'dramatic': 753,\n",
       " 'memorable': 754,\n",
       " 'male': 755,\n",
       " 'open': 756,\n",
       " 'dream': 757,\n",
       " 'weird': 758,\n",
       " 'badly': 759,\n",
       " 'earlier': 760,\n",
       " 'writers': 761,\n",
       " 'fi': 762,\n",
       " 'forced': 763,\n",
       " 'laughs': 764,\n",
       " 'sci': 765,\n",
       " 'acted': 766,\n",
       " 'emotional': 767,\n",
       " 'crazy': 768,\n",
       " 'jane': 769,\n",
       " 'older': 770,\n",
       " 'beauty': 771,\n",
       " 'monster': 772,\n",
       " 'realize': 773,\n",
       " 'comment': 774,\n",
       " 'deep': 775,\n",
       " 'footage': 776,\n",
       " 'forward': 777,\n",
       " 'interested': 778,\n",
       " 'fantasy': 779,\n",
       " 'ask': 780,\n",
       " 'sounds': 781,\n",
       " 'plus': 782,\n",
       " 'mark': 783,\n",
       " 'directing': 784,\n",
       " 'features': 785,\n",
       " 'keeps': 786,\n",
       " 'development': 787,\n",
       " 'mess': 788,\n",
       " 'quickly': 789,\n",
       " 'air': 790,\n",
       " 'c': 791,\n",
       " 'creepy': 792,\n",
       " 'towards': 793,\n",
       " 'box': 794,\n",
       " 'perfectly': 795,\n",
       " 'girlfriend': 796,\n",
       " 'worked': 797,\n",
       " 'cheesy': 798,\n",
       " 'setting': 799,\n",
       " 'unique': 800,\n",
       " 'bill': 801,\n",
       " 'effect': 802,\n",
       " 'fire': 803,\n",
       " 'plenty': 804,\n",
       " 'result': 805,\n",
       " 'hands': 806,\n",
       " 'total': 807,\n",
       " 'previous': 808,\n",
       " 'brings': 809,\n",
       " 'personal': 810,\n",
       " 'rate': 811,\n",
       " 'incredibly': 812,\n",
       " 'doctor': 813,\n",
       " 'return': 814,\n",
       " 'business': 815,\n",
       " 'christmas': 816,\n",
       " 'joke': 817,\n",
       " 'apart': 818,\n",
       " 'leading': 819,\n",
       " 'casting': 820,\n",
       " 'admit': 821,\n",
       " 'powerful': 822,\n",
       " 'cop': 823,\n",
       " 'appear': 824,\n",
       " 'background': 825,\n",
       " 'boys': 826,\n",
       " 'ben': 827,\n",
       " 'present': 828,\n",
       " 'era': 829,\n",
       " 'battle': 830,\n",
       " 'meant': 831,\n",
       " 'hardly': 832,\n",
       " 'telling': 833,\n",
       " 'potential': 834,\n",
       " 'masterpiece': 835,\n",
       " 'create': 836,\n",
       " 'secret': 837,\n",
       " 'break': 838,\n",
       " 'pay': 839,\n",
       " 'gay': 840,\n",
       " 'dumb': 841,\n",
       " 'political': 842,\n",
       " 'fighting': 843,\n",
       " 'twist': 844,\n",
       " 'fails': 845,\n",
       " 'co': 846,\n",
       " 'various': 847,\n",
       " 'portrayed': 848,\n",
       " 'inside': 849,\n",
       " 'western': 850,\n",
       " 'villain': 851,\n",
       " 'nudity': 852,\n",
       " 'reasons': 853,\n",
       " 'william': 854,\n",
       " 'outside': 855,\n",
       " 'ideas': 856,\n",
       " 'front': 857,\n",
       " 'missing': 858,\n",
       " 'deserves': 859,\n",
       " 'married': 860,\n",
       " 'match': 861,\n",
       " 'expecting': 862,\n",
       " 'rich': 863,\n",
       " 'fairly': 864,\n",
       " 'talented': 865,\n",
       " 'success': 866,\n",
       " 'list': 867,\n",
       " 'unlike': 868,\n",
       " 'scott': 869,\n",
       " 'remake': 870,\n",
       " 'manages': 871,\n",
       " 'attempts': 872,\n",
       " 'odd': 873,\n",
       " 'social': 874,\n",
       " 'cute': 875,\n",
       " 'recently': 876,\n",
       " 'flat': 877,\n",
       " 'sadly': 878,\n",
       " 'copy': 879,\n",
       " 'wrote': 880,\n",
       " 'agree': 881,\n",
       " 'sweet': 882,\n",
       " 'cold': 883,\n",
       " 'crew': 884,\n",
       " 'spoilers': 885,\n",
       " 'plain': 886,\n",
       " 'mary': 887,\n",
       " 'office': 888,\n",
       " 'filmmakers': 889,\n",
       " 'missed': 890,\n",
       " 'following': 891,\n",
       " 'mentioned': 892,\n",
       " 'public': 893,\n",
       " 'gun': 894,\n",
       " 'incredible': 895,\n",
       " 'pure': 896,\n",
       " 'wasted': 897,\n",
       " 'brothers': 898,\n",
       " 'large': 899,\n",
       " 'ended': 900,\n",
       " 'caught': 901,\n",
       " 'revenge': 902,\n",
       " 'produced': 903,\n",
       " 'la': 904,\n",
       " 'members': 905,\n",
       " 'filled': 906,\n",
       " 'pace': 907,\n",
       " 'popular': 908,\n",
       " 'party': 909,\n",
       " 'science': 910,\n",
       " 'waiting': 911,\n",
       " 'water': 912,\n",
       " 'cat': 913,\n",
       " 'decides': 914,\n",
       " 'considering': 915,\n",
       " 'cartoon': 916,\n",
       " 'hold': 917,\n",
       " 'spirit': 918,\n",
       " 'created': 919,\n",
       " 'slightly': 920,\n",
       " 'tension': 921,\n",
       " 'uses': 922,\n",
       " 'convincing': 923,\n",
       " 'escape': 924,\n",
       " 'fear': 925,\n",
       " 'suddenly': 926,\n",
       " 'compared': 927,\n",
       " 'familiar': 928,\n",
       " 'neither': 929,\n",
       " 'sees': 930,\n",
       " 'spent': 931,\n",
       " 'island': 932,\n",
       " 'cause': 933,\n",
       " 'intelligent': 934,\n",
       " 'state': 935,\n",
       " 'clever': 936,\n",
       " 'f': 937,\n",
       " 'entirely': 938,\n",
       " 'credit': 939,\n",
       " 'moves': 940,\n",
       " 'kills': 941,\n",
       " 'bored': 942,\n",
       " 'band': 943,\n",
       " 'dancing': 944,\n",
       " 'language': 945,\n",
       " 'century': 946,\n",
       " 'laughing': 947,\n",
       " 'choice': 948,\n",
       " 'italian': 949,\n",
       " 'cover': 950,\n",
       " 'successful': 951,\n",
       " 'value': 952,\n",
       " 'violent': 953,\n",
       " 'visual': 954,\n",
       " 'trouble': 955,\n",
       " 'speak': 956,\n",
       " 'tony': 957,\n",
       " 'ultimately': 958,\n",
       " 'concept': 959,\n",
       " 'singing': 960,\n",
       " 'store': 961,\n",
       " 'basic': 962,\n",
       " 'zombies': 963,\n",
       " 'positive': 964,\n",
       " 'studio': 965,\n",
       " 'german': 966,\n",
       " 'animated': 967,\n",
       " 'exciting': 968,\n",
       " 'company': 969,\n",
       " 'biggest': 970,\n",
       " 'force': 971,\n",
       " 'consider': 972,\n",
       " 'runs': 973,\n",
       " 'died': 974,\n",
       " 'effective': 975,\n",
       " 'walk': 976,\n",
       " 'depth': 977,\n",
       " 'adventure': 978,\n",
       " 'control': 979,\n",
       " 'law': 980,\n",
       " 'recent': 981,\n",
       " 'adult': 982,\n",
       " 'amusing': 983,\n",
       " 'former': 984,\n",
       " 'focus': 985,\n",
       " 'common': 986,\n",
       " 'spend': 987,\n",
       " 'portrayal': 988,\n",
       " 'rated': 989,\n",
       " 'appreciate': 990,\n",
       " 'hair': 991,\n",
       " 'books': 992,\n",
       " 'pointless': 993,\n",
       " 'trash': 994,\n",
       " 'younger': 995,\n",
       " 'solid': 996,\n",
       " 'planet': 997,\n",
       " 'impressive': 998,\n",
       " 'super': 999,\n",
       " 'tone': 1000,\n",
       " ...}"
      ]
     },
     "execution_count": 49,
     "metadata": {},
     "output_type": "execute_result"
    }
   ],
   "source": [
    "tokenizer.word_index"
   ]
  },
  {
   "cell_type": "code",
   "execution_count": 50,
   "id": "beb0ad2d",
   "metadata": {},
   "outputs": [
    {
     "name": "stdout",
     "output_type": "stream",
     "text": [
      "74066\n"
     ]
    }
   ],
   "source": [
    "word_vocab = tokenizer.word_index\n",
    "word_vocab[\"<PAD>\"] = 0\n",
    "print(len(word_vocab))"
   ]
  },
  {
   "cell_type": "markdown",
   "id": "2aec46c2",
   "metadata": {},
   "source": [
    "* 리뷰에 대한 수치화에 대해서 각기 리뷰마다 차원이 다 제각각-> 특정 기준으로 표현을 해야 합니다!!\n",
    "(여기서는 앞에서 EDA를 한 단어별 분포를 보고, 중앙값으로 선정을 하겠습니다.)"
   ]
  },
  {
   "cell_type": "code",
   "execution_count": 52,
   "id": "b893009b",
   "metadata": {},
   "outputs": [
    {
     "data": {
      "text/plain": [
       "(25000, 174)"
      ]
     },
     "execution_count": 52,
     "metadata": {},
     "output_type": "execute_result"
    }
   ],
   "source": [
    "MAX_SEQUENCE_LENGTH = 174 # EDA에서 나온 중앙값으로 활용한 것\n",
    "train_input = pad_sequences(text_sequences, maxlen = MAX_SEQUENCE_LENGTH, padding=\"post\")\n",
    "train_input.shape"
   ]
  },
  {
   "cell_type": "markdown",
   "id": "3c8817c7",
   "metadata": {},
   "source": [
    "* 정답지 추출"
   ]
  },
  {
   "cell_type": "code",
   "execution_count": 44,
   "id": "69f09a7c",
   "metadata": {},
   "outputs": [
    {
     "name": "stdout",
     "output_type": "stream",
     "text": [
      "(25000,)\n"
     ]
    }
   ],
   "source": []
  },
  {
   "cell_type": "markdown",
   "id": "061f7a7a",
   "metadata": {},
   "source": [
    "* 전처리를 한 결과들 저장"
   ]
  },
  {
   "cell_type": "code",
   "execution_count": 45,
   "id": "b1f040fb",
   "metadata": {},
   "outputs": [],
   "source": [
    "# 처리한 것들을 저장할 폴더 경로\n",
    "DATA_OUT_PATH = ~\n",
    "\n",
    "# 처리한 데이터들을 저장할 파일들..\n",
    "TRAIN_INPUT_DATA = ~\n",
    "TRAIN_LABEL_DATA = ~\n",
    "TRAIN_CLEAN_DATA = ~\n",
    "DATA_CONFIGS =~"
   ]
  },
  {
   "cell_type": "code",
   "execution_count": 46,
   "id": "39845f58",
   "metadata": {},
   "outputs": [],
   "source": [
    "# 우리가 출력으로 내보낼 공간의 폴더가 실제 있거나 없거나...-> 없으면 만들도록..\n",
    "# import os\n",
    "~"
   ]
  },
  {
   "cell_type": "code",
   "execution_count": 47,
   "id": "e236df20",
   "metadata": {},
   "outputs": [],
   "source": [
    "# 이제 구체적으로 전처리한 것들에 대한 데이터를 저장...-> 정제도 하고, 숫자로(174)\n",
    "~\n",
    "\n",
    "# 정제한 데이터의 글\n",
    "~\n",
    "\n",
    "# 정제하고 숫자로 표현하는 과정에서 사용한 룰!!!!\n",
    "~"
   ]
  },
  {
   "cell_type": "markdown",
   "id": "0c09a1e9",
   "metadata": {},
   "source": [
    "* Test 에 대해서도 위의 기준대로 할 것.... ---ing"
   ]
  },
  {
   "cell_type": "code",
   "execution_count": 48,
   "id": "078c35ce",
   "metadata": {},
   "outputs": [
    {
     "data": {
      "text/html": [
       "<div>\n",
       "<style scoped>\n",
       "    .dataframe tbody tr th:only-of-type {\n",
       "        vertical-align: middle;\n",
       "    }\n",
       "\n",
       "    .dataframe tbody tr th {\n",
       "        vertical-align: top;\n",
       "    }\n",
       "\n",
       "    .dataframe thead th {\n",
       "        text-align: right;\n",
       "    }\n",
       "</style>\n",
       "<table border=\"1\" class=\"dataframe\">\n",
       "  <thead>\n",
       "    <tr style=\"text-align: right;\">\n",
       "      <th></th>\n",
       "      <th>id</th>\n",
       "      <th>review</th>\n",
       "    </tr>\n",
       "  </thead>\n",
       "  <tbody>\n",
       "    <tr>\n",
       "      <th>0</th>\n",
       "      <td>\"12311_10\"</td>\n",
       "      <td>\"Naturally in a film who's main themes are of ...</td>\n",
       "    </tr>\n",
       "    <tr>\n",
       "      <th>1</th>\n",
       "      <td>\"8348_2\"</td>\n",
       "      <td>\"This movie is a disaster within a disaster fi...</td>\n",
       "    </tr>\n",
       "    <tr>\n",
       "      <th>2</th>\n",
       "      <td>\"5828_4\"</td>\n",
       "      <td>\"All in all, this is a movie for kids. We saw ...</td>\n",
       "    </tr>\n",
       "    <tr>\n",
       "      <th>3</th>\n",
       "      <td>\"7186_2\"</td>\n",
       "      <td>\"Afraid of the Dark left me with the impressio...</td>\n",
       "    </tr>\n",
       "    <tr>\n",
       "      <th>4</th>\n",
       "      <td>\"12128_7\"</td>\n",
       "      <td>\"A very accurate depiction of small time mob l...</td>\n",
       "    </tr>\n",
       "  </tbody>\n",
       "</table>\n",
       "</div>"
      ],
      "text/plain": [
       "           id                                             review\n",
       "0  \"12311_10\"  \"Naturally in a film who's main themes are of ...\n",
       "1    \"8348_2\"  \"This movie is a disaster within a disaster fi...\n",
       "2    \"5828_4\"  \"All in all, this is a movie for kids. We saw ...\n",
       "3    \"7186_2\"  \"Afraid of the Dark left me with the impressio...\n",
       "4   \"12128_7\"  \"A very accurate depiction of small time mob l..."
      ]
     },
     "execution_count": 48,
     "metadata": {},
     "output_type": "execute_result"
    }
   ],
   "source": [
    "test_data = pd.read_csv(DATA_IN_PATH + \"testData.tsv\", header=0, delimiter=\"\\t\", quoting=3)\n",
    "test_data.head()"
   ]
  },
  {
   "cell_type": "code",
   "execution_count": 49,
   "id": "1ffa4162",
   "metadata": {},
   "outputs": [],
   "source": [
    "~"
   ]
  },
  {
   "cell_type": "markdown",
   "id": "f27e859b",
   "metadata": {},
   "source": [
    "* test 데이터 변형을 처리한 것을 출력하기"
   ]
  },
  {
   "cell_type": "code",
   "execution_count": 50,
   "id": "833d6dd6",
   "metadata": {},
   "outputs": [],
   "source": [
    "TEST_INPUT_DATA = ~ # 전처리가 되고, 단어들이 숫자까지(최대 175개로) -> 기준은 train과 같은 기준으로!!!\n",
    "TEST_CLEAN_DATA = ~ # 전처리를 한 실제 review 문장에 대한 것..\n",
    "TEST_ID_DATA = ~\n",
    "\n",
    "np.save(open(DATA_OUT_PATH +TEST_INPUT_DATA , \"wb\"), test_inputs)\n",
    "np.save(open(DATA_OUT_PATH +TEST_ID_DATA , \"wb\"), test_id)\n",
    "clean_test_df.to_csv(DATA_OUT_PATH + TEST_CLEAN_DATA, index=False)"
   ]
  },
  {
   "cell_type": "markdown",
   "id": "7888fa38",
   "metadata": {},
   "source": [
    "* 이제서야...다 숫자로 변형이 되었으니....Model을 만들어서 돌릴 수 있음!! RF"
   ]
  },
  {
   "cell_type": "code",
   "execution_count": 51,
   "id": "9511c67a",
   "metadata": {},
   "outputs": [],
   "source": [
    "# 기존의 머신러닝을 위한 필요한 모듈가 거의 동일.....\n",
    "from sklearn.model_selection import train_test_split\n",
    "from sklearn.ensemble import RandomForestClassifier\n",
    "\n",
    "\n",
    "# 리뷰에 대한 수치 데이터를 feature화 -> 텍스트 데이터 처리에서 추가적으로...\n",
    "from sklearn.feature_extraction.text import CountVectorizer"
   ]
  },
  {
   "cell_type": "markdown",
   "id": "e33e23c1",
   "metadata": {},
   "source": [
    "![CV](img2/02.png)"
   ]
  },
  {
   "cell_type": "markdown",
   "id": "406c3356",
   "metadata": {},
   "source": [
    "* 모델을 돌리기 위해서 저장한 폴더에서 다시 불러와서 한다면..."
   ]
  },
  {
   "cell_type": "code",
   "execution_count": 52,
   "id": "945c7104",
   "metadata": {},
   "outputs": [
    {
     "data": {
      "text/html": [
       "<div>\n",
       "<style scoped>\n",
       "    .dataframe tbody tr th:only-of-type {\n",
       "        vertical-align: middle;\n",
       "    }\n",
       "\n",
       "    .dataframe tbody tr th {\n",
       "        vertical-align: top;\n",
       "    }\n",
       "\n",
       "    .dataframe thead th {\n",
       "        text-align: right;\n",
       "    }\n",
       "</style>\n",
       "<table border=\"1\" class=\"dataframe\">\n",
       "  <thead>\n",
       "    <tr style=\"text-align: right;\">\n",
       "      <th></th>\n",
       "      <th>review</th>\n",
       "      <th>sentiment</th>\n",
       "    </tr>\n",
       "  </thead>\n",
       "  <tbody>\n",
       "    <tr>\n",
       "      <th>0</th>\n",
       "      <td>stuff going moment mj started listening music ...</td>\n",
       "      <td>1</td>\n",
       "    </tr>\n",
       "    <tr>\n",
       "      <th>1</th>\n",
       "      <td>classic war worlds timothy hines entertaining ...</td>\n",
       "      <td>1</td>\n",
       "    </tr>\n",
       "    <tr>\n",
       "      <th>2</th>\n",
       "      <td>film starts manager nicholas bell giving welco...</td>\n",
       "      <td>0</td>\n",
       "    </tr>\n",
       "    <tr>\n",
       "      <th>3</th>\n",
       "      <td>must assumed praised film greatest filmed oper...</td>\n",
       "      <td>0</td>\n",
       "    </tr>\n",
       "    <tr>\n",
       "      <th>4</th>\n",
       "      <td>superbly trashy wondrously unpretentious explo...</td>\n",
       "      <td>1</td>\n",
       "    </tr>\n",
       "  </tbody>\n",
       "</table>\n",
       "</div>"
      ],
      "text/plain": [
       "                                              review  sentiment\n",
       "0  stuff going moment mj started listening music ...          1\n",
       "1  classic war worlds timothy hines entertaining ...          1\n",
       "2  film starts manager nicholas bell giving welco...          0\n",
       "3  must assumed praised film greatest filmed oper...          0\n",
       "4  superbly trashy wondrously unpretentious explo...          1"
      ]
     },
     "execution_count": 52,
     "metadata": {},
     "output_type": "execute_result"
    }
   ],
   "source": [
    "~"
   ]
  },
  {
   "cell_type": "code",
   "execution_count": 53,
   "id": "e94f5260",
   "metadata": {},
   "outputs": [],
   "source": [
    "~"
   ]
  },
  {
   "cell_type": "markdown",
   "id": "bebf634e",
   "metadata": {},
   "source": [
    "* CountVectorize"
   ]
  },
  {
   "cell_type": "code",
   "execution_count": 54,
   "id": "40d5c683",
   "metadata": {},
   "outputs": [],
   "source": [
    "# from sklearn.feature_extraction.text import CountVectorizer"
   ]
  },
  {
   "cell_type": "code",
   "execution_count": 55,
   "id": "f39ddf19",
   "metadata": {},
   "outputs": [
    {
     "name": "stdout",
     "output_type": "stream",
     "text": [
      "(25000, 5000)\n"
     ]
    }
   ],
   "source": [
    "~"
   ]
  },
  {
   "cell_type": "markdown",
   "id": "d60f7fae",
   "metadata": {},
   "source": [
    "* train -> train/ val"
   ]
  },
  {
   "cell_type": "code",
   "execution_count": 56,
   "id": "5b44d8c9",
   "metadata": {},
   "outputs": [],
   "source": [
    "from sklearn.model_selection import train_test_split"
   ]
  },
  {
   "cell_type": "code",
   "execution_count": 57,
   "id": "09ab369c",
   "metadata": {},
   "outputs": [],
   "source": [
    "~"
   ]
  },
  {
   "cell_type": "code",
   "execution_count": 58,
   "id": "7c5f84e5",
   "metadata": {},
   "outputs": [
    {
     "data": {
      "text/plain": [
       "(20000, 5000)"
      ]
     },
     "execution_count": 58,
     "metadata": {},
     "output_type": "execute_result"
    }
   ],
   "source": [
    "train_input.shape"
   ]
  },
  {
   "cell_type": "code",
   "execution_count": 59,
   "id": "eb8636b6",
   "metadata": {},
   "outputs": [
    {
     "data": {
      "text/plain": [
       "(5000, 5000)"
      ]
     },
     "execution_count": 59,
     "metadata": {},
     "output_type": "execute_result"
    }
   ],
   "source": [
    "eval_input.shape"
   ]
  },
  {
   "cell_type": "markdown",
   "id": "6332ef21",
   "metadata": {},
   "source": [
    "* RF"
   ]
  },
  {
   "cell_type": "code",
   "execution_count": 60,
   "id": "a00b3e39",
   "metadata": {},
   "outputs": [
    {
     "data": {
      "text/plain": [
       "RandomForestClassifier()"
      ]
     },
     "execution_count": 60,
     "metadata": {},
     "output_type": "execute_result"
    }
   ],
   "source": [
    "~"
   ]
  },
  {
   "cell_type": "code",
   "execution_count": 61,
   "id": "220e111b",
   "metadata": {},
   "outputs": [],
   "source": [
    "# eval -> accuracy로 평가!!\n",
    "from sklearn.metrics import accuracy_score"
   ]
  },
  {
   "cell_type": "code",
   "execution_count": 62,
   "id": "db96a068",
   "metadata": {},
   "outputs": [
    {
     "data": {
      "text/plain": [
       "0.8426"
      ]
     },
     "execution_count": 62,
     "metadata": {},
     "output_type": "execute_result"
    }
   ],
   "source": [
    "~"
   ]
  },
  {
   "cell_type": "code",
   "execution_count": null,
   "id": "972ab1fd",
   "metadata": {},
   "outputs": [],
   "source": []
  },
  {
   "cell_type": "code",
   "execution_count": null,
   "id": "038fd198",
   "metadata": {},
   "outputs": [],
   "source": []
  }
 ],
 "metadata": {
  "kernelspec": {
   "display_name": "Python 3 (ipykernel)",
   "language": "python",
   "name": "python3"
  },
  "language_info": {
   "codemirror_mode": {
    "name": "ipython",
    "version": 3
   },
   "file_extension": ".py",
   "mimetype": "text/x-python",
   "name": "python",
   "nbconvert_exporter": "python",
   "pygments_lexer": "ipython3",
   "version": "3.9.7"
  }
 },
 "nbformat": 4,
 "nbformat_minor": 5
}
