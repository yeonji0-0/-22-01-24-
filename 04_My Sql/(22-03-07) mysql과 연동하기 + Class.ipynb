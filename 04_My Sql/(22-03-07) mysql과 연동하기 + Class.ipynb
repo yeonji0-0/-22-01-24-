{
 "cells": [
  {
   "cell_type": "code",
   "execution_count": 1,
   "id": "99c349c1",
   "metadata": {},
   "outputs": [],
   "source": [
    "import pymysql"
   ]
  },
  {
   "cell_type": "markdown",
   "id": "e50dd694",
   "metadata": {},
   "source": [
    "### 일단 mysql에 대한 윈도우 서비스가 실행이 되고 있어야 함"
   ]
  },
  {
   "cell_type": "markdown",
   "id": "3c333374",
   "metadata": {},
   "source": [
    "#### 1) 연결 관련 설정"
   ]
  },
  {
   "cell_type": "code",
   "execution_count": 2,
   "id": "0b1c5b87",
   "metadata": {},
   "outputs": [],
   "source": [
    "mysql_con = pymysql.connect(\n",
    "        user = \"root\", #사용자 이름\n",
    "        passwd = \"1234\", # 계정에 대한 비밀번호\n",
    "        host = \"127.0.0.1\", #접속한 mysql에 대한 ip주소\n",
    "        db = \"sqldb\", #mysql 내부에 내가 접속한 DataBase이름\n",
    "        charset = \"utf8\" #파이썬에서 한글이 안 깨지기 하기 위해\n",
    ")"
   ]
  },
  {
   "cell_type": "markdown",
   "id": "68924f0f",
   "metadata": {},
   "source": [
    "#### 2) 실질적인 연결"
   ]
  },
  {
   "cell_type": "code",
   "execution_count": 3,
   "id": "7d5cd5ff",
   "metadata": {},
   "outputs": [],
   "source": [
    "my_cursor = mysql_con.cursor(pymysql.cursors.DictCursor)"
   ]
  },
  {
   "cell_type": "markdown",
   "id": "b4124ee2",
   "metadata": {},
   "source": [
    "#### 3) 요청할 쿼리 -> 문자열\n",
    " - 주의사항) 쿼리문의 종료를 알리는 ;까지 문자열로 포함해서 쿼리문을 작성해야 함"
   ]
  },
  {
   "cell_type": "code",
   "execution_count": 4,
   "id": "7da2b4d3",
   "metadata": {},
   "outputs": [],
   "source": [
    "sql = \"select * from usertbl;\""
   ]
  },
  {
   "cell_type": "markdown",
   "id": "5a1c5b0a",
   "metadata": {},
   "source": [
    "#### 4) 실제 쿼리문 요청"
   ]
  },
  {
   "cell_type": "code",
   "execution_count": 5,
   "id": "83c739f5",
   "metadata": {},
   "outputs": [
    {
     "data": {
      "text/plain": [
       "10"
      ]
     },
     "execution_count": 5,
     "metadata": {},
     "output_type": "execute_result"
    }
   ],
   "source": [
    "my_cursor.execute(sql)"
   ]
  },
  {
   "cell_type": "markdown",
   "id": "3d981182",
   "metadata": {},
   "source": [
    "#### 5) 4에서 실행한 결과에서 다시 몇 개를 가지고 와서 볼지"
   ]
  },
  {
   "cell_type": "code",
   "execution_count": 6,
   "id": "6649b56a",
   "metadata": {},
   "outputs": [
    {
     "data": {
      "text/plain": [
       "[{'userID': 'BBK',\n",
       "  'name': '바비킴',\n",
       "  'birthYear': 1973,\n",
       "  'addr': '서울',\n",
       "  'mobile1': '010',\n",
       "  'mobile2': '00000',\n",
       "  'height': 176,\n",
       "  'mDate': datetime.date(2013, 5, 5)},\n",
       " {'userID': 'EJW',\n",
       "  'name': '은지원',\n",
       "  'birthYear': 1972,\n",
       "  'addr': '경북',\n",
       "  'mobile1': '011',\n",
       "  'mobile2': '88888',\n",
       "  'height': 174,\n",
       "  'mDate': datetime.date(2014, 3, 3)},\n",
       " {'userID': 'JKW',\n",
       "  'name': '조관우',\n",
       "  'birthYear': 1965,\n",
       "  'addr': '경기',\n",
       "  'mobile1': '018',\n",
       "  'mobile2': '99999',\n",
       "  'height': 172,\n",
       "  'mDate': datetime.date(2010, 10, 10)},\n",
       " {'userID': 'JYP',\n",
       "  'name': '조용필',\n",
       "  'birthYear': 1950,\n",
       "  'addr': '경기',\n",
       "  'mobile1': '011',\n",
       "  'mobile2': '44444',\n",
       "  'height': 166,\n",
       "  'mDate': datetime.date(2009, 4, 4)},\n",
       " {'userID': 'KBS',\n",
       "  'name': '김범수',\n",
       "  'birthYear': 1979,\n",
       "  'addr': '경남',\n",
       "  'mobile1': '011',\n",
       "  'mobile2': '22222',\n",
       "  'height': 173,\n",
       "  'mDate': datetime.date(2012, 4, 4)},\n",
       " {'userID': 'KKH',\n",
       "  'name': '김경호',\n",
       "  'birthYear': 1971,\n",
       "  'addr': '전남',\n",
       "  'mobile1': '019',\n",
       "  'mobile2': '33333',\n",
       "  'height': 177,\n",
       "  'mDate': datetime.date(2007, 7, 7)},\n",
       " {'userID': 'LJB',\n",
       "  'name': '임재범',\n",
       "  'birthYear': 1963,\n",
       "  'addr': '서울',\n",
       "  'mobile1': '016',\n",
       "  'mobile2': '66666',\n",
       "  'height': 182,\n",
       "  'mDate': datetime.date(2009, 9, 9)},\n",
       " {'userID': 'LSG',\n",
       "  'name': '이승기',\n",
       "  'birthYear': 1987,\n",
       "  'addr': '서울',\n",
       "  'mobile1': '011',\n",
       "  'mobile2': '11111',\n",
       "  'height': 182,\n",
       "  'mDate': datetime.date(2008, 8, 8)},\n",
       " {'userID': 'SSK',\n",
       "  'name': '성시경',\n",
       "  'birthYear': 1979,\n",
       "  'addr': '서울',\n",
       "  'mobile1': None,\n",
       "  'mobile2': None,\n",
       "  'height': 186,\n",
       "  'mDate': datetime.date(2013, 12, 12)},\n",
       " {'userID': 'YJS',\n",
       "  'name': '윤종신',\n",
       "  'birthYear': 1969,\n",
       "  'addr': '경남',\n",
       "  'mobile1': None,\n",
       "  'mobile2': None,\n",
       "  'height': 170,\n",
       "  'mDate': datetime.date(2005, 5, 5)}]"
      ]
     },
     "execution_count": 6,
     "metadata": {},
     "output_type": "execute_result"
    }
   ],
   "source": [
    "result = my_cursor.fetchall()\n",
    "result"
   ]
  },
  {
   "cell_type": "markdown",
   "id": "16bb962f",
   "metadata": {},
   "source": [
    "#### 6) pandas의 DF으로"
   ]
  },
  {
   "cell_type": "code",
   "execution_count": 9,
   "id": "57dd6bb8",
   "metadata": {},
   "outputs": [],
   "source": [
    "import pandas as pd"
   ]
  },
  {
   "cell_type": "code",
   "execution_count": 10,
   "id": "5cb0ad7a",
   "metadata": {},
   "outputs": [
    {
     "data": {
      "text/html": [
       "<div>\n",
       "<style scoped>\n",
       "    .dataframe tbody tr th:only-of-type {\n",
       "        vertical-align: middle;\n",
       "    }\n",
       "\n",
       "    .dataframe tbody tr th {\n",
       "        vertical-align: top;\n",
       "    }\n",
       "\n",
       "    .dataframe thead th {\n",
       "        text-align: right;\n",
       "    }\n",
       "</style>\n",
       "<table border=\"1\" class=\"dataframe\">\n",
       "  <thead>\n",
       "    <tr style=\"text-align: right;\">\n",
       "      <th></th>\n",
       "      <th>userID</th>\n",
       "      <th>name</th>\n",
       "      <th>birthYear</th>\n",
       "      <th>addr</th>\n",
       "      <th>mobile1</th>\n",
       "      <th>mobile2</th>\n",
       "      <th>height</th>\n",
       "      <th>mDate</th>\n",
       "    </tr>\n",
       "  </thead>\n",
       "  <tbody>\n",
       "    <tr>\n",
       "      <th>0</th>\n",
       "      <td>BBK</td>\n",
       "      <td>바비킴</td>\n",
       "      <td>1973</td>\n",
       "      <td>서울</td>\n",
       "      <td>010</td>\n",
       "      <td>00000</td>\n",
       "      <td>176</td>\n",
       "      <td>2013-05-05</td>\n",
       "    </tr>\n",
       "    <tr>\n",
       "      <th>1</th>\n",
       "      <td>EJW</td>\n",
       "      <td>은지원</td>\n",
       "      <td>1972</td>\n",
       "      <td>경북</td>\n",
       "      <td>011</td>\n",
       "      <td>88888</td>\n",
       "      <td>174</td>\n",
       "      <td>2014-03-03</td>\n",
       "    </tr>\n",
       "    <tr>\n",
       "      <th>2</th>\n",
       "      <td>JKW</td>\n",
       "      <td>조관우</td>\n",
       "      <td>1965</td>\n",
       "      <td>경기</td>\n",
       "      <td>018</td>\n",
       "      <td>99999</td>\n",
       "      <td>172</td>\n",
       "      <td>2010-10-10</td>\n",
       "    </tr>\n",
       "    <tr>\n",
       "      <th>3</th>\n",
       "      <td>JYP</td>\n",
       "      <td>조용필</td>\n",
       "      <td>1950</td>\n",
       "      <td>경기</td>\n",
       "      <td>011</td>\n",
       "      <td>44444</td>\n",
       "      <td>166</td>\n",
       "      <td>2009-04-04</td>\n",
       "    </tr>\n",
       "    <tr>\n",
       "      <th>4</th>\n",
       "      <td>KBS</td>\n",
       "      <td>김범수</td>\n",
       "      <td>1979</td>\n",
       "      <td>경남</td>\n",
       "      <td>011</td>\n",
       "      <td>22222</td>\n",
       "      <td>173</td>\n",
       "      <td>2012-04-04</td>\n",
       "    </tr>\n",
       "    <tr>\n",
       "      <th>5</th>\n",
       "      <td>KKH</td>\n",
       "      <td>김경호</td>\n",
       "      <td>1971</td>\n",
       "      <td>전남</td>\n",
       "      <td>019</td>\n",
       "      <td>33333</td>\n",
       "      <td>177</td>\n",
       "      <td>2007-07-07</td>\n",
       "    </tr>\n",
       "    <tr>\n",
       "      <th>6</th>\n",
       "      <td>LJB</td>\n",
       "      <td>임재범</td>\n",
       "      <td>1963</td>\n",
       "      <td>서울</td>\n",
       "      <td>016</td>\n",
       "      <td>66666</td>\n",
       "      <td>182</td>\n",
       "      <td>2009-09-09</td>\n",
       "    </tr>\n",
       "    <tr>\n",
       "      <th>7</th>\n",
       "      <td>LSG</td>\n",
       "      <td>이승기</td>\n",
       "      <td>1987</td>\n",
       "      <td>서울</td>\n",
       "      <td>011</td>\n",
       "      <td>11111</td>\n",
       "      <td>182</td>\n",
       "      <td>2008-08-08</td>\n",
       "    </tr>\n",
       "    <tr>\n",
       "      <th>8</th>\n",
       "      <td>SSK</td>\n",
       "      <td>성시경</td>\n",
       "      <td>1979</td>\n",
       "      <td>서울</td>\n",
       "      <td>None</td>\n",
       "      <td>None</td>\n",
       "      <td>186</td>\n",
       "      <td>2013-12-12</td>\n",
       "    </tr>\n",
       "    <tr>\n",
       "      <th>9</th>\n",
       "      <td>YJS</td>\n",
       "      <td>윤종신</td>\n",
       "      <td>1969</td>\n",
       "      <td>경남</td>\n",
       "      <td>None</td>\n",
       "      <td>None</td>\n",
       "      <td>170</td>\n",
       "      <td>2005-05-05</td>\n",
       "    </tr>\n",
       "  </tbody>\n",
       "</table>\n",
       "</div>"
      ],
      "text/plain": [
       "  userID name  birthYear addr mobile1 mobile2  height       mDate\n",
       "0    BBK  바비킴       1973   서울     010   00000     176  2013-05-05\n",
       "1    EJW  은지원       1972   경북     011   88888     174  2014-03-03\n",
       "2    JKW  조관우       1965   경기     018   99999     172  2010-10-10\n",
       "3    JYP  조용필       1950   경기     011   44444     166  2009-04-04\n",
       "4    KBS  김범수       1979   경남     011   22222     173  2012-04-04\n",
       "5    KKH  김경호       1971   전남     019   33333     177  2007-07-07\n",
       "6    LJB  임재범       1963   서울     016   66666     182  2009-09-09\n",
       "7    LSG  이승기       1987   서울     011   11111     182  2008-08-08\n",
       "8    SSK  성시경       1979   서울    None    None     186  2013-12-12\n",
       "9    YJS  윤종신       1969   경남    None    None     170  2005-05-05"
      ]
     },
     "execution_count": 10,
     "metadata": {},
     "output_type": "execute_result"
    }
   ],
   "source": [
    "result_df = pd.DataFrame(result)\n",
    "result_df"
   ]
  },
  {
   "cell_type": "markdown",
   "id": "111e47f6",
   "metadata": {},
   "source": [
    "### 기본적인 쿼리문 테스트"
   ]
  },
  {
   "cell_type": "code",
   "execution_count": 11,
   "id": "535b3561",
   "metadata": {},
   "outputs": [
    {
     "data": {
      "text/plain": [
       "1"
      ]
     },
     "execution_count": 11,
     "metadata": {},
     "output_type": "execute_result"
    }
   ],
   "source": [
    "# DB를 만들기\n",
    "sql = \"create database testtt;\"\n",
    "my_cursor.execute(sql)"
   ]
  },
  {
   "cell_type": "code",
   "execution_count": 22,
   "id": "3ddca5cf",
   "metadata": {},
   "outputs": [
    {
     "data": {
      "text/plain": [
       "0"
      ]
     },
     "execution_count": 22,
     "metadata": {},
     "output_type": "execute_result"
    }
   ],
   "source": [
    "# DB 없애기\n",
    "sql = \"drop database testtt;\"\n",
    "my_cursor.execute(sql)"
   ]
  },
  {
   "cell_type": "code",
   "execution_count": null,
   "id": "1f53e33d",
   "metadata": {},
   "outputs": [],
   "source": [
    "# DB를 만들기\n",
    "sql = \"create database testpython;\"\n",
    "my_cursor.execute(sql)"
   ]
  },
  {
   "cell_type": "code",
   "execution_count": 9,
   "id": "d46076e3",
   "metadata": {},
   "outputs": [
    {
     "data": {
      "text/plain": [
       "0"
      ]
     },
     "execution_count": 9,
     "metadata": {},
     "output_type": "execute_result"
    }
   ],
   "source": [
    "# 연결할 기본정보 세팅 -> table 만들기\n",
    "mysql_con = pymysql.connect(\n",
    "        user = \"root\", #사용자 이름\n",
    "        passwd = \"1234\", # 계정에 대한 비밀번호\n",
    "        host = \"127.0.0.1\", #접속한 mysql에 대한 ip주소\n",
    "        db = \"testpython\", #mysql 내부에 내가 접속한 DataBase이름\n",
    "        charset = \"utf8\" #파이썬에서 한글이 안 깨지기 하기 위해\n",
    ")\n",
    "my_cursor = mysql_con.cursor(pymysql.cursors.DictCursor)\n",
    "sql = \"create table user_info(ID INT NOT NULL AUTO_INCREMENT, USER_ID VARCHAR(50) NOT NULL, USER_EMAIL VARCHAR(100) NOT NULL, PRIMARY KEY(ID));\"\n",
    "my_cursor.execute(sql)"
   ]
  },
  {
   "cell_type": "code",
   "execution_count": 12,
   "id": "7d7916c8",
   "metadata": {},
   "outputs": [],
   "source": [
    "mysql_con = pymysql.connect(\n",
    "        user = \"root\", #사용자 이름\n",
    "        passwd = \"1234\", # 계정에 대한 비밀번호\n",
    "        host = \"127.0.0.1\", #접속한 mysql에 대한 ip주소\n",
    "        db = \"testpython\", #mysql 내부에 내가 접속한 DataBase이름\n",
    "        charset = \"utf8\" #파이썬에서 한글이 안 깨지기 하기 위해\n",
    ")\n",
    "my_cursor = mysql_con.cursor()\n",
    "sql = \"insert into user_info (USER_ID,USER_EMAIL) values(%s, %s)\"\n",
    "my_cursor.execute(sql,(\"best-01\",\"best@gmail.com\"))\n",
    "my_cursor.execute(sql,(\"medici\",\"medici@naver.com\"))\n",
    "mysql_con.commit()"
   ]
  },
  {
   "cell_type": "code",
   "execution_count": null,
   "id": "6fab7823",
   "metadata": {},
   "outputs": [],
   "source": [
    "# -> DML : Data Manipulation Lanuage -> Insert, Update, Delete\n",
    "# 위와 같이 접속에 대한 부분을 commit 처리를 해야 함"
   ]
  },
  {
   "cell_type": "code",
   "execution_count": 13,
   "id": "dc9f763c",
   "metadata": {},
   "outputs": [
    {
     "data": {
      "text/plain": [
       "((4, 'medici', 'medici@naver.com'),)"
      ]
     },
     "execution_count": 13,
     "metadata": {},
     "output_type": "execute_result"
    }
   ],
   "source": [
    "sql = \"select * from user_info where USER_ID = %s\"\n",
    "my_cursor.execute(sql, (\"medici\"))\n",
    "my_cursor.fetchall()"
   ]
  },
  {
   "cell_type": "code",
   "execution_count": 14,
   "id": "9e43366b",
   "metadata": {},
   "outputs": [],
   "source": [
    "mysql_con = pymysql.connect(\n",
    "        user = \"root\", #사용자 이름\n",
    "        passwd = \"1234\", # 계정에 대한 비밀번호\n",
    "        host = \"127.0.0.1\", #접속한 mysql에 대한 ip주소\n",
    "        db = \"testpython\", #mysql 내부에 내가 접속한 DataBase이름\n",
    "        charset = \"utf8\" #파이썬에서 한글이 안 깨지기 하기 위해\n",
    ")\n",
    "my_cursor = mysql_con.cursor()\n",
    "\n",
    "#update -> insert 한 것 처럼 연결에 대한 commit를 해줘야 함\n",
    "sql = \"update user_info set USER_ID = %s where USER_EMAIL=%s\"\n",
    "#-> 회원가입에서 본인 이메일로 인증을 한 이후에 PW/ID 변경 할 때\n",
    "my_cursor.execute(sql,(\"MEDICI\",\"medici@naver.com\"))\n",
    "mysql_con.commit()\n",
    "mysql_con.close()"
   ]
  },
  {
   "cell_type": "code",
   "execution_count": 15,
   "id": "56ea1f3b",
   "metadata": {},
   "outputs": [
    {
     "name": "stdout",
     "output_type": "stream",
     "text": [
      "((1, 'best-01', 'best'), (2, 'best-02', 'best'), (3, 'best-01', 'best@gmail.com'))\n"
     ]
    }
   ],
   "source": [
    "#일반적으로 처리 할 때는 \n",
    "# -> 연결 관련된 기본적인 속성값들 세팅\n",
    "mysql_con = pymysql.connect(\n",
    "        user = \"root\", #사용자 이름\n",
    "        passwd = \"1234\", # 계정에 대한 비밀번호\n",
    "        host = \"127.0.0.1\", #접속한 mysql에 대한 ip주소\n",
    "        db = \"testpython\", #mysql 내부에 내가 접속한 DataBase이름\n",
    "        charset = \"utf8\" #파이썬에서 한글이 안 깨지기 하기 위해\n",
    ")\n",
    "\n",
    "# \n",
    "try:\n",
    "    with mysql_con.cursor() as cursor:\n",
    "        sql = \"delete from user_info where USER_EMAiL = %s\"\n",
    "        cursor.execute(sql, (\"medici@naver.com\"))\n",
    "    mysql_con.commit()\n",
    "    \n",
    "    with mysql_con.cursor () as cursor:\n",
    "        sql = \"select * from user_info;\"\n",
    "        cursor.execute(sql)\n",
    "        result = cursor.fetchall()\n",
    "        print(result)\n",
    "        \n",
    "finally: #에러가 나건 안 나건 꼭 실행해야하는 코드를 기입할 때\n",
    "    mysql_con.close()"
   ]
  },
  {
   "cell_type": "code",
   "execution_count": null,
   "id": "08a43eae",
   "metadata": {},
   "outputs": [],
   "source": []
  },
  {
   "cell_type": "markdown",
   "id": "957423e0",
   "metadata": {},
   "source": [
    "# Python Class"
   ]
  },
  {
   "cell_type": "markdown",
   "id": "fea027cc",
   "metadata": {},
   "source": [
    "## 추상화\n",
    "* 프로그램에서 필요한 요소만을 사용해서, 대상(객체)을 표현하는 것을 추상화\n",
    "* 자료/모듈/시스템 등으로 부터 핵심적인 개념 및 기능을 간추려내는 것을 추상화"
   ]
  },
  {
   "cell_type": "markdown",
   "id": "d11ec5c5",
   "metadata": {},
   "source": [
    "#### 예제) 학생 성적관리 프로그램을 만든다고 하자\n",
    "- 우리가 필요한 정보는 무엇인가? ->학생 이름, 과목마다 성적 등등이 필요할 것임                                               \n",
    "- 이러한 것을 우리는 그러면 파이썬으로는 리스트, 딕션어리 등등.."
   ]
  },
  {
   "cell_type": "code",
   "execution_count": 35,
   "id": "de7aba49",
   "metadata": {},
   "outputs": [
    {
     "data": {
      "text/plain": [
       "[{'name': 'AAA', 'korean': 98, 'math': 93, 'english': 80, 'science': 95},\n",
       " {'name': 'BBB', 'korean': 88, 'math': 65, 'english': 79, 'science': 78},\n",
       " {'name': 'CCC', 'korean': 78, 'math': 78, 'english': 74, 'science': 86},\n",
       " {'name': 'DDD', 'korean': 89, 'math': 88, 'english': 98, 'science': 98},\n",
       " {'name': 'EEE', 'korean': 99, 'math': 95, 'english': 94, 'science': 94},\n",
       " {'name': 'FFF', 'korean': 78, 'math': 78, 'english': 89, 'science': 68},\n",
       " {'name': 'GGG', 'korean': 68, 'math': 84, 'english': 78, 'science': 54},\n",
       " {'name': 'HHH', 'korean': 91, 'math': 93, 'english': 88, 'science': 95}]"
      ]
     },
     "execution_count": 35,
     "metadata": {},
     "output_type": "execute_result"
    }
   ],
   "source": [
    "#학생 이름, 국어, 수학, 영어, 과학\n",
    "\n",
    "students = [\n",
    "    {\"name\":\"AAA\", \"korean\":98, \"math\":93, \"english\":80, \"science\": 95},\n",
    "    {\"name\":\"BBB\", \"korean\":88, \"math\":65, \"english\":79, \"science\": 78},\n",
    "    {\"name\":\"CCC\", \"korean\":78, \"math\":78, \"english\":74, \"science\": 86},\n",
    "    {\"name\":'DDD', \"korean\":89, \"math\":88, \"english\":98, \"science\": 98},\n",
    "    {\"name\":\"EEE\", \"korean\":99, \"math\":95, \"english\":94, \"science\": 94},\n",
    "    {\"name\":\"FFF\", \"korean\":78, \"math\":78, \"english\":89, \"science\": 68},\n",
    "    {\"name\":\"GGG\", \"korean\":68, \"math\":84, \"english\":78, \"science\": 54},\n",
    "    {\"name\":\"HHH\", \"korean\":91, \"math\":93, \"english\":88, \"science\": 95}\n",
    "    \n",
    "]\n",
    "students"
   ]
  },
  {
   "cell_type": "code",
   "execution_count": 36,
   "id": "17250ac2",
   "metadata": {},
   "outputs": [
    {
     "name": "stdout",
     "output_type": "stream",
     "text": [
      "이름\t총점\t평균\n",
      "AAA\t366\t91.5\n",
      "BBB\t310\t77.5\n",
      "CCC\t316\t79.0\n",
      "DDD\t373\t93.25\n",
      "EEE\t382\t95.5\n",
      "FFF\t313\t78.25\n",
      "GGG\t284\t71.0\n",
      "HHH\t367\t91.75\n"
     ]
    }
   ],
   "source": [
    "# 그러면 학생이름, 총점, 평균을 출력하기\n",
    "print(\"이름\", \"총점\", \"평균\", sep=\"\\t\")\n",
    "for student in students:\n",
    "    score_sum = student[\"korean\"] + student[\"math\"] + student[\"english\"] \\\n",
    "                + student[\"science\"]\n",
    "    score_avg = score_sum / 4\n",
    "    print(student[\"name\"], score_sum,score_avg, sep=\"\\t\")"
   ]
  },
  {
   "cell_type": "code",
   "execution_count": 37,
   "id": "80beda10",
   "metadata": {},
   "outputs": [],
   "source": [
    "# 학생에 대한 특징을 만드는 것을 함수로 만들어 보자 \n",
    "def create_student(name, korean, math, english, science):\n",
    "    return {\"name\":name, \"korean\":korean, \"math\":math, \"english\":english,\"science\" : science}"
   ]
  },
  {
   "cell_type": "code",
   "execution_count": 38,
   "id": "ee7edd62",
   "metadata": {},
   "outputs": [
    {
     "data": {
      "text/plain": [
       "[{'name': 'AAA', 'korean': 98, 'math': 93, 'english': 80, 'science': 95},\n",
       " {'name': 'BBB', 'korean': 88, 'math': 65, 'english': 79, 'science': 78},\n",
       " {'name': 'CCC', 'korean': 78, 'math': 78, 'english': 74, 'science': 86},\n",
       " {'name': 'DDD', 'korean': 89, 'math': 88, 'english': 98, 'science': 98},\n",
       " {'name': 'EEE', 'korean': 99, 'math': 95, 'english': 94, 'science': 94},\n",
       " {'name': 'FFF', 'korean': 78, 'math': 78, 'english': 89, 'science': 68},\n",
       " {'name': 'GGG', 'korean': 68, 'math': 84, 'english': 78, 'science': 54},\n",
       " {'name': 'HHH', 'korean': 91, 'math': 93, 'english': 88, 'science': 95}]"
      ]
     },
     "execution_count": 38,
     "metadata": {},
     "output_type": "execute_result"
    }
   ],
   "source": [
    "sutdents = [\n",
    "    create_student(\"AAA\",98,93,79,95),\n",
    "    create_student(\"BBB\",78,87,87,91),\n",
    "    create_student(\"CCC\",87,88,83,93),\n",
    "    create_student(\"DDD\",98,93,79,95),\n",
    "    create_student(\"EEE\",88,78,99,48),\n",
    "    create_student(\"FFF\",98,93,89,98),\n",
    "    create_student(\"GGG\",68,73,80,56),\n",
    "    create_student(\"HHH\",87,78,86,85),\n",
    "    create_student(\"AAA\",98,93,79,95)\n",
    "    \n",
    "]\n",
    "students"
   ]
  },
  {
   "cell_type": "code",
   "execution_count": 39,
   "id": "348464c9",
   "metadata": {},
   "outputs": [
    {
     "name": "stdout",
     "output_type": "stream",
     "text": [
      "이름\t총점\t평균\n",
      "AAA\t366\t91.5\n",
      "BBB\t310\t77.5\n",
      "CCC\t316\t79.0\n",
      "DDD\t373\t93.25\n",
      "EEE\t382\t95.5\n",
      "FFF\t313\t78.25\n",
      "GGG\t284\t71.0\n",
      "HHH\t367\t91.75\n"
     ]
    }
   ],
   "source": [
    "#학생 이름, 총점, 평균을 출력해보기\n",
    "print(\"이름\", \"총점\", \"평균\", sep=\"\\t\")\n",
    "for student in students:\n",
    "    score_sum = student[\"korean\"] + student[\"math\"] + student[\"english\"] \\\n",
    "                + student[\"science\"]\n",
    "    score_avg = score_sum / 4\n",
    "    print(student[\"name\"], score_sum,score_avg, sep=\"\\t\")"
   ]
  },
  {
   "cell_type": "code",
   "execution_count": 40,
   "id": "cf6423a1",
   "metadata": {},
   "outputs": [],
   "source": [
    "#위의 경우에 대해서 기능을 함수로 좀 세분화 하고자 한다\n",
    "\n",
    "# 학생의 성적관련 정보를 생성하는 기능\n",
    "def create_student(name, korean, math, english, science):\n",
    "    return {\"name\":name, \"korean\":korean, \"math\":math, \"english\":english,\"science\" : science}\n",
    "\n",
    "#학생마다 총점을 구하는 기능 : 입력은 studnet 1명 정보가 있을 때..\n",
    "def student_get_sum(student):\n",
    "    score_num = student[\"korean\"] + student[\"math\"] + student[\"english\"] + student[\"science\"]\n",
    "    return score_num\n",
    "\n",
    "#학생마다 평균을 구하는 기능 : 입력은 studnet 1명 정보가 있을 때..\n",
    "def student_get_avg(student):\n",
    "    score_avg = student_get_sum(student)/4\n",
    "    return score_avg\n",
    "\n",
    "#학생마다 정보를 추출하는 기능 : 입력은 studnet 1명 정보가 있을 때..\n",
    "def student_to_string(student):\n",
    "    temp =  \"{}\\t{}\\t{}\" .format(student[\"name\"],student_get_sum(student),student_get_avg(student))\n",
    "    return temp"
   ]
  },
  {
   "cell_type": "code",
   "execution_count": 43,
   "id": "9de3c48a",
   "metadata": {},
   "outputs": [
    {
     "name": "stdout",
     "output_type": "stream",
     "text": [
      "이름\t총점\t평균\n",
      "AAA\t365\t91.25\n",
      "BBB\t343\t85.75\n",
      "CCC\t351\t87.75\n",
      "DDD\t358\t89.5\n",
      "EEE\t367\t91.75\n",
      "FFF\t368\t92.0\n",
      "GGG\t358\t89.5\n",
      "HHH\t348\t87.0\n"
     ]
    }
   ],
   "source": [
    "students = [\n",
    "    create_student(\"AAA\",98,93,79,95),\n",
    "    create_student(\"BBB\",78,87,87,91),\n",
    "    create_student(\"CCC\",87,88,83,93),\n",
    "    create_student(\"DDD\",79,92,99,88),\n",
    "    create_student(\"EEE\",92,98,94,83),\n",
    "    create_student(\"FFF\",94,99,98,77),\n",
    "    create_student(\"GGG\",84,96,99,79),\n",
    "    create_student(\"HHH\",87,78,88,95)\n",
    "]\n",
    "print(\"이름\",\"총점\",\"평균\", sep=\"\\t\")\n",
    "for student in students:\n",
    "    print(student_to_string(student))"
   ]
  },
  {
   "cell_type": "markdown",
   "id": "c07cf3fc",
   "metadata": {},
   "source": [
    "> 위와 같이 함수를 모든 기능을 쪼갠 것 들을 좀 더 효울적으로 하기 위해 만든 것이 바로 '클래스'                               \n",
    "> 대상/객체를 좀 더 효울적으로 만들고, 필요한 기능에 대해서 보다 수월하게 하기 위해                                            \n",
    ">class 클래스의 이름:                                                                                                        \n",
    "   >   클래스에 대한 내용들 "
   ]
  },
  {
   "cell_type": "code",
   "execution_count": 45,
   "id": "e2b069e5",
   "metadata": {},
   "outputs": [],
   "source": [
    "class Student: #파이썬에서 클래스의 이름 맨 앞글자를 대문자로\n",
    "    #생성자 : 뭔가 틀을 만들 때, 그 틀의 속성들을 지정해준다.. self는 꼭 입력\n",
    "    def __init__(self, name, korean, math, english, science):\n",
    "        self.name = name\n",
    "        self.korean = korean\n",
    "        self.math = math\n",
    "        self.english = english\n",
    "        self.science=science"
   ]
  },
  {
   "cell_type": "code",
   "execution_count": 47,
   "id": "fc7a89b5",
   "metadata": {},
   "outputs": [
    {
     "data": {
      "text/plain": [
       "[<__main__.Student at 0x29c710ba8e0>,\n",
       " <__main__.Student at 0x29c710ba460>,\n",
       " <__main__.Student at 0x29c710ba820>,\n",
       " <__main__.Student at 0x29c710ba370>,\n",
       " <__main__.Student at 0x29c710ba0a0>,\n",
       " <__main__.Student at 0x29c710bac70>,\n",
       " <__main__.Student at 0x29c710ba070>,\n",
       " <__main__.Student at 0x29c710baaf0>]"
      ]
     },
     "execution_count": 47,
     "metadata": {},
     "output_type": "execute_result"
    }
   ],
   "source": [
    "students = [\n",
    "    Student(\"AAA\",98,93,79,95),\n",
    "    Student(\"BBB\",78,87,87,91),\n",
    "    Student(\"CCC\",87,88,83,93),\n",
    "    Student(\"DDD\",79,92,99,88),\n",
    "    Student(\"EEE\",92,98,94,83),\n",
    "    Student(\"FFF\",94,99,98,77),\n",
    "    Student(\"GGG\",84,96,99,79),\n",
    "    Student(\"HHH\",87,78,88,95)\n",
    "]\n",
    "students"
   ]
  },
  {
   "cell_type": "code",
   "execution_count": 48,
   "id": "3f0fc681",
   "metadata": {},
   "outputs": [
    {
     "data": {
      "text/plain": [
       "<__main__.Student at 0x29c710ba8e0>"
      ]
     },
     "execution_count": 48,
     "metadata": {},
     "output_type": "execute_result"
    }
   ],
   "source": [
    "students[0]"
   ]
  },
  {
   "cell_type": "code",
   "execution_count": 49,
   "id": "5e6339e5",
   "metadata": {},
   "outputs": [
    {
     "data": {
      "text/plain": [
       "'AAA'"
      ]
     },
     "execution_count": 49,
     "metadata": {},
     "output_type": "execute_result"
    }
   ],
   "source": [
    "students[0].name"
   ]
  },
  {
   "cell_type": "code",
   "execution_count": 50,
   "id": "0e42ed56",
   "metadata": {},
   "outputs": [
    {
     "data": {
      "text/plain": [
       "98"
      ]
     },
     "execution_count": 50,
     "metadata": {},
     "output_type": "execute_result"
    }
   ],
   "source": [
    "students[0].korean"
   ]
  },
  {
   "cell_type": "code",
   "execution_count": 51,
   "id": "5460e42b",
   "metadata": {},
   "outputs": [
    {
     "data": {
      "text/plain": [
       "'HHH'"
      ]
     },
     "execution_count": 51,
     "metadata": {},
     "output_type": "execute_result"
    }
   ],
   "source": [
    "students[7].name"
   ]
  },
  {
   "cell_type": "code",
   "execution_count": 136,
   "id": "b198ba72",
   "metadata": {},
   "outputs": [],
   "source": [
    "class Student: # 파이썬에서 클래스의 이름 맨 앞글자를 대문자로\n",
    "    # 생성자 : 뭔가 틀을 만들 때, 그 틀의 속성들을 지정을 해줍니다\n",
    "    def __init__(self, name, korean, math, english, science):\n",
    "        self.name = name\n",
    "        self.korean = korean\n",
    "        self.math = math\n",
    "        self.english = english\n",
    "        self.science=science\n",
    "    ### 메서드 : 기능 #################\n",
    "    def get_sum(self): # 객체가 가지고 있는 4과목 성정의 합을 알려주는 기능\n",
    "        score_sum = self.korean + self.math + self.english + self.science\n",
    "        return score_sum\n",
    "    def get_avg(self):\n",
    "        score_avg = self.get_sum() / 4\n",
    "        return score_avg\n",
    "    def to_string(self):\n",
    "        temp = \"{0}\\t{1}\\t{2}\".format(self.name, self.get_sum(), self.get_avg())\n",
    "        return temp\n",
    "    ### 특별 메서드 : str( ) : 언더바 양쪽으로 두 개 ######\n",
    "    def __str__(self):\n",
    "        temp = \"{0}\\t{1}\\t{2}\".format(self.name, self.get_sum(),self.get_avg())\n",
    "        return temp\n",
    "    ###############################################\n",
    "    "
   ]
  },
  {
   "cell_type": "code",
   "execution_count": 137,
   "id": "df91d01b",
   "metadata": {},
   "outputs": [
    {
     "data": {
      "text/plain": [
       "[<__main__.Student at 0x29c710d5310>,\n",
       " <__main__.Student at 0x29c710d5eb0>,\n",
       " <__main__.Student at 0x29c710d5d30>,\n",
       " <__main__.Student at 0x29c710d5400>,\n",
       " <__main__.Student at 0x29c710d5460>,\n",
       " <__main__.Student at 0x29c710d5220>,\n",
       " <__main__.Student at 0x29c710d5640>,\n",
       " <__main__.Student at 0x29c710dfb80>]"
      ]
     },
     "execution_count": 137,
     "metadata": {},
     "output_type": "execute_result"
    }
   ],
   "source": [
    "students = [\n",
    "    Student(\"AAA\",98,93,79,95),\n",
    "    Student(\"BBB\",78,87,87,91),\n",
    "    Student(\"CCC\",87,88,83,93),\n",
    "    Student(\"DDD\",79,92,99,88),\n",
    "    Student(\"EEE\",92,98,94,83),\n",
    "    Student(\"FFF\",94,99,98,77),\n",
    "    Student(\"GGG\",84,96,99,79),\n",
    "    Student(\"HHH\",87,78,88,95)\n",
    "]\n",
    "students"
   ]
  },
  {
   "cell_type": "code",
   "execution_count": 54,
   "id": "2ff6f9b6",
   "metadata": {},
   "outputs": [
    {
     "data": {
      "text/plain": [
       "<__main__.Student at 0x29c710a3be0>"
      ]
     },
     "execution_count": 54,
     "metadata": {},
     "output_type": "execute_result"
    }
   ],
   "source": [
    "students[0]"
   ]
  },
  {
   "cell_type": "code",
   "execution_count": 133,
   "id": "4de6685c",
   "metadata": {},
   "outputs": [
    {
     "data": {
      "text/plain": [
       "'AAA'"
      ]
     },
     "execution_count": 133,
     "metadata": {},
     "output_type": "execute_result"
    }
   ],
   "source": [
    "students[0].name"
   ]
  },
  {
   "cell_type": "code",
   "execution_count": 56,
   "id": "235e2841",
   "metadata": {},
   "outputs": [
    {
     "data": {
      "text/plain": [
       "79"
      ]
     },
     "execution_count": 56,
     "metadata": {},
     "output_type": "execute_result"
    }
   ],
   "source": [
    "students[0].english"
   ]
  },
  {
   "cell_type": "code",
   "execution_count": 57,
   "id": "9850adfc",
   "metadata": {},
   "outputs": [
    {
     "data": {
      "text/plain": [
       "365"
      ]
     },
     "execution_count": 57,
     "metadata": {},
     "output_type": "execute_result"
    }
   ],
   "source": [
    "students[0].get_sum()"
   ]
  },
  {
   "cell_type": "code",
   "execution_count": 58,
   "id": "d434171b",
   "metadata": {},
   "outputs": [
    {
     "data": {
      "text/plain": [
       "91.25"
      ]
     },
     "execution_count": 58,
     "metadata": {},
     "output_type": "execute_result"
    }
   ],
   "source": [
    "students[0].get_avg()"
   ]
  },
  {
   "cell_type": "code",
   "execution_count": 59,
   "id": "b978ae91",
   "metadata": {},
   "outputs": [
    {
     "data": {
      "text/plain": [
       "'AAA\\t365\\t91.25'"
      ]
     },
     "execution_count": 59,
     "metadata": {},
     "output_type": "execute_result"
    }
   ],
   "source": [
    "students[0].to_string()"
   ]
  },
  {
   "cell_type": "code",
   "execution_count": 134,
   "id": "57e1cdbd",
   "metadata": {},
   "outputs": [
    {
     "name": "stdout",
     "output_type": "stream",
     "text": [
      "이름\t총점\t평균\n",
      "AAA\t365\t91.25\n",
      "BBB\t343\t85.75\n",
      "CCC\t351\t87.75\n",
      "DDD\t358\t89.5\n",
      "EEE\t367\t91.75\n",
      "FFF\t368\t92.0\n",
      "GGG\t358\t89.5\n",
      "HHH\t348\t87.0\n"
     ]
    }
   ],
   "source": [
    "print (\"이름\",\"총점\",\"평균\", sep = \"\\t\")\n",
    "for std in students:\n",
    "    print(std.to_string())"
   ]
  },
  {
   "cell_type": "code",
   "execution_count": 138,
   "id": "3c3c4557",
   "metadata": {},
   "outputs": [
    {
     "name": "stdout",
     "output_type": "stream",
     "text": [
      "이름\t총점\t평균\n",
      "AAA\t365\t91.25\n",
      "BBB\t343\t85.75\n",
      "CCC\t351\t87.75\n",
      "DDD\t358\t89.5\n",
      "EEE\t367\t91.75\n",
      "FFF\t368\t92.0\n",
      "GGG\t358\t89.5\n",
      "HHH\t348\t87.0\n"
     ]
    }
   ],
   "source": [
    "print(\"이름\",\"총점\",\"평균\",sep=\"\\t\")\n",
    "for std in students:\n",
    "    print(str(std)) # 파이썬의 기본함수 str에 대해서 내가 만든 Student가 동작하도록 정의"
   ]
  },
  {
   "cell_type": "markdown",
   "id": "bdf992f0",
   "metadata": {},
   "source": [
    "#### 생성자와 소멸자"
   ]
  },
  {
   "cell_type": "code",
   "execution_count": 139,
   "id": "f0a3beba",
   "metadata": {},
   "outputs": [],
   "source": [
    "class Test:\n",
    "    def __init__(self, name):\n",
    "        self.name = name\n",
    "        print(\"--Test 클래스 생성됨--\")\n",
    "    def __del__(self):\n",
    "        print(\"--Test 클래스가 제거됨--\")"
   ]
  },
  {
   "cell_type": "code",
   "execution_count": 140,
   "id": "47080c2b",
   "metadata": {},
   "outputs": [
    {
     "name": "stdout",
     "output_type": "stream",
     "text": [
      "--Test 클래스 생성됨--\n"
     ]
    },
    {
     "data": {
      "text/plain": [
       "<__main__.Test at 0x29c710d5d60>"
      ]
     },
     "execution_count": 140,
     "metadata": {},
     "output_type": "execute_result"
    }
   ],
   "source": [
    "a = Test(\"abcd\")\n",
    "a"
   ]
  },
  {
   "cell_type": "code",
   "execution_count": 141,
   "id": "a62a498b",
   "metadata": {},
   "outputs": [
    {
     "data": {
      "text/plain": [
       "'abcd'"
      ]
     },
     "execution_count": 141,
     "metadata": {},
     "output_type": "execute_result"
    }
   ],
   "source": [
    "a.name"
   ]
  },
  {
   "cell_type": "code",
   "execution_count": 72,
   "id": "482494b2",
   "metadata": {},
   "outputs": [],
   "source": [
    "class Student: # 파이썬에서 클래스의 이름 맨 앞글자를 대문자로\n",
    "    # 생성자 : 뭔가 틀을 만들 때, 그 틀의 속성들을 지정을 해줍니다\n",
    "    def __init__(self, name, korean, math, english, science):\n",
    "        self.name = name\n",
    "        self.korean = korean\n",
    "        self.math = math\n",
    "        self.english = english\n",
    "        self.science=science\n",
    "    ### 메서드 : 기능 #######################################################\n",
    "    def get_sum(self): # 객체가 가지고 있는 4과목 성정의 합을 알려주는 기능\n",
    "        score_sum = self.korean + self.math + self.english + self.science\n",
    "        return score_sum\n",
    "    def get_avg(self):\n",
    "        score_avg = self.get_sum() / 4\n",
    "        return score_avg\n",
    "    def to_string(self):\n",
    "        temp = \"{0}\\t{1}\\t{2}\".format(self.name, self.get_sum(), self.get_avg())\n",
    "        return temp\n",
    "    ############################################################################\n",
    "    \n",
    "    ### 특별 메서드 : str( ) : 언더바 양쪽으로 두 개 ###########################\n",
    "    # dq : 비교 ==\n",
    "    # ne : !=\n",
    "    # gt : > 크기\n",
    "    # ge : >=\n",
    "    # lt : <\n",
    "    # le : <=\n",
    "    def __str__(self):\n",
    "        temp = \"{0}\\t{1}\\t{2}\".format(self, name, self.get_sum(),self.get_avg())\n",
    "        return temp\n",
    "    # 특수 메서드에 대한 비교/부등식 -> 총점에 대한 비교로 사용하려고 설계\n",
    "    def __eq__(self, value):\n",
    "        return self.get_sum() == value.get_sum()\n",
    "    def __ne__(self,value):\n",
    "        return self.get_sum() != value.get_sum()\n",
    "    def __gt__(self, value):\n",
    "        return self.get_sum() > value.get_sum()\n",
    "    def __ge__(self, value):\n",
    "        return self.get_sum() >= value.get_sum()\n",
    "    def __lt__(self, value):\n",
    "        return self.get_sum() < value.get_sum()\n",
    "    def __le__(self, value):\n",
    "        return self.get_sum() <= value.get_sum()\n",
    "    ##############################################################################"
   ]
  },
  {
   "cell_type": "code",
   "execution_count": 73,
   "id": "c7b5a7a4",
   "metadata": {},
   "outputs": [],
   "source": [
    "std1 = Student(\"XXX\", 10,20,30,40) #sum 100\n",
    "std2 = Student(\"YYY\", 11,21,31,41) #sum 104"
   ]
  },
  {
   "cell_type": "code",
   "execution_count": 74,
   "id": "a803bcf3",
   "metadata": {},
   "outputs": [
    {
     "data": {
      "text/plain": [
       "False"
      ]
     },
     "execution_count": 74,
     "metadata": {},
     "output_type": "execute_result"
    }
   ],
   "source": [
    "std1 == std2  #설계를 get_sum()으로 했기 때문에 합이 같다면 True로 나옴"
   ]
  },
  {
   "cell_type": "code",
   "execution_count": 76,
   "id": "4de4fff1",
   "metadata": {},
   "outputs": [
    {
     "data": {
      "text/plain": [
       "True"
      ]
     },
     "execution_count": 76,
     "metadata": {},
     "output_type": "execute_result"
    }
   ],
   "source": [
    "std1 <= std2"
   ]
  },
  {
   "cell_type": "code",
   "execution_count": 77,
   "id": "7320e851",
   "metadata": {},
   "outputs": [
    {
     "ename": "AttributeError",
     "evalue": "'int' object has no attribute 'get_sum'",
     "output_type": "error",
     "traceback": [
      "\u001b[1;31m---------------------------------------------------------------------------\u001b[0m",
      "\u001b[1;31mAttributeError\u001b[0m                            Traceback (most recent call last)",
      "\u001b[1;32m~\\AppData\\Local\\Temp/ipykernel_34300/4187775770.py\u001b[0m in \u001b[0;36m<module>\u001b[1;34m\u001b[0m\n\u001b[1;32m----> 1\u001b[1;33m \u001b[0mstd1\u001b[0m \u001b[1;33m>\u001b[0m \u001b[1;36m10\u001b[0m\u001b[1;33m\u001b[0m\u001b[1;33m\u001b[0m\u001b[0m\n\u001b[0m",
      "\u001b[1;32m~\\AppData\\Local\\Temp/ipykernel_34300/3895399518.py\u001b[0m in \u001b[0;36m__gt__\u001b[1;34m(self, value)\u001b[0m\n\u001b[0;32m     35\u001b[0m         \u001b[1;32mreturn\u001b[0m \u001b[0mself\u001b[0m\u001b[1;33m.\u001b[0m\u001b[0mget_sum\u001b[0m\u001b[1;33m(\u001b[0m\u001b[1;33m)\u001b[0m \u001b[1;33m!=\u001b[0m \u001b[0mvalue\u001b[0m\u001b[1;33m.\u001b[0m\u001b[0mget_sum\u001b[0m\u001b[1;33m(\u001b[0m\u001b[1;33m)\u001b[0m\u001b[1;33m\u001b[0m\u001b[1;33m\u001b[0m\u001b[0m\n\u001b[0;32m     36\u001b[0m     \u001b[1;32mdef\u001b[0m \u001b[0m__gt__\u001b[0m\u001b[1;33m(\u001b[0m\u001b[0mself\u001b[0m\u001b[1;33m,\u001b[0m \u001b[0mvalue\u001b[0m\u001b[1;33m)\u001b[0m\u001b[1;33m:\u001b[0m\u001b[1;33m\u001b[0m\u001b[1;33m\u001b[0m\u001b[0m\n\u001b[1;32m---> 37\u001b[1;33m         \u001b[1;32mreturn\u001b[0m \u001b[0mself\u001b[0m\u001b[1;33m.\u001b[0m\u001b[0mget_sum\u001b[0m\u001b[1;33m(\u001b[0m\u001b[1;33m)\u001b[0m \u001b[1;33m>\u001b[0m \u001b[0mvalue\u001b[0m\u001b[1;33m.\u001b[0m\u001b[0mget_sum\u001b[0m\u001b[1;33m(\u001b[0m\u001b[1;33m)\u001b[0m\u001b[1;33m\u001b[0m\u001b[1;33m\u001b[0m\u001b[0m\n\u001b[0m\u001b[0;32m     38\u001b[0m     \u001b[1;32mdef\u001b[0m \u001b[0m__ge__\u001b[0m\u001b[1;33m(\u001b[0m\u001b[0mself\u001b[0m\u001b[1;33m,\u001b[0m \u001b[0mvalue\u001b[0m\u001b[1;33m)\u001b[0m\u001b[1;33m:\u001b[0m\u001b[1;33m\u001b[0m\u001b[1;33m\u001b[0m\u001b[0m\n\u001b[0;32m     39\u001b[0m         \u001b[1;32mreturn\u001b[0m \u001b[0mself\u001b[0m\u001b[1;33m.\u001b[0m\u001b[0mget_sum\u001b[0m\u001b[1;33m(\u001b[0m\u001b[1;33m)\u001b[0m \u001b[1;33m>=\u001b[0m \u001b[0mvalue\u001b[0m\u001b[1;33m.\u001b[0m\u001b[0mget_sum\u001b[0m\u001b[1;33m(\u001b[0m\u001b[1;33m)\u001b[0m\u001b[1;33m\u001b[0m\u001b[1;33m\u001b[0m\u001b[0m\n",
      "\u001b[1;31mAttributeError\u001b[0m: 'int' object has no attribute 'get_sum'"
     ]
    }
   ],
   "source": [
    "std1 > 10 #클래스끼리 비교해야함"
   ]
  },
  {
   "cell_type": "code",
   "execution_count": 150,
   "id": "f34e0ce1",
   "metadata": {},
   "outputs": [],
   "source": [
    "class Student: # 파이썬에서 클래스의 이름 맨 앞글자를 대문자로\n",
    "    # 생성자 : 뭔가 틀을 만들 때, 그 틀의 속성들을 지정을 해줍니다\n",
    "    def __init__(self, name, korean, math, english, science):\n",
    "        self.name = name\n",
    "        self.korean = korean\n",
    "        self.math = math\n",
    "        self.english = english\n",
    "        self.science=science\n",
    "    ### 메서드 : 기능 #######################################################\n",
    "    def get_sum(self): # 객체가 가지고 있는 4과목 성정의 합을 알려주는 기능\n",
    "        score_sum = self.korean + self.math + self.english + self.science\n",
    "        return score_sum\n",
    "    def get_avg(self):\n",
    "        score_avg = self.get_sum() / 4\n",
    "        return score_avg\n",
    "    def to_string(self):\n",
    "        temp = \"{0}\\t{1}\\t{2}\".format(self.name, self.get_sum(), self.get_avg())\n",
    "        return temp\n",
    "    ############################################################################\n",
    "    \n",
    "    ### 특별 메서드 : str( ) : 언더바 양쪽으로 두 개 ###########################\n",
    "    # dq : 비교 ==\n",
    "    # ne : !=\n",
    "    # gt : > 크기\n",
    "    # ge : >=\n",
    "    # lt : <\n",
    "    # le : <=\n",
    "    def __str__(self):\n",
    "        temp = \"{0}\\t{1}\\t{2}\".format(self, name, self.get_sum(),self.get_avg())\n",
    "        return temp\n",
    "    # 특수 메서드에 대한 비교/부등식 -> 총점에 대한 비교로 사용하려고 설계\n",
    "    def __eq__(self, value):\n",
    "        if not isinstance(value, Student) : #isinstance(객체, 클래스)\n",
    "            raise TypeError(\"Student Class로 생성된 인스턴스끼리만 비교가능합니다\")\n",
    "        return self.get_sum() == value.get_sum()\n",
    "    def __ne__(self,value):\n",
    "        return self.get_sum() != value.get_sum()\n",
    "    def __gt__(self, value):\n",
    "        return self.get_sum() > value.get_sum()\n",
    "    def __ge__(self, value):\n",
    "        return self.get_sum() >= value.get_sum()\n",
    "    def __lt__(self, value):\n",
    "        return self.get_sum() < value.get_sum()\n",
    "    def __le__(self, value):\n",
    "        return self.get_sum() <= value.get_sum()\n",
    "    ##############################################################################"
   ]
  },
  {
   "cell_type": "code",
   "execution_count": 151,
   "id": "5da61bb0",
   "metadata": {},
   "outputs": [],
   "source": [
    "std1 = Student(\"xx\",10,20,30,40)\n",
    "std2 = Student(\"yy\",40,30,20,10)"
   ]
  },
  {
   "cell_type": "code",
   "execution_count": 152,
   "id": "b28878ac",
   "metadata": {},
   "outputs": [
    {
     "data": {
      "text/plain": [
       "True"
      ]
     },
     "execution_count": 152,
     "metadata": {},
     "output_type": "execute_result"
    }
   ],
   "source": [
    "std1 == std2"
   ]
  },
  {
   "cell_type": "code",
   "execution_count": 153,
   "id": "c8986385",
   "metadata": {},
   "outputs": [
    {
     "ename": "TypeError",
     "evalue": "Student Class로 생성된 인스턴스끼리만 비교가능합니다",
     "output_type": "error",
     "traceback": [
      "\u001b[1;31m---------------------------------------------------------------------------\u001b[0m",
      "\u001b[1;31mTypeError\u001b[0m                                 Traceback (most recent call last)",
      "\u001b[1;32m~\\AppData\\Local\\Temp/ipykernel_34300/1403796212.py\u001b[0m in \u001b[0;36m<module>\u001b[1;34m\u001b[0m\n\u001b[1;32m----> 1\u001b[1;33m \u001b[0mstd1\u001b[0m \u001b[1;33m==\u001b[0m \u001b[1;36m100\u001b[0m\u001b[1;33m\u001b[0m\u001b[1;33m\u001b[0m\u001b[0m\n\u001b[0m",
      "\u001b[1;32m~\\AppData\\Local\\Temp/ipykernel_34300/3016618257.py\u001b[0m in \u001b[0;36m__eq__\u001b[1;34m(self, value)\u001b[0m\n\u001b[0;32m     32\u001b[0m     \u001b[1;32mdef\u001b[0m \u001b[0m__eq__\u001b[0m\u001b[1;33m(\u001b[0m\u001b[0mself\u001b[0m\u001b[1;33m,\u001b[0m \u001b[0mvalue\u001b[0m\u001b[1;33m)\u001b[0m\u001b[1;33m:\u001b[0m\u001b[1;33m\u001b[0m\u001b[1;33m\u001b[0m\u001b[0m\n\u001b[0;32m     33\u001b[0m         \u001b[1;32mif\u001b[0m \u001b[1;32mnot\u001b[0m \u001b[0misinstance\u001b[0m\u001b[1;33m(\u001b[0m\u001b[0mvalue\u001b[0m\u001b[1;33m,\u001b[0m \u001b[0mStudent\u001b[0m\u001b[1;33m)\u001b[0m \u001b[1;33m:\u001b[0m \u001b[1;31m#isinstance(객체, 클래스)\u001b[0m\u001b[1;33m\u001b[0m\u001b[1;33m\u001b[0m\u001b[0m\n\u001b[1;32m---> 34\u001b[1;33m             \u001b[1;32mraise\u001b[0m \u001b[0mTypeError\u001b[0m\u001b[1;33m(\u001b[0m\u001b[1;34m\"Student Class로 생성된 인스턴스끼리만 비교가능합니다\"\u001b[0m\u001b[1;33m)\u001b[0m\u001b[1;33m\u001b[0m\u001b[1;33m\u001b[0m\u001b[0m\n\u001b[0m\u001b[0;32m     35\u001b[0m         \u001b[1;32mreturn\u001b[0m \u001b[0mself\u001b[0m\u001b[1;33m.\u001b[0m\u001b[0mget_sum\u001b[0m\u001b[1;33m(\u001b[0m\u001b[1;33m)\u001b[0m \u001b[1;33m==\u001b[0m \u001b[0mvalue\u001b[0m\u001b[1;33m.\u001b[0m\u001b[0mget_sum\u001b[0m\u001b[1;33m(\u001b[0m\u001b[1;33m)\u001b[0m\u001b[1;33m\u001b[0m\u001b[1;33m\u001b[0m\u001b[0m\n\u001b[0;32m     36\u001b[0m     \u001b[1;32mdef\u001b[0m \u001b[0m__ne__\u001b[0m\u001b[1;33m(\u001b[0m\u001b[0mself\u001b[0m\u001b[1;33m,\u001b[0m\u001b[0mvalue\u001b[0m\u001b[1;33m)\u001b[0m\u001b[1;33m:\u001b[0m\u001b[1;33m\u001b[0m\u001b[1;33m\u001b[0m\u001b[0m\n",
      "\u001b[1;31mTypeError\u001b[0m: Student Class로 생성된 인스턴스끼리만 비교가능합니다"
     ]
    }
   ],
   "source": [
    "std1 == 100"
   ]
  },
  {
   "cell_type": "markdown",
   "id": "4de73c1b",
   "metadata": {},
   "source": [
    "#### 클래스 공장 레벨에서의 변수와 함수에 대해서 \n",
    "* 주의사항) 생성한 객체 단위가 아니라 찍어내는 공장단위이다\n",
    "* 지금까지 내가 생성한 객체의 수를 확인용도로 내부에 바코드 같은 것을 심어두겠다"
   ]
  },
  {
   "cell_type": "code",
   "execution_count": 85,
   "id": "a447d0bb",
   "metadata": {},
   "outputs": [],
   "source": [
    "class Student: # 파이썬에서 클래스의 이름 맨 앞글자를 대문자로\n",
    "    #### 지금까지 이 클래스로 몇 개가 생성이 되는지 기록\n",
    "    count = 0\n",
    "    \n",
    "    # 생성자 : 뭔가 틀을 만들 때, 그 틀의 속성들을 지정을 해줍니다\n",
    "    def __init__(self, name, korean, math, english, science):\n",
    "        self.name = name\n",
    "        self.korean = korean\n",
    "        self.math = math\n",
    "        self.english = english\n",
    "        self.science=science\n",
    "        #########################\n",
    "        Student.count += 1\n",
    "        print(\"{}번째 학생이 생성되었습니다\".format(Student.count))\n",
    "        ##########################\n",
    "    ### 메서드 : 기능 \n",
    "    def get_sum(self): # 객체가 가지고 있는 4과목 성정의 합을 알려주는 기능\n",
    "        score_sum = self.korean + self.math + self.english + self.science\n",
    "        return score_sum\n",
    "    def get_avg(self):\n",
    "        score_avg = self.get_sum() / 4\n",
    "        return score_avg\n",
    "    def to_string(self):\n",
    "        temp = \"{0}\\t{1}\\t{2}\".format(self.name, self.get_sum(), self.get_avg())\n",
    "        return temp\n",
    "\n",
    "    \n",
    "    ### 특별 메서드 : str( ) : 언더바 양쪽으로 두 개\n",
    "    # dq : 비교 ==\n",
    "    # ne : !=\n",
    "    # gt : > 크기\n",
    "    # ge : >=\n",
    "    # lt : <\n",
    "    # le : <=\n",
    "    def __str__(self):\n",
    "        temp = \"{0}\\t{1}\\t{2}\".format(self, name, self.get_sum(),self.get_avg())\n",
    "        return temp\n",
    "    # 특수 메서드에 대한 비교/부등식 -> 총점에 대한 비교로 사용하려고 설계\n",
    "    def __eq__(self, value):\n",
    "        if not isinstance(value, Student) :   #isinstance(객체, 클래스)\n",
    "            raise TypeError(\"Student Class로 생성된 인스턴스끼리만 비교 가능합니다\")\n",
    "        return self.get_sum() == value.get_sum()\n",
    "    def __ne__(self,value):\n",
    "        return self.get_sum() != value.get_sum()\n",
    "    def __gt__(self, value):\n",
    "        return self.get_sum() > value.get_sum()\n",
    "    def __ge__(self, value):\n",
    "        return self.get_sum() >= value.get_sum()\n",
    "    def __lt__(self, value):\n",
    "        return self.get_sum() < value.get_sum()\n",
    "    def __le__(self, value):\n",
    "        return self.get_sum() <= value.get_sum()\n"
   ]
  },
  {
   "cell_type": "code",
   "execution_count": 86,
   "id": "9d3034ce",
   "metadata": {},
   "outputs": [
    {
     "name": "stdout",
     "output_type": "stream",
     "text": [
      "1번째 학생이 생성되었습니다\n",
      "2번째 학생이 생성되었습니다\n",
      "3번째 학생이 생성되었습니다\n",
      "4번째 학생이 생성되었습니다\n",
      "5번째 학생이 생성되었습니다\n",
      "6번째 학생이 생성되었습니다\n",
      "7번째 학생이 생성되었습니다\n",
      "8번째 학생이 생성되었습니다\n"
     ]
    },
    {
     "data": {
      "text/plain": [
       "[<__main__.Student at 0x29c710d5c70>,\n",
       " <__main__.Student at 0x29c710d5d00>,\n",
       " <__main__.Student at 0x29c710d5b20>,\n",
       " <__main__.Student at 0x29c710d52b0>,\n",
       " <__main__.Student at 0x29c710d5280>,\n",
       " <__main__.Student at 0x29c710d5670>,\n",
       " <__main__.Student at 0x29c710d5ca0>,\n",
       " <__main__.Student at 0x29c710ba970>]"
      ]
     },
     "execution_count": 86,
     "metadata": {},
     "output_type": "execute_result"
    }
   ],
   "source": [
    "students = [\n",
    "    Student(\"AAA\",98,93,79,95),\n",
    "    Student(\"BBB\",78,87,87,91),\n",
    "    Student(\"CCC\",87,88,83,93),\n",
    "    Student(\"DDD\",79,92,99,88),\n",
    "    Student(\"EEE\",92,98,94,83),\n",
    "    Student(\"FFF\",94,99,98,77),\n",
    "    Student(\"GGG\",84,96,99,79),\n",
    "    Student(\"HHH\",87,78,88,95)\n",
    "]\n",
    "students"
   ]
  },
  {
   "cell_type": "code",
   "execution_count": 87,
   "id": "98b7946f",
   "metadata": {},
   "outputs": [
    {
     "data": {
      "text/plain": [
       "8"
      ]
     },
     "execution_count": 87,
     "metadata": {},
     "output_type": "execute_result"
    }
   ],
   "source": [
    "Student.count"
   ]
  },
  {
   "cell_type": "markdown",
   "id": "80f0023e",
   "metadata": {},
   "source": [
    "### 클래스가 가진 함수 : decorator"
   ]
  },
  {
   "cell_type": "code",
   "execution_count": 173,
   "id": "dcc8adae",
   "metadata": {},
   "outputs": [],
   "source": [
    "class Student: # 파이썬에서 클래스의 이름 맨 앞글자를 대문자로\n",
    "    #### 지금까지 이 클래스로 몇 개가 생성이 되는지 기록\n",
    "    count = 0\n",
    "    students = [] # 상품 출하 로그 기록\n",
    "    \n",
    "    @classmethod # decorator라고 이야기를 한다 -> 클래스의 기능/함수 not 객체\n",
    "    def cls_print(cls):\n",
    "        print(\"----------- 학생 목록 -------------\")\n",
    "        print(\"이름\\t총점\\t평균\")\n",
    "        for std in cls.students:\n",
    "            print(str(std))\n",
    "        print(\"-----------------------------------\")\n",
    "    \n",
    "    \n",
    "    # 생성자 : 뭔가 틀을 만들 때, 그 틀의 속성들을 지정을 해줍니다\n",
    "    def __init__(self, name, korean, math, english, science):\n",
    "        self.name = name\n",
    "        self.korean = korean\n",
    "        self.math = math\n",
    "        self.english = english\n",
    "        self.science=science\n",
    "        #########################\n",
    "        Student.count += 1\n",
    "        print(\"{}번째 학생이 생성되었습니다.\".format(Student.count))\n",
    "        Student.students.append(self)\n",
    "    ### 메서드 : 기능 #######################################################\n",
    "    def get_sum(self): # 객체가 가지고 있는 4과목 성정의 합을 알려주는 기능\n",
    "        score_sum = self.korean + self.math + self.english + self.science\n",
    "        return score_sum\n",
    "    def get_avg(self):\n",
    "        score_avg = self.get_sum() / 4\n",
    "        return score_avg\n",
    "    def to_string(self):\n",
    "        temp = \"{0}\\t{1}\\t{2}\".format(self.name, self.get_sum(), self.get_avg())\n",
    "        return temp\n",
    "    ############################################################################\n",
    "    \n",
    "    ### 특별 메서드 : str( ) : 언더바 양쪽으로 두 개 ###########################\n",
    "    # dq : 비교 ==\n",
    "    # ne : !=\n",
    "    # gt : > 크기\n",
    "    # ge : >=\n",
    "    # lt : <\n",
    "    # le : <=\n",
    "    def __str__(self):\n",
    "        temp = \"{0}\\t{1}\\t{2}\".format(self.name, self.get_sum(), self.get_avg())\n",
    "        return temp\n",
    "    # 특수 메서드에 대한 비교/부등식 -> 총점에 대한 비교로 사용하려고 설계\n",
    "    def __eq__(self, value):\n",
    "        if not isinstance(value, Student) :   #isinstance(객체, 클래스)\n",
    "            raise TypeError(\"Student Class로 생성된 인스턴스끼리만 비교 가능합니다\")\n",
    "        return self.get_sum() == value.get_sum()\n",
    "    def __ne__(self,value):\n",
    "        return self.get_sum() != value.get_sum()\n",
    "    def __gt__(self, value):\n",
    "        return self.get_sum() > value.get_sum()\n",
    "    def __ge__(self, value):\n",
    "        return self.get_sum() >= value.get_sum()\n",
    "    def __lt__(self, value):\n",
    "        return self.get_sum() < value.get_sum()\n",
    "    def __le__(self, value):\n",
    "        return self.get_sum() <= value.get_sum()\n",
    "    ##############################################################################"
   ]
  },
  {
   "cell_type": "code",
   "execution_count": 174,
   "id": "0a7377c4",
   "metadata": {},
   "outputs": [
    {
     "name": "stdout",
     "output_type": "stream",
     "text": [
      "1번째 학생이 생성되었습니다.\n",
      "2번째 학생이 생성되었습니다.\n",
      "3번째 학생이 생성되었습니다.\n",
      "4번째 학생이 생성되었습니다.\n",
      "5번째 학생이 생성되었습니다.\n",
      "6번째 학생이 생성되었습니다.\n",
      "7번째 학생이 생성되었습니다.\n",
      "8번째 학생이 생성되었습니다.\n"
     ]
    },
    {
     "data": {
      "text/plain": [
       "[<__main__.Student at 0x29c710a3700>,\n",
       " <__main__.Student at 0x29c710a3d60>,\n",
       " <__main__.Student at 0x29c710ba760>,\n",
       " <__main__.Student at 0x29c710ba310>,\n",
       " <__main__.Student at 0x29c7112d670>,\n",
       " <__main__.Student at 0x29c70f91fd0>,\n",
       " <__main__.Student at 0x29c710dfcd0>,\n",
       " <__main__.Student at 0x29c710dffa0>]"
      ]
     },
     "execution_count": 174,
     "metadata": {},
     "output_type": "execute_result"
    }
   ],
   "source": [
    "students = [\n",
    "    Student(\"AAA\",98,93,79,95),\n",
    "    Student(\"BBB\",78,87,87,91),\n",
    "    Student(\"CCC\",87,88,83,93),\n",
    "    Student(\"DDD\",79,92,99,88),\n",
    "    Student(\"EEE\",92,98,94,83),\n",
    "    Student(\"FFF\",94,99,98,77),\n",
    "    Student(\"GGG\",84,96,99,79),\n",
    "    Student(\"HHH\",87,78,88,95)\n",
    "]\n",
    "students"
   ]
  },
  {
   "cell_type": "code",
   "execution_count": 167,
   "id": "35dc8f0b",
   "metadata": {},
   "outputs": [
    {
     "data": {
      "text/plain": [
       "8"
      ]
     },
     "execution_count": 167,
     "metadata": {},
     "output_type": "execute_result"
    }
   ],
   "source": [
    "Student.count"
   ]
  },
  {
   "cell_type": "code",
   "execution_count": 168,
   "id": "100d55e4",
   "metadata": {},
   "outputs": [
    {
     "data": {
      "text/plain": [
       "[<__main__.Student at 0x29c710a3940>,\n",
       " <__main__.Student at 0x29c710a3250>,\n",
       " <__main__.Student at 0x29c710a3d00>,\n",
       " <__main__.Student at 0x29c710aca90>,\n",
       " <__main__.Student at 0x29c710ac250>,\n",
       " <__main__.Student at 0x29c710df9d0>,\n",
       " <__main__.Student at 0x29c710dfdf0>,\n",
       " <__main__.Student at 0x29c710df340>]"
      ]
     },
     "execution_count": 168,
     "metadata": {},
     "output_type": "execute_result"
    }
   ],
   "source": [
    "Student.students"
   ]
  },
  {
   "cell_type": "code",
   "execution_count": 175,
   "id": "ca6758c4",
   "metadata": {},
   "outputs": [
    {
     "name": "stdout",
     "output_type": "stream",
     "text": [
      "----------- 학생 목록 -------------\n",
      "이름\t총점\t평균\n",
      "AAA\t365\t91.25\n",
      "BBB\t343\t85.75\n",
      "CCC\t351\t87.75\n",
      "DDD\t358\t89.5\n",
      "EEE\t367\t91.75\n",
      "FFF\t368\t92.0\n",
      "GGG\t358\t89.5\n",
      "HHH\t348\t87.0\n",
      "-----------------------------------\n"
     ]
    }
   ],
   "source": [
    "Student.cls_print()"
   ]
  },
  {
   "cell_type": "markdown",
   "id": "900dcb12",
   "metadata": {},
   "source": [
    "#### 그러면 객체의 속성값에 대해서 접근여부"
   ]
  },
  {
   "cell_type": "code",
   "execution_count": 90,
   "id": "fb135e79",
   "metadata": {},
   "outputs": [],
   "source": [
    "import math"
   ]
  },
  {
   "cell_type": "code",
   "execution_count": 91,
   "id": "e17ea9ec",
   "metadata": {},
   "outputs": [],
   "source": [
    "class Square:\n",
    "    def __init__(self,size):\n",
    "        #self.size = size\n",
    "        self.__size = size  # 외부에서 이 속성값에 접근하지 못하게 설정\n",
    "    def get_total_length(self):\n",
    "        return self.__size * 4\n",
    "    def get_area(self):\n",
    "        return self.__size * self.__size "
   ]
  },
  {
   "cell_type": "code",
   "execution_count": 92,
   "id": "7e0dd347",
   "metadata": {},
   "outputs": [],
   "source": [
    "sql1 = Square(10) #Square라는 틀로 구체적인 값 10을 넣어서 sql1이라는 객체 생성"
   ]
  },
  {
   "cell_type": "code",
   "execution_count": 94,
   "id": "99d56c11",
   "metadata": {},
   "outputs": [
    {
     "data": {
      "text/plain": [
       "40"
      ]
     },
     "execution_count": 94,
     "metadata": {},
     "output_type": "execute_result"
    }
   ],
   "source": [
    "sql1.get_total_length()"
   ]
  },
  {
   "cell_type": "code",
   "execution_count": 95,
   "id": "339ede20",
   "metadata": {},
   "outputs": [
    {
     "data": {
      "text/plain": [
       "100"
      ]
     },
     "execution_count": 95,
     "metadata": {},
     "output_type": "execute_result"
    }
   ],
   "source": [
    "sql1.get_area()"
   ]
  },
  {
   "cell_type": "code",
   "execution_count": 96,
   "id": "3c61c83a",
   "metadata": {},
   "outputs": [
    {
     "ename": "AttributeError",
     "evalue": "'str' object has no attribute 'size'",
     "output_type": "error",
     "traceback": [
      "\u001b[1;31m---------------------------------------------------------------------------\u001b[0m",
      "\u001b[1;31mAttributeError\u001b[0m                            Traceback (most recent call last)",
      "\u001b[1;32m~\\AppData\\Local\\Temp/ipykernel_34300/2209654866.py\u001b[0m in \u001b[0;36m<module>\u001b[1;34m\u001b[0m\n\u001b[1;32m----> 1\u001b[1;33m \u001b[0msql\u001b[0m\u001b[1;33m.\u001b[0m\u001b[0msize\u001b[0m\u001b[1;33m\u001b[0m\u001b[1;33m\u001b[0m\u001b[0m\n\u001b[0m",
      "\u001b[1;31mAttributeError\u001b[0m: 'str' object has no attribute 'size'"
     ]
    }
   ],
   "source": [
    "sql1.size"
   ]
  },
  {
   "cell_type": "markdown",
   "id": "ab63799f",
   "metadata": {},
   "source": [
    "- 그래서 외부에서 접근을 하지 못하는 속성에 대해서 변경을 하기 위한 통로를 만들어 주어야 함 : getter,setter"
   ]
  },
  {
   "cell_type": "code",
   "execution_count": 97,
   "id": "df9ca1da",
   "metadata": {},
   "outputs": [],
   "source": [
    "class Square:\n",
    "    def __init__(self,size):\n",
    "        #self.size = size\n",
    "        self.__size = size  # 외부에서 이 속성값에 접근하지 못하게 설정\n",
    "    def get_total_length(self):\n",
    "        return self.__size * 4\n",
    "    def get_area(self):\n",
    "        return self.__size * self.__size \n",
    "    #########################################\n",
    "    #함수 통해서 우회적으로 접근\n",
    "    def get_size(self):\n",
    "        return self.__size\n",
    "    def set_size(self, value):\n",
    "        self.__size = value\n",
    "    ##########################################"
   ]
  },
  {
   "cell_type": "code",
   "execution_count": 100,
   "id": "65e78bd9",
   "metadata": {},
   "outputs": [
    {
     "name": "stdout",
     "output_type": "stream",
     "text": [
      "40\n",
      "100\n"
     ]
    }
   ],
   "source": [
    "sql1 = Square(10)\n",
    "print(sql1.get_total_length())\n",
    "print(sql1.get_area())"
   ]
  },
  {
   "cell_type": "code",
   "execution_count": 101,
   "id": "0b9d7416",
   "metadata": {},
   "outputs": [
    {
     "data": {
      "text/plain": [
       "10"
      ]
     },
     "execution_count": 101,
     "metadata": {},
     "output_type": "execute_result"
    }
   ],
   "source": [
    "sql1.get_size()"
   ]
  },
  {
   "cell_type": "code",
   "execution_count": 103,
   "id": "db9276de",
   "metadata": {},
   "outputs": [],
   "source": [
    "sql1.set_size(100)"
   ]
  },
  {
   "cell_type": "code",
   "execution_count": 105,
   "id": "0dd2c6ff",
   "metadata": {},
   "outputs": [
    {
     "data": {
      "text/plain": [
       "400"
      ]
     },
     "execution_count": 105,
     "metadata": {},
     "output_type": "execute_result"
    }
   ],
   "source": [
    "sql1.get_total_length()"
   ]
  },
  {
   "cell_type": "markdown",
   "id": "da07f3bf",
   "metadata": {},
   "source": [
    "> Square라는 클래스는 정사각형을 추상화를 해서 만든 클래스                                                            \n",
    "> set_size 매서드를 통해서 크기를 변경을 하려 하는데 -10길이의 정사각형이 들어오면 에러 발생 하도록"
   ]
  },
  {
   "cell_type": "code",
   "execution_count": 106,
   "id": "c477567b",
   "metadata": {},
   "outputs": [],
   "source": [
    "class Square:\n",
    "    def __init__(self,size):\n",
    "        #self.size = size\n",
    "        self.__size = size  # 외부에서 이 속성값에 접근하지 못하게 설정\n",
    "    def get_total_length(self):\n",
    "        return self.__size * 4\n",
    "    def get_area(self):\n",
    "        return self.__size * self.__size \n",
    "    #########################################\n",
    "    #함수 통해서 우회적으로 접근\n",
    "    def get_size(self):\n",
    "        return self.__size\n",
    "    def set_size(self, value):\n",
    "        if value <= 0:\n",
    "            raise TypeError(\"정사각형 길이는 양수여야 한다\")\n",
    "        self.__size = value\n",
    "    ##########################################"
   ]
  },
  {
   "cell_type": "code",
   "execution_count": 107,
   "id": "d4319231",
   "metadata": {},
   "outputs": [
    {
     "data": {
      "text/plain": [
       "10"
      ]
     },
     "execution_count": 107,
     "metadata": {},
     "output_type": "execute_result"
    }
   ],
   "source": [
    "sql1 = Square(10)\n",
    "sql1.get_size()"
   ]
  },
  {
   "cell_type": "code",
   "execution_count": 108,
   "id": "8a77f782",
   "metadata": {},
   "outputs": [
    {
     "data": {
      "text/plain": [
       "10000"
      ]
     },
     "execution_count": 108,
     "metadata": {},
     "output_type": "execute_result"
    }
   ],
   "source": [
    "sql1.set_size(100)\n",
    "sql1.get_area()"
   ]
  },
  {
   "cell_type": "code",
   "execution_count": 109,
   "id": "431e03f8",
   "metadata": {},
   "outputs": [
    {
     "ename": "TypeError",
     "evalue": "정사각형 길이는 양수여야 한다",
     "output_type": "error",
     "traceback": [
      "\u001b[1;31m---------------------------------------------------------------------------\u001b[0m",
      "\u001b[1;31mTypeError\u001b[0m                                 Traceback (most recent call last)",
      "\u001b[1;32m~\\AppData\\Local\\Temp/ipykernel_34300/4172719482.py\u001b[0m in \u001b[0;36m<module>\u001b[1;34m\u001b[0m\n\u001b[1;32m----> 1\u001b[1;33m \u001b[0msql1\u001b[0m\u001b[1;33m.\u001b[0m\u001b[0mset_size\u001b[0m\u001b[1;33m(\u001b[0m\u001b[1;33m-\u001b[0m\u001b[1;36m10\u001b[0m\u001b[1;33m)\u001b[0m\u001b[1;33m\u001b[0m\u001b[1;33m\u001b[0m\u001b[0m\n\u001b[0m\u001b[0;32m      2\u001b[0m \u001b[0msql1\u001b[0m\u001b[1;33m.\u001b[0m\u001b[0mget_area\u001b[0m\u001b[1;33m(\u001b[0m\u001b[1;33m)\u001b[0m\u001b[1;33m\u001b[0m\u001b[1;33m\u001b[0m\u001b[0m\n",
      "\u001b[1;32m~\\AppData\\Local\\Temp/ipykernel_34300/1081304864.py\u001b[0m in \u001b[0;36mset_size\u001b[1;34m(self, value)\u001b[0m\n\u001b[0;32m     13\u001b[0m     \u001b[1;32mdef\u001b[0m \u001b[0mset_size\u001b[0m\u001b[1;33m(\u001b[0m\u001b[0mself\u001b[0m\u001b[1;33m,\u001b[0m \u001b[0mvalue\u001b[0m\u001b[1;33m)\u001b[0m\u001b[1;33m:\u001b[0m\u001b[1;33m\u001b[0m\u001b[1;33m\u001b[0m\u001b[0m\n\u001b[0;32m     14\u001b[0m         \u001b[1;32mif\u001b[0m \u001b[0mvalue\u001b[0m \u001b[1;33m<=\u001b[0m \u001b[1;36m0\u001b[0m\u001b[1;33m:\u001b[0m\u001b[1;33m\u001b[0m\u001b[1;33m\u001b[0m\u001b[0m\n\u001b[1;32m---> 15\u001b[1;33m             \u001b[1;32mraise\u001b[0m \u001b[0mTypeError\u001b[0m\u001b[1;33m(\u001b[0m\u001b[1;34m\"정사각형 길이는 양수여야 한다\"\u001b[0m\u001b[1;33m)\u001b[0m\u001b[1;33m\u001b[0m\u001b[1;33m\u001b[0m\u001b[0m\n\u001b[0m\u001b[0;32m     16\u001b[0m         \u001b[0mself\u001b[0m\u001b[1;33m.\u001b[0m\u001b[0m__size\u001b[0m \u001b[1;33m=\u001b[0m \u001b[0mvalue\u001b[0m\u001b[1;33m\u001b[0m\u001b[1;33m\u001b[0m\u001b[0m\n\u001b[0;32m     17\u001b[0m     \u001b[1;31m##########################################\u001b[0m\u001b[1;33m\u001b[0m\u001b[1;33m\u001b[0m\u001b[0m\n",
      "\u001b[1;31mTypeError\u001b[0m: 정사각형 길이는 양수여야 한다"
     ]
    }
   ],
   "source": [
    "sql1.set_size(-10)\n",
    "sql1.get_area()"
   ]
  },
  {
   "cell_type": "markdown",
   "id": "a2a339fa",
   "metadata": {},
   "source": [
    "- 데코레이터를 활용해서 꾸며보자"
   ]
  },
  {
   "cell_type": "code",
   "execution_count": 111,
   "id": "e44141e7",
   "metadata": {},
   "outputs": [],
   "source": [
    "class Square:\n",
    "    def __init__(self,size):\n",
    "        #self.size = size\n",
    "        self.__size = size  # 외부에서 이 속성값에 접근하지 못하게 설정\n",
    "    def get_total_length(self):\n",
    "        return self.__size * 4\n",
    "    def get_area(self):\n",
    "        return self.__size * self.__size \n",
    "    #########################################\n",
    "    @property  # getter\n",
    "    def size(self):\n",
    "        return self.__size\n",
    "    \n",
    "    @size.setter #속성 size의 값을 변경하는데 setter로 사용하겠다\n",
    "    def size(self, value):\n",
    "        if value <= 0:\n",
    "            raise TypeError(\"정사각형 길이는 양수여야 합니다\")\n",
    "        self.__size = value\n",
    "    \n",
    "    ##########################################"
   ]
  },
  {
   "cell_type": "code",
   "execution_count": 112,
   "id": "1bca8a52",
   "metadata": {},
   "outputs": [
    {
     "data": {
      "text/plain": [
       "40"
      ]
     },
     "execution_count": 112,
     "metadata": {},
     "output_type": "execute_result"
    }
   ],
   "source": [
    "sql1 = Square(10)\n",
    "sql1.get_total_length()"
   ]
  },
  {
   "cell_type": "code",
   "execution_count": 113,
   "id": "dcbbc752",
   "metadata": {},
   "outputs": [
    {
     "data": {
      "text/plain": [
       "10"
      ]
     },
     "execution_count": 113,
     "metadata": {},
     "output_type": "execute_result"
    }
   ],
   "source": [
    "sql1.size"
   ]
  },
  {
   "cell_type": "code",
   "execution_count": 114,
   "id": "0ba9ba41",
   "metadata": {},
   "outputs": [],
   "source": [
    "sql1.size = 100"
   ]
  },
  {
   "cell_type": "code",
   "execution_count": 115,
   "id": "06df3e86",
   "metadata": {},
   "outputs": [
    {
     "data": {
      "text/plain": [
       "400"
      ]
     },
     "execution_count": 115,
     "metadata": {},
     "output_type": "execute_result"
    }
   ],
   "source": [
    "sql1.get_total_length()"
   ]
  },
  {
   "cell_type": "code",
   "execution_count": 116,
   "id": "59fc1d89",
   "metadata": {},
   "outputs": [
    {
     "ename": "TypeError",
     "evalue": "정사각형 길이는 양수여야 합니다",
     "output_type": "error",
     "traceback": [
      "\u001b[1;31m---------------------------------------------------------------------------\u001b[0m",
      "\u001b[1;31mTypeError\u001b[0m                                 Traceback (most recent call last)",
      "\u001b[1;32m~\\AppData\\Local\\Temp/ipykernel_34300/2949831072.py\u001b[0m in \u001b[0;36m<module>\u001b[1;34m\u001b[0m\n\u001b[1;32m----> 1\u001b[1;33m \u001b[0msql1\u001b[0m\u001b[1;33m.\u001b[0m\u001b[0msize\u001b[0m \u001b[1;33m=\u001b[0m \u001b[1;33m-\u001b[0m\u001b[1;36m10\u001b[0m\u001b[1;33m\u001b[0m\u001b[1;33m\u001b[0m\u001b[0m\n\u001b[0m",
      "\u001b[1;32m~\\AppData\\Local\\Temp/ipykernel_34300/1971677327.py\u001b[0m in \u001b[0;36msize\u001b[1;34m(self, value)\u001b[0m\n\u001b[0;32m     15\u001b[0m     \u001b[1;32mdef\u001b[0m \u001b[0msize\u001b[0m\u001b[1;33m(\u001b[0m\u001b[0mself\u001b[0m\u001b[1;33m,\u001b[0m \u001b[0mvalue\u001b[0m\u001b[1;33m)\u001b[0m\u001b[1;33m:\u001b[0m\u001b[1;33m\u001b[0m\u001b[1;33m\u001b[0m\u001b[0m\n\u001b[0;32m     16\u001b[0m         \u001b[1;32mif\u001b[0m \u001b[0mvalue\u001b[0m \u001b[1;33m<=\u001b[0m \u001b[1;36m0\u001b[0m\u001b[1;33m:\u001b[0m\u001b[1;33m\u001b[0m\u001b[1;33m\u001b[0m\u001b[0m\n\u001b[1;32m---> 17\u001b[1;33m             \u001b[1;32mraise\u001b[0m \u001b[0mTypeError\u001b[0m\u001b[1;33m(\u001b[0m\u001b[1;34m\"정사각형 길이는 양수여야 합니다\"\u001b[0m\u001b[1;33m)\u001b[0m\u001b[1;33m\u001b[0m\u001b[1;33m\u001b[0m\u001b[0m\n\u001b[0m\u001b[0;32m     18\u001b[0m         \u001b[0mself\u001b[0m\u001b[1;33m.\u001b[0m\u001b[0m__size\u001b[0m \u001b[1;33m=\u001b[0m \u001b[0mvalue\u001b[0m\u001b[1;33m\u001b[0m\u001b[1;33m\u001b[0m\u001b[0m\n\u001b[0;32m     19\u001b[0m \u001b[1;33m\u001b[0m\u001b[0m\n",
      "\u001b[1;31mTypeError\u001b[0m: 정사각형 길이는 양수여야 합니다"
     ]
    }
   ],
   "source": [
    "sql1.size = -10"
   ]
  },
  {
   "cell_type": "markdown",
   "id": "a6437972",
   "metadata": {},
   "source": [
    "### 상속"
   ]
  },
  {
   "cell_type": "markdown",
   "id": "2e29e4cb",
   "metadata": {},
   "source": [
    "* 상속 : 물려 받는 것에 대해서 이야기를 함"
   ]
  },
  {
   "cell_type": "code",
   "execution_count": 117,
   "id": "9bfecfd0",
   "metadata": {},
   "outputs": [],
   "source": [
    "class Parent:\n",
    "    def __init__(self):\n",
    "        self.value = \"Test\"\n",
    "        print(\"Parent Init~~\")\n",
    "    def test(self):\n",
    "        print(\"Parent Test Method~~\")"
   ]
  },
  {
   "cell_type": "code",
   "execution_count": 118,
   "id": "a9954acd",
   "metadata": {},
   "outputs": [],
   "source": [
    "class Child(Parent): #Parent 클래스를 상속해서 사용한다\n",
    "    def __init__(self):\n",
    "        Parent.__init__(self)\n",
    "        print(\"Child Init~~~\")\n",
    "    #Child에서는 기능도 test라는 매서드도 만들지 않았다\n",
    "    #왜? Parent에 이미 되어 있어서"
   ]
  },
  {
   "cell_type": "code",
   "execution_count": 119,
   "id": "18e36780",
   "metadata": {},
   "outputs": [
    {
     "name": "stdout",
     "output_type": "stream",
     "text": [
      "Parent Init~~\n",
      "Child Init~~~\n"
     ]
    }
   ],
   "source": [
    "child_1 = Child()"
   ]
  },
  {
   "cell_type": "code",
   "execution_count": 120,
   "id": "c9ff8569",
   "metadata": {},
   "outputs": [
    {
     "name": "stdout",
     "output_type": "stream",
     "text": [
      "Parent Test Method~~\n"
     ]
    }
   ],
   "source": [
    "child_1.test()"
   ]
  },
  {
   "cell_type": "code",
   "execution_count": 121,
   "id": "4d0e8352",
   "metadata": {},
   "outputs": [
    {
     "data": {
      "text/plain": [
       "'Test'"
      ]
     },
     "execution_count": 121,
     "metadata": {},
     "output_type": "execute_result"
    }
   ],
   "source": [
    "child_1.value"
   ]
  },
  {
   "cell_type": "markdown",
   "id": "9eb7f995",
   "metadata": {},
   "source": [
    "### try - except"
   ]
  },
  {
   "cell_type": "code",
   "execution_count": 122,
   "id": "fa6059cc",
   "metadata": {},
   "outputs": [
    {
     "name": "stdout",
     "output_type": "stream",
     "text": [
      "7 시간 12분 입니다\n"
     ]
    }
   ],
   "source": [
    "# ***분 -> **시간 **분 변환\n",
    "minutes_to_convert = 432\n",
    "\n",
    "hours_part = minutes_to_convert // 60\n",
    "minutes_part = minutes_to_convert % 60\n",
    "print(\"{0} 시간 {1}분 입니다\".format(hours_part, minutes_part))"
   ]
  },
  {
   "cell_type": "code",
   "execution_count": 123,
   "id": "ca8958ff",
   "metadata": {},
   "outputs": [
    {
     "name": "stdout",
     "output_type": "stream",
     "text": [
      "분을 입력하세요432\n",
      "7 시간 12분 입니다\n"
     ]
    }
   ],
   "source": [
    "#입력이 고정이 되니 계속하려니 불편하네 -> input함수\n",
    "minutes_to_convert = int(input(\"분을 입력하세요\"))\n",
    "\n",
    "hours_part = minutes_to_convert // 60\n",
    "minutes_part = minutes_to_convert % 60\n",
    "print(\"{0} 시간 {1}분 입니다\".format(hours_part, minutes_part))"
   ]
  },
  {
   "cell_type": "code",
   "execution_count": 126,
   "id": "ae7e48cf",
   "metadata": {},
   "outputs": [
    {
     "name": "stdout",
     "output_type": "stream",
     "text": [
      "10만원을 몇 명이서 나눌 까요?\n",
      "숫자를 입력하세요0\n",
      "숫자가 아닌 것을 입력했습니다 혹은 0으로는 나누지 못 합니다\n"
     ]
    }
   ],
   "source": [
    "try:\n",
    "    print(\"10만원을 몇 명이서 나눌 까요?\")\n",
    "    number = int(input(\"숫자를 입력하세요\"))\n",
    "    print(\"한 사람당 {}만원을 가지면 됩니다\".format(10/number))\n",
    "except (ValueError, ZeroDivisionError):\n",
    "    print(\"숫자가 아닌 것을 입력했습니다 혹은 0으로는 나누지 못 합니다\")"
   ]
  },
  {
   "cell_type": "code",
   "execution_count": 127,
   "id": "d055db15",
   "metadata": {},
   "outputs": [
    {
     "name": "stdout",
     "output_type": "stream",
     "text": [
      "분을 입력하세요45ㅓ\n",
      "입력이 이상해\n"
     ]
    }
   ],
   "source": [
    "try:\n",
    "    minutes_to_convert = int(input(\"분을 입력하세요\"))\n",
    "    hours_part = minutes_to_convert // 60\n",
    "    minutes_part = minutes_to_convert % 60\n",
    "    print(\"{0} 시간 {1}분 입니다\".format(hours_part, minutes_part))\n",
    "except:\n",
    "    print(\"입력이 이상해\")"
   ]
  },
  {
   "cell_type": "code",
   "execution_count": null,
   "id": "b181aea6",
   "metadata": {},
   "outputs": [],
   "source": [
    "# 여러번 반복\n",
    "while True:\n",
    "    try:\n",
    "        minutes_to_convert = int(input(\"분을 입력하세요\"))\n",
    "        if minutes_to_convert >= 0:\n",
    "            hours_part = minutes_to_convert // 60\n",
    "            minutes_part = minutes_to_convert % 60\n",
    "            print(\"{0} 시간 {1}분 입니다\".format(hours_part, minutes_part))\n",
    "        else: #음수의 시간 일 때\n",
    "            print(\"입력한 시간이 음수입니다 다시 시도해주세요\")\n",
    "    except ValueError : # 맞는 타임 숫자로만 입력해주세요\n",
    "        print(\"입력한 숫자가 아닌 부분이 있으니 다시 시도해주세요\")"
   ]
  }
 ],
 "metadata": {
  "kernelspec": {
   "display_name": "Python 3 (ipykernel)",
   "language": "python",
   "name": "python3"
  },
  "language_info": {
   "codemirror_mode": {
    "name": "ipython",
    "version": 3
   },
   "file_extension": ".py",
   "mimetype": "text/x-python",
   "name": "python",
   "nbconvert_exporter": "python",
   "pygments_lexer": "ipython3",
   "version": "3.9.7"
  }
 },
 "nbformat": 4,
 "nbformat_minor": 5
}
